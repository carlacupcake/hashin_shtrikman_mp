{
 "cells": [
  {
   "cell_type": "markdown",
   "metadata": {},
   "source": [
    "## 3-phase Composite Example"
   ]
  },
  {
   "cell_type": "code",
   "execution_count": 1,
   "metadata": {},
   "outputs": [],
   "source": [
    "from hashin_shtrikman_mp.core.user_input import Aggregate, MaterialProperty, Material, MixtureProperty, Mixture, UserInput\n",
    "from hashin_shtrikman_mp.core import GeneticAlgorithm\n",
    "from hashin_shtrikman_mp.core.genetic_algorithm import OptimizationParams\n",
    "from hashin_shtrikman_mp.core.visualization import OptimizationResultVisualizer\n",
    "from hashin_shtrikman_mp.core.match_finder import MatchFinder\n",
    "from IPython.display import Image"
   ]
  },
  {
   "cell_type": "markdown",
   "metadata": {},
   "source": [
    "Define properties for each material"
   ]
  },
  {
   "cell_type": "code",
   "execution_count": 2,
   "metadata": {},
   "outputs": [],
   "source": [
    "properties_mat_1 = [\n",
    "    MaterialProperty(prop='elec_cond_300k_low_doping',  upper_bound=120, lower_bound=1e-7),\n",
    "    MaterialProperty(prop='therm_cond_300k_low_doping', upper_bound=2,   lower_bound=1e-7),\n",
    "    MaterialProperty(prop='bulk_modulus',               upper_bound=500, lower_bound=50),\n",
    "    MaterialProperty(prop='shear_modulus',              upper_bound=500, lower_bound=80),\n",
    "    MaterialProperty(prop='universal_anisotropy',       upper_bound=6,   lower_bound=1),\n",
    "]\n",
    "\n",
    "properties_mat_2 = [\n",
    "    MaterialProperty(prop='elec_cond_300k_low_doping',  upper_bound=78,  lower_bound=1e-7),\n",
    "    MaterialProperty(prop='therm_cond_300k_low_doping', upper_bound=2,   lower_bound=1e-7),\n",
    "    MaterialProperty(prop='bulk_modulus',               upper_bound=400, lower_bound=20),\n",
    "    MaterialProperty(prop='shear_modulus',              upper_bound=500, lower_bound=100),\n",
    "    MaterialProperty(prop='universal_anisotropy',       upper_bound=4.3, lower_bound=1.3),\n",
    "]\n",
    "\n",
    "properties_mat_3 = [\n",
    "    MaterialProperty(prop='elec_cond_300k_low_doping',  upper_bound=78,  lower_bound=1e-7),\n",
    "    MaterialProperty(prop='therm_cond_300k_low_doping', upper_bound=2,   lower_bound=1e-7),\n",
    "    MaterialProperty(prop='bulk_modulus',               upper_bound=700, lower_bound=20),\n",
    "    MaterialProperty(prop='shear_modulus',              upper_bound=600, lower_bound=100),\n",
    "    MaterialProperty(prop='universal_anisotropy',       upper_bound=2.1, lower_bound=0.9),\n",
    "]"
   ]
  },
  {
   "cell_type": "markdown",
   "metadata": {},
   "source": [
    "Create an instance of the `Material` class for each material"
   ]
  },
  {
   "cell_type": "code",
   "execution_count": 3,
   "metadata": {},
   "outputs": [],
   "source": [
    "mat_1   = Material(name='mat_1', properties=properties_mat_1)\n",
    "mat_2   = Material(name='mat_2', properties=properties_mat_2)\n",
    "mat_3   = Material(name='mat_3', properties=properties_mat_3)"
   ]
  },
  {
   "cell_type": "markdown",
   "metadata": {},
   "source": [
    "Define properties for the mixture"
   ]
  },
  {
   "cell_type": "code",
   "execution_count": 4,
   "metadata": {},
   "outputs": [],
   "source": [
    "properties_mixture = [\n",
    "    MixtureProperty(prop='elec_cond_300k_low_doping',  desired_prop=9),\n",
    "    MixtureProperty(prop='therm_cond_300k_low_doping', desired_prop=0.9),\n",
    "    MixtureProperty(prop='bulk_modulus',               desired_prop=280),\n",
    "    MixtureProperty(prop='shear_modulus',              desired_prop=230),\n",
    "    MixtureProperty(prop='universal_anisotropy',       desired_prop=1.5),\n",
    "]"
   ]
  },
  {
   "cell_type": "markdown",
   "metadata": {},
   "source": [
    "Create an instance of the `Mixture` class to store the desired composite properties and aggregate the materials and mixture into a list for later iteration"
   ]
  },
  {
   "cell_type": "code",
   "execution_count": 5,
   "metadata": {},
   "outputs": [],
   "source": [
    "mixture = Mixture(name='mixture', properties=properties_mixture)"
   ]
  },
  {
   "cell_type": "markdown",
   "metadata": {},
   "source": [
    "Create an instance of the `Aggregate` class which aggregates the material property search bounds across materials to find the maximum upper bound per property and minimum lower bound per property.\n",
    "\n",
    "Then call `get_bounds_dict` to store the search bounds in a dictionary for use when finding real material matches in the Materials Project database."
   ]
  },
  {
   "cell_type": "code",
   "execution_count": 6,
   "metadata": {},
   "outputs": [],
   "source": [
    "aggregate = Aggregate(name='aggregate', components=[mat_1, mat_2, mat_3, mixture])\n",
    "bounds_dict = aggregate.get_bounds_dict()"
   ]
  },
  {
   "cell_type": "markdown",
   "metadata": {},
   "source": [
    "Create an instance of the `UserInput` class from the materials and mixture(s) just created"
   ]
  },
  {
   "cell_type": "code",
   "execution_count": 7,
   "metadata": {},
   "outputs": [],
   "source": [
    "user_input= UserInput(materials=[mat_1, mat_2, mat_3], mixtures=[mixture])"
   ]
  },
  {
   "cell_type": "markdown",
   "metadata": {},
   "source": [
    "Initialize an instance of the `OptimizationParams` class using the previously defined `UserInput`, as well as an instance of the `GeneticAlgorithm` class"
   ]
  },
  {
   "cell_type": "code",
   "execution_count": 8,
   "metadata": {},
   "outputs": [],
   "source": [
    "optimization_parameters = OptimizationParams.from_user_input(user_input)\n",
    "ga = GeneticAlgorithm()"
   ]
  },
  {
   "cell_type": "markdown",
   "metadata": {},
   "source": [
    "Run the optimization $n=3$ materials. Identify the optimal properties of each material and the respective volume fractions that achieve the desired composite material properties."
   ]
  },
  {
   "cell_type": "code",
   "execution_count": 9,
   "metadata": {
    "tags": []
   },
   "outputs": [],
   "source": [
    "ga_result = ga.run(user_input, gen_counter=False)"
   ]
  },
  {
   "cell_type": "markdown",
   "metadata": {},
   "source": [
    "Create an instance of the `OptimizationResultVisualizer` class using the genetic algorithm result"
   ]
  },
  {
   "cell_type": "code",
   "execution_count": 10,
   "metadata": {
    "tags": []
   },
   "outputs": [],
   "source": [
    "visualizer = OptimizationResultVisualizer(ga_result)"
   ]
  },
  {
   "cell_type": "markdown",
   "metadata": {},
   "source": [
    "Print the optimization results as a table. Each row represents a *theoretical* material."
   ]
  },
  {
   "cell_type": "code",
   "execution_count": 11,
   "metadata": {
    "tags": []
   },
   "outputs": [
    {
     "data": {
      "application/vnd.plotly.v1+json": {
       "config": {
        "plotlyServerURL": "https://plot.ly"
       },
       "data": [
        {
         "cells": {
          "align": "left",
          "fill": {
           "color": [
            [
             "white",
             "lightgrey",
             "white",
             "lightgrey",
             "white",
             "lightgrey",
             "white",
             "lightgrey",
             "white",
             "lightgrey"
            ]
           ]
          },
          "font": {
           "size": 12
          },
          "height": 30,
          "values": [
           [
            14.657802415463852,
            5.229658397730767,
            44.20541914639958,
            47.0981835422305,
            44.74096406936135,
            20.64114264144799,
            54.81210902882038,
            6.590346136399784,
            0.10825182863682747,
            63.078551205061416
           ],
           [
            0.7468485262894247,
            1.0641432602242604,
            0.6427365156972842,
            0.7537189664596541,
            1.3384954428706415,
            1.234139486528898,
            0.3370265618103089,
            1.7439272313281016,
            0.6069294519728564,
            0.9401177223232682
           ],
           [
            41.0786345711806,
            53.72717681454443,
            159.65546188881189,
            68.0558575839552,
            213.30226936010615,
            134.59768090778078,
            221.64670112860455,
            194.86402427234114,
            184.65219476541517,
            233.9427275632625
           ],
           [
            132.93978930164252,
            109.57102562815138,
            221.95529578299204,
            138.59546803632443,
            157.97696050801832,
            101.8461176013933,
            172.44410016120594,
            158.41860426406248,
            348.7684345053791,
            325.75237809065845
           ],
           [
            2.0188201678613145,
            2.589373286107554,
            2.0893607060244372,
            1.3610524882619328,
            1.9197432684163087,
            1.2070944595192128,
            2.2272182173052606,
            3.5081252903572917,
            1.176518282686678,
            3.468137922739542
           ],
           [
            26.70961399019096,
            26.522769057102153,
            5.340402319869323,
            35.14957541672184,
            93.60728271104878,
            25.537274427289315,
            66.90589724793517,
            110.87257513801977,
            75.04858243954601,
            95.97372782003454
           ],
           [
            0.4506990237130709,
            0.9250959747987808,
            0.7955455637721426,
            1.3935128708269713,
            0.2008151508207372,
            1.82869382782879,
            0.7697738890200277,
            1.9258693048513522,
            0.7567305534173042,
            1.0231691638309306
           ],
           [
            212.9725078156918,
            419.7618106751667,
            239.57839733792005,
            478.9602723887342,
            277.75048057696796,
            198.25806164584623,
            298.16297047536847,
            341.78517274117905,
            188.1467480713544,
            311.66029131469594
           ],
           [
            209.06934658188436,
            310.6077081764022,
            419.38746433786844,
            177.32289122811449,
            454.3121627873977,
            259.1217778090644,
            347.7065613391014,
            197.91581753543696,
            397.6207388152213,
            336.7057386230743
           ],
           [
            2.043558406549845,
            4.20873426380528,
            2.475058488189502,
            2.7969999252556517,
            1.8597783919465414,
            1.69951661327524,
            1.5904874484239213,
            4.441357805567474,
            3.0008217164141255,
            1.137782244881472
           ],
           [
            2.760307482629279,
            10.314915756118287,
            1.2253887797002443,
            18.950185857362403,
            15.576692689936015,
            60.23303976527119,
            65.55184891137672,
            44.381031319543894,
            26.403247361804052,
            22.577464797508647
           ],
           [
            1.1942750866926306,
            0.6277714140178098,
            1.0690516355224977,
            1.1055424857992384,
            1.8687555533539435,
            0.9035485560742754,
            1.5972688882308368,
            0.4615840436894871,
            1.128015930815864,
            1.6285464496910307
           ],
           [
            553.4803282622515,
            498.1105901009845,
            553.0818642715308,
            539.0581762500732,
            355.1280996469664,
            317.4565882982146,
            386.5423477955251,
            411.80687761779336,
            419.7427666749073,
            457.2579773620764
           ],
           [
            393.43732314709246,
            364.57027879168623,
            433.3461838554793,
            268.5587771085508,
            532.6017896864504,
            528.2187713994689,
            500.1652163529005,
            453.64571782694475,
            449.8985860549378,
            475.27933666147555
           ],
           [
            1.807387026665591,
            1.6080974761880111,
            1.400687396879714,
            1.4274585293941437,
            3.602034274759813,
            1.884488864539442,
            3.3830111235910314,
            1.4316668398518186,
            4.447485749346608,
            0.98030953551814
           ],
           [
            0.24767305074486945,
            0.5462335153625665,
            0.5589884128094551,
            0.2547343079767775,
            0.6167003004387799,
            0.45759213404362403,
            0.13158919362483318,
            0.32311803976312137,
            0.6157968552492544,
            0.17878655686854067
           ],
           [
            0.273526225621882,
            0.21009172354190317,
            0.1593535402864033,
            0.3121546479687287,
            0.3085086110618019,
            0.403567871868983,
            0.6944980041872472,
            0.3607817805238246,
            0.2234343482479547,
            0.5198208153293932
           ],
           [
            0.47880072363324855,
            0.24367476109553032,
            0.28165804690414165,
            0.43311104405449385,
            0.07479108849941829,
            0.138839994087393,
            0.1739128021879197,
            0.31610017971305404,
            0.16076879650279086,
            0.3013926278020662
           ],
           [
            8.996945958285497,
            9.347840473106302,
            14.359706062824488,
            29.692186791045756,
            52.98254567369875,
            26.713762797082154,
            64.98755221244164,
            38.33604085318194,
            8.397765336514839,
            60.378935115037514
           ],
           [
            0.8338532144755706,
            0.9150853981405218,
            0.7738749459797445,
            1.086954715865497,
            0.831892602119231,
            1.3978191235681479,
            0.8028493118378753,
            1.2471755194844318,
            0.7108850379878567,
            1.1692254930654589
           ],
           [
            248.93531027581042,
            162.71193503504486,
            248.45842417199344,
            313.4047777788338,
            241.02395714214097,
            178.94410713125677,
            300.43842976658755,
            303.8295473599227,
            215.09177138325407,
            334.300173457922
           ],
           [
            268.77171058014085,
            202.14502813623176,
            307.1058751508913,
            204.19787821158428,
            262.96881566863266,
            209.03561520527796,
            346.137728240229,
            255.33432667246186,
            375.3369848617008,
            374.71081069025263
           ],
           [
            1.9221559234101235,
            2.595632051566478,
            1.9311204874374863,
            1.7706229496310577,
            2.0036292693910998,
            1.4829495762706313,
            1.9250989959386189,
            2.971989958357579,
            1.8969775515711136,
            1.380036318111184
           ],
           [
            0.045,
            0.081,
            0.084,
            0.085,
            0.092,
            0.098,
            0.099,
            0.101,
            0.105,
            0.107
           ]
          ]
         },
         "columnwidth": 1000,
         "header": {
          "align": "left",
          "fill": {
           "color": "lavender"
          },
          "font": {
           "size": 12
          },
          "height": 30,
          "values": [
           "Phase 1 Electrical conductivity, [S/m]",
           "Phase 2 Electrical conductivity, [S/m]",
           "Phase 3 Electrical conductivity, [S/m]",
           "Phase 1 Thermal conductivity, [W/m/K]",
           "Phase 2 Thermal conductivity, [W/m/K]",
           "Phase 3 Thermal conductivity, [W/m/K]",
           "Phase 1 Bulk modulus, [GPa]",
           "Phase 2 Bulk modulus, [GPa]",
           "Phase 3 Bulk modulus, [GPa]",
           "Phase 1 Shear modulus, [GPa]",
           "Phase 2 Shear modulus, [GPa]",
           "Phase 3 Shear modulus, [GPa]",
           "Phase 1 Universal anisotropy, []",
           "Phase 2 Universal anisotropy, []",
           "Phase 3 Universal anisotropy, []",
           "Phase 1 Volume Fraction",
           "Phase 2 Volume Fraction",
           "Phase 3 Volume Fraction",
           "EffectiveElectrical conductivity, [S/m]",
           "EffectiveThermal conductivity, [W/m/K]",
           "EffectiveBulk modulus, [GPa]",
           "EffectiveShear modulus, [GPa]",
           "EffectiveUniversal anisotropy, []",
           "cost"
          ]
         },
         "type": "table"
        }
       ],
       "layout": {
        "autosize": true,
        "height": 400,
        "margin": {
         "b": 0,
         "l": 0,
         "r": 0,
         "t": 40
        },
        "template": {
         "data": {
          "bar": [
           {
            "error_x": {
             "color": "#2a3f5f"
            },
            "error_y": {
             "color": "#2a3f5f"
            },
            "marker": {
             "line": {
              "color": "#E5ECF6",
              "width": 0.5
             },
             "pattern": {
              "fillmode": "overlay",
              "size": 10,
              "solidity": 0.2
             }
            },
            "type": "bar"
           }
          ],
          "barpolar": [
           {
            "marker": {
             "line": {
              "color": "#E5ECF6",
              "width": 0.5
             },
             "pattern": {
              "fillmode": "overlay",
              "size": 10,
              "solidity": 0.2
             }
            },
            "type": "barpolar"
           }
          ],
          "carpet": [
           {
            "aaxis": {
             "endlinecolor": "#2a3f5f",
             "gridcolor": "white",
             "linecolor": "white",
             "minorgridcolor": "white",
             "startlinecolor": "#2a3f5f"
            },
            "baxis": {
             "endlinecolor": "#2a3f5f",
             "gridcolor": "white",
             "linecolor": "white",
             "minorgridcolor": "white",
             "startlinecolor": "#2a3f5f"
            },
            "type": "carpet"
           }
          ],
          "choropleth": [
           {
            "colorbar": {
             "outlinewidth": 0,
             "ticks": ""
            },
            "type": "choropleth"
           }
          ],
          "contour": [
           {
            "colorbar": {
             "outlinewidth": 0,
             "ticks": ""
            },
            "colorscale": [
             [
              0,
              "#0d0887"
             ],
             [
              0.1111111111111111,
              "#46039f"
             ],
             [
              0.2222222222222222,
              "#7201a8"
             ],
             [
              0.3333333333333333,
              "#9c179e"
             ],
             [
              0.4444444444444444,
              "#bd3786"
             ],
             [
              0.5555555555555556,
              "#d8576b"
             ],
             [
              0.6666666666666666,
              "#ed7953"
             ],
             [
              0.7777777777777778,
              "#fb9f3a"
             ],
             [
              0.8888888888888888,
              "#fdca26"
             ],
             [
              1,
              "#f0f921"
             ]
            ],
            "type": "contour"
           }
          ],
          "contourcarpet": [
           {
            "colorbar": {
             "outlinewidth": 0,
             "ticks": ""
            },
            "type": "contourcarpet"
           }
          ],
          "heatmap": [
           {
            "colorbar": {
             "outlinewidth": 0,
             "ticks": ""
            },
            "colorscale": [
             [
              0,
              "#0d0887"
             ],
             [
              0.1111111111111111,
              "#46039f"
             ],
             [
              0.2222222222222222,
              "#7201a8"
             ],
             [
              0.3333333333333333,
              "#9c179e"
             ],
             [
              0.4444444444444444,
              "#bd3786"
             ],
             [
              0.5555555555555556,
              "#d8576b"
             ],
             [
              0.6666666666666666,
              "#ed7953"
             ],
             [
              0.7777777777777778,
              "#fb9f3a"
             ],
             [
              0.8888888888888888,
              "#fdca26"
             ],
             [
              1,
              "#f0f921"
             ]
            ],
            "type": "heatmap"
           }
          ],
          "heatmapgl": [
           {
            "colorbar": {
             "outlinewidth": 0,
             "ticks": ""
            },
            "colorscale": [
             [
              0,
              "#0d0887"
             ],
             [
              0.1111111111111111,
              "#46039f"
             ],
             [
              0.2222222222222222,
              "#7201a8"
             ],
             [
              0.3333333333333333,
              "#9c179e"
             ],
             [
              0.4444444444444444,
              "#bd3786"
             ],
             [
              0.5555555555555556,
              "#d8576b"
             ],
             [
              0.6666666666666666,
              "#ed7953"
             ],
             [
              0.7777777777777778,
              "#fb9f3a"
             ],
             [
              0.8888888888888888,
              "#fdca26"
             ],
             [
              1,
              "#f0f921"
             ]
            ],
            "type": "heatmapgl"
           }
          ],
          "histogram": [
           {
            "marker": {
             "pattern": {
              "fillmode": "overlay",
              "size": 10,
              "solidity": 0.2
             }
            },
            "type": "histogram"
           }
          ],
          "histogram2d": [
           {
            "colorbar": {
             "outlinewidth": 0,
             "ticks": ""
            },
            "colorscale": [
             [
              0,
              "#0d0887"
             ],
             [
              0.1111111111111111,
              "#46039f"
             ],
             [
              0.2222222222222222,
              "#7201a8"
             ],
             [
              0.3333333333333333,
              "#9c179e"
             ],
             [
              0.4444444444444444,
              "#bd3786"
             ],
             [
              0.5555555555555556,
              "#d8576b"
             ],
             [
              0.6666666666666666,
              "#ed7953"
             ],
             [
              0.7777777777777778,
              "#fb9f3a"
             ],
             [
              0.8888888888888888,
              "#fdca26"
             ],
             [
              1,
              "#f0f921"
             ]
            ],
            "type": "histogram2d"
           }
          ],
          "histogram2dcontour": [
           {
            "colorbar": {
             "outlinewidth": 0,
             "ticks": ""
            },
            "colorscale": [
             [
              0,
              "#0d0887"
             ],
             [
              0.1111111111111111,
              "#46039f"
             ],
             [
              0.2222222222222222,
              "#7201a8"
             ],
             [
              0.3333333333333333,
              "#9c179e"
             ],
             [
              0.4444444444444444,
              "#bd3786"
             ],
             [
              0.5555555555555556,
              "#d8576b"
             ],
             [
              0.6666666666666666,
              "#ed7953"
             ],
             [
              0.7777777777777778,
              "#fb9f3a"
             ],
             [
              0.8888888888888888,
              "#fdca26"
             ],
             [
              1,
              "#f0f921"
             ]
            ],
            "type": "histogram2dcontour"
           }
          ],
          "mesh3d": [
           {
            "colorbar": {
             "outlinewidth": 0,
             "ticks": ""
            },
            "type": "mesh3d"
           }
          ],
          "parcoords": [
           {
            "line": {
             "colorbar": {
              "outlinewidth": 0,
              "ticks": ""
             }
            },
            "type": "parcoords"
           }
          ],
          "pie": [
           {
            "automargin": true,
            "type": "pie"
           }
          ],
          "scatter": [
           {
            "fillpattern": {
             "fillmode": "overlay",
             "size": 10,
             "solidity": 0.2
            },
            "type": "scatter"
           }
          ],
          "scatter3d": [
           {
            "line": {
             "colorbar": {
              "outlinewidth": 0,
              "ticks": ""
             }
            },
            "marker": {
             "colorbar": {
              "outlinewidth": 0,
              "ticks": ""
             }
            },
            "type": "scatter3d"
           }
          ],
          "scattercarpet": [
           {
            "marker": {
             "colorbar": {
              "outlinewidth": 0,
              "ticks": ""
             }
            },
            "type": "scattercarpet"
           }
          ],
          "scattergeo": [
           {
            "marker": {
             "colorbar": {
              "outlinewidth": 0,
              "ticks": ""
             }
            },
            "type": "scattergeo"
           }
          ],
          "scattergl": [
           {
            "marker": {
             "colorbar": {
              "outlinewidth": 0,
              "ticks": ""
             }
            },
            "type": "scattergl"
           }
          ],
          "scattermapbox": [
           {
            "marker": {
             "colorbar": {
              "outlinewidth": 0,
              "ticks": ""
             }
            },
            "type": "scattermapbox"
           }
          ],
          "scatterpolar": [
           {
            "marker": {
             "colorbar": {
              "outlinewidth": 0,
              "ticks": ""
             }
            },
            "type": "scatterpolar"
           }
          ],
          "scatterpolargl": [
           {
            "marker": {
             "colorbar": {
              "outlinewidth": 0,
              "ticks": ""
             }
            },
            "type": "scatterpolargl"
           }
          ],
          "scatterternary": [
           {
            "marker": {
             "colorbar": {
              "outlinewidth": 0,
              "ticks": ""
             }
            },
            "type": "scatterternary"
           }
          ],
          "surface": [
           {
            "colorbar": {
             "outlinewidth": 0,
             "ticks": ""
            },
            "colorscale": [
             [
              0,
              "#0d0887"
             ],
             [
              0.1111111111111111,
              "#46039f"
             ],
             [
              0.2222222222222222,
              "#7201a8"
             ],
             [
              0.3333333333333333,
              "#9c179e"
             ],
             [
              0.4444444444444444,
              "#bd3786"
             ],
             [
              0.5555555555555556,
              "#d8576b"
             ],
             [
              0.6666666666666666,
              "#ed7953"
             ],
             [
              0.7777777777777778,
              "#fb9f3a"
             ],
             [
              0.8888888888888888,
              "#fdca26"
             ],
             [
              1,
              "#f0f921"
             ]
            ],
            "type": "surface"
           }
          ],
          "table": [
           {
            "cells": {
             "fill": {
              "color": "#EBF0F8"
             },
             "line": {
              "color": "white"
             }
            },
            "header": {
             "fill": {
              "color": "#C8D4E3"
             },
             "line": {
              "color": "white"
             }
            },
            "type": "table"
           }
          ]
         },
         "layout": {
          "annotationdefaults": {
           "arrowcolor": "#2a3f5f",
           "arrowhead": 0,
           "arrowwidth": 1
          },
          "autotypenumbers": "strict",
          "coloraxis": {
           "colorbar": {
            "outlinewidth": 0,
            "ticks": ""
           }
          },
          "colorscale": {
           "diverging": [
            [
             0,
             "#8e0152"
            ],
            [
             0.1,
             "#c51b7d"
            ],
            [
             0.2,
             "#de77ae"
            ],
            [
             0.3,
             "#f1b6da"
            ],
            [
             0.4,
             "#fde0ef"
            ],
            [
             0.5,
             "#f7f7f7"
            ],
            [
             0.6,
             "#e6f5d0"
            ],
            [
             0.7,
             "#b8e186"
            ],
            [
             0.8,
             "#7fbc41"
            ],
            [
             0.9,
             "#4d9221"
            ],
            [
             1,
             "#276419"
            ]
           ],
           "sequential": [
            [
             0,
             "#0d0887"
            ],
            [
             0.1111111111111111,
             "#46039f"
            ],
            [
             0.2222222222222222,
             "#7201a8"
            ],
            [
             0.3333333333333333,
             "#9c179e"
            ],
            [
             0.4444444444444444,
             "#bd3786"
            ],
            [
             0.5555555555555556,
             "#d8576b"
            ],
            [
             0.6666666666666666,
             "#ed7953"
            ],
            [
             0.7777777777777778,
             "#fb9f3a"
            ],
            [
             0.8888888888888888,
             "#fdca26"
            ],
            [
             1,
             "#f0f921"
            ]
           ],
           "sequentialminus": [
            [
             0,
             "#0d0887"
            ],
            [
             0.1111111111111111,
             "#46039f"
            ],
            [
             0.2222222222222222,
             "#7201a8"
            ],
            [
             0.3333333333333333,
             "#9c179e"
            ],
            [
             0.4444444444444444,
             "#bd3786"
            ],
            [
             0.5555555555555556,
             "#d8576b"
            ],
            [
             0.6666666666666666,
             "#ed7953"
            ],
            [
             0.7777777777777778,
             "#fb9f3a"
            ],
            [
             0.8888888888888888,
             "#fdca26"
            ],
            [
             1,
             "#f0f921"
            ]
           ]
          },
          "colorway": [
           "#636efa",
           "#EF553B",
           "#00cc96",
           "#ab63fa",
           "#FFA15A",
           "#19d3f3",
           "#FF6692",
           "#B6E880",
           "#FF97FF",
           "#FECB52"
          ],
          "font": {
           "color": "#2a3f5f"
          },
          "geo": {
           "bgcolor": "white",
           "lakecolor": "white",
           "landcolor": "#E5ECF6",
           "showlakes": true,
           "showland": true,
           "subunitcolor": "white"
          },
          "hoverlabel": {
           "align": "left"
          },
          "hovermode": "closest",
          "mapbox": {
           "style": "light"
          },
          "paper_bgcolor": "white",
          "plot_bgcolor": "#E5ECF6",
          "polar": {
           "angularaxis": {
            "gridcolor": "white",
            "linecolor": "white",
            "ticks": ""
           },
           "bgcolor": "#E5ECF6",
           "radialaxis": {
            "gridcolor": "white",
            "linecolor": "white",
            "ticks": ""
           }
          },
          "scene": {
           "xaxis": {
            "backgroundcolor": "#E5ECF6",
            "gridcolor": "white",
            "gridwidth": 2,
            "linecolor": "white",
            "showbackground": true,
            "ticks": "",
            "zerolinecolor": "white"
           },
           "yaxis": {
            "backgroundcolor": "#E5ECF6",
            "gridcolor": "white",
            "gridwidth": 2,
            "linecolor": "white",
            "showbackground": true,
            "ticks": "",
            "zerolinecolor": "white"
           },
           "zaxis": {
            "backgroundcolor": "#E5ECF6",
            "gridcolor": "white",
            "gridwidth": 2,
            "linecolor": "white",
            "showbackground": true,
            "ticks": "",
            "zerolinecolor": "white"
           }
          },
          "shapedefaults": {
           "line": {
            "color": "#2a3f5f"
           }
          },
          "ternary": {
           "aaxis": {
            "gridcolor": "white",
            "linecolor": "white",
            "ticks": ""
           },
           "baxis": {
            "gridcolor": "white",
            "linecolor": "white",
            "ticks": ""
           },
           "bgcolor": "#E5ECF6",
           "caxis": {
            "gridcolor": "white",
            "linecolor": "white",
            "ticks": ""
           }
          },
          "title": {
           "x": 0.05
          },
          "xaxis": {
           "automargin": true,
           "gridcolor": "white",
           "linecolor": "white",
           "ticks": "",
           "title": {
            "standoff": 15
           },
           "zerolinecolor": "white",
           "zerolinewidth": 2
          },
          "yaxis": {
           "automargin": true,
           "gridcolor": "white",
           "linecolor": "white",
           "ticks": "",
           "title": {
            "standoff": 15
           },
           "zerolinecolor": "white",
           "zerolinewidth": 2
          }
         }
        },
        "title": {
         "font": {
          "size": 20
         },
         "text": "Optimal Properties Recommended by Genetic Algorithm",
         "x": 0.2
        }
       }
      }
     },
     "metadata": {},
     "output_type": "display_data"
    }
   ],
   "source": [
    "visualizer.print_table_of_best_designs(rows=10)"
   ]
  },
  {
   "cell_type": "markdown",
   "metadata": {},
   "source": [
    "Plot the genetic algorithm convergence plot"
   ]
  },
  {
   "cell_type": "code",
   "execution_count": 12,
   "metadata": {
    "tags": []
   },
   "outputs": [
    {
     "data": {
      "application/vnd.plotly.v1+json": {
       "config": {
        "plotlyServerURL": "https://plot.ly"
       },
       "data": [
        {
         "mode": "lines",
         "name": "Avg. of top 10 performers",
         "type": "scatter",
         "x": [
          0,
          1,
          2,
          3,
          4,
          5,
          6,
          7,
          8,
          9,
          10,
          11,
          12,
          13,
          14,
          15,
          16,
          17,
          18,
          19,
          20,
          21,
          22,
          23,
          24,
          25,
          26,
          27,
          28,
          29,
          30,
          31,
          32,
          33,
          34,
          35,
          36,
          37,
          38,
          39,
          40,
          41,
          42,
          43,
          44,
          45,
          46,
          47,
          48,
          49,
          50,
          51,
          52,
          53,
          54,
          55,
          56,
          57,
          58,
          59,
          60,
          61,
          62,
          63,
          64,
          65,
          66,
          67,
          68,
          69,
          70,
          71,
          72,
          73,
          74,
          75,
          76,
          77,
          78,
          79,
          80,
          81,
          82,
          83,
          84,
          85,
          86,
          87,
          88,
          89,
          90,
          91,
          92,
          93,
          94,
          95,
          96,
          97,
          98,
          99
         ],
         "y": [
          0.08332765649210061,
          0.07915306196436923,
          0.0719844010484359,
          0.06873302996009437,
          0.06805309355537806,
          0.0677241129014358,
          0.06720196449529456,
          0.06668297708789107,
          0.06592565745280499,
          0.06500610974984275,
          0.06448829449950154,
          0.06439211741103246,
          0.0643503204907296,
          0.06434187924287817,
          0.064044512245133,
          0.0639878145369873,
          0.06362565022543382,
          0.0628755974778617,
          0.061950946026724366,
          0.06150097900002727,
          0.06138695489809996,
          0.06135731294499054,
          0.06070954099010491,
          0.06070771852955533,
          0.060113335338271415,
          0.058785507710816406,
          0.05615099501778199,
          0.054464845976880595,
          0.054264439267803,
          0.05422233053530012,
          0.054214562090170546,
          0.054213182737269404,
          0.05421265047385665,
          0.05421260196930562,
          0.05421259211381037,
          0.0542125899217387,
          0.05421258974992067,
          0.05421258972082506,
          0.054212589710141715,
          0.054212589705763724,
          0.05421258970471039,
          0.054212589704426474,
          0.054212589704229694,
          0.05421258970416476,
          0.054212589704160284,
          0.054212589704156135,
          0.05421258970415379,
          0.054212589704153324,
          0.05421258970415327,
          0.05421258970415325,
          0.05421258970415325,
          0.05421258970415325,
          0.05421258970415325,
          0.05421258970415325,
          0.05421258970415325,
          0.05421258970415325,
          0.05421258970415325,
          0.05404397875304008,
          0.05404397875304008,
          0.053165463277845784,
          0.052052423056206984,
          0.04974985581867242,
          0.04680979996780697,
          0.04535930508767164,
          0.04483131351141074,
          0.04468853932338714,
          0.04465717772396378,
          0.04462437695489651,
          0.04461989877334116,
          0.04461957310126112,
          0.044619312310692175,
          0.04461927526164042,
          0.044619265758272256,
          0.044619260080364584,
          0.044619258094946476,
          0.04461925784170572,
          0.04461925784089181,
          0.044619257840346566,
          0.04461925784007727,
          0.04461925784005767,
          0.04461925784004839,
          0.04461925784004576,
          0.04461925784004545,
          0.04461925784004531,
          0.04461925784004529,
          0.04461925784004529,
          0.044619257840045286,
          0.044619257840045286,
          0.04461925784004528,
          0.04461925784004528,
          0.04461925784004528,
          0.04461925784004527,
          0.044619257840045265,
          0.044619257840045265,
          0.044619257840045265,
          0.044619257840045265,
          0.044619257840045265,
          0.044619257840045265,
          0.044619257840045265,
          0.044619257840045265
         ]
        },
        {
         "mode": "lines",
         "name": "Best costs",
         "type": "scatter",
         "x": [
          0,
          1,
          2,
          3,
          4,
          5,
          6,
          7,
          8,
          9,
          10,
          11,
          12,
          13,
          14,
          15,
          16,
          17,
          18,
          19,
          20,
          21,
          22,
          23,
          24,
          25,
          26,
          27,
          28,
          29,
          30,
          31,
          32,
          33,
          34,
          35,
          36,
          37,
          38,
          39,
          40,
          41,
          42,
          43,
          44,
          45,
          46,
          47,
          48,
          49,
          50,
          51,
          52,
          53,
          54,
          55,
          56,
          57,
          58,
          59,
          60,
          61,
          62,
          63,
          64,
          65,
          66,
          67,
          68,
          69,
          70,
          71,
          72,
          73,
          74,
          75,
          76,
          77,
          78,
          79,
          80,
          81,
          82,
          83,
          84,
          85,
          86,
          87,
          88,
          89,
          90,
          91,
          92,
          93,
          94,
          95,
          96,
          97,
          98,
          99
         ],
         "y": [
          0.06704110475239683,
          0.06704110475239683,
          0.06704110475239683,
          0.06704110475239683,
          0.06704110475239683,
          0.06693207370931521,
          0.06438601021046436,
          0.06438601021046436,
          0.06438601021046436,
          0.06434089544871203,
          0.06434089544871203,
          0.06434089544871203,
          0.06434089544871203,
          0.06434089544871203,
          0.06137683404167,
          0.06137683404167,
          0.06137683404167,
          0.06137683404167,
          0.06134611087843479,
          0.06134611087843479,
          0.06134611087843479,
          0.06134611087843479,
          0.05541762808010648,
          0.05541762808010648,
          0.05540476943430799,
          0.05421258970415325,
          0.05421258970415325,
          0.05421258970415325,
          0.05421258970415325,
          0.05421258970415325,
          0.05421258970415325,
          0.05421258970415325,
          0.05421258970415325,
          0.05421258970415325,
          0.05421258970415325,
          0.05421258970415325,
          0.05421258970415325,
          0.05421258970415325,
          0.05421258970415325,
          0.05421258970415325,
          0.05421258970415325,
          0.05421258970415325,
          0.05421258970415325,
          0.05421258970415325,
          0.05421258970415325,
          0.05421258970415325,
          0.05421258970415325,
          0.05421258970415325,
          0.05421258970415325,
          0.05421258970415325,
          0.05421258970415325,
          0.05421258970415325,
          0.05421258970415325,
          0.05421258970415325,
          0.05421258970415325,
          0.05421258970415325,
          0.05421258970415325,
          0.0525264801930215,
          0.0525264801930215,
          0.045427434952210244,
          0.045427434952210244,
          0.044714388599818425,
          0.044714388599818425,
          0.04461925784004529,
          0.04461925784004529,
          0.04461925784004529,
          0.04461925784004529,
          0.04461925784004529,
          0.04461925784004529,
          0.04461925784004529,
          0.04461925784004529,
          0.04461925784004529,
          0.04461925784004529,
          0.04461925784004529,
          0.04461925784004529,
          0.04461925784004529,
          0.04461925784004529,
          0.04461925784004529,
          0.04461925784004529,
          0.04461925784004529,
          0.04461925784004529,
          0.04461925784004529,
          0.04461925784004528,
          0.04461925784004528,
          0.04461925784004528,
          0.04461925784004528,
          0.04461925784004528,
          0.04461925784004528,
          0.04461925784004528,
          0.044619257840045265,
          0.044619257840045265,
          0.044619257840045265,
          0.044619257840045265,
          0.044619257840045265,
          0.044619257840045265,
          0.044619257840045265,
          0.044619257840045265,
          0.044619257840045265,
          0.044619257840045265,
          0.044619257840045265
         ]
        }
       ],
       "layout": {
        "height": 400,
        "legend": {
         "bgcolor": "rgba(255, 255, 255, 0.5)",
         "font": {
          "size": 14
         },
         "x": 1,
         "xanchor": "right",
         "y": 1,
         "yanchor": "top"
        },
        "margin": {
         "b": 50,
         "l": 50,
         "r": 50,
         "t": 50
        },
        "template": {
         "data": {
          "bar": [
           {
            "error_x": {
             "color": "#2a3f5f"
            },
            "error_y": {
             "color": "#2a3f5f"
            },
            "marker": {
             "line": {
              "color": "#E5ECF6",
              "width": 0.5
             },
             "pattern": {
              "fillmode": "overlay",
              "size": 10,
              "solidity": 0.2
             }
            },
            "type": "bar"
           }
          ],
          "barpolar": [
           {
            "marker": {
             "line": {
              "color": "#E5ECF6",
              "width": 0.5
             },
             "pattern": {
              "fillmode": "overlay",
              "size": 10,
              "solidity": 0.2
             }
            },
            "type": "barpolar"
           }
          ],
          "carpet": [
           {
            "aaxis": {
             "endlinecolor": "#2a3f5f",
             "gridcolor": "white",
             "linecolor": "white",
             "minorgridcolor": "white",
             "startlinecolor": "#2a3f5f"
            },
            "baxis": {
             "endlinecolor": "#2a3f5f",
             "gridcolor": "white",
             "linecolor": "white",
             "minorgridcolor": "white",
             "startlinecolor": "#2a3f5f"
            },
            "type": "carpet"
           }
          ],
          "choropleth": [
           {
            "colorbar": {
             "outlinewidth": 0,
             "ticks": ""
            },
            "type": "choropleth"
           }
          ],
          "contour": [
           {
            "colorbar": {
             "outlinewidth": 0,
             "ticks": ""
            },
            "colorscale": [
             [
              0,
              "#0d0887"
             ],
             [
              0.1111111111111111,
              "#46039f"
             ],
             [
              0.2222222222222222,
              "#7201a8"
             ],
             [
              0.3333333333333333,
              "#9c179e"
             ],
             [
              0.4444444444444444,
              "#bd3786"
             ],
             [
              0.5555555555555556,
              "#d8576b"
             ],
             [
              0.6666666666666666,
              "#ed7953"
             ],
             [
              0.7777777777777778,
              "#fb9f3a"
             ],
             [
              0.8888888888888888,
              "#fdca26"
             ],
             [
              1,
              "#f0f921"
             ]
            ],
            "type": "contour"
           }
          ],
          "contourcarpet": [
           {
            "colorbar": {
             "outlinewidth": 0,
             "ticks": ""
            },
            "type": "contourcarpet"
           }
          ],
          "heatmap": [
           {
            "colorbar": {
             "outlinewidth": 0,
             "ticks": ""
            },
            "colorscale": [
             [
              0,
              "#0d0887"
             ],
             [
              0.1111111111111111,
              "#46039f"
             ],
             [
              0.2222222222222222,
              "#7201a8"
             ],
             [
              0.3333333333333333,
              "#9c179e"
             ],
             [
              0.4444444444444444,
              "#bd3786"
             ],
             [
              0.5555555555555556,
              "#d8576b"
             ],
             [
              0.6666666666666666,
              "#ed7953"
             ],
             [
              0.7777777777777778,
              "#fb9f3a"
             ],
             [
              0.8888888888888888,
              "#fdca26"
             ],
             [
              1,
              "#f0f921"
             ]
            ],
            "type": "heatmap"
           }
          ],
          "heatmapgl": [
           {
            "colorbar": {
             "outlinewidth": 0,
             "ticks": ""
            },
            "colorscale": [
             [
              0,
              "#0d0887"
             ],
             [
              0.1111111111111111,
              "#46039f"
             ],
             [
              0.2222222222222222,
              "#7201a8"
             ],
             [
              0.3333333333333333,
              "#9c179e"
             ],
             [
              0.4444444444444444,
              "#bd3786"
             ],
             [
              0.5555555555555556,
              "#d8576b"
             ],
             [
              0.6666666666666666,
              "#ed7953"
             ],
             [
              0.7777777777777778,
              "#fb9f3a"
             ],
             [
              0.8888888888888888,
              "#fdca26"
             ],
             [
              1,
              "#f0f921"
             ]
            ],
            "type": "heatmapgl"
           }
          ],
          "histogram": [
           {
            "marker": {
             "pattern": {
              "fillmode": "overlay",
              "size": 10,
              "solidity": 0.2
             }
            },
            "type": "histogram"
           }
          ],
          "histogram2d": [
           {
            "colorbar": {
             "outlinewidth": 0,
             "ticks": ""
            },
            "colorscale": [
             [
              0,
              "#0d0887"
             ],
             [
              0.1111111111111111,
              "#46039f"
             ],
             [
              0.2222222222222222,
              "#7201a8"
             ],
             [
              0.3333333333333333,
              "#9c179e"
             ],
             [
              0.4444444444444444,
              "#bd3786"
             ],
             [
              0.5555555555555556,
              "#d8576b"
             ],
             [
              0.6666666666666666,
              "#ed7953"
             ],
             [
              0.7777777777777778,
              "#fb9f3a"
             ],
             [
              0.8888888888888888,
              "#fdca26"
             ],
             [
              1,
              "#f0f921"
             ]
            ],
            "type": "histogram2d"
           }
          ],
          "histogram2dcontour": [
           {
            "colorbar": {
             "outlinewidth": 0,
             "ticks": ""
            },
            "colorscale": [
             [
              0,
              "#0d0887"
             ],
             [
              0.1111111111111111,
              "#46039f"
             ],
             [
              0.2222222222222222,
              "#7201a8"
             ],
             [
              0.3333333333333333,
              "#9c179e"
             ],
             [
              0.4444444444444444,
              "#bd3786"
             ],
             [
              0.5555555555555556,
              "#d8576b"
             ],
             [
              0.6666666666666666,
              "#ed7953"
             ],
             [
              0.7777777777777778,
              "#fb9f3a"
             ],
             [
              0.8888888888888888,
              "#fdca26"
             ],
             [
              1,
              "#f0f921"
             ]
            ],
            "type": "histogram2dcontour"
           }
          ],
          "mesh3d": [
           {
            "colorbar": {
             "outlinewidth": 0,
             "ticks": ""
            },
            "type": "mesh3d"
           }
          ],
          "parcoords": [
           {
            "line": {
             "colorbar": {
              "outlinewidth": 0,
              "ticks": ""
             }
            },
            "type": "parcoords"
           }
          ],
          "pie": [
           {
            "automargin": true,
            "type": "pie"
           }
          ],
          "scatter": [
           {
            "fillpattern": {
             "fillmode": "overlay",
             "size": 10,
             "solidity": 0.2
            },
            "type": "scatter"
           }
          ],
          "scatter3d": [
           {
            "line": {
             "colorbar": {
              "outlinewidth": 0,
              "ticks": ""
             }
            },
            "marker": {
             "colorbar": {
              "outlinewidth": 0,
              "ticks": ""
             }
            },
            "type": "scatter3d"
           }
          ],
          "scattercarpet": [
           {
            "marker": {
             "colorbar": {
              "outlinewidth": 0,
              "ticks": ""
             }
            },
            "type": "scattercarpet"
           }
          ],
          "scattergeo": [
           {
            "marker": {
             "colorbar": {
              "outlinewidth": 0,
              "ticks": ""
             }
            },
            "type": "scattergeo"
           }
          ],
          "scattergl": [
           {
            "marker": {
             "colorbar": {
              "outlinewidth": 0,
              "ticks": ""
             }
            },
            "type": "scattergl"
           }
          ],
          "scattermapbox": [
           {
            "marker": {
             "colorbar": {
              "outlinewidth": 0,
              "ticks": ""
             }
            },
            "type": "scattermapbox"
           }
          ],
          "scatterpolar": [
           {
            "marker": {
             "colorbar": {
              "outlinewidth": 0,
              "ticks": ""
             }
            },
            "type": "scatterpolar"
           }
          ],
          "scatterpolargl": [
           {
            "marker": {
             "colorbar": {
              "outlinewidth": 0,
              "ticks": ""
             }
            },
            "type": "scatterpolargl"
           }
          ],
          "scatterternary": [
           {
            "marker": {
             "colorbar": {
              "outlinewidth": 0,
              "ticks": ""
             }
            },
            "type": "scatterternary"
           }
          ],
          "surface": [
           {
            "colorbar": {
             "outlinewidth": 0,
             "ticks": ""
            },
            "colorscale": [
             [
              0,
              "#0d0887"
             ],
             [
              0.1111111111111111,
              "#46039f"
             ],
             [
              0.2222222222222222,
              "#7201a8"
             ],
             [
              0.3333333333333333,
              "#9c179e"
             ],
             [
              0.4444444444444444,
              "#bd3786"
             ],
             [
              0.5555555555555556,
              "#d8576b"
             ],
             [
              0.6666666666666666,
              "#ed7953"
             ],
             [
              0.7777777777777778,
              "#fb9f3a"
             ],
             [
              0.8888888888888888,
              "#fdca26"
             ],
             [
              1,
              "#f0f921"
             ]
            ],
            "type": "surface"
           }
          ],
          "table": [
           {
            "cells": {
             "fill": {
              "color": "#EBF0F8"
             },
             "line": {
              "color": "white"
             }
            },
            "header": {
             "fill": {
              "color": "#C8D4E3"
             },
             "line": {
              "color": "white"
             }
            },
            "type": "table"
           }
          ]
         },
         "layout": {
          "annotationdefaults": {
           "arrowcolor": "#2a3f5f",
           "arrowhead": 0,
           "arrowwidth": 1
          },
          "autotypenumbers": "strict",
          "coloraxis": {
           "colorbar": {
            "outlinewidth": 0,
            "ticks": ""
           }
          },
          "colorscale": {
           "diverging": [
            [
             0,
             "#8e0152"
            ],
            [
             0.1,
             "#c51b7d"
            ],
            [
             0.2,
             "#de77ae"
            ],
            [
             0.3,
             "#f1b6da"
            ],
            [
             0.4,
             "#fde0ef"
            ],
            [
             0.5,
             "#f7f7f7"
            ],
            [
             0.6,
             "#e6f5d0"
            ],
            [
             0.7,
             "#b8e186"
            ],
            [
             0.8,
             "#7fbc41"
            ],
            [
             0.9,
             "#4d9221"
            ],
            [
             1,
             "#276419"
            ]
           ],
           "sequential": [
            [
             0,
             "#0d0887"
            ],
            [
             0.1111111111111111,
             "#46039f"
            ],
            [
             0.2222222222222222,
             "#7201a8"
            ],
            [
             0.3333333333333333,
             "#9c179e"
            ],
            [
             0.4444444444444444,
             "#bd3786"
            ],
            [
             0.5555555555555556,
             "#d8576b"
            ],
            [
             0.6666666666666666,
             "#ed7953"
            ],
            [
             0.7777777777777778,
             "#fb9f3a"
            ],
            [
             0.8888888888888888,
             "#fdca26"
            ],
            [
             1,
             "#f0f921"
            ]
           ],
           "sequentialminus": [
            [
             0,
             "#0d0887"
            ],
            [
             0.1111111111111111,
             "#46039f"
            ],
            [
             0.2222222222222222,
             "#7201a8"
            ],
            [
             0.3333333333333333,
             "#9c179e"
            ],
            [
             0.4444444444444444,
             "#bd3786"
            ],
            [
             0.5555555555555556,
             "#d8576b"
            ],
            [
             0.6666666666666666,
             "#ed7953"
            ],
            [
             0.7777777777777778,
             "#fb9f3a"
            ],
            [
             0.8888888888888888,
             "#fdca26"
            ],
            [
             1,
             "#f0f921"
            ]
           ]
          },
          "colorway": [
           "#636efa",
           "#EF553B",
           "#00cc96",
           "#ab63fa",
           "#FFA15A",
           "#19d3f3",
           "#FF6692",
           "#B6E880",
           "#FF97FF",
           "#FECB52"
          ],
          "font": {
           "color": "#2a3f5f"
          },
          "geo": {
           "bgcolor": "white",
           "lakecolor": "white",
           "landcolor": "#E5ECF6",
           "showlakes": true,
           "showland": true,
           "subunitcolor": "white"
          },
          "hoverlabel": {
           "align": "left"
          },
          "hovermode": "closest",
          "mapbox": {
           "style": "light"
          },
          "paper_bgcolor": "white",
          "plot_bgcolor": "#E5ECF6",
          "polar": {
           "angularaxis": {
            "gridcolor": "white",
            "linecolor": "white",
            "ticks": ""
           },
           "bgcolor": "#E5ECF6",
           "radialaxis": {
            "gridcolor": "white",
            "linecolor": "white",
            "ticks": ""
           }
          },
          "scene": {
           "xaxis": {
            "backgroundcolor": "#E5ECF6",
            "gridcolor": "white",
            "gridwidth": 2,
            "linecolor": "white",
            "showbackground": true,
            "ticks": "",
            "zerolinecolor": "white"
           },
           "yaxis": {
            "backgroundcolor": "#E5ECF6",
            "gridcolor": "white",
            "gridwidth": 2,
            "linecolor": "white",
            "showbackground": true,
            "ticks": "",
            "zerolinecolor": "white"
           },
           "zaxis": {
            "backgroundcolor": "#E5ECF6",
            "gridcolor": "white",
            "gridwidth": 2,
            "linecolor": "white",
            "showbackground": true,
            "ticks": "",
            "zerolinecolor": "white"
           }
          },
          "shapedefaults": {
           "line": {
            "color": "#2a3f5f"
           }
          },
          "ternary": {
           "aaxis": {
            "gridcolor": "white",
            "linecolor": "white",
            "ticks": ""
           },
           "baxis": {
            "gridcolor": "white",
            "linecolor": "white",
            "ticks": ""
           },
           "bgcolor": "#E5ECF6",
           "caxis": {
            "gridcolor": "white",
            "linecolor": "white",
            "ticks": ""
           }
          },
          "title": {
           "x": 0.05
          },
          "xaxis": {
           "automargin": true,
           "gridcolor": "white",
           "linecolor": "white",
           "ticks": "",
           "title": {
            "standoff": 15
           },
           "zerolinecolor": "white",
           "zerolinewidth": 2
          },
          "yaxis": {
           "automargin": true,
           "gridcolor": "white",
           "linecolor": "white",
           "ticks": "",
           "title": {
            "standoff": 15
           },
           "zerolinecolor": "white",
           "zerolinewidth": 2
          }
         }
        },
        "title": {
         "font": {
          "size": 24
         },
         "text": "Convergence of Genetic Algorithm",
         "x": 0.25
        },
        "width": 600,
        "xaxis": {
         "title": {
          "font": {
           "size": 20
          },
          "text": "Generation"
         }
        },
        "yaxis": {
         "title": {
          "font": {
           "size": 20
          },
          "text": "Cost"
         }
        }
       }
      }
     },
     "metadata": {},
     "output_type": "display_data"
    }
   ],
   "source": [
    "visualizer.plot_optimization_results()"
   ]
  },
  {
   "cell_type": "markdown",
   "metadata": {},
   "source": [
    "<img src=\"../../img/convg.png\" alt=\"convg\" width=\"500\">"
   ]
  },
  {
   "cell_type": "markdown",
   "metadata": {},
   "source": [
    "Plot the contributions to the cost function for the best performer\n",
    "\n",
    "*Note on how many contributions to expect:*\n",
    "Per property, there is\n",
    "* 1 effective property term\n",
    "* (Non-modulus) 2 concentration factor terms per material\n",
    "* (Modulus) 2 concentration factor terms per coupled (bulk, shear) moduli per material -- not considered individual properties\n",
    "\n",
    "*For example*, for a 3-phase composite which considers carrier-transport and elastic property categories, not including volume fraction, there are 5 properties per material, so in total we expect\n",
    "* 5 effective property terms\n",
    "* 18 = 6 concentration factor terms (load and response terms for electrical conductivity, thermal conductivity, and universal anisotropy) $\\times$ 3 materials\n",
    "* 6 = 2 concentration factor terms (coupled deviatoric and hydrostatic terms from coupled bulk/shear moduli) $\\times$ 3 materials"
   ]
  },
  {
   "cell_type": "code",
   "execution_count": 13,
   "metadata": {
    "tags": []
   },
   "outputs": [
    {
     "name": "stdout",
     "output_type": "stream",
     "text": [
      "Cost: 0.044619257840045265, Number effective properties: 5, Number of concentration factors: 24\n"
     ]
    },
    {
     "data": {
      "application/vnd.plotly.v1+json": {
       "config": {
        "plotlyServerURL": "https://plot.ly"
       },
       "data": [
        {
         "hole": 0.25,
         "insidetextorientation": "radial",
         "labels": [
          "eff. elec_cond_300k_low_doping",
          "eff. therm_cond_300k_low_doping",
          "eff. bulk_modulus",
          "eff. shear_modulus",
          "eff. universal_anisotropy",
          "cf load on elec_cond_300k_low_doping, mat 0",
          "cf response from elec_cond_300k_low_doping, mat 0",
          "cf load on elec_cond_300k_low_doping, mat 1",
          "cf response from elec_cond_300k_low_doping, mat 1",
          "cf load on elec_cond_300k_low_doping, mat 2",
          "cf response from elec_cond_300k_low_doping, mat 2",
          "cf load on therm_cond_300k_low_doping, mat 0",
          "cf response from therm_cond_300k_low_doping, mat 0",
          "cf load on therm_cond_300k_low_doping, mat 1",
          "cf response from therm_cond_300k_low_doping, mat 1",
          "cf load on therm_cond_300k_low_doping, mat 2",
          "cf response from therm_cond_300k_low_doping, mat 2",
          "cf hydrostatic stress, mat 0",
          "cf hydrostatic stress, mat 1",
          "cf hydrostatic stress, mat 2",
          "cf deviatoric stress, mat 0",
          "cf deviatoric stress, mat 1",
          "cf deviatoric stress, mat 2",
          "cf load on universal_anisotropy, mat 0",
          "cf response from universal_anisotropy, mat 0",
          "cf load on universal_anisotropy, mat 1",
          "cf response from universal_anisotropy, mat 1",
          "cf load on universal_anisotropy, mat 2",
          "cf response from universal_anisotropy, mat 2"
         ],
         "textinfo": "percent",
         "type": "pie",
         "values": [
          0.00016972657881145174,
          0.039663327055728066,
          0.06239510515758318,
          0.07212758830989416,
          0.109813131772674,
          0.04679357589486223,
          0.0028032493697567025,
          0.03624559145392914,
          0.06953785523261946,
          0.0071345229058103555,
          0.05399293148316656,
          0.0007839288783965142,
          0,
          0.11392751475202141,
          0.1003012483588362,
          0.010238357716873895,
          0.021867693782286923,
          0.13141545211381037,
          0,
          0.019809072985454316,
          0.14465436911629864,
          0,
          0.010266341604988237,
          0.03404492540274241,
          0.031017016270563712,
          0.03812473363830424,
          0.04088016531187335,
          0.02774918312921999,
          0.03055446775275623
         ]
        }
       ],
       "layout": {
        "showlegend": true,
        "template": {
         "data": {
          "bar": [
           {
            "error_x": {
             "color": "#2a3f5f"
            },
            "error_y": {
             "color": "#2a3f5f"
            },
            "marker": {
             "line": {
              "color": "#E5ECF6",
              "width": 0.5
             },
             "pattern": {
              "fillmode": "overlay",
              "size": 10,
              "solidity": 0.2
             }
            },
            "type": "bar"
           }
          ],
          "barpolar": [
           {
            "marker": {
             "line": {
              "color": "#E5ECF6",
              "width": 0.5
             },
             "pattern": {
              "fillmode": "overlay",
              "size": 10,
              "solidity": 0.2
             }
            },
            "type": "barpolar"
           }
          ],
          "carpet": [
           {
            "aaxis": {
             "endlinecolor": "#2a3f5f",
             "gridcolor": "white",
             "linecolor": "white",
             "minorgridcolor": "white",
             "startlinecolor": "#2a3f5f"
            },
            "baxis": {
             "endlinecolor": "#2a3f5f",
             "gridcolor": "white",
             "linecolor": "white",
             "minorgridcolor": "white",
             "startlinecolor": "#2a3f5f"
            },
            "type": "carpet"
           }
          ],
          "choropleth": [
           {
            "colorbar": {
             "outlinewidth": 0,
             "ticks": ""
            },
            "type": "choropleth"
           }
          ],
          "contour": [
           {
            "colorbar": {
             "outlinewidth": 0,
             "ticks": ""
            },
            "colorscale": [
             [
              0,
              "#0d0887"
             ],
             [
              0.1111111111111111,
              "#46039f"
             ],
             [
              0.2222222222222222,
              "#7201a8"
             ],
             [
              0.3333333333333333,
              "#9c179e"
             ],
             [
              0.4444444444444444,
              "#bd3786"
             ],
             [
              0.5555555555555556,
              "#d8576b"
             ],
             [
              0.6666666666666666,
              "#ed7953"
             ],
             [
              0.7777777777777778,
              "#fb9f3a"
             ],
             [
              0.8888888888888888,
              "#fdca26"
             ],
             [
              1,
              "#f0f921"
             ]
            ],
            "type": "contour"
           }
          ],
          "contourcarpet": [
           {
            "colorbar": {
             "outlinewidth": 0,
             "ticks": ""
            },
            "type": "contourcarpet"
           }
          ],
          "heatmap": [
           {
            "colorbar": {
             "outlinewidth": 0,
             "ticks": ""
            },
            "colorscale": [
             [
              0,
              "#0d0887"
             ],
             [
              0.1111111111111111,
              "#46039f"
             ],
             [
              0.2222222222222222,
              "#7201a8"
             ],
             [
              0.3333333333333333,
              "#9c179e"
             ],
             [
              0.4444444444444444,
              "#bd3786"
             ],
             [
              0.5555555555555556,
              "#d8576b"
             ],
             [
              0.6666666666666666,
              "#ed7953"
             ],
             [
              0.7777777777777778,
              "#fb9f3a"
             ],
             [
              0.8888888888888888,
              "#fdca26"
             ],
             [
              1,
              "#f0f921"
             ]
            ],
            "type": "heatmap"
           }
          ],
          "heatmapgl": [
           {
            "colorbar": {
             "outlinewidth": 0,
             "ticks": ""
            },
            "colorscale": [
             [
              0,
              "#0d0887"
             ],
             [
              0.1111111111111111,
              "#46039f"
             ],
             [
              0.2222222222222222,
              "#7201a8"
             ],
             [
              0.3333333333333333,
              "#9c179e"
             ],
             [
              0.4444444444444444,
              "#bd3786"
             ],
             [
              0.5555555555555556,
              "#d8576b"
             ],
             [
              0.6666666666666666,
              "#ed7953"
             ],
             [
              0.7777777777777778,
              "#fb9f3a"
             ],
             [
              0.8888888888888888,
              "#fdca26"
             ],
             [
              1,
              "#f0f921"
             ]
            ],
            "type": "heatmapgl"
           }
          ],
          "histogram": [
           {
            "marker": {
             "pattern": {
              "fillmode": "overlay",
              "size": 10,
              "solidity": 0.2
             }
            },
            "type": "histogram"
           }
          ],
          "histogram2d": [
           {
            "colorbar": {
             "outlinewidth": 0,
             "ticks": ""
            },
            "colorscale": [
             [
              0,
              "#0d0887"
             ],
             [
              0.1111111111111111,
              "#46039f"
             ],
             [
              0.2222222222222222,
              "#7201a8"
             ],
             [
              0.3333333333333333,
              "#9c179e"
             ],
             [
              0.4444444444444444,
              "#bd3786"
             ],
             [
              0.5555555555555556,
              "#d8576b"
             ],
             [
              0.6666666666666666,
              "#ed7953"
             ],
             [
              0.7777777777777778,
              "#fb9f3a"
             ],
             [
              0.8888888888888888,
              "#fdca26"
             ],
             [
              1,
              "#f0f921"
             ]
            ],
            "type": "histogram2d"
           }
          ],
          "histogram2dcontour": [
           {
            "colorbar": {
             "outlinewidth": 0,
             "ticks": ""
            },
            "colorscale": [
             [
              0,
              "#0d0887"
             ],
             [
              0.1111111111111111,
              "#46039f"
             ],
             [
              0.2222222222222222,
              "#7201a8"
             ],
             [
              0.3333333333333333,
              "#9c179e"
             ],
             [
              0.4444444444444444,
              "#bd3786"
             ],
             [
              0.5555555555555556,
              "#d8576b"
             ],
             [
              0.6666666666666666,
              "#ed7953"
             ],
             [
              0.7777777777777778,
              "#fb9f3a"
             ],
             [
              0.8888888888888888,
              "#fdca26"
             ],
             [
              1,
              "#f0f921"
             ]
            ],
            "type": "histogram2dcontour"
           }
          ],
          "mesh3d": [
           {
            "colorbar": {
             "outlinewidth": 0,
             "ticks": ""
            },
            "type": "mesh3d"
           }
          ],
          "parcoords": [
           {
            "line": {
             "colorbar": {
              "outlinewidth": 0,
              "ticks": ""
             }
            },
            "type": "parcoords"
           }
          ],
          "pie": [
           {
            "automargin": true,
            "type": "pie"
           }
          ],
          "scatter": [
           {
            "fillpattern": {
             "fillmode": "overlay",
             "size": 10,
             "solidity": 0.2
            },
            "type": "scatter"
           }
          ],
          "scatter3d": [
           {
            "line": {
             "colorbar": {
              "outlinewidth": 0,
              "ticks": ""
             }
            },
            "marker": {
             "colorbar": {
              "outlinewidth": 0,
              "ticks": ""
             }
            },
            "type": "scatter3d"
           }
          ],
          "scattercarpet": [
           {
            "marker": {
             "colorbar": {
              "outlinewidth": 0,
              "ticks": ""
             }
            },
            "type": "scattercarpet"
           }
          ],
          "scattergeo": [
           {
            "marker": {
             "colorbar": {
              "outlinewidth": 0,
              "ticks": ""
             }
            },
            "type": "scattergeo"
           }
          ],
          "scattergl": [
           {
            "marker": {
             "colorbar": {
              "outlinewidth": 0,
              "ticks": ""
             }
            },
            "type": "scattergl"
           }
          ],
          "scattermapbox": [
           {
            "marker": {
             "colorbar": {
              "outlinewidth": 0,
              "ticks": ""
             }
            },
            "type": "scattermapbox"
           }
          ],
          "scatterpolar": [
           {
            "marker": {
             "colorbar": {
              "outlinewidth": 0,
              "ticks": ""
             }
            },
            "type": "scatterpolar"
           }
          ],
          "scatterpolargl": [
           {
            "marker": {
             "colorbar": {
              "outlinewidth": 0,
              "ticks": ""
             }
            },
            "type": "scatterpolargl"
           }
          ],
          "scatterternary": [
           {
            "marker": {
             "colorbar": {
              "outlinewidth": 0,
              "ticks": ""
             }
            },
            "type": "scatterternary"
           }
          ],
          "surface": [
           {
            "colorbar": {
             "outlinewidth": 0,
             "ticks": ""
            },
            "colorscale": [
             [
              0,
              "#0d0887"
             ],
             [
              0.1111111111111111,
              "#46039f"
             ],
             [
              0.2222222222222222,
              "#7201a8"
             ],
             [
              0.3333333333333333,
              "#9c179e"
             ],
             [
              0.4444444444444444,
              "#bd3786"
             ],
             [
              0.5555555555555556,
              "#d8576b"
             ],
             [
              0.6666666666666666,
              "#ed7953"
             ],
             [
              0.7777777777777778,
              "#fb9f3a"
             ],
             [
              0.8888888888888888,
              "#fdca26"
             ],
             [
              1,
              "#f0f921"
             ]
            ],
            "type": "surface"
           }
          ],
          "table": [
           {
            "cells": {
             "fill": {
              "color": "#EBF0F8"
             },
             "line": {
              "color": "white"
             }
            },
            "header": {
             "fill": {
              "color": "#C8D4E3"
             },
             "line": {
              "color": "white"
             }
            },
            "type": "table"
           }
          ]
         },
         "layout": {
          "annotationdefaults": {
           "arrowcolor": "#2a3f5f",
           "arrowhead": 0,
           "arrowwidth": 1
          },
          "autotypenumbers": "strict",
          "coloraxis": {
           "colorbar": {
            "outlinewidth": 0,
            "ticks": ""
           }
          },
          "colorscale": {
           "diverging": [
            [
             0,
             "#8e0152"
            ],
            [
             0.1,
             "#c51b7d"
            ],
            [
             0.2,
             "#de77ae"
            ],
            [
             0.3,
             "#f1b6da"
            ],
            [
             0.4,
             "#fde0ef"
            ],
            [
             0.5,
             "#f7f7f7"
            ],
            [
             0.6,
             "#e6f5d0"
            ],
            [
             0.7,
             "#b8e186"
            ],
            [
             0.8,
             "#7fbc41"
            ],
            [
             0.9,
             "#4d9221"
            ],
            [
             1,
             "#276419"
            ]
           ],
           "sequential": [
            [
             0,
             "#0d0887"
            ],
            [
             0.1111111111111111,
             "#46039f"
            ],
            [
             0.2222222222222222,
             "#7201a8"
            ],
            [
             0.3333333333333333,
             "#9c179e"
            ],
            [
             0.4444444444444444,
             "#bd3786"
            ],
            [
             0.5555555555555556,
             "#d8576b"
            ],
            [
             0.6666666666666666,
             "#ed7953"
            ],
            [
             0.7777777777777778,
             "#fb9f3a"
            ],
            [
             0.8888888888888888,
             "#fdca26"
            ],
            [
             1,
             "#f0f921"
            ]
           ],
           "sequentialminus": [
            [
             0,
             "#0d0887"
            ],
            [
             0.1111111111111111,
             "#46039f"
            ],
            [
             0.2222222222222222,
             "#7201a8"
            ],
            [
             0.3333333333333333,
             "#9c179e"
            ],
            [
             0.4444444444444444,
             "#bd3786"
            ],
            [
             0.5555555555555556,
             "#d8576b"
            ],
            [
             0.6666666666666666,
             "#ed7953"
            ],
            [
             0.7777777777777778,
             "#fb9f3a"
            ],
            [
             0.8888888888888888,
             "#fdca26"
            ],
            [
             1,
             "#f0f921"
            ]
           ]
          },
          "colorway": [
           "#636efa",
           "#EF553B",
           "#00cc96",
           "#ab63fa",
           "#FFA15A",
           "#19d3f3",
           "#FF6692",
           "#B6E880",
           "#FF97FF",
           "#FECB52"
          ],
          "font": {
           "color": "#2a3f5f"
          },
          "geo": {
           "bgcolor": "white",
           "lakecolor": "white",
           "landcolor": "#E5ECF6",
           "showlakes": true,
           "showland": true,
           "subunitcolor": "white"
          },
          "hoverlabel": {
           "align": "left"
          },
          "hovermode": "closest",
          "mapbox": {
           "style": "light"
          },
          "paper_bgcolor": "white",
          "plot_bgcolor": "#E5ECF6",
          "polar": {
           "angularaxis": {
            "gridcolor": "white",
            "linecolor": "white",
            "ticks": ""
           },
           "bgcolor": "#E5ECF6",
           "radialaxis": {
            "gridcolor": "white",
            "linecolor": "white",
            "ticks": ""
           }
          },
          "scene": {
           "xaxis": {
            "backgroundcolor": "#E5ECF6",
            "gridcolor": "white",
            "gridwidth": 2,
            "linecolor": "white",
            "showbackground": true,
            "ticks": "",
            "zerolinecolor": "white"
           },
           "yaxis": {
            "backgroundcolor": "#E5ECF6",
            "gridcolor": "white",
            "gridwidth": 2,
            "linecolor": "white",
            "showbackground": true,
            "ticks": "",
            "zerolinecolor": "white"
           },
           "zaxis": {
            "backgroundcolor": "#E5ECF6",
            "gridcolor": "white",
            "gridwidth": 2,
            "linecolor": "white",
            "showbackground": true,
            "ticks": "",
            "zerolinecolor": "white"
           }
          },
          "shapedefaults": {
           "line": {
            "color": "#2a3f5f"
           }
          },
          "ternary": {
           "aaxis": {
            "gridcolor": "white",
            "linecolor": "white",
            "ticks": ""
           },
           "baxis": {
            "gridcolor": "white",
            "linecolor": "white",
            "ticks": ""
           },
           "bgcolor": "#E5ECF6",
           "caxis": {
            "gridcolor": "white",
            "linecolor": "white",
            "ticks": ""
           }
          },
          "title": {
           "x": 0.05
          },
          "xaxis": {
           "automargin": true,
           "gridcolor": "white",
           "linecolor": "white",
           "ticks": "",
           "title": {
            "standoff": 15
           },
           "zerolinecolor": "white",
           "zerolinewidth": 2
          },
          "yaxis": {
           "automargin": true,
           "gridcolor": "white",
           "linecolor": "white",
           "ticks": "",
           "title": {
            "standoff": 15
           },
           "zerolinecolor": "white",
           "zerolinewidth": 2
          }
         }
        },
        "title": {
         "text": "Cost Function Contributions"
        }
       }
      }
     },
     "metadata": {},
     "output_type": "display_data"
    }
   ],
   "source": [
    "visualizer.plot_cost_func_contribs()"
   ]
  },
  {
   "cell_type": "markdown",
   "metadata": {},
   "source": [
    "<img src=\"../../img/cost-func-contribs.png\" alt=\"cost-func-contribs\" width=\"500\">"
   ]
  },
  {
   "cell_type": "markdown",
   "metadata": {},
   "source": [
    "Create an instance of the `MatchFinder` class using the genetic algorithm result"
   ]
  },
  {
   "cell_type": "code",
   "execution_count": 14,
   "metadata": {
    "tags": []
   },
   "outputs": [],
   "source": [
    "match_finder = MatchFinder(ga_result)"
   ]
  },
  {
   "cell_type": "markdown",
   "metadata": {},
   "source": [
    "Finally, get *real* material matches"
   ]
  },
  {
   "cell_type": "code",
   "execution_count": 15,
   "metadata": {
    "tags": []
   },
   "outputs": [
    {
     "data": {
      "application/vnd.jupyter.widget-view+json": {
       "model_id": "88daac8fb35541e38d8c0889d583fdcc",
       "version_major": 2,
       "version_minor": 0
      },
      "text/plain": [
       "Retrieving SummaryDoc documents:   0%|          | 0/261 [00:00<?, ?it/s]"
      ]
     },
     "metadata": {},
     "output_type": "display_data"
    }
   ],
   "source": [
    "matches_dict, consolidated_dict_filename = match_finder.get_material_matches(bounds_dict)"
   ]
  },
  {
   "cell_type": "markdown",
   "metadata": {},
   "source": [
    "Let's take a peak at the matches that were returned"
   ]
  },
  {
   "cell_type": "code",
   "execution_count": 16,
   "metadata": {},
   "outputs": [
    {
     "name": "stdout",
     "output_type": "stream",
     "text": [
      "Material Matches:\n",
      "  For mat1:\n",
      "    mp-684591\n",
      "    mp-752826\n",
      "    mp-3098\n",
      "    mp-3748\n",
      "    mp-3536\n",
      "    mp-4391\n",
      "    mp-5924\n",
      "    mp-753459\n",
      "    mp-2657\n",
      "    mp-755759\n",
      "    mp-4820\n",
      "  For mat2:\n",
      "    mp-684591\n",
      "    mp-752826\n",
      "    mp-3098\n",
      "    mp-3748\n",
      "    mp-3536\n",
      "    mp-4391\n",
      "    mp-5924\n",
      "    mp-753459\n",
      "    mp-2657\n",
      "    mp-755759\n",
      "    mp-4820\n",
      "  For mat3:\n",
      "    mp-684591\n",
      "    mp-752826\n",
      "    mp-3098\n",
      "    mp-3748\n",
      "    mp-3536\n",
      "    mp-4391\n",
      "    mp-5924\n",
      "    mp-753459\n",
      "    mp-2657\n",
      "    mp-755759\n",
      "    mp-4820\n"
     ]
    }
   ],
   "source": [
    "print(f'Material Matches:')\n",
    "\n",
    "for mat in matches_dict.keys():\n",
    "    print(f'  For {mat}:')\n",
    "    for match_dict in matches_dict[mat]:\n",
    "        for mpid in match_dict.keys():\n",
    "            print(f'    {mpid}')"
   ]
  },
  {
   "cell_type": "code",
   "execution_count": 17,
   "metadata": {},
   "outputs": [],
   "source": [
    "# Clean up the output directory by removing the consolidated dictionary JSON file\n",
    "import os\n",
    "os.remove(consolidated_dict_filename)"
   ]
  },
  {
   "cell_type": "markdown",
   "metadata": {},
   "source": [
    "If the above cell fails, the Materials Project API may have been updated. Uncomment and run the following cell and then re-run the entire notebook."
   ]
  },
  {
   "cell_type": "code",
   "execution_count": 18,
   "metadata": {},
   "outputs": [],
   "source": [
    "#!pip install --upgrade mp-api"
   ]
  },
  {
   "cell_type": "markdown",
   "metadata": {},
   "source": [
    "*An extra note:* For reading bulk and shear moduli from the Materials Project database, there are a few options outlined [here](https://docs.materialsproject.org/methodology/materials-methodology/elasticity). In `hashin_shtrikman_mp` we use the Voigt-Reuss-Hill average."
   ]
  }
 ],
 "metadata": {
  "kernelspec": {
   "display_name": "carla_mp_api",
   "language": "python",
   "name": "python3"
  },
  "language_info": {
   "codemirror_mode": {
    "name": "ipython",
    "version": 3
   },
   "file_extension": ".py",
   "mimetype": "text/x-python",
   "name": "python",
   "nbconvert_exporter": "python",
   "pygments_lexer": "ipython3",
   "version": "3.11.11"
  }
 },
 "nbformat": 4,
 "nbformat_minor": 4
}
