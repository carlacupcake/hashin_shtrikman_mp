{
 "cells": [
  {
   "cell_type": "markdown",
   "id": "077fd1a7-202a-4572-a698-362024b9a808",
   "metadata": {},
   "source": [
    "# Getting Started\n",
    "\n",
    "In this guide, we show how this package can be used to design a composite."
   ]
  },
  {
   "cell_type": "code",
   "execution_count": 3,
   "id": "27880987-3f6c-4e15-abf4-688c1e5a0c15",
   "metadata": {
    "tags": []
   },
   "outputs": [],
   "source": [
    "from hashin_shtrikman_mp.core import Optimizer\n",
    "# Do some things"
   ]
  }
 ],
 "metadata": {
  "kernelspec": {
   "display_name": "Python 3 (ipykernel)",
   "language": "python",
   "name": "python3"
  },
  "language_info": {
   "codemirror_mode": {
    "name": "ipython",
    "version": 3
   },
   "file_extension": ".py",
   "mimetype": "text/x-python",
   "name": "python",
   "nbconvert_exporter": "python",
   "pygments_lexer": "ipython3",
   "version": "3.11.10"
  }
 },
 "nbformat": 4,
 "nbformat_minor": 5
}
