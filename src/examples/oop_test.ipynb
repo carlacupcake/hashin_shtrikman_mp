{
 "cells": [
  {
   "cell_type": "markdown",
   "metadata": {},
   "source": [
    "## Testing the Object Oriented Paradigm"
   ]
  },
  {
   "cell_type": "code",
   "execution_count": 1,
   "metadata": {},
   "outputs": [
    {
     "name": "stdout",
     "output_type": "stream",
     "text": [
      "User Input:  {'mat_1': {'elec_cond_300k_low_doping': {'upper_bound': 20.0, 'lower_bound': 1.0}, 'therm_cond_300k_low_doping': {'upper_bound': 0.0001, 'lower_bound': 1e-05}, 'bulk_modulus': {'upper_bound': 100.0, 'lower_bound': 50.0}, 'shear_modulus': {'upper_bound': 100.0, 'lower_bound': 80.0}, 'universal_anisotropy': {'upper_bound': 2.0, 'lower_bound': 1.0}}, 'mat_2': {'elec_cond_300k_low_doping': {'upper_bound': 5.0, 'lower_bound': 2.0}, 'therm_cond_300k_low_doping': {'upper_bound': 0.009, 'lower_bound': 0.0001}, 'bulk_modulus': {'upper_bound': 400.0, 'lower_bound': 20.0}, 'shear_modulus': {'upper_bound': 200.0, 'lower_bound': 100.0}, 'universal_anisotropy': {'upper_bound': 2.3, 'lower_bound': 1.3}}, 'mat_3': {'elec_cond_300k_low_doping': {'upper_bound': 10.0, 'lower_bound': 1.0}, 'therm_cond_300k_low_doping': {'upper_bound': 0.005, 'lower_bound': 0.0001}, 'bulk_modulus': {'upper_bound': 300.0, 'lower_bound': 20.0}, 'shear_modulus': {'upper_bound': 300.0, 'lower_bound': 100.0}, 'universal_anisotropy': {'upper_bound': 2.1, 'lower_bound': 0.9}}, 'mixture': {'elec_cond_300k_low_doping': {'desired_prop': 9.0}, 'therm_cond_300k_low_doping': {'desired_prop': 0.007}, 'bulk_modulus': {'desired_prop': 234.0}, 'shear_modulus': {'desired_prop': 150.0}, 'universal_anisotropy': {'desired_prop': 1.5}}}\n"
     ]
    }
   ],
   "source": [
    "import sys    \n",
    "%load_ext Cython\n",
    "sys.path.insert(1, '../core')\n",
    "from user_input import MaterialProperty, Material, MixtureProperty, Mixture\n",
    "\n",
    "# Define properties for each material\n",
    "properties_mat_1 = [\n",
    "    MaterialProperty(prop='elec_cond_300k_low_doping', upper_bound=20, lower_bound=1),\n",
    "    MaterialProperty(prop='therm_cond_300k_low_doping', upper_bound=0.0001, lower_bound=1e-5),\n",
    "    MaterialProperty(prop='bulk_modulus', upper_bound=100, lower_bound=50),\n",
    "    MaterialProperty(prop='shear_modulus', upper_bound=100, lower_bound=80),\n",
    "    MaterialProperty(prop='universal_anisotropy', upper_bound=2, lower_bound=1),\n",
    "]\n",
    "\n",
    "properties_mat_2 = [\n",
    "    MaterialProperty(prop='elec_cond_300k_low_doping', upper_bound=5, lower_bound=2),\n",
    "    MaterialProperty(prop='therm_cond_300k_low_doping', upper_bound=0.009, lower_bound=1e-4),\n",
    "    MaterialProperty(prop='bulk_modulus', upper_bound=400, lower_bound=20),\n",
    "    MaterialProperty(prop='shear_modulus', upper_bound=200, lower_bound=100),\n",
    "    MaterialProperty(prop='universal_anisotropy', upper_bound=2.3, lower_bound=1.3),\n",
    "]\n",
    "\n",
    "properties_mat_3 = [\n",
    "    MaterialProperty(prop='elec_cond_300k_low_doping', upper_bound=10, lower_bound=1),\n",
    "    MaterialProperty(prop='therm_cond_300k_low_doping', upper_bound=0.005, lower_bound=1e-4),\n",
    "    MaterialProperty(prop='bulk_modulus', upper_bound=300, lower_bound=20),\n",
    "    MaterialProperty(prop='shear_modulus', upper_bound=300, lower_bound=100),\n",
    "    MaterialProperty(prop='universal_anisotropy', upper_bound=2.1, lower_bound=0.9),\n",
    "]\n",
    "\n",
    "# Define properties for the mixture\n",
    "properties_mixture = [\n",
    "    MixtureProperty(prop='elec_cond_300k_low_doping', desired_prop=9),\n",
    "    MixtureProperty(prop='therm_cond_300k_low_doping', desired_prop=0.007),\n",
    "    MixtureProperty(prop='bulk_modulus', desired_prop=234),\n",
    "    MixtureProperty(prop='shear_modulus', desired_prop=150),\n",
    "    MixtureProperty(prop='universal_anisotropy', desired_prop=1.5),\n",
    "]\n",
    "\n",
    "# Create Material & Mixture instances\n",
    "mat_1 = Material(name='mat_1', properties=properties_mat_1)\n",
    "mat_2 = Material(name='mat_2', properties=properties_mat_2)\n",
    "mat_3 = Material(name='mat_3', properties=properties_mat_3)\n",
    "mixture = Mixture(name='mixture', properties=properties_mixture)\n",
    "aggregate = [mat_1, mat_2, mat_3, mixture]\n",
    "\n",
    "user_input = {}\n",
    "for entity in aggregate:\n",
    "    entity_name = entity.name\n",
    "    properties = entity.properties\n",
    "    user_input[entity_name] = {}\n",
    "    for property in properties:  \n",
    "        property_name = property.prop\n",
    "        user_input[entity_name][property_name] = {}\n",
    "        if type(property) == MaterialProperty:\n",
    "            user_input[entity_name][property_name]['upper_bound'] = property.upper_bound  \n",
    "            user_input[entity_name][property_name]['lower_bound'] = property.lower_bound   \n",
    "        if type(property) == MixtureProperty:\n",
    "            user_input[entity_name][property_name]['desired_prop'] = property.desired_prop\n",
    " \n",
    "print(\"User Input: \", user_input)"
   ]
  },
  {
   "cell_type": "code",
   "execution_count": 2,
   "metadata": {},
   "outputs": [
    {
     "name": "stderr",
     "output_type": "stream",
     "text": [
      "/Users/carlabecker/opt/anaconda3/envs/carla_mp_api/lib/python3.9/site-packages/mpcontribs/client/__init__.py:88: FutureWarning: use_inf_as_na option is deprecated and will be removed in a future version. Convert inf values to NaN before operating instead.\n",
      "  pd.set_option('mode.use_inf_as_na', True)\n",
      "2024-05-18 15:15:00,406 - custom_logger - INFO - Loading property categories from /Users/carlabecker/Library/Mobile Documents/com~apple~CloudDocs/Carla's Desktop/UC Berkeley/Research/Materials Project/hashin_shtrikman_mp/src/core/../io/inputs/mp_property_docs.yaml.\n",
      "2024-05-18 15:15:00,411 - custom_logger - INFO - property_categories = ['carrier-transport', 'elastic']\n",
      "2024-05-18 15:15:00,417 - custom_logger - INFO - mixture_props = {'elec_cond_300k_low_doping': {'desired_prop': 9.0}, 'therm_cond_300k_low_doping': {'desired_prop': 0.007}, 'bulk_modulus': {'desired_prop': 234.0}, 'shear_modulus': {'desired_prop': 150.0}, 'universal_anisotropy': {'desired_prop': 1.5}}\n"
     ]
    },
    {
     "name": "stdout",
     "output_type": "stream",
     "text": [
      "Property categories:  ['carrier-transport', 'elastic']\n",
      "Property docs:  {'carrier-transport': {'elec_cond_300k_low_doping': None, 'therm_cond_300k_low_doping': None}, 'dielectric': {'e_electronic': None, 'e_ionic': None, 'e_total': None, 'n': None}, 'elastic': {'bulk_modulus': 'voigt', 'shear_modulus': 'voigt', 'universal_anisotropy': None}, 'magnetic': {'total_magnetization': None, 'total_magnetization_normalized_vol': None}, 'piezoelectric': {'e_ij_max': None}}\n",
      "Lower Bounds: {'mat_1': {'carrier-transport': [1.0, 1e-05], 'elastic': [50.0, 80.0, 1.0]}, 'mat_2': {'carrier-transport': [2.0, 0.0001], 'elastic': [20.0, 100.0, 1.3]}, 'mat_3': {'carrier-transport': [1.0, 0.0001], 'elastic': [20.0, 100.0, 0.9]}, 'volume-fractions': [0.01, 0.01, 0.01]}\n",
      "Upper Bounds: {'mat_1': {'carrier-transport': [20.0, 0.0001], 'elastic': [100.0, 100.0, 2.0]}, 'mat_2': {'carrier-transport': [5.0, 0.009], 'elastic': [400.0, 200.0, 2.3]}, 'mat_3': {'carrier-transport': [10.0, 0.005], 'elastic': [300.0, 300.0, 2.1]}, 'volume-fractions': [0.99, 0.99, 0.99]}\n",
      "Number of Materials: 3\n",
      "Number of Properties: 6\n"
     ]
    }
   ],
   "source": [
    "from optimization import HashinShtrikman\n",
    "HS = HashinShtrikman(api_key=\"uJpFxJJGKCSp9s1shwg9HmDuNjCDfWbM\", user_input=user_input)\n",
    "\n",
    "print(\"Property categories: \", HS.property_categories)\n",
    "print(\"Property docs: \", HS.property_docs)\n",
    "\n",
    "print(\"Lower Bounds:\", HS.lower_bounds)\n",
    "print(\"Upper Bounds:\", HS.upper_bounds)\n",
    "\n",
    "print(\"Number of Materials:\", HS.num_materials)\n",
    "print(\"Number of Properties:\", HS.num_properties)"
   ]
  },
  {
   "cell_type": "code",
   "execution_count": 3,
   "metadata": {},
   "outputs": [
    {
     "name": "stdout",
     "output_type": "stream",
     "text": [
      "{'material_id': ['mp-546266', 'mp-12863', 'mp-1509', 'mp-1029799', 'mp-16290'], 'is_stable': [True, False, True, True, False], 'band_gap': [1.3667999999999996, 0.0, 0.7774000000000001, 1.0132999999999996, 0.0], 'is_metal': [False, True, False, False, True], 'formula_pretty': ['DyBi2IO4', 'Ba(AlSi)2', 'Sn2S3', 'Sr4TiN4', 'ZnNi3C'], 'mp-ids-contrib': ['mp-546266', 'mp-12863', 'mp-1509', 'mp-22192', 'mp-16290'], 'elec_cond_300k_low_doping': [12.7262, 2642302.9999999995, 3.71323, 2.23963, 2548302.4], 'therm_cond_300k_low_doping': [7.1457e-05, 19.2792, 1.90284e-05, 3.3981e-05, 17.8791], 'bulk_modulus': [74.071, 46.928, 20.346, 73.379, 194.302], 'shear_modulus': [40.463, 23.063, 13.493, 36.558, 64.537], 'universal_anisotropy': [1.443, 24.189, 2.364, 0.956, 2.102]}\n"
     ]
    }
   ],
   "source": [
    "# Testing without calls to generate final dict (faster)\n",
    "import json\n",
    "consolidated_dict = {}\n",
    "with open(\"consolidated_dict_02_11_2024_23_45_58\") as f:\n",
    "    consolidated_dict = json.load(f)\n",
    "\n",
    "print(consolidated_dict)"
   ]
  },
  {
   "cell_type": "code",
   "execution_count": 4,
   "metadata": {},
   "outputs": [
    {
     "name": "stdout",
     "output_type": "stream",
     "text": [
      "\u001b[0;31m---------------------------------------------------------------------------\u001b[0m\n",
      "\u001b[0;31mAttributeError\u001b[0m                            Traceback (most recent call last)\n",
      "Cell \u001b[0;32mIn[4], line 2\u001b[0m\n",
      "\u001b[1;32m      1\u001b[0m \u001b[38;5;66;03m# Testing with a subset of property categories\u001b[39;00m\n",
      "\u001b[0;32m----> 2\u001b[0m \u001b[43mHS\u001b[49m\u001b[38;5;241;43m.\u001b[39;49m\u001b[43mset_HS_optim_params\u001b[49m\u001b[43m(\u001b[49m\u001b[43m)\u001b[49m\n",
      "\u001b[1;32m      3\u001b[0m \u001b[38;5;28mprint\u001b[39m(\u001b[38;5;124mf\u001b[39m\u001b[38;5;124m'\u001b[39m\u001b[38;5;124mlowest costs: \u001b[39m\u001b[38;5;132;01m{\u001b[39;00mHS\u001b[38;5;241m.\u001b[39mlowest_costs\u001b[38;5;132;01m}\u001b[39;00m\u001b[38;5;124m'\u001b[39m)\n",
      "\u001b[1;32m      4\u001b[0m HS\u001b[38;5;241m.\u001b[39mprint_table_of_best_designs()\n",
      "\n",
      "File \u001b[0;32m~/Library/Mobile Documents/com~apple~CloudDocs/Carla's Desktop/UC Berkeley/Research/Materials Project/hashin_shtrikman_mp/src/examples/../core/optimization.py:502\u001b[0m, in \u001b[0;36mHashinShtrikman.set_HS_optim_params\u001b[0;34m(self)\u001b[0m\n",
      "\u001b[1;32m    497\u001b[0m population\u001b[38;5;241m.\u001b[39mset_random_values(lower_bounds\u001b[38;5;241m=\u001b[39m\u001b[38;5;28mself\u001b[39m\u001b[38;5;241m.\u001b[39mlower_bounds, \n",
      "\u001b[1;32m    498\u001b[0m                              upper_bounds\u001b[38;5;241m=\u001b[39m\u001b[38;5;28mself\u001b[39m\u001b[38;5;241m.\u001b[39mupper_bounds, \n",
      "\u001b[1;32m    499\u001b[0m                              num_members\u001b[38;5;241m=\u001b[39m\u001b[38;5;28mself\u001b[39m\u001b[38;5;241m.\u001b[39mga_params\u001b[38;5;241m.\u001b[39mnum_members)\n",
      "\u001b[1;32m    501\u001b[0m \u001b[38;5;66;03m# Calculate the costs of the first generation\u001b[39;00m\n",
      "\u001b[0;32m--> 502\u001b[0m \u001b[43mpopulation\u001b[49m\u001b[38;5;241;43m.\u001b[39;49m\u001b[43mset_costs\u001b[49m\u001b[43m(\u001b[49m\u001b[43m)\u001b[49m   \n",
      "\u001b[1;32m    504\u001b[0m \u001b[38;5;66;03m# Sort the costs of the first generation\u001b[39;00m\n",
      "\u001b[1;32m    505\u001b[0m [sorted_costs, sorted_indices] \u001b[38;5;241m=\u001b[39m population\u001b[38;5;241m.\u001b[39msort_costs()  \n",
      "\n",
      "File \u001b[0;32m~/Library/Mobile Documents/com~apple~CloudDocs/Carla's Desktop/UC Berkeley/Research/Materials Project/hashin_shtrikman_mp/src/examples/../core/population.py:143\u001b[0m, in \u001b[0;36mPopulation.set_costs\u001b[0;34m(self)\u001b[0m\n",
      "\u001b[1;32m    141\u001b[0m costs \u001b[38;5;241m=\u001b[39m np\u001b[38;5;241m.\u001b[39mzeros(num_members)\n",
      "\u001b[1;32m    142\u001b[0m \u001b[38;5;28;01mfor\u001b[39;00m i \u001b[38;5;129;01min\u001b[39;00m \u001b[38;5;28mrange\u001b[39m(num_members):\n",
      "\u001b[0;32m--> 143\u001b[0m     this_member \u001b[38;5;241m=\u001b[39m \u001b[43mCMember\u001b[49m\u001b[43m(\u001b[49m\u001b[43mnum_materials\u001b[49m\u001b[38;5;241;43m=\u001b[39;49m\u001b[38;5;28;43mself\u001b[39;49m\u001b[38;5;241;43m.\u001b[39;49m\u001b[43mnum_materials\u001b[49m\u001b[43m,\u001b[49m\u001b[43m \u001b[49m\n",
      "\u001b[1;32m    144\u001b[0m \u001b[43m                         \u001b[49m\u001b[43mnum_properties\u001b[49m\u001b[38;5;241;43m=\u001b[39;49m\u001b[38;5;28;43mself\u001b[39;49m\u001b[38;5;241;43m.\u001b[39;49m\u001b[43mnum_properties\u001b[49m\u001b[43m,\u001b[49m\n",
      "\u001b[1;32m    145\u001b[0m \u001b[43m                         \u001b[49m\u001b[43mvalues\u001b[49m\u001b[38;5;241;43m=\u001b[39;49m\u001b[43mpopulation_values\u001b[49m\u001b[43m[\u001b[49m\u001b[43mi\u001b[49m\u001b[43m,\u001b[49m\u001b[43m \u001b[49m\u001b[43m:\u001b[49m\u001b[43m]\u001b[49m\u001b[43m,\u001b[49m\u001b[43m \u001b[49m\n",
      "\u001b[1;32m    146\u001b[0m \u001b[43m                         \u001b[49m\u001b[43mproperty_categories\u001b[49m\u001b[38;5;241;43m=\u001b[39;49m\u001b[38;5;28;43mself\u001b[39;49m\u001b[38;5;241;43m.\u001b[39;49m\u001b[43mproperty_categories\u001b[49m\u001b[43m,\u001b[49m\n",
      "\u001b[1;32m    147\u001b[0m \u001b[43m                         \u001b[49m\u001b[43mproperty_docs\u001b[49m\u001b[38;5;241;43m=\u001b[39;49m\u001b[38;5;28;43mself\u001b[39;49m\u001b[38;5;241;43m.\u001b[39;49m\u001b[43mproperty_docs\u001b[49m\u001b[43m,\u001b[49m\u001b[43m \u001b[49m\n",
      "\u001b[1;32m    148\u001b[0m \u001b[43m                         \u001b[49m\u001b[43mdesired_props\u001b[49m\u001b[38;5;241;43m=\u001b[39;49m\u001b[38;5;28;43mself\u001b[39;49m\u001b[38;5;241;43m.\u001b[39;49m\u001b[43mdesired_props\u001b[49m\u001b[43m,\u001b[49m\u001b[43m \u001b[49m\n",
      "\u001b[1;32m    149\u001b[0m \u001b[43m                         \u001b[49m\u001b[43mga_params\u001b[49m\u001b[38;5;241;43m=\u001b[39;49m\u001b[38;5;28;43mself\u001b[39;49m\u001b[38;5;241;43m.\u001b[39;49m\u001b[43mga_params\u001b[49m\u001b[43m,\u001b[49m\n",
      "\u001b[1;32m    150\u001b[0m \u001b[43m                         \u001b[49m\u001b[43mcalc_guide\u001b[49m\u001b[38;5;241;43m=\u001b[39;49m\u001b[38;5;28;43mself\u001b[39;49m\u001b[38;5;241;43m.\u001b[39;49m\u001b[43mcalc_guide\u001b[49m\u001b[43m)\u001b[49m\n",
      "\u001b[1;32m    151\u001b[0m     costs[i] \u001b[38;5;241m=\u001b[39m this_member\u001b[38;5;241m.\u001b[39mget_cost()\n",
      "\u001b[1;32m    153\u001b[0m \u001b[38;5;28mself\u001b[39m\u001b[38;5;241m.\u001b[39mcosts \u001b[38;5;241m=\u001b[39m costs\n",
      "\n",
      "File \u001b[0;32m~/Library/Mobile Documents/com~apple~CloudDocs/Carla's Desktop/UC Berkeley/Research/Materials Project/hashin_shtrikman_mp/src/core/cmember.pyx:34\u001b[0m, in \u001b[0;36mcore.cmember.CMember.__init__\u001b[0;34m()\u001b[0m\n",
      "\n",
      "\u001b[0;31mAttributeError\u001b[0m: 'core.cmember.CMember' object has no attribute 'ga_params'\n"
     ]
    }
   ],
   "source": [
    "# Testing with a subset of property categories\n",
    "HS.set_HS_optim_params()\n",
    "print(f'lowest costs: {HS.lowest_costs}')\n",
    "HS.print_table_of_best_designs()\n",
    "HS.plot_optimization_results()\n",
    "HS.get_material_matches()\n",
    "\n",
    "matches_dict = HS.get_material_matches(consolidated_dict=consolidated_dict)\n",
    "print(\"Material Matches:\")\n",
    "print(matches_dict)\n",
    "\n",
    "#HS.get_material_match_costs(matches_dict=matches_dict, consolidated_dict=consolidated_dict)\n",
    "\n",
    "\n",
    "# See TODO in get_material_matches() !!"
   ]
  },
  {
   "cell_type": "code",
   "execution_count": null,
   "metadata": {},
   "outputs": [],
   "source": [
    "mat_1_ids = [\"mp-1509\", \"mp-546266\", \"mp-12863\", \"mp-16290\"]\n",
    "mat_2_ids = [\"mp-12863\", \"mp-546266\",]\n",
    "mat_3_ids = [\"mp-546266\"]\n",
    "matches_dict = {'mat1': mat_1_ids, 'mat2': mat_2_ids, 'mat3': mat_3_ids}\n",
    "\n",
    "\n",
    "HS.get_material_match_costs(matches_dict=matches_dict, consolidated_dict=consolidated_dict)\n"
   ]
  },
  {
   "cell_type": "code",
   "execution_count": null,
   "metadata": {},
   "outputs": [],
   "source": []
  }
 ],
 "metadata": {
  "kernelspec": {
   "display_name": "carla_mp_api",
   "language": "python",
   "name": "python3"
  },
  "language_info": {
   "codemirror_mode": {
    "name": "ipython",
    "version": 3
   },
   "file_extension": ".py",
   "mimetype": "text/x-python",
   "name": "python",
   "nbconvert_exporter": "python",
   "pygments_lexer": "ipython3",
   "version": "3.9.18"
  }
 },
 "nbformat": 4,
 "nbformat_minor": 2
}
