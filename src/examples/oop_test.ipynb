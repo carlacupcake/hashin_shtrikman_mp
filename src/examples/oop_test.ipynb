{
 "cells": [
  {
   "cell_type": "markdown",
   "metadata": {},
   "source": [
    "## Testing the Object Oriented Paradigm"
   ]
  },
  {
   "cell_type": "code",
   "execution_count": null,
   "metadata": {},
   "outputs": [],
   "source": [
    "import sys    \n",
    "sys.path.insert(1, '../core')\n",
    "from user_input import MaterialProperty, Material, MixtureProperty, Mixture\n",
    "\n",
    "# Define properties for each material\n",
    "properties_mat_1 = [\n",
    "    MaterialProperty(prop='elec_cond_300k_low_doping', upper_bound=20, lower_bound=1),\n",
    "    MaterialProperty(prop='therm_cond_300k_low_doping', upper_bound=0.0001, lower_bound=1e-5),\n",
    "    MaterialProperty(prop='bulk_modulus', upper_bound=100, lower_bound=50),\n",
    "    MaterialProperty(prop='shear_modulus', upper_bound=100, lower_bound=80),\n",
    "    MaterialProperty(prop='universal_anisotropy', upper_bound=2, lower_bound=1),\n",
    "]\n",
    "\n",
    "properties_mat_2 = [\n",
    "    MaterialProperty(prop='elec_cond_300k_low_doping', upper_bound=5, lower_bound=2),\n",
    "    MaterialProperty(prop='therm_cond_300k_low_doping', upper_bound=0.009, lower_bound=1e-4),\n",
    "    MaterialProperty(prop='bulk_modulus', upper_bound=400, lower_bound=20),\n",
    "    MaterialProperty(prop='shear_modulus', upper_bound=200, lower_bound=100),\n",
    "    MaterialProperty(prop='universal_anisotropy', upper_bound=2.3, lower_bound=1.3),\n",
    "]\n",
    "\n",
    "properties_mat_3 = [\n",
    "    MaterialProperty(prop='elec_cond_300k_low_doping', upper_bound=10, lower_bound=1),\n",
    "    MaterialProperty(prop='therm_cond_300k_low_doping', upper_bound=0.005, lower_bound=1e-4),\n",
    "    MaterialProperty(prop='bulk_modulus', upper_bound=300, lower_bound=20),\n",
    "    MaterialProperty(prop='shear_modulus', upper_bound=300, lower_bound=100),\n",
    "    MaterialProperty(prop='universal_anisotropy', upper_bound=2.1, lower_bound=0.9),\n",
    "]\n",
    "\n",
    "# Define properties for the mixture\n",
    "properties_mixture = [\n",
    "    MixtureProperty(prop='elec_cond_300k_low_doping', desired_prop=9),\n",
    "    MixtureProperty(prop='therm_cond_300k_low_doping', desired_prop=0.007),\n",
    "    MixtureProperty(prop='bulk_modulus', desired_prop=234),\n",
    "    MixtureProperty(prop='shear_modulus', desired_prop=150),\n",
    "    MixtureProperty(prop='universal_anisotropy', desired_prop=1.5),\n",
    "]\n",
    "\n",
    "# Create Material & Mixture instances\n",
    "mat_1 = Material(name='mat_1', properties=properties_mat_1)\n",
    "mat_2 = Material(name='mat_2', properties=properties_mat_2)\n",
    "mat_3 = Material(name='mat_3', properties=properties_mat_3)\n",
    "mixture = Mixture(name='mixture', properties=properties_mixture)\n",
    "aggregate = [mat_1, mat_2, mat_3, mixture]\n",
    "\n",
    "user_input = {}\n",
    "for entity in aggregate:\n",
    "    entity_name = entity.name\n",
    "    properties = entity.properties\n",
    "    user_input[entity_name] = {}\n",
    "    for property in properties:  \n",
    "        property_name = property.prop\n",
    "        user_input[entity_name][property_name] = {}\n",
    "        if type(property) == MaterialProperty:\n",
    "            user_input[entity_name][property_name]['upper_bound'] = property.upper_bound  \n",
    "            user_input[entity_name][property_name]['lower_bound'] = property.lower_bound   \n",
    "        if type(property) == MixtureProperty:\n",
    "            user_input[entity_name][property_name]['desired_prop'] = property.desired_prop\n",
    " \n",
    "print(\"User Input: \", user_input)"
   ]
  },
  {
   "cell_type": "code",
   "execution_count": null,
   "metadata": {},
   "outputs": [],
   "source": [
    "from optimization import HashinShtrikman\n",
    "HS = HashinShtrikman(api_key=\"uJpFxJJGKCSp9s1shwg9HmDuNjCDfWbM\", user_input=user_input)\n",
    "\n",
    "print(\"Property categories: \", HS.property_categories)\n",
    "print(\"Property docs: \", HS.property_docs)\n",
    "\n",
    "print(\"Lower Bounds:\", HS.lower_bounds)\n",
    "print(\"Upper Bounds:\", HS.upper_bounds)\n",
    "\n",
    "print(\"Number of Materials:\", HS.num_materials)\n",
    "print(\"Number of Properties:\", HS.num_properties)"
   ]
  },
  {
   "cell_type": "code",
   "execution_count": null,
   "metadata": {},
   "outputs": [],
   "source": [
    "# Testing without calls to generate final dict (faster)\n",
    "import json\n",
    "consolidated_dict = {}\n",
    "with open(\"consolidated_dict_02_11_2024_23_45_58\") as f:\n",
    "    consolidated_dict = json.load(f)\n",
    "\n",
    "print(consolidated_dict)"
   ]
  },
  {
   "cell_type": "code",
   "execution_count": null,
   "metadata": {},
   "outputs": [],
   "source": [
    "# Testing with a subset of property categories\n",
    "HS.set_HS_optim_params()\n",
    "print(f'lowest costs: {HS.lowest_costs}')\n",
    "HS.print_table_of_best_designs()\n",
    "HS.plot_optimization_results()\n",
    "HS.get_material_matches()\n",
    "\n",
    "matches_dict = HS.get_material_matches(consolidated_dict=consolidated_dict)\n",
    "print(\"Material Matches:\")\n",
    "print(matches_dict)\n",
    "\n",
    "#HS.get_material_match_costs(matches_dict=matches_dict, consolidated_dict=consolidated_dict)\n",
    "\n",
    "\n",
    "# See TODO in get_material_matches() !!"
   ]
  },
  {
   "cell_type": "code",
   "execution_count": null,
   "metadata": {},
   "outputs": [],
   "source": [
    "mat_1_ids = [\"mp-1509\", \"mp-546266\", \"mp-12863\", \"mp-16290\"]\n",
    "mat_2_ids = [\"mp-12863\", \"mp-546266\",]\n",
    "mat_3_ids = [\"mp-546266\"]\n",
    "matches_dict = {'mat1': mat_1_ids, 'mat2': mat_2_ids, 'mat3': mat_3_ids}\n",
    "\n",
    "\n",
    "HS.get_material_match_costs(matches_dict=matches_dict, consolidated_dict=consolidated_dict)\n"
   ]
  },
  {
   "cell_type": "code",
   "execution_count": null,
   "metadata": {},
   "outputs": [],
   "source": []
  }
 ],
 "metadata": {
  "kernelspec": {
   "display_name": "carla_mp_api",
   "language": "python",
   "name": "python3"
  },
  "language_info": {
   "codemirror_mode": {
    "name": "ipython",
    "version": 3
   },
   "file_extension": ".py",
   "mimetype": "text/x-python",
   "name": "python",
   "nbconvert_exporter": "python",
   "pygments_lexer": "ipython3",
   "version": "3.9.18"
  }
 },
 "nbformat": 4,
 "nbformat_minor": 2
}
