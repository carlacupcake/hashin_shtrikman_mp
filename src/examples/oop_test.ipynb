{
 "cells": [
  {
   "cell_type": "markdown",
   "metadata": {},
   "source": [
    "## Testing the Object Oriented Paradigm"
   ]
  },
  {
   "cell_type": "code",
   "execution_count": 1,
   "metadata": {},
   "outputs": [
    {
     "name": "stdout",
     "output_type": "stream",
     "text": [
      "User Input:  {'mat_1': {'elec_cond_300k_low_doping': {'upper_bound': 20.0, 'lower_bound': 1.0}, 'therm_cond_300k_low_doping': {'upper_bound': 0.0001, 'lower_bound': 1e-05}, 'bulk_modulus': {'upper_bound': 100.0, 'lower_bound': 50.0}, 'shear_modulus': {'upper_bound': 100.0, 'lower_bound': 80.0}, 'universal_anisotropy': {'upper_bound': 2.0, 'lower_bound': 1.0}}, 'mat_2': {'elec_cond_300k_low_doping': {'upper_bound': 5.0, 'lower_bound': 2.0}, 'therm_cond_300k_low_doping': {'upper_bound': 0.009, 'lower_bound': 0.0001}, 'bulk_modulus': {'upper_bound': 400.0, 'lower_bound': 20.0}, 'shear_modulus': {'upper_bound': 200.0, 'lower_bound': 100.0}, 'universal_anisotropy': {'upper_bound': 2.3, 'lower_bound': 1.3}}, 'mat_3': {'elec_cond_300k_low_doping': {'upper_bound': 10.0, 'lower_bound': 1.0}, 'therm_cond_300k_low_doping': {'upper_bound': 0.005, 'lower_bound': 0.0001}, 'bulk_modulus': {'upper_bound': 300.0, 'lower_bound': 20.0}, 'shear_modulus': {'upper_bound': 300.0, 'lower_bound': 100.0}, 'universal_anisotropy': {'upper_bound': 2.1, 'lower_bound': 0.9}}, 'mixture': {'elec_cond_300k_low_doping': {'desired_prop': 9.0}, 'therm_cond_300k_low_doping': {'desired_prop': 0.007}, 'bulk_modulus': {'desired_prop': 234.0}, 'shear_modulus': {'desired_prop': 150.0}, 'universal_anisotropy': {'desired_prop': 1.5}}}\n"
     ]
    }
   ],
   "source": [
    "import sys    \n",
    "sys.path.insert(1, '../core')\n",
    "from user_input import MaterialProperty, Material, MixtureProperty, Mixture\n",
    "\n",
    "# Define properties for each material\n",
    "properties_mat_1 = [\n",
    "    MaterialProperty(prop='elec_cond_300k_low_doping', upper_bound=20, lower_bound=1),\n",
    "    MaterialProperty(prop='therm_cond_300k_low_doping', upper_bound=0.0001, lower_bound=1e-5),\n",
    "    MaterialProperty(prop='bulk_modulus', upper_bound=100, lower_bound=50),\n",
    "    MaterialProperty(prop='shear_modulus', upper_bound=100, lower_bound=80),\n",
    "    MaterialProperty(prop='universal_anisotropy', upper_bound=2, lower_bound=1),\n",
    "]\n",
    "\n",
    "properties_mat_2 = [\n",
    "    MaterialProperty(prop='elec_cond_300k_low_doping', upper_bound=5, lower_bound=2),\n",
    "    MaterialProperty(prop='therm_cond_300k_low_doping', upper_bound=0.009, lower_bound=1e-4),\n",
    "    MaterialProperty(prop='bulk_modulus', upper_bound=400, lower_bound=20),\n",
    "    MaterialProperty(prop='shear_modulus', upper_bound=200, lower_bound=100),\n",
    "    MaterialProperty(prop='universal_anisotropy', upper_bound=2.3, lower_bound=1.3),\n",
    "]\n",
    "\n",
    "properties_mat_3 = [\n",
    "    MaterialProperty(prop='elec_cond_300k_low_doping', upper_bound=10, lower_bound=1),\n",
    "    MaterialProperty(prop='therm_cond_300k_low_doping', upper_bound=0.005, lower_bound=1e-4),\n",
    "    MaterialProperty(prop='bulk_modulus', upper_bound=300, lower_bound=20),\n",
    "    MaterialProperty(prop='shear_modulus', upper_bound=300, lower_bound=100),\n",
    "    MaterialProperty(prop='universal_anisotropy', upper_bound=2.1, lower_bound=0.9),\n",
    "]\n",
    "\n",
    "# Define properties for the mixture\n",
    "properties_mixture = [\n",
    "    MixtureProperty(prop='elec_cond_300k_low_doping', desired_prop=9),\n",
    "    MixtureProperty(prop='therm_cond_300k_low_doping', desired_prop=0.007),\n",
    "    MixtureProperty(prop='bulk_modulus', desired_prop=234),\n",
    "    MixtureProperty(prop='shear_modulus', desired_prop=150),\n",
    "    MixtureProperty(prop='universal_anisotropy', desired_prop=1.5),\n",
    "]\n",
    "\n",
    "# Create Material & Mixture instances\n",
    "mat_1 = Material(name='mat_1', properties=properties_mat_1)\n",
    "mat_2 = Material(name='mat_2', properties=properties_mat_2)\n",
    "mat_3 = Material(name='mat_3', properties=properties_mat_3)\n",
    "mixture = Mixture(name='mixture', properties=properties_mixture)\n",
    "aggregate = [mat_1, mat_2, mat_3, mixture]\n",
    "\n",
    "user_input = {}\n",
    "for entity in aggregate:\n",
    "    entity_name = entity.name\n",
    "    properties = entity.properties\n",
    "    user_input[entity_name] = {}\n",
    "    for property in properties:  \n",
    "        property_name = property.prop\n",
    "        user_input[entity_name][property_name] = {}\n",
    "        if type(property) == MaterialProperty:\n",
    "            user_input[entity_name][property_name]['upper_bound'] = property.upper_bound  \n",
    "            user_input[entity_name][property_name]['lower_bound'] = property.lower_bound   \n",
    "        if type(property) == MixtureProperty:\n",
    "            user_input[entity_name][property_name]['desired_prop'] = property.desired_prop\n",
    " \n",
    "print(\"User Input: \", user_input)"
   ]
  },
  {
   "cell_type": "code",
   "execution_count": 2,
   "metadata": {},
   "outputs": [
    {
     "name": "stderr",
     "output_type": "stream",
     "text": [
      "/Users/carlabecker/opt/anaconda3/envs/carla_mp_api/lib/python3.9/site-packages/mpcontribs/client/__init__.py:88: FutureWarning: use_inf_as_na option is deprecated and will be removed in a future version. Convert inf values to NaN before operating instead.\n",
      "  pd.set_option('mode.use_inf_as_na', True)\n",
      "2024-05-01 12:47:21,718 - custom_logger - INFO - Loading property categories from /Users/carlabecker/Library/Mobile Documents/com~apple~CloudDocs/Carla's Desktop/UC Berkeley/Research/Materials Project/hashin_shtrikman_mp/src/core/../io/inputs/mp_property_docs.yaml.\n",
      "2024-05-01 12:47:21,724 - custom_logger - INFO - property_categories = ['carrier-transport', 'elastic']\n",
      "2024-05-01 12:47:21,731 - custom_logger - INFO - mixture_props = {'elec_cond_300k_low_doping': {'desired_prop': 9.0}, 'therm_cond_300k_low_doping': {'desired_prop': 0.007}, 'bulk_modulus': {'desired_prop': 234.0}, 'shear_modulus': {'desired_prop': 150.0}, 'universal_anisotropy': {'desired_prop': 1.5}}\n"
     ]
    },
    {
     "name": "stdout",
     "output_type": "stream",
     "text": [
      "Property categories:  ['carrier-transport', 'elastic']\n",
      "Property docs:  {'carrier-transport': {'elec_cond_300k_low_doping': None, 'therm_cond_300k_low_doping': None}, 'dielectric': {'e_electronic': None, 'e_ionic': None, 'e_total': None, 'n': None}, 'elastic': {'bulk_modulus': 'voigt', 'shear_modulus': 'voigt', 'universal_anisotropy': None}, 'magnetic': {'total_magnetization': None, 'total_magnetization_normalized_vol': None}, 'piezoelectric': {'e_ij_max': None}}\n",
      "Lower Bounds: {'mat_1': {'carrier-transport': [1.0, 1e-05], 'elastic': [50.0, 80.0, 1.0]}, 'mat_2': {'carrier-transport': [2.0, 0.0001], 'elastic': [20.0, 100.0, 1.3]}, 'mat_3': {'carrier-transport': [1.0, 0.0001], 'elastic': [20.0, 100.0, 0.9]}, 'volume-fractions': [0.01, 0.01, 0.01]}\n",
      "Upper Bounds: {'mat_1': {'carrier-transport': [20.0, 0.0001], 'elastic': [100.0, 100.0, 2.0]}, 'mat_2': {'carrier-transport': [5.0, 0.009], 'elastic': [400.0, 200.0, 2.3]}, 'mat_3': {'carrier-transport': [10.0, 0.005], 'elastic': [300.0, 300.0, 2.1]}, 'volume-fractions': [0.99, 0.99, 0.99]}\n",
      "Number of Materials: 3\n",
      "Number of Properties: 6\n"
     ]
    }
   ],
   "source": [
    "from optimization import HashinShtrikman\n",
    "HS = HashinShtrikman(api_key=\"uJpFxJJGKCSp9s1shwg9HmDuNjCDfWbM\", user_input=user_input)\n",
    "\n",
    "print(\"Property categories: \", HS.property_categories)\n",
    "print(\"Property docs: \", HS.property_docs)\n",
    "\n",
    "print(\"Lower Bounds:\", HS.lower_bounds)\n",
    "print(\"Upper Bounds:\", HS.upper_bounds)\n",
    "\n",
    "print(\"Number of Materials:\", HS.num_materials)\n",
    "print(\"Number of Properties:\", HS.num_properties)"
   ]
  },
  {
   "cell_type": "code",
   "execution_count": 3,
   "metadata": {},
   "outputs": [
    {
     "name": "stdout",
     "output_type": "stream",
     "text": [
      "{'material_id': ['mp-546266', 'mp-12863', 'mp-1509', 'mp-1029799', 'mp-16290'], 'is_stable': [True, False, True, True, False], 'band_gap': [1.3667999999999996, 0.0, 0.7774000000000001, 1.0132999999999996, 0.0], 'is_metal': [False, True, False, False, True], 'formula_pretty': ['DyBi2IO4', 'Ba(AlSi)2', 'Sn2S3', 'Sr4TiN4', 'ZnNi3C'], 'mp-ids-contrib': ['mp-546266', 'mp-12863', 'mp-1509', 'mp-22192', 'mp-16290'], 'elec_cond_300k_low_doping': [12.7262, 2642302.9999999995, 3.71323, 2.23963, 2548302.4], 'therm_cond_300k_low_doping': [7.1457e-05, 19.2792, 1.90284e-05, 3.3981e-05, 17.8791], 'bulk_modulus': [74.071, 46.928, 20.346, 73.379, 194.302], 'shear_modulus': [40.463, 23.063, 13.493, 36.558, 64.537], 'universal_anisotropy': [1.443, 24.189, 2.364, 0.956, 2.102]}\n"
     ]
    }
   ],
   "source": [
    "# Testing without calls to generate final dict (faster)\n",
    "import json\n",
    "consolidated_dict = {}\n",
    "with open(\"consolidated_dict_02_11_2024_23_45_58\") as f:\n",
    "    consolidated_dict = json.load(f)\n",
    "\n",
    "print(consolidated_dict)"
   ]
  },
  {
   "cell_type": "code",
   "execution_count": 4,
   "metadata": {},
   "outputs": [
    {
     "name": "stderr",
     "output_type": "stream",
     "text": [
      "Cannot perform optimization when for bulk modulus phase 1 > phase 2 and for shear modulus phase 2 > phase 1 or vice versa.\n"
     ]
    },
    {
     "name": "stdout",
     "output_type": "stream",
     "text": [
      "\u001b[0;31m---------------------------------------------------------------------------\u001b[0m\n",
      "\u001b[0;31mKeyboardInterrupt\u001b[0m                         Traceback (most recent call last)\n",
      "Cell \u001b[0;32mIn[4], line 2\u001b[0m\n",
      "\u001b[1;32m      1\u001b[0m \u001b[38;5;66;03m# Test with scipy.optimize.differential_evolution\u001b[39;00m\n",
      "\u001b[0;32m----> 2\u001b[0m optim_result \u001b[38;5;241m=\u001b[39m \u001b[43mHS\u001b[49m\u001b[38;5;241;43m.\u001b[39;49m\u001b[43mset_HS_optim_diff_evolution\u001b[49m\u001b[43m(\u001b[49m\u001b[43m)\u001b[49m\n",
      "\n",
      "File \u001b[0;32m~/Library/Mobile Documents/com~apple~CloudDocs/Carla's Desktop/UC Berkeley/Research/Materials Project/hashin_shtrikman_mp/src/examples/../core/optimization.py:544\u001b[0m, in \u001b[0;36mHashinShtrikman.set_HS_optim_diff_evolution\u001b[0;34m(self)\u001b[0m\n",
      "\u001b[1;32m    536\u001b[0m bounds \u001b[38;5;241m=\u001b[39m sciop\u001b[38;5;241m.\u001b[39mBounds(lb\u001b[38;5;241m=\u001b[39mlower_bounds_list, ub\u001b[38;5;241m=\u001b[39mupper_bounds_list)\n",
      "\u001b[1;32m    537\u001b[0m args \u001b[38;5;241m=\u001b[39m (\u001b[38;5;28mself\u001b[39m\u001b[38;5;241m.\u001b[39mnum_materials, \n",
      "\u001b[1;32m    538\u001b[0m         \u001b[38;5;28mself\u001b[39m\u001b[38;5;241m.\u001b[39mnum_properties, \n",
      "\u001b[1;32m    539\u001b[0m         \u001b[38;5;28mself\u001b[39m\u001b[38;5;241m.\u001b[39mproperty_categories, \n",
      "\u001b[1;32m    540\u001b[0m         \u001b[38;5;28mself\u001b[39m\u001b[38;5;241m.\u001b[39mproperty_docs, \n",
      "\u001b[1;32m    541\u001b[0m         \u001b[38;5;28mself\u001b[39m\u001b[38;5;241m.\u001b[39mdesired_props, \n",
      "\u001b[1;32m    542\u001b[0m         \u001b[38;5;28mself\u001b[39m\u001b[38;5;241m.\u001b[39mcalc_guide)\n",
      "\u001b[0;32m--> 544\u001b[0m optim_result \u001b[38;5;241m=\u001b[39m \u001b[43msciop\u001b[49m\u001b[38;5;241;43m.\u001b[39;49m\u001b[43mdifferential_evolution\u001b[49m\u001b[43m(\u001b[49m\n",
      "\u001b[1;32m    545\u001b[0m \u001b[43m    \u001b[49m\u001b[43mfunc\u001b[49m\u001b[38;5;241;43m=\u001b[39;49m\u001b[38;5;28;43mself\u001b[39;49m\u001b[38;5;241;43m.\u001b[39;49m\u001b[43mget_member_cost\u001b[49m\u001b[43m,\u001b[49m\n",
      "\u001b[1;32m    546\u001b[0m \u001b[43m    \u001b[49m\u001b[43margs\u001b[49m\u001b[38;5;241;43m=\u001b[39;49m\u001b[43margs\u001b[49m\u001b[43m,\u001b[49m\n",
      "\u001b[1;32m    547\u001b[0m \u001b[43m    \u001b[49m\u001b[43mbounds\u001b[49m\u001b[38;5;241;43m=\u001b[39;49m\u001b[43mbounds\u001b[49m\u001b[43m,\u001b[49m\n",
      "\u001b[1;32m    548\u001b[0m \u001b[43m    \u001b[49m\u001b[43mstrategy\u001b[49m\u001b[38;5;241;43m=\u001b[39;49m\u001b[38;5;124;43m'\u001b[39;49m\u001b[38;5;124;43mrand2exp\u001b[39;49m\u001b[38;5;124;43m'\u001b[39;49m\u001b[43m,\u001b[49m\u001b[43m \u001b[49m\n",
      "\u001b[1;32m    549\u001b[0m \u001b[43m    \u001b[49m\u001b[43mmaxiter\u001b[49m\u001b[38;5;241;43m=\u001b[39;49m\u001b[43mmaxiter\u001b[49m\u001b[43m,\u001b[49m\n",
      "\u001b[1;32m    550\u001b[0m \u001b[43m    \u001b[49m\u001b[43mpopsize\u001b[49m\u001b[38;5;241;43m=\u001b[39;49m\u001b[43mpopsize\u001b[49m\u001b[43m,\u001b[49m\n",
      "\u001b[1;32m    551\u001b[0m \u001b[43m    \u001b[49m\u001b[43mseed\u001b[49m\u001b[38;5;241;43m=\u001b[39;49m\u001b[38;5;241;43m1\u001b[39;49m\u001b[43m,\u001b[49m\n",
      "\u001b[1;32m    552\u001b[0m \u001b[43m    \u001b[49m\u001b[43mdisp\u001b[49m\u001b[38;5;241;43m=\u001b[39;49m\u001b[38;5;28;43;01mFalse\u001b[39;49;00m\u001b[43m,\u001b[49m\n",
      "\u001b[1;32m    553\u001b[0m \u001b[43m    \u001b[49m\u001b[43minit\u001b[49m\u001b[38;5;241;43m=\u001b[39;49m\u001b[38;5;124;43m'\u001b[39;49m\u001b[38;5;124;43mlatinhypercube\u001b[39;49m\u001b[38;5;124;43m'\u001b[39;49m\u001b[43m)\u001b[49m \u001b[38;5;66;03m#, workers=1, vectorized=False) \u001b[39;00m\n",
      "\u001b[1;32m    555\u001b[0m \u001b[38;5;28;01mreturn\u001b[39;00m optim_result\n",
      "\n",
      "File \u001b[0;32m~/opt/anaconda3/envs/carla_mp_api/lib/python3.9/site-packages/scipy/optimize/_differentialevolution.py:402\u001b[0m, in \u001b[0;36mdifferential_evolution\u001b[0;34m(func, bounds, args, strategy, maxiter, popsize, tol, mutation, recombination, seed, callback, disp, polish, init, atol, updating, workers, constraints, x0, integrality, vectorized)\u001b[0m\n",
      "\u001b[1;32m    385\u001b[0m \u001b[38;5;66;03m# using a context manager means that any created Pool objects are\u001b[39;00m\n",
      "\u001b[1;32m    386\u001b[0m \u001b[38;5;66;03m# cleared up.\u001b[39;00m\n",
      "\u001b[1;32m    387\u001b[0m \u001b[38;5;28;01mwith\u001b[39;00m DifferentialEvolutionSolver(func, bounds, args\u001b[38;5;241m=\u001b[39margs,\n",
      "\u001b[1;32m    388\u001b[0m                                  strategy\u001b[38;5;241m=\u001b[39mstrategy,\n",
      "\u001b[1;32m    389\u001b[0m                                  maxiter\u001b[38;5;241m=\u001b[39mmaxiter,\n",
      "\u001b[0;32m   (...)\u001b[0m\n",
      "\u001b[1;32m    400\u001b[0m                                  integrality\u001b[38;5;241m=\u001b[39mintegrality,\n",
      "\u001b[1;32m    401\u001b[0m                                  vectorized\u001b[38;5;241m=\u001b[39mvectorized) \u001b[38;5;28;01mas\u001b[39;00m solver:\n",
      "\u001b[0;32m--> 402\u001b[0m     ret \u001b[38;5;241m=\u001b[39m \u001b[43msolver\u001b[49m\u001b[38;5;241;43m.\u001b[39;49m\u001b[43msolve\u001b[49m\u001b[43m(\u001b[49m\u001b[43m)\u001b[49m\n",
      "\u001b[1;32m    404\u001b[0m \u001b[38;5;28;01mreturn\u001b[39;00m ret\n",
      "\n",
      "File \u001b[0;32m~/opt/anaconda3/envs/carla_mp_api/lib/python3.9/site-packages/scipy/optimize/_differentialevolution.py:1022\u001b[0m, in \u001b[0;36mDifferentialEvolutionSolver.solve\u001b[0;34m(self)\u001b[0m\n",
      "\u001b[1;32m   1019\u001b[0m \u001b[38;5;28;01mfor\u001b[39;00m nit \u001b[38;5;129;01min\u001b[39;00m \u001b[38;5;28mrange\u001b[39m(\u001b[38;5;241m1\u001b[39m, \u001b[38;5;28mself\u001b[39m\u001b[38;5;241m.\u001b[39mmaxiter \u001b[38;5;241m+\u001b[39m \u001b[38;5;241m1\u001b[39m):\n",
      "\u001b[1;32m   1020\u001b[0m     \u001b[38;5;66;03m# evolve the population by a generation\u001b[39;00m\n",
      "\u001b[1;32m   1021\u001b[0m     \u001b[38;5;28;01mtry\u001b[39;00m:\n",
      "\u001b[0;32m-> 1022\u001b[0m         \u001b[38;5;28;43mnext\u001b[39;49m\u001b[43m(\u001b[49m\u001b[38;5;28;43mself\u001b[39;49m\u001b[43m)\u001b[49m\n",
      "\u001b[1;32m   1023\u001b[0m     \u001b[38;5;28;01mexcept\u001b[39;00m \u001b[38;5;167;01mStopIteration\u001b[39;00m:\n",
      "\u001b[1;32m   1024\u001b[0m         warning_flag \u001b[38;5;241m=\u001b[39m \u001b[38;5;28;01mTrue\u001b[39;00m\n",
      "\n",
      "File \u001b[0;32m~/opt/anaconda3/envs/carla_mp_api/lib/python3.9/site-packages/scipy/optimize/_differentialevolution.py:1409\u001b[0m, in \u001b[0;36mDifferentialEvolutionSolver.__next__\u001b[0;34m(self)\u001b[0m\n",
      "\u001b[1;32m   1407\u001b[0m     feasible \u001b[38;5;241m=\u001b[39m \u001b[38;5;28;01mTrue\u001b[39;00m\n",
      "\u001b[1;32m   1408\u001b[0m     cv \u001b[38;5;241m=\u001b[39m np\u001b[38;5;241m.\u001b[39matleast_2d([\u001b[38;5;241m0.\u001b[39m])\n",
      "\u001b[0;32m-> 1409\u001b[0m     energy \u001b[38;5;241m=\u001b[39m \u001b[38;5;28;43mself\u001b[39;49m\u001b[38;5;241;43m.\u001b[39;49m\u001b[43mfunc\u001b[49m\u001b[43m(\u001b[49m\u001b[43mparameters\u001b[49m\u001b[43m)\u001b[49m\n",
      "\u001b[1;32m   1410\u001b[0m     \u001b[38;5;28mself\u001b[39m\u001b[38;5;241m.\u001b[39m_nfev \u001b[38;5;241m+\u001b[39m\u001b[38;5;241m=\u001b[39m \u001b[38;5;241m1\u001b[39m\n",
      "\u001b[1;32m   1412\u001b[0m \u001b[38;5;66;03m# compare trial and population member\u001b[39;00m\n",
      "\n",
      "File \u001b[0;32m~/opt/anaconda3/envs/carla_mp_api/lib/python3.9/site-packages/scipy/_lib/_util.py:360\u001b[0m, in \u001b[0;36m_FunctionWrapper.__call__\u001b[0;34m(self, x)\u001b[0m\n",
      "\u001b[1;32m    359\u001b[0m \u001b[38;5;28;01mdef\u001b[39;00m \u001b[38;5;21m__call__\u001b[39m(\u001b[38;5;28mself\u001b[39m, x):\n",
      "\u001b[0;32m--> 360\u001b[0m     \u001b[38;5;28;01mreturn\u001b[39;00m \u001b[38;5;28;43mself\u001b[39;49m\u001b[38;5;241;43m.\u001b[39;49m\u001b[43mf\u001b[49m\u001b[43m(\u001b[49m\u001b[43mx\u001b[49m\u001b[43m,\u001b[49m\u001b[43m \u001b[49m\u001b[38;5;241;43m*\u001b[39;49m\u001b[38;5;28;43mself\u001b[39;49m\u001b[38;5;241;43m.\u001b[39;49m\u001b[43margs\u001b[49m\u001b[43m)\u001b[49m\n",
      "\n",
      "File \u001b[0;32m~/Library/Mobile Documents/com~apple~CloudDocs/Carla's Desktop/UC Berkeley/Research/Materials Project/hashin_shtrikman_mp/src/examples/../core/optimization.py:510\u001b[0m, in \u001b[0;36mHashinShtrikman.get_member_cost\u001b[0;34m(values, *args)\u001b[0m\n",
      "\u001b[1;32m    501\u001b[0m ga_params \u001b[38;5;241m=\u001b[39m GAParams()\n",
      "\u001b[1;32m    502\u001b[0m member \u001b[38;5;241m=\u001b[39m Member(num_materials\u001b[38;5;241m=\u001b[39mnum_materials, \n",
      "\u001b[1;32m    503\u001b[0m                 num_properties\u001b[38;5;241m=\u001b[39mnum_properties,\n",
      "\u001b[1;32m    504\u001b[0m                 values\u001b[38;5;241m=\u001b[39mvalues, \n",
      "\u001b[0;32m   (...)\u001b[0m\n",
      "\u001b[1;32m    508\u001b[0m                 ga_params\u001b[38;5;241m=\u001b[39mga_params,\n",
      "\u001b[1;32m    509\u001b[0m                 calc_guide\u001b[38;5;241m=\u001b[39mcalc_guide)\n",
      "\u001b[0;32m--> 510\u001b[0m \u001b[38;5;28;01mreturn\u001b[39;00m \u001b[43mmember\u001b[49m\u001b[38;5;241;43m.\u001b[39;49m\u001b[43mget_cost\u001b[49m\u001b[43m(\u001b[49m\u001b[43m)\u001b[49m\n",
      "\n",
      "File \u001b[0;32m~/Library/Mobile Documents/com~apple~CloudDocs/Carla's Desktop/UC Berkeley/Research/Materials Project/hashin_shtrikman_mp/src/examples/../core/member.py:96\u001b[0m, in \u001b[0;36mMember.get_cost\u001b[0;34m(self)\u001b[0m\n",
      "\u001b[1;32m     94\u001b[0m \u001b[38;5;28;01melse\u001b[39;00m:\n",
      "\u001b[1;32m     95\u001b[0m     \u001b[38;5;28;01mfor\u001b[39;00m p \u001b[38;5;129;01min\u001b[39;00m \u001b[38;5;28mrange\u001b[39m(idx, idx \u001b[38;5;241m+\u001b[39m \u001b[38;5;28mlen\u001b[39m(\u001b[38;5;28mself\u001b[39m\u001b[38;5;241m.\u001b[39mproperty_docs[category])): \u001b[38;5;66;03m# loop through all properties in the category\u001b[39;00m\n",
      "\u001b[0;32m---> 96\u001b[0m         new_eff_props, new_cfs \u001b[38;5;241m=\u001b[39m \u001b[38;5;28;43mself\u001b[39;49m\u001b[38;5;241;43m.\u001b[39;49m\u001b[43mget_general_eff_prop_and_cfs\u001b[49m\u001b[43m(\u001b[49m\u001b[43midx\u001b[49m\u001b[38;5;241;43m=\u001b[39;49m\u001b[43mp\u001b[49m\u001b[43m)\u001b[49m\n",
      "\u001b[1;32m     97\u001b[0m         effective_properties\u001b[38;5;241m.\u001b[39mextend(new_eff_props)\n",
      "\u001b[1;32m     98\u001b[0m         concentration_factors\u001b[38;5;241m.\u001b[39mextend(new_cfs)\n",
      "\n",
      "File \u001b[0;32m~/Library/Mobile Documents/com~apple~CloudDocs/Carla's Desktop/UC Berkeley/Research/Materials Project/hashin_shtrikman_mp/src/examples/../core/member.py:205\u001b[0m, in \u001b[0;36mMember.get_general_eff_prop_and_cfs\u001b[0;34m(self, idx)\u001b[0m\n",
      "\u001b[1;32m    203\u001b[0m phase1 \u001b[38;5;241m=\u001b[39m np\u001b[38;5;241m.\u001b[39mmin(properties)\n",
      "\u001b[1;32m    204\u001b[0m phase2 \u001b[38;5;241m=\u001b[39m np\u001b[38;5;241m.\u001b[39mmax(properties)\n",
      "\u001b[0;32m--> 205\u001b[0m phase1_idx \u001b[38;5;241m=\u001b[39m \u001b[43mnp\u001b[49m\u001b[38;5;241;43m.\u001b[39;49m\u001b[43margmin\u001b[49m\u001b[43m(\u001b[49m\u001b[43mproperties\u001b[49m\u001b[43m)\u001b[49m \n",
      "\u001b[1;32m    206\u001b[0m phase2_idx \u001b[38;5;241m=\u001b[39m np\u001b[38;5;241m.\u001b[39margmax(properties)\n",
      "\u001b[1;32m    207\u001b[0m phase1_vol_frac \u001b[38;5;241m=\u001b[39m \u001b[38;5;28mself\u001b[39m\u001b[38;5;241m.\u001b[39mvalues[\u001b[38;5;241m-\u001b[39m\u001b[38;5;28mself\u001b[39m\u001b[38;5;241m.\u001b[39mnum_materials \u001b[38;5;241m+\u001b[39m phase1_idx]\n",
      "\n",
      "File \u001b[0;32m~/opt/anaconda3/envs/carla_mp_api/lib/python3.9/site-packages/numpy/core/fromnumeric.py:1325\u001b[0m, in \u001b[0;36margmin\u001b[0;34m(a, axis, out, keepdims)\u001b[0m\n",
      "\u001b[1;32m   1238\u001b[0m \u001b[38;5;250m\u001b[39m\u001b[38;5;124;03m\"\"\"\u001b[39;00m\n",
      "\u001b[1;32m   1239\u001b[0m \u001b[38;5;124;03mReturns the indices of the minimum values along an axis.\u001b[39;00m\n",
      "\u001b[1;32m   1240\u001b[0m \n",
      "\u001b[0;32m   (...)\u001b[0m\n",
      "\u001b[1;32m   1322\u001b[0m \u001b[38;5;124;03m(2, 1, 4)\u001b[39;00m\n",
      "\u001b[1;32m   1323\u001b[0m \u001b[38;5;124;03m\"\"\"\u001b[39;00m\n",
      "\u001b[1;32m   1324\u001b[0m kwds \u001b[38;5;241m=\u001b[39m {\u001b[38;5;124m'\u001b[39m\u001b[38;5;124mkeepdims\u001b[39m\u001b[38;5;124m'\u001b[39m: keepdims} \u001b[38;5;28;01mif\u001b[39;00m keepdims \u001b[38;5;129;01mis\u001b[39;00m \u001b[38;5;129;01mnot\u001b[39;00m np\u001b[38;5;241m.\u001b[39m_NoValue \u001b[38;5;28;01melse\u001b[39;00m {}\n",
      "\u001b[0;32m-> 1325\u001b[0m \u001b[38;5;28;01mreturn\u001b[39;00m \u001b[43m_wrapfunc\u001b[49m\u001b[43m(\u001b[49m\u001b[43ma\u001b[49m\u001b[43m,\u001b[49m\u001b[43m \u001b[49m\u001b[38;5;124;43m'\u001b[39;49m\u001b[38;5;124;43margmin\u001b[39;49m\u001b[38;5;124;43m'\u001b[39;49m\u001b[43m,\u001b[49m\u001b[43m \u001b[49m\u001b[43maxis\u001b[49m\u001b[38;5;241;43m=\u001b[39;49m\u001b[43maxis\u001b[49m\u001b[43m,\u001b[49m\u001b[43m \u001b[49m\u001b[43mout\u001b[49m\u001b[38;5;241;43m=\u001b[39;49m\u001b[43mout\u001b[49m\u001b[43m,\u001b[49m\u001b[43m \u001b[49m\u001b[38;5;241;43m*\u001b[39;49m\u001b[38;5;241;43m*\u001b[39;49m\u001b[43mkwds\u001b[49m\u001b[43m)\u001b[49m\n",
      "\n",
      "\u001b[0;31mKeyboardInterrupt\u001b[0m: \n"
     ]
    }
   ],
   "source": [
    "# Test with scipy.optimize.differential_evolution\n",
    "optim_result = HS.set_HS_optim_diff_evolution()"
   ]
  },
  {
   "cell_type": "code",
   "execution_count": null,
   "metadata": {},
   "outputs": [],
   "source": [
    "# Look at differential evolution result\n",
    "best_designs_dict = {'mat1': {'carrier-transport': {'elec_cond_300k_low_doping': [optim_result.x[0]],  'therm_cond_300k_low_doping': [optim_result.x[1]]},  'elastic': {'bulk_modulus': [optim_result.x[2]],  'shear_modulus': [optim_result.x[3]],  'universal_anisotropy': [optim_result.x[4]]}},\n",
    "                     'mat2': {'carrier-transport': {'elec_cond_300k_low_doping': [optim_result.x[5]],  'therm_cond_300k_low_doping': [optim_result.x[6]]},  'elastic': {'bulk_modulus': [optim_result.x[7]],  'shear_modulus': [optim_result.x[8]],  'universal_anisotropy': [optim_result.x[9]]}},\n",
    "                     'mat3': {'carrier-transport': {'elec_cond_300k_low_doping': [optim_result.x[10]], 'therm_cond_300k_low_doping': [optim_result.x[11]]}, 'elastic': {'bulk_modulus': [optim_result.x[12]], 'shear_modulus': [optim_result.x[13]], 'universal_anisotropy': [optim_result.x[14]]}}}\n",
    "\n",
    "HS.get_material_matches_diff_evolution(best_designs_dict, consolidated_dict=consolidated_dict)"
   ]
  },
  {
   "cell_type": "code",
   "execution_count": null,
   "metadata": {},
   "outputs": [],
   "source": [
    "# Testing with a subset of property categories\n",
    "HS.set_HS_optim_params()\n",
    "print(f'lowest costs: {HS.lowest_costs}')\n",
    "HS.print_table_of_best_designs()\n",
    "HS.plot_optimization_results()\n",
    "HS.get_material_matches()\n",
    "\n",
    "matches_dict = HS.get_material_matches(consolidated_dict=consolidated_dict)\n",
    "print(\"Material Matches:\")\n",
    "print(matches_dict)\n",
    "\n",
    "#HS.get_material_match_costs(matches_dict=matches_dict, consolidated_dict=consolidated_dict)\n",
    "\n",
    "\n",
    "# See TODO in get_material_matches() !!"
   ]
  },
  {
   "cell_type": "code",
   "execution_count": null,
   "metadata": {},
   "outputs": [],
   "source": [
    "mat_1_ids = [\"mp-1509\", \"mp-546266\", \"mp-12863\", \"mp-16290\"]\n",
    "mat_2_ids = [\"mp-12863\", \"mp-546266\",]\n",
    "mat_3_ids = [\"mp-546266\"]\n",
    "matches_dict = {'mat1': mat_1_ids, 'mat2': mat_2_ids, 'mat3': mat_3_ids}\n",
    "\n",
    "\n",
    "HS.get_material_match_costs(matches_dict=matches_dict, consolidated_dict=consolidated_dict)\n"
   ]
  },
  {
   "cell_type": "code",
   "execution_count": null,
   "metadata": {},
   "outputs": [],
   "source": []
  }
 ],
 "metadata": {
  "kernelspec": {
   "display_name": "carla_mp_api",
   "language": "python",
   "name": "python3"
  },
  "language_info": {
   "codemirror_mode": {
    "name": "ipython",
    "version": 3
   },
   "file_extension": ".py",
   "mimetype": "text/x-python",
   "name": "python",
   "nbconvert_exporter": "python",
   "pygments_lexer": "ipython3",
   "version": "3.9.18"
  }
 },
 "nbformat": 4,
 "nbformat_minor": 2
}
