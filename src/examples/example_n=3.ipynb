{
 "cells": [
  {
   "cell_type": "markdown",
   "metadata": {},
   "source": [
    "## Testing the Composites Discovery App with n=3 phases"
   ]
  },
  {
   "cell_type": "code",
   "execution_count": 1,
   "metadata": {},
   "outputs": [
    {
     "name": "stdout",
     "output_type": "stream",
     "text": [
      "User Input:  {'mat_1': {'elec_cond_300k_low_doping': {'upper_bound': 20.0, 'lower_bound': 6.0}, 'therm_cond_300k_low_doping': {'upper_bound': 0.0001, 'lower_bound': 1e-05}, 'bulk_modulus': {'upper_bound': 100.0, 'lower_bound': 50.0}, 'shear_modulus': {'upper_bound': 100.0, 'lower_bound': 80.0}, 'universal_anisotropy': {'upper_bound': 2.0, 'lower_bound': 1.0}}, 'mat_2': {'elec_cond_300k_low_doping': {'upper_bound': 5.0, 'lower_bound': 2.0}, 'therm_cond_300k_low_doping': {'upper_bound': 0.009, 'lower_bound': 0.0001}, 'bulk_modulus': {'upper_bound': 400.0, 'lower_bound': 20.0}, 'shear_modulus': {'upper_bound': 200.0, 'lower_bound': 100.0}, 'universal_anisotropy': {'upper_bound': 2.0, 'lower_bound': 1.3}}, 'mat_3': {'elec_cond_300k_low_doping': {'upper_bound': 10.0, 'lower_bound': 1.0}, 'therm_cond_300k_low_doping': {'upper_bound': 0.005, 'lower_bound': 0.0001}, 'bulk_modulus': {'upper_bound': 300.0, 'lower_bound': 20.0}, 'shear_modulus': {'upper_bound': 300.0, 'lower_bound': 100.0}, 'universal_anisotropy': {'upper_bound': 2.0, 'lower_bound': 1.0}}, 'mixture': {'elec_cond_300k_low_doping': {'desired_prop': 9.0}, 'therm_cond_300k_low_doping': {'desired_prop': 0.007}, 'bulk_modulus': {'desired_prop': 234.0}, 'shear_modulus': {'desired_prop': 150.0}, 'universal_anisotropy': {'desired_prop': 1.5}}}\n",
      "Overall Upper & Lower Bounds:\n",
      "Property: elec_cond_300k_low_doping, Upper Bound: 20.0, Lower Bound: 1.0\n",
      "Property: therm_cond_300k_low_doping, Upper Bound: 0.009, Lower Bound: 1e-05\n",
      "Property: bulk_modulus, Upper Bound: 400.0, Lower Bound: 20.0\n",
      "Property: shear_modulus, Upper Bound: 300.0, Lower Bound: 80.0\n",
      "Property: universal_anisotropy, Upper Bound: 2.0, Lower Bound: 1.0\n",
      "{'elec_cond_300k_low_doping': {'upper_bound': 20.0, 'lower_bound': 1.0}, 'therm_cond_300k_low_doping': {'upper_bound': 0.009, 'lower_bound': 1e-05}, 'bulk_modulus': {'upper_bound': 400.0, 'lower_bound': 20.0}, 'shear_modulus': {'upper_bound': 300.0, 'lower_bound': 80.0}, 'universal_anisotropy': {'upper_bound': 2.0, 'lower_bound': 1.0}}\n"
     ]
    }
   ],
   "source": [
    "import sys  \n",
    "sys.path.insert(1, '../core')\n",
    "from user_input import MaterialProperty, Material, MixtureProperty, Mixture, UserInput\n",
    "\n",
    "from user_input import MaterialProperty, Material, MixtureProperty, Mixture\n",
    "# Define properties for each material\n",
    "properties_mat_1 = [\n",
    "    MaterialProperty(prop='elec_cond_300k_low_doping', upper_bound=20, lower_bound=6),\n",
    "    MaterialProperty(prop='therm_cond_300k_low_doping', upper_bound=0.0001, lower_bound=1e-5),\n",
    "    MaterialProperty(prop='bulk_modulus', upper_bound=100, lower_bound=50),\n",
    "    MaterialProperty(prop='shear_modulus', upper_bound=100, lower_bound=80),\n",
    "    MaterialProperty(prop='universal_anisotropy', upper_bound=2, lower_bound=1),\n",
    "]\n",
    "\n",
    "properties_mat_2 = [\n",
    "    MaterialProperty(prop='elec_cond_300k_low_doping', upper_bound=5, lower_bound=2),\n",
    "    MaterialProperty(prop='therm_cond_300k_low_doping', upper_bound=0.009, lower_bound=1e-4),\n",
    "    MaterialProperty(prop='bulk_modulus', upper_bound=400, lower_bound=20),\n",
    "    MaterialProperty(prop='shear_modulus', upper_bound=200, lower_bound=100),\n",
    "    MaterialProperty(prop='universal_anisotropy', upper_bound=2, lower_bound=1.3), # changed from 2.3\n",
    "]\n",
    "\n",
    "properties_mat_3 = [\n",
    "    MaterialProperty(prop='elec_cond_300k_low_doping', upper_bound=10, lower_bound=1),\n",
    "    MaterialProperty(prop='therm_cond_300k_low_doping', upper_bound=0.005, lower_bound=1e-4),\n",
    "    MaterialProperty(prop='bulk_modulus', upper_bound=300, lower_bound=20),\n",
    "    MaterialProperty(prop='shear_modulus', upper_bound=300, lower_bound=100),\n",
    "    MaterialProperty(prop='universal_anisotropy', upper_bound=2, lower_bound=1), # changed from 2.1, 0.9\n",
    "]\n",
    "\n",
    "# Define properties for the mixture\n",
    "properties_mixture = [\n",
    "    MixtureProperty(prop='elec_cond_300k_low_doping', desired_prop=9),\n",
    "    MixtureProperty(prop='therm_cond_300k_low_doping', desired_prop=0.007),\n",
    "    MixtureProperty(prop='bulk_modulus', desired_prop=234),\n",
    "    MixtureProperty(prop='shear_modulus', desired_prop=150),\n",
    "    MixtureProperty(prop='universal_anisotropy', desired_prop=1.5),\n",
    "]\n",
    "\n",
    "# Create Material & Mixture instances\n",
    "mat_1 = Material(name='mat_1', properties=properties_mat_1)\n",
    "mat_2 = Material(name='mat_2', properties=properties_mat_2)\n",
    "mat_3 = Material(name='mat_3', properties=properties_mat_3)\n",
    "mixture = Mixture(name='mixture', properties=properties_mixture)\n",
    "\n",
    "user_input = {}\n",
    "for entity in aggregate:\n",
    "    entity_name = entity.name\n",
    "    properties = entity.properties\n",
    "    user_input[entity_name] = {}\n",
    "    for property in properties:  \n",
    "        property_name = property.prop\n",
    "        user_input[entity_name][property_name] = {}\n",
    "        if type(property) == MaterialProperty:\n",
    "            user_input[entity_name][property_name]['upper_bound'] = property.upper_bound  \n",
    "            user_input[entity_name][property_name]['lower_bound'] = property.lower_bound   \n",
    "        if type(property) == MixtureProperty:\n",
    "            user_input[entity_name][property_name]['desired_prop'] = property.desired_prop\n",
    " \n",
    "print(\"User Input: \", user_input)\n",
    "\n",
    "\n",
    "# Initialize dictionaries to store the overall upper and lower bounds for each property\n",
    "overall_bounds = {}\n",
    "\n",
    "# Iterate over materials\n",
    "for entity in aggregate:\n",
    "    # Skip the mixture as it doesn't have upper and lower bounds\n",
    "    if isinstance(entity, Material):\n",
    "        for property in entity.properties:\n",
    "            prop_name = property.prop\n",
    "\n",
    "            # Initialize the overall bounds if they are not already present for the property\n",
    "            if prop_name not in overall_bounds:\n",
    "                overall_bounds[prop_name] = {'upper_bound': property.upper_bound, 'lower_bound': property.lower_bound}\n",
    "            else:\n",
    "                # Update overall upper and lower bounds by comparing with existing values\n",
    "                overall_bounds[prop_name]['upper_bound'] = max(overall_bounds[prop_name]['upper_bound'], property.upper_bound)\n",
    "                overall_bounds[prop_name]['lower_bound'] = min(overall_bounds[prop_name]['lower_bound'], property.lower_bound)\n",
    "\n",
    "# Print the overall bounds for each property\n",
    "print(\"Overall Upper & Lower Bounds:\")\n",
    "for prop, bounds in overall_bounds.items():\n",
    "    print(f\"Property: {prop}, Upper Bound: {bounds['upper_bound']}, Lower Bound: {bounds['lower_bound']}\")\n",
    "\n",
    "\n",
    "# Step 1: Create the consolidated_dict\n",
    "overall_bounds_dict = {}\n",
    "for prop, bounds in overall_bounds.items():\n",
    "    overall_bounds_dict[prop] = {\n",
    "        'upper_bound': bounds['upper_bound'],\n",
    "        'lower_bound': bounds['lower_bound']\n",
    "    }\n",
    "\n",
    "print(overall_bounds_dict)"
   ]
  },
  {
   "cell_type": "code",
   "execution_count": 2,
   "metadata": {},
   "outputs": [
    {
     "name": "stderr",
     "output_type": "stream",
     "text": [
      "/Users/HPSahasrabuddhe/opt/miniconda3/envs/alab_one/lib/python3.9/site-packages/paramiko/transport.py:219: CryptographyDeprecationWarning: Blowfish has been deprecated\n",
      "  \"class\": algorithms.Blowfish,\n",
      "/Users/HPSahasrabuddhe/opt/miniconda3/envs/alab_one/lib/python3.9/site-packages/pandas/core/computation/expressions.py:21: UserWarning: Pandas requires version '2.8.4' or newer of 'numexpr' (version '2.8.3' currently installed).\n",
      "  from pandas.core.computation.check import NUMEXPR_INSTALLED\n",
      "/Users/HPSahasrabuddhe/opt/miniconda3/envs/alab_one/lib/python3.9/site-packages/pandas/core/arrays/masked.py:60: UserWarning: Pandas requires version '1.3.6' or newer of 'bottleneck' (version '1.3.5' currently installed).\n",
      "  from pandas.core import (\n",
      "/Users/HPSahasrabuddhe/opt/miniconda3/lib/python3.9/site-packages/mpcontribs/client/__init__.py:88: FutureWarning: use_inf_as_na option is deprecated and will be removed in a future version. Convert inf values to NaN before operating instead.\n",
      "  pd.set_option('mode.use_inf_as_na', True)\n",
      "2024-09-24 16:23:14,276 - custom_logger - INFO - Loading property categories from /Users/HPSahasrabuddhe/code/hashin_shtrikman_mp/src/core/../io/inputs/mp_property_docs.yaml.\n",
      "2024-09-24 16:23:14,279 - custom_logger - INFO - property_categories = ['carrier-transport', 'elastic']\n",
      "2024-09-24 16:23:14,279 - custom_logger - INFO - mixture_props = {'elec_cond_300k_low_doping': {'desired_prop': 9.0}, 'therm_cond_300k_low_doping': {'desired_prop': 0.007}, 'bulk_modulus': {'desired_prop': 234.0}, 'shear_modulus': {'desired_prop': 150.0}, 'universal_anisotropy': {'desired_prop': 1.5}}\n"
     ]
    },
    {
     "name": "stdout",
     "output_type": "stream",
     "text": [
      "self.nuild_dict: <bound method UserInput.build_dict of {'mat_1': {'elec_cond_300k_low_doping': {'upper_bound': 20.0, 'lower_bound': 1.0}, 'therm_cond_300k_low_doping': {'upper_bound': 0.0001, 'lower_bound': 1e-05}, 'bulk_modulus': {'upper_bound': 100.0, 'lower_bound': 50.0}, 'shear_modulus': {'upper_bound': 100.0, 'lower_bound': 80.0}, 'universal_anisotropy': {'upper_bound': 2.0, 'lower_bound': 1.0}}, 'mat_2': {'elec_cond_300k_low_doping': {'upper_bound': 5.0, 'lower_bound': 2.0}, 'therm_cond_300k_low_doping': {'upper_bound': 0.009, 'lower_bound': 0.0001}, 'bulk_modulus': {'upper_bound': 400.0, 'lower_bound': 20.0}, 'shear_modulus': {'upper_bound': 200.0, 'lower_bound': 100.0}, 'universal_anisotropy': {'upper_bound': 2.3, 'lower_bound': 1.3}}, 'mat_3': {'elec_cond_300k_low_doping': {'upper_bound': 10.0, 'lower_bound': 1.0}, 'therm_cond_300k_low_doping': {'upper_bound': 0.005, 'lower_bound': 0.0001}, 'bulk_modulus': {'upper_bound': 300.0, 'lower_bound': 20.0}, 'shear_modulus': {'upper_bound': 300.0, 'lower_bound': 100.0}, 'universal_anisotropy': {'upper_bound': 2.1, 'lower_bound': 0.9}}, 'mixture': {'elec_cond_300k_low_doping': {'desired_prop': 9.0}, 'therm_cond_300k_low_doping': {'desired_prop': 0.007}, 'bulk_modulus': {'desired_prop': 234.0}, 'shear_modulus': {'desired_prop': 150.0}, 'universal_anisotropy': {'desired_prop': 1.5}}}>\n",
      "Property categories:  ['carrier-transport', 'elastic']\n",
      "Property docs:  {'carrier-transport': {'elec_cond_300k_low_doping': None, 'therm_cond_300k_low_doping': None}, 'dielectric': {'e_electronic': None, 'e_ionic': None, 'e_total': None, 'n': None}, 'elastic': {'bulk_modulus': 'voigt', 'shear_modulus': 'voigt', 'universal_anisotropy': None}, 'magnetic': {'total_magnetization': None, 'total_magnetization_normalized_vol': None}, 'piezoelectric': {'e_ij_max': None}}\n",
      "Lower Bounds: {'mat_1': {'carrier-transport': [6.0, 1e-05], 'elastic': [50.0, 80.0, 1.0]}, 'mat_2': {'carrier-transport': [2.0, 0.0001], 'elastic': [20.0, 100.0, 1.3]}, 'mat_3': {'carrier-transport': [1.0, 0.0001], 'elastic': [20.0, 100.0, 1.0]}, 'volume-fractions': [0.01, 0.01, 0.01]}\n",
      "Upper Bounds: {'mat_1': {'carrier-transport': [20.0, 0.0001], 'elastic': [100.0, 100.0, 2.0]}, 'mat_2': {'carrier-transport': [5.0, 0.009], 'elastic': [400.0, 200.0, 2.0]}, 'mat_3': {'carrier-transport': [10.0, 0.005], 'elastic': [300.0, 300.0, 2.0]}, 'volume-fractions': [0.99, 0.99, 0.99]}\n",
      "Number of Materials: 3\n",
      "Number of Properties: 6\n"
     ]
    }
   ],
   "source": [
    "from optimization import HashinShtrikman\n",
    "HS = HashinShtrikman(api_key=\"uJpFxJJGKCSp9s1shwg9HmDuNjCDfWbM\", user_input=user_input)\n",
    "\n",
    "print(\"Property categories: \", HS.property_categories)\n",
    "print(\"Property docs: \", HS.property_docs)\n",
    "\n",
    "print(\"Lower Bounds:\", HS.lower_bounds)\n",
    "print(\"Upper Bounds:\", HS.upper_bounds)\n",
    "\n",
    "print(\"Number of Materials:\", HS.num_materials)\n",
    "print(\"Number of Properties:\", HS.num_properties)"
   ]
  },
  {
   "cell_type": "code",
   "execution_count": null,
   "metadata": {},
   "outputs": [],
   "source": [
    "# Testing without calls to generate final dict (faster)\n",
    "import json\n",
    "consolidated_dict = {}\n",
    "with open(\"consolidated_dict_02_11_2024_23_45_58\") as f:\n",
    "    consolidated_dict = json.load(f)\n",
    "print(consolidated_dict)"
   ]
  },
  {
   "cell_type": "code",
   "execution_count": 3,
   "metadata": {},
   "outputs": [],
   "source": [
    "# Run the optimization to obtain n=3 materials and their volume fractions that achieve the desired composite material properties\n",
    "HS.set_HS_optim_params(gen_counter=False)"
   ]
  },
  {
   "cell_type": "code",
   "execution_count": 4,
   "metadata": {},
   "outputs": [
    {
     "data": {
      "application/vnd.plotly.v1+json": {
       "config": {
        "plotlyServerURL": "https://plot.ly"
       },
       "data": [
        {
         "cells": {
          "align": "left",
          "fill": {
           "color": [
            [
             "white",
             "lightgrey",
             "white",
             "lightgrey",
             "white",
             "lightgrey",
             "white",
             "lightgrey",
             "white",
             "lightgrey"
            ]
           ]
          },
          "font": {
           "size": 12
          },
          "height": 30,
          "values": [
           [
            16.369354884981238,
            14.818409862384064,
            13.123253102365698,
            14.512061615289936,
            15.024475136293926,
            8.00026011758734,
            15.647957182515091,
            15.840188730508508,
            7.577487919998745,
            16.536306204062143
           ],
           [
            0.0000526289674730174,
            0.00003823653408210497,
            0.00005375099434193369,
            0.000046742263506544954,
            0.00003166757087863548,
            0.00009847901097650131,
            0.00008583003347882198,
            0.00007975351379281746,
            0.00005350348412486023,
            0.0000378310288640764
           ],
           [
            66.43070103385195,
            88.45232094485192,
            84.12489716075964,
            62.261873282097426,
            98.50888980427857,
            96.86338885803491,
            52.69127007552998,
            86.55280835938211,
            80.81167096427461,
            62.477427505713855
           ],
           [
            86.24565609595001,
            98.96803993357152,
            89.43795972211853,
            81.7541239771057,
            80.31470187613382,
            88.30994847072739,
            86.84458155985486,
            88.9027136739586,
            93.00959991238798,
            98.21399508482548
           ],
           [
            1.7248683748280502,
            1.8660987534304674,
            1.7681066169603659,
            1.8620544743526877,
            1.2532060654595674,
            1.8935510548336238,
            1.8872730886388944,
            1.5612858259297275,
            1.862592436937936,
            1.3105608350134643
           ],
           [
            3.961603221478248,
            2.466691032354926,
            4.426518084775963,
            4.1469080874900195,
            2.1808570868506467,
            4.688179137311428,
            3.8173362644599598,
            2.833344708298049,
            2.4783066103841915,
            4.174451072015397
           ],
           [
            0.007935581734919489,
            0.008527095411048131,
            0.008258775025677186,
            0.00809661786806451,
            0.004881217519382277,
            0.0063415850030493085,
            0.005983546091487637,
            0.006500707579634693,
            0.007274661813372361,
            0.0036237634501495725
           ],
           [
            347.8302191769636,
            339.2845392350548,
            323.78847900197246,
            368.0934900411954,
            361.5618243705619,
            252.0281217656138,
            289.14455331275207,
            52.21846281995633,
            301.59916196950746,
            318.4162594401787
           ],
           [
            147.4640752684386,
            142.41602098169727,
            174.83694427546578,
            134.2284589591772,
            152.06437955359712,
            131.8972501970577,
            162.97736211812273,
            125.33631211940627,
            107.38584210549482,
            154.02584667417096
           ],
           [
            1.3707521381408778,
            1.4395334974869414,
            1.6941101054684151,
            1.446072419169071,
            1.7180914860825198,
            1.507175693551672,
            1.6067927507401998,
            1.377523201060098,
            1.7370849805476771,
            1.8715825651299642
           ],
           [
            8.301616794436418,
            5.629000589145924,
            6.260518460362012,
            2.9599556298556458,
            8.36960110852484,
            3.939779553689442,
            1.7951295715941695,
            1.6757771430298014,
            1.0783023683764212,
            6.828521282695358
           ],
           [
            0.0025235351773018957,
            0.004770229719022732,
            0.0002607051087926053,
            0.004708677024290339,
            0.0010627321757935306,
            0.0012887265328446573,
            0.0031146236906961157,
            0.000660924788933817,
            0.0048175623716652,
            0.00339845351546973
           ],
           [
            111.85013488721935,
            178.89835170236861,
            83.03659386798977,
            291.46153112862737,
            217.2848569206532,
            180.08500166657075,
            20.48720085174404,
            253.24073373381663,
            269.7884537422177,
            54.34464272624478
           ],
           [
            232.13947125831749,
            269.3914323314352,
            106.80091496553148,
            242.66285608084075,
            230.47415317419376,
            192.06551772183096,
            226.66591513084018,
            120.31312825872465,
            164.62702292635157,
            185.26216139276212
           ],
           [
            1.4682487848517298,
            1.6199713180408717,
            1.7585284614241685,
            1.246870966838658,
            1.5094937587554935,
            1.5231815873731278,
            1.7724682617245342,
            1.692997100790139,
            1.084040893948995,
            1.860843940514274
           ],
           [
            0.23198957216149568,
            0.11936743458103759,
            0.3969897734089225,
            0.3941730566851345,
            0.21872445993209566,
            0.3475309800288024,
            0.3924398357196335,
            0.1751249036917755,
            0.30230529902372943,
            0.1851698190600565
           ],
           [
            0.7107191410415126,
            0.8707396410984753,
            0.3289760053306355,
            0.26023190231456134,
            0.5731306692625459,
            0.36979587611509473,
            0.4223560253593099,
            0.5015994111519414,
            0.5032803887415385,
            0.7795066101327385
           ],
           [
            0.05729128679699172,
            0.009892924320487051,
            0.2740342212604421,
            0.34559504100030414,
            0.20814487080535848,
            0.28267314385610287,
            0.18520413892105658,
            0.32327568515628313,
            0.19441431223473216,
            0.03532357080720505
           ],
           [
            15.915,
            20.918,
            24.348,
            25.17,
            27.956,
            29.189,
            29.522,
            32.414,
            32.727,
            33.154
           ]
          ]
         },
         "columnwidth": 1000,
         "header": {
          "align": "left",
          "fill": {
           "color": "lavender"
          },
          "font": {
           "size": 12
          },
          "height": 30,
          "values": [
           "Phase 1 Electrical conductivity, [S/m]",
           "Phase 2 Electrical conductivity, [S/m]",
           "Phase 3 Electrical conductivity, [S/m]",
           "Phase 1 Thermal conductivity, [W/m/K]",
           "Phase 2 Thermal conductivity, [W/m/K]",
           "Phase 3 Thermal conductivity, [W/m/K]",
           "Phase 1 Bulk modulus, [GPa]",
           "Phase 2 Bulk modulus, [GPa]",
           "Phase 3 Bulk modulus, [GPa]",
           "Phase 1 Shear modulus, [GPa]",
           "Phase 2 Shear modulus, [GPa]",
           "Phase 3 Shear modulus, [GPa]",
           "Phase 1 Universal anisotropy, []",
           "Phase 2 Universal anisotropy, []",
           "Phase 3 Universal anisotropy, []",
           "Phase 1 Volume Fraction",
           "Phase 2 Volume Fraction",
           "Phase 3 Volume Fraction",
           "cost"
          ]
         },
         "type": "table"
        }
       ],
       "layout": {
        "autosize": true,
        "height": 400,
        "margin": {
         "b": 0,
         "l": 0,
         "r": 0,
         "t": 40
        },
        "template": {
         "data": {
          "bar": [
           {
            "error_x": {
             "color": "rgb(36,36,36)"
            },
            "error_y": {
             "color": "rgb(36,36,36)"
            },
            "marker": {
             "line": {
              "color": "white",
              "width": 0.5
             },
             "pattern": {
              "fillmode": "overlay",
              "size": 10,
              "solidity": 0.2
             }
            },
            "type": "bar"
           }
          ],
          "barpolar": [
           {
            "marker": {
             "line": {
              "color": "white",
              "width": 0.5
             },
             "pattern": {
              "fillmode": "overlay",
              "size": 10,
              "solidity": 0.2
             }
            },
            "type": "barpolar"
           }
          ],
          "carpet": [
           {
            "aaxis": {
             "endlinecolor": "rgb(36,36,36)",
             "gridcolor": "white",
             "linecolor": "white",
             "minorgridcolor": "white",
             "startlinecolor": "rgb(36,36,36)"
            },
            "baxis": {
             "endlinecolor": "rgb(36,36,36)",
             "gridcolor": "white",
             "linecolor": "white",
             "minorgridcolor": "white",
             "startlinecolor": "rgb(36,36,36)"
            },
            "type": "carpet"
           }
          ],
          "choropleth": [
           {
            "colorbar": {
             "outlinewidth": 1,
             "tickcolor": "rgb(36,36,36)",
             "ticks": "outside"
            },
            "type": "choropleth"
           }
          ],
          "contour": [
           {
            "colorbar": {
             "outlinewidth": 1,
             "tickcolor": "rgb(36,36,36)",
             "ticks": "outside"
            },
            "colorscale": [
             [
              0,
              "#440154"
             ],
             [
              0.1111111111111111,
              "#482878"
             ],
             [
              0.2222222222222222,
              "#3e4989"
             ],
             [
              0.3333333333333333,
              "#31688e"
             ],
             [
              0.4444444444444444,
              "#26828e"
             ],
             [
              0.5555555555555556,
              "#1f9e89"
             ],
             [
              0.6666666666666666,
              "#35b779"
             ],
             [
              0.7777777777777778,
              "#6ece58"
             ],
             [
              0.8888888888888888,
              "#b5de2b"
             ],
             [
              1,
              "#fde725"
             ]
            ],
            "type": "contour"
           }
          ],
          "contourcarpet": [
           {
            "colorbar": {
             "outlinewidth": 1,
             "tickcolor": "rgb(36,36,36)",
             "ticks": "outside"
            },
            "type": "contourcarpet"
           }
          ],
          "heatmap": [
           {
            "colorbar": {
             "outlinewidth": 1,
             "tickcolor": "rgb(36,36,36)",
             "ticks": "outside"
            },
            "colorscale": [
             [
              0,
              "#440154"
             ],
             [
              0.1111111111111111,
              "#482878"
             ],
             [
              0.2222222222222222,
              "#3e4989"
             ],
             [
              0.3333333333333333,
              "#31688e"
             ],
             [
              0.4444444444444444,
              "#26828e"
             ],
             [
              0.5555555555555556,
              "#1f9e89"
             ],
             [
              0.6666666666666666,
              "#35b779"
             ],
             [
              0.7777777777777778,
              "#6ece58"
             ],
             [
              0.8888888888888888,
              "#b5de2b"
             ],
             [
              1,
              "#fde725"
             ]
            ],
            "type": "heatmap"
           }
          ],
          "heatmapgl": [
           {
            "colorbar": {
             "outlinewidth": 1,
             "tickcolor": "rgb(36,36,36)",
             "ticks": "outside"
            },
            "colorscale": [
             [
              0,
              "#440154"
             ],
             [
              0.1111111111111111,
              "#482878"
             ],
             [
              0.2222222222222222,
              "#3e4989"
             ],
             [
              0.3333333333333333,
              "#31688e"
             ],
             [
              0.4444444444444444,
              "#26828e"
             ],
             [
              0.5555555555555556,
              "#1f9e89"
             ],
             [
              0.6666666666666666,
              "#35b779"
             ],
             [
              0.7777777777777778,
              "#6ece58"
             ],
             [
              0.8888888888888888,
              "#b5de2b"
             ],
             [
              1,
              "#fde725"
             ]
            ],
            "type": "heatmapgl"
           }
          ],
          "histogram": [
           {
            "marker": {
             "line": {
              "color": "white",
              "width": 0.6
             }
            },
            "type": "histogram"
           }
          ],
          "histogram2d": [
           {
            "colorbar": {
             "outlinewidth": 1,
             "tickcolor": "rgb(36,36,36)",
             "ticks": "outside"
            },
            "colorscale": [
             [
              0,
              "#440154"
             ],
             [
              0.1111111111111111,
              "#482878"
             ],
             [
              0.2222222222222222,
              "#3e4989"
             ],
             [
              0.3333333333333333,
              "#31688e"
             ],
             [
              0.4444444444444444,
              "#26828e"
             ],
             [
              0.5555555555555556,
              "#1f9e89"
             ],
             [
              0.6666666666666666,
              "#35b779"
             ],
             [
              0.7777777777777778,
              "#6ece58"
             ],
             [
              0.8888888888888888,
              "#b5de2b"
             ],
             [
              1,
              "#fde725"
             ]
            ],
            "type": "histogram2d"
           }
          ],
          "histogram2dcontour": [
           {
            "colorbar": {
             "outlinewidth": 1,
             "tickcolor": "rgb(36,36,36)",
             "ticks": "outside"
            },
            "colorscale": [
             [
              0,
              "#440154"
             ],
             [
              0.1111111111111111,
              "#482878"
             ],
             [
              0.2222222222222222,
              "#3e4989"
             ],
             [
              0.3333333333333333,
              "#31688e"
             ],
             [
              0.4444444444444444,
              "#26828e"
             ],
             [
              0.5555555555555556,
              "#1f9e89"
             ],
             [
              0.6666666666666666,
              "#35b779"
             ],
             [
              0.7777777777777778,
              "#6ece58"
             ],
             [
              0.8888888888888888,
              "#b5de2b"
             ],
             [
              1,
              "#fde725"
             ]
            ],
            "type": "histogram2dcontour"
           }
          ],
          "mesh3d": [
           {
            "colorbar": {
             "outlinewidth": 1,
             "tickcolor": "rgb(36,36,36)",
             "ticks": "outside"
            },
            "type": "mesh3d"
           }
          ],
          "parcoords": [
           {
            "line": {
             "colorbar": {
              "outlinewidth": 1,
              "tickcolor": "rgb(36,36,36)",
              "ticks": "outside"
             }
            },
            "type": "parcoords"
           }
          ],
          "pie": [
           {
            "automargin": true,
            "type": "pie"
           }
          ],
          "scatter": [
           {
            "fillpattern": {
             "fillmode": "overlay",
             "size": 10,
             "solidity": 0.2
            },
            "type": "scatter"
           }
          ],
          "scatter3d": [
           {
            "line": {
             "colorbar": {
              "outlinewidth": 1,
              "tickcolor": "rgb(36,36,36)",
              "ticks": "outside"
             }
            },
            "marker": {
             "colorbar": {
              "outlinewidth": 1,
              "tickcolor": "rgb(36,36,36)",
              "ticks": "outside"
             }
            },
            "type": "scatter3d"
           }
          ],
          "scattercarpet": [
           {
            "marker": {
             "colorbar": {
              "outlinewidth": 1,
              "tickcolor": "rgb(36,36,36)",
              "ticks": "outside"
             }
            },
            "type": "scattercarpet"
           }
          ],
          "scattergeo": [
           {
            "marker": {
             "colorbar": {
              "outlinewidth": 1,
              "tickcolor": "rgb(36,36,36)",
              "ticks": "outside"
             }
            },
            "type": "scattergeo"
           }
          ],
          "scattergl": [
           {
            "marker": {
             "colorbar": {
              "outlinewidth": 1,
              "tickcolor": "rgb(36,36,36)",
              "ticks": "outside"
             }
            },
            "type": "scattergl"
           }
          ],
          "scattermapbox": [
           {
            "marker": {
             "colorbar": {
              "outlinewidth": 1,
              "tickcolor": "rgb(36,36,36)",
              "ticks": "outside"
             }
            },
            "type": "scattermapbox"
           }
          ],
          "scatterpolar": [
           {
            "marker": {
             "colorbar": {
              "outlinewidth": 1,
              "tickcolor": "rgb(36,36,36)",
              "ticks": "outside"
             }
            },
            "type": "scatterpolar"
           }
          ],
          "scatterpolargl": [
           {
            "marker": {
             "colorbar": {
              "outlinewidth": 1,
              "tickcolor": "rgb(36,36,36)",
              "ticks": "outside"
             }
            },
            "type": "scatterpolargl"
           }
          ],
          "scatterternary": [
           {
            "marker": {
             "colorbar": {
              "outlinewidth": 1,
              "tickcolor": "rgb(36,36,36)",
              "ticks": "outside"
             }
            },
            "type": "scatterternary"
           }
          ],
          "surface": [
           {
            "colorbar": {
             "outlinewidth": 1,
             "tickcolor": "rgb(36,36,36)",
             "ticks": "outside"
            },
            "colorscale": [
             [
              0,
              "#440154"
             ],
             [
              0.1111111111111111,
              "#482878"
             ],
             [
              0.2222222222222222,
              "#3e4989"
             ],
             [
              0.3333333333333333,
              "#31688e"
             ],
             [
              0.4444444444444444,
              "#26828e"
             ],
             [
              0.5555555555555556,
              "#1f9e89"
             ],
             [
              0.6666666666666666,
              "#35b779"
             ],
             [
              0.7777777777777778,
              "#6ece58"
             ],
             [
              0.8888888888888888,
              "#b5de2b"
             ],
             [
              1,
              "#fde725"
             ]
            ],
            "type": "surface"
           }
          ],
          "table": [
           {
            "cells": {
             "fill": {
              "color": "rgb(237,237,237)"
             },
             "line": {
              "color": "white"
             }
            },
            "header": {
             "fill": {
              "color": "rgb(217,217,217)"
             },
             "line": {
              "color": "white"
             }
            },
            "type": "table"
           }
          ]
         },
         "layout": {
          "annotationdefaults": {
           "arrowhead": 0,
           "arrowwidth": 1
          },
          "autotypenumbers": "strict",
          "coloraxis": {
           "colorbar": {
            "outlinewidth": 1,
            "tickcolor": "rgb(36,36,36)",
            "ticks": "outside"
           }
          },
          "colorscale": {
           "diverging": [
            [
             0,
             "rgb(103,0,31)"
            ],
            [
             0.1,
             "rgb(178,24,43)"
            ],
            [
             0.2,
             "rgb(214,96,77)"
            ],
            [
             0.3,
             "rgb(244,165,130)"
            ],
            [
             0.4,
             "rgb(253,219,199)"
            ],
            [
             0.5,
             "rgb(247,247,247)"
            ],
            [
             0.6,
             "rgb(209,229,240)"
            ],
            [
             0.7,
             "rgb(146,197,222)"
            ],
            [
             0.8,
             "rgb(67,147,195)"
            ],
            [
             0.9,
             "rgb(33,102,172)"
            ],
            [
             1,
             "rgb(5,48,97)"
            ]
           ],
           "sequential": [
            [
             0,
             "#440154"
            ],
            [
             0.1111111111111111,
             "#482878"
            ],
            [
             0.2222222222222222,
             "#3e4989"
            ],
            [
             0.3333333333333333,
             "#31688e"
            ],
            [
             0.4444444444444444,
             "#26828e"
            ],
            [
             0.5555555555555556,
             "#1f9e89"
            ],
            [
             0.6666666666666666,
             "#35b779"
            ],
            [
             0.7777777777777778,
             "#6ece58"
            ],
            [
             0.8888888888888888,
             "#b5de2b"
            ],
            [
             1,
             "#fde725"
            ]
           ],
           "sequentialminus": [
            [
             0,
             "#440154"
            ],
            [
             0.1111111111111111,
             "#482878"
            ],
            [
             0.2222222222222222,
             "#3e4989"
            ],
            [
             0.3333333333333333,
             "#31688e"
            ],
            [
             0.4444444444444444,
             "#26828e"
            ],
            [
             0.5555555555555556,
             "#1f9e89"
            ],
            [
             0.6666666666666666,
             "#35b779"
            ],
            [
             0.7777777777777778,
             "#6ece58"
            ],
            [
             0.8888888888888888,
             "#b5de2b"
            ],
            [
             1,
             "#fde725"
            ]
           ]
          },
          "colorway": [
           "#1F77B4",
           "#FF7F0E",
           "#2CA02C",
           "#D62728",
           "#9467BD",
           "#8C564B",
           "#E377C2",
           "#7F7F7F",
           "#BCBD22",
           "#17BECF"
          ],
          "font": {
           "color": "rgb(36,36,36)"
          },
          "geo": {
           "bgcolor": "white",
           "lakecolor": "white",
           "landcolor": "white",
           "showlakes": true,
           "showland": true,
           "subunitcolor": "white"
          },
          "hoverlabel": {
           "align": "left"
          },
          "hovermode": "closest",
          "mapbox": {
           "style": "light"
          },
          "paper_bgcolor": "white",
          "plot_bgcolor": "white",
          "polar": {
           "angularaxis": {
            "gridcolor": "rgb(232,232,232)",
            "linecolor": "rgb(36,36,36)",
            "showgrid": false,
            "showline": true,
            "ticks": "outside"
           },
           "bgcolor": "white",
           "radialaxis": {
            "gridcolor": "rgb(232,232,232)",
            "linecolor": "rgb(36,36,36)",
            "showgrid": false,
            "showline": true,
            "ticks": "outside"
           }
          },
          "scene": {
           "xaxis": {
            "backgroundcolor": "white",
            "gridcolor": "rgb(232,232,232)",
            "gridwidth": 2,
            "linecolor": "rgb(36,36,36)",
            "showbackground": true,
            "showgrid": false,
            "showline": true,
            "ticks": "outside",
            "zeroline": false,
            "zerolinecolor": "rgb(36,36,36)"
           },
           "yaxis": {
            "backgroundcolor": "white",
            "gridcolor": "rgb(232,232,232)",
            "gridwidth": 2,
            "linecolor": "rgb(36,36,36)",
            "showbackground": true,
            "showgrid": false,
            "showline": true,
            "ticks": "outside",
            "zeroline": false,
            "zerolinecolor": "rgb(36,36,36)"
           },
           "zaxis": {
            "backgroundcolor": "white",
            "gridcolor": "rgb(232,232,232)",
            "gridwidth": 2,
            "linecolor": "rgb(36,36,36)",
            "showbackground": true,
            "showgrid": false,
            "showline": true,
            "ticks": "outside",
            "zeroline": false,
            "zerolinecolor": "rgb(36,36,36)"
           }
          },
          "shapedefaults": {
           "fillcolor": "black",
           "line": {
            "width": 0
           },
           "opacity": 0.3
          },
          "ternary": {
           "aaxis": {
            "gridcolor": "rgb(232,232,232)",
            "linecolor": "rgb(36,36,36)",
            "showgrid": false,
            "showline": true,
            "ticks": "outside"
           },
           "baxis": {
            "gridcolor": "rgb(232,232,232)",
            "linecolor": "rgb(36,36,36)",
            "showgrid": false,
            "showline": true,
            "ticks": "outside"
           },
           "bgcolor": "white",
           "caxis": {
            "gridcolor": "rgb(232,232,232)",
            "linecolor": "rgb(36,36,36)",
            "showgrid": false,
            "showline": true,
            "ticks": "outside"
           }
          },
          "title": {
           "x": 0.05
          },
          "xaxis": {
           "automargin": true,
           "gridcolor": "rgb(232,232,232)",
           "linecolor": "rgb(36,36,36)",
           "showgrid": false,
           "showline": true,
           "ticks": "outside",
           "title": {
            "standoff": 15
           },
           "zeroline": false,
           "zerolinecolor": "rgb(36,36,36)"
          },
          "yaxis": {
           "automargin": true,
           "gridcolor": "rgb(232,232,232)",
           "linecolor": "rgb(36,36,36)",
           "showgrid": false,
           "showline": true,
           "ticks": "outside",
           "title": {
            "standoff": 15
           },
           "zeroline": false,
           "zerolinecolor": "rgb(36,36,36)"
          }
         }
        },
        "title": {
         "font": {
          "size": 20
         },
         "text": "Optimal Properties Recommended by Genetic Algorithm",
         "x": 0.2
        }
       }
      }
     },
     "metadata": {},
     "output_type": "display_data"
    }
   ],
   "source": [
    "# Print the optimization results as a table\n",
    "HS.print_table_of_best_designs(rows=10)"
   ]
  },
  {
   "cell_type": "code",
   "execution_count": 5,
   "metadata": {},
   "outputs": [
    {
     "data": {
      "application/vnd.plotly.v1+json": {
       "config": {
        "plotlyServerURL": "https://plot.ly"
       },
       "data": [
        {
         "mode": "lines",
         "name": "Avg. of top 10 performers",
         "type": "scatter",
         "x": [
          0,
          1,
          2,
          3,
          4,
          5,
          6,
          7,
          8,
          9,
          10,
          11,
          12,
          13,
          14,
          15,
          16,
          17,
          18,
          19,
          20,
          21,
          22,
          23,
          24,
          25,
          26,
          27,
          28,
          29,
          30,
          31,
          32,
          33,
          34,
          35,
          36,
          37,
          38,
          39,
          40,
          41,
          42,
          43,
          44,
          45,
          46,
          47,
          48,
          49,
          50,
          51,
          52,
          53,
          54,
          55,
          56,
          57,
          58,
          59,
          60,
          61,
          62,
          63,
          64,
          65,
          66,
          67,
          68,
          69,
          70,
          71,
          72,
          73,
          74,
          75,
          76,
          77,
          78,
          79,
          80,
          81,
          82,
          83,
          84,
          85,
          86,
          87,
          88,
          89,
          90,
          91,
          92,
          93,
          94,
          95,
          96,
          97,
          98,
          99
         ],
         "y": [
          27.01032865336295,
          23.53001119687286,
          21.351749372600985,
          20.183617743425838,
          19.27140935760842,
          18.66405301529136,
          18.5460407824649,
          18.54002203411882,
          18.514299549545907,
          18.3922642801344,
          18.1296958863495,
          17.741437194387345,
          17.670961560980192,
          17.655757149035473,
          17.6514075916375,
          17.587846370203913,
          17.511086018601645,
          17.37238240933069,
          17.09475521319415,
          16.928862029765323,
          16.904707361712187,
          16.894301793456574,
          16.889781813414196,
          16.88893055280712,
          16.888117677918522,
          16.88772401297221,
          16.887602562396076,
          16.887565207356605,
          16.887557874089662,
          16.887557677321432,
          16.88755754211105,
          16.88755753214616,
          16.851379899542263,
          16.706289316657728,
          16.425623865591394,
          16.035345244727743,
          15.943432546128026,
          15.922115736349838,
          15.91519254015638,
          15.914575067297804,
          15.914546503075632,
          15.914539389245888,
          15.914536226077114,
          15.914534811480005,
          15.914533885890705,
          15.91453352917777,
          15.914533510566534,
          15.914533504853726,
          15.914533503704046,
          15.914533502613097,
          15.91453350209845,
          15.914533501831361,
          15.914533501755733,
          15.914533501701797,
          15.91453350167624,
          15.914533501675905,
          15.914533501675768,
          15.914533501675688,
          15.914533501675667,
          15.914533501675653,
          15.914533501675649,
          15.914533501675644,
          15.914533501675644,
          15.914533501675644,
          15.91453350167564,
          15.91453350167564,
          15.91453350167564,
          15.91453350167564,
          15.91453350167564,
          15.91453350167564,
          15.91453350167564,
          15.91453350167564,
          15.91453350167564,
          15.91453350167564,
          15.91453350167564,
          15.91453350167564,
          15.914533501675638,
          15.914533501675638,
          15.914533501675638,
          15.914533501675638,
          15.914533501675638,
          15.914533501675638,
          15.914533501675638,
          15.914533501675638,
          15.914533501675638,
          15.914533501675638,
          15.914533501675638,
          15.914533501675638,
          15.914533501675638,
          15.914533501675638,
          15.914533501675638,
          15.914533501675638,
          15.914533501675638,
          15.914533501675638,
          15.914533501675638,
          15.914533501675638,
          15.914533501675638,
          15.914533501675638,
          15.914533501675638,
          15.914533501675638
         ]
        },
        {
         "mode": "lines",
         "name": "Best costs",
         "type": "scatter",
         "x": [
          0,
          1,
          2,
          3,
          4,
          5,
          6,
          7,
          8,
          9,
          10,
          11,
          12,
          13,
          14,
          15,
          16,
          17,
          18,
          19,
          20,
          21,
          22,
          23,
          24,
          25,
          26,
          27,
          28,
          29,
          30,
          31,
          32,
          33,
          34,
          35,
          36,
          37,
          38,
          39,
          40,
          41,
          42,
          43,
          44,
          45,
          46,
          47,
          48,
          49,
          50,
          51,
          52,
          53,
          54,
          55,
          56,
          57,
          58,
          59,
          60,
          61,
          62,
          63,
          64,
          65,
          66,
          67,
          68,
          69,
          70,
          71,
          72,
          73,
          74,
          75,
          76,
          77,
          78,
          79,
          80,
          81,
          82,
          83,
          84,
          85,
          86,
          87,
          88,
          89,
          90,
          91,
          92,
          93,
          94,
          95,
          96,
          97,
          98,
          99
         ],
         "y": [
          21.147575351462137,
          21.147575351462137,
          20.694137642543772,
          18.539598708221924,
          18.539598708221924,
          18.539598708221924,
          18.539598708221924,
          18.539598708221924,
          18.285860873470526,
          17.69795461097493,
          17.69795461097493,
          17.65950974035172,
          17.651650145834875,
          17.65123940523038,
          17.65061613406172,
          17.01999149711937,
          16.88755753034867,
          16.88755753034867,
          16.88755753034867,
          16.88755753034867,
          16.88755753034867,
          16.88755753034867,
          16.88755753034867,
          16.88755753034867,
          16.88755753034867,
          16.88755753034867,
          16.88755753034867,
          16.88755753034867,
          16.88755753034867,
          16.88755753034867,
          16.88755753034867,
          16.88755753034867,
          16.525781217609143,
          16.050014984813036,
          15.92390796117883,
          15.914533501675646,
          15.914533501675646,
          15.914533501675646,
          15.914533501675646,
          15.914533501675646,
          15.914533501675646,
          15.914533501675646,
          15.914533501675646,
          15.914533501675646,
          15.914533501675646,
          15.914533501675646,
          15.914533501675646,
          15.914533501675646,
          15.914533501675646,
          15.914533501675646,
          15.914533501675646,
          15.914533501675646,
          15.914533501675646,
          15.914533501675646,
          15.914533501675646,
          15.914533501675646,
          15.914533501675646,
          15.914533501675646,
          15.914533501675646,
          15.914533501675642,
          15.914533501675642,
          15.914533501675642,
          15.914533501675642,
          15.914533501675642,
          15.914533501675642,
          15.914533501675642,
          15.914533501675642,
          15.914533501675642,
          15.91453350167564,
          15.91453350167564,
          15.91453350167564,
          15.91453350167564,
          15.91453350167564,
          15.91453350167564,
          15.914533501675638,
          15.914533501675638,
          15.914533501675638,
          15.914533501675638,
          15.914533501675638,
          15.914533501675638,
          15.914533501675638,
          15.914533501675638,
          15.914533501675638,
          15.914533501675638,
          15.914533501675638,
          15.914533501675638,
          15.914533501675638,
          15.914533501675638,
          15.914533501675638,
          15.914533501675638,
          15.914533501675638,
          15.914533501675638,
          15.914533501675638,
          15.914533501675638,
          15.914533501675638,
          15.914533501675638,
          15.914533501675638,
          15.914533501675638,
          15.914533501675638,
          15.914533501675638
         ]
        }
       ],
       "layout": {
        "legend": {
         "bgcolor": "rgba(255, 255, 255, 0.5)",
         "font": {
          "size": 14
         },
         "x": 1,
         "xanchor": "right",
         "y": 1,
         "yanchor": "top"
        },
        "template": {
         "data": {
          "bar": [
           {
            "error_x": {
             "color": "rgb(36,36,36)"
            },
            "error_y": {
             "color": "rgb(36,36,36)"
            },
            "marker": {
             "line": {
              "color": "white",
              "width": 0.5
             },
             "pattern": {
              "fillmode": "overlay",
              "size": 10,
              "solidity": 0.2
             }
            },
            "type": "bar"
           }
          ],
          "barpolar": [
           {
            "marker": {
             "line": {
              "color": "white",
              "width": 0.5
             },
             "pattern": {
              "fillmode": "overlay",
              "size": 10,
              "solidity": 0.2
             }
            },
            "type": "barpolar"
           }
          ],
          "carpet": [
           {
            "aaxis": {
             "endlinecolor": "rgb(36,36,36)",
             "gridcolor": "white",
             "linecolor": "white",
             "minorgridcolor": "white",
             "startlinecolor": "rgb(36,36,36)"
            },
            "baxis": {
             "endlinecolor": "rgb(36,36,36)",
             "gridcolor": "white",
             "linecolor": "white",
             "minorgridcolor": "white",
             "startlinecolor": "rgb(36,36,36)"
            },
            "type": "carpet"
           }
          ],
          "choropleth": [
           {
            "colorbar": {
             "outlinewidth": 1,
             "tickcolor": "rgb(36,36,36)",
             "ticks": "outside"
            },
            "type": "choropleth"
           }
          ],
          "contour": [
           {
            "colorbar": {
             "outlinewidth": 1,
             "tickcolor": "rgb(36,36,36)",
             "ticks": "outside"
            },
            "colorscale": [
             [
              0,
              "#440154"
             ],
             [
              0.1111111111111111,
              "#482878"
             ],
             [
              0.2222222222222222,
              "#3e4989"
             ],
             [
              0.3333333333333333,
              "#31688e"
             ],
             [
              0.4444444444444444,
              "#26828e"
             ],
             [
              0.5555555555555556,
              "#1f9e89"
             ],
             [
              0.6666666666666666,
              "#35b779"
             ],
             [
              0.7777777777777778,
              "#6ece58"
             ],
             [
              0.8888888888888888,
              "#b5de2b"
             ],
             [
              1,
              "#fde725"
             ]
            ],
            "type": "contour"
           }
          ],
          "contourcarpet": [
           {
            "colorbar": {
             "outlinewidth": 1,
             "tickcolor": "rgb(36,36,36)",
             "ticks": "outside"
            },
            "type": "contourcarpet"
           }
          ],
          "heatmap": [
           {
            "colorbar": {
             "outlinewidth": 1,
             "tickcolor": "rgb(36,36,36)",
             "ticks": "outside"
            },
            "colorscale": [
             [
              0,
              "#440154"
             ],
             [
              0.1111111111111111,
              "#482878"
             ],
             [
              0.2222222222222222,
              "#3e4989"
             ],
             [
              0.3333333333333333,
              "#31688e"
             ],
             [
              0.4444444444444444,
              "#26828e"
             ],
             [
              0.5555555555555556,
              "#1f9e89"
             ],
             [
              0.6666666666666666,
              "#35b779"
             ],
             [
              0.7777777777777778,
              "#6ece58"
             ],
             [
              0.8888888888888888,
              "#b5de2b"
             ],
             [
              1,
              "#fde725"
             ]
            ],
            "type": "heatmap"
           }
          ],
          "heatmapgl": [
           {
            "colorbar": {
             "outlinewidth": 1,
             "tickcolor": "rgb(36,36,36)",
             "ticks": "outside"
            },
            "colorscale": [
             [
              0,
              "#440154"
             ],
             [
              0.1111111111111111,
              "#482878"
             ],
             [
              0.2222222222222222,
              "#3e4989"
             ],
             [
              0.3333333333333333,
              "#31688e"
             ],
             [
              0.4444444444444444,
              "#26828e"
             ],
             [
              0.5555555555555556,
              "#1f9e89"
             ],
             [
              0.6666666666666666,
              "#35b779"
             ],
             [
              0.7777777777777778,
              "#6ece58"
             ],
             [
              0.8888888888888888,
              "#b5de2b"
             ],
             [
              1,
              "#fde725"
             ]
            ],
            "type": "heatmapgl"
           }
          ],
          "histogram": [
           {
            "marker": {
             "line": {
              "color": "white",
              "width": 0.6
             }
            },
            "type": "histogram"
           }
          ],
          "histogram2d": [
           {
            "colorbar": {
             "outlinewidth": 1,
             "tickcolor": "rgb(36,36,36)",
             "ticks": "outside"
            },
            "colorscale": [
             [
              0,
              "#440154"
             ],
             [
              0.1111111111111111,
              "#482878"
             ],
             [
              0.2222222222222222,
              "#3e4989"
             ],
             [
              0.3333333333333333,
              "#31688e"
             ],
             [
              0.4444444444444444,
              "#26828e"
             ],
             [
              0.5555555555555556,
              "#1f9e89"
             ],
             [
              0.6666666666666666,
              "#35b779"
             ],
             [
              0.7777777777777778,
              "#6ece58"
             ],
             [
              0.8888888888888888,
              "#b5de2b"
             ],
             [
              1,
              "#fde725"
             ]
            ],
            "type": "histogram2d"
           }
          ],
          "histogram2dcontour": [
           {
            "colorbar": {
             "outlinewidth": 1,
             "tickcolor": "rgb(36,36,36)",
             "ticks": "outside"
            },
            "colorscale": [
             [
              0,
              "#440154"
             ],
             [
              0.1111111111111111,
              "#482878"
             ],
             [
              0.2222222222222222,
              "#3e4989"
             ],
             [
              0.3333333333333333,
              "#31688e"
             ],
             [
              0.4444444444444444,
              "#26828e"
             ],
             [
              0.5555555555555556,
              "#1f9e89"
             ],
             [
              0.6666666666666666,
              "#35b779"
             ],
             [
              0.7777777777777778,
              "#6ece58"
             ],
             [
              0.8888888888888888,
              "#b5de2b"
             ],
             [
              1,
              "#fde725"
             ]
            ],
            "type": "histogram2dcontour"
           }
          ],
          "mesh3d": [
           {
            "colorbar": {
             "outlinewidth": 1,
             "tickcolor": "rgb(36,36,36)",
             "ticks": "outside"
            },
            "type": "mesh3d"
           }
          ],
          "parcoords": [
           {
            "line": {
             "colorbar": {
              "outlinewidth": 1,
              "tickcolor": "rgb(36,36,36)",
              "ticks": "outside"
             }
            },
            "type": "parcoords"
           }
          ],
          "pie": [
           {
            "automargin": true,
            "type": "pie"
           }
          ],
          "scatter": [
           {
            "fillpattern": {
             "fillmode": "overlay",
             "size": 10,
             "solidity": 0.2
            },
            "type": "scatter"
           }
          ],
          "scatter3d": [
           {
            "line": {
             "colorbar": {
              "outlinewidth": 1,
              "tickcolor": "rgb(36,36,36)",
              "ticks": "outside"
             }
            },
            "marker": {
             "colorbar": {
              "outlinewidth": 1,
              "tickcolor": "rgb(36,36,36)",
              "ticks": "outside"
             }
            },
            "type": "scatter3d"
           }
          ],
          "scattercarpet": [
           {
            "marker": {
             "colorbar": {
              "outlinewidth": 1,
              "tickcolor": "rgb(36,36,36)",
              "ticks": "outside"
             }
            },
            "type": "scattercarpet"
           }
          ],
          "scattergeo": [
           {
            "marker": {
             "colorbar": {
              "outlinewidth": 1,
              "tickcolor": "rgb(36,36,36)",
              "ticks": "outside"
             }
            },
            "type": "scattergeo"
           }
          ],
          "scattergl": [
           {
            "marker": {
             "colorbar": {
              "outlinewidth": 1,
              "tickcolor": "rgb(36,36,36)",
              "ticks": "outside"
             }
            },
            "type": "scattergl"
           }
          ],
          "scattermapbox": [
           {
            "marker": {
             "colorbar": {
              "outlinewidth": 1,
              "tickcolor": "rgb(36,36,36)",
              "ticks": "outside"
             }
            },
            "type": "scattermapbox"
           }
          ],
          "scatterpolar": [
           {
            "marker": {
             "colorbar": {
              "outlinewidth": 1,
              "tickcolor": "rgb(36,36,36)",
              "ticks": "outside"
             }
            },
            "type": "scatterpolar"
           }
          ],
          "scatterpolargl": [
           {
            "marker": {
             "colorbar": {
              "outlinewidth": 1,
              "tickcolor": "rgb(36,36,36)",
              "ticks": "outside"
             }
            },
            "type": "scatterpolargl"
           }
          ],
          "scatterternary": [
           {
            "marker": {
             "colorbar": {
              "outlinewidth": 1,
              "tickcolor": "rgb(36,36,36)",
              "ticks": "outside"
             }
            },
            "type": "scatterternary"
           }
          ],
          "surface": [
           {
            "colorbar": {
             "outlinewidth": 1,
             "tickcolor": "rgb(36,36,36)",
             "ticks": "outside"
            },
            "colorscale": [
             [
              0,
              "#440154"
             ],
             [
              0.1111111111111111,
              "#482878"
             ],
             [
              0.2222222222222222,
              "#3e4989"
             ],
             [
              0.3333333333333333,
              "#31688e"
             ],
             [
              0.4444444444444444,
              "#26828e"
             ],
             [
              0.5555555555555556,
              "#1f9e89"
             ],
             [
              0.6666666666666666,
              "#35b779"
             ],
             [
              0.7777777777777778,
              "#6ece58"
             ],
             [
              0.8888888888888888,
              "#b5de2b"
             ],
             [
              1,
              "#fde725"
             ]
            ],
            "type": "surface"
           }
          ],
          "table": [
           {
            "cells": {
             "fill": {
              "color": "rgb(237,237,237)"
             },
             "line": {
              "color": "white"
             }
            },
            "header": {
             "fill": {
              "color": "rgb(217,217,217)"
             },
             "line": {
              "color": "white"
             }
            },
            "type": "table"
           }
          ]
         },
         "layout": {
          "annotationdefaults": {
           "arrowhead": 0,
           "arrowwidth": 1
          },
          "autotypenumbers": "strict",
          "coloraxis": {
           "colorbar": {
            "outlinewidth": 1,
            "tickcolor": "rgb(36,36,36)",
            "ticks": "outside"
           }
          },
          "colorscale": {
           "diverging": [
            [
             0,
             "rgb(103,0,31)"
            ],
            [
             0.1,
             "rgb(178,24,43)"
            ],
            [
             0.2,
             "rgb(214,96,77)"
            ],
            [
             0.3,
             "rgb(244,165,130)"
            ],
            [
             0.4,
             "rgb(253,219,199)"
            ],
            [
             0.5,
             "rgb(247,247,247)"
            ],
            [
             0.6,
             "rgb(209,229,240)"
            ],
            [
             0.7,
             "rgb(146,197,222)"
            ],
            [
             0.8,
             "rgb(67,147,195)"
            ],
            [
             0.9,
             "rgb(33,102,172)"
            ],
            [
             1,
             "rgb(5,48,97)"
            ]
           ],
           "sequential": [
            [
             0,
             "#440154"
            ],
            [
             0.1111111111111111,
             "#482878"
            ],
            [
             0.2222222222222222,
             "#3e4989"
            ],
            [
             0.3333333333333333,
             "#31688e"
            ],
            [
             0.4444444444444444,
             "#26828e"
            ],
            [
             0.5555555555555556,
             "#1f9e89"
            ],
            [
             0.6666666666666666,
             "#35b779"
            ],
            [
             0.7777777777777778,
             "#6ece58"
            ],
            [
             0.8888888888888888,
             "#b5de2b"
            ],
            [
             1,
             "#fde725"
            ]
           ],
           "sequentialminus": [
            [
             0,
             "#440154"
            ],
            [
             0.1111111111111111,
             "#482878"
            ],
            [
             0.2222222222222222,
             "#3e4989"
            ],
            [
             0.3333333333333333,
             "#31688e"
            ],
            [
             0.4444444444444444,
             "#26828e"
            ],
            [
             0.5555555555555556,
             "#1f9e89"
            ],
            [
             0.6666666666666666,
             "#35b779"
            ],
            [
             0.7777777777777778,
             "#6ece58"
            ],
            [
             0.8888888888888888,
             "#b5de2b"
            ],
            [
             1,
             "#fde725"
            ]
           ]
          },
          "colorway": [
           "#1F77B4",
           "#FF7F0E",
           "#2CA02C",
           "#D62728",
           "#9467BD",
           "#8C564B",
           "#E377C2",
           "#7F7F7F",
           "#BCBD22",
           "#17BECF"
          ],
          "font": {
           "color": "rgb(36,36,36)"
          },
          "geo": {
           "bgcolor": "white",
           "lakecolor": "white",
           "landcolor": "white",
           "showlakes": true,
           "showland": true,
           "subunitcolor": "white"
          },
          "hoverlabel": {
           "align": "left"
          },
          "hovermode": "closest",
          "mapbox": {
           "style": "light"
          },
          "paper_bgcolor": "white",
          "plot_bgcolor": "white",
          "polar": {
           "angularaxis": {
            "gridcolor": "rgb(232,232,232)",
            "linecolor": "rgb(36,36,36)",
            "showgrid": false,
            "showline": true,
            "ticks": "outside"
           },
           "bgcolor": "white",
           "radialaxis": {
            "gridcolor": "rgb(232,232,232)",
            "linecolor": "rgb(36,36,36)",
            "showgrid": false,
            "showline": true,
            "ticks": "outside"
           }
          },
          "scene": {
           "xaxis": {
            "backgroundcolor": "white",
            "gridcolor": "rgb(232,232,232)",
            "gridwidth": 2,
            "linecolor": "rgb(36,36,36)",
            "showbackground": true,
            "showgrid": false,
            "showline": true,
            "ticks": "outside",
            "zeroline": false,
            "zerolinecolor": "rgb(36,36,36)"
           },
           "yaxis": {
            "backgroundcolor": "white",
            "gridcolor": "rgb(232,232,232)",
            "gridwidth": 2,
            "linecolor": "rgb(36,36,36)",
            "showbackground": true,
            "showgrid": false,
            "showline": true,
            "ticks": "outside",
            "zeroline": false,
            "zerolinecolor": "rgb(36,36,36)"
           },
           "zaxis": {
            "backgroundcolor": "white",
            "gridcolor": "rgb(232,232,232)",
            "gridwidth": 2,
            "linecolor": "rgb(36,36,36)",
            "showbackground": true,
            "showgrid": false,
            "showline": true,
            "ticks": "outside",
            "zeroline": false,
            "zerolinecolor": "rgb(36,36,36)"
           }
          },
          "shapedefaults": {
           "fillcolor": "black",
           "line": {
            "width": 0
           },
           "opacity": 0.3
          },
          "ternary": {
           "aaxis": {
            "gridcolor": "rgb(232,232,232)",
            "linecolor": "rgb(36,36,36)",
            "showgrid": false,
            "showline": true,
            "ticks": "outside"
           },
           "baxis": {
            "gridcolor": "rgb(232,232,232)",
            "linecolor": "rgb(36,36,36)",
            "showgrid": false,
            "showline": true,
            "ticks": "outside"
           },
           "bgcolor": "white",
           "caxis": {
            "gridcolor": "rgb(232,232,232)",
            "linecolor": "rgb(36,36,36)",
            "showgrid": false,
            "showline": true,
            "ticks": "outside"
           }
          },
          "title": {
           "x": 0.05
          },
          "xaxis": {
           "automargin": true,
           "gridcolor": "rgb(232,232,232)",
           "linecolor": "rgb(36,36,36)",
           "showgrid": false,
           "showline": true,
           "ticks": "outside",
           "title": {
            "standoff": 15
           },
           "zeroline": false,
           "zerolinecolor": "rgb(36,36,36)"
          },
          "yaxis": {
           "automargin": true,
           "gridcolor": "rgb(232,232,232)",
           "linecolor": "rgb(36,36,36)",
           "showgrid": false,
           "showline": true,
           "ticks": "outside",
           "title": {
            "standoff": 15
           },
           "zeroline": false,
           "zerolinecolor": "rgb(36,36,36)"
          }
         }
        },
        "title": {
         "font": {
          "size": 24
         },
         "text": "Convergence of Genetic Algorithm",
         "x": 0.25
        },
        "xaxis": {
         "title": {
          "font": {
           "size": 20
          },
          "text": "Generation"
         }
        },
        "yaxis": {
         "title": {
          "font": {
           "size": 20
          },
          "text": "Cost"
         }
        }
       }
      }
     },
     "metadata": {},
     "output_type": "display_data"
    }
   ],
   "source": [
    "# Plot the genetic algorithm convergence plot\n",
    "HS.plot_optimization_results()"
   ]
  },
  {
   "cell_type": "code",
   "execution_count": 6,
   "metadata": {},
   "outputs": [
    {
     "name": "stdout",
     "output_type": "stream",
     "text": [
      "overall bounds dict: ({'elec_cond_300k_low_doping': {'upper_bound': 20.0, 'lower_bound': 1.0}, 'therm_cond_300k_low_doping': {'upper_bound': 0.009, 'lower_bound': 1e-05}, 'bulk_modulus': {'upper_bound': 400.0, 'lower_bound': 20.0}, 'shear_modulus': {'upper_bound': 300.0, 'lower_bound': 80.0}, 'universal_anisotropy': {'upper_bound': 2.0, 'lower_bound': 1.0}}, {'mat_1': {'elec_cond_300k_low_doping': {'upper_bound': 20.0, 'lower_bound': 6.0}, 'therm_cond_300k_low_doping': {'upper_bound': 0.0001, 'lower_bound': 1e-05}, 'bulk_modulus': {'upper_bound': 100.0, 'lower_bound': 50.0}, 'shear_modulus': {'upper_bound': 100.0, 'lower_bound': 80.0}, 'universal_anisotropy': {'upper_bound': 2.0, 'lower_bound': 1.0}}, 'mat_2': {'elec_cond_300k_low_doping': {'upper_bound': 5.0, 'lower_bound': 2.0}, 'therm_cond_300k_low_doping': {'upper_bound': 0.009, 'lower_bound': 0.0001}, 'bulk_modulus': {'upper_bound': 400.0, 'lower_bound': 20.0}, 'shear_modulus': {'upper_bound': 200.0, 'lower_bound': 100.0}, 'universal_anisotropy': {'upper_bound': 2.0, 'lower_bound': 1.3}}, 'mat_3': {'elec_cond_300k_low_doping': {'upper_bound': 10.0, 'lower_bound': 1.0}, 'therm_cond_300k_low_doping': {'upper_bound': 0.005, 'lower_bound': 0.0001}, 'bulk_modulus': {'upper_bound': 300.0, 'lower_bound': 20.0}, 'shear_modulus': {'upper_bound': 300.0, 'lower_bound': 100.0}, 'universal_anisotropy': {'upper_bound': 2.0, 'lower_bound': 1.0}}, 'mixture': {'elec_cond_300k_low_doping': {'desired_prop': 9.0}, 'therm_cond_300k_low_doping': {'desired_prop': 0.007}, 'bulk_modulus': {'desired_prop': 234.0}, 'shear_modulus': {'desired_prop': 150.0}, 'universal_anisotropy': {'desired_prop': 1.5}}})\n",
      "best_designs_dict: {'mat1': {'carrier-transport': {'elec_cond_300k_low_doping': [16.369354884981238, 14.818409862384064, 13.123253102365698, 14.512061615289936, 15.024475136293926, 8.00026011758734, 15.647957182515091, 15.840188730508508, 7.577487919998745, 16.536306204062143, 10.627519853442628, 6.454539558220385, 9.915687152717076, 16.816282152970036, 14.760038760214444, 17.124104763822935, 13.241889896486207, 9.162242877168417, 16.958143815913175, 11.416882739521188, 16.236674220144636, 17.65743631657196, 12.690260076568391, 14.696105374371154, 9.547446045527538, 19.54181200961098, 10.324855665492633, 15.296029277803928, 9.260193507661745, 7.114714458687823, 14.461457244625525, 8.817053201452543, 9.315651334246352, 17.113980005538533, 12.111864614443043, 17.63968304825029, 14.31604700824563, 19.035593743085673, 19.33974858280188, 18.76092701324253, 12.71715461327654, 7.763211315686569, 18.381494948311907, 16.43156685710784, 15.563330824251883, 12.39873359237852, 10.563351282380431, 11.538045605676029, 18.753264162829556, 7.183455082760075, 8.22353715168781, 9.149547316883247, 19.577182173834277, 6.048728458476726, 8.520247198214125, 11.900369267981379, 18.948054600407033, 19.939578629469985, 18.777779687178814, 9.130595401471224, 8.563723694778798, 19.672469224741132, 10.470909248098689, 13.051545711843278, 16.54389455354137, 7.791749379487693, 11.009634686976273, 17.986732869576045, 11.017505749944963, 12.549532561622945, 18.367920667337977, 16.464789332995636, 16.288166512075904, 9.96136560959097, 6.319439795001119, 19.868579980580268, 6.065332846703598, 16.36019264782415, 10.440459775033204, 19.94109877871264, 13.157497687602097, 8.768977326691186, 18.817446272410685, 17.701670450471383, 9.907447316718182, 19.767809732449187, 13.99550304440326, 11.671643856807771, 17.20308280834466, 19.89521106471844, 9.978297968918383, 6.116258776693856, 6.971923075645353, 19.000559531639876, 18.355392108986795, 11.798767165975, 10.984433693853848, 6.739439723660927, 10.461387181741927, 13.227575161255757, 8.903037578142856, 13.442768611910541, 13.069993873325402, 16.56162970247293, 19.093816802953413, 19.587860913526697, 15.64564020678793, 17.23997234111166, 8.41717354267448, 8.006238623228395, 6.978172071033369, 17.642427796459273, 7.732752624439193, 13.941910331942642, 19.29562928395533, 15.042146980323391, 10.766348945317592, 7.184261718600643, 14.671890004325244, 17.73291359496332, 9.561921742211542, 12.988622529814561, 12.311077057664408, 12.962357122552387, 16.922171755445895, 19.240248730540763, 9.076362090406313, 15.222260850229532, 12.680120895697625, 11.11289117228943, 7.126400069980734, 15.553894994820503, 7.158964524516465, 8.641724725270047, 6.957328017720139, 18.267539159153486, 8.214561107497474, 8.816758591712938, 14.778127251591654, 13.502857511869205, 18.406338273086703, 13.444470904368849, 16.763105450871056, 15.763058318610398, 7.379711039028747, 15.016494146164298, 11.59144045437278, 6.163052005274828, 10.870578374723557, 6.279889452359112, 10.73087277673914, 8.563027716387335, 16.760245964159115, 16.25607229478205, 13.461651406037646, 10.407937797436926, 7.8186725569928, 12.651740928165934, 9.133109711981351, 7.0751530602109405, 12.143596625343555, 7.607436846840063, 17.072886356881543, 16.639598808082347, 16.588948460435006, 17.09945915195314, 17.82504290292929, 11.783114724143331, 14.311695085267354, 6.170420563146524, 11.158044790625114, 9.223500324788786, 12.0897639759201, 14.916067220660876, 7.883033806034055, 6.58156027170153, 17.457318559190316, 6.631758298763382, 17.799330710225778, 15.802789765284468, 17.860706945357716], 'therm_cond_300k_low_doping': [5.26289674730174e-05, 3.823653408210497e-05, 5.375099434193369e-05, 4.6742263506544954e-05, 3.166757087863548e-05, 9.847901097650131e-05, 8.583003347882198e-05, 7.975351379281746e-05, 5.350348412486023e-05, 3.78310288640764e-05, 6.99698979018381e-05, 5.4872339000620306e-05, 4.191920856916129e-05, 1.5540380276634516e-05, 5.49847160506006e-05, 2.7859311082235653e-05, 9.071714469132812e-05, 9.483385729386157e-05, 1.9153934798119725e-05, 1.6537251510542625e-05, 8.175618012594408e-05, 6.932079050797224e-05, 3.7419693301651625e-05, 8.286473307997815e-05, 1.3360088105051806e-05, 3.090610962612914e-05, 5.935963491135557e-05, 4.738311690367063e-05, 3.483192141009919e-05, 9.779775955880974e-05, 6.210445901938004e-05, 5.5416834897220355e-05, 4.964013375788883e-05, 7.939452930351098e-05, 8.969665055385835e-05, 7.655692223068868e-05, 1.8558365493660528e-05, 5.076018346380031e-05, 1.886472502656526e-05, 3.960600066779833e-05, 9.746771114278442e-05, 9.77283784255918e-05, 6.691295672992552e-05, 2.3936388178424194e-05, 2.573726178400846e-05, 9.242795573377989e-05, 1.1282744485878232e-05, 1.569141235891177e-05, 2.3009905951071966e-05, 8.405968865531656e-05, 9.040564333032529e-05, 3.972059332539623e-05, 8.86899681320466e-05, 8.086492903268694e-05, 4.423770127141659e-05, 3.7737064184313485e-05, 4.6489374658463164e-05, 5.082894919581451e-05, 9.264856726878586e-05, 5.7383928260663684e-05, 5.3879830192654805e-05, 6.500564574314065e-05, 1.8382726792865597e-05, 2.576304381633945e-05, 7.335952743881917e-05, 2.8675915763578764e-05, 8.262399907320521e-05, 8.311583017305364e-05, 6.569500356187756e-05, 4.288633976593756e-05, 9.649445998545073e-05, 6.356744057068235e-05, 1.2474193538386658e-05, 3.733444063681605e-05, 1.1976959458559389e-05, 6.998627432216213e-05, 8.382410824187353e-05, 9.360046397920292e-05, 8.802358617778029e-05, 6.381128787095616e-05, 9.486770995357703e-05, 6.896874778634089e-05, 6.364227794893797e-05, 5.9664932280742165e-05, 9.931968068123615e-05, 2.4753869807322476e-05, 8.111812194929291e-05, 5.432333844133288e-05, 9.037789640233274e-05, 3.415699751511652e-05, 1.163718155657124e-05, 1.454869241578207e-05, 3.3024675627246465e-05, 3.549422289943841e-05, 3.7172957518308026e-05, 4.474073626243589e-05, 7.860984996362542e-05, 1.6715969331085076e-05, 9.817537797455327e-05, 9.13615510178231e-05, 1.9876737149862843e-05, 7.571280427653095e-05, 9.710018384205879e-05, 3.4270042381039523e-05, 1.861529338870014e-05, 8.824389794350482e-05, 6.656176216314694e-05, 6.07126081231862e-05, 4.8972795621370664e-05, 3.536353108017383e-05, 9.061224993974364e-05, 5.8399089622785174e-05, 8.868581682806937e-05, 8.422046761222903e-05, 4.732263965691112e-05, 4.20628617456016e-05, 7.951444654000248e-05, 6.89892348428172e-05, 8.247082803793968e-05, 3.343225766623546e-05, 7.025856505508914e-05, 8.32280000019224e-05, 9.430569512091523e-05, 7.708631319882149e-05, 5.391293140874875e-05, 7.894370547266612e-05, 4.266181844059222e-05, 5.680172747275415e-05, 1.2174311827872228e-05, 3.796560650605676e-05, 2.623927942703488e-05, 9.876631748926052e-05, 5.698622406423587e-05, 7.646370822951086e-05, 2.660357715001184e-05, 6.579818774687304e-05, 1.350251532173017e-05, 4.8780648695031804e-05, 4.6223729640108885e-05, 5.405627277268055e-05, 2.137345774532777e-05, 1.70276106517654e-05, 7.490680485642042e-05, 3.2069712505085735e-05, 3.7634104018792446e-05, 5.9693379406869684e-05, 1.852147436230703e-05, 1.2941981756285031e-05, 6.828489822273635e-05, 8.42148000060154e-05, 1.373032354847395e-05, 2.0480287328524038e-05, 5.8489139782147054e-05, 2.7744169681806573e-05, 3.824179438519345e-05, 7.998987072890428e-05, 4.636935286524261e-05, 2.1997327070748556e-05, 5.8033749579101044e-05, 2.7197291048036655e-05, 2.8028668242090274e-05, 9.596397633728998e-05, 9.994835439949551e-05, 5.692122115686294e-05, 3.193025467107897e-05, 8.961700529715225e-05, 8.359967055831594e-05, 6.156683007361565e-05, 7.827749145222707e-05, 8.613195551606135e-05, 3.3967491970426794e-05, 1.3538575093236509e-05, 4.159182007260757e-05, 4.34665416849648e-05, 9.21930857127704e-05, 1.4039989200759747e-05, 9.488775385225975e-05, 3.5779318763340014e-05, 3.7374973196948516e-05, 7.984163347542808e-05, 4.6048964143960114e-05]}, 'elastic': {'bulk_modulus': [66.43070103385195, 88.45232094485192, 84.12489716075964, 62.261873282097426, 98.50888980427857, 96.86338885803491, 52.69127007552998, 86.55280835938211, 80.81167096427461, 62.477427505713855, 96.5297847940309, 86.6275826880247, 61.37297431832192, 70.11237349295885, 55.1413380018093, 73.81045867831054, 70.15646455108832, 62.206858014447185, 93.1811405910388, 60.433510206145, 82.27197306906504, 99.74629019971277, 97.9637429247372, 90.5326220998463, 67.88494807063263, 52.23749209479088, 70.29215897443113, 59.13460878289648, 54.83580045848758, 56.89453324077573, 73.20304330418669, 66.04284462572386, 81.83640295758177, 91.5212864740082, 82.21903797614175, 68.38275980490141, 98.00003098434844, 61.281636753925994, 66.48162212894862, 83.95814668071847, 77.67358883372574, 84.61740808001584, 66.44875518426058, 80.51184484225546, 58.8427944699826, 96.94313576612248, 95.79681730737698, 84.77026060495916, 82.61683551238605, 84.0376492364501, 75.92337102710148, 64.93522357763598, 90.63848192193129, 90.50083251425279, 66.49357019563217, 94.81611143466628, 53.641679426466744, 59.67025561213668, 72.18509940733075, 60.02082578210226, 69.2665016995314, 68.27464792184854, 59.81933115367942, 73.04821542637534, 52.36122838527821, 66.3298669005194, 82.28419312301696, 99.25756655354638, 67.64858477263925, 56.35717296027322, 51.16421576735771, 82.02460264276418, 92.63429935080939, 85.26530889287486, 97.28862402052224, 90.87695612730158, 57.375134166115096, 75.15149488180475, 60.01117254083076, 87.6518208850284, 66.31394571156619, 62.913653256744695, 68.22092479755531, 51.848305298479666, 77.18869767662572, 81.67166005355585, 86.08787583773486, 95.12993376174165, 80.05004542626831, 96.3787893115836, 80.60437322332133, 69.05491197648335, 68.25644385488961, 88.8465579269376, 90.73614958137605, 86.52854168080265, 64.49286436939055, 66.15624922799486, 74.11676927037722, 76.99492626073653, 85.12016658697559, 71.2541169288489, 71.99942833739134, 70.25817969284049, 89.9898101342442, 84.5458704088511, 68.36958592148737, 60.90589964022878, 73.74028334621775, 61.209411269195016, 69.5294318097506, 99.60284075694878, 64.67475560544034, 87.32412026284968, 61.733112447194394, 66.88719660631476, 61.06826694862498, 75.85928370389126, 63.993045546067975, 52.026913086620894, 71.23175088646067, 83.60936061174442, 71.08788446263304, 94.22374204158513, 51.12221923313031, 61.58647790545469, 97.4102377432077, 60.146224890593444, 71.90458581085238, 69.31243075424995, 95.54204960500763, 50.20354198610513, 92.55987868973416, 73.20527979748609, 84.20736791561666, 59.0223070218612, 86.20757760165375, 75.20270157996673, 72.56021842168394, 66.18938926123452, 65.51066891931104, 69.54821165607558, 74.54111750965973, 55.23383769018284, 50.73966684501331, 66.94434439742045, 80.6679449997776, 64.36045405505169, 99.9019853539935, 77.47804354517481, 66.36665225128218, 76.48748558903338, 91.8562191032911, 62.153567574076575, 83.81100279098129, 92.10960813974955, 72.56013977821394, 55.439688525582454, 60.612295190098706, 73.34759773970244, 91.52011107542782, 71.72932723521868, 73.41798970043172, 50.635346881597705, 86.02278417014864, 77.77863299341743, 87.57560383008231, 74.69224543469169, 54.40911135851806, 92.60171274989159, 89.66764960121127, 70.86924835972933, 61.75209788962127, 73.23002598524977, 89.01489756537259, 53.81178416725629, 57.663091606190335, 77.72238799727985, 71.2207668834005, 72.83917307448166, 78.55130355206225], 'shear_modulus': [86.24565609595001, 98.96803993357152, 89.43795972211853, 81.7541239771057, 80.31470187613382, 88.30994847072739, 86.84458155985486, 88.9027136739586, 93.00959991238798, 98.21399508482548, 88.3950920377381, 97.07494342812828, 82.27050393752923, 96.34296179119471, 95.55780016524923, 93.98883147651652, 88.0599380364543, 93.75242660429959, 95.98248952604527, 99.73237359120854, 81.99930155659816, 94.63201461121751, 88.94035339204234, 90.40661689840658, 89.20219421281654, 83.34143198415194, 91.54434383543375, 91.37874806944566, 84.34707092707421, 99.34795582274505, 81.78746487212713, 94.18002187642129, 86.94238512941227, 97.66983628575103, 82.75445972055344, 83.2189343855144, 92.11977849549505, 95.58787362693083, 89.59706364452289, 95.49670331009523, 87.33777281707954, 98.8346121503429, 95.81354757005542, 85.82279912360531, 94.25645056795061, 82.14253970530423, 86.23341691136383, 87.33548253408583, 98.70081154306737, 84.53846810396222, 81.25083271016578, 80.2424641849116, 81.00089551820872, 94.94614975694026, 93.36967363740655, 95.80298290661946, 80.74056434868317, 85.03632529592723, 86.7540338527001, 90.60309351686132, 82.650284306264, 98.83740489052539, 80.1236980960786, 87.63012080089747, 92.86790306859588, 95.46004989946046, 96.18101842629423, 86.61155014035373, 81.37812835136863, 82.6845450781796, 99.88532447530801, 90.86161176757749, 91.05598340736515, 90.90201870154795, 81.11046655156098, 92.02585392379169, 80.24877306916345, 83.95337930185428, 93.59553486295569, 91.67554651560462, 87.78592482889121, 90.04340603099931, 89.29658199530355, 88.08716805574606, 87.44067433197691, 89.16901277700512, 88.82931335612705, 98.8769104706314, 95.7981803660859, 89.664040887628, 99.63935620304159, 90.839974966985, 97.12033989833256, 83.19456761346505, 89.57024786249448, 88.25604215339199, 90.2255678630645, 84.62030135901792, 97.10305886398316, 91.02215890226948, 97.0243353948281, 93.4344219332025, 82.95934624865676, 91.65947030691808, 85.932321985234, 96.296560428439, 94.38287437027336, 86.82237840910653, 98.7125663855827, 89.69784723945298, 94.35260607454829, 96.5076123899569, 99.10783068837816, 82.63202373748204, 88.56982550830779, 83.13006590209895, 82.95099788225659, 81.31286449544264, 99.74453679472, 92.98930155098053, 80.7275049526134, 84.20675880465285, 81.9838566974406, 88.01898098084393, 99.98107716312371, 88.10667456357204, 95.55442023419782, 83.48796249392512, 98.25898651131666, 93.46044995023149, 85.79496025961993, 97.0872301559545, 96.13527463287096, 83.08823019637732, 84.4754311379022, 82.58445420213637, 84.6709452675791, 95.82099580607841, 97.68988423510937, 80.90159700271872, 99.22704393429, 82.51649123289766, 91.74976924905978, 87.14940418746365, 81.00949348230523, 81.74906561990133, 98.21797347651415, 85.81154564679706, 86.34168154005059, 92.05886620644652, 80.04153201997951, 80.860485435179, 87.95545210883199, 99.47222060327641, 93.53469212555503, 89.67110553793675, 93.93736010964167, 90.28944249072771, 80.94093812252159, 94.67957754442659, 91.79359508649279, 83.03679879415073, 92.58900747447123, 91.16340630301461, 89.93150006170231, 88.03402801194771, 82.59814638353377, 81.27939294534094, 86.55763297528168, 98.15147224219663, 81.3438221011597, 96.59221226487846, 87.41756112558343, 96.3935594012151, 93.33300505351013, 94.80195209164226, 96.23844628297007, 96.43031127107619, 83.60942463273348, 97.06415395944357, 81.0929964437127], 'universal_anisotropy': [1.7248683748280502, 1.8660987534304674, 1.7681066169603659, 1.8620544743526877, 1.2532060654595674, 1.8935510548336238, 1.8872730886388944, 1.5612858259297275, 1.862592436937936, 1.3105608350134643, 1.345435992538631, 1.269236158513926, 1.249512853910254, 1.0047443196120582, 1.4945079031683908, 1.7614931417758148, 1.0331297808711835, 1.60818196362683, 1.2302508342643537, 1.365227242061793, 1.8080212549532924, 1.9830440777510334, 1.0891317641977158, 1.9181790319344323, 1.2487704662770054, 1.2267809821692195, 1.9709749571014568, 1.0865541827602563, 1.0387586467587944, 1.8429363170880544, 1.5337698307140237, 1.718254589254789, 1.933491913040862, 1.4010032509050767, 1.2667129871587501, 1.079491808636147, 1.328908546796844, 1.857263145333988, 1.074959447609384, 1.522719429651124, 1.713711696989408, 1.871901513673511, 1.2885321697550747, 1.3516668384888326, 1.8846460871285635, 1.017205340395515, 1.4194849643715557, 1.0504104080686554, 1.341110213409073, 1.0433740006213907, 1.9292189656110021, 1.9193126018233593, 1.8353139595132952, 1.1682586797916532, 1.2456161193993225, 1.0969798297795497, 1.6177391526491767, 1.1198177391173436, 1.221077915345238, 1.1092010876160385, 1.828218284913081, 1.091001104431624, 1.145000825477363, 1.2834086590091909, 1.9498306033586794, 1.2186579646043305, 1.9875869447492225, 1.961764411762938, 1.9423100358664676, 1.698539961155207, 1.0113535263420572, 1.2662724534030598, 1.714910013795774, 1.6045490945076877, 1.1784687220965533, 1.5496484808925022, 1.3697100798494959, 1.8637727644041084, 1.3764148164385532, 1.2149288107727267, 1.8806693383866049, 1.6283761475216068, 1.8885785100189385, 1.1220176486440363, 1.0158374931361036, 1.4583796037936327, 1.148556746096745, 1.8800938506091436, 1.5796889564122893, 1.1722162005790646, 1.0040879692925087, 1.487287932142066, 1.5279959946324082, 1.2154107725674153, 1.0142754377786694, 1.009694034565248, 1.6513138869541817, 1.0831451340635705, 1.6011794913366764, 1.429941650651299, 1.4345883396966892, 1.78606173030906, 1.1204285122748505, 1.7800199788973043, 1.0931471697330846, 1.498939298772905, 1.0828216048013553, 1.9233954955823673, 1.05542678353766, 1.0514393467527272, 1.181081279919548, 1.4428267007510365, 1.0012365658141134, 1.1260127999478367, 1.3873180535653027, 1.6392930580900122, 1.7868625633333584, 1.735156207512462, 1.7243640195201575, 1.0306007241402295, 1.4592342159500304, 1.802877386797837, 1.4114747686258895, 1.9061671721046465, 1.2006553472690684, 1.8421059560160264, 1.3701462275027763, 1.0126630430453467, 1.6430447388694756, 1.6851779261830673, 1.3154922878879831, 1.1271572774336067, 1.9509562603301702, 1.438367054426663, 1.954528841660444, 1.7609030947510873, 1.8585346467484176, 1.3388081149429913, 1.204534947056902, 1.5905805884302724, 1.391371865290632, 1.0788581026020387, 1.6662274537160848, 1.231873845070543, 1.3524281692459257, 1.4295901331514504, 1.2490854645981309, 1.0329689202032284, 1.727703380893956, 1.8820992821207083, 1.7211866320207017, 1.3609519213435122, 1.6826302256991623, 1.6649551863266527, 1.519560763320714, 1.5495891281585008, 1.6172872843002444, 1.8941177460170604, 1.04257209270327, 1.4034635094261965, 1.7863506128007312, 1.138728396536401, 1.512181225641616, 1.1107345447876322, 1.4294270975527792, 1.8707263707163393, 1.5840248409197284, 1.621789917114083, 1.6488944652453408, 1.5998741346059866, 1.2301109943577382, 1.9655509486708898, 1.682446512512, 1.0180106725355134, 1.770444274779328, 1.589478728407569, 1.3170015574350868, 1.2386546512664753, 1.6430126619760852, 1.9483284583429559, 1.0731444942390587]}}, 'mat2': {'carrier-transport': {'elec_cond_300k_low_doping': [3.961603221478248, 2.466691032354926, 4.426518084775963, 4.1469080874900195, 2.1808570868506467, 4.688179137311428, 3.8173362644599598, 2.833344708298049, 2.4783066103841915, 4.174451072015397, 4.118962527564671, 2.6434884418277265, 2.0948722721624766, 2.5491238446554667, 2.7473061791502134, 3.3428962917486356, 2.0490015508361856, 2.099450628043213, 4.726894390939737, 2.904785120729275, 2.4391906665238468, 3.4100996328607014, 2.8820601660759992, 3.0872543898205715, 4.220540970998342, 2.3410347605863846, 4.0170704942757585, 2.9277898545636796, 4.154322359691573, 4.225695550633834, 3.639013509335208, 4.518191231120596, 3.366327559858041, 3.470555479174793, 4.13448331477228, 3.6883830712675203, 4.635348522280698, 4.777469012979784, 4.513602655923046, 3.4897288091914564, 4.325521571072784, 4.9776029468965515, 2.7718782389693106, 2.9770223941517058, 2.2723814773479356, 2.0921247243628756, 2.9329456633476445, 4.398287785278185, 4.505056209068323, 2.2650404355772595, 3.659869083534014, 4.886163780797027, 4.607875475083908, 2.22491648678039, 4.524563475308932, 4.029826264986165, 3.2140062665189446, 3.9609190265957737, 4.4928557824396815, 4.058944383147196, 3.4294524609281503, 2.5694748871200597, 3.92946552520325, 4.434824936983249, 2.8662755777980937, 3.707759191683263, 3.498291355633007, 2.934606814601659, 3.714902791297691, 4.899634589365165, 2.498667354120172, 4.664439592175787, 3.479969015722479, 4.539262387160889, 4.89684979498729, 4.765653077846788, 2.203933090856094, 3.716947632835974, 4.966685383940142, 4.078065103505611, 2.157701544179225, 3.8261109887424793, 4.727356286441092, 2.642109751175344, 3.334907319433898, 4.557461029427397, 4.512127364318087, 2.8029533507250424, 2.345656379695232, 4.490862749615529, 2.213196370060626, 4.80049859516692, 2.7534656419568595, 3.945544844704978, 2.2102419945165246, 2.659304378678271, 2.38983849968888, 2.756230739559993, 3.407426429139079, 2.6363654144698385, 4.852351386045413, 2.2097321106054144, 3.3651780706248067, 4.756850984917415, 4.055970059121789, 4.405012821975383, 4.424604763034315, 2.1242556857792305, 3.467167378164871, 3.9831580588890922, 3.8680222045865547, 3.848879815351932, 4.982543126750218, 2.0053504044435813, 2.0255870854754683, 4.250577081585689, 4.298428714730885, 2.947454380119907, 2.682047199735708, 2.1102002205253076, 2.4069087499144928, 3.7539212213822615, 2.2382076299412637, 2.5947610086569095, 2.295472644232243, 2.974360968817134, 2.4606705207655635, 4.273543624830062, 2.493412054172626, 3.119133447071577, 2.9416987800433656, 3.4477031029420555, 3.1798832089134135, 2.044534965314117, 2.4764016062546546, 2.6049238559273284, 4.48931867180441, 2.5057314490194815, 2.3309253209389187, 4.23844059940601, 4.647499270238512, 3.8434849866259606, 4.803286154239714, 4.054549474187544, 2.331401692686008, 2.0035624975596575, 2.3537142660506314, 3.7931625848691306, 4.376593207199091, 2.143592600021443, 2.07961567965846, 3.5364437248281, 2.795155270376384, 2.557608887703117, 4.838770758885849, 2.042911599316814, 4.741769513992182, 4.617230432228908, 3.1133964560446876, 2.4858110075530813, 3.2508829012214013, 3.2717468391262106, 3.5903231219622533, 2.2700158813425935, 4.007031311736533, 3.6874477518249007, 2.099376587276469, 3.5484616163766165, 3.0099986399712186, 4.557169487574279, 4.124512019247824, 4.943552970613113, 3.119846892738767, 3.7769955535603508, 3.633961485677964, 3.855169068392152, 3.6359713359099617, 4.596814190436764, 2.7673765198936344, 4.260356124864614, 2.294247183471046], 'therm_cond_300k_low_doping': [0.007935581734919489, 0.008527095411048131, 0.008258775025677186, 0.00809661786806451, 0.004881217519382277, 0.0063415850030493085, 0.005983546091487637, 0.006500707579634693, 0.007274661813372361, 0.0036237634501495725, 0.006003465831142022, 0.005285137970786418, 0.007686229840373789, 0.007421035318143478, 0.0021583933492667143, 0.00641139070457946, 0.006185834721245356, 0.00822605859845947, 0.008981744271054836, 0.004121939897818878, 0.006918417068173971, 0.004548583755126396, 0.005937688177478367, 0.005540543623313333, 0.004348298400034187, 0.006839143917878392, 0.00891325182300476, 0.007801019006321656, 0.005178962121081542, 0.006623699492055835, 0.003877991327997221, 0.0023994743997248946, 0.008629574296982205, 0.0004119589650137486, 0.005003119174712615, 0.002732162662541574, 0.0022502315240237867, 0.005959546243270138, 0.002960758732884684, 0.0034827440781022303, 0.00824711189225965, 0.00567064943729939, 0.0037358277525774476, 0.008646689946478946, 0.007827719397373247, 0.0031610719660748205, 0.00833094821296937, 0.0035983571309893833, 0.006538674327958899, 0.003000115209281564, 0.0036078390171123765, 0.007002643457807847, 0.005486584774114841, 0.0006359253597292843, 0.0007293093860800482, 0.0013663205887399095, 0.007371433216100615, 0.004806391722451702, 0.0066732012246603365, 0.006709221415333218, 0.0048173265096129675, 0.0023859007153732804, 0.008933553985431357, 0.002546395701271986, 0.004658811775023784, 0.005348416436222066, 0.008761364004314232, 0.0010870080540753403, 0.005910408502494421, 0.004393892513832644, 0.00399450748552677, 0.0008654834311368636, 0.005070829988499797, 0.0031107821675905914, 0.008664547809865551, 0.006632515674321549, 0.007933101194404159, 0.004755362457300324, 0.005847968471225526, 0.004478349566596656, 0.006137517714463552, 0.00793141695952805, 0.0027430842751929407, 0.005955058689787385, 0.004628459490666603, 0.00470622263623381, 0.007318405080738775, 0.003944574305693915, 0.007590596437373516, 0.004275697722909395, 0.003713945688035788, 0.0044622697685373774, 0.0009612313239524718, 0.002016375276971356, 0.0006107127463302193, 0.004908224234314162, 0.000887738228789956, 0.007083793606128236, 0.00849335356488012, 0.005654557973598622, 0.0005053645825135908, 0.00716202625117893, 0.00867981100347816, 0.003709937269039995, 0.004907765592715616, 0.006101093426360946, 0.005360228600752257, 0.0013343068425058645, 0.0032419670148884977, 0.007520653046006629, 0.002814955075617019, 0.007166973529453392, 0.0022883093200459547, 0.0032768880266873437, 0.008110578426846584, 0.00197274417326868, 0.005404270507287573, 0.004025320311010339, 0.006185295112687316, 0.005888183437801401, 0.003192188802933213, 0.00839732485575523, 0.0010695415165406842, 0.0060016232306697, 0.00029426159119463565, 0.001125617727697179, 0.004455271776765758, 0.0023115910855781414, 0.0016186568985341128, 0.0021667946144054736, 0.003318099863140916, 0.005630806050950531, 0.004176269602854529, 0.006047890276361347, 0.004946171258843666, 0.004112768299168403, 0.0014081637173464865, 0.0019146065571667202, 0.002316599380831945, 0.006491508651551777, 0.0034690500280421285, 0.008809775158526654, 0.005784487666985827, 0.0011979238628686652, 0.007873741585529179, 0.0027974116739531477, 0.005956960341803497, 0.006138644831321211, 0.004959980625126942, 0.008367362715048572, 0.0034243139039064037, 0.007984872124013772, 0.00452745623816872, 0.0015128334366867877, 0.0006921146668076739, 0.00045135493958754953, 0.0022720800319384646, 0.002501303358276752, 0.0030022891529599164, 0.0021324338546078138, 0.006179970445126675, 0.0014199067790097218, 0.008144081192976662, 0.00019831275467226692, 0.0024698575676931124, 0.007003151582511845, 0.00029268864510092097, 0.0009044862277074047, 0.00146149738700791, 0.0019798022052420305, 0.0012141473641326668, 0.00702623881796481, 0.0032289440659854845, 0.006126210078727659, 0.005228655652728638, 0.0005983397454807364, 0.0007138598365314069, 0.0015957692912720617, 0.008965671858437338, 0.0028770078787098007, 0.0034174967194701756]}, 'elastic': {'bulk_modulus': [347.8302191769636, 339.2845392350548, 323.78847900197246, 368.0934900411954, 361.5618243705619, 252.0281217656138, 289.14455331275207, 52.21846281995633, 301.59916196950746, 318.4162594401787, 39.84312398609003, 93.58773581548203, 358.8538259954445, 172.59254549195447, 346.6465194600933, 245.23492939460093, 70.22371774466892, 156.66060985665513, 271.3911631306947, 45.016499025199835, 54.49717156822914, 169.70907870759996, 107.88195785649009, 226.12159002309454, 398.08809350689364, 153.5350792551188, 241.6336967578453, 115.90206270341177, 147.2234397337754, 345.3801388307072, 272.78542302341344, 357.9601556137081, 134.16247699924978, 256.5183423192592, 309.1744529984301, 290.58963112866485, 99.54130762063947, 273.5083151997907, 110.51527089645346, 105.59679010791304, 189.90477241091133, 139.5058297430174, 199.9821312656155, 49.41460061513345, 150.1368224499583, 386.76437536312426, 245.44629600955932, 381.8208280055779, 184.11537406440866, 117.94900687979359, 208.10462505821297, 147.9727171475144, 148.29296328370464, 107.95647023726174, 182.02548765855863, 233.5428967162508, 322.64003339117585, 229.96391472738705, 317.8846795218458, 198.87870939885508, 374.54861753933005, 156.8963252547879, 248.9623095438695, 109.16896562170037, 304.5763783353731, 28.33379483125822, 276.35773773823746, 127.90738614676766, 148.23105208949534, 207.67810105019976, 316.16111699188133, 123.93488965458839, 375.4963420814276, 139.83742766647367, 391.06823403816287, 79.08361915011953, 214.33740944183506, 168.97879841720282, 332.07944210437205, 324.677452577642, 141.8543246872529, 378.7279547098241, 188.50224953830786, 290.3162039962766, 218.4096614399377, 235.37137013162513, 144.92044955351125, 164.7285707096338, 131.87111361255333, 85.70207057648868, 203.7088873950923, 172.3149603046649, 102.78541307906492, 94.55098357114787, 239.28271664946155, 399.8293054273196, 381.60042806078604, 384.6517655387793, 104.30761120655947, 197.984452564147, 145.71522612218098, 244.88467883086116, 75.00071488329587, 159.12936084786523, 272.88058541153464, 162.29161245568562, 348.5654332037344, 164.77459276518104, 306.4535600948245, 50.635698365366906, 21.11587332162832, 313.6768911508015, 58.99646032677465, 35.75516631859398, 31.09168692868774, 29.8729160254022, 236.56929684091352, 185.04952354386137, 49.48845949605477, 390.4236630314465, 191.92548570057176, 333.6933554701442, 44.145427915483005, 128.64444908184925, 111.63431317052249, 32.07286836332658, 81.9285413798921, 93.9846346939848, 194.24939822491234, 251.39295195413345, 267.8459026894174, 282.24496728956717, 288.4335229574128, 75.60285005235679, 119.46246540657104, 341.0590303763734, 228.42836662428536, 154.0531408818979, 34.828513713987, 73.18916541841537, 361.1119775433549, 151.46582898649328, 323.65656256614335, 43.24895602270132, 27.395388074174612, 252.7704921915762, 324.89607805951306, 162.06738987707197, 394.6227862631479, 341.8852046052442, 247.011046469616, 128.09346016727721, 364.55024663421557, 344.7772720220439, 150.80202579351914, 285.3573804436724, 46.89838859090767, 333.1387905967351, 178.38528329970543, 55.73432043695496, 41.19646770382855, 168.12582556708568, 269.4291652933944, 123.08683119169153, 375.46867578318574, 356.95066487552293, 395.29177042381195, 217.32981545771764, 173.81995584078967, 245.03170213016259, 104.05658191427388, 20.906467372618643, 46.64921060161177, 345.4396608497112, 289.15535669519755, 40.16169780023785, 339.4420325628272, 108.53936369186705, 175.00578735680043, 210.46381175317168, 77.81604134343542], 'shear_modulus': [147.4640752684386, 142.41602098169727, 174.83694427546578, 134.2284589591772, 152.06437955359712, 131.8972501970577, 162.97736211812273, 125.33631211940627, 107.38584210549482, 154.02584667417096, 154.05351345643336, 184.85944501827151, 127.52111197287007, 194.0460094413222, 128.770557468466, 132.6085094568533, 151.3227040797565, 158.4307419162394, 112.54807415497561, 193.77520090995333, 183.15058963901703, 142.25181928244342, 156.39869890337255, 174.6046747057622, 199.1500504389585, 172.21150415915514, 174.7526123119789, 158.21012912873113, 170.9933344210024, 182.57097319527566, 157.5961909565723, 146.92919026631145, 125.96198270752215, 148.120818974874, 141.72929993986398, 127.15851447286771, 164.7019692276202, 141.5452090965926, 151.30551971620014, 155.78593021287324, 114.87231368062534, 168.22225961446753, 176.81569236570147, 141.9036876928421, 181.21843859071046, 145.09375148832413, 145.26051633628646, 101.1320282751318, 119.69677324252191, 140.76922314336036, 127.45461486653902, 149.33823334139458, 132.21143093548895, 144.4030499976123, 192.35199284539752, 108.56846981486947, 166.87230092186664, 189.7379677800552, 185.99252053360112, 184.62327838319746, 105.47647887199886, 111.93018115351774, 133.5357163757402, 123.3465160057553, 160.8740737896784, 167.2252526554123, 112.20219882792472, 147.72180557884113, 157.56398188886857, 190.3968294562428, 197.04427634850026, 124.64103647086006, 176.6889995266975, 166.8706695160893, 136.5621259221948, 105.91321335958206, 111.50850495943546, 111.44625246990374, 123.37458289251407, 161.88775817886346, 139.1572709342247, 160.35618720378494, 189.5260846549309, 154.40764005372395, 138.61243607029, 117.9226220191202, 158.53188723210428, 108.90296396304133, 143.76344203585793, 152.6405980490128, 123.14351021264774, 109.5054221579904, 103.39098232762981, 196.76685778033922, 124.66080782493222, 172.82956251603653, 199.55064704955777, 135.95334004148233, 102.12884010872544, 139.80200117209174, 194.38375801959694, 141.2687174880714, 105.96201851374491, 167.77173419117946, 121.33568189837555, 151.27217388315455, 172.50289686366744, 161.10672435741586, 142.12718753575683, 119.04475784762674, 182.48727513987484, 178.09251309250186, 122.94532086193986, 195.557288178491, 101.58119156781184, 141.58715792253645, 115.90002344440134, 121.01507833022403, 150.01549574657287, 186.42970354068217, 112.98268839279534, 162.97194400657335, 145.16187948202003, 197.07888637752407, 141.9443677532659, 112.50914159293377, 108.99748988593959, 126.86423730214986, 132.21668519888829, 104.50326685862733, 153.57111533423972, 137.9090481889209, 136.56824744057946, 126.49270881547503, 108.15831911325547, 176.40263389325276, 162.1853547702594, 193.4705229090758, 147.2780232746901, 103.5248933058977, 188.4526113836692, 197.1504652810026, 139.0954626330548, 169.28260514471268, 114.51672005954833, 104.80586057066137, 133.08686712576133, 156.27327971579226, 196.95171373832608, 108.56359370522671, 141.4647555874523, 124.11699569719462, 143.014141630911, 121.23354816196814, 137.91218232782137, 179.84583391366698, 190.04260010500582, 167.29235383132604, 188.14413386553247, 182.5107379912415, 191.71712779169474, 193.32425013963356, 148.43144914091607, 167.45526010342257, 178.42819491619233, 115.7371810726236, 120.38001081567482, 161.1197835452624, 170.97903158729923, 161.36437083573293, 117.76173866977874, 134.4411126591634, 115.82659746337274, 159.3951363208084, 143.54973289541255, 131.02058630891983, 184.26431618378174, 142.85942318800633, 118.21734318028487, 128.44062419551287, 126.84826650144284], 'universal_anisotropy': [1.3707521381408778, 1.4395334974869414, 1.6941101054684151, 1.446072419169071, 1.7180914860825198, 1.507175693551672, 1.6067927507401998, 1.377523201060098, 1.7370849805476771, 1.8715825651299642, 1.6751068462155385, 1.730126391800396, 1.4392479655178951, 1.7846587433076593, 1.9461726750187083, 1.4871764045155664, 1.4727779600100563, 1.4246647889431943, 1.3866862749346334, 1.3195646304721815, 1.9854049156985383, 1.312343650750326, 1.941440324001687, 1.7805326355084088, 1.3471534308250726, 1.5816036829042055, 1.3914092059192402, 1.9732244488357629, 1.803337663337644, 1.9531780441169233, 1.89916571556518, 1.9589376121534197, 1.3756219671092538, 1.5251765062084108, 1.844641990547009, 1.566350487794413, 1.4416797956609535, 1.493787687395849, 1.721504396669922, 1.9377106374630817, 1.9381921574236443, 1.8159428011741177, 1.6397895749845592, 1.5039868935898788, 1.9085118990824226, 1.9337152421948804, 1.852977327449047, 1.4364492338386325, 1.9256850976687723, 1.4167693232269682, 1.4997535958344124, 1.5401432872144585, 1.7539985693130875, 1.6016189692996288, 1.6800411277514737, 1.5980576756683884, 1.3768463523645043, 1.6095277176889735, 1.3976683689063447, 1.634666595452237, 1.721916824807183, 1.9066123911317818, 1.4610473776067114, 1.942798212933706, 1.74754272247286, 1.4076896987770813, 1.9636837174731108, 1.4637317216976442, 1.9567460630475573, 1.3925864524776161, 1.4735236740762883, 1.8544781025207286, 1.8489105316799153, 1.9275107183351379, 1.3934873708051074, 1.3891556144161223, 1.494291047663821, 1.5772369902808765, 1.7995648906050796, 1.4308036348622246, 1.4528113043859578, 1.7263109345556291, 1.485508745031371, 1.8067793559321768, 1.4538871290534885, 1.3296112931656647, 1.8412246353962827, 1.5710498806860078, 1.371844956929416, 1.8924211625616176, 1.7410552595091562, 1.7176185524466927, 1.952142093949699, 1.737960065975665, 1.5689741060700269, 1.993503534577083, 1.6594069764228556, 1.338021335766325, 1.6192926595145802, 1.6656600729046949, 1.3161064012064194, 1.9962215995713728, 1.8094940893511016, 1.8749149596398547, 1.7740555022530593, 1.9254876139266948, 1.388732451401279, 1.6812334247792304, 1.6951987395078902, 1.7518057354040466, 1.892042432142544, 1.5378347581012566, 1.4030463396131543, 1.4520841421591864, 1.573681638844687, 1.383612907556086, 1.9720178528005503, 1.7075392054239016, 1.9296154419815603, 1.9997576596718505, 1.9503294526135082, 1.6454019677648266, 1.412787203979385, 1.8474463923760704, 1.6319210825187054, 1.9220475349565178, 1.4666867635599052, 1.3002517289566622, 1.598660644222195, 1.3003481010547797, 1.55355564512705, 1.3079111291699448, 1.6999689607835562, 1.8595087125110652, 1.3135893260871196, 1.4893018473735822, 1.6923565928560254, 1.563398246547105, 1.9962440558437637, 1.3295041312682594, 1.7564634318521923, 1.9006502854796685, 1.7193030850080353, 1.3506809432930749, 1.916836903152929, 1.8433590180407893, 1.3243107027649803, 1.7283970266432072, 1.6127507664278138, 1.6967338659352837, 1.909373865456967, 1.9653496520220657, 1.7825030600624676, 1.9431791162620276, 1.730807368517316, 1.88902185301505, 1.8502430797128508, 1.9353689357651465, 1.379745935038249, 1.381145481989673, 1.4775229512412549, 1.8553301514466853, 1.5256623978423807, 1.786041895432228, 1.7980621365984801, 1.9153428634291307, 1.5485864725350376, 1.526149651488938, 1.4147605492675601, 1.8866199805416128, 1.8608161093924176, 1.5498980080198967, 1.9656700551174207, 1.6393259201531285, 1.619776702346786, 1.956276939412665, 1.667715821131223, 1.525289304041797, 1.4807973131363688, 1.7090378540509825, 1.90973520715285]}}, 'mat3': {'carrier-transport': {'elec_cond_300k_low_doping': [8.301616794436418, 5.629000589145924, 6.260518460362012, 2.9599556298556458, 8.36960110852484, 3.939779553689442, 1.7951295715941695, 1.6757771430298014, 1.0783023683764212, 6.828521282695358, 9.232383751985125, 8.302238466354346, 2.5516309137029354, 1.8855526864197028, 7.7662021906771574, 1.8595177203099458, 2.0167856191929525, 7.437638192411659, 5.79612215154025, 5.419334873927987, 8.707393104508284, 8.002094488424547, 8.55004669138945, 4.579186752898554, 1.8298601376585784, 1.8054006922601387, 7.907479935922399, 1.2795840023858598, 8.779664261743784, 5.728424139475731, 7.653499396295027, 9.64494700111037, 9.072631109581664, 6.75831533953853, 1.2914145715382805, 1.1189665187554374, 1.144303990251785, 2.883906586085942, 6.10232465662231, 6.570417617203785, 6.169113671000068, 7.197312223415562, 5.753608222688669, 2.112495374121277, 6.636110321960464, 8.313164130214544, 2.083768111536333, 1.1102846184937125, 3.1151331638777213, 8.324537195500096, 7.932590626404484, 9.339718624387036, 7.69153141827885, 3.1948592770090323, 5.002031654333143, 2.547140137881527, 5.221949736270381, 5.234578673691642, 8.391210970290654, 9.746959021866703, 4.311728599576657, 3.713035825482987, 2.1648080776983774, 1.526329615078959, 3.180862181051643, 9.339017451939002, 6.112256058358657, 9.117900529052408, 2.0475323068880926, 3.056264596821439, 4.733686886863948, 7.695516634294723, 1.0639278904514913, 1.2865110847750962, 4.367937118512794, 2.736692553018606, 1.0044913545800236, 8.700160284106762, 5.0705240939510405, 3.26999536646377, 1.482028804630442, 8.854241537521775, 1.8527298688883862, 3.795095745189312, 8.725502395368434, 2.9308912650876415, 5.4663390725942715, 7.539582167377672, 6.296367593778601, 4.06768246193297, 7.0189151490525035, 1.3019478613937696, 9.569842345084687, 4.570515099755991, 8.808687458747553, 7.0482621925653115, 1.4551093822393792, 2.3640317550078933, 5.7306839214828695, 1.713287292859596, 5.730687891631115, 7.529941991836629, 6.074605809418739, 7.34398641591839, 6.644239453495361, 9.11209151189704, 1.2764010716627578, 5.284682131022212, 1.0707535521405807, 3.716255729246359, 9.658503764053005, 3.830489908769133, 7.5136245298325655, 3.551400942922689, 7.653285894541946, 1.746257620679505, 3.172524922504308, 6.1121451631455175, 7.984869087930595, 3.968653528666284, 5.30894100303183, 8.806325472591247, 4.724958263847613, 9.576468358720618, 2.664272028426034, 9.990562658208653, 2.4308052313370894, 4.80757221953506, 6.454674161983806, 1.3368752415188228, 9.0440863195765, 1.64281360449732, 3.6727352897453103, 5.083330574926668, 9.381283754502546, 8.707739100109313, 2.146127211628237, 4.385871660033787, 3.277901866157044, 6.639548629139968, 6.541594435673458, 6.8338226497034995, 8.832226866280223, 4.767939995098975, 1.0455537631913283, 8.487852419308295, 6.205310567718554, 8.635973425396735, 1.9108251944726498, 4.201832348668424, 2.681408914706689, 6.288227481611821, 5.39508614884788, 5.300154759340393, 9.823455146992197, 5.720406842640159, 8.062067345073165, 4.111407212156855, 5.816263558822153, 9.765272755154744, 4.2022500795690165, 3.576569445092541, 3.961819414598571, 4.52030390682841, 1.325953226977767, 6.209467089426205, 9.05367784240611, 7.1782016780879205, 8.556384580326197, 3.5369203036690022, 1.9214737976666727, 1.1495016849301107, 5.648647716413636, 1.590880678638965, 6.194875793533457, 9.411540172994577, 6.067172933697839, 5.083438485405718, 3.02115221000677, 2.833778214580354, 3.623262281553093], 'therm_cond_300k_low_doping': [0.0025235351773018957, 0.004770229719022732, 0.0002607051087926053, 0.004708677024290339, 0.0010627321757935306, 0.0012887265328446573, 0.0031146236906961157, 0.000660924788933817, 0.0048175623716652, 0.00339845351546973, 0.00411781715527722, 0.0018983478624695434, 0.003711506595358531, 0.004412348674748111, 0.0048219107631177205, 0.0036831733443035337, 0.0011237574540323863, 0.004169123199941494, 0.004114379688736934, 0.004572390635025766, 0.0022356706412494875, 0.00398984131755836, 0.0044174662540330855, 0.004020982181070312, 0.0009643179539368821, 0.002858995187229937, 0.0040234232876305755, 0.004868956940693783, 0.002194846003123768, 0.0012710475512690018, 0.0004279860022622385, 0.00024360862539288703, 0.003909337696387839, 0.003776859598501696, 0.002061704060545627, 0.003263376460609247, 0.004892279563982034, 0.004167387994211333, 0.004599212832081792, 0.0005932830625305715, 0.004660006783746515, 0.0036673625063860446, 0.002310303392888856, 0.0027182846803682045, 0.0027887207268950625, 0.00020554609384129923, 0.004332265515096275, 0.003910155800434974, 0.004252740935204921, 0.0032305666300630827, 0.0026683067288907716, 0.003158500181553901, 0.0021842069478889, 0.0037026298219478586, 0.004405990200235369, 0.002934726506571466, 0.004933380486271379, 0.004769953755999811, 0.0028468519695803393, 0.0007191326452817086, 0.0026583373395389393, 0.0029561050980363747, 0.002339472899188527, 0.0036146350742021277, 0.0003637023903872301, 0.0038361339660694022, 0.0026183371005012346, 0.002006757272127963, 0.00026230187898715443, 0.0017056573136979543, 0.0007210917518245579, 0.002600594634438607, 0.004523614799474139, 0.00047278058818951447, 0.0018136223548309337, 0.0034470872612451815, 0.0002805742885562957, 0.004719691511887058, 0.004996815873039875, 0.004915291344083512, 0.002793535985170929, 0.004201745023395613, 0.0016660468356813197, 0.0019757728709646036, 0.004647624729062601, 0.004466508962821502, 0.0038695474066495357, 0.0006445201155814991, 0.0016088570636376728, 0.0034137275465128763, 0.0008693673997455241, 0.0028773811613288787, 0.0012597930939490388, 0.001946313804674636, 0.00378242718970061, 0.0017161715320231617, 0.0033100908759145643, 0.0012953921412185002, 0.0009256131072691874, 0.003910801289460907, 0.0015027505414662832, 0.003915263697453366, 0.002692283845632738, 0.004172188251021578, 0.0028519631432448174, 0.003999284179123512, 0.0026021719035668367, 0.0018185315814166613, 0.001033227713209052, 0.0008671700734645282, 0.0009423004376442901, 0.0029901070944307667, 0.001241698242321843, 0.0008958603959540197, 0.004118137769269448, 0.004340345956140126, 0.002858178294105338, 0.004994479120418111, 0.004004259038944532, 0.0016905268875133097, 0.0004912991091974749, 0.004993993089720133, 0.0002848302718504518, 0.0029806854502835256, 0.0014802777722359192, 0.0019234509293783542, 0.003962661589601768, 0.002936454343865667, 0.0016655807449667379, 0.003083880852052473, 0.0030252256949244664, 0.0009911133516521807, 0.004304859137861657, 0.0020634653796141114, 0.003665678737164556, 0.004956346675818893, 0.0033181126567231652, 0.004409701091863982, 0.004570972159515579, 0.003992894344916042, 0.004187077549896095, 0.0012031038874266945, 0.002293290185503819, 0.0020809296288235644, 0.0041680055110253685, 0.0033211944109172342, 0.0015465897077959689, 0.0026926342162746585, 0.0036605777332743236, 0.004992138666845079, 0.00491534900878473, 0.004302122904716679, 0.00104734762134393, 0.0024497351061116292, 0.0010579974852788358, 0.003301140595631761, 0.0011564376864975864, 0.0025320443093714774, 0.0005995256044216261, 0.002740342520866569, 0.0008489020145336629, 0.0004053465566879293, 0.0026111893459421012, 0.0004631337206518488, 0.0046768729163254455, 0.0025948510618254046, 0.0037333233735787476, 0.004538931359169254, 0.002261327976961247, 0.004239184187726083, 0.0021314661833172852, 0.0005150990927496275, 0.0002766863878401687, 0.0019398593765119188, 0.00496680342822378, 0.0032963536644377445, 0.004292936782537912, 0.004690537618800746, 0.0049188287521913536, 0.00413975745598136, 0.00436000694349518]}, 'elastic': {'bulk_modulus': [111.85013488721935, 178.89835170236861, 83.03659386798977, 291.46153112862737, 217.2848569206532, 180.08500166657075, 20.48720085174404, 253.24073373381663, 269.7884537422177, 54.34464272624478, 226.34489988847855, 20.2828523003464, 107.36629405280476, 133.69578825215848, 97.41699515298973, 205.0645606472038, 218.26440853287275, 227.8084331000774, 123.73628716965676, 224.3480924288365, 50.66858402133586, 103.23040230598818, 153.29257507243898, 90.71314874734189, 224.29285253937013, 127.78558056718651, 196.44596712002317, 121.7736530998203, 198.48212939247114, 79.88048616862287, 207.1233827450575, 74.9389243109143, 143.03077041310445, 255.86024260966383, 75.69251477491937, 180.71880363605825, 173.96198377091784, 157.5004209621082, 150.46020914049353, 189.9415995652157, 48.79470450720602, 194.21239218144, 268.73751932412006, 48.56554349737885, 251.94283680352694, 134.51778017902714, 142.3809604537953, 238.93389112732737, 108.19624451637085, 155.86301353493914, 52.75416807806697, 174.20814973011267, 292.05483144445725, 95.35804923840486, 213.73515850723123, 116.91662101471123, 105.42819767292472, 152.04708514041553, 259.9908411435646, 143.8214920733427, 169.73579249799437, 158.91222009631338, 35.981720144967554, 37.75799385033895, 230.95803068358947, 76.3514185768657, 248.2489723813225, 165.39303290555605, 112.20100473725033, 152.01254293376945, 37.456004193133424, 123.26376817370894, 37.45607412024701, 262.0242030305104, 189.16623204855588, 149.05084559006556, 241.51230225516917, 185.05588942417407, 226.88380166516515, 92.84987039957412, 233.31965752463492, 255.04128326185025, 41.89670933006106, 101.27433285748008, 146.53918994128676, 192.00963593916114, 156.51999371248016, 159.32451058312614, 247.9763503031938, 295.40810322623497, 212.33134998389465, 207.47593834209363, 81.0587610952358, 187.40814092839082, 256.840309907445, 189.13098637326712, 211.99655348759663, 147.69348771077102, 151.68325021526098, 290.54957955009263, 172.72372528426945, 210.92627035173672, 215.58063166705722, 97.32871759859174, 83.88793977465096, 278.1176268515886, 200.14544966388266, 58.70204749151889, 200.0293735448545, 267.1863451005182, 146.62956364319152, 246.67268534716766, 162.66947085190745, 212.65678430500094, 240.2882347233838, 158.08458134245336, 21.58641402792229, 276.64425848752256, 40.33074516087218, 124.04534418555265, 219.87977379215658, 247.4779055214738, 251.14087889366792, 167.40804727137004, 144.46543123675968, 143.60212567304308, 87.87058560488653, 83.24798123854708, 192.46380693403967, 134.04288760151988, 95.16764269457413, 75.17011022178015, 208.20810430530943, 50.13309031868734, 295.21586400469226, 146.60396975840143, 250.77545007329732, 140.0415730192179, 187.4854452563712, 86.53308074350194, 57.01188555252349, 140.46736348463116, 185.92675596224618, 233.49664736264094, 75.82728963457754, 238.79665500284497, 268.9153061441528, 72.77159917308407, 136.14727922903148, 58.74703255096119, 79.5810268511695, 62.858296568384645, 268.4268812589951, 164.66507153740162, 51.223085041323145, 227.4485604584773, 282.73180078775897, 46.261025894653436, 195.09578328024665, 293.90599117621906, 148.39126233659533, 260.3583681646845, 92.30983033658461, 130.52648281554988, 59.0484028591927, 85.66925490919112, 164.5098363827985, 246.62175158911373, 68.36177858162029, 33.56111023706287, 166.26384214853388, 20.546805896387585, 219.12948651836234, 223.18009731456354, 180.7847511473519, 173.3723853927862, 114.22562801753173, 291.5902425758482, 255.86159743547475, 20.161137178616585, 34.83390372875777], 'shear_modulus': [232.13947125831749, 269.3914323314352, 106.80091496553148, 242.66285608084075, 230.47415317419376, 192.06551772183096, 226.66591513084018, 120.31312825872465, 164.62702292635157, 185.26216139276212, 157.56127459757215, 254.3779482430139, 271.48113483538026, 274.7860247207085, 175.68914371975453, 270.7865353307085, 128.08501677295567, 142.2292993039324, 245.38590931027167, 299.10768721084577, 176.34956375518033, 155.38996231939774, 107.52380857079214, 193.49962872617579, 210.67009613346792, 144.61987457938955, 206.41632238180043, 230.41784118584206, 144.6452878660069, 261.45870922844006, 250.14126395836368, 250.42961395775436, 280.4831404131269, 261.68123598136197, 118.4193635549278, 120.29310461643598, 130.64621206152586, 227.73131484581882, 118.78677999943798, 164.42911094379858, 172.57043037249383, 207.72092869400495, 112.88774977507168, 160.86138087890245, 258.8725288418642, 173.78110020307446, 142.88588817980906, 170.73590407613113, 206.66692311863162, 259.82638390840134, 251.1067408994011, 149.58099355242024, 240.72210981705905, 157.12951525171312, 230.7925634225211, 177.40821243644945, 217.42534795738874, 180.5910544269998, 125.79649460203066, 266.2607878152968, 228.43761971790573, 205.56509322913615, 160.08629262005763, 144.0660901502518, 146.37954609559827, 271.93159826298427, 284.48534130984933, 294.28145963859333, 181.59339628706635, 198.47787897437348, 144.0591473056264, 139.87189664780192, 193.605690163475, 297.6789017540051, 253.50244900262035, 287.4713020751673, 157.1248882911534, 229.0518917242669, 242.905395505245, 198.05342754544483, 193.60335112965515, 206.03156328261986, 180.81860812169677, 115.50963954079305, 259.94738384019695, 205.58690503645187, 143.01200636862998, 296.06231592954606, 155.11530117809588, 228.99393883006925, 181.7726051636301, 286.189207571376, 135.2792194790976, 215.08532296666198, 122.34605593629928, 226.60630723644732, 259.8747441774217, 180.70241624613965, 263.9113499262862, 254.67050193351812, 174.14302954550107, 207.16647730660156, 260.7427047761385, 211.02237025148074, 108.48737080749615, 272.99123490747706, 155.61635480076484, 135.9040560074189, 209.17478087230478, 201.6330121557316, 202.90307558473597, 268.7264851967656, 250.6641026065408, 269.18574379093866, 144.96223744913294, 236.13413359186973, 284.29664186472985, 265.53380641847195, 166.33333806105065, 294.5487538212878, 205.59909619445284, 162.03532666201136, 284.45856311306784, 159.21046537087017, 233.98741781596527, 115.42267351806588, 226.00783220839168, 242.2007344961624, 222.40652720606676, 268.64867169942346, 172.9464097733428, 100.34121958654372, 261.61888546648885, 165.8291166022198, 170.43386624042873, 177.05084826077027, 188.08555743504462, 145.80181144220683, 193.99485329166913, 271.69122464572524, 152.9282962188691, 143.37845378084685, 290.3450327512686, 149.37342027442278, 262.65423981710546, 187.03822110366895, 199.45919526603154, 157.17542007665, 220.5662913479465, 237.32807446161212, 188.75287219911323, 245.57322812018697, 129.41648630750768, 149.91707751384305, 189.48725441094018, 173.56813166373624, 112.93001606235553, 116.11611450141112, 177.4928667763383, 218.11104476368507, 275.1709590228851, 262.2080896718119, 158.65249589715847, 127.50186359844027, 122.53057621456422, 163.16715086005348, 240.25914148592295, 207.23448220122222, 163.9476713295038, 125.47281859343349, 133.5071350223418, 185.02243251329529, 276.4842777194418, 207.48408839497358, 114.65960663192033, 206.44072034768334, 269.8636951339239, 210.33630689164062, 244.38157348419045, 192.55028693200165, 118.72906949410319], 'universal_anisotropy': [1.4682487848517298, 1.6199713180408717, 1.7585284614241685, 1.246870966838658, 1.5094937587554935, 1.5231815873731278, 1.7724682617245342, 1.692997100790139, 1.084040893948995, 1.860843940514274, 1.3817879255422119, 1.259525901284996, 1.5197675966301722, 1.0875367787522392, 1.0442960840020374, 1.1999256401883158, 1.7406894181977117, 1.3795958916214222, 1.324765190745133, 1.8629233021481997, 1.5881012593697243, 1.037511963700974, 1.7042505716248326, 1.7501899262057443, 1.0888551766814558, 1.5194947329224404, 1.8726112500359475, 1.5901489023534636, 1.7347306198722716, 1.1588344965312696, 1.3410713705956134, 1.3999718096444347, 1.2795589476063598, 1.0111531239701592, 1.6817581729581814, 1.9844598871509134, 1.03798777498758, 1.4546796558533261, 1.5480152119771775, 1.8637051841393446, 1.3098495029318455, 1.4280375917344659, 1.5992140124536742, 1.497269998000959, 1.9199648855547506, 1.7845553015160185, 1.6967061854450969, 1.493014921000696, 1.1046198948585384, 1.4655792635879772, 1.4060431278727379, 1.818301194903755, 1.1932223845988523, 1.9314041104281672, 1.6031994605366409, 1.6274068802206578, 1.6201763250648398, 1.0429091886164064, 1.6542399953750357, 1.9829253688731265, 1.168985832015904, 1.8450107726567524, 1.4766321736645869, 1.3397771779949492, 1.1137049943554866, 1.101366716257414, 1.335582839965978, 1.858766767986231, 1.6747140201692827, 1.448768664174498, 1.5673595083114795, 1.9864833559861101, 1.8898044566295051, 1.608396242806855, 1.7296723698091852, 1.1855519649000907, 1.2867661684366982, 1.086870014493393, 1.2149272388617147, 1.4955809019471946, 1.6884650216272985, 1.2583145500203257, 1.1302377105450452, 1.5450553913563834, 1.6314519532725318, 1.5535041956109046, 1.945546105483584, 1.011313684653186, 1.8136760518354902, 1.6091136892409117, 1.5188096828077136, 1.815957635975698, 1.206164717305167, 1.3610187659684998, 1.5997997094743908, 1.9340681417643264, 1.5801848877224822, 1.5859484745358507, 1.6577151393961094, 1.7234460490877699, 1.6544359870062317, 1.5166160357744043, 1.758210355938949, 1.4632669853505678, 1.2500293355936452, 1.8180931823107285, 1.4168078488615654, 1.856143519040713, 1.3537117119989188, 1.8134751169395182, 1.188533620867822, 1.7035139671130182, 1.355160823625214, 1.6905165658298165, 1.0616945581024178, 1.3052997159649913, 1.7375089496925715, 1.23223968003009, 1.9584272048830222, 1.9143410829495258, 1.9447652233329324, 1.4382279047724125, 1.8956660859729735, 1.087168686708687, 1.9460257743904879, 1.1820151079598964, 1.546793410766409, 1.65945094286473, 1.0398293851360236, 1.7957656041483006, 1.8497943361543707, 1.6791967688449685, 1.7650934040587765, 1.8634376773427523, 1.574582756467171, 1.889816095704282, 1.6352011006016576, 1.9384724377901992, 1.1847149678066984, 1.5904767114425375, 1.4580180316074145, 1.3864744404209612, 1.9748294297104423, 1.2322307737544866, 1.8314311064067017, 1.1680692028710102, 1.64794344958455, 1.4978005950004365, 1.7766617094796278, 1.8107634054946935, 1.3405298373282841, 1.860654734504339, 1.2485626088994675, 1.0332489802808196, 1.6561427090793712, 1.4327294885961575, 1.6248608632477959, 1.4411366181937146, 1.2946798268192472, 1.331201708214007, 1.5078039010892192, 1.973633494188301, 1.4192089288132088, 1.6380141578783936, 1.7312863918860089, 1.7674835788308285, 1.4856243779556588, 1.450745163935943, 1.464448627289566, 1.272055856157063, 1.0630053821674164, 1.3209674013246757, 1.417463528209797, 1.2258902852638742, 1.793680443101167, 1.3106196575233153, 1.2819159461520764, 1.8732479190275115, 1.928022507122079, 1.597801884702645, 1.6403702982392847]}}}\n",
      "keys of best_designs_dict: dict_keys(['mat1', 'mat2', 'mat3'])\n",
      "keys of best_designs_dict['mat1']: dict_keys(['carrier-transport', 'elastic'])\n",
      "overall_bounds_dict: {'elec_cond_300k_low_doping': {'upper_bound': 20.0, 'lower_bound': 1.0}, 'therm_cond_300k_low_doping': {'upper_bound': 0.009, 'lower_bound': 1e-05}, 'bulk_modulus': {'upper_bound': 400.0, 'lower_bound': 20.0}, 'shear_modulus': {'upper_bound': 300.0, 'lower_bound': 80.0}, 'universal_anisotropy': {'upper_bound': 2.0, 'lower_bound': 1.0}}\n",
      "overall_bounds_dict: {'elec_cond_300k_low_doping': {'upper_bound': 20.0, 'lower_bound': 1.0}, 'therm_cond_300k_low_doping': {'upper_bound': 0.009, 'lower_bound': 1e-05}, 'bulk_modulus': {'upper_bound': 400.0, 'lower_bound': 20.0}, 'shear_modulus': {'upper_bound': 300.0, 'lower_bound': 80.0}, 'universal_anisotropy': {'upper_bound': 2.0, 'lower_bound': 1.0}}\n",
      "Initial query: {'bulk_modulus': (20.0, 400.0), 'shear_modulus': (80.0, 300.0), 'universal_anisotropy': (1.0, 2.0)}\n",
      "Fields: ['material_id', 'formula_pretty', 'bulk_modulus', 'shear_modulus', 'universal_anisotropy']\n"
     ]
    },
    {
     "data": {
      "application/vnd.jupyter.widget-view+json": {
       "model_id": "32c6910663794c8c890116f30d16c594",
       "version_major": 2,
       "version_minor": 0
      },
      "text/plain": [
       "Retrieving SummaryDoc documents:   0%|          | 0/187 [00:00<?, ?it/s]"
      ]
     },
     "metadata": {},
     "output_type": "display_data"
    },
    {
     "name": "stdout",
     "output_type": "stream",
     "text": [
      "Initialized result_dict: {'material_id': [], 'formula_pretty': [], 'elec_cond_300k_low_doping': [], 'therm_cond_300k_low_doping': [], 'e_electronic': [], 'e_ionic': [], 'e_total': [], 'n': [], 'bulk_modulus_voigt': [], 'shear_modulus_voigt': [], 'universal_anisotropy': [], 'total_magnetization': [], 'total_magnetization_normalized_vol': [], 'e_ij_max': []}\n",
      "Length of material_id: 187\n",
      "Keys of result_dict: dict_keys(['material_id', 'formula_pretty', 'elec_cond_300k_low_doping', 'therm_cond_300k_low_doping', 'e_electronic', 'e_ionic', 'e_total', 'n', 'bulk_modulus_voigt', 'shear_modulus_voigt', 'universal_anisotropy', 'total_magnetization', 'total_magnetization_normalized_vol', 'e_ij_max'])\n",
      "Carrier transport is in the property categories\n",
      "Query for carrier transport: {'elec_cond_300k_low_doping': (1.0, 20.0), 'therm_cond_300k_low_doping': (1e-05, 0.009)}\n",
      "Tables: {'data': [{'identifier': 'mp-764111', 'data': {'sigma': {'p': {'display': '0.762958 1/fΩ/m/s', 'value': 0.762958, 'error': None, 'unit': '1/fΩ/m/s'}}, 'kappa': {'p': {'display': '1.00117 GW/K/m/s', 'value': 1.00117, 'error': None, 'unit': 'GW/K/m/s'}}}}, {'identifier': 'mp-680167', 'data': {'sigma': {'p': {'display': '0.562677 1/fΩ/m/s', 'value': 0.562677, 'error': None, 'unit': '1/fΩ/m/s'}}, 'kappa': {'p': {'display': '1.0013 GW/K/m/s', 'value': 1.0013, 'error': None, 'unit': 'GW/K/m/s'}}}}, {'identifier': 'mp-23444', 'data': {'sigma': {'p': {'display': '0.59234 1/fΩ/m/s', 'value': 0.59234, 'error': None, 'unit': '1/fΩ/m/s'}}, 'kappa': {'p': {'display': '1.00183 GW/K/m/s', 'value': 1.00183, 'error': None, 'unit': 'GW/K/m/s'}}}}, {'identifier': 'mp-863294', 'data': {'sigma': {'p': {'display': '0.994115 1/fΩ/m/s', 'value': 0.994115, 'error': None, 'unit': '1/fΩ/m/s'}}, 'kappa': {'p': {'display': '1.00249 GW/K/m/s', 'value': 1.00249, 'error': None, 'unit': 'GW/K/m/s'}}}}, {'identifier': 'mp-554184', 'data': {'sigma': {'p': {'display': '0.785786 1/fΩ/m/s', 'value': 0.785786, 'error': None, 'unit': '1/fΩ/m/s'}}, 'kappa': {'p': {'display': '1.00399 GW/K/m/s', 'value': 1.00399, 'error': None, 'unit': 'GW/K/m/s'}}}}, {'identifier': 'mp-764752', 'data': {'sigma': {'p': {'display': '0.373075 1/fΩ/m/s', 'value': 0.373075, 'error': None, 'unit': '1/fΩ/m/s'}}, 'kappa': {'p': {'display': '1.00418 GW/K/m/s', 'value': 1.00418, 'error': None, 'unit': 'GW/K/m/s'}}}}, {'identifier': 'mp-645346', 'data': {'sigma': {'p': {'display': '0.548543 1/fΩ/m/s', 'value': 0.548543, 'error': None, 'unit': '1/fΩ/m/s'}}, 'kappa': {'p': {'display': '1.00423 GW/K/m/s', 'value': 1.00423, 'error': None, 'unit': 'GW/K/m/s'}}}}, {'identifier': 'mp-29871', 'data': {'sigma': {'p': {'display': '0.545303 1/fΩ/m/s', 'value': 0.545303, 'error': None, 'unit': '1/fΩ/m/s'}}, 'kappa': {'p': {'display': '1.00465 GW/K/m/s', 'value': 1.00465, 'error': None, 'unit': 'GW/K/m/s'}}}}, {'identifier': 'mp-774009', 'data': {'sigma': {'p': {'display': '0.23001 1/fΩ/m/s', 'value': 0.23001, 'error': None, 'unit': '1/fΩ/m/s'}}, 'kappa': {'p': {'display': '1.00479 GW/K/m/s', 'value': 1.00479, 'error': None, 'unit': 'GW/K/m/s'}}}}, {'identifier': 'mp-567256', 'data': {'sigma': {'p': {'display': '0.456951 1/fΩ/m/s', 'value': 0.456951, 'error': None, 'unit': '1/fΩ/m/s'}}, 'kappa': {'p': {'display': '1.00505 GW/K/m/s', 'value': 1.00505, 'error': None, 'unit': 'GW/K/m/s'}}}}, {'identifier': 'mp-707285', 'data': {'sigma': {'p': {'display': '0.98485 1/fΩ/m/s', 'value': 0.98485, 'error': None, 'unit': '1/fΩ/m/s'}}, 'kappa': {'p': {'display': '1.00506 GW/K/m/s', 'value': 1.00506, 'error': None, 'unit': 'GW/K/m/s'}}}}, {'identifier': 'mp-554761', 'data': {'sigma': {'p': {'display': '0.455414 1/fΩ/m/s', 'value': 0.455414, 'error': None, 'unit': '1/fΩ/m/s'}}, 'kappa': {'p': {'display': '1.00589 GW/K/m/s', 'value': 1.00589, 'error': None, 'unit': 'GW/K/m/s'}}}}, {'identifier': 'mp-573751', 'data': {'sigma': {'p': {'display': '0.543706 1/fΩ/m/s', 'value': 0.543706, 'error': None, 'unit': '1/fΩ/m/s'}}, 'kappa': {'p': {'display': '1.00619 GW/K/m/s', 'value': 1.00619, 'error': None, 'unit': 'GW/K/m/s'}}}}, {'identifier': 'mp-775705', 'data': {'sigma': {'p': {'display': '0.994016 1/fΩ/m/s', 'value': 0.994016, 'error': None, 'unit': '1/fΩ/m/s'}}, 'kappa': {'p': {'display': '1.0064 GW/K/m/s', 'value': 1.0064, 'error': None, 'unit': 'GW/K/m/s'}}}}, {'identifier': 'mp-17196', 'data': {'sigma': {'p': {'display': '0.802199 1/fΩ/m/s', 'value': 0.802199, 'error': None, 'unit': '1/fΩ/m/s'}}, 'kappa': {'p': {'display': '1.00651 GW/K/m/s', 'value': 1.00651, 'error': None, 'unit': 'GW/K/m/s'}}}}, {'identifier': 'mp-776733', 'data': {'sigma': {'p': {'display': '0.372465 1/fΩ/m/s', 'value': 0.372465, 'error': None, 'unit': '1/fΩ/m/s'}}, 'kappa': {'p': {'display': '1.00745 GW/K/m/s', 'value': 1.00745, 'error': None, 'unit': 'GW/K/m/s'}}}}, {'identifier': 'mp-18684', 'data': {'sigma': {'p': {'display': '0.394169 1/fΩ/m/s', 'value': 0.394169, 'error': None, 'unit': '1/fΩ/m/s'}}, 'kappa': {'p': {'display': '1.00757 GW/K/m/s', 'value': 1.00757, 'error': None, 'unit': 'GW/K/m/s'}}}}, {'identifier': 'mp-557112', 'data': {'sigma': {'p': {'display': '0.790154 1/fΩ/m/s', 'value': 0.790154, 'error': None, 'unit': '1/fΩ/m/s'}}, 'kappa': {'p': {'display': '1.0081 GW/K/m/s', 'value': 1.0081, 'error': None, 'unit': 'GW/K/m/s'}}}}, {'identifier': 'mp-28757', 'data': {'sigma': {'p': {'display': '0.423905 1/fΩ/m/s', 'value': 0.423905, 'error': None, 'unit': '1/fΩ/m/s'}}, 'kappa': {'p': {'display': '1.00836 GW/K/m/s', 'value': 1.00836, 'error': None, 'unit': 'GW/K/m/s'}}}}, {'identifier': 'mp-769681', 'data': {'sigma': {'p': {'display': '0.86326 1/fΩ/m/s', 'value': 0.86326, 'error': None, 'unit': '1/fΩ/m/s'}}, 'kappa': {'p': {'display': '1.00861 GW/K/m/s', 'value': 1.00861, 'error': None, 'unit': 'GW/K/m/s'}}}}, {'identifier': 'mp-720817', 'data': {'sigma': {'p': {'display': '0.53865 1/fΩ/m/s', 'value': 0.53865, 'error': None, 'unit': '1/fΩ/m/s'}}, 'kappa': {'p': {'display': '1.00874 GW/K/m/s', 'value': 1.00874, 'error': None, 'unit': 'GW/K/m/s'}}}}, {'identifier': 'mp-779822', 'data': {'sigma': {'p': {'display': '0.857241 1/fΩ/m/s', 'value': 0.857241, 'error': None, 'unit': '1/fΩ/m/s'}}, 'kappa': {'p': {'display': '1.00876 GW/K/m/s', 'value': 1.00876, 'error': None, 'unit': 'GW/K/m/s'}}}}, {'identifier': 'mp-779518', 'data': {'sigma': {'p': {'display': '0.479798 1/fΩ/m/s', 'value': 0.479798, 'error': None, 'unit': '1/fΩ/m/s'}}, 'kappa': {'p': {'display': '1.00888 GW/K/m/s', 'value': 1.00888, 'error': None, 'unit': 'GW/K/m/s'}}}}, {'identifier': 'mp-765946', 'data': {'sigma': {'p': {'display': '0.341084 1/fΩ/m/s', 'value': 0.341084, 'error': None, 'unit': '1/fΩ/m/s'}}, 'kappa': {'p': {'display': '1.00922 GW/K/m/s', 'value': 1.00922, 'error': None, 'unit': 'GW/K/m/s'}}}}, {'identifier': 'mp-8985', 'data': {'sigma': {'p': {'display': '0.821281 1/fΩ/m/s', 'value': 0.821281, 'error': None, 'unit': '1/fΩ/m/s'}}, 'kappa': {'p': {'display': '1.01015 GW/K/m/s', 'value': 1.01015, 'error': None, 'unit': 'GW/K/m/s'}}}}, {'identifier': 'mp-743881', 'data': {'sigma': {'p': {'display': '0.368554 1/fΩ/m/s', 'value': 0.368554, 'error': None, 'unit': '1/fΩ/m/s'}}, 'kappa': {'p': {'display': '1.01027 GW/K/m/s', 'value': 1.01027, 'error': None, 'unit': 'GW/K/m/s'}}}}, {'identifier': 'mp-568252', 'data': {'sigma': {'p': {'display': '0.570768 1/fΩ/m/s', 'value': 0.570768, 'error': None, 'unit': '1/fΩ/m/s'}}, 'kappa': {'p': {'display': '1.01035 GW/K/m/s', 'value': 1.01035, 'error': None, 'unit': 'GW/K/m/s'}}}}, {'identifier': 'mp-570857', 'data': {'sigma': {'p': {'display': '0.387986 1/fΩ/m/s', 'value': 0.387986, 'error': None, 'unit': '1/fΩ/m/s'}}, 'kappa': {'p': {'display': '1.01102 GW/K/m/s', 'value': 1.01102, 'error': None, 'unit': 'GW/K/m/s'}}}}, {'identifier': 'mp-763513', 'data': {'sigma': {'p': {'display': '0.832393 1/fΩ/m/s', 'value': 0.832393, 'error': None, 'unit': '1/fΩ/m/s'}}, 'kappa': {'p': {'display': '1.01105 GW/K/m/s', 'value': 1.01105, 'error': None, 'unit': 'GW/K/m/s'}}}}, {'identifier': 'mp-764643', 'data': {'sigma': {'p': {'display': '0.809917 1/fΩ/m/s', 'value': 0.809917, 'error': None, 'unit': '1/fΩ/m/s'}}, 'kappa': {'p': {'display': '1.01106 GW/K/m/s', 'value': 1.01106, 'error': None, 'unit': 'GW/K/m/s'}}}}, {'identifier': 'mp-764374', 'data': {'sigma': {'p': {'display': '0.987305 1/fΩ/m/s', 'value': 0.987305, 'error': None, 'unit': '1/fΩ/m/s'}}, 'kappa': {'p': {'display': '1.01263 GW/K/m/s', 'value': 1.01263, 'error': None, 'unit': 'GW/K/m/s'}}}}, {'identifier': 'mp-849430', 'data': {'sigma': {'p': {'display': '0.421989 1/fΩ/m/s', 'value': 0.421989, 'error': None, 'unit': '1/fΩ/m/s'}}, 'kappa': {'p': {'display': '1.01312 GW/K/m/s', 'value': 1.01312, 'error': None, 'unit': 'GW/K/m/s'}}}}, {'identifier': 'mp-648843', 'data': {'sigma': {'p': {'display': '1.53359 1/fΩ/m/s', 'value': 1.53359, 'error': None, 'unit': '1/fΩ/m/s'}}, 'kappa': {'p': {'display': '1.01358 GW/K/m/s', 'value': 1.01358, 'error': None, 'unit': 'GW/K/m/s'}}}}, {'identifier': 'mp-14380', 'data': {'sigma': {'p': {'display': '0.401341 1/fΩ/m/s', 'value': 0.401341, 'error': None, 'unit': '1/fΩ/m/s'}}, 'kappa': {'p': {'display': '1.0149 GW/K/m/s', 'value': 1.0149, 'error': None, 'unit': 'GW/K/m/s'}}}}, {'identifier': 'mp-776723', 'data': {'sigma': {'p': {'display': '0.605572 1/fΩ/m/s', 'value': 0.605572, 'error': None, 'unit': '1/fΩ/m/s'}}, 'kappa': {'p': {'display': '1.01644 GW/K/m/s', 'value': 1.01644, 'error': None, 'unit': 'GW/K/m/s'}}}}, {'identifier': 'mp-863884', 'data': {'sigma': {'p': {'display': '0.729148 1/fΩ/m/s', 'value': 0.729148, 'error': None, 'unit': '1/fΩ/m/s'}}, 'kappa': {'p': {'display': '1.01817 GW/K/m/s', 'value': 1.01817, 'error': None, 'unit': 'GW/K/m/s'}}}}, {'identifier': 'mp-734124', 'data': {'sigma': {'p': {'display': '0.961778 1/fΩ/m/s', 'value': 0.961778, 'error': None, 'unit': '1/fΩ/m/s'}}, 'kappa': {'p': {'display': '1.01895 GW/K/m/s', 'value': 1.01895, 'error': None, 'unit': 'GW/K/m/s'}}}}, {'identifier': 'mp-766623', 'data': {'sigma': {'p': {'display': '0.28762 1/fΩ/m/s', 'value': 0.28762, 'error': None, 'unit': '1/fΩ/m/s'}}, 'kappa': {'p': {'display': '1.01959 GW/K/m/s', 'value': 1.01959, 'error': None, 'unit': 'GW/K/m/s'}}}}, {'identifier': 'mp-766731', 'data': {'sigma': {'p': {'display': '0.9042 1/fΩ/m/s', 'value': 0.9042, 'error': None, 'unit': '1/fΩ/m/s'}}, 'kappa': {'p': {'display': '1.02002 GW/K/m/s', 'value': 1.02002, 'error': None, 'unit': 'GW/K/m/s'}}}}, {'identifier': 'mp-675978', 'data': {'sigma': {'p': {'display': '0.444666 1/fΩ/m/s', 'value': 0.444666, 'error': None, 'unit': '1/fΩ/m/s'}}, 'kappa': {'p': {'display': '1.021 GW/K/m/s', 'value': 1.021, 'error': None, 'unit': 'GW/K/m/s'}}}}, {'identifier': 'mp-505436', 'data': {'sigma': {'p': {'display': '0.707775 1/fΩ/m/s', 'value': 0.707775, 'error': None, 'unit': '1/fΩ/m/s'}}, 'kappa': {'p': {'display': '1.02115 GW/K/m/s', 'value': 1.02115, 'error': None, 'unit': 'GW/K/m/s'}}}}, {'identifier': 'mp-763827', 'data': {'sigma': {'p': {'display': '0.884191 1/fΩ/m/s', 'value': 0.884191, 'error': None, 'unit': '1/fΩ/m/s'}}, 'kappa': {'p': {'display': '1.02237 GW/K/m/s', 'value': 1.02237, 'error': None, 'unit': 'GW/K/m/s'}}}}, {'identifier': 'mp-565622', 'data': {'sigma': {'p': {'display': '0.258279 1/fΩ/m/s', 'value': 0.258279, 'error': None, 'unit': '1/fΩ/m/s'}}, 'kappa': {'p': {'display': '1.02319 GW/K/m/s', 'value': 1.02319, 'error': None, 'unit': 'GW/K/m/s'}}}}, {'identifier': 'mp-761484', 'data': {'sigma': {'p': {'display': '0.676113 1/fΩ/m/s', 'value': 0.676113, 'error': None, 'unit': '1/fΩ/m/s'}}, 'kappa': {'p': {'display': '1.02349 GW/K/m/s', 'value': 1.02349, 'error': None, 'unit': 'GW/K/m/s'}}}}, {'identifier': 'mp-505733', 'data': {'sigma': {'p': {'display': '0.46706 1/fΩ/m/s', 'value': 0.46706, 'error': None, 'unit': '1/fΩ/m/s'}}, 'kappa': {'p': {'display': '1.0238 GW/K/m/s', 'value': 1.0238, 'error': None, 'unit': 'GW/K/m/s'}}}}, {'identifier': 'mp-721699', 'data': {'sigma': {'p': {'display': '0.347243 1/fΩ/m/s', 'value': 0.347243, 'error': None, 'unit': '1/fΩ/m/s'}}, 'kappa': {'p': {'display': '1.02383 GW/K/m/s', 'value': 1.02383, 'error': None, 'unit': 'GW/K/m/s'}}}}, {'identifier': 'mp-567344', 'data': {'sigma': {'p': {'display': '1.03411 1/fΩ/m/s', 'value': 1.03411, 'error': None, 'unit': '1/fΩ/m/s'}}, 'kappa': {'p': {'display': '1.02394 GW/K/m/s', 'value': 1.02394, 'error': None, 'unit': 'GW/K/m/s'}}}}, {'identifier': 'mp-775432', 'data': {'sigma': {'p': {'display': '0.436679 1/fΩ/m/s', 'value': 0.436679, 'error': None, 'unit': '1/fΩ/m/s'}}, 'kappa': {'p': {'display': '1.02571 GW/K/m/s', 'value': 1.02571, 'error': None, 'unit': 'GW/K/m/s'}}}}, {'identifier': 'mp-558667', 'data': {'sigma': {'p': {'display': '0.660954 1/fΩ/m/s', 'value': 0.660954, 'error': None, 'unit': '1/fΩ/m/s'}}, 'kappa': {'p': {'display': '1.02985 GW/K/m/s', 'value': 1.02985, 'error': None, 'unit': 'GW/K/m/s'}}}}, {'identifier': 'mp-28481', 'data': {'sigma': {'p': {'display': '0.720121 1/fΩ/m/s', 'value': 0.720121, 'error': None, 'unit': '1/fΩ/m/s'}}, 'kappa': {'p': {'display': '1.0306 GW/K/m/s', 'value': 1.0306, 'error': None, 'unit': 'GW/K/m/s'}}}}, {'identifier': 'mp-707219', 'data': {'sigma': {'p': {'display': '1.16099 1/fΩ/m/s', 'value': 1.16099, 'error': None, 'unit': '1/fΩ/m/s'}}, 'kappa': {'p': {'display': '1.03204 GW/K/m/s', 'value': 1.03204, 'error': None, 'unit': 'GW/K/m/s'}}}}, {'identifier': 'mp-684743', 'data': {'sigma': {'p': {'display': '1.10165 1/fΩ/m/s', 'value': 1.10165, 'error': None, 'unit': '1/fΩ/m/s'}}, 'kappa': {'p': {'display': '1.03217 GW/K/m/s', 'value': 1.03217, 'error': None, 'unit': 'GW/K/m/s'}}}}, {'identifier': 'mp-744148', 'data': {'sigma': {'p': {'display': '0.884419 1/fΩ/m/s', 'value': 0.884419, 'error': None, 'unit': '1/fΩ/m/s'}}, 'kappa': {'p': {'display': '1.03323 GW/K/m/s', 'value': 1.03323, 'error': None, 'unit': 'GW/K/m/s'}}}}, {'identifier': 'mp-706937', 'data': {'sigma': {'p': {'display': '0.570667 1/fΩ/m/s', 'value': 0.570667, 'error': None, 'unit': '1/fΩ/m/s'}}, 'kappa': {'p': {'display': '1.03325 GW/K/m/s', 'value': 1.03325, 'error': None, 'unit': 'GW/K/m/s'}}}}, {'identifier': 'mp-558514', 'data': {'sigma': {'p': {'display': '1.10423 1/fΩ/m/s', 'value': 1.10423, 'error': None, 'unit': '1/fΩ/m/s'}}, 'kappa': {'p': {'display': '1.03344 GW/K/m/s', 'value': 1.03344, 'error': None, 'unit': 'GW/K/m/s'}}}}, {'identifier': 'mp-766772', 'data': {'sigma': {'p': {'display': '0.443488 1/fΩ/m/s', 'value': 0.443488, 'error': None, 'unit': '1/fΩ/m/s'}}, 'kappa': {'p': {'display': '1.03358 GW/K/m/s', 'value': 1.03358, 'error': None, 'unit': 'GW/K/m/s'}}}}, {'identifier': 'mp-540456', 'data': {'sigma': {'p': {'display': '0.648043 1/fΩ/m/s', 'value': 0.648043, 'error': None, 'unit': '1/fΩ/m/s'}}, 'kappa': {'p': {'display': '1.03408 GW/K/m/s', 'value': 1.03408, 'error': None, 'unit': 'GW/K/m/s'}}}}, {'identifier': 'mp-764238', 'data': {'sigma': {'p': {'display': '0.515323 1/fΩ/m/s', 'value': 0.515323, 'error': None, 'unit': '1/fΩ/m/s'}}, 'kappa': {'p': {'display': '1.03425 GW/K/m/s', 'value': 1.03425, 'error': None, 'unit': 'GW/K/m/s'}}}}, {'identifier': 'mp-569814', 'data': {'sigma': {'p': {'display': '0.592096 1/fΩ/m/s', 'value': 0.592096, 'error': None, 'unit': '1/fΩ/m/s'}}, 'kappa': {'p': {'display': '1.03454 GW/K/m/s', 'value': 1.03454, 'error': None, 'unit': 'GW/K/m/s'}}}}, {'identifier': 'mp-780491', 'data': {'sigma': {'p': {'display': '1.02311 1/fΩ/m/s', 'value': 1.02311, 'error': None, 'unit': '1/fΩ/m/s'}}, 'kappa': {'p': {'display': '1.03504 GW/K/m/s', 'value': 1.03504, 'error': None, 'unit': 'GW/K/m/s'}}}}, {'identifier': 'mp-765738', 'data': {'sigma': {'p': {'display': '1.29439 1/fΩ/m/s', 'value': 1.29439, 'error': None, 'unit': '1/fΩ/m/s'}}, 'kappa': {'p': {'display': '1.03518 GW/K/m/s', 'value': 1.03518, 'error': None, 'unit': 'GW/K/m/s'}}}}, {'identifier': 'mp-695829', 'data': {'sigma': {'p': {'display': '0.527277 1/fΩ/m/s', 'value': 0.527277, 'error': None, 'unit': '1/fΩ/m/s'}}, 'kappa': {'p': {'display': '1.03571 GW/K/m/s', 'value': 1.03571, 'error': None, 'unit': 'GW/K/m/s'}}}}, {'identifier': 'mp-626263', 'data': {'sigma': {'p': {'display': '0.777873 1/fΩ/m/s', 'value': 0.777873, 'error': None, 'unit': '1/fΩ/m/s'}}, 'kappa': {'p': {'display': '1.03584 GW/K/m/s', 'value': 1.03584, 'error': None, 'unit': 'GW/K/m/s'}}}}, {'identifier': 'mp-758814', 'data': {'sigma': {'p': {'display': '0.662738 1/fΩ/m/s', 'value': 0.662738, 'error': None, 'unit': '1/fΩ/m/s'}}, 'kappa': {'p': {'display': '1.0359 GW/K/m/s', 'value': 1.0359, 'error': None, 'unit': 'GW/K/m/s'}}}}, {'identifier': 'mp-777766', 'data': {'sigma': {'p': {'display': '1.13484 1/fΩ/m/s', 'value': 1.13484, 'error': None, 'unit': '1/fΩ/m/s'}}, 'kappa': {'p': {'display': '1.03648 GW/K/m/s', 'value': 1.03648, 'error': None, 'unit': 'GW/K/m/s'}}}}, {'identifier': 'mp-762746', 'data': {'sigma': {'p': {'display': '1.11556 1/fΩ/m/s', 'value': 1.11556, 'error': None, 'unit': '1/fΩ/m/s'}}, 'kappa': {'p': {'display': '1.0372 GW/K/m/s', 'value': 1.0372, 'error': None, 'unit': 'GW/K/m/s'}}}}, {'identifier': 'mp-721901', 'data': {'sigma': {'p': {'display': '0.450158 1/fΩ/m/s', 'value': 0.450158, 'error': None, 'unit': '1/fΩ/m/s'}}, 'kappa': {'p': {'display': '1.03721 GW/K/m/s', 'value': 1.03721, 'error': None, 'unit': 'GW/K/m/s'}}}}, {'identifier': 'mp-585266', 'data': {'sigma': {'p': {'display': '0.445402 1/fΩ/m/s', 'value': 0.445402, 'error': None, 'unit': '1/fΩ/m/s'}}, 'kappa': {'p': {'display': '1.0379 GW/K/m/s', 'value': 1.0379, 'error': None, 'unit': 'GW/K/m/s'}}}}, {'identifier': 'mp-752475', 'data': {'sigma': {'p': {'display': '1.0531 1/fΩ/m/s', 'value': 1.0531, 'error': None, 'unit': '1/fΩ/m/s'}}, 'kappa': {'p': {'display': '1.03892 GW/K/m/s', 'value': 1.03892, 'error': None, 'unit': 'GW/K/m/s'}}}}, {'identifier': 'mp-686482', 'data': {'sigma': {'p': {'display': '0.301686 1/fΩ/m/s', 'value': 0.301686, 'error': None, 'unit': '1/fΩ/m/s'}}, 'kappa': {'p': {'display': '1.04174 GW/K/m/s', 'value': 1.04174, 'error': None, 'unit': 'GW/K/m/s'}}}}, {'identifier': 'mp-721011', 'data': {'sigma': {'p': {'display': '0.458439 1/fΩ/m/s', 'value': 0.458439, 'error': None, 'unit': '1/fΩ/m/s'}}, 'kappa': {'p': {'display': '1.04227 GW/K/m/s', 'value': 1.04227, 'error': None, 'unit': 'GW/K/m/s'}}}}, {'identifier': 'mp-626337', 'data': {'sigma': {'p': {'display': '0.72567 1/fΩ/m/s', 'value': 0.72567, 'error': None, 'unit': '1/fΩ/m/s'}}, 'kappa': {'p': {'display': '1.04295 GW/K/m/s', 'value': 1.04295, 'error': None, 'unit': 'GW/K/m/s'}}}}, {'identifier': 'mp-554754', 'data': {'sigma': {'p': {'display': '0.43018 1/fΩ/m/s', 'value': 0.43018, 'error': None, 'unit': '1/fΩ/m/s'}}, 'kappa': {'p': {'display': '1.04357 GW/K/m/s', 'value': 1.04357, 'error': None, 'unit': 'GW/K/m/s'}}}}, {'identifier': 'mp-7622', 'data': {'sigma': {'p': {'display': '0.806504 1/fΩ/m/s', 'value': 0.806504, 'error': None, 'unit': '1/fΩ/m/s'}}, 'kappa': {'p': {'display': '1.04374 GW/K/m/s', 'value': 1.04374, 'error': None, 'unit': 'GW/K/m/s'}}}}, {'identifier': 'mp-569292', 'data': {'sigma': {'p': {'display': '0.392708 1/fΩ/m/s', 'value': 0.392708, 'error': None, 'unit': '1/fΩ/m/s'}}, 'kappa': {'p': {'display': '1.04416 GW/K/m/s', 'value': 1.04416, 'error': None, 'unit': 'GW/K/m/s'}}}}, {'identifier': 'mp-608071', 'data': {'sigma': {'p': {'display': '0.307601 1/fΩ/m/s', 'value': 0.307601, 'error': None, 'unit': '1/fΩ/m/s'}}, 'kappa': {'p': {'display': '1.04475 GW/K/m/s', 'value': 1.04475, 'error': None, 'unit': 'GW/K/m/s'}}}}, {'identifier': 'mp-655078', 'data': {'sigma': {'p': {'display': '1.15972 1/fΩ/m/s', 'value': 1.15972, 'error': None, 'unit': '1/fΩ/m/s'}}, 'kappa': {'p': {'display': '1.04486 GW/K/m/s', 'value': 1.04486, 'error': None, 'unit': 'GW/K/m/s'}}}}, {'identifier': 'mp-698358', 'data': {'sigma': {'p': {'display': '0.776756 1/fΩ/m/s', 'value': 0.776756, 'error': None, 'unit': '1/fΩ/m/s'}}, 'kappa': {'p': {'display': '1.04533 GW/K/m/s', 'value': 1.04533, 'error': None, 'unit': 'GW/K/m/s'}}}}, {'identifier': 'mp-24440', 'data': {'sigma': {'p': {'display': '0.399037 1/fΩ/m/s', 'value': 0.399037, 'error': None, 'unit': '1/fΩ/m/s'}}, 'kappa': {'p': {'display': '1.04596 GW/K/m/s', 'value': 1.04596, 'error': None, 'unit': 'GW/K/m/s'}}}}, {'identifier': 'mp-531132', 'data': {'sigma': {'p': {'display': '0.575311 1/fΩ/m/s', 'value': 0.575311, 'error': None, 'unit': '1/fΩ/m/s'}}, 'kappa': {'p': {'display': '1.04601 GW/K/m/s', 'value': 1.04601, 'error': None, 'unit': 'GW/K/m/s'}}}}, {'identifier': 'mp-541867', 'data': {'sigma': {'p': {'display': '0.386887 1/fΩ/m/s', 'value': 0.386887, 'error': None, 'unit': '1/fΩ/m/s'}}, 'kappa': {'p': {'display': '1.04603 GW/K/m/s', 'value': 1.04603, 'error': None, 'unit': 'GW/K/m/s'}}}}, {'identifier': 'mp-603327', 'data': {'sigma': {'p': {'display': '0.453652 1/fΩ/m/s', 'value': 0.453652, 'error': None, 'unit': '1/fΩ/m/s'}}, 'kappa': {'p': {'display': '1.04614 GW/K/m/s', 'value': 1.04614, 'error': None, 'unit': 'GW/K/m/s'}}}}, {'identifier': 'mp-18183', 'data': {'sigma': {'p': {'display': '0.656647 1/fΩ/m/s', 'value': 0.656647, 'error': None, 'unit': '1/fΩ/m/s'}}, 'kappa': {'p': {'display': '1.0465 GW/K/m/s', 'value': 1.0465, 'error': None, 'unit': 'GW/K/m/s'}}}}, {'identifier': 'mp-762319', 'data': {'sigma': {'p': {'display': '0.812448 1/fΩ/m/s', 'value': 0.812448, 'error': None, 'unit': '1/fΩ/m/s'}}, 'kappa': {'p': {'display': '1.04766 GW/K/m/s', 'value': 1.04766, 'error': None, 'unit': 'GW/K/m/s'}}}}, {'identifier': 'mp-677680', 'data': {'sigma': {'p': {'display': '0.258772 1/fΩ/m/s', 'value': 0.258772, 'error': None, 'unit': '1/fΩ/m/s'}}, 'kappa': {'p': {'display': '1.04895 GW/K/m/s', 'value': 1.04895, 'error': None, 'unit': 'GW/K/m/s'}}}}, {'identifier': 'mp-767803', 'data': {'sigma': {'p': {'display': '0.710528 1/fΩ/m/s', 'value': 0.710528, 'error': None, 'unit': '1/fΩ/m/s'}}, 'kappa': {'p': {'display': '1.04937 GW/K/m/s', 'value': 1.04937, 'error': None, 'unit': 'GW/K/m/s'}}}}, {'identifier': 'mp-601178', 'data': {'sigma': {'p': {'display': '0.914505 1/fΩ/m/s', 'value': 0.914505, 'error': None, 'unit': '1/fΩ/m/s'}}, 'kappa': {'p': {'display': '1.05025 GW/K/m/s', 'value': 1.05025, 'error': None, 'unit': 'GW/K/m/s'}}}}, {'identifier': 'mp-705056', 'data': {'sigma': {'p': {'display': '0.741469 1/fΩ/m/s', 'value': 0.741469, 'error': None, 'unit': '1/fΩ/m/s'}}, 'kappa': {'p': {'display': '1.05111 GW/K/m/s', 'value': 1.05111, 'error': None, 'unit': 'GW/K/m/s'}}}}, {'identifier': 'mp-679987', 'data': {'sigma': {'p': {'display': '1.13393 1/fΩ/m/s', 'value': 1.13393, 'error': None, 'unit': '1/fΩ/m/s'}}, 'kappa': {'p': {'display': '1.05114 GW/K/m/s', 'value': 1.05114, 'error': None, 'unit': 'GW/K/m/s'}}}}, {'identifier': 'mp-767589', 'data': {'sigma': {'p': {'display': '0.868038 1/fΩ/m/s', 'value': 0.868038, 'error': None, 'unit': '1/fΩ/m/s'}}, 'kappa': {'p': {'display': '1.05138 GW/K/m/s', 'value': 1.05138, 'error': None, 'unit': 'GW/K/m/s'}}}}, {'identifier': 'mp-755613', 'data': {'sigma': {'p': {'display': '0.32249 1/fΩ/m/s', 'value': 0.32249, 'error': None, 'unit': '1/fΩ/m/s'}}, 'kappa': {'p': {'display': '1.05217 GW/K/m/s', 'value': 1.05217, 'error': None, 'unit': 'GW/K/m/s'}}}}, {'identifier': 'mp-24118', 'data': {'sigma': {'p': {'display': '0.699016 1/fΩ/m/s', 'value': 0.699016, 'error': None, 'unit': '1/fΩ/m/s'}}, 'kappa': {'p': {'display': '1.05226 GW/K/m/s', 'value': 1.05226, 'error': None, 'unit': 'GW/K/m/s'}}}}, {'identifier': 'mp-27664', 'data': {'sigma': {'p': {'display': '0.645068 1/fΩ/m/s', 'value': 0.645068, 'error': None, 'unit': '1/fΩ/m/s'}}, 'kappa': {'p': {'display': '1.05284 GW/K/m/s', 'value': 1.05284, 'error': None, 'unit': 'GW/K/m/s'}}}}, {'identifier': 'mp-557171', 'data': {'sigma': {'p': {'display': '1.01023 1/fΩ/m/s', 'value': 1.01023, 'error': None, 'unit': '1/fΩ/m/s'}}, 'kappa': {'p': {'display': '1.05332 GW/K/m/s', 'value': 1.05332, 'error': None, 'unit': 'GW/K/m/s'}}}}, {'identifier': 'mp-765952', 'data': {'sigma': {'p': {'display': '0.632568 1/fΩ/m/s', 'value': 0.632568, 'error': None, 'unit': '1/fΩ/m/s'}}, 'kappa': {'p': {'display': '1.05334 GW/K/m/s', 'value': 1.05334, 'error': None, 'unit': 'GW/K/m/s'}}}}, {'identifier': 'mp-558716', 'data': {'sigma': {'p': {'display': '1.08449 1/fΩ/m/s', 'value': 1.08449, 'error': None, 'unit': '1/fΩ/m/s'}}, 'kappa': {'p': {'display': '1.05441 GW/K/m/s', 'value': 1.05441, 'error': None, 'unit': 'GW/K/m/s'}}}}, {'identifier': 'mp-773996', 'data': {'sigma': {'p': {'display': '0.845219 1/fΩ/m/s', 'value': 0.845219, 'error': None, 'unit': '1/fΩ/m/s'}}, 'kappa': {'p': {'display': '1.05455 GW/K/m/s', 'value': 1.05455, 'error': None, 'unit': 'GW/K/m/s'}}}}, {'identifier': 'mp-559142', 'data': {'sigma': {'p': {'display': '0.48568 1/fΩ/m/s', 'value': 0.48568, 'error': None, 'unit': '1/fΩ/m/s'}}, 'kappa': {'p': {'display': '1.05495 GW/K/m/s', 'value': 1.05495, 'error': None, 'unit': 'GW/K/m/s'}}}}, {'identifier': 'mp-604119', 'data': {'sigma': {'p': {'display': '0.520336 1/fΩ/m/s', 'value': 0.520336, 'error': None, 'unit': '1/fΩ/m/s'}}, 'kappa': {'p': {'display': '1.05512 GW/K/m/s', 'value': 1.05512, 'error': None, 'unit': 'GW/K/m/s'}}}}, {'identifier': 'mp-850743', 'data': {'sigma': {'p': {'display': '0.399526 1/fΩ/m/s', 'value': 0.399526, 'error': None, 'unit': '1/fΩ/m/s'}}, 'kappa': {'p': {'display': '1.05521 GW/K/m/s', 'value': 1.05521, 'error': None, 'unit': 'GW/K/m/s'}}}}, {'identifier': 'mp-23872', 'data': {'sigma': {'p': {'display': '0.662947 1/fΩ/m/s', 'value': 0.662947, 'error': None, 'unit': '1/fΩ/m/s'}}, 'kappa': {'p': {'display': '1.05647 GW/K/m/s', 'value': 1.05647, 'error': None, 'unit': 'GW/K/m/s'}}}}, {'identifier': 'mp-25024', 'data': {'sigma': {'p': {'display': '0.644792 1/fΩ/m/s', 'value': 0.644792, 'error': None, 'unit': '1/fΩ/m/s'}}, 'kappa': {'p': {'display': '1.05787 GW/K/m/s', 'value': 1.05787, 'error': None, 'unit': 'GW/K/m/s'}}}}, {'identifier': 'mp-654299', 'data': {'sigma': {'p': {'display': '0.428431 1/fΩ/m/s', 'value': 0.428431, 'error': None, 'unit': '1/fΩ/m/s'}}, 'kappa': {'p': {'display': '1.05795 GW/K/m/s', 'value': 1.05795, 'error': None, 'unit': 'GW/K/m/s'}}}}, {'identifier': 'mp-707342', 'data': {'sigma': {'p': {'display': '0.8277 1/fΩ/m/s', 'value': 0.8277, 'error': None, 'unit': '1/fΩ/m/s'}}, 'kappa': {'p': {'display': '1.05814 GW/K/m/s', 'value': 1.05814, 'error': None, 'unit': 'GW/K/m/s'}}}}, {'identifier': 'mp-863858', 'data': {'sigma': {'p': {'display': '1.24731 1/fΩ/m/s', 'value': 1.24731, 'error': None, 'unit': '1/fΩ/m/s'}}, 'kappa': {'p': {'display': '1.05846 GW/K/m/s', 'value': 1.05846, 'error': None, 'unit': 'GW/K/m/s'}}}}, {'identifier': 'mp-707366', 'data': {'sigma': {'p': {'display': '0.372097 1/fΩ/m/s', 'value': 0.372097, 'error': None, 'unit': '1/fΩ/m/s'}}, 'kappa': {'p': {'display': '1.0589 GW/K/m/s', 'value': 1.0589, 'error': None, 'unit': 'GW/K/m/s'}}}}, {'identifier': 'mp-29866', 'data': {'sigma': {'p': {'display': '0.415711 1/fΩ/m/s', 'value': 0.415711, 'error': None, 'unit': '1/fΩ/m/s'}}, 'kappa': {'p': {'display': '1.05937 GW/K/m/s', 'value': 1.05937, 'error': None, 'unit': 'GW/K/m/s'}}}}, {'identifier': 'mp-695799', 'data': {'sigma': {'p': {'display': '0.67528 1/fΩ/m/s', 'value': 0.67528, 'error': None, 'unit': '1/fΩ/m/s'}}, 'kappa': {'p': {'display': '1.05974 GW/K/m/s', 'value': 1.05974, 'error': None, 'unit': 'GW/K/m/s'}}}}, {'identifier': 'mp-849799', 'data': {'sigma': {'p': {'display': '0.55329 1/fΩ/m/s', 'value': 0.55329, 'error': None, 'unit': '1/fΩ/m/s'}}, 'kappa': {'p': {'display': '1.06058 GW/K/m/s', 'value': 1.06058, 'error': None, 'unit': 'GW/K/m/s'}}}}, {'identifier': 'mp-568561', 'data': {'sigma': {'p': {'display': '0.8102 1/fΩ/m/s', 'value': 0.8102, 'error': None, 'unit': '1/fΩ/m/s'}}, 'kappa': {'p': {'display': '1.06065 GW/K/m/s', 'value': 1.06065, 'error': None, 'unit': 'GW/K/m/s'}}}}, {'identifier': 'mp-560919', 'data': {'sigma': {'p': {'display': '0.733194 1/fΩ/m/s', 'value': 0.733194, 'error': None, 'unit': '1/fΩ/m/s'}}, 'kappa': {'p': {'display': '1.06247 GW/K/m/s', 'value': 1.06247, 'error': None, 'unit': 'GW/K/m/s'}}}}, {'identifier': 'mp-699266', 'data': {'sigma': {'p': {'display': '0.457521 1/fΩ/m/s', 'value': 0.457521, 'error': None, 'unit': '1/fΩ/m/s'}}, 'kappa': {'p': {'display': '1.06306 GW/K/m/s', 'value': 1.06306, 'error': None, 'unit': 'GW/K/m/s'}}}}, {'identifier': 'mp-764658', 'data': {'sigma': {'p': {'display': '0.759239 1/fΩ/m/s', 'value': 0.759239, 'error': None, 'unit': '1/fΩ/m/s'}}, 'kappa': {'p': {'display': '1.06314 GW/K/m/s', 'value': 1.06314, 'error': None, 'unit': 'GW/K/m/s'}}}}, {'identifier': 'mp-706629', 'data': {'sigma': {'p': {'display': '0.46229 1/fΩ/m/s', 'value': 0.46229, 'error': None, 'unit': '1/fΩ/m/s'}}, 'kappa': {'p': {'display': '1.06344 GW/K/m/s', 'value': 1.06344, 'error': None, 'unit': 'GW/K/m/s'}}}}, {'identifier': 'mp-18698', 'data': {'sigma': {'p': {'display': '1.06986 1/fΩ/m/s', 'value': 1.06986, 'error': None, 'unit': '1/fΩ/m/s'}}, 'kappa': {'p': {'display': '1.06452 GW/K/m/s', 'value': 1.06452, 'error': None, 'unit': 'GW/K/m/s'}}}}, {'identifier': 'mp-13753', 'data': {'sigma': {'p': {'display': '1.08181 1/fΩ/m/s', 'value': 1.08181, 'error': None, 'unit': '1/fΩ/m/s'}}, 'kappa': {'p': {'display': '1.06473 GW/K/m/s', 'value': 1.06473, 'error': None, 'unit': 'GW/K/m/s'}}}}, {'identifier': 'mp-18816', 'data': {'sigma': {'p': {'display': '0.991671 1/fΩ/m/s', 'value': 0.991671, 'error': None, 'unit': '1/fΩ/m/s'}}, 'kappa': {'p': {'display': '1.06587 GW/K/m/s', 'value': 1.06587, 'error': None, 'unit': 'GW/K/m/s'}}}}, {'identifier': 'mp-3817', 'data': {'sigma': {'p': {'display': '0.166229 1/fΩ/m/s', 'value': 0.166229, 'error': None, 'unit': '1/fΩ/m/s'}}, 'kappa': {'p': {'display': '1.06663 GW/K/m/s', 'value': 1.06663, 'error': None, 'unit': 'GW/K/m/s'}}}}, {'identifier': 'mp-603267', 'data': {'sigma': {'p': {'display': '0.571197 1/fΩ/m/s', 'value': 0.571197, 'error': None, 'unit': '1/fΩ/m/s'}}, 'kappa': {'p': {'display': '1.06677 GW/K/m/s', 'value': 1.06677, 'error': None, 'unit': 'GW/K/m/s'}}}}, {'identifier': 'mp-559113', 'data': {'sigma': {'p': {'display': '0.339461 1/fΩ/m/s', 'value': 0.339461, 'error': None, 'unit': '1/fΩ/m/s'}}, 'kappa': {'p': {'display': '1.06707 GW/K/m/s', 'value': 1.06707, 'error': None, 'unit': 'GW/K/m/s'}}}}, {'identifier': 'mp-7297', 'data': {'sigma': {'p': {'display': '0.638383 1/fΩ/m/s', 'value': 0.638383, 'error': None, 'unit': '1/fΩ/m/s'}}, 'kappa': {'p': {'display': '1.06894 GW/K/m/s', 'value': 1.06894, 'error': None, 'unit': 'GW/K/m/s'}}}}, {'identifier': 'mp-680240', 'data': {'sigma': {'p': {'display': '0.386063 1/fΩ/m/s', 'value': 0.386063, 'error': None, 'unit': '1/fΩ/m/s'}}, 'kappa': {'p': {'display': '1.06944 GW/K/m/s', 'value': 1.06944, 'error': None, 'unit': 'GW/K/m/s'}}}}, {'identifier': 'mp-680689', 'data': {'sigma': {'p': {'display': '0.946832 1/fΩ/m/s', 'value': 0.946832, 'error': None, 'unit': '1/fΩ/m/s'}}, 'kappa': {'p': {'display': '1.07026 GW/K/m/s', 'value': 1.07026, 'error': None, 'unit': 'GW/K/m/s'}}}}, {'identifier': 'mp-767575', 'data': {'sigma': {'p': {'display': '0.660229 1/fΩ/m/s', 'value': 0.660229, 'error': None, 'unit': '1/fΩ/m/s'}}, 'kappa': {'p': {'display': '1.07099 GW/K/m/s', 'value': 1.07099, 'error': None, 'unit': 'GW/K/m/s'}}}}, {'identifier': 'mp-867153', 'data': {'sigma': {'p': {'display': '0.554755 1/fΩ/m/s', 'value': 0.554755, 'error': None, 'unit': '1/fΩ/m/s'}}, 'kappa': {'p': {'display': '1.07118 GW/K/m/s', 'value': 1.07118, 'error': None, 'unit': 'GW/K/m/s'}}}}, {'identifier': 'mp-777624', 'data': {'sigma': {'p': {'display': '0.277863 1/fΩ/m/s', 'value': 0.277863, 'error': None, 'unit': '1/fΩ/m/s'}}, 'kappa': {'p': {'display': '1.07121 GW/K/m/s', 'value': 1.07121, 'error': None, 'unit': 'GW/K/m/s'}}}}, {'identifier': 'mp-764800', 'data': {'sigma': {'p': {'display': '0.632032 1/fΩ/m/s', 'value': 0.632032, 'error': None, 'unit': '1/fΩ/m/s'}}, 'kappa': {'p': {'display': '1.07124 GW/K/m/s', 'value': 1.07124, 'error': None, 'unit': 'GW/K/m/s'}}}}, {'identifier': 'mp-707307', 'data': {'sigma': {'p': {'display': '0.994677 1/fΩ/m/s', 'value': 0.994677, 'error': None, 'unit': '1/fΩ/m/s'}}, 'kappa': {'p': {'display': '1.07131 GW/K/m/s', 'value': 1.07131, 'error': None, 'unit': 'GW/K/m/s'}}}}, {'identifier': 'mp-778716', 'data': {'sigma': {'p': {'display': '0.479418 1/fΩ/m/s', 'value': 0.479418, 'error': None, 'unit': '1/fΩ/m/s'}}, 'kappa': {'p': {'display': '1.07184 GW/K/m/s', 'value': 1.07184, 'error': None, 'unit': 'GW/K/m/s'}}}}, {'identifier': 'mp-603285', 'data': {'sigma': {'p': {'display': '0.805083 1/fΩ/m/s', 'value': 0.805083, 'error': None, 'unit': '1/fΩ/m/s'}}, 'kappa': {'p': {'display': '1.0727 GW/K/m/s', 'value': 1.0727, 'error': None, 'unit': 'GW/K/m/s'}}}}, {'identifier': 'mp-765070', 'data': {'sigma': {'p': {'display': '0.460604 1/fΩ/m/s', 'value': 0.460604, 'error': None, 'unit': '1/fΩ/m/s'}}, 'kappa': {'p': {'display': '1.07323 GW/K/m/s', 'value': 1.07323, 'error': None, 'unit': 'GW/K/m/s'}}}}, {'identifier': 'mp-773717', 'data': {'sigma': {'p': {'display': '0.674154 1/fΩ/m/s', 'value': 0.674154, 'error': None, 'unit': '1/fΩ/m/s'}}, 'kappa': {'p': {'display': '1.0749 GW/K/m/s', 'value': 1.0749, 'error': None, 'unit': 'GW/K/m/s'}}}}, {'identifier': 'mp-703542', 'data': {'sigma': {'p': {'display': '0.672975 1/fΩ/m/s', 'value': 0.672975, 'error': None, 'unit': '1/fΩ/m/s'}}, 'kappa': {'p': {'display': '1.07607 GW/K/m/s', 'value': 1.07607, 'error': None, 'unit': 'GW/K/m/s'}}}}, {'identifier': 'mp-19609', 'data': {'sigma': {'p': {'display': '0.564264 1/fΩ/m/s', 'value': 0.564264, 'error': None, 'unit': '1/fΩ/m/s'}}, 'kappa': {'p': {'display': '1.07706 GW/K/m/s', 'value': 1.07706, 'error': None, 'unit': 'GW/K/m/s'}}}}, {'identifier': 'mp-764622', 'data': {'sigma': {'p': {'display': '0.677117 1/fΩ/m/s', 'value': 0.677117, 'error': None, 'unit': '1/fΩ/m/s'}}, 'kappa': {'p': {'display': '1.07708 GW/K/m/s', 'value': 1.07708, 'error': None, 'unit': 'GW/K/m/s'}}}}, {'identifier': 'mp-767020', 'data': {'sigma': {'p': {'display': '0.597788 1/fΩ/m/s', 'value': 0.597788, 'error': None, 'unit': '1/fΩ/m/s'}}, 'kappa': {'p': {'display': '1.07801 GW/K/m/s', 'value': 1.07801, 'error': None, 'unit': 'GW/K/m/s'}}}}, {'identifier': 'mp-556442', 'data': {'sigma': {'p': {'display': '0.582151 1/fΩ/m/s', 'value': 0.582151, 'error': None, 'unit': '1/fΩ/m/s'}}, 'kappa': {'p': {'display': '1.0782 GW/K/m/s', 'value': 1.0782, 'error': None, 'unit': 'GW/K/m/s'}}}}, {'identifier': 'mp-734377', 'data': {'sigma': {'p': {'display': '0.928375 1/fΩ/m/s', 'value': 0.928375, 'error': None, 'unit': '1/fΩ/m/s'}}, 'kappa': {'p': {'display': '1.07871 GW/K/m/s', 'value': 1.07871, 'error': None, 'unit': 'GW/K/m/s'}}}}, {'identifier': 'mp-762656', 'data': {'sigma': {'p': {'display': '0.698912 1/fΩ/m/s', 'value': 0.698912, 'error': None, 'unit': '1/fΩ/m/s'}}, 'kappa': {'p': {'display': '1.07872 GW/K/m/s', 'value': 1.07872, 'error': None, 'unit': 'GW/K/m/s'}}}}, {'identifier': 'mp-850403', 'data': {'sigma': {'p': {'display': '0.638269 1/fΩ/m/s', 'value': 0.638269, 'error': None, 'unit': '1/fΩ/m/s'}}, 'kappa': {'p': {'display': '1.07946 GW/K/m/s', 'value': 1.07946, 'error': None, 'unit': 'GW/K/m/s'}}}}, {'identifier': 'mp-765941', 'data': {'sigma': {'p': {'display': '0.907137 1/fΩ/m/s', 'value': 0.907137, 'error': None, 'unit': '1/fΩ/m/s'}}, 'kappa': {'p': {'display': '1.07969 GW/K/m/s', 'value': 1.07969, 'error': None, 'unit': 'GW/K/m/s'}}}}, {'identifier': 'mp-23568', 'data': {'sigma': {'p': {'display': '0.640216 1/fΩ/m/s', 'value': 0.640216, 'error': None, 'unit': '1/fΩ/m/s'}}, 'kappa': {'p': {'display': '1.0798 GW/K/m/s', 'value': 1.0798, 'error': None, 'unit': 'GW/K/m/s'}}}}, {'identifier': 'mp-18566', 'data': {'sigma': {'p': {'display': '0.690584 1/fΩ/m/s', 'value': 0.690584, 'error': None, 'unit': '1/fΩ/m/s'}}, 'kappa': {'p': {'display': '1.08055 GW/K/m/s', 'value': 1.08055, 'error': None, 'unit': 'GW/K/m/s'}}}}, {'identifier': 'mp-24919', 'data': {'sigma': {'p': {'display': '0.56449 1/fΩ/m/s', 'value': 0.56449, 'error': None, 'unit': '1/fΩ/m/s'}}, 'kappa': {'p': {'display': '1.08132 GW/K/m/s', 'value': 1.08132, 'error': None, 'unit': 'GW/K/m/s'}}}}, {'identifier': 'mp-558893', 'data': {'sigma': {'p': {'display': '0.554998 1/fΩ/m/s', 'value': 0.554998, 'error': None, 'unit': '1/fΩ/m/s'}}, 'kappa': {'p': {'display': '1.08179 GW/K/m/s', 'value': 1.08179, 'error': None, 'unit': 'GW/K/m/s'}}}}, {'identifier': 'mp-27297', 'data': {'sigma': {'p': {'display': '0.425063 1/fΩ/m/s', 'value': 0.425063, 'error': None, 'unit': '1/fΩ/m/s'}}, 'kappa': {'p': {'display': '1.08206 GW/K/m/s', 'value': 1.08206, 'error': None, 'unit': 'GW/K/m/s'}}}}, {'identifier': 'mp-720658', 'data': {'sigma': {'p': {'display': '1.12995 1/fΩ/m/s', 'value': 1.12995, 'error': None, 'unit': '1/fΩ/m/s'}}, 'kappa': {'p': {'display': '1.08254 GW/K/m/s', 'value': 1.08254, 'error': None, 'unit': 'GW/K/m/s'}}}}, {'identifier': 'mp-14926', 'data': {'sigma': {'p': {'display': '0.326486 1/fΩ/m/s', 'value': 0.326486, 'error': None, 'unit': '1/fΩ/m/s'}}, 'kappa': {'p': {'display': '1.08295 GW/K/m/s', 'value': 1.08295, 'error': None, 'unit': 'GW/K/m/s'}}}}, {'identifier': 'mp-764293', 'data': {'sigma': {'p': {'display': '0.823334 1/fΩ/m/s', 'value': 0.823334, 'error': None, 'unit': '1/fΩ/m/s'}}, 'kappa': {'p': {'display': '1.08306 GW/K/m/s', 'value': 1.08306, 'error': None, 'unit': 'GW/K/m/s'}}}}, {'identifier': 'mp-757306', 'data': {'sigma': {'p': {'display': '0.624468 1/fΩ/m/s', 'value': 0.624468, 'error': None, 'unit': '1/fΩ/m/s'}}, 'kappa': {'p': {'display': '1.08535 GW/K/m/s', 'value': 1.08535, 'error': None, 'unit': 'GW/K/m/s'}}}}, {'identifier': 'mp-779723', 'data': {'sigma': {'p': {'display': '0.541547 1/fΩ/m/s', 'value': 0.541547, 'error': None, 'unit': '1/fΩ/m/s'}}, 'kappa': {'p': {'display': '1.08592 GW/K/m/s', 'value': 1.08592, 'error': None, 'unit': 'GW/K/m/s'}}}}, {'identifier': 'mp-3416', 'data': {'sigma': {'p': {'display': '0.45799 1/fΩ/m/s', 'value': 0.45799, 'error': None, 'unit': '1/fΩ/m/s'}}, 'kappa': {'p': {'display': '1.086 GW/K/m/s', 'value': 1.086, 'error': None, 'unit': 'GW/K/m/s'}}}}, {'identifier': 'mp-19705', 'data': {'sigma': {'p': {'display': '0.406895 1/fΩ/m/s', 'value': 0.406895, 'error': None, 'unit': '1/fΩ/m/s'}}, 'kappa': {'p': {'display': '1.08632 GW/K/m/s', 'value': 1.08632, 'error': None, 'unit': 'GW/K/m/s'}}}}, {'identifier': 'mp-696075', 'data': {'sigma': {'p': {'display': '0.528893 1/fΩ/m/s', 'value': 0.528893, 'error': None, 'unit': '1/fΩ/m/s'}}, 'kappa': {'p': {'display': '1.08652 GW/K/m/s', 'value': 1.08652, 'error': None, 'unit': 'GW/K/m/s'}}}}, {'identifier': 'mp-555282', 'data': {'sigma': {'p': {'display': '0.609991 1/fΩ/m/s', 'value': 0.609991, 'error': None, 'unit': '1/fΩ/m/s'}}, 'kappa': {'p': {'display': '1.08656 GW/K/m/s', 'value': 1.08656, 'error': None, 'unit': 'GW/K/m/s'}}}}, {'identifier': 'mp-5824', 'data': {'sigma': {'p': {'display': '0.43559 1/fΩ/m/s', 'value': 0.43559, 'error': None, 'unit': '1/fΩ/m/s'}}, 'kappa': {'p': {'display': '1.08702 GW/K/m/s', 'value': 1.08702, 'error': None, 'unit': 'GW/K/m/s'}}}}, {'identifier': 'mp-558062', 'data': {'sigma': {'p': {'display': '0.527728 1/fΩ/m/s', 'value': 0.527728, 'error': None, 'unit': '1/fΩ/m/s'}}, 'kappa': {'p': {'display': '1.08753 GW/K/m/s', 'value': 1.08753, 'error': None, 'unit': 'GW/K/m/s'}}}}, {'identifier': 'mp-677015', 'data': {'sigma': {'p': {'display': '0.520001 1/fΩ/m/s', 'value': 0.520001, 'error': None, 'unit': '1/fΩ/m/s'}}, 'kappa': {'p': {'display': '1.08895 GW/K/m/s', 'value': 1.08895, 'error': None, 'unit': 'GW/K/m/s'}}}}, {'identifier': 'mp-556906', 'data': {'sigma': {'p': {'display': '0.427529 1/fΩ/m/s', 'value': 0.427529, 'error': None, 'unit': '1/fΩ/m/s'}}, 'kappa': {'p': {'display': '1.09 GW/K/m/s', 'value': 1.09, 'error': None, 'unit': 'GW/K/m/s'}}}}, {'identifier': 'mp-765177', 'data': {'sigma': {'p': {'display': '0.715979 1/fΩ/m/s', 'value': 0.715979, 'error': None, 'unit': '1/fΩ/m/s'}}, 'kappa': {'p': {'display': '1.09143 GW/K/m/s', 'value': 1.09143, 'error': None, 'unit': 'GW/K/m/s'}}}}, {'identifier': 'mp-29391', 'data': {'sigma': {'p': {'display': '0.420757 1/fΩ/m/s', 'value': 0.420757, 'error': None, 'unit': '1/fΩ/m/s'}}, 'kappa': {'p': {'display': '1.09155 GW/K/m/s', 'value': 1.09155, 'error': None, 'unit': 'GW/K/m/s'}}}}, {'identifier': 'mp-565679', 'data': {'sigma': {'p': {'display': '0.674925 1/fΩ/m/s', 'value': 0.674925, 'error': None, 'unit': '1/fΩ/m/s'}}, 'kappa': {'p': {'display': '1.09309 GW/K/m/s', 'value': 1.09309, 'error': None, 'unit': 'GW/K/m/s'}}}}, {'identifier': 'mp-17539', 'data': {'sigma': {'p': {'display': '0.861785 1/fΩ/m/s', 'value': 0.861785, 'error': None, 'unit': '1/fΩ/m/s'}}, 'kappa': {'p': {'display': '1.09371 GW/K/m/s', 'value': 1.09371, 'error': None, 'unit': 'GW/K/m/s'}}}}, {'identifier': 'mp-553907', 'data': {'sigma': {'p': {'display': '0.583423 1/fΩ/m/s', 'value': 0.583423, 'error': None, 'unit': '1/fΩ/m/s'}}, 'kappa': {'p': {'display': '1.09409 GW/K/m/s', 'value': 1.09409, 'error': None, 'unit': 'GW/K/m/s'}}}}, {'identifier': 'mp-730154', 'data': {'sigma': {'p': {'display': '0.630294 1/fΩ/m/s', 'value': 0.630294, 'error': None, 'unit': '1/fΩ/m/s'}}, 'kappa': {'p': {'display': '1.09578 GW/K/m/s', 'value': 1.09578, 'error': None, 'unit': 'GW/K/m/s'}}}}, {'identifier': 'mp-672248', 'data': {'sigma': {'p': {'display': '0.493645 1/fΩ/m/s', 'value': 0.493645, 'error': None, 'unit': '1/fΩ/m/s'}}, 'kappa': {'p': {'display': '1.09601 GW/K/m/s', 'value': 1.09601, 'error': None, 'unit': 'GW/K/m/s'}}}}, {'identifier': 'mp-667292', 'data': {'sigma': {'p': {'display': '0.352594 1/fΩ/m/s', 'value': 0.352594, 'error': None, 'unit': '1/fΩ/m/s'}}, 'kappa': {'p': {'display': '1.09638 GW/K/m/s', 'value': 1.09638, 'error': None, 'unit': 'GW/K/m/s'}}}}, {'identifier': 'mp-770759', 'data': {'sigma': {'p': {'display': '0.834939 1/fΩ/m/s', 'value': 0.834939, 'error': None, 'unit': '1/fΩ/m/s'}}, 'kappa': {'p': {'display': '1.09657 GW/K/m/s', 'value': 1.09657, 'error': None, 'unit': 'GW/K/m/s'}}}}, {'identifier': 'mp-556515', 'data': {'sigma': {'p': {'display': '0.482724 1/fΩ/m/s', 'value': 0.482724, 'error': None, 'unit': '1/fΩ/m/s'}}, 'kappa': {'p': {'display': '1.0966 GW/K/m/s', 'value': 1.0966, 'error': None, 'unit': 'GW/K/m/s'}}}}, {'identifier': 'mp-615503', 'data': {'sigma': {'p': {'display': '0.498872 1/fΩ/m/s', 'value': 0.498872, 'error': None, 'unit': '1/fΩ/m/s'}}, 'kappa': {'p': {'display': '1.09662 GW/K/m/s', 'value': 1.09662, 'error': None, 'unit': 'GW/K/m/s'}}}}, {'identifier': 'mp-769602', 'data': {'sigma': {'p': {'display': '0.718182 1/fΩ/m/s', 'value': 0.718182, 'error': None, 'unit': '1/fΩ/m/s'}}, 'kappa': {'p': {'display': '1.09703 GW/K/m/s', 'value': 1.09703, 'error': None, 'unit': 'GW/K/m/s'}}}}, {'identifier': 'mp-777978', 'data': {'sigma': {'p': {'display': '0.277574 1/fΩ/m/s', 'value': 0.277574, 'error': None, 'unit': '1/fΩ/m/s'}}, 'kappa': {'p': {'display': '1.09731 GW/K/m/s', 'value': 1.09731, 'error': None, 'unit': 'GW/K/m/s'}}}}, {'identifier': 'mp-707787', 'data': {'sigma': {'p': {'display': '0.287446 1/fΩ/m/s', 'value': 0.287446, 'error': None, 'unit': '1/fΩ/m/s'}}, 'kappa': {'p': {'display': '1.0974 GW/K/m/s', 'value': 1.0974, 'error': None, 'unit': 'GW/K/m/s'}}}}, {'identifier': 'mp-27212', 'data': {'sigma': {'p': {'display': '0.743527 1/fΩ/m/s', 'value': 0.743527, 'error': None, 'unit': '1/fΩ/m/s'}}, 'kappa': {'p': {'display': '1.09939 GW/K/m/s', 'value': 1.09939, 'error': None, 'unit': 'GW/K/m/s'}}}}, {'identifier': 'mp-772433', 'data': {'sigma': {'p': {'display': '0.689499 1/fΩ/m/s', 'value': 0.689499, 'error': None, 'unit': '1/fΩ/m/s'}}, 'kappa': {'p': {'display': '1.09949 GW/K/m/s', 'value': 1.09949, 'error': None, 'unit': 'GW/K/m/s'}}}}, {'identifier': 'mp-705154', 'data': {'sigma': {'p': {'display': '0.410284 1/fΩ/m/s', 'value': 0.410284, 'error': None, 'unit': '1/fΩ/m/s'}}, 'kappa': {'p': {'display': '1.09971 GW/K/m/s', 'value': 1.09971, 'error': None, 'unit': 'GW/K/m/s'}}}}, {'identifier': 'mp-769826', 'data': {'sigma': {'p': {'display': '1.00369 1/fΩ/m/s', 'value': 1.00369, 'error': None, 'unit': '1/fΩ/m/s'}}, 'kappa': {'p': {'display': '1.10156 GW/K/m/s', 'value': 1.10156, 'error': None, 'unit': 'GW/K/m/s'}}}}, {'identifier': 'mp-555503', 'data': {'sigma': {'p': {'display': '0.777306 1/fΩ/m/s', 'value': 0.777306, 'error': None, 'unit': '1/fΩ/m/s'}}, 'kappa': {'p': {'display': '1.10343 GW/K/m/s', 'value': 1.10343, 'error': None, 'unit': 'GW/K/m/s'}}}}, {'identifier': 'mp-625455', 'data': {'sigma': {'p': {'display': '0.603706 1/fΩ/m/s', 'value': 0.603706, 'error': None, 'unit': '1/fΩ/m/s'}}, 'kappa': {'p': {'display': '1.10547 GW/K/m/s', 'value': 1.10547, 'error': None, 'unit': 'GW/K/m/s'}}}}, {'identifier': 'mp-642250', 'data': {'sigma': {'p': {'display': '0.998374 1/fΩ/m/s', 'value': 0.998374, 'error': None, 'unit': '1/fΩ/m/s'}}, 'kappa': {'p': {'display': '1.10614 GW/K/m/s', 'value': 1.10614, 'error': None, 'unit': 'GW/K/m/s'}}}}, {'identifier': 'mp-764799', 'data': {'sigma': {'p': {'display': '0.496879 1/fΩ/m/s', 'value': 0.496879, 'error': None, 'unit': '1/fΩ/m/s'}}, 'kappa': {'p': {'display': '1.10627 GW/K/m/s', 'value': 1.10627, 'error': None, 'unit': 'GW/K/m/s'}}}}, {'identifier': 'mp-14734', 'data': {'sigma': {'p': {'display': '0.479942 1/fΩ/m/s', 'value': 0.479942, 'error': None, 'unit': '1/fΩ/m/s'}}, 'kappa': {'p': {'display': '1.10633 GW/K/m/s', 'value': 1.10633, 'error': None, 'unit': 'GW/K/m/s'}}}}, {'identifier': 'mp-556705', 'data': {'sigma': {'p': {'display': '0.742072 1/fΩ/m/s', 'value': 0.742072, 'error': None, 'unit': '1/fΩ/m/s'}}, 'kappa': {'p': {'display': '1.10647 GW/K/m/s', 'value': 1.10647, 'error': None, 'unit': 'GW/K/m/s'}}}}, {'identifier': 'mp-558203', 'data': {'sigma': {'p': {'display': '0.383907 1/fΩ/m/s', 'value': 0.383907, 'error': None, 'unit': '1/fΩ/m/s'}}, 'kappa': {'p': {'display': '1.10724 GW/K/m/s', 'value': 1.10724, 'error': None, 'unit': 'GW/K/m/s'}}}}, {'identifier': 'mp-555297', 'data': {'sigma': {'p': {'display': '0.825751 1/fΩ/m/s', 'value': 0.825751, 'error': None, 'unit': '1/fΩ/m/s'}}, 'kappa': {'p': {'display': '1.10741 GW/K/m/s', 'value': 1.10741, 'error': None, 'unit': 'GW/K/m/s'}}}}, {'identifier': 'mp-721067', 'data': {'sigma': {'p': {'display': '0.581275 1/fΩ/m/s', 'value': 0.581275, 'error': None, 'unit': '1/fΩ/m/s'}}, 'kappa': {'p': {'display': '1.10796 GW/K/m/s', 'value': 1.10796, 'error': None, 'unit': 'GW/K/m/s'}}}}, {'identifier': 'mp-680048', 'data': {'sigma': {'p': {'display': '0.55672 1/fΩ/m/s', 'value': 0.55672, 'error': None, 'unit': '1/fΩ/m/s'}}, 'kappa': {'p': {'display': '1.10952 GW/K/m/s', 'value': 1.10952, 'error': None, 'unit': 'GW/K/m/s'}}}}, {'identifier': 'mp-867625', 'data': {'sigma': {'p': {'display': '1.12266 1/fΩ/m/s', 'value': 1.12266, 'error': None, 'unit': '1/fΩ/m/s'}}, 'kappa': {'p': {'display': '1.10966 GW/K/m/s', 'value': 1.10966, 'error': None, 'unit': 'GW/K/m/s'}}}}, {'identifier': 'mp-683883', 'data': {'sigma': {'p': {'display': '0.350045 1/fΩ/m/s', 'value': 0.350045, 'error': None, 'unit': '1/fΩ/m/s'}}, 'kappa': {'p': {'display': '1.11066 GW/K/m/s', 'value': 1.11066, 'error': None, 'unit': 'GW/K/m/s'}}}}, {'identifier': 'mp-6785', 'data': {'sigma': {'p': {'display': '1.17642 1/fΩ/m/s', 'value': 1.17642, 'error': None, 'unit': '1/fΩ/m/s'}}, 'kappa': {'p': {'display': '1.11128 GW/K/m/s', 'value': 1.11128, 'error': None, 'unit': 'GW/K/m/s'}}}}, {'identifier': 'mp-29513', 'data': {'sigma': {'p': {'display': '0.603026 1/fΩ/m/s', 'value': 0.603026, 'error': None, 'unit': '1/fΩ/m/s'}}, 'kappa': {'p': {'display': '1.11192 GW/K/m/s', 'value': 1.11192, 'error': None, 'unit': 'GW/K/m/s'}}}}, {'identifier': 'mp-777711', 'data': {'sigma': {'p': {'display': '0.707494 1/fΩ/m/s', 'value': 0.707494, 'error': None, 'unit': '1/fΩ/m/s'}}, 'kappa': {'p': {'display': '1.11286 GW/K/m/s', 'value': 1.11286, 'error': None, 'unit': 'GW/K/m/s'}}}}, {'identifier': 'mp-27650', 'data': {'sigma': {'p': {'display': '0.836576 1/fΩ/m/s', 'value': 0.836576, 'error': None, 'unit': '1/fΩ/m/s'}}, 'kappa': {'p': {'display': '1.11368 GW/K/m/s', 'value': 1.11368, 'error': None, 'unit': 'GW/K/m/s'}}}}, {'identifier': 'mp-553984', 'data': {'sigma': {'p': {'display': '0.818567 1/fΩ/m/s', 'value': 0.818567, 'error': None, 'unit': '1/fΩ/m/s'}}, 'kappa': {'p': {'display': '1.11428 GW/K/m/s', 'value': 1.11428, 'error': None, 'unit': 'GW/K/m/s'}}}}, {'identifier': 'mp-730460', 'data': {'sigma': {'p': {'display': '0.655433 1/fΩ/m/s', 'value': 0.655433, 'error': None, 'unit': '1/fΩ/m/s'}}, 'kappa': {'p': {'display': '1.11454 GW/K/m/s', 'value': 1.11454, 'error': None, 'unit': 'GW/K/m/s'}}}}, {'identifier': 'mp-619486', 'data': {'sigma': {'p': {'display': '0.596858 1/fΩ/m/s', 'value': 0.596858, 'error': None, 'unit': '1/fΩ/m/s'}}, 'kappa': {'p': {'display': '1.1151 GW/K/m/s', 'value': 1.1151, 'error': None, 'unit': 'GW/K/m/s'}}}}, {'identifier': 'mp-762797', 'data': {'sigma': {'p': {'display': '1.02784 1/fΩ/m/s', 'value': 1.02784, 'error': None, 'unit': '1/fΩ/m/s'}}, 'kappa': {'p': {'display': '1.11538 GW/K/m/s', 'value': 1.11538, 'error': None, 'unit': 'GW/K/m/s'}}}}, {'identifier': 'mp-643446', 'data': {'sigma': {'p': {'display': '1.06596 1/fΩ/m/s', 'value': 1.06596, 'error': None, 'unit': '1/fΩ/m/s'}}, 'kappa': {'p': {'display': '1.11577 GW/K/m/s', 'value': 1.11577, 'error': None, 'unit': 'GW/K/m/s'}}}}, {'identifier': 'mp-697108', 'data': {'sigma': {'p': {'display': '0.617462 1/fΩ/m/s', 'value': 0.617462, 'error': None, 'unit': '1/fΩ/m/s'}}, 'kappa': {'p': {'display': '1.11628 GW/K/m/s', 'value': 1.11628, 'error': None, 'unit': 'GW/K/m/s'}}}}, {'identifier': 'mp-763437', 'data': {'sigma': {'p': {'display': '0.624518 1/fΩ/m/s', 'value': 0.624518, 'error': None, 'unit': '1/fΩ/m/s'}}, 'kappa': {'p': {'display': '1.1168 GW/K/m/s', 'value': 1.1168, 'error': None, 'unit': 'GW/K/m/s'}}}}], 'has_more': True, 'total_count': 4661, 'total_pages': 24}\n",
      "Table: {'identifier': 'mp-764111', 'data': {'sigma': {'p': {'display': '0.762958 1/fΩ/m/s', 'value': 0.762958, 'error': None, 'unit': '1/fΩ/m/s'}}, 'kappa': {'p': {'display': '1.00117 GW/K/m/s', 'value': 1.00117, 'error': None, 'unit': 'GW/K/m/s'}}}}\n",
      "Table: {'identifier': 'mp-680167', 'data': {'sigma': {'p': {'display': '0.562677 1/fΩ/m/s', 'value': 0.562677, 'error': None, 'unit': '1/fΩ/m/s'}}, 'kappa': {'p': {'display': '1.0013 GW/K/m/s', 'value': 1.0013, 'error': None, 'unit': 'GW/K/m/s'}}}}\n",
      "Table: {'identifier': 'mp-23444', 'data': {'sigma': {'p': {'display': '0.59234 1/fΩ/m/s', 'value': 0.59234, 'error': None, 'unit': '1/fΩ/m/s'}}, 'kappa': {'p': {'display': '1.00183 GW/K/m/s', 'value': 1.00183, 'error': None, 'unit': 'GW/K/m/s'}}}}\n",
      "Table: {'identifier': 'mp-863294', 'data': {'sigma': {'p': {'display': '0.994115 1/fΩ/m/s', 'value': 0.994115, 'error': None, 'unit': '1/fΩ/m/s'}}, 'kappa': {'p': {'display': '1.00249 GW/K/m/s', 'value': 1.00249, 'error': None, 'unit': 'GW/K/m/s'}}}}\n",
      "Table: {'identifier': 'mp-554184', 'data': {'sigma': {'p': {'display': '0.785786 1/fΩ/m/s', 'value': 0.785786, 'error': None, 'unit': '1/fΩ/m/s'}}, 'kappa': {'p': {'display': '1.00399 GW/K/m/s', 'value': 1.00399, 'error': None, 'unit': 'GW/K/m/s'}}}}\n",
      "Table: {'identifier': 'mp-764752', 'data': {'sigma': {'p': {'display': '0.373075 1/fΩ/m/s', 'value': 0.373075, 'error': None, 'unit': '1/fΩ/m/s'}}, 'kappa': {'p': {'display': '1.00418 GW/K/m/s', 'value': 1.00418, 'error': None, 'unit': 'GW/K/m/s'}}}}\n",
      "Table: {'identifier': 'mp-645346', 'data': {'sigma': {'p': {'display': '0.548543 1/fΩ/m/s', 'value': 0.548543, 'error': None, 'unit': '1/fΩ/m/s'}}, 'kappa': {'p': {'display': '1.00423 GW/K/m/s', 'value': 1.00423, 'error': None, 'unit': 'GW/K/m/s'}}}}\n",
      "Table: {'identifier': 'mp-29871', 'data': {'sigma': {'p': {'display': '0.545303 1/fΩ/m/s', 'value': 0.545303, 'error': None, 'unit': '1/fΩ/m/s'}}, 'kappa': {'p': {'display': '1.00465 GW/K/m/s', 'value': 1.00465, 'error': None, 'unit': 'GW/K/m/s'}}}}\n",
      "Table: {'identifier': 'mp-774009', 'data': {'sigma': {'p': {'display': '0.23001 1/fΩ/m/s', 'value': 0.23001, 'error': None, 'unit': '1/fΩ/m/s'}}, 'kappa': {'p': {'display': '1.00479 GW/K/m/s', 'value': 1.00479, 'error': None, 'unit': 'GW/K/m/s'}}}}\n",
      "Table: {'identifier': 'mp-567256', 'data': {'sigma': {'p': {'display': '0.456951 1/fΩ/m/s', 'value': 0.456951, 'error': None, 'unit': '1/fΩ/m/s'}}, 'kappa': {'p': {'display': '1.00505 GW/K/m/s', 'value': 1.00505, 'error': None, 'unit': 'GW/K/m/s'}}}}\n",
      "Table: {'identifier': 'mp-707285', 'data': {'sigma': {'p': {'display': '0.98485 1/fΩ/m/s', 'value': 0.98485, 'error': None, 'unit': '1/fΩ/m/s'}}, 'kappa': {'p': {'display': '1.00506 GW/K/m/s', 'value': 1.00506, 'error': None, 'unit': 'GW/K/m/s'}}}}\n",
      "Table: {'identifier': 'mp-554761', 'data': {'sigma': {'p': {'display': '0.455414 1/fΩ/m/s', 'value': 0.455414, 'error': None, 'unit': '1/fΩ/m/s'}}, 'kappa': {'p': {'display': '1.00589 GW/K/m/s', 'value': 1.00589, 'error': None, 'unit': 'GW/K/m/s'}}}}\n",
      "Table: {'identifier': 'mp-573751', 'data': {'sigma': {'p': {'display': '0.543706 1/fΩ/m/s', 'value': 0.543706, 'error': None, 'unit': '1/fΩ/m/s'}}, 'kappa': {'p': {'display': '1.00619 GW/K/m/s', 'value': 1.00619, 'error': None, 'unit': 'GW/K/m/s'}}}}\n",
      "Table: {'identifier': 'mp-775705', 'data': {'sigma': {'p': {'display': '0.994016 1/fΩ/m/s', 'value': 0.994016, 'error': None, 'unit': '1/fΩ/m/s'}}, 'kappa': {'p': {'display': '1.0064 GW/K/m/s', 'value': 1.0064, 'error': None, 'unit': 'GW/K/m/s'}}}}\n",
      "Table: {'identifier': 'mp-17196', 'data': {'sigma': {'p': {'display': '0.802199 1/fΩ/m/s', 'value': 0.802199, 'error': None, 'unit': '1/fΩ/m/s'}}, 'kappa': {'p': {'display': '1.00651 GW/K/m/s', 'value': 1.00651, 'error': None, 'unit': 'GW/K/m/s'}}}}\n",
      "Table: {'identifier': 'mp-776733', 'data': {'sigma': {'p': {'display': '0.372465 1/fΩ/m/s', 'value': 0.372465, 'error': None, 'unit': '1/fΩ/m/s'}}, 'kappa': {'p': {'display': '1.00745 GW/K/m/s', 'value': 1.00745, 'error': None, 'unit': 'GW/K/m/s'}}}}\n",
      "Table: {'identifier': 'mp-18684', 'data': {'sigma': {'p': {'display': '0.394169 1/fΩ/m/s', 'value': 0.394169, 'error': None, 'unit': '1/fΩ/m/s'}}, 'kappa': {'p': {'display': '1.00757 GW/K/m/s', 'value': 1.00757, 'error': None, 'unit': 'GW/K/m/s'}}}}\n",
      "Table: {'identifier': 'mp-557112', 'data': {'sigma': {'p': {'display': '0.790154 1/fΩ/m/s', 'value': 0.790154, 'error': None, 'unit': '1/fΩ/m/s'}}, 'kappa': {'p': {'display': '1.0081 GW/K/m/s', 'value': 1.0081, 'error': None, 'unit': 'GW/K/m/s'}}}}\n",
      "Table: {'identifier': 'mp-28757', 'data': {'sigma': {'p': {'display': '0.423905 1/fΩ/m/s', 'value': 0.423905, 'error': None, 'unit': '1/fΩ/m/s'}}, 'kappa': {'p': {'display': '1.00836 GW/K/m/s', 'value': 1.00836, 'error': None, 'unit': 'GW/K/m/s'}}}}\n",
      "Table: {'identifier': 'mp-769681', 'data': {'sigma': {'p': {'display': '0.86326 1/fΩ/m/s', 'value': 0.86326, 'error': None, 'unit': '1/fΩ/m/s'}}, 'kappa': {'p': {'display': '1.00861 GW/K/m/s', 'value': 1.00861, 'error': None, 'unit': 'GW/K/m/s'}}}}\n",
      "Table: {'identifier': 'mp-720817', 'data': {'sigma': {'p': {'display': '0.53865 1/fΩ/m/s', 'value': 0.53865, 'error': None, 'unit': '1/fΩ/m/s'}}, 'kappa': {'p': {'display': '1.00874 GW/K/m/s', 'value': 1.00874, 'error': None, 'unit': 'GW/K/m/s'}}}}\n",
      "Table: {'identifier': 'mp-779822', 'data': {'sigma': {'p': {'display': '0.857241 1/fΩ/m/s', 'value': 0.857241, 'error': None, 'unit': '1/fΩ/m/s'}}, 'kappa': {'p': {'display': '1.00876 GW/K/m/s', 'value': 1.00876, 'error': None, 'unit': 'GW/K/m/s'}}}}\n",
      "Table: {'identifier': 'mp-779518', 'data': {'sigma': {'p': {'display': '0.479798 1/fΩ/m/s', 'value': 0.479798, 'error': None, 'unit': '1/fΩ/m/s'}}, 'kappa': {'p': {'display': '1.00888 GW/K/m/s', 'value': 1.00888, 'error': None, 'unit': 'GW/K/m/s'}}}}\n",
      "Table: {'identifier': 'mp-765946', 'data': {'sigma': {'p': {'display': '0.341084 1/fΩ/m/s', 'value': 0.341084, 'error': None, 'unit': '1/fΩ/m/s'}}, 'kappa': {'p': {'display': '1.00922 GW/K/m/s', 'value': 1.00922, 'error': None, 'unit': 'GW/K/m/s'}}}}\n",
      "Table: {'identifier': 'mp-8985', 'data': {'sigma': {'p': {'display': '0.821281 1/fΩ/m/s', 'value': 0.821281, 'error': None, 'unit': '1/fΩ/m/s'}}, 'kappa': {'p': {'display': '1.01015 GW/K/m/s', 'value': 1.01015, 'error': None, 'unit': 'GW/K/m/s'}}}}\n",
      "Table: {'identifier': 'mp-743881', 'data': {'sigma': {'p': {'display': '0.368554 1/fΩ/m/s', 'value': 0.368554, 'error': None, 'unit': '1/fΩ/m/s'}}, 'kappa': {'p': {'display': '1.01027 GW/K/m/s', 'value': 1.01027, 'error': None, 'unit': 'GW/K/m/s'}}}}\n",
      "Table: {'identifier': 'mp-568252', 'data': {'sigma': {'p': {'display': '0.570768 1/fΩ/m/s', 'value': 0.570768, 'error': None, 'unit': '1/fΩ/m/s'}}, 'kappa': {'p': {'display': '1.01035 GW/K/m/s', 'value': 1.01035, 'error': None, 'unit': 'GW/K/m/s'}}}}\n",
      "Table: {'identifier': 'mp-570857', 'data': {'sigma': {'p': {'display': '0.387986 1/fΩ/m/s', 'value': 0.387986, 'error': None, 'unit': '1/fΩ/m/s'}}, 'kappa': {'p': {'display': '1.01102 GW/K/m/s', 'value': 1.01102, 'error': None, 'unit': 'GW/K/m/s'}}}}\n",
      "Table: {'identifier': 'mp-763513', 'data': {'sigma': {'p': {'display': '0.832393 1/fΩ/m/s', 'value': 0.832393, 'error': None, 'unit': '1/fΩ/m/s'}}, 'kappa': {'p': {'display': '1.01105 GW/K/m/s', 'value': 1.01105, 'error': None, 'unit': 'GW/K/m/s'}}}}\n",
      "Table: {'identifier': 'mp-764643', 'data': {'sigma': {'p': {'display': '0.809917 1/fΩ/m/s', 'value': 0.809917, 'error': None, 'unit': '1/fΩ/m/s'}}, 'kappa': {'p': {'display': '1.01106 GW/K/m/s', 'value': 1.01106, 'error': None, 'unit': 'GW/K/m/s'}}}}\n",
      "Table: {'identifier': 'mp-764374', 'data': {'sigma': {'p': {'display': '0.987305 1/fΩ/m/s', 'value': 0.987305, 'error': None, 'unit': '1/fΩ/m/s'}}, 'kappa': {'p': {'display': '1.01263 GW/K/m/s', 'value': 1.01263, 'error': None, 'unit': 'GW/K/m/s'}}}}\n",
      "Table: {'identifier': 'mp-849430', 'data': {'sigma': {'p': {'display': '0.421989 1/fΩ/m/s', 'value': 0.421989, 'error': None, 'unit': '1/fΩ/m/s'}}, 'kappa': {'p': {'display': '1.01312 GW/K/m/s', 'value': 1.01312, 'error': None, 'unit': 'GW/K/m/s'}}}}\n",
      "Table: {'identifier': 'mp-648843', 'data': {'sigma': {'p': {'display': '1.53359 1/fΩ/m/s', 'value': 1.53359, 'error': None, 'unit': '1/fΩ/m/s'}}, 'kappa': {'p': {'display': '1.01358 GW/K/m/s', 'value': 1.01358, 'error': None, 'unit': 'GW/K/m/s'}}}}\n",
      "Table: {'identifier': 'mp-14380', 'data': {'sigma': {'p': {'display': '0.401341 1/fΩ/m/s', 'value': 0.401341, 'error': None, 'unit': '1/fΩ/m/s'}}, 'kappa': {'p': {'display': '1.0149 GW/K/m/s', 'value': 1.0149, 'error': None, 'unit': 'GW/K/m/s'}}}}\n",
      "Table: {'identifier': 'mp-776723', 'data': {'sigma': {'p': {'display': '0.605572 1/fΩ/m/s', 'value': 0.605572, 'error': None, 'unit': '1/fΩ/m/s'}}, 'kappa': {'p': {'display': '1.01644 GW/K/m/s', 'value': 1.01644, 'error': None, 'unit': 'GW/K/m/s'}}}}\n",
      "Table: {'identifier': 'mp-863884', 'data': {'sigma': {'p': {'display': '0.729148 1/fΩ/m/s', 'value': 0.729148, 'error': None, 'unit': '1/fΩ/m/s'}}, 'kappa': {'p': {'display': '1.01817 GW/K/m/s', 'value': 1.01817, 'error': None, 'unit': 'GW/K/m/s'}}}}\n",
      "Table: {'identifier': 'mp-734124', 'data': {'sigma': {'p': {'display': '0.961778 1/fΩ/m/s', 'value': 0.961778, 'error': None, 'unit': '1/fΩ/m/s'}}, 'kappa': {'p': {'display': '1.01895 GW/K/m/s', 'value': 1.01895, 'error': None, 'unit': 'GW/K/m/s'}}}}\n",
      "Table: {'identifier': 'mp-766623', 'data': {'sigma': {'p': {'display': '0.28762 1/fΩ/m/s', 'value': 0.28762, 'error': None, 'unit': '1/fΩ/m/s'}}, 'kappa': {'p': {'display': '1.01959 GW/K/m/s', 'value': 1.01959, 'error': None, 'unit': 'GW/K/m/s'}}}}\n",
      "Table: {'identifier': 'mp-766731', 'data': {'sigma': {'p': {'display': '0.9042 1/fΩ/m/s', 'value': 0.9042, 'error': None, 'unit': '1/fΩ/m/s'}}, 'kappa': {'p': {'display': '1.02002 GW/K/m/s', 'value': 1.02002, 'error': None, 'unit': 'GW/K/m/s'}}}}\n",
      "Table: {'identifier': 'mp-675978', 'data': {'sigma': {'p': {'display': '0.444666 1/fΩ/m/s', 'value': 0.444666, 'error': None, 'unit': '1/fΩ/m/s'}}, 'kappa': {'p': {'display': '1.021 GW/K/m/s', 'value': 1.021, 'error': None, 'unit': 'GW/K/m/s'}}}}\n",
      "Table: {'identifier': 'mp-505436', 'data': {'sigma': {'p': {'display': '0.707775 1/fΩ/m/s', 'value': 0.707775, 'error': None, 'unit': '1/fΩ/m/s'}}, 'kappa': {'p': {'display': '1.02115 GW/K/m/s', 'value': 1.02115, 'error': None, 'unit': 'GW/K/m/s'}}}}\n",
      "Table: {'identifier': 'mp-763827', 'data': {'sigma': {'p': {'display': '0.884191 1/fΩ/m/s', 'value': 0.884191, 'error': None, 'unit': '1/fΩ/m/s'}}, 'kappa': {'p': {'display': '1.02237 GW/K/m/s', 'value': 1.02237, 'error': None, 'unit': 'GW/K/m/s'}}}}\n",
      "Table: {'identifier': 'mp-565622', 'data': {'sigma': {'p': {'display': '0.258279 1/fΩ/m/s', 'value': 0.258279, 'error': None, 'unit': '1/fΩ/m/s'}}, 'kappa': {'p': {'display': '1.02319 GW/K/m/s', 'value': 1.02319, 'error': None, 'unit': 'GW/K/m/s'}}}}\n",
      "Table: {'identifier': 'mp-761484', 'data': {'sigma': {'p': {'display': '0.676113 1/fΩ/m/s', 'value': 0.676113, 'error': None, 'unit': '1/fΩ/m/s'}}, 'kappa': {'p': {'display': '1.02349 GW/K/m/s', 'value': 1.02349, 'error': None, 'unit': 'GW/K/m/s'}}}}\n",
      "Table: {'identifier': 'mp-505733', 'data': {'sigma': {'p': {'display': '0.46706 1/fΩ/m/s', 'value': 0.46706, 'error': None, 'unit': '1/fΩ/m/s'}}, 'kappa': {'p': {'display': '1.0238 GW/K/m/s', 'value': 1.0238, 'error': None, 'unit': 'GW/K/m/s'}}}}\n",
      "Table: {'identifier': 'mp-721699', 'data': {'sigma': {'p': {'display': '0.347243 1/fΩ/m/s', 'value': 0.347243, 'error': None, 'unit': '1/fΩ/m/s'}}, 'kappa': {'p': {'display': '1.02383 GW/K/m/s', 'value': 1.02383, 'error': None, 'unit': 'GW/K/m/s'}}}}\n",
      "Table: {'identifier': 'mp-567344', 'data': {'sigma': {'p': {'display': '1.03411 1/fΩ/m/s', 'value': 1.03411, 'error': None, 'unit': '1/fΩ/m/s'}}, 'kappa': {'p': {'display': '1.02394 GW/K/m/s', 'value': 1.02394, 'error': None, 'unit': 'GW/K/m/s'}}}}\n",
      "Table: {'identifier': 'mp-775432', 'data': {'sigma': {'p': {'display': '0.436679 1/fΩ/m/s', 'value': 0.436679, 'error': None, 'unit': '1/fΩ/m/s'}}, 'kappa': {'p': {'display': '1.02571 GW/K/m/s', 'value': 1.02571, 'error': None, 'unit': 'GW/K/m/s'}}}}\n",
      "Table: {'identifier': 'mp-558667', 'data': {'sigma': {'p': {'display': '0.660954 1/fΩ/m/s', 'value': 0.660954, 'error': None, 'unit': '1/fΩ/m/s'}}, 'kappa': {'p': {'display': '1.02985 GW/K/m/s', 'value': 1.02985, 'error': None, 'unit': 'GW/K/m/s'}}}}\n",
      "Table: {'identifier': 'mp-28481', 'data': {'sigma': {'p': {'display': '0.720121 1/fΩ/m/s', 'value': 0.720121, 'error': None, 'unit': '1/fΩ/m/s'}}, 'kappa': {'p': {'display': '1.0306 GW/K/m/s', 'value': 1.0306, 'error': None, 'unit': 'GW/K/m/s'}}}}\n",
      "Table: {'identifier': 'mp-707219', 'data': {'sigma': {'p': {'display': '1.16099 1/fΩ/m/s', 'value': 1.16099, 'error': None, 'unit': '1/fΩ/m/s'}}, 'kappa': {'p': {'display': '1.03204 GW/K/m/s', 'value': 1.03204, 'error': None, 'unit': 'GW/K/m/s'}}}}\n",
      "Table: {'identifier': 'mp-684743', 'data': {'sigma': {'p': {'display': '1.10165 1/fΩ/m/s', 'value': 1.10165, 'error': None, 'unit': '1/fΩ/m/s'}}, 'kappa': {'p': {'display': '1.03217 GW/K/m/s', 'value': 1.03217, 'error': None, 'unit': 'GW/K/m/s'}}}}\n",
      "Table: {'identifier': 'mp-744148', 'data': {'sigma': {'p': {'display': '0.884419 1/fΩ/m/s', 'value': 0.884419, 'error': None, 'unit': '1/fΩ/m/s'}}, 'kappa': {'p': {'display': '1.03323 GW/K/m/s', 'value': 1.03323, 'error': None, 'unit': 'GW/K/m/s'}}}}\n",
      "Table: {'identifier': 'mp-706937', 'data': {'sigma': {'p': {'display': '0.570667 1/fΩ/m/s', 'value': 0.570667, 'error': None, 'unit': '1/fΩ/m/s'}}, 'kappa': {'p': {'display': '1.03325 GW/K/m/s', 'value': 1.03325, 'error': None, 'unit': 'GW/K/m/s'}}}}\n",
      "Table: {'identifier': 'mp-558514', 'data': {'sigma': {'p': {'display': '1.10423 1/fΩ/m/s', 'value': 1.10423, 'error': None, 'unit': '1/fΩ/m/s'}}, 'kappa': {'p': {'display': '1.03344 GW/K/m/s', 'value': 1.03344, 'error': None, 'unit': 'GW/K/m/s'}}}}\n",
      "Table: {'identifier': 'mp-766772', 'data': {'sigma': {'p': {'display': '0.443488 1/fΩ/m/s', 'value': 0.443488, 'error': None, 'unit': '1/fΩ/m/s'}}, 'kappa': {'p': {'display': '1.03358 GW/K/m/s', 'value': 1.03358, 'error': None, 'unit': 'GW/K/m/s'}}}}\n",
      "Table: {'identifier': 'mp-540456', 'data': {'sigma': {'p': {'display': '0.648043 1/fΩ/m/s', 'value': 0.648043, 'error': None, 'unit': '1/fΩ/m/s'}}, 'kappa': {'p': {'display': '1.03408 GW/K/m/s', 'value': 1.03408, 'error': None, 'unit': 'GW/K/m/s'}}}}\n",
      "Table: {'identifier': 'mp-764238', 'data': {'sigma': {'p': {'display': '0.515323 1/fΩ/m/s', 'value': 0.515323, 'error': None, 'unit': '1/fΩ/m/s'}}, 'kappa': {'p': {'display': '1.03425 GW/K/m/s', 'value': 1.03425, 'error': None, 'unit': 'GW/K/m/s'}}}}\n",
      "Table: {'identifier': 'mp-569814', 'data': {'sigma': {'p': {'display': '0.592096 1/fΩ/m/s', 'value': 0.592096, 'error': None, 'unit': '1/fΩ/m/s'}}, 'kappa': {'p': {'display': '1.03454 GW/K/m/s', 'value': 1.03454, 'error': None, 'unit': 'GW/K/m/s'}}}}\n",
      "Table: {'identifier': 'mp-780491', 'data': {'sigma': {'p': {'display': '1.02311 1/fΩ/m/s', 'value': 1.02311, 'error': None, 'unit': '1/fΩ/m/s'}}, 'kappa': {'p': {'display': '1.03504 GW/K/m/s', 'value': 1.03504, 'error': None, 'unit': 'GW/K/m/s'}}}}\n",
      "Table: {'identifier': 'mp-765738', 'data': {'sigma': {'p': {'display': '1.29439 1/fΩ/m/s', 'value': 1.29439, 'error': None, 'unit': '1/fΩ/m/s'}}, 'kappa': {'p': {'display': '1.03518 GW/K/m/s', 'value': 1.03518, 'error': None, 'unit': 'GW/K/m/s'}}}}\n",
      "Table: {'identifier': 'mp-695829', 'data': {'sigma': {'p': {'display': '0.527277 1/fΩ/m/s', 'value': 0.527277, 'error': None, 'unit': '1/fΩ/m/s'}}, 'kappa': {'p': {'display': '1.03571 GW/K/m/s', 'value': 1.03571, 'error': None, 'unit': 'GW/K/m/s'}}}}\n",
      "Table: {'identifier': 'mp-626263', 'data': {'sigma': {'p': {'display': '0.777873 1/fΩ/m/s', 'value': 0.777873, 'error': None, 'unit': '1/fΩ/m/s'}}, 'kappa': {'p': {'display': '1.03584 GW/K/m/s', 'value': 1.03584, 'error': None, 'unit': 'GW/K/m/s'}}}}\n",
      "Table: {'identifier': 'mp-758814', 'data': {'sigma': {'p': {'display': '0.662738 1/fΩ/m/s', 'value': 0.662738, 'error': None, 'unit': '1/fΩ/m/s'}}, 'kappa': {'p': {'display': '1.0359 GW/K/m/s', 'value': 1.0359, 'error': None, 'unit': 'GW/K/m/s'}}}}\n",
      "Table: {'identifier': 'mp-777766', 'data': {'sigma': {'p': {'display': '1.13484 1/fΩ/m/s', 'value': 1.13484, 'error': None, 'unit': '1/fΩ/m/s'}}, 'kappa': {'p': {'display': '1.03648 GW/K/m/s', 'value': 1.03648, 'error': None, 'unit': 'GW/K/m/s'}}}}\n",
      "Table: {'identifier': 'mp-762746', 'data': {'sigma': {'p': {'display': '1.11556 1/fΩ/m/s', 'value': 1.11556, 'error': None, 'unit': '1/fΩ/m/s'}}, 'kappa': {'p': {'display': '1.0372 GW/K/m/s', 'value': 1.0372, 'error': None, 'unit': 'GW/K/m/s'}}}}\n",
      "Table: {'identifier': 'mp-721901', 'data': {'sigma': {'p': {'display': '0.450158 1/fΩ/m/s', 'value': 0.450158, 'error': None, 'unit': '1/fΩ/m/s'}}, 'kappa': {'p': {'display': '1.03721 GW/K/m/s', 'value': 1.03721, 'error': None, 'unit': 'GW/K/m/s'}}}}\n",
      "Table: {'identifier': 'mp-585266', 'data': {'sigma': {'p': {'display': '0.445402 1/fΩ/m/s', 'value': 0.445402, 'error': None, 'unit': '1/fΩ/m/s'}}, 'kappa': {'p': {'display': '1.0379 GW/K/m/s', 'value': 1.0379, 'error': None, 'unit': 'GW/K/m/s'}}}}\n",
      "Table: {'identifier': 'mp-752475', 'data': {'sigma': {'p': {'display': '1.0531 1/fΩ/m/s', 'value': 1.0531, 'error': None, 'unit': '1/fΩ/m/s'}}, 'kappa': {'p': {'display': '1.03892 GW/K/m/s', 'value': 1.03892, 'error': None, 'unit': 'GW/K/m/s'}}}}\n",
      "Table: {'identifier': 'mp-686482', 'data': {'sigma': {'p': {'display': '0.301686 1/fΩ/m/s', 'value': 0.301686, 'error': None, 'unit': '1/fΩ/m/s'}}, 'kappa': {'p': {'display': '1.04174 GW/K/m/s', 'value': 1.04174, 'error': None, 'unit': 'GW/K/m/s'}}}}\n",
      "Table: {'identifier': 'mp-721011', 'data': {'sigma': {'p': {'display': '0.458439 1/fΩ/m/s', 'value': 0.458439, 'error': None, 'unit': '1/fΩ/m/s'}}, 'kappa': {'p': {'display': '1.04227 GW/K/m/s', 'value': 1.04227, 'error': None, 'unit': 'GW/K/m/s'}}}}\n",
      "Table: {'identifier': 'mp-626337', 'data': {'sigma': {'p': {'display': '0.72567 1/fΩ/m/s', 'value': 0.72567, 'error': None, 'unit': '1/fΩ/m/s'}}, 'kappa': {'p': {'display': '1.04295 GW/K/m/s', 'value': 1.04295, 'error': None, 'unit': 'GW/K/m/s'}}}}\n",
      "Table: {'identifier': 'mp-554754', 'data': {'sigma': {'p': {'display': '0.43018 1/fΩ/m/s', 'value': 0.43018, 'error': None, 'unit': '1/fΩ/m/s'}}, 'kappa': {'p': {'display': '1.04357 GW/K/m/s', 'value': 1.04357, 'error': None, 'unit': 'GW/K/m/s'}}}}\n",
      "Table: {'identifier': 'mp-7622', 'data': {'sigma': {'p': {'display': '0.806504 1/fΩ/m/s', 'value': 0.806504, 'error': None, 'unit': '1/fΩ/m/s'}}, 'kappa': {'p': {'display': '1.04374 GW/K/m/s', 'value': 1.04374, 'error': None, 'unit': 'GW/K/m/s'}}}}\n",
      "Table: {'identifier': 'mp-569292', 'data': {'sigma': {'p': {'display': '0.392708 1/fΩ/m/s', 'value': 0.392708, 'error': None, 'unit': '1/fΩ/m/s'}}, 'kappa': {'p': {'display': '1.04416 GW/K/m/s', 'value': 1.04416, 'error': None, 'unit': 'GW/K/m/s'}}}}\n",
      "Table: {'identifier': 'mp-608071', 'data': {'sigma': {'p': {'display': '0.307601 1/fΩ/m/s', 'value': 0.307601, 'error': None, 'unit': '1/fΩ/m/s'}}, 'kappa': {'p': {'display': '1.04475 GW/K/m/s', 'value': 1.04475, 'error': None, 'unit': 'GW/K/m/s'}}}}\n",
      "Table: {'identifier': 'mp-655078', 'data': {'sigma': {'p': {'display': '1.15972 1/fΩ/m/s', 'value': 1.15972, 'error': None, 'unit': '1/fΩ/m/s'}}, 'kappa': {'p': {'display': '1.04486 GW/K/m/s', 'value': 1.04486, 'error': None, 'unit': 'GW/K/m/s'}}}}\n",
      "Table: {'identifier': 'mp-698358', 'data': {'sigma': {'p': {'display': '0.776756 1/fΩ/m/s', 'value': 0.776756, 'error': None, 'unit': '1/fΩ/m/s'}}, 'kappa': {'p': {'display': '1.04533 GW/K/m/s', 'value': 1.04533, 'error': None, 'unit': 'GW/K/m/s'}}}}\n",
      "Table: {'identifier': 'mp-24440', 'data': {'sigma': {'p': {'display': '0.399037 1/fΩ/m/s', 'value': 0.399037, 'error': None, 'unit': '1/fΩ/m/s'}}, 'kappa': {'p': {'display': '1.04596 GW/K/m/s', 'value': 1.04596, 'error': None, 'unit': 'GW/K/m/s'}}}}\n",
      "Table: {'identifier': 'mp-531132', 'data': {'sigma': {'p': {'display': '0.575311 1/fΩ/m/s', 'value': 0.575311, 'error': None, 'unit': '1/fΩ/m/s'}}, 'kappa': {'p': {'display': '1.04601 GW/K/m/s', 'value': 1.04601, 'error': None, 'unit': 'GW/K/m/s'}}}}\n",
      "Table: {'identifier': 'mp-541867', 'data': {'sigma': {'p': {'display': '0.386887 1/fΩ/m/s', 'value': 0.386887, 'error': None, 'unit': '1/fΩ/m/s'}}, 'kappa': {'p': {'display': '1.04603 GW/K/m/s', 'value': 1.04603, 'error': None, 'unit': 'GW/K/m/s'}}}}\n",
      "Table: {'identifier': 'mp-603327', 'data': {'sigma': {'p': {'display': '0.453652 1/fΩ/m/s', 'value': 0.453652, 'error': None, 'unit': '1/fΩ/m/s'}}, 'kappa': {'p': {'display': '1.04614 GW/K/m/s', 'value': 1.04614, 'error': None, 'unit': 'GW/K/m/s'}}}}\n",
      "Table: {'identifier': 'mp-18183', 'data': {'sigma': {'p': {'display': '0.656647 1/fΩ/m/s', 'value': 0.656647, 'error': None, 'unit': '1/fΩ/m/s'}}, 'kappa': {'p': {'display': '1.0465 GW/K/m/s', 'value': 1.0465, 'error': None, 'unit': 'GW/K/m/s'}}}}\n",
      "Table: {'identifier': 'mp-762319', 'data': {'sigma': {'p': {'display': '0.812448 1/fΩ/m/s', 'value': 0.812448, 'error': None, 'unit': '1/fΩ/m/s'}}, 'kappa': {'p': {'display': '1.04766 GW/K/m/s', 'value': 1.04766, 'error': None, 'unit': 'GW/K/m/s'}}}}\n",
      "Table: {'identifier': 'mp-677680', 'data': {'sigma': {'p': {'display': '0.258772 1/fΩ/m/s', 'value': 0.258772, 'error': None, 'unit': '1/fΩ/m/s'}}, 'kappa': {'p': {'display': '1.04895 GW/K/m/s', 'value': 1.04895, 'error': None, 'unit': 'GW/K/m/s'}}}}\n",
      "Table: {'identifier': 'mp-767803', 'data': {'sigma': {'p': {'display': '0.710528 1/fΩ/m/s', 'value': 0.710528, 'error': None, 'unit': '1/fΩ/m/s'}}, 'kappa': {'p': {'display': '1.04937 GW/K/m/s', 'value': 1.04937, 'error': None, 'unit': 'GW/K/m/s'}}}}\n",
      "Table: {'identifier': 'mp-601178', 'data': {'sigma': {'p': {'display': '0.914505 1/fΩ/m/s', 'value': 0.914505, 'error': None, 'unit': '1/fΩ/m/s'}}, 'kappa': {'p': {'display': '1.05025 GW/K/m/s', 'value': 1.05025, 'error': None, 'unit': 'GW/K/m/s'}}}}\n",
      "Table: {'identifier': 'mp-705056', 'data': {'sigma': {'p': {'display': '0.741469 1/fΩ/m/s', 'value': 0.741469, 'error': None, 'unit': '1/fΩ/m/s'}}, 'kappa': {'p': {'display': '1.05111 GW/K/m/s', 'value': 1.05111, 'error': None, 'unit': 'GW/K/m/s'}}}}\n",
      "Table: {'identifier': 'mp-679987', 'data': {'sigma': {'p': {'display': '1.13393 1/fΩ/m/s', 'value': 1.13393, 'error': None, 'unit': '1/fΩ/m/s'}}, 'kappa': {'p': {'display': '1.05114 GW/K/m/s', 'value': 1.05114, 'error': None, 'unit': 'GW/K/m/s'}}}}\n",
      "Table: {'identifier': 'mp-767589', 'data': {'sigma': {'p': {'display': '0.868038 1/fΩ/m/s', 'value': 0.868038, 'error': None, 'unit': '1/fΩ/m/s'}}, 'kappa': {'p': {'display': '1.05138 GW/K/m/s', 'value': 1.05138, 'error': None, 'unit': 'GW/K/m/s'}}}}\n",
      "Table: {'identifier': 'mp-755613', 'data': {'sigma': {'p': {'display': '0.32249 1/fΩ/m/s', 'value': 0.32249, 'error': None, 'unit': '1/fΩ/m/s'}}, 'kappa': {'p': {'display': '1.05217 GW/K/m/s', 'value': 1.05217, 'error': None, 'unit': 'GW/K/m/s'}}}}\n",
      "Table: {'identifier': 'mp-24118', 'data': {'sigma': {'p': {'display': '0.699016 1/fΩ/m/s', 'value': 0.699016, 'error': None, 'unit': '1/fΩ/m/s'}}, 'kappa': {'p': {'display': '1.05226 GW/K/m/s', 'value': 1.05226, 'error': None, 'unit': 'GW/K/m/s'}}}}\n",
      "Table: {'identifier': 'mp-27664', 'data': {'sigma': {'p': {'display': '0.645068 1/fΩ/m/s', 'value': 0.645068, 'error': None, 'unit': '1/fΩ/m/s'}}, 'kappa': {'p': {'display': '1.05284 GW/K/m/s', 'value': 1.05284, 'error': None, 'unit': 'GW/K/m/s'}}}}\n",
      "Table: {'identifier': 'mp-557171', 'data': {'sigma': {'p': {'display': '1.01023 1/fΩ/m/s', 'value': 1.01023, 'error': None, 'unit': '1/fΩ/m/s'}}, 'kappa': {'p': {'display': '1.05332 GW/K/m/s', 'value': 1.05332, 'error': None, 'unit': 'GW/K/m/s'}}}}\n",
      "Table: {'identifier': 'mp-765952', 'data': {'sigma': {'p': {'display': '0.632568 1/fΩ/m/s', 'value': 0.632568, 'error': None, 'unit': '1/fΩ/m/s'}}, 'kappa': {'p': {'display': '1.05334 GW/K/m/s', 'value': 1.05334, 'error': None, 'unit': 'GW/K/m/s'}}}}\n",
      "Table: {'identifier': 'mp-558716', 'data': {'sigma': {'p': {'display': '1.08449 1/fΩ/m/s', 'value': 1.08449, 'error': None, 'unit': '1/fΩ/m/s'}}, 'kappa': {'p': {'display': '1.05441 GW/K/m/s', 'value': 1.05441, 'error': None, 'unit': 'GW/K/m/s'}}}}\n",
      "Table: {'identifier': 'mp-773996', 'data': {'sigma': {'p': {'display': '0.845219 1/fΩ/m/s', 'value': 0.845219, 'error': None, 'unit': '1/fΩ/m/s'}}, 'kappa': {'p': {'display': '1.05455 GW/K/m/s', 'value': 1.05455, 'error': None, 'unit': 'GW/K/m/s'}}}}\n",
      "Table: {'identifier': 'mp-559142', 'data': {'sigma': {'p': {'display': '0.48568 1/fΩ/m/s', 'value': 0.48568, 'error': None, 'unit': '1/fΩ/m/s'}}, 'kappa': {'p': {'display': '1.05495 GW/K/m/s', 'value': 1.05495, 'error': None, 'unit': 'GW/K/m/s'}}}}\n",
      "Table: {'identifier': 'mp-604119', 'data': {'sigma': {'p': {'display': '0.520336 1/fΩ/m/s', 'value': 0.520336, 'error': None, 'unit': '1/fΩ/m/s'}}, 'kappa': {'p': {'display': '1.05512 GW/K/m/s', 'value': 1.05512, 'error': None, 'unit': 'GW/K/m/s'}}}}\n",
      "Table: {'identifier': 'mp-850743', 'data': {'sigma': {'p': {'display': '0.399526 1/fΩ/m/s', 'value': 0.399526, 'error': None, 'unit': '1/fΩ/m/s'}}, 'kappa': {'p': {'display': '1.05521 GW/K/m/s', 'value': 1.05521, 'error': None, 'unit': 'GW/K/m/s'}}}}\n",
      "Table: {'identifier': 'mp-23872', 'data': {'sigma': {'p': {'display': '0.662947 1/fΩ/m/s', 'value': 0.662947, 'error': None, 'unit': '1/fΩ/m/s'}}, 'kappa': {'p': {'display': '1.05647 GW/K/m/s', 'value': 1.05647, 'error': None, 'unit': 'GW/K/m/s'}}}}\n",
      "Table: {'identifier': 'mp-25024', 'data': {'sigma': {'p': {'display': '0.644792 1/fΩ/m/s', 'value': 0.644792, 'error': None, 'unit': '1/fΩ/m/s'}}, 'kappa': {'p': {'display': '1.05787 GW/K/m/s', 'value': 1.05787, 'error': None, 'unit': 'GW/K/m/s'}}}}\n",
      "Table: {'identifier': 'mp-654299', 'data': {'sigma': {'p': {'display': '0.428431 1/fΩ/m/s', 'value': 0.428431, 'error': None, 'unit': '1/fΩ/m/s'}}, 'kappa': {'p': {'display': '1.05795 GW/K/m/s', 'value': 1.05795, 'error': None, 'unit': 'GW/K/m/s'}}}}\n",
      "Table: {'identifier': 'mp-707342', 'data': {'sigma': {'p': {'display': '0.8277 1/fΩ/m/s', 'value': 0.8277, 'error': None, 'unit': '1/fΩ/m/s'}}, 'kappa': {'p': {'display': '1.05814 GW/K/m/s', 'value': 1.05814, 'error': None, 'unit': 'GW/K/m/s'}}}}\n",
      "Table: {'identifier': 'mp-863858', 'data': {'sigma': {'p': {'display': '1.24731 1/fΩ/m/s', 'value': 1.24731, 'error': None, 'unit': '1/fΩ/m/s'}}, 'kappa': {'p': {'display': '1.05846 GW/K/m/s', 'value': 1.05846, 'error': None, 'unit': 'GW/K/m/s'}}}}\n",
      "Table: {'identifier': 'mp-707366', 'data': {'sigma': {'p': {'display': '0.372097 1/fΩ/m/s', 'value': 0.372097, 'error': None, 'unit': '1/fΩ/m/s'}}, 'kappa': {'p': {'display': '1.0589 GW/K/m/s', 'value': 1.0589, 'error': None, 'unit': 'GW/K/m/s'}}}}\n",
      "Table: {'identifier': 'mp-29866', 'data': {'sigma': {'p': {'display': '0.415711 1/fΩ/m/s', 'value': 0.415711, 'error': None, 'unit': '1/fΩ/m/s'}}, 'kappa': {'p': {'display': '1.05937 GW/K/m/s', 'value': 1.05937, 'error': None, 'unit': 'GW/K/m/s'}}}}\n",
      "Table: {'identifier': 'mp-695799', 'data': {'sigma': {'p': {'display': '0.67528 1/fΩ/m/s', 'value': 0.67528, 'error': None, 'unit': '1/fΩ/m/s'}}, 'kappa': {'p': {'display': '1.05974 GW/K/m/s', 'value': 1.05974, 'error': None, 'unit': 'GW/K/m/s'}}}}\n",
      "Table: {'identifier': 'mp-849799', 'data': {'sigma': {'p': {'display': '0.55329 1/fΩ/m/s', 'value': 0.55329, 'error': None, 'unit': '1/fΩ/m/s'}}, 'kappa': {'p': {'display': '1.06058 GW/K/m/s', 'value': 1.06058, 'error': None, 'unit': 'GW/K/m/s'}}}}\n",
      "Table: {'identifier': 'mp-568561', 'data': {'sigma': {'p': {'display': '0.8102 1/fΩ/m/s', 'value': 0.8102, 'error': None, 'unit': '1/fΩ/m/s'}}, 'kappa': {'p': {'display': '1.06065 GW/K/m/s', 'value': 1.06065, 'error': None, 'unit': 'GW/K/m/s'}}}}\n",
      "Table: {'identifier': 'mp-560919', 'data': {'sigma': {'p': {'display': '0.733194 1/fΩ/m/s', 'value': 0.733194, 'error': None, 'unit': '1/fΩ/m/s'}}, 'kappa': {'p': {'display': '1.06247 GW/K/m/s', 'value': 1.06247, 'error': None, 'unit': 'GW/K/m/s'}}}}\n",
      "Table: {'identifier': 'mp-699266', 'data': {'sigma': {'p': {'display': '0.457521 1/fΩ/m/s', 'value': 0.457521, 'error': None, 'unit': '1/fΩ/m/s'}}, 'kappa': {'p': {'display': '1.06306 GW/K/m/s', 'value': 1.06306, 'error': None, 'unit': 'GW/K/m/s'}}}}\n",
      "Table: {'identifier': 'mp-764658', 'data': {'sigma': {'p': {'display': '0.759239 1/fΩ/m/s', 'value': 0.759239, 'error': None, 'unit': '1/fΩ/m/s'}}, 'kappa': {'p': {'display': '1.06314 GW/K/m/s', 'value': 1.06314, 'error': None, 'unit': 'GW/K/m/s'}}}}\n",
      "Table: {'identifier': 'mp-706629', 'data': {'sigma': {'p': {'display': '0.46229 1/fΩ/m/s', 'value': 0.46229, 'error': None, 'unit': '1/fΩ/m/s'}}, 'kappa': {'p': {'display': '1.06344 GW/K/m/s', 'value': 1.06344, 'error': None, 'unit': 'GW/K/m/s'}}}}\n",
      "Table: {'identifier': 'mp-18698', 'data': {'sigma': {'p': {'display': '1.06986 1/fΩ/m/s', 'value': 1.06986, 'error': None, 'unit': '1/fΩ/m/s'}}, 'kappa': {'p': {'display': '1.06452 GW/K/m/s', 'value': 1.06452, 'error': None, 'unit': 'GW/K/m/s'}}}}\n",
      "Table: {'identifier': 'mp-13753', 'data': {'sigma': {'p': {'display': '1.08181 1/fΩ/m/s', 'value': 1.08181, 'error': None, 'unit': '1/fΩ/m/s'}}, 'kappa': {'p': {'display': '1.06473 GW/K/m/s', 'value': 1.06473, 'error': None, 'unit': 'GW/K/m/s'}}}}\n",
      "Table: {'identifier': 'mp-18816', 'data': {'sigma': {'p': {'display': '0.991671 1/fΩ/m/s', 'value': 0.991671, 'error': None, 'unit': '1/fΩ/m/s'}}, 'kappa': {'p': {'display': '1.06587 GW/K/m/s', 'value': 1.06587, 'error': None, 'unit': 'GW/K/m/s'}}}}\n",
      "Table: {'identifier': 'mp-3817', 'data': {'sigma': {'p': {'display': '0.166229 1/fΩ/m/s', 'value': 0.166229, 'error': None, 'unit': '1/fΩ/m/s'}}, 'kappa': {'p': {'display': '1.06663 GW/K/m/s', 'value': 1.06663, 'error': None, 'unit': 'GW/K/m/s'}}}}\n",
      "Table: {'identifier': 'mp-603267', 'data': {'sigma': {'p': {'display': '0.571197 1/fΩ/m/s', 'value': 0.571197, 'error': None, 'unit': '1/fΩ/m/s'}}, 'kappa': {'p': {'display': '1.06677 GW/K/m/s', 'value': 1.06677, 'error': None, 'unit': 'GW/K/m/s'}}}}\n",
      "Table: {'identifier': 'mp-559113', 'data': {'sigma': {'p': {'display': '0.339461 1/fΩ/m/s', 'value': 0.339461, 'error': None, 'unit': '1/fΩ/m/s'}}, 'kappa': {'p': {'display': '1.06707 GW/K/m/s', 'value': 1.06707, 'error': None, 'unit': 'GW/K/m/s'}}}}\n",
      "Table: {'identifier': 'mp-7297', 'data': {'sigma': {'p': {'display': '0.638383 1/fΩ/m/s', 'value': 0.638383, 'error': None, 'unit': '1/fΩ/m/s'}}, 'kappa': {'p': {'display': '1.06894 GW/K/m/s', 'value': 1.06894, 'error': None, 'unit': 'GW/K/m/s'}}}}\n",
      "Table: {'identifier': 'mp-680240', 'data': {'sigma': {'p': {'display': '0.386063 1/fΩ/m/s', 'value': 0.386063, 'error': None, 'unit': '1/fΩ/m/s'}}, 'kappa': {'p': {'display': '1.06944 GW/K/m/s', 'value': 1.06944, 'error': None, 'unit': 'GW/K/m/s'}}}}\n",
      "Table: {'identifier': 'mp-680689', 'data': {'sigma': {'p': {'display': '0.946832 1/fΩ/m/s', 'value': 0.946832, 'error': None, 'unit': '1/fΩ/m/s'}}, 'kappa': {'p': {'display': '1.07026 GW/K/m/s', 'value': 1.07026, 'error': None, 'unit': 'GW/K/m/s'}}}}\n",
      "Table: {'identifier': 'mp-767575', 'data': {'sigma': {'p': {'display': '0.660229 1/fΩ/m/s', 'value': 0.660229, 'error': None, 'unit': '1/fΩ/m/s'}}, 'kappa': {'p': {'display': '1.07099 GW/K/m/s', 'value': 1.07099, 'error': None, 'unit': 'GW/K/m/s'}}}}\n",
      "Table: {'identifier': 'mp-867153', 'data': {'sigma': {'p': {'display': '0.554755 1/fΩ/m/s', 'value': 0.554755, 'error': None, 'unit': '1/fΩ/m/s'}}, 'kappa': {'p': {'display': '1.07118 GW/K/m/s', 'value': 1.07118, 'error': None, 'unit': 'GW/K/m/s'}}}}\n",
      "Table: {'identifier': 'mp-777624', 'data': {'sigma': {'p': {'display': '0.277863 1/fΩ/m/s', 'value': 0.277863, 'error': None, 'unit': '1/fΩ/m/s'}}, 'kappa': {'p': {'display': '1.07121 GW/K/m/s', 'value': 1.07121, 'error': None, 'unit': 'GW/K/m/s'}}}}\n",
      "Table: {'identifier': 'mp-764800', 'data': {'sigma': {'p': {'display': '0.632032 1/fΩ/m/s', 'value': 0.632032, 'error': None, 'unit': '1/fΩ/m/s'}}, 'kappa': {'p': {'display': '1.07124 GW/K/m/s', 'value': 1.07124, 'error': None, 'unit': 'GW/K/m/s'}}}}\n",
      "Table: {'identifier': 'mp-707307', 'data': {'sigma': {'p': {'display': '0.994677 1/fΩ/m/s', 'value': 0.994677, 'error': None, 'unit': '1/fΩ/m/s'}}, 'kappa': {'p': {'display': '1.07131 GW/K/m/s', 'value': 1.07131, 'error': None, 'unit': 'GW/K/m/s'}}}}\n",
      "Table: {'identifier': 'mp-778716', 'data': {'sigma': {'p': {'display': '0.479418 1/fΩ/m/s', 'value': 0.479418, 'error': None, 'unit': '1/fΩ/m/s'}}, 'kappa': {'p': {'display': '1.07184 GW/K/m/s', 'value': 1.07184, 'error': None, 'unit': 'GW/K/m/s'}}}}\n",
      "Table: {'identifier': 'mp-603285', 'data': {'sigma': {'p': {'display': '0.805083 1/fΩ/m/s', 'value': 0.805083, 'error': None, 'unit': '1/fΩ/m/s'}}, 'kappa': {'p': {'display': '1.0727 GW/K/m/s', 'value': 1.0727, 'error': None, 'unit': 'GW/K/m/s'}}}}\n",
      "Table: {'identifier': 'mp-765070', 'data': {'sigma': {'p': {'display': '0.460604 1/fΩ/m/s', 'value': 0.460604, 'error': None, 'unit': '1/fΩ/m/s'}}, 'kappa': {'p': {'display': '1.07323 GW/K/m/s', 'value': 1.07323, 'error': None, 'unit': 'GW/K/m/s'}}}}\n",
      "Table: {'identifier': 'mp-773717', 'data': {'sigma': {'p': {'display': '0.674154 1/fΩ/m/s', 'value': 0.674154, 'error': None, 'unit': '1/fΩ/m/s'}}, 'kappa': {'p': {'display': '1.0749 GW/K/m/s', 'value': 1.0749, 'error': None, 'unit': 'GW/K/m/s'}}}}\n",
      "Table: {'identifier': 'mp-703542', 'data': {'sigma': {'p': {'display': '0.672975 1/fΩ/m/s', 'value': 0.672975, 'error': None, 'unit': '1/fΩ/m/s'}}, 'kappa': {'p': {'display': '1.07607 GW/K/m/s', 'value': 1.07607, 'error': None, 'unit': 'GW/K/m/s'}}}}\n",
      "Table: {'identifier': 'mp-19609', 'data': {'sigma': {'p': {'display': '0.564264 1/fΩ/m/s', 'value': 0.564264, 'error': None, 'unit': '1/fΩ/m/s'}}, 'kappa': {'p': {'display': '1.07706 GW/K/m/s', 'value': 1.07706, 'error': None, 'unit': 'GW/K/m/s'}}}}\n",
      "Table: {'identifier': 'mp-764622', 'data': {'sigma': {'p': {'display': '0.677117 1/fΩ/m/s', 'value': 0.677117, 'error': None, 'unit': '1/fΩ/m/s'}}, 'kappa': {'p': {'display': '1.07708 GW/K/m/s', 'value': 1.07708, 'error': None, 'unit': 'GW/K/m/s'}}}}\n",
      "Table: {'identifier': 'mp-767020', 'data': {'sigma': {'p': {'display': '0.597788 1/fΩ/m/s', 'value': 0.597788, 'error': None, 'unit': '1/fΩ/m/s'}}, 'kappa': {'p': {'display': '1.07801 GW/K/m/s', 'value': 1.07801, 'error': None, 'unit': 'GW/K/m/s'}}}}\n",
      "Table: {'identifier': 'mp-556442', 'data': {'sigma': {'p': {'display': '0.582151 1/fΩ/m/s', 'value': 0.582151, 'error': None, 'unit': '1/fΩ/m/s'}}, 'kappa': {'p': {'display': '1.0782 GW/K/m/s', 'value': 1.0782, 'error': None, 'unit': 'GW/K/m/s'}}}}\n",
      "Table: {'identifier': 'mp-734377', 'data': {'sigma': {'p': {'display': '0.928375 1/fΩ/m/s', 'value': 0.928375, 'error': None, 'unit': '1/fΩ/m/s'}}, 'kappa': {'p': {'display': '1.07871 GW/K/m/s', 'value': 1.07871, 'error': None, 'unit': 'GW/K/m/s'}}}}\n",
      "Table: {'identifier': 'mp-762656', 'data': {'sigma': {'p': {'display': '0.698912 1/fΩ/m/s', 'value': 0.698912, 'error': None, 'unit': '1/fΩ/m/s'}}, 'kappa': {'p': {'display': '1.07872 GW/K/m/s', 'value': 1.07872, 'error': None, 'unit': 'GW/K/m/s'}}}}\n",
      "Table: {'identifier': 'mp-850403', 'data': {'sigma': {'p': {'display': '0.638269 1/fΩ/m/s', 'value': 0.638269, 'error': None, 'unit': '1/fΩ/m/s'}}, 'kappa': {'p': {'display': '1.07946 GW/K/m/s', 'value': 1.07946, 'error': None, 'unit': 'GW/K/m/s'}}}}\n",
      "Table: {'identifier': 'mp-765941', 'data': {'sigma': {'p': {'display': '0.907137 1/fΩ/m/s', 'value': 0.907137, 'error': None, 'unit': '1/fΩ/m/s'}}, 'kappa': {'p': {'display': '1.07969 GW/K/m/s', 'value': 1.07969, 'error': None, 'unit': 'GW/K/m/s'}}}}\n",
      "Table: {'identifier': 'mp-23568', 'data': {'sigma': {'p': {'display': '0.640216 1/fΩ/m/s', 'value': 0.640216, 'error': None, 'unit': '1/fΩ/m/s'}}, 'kappa': {'p': {'display': '1.0798 GW/K/m/s', 'value': 1.0798, 'error': None, 'unit': 'GW/K/m/s'}}}}\n",
      "Table: {'identifier': 'mp-18566', 'data': {'sigma': {'p': {'display': '0.690584 1/fΩ/m/s', 'value': 0.690584, 'error': None, 'unit': '1/fΩ/m/s'}}, 'kappa': {'p': {'display': '1.08055 GW/K/m/s', 'value': 1.08055, 'error': None, 'unit': 'GW/K/m/s'}}}}\n",
      "Table: {'identifier': 'mp-24919', 'data': {'sigma': {'p': {'display': '0.56449 1/fΩ/m/s', 'value': 0.56449, 'error': None, 'unit': '1/fΩ/m/s'}}, 'kappa': {'p': {'display': '1.08132 GW/K/m/s', 'value': 1.08132, 'error': None, 'unit': 'GW/K/m/s'}}}}\n",
      "Table: {'identifier': 'mp-558893', 'data': {'sigma': {'p': {'display': '0.554998 1/fΩ/m/s', 'value': 0.554998, 'error': None, 'unit': '1/fΩ/m/s'}}, 'kappa': {'p': {'display': '1.08179 GW/K/m/s', 'value': 1.08179, 'error': None, 'unit': 'GW/K/m/s'}}}}\n",
      "Table: {'identifier': 'mp-27297', 'data': {'sigma': {'p': {'display': '0.425063 1/fΩ/m/s', 'value': 0.425063, 'error': None, 'unit': '1/fΩ/m/s'}}, 'kappa': {'p': {'display': '1.08206 GW/K/m/s', 'value': 1.08206, 'error': None, 'unit': 'GW/K/m/s'}}}}\n",
      "Table: {'identifier': 'mp-720658', 'data': {'sigma': {'p': {'display': '1.12995 1/fΩ/m/s', 'value': 1.12995, 'error': None, 'unit': '1/fΩ/m/s'}}, 'kappa': {'p': {'display': '1.08254 GW/K/m/s', 'value': 1.08254, 'error': None, 'unit': 'GW/K/m/s'}}}}\n",
      "Table: {'identifier': 'mp-14926', 'data': {'sigma': {'p': {'display': '0.326486 1/fΩ/m/s', 'value': 0.326486, 'error': None, 'unit': '1/fΩ/m/s'}}, 'kappa': {'p': {'display': '1.08295 GW/K/m/s', 'value': 1.08295, 'error': None, 'unit': 'GW/K/m/s'}}}}\n",
      "Table: {'identifier': 'mp-764293', 'data': {'sigma': {'p': {'display': '0.823334 1/fΩ/m/s', 'value': 0.823334, 'error': None, 'unit': '1/fΩ/m/s'}}, 'kappa': {'p': {'display': '1.08306 GW/K/m/s', 'value': 1.08306, 'error': None, 'unit': 'GW/K/m/s'}}}}\n",
      "Table: {'identifier': 'mp-757306', 'data': {'sigma': {'p': {'display': '0.624468 1/fΩ/m/s', 'value': 0.624468, 'error': None, 'unit': '1/fΩ/m/s'}}, 'kappa': {'p': {'display': '1.08535 GW/K/m/s', 'value': 1.08535, 'error': None, 'unit': 'GW/K/m/s'}}}}\n",
      "Table: {'identifier': 'mp-779723', 'data': {'sigma': {'p': {'display': '0.541547 1/fΩ/m/s', 'value': 0.541547, 'error': None, 'unit': '1/fΩ/m/s'}}, 'kappa': {'p': {'display': '1.08592 GW/K/m/s', 'value': 1.08592, 'error': None, 'unit': 'GW/K/m/s'}}}}\n",
      "Table: {'identifier': 'mp-3416', 'data': {'sigma': {'p': {'display': '0.45799 1/fΩ/m/s', 'value': 0.45799, 'error': None, 'unit': '1/fΩ/m/s'}}, 'kappa': {'p': {'display': '1.086 GW/K/m/s', 'value': 1.086, 'error': None, 'unit': 'GW/K/m/s'}}}}\n",
      "Table: {'identifier': 'mp-19705', 'data': {'sigma': {'p': {'display': '0.406895 1/fΩ/m/s', 'value': 0.406895, 'error': None, 'unit': '1/fΩ/m/s'}}, 'kappa': {'p': {'display': '1.08632 GW/K/m/s', 'value': 1.08632, 'error': None, 'unit': 'GW/K/m/s'}}}}\n",
      "Table: {'identifier': 'mp-696075', 'data': {'sigma': {'p': {'display': '0.528893 1/fΩ/m/s', 'value': 0.528893, 'error': None, 'unit': '1/fΩ/m/s'}}, 'kappa': {'p': {'display': '1.08652 GW/K/m/s', 'value': 1.08652, 'error': None, 'unit': 'GW/K/m/s'}}}}\n",
      "Table: {'identifier': 'mp-555282', 'data': {'sigma': {'p': {'display': '0.609991 1/fΩ/m/s', 'value': 0.609991, 'error': None, 'unit': '1/fΩ/m/s'}}, 'kappa': {'p': {'display': '1.08656 GW/K/m/s', 'value': 1.08656, 'error': None, 'unit': 'GW/K/m/s'}}}}\n",
      "Table: {'identifier': 'mp-5824', 'data': {'sigma': {'p': {'display': '0.43559 1/fΩ/m/s', 'value': 0.43559, 'error': None, 'unit': '1/fΩ/m/s'}}, 'kappa': {'p': {'display': '1.08702 GW/K/m/s', 'value': 1.08702, 'error': None, 'unit': 'GW/K/m/s'}}}}\n",
      "Table: {'identifier': 'mp-558062', 'data': {'sigma': {'p': {'display': '0.527728 1/fΩ/m/s', 'value': 0.527728, 'error': None, 'unit': '1/fΩ/m/s'}}, 'kappa': {'p': {'display': '1.08753 GW/K/m/s', 'value': 1.08753, 'error': None, 'unit': 'GW/K/m/s'}}}}\n",
      "Table: {'identifier': 'mp-677015', 'data': {'sigma': {'p': {'display': '0.520001 1/fΩ/m/s', 'value': 0.520001, 'error': None, 'unit': '1/fΩ/m/s'}}, 'kappa': {'p': {'display': '1.08895 GW/K/m/s', 'value': 1.08895, 'error': None, 'unit': 'GW/K/m/s'}}}}\n",
      "Table: {'identifier': 'mp-556906', 'data': {'sigma': {'p': {'display': '0.427529 1/fΩ/m/s', 'value': 0.427529, 'error': None, 'unit': '1/fΩ/m/s'}}, 'kappa': {'p': {'display': '1.09 GW/K/m/s', 'value': 1.09, 'error': None, 'unit': 'GW/K/m/s'}}}}\n",
      "Table: {'identifier': 'mp-765177', 'data': {'sigma': {'p': {'display': '0.715979 1/fΩ/m/s', 'value': 0.715979, 'error': None, 'unit': '1/fΩ/m/s'}}, 'kappa': {'p': {'display': '1.09143 GW/K/m/s', 'value': 1.09143, 'error': None, 'unit': 'GW/K/m/s'}}}}\n",
      "Table: {'identifier': 'mp-29391', 'data': {'sigma': {'p': {'display': '0.420757 1/fΩ/m/s', 'value': 0.420757, 'error': None, 'unit': '1/fΩ/m/s'}}, 'kappa': {'p': {'display': '1.09155 GW/K/m/s', 'value': 1.09155, 'error': None, 'unit': 'GW/K/m/s'}}}}\n",
      "Table: {'identifier': 'mp-565679', 'data': {'sigma': {'p': {'display': '0.674925 1/fΩ/m/s', 'value': 0.674925, 'error': None, 'unit': '1/fΩ/m/s'}}, 'kappa': {'p': {'display': '1.09309 GW/K/m/s', 'value': 1.09309, 'error': None, 'unit': 'GW/K/m/s'}}}}\n",
      "Table: {'identifier': 'mp-17539', 'data': {'sigma': {'p': {'display': '0.861785 1/fΩ/m/s', 'value': 0.861785, 'error': None, 'unit': '1/fΩ/m/s'}}, 'kappa': {'p': {'display': '1.09371 GW/K/m/s', 'value': 1.09371, 'error': None, 'unit': 'GW/K/m/s'}}}}\n",
      "Table: {'identifier': 'mp-553907', 'data': {'sigma': {'p': {'display': '0.583423 1/fΩ/m/s', 'value': 0.583423, 'error': None, 'unit': '1/fΩ/m/s'}}, 'kappa': {'p': {'display': '1.09409 GW/K/m/s', 'value': 1.09409, 'error': None, 'unit': 'GW/K/m/s'}}}}\n",
      "Table: {'identifier': 'mp-730154', 'data': {'sigma': {'p': {'display': '0.630294 1/fΩ/m/s', 'value': 0.630294, 'error': None, 'unit': '1/fΩ/m/s'}}, 'kappa': {'p': {'display': '1.09578 GW/K/m/s', 'value': 1.09578, 'error': None, 'unit': 'GW/K/m/s'}}}}\n",
      "Table: {'identifier': 'mp-672248', 'data': {'sigma': {'p': {'display': '0.493645 1/fΩ/m/s', 'value': 0.493645, 'error': None, 'unit': '1/fΩ/m/s'}}, 'kappa': {'p': {'display': '1.09601 GW/K/m/s', 'value': 1.09601, 'error': None, 'unit': 'GW/K/m/s'}}}}\n",
      "Table: {'identifier': 'mp-667292', 'data': {'sigma': {'p': {'display': '0.352594 1/fΩ/m/s', 'value': 0.352594, 'error': None, 'unit': '1/fΩ/m/s'}}, 'kappa': {'p': {'display': '1.09638 GW/K/m/s', 'value': 1.09638, 'error': None, 'unit': 'GW/K/m/s'}}}}\n",
      "Table: {'identifier': 'mp-770759', 'data': {'sigma': {'p': {'display': '0.834939 1/fΩ/m/s', 'value': 0.834939, 'error': None, 'unit': '1/fΩ/m/s'}}, 'kappa': {'p': {'display': '1.09657 GW/K/m/s', 'value': 1.09657, 'error': None, 'unit': 'GW/K/m/s'}}}}\n",
      "Table: {'identifier': 'mp-556515', 'data': {'sigma': {'p': {'display': '0.482724 1/fΩ/m/s', 'value': 0.482724, 'error': None, 'unit': '1/fΩ/m/s'}}, 'kappa': {'p': {'display': '1.0966 GW/K/m/s', 'value': 1.0966, 'error': None, 'unit': 'GW/K/m/s'}}}}\n",
      "Table: {'identifier': 'mp-615503', 'data': {'sigma': {'p': {'display': '0.498872 1/fΩ/m/s', 'value': 0.498872, 'error': None, 'unit': '1/fΩ/m/s'}}, 'kappa': {'p': {'display': '1.09662 GW/K/m/s', 'value': 1.09662, 'error': None, 'unit': 'GW/K/m/s'}}}}\n",
      "Table: {'identifier': 'mp-769602', 'data': {'sigma': {'p': {'display': '0.718182 1/fΩ/m/s', 'value': 0.718182, 'error': None, 'unit': '1/fΩ/m/s'}}, 'kappa': {'p': {'display': '1.09703 GW/K/m/s', 'value': 1.09703, 'error': None, 'unit': 'GW/K/m/s'}}}}\n",
      "Table: {'identifier': 'mp-777978', 'data': {'sigma': {'p': {'display': '0.277574 1/fΩ/m/s', 'value': 0.277574, 'error': None, 'unit': '1/fΩ/m/s'}}, 'kappa': {'p': {'display': '1.09731 GW/K/m/s', 'value': 1.09731, 'error': None, 'unit': 'GW/K/m/s'}}}}\n",
      "Table: {'identifier': 'mp-707787', 'data': {'sigma': {'p': {'display': '0.287446 1/fΩ/m/s', 'value': 0.287446, 'error': None, 'unit': '1/fΩ/m/s'}}, 'kappa': {'p': {'display': '1.0974 GW/K/m/s', 'value': 1.0974, 'error': None, 'unit': 'GW/K/m/s'}}}}\n",
      "Table: {'identifier': 'mp-27212', 'data': {'sigma': {'p': {'display': '0.743527 1/fΩ/m/s', 'value': 0.743527, 'error': None, 'unit': '1/fΩ/m/s'}}, 'kappa': {'p': {'display': '1.09939 GW/K/m/s', 'value': 1.09939, 'error': None, 'unit': 'GW/K/m/s'}}}}\n",
      "Table: {'identifier': 'mp-772433', 'data': {'sigma': {'p': {'display': '0.689499 1/fΩ/m/s', 'value': 0.689499, 'error': None, 'unit': '1/fΩ/m/s'}}, 'kappa': {'p': {'display': '1.09949 GW/K/m/s', 'value': 1.09949, 'error': None, 'unit': 'GW/K/m/s'}}}}\n",
      "Table: {'identifier': 'mp-705154', 'data': {'sigma': {'p': {'display': '0.410284 1/fΩ/m/s', 'value': 0.410284, 'error': None, 'unit': '1/fΩ/m/s'}}, 'kappa': {'p': {'display': '1.09971 GW/K/m/s', 'value': 1.09971, 'error': None, 'unit': 'GW/K/m/s'}}}}\n",
      "Table: {'identifier': 'mp-769826', 'data': {'sigma': {'p': {'display': '1.00369 1/fΩ/m/s', 'value': 1.00369, 'error': None, 'unit': '1/fΩ/m/s'}}, 'kappa': {'p': {'display': '1.10156 GW/K/m/s', 'value': 1.10156, 'error': None, 'unit': 'GW/K/m/s'}}}}\n",
      "Table: {'identifier': 'mp-555503', 'data': {'sigma': {'p': {'display': '0.777306 1/fΩ/m/s', 'value': 0.777306, 'error': None, 'unit': '1/fΩ/m/s'}}, 'kappa': {'p': {'display': '1.10343 GW/K/m/s', 'value': 1.10343, 'error': None, 'unit': 'GW/K/m/s'}}}}\n",
      "Table: {'identifier': 'mp-625455', 'data': {'sigma': {'p': {'display': '0.603706 1/fΩ/m/s', 'value': 0.603706, 'error': None, 'unit': '1/fΩ/m/s'}}, 'kappa': {'p': {'display': '1.10547 GW/K/m/s', 'value': 1.10547, 'error': None, 'unit': 'GW/K/m/s'}}}}\n",
      "Table: {'identifier': 'mp-642250', 'data': {'sigma': {'p': {'display': '0.998374 1/fΩ/m/s', 'value': 0.998374, 'error': None, 'unit': '1/fΩ/m/s'}}, 'kappa': {'p': {'display': '1.10614 GW/K/m/s', 'value': 1.10614, 'error': None, 'unit': 'GW/K/m/s'}}}}\n",
      "Table: {'identifier': 'mp-764799', 'data': {'sigma': {'p': {'display': '0.496879 1/fΩ/m/s', 'value': 0.496879, 'error': None, 'unit': '1/fΩ/m/s'}}, 'kappa': {'p': {'display': '1.10627 GW/K/m/s', 'value': 1.10627, 'error': None, 'unit': 'GW/K/m/s'}}}}\n",
      "Table: {'identifier': 'mp-14734', 'data': {'sigma': {'p': {'display': '0.479942 1/fΩ/m/s', 'value': 0.479942, 'error': None, 'unit': '1/fΩ/m/s'}}, 'kappa': {'p': {'display': '1.10633 GW/K/m/s', 'value': 1.10633, 'error': None, 'unit': 'GW/K/m/s'}}}}\n",
      "Table: {'identifier': 'mp-556705', 'data': {'sigma': {'p': {'display': '0.742072 1/fΩ/m/s', 'value': 0.742072, 'error': None, 'unit': '1/fΩ/m/s'}}, 'kappa': {'p': {'display': '1.10647 GW/K/m/s', 'value': 1.10647, 'error': None, 'unit': 'GW/K/m/s'}}}}\n",
      "Table: {'identifier': 'mp-558203', 'data': {'sigma': {'p': {'display': '0.383907 1/fΩ/m/s', 'value': 0.383907, 'error': None, 'unit': '1/fΩ/m/s'}}, 'kappa': {'p': {'display': '1.10724 GW/K/m/s', 'value': 1.10724, 'error': None, 'unit': 'GW/K/m/s'}}}}\n",
      "Table: {'identifier': 'mp-555297', 'data': {'sigma': {'p': {'display': '0.825751 1/fΩ/m/s', 'value': 0.825751, 'error': None, 'unit': '1/fΩ/m/s'}}, 'kappa': {'p': {'display': '1.10741 GW/K/m/s', 'value': 1.10741, 'error': None, 'unit': 'GW/K/m/s'}}}}\n",
      "Table: {'identifier': 'mp-721067', 'data': {'sigma': {'p': {'display': '0.581275 1/fΩ/m/s', 'value': 0.581275, 'error': None, 'unit': '1/fΩ/m/s'}}, 'kappa': {'p': {'display': '1.10796 GW/K/m/s', 'value': 1.10796, 'error': None, 'unit': 'GW/K/m/s'}}}}\n",
      "Table: {'identifier': 'mp-680048', 'data': {'sigma': {'p': {'display': '0.55672 1/fΩ/m/s', 'value': 0.55672, 'error': None, 'unit': '1/fΩ/m/s'}}, 'kappa': {'p': {'display': '1.10952 GW/K/m/s', 'value': 1.10952, 'error': None, 'unit': 'GW/K/m/s'}}}}\n",
      "Table: {'identifier': 'mp-867625', 'data': {'sigma': {'p': {'display': '1.12266 1/fΩ/m/s', 'value': 1.12266, 'error': None, 'unit': '1/fΩ/m/s'}}, 'kappa': {'p': {'display': '1.10966 GW/K/m/s', 'value': 1.10966, 'error': None, 'unit': 'GW/K/m/s'}}}}\n",
      "Table: {'identifier': 'mp-683883', 'data': {'sigma': {'p': {'display': '0.350045 1/fΩ/m/s', 'value': 0.350045, 'error': None, 'unit': '1/fΩ/m/s'}}, 'kappa': {'p': {'display': '1.11066 GW/K/m/s', 'value': 1.11066, 'error': None, 'unit': 'GW/K/m/s'}}}}\n",
      "Table: {'identifier': 'mp-6785', 'data': {'sigma': {'p': {'display': '1.17642 1/fΩ/m/s', 'value': 1.17642, 'error': None, 'unit': '1/fΩ/m/s'}}, 'kappa': {'p': {'display': '1.11128 GW/K/m/s', 'value': 1.11128, 'error': None, 'unit': 'GW/K/m/s'}}}}\n",
      "Table: {'identifier': 'mp-29513', 'data': {'sigma': {'p': {'display': '0.603026 1/fΩ/m/s', 'value': 0.603026, 'error': None, 'unit': '1/fΩ/m/s'}}, 'kappa': {'p': {'display': '1.11192 GW/K/m/s', 'value': 1.11192, 'error': None, 'unit': 'GW/K/m/s'}}}}\n",
      "Table: {'identifier': 'mp-777711', 'data': {'sigma': {'p': {'display': '0.707494 1/fΩ/m/s', 'value': 0.707494, 'error': None, 'unit': '1/fΩ/m/s'}}, 'kappa': {'p': {'display': '1.11286 GW/K/m/s', 'value': 1.11286, 'error': None, 'unit': 'GW/K/m/s'}}}}\n",
      "Table: {'identifier': 'mp-27650', 'data': {'sigma': {'p': {'display': '0.836576 1/fΩ/m/s', 'value': 0.836576, 'error': None, 'unit': '1/fΩ/m/s'}}, 'kappa': {'p': {'display': '1.11368 GW/K/m/s', 'value': 1.11368, 'error': None, 'unit': 'GW/K/m/s'}}}}\n",
      "Table: {'identifier': 'mp-553984', 'data': {'sigma': {'p': {'display': '0.818567 1/fΩ/m/s', 'value': 0.818567, 'error': None, 'unit': '1/fΩ/m/s'}}, 'kappa': {'p': {'display': '1.11428 GW/K/m/s', 'value': 1.11428, 'error': None, 'unit': 'GW/K/m/s'}}}}\n",
      "Table: {'identifier': 'mp-730460', 'data': {'sigma': {'p': {'display': '0.655433 1/fΩ/m/s', 'value': 0.655433, 'error': None, 'unit': '1/fΩ/m/s'}}, 'kappa': {'p': {'display': '1.11454 GW/K/m/s', 'value': 1.11454, 'error': None, 'unit': 'GW/K/m/s'}}}}\n",
      "Table: {'identifier': 'mp-619486', 'data': {'sigma': {'p': {'display': '0.596858 1/fΩ/m/s', 'value': 0.596858, 'error': None, 'unit': '1/fΩ/m/s'}}, 'kappa': {'p': {'display': '1.1151 GW/K/m/s', 'value': 1.1151, 'error': None, 'unit': 'GW/K/m/s'}}}}\n",
      "Table: {'identifier': 'mp-762797', 'data': {'sigma': {'p': {'display': '1.02784 1/fΩ/m/s', 'value': 1.02784, 'error': None, 'unit': '1/fΩ/m/s'}}, 'kappa': {'p': {'display': '1.11538 GW/K/m/s', 'value': 1.11538, 'error': None, 'unit': 'GW/K/m/s'}}}}\n",
      "Table: {'identifier': 'mp-643446', 'data': {'sigma': {'p': {'display': '1.06596 1/fΩ/m/s', 'value': 1.06596, 'error': None, 'unit': '1/fΩ/m/s'}}, 'kappa': {'p': {'display': '1.11577 GW/K/m/s', 'value': 1.11577, 'error': None, 'unit': 'GW/K/m/s'}}}}\n",
      "Table: {'identifier': 'mp-697108', 'data': {'sigma': {'p': {'display': '0.617462 1/fΩ/m/s', 'value': 0.617462, 'error': None, 'unit': '1/fΩ/m/s'}}, 'kappa': {'p': {'display': '1.11628 GW/K/m/s', 'value': 1.11628, 'error': None, 'unit': 'GW/K/m/s'}}}}\n",
      "Table: {'identifier': 'mp-763437', 'data': {'sigma': {'p': {'display': '0.624518 1/fΩ/m/s', 'value': 0.624518, 'error': None, 'unit': '1/fΩ/m/s'}}, 'kappa': {'p': {'display': '1.1168 GW/K/m/s', 'value': 1.1168, 'error': None, 'unit': 'GW/K/m/s'}}}}\n",
      "Material Matches:\n",
      "{'mat1': [{MPID(mp-867330): {'elec_cond': 7.62958, 'therm_cond': 1.00117e-05, 'bulk_modulus': 163.496, 'shear_modulus': 99.648, 'universal_anisotropy': 1.355}}, {MPID(mp-684591): {'elec_cond': 5.62677, 'therm_cond': 1.0013e-05, 'bulk_modulus': 148.35, 'shear_modulus': 92.063, 'universal_anisotropy': 1.269}}, {MPID(mp-752826): {'elec_cond': 5.9234, 'therm_cond': 1.00183e-05, 'bulk_modulus': 168.258, 'shear_modulus': 90.134, 'universal_anisotropy': 1.271}}, {MPID(mp-16514): {'elec_cond': 9.94115, 'therm_cond': 1.0024900000000001e-05, 'bulk_modulus': 172.85, 'shear_modulus': 84.338, 'universal_anisotropy': 1.394}}, {MPID(mp-632442): {'elec_cond': 7.85786, 'therm_cond': 1.0039899999999999e-05, 'bulk_modulus': 141.214, 'shear_modulus': 96.492, 'universal_anisotropy': 1.4}}, {MPID(mp-10883): {'elec_cond': 3.73075, 'therm_cond': 1.0041800000000001e-05, 'bulk_modulus': 199.303, 'shear_modulus': 107.924, 'universal_anisotropy': 1.384}}, {MPID(mp-2658): {'elec_cond': 5.48543, 'therm_cond': 1.00423e-05, 'bulk_modulus': 170.575, 'shear_modulus': 105.935, 'universal_anisotropy': 1.026}}, {MPID(mp-1019508): {'elec_cond': 2.3001, 'therm_cond': 1.00479e-05, 'bulk_modulus': 177.124, 'shear_modulus': 116.889, 'universal_anisotropy': 1.022}}, {MPID(mp-1008556): {'elec_cond': 4.56951, 'therm_cond': 1.00505e-05, 'bulk_modulus': 183.552, 'shear_modulus': 121.636, 'universal_anisotropy': 1.074}}, {MPID(mp-625054): {'elec_cond': 9.8485, 'therm_cond': 1.0050600000000002e-05, 'bulk_modulus': 117.872, 'shear_modulus': 90.805, 'universal_anisotropy': 1.975}}, {MPID(mp-1700): {'elec_cond': 4.55414, 'therm_cond': 1.00589e-05, 'bulk_modulus': 194.648, 'shear_modulus': 134.454, 'universal_anisotropy': 1.284}}, {MPID(mp-1487): {'elec_cond': 5.43706, 'therm_cond': 1.00619e-05, 'bulk_modulus': 157.34, 'shear_modulus': 81.641, 'universal_anisotropy': 1.842}}, {MPID(mp-11696): {'elec_cond': 3.94169, 'therm_cond': 1.00757e-05, 'bulk_modulus': 136.43, 'shear_modulus': 83.428, 'universal_anisotropy': 1.031}}, {MPID(mp-633538): {'elec_cond': 8.6326, 'therm_cond': 1.00861e-05, 'bulk_modulus': 195.358, 'shear_modulus': 120.465, 'universal_anisotropy': 1.429}}, {MPID(mp-983590): {'elec_cond': 3.41084, 'therm_cond': 1.00922e-05, 'bulk_modulus': 151.52, 'shear_modulus': 114.692, 'universal_anisotropy': 1.731}}, {MPID(mp-865562): {'elec_cond': 8.21281, 'therm_cond': 1.0101500000000001e-05, 'bulk_modulus': 180.623, 'shear_modulus': 136.76, 'universal_anisotropy': 1.198}}, {MPID(mp-5597): {'elec_cond': 5.70768, 'therm_cond': 1.01035e-05, 'bulk_modulus': 112.576, 'shear_modulus': 87.513, 'universal_anisotropy': 1.643}}, {MPID(mp-5157): {'elec_cond': 3.87986, 'therm_cond': 1.01102e-05, 'bulk_modulus': 118.012, 'shear_modulus': 85.162, 'universal_anisotropy': 1.261}}, {MPID(mp-6957): {'elec_cond': 8.09917, 'therm_cond': 1.0110600000000001e-05, 'bulk_modulus': 146.141, 'shear_modulus': 100.162, 'universal_anisotropy': 1.551}}, {MPID(mp-2965): {'elec_cond': 9.87305, 'therm_cond': 1.0126299999999998e-05, 'bulk_modulus': 123.772, 'shear_modulus': 80.903, 'universal_anisotropy': 1.662}}, {MPID(mp-27861): {'elec_cond': 4.21989, 'therm_cond': 1.01312e-05, 'bulk_modulus': 182.014, 'shear_modulus': 110.734, 'universal_anisotropy': 1.675}}, {MPID(mp-21343): {'elec_cond': 15.3359, 'therm_cond': 1.0135799999999999e-05, 'bulk_modulus': 172.63, 'shear_modulus': 136.162, 'universal_anisotropy': 1.887}}, {MPID(mp-754040): {'elec_cond': 4.01341, 'therm_cond': 1.0148999999999999e-05, 'bulk_modulus': 141.758, 'shear_modulus': 80.238, 'universal_anisotropy': 1.031}}, {MPID(mp-1018672): {'elec_cond': 7.29148, 'therm_cond': 1.01817e-05, 'bulk_modulus': 132.667, 'shear_modulus': 96.688, 'universal_anisotropy': 1.346}}, {MPID(mp-579): {'elec_cond': 2.8762, 'therm_cond': 1.01959e-05, 'bulk_modulus': 110.843, 'shear_modulus': 105.763, 'universal_anisotropy': 1.095}}, {MPID(mp-1018067): {'elec_cond': 4.44666, 'therm_cond': 1.0209999999999999e-05, 'bulk_modulus': 178.768, 'shear_modulus': 88.471, 'universal_anisotropy': 1.563}}, {MPID(mp-20814): {'elec_cond': 8.84191, 'therm_cond': 1.02237e-05, 'bulk_modulus': 199.392, 'shear_modulus': 123.974, 'universal_anisotropy': 1.171}}, {MPID(mp-20874): {'elec_cond': 4.6706, 'therm_cond': 1.0238e-05, 'bulk_modulus': 143.683, 'shear_modulus': 123.684, 'universal_anisotropy': 1.737}}, {MPID(mp-20344): {'elec_cond': 3.47243, 'therm_cond': 1.02383e-05, 'bulk_modulus': 175.908, 'shear_modulus': 80.576, 'universal_anisotropy': 1.518}}, {MPID(mp-1007853): {'elec_cond': 10.3411, 'therm_cond': 1.02394e-05, 'bulk_modulus': 179.994, 'shear_modulus': 83.585, 'universal_anisotropy': 1.851}}, {MPID(mp-2090): {'elec_cond': 7.20121, 'therm_cond': 1.0306e-05, 'bulk_modulus': 189.836, 'shear_modulus': 99.799, 'universal_anisotropy': 1.011}}, {MPID(mp-2213): {'elec_cond': 11.0165, 'therm_cond': 1.03217e-05, 'bulk_modulus': 185.282, 'shear_modulus': 98.594, 'universal_anisotropy': 1.486}}, {MPID(mp-1918): {'elec_cond': 8.84419, 'therm_cond': 1.0332300000000001e-05, 'bulk_modulus': 198.729, 'shear_modulus': 81.928, 'universal_anisotropy': 1.023}}, {MPID(mp-30551): {'elec_cond': 11.0423, 'therm_cond': 1.0334399999999999e-05, 'bulk_modulus': 190.304, 'shear_modulus': 99.367, 'universal_anisotropy': 1.435}}, {MPID(mp-345): {'elec_cond': 6.48043, 'therm_cond': 1.0340800000000001e-05, 'bulk_modulus': 172.719, 'shear_modulus': 102.058, 'universal_anisotropy': 1.435}}, {MPID(mp-1016825): {'elec_cond': 5.15323, 'therm_cond': 1.0342499999999998e-05, 'bulk_modulus': 168.944, 'shear_modulus': 87.323, 'universal_anisotropy': 1.403}}, {MPID(mp-20192): {'elec_cond': 5.92096, 'therm_cond': 1.03454e-05, 'bulk_modulus': 163.461, 'shear_modulus': 96.061, 'universal_anisotropy': 1.397}}, {MPID(mp-861979): {'elec_cond': 6.62738, 'therm_cond': 1.0359e-05, 'bulk_modulus': 168.879, 'shear_modulus': 81.004, 'universal_anisotropy': 1.561}}, {MPID(mp-549490): {'elec_cond': 11.155600000000002, 'therm_cond': 1.0371999999999998e-05, 'bulk_modulus': 151.575, 'shear_modulus': 96.203, 'universal_anisotropy': 1.588}}, {MPID(mp-5526): {'elec_cond': 4.50158, 'therm_cond': 1.03721e-05, 'bulk_modulus': 119.172, 'shear_modulus': 83.549, 'universal_anisotropy': 1.063}}, {MPID(mp-2680): {'elec_cond': 4.45402, 'therm_cond': 1.0379e-05, 'bulk_modulus': 181.75, 'shear_modulus': 149.768, 'universal_anisotropy': 1.279}}, {MPID(mp-36086): {'elec_cond': 10.530999999999999, 'therm_cond': 1.03892e-05, 'bulk_modulus': 123.197, 'shear_modulus': 96.765, 'universal_anisotropy': 1.201}}, {MPID(mp-2468835): {'elec_cond': 3.01686, 'therm_cond': 1.0417400000000001e-05, 'bulk_modulus': 129.656, 'shear_modulus': 102.484, 'universal_anisotropy': 1.351}}, {MPID(mp-8001): {'elec_cond': 4.58439, 'therm_cond': 1.04227e-05, 'bulk_modulus': 147.95, 'shear_modulus': 107.397, 'universal_anisotropy': 1.304}}, {MPID(mp-3924): {'elec_cond': 7.2567, 'therm_cond': 1.04295e-05, 'bulk_modulus': 163.815, 'shear_modulus': 111.029, 'universal_anisotropy': 1.257}}, {MPID(mp-3524): {'elec_cond': 4.3018, 'therm_cond': 1.04357e-05, 'bulk_modulus': 135.963, 'shear_modulus': 113.427, 'universal_anisotropy': 1.484}}, {MPID(mp-5840): {'elec_cond': 8.06504, 'therm_cond': 1.04374e-05, 'bulk_modulus': 135.355, 'shear_modulus': 88.428, 'universal_anisotropy': 1.287}}, {MPID(mp-862870): {'elec_cond': 3.92708, 'therm_cond': 1.04416e-05, 'bulk_modulus': 194.213, 'shear_modulus': 89.742, 'universal_anisotropy': 1.415}}, {MPID(mp-9514): {'elec_cond': 3.07601, 'therm_cond': 1.0447500000000001e-05, 'bulk_modulus': 136.169, 'shear_modulus': 104.843, 'universal_anisotropy': 1.794}}, {MPID(mp-4590): {'elec_cond': 11.5972, 'therm_cond': 1.0448599999999999e-05, 'bulk_modulus': 162.924, 'shear_modulus': 83.168, 'universal_anisotropy': 1.07}}, {MPID(mp-3536): {'elec_cond': 7.76756, 'therm_cond': 1.04533e-05, 'bulk_modulus': 182.861, 'shear_modulus': 107.669, 'universal_anisotropy': 1.062}}, {MPID(mp-763): {'elec_cond': 3.99037, 'therm_cond': 1.04596e-05, 'bulk_modulus': 151.6, 'shear_modulus': 129.264, 'universal_anisotropy': 1.559}}, {MPID(mp-365): {'elec_cond': 5.75311, 'therm_cond': 1.0460100000000002e-05, 'bulk_modulus': 161.517, 'shear_modulus': 130.868, 'universal_anisotropy': 1.773}}, {MPID(mp-1023125): {'elec_cond': 4.53652, 'therm_cond': 1.0461400000000001e-05, 'bulk_modulus': 153.498, 'shear_modulus': 80.449, 'universal_anisotropy': 1.96}}, {MPID(mp-5924): {'elec_cond': 8.12448, 'therm_cond': 1.04766e-05, 'bulk_modulus': 193.509, 'shear_modulus': 113.741, 'universal_anisotropy': 1.091}}, {MPID(mp-1029702): {'elec_cond': 2.58772, 'therm_cond': 1.04895e-05, 'bulk_modulus': 161.977, 'shear_modulus': 90.418, 'universal_anisotropy': 1.902}}, {MPID(mp-1029536): {'elec_cond': 7.10528, 'therm_cond': 1.04937e-05, 'bulk_modulus': 150.834, 'shear_modulus': 80.717, 'universal_anisotropy': 1.978}}, {MPID(mp-999558): {'elec_cond': 11.3393, 'therm_cond': 1.05114e-05, 'bulk_modulus': 198.379, 'shear_modulus': 99.491, 'universal_anisotropy': 1.211}}, {MPID(mp-21235): {'elec_cond': 8.68038, 'therm_cond': 1.05138e-05, 'bulk_modulus': 187.236, 'shear_modulus': 89.778, 'universal_anisotropy': 1.167}}, {MPID(mp-973149): {'elec_cond': 3.2249, 'therm_cond': 1.05217e-05, 'bulk_modulus': 179.795, 'shear_modulus': 100.109, 'universal_anisotropy': 1.104}}, {MPID(mp-865027): {'elec_cond': 6.99016, 'therm_cond': 1.05226e-05, 'bulk_modulus': 195.84, 'shear_modulus': 96.55, 'universal_anisotropy': 1.688}}, {MPID(mp-771): {'elec_cond': 10.1023, 'therm_cond': 1.05332e-05, 'bulk_modulus': 128.984, 'shear_modulus': 91.397, 'universal_anisotropy': 1.767}}, {MPID(mp-3623): {'elec_cond': 6.32568, 'therm_cond': 1.05334e-05, 'bulk_modulus': 188.169, 'shear_modulus': 114.189, 'universal_anisotropy': 1.258}}, {MPID(mp-978261): {'elec_cond': 10.8449, 'therm_cond': 1.0544100000000001e-05, 'bulk_modulus': 172.297, 'shear_modulus': 105.916, 'universal_anisotropy': 1.296}}, {MPID(mp-999542): {'elec_cond': 8.45219, 'therm_cond': 1.0545500000000001e-05, 'bulk_modulus': 195.981, 'shear_modulus': 104.817, 'universal_anisotropy': 1.389}}, {MPID(mp-999516): {'elec_cond': 3.99526, 'therm_cond': 1.05521e-05, 'bulk_modulus': 111.843, 'shear_modulus': 92.592, 'universal_anisotropy': 1.838}}, {MPID(mp-7017): {'elec_cond': 6.44792, 'therm_cond': 1.0578700000000001e-05, 'bulk_modulus': 138.928, 'shear_modulus': 95.686, 'universal_anisotropy': 1.49}}, {MPID(mp-5475): {'elec_cond': 8.277, 'therm_cond': 1.0581400000000002e-05, 'bulk_modulus': 146.016, 'shear_modulus': 101.705, 'universal_anisotropy': 1.843}}, {MPID(mp-12725): {'elec_cond': 3.72097, 'therm_cond': 1.0589e-05, 'bulk_modulus': 187.023, 'shear_modulus': 86.589, 'universal_anisotropy': 1.27}}, {MPID(mp-1018151): {'elec_cond': 8.102, 'therm_cond': 1.0606500000000001e-05, 'bulk_modulus': 195.472, 'shear_modulus': 84.738, 'universal_anisotropy': 1.134}}, {MPID(mp-647): {'elec_cond': 4.57521, 'therm_cond': 1.06306e-05, 'bulk_modulus': 180.005, 'shear_modulus': 110.059, 'universal_anisotropy': 1.036}}, {MPID(mp-568055): {'elec_cond': 7.59239, 'therm_cond': 1.06314e-05, 'bulk_modulus': 139.865, 'shear_modulus': 91.543, 'universal_anisotropy': 1.043}}, {MPID(mp-6927): {'elec_cond': 10.8181, 'therm_cond': 1.06473e-05, 'bulk_modulus': 164.957, 'shear_modulus': 99.927, 'universal_anisotropy': 1.432}}, {MPID(mp-9761): {'elec_cond': 3.39461, 'therm_cond': 1.06707e-05, 'bulk_modulus': 160.982, 'shear_modulus': 121.982, 'universal_anisotropy': 1.105}}, {MPID(mp-753495): {'elec_cond': 5.54755, 'therm_cond': 1.07118e-05, 'bulk_modulus': 170.865, 'shear_modulus': 119.883, 'universal_anisotropy': 1.605}}, {MPID(mp-4200): {'elec_cond': 9.94677, 'therm_cond': 1.07131e-05, 'bulk_modulus': 157.45, 'shear_modulus': 85.876, 'universal_anisotropy': 1.204}}, {MPID(mp-978496): {'elec_cond': 8.05083, 'therm_cond': 1.0727e-05, 'bulk_modulus': 135.716, 'shear_modulus': 104.686, 'universal_anisotropy': 1.908}}, {MPID(mp-856): {'elec_cond': 5.82151, 'therm_cond': 1.0782e-05, 'bulk_modulus': 176.318, 'shear_modulus': 97.241, 'universal_anisotropy': 1.324}}, {MPID(mp-242): {'elec_cond': 9.28375, 'therm_cond': 1.07871e-05, 'bulk_modulus': 144.836, 'shear_modulus': 123.639, 'universal_anisotropy': 1.336}}, {MPID(mp-768342): {'elec_cond': 6.98912, 'therm_cond': 1.07872e-05, 'bulk_modulus': 148.219, 'shear_modulus': 84.259, 'universal_anisotropy': 1.998}}, {MPID(mp-2220557): {'elec_cond': 9.07137, 'therm_cond': 1.07969e-05, 'bulk_modulus': 146.286, 'shear_modulus': 84.338, 'universal_anisotropy': 1.401}}, {MPID(mp-1756): {'elec_cond': 8.23334, 'therm_cond': 1.08306e-05, 'bulk_modulus': 195.95, 'shear_modulus': 156.187, 'universal_anisotropy': 1.8}}, {MPID(mp-755875): {'elec_cond': 6.24468, 'therm_cond': 1.08535e-05, 'bulk_modulus': 180.957, 'shear_modulus': 103.661, 'universal_anisotropy': 1.241}}, {MPID(mp-11279): {'elec_cond': 4.5799, 'therm_cond': 1.086e-05, 'bulk_modulus': 124.845, 'shear_modulus': 83.187, 'universal_anisotropy': 1.476}}, {MPID(mp-608): {'elec_cond': 4.06895, 'therm_cond': 1.08632e-05, 'bulk_modulus': 142.93, 'shear_modulus': 107.544, 'universal_anisotropy': 1.622}}, {MPID(mp-1018012): {'elec_cond': 5.28893, 'therm_cond': 1.08652e-05, 'bulk_modulus': 197.425, 'shear_modulus': 80.874, 'universal_anisotropy': 1.294}}, {MPID(mp-865678): {'elec_cond': 6.09991, 'therm_cond': 1.08656e-05, 'bulk_modulus': 195.509, 'shear_modulus': 84.518, 'universal_anisotropy': 1.209}}, {MPID(mp-554462): {'elec_cond': 5.200010000000001, 'therm_cond': 1.08895e-05, 'bulk_modulus': 140.376, 'shear_modulus': 103.789, 'universal_anisotropy': 1.253}}, {MPID(mp-568789): {'elec_cond': 4.27529, 'therm_cond': 1.09e-05, 'bulk_modulus': 115.093, 'shear_modulus': 83.584, 'universal_anisotropy': 1.283}}, {MPID(mp-20924): {'elec_cond': 4.20757, 'therm_cond': 1.09155e-05, 'bulk_modulus': 177.411, 'shear_modulus': 99.839, 'universal_anisotropy': 1.278}}, {MPID(mp-1025264): {'elec_cond': 6.74925, 'therm_cond': 1.09309e-05, 'bulk_modulus': 193.682, 'shear_modulus': 103.803, 'universal_anisotropy': 1.208}}, {MPID(mp-27769): {'elec_cond': 4.93645, 'therm_cond': 1.09601e-05, 'bulk_modulus': 196.809, 'shear_modulus': 87.423, 'universal_anisotropy': 1.727}}, {MPID(mp-865465): {'elec_cond': 3.52594, 'therm_cond': 1.09638e-05, 'bulk_modulus': 197.789, 'shear_modulus': 90.579, 'universal_anisotropy': 1.217}}, {MPID(mp-22790): {'elec_cond': 8.34939, 'therm_cond': 1.09657e-05, 'bulk_modulus': 199.274, 'shear_modulus': 96.193, 'universal_anisotropy': 1.02}}, {MPID(mp-11549): {'elec_cond': 7.18182, 'therm_cond': 1.09703e-05, 'bulk_modulus': 192.611, 'shear_modulus': 86.431, 'universal_anisotropy': 1.133}}, {MPID(mp-873): {'elec_cond': 2.77574, 'therm_cond': 1.09731e-05, 'bulk_modulus': 190.818, 'shear_modulus': 83.315, 'universal_anisotropy': 1.162}}, {MPID(mp-1004526): {'elec_cond': 7.43527, 'therm_cond': 1.09939e-05, 'bulk_modulus': 178.414, 'shear_modulus': 84.67, 'universal_anisotropy': 1.14}}, {MPID(mp-15955): {'elec_cond': 6.89499, 'therm_cond': 1.09949e-05, 'bulk_modulus': 195.332, 'shear_modulus': 120.125, 'universal_anisotropy': 1.325}}, {MPID(mp-756214): {'elec_cond': 4.10284, 'therm_cond': 1.09971e-05, 'bulk_modulus': 190.921, 'shear_modulus': 98.613, 'universal_anisotropy': 1.681}}, {MPID(mp-1017533): {'elec_cond': 10.0369, 'therm_cond': 1.10156e-05, 'bulk_modulus': 146.333, 'shear_modulus': 100.941, 'universal_anisotropy': 1.859}}, {MPID(mp-1014265): {'elec_cond': 6.03706, 'therm_cond': 1.10547e-05, 'bulk_modulus': 175.065, 'shear_modulus': 101.81, 'universal_anisotropy': 1.727}}, {MPID(mp-2525045): {'elec_cond': 9.98374, 'therm_cond': 1.10614e-05, 'bulk_modulus': 170.364, 'shear_modulus': 86.501, 'universal_anisotropy': 1.071}}, {MPID(mp-1014246): {'elec_cond': 4.96879, 'therm_cond': 1.10627e-05, 'bulk_modulus': 159.888, 'shear_modulus': 93.776, 'universal_anisotropy': 1.23}}, {MPID(mp-451): {'elec_cond': 4.79942, 'therm_cond': 1.10633e-05, 'bulk_modulus': 160.149, 'shear_modulus': 90.827, 'universal_anisotropy': 1.367}}, {MPID(mp-22227): {'elec_cond': 7.42072, 'therm_cond': 1.10647e-05, 'bulk_modulus': 146.313, 'shear_modulus': 89.793, 'universal_anisotropy': 1.136}}, {MPID(mp-775909): {'elec_cond': 5.81275, 'therm_cond': 1.10796e-05, 'bulk_modulus': 198.699, 'shear_modulus': 104.365, 'universal_anisotropy': 1.524}}], 'mat2': [{MPID(mp-867330): {'elec_cond': 7.62958, 'therm_cond': 1.00117e-05, 'bulk_modulus': 163.496, 'shear_modulus': 99.648, 'universal_anisotropy': 1.355}}, {MPID(mp-684591): {'elec_cond': 5.62677, 'therm_cond': 1.0013e-05, 'bulk_modulus': 148.35, 'shear_modulus': 92.063, 'universal_anisotropy': 1.269}}, {MPID(mp-752826): {'elec_cond': 5.9234, 'therm_cond': 1.00183e-05, 'bulk_modulus': 168.258, 'shear_modulus': 90.134, 'universal_anisotropy': 1.271}}, {MPID(mp-16514): {'elec_cond': 9.94115, 'therm_cond': 1.0024900000000001e-05, 'bulk_modulus': 172.85, 'shear_modulus': 84.338, 'universal_anisotropy': 1.394}}, {MPID(mp-632442): {'elec_cond': 7.85786, 'therm_cond': 1.0039899999999999e-05, 'bulk_modulus': 141.214, 'shear_modulus': 96.492, 'universal_anisotropy': 1.4}}, {MPID(mp-10883): {'elec_cond': 3.73075, 'therm_cond': 1.0041800000000001e-05, 'bulk_modulus': 199.303, 'shear_modulus': 107.924, 'universal_anisotropy': 1.384}}, {MPID(mp-2658): {'elec_cond': 5.48543, 'therm_cond': 1.00423e-05, 'bulk_modulus': 170.575, 'shear_modulus': 105.935, 'universal_anisotropy': 1.026}}, {MPID(mp-22793): {'elec_cond': 5.45303, 'therm_cond': 1.00465e-05, 'bulk_modulus': 232.51, 'shear_modulus': 98.9, 'universal_anisotropy': 1.287}}, {MPID(mp-1019508): {'elec_cond': 2.3001, 'therm_cond': 1.00479e-05, 'bulk_modulus': 177.124, 'shear_modulus': 116.889, 'universal_anisotropy': 1.022}}, {MPID(mp-1008556): {'elec_cond': 4.56951, 'therm_cond': 1.00505e-05, 'bulk_modulus': 183.552, 'shear_modulus': 121.636, 'universal_anisotropy': 1.074}}, {MPID(mp-625054): {'elec_cond': 9.8485, 'therm_cond': 1.0050600000000002e-05, 'bulk_modulus': 117.872, 'shear_modulus': 90.805, 'universal_anisotropy': 1.975}}, {MPID(mp-1700): {'elec_cond': 4.55414, 'therm_cond': 1.00589e-05, 'bulk_modulus': 194.648, 'shear_modulus': 134.454, 'universal_anisotropy': 1.284}}, {MPID(mp-1487): {'elec_cond': 5.43706, 'therm_cond': 1.00619e-05, 'bulk_modulus': 157.34, 'shear_modulus': 81.641, 'universal_anisotropy': 1.842}}, {MPID(mp-603719): {'elec_cond': 9.94016, 'therm_cond': 1.0064e-05, 'bulk_modulus': 251.127, 'shear_modulus': 188.703, 'universal_anisotropy': 1.229}}, {MPID(mp-676861): {'elec_cond': 8.02199, 'therm_cond': 1.00651e-05, 'bulk_modulus': 203.768, 'shear_modulus': 132.083, 'universal_anisotropy': 1.142}}, {MPID(mp-1008530): {'elec_cond': 3.72465, 'therm_cond': 1.00745e-05, 'bulk_modulus': 204.053, 'shear_modulus': 91.013, 'universal_anisotropy': 1.117}}, {MPID(mp-11696): {'elec_cond': 3.94169, 'therm_cond': 1.00757e-05, 'bulk_modulus': 136.43, 'shear_modulus': 83.428, 'universal_anisotropy': 1.031}}, {MPID(mp-1008526): {'elec_cond': 7.90154, 'therm_cond': 1.0081e-05, 'bulk_modulus': 325.587, 'shear_modulus': 247.7, 'universal_anisotropy': 1.064}}, {MPID(mp-2850): {'elec_cond': 4.23905, 'therm_cond': 1.00836e-05, 'bulk_modulus': 314.205, 'shear_modulus': 183.25, 'universal_anisotropy': 1.065}}, {MPID(mp-633538): {'elec_cond': 8.6326, 'therm_cond': 1.00861e-05, 'bulk_modulus': 195.358, 'shear_modulus': 120.465, 'universal_anisotropy': 1.429}}, {MPID(mp-28897): {'elec_cond': 5.386499999999999, 'therm_cond': 1.00874e-05, 'bulk_modulus': 236.239, 'shear_modulus': 80.276, 'universal_anisotropy': 1.105}}, {MPID(mp-644751): {'elec_cond': 8.57241, 'therm_cond': 1.0087600000000001e-05, 'bulk_modulus': 312.546, 'shear_modulus': 237.412, 'universal_anisotropy': 1.011}}, {MPID(mp-567164): {'elec_cond': 4.79798, 'therm_cond': 1.00888e-05, 'bulk_modulus': 279.202, 'shear_modulus': 116.982, 'universal_anisotropy': 1.034}}, {MPID(mp-983590): {'elec_cond': 3.41084, 'therm_cond': 1.00922e-05, 'bulk_modulus': 151.52, 'shear_modulus': 114.692, 'universal_anisotropy': 1.731}}, {MPID(mp-865562): {'elec_cond': 8.21281, 'therm_cond': 1.0101500000000001e-05, 'bulk_modulus': 180.623, 'shear_modulus': 136.76, 'universal_anisotropy': 1.198}}, {MPID(mp-862706): {'elec_cond': 3.68554, 'therm_cond': 1.01027e-05, 'bulk_modulus': 201.076, 'shear_modulus': 89.267, 'universal_anisotropy': 1.163}}, {MPID(mp-5597): {'elec_cond': 5.70768, 'therm_cond': 1.01035e-05, 'bulk_modulus': 112.576, 'shear_modulus': 87.513, 'universal_anisotropy': 1.643}}, {MPID(mp-5157): {'elec_cond': 3.87986, 'therm_cond': 1.01102e-05, 'bulk_modulus': 118.012, 'shear_modulus': 85.162, 'universal_anisotropy': 1.261}}, {MPID(mp-38843): {'elec_cond': 8.32393, 'therm_cond': 1.01105e-05, 'bulk_modulus': 203.358, 'shear_modulus': 119.505, 'universal_anisotropy': 1.264}}, {MPID(mp-6957): {'elec_cond': 8.09917, 'therm_cond': 1.0110600000000001e-05, 'bulk_modulus': 146.141, 'shear_modulus': 100.162, 'universal_anisotropy': 1.551}}, {MPID(mp-2965): {'elec_cond': 9.87305, 'therm_cond': 1.0126299999999998e-05, 'bulk_modulus': 123.772, 'shear_modulus': 80.903, 'universal_anisotropy': 1.662}}, {MPID(mp-27861): {'elec_cond': 4.21989, 'therm_cond': 1.01312e-05, 'bulk_modulus': 182.014, 'shear_modulus': 110.734, 'universal_anisotropy': 1.675}}, {MPID(mp-754040): {'elec_cond': 4.01341, 'therm_cond': 1.0148999999999999e-05, 'bulk_modulus': 141.758, 'shear_modulus': 80.238, 'universal_anisotropy': 1.031}}, {MPID(mp-1008349): {'elec_cond': 6.05572, 'therm_cond': 1.01644e-05, 'bulk_modulus': 258.138, 'shear_modulus': 111.577, 'universal_anisotropy': 1.009}}, {MPID(mp-1018672): {'elec_cond': 7.29148, 'therm_cond': 1.01817e-05, 'bulk_modulus': 132.667, 'shear_modulus': 96.688, 'universal_anisotropy': 1.346}}, {MPID(mp-90): {'elec_cond': 9.61778, 'therm_cond': 1.01895e-05, 'bulk_modulus': 234.148, 'shear_modulus': 86.61, 'universal_anisotropy': 1.436}}, {MPID(mp-579): {'elec_cond': 2.8762, 'therm_cond': 1.01959e-05, 'bulk_modulus': 110.843, 'shear_modulus': 105.763, 'universal_anisotropy': 1.095}}, {MPID(mp-1008224): {'elec_cond': 9.042, 'therm_cond': 1.02002e-05, 'bulk_modulus': 222.218, 'shear_modulus': 107.181, 'universal_anisotropy': 1.567}}, {MPID(mp-1018067): {'elec_cond': 4.44666, 'therm_cond': 1.0209999999999999e-05, 'bulk_modulus': 178.768, 'shear_modulus': 88.471, 'universal_anisotropy': 1.563}}, {MPID(mp-784631): {'elec_cond': 7.07775, 'therm_cond': 1.02115e-05, 'bulk_modulus': 221.404, 'shear_modulus': 122.812, 'universal_anisotropy': 1.098}}, {MPID(mp-20814): {'elec_cond': 8.84191, 'therm_cond': 1.02237e-05, 'bulk_modulus': 199.392, 'shear_modulus': 123.974, 'universal_anisotropy': 1.171}}, {MPID(mp-2417): {'elec_cond': 2.5827899999999997, 'therm_cond': 1.02319e-05, 'bulk_modulus': 212.008, 'shear_modulus': 106.039, 'universal_anisotropy': 1.157}}, {MPID(mp-10856): {'elec_cond': 6.76113, 'therm_cond': 1.02349e-05, 'bulk_modulus': 207.166, 'shear_modulus': 131.35, 'universal_anisotropy': 1.081}}, {MPID(mp-20874): {'elec_cond': 4.6706, 'therm_cond': 1.0238e-05, 'bulk_modulus': 143.683, 'shear_modulus': 123.684, 'universal_anisotropy': 1.737}}, {MPID(mp-20344): {'elec_cond': 3.47243, 'therm_cond': 1.02383e-05, 'bulk_modulus': 175.908, 'shear_modulus': 80.576, 'universal_anisotropy': 1.518}}, {MPID(mp-2199): {'elec_cond': 4.36679, 'therm_cond': 1.0257099999999999e-05, 'bulk_modulus': 210.833, 'shear_modulus': 109.586, 'universal_anisotropy': 1.124}}, {MPID(mp-2794): {'elec_cond': 6.60954, 'therm_cond': 1.0298499999999998e-05, 'bulk_modulus': 230.849, 'shear_modulus': 100.329, 'universal_anisotropy': 1.653}}, {MPID(mp-2090): {'elec_cond': 7.20121, 'therm_cond': 1.0306e-05, 'bulk_modulus': 189.836, 'shear_modulus': 99.799, 'universal_anisotropy': 1.011}}, {MPID(mp-1918): {'elec_cond': 8.84419, 'therm_cond': 1.0332300000000001e-05, 'bulk_modulus': 198.729, 'shear_modulus': 81.928, 'universal_anisotropy': 1.023}}, {MPID(mp-29076): {'elec_cond': 5.70667, 'therm_cond': 1.03325e-05, 'bulk_modulus': 232.134, 'shear_modulus': 140.636, 'universal_anisotropy': 1.115}}, {MPID(mp-2853): {'elec_cond': 4.43488, 'therm_cond': 1.03358e-05, 'bulk_modulus': 208.803, 'shear_modulus': 154.899, 'universal_anisotropy': 1.183}}, {MPID(mp-345): {'elec_cond': 6.48043, 'therm_cond': 1.0340800000000001e-05, 'bulk_modulus': 172.719, 'shear_modulus': 102.058, 'universal_anisotropy': 1.435}}, {MPID(mp-1016825): {'elec_cond': 5.15323, 'therm_cond': 1.0342499999999998e-05, 'bulk_modulus': 168.944, 'shear_modulus': 87.323, 'universal_anisotropy': 1.403}}, {MPID(mp-20192): {'elec_cond': 5.92096, 'therm_cond': 1.03454e-05, 'bulk_modulus': 163.461, 'shear_modulus': 96.061, 'universal_anisotropy': 1.397}}, {MPID(mp-754134): {'elec_cond': 5.27277, 'therm_cond': 1.03571e-05, 'bulk_modulus': 207.478, 'shear_modulus': 111.15, 'universal_anisotropy': 1.495}}, {MPID(mp-754478): {'elec_cond': 7.77873, 'therm_cond': 1.03584e-05, 'bulk_modulus': 208.052, 'shear_modulus': 110.771, 'universal_anisotropy': 1.53}}, {MPID(mp-861979): {'elec_cond': 6.62738, 'therm_cond': 1.0359e-05, 'bulk_modulus': 168.879, 'shear_modulus': 81.004, 'universal_anisotropy': 1.561}}, {MPID(mp-5526): {'elec_cond': 4.50158, 'therm_cond': 1.03721e-05, 'bulk_modulus': 119.172, 'shear_modulus': 83.549, 'universal_anisotropy': 1.063}}, {MPID(mp-2680): {'elec_cond': 4.45402, 'therm_cond': 1.0379e-05, 'bulk_modulus': 181.75, 'shear_modulus': 149.768, 'universal_anisotropy': 1.279}}, {MPID(mp-2468835): {'elec_cond': 3.01686, 'therm_cond': 1.0417400000000001e-05, 'bulk_modulus': 129.656, 'shear_modulus': 102.484, 'universal_anisotropy': 1.351}}, {MPID(mp-8001): {'elec_cond': 4.58439, 'therm_cond': 1.04227e-05, 'bulk_modulus': 147.95, 'shear_modulus': 107.397, 'universal_anisotropy': 1.304}}, {MPID(mp-3924): {'elec_cond': 7.2567, 'therm_cond': 1.04295e-05, 'bulk_modulus': 163.815, 'shear_modulus': 111.029, 'universal_anisotropy': 1.257}}, {MPID(mp-3524): {'elec_cond': 4.3018, 'therm_cond': 1.04357e-05, 'bulk_modulus': 135.963, 'shear_modulus': 113.427, 'universal_anisotropy': 1.484}}, {MPID(mp-5840): {'elec_cond': 8.06504, 'therm_cond': 1.04374e-05, 'bulk_modulus': 135.355, 'shear_modulus': 88.428, 'universal_anisotropy': 1.287}}, {MPID(mp-862870): {'elec_cond': 3.92708, 'therm_cond': 1.04416e-05, 'bulk_modulus': 194.213, 'shear_modulus': 89.742, 'universal_anisotropy': 1.415}}, {MPID(mp-9514): {'elec_cond': 3.07601, 'therm_cond': 1.0447500000000001e-05, 'bulk_modulus': 136.169, 'shear_modulus': 104.843, 'universal_anisotropy': 1.794}}, {MPID(mp-3536): {'elec_cond': 7.76756, 'therm_cond': 1.04533e-05, 'bulk_modulus': 182.861, 'shear_modulus': 107.669, 'universal_anisotropy': 1.062}}, {MPID(mp-763): {'elec_cond': 3.99037, 'therm_cond': 1.04596e-05, 'bulk_modulus': 151.6, 'shear_modulus': 129.264, 'universal_anisotropy': 1.559}}, {MPID(mp-365): {'elec_cond': 5.75311, 'therm_cond': 1.0460100000000002e-05, 'bulk_modulus': 161.517, 'shear_modulus': 130.868, 'universal_anisotropy': 1.773}}, {MPID(mp-15702): {'elec_cond': 3.86887, 'therm_cond': 1.04603e-05, 'bulk_modulus': 246.659, 'shear_modulus': 157.105, 'universal_anisotropy': 1.595}}, {MPID(mp-1023125): {'elec_cond': 4.53652, 'therm_cond': 1.0461400000000001e-05, 'bulk_modulus': 153.498, 'shear_modulus': 80.449, 'universal_anisotropy': 1.96}}, {MPID(mp-4391): {'elec_cond': 6.56647, 'therm_cond': 1.0465e-05, 'bulk_modulus': 200.791, 'shear_modulus': 123.778, 'universal_anisotropy': 1.601}}, {MPID(mp-5924): {'elec_cond': 8.12448, 'therm_cond': 1.04766e-05, 'bulk_modulus': 193.509, 'shear_modulus': 113.741, 'universal_anisotropy': 1.091}}, {MPID(mp-1029702): {'elec_cond': 2.58772, 'therm_cond': 1.04895e-05, 'bulk_modulus': 161.977, 'shear_modulus': 90.418, 'universal_anisotropy': 1.902}}, {MPID(mp-1029536): {'elec_cond': 7.10528, 'therm_cond': 1.04937e-05, 'bulk_modulus': 150.834, 'shear_modulus': 80.717, 'universal_anisotropy': 1.978}}, {MPID(mp-8634): {'elec_cond': 9.14505, 'therm_cond': 1.0502499999999998e-05, 'bulk_modulus': 280.959, 'shear_modulus': 133.044, 'universal_anisotropy': 1.116}}, {MPID(mp-13082): {'elec_cond': 7.41469, 'therm_cond': 1.05111e-05, 'bulk_modulus': 220.339, 'shear_modulus': 110.273, 'universal_anisotropy': 1.379}}, {MPID(mp-21235): {'elec_cond': 8.68038, 'therm_cond': 1.05138e-05, 'bulk_modulus': 187.236, 'shear_modulus': 89.778, 'universal_anisotropy': 1.167}}, {MPID(mp-973149): {'elec_cond': 3.2249, 'therm_cond': 1.05217e-05, 'bulk_modulus': 179.795, 'shear_modulus': 100.109, 'universal_anisotropy': 1.104}}, {MPID(mp-865027): {'elec_cond': 6.99016, 'therm_cond': 1.05226e-05, 'bulk_modulus': 195.84, 'shear_modulus': 96.55, 'universal_anisotropy': 1.688}}, {MPID(mp-864735): {'elec_cond': 6.45068, 'therm_cond': 1.05284e-05, 'bulk_modulus': 286.039, 'shear_modulus': 164.556, 'universal_anisotropy': 1.043}}, {MPID(mp-3623): {'elec_cond': 6.32568, 'therm_cond': 1.05334e-05, 'bulk_modulus': 188.169, 'shear_modulus': 114.189, 'universal_anisotropy': 1.258}}, {MPID(mp-999542): {'elec_cond': 8.45219, 'therm_cond': 1.0545500000000001e-05, 'bulk_modulus': 195.981, 'shear_modulus': 104.817, 'universal_anisotropy': 1.389}}, {MPID(mp-1018024): {'elec_cond': 4.8568, 'therm_cond': 1.05495e-05, 'bulk_modulus': 205.404, 'shear_modulus': 100.743, 'universal_anisotropy': 1.684}}, {MPID(mp-7829): {'elec_cond': 5.20336, 'therm_cond': 1.05512e-05, 'bulk_modulus': 200.744, 'shear_modulus': 110.063, 'universal_anisotropy': 1.103}}, {MPID(mp-999516): {'elec_cond': 3.99526, 'therm_cond': 1.05521e-05, 'bulk_modulus': 111.843, 'shear_modulus': 92.592, 'universal_anisotropy': 1.838}}, {MPID(mp-1232): {'elec_cond': 6.62947, 'therm_cond': 1.05647e-05, 'bulk_modulus': 265.997, 'shear_modulus': 96.848, 'universal_anisotropy': 1.887}}, {MPID(mp-7017): {'elec_cond': 6.44792, 'therm_cond': 1.0578700000000001e-05, 'bulk_modulus': 138.928, 'shear_modulus': 95.686, 'universal_anisotropy': 1.49}}, {MPID(mp-976923): {'elec_cond': 4.28431, 'therm_cond': 1.05795e-05, 'bulk_modulus': 211.053, 'shear_modulus': 109.429, 'universal_anisotropy': 1.551}}, {MPID(mp-5475): {'elec_cond': 8.277, 'therm_cond': 1.0581400000000002e-05, 'bulk_modulus': 146.016, 'shear_modulus': 101.705, 'universal_anisotropy': 1.843}}, {MPID(mp-12725): {'elec_cond': 3.72097, 'therm_cond': 1.0589e-05, 'bulk_modulus': 187.023, 'shear_modulus': 86.589, 'universal_anisotropy': 1.27}}, {MPID(mp-1580): {'elec_cond': 4.15711, 'therm_cond': 1.0593699999999998e-05, 'bulk_modulus': 304.766, 'shear_modulus': 162.688, 'universal_anisotropy': 1.953}}, {MPID(mp-999357): {'elec_cond': 6.7528, 'therm_cond': 1.05974e-05, 'bulk_modulus': 307.394, 'shear_modulus': 185.807, 'universal_anisotropy': 1.445}}, {MPID(mp-2533): {'elec_cond': 5.5329, 'therm_cond': 1.0605800000000001e-05, 'bulk_modulus': 235.078, 'shear_modulus': 107.451, 'universal_anisotropy': 1.62}}, {MPID(mp-1018151): {'elec_cond': 8.102, 'therm_cond': 1.0606500000000001e-05, 'bulk_modulus': 195.472, 'shear_modulus': 84.738, 'universal_anisotropy': 1.134}}, {MPID(mp-1963): {'elec_cond': 7.33194, 'therm_cond': 1.06247e-05, 'bulk_modulus': 227.641, 'shear_modulus': 83.9, 'universal_anisotropy': 1.132}}, {MPID(mp-647): {'elec_cond': 4.57521, 'therm_cond': 1.06306e-05, 'bulk_modulus': 180.005, 'shear_modulus': 110.059, 'universal_anisotropy': 1.036}}, {MPID(mp-568055): {'elec_cond': 7.59239, 'therm_cond': 1.06314e-05, 'bulk_modulus': 139.865, 'shear_modulus': 91.543, 'universal_anisotropy': 1.043}}, {MPID(mp-784630): {'elec_cond': 4.6229, 'therm_cond': 1.06344e-05, 'bulk_modulus': 241.09, 'shear_modulus': 106.507, 'universal_anisotropy': 1.139}}, {MPID(mp-1009545): {'elec_cond': 9.91671, 'therm_cond': 1.0658700000000002e-05, 'bulk_modulus': 221.916, 'shear_modulus': 97.045, 'universal_anisotropy': 1.036}}, {MPID(mp-1285): {'elec_cond': 1.66229, 'therm_cond': 1.06663e-05, 'bulk_modulus': 212.055, 'shear_modulus': 99.984, 'universal_anisotropy': 1.658}}, {MPID(mp-12875): {'elec_cond': 5.71197, 'therm_cond': 1.06677e-05, 'bulk_modulus': 297.612, 'shear_modulus': 152.322, 'universal_anisotropy': 1.656}}, {MPID(mp-9761): {'elec_cond': 3.39461, 'therm_cond': 1.06707e-05, 'bulk_modulus': 160.982, 'shear_modulus': 121.982, 'universal_anisotropy': 1.105}}, {MPID(mp-999263): {'elec_cond': 6.38383, 'therm_cond': 1.06894e-05, 'bulk_modulus': 277.573, 'shear_modulus': 98.77, 'universal_anisotropy': 1.298}}, {MPID(mp-20304): {'elec_cond': 3.86063, 'therm_cond': 1.06944e-05, 'bulk_modulus': 224.981, 'shear_modulus': 135.239, 'universal_anisotropy': 1.446}}, {MPID(mp-725): {'elec_cond': 9.46832, 'therm_cond': 1.07026e-05, 'bulk_modulus': 239.205, 'shear_modulus': 114.054, 'universal_anisotropy': 1.53}}, {MPID(mp-607371): {'elec_cond': 6.60229, 'therm_cond': 1.07099e-05, 'bulk_modulus': 285.233, 'shear_modulus': 178.784, 'universal_anisotropy': 1.219}}, {MPID(mp-753495): {'elec_cond': 5.54755, 'therm_cond': 1.07118e-05, 'bulk_modulus': 170.865, 'shear_modulus': 119.883, 'universal_anisotropy': 1.605}}, {MPID(mp-27693): {'elec_cond': 2.77863, 'therm_cond': 1.07121e-05, 'bulk_modulus': 215.418, 'shear_modulus': 171.976, 'universal_anisotropy': 1.946}}, {MPID(mp-12593): {'elec_cond': 6.32032, 'therm_cond': 1.07124e-05, 'bulk_modulus': 243.259, 'shear_modulus': 123.753, 'universal_anisotropy': 1.249}}, {MPID(mp-4200): {'elec_cond': 9.94677, 'therm_cond': 1.07131e-05, 'bulk_modulus': 157.45, 'shear_modulus': 85.876, 'universal_anisotropy': 1.204}}, {MPID(mp-4720): {'elec_cond': 4.79418, 'therm_cond': 1.0718399999999999e-05, 'bulk_modulus': 214.4, 'shear_modulus': 89.892, 'universal_anisotropy': 1.743}}, {MPID(mp-978496): {'elec_cond': 8.05083, 'therm_cond': 1.0727e-05, 'bulk_modulus': 135.716, 'shear_modulus': 104.686, 'universal_anisotropy': 1.908}}, {MPID(mp-1002206): {'elec_cond': 4.60604, 'therm_cond': 1.0732299999999999e-05, 'bulk_modulus': 252.718, 'shear_modulus': 244.745, 'universal_anisotropy': 1.185}}, {MPID(mp-1128): {'elec_cond': 6.74154, 'therm_cond': 1.0749e-05, 'bulk_modulus': 225.979, 'shear_modulus': 99.353, 'universal_anisotropy': 1.497}}, {MPID(mp-972845): {'elec_cond': 6.72975, 'therm_cond': 1.07607e-05, 'bulk_modulus': 204.669, 'shear_modulus': 113.067, 'universal_anisotropy': 1.34}}, {MPID(mp-10015): {'elec_cond': 5.64264, 'therm_cond': 1.07706e-05, 'bulk_modulus': 290.957, 'shear_modulus': 136.168, 'universal_anisotropy': 1.38}}, {MPID(mp-20418): {'elec_cond': 6.77117, 'therm_cond': 1.07708e-05, 'bulk_modulus': 226.79, 'shear_modulus': 80.839, 'universal_anisotropy': 1.011}}, {MPID(mp-381): {'elec_cond': 5.97788, 'therm_cond': 1.07801e-05, 'bulk_modulus': 257.369, 'shear_modulus': 105.83, 'universal_anisotropy': 1.575}}, {MPID(mp-856): {'elec_cond': 5.82151, 'therm_cond': 1.0782e-05, 'bulk_modulus': 176.318, 'shear_modulus': 97.241, 'universal_anisotropy': 1.324}}, {MPID(mp-242): {'elec_cond': 9.28375, 'therm_cond': 1.07871e-05, 'bulk_modulus': 144.836, 'shear_modulus': 123.639, 'universal_anisotropy': 1.336}}, {MPID(mp-768342): {'elec_cond': 6.98912, 'therm_cond': 1.07872e-05, 'bulk_modulus': 148.219, 'shear_modulus': 84.259, 'universal_anisotropy': 1.998}}, {MPID(mp-972309): {'elec_cond': 6.38269, 'therm_cond': 1.07946e-05, 'bulk_modulus': 247.64, 'shear_modulus': 99.708, 'universal_anisotropy': 1.618}}, {MPID(mp-2220557): {'elec_cond': 9.07137, 'therm_cond': 1.07969e-05, 'bulk_modulus': 146.286, 'shear_modulus': 84.338, 'universal_anisotropy': 1.401}}, {MPID(mp-675172): {'elec_cond': 6.40216, 'therm_cond': 1.0798e-05, 'bulk_modulus': 216.442, 'shear_modulus': 135.023, 'universal_anisotropy': 1.504}}, {MPID(mp-570604): {'elec_cond': 6.90584, 'therm_cond': 1.08055e-05, 'bulk_modulus': 328.673, 'shear_modulus': 204.915, 'universal_anisotropy': 1.187}}, {MPID(mp-1157): {'elec_cond': 5.6449, 'therm_cond': 1.08132e-05, 'bulk_modulus': 213.605, 'shear_modulus': 93.969, 'universal_anisotropy': 1.128}}, {MPID(mp-20994): {'elec_cond': 5.54998, 'therm_cond': 1.08179e-05, 'bulk_modulus': 255.635, 'shear_modulus': 127.037, 'universal_anisotropy': 1.336}}, {MPID(mp-30835): {'elec_cond': 4.25063, 'therm_cond': 1.08206e-05, 'bulk_modulus': 206.923, 'shear_modulus': 84.665, 'universal_anisotropy': 1.734}}, {MPID(mp-33137): {'elec_cond': 3.26486, 'therm_cond': 1.08295e-05, 'bulk_modulus': 256.484, 'shear_modulus': 126.647, 'universal_anisotropy': 1.54}}, {MPID(mp-1756): {'elec_cond': 8.23334, 'therm_cond': 1.08306e-05, 'bulk_modulus': 195.95, 'shear_modulus': 156.187, 'universal_anisotropy': 1.8}}, {MPID(mp-755875): {'elec_cond': 6.24468, 'therm_cond': 1.08535e-05, 'bulk_modulus': 180.957, 'shear_modulus': 103.661, 'universal_anisotropy': 1.241}}, {MPID(mp-10734): {'elec_cond': 5.41547, 'therm_cond': 1.08592e-05, 'bulk_modulus': 207.966, 'shear_modulus': 100.616, 'universal_anisotropy': 1.266}}, {MPID(mp-11279): {'elec_cond': 4.5799, 'therm_cond': 1.086e-05, 'bulk_modulus': 124.845, 'shear_modulus': 83.187, 'universal_anisotropy': 1.476}}, {MPID(mp-608): {'elec_cond': 4.06895, 'therm_cond': 1.08632e-05, 'bulk_modulus': 142.93, 'shear_modulus': 107.544, 'universal_anisotropy': 1.622}}, {MPID(mp-1018012): {'elec_cond': 5.28893, 'therm_cond': 1.08652e-05, 'bulk_modulus': 197.425, 'shear_modulus': 80.874, 'universal_anisotropy': 1.294}}, {MPID(mp-865678): {'elec_cond': 6.09991, 'therm_cond': 1.08656e-05, 'bulk_modulus': 195.509, 'shear_modulus': 84.518, 'universal_anisotropy': 1.209}}, {MPID(mp-2657): {'elec_cond': 4.3559, 'therm_cond': 1.08702e-05, 'bulk_modulus': 213.77, 'shear_modulus': 122.004, 'universal_anisotropy': 1.629}}, {MPID(mp-980203): {'elec_cond': 5.27728, 'therm_cond': 1.08753e-05, 'bulk_modulus': 308.449, 'shear_modulus': 122.377, 'universal_anisotropy': 1.236}}, {MPID(mp-554462): {'elec_cond': 5.200010000000001, 'therm_cond': 1.08895e-05, 'bulk_modulus': 140.376, 'shear_modulus': 103.789, 'universal_anisotropy': 1.253}}, {MPID(mp-568789): {'elec_cond': 4.27529, 'therm_cond': 1.09e-05, 'bulk_modulus': 115.093, 'shear_modulus': 83.584, 'universal_anisotropy': 1.283}}, {MPID(mp-10857): {'elec_cond': 7.15979, 'therm_cond': 1.09143e-05, 'bulk_modulus': 209.185, 'shear_modulus': 132.002, 'universal_anisotropy': 1.135}}, {MPID(mp-20924): {'elec_cond': 4.20757, 'therm_cond': 1.09155e-05, 'bulk_modulus': 177.411, 'shear_modulus': 99.839, 'universal_anisotropy': 1.278}}, {MPID(mp-1025264): {'elec_cond': 6.74925, 'therm_cond': 1.09309e-05, 'bulk_modulus': 193.682, 'shear_modulus': 103.803, 'universal_anisotropy': 1.208}}, {MPID(mp-1865): {'elec_cond': 8.61785, 'therm_cond': 1.09371e-05, 'bulk_modulus': 206.53, 'shear_modulus': 81.652, 'universal_anisotropy': 1.431}}, {MPID(mp-1776): {'elec_cond': 5.83423, 'therm_cond': 1.09409e-05, 'bulk_modulus': 256.399, 'shear_modulus': 106.68, 'universal_anisotropy': 1.664}}, {MPID(mp-1025123): {'elec_cond': 6.30294, 'therm_cond': 1.09578e-05, 'bulk_modulus': 243.517, 'shear_modulus': 101.429, 'universal_anisotropy': 1.161}}, {MPID(mp-27769): {'elec_cond': 4.93645, 'therm_cond': 1.09601e-05, 'bulk_modulus': 196.809, 'shear_modulus': 87.423, 'universal_anisotropy': 1.727}}, {MPID(mp-865465): {'elec_cond': 3.52594, 'therm_cond': 1.09638e-05, 'bulk_modulus': 197.789, 'shear_modulus': 90.579, 'universal_anisotropy': 1.217}}, {MPID(mp-22790): {'elec_cond': 8.34939, 'therm_cond': 1.09657e-05, 'bulk_modulus': 199.274, 'shear_modulus': 96.193, 'universal_anisotropy': 1.02}}, {MPID(mp-865471): {'elec_cond': 4.82724, 'therm_cond': 1.0966e-05, 'bulk_modulus': 229.778, 'shear_modulus': 86.908, 'universal_anisotropy': 1.119}}, {MPID(mp-11531): {'elec_cond': 4.98872, 'therm_cond': 1.09662e-05, 'bulk_modulus': 230.451, 'shear_modulus': 96.964, 'universal_anisotropy': 1.546}}, {MPID(mp-11549): {'elec_cond': 7.18182, 'therm_cond': 1.09703e-05, 'bulk_modulus': 192.611, 'shear_modulus': 86.431, 'universal_anisotropy': 1.133}}, {MPID(mp-873): {'elec_cond': 2.77574, 'therm_cond': 1.09731e-05, 'bulk_modulus': 190.818, 'shear_modulus': 83.315, 'universal_anisotropy': 1.162}}, {MPID(mp-1008630): {'elec_cond': 2.87446, 'therm_cond': 1.0974e-05, 'bulk_modulus': 366.4, 'shear_modulus': 265.906, 'universal_anisotropy': 1.599}}, {MPID(mp-1004526): {'elec_cond': 7.43527, 'therm_cond': 1.09939e-05, 'bulk_modulus': 178.414, 'shear_modulus': 84.67, 'universal_anisotropy': 1.14}}, {MPID(mp-15955): {'elec_cond': 6.89499, 'therm_cond': 1.09949e-05, 'bulk_modulus': 195.332, 'shear_modulus': 120.125, 'universal_anisotropy': 1.325}}, {MPID(mp-756214): {'elec_cond': 4.10284, 'therm_cond': 1.09971e-05, 'bulk_modulus': 190.921, 'shear_modulus': 98.613, 'universal_anisotropy': 1.681}}, {MPID(mp-1016876): {'elec_cond': 7.77306, 'therm_cond': 1.10343e-05, 'bulk_modulus': 235.713, 'shear_modulus': 118.072, 'universal_anisotropy': 1.1}}, {MPID(mp-1014265): {'elec_cond': 6.03706, 'therm_cond': 1.10547e-05, 'bulk_modulus': 175.065, 'shear_modulus': 101.81, 'universal_anisotropy': 1.727}}, {MPID(mp-1014246): {'elec_cond': 4.96879, 'therm_cond': 1.10627e-05, 'bulk_modulus': 159.888, 'shear_modulus': 93.776, 'universal_anisotropy': 1.23}}, {MPID(mp-451): {'elec_cond': 4.79942, 'therm_cond': 1.10633e-05, 'bulk_modulus': 160.149, 'shear_modulus': 90.827, 'universal_anisotropy': 1.367}}, {MPID(mp-22227): {'elec_cond': 7.42072, 'therm_cond': 1.10647e-05, 'bulk_modulus': 146.313, 'shear_modulus': 89.793, 'universal_anisotropy': 1.136}}, {MPID(mp-1565): {'elec_cond': 3.83907, 'therm_cond': 1.10724e-05, 'bulk_modulus': 235.389, 'shear_modulus': 119.559, 'universal_anisotropy': 1.834}}, {MPID(mp-755759): {'elec_cond': 8.25751, 'therm_cond': 1.10741e-05, 'bulk_modulus': 217.152, 'shear_modulus': 91.464, 'universal_anisotropy': 1.335}}, {MPID(mp-775909): {'elec_cond': 5.81275, 'therm_cond': 1.10796e-05, 'bulk_modulus': 198.699, 'shear_modulus': 104.365, 'universal_anisotropy': 1.524}}, {MPID(mp-4820): {'elec_cond': 5.5672, 'therm_cond': 1.10952e-05, 'bulk_modulus': 205.354, 'shear_modulus': 105.682, 'universal_anisotropy': 1.016}}], 'mat3': [{MPID(mp-867330): {'elec_cond': 7.62958, 'therm_cond': 1.00117e-05, 'bulk_modulus': 163.496, 'shear_modulus': 99.648, 'universal_anisotropy': 1.355}}, {MPID(mp-684591): {'elec_cond': 5.62677, 'therm_cond': 1.0013e-05, 'bulk_modulus': 148.35, 'shear_modulus': 92.063, 'universal_anisotropy': 1.269}}, {MPID(mp-752826): {'elec_cond': 5.9234, 'therm_cond': 1.00183e-05, 'bulk_modulus': 168.258, 'shear_modulus': 90.134, 'universal_anisotropy': 1.271}}, {MPID(mp-16514): {'elec_cond': 9.94115, 'therm_cond': 1.0024900000000001e-05, 'bulk_modulus': 172.85, 'shear_modulus': 84.338, 'universal_anisotropy': 1.394}}, {MPID(mp-632442): {'elec_cond': 7.85786, 'therm_cond': 1.0039899999999999e-05, 'bulk_modulus': 141.214, 'shear_modulus': 96.492, 'universal_anisotropy': 1.4}}, {MPID(mp-10883): {'elec_cond': 3.73075, 'therm_cond': 1.0041800000000001e-05, 'bulk_modulus': 199.303, 'shear_modulus': 107.924, 'universal_anisotropy': 1.384}}, {MPID(mp-2658): {'elec_cond': 5.48543, 'therm_cond': 1.00423e-05, 'bulk_modulus': 170.575, 'shear_modulus': 105.935, 'universal_anisotropy': 1.026}}, {MPID(mp-22793): {'elec_cond': 5.45303, 'therm_cond': 1.00465e-05, 'bulk_modulus': 232.51, 'shear_modulus': 98.9, 'universal_anisotropy': 1.287}}, {MPID(mp-1019508): {'elec_cond': 2.3001, 'therm_cond': 1.00479e-05, 'bulk_modulus': 177.124, 'shear_modulus': 116.889, 'universal_anisotropy': 1.022}}, {MPID(mp-1008556): {'elec_cond': 4.56951, 'therm_cond': 1.00505e-05, 'bulk_modulus': 183.552, 'shear_modulus': 121.636, 'universal_anisotropy': 1.074}}, {MPID(mp-625054): {'elec_cond': 9.8485, 'therm_cond': 1.0050600000000002e-05, 'bulk_modulus': 117.872, 'shear_modulus': 90.805, 'universal_anisotropy': 1.975}}, {MPID(mp-1700): {'elec_cond': 4.55414, 'therm_cond': 1.00589e-05, 'bulk_modulus': 194.648, 'shear_modulus': 134.454, 'universal_anisotropy': 1.284}}, {MPID(mp-1487): {'elec_cond': 5.43706, 'therm_cond': 1.00619e-05, 'bulk_modulus': 157.34, 'shear_modulus': 81.641, 'universal_anisotropy': 1.842}}, {MPID(mp-603719): {'elec_cond': 9.94016, 'therm_cond': 1.0064e-05, 'bulk_modulus': 251.127, 'shear_modulus': 188.703, 'universal_anisotropy': 1.229}}, {MPID(mp-676861): {'elec_cond': 8.02199, 'therm_cond': 1.00651e-05, 'bulk_modulus': 203.768, 'shear_modulus': 132.083, 'universal_anisotropy': 1.142}}, {MPID(mp-1008530): {'elec_cond': 3.72465, 'therm_cond': 1.00745e-05, 'bulk_modulus': 204.053, 'shear_modulus': 91.013, 'universal_anisotropy': 1.117}}, {MPID(mp-11696): {'elec_cond': 3.94169, 'therm_cond': 1.00757e-05, 'bulk_modulus': 136.43, 'shear_modulus': 83.428, 'universal_anisotropy': 1.031}}, {MPID(mp-1008526): {'elec_cond': 7.90154, 'therm_cond': 1.0081e-05, 'bulk_modulus': 325.587, 'shear_modulus': 247.7, 'universal_anisotropy': 1.064}}, {MPID(mp-2850): {'elec_cond': 4.23905, 'therm_cond': 1.00836e-05, 'bulk_modulus': 314.205, 'shear_modulus': 183.25, 'universal_anisotropy': 1.065}}, {MPID(mp-633538): {'elec_cond': 8.6326, 'therm_cond': 1.00861e-05, 'bulk_modulus': 195.358, 'shear_modulus': 120.465, 'universal_anisotropy': 1.429}}, {MPID(mp-28897): {'elec_cond': 5.386499999999999, 'therm_cond': 1.00874e-05, 'bulk_modulus': 236.239, 'shear_modulus': 80.276, 'universal_anisotropy': 1.105}}, {MPID(mp-644751): {'elec_cond': 8.57241, 'therm_cond': 1.0087600000000001e-05, 'bulk_modulus': 312.546, 'shear_modulus': 237.412, 'universal_anisotropy': 1.011}}, {MPID(mp-567164): {'elec_cond': 4.79798, 'therm_cond': 1.00888e-05, 'bulk_modulus': 279.202, 'shear_modulus': 116.982, 'universal_anisotropy': 1.034}}, {MPID(mp-983590): {'elec_cond': 3.41084, 'therm_cond': 1.00922e-05, 'bulk_modulus': 151.52, 'shear_modulus': 114.692, 'universal_anisotropy': 1.731}}, {MPID(mp-865562): {'elec_cond': 8.21281, 'therm_cond': 1.0101500000000001e-05, 'bulk_modulus': 180.623, 'shear_modulus': 136.76, 'universal_anisotropy': 1.198}}, {MPID(mp-862706): {'elec_cond': 3.68554, 'therm_cond': 1.01027e-05, 'bulk_modulus': 201.076, 'shear_modulus': 89.267, 'universal_anisotropy': 1.163}}, {MPID(mp-5597): {'elec_cond': 5.70768, 'therm_cond': 1.01035e-05, 'bulk_modulus': 112.576, 'shear_modulus': 87.513, 'universal_anisotropy': 1.643}}, {MPID(mp-5157): {'elec_cond': 3.87986, 'therm_cond': 1.01102e-05, 'bulk_modulus': 118.012, 'shear_modulus': 85.162, 'universal_anisotropy': 1.261}}, {MPID(mp-38843): {'elec_cond': 8.32393, 'therm_cond': 1.01105e-05, 'bulk_modulus': 203.358, 'shear_modulus': 119.505, 'universal_anisotropy': 1.264}}, {MPID(mp-6957): {'elec_cond': 8.09917, 'therm_cond': 1.0110600000000001e-05, 'bulk_modulus': 146.141, 'shear_modulus': 100.162, 'universal_anisotropy': 1.551}}, {MPID(mp-2965): {'elec_cond': 9.87305, 'therm_cond': 1.0126299999999998e-05, 'bulk_modulus': 123.772, 'shear_modulus': 80.903, 'universal_anisotropy': 1.662}}, {MPID(mp-27861): {'elec_cond': 4.21989, 'therm_cond': 1.01312e-05, 'bulk_modulus': 182.014, 'shear_modulus': 110.734, 'universal_anisotropy': 1.675}}, {MPID(mp-21343): {'elec_cond': 15.3359, 'therm_cond': 1.0135799999999999e-05, 'bulk_modulus': 172.63, 'shear_modulus': 136.162, 'universal_anisotropy': 1.887}}, {MPID(mp-754040): {'elec_cond': 4.01341, 'therm_cond': 1.0148999999999999e-05, 'bulk_modulus': 141.758, 'shear_modulus': 80.238, 'universal_anisotropy': 1.031}}, {MPID(mp-1008349): {'elec_cond': 6.05572, 'therm_cond': 1.01644e-05, 'bulk_modulus': 258.138, 'shear_modulus': 111.577, 'universal_anisotropy': 1.009}}, {MPID(mp-1018672): {'elec_cond': 7.29148, 'therm_cond': 1.01817e-05, 'bulk_modulus': 132.667, 'shear_modulus': 96.688, 'universal_anisotropy': 1.346}}, {MPID(mp-90): {'elec_cond': 9.61778, 'therm_cond': 1.01895e-05, 'bulk_modulus': 234.148, 'shear_modulus': 86.61, 'universal_anisotropy': 1.436}}, {MPID(mp-579): {'elec_cond': 2.8762, 'therm_cond': 1.01959e-05, 'bulk_modulus': 110.843, 'shear_modulus': 105.763, 'universal_anisotropy': 1.095}}, {MPID(mp-1008224): {'elec_cond': 9.042, 'therm_cond': 1.02002e-05, 'bulk_modulus': 222.218, 'shear_modulus': 107.181, 'universal_anisotropy': 1.567}}, {MPID(mp-1018067): {'elec_cond': 4.44666, 'therm_cond': 1.0209999999999999e-05, 'bulk_modulus': 178.768, 'shear_modulus': 88.471, 'universal_anisotropy': 1.563}}, {MPID(mp-784631): {'elec_cond': 7.07775, 'therm_cond': 1.02115e-05, 'bulk_modulus': 221.404, 'shear_modulus': 122.812, 'universal_anisotropy': 1.098}}, {MPID(mp-20814): {'elec_cond': 8.84191, 'therm_cond': 1.02237e-05, 'bulk_modulus': 199.392, 'shear_modulus': 123.974, 'universal_anisotropy': 1.171}}, {MPID(mp-2417): {'elec_cond': 2.5827899999999997, 'therm_cond': 1.02319e-05, 'bulk_modulus': 212.008, 'shear_modulus': 106.039, 'universal_anisotropy': 1.157}}, {MPID(mp-10856): {'elec_cond': 6.76113, 'therm_cond': 1.02349e-05, 'bulk_modulus': 207.166, 'shear_modulus': 131.35, 'universal_anisotropy': 1.081}}, {MPID(mp-20874): {'elec_cond': 4.6706, 'therm_cond': 1.0238e-05, 'bulk_modulus': 143.683, 'shear_modulus': 123.684, 'universal_anisotropy': 1.737}}, {MPID(mp-20344): {'elec_cond': 3.47243, 'therm_cond': 1.02383e-05, 'bulk_modulus': 175.908, 'shear_modulus': 80.576, 'universal_anisotropy': 1.518}}, {MPID(mp-1007853): {'elec_cond': 10.3411, 'therm_cond': 1.02394e-05, 'bulk_modulus': 179.994, 'shear_modulus': 83.585, 'universal_anisotropy': 1.851}}, {MPID(mp-2199): {'elec_cond': 4.36679, 'therm_cond': 1.0257099999999999e-05, 'bulk_modulus': 210.833, 'shear_modulus': 109.586, 'universal_anisotropy': 1.124}}, {MPID(mp-2794): {'elec_cond': 6.60954, 'therm_cond': 1.0298499999999998e-05, 'bulk_modulus': 230.849, 'shear_modulus': 100.329, 'universal_anisotropy': 1.653}}, {MPID(mp-2090): {'elec_cond': 7.20121, 'therm_cond': 1.0306e-05, 'bulk_modulus': 189.836, 'shear_modulus': 99.799, 'universal_anisotropy': 1.011}}, {MPID(mp-5436): {'elec_cond': 11.6099, 'therm_cond': 1.0320400000000002e-05, 'bulk_modulus': 200.083, 'shear_modulus': 96.901, 'universal_anisotropy': 1.267}}, {MPID(mp-2213): {'elec_cond': 11.0165, 'therm_cond': 1.03217e-05, 'bulk_modulus': 185.282, 'shear_modulus': 98.594, 'universal_anisotropy': 1.486}}, {MPID(mp-1918): {'elec_cond': 8.84419, 'therm_cond': 1.0332300000000001e-05, 'bulk_modulus': 198.729, 'shear_modulus': 81.928, 'universal_anisotropy': 1.023}}, {MPID(mp-29076): {'elec_cond': 5.70667, 'therm_cond': 1.03325e-05, 'bulk_modulus': 232.134, 'shear_modulus': 140.636, 'universal_anisotropy': 1.115}}, {MPID(mp-30551): {'elec_cond': 11.0423, 'therm_cond': 1.0334399999999999e-05, 'bulk_modulus': 190.304, 'shear_modulus': 99.367, 'universal_anisotropy': 1.435}}, {MPID(mp-2853): {'elec_cond': 4.43488, 'therm_cond': 1.03358e-05, 'bulk_modulus': 208.803, 'shear_modulus': 154.899, 'universal_anisotropy': 1.183}}, {MPID(mp-345): {'elec_cond': 6.48043, 'therm_cond': 1.0340800000000001e-05, 'bulk_modulus': 172.719, 'shear_modulus': 102.058, 'universal_anisotropy': 1.435}}, {MPID(mp-1016825): {'elec_cond': 5.15323, 'therm_cond': 1.0342499999999998e-05, 'bulk_modulus': 168.944, 'shear_modulus': 87.323, 'universal_anisotropy': 1.403}}, {MPID(mp-20192): {'elec_cond': 5.92096, 'therm_cond': 1.03454e-05, 'bulk_modulus': 163.461, 'shear_modulus': 96.061, 'universal_anisotropy': 1.397}}, {MPID(mp-550893): {'elec_cond': 10.2311, 'therm_cond': 1.03504e-05, 'bulk_modulus': 252.656, 'shear_modulus': 135.201, 'universal_anisotropy': 1.96}}, {MPID(mp-776532): {'elec_cond': 12.9439, 'therm_cond': 1.03518e-05, 'bulk_modulus': 215.155, 'shear_modulus': 118.468, 'universal_anisotropy': 1.352}}, {MPID(mp-754134): {'elec_cond': 5.27277, 'therm_cond': 1.03571e-05, 'bulk_modulus': 207.478, 'shear_modulus': 111.15, 'universal_anisotropy': 1.495}}, {MPID(mp-754478): {'elec_cond': 7.77873, 'therm_cond': 1.03584e-05, 'bulk_modulus': 208.052, 'shear_modulus': 110.771, 'universal_anisotropy': 1.53}}, {MPID(mp-861979): {'elec_cond': 6.62738, 'therm_cond': 1.0359e-05, 'bulk_modulus': 168.879, 'shear_modulus': 81.004, 'universal_anisotropy': 1.561}}, {MPID(mp-1001827): {'elec_cond': 11.3484, 'therm_cond': 1.0364800000000001e-05, 'bulk_modulus': 328.287, 'shear_modulus': 94.169, 'universal_anisotropy': 1.663}}, {MPID(mp-549490): {'elec_cond': 11.155600000000002, 'therm_cond': 1.0371999999999998e-05, 'bulk_modulus': 151.575, 'shear_modulus': 96.203, 'universal_anisotropy': 1.588}}, {MPID(mp-5526): {'elec_cond': 4.50158, 'therm_cond': 1.03721e-05, 'bulk_modulus': 119.172, 'shear_modulus': 83.549, 'universal_anisotropy': 1.063}}, {MPID(mp-2680): {'elec_cond': 4.45402, 'therm_cond': 1.0379e-05, 'bulk_modulus': 181.75, 'shear_modulus': 149.768, 'universal_anisotropy': 1.279}}, {MPID(mp-36086): {'elec_cond': 10.530999999999999, 'therm_cond': 1.03892e-05, 'bulk_modulus': 123.197, 'shear_modulus': 96.765, 'universal_anisotropy': 1.201}}, {MPID(mp-2468835): {'elec_cond': 3.01686, 'therm_cond': 1.0417400000000001e-05, 'bulk_modulus': 129.656, 'shear_modulus': 102.484, 'universal_anisotropy': 1.351}}, {MPID(mp-8001): {'elec_cond': 4.58439, 'therm_cond': 1.04227e-05, 'bulk_modulus': 147.95, 'shear_modulus': 107.397, 'universal_anisotropy': 1.304}}, {MPID(mp-3924): {'elec_cond': 7.2567, 'therm_cond': 1.04295e-05, 'bulk_modulus': 163.815, 'shear_modulus': 111.029, 'universal_anisotropy': 1.257}}, {MPID(mp-3524): {'elec_cond': 4.3018, 'therm_cond': 1.04357e-05, 'bulk_modulus': 135.963, 'shear_modulus': 113.427, 'universal_anisotropy': 1.484}}, {MPID(mp-5840): {'elec_cond': 8.06504, 'therm_cond': 1.04374e-05, 'bulk_modulus': 135.355, 'shear_modulus': 88.428, 'universal_anisotropy': 1.287}}, {MPID(mp-862870): {'elec_cond': 3.92708, 'therm_cond': 1.04416e-05, 'bulk_modulus': 194.213, 'shear_modulus': 89.742, 'universal_anisotropy': 1.415}}, {MPID(mp-9514): {'elec_cond': 3.07601, 'therm_cond': 1.0447500000000001e-05, 'bulk_modulus': 136.169, 'shear_modulus': 104.843, 'universal_anisotropy': 1.794}}, {MPID(mp-4590): {'elec_cond': 11.5972, 'therm_cond': 1.0448599999999999e-05, 'bulk_modulus': 162.924, 'shear_modulus': 83.168, 'universal_anisotropy': 1.07}}, {MPID(mp-3536): {'elec_cond': 7.76756, 'therm_cond': 1.04533e-05, 'bulk_modulus': 182.861, 'shear_modulus': 107.669, 'universal_anisotropy': 1.062}}, {MPID(mp-763): {'elec_cond': 3.99037, 'therm_cond': 1.04596e-05, 'bulk_modulus': 151.6, 'shear_modulus': 129.264, 'universal_anisotropy': 1.559}}, {MPID(mp-365): {'elec_cond': 5.75311, 'therm_cond': 1.0460100000000002e-05, 'bulk_modulus': 161.517, 'shear_modulus': 130.868, 'universal_anisotropy': 1.773}}, {MPID(mp-15702): {'elec_cond': 3.86887, 'therm_cond': 1.04603e-05, 'bulk_modulus': 246.659, 'shear_modulus': 157.105, 'universal_anisotropy': 1.595}}, {MPID(mp-1023125): {'elec_cond': 4.53652, 'therm_cond': 1.0461400000000001e-05, 'bulk_modulus': 153.498, 'shear_modulus': 80.449, 'universal_anisotropy': 1.96}}, {MPID(mp-4391): {'elec_cond': 6.56647, 'therm_cond': 1.0465e-05, 'bulk_modulus': 200.791, 'shear_modulus': 123.778, 'universal_anisotropy': 1.601}}, {MPID(mp-5924): {'elec_cond': 8.12448, 'therm_cond': 1.04766e-05, 'bulk_modulus': 193.509, 'shear_modulus': 113.741, 'universal_anisotropy': 1.091}}, {MPID(mp-1029702): {'elec_cond': 2.58772, 'therm_cond': 1.04895e-05, 'bulk_modulus': 161.977, 'shear_modulus': 90.418, 'universal_anisotropy': 1.902}}, {MPID(mp-1029536): {'elec_cond': 7.10528, 'therm_cond': 1.04937e-05, 'bulk_modulus': 150.834, 'shear_modulus': 80.717, 'universal_anisotropy': 1.978}}, {MPID(mp-8634): {'elec_cond': 9.14505, 'therm_cond': 1.0502499999999998e-05, 'bulk_modulus': 280.959, 'shear_modulus': 133.044, 'universal_anisotropy': 1.116}}, {MPID(mp-13082): {'elec_cond': 7.41469, 'therm_cond': 1.05111e-05, 'bulk_modulus': 220.339, 'shear_modulus': 110.273, 'universal_anisotropy': 1.379}}, {MPID(mp-999558): {'elec_cond': 11.3393, 'therm_cond': 1.05114e-05, 'bulk_modulus': 198.379, 'shear_modulus': 99.491, 'universal_anisotropy': 1.211}}, {MPID(mp-21235): {'elec_cond': 8.68038, 'therm_cond': 1.05138e-05, 'bulk_modulus': 187.236, 'shear_modulus': 89.778, 'universal_anisotropy': 1.167}}, {MPID(mp-973149): {'elec_cond': 3.2249, 'therm_cond': 1.05217e-05, 'bulk_modulus': 179.795, 'shear_modulus': 100.109, 'universal_anisotropy': 1.104}}, {MPID(mp-865027): {'elec_cond': 6.99016, 'therm_cond': 1.05226e-05, 'bulk_modulus': 195.84, 'shear_modulus': 96.55, 'universal_anisotropy': 1.688}}, {MPID(mp-864735): {'elec_cond': 6.45068, 'therm_cond': 1.05284e-05, 'bulk_modulus': 286.039, 'shear_modulus': 164.556, 'universal_anisotropy': 1.043}}, {MPID(mp-771): {'elec_cond': 10.1023, 'therm_cond': 1.05332e-05, 'bulk_modulus': 128.984, 'shear_modulus': 91.397, 'universal_anisotropy': 1.767}}, {MPID(mp-3623): {'elec_cond': 6.32568, 'therm_cond': 1.05334e-05, 'bulk_modulus': 188.169, 'shear_modulus': 114.189, 'universal_anisotropy': 1.258}}, {MPID(mp-978261): {'elec_cond': 10.8449, 'therm_cond': 1.0544100000000001e-05, 'bulk_modulus': 172.297, 'shear_modulus': 105.916, 'universal_anisotropy': 1.296}}, {MPID(mp-999542): {'elec_cond': 8.45219, 'therm_cond': 1.0545500000000001e-05, 'bulk_modulus': 195.981, 'shear_modulus': 104.817, 'universal_anisotropy': 1.389}}, {MPID(mp-1018024): {'elec_cond': 4.8568, 'therm_cond': 1.05495e-05, 'bulk_modulus': 205.404, 'shear_modulus': 100.743, 'universal_anisotropy': 1.684}}, {MPID(mp-7829): {'elec_cond': 5.20336, 'therm_cond': 1.05512e-05, 'bulk_modulus': 200.744, 'shear_modulus': 110.063, 'universal_anisotropy': 1.103}}, {MPID(mp-999516): {'elec_cond': 3.99526, 'therm_cond': 1.05521e-05, 'bulk_modulus': 111.843, 'shear_modulus': 92.592, 'universal_anisotropy': 1.838}}, {MPID(mp-1232): {'elec_cond': 6.62947, 'therm_cond': 1.05647e-05, 'bulk_modulus': 265.997, 'shear_modulus': 96.848, 'universal_anisotropy': 1.887}}, {MPID(mp-7017): {'elec_cond': 6.44792, 'therm_cond': 1.0578700000000001e-05, 'bulk_modulus': 138.928, 'shear_modulus': 95.686, 'universal_anisotropy': 1.49}}, {MPID(mp-976923): {'elec_cond': 4.28431, 'therm_cond': 1.05795e-05, 'bulk_modulus': 211.053, 'shear_modulus': 109.429, 'universal_anisotropy': 1.551}}, {MPID(mp-5475): {'elec_cond': 8.277, 'therm_cond': 1.0581400000000002e-05, 'bulk_modulus': 146.016, 'shear_modulus': 101.705, 'universal_anisotropy': 1.843}}, {MPID(mp-569167): {'elec_cond': 12.4731, 'therm_cond': 1.05846e-05, 'bulk_modulus': 282.107, 'shear_modulus': 155.625, 'universal_anisotropy': 1.016}}, {MPID(mp-12725): {'elec_cond': 3.72097, 'therm_cond': 1.0589e-05, 'bulk_modulus': 187.023, 'shear_modulus': 86.589, 'universal_anisotropy': 1.27}}, {MPID(mp-1580): {'elec_cond': 4.15711, 'therm_cond': 1.0593699999999998e-05, 'bulk_modulus': 304.766, 'shear_modulus': 162.688, 'universal_anisotropy': 1.953}}, {MPID(mp-999357): {'elec_cond': 6.7528, 'therm_cond': 1.05974e-05, 'bulk_modulus': 307.394, 'shear_modulus': 185.807, 'universal_anisotropy': 1.445}}, {MPID(mp-2533): {'elec_cond': 5.5329, 'therm_cond': 1.0605800000000001e-05, 'bulk_modulus': 235.078, 'shear_modulus': 107.451, 'universal_anisotropy': 1.62}}, {MPID(mp-1018151): {'elec_cond': 8.102, 'therm_cond': 1.0606500000000001e-05, 'bulk_modulus': 195.472, 'shear_modulus': 84.738, 'universal_anisotropy': 1.134}}, {MPID(mp-1963): {'elec_cond': 7.33194, 'therm_cond': 1.06247e-05, 'bulk_modulus': 227.641, 'shear_modulus': 83.9, 'universal_anisotropy': 1.132}}, {MPID(mp-647): {'elec_cond': 4.57521, 'therm_cond': 1.06306e-05, 'bulk_modulus': 180.005, 'shear_modulus': 110.059, 'universal_anisotropy': 1.036}}, {MPID(mp-568055): {'elec_cond': 7.59239, 'therm_cond': 1.06314e-05, 'bulk_modulus': 139.865, 'shear_modulus': 91.543, 'universal_anisotropy': 1.043}}, {MPID(mp-784630): {'elec_cond': 4.6229, 'therm_cond': 1.06344e-05, 'bulk_modulus': 241.09, 'shear_modulus': 106.507, 'universal_anisotropy': 1.139}}, {MPID(mp-30811): {'elec_cond': 10.6986, 'therm_cond': 1.06452e-05, 'bulk_modulus': 226.198, 'shear_modulus': 106.77, 'universal_anisotropy': 1.013}}, {MPID(mp-6927): {'elec_cond': 10.8181, 'therm_cond': 1.06473e-05, 'bulk_modulus': 164.957, 'shear_modulus': 99.927, 'universal_anisotropy': 1.432}}, {MPID(mp-1009545): {'elec_cond': 9.91671, 'therm_cond': 1.0658700000000002e-05, 'bulk_modulus': 221.916, 'shear_modulus': 97.045, 'universal_anisotropy': 1.036}}, {MPID(mp-1285): {'elec_cond': 1.66229, 'therm_cond': 1.06663e-05, 'bulk_modulus': 212.055, 'shear_modulus': 99.984, 'universal_anisotropy': 1.658}}, {MPID(mp-12875): {'elec_cond': 5.71197, 'therm_cond': 1.06677e-05, 'bulk_modulus': 297.612, 'shear_modulus': 152.322, 'universal_anisotropy': 1.656}}, {MPID(mp-9761): {'elec_cond': 3.39461, 'therm_cond': 1.06707e-05, 'bulk_modulus': 160.982, 'shear_modulus': 121.982, 'universal_anisotropy': 1.105}}, {MPID(mp-999263): {'elec_cond': 6.38383, 'therm_cond': 1.06894e-05, 'bulk_modulus': 277.573, 'shear_modulus': 98.77, 'universal_anisotropy': 1.298}}, {MPID(mp-20304): {'elec_cond': 3.86063, 'therm_cond': 1.06944e-05, 'bulk_modulus': 224.981, 'shear_modulus': 135.239, 'universal_anisotropy': 1.446}}, {MPID(mp-725): {'elec_cond': 9.46832, 'therm_cond': 1.07026e-05, 'bulk_modulus': 239.205, 'shear_modulus': 114.054, 'universal_anisotropy': 1.53}}, {MPID(mp-607371): {'elec_cond': 6.60229, 'therm_cond': 1.07099e-05, 'bulk_modulus': 285.233, 'shear_modulus': 178.784, 'universal_anisotropy': 1.219}}, {MPID(mp-753495): {'elec_cond': 5.54755, 'therm_cond': 1.07118e-05, 'bulk_modulus': 170.865, 'shear_modulus': 119.883, 'universal_anisotropy': 1.605}}, {MPID(mp-27693): {'elec_cond': 2.77863, 'therm_cond': 1.07121e-05, 'bulk_modulus': 215.418, 'shear_modulus': 171.976, 'universal_anisotropy': 1.946}}, {MPID(mp-12593): {'elec_cond': 6.32032, 'therm_cond': 1.07124e-05, 'bulk_modulus': 243.259, 'shear_modulus': 123.753, 'universal_anisotropy': 1.249}}, {MPID(mp-4200): {'elec_cond': 9.94677, 'therm_cond': 1.07131e-05, 'bulk_modulus': 157.45, 'shear_modulus': 85.876, 'universal_anisotropy': 1.204}}, {MPID(mp-4720): {'elec_cond': 4.79418, 'therm_cond': 1.0718399999999999e-05, 'bulk_modulus': 214.4, 'shear_modulus': 89.892, 'universal_anisotropy': 1.743}}, {MPID(mp-978496): {'elec_cond': 8.05083, 'therm_cond': 1.0727e-05, 'bulk_modulus': 135.716, 'shear_modulus': 104.686, 'universal_anisotropy': 1.908}}, {MPID(mp-1002206): {'elec_cond': 4.60604, 'therm_cond': 1.0732299999999999e-05, 'bulk_modulus': 252.718, 'shear_modulus': 244.745, 'universal_anisotropy': 1.185}}, {MPID(mp-1128): {'elec_cond': 6.74154, 'therm_cond': 1.0749e-05, 'bulk_modulus': 225.979, 'shear_modulus': 99.353, 'universal_anisotropy': 1.497}}, {MPID(mp-972845): {'elec_cond': 6.72975, 'therm_cond': 1.07607e-05, 'bulk_modulus': 204.669, 'shear_modulus': 113.067, 'universal_anisotropy': 1.34}}, {MPID(mp-10015): {'elec_cond': 5.64264, 'therm_cond': 1.07706e-05, 'bulk_modulus': 290.957, 'shear_modulus': 136.168, 'universal_anisotropy': 1.38}}, {MPID(mp-20418): {'elec_cond': 6.77117, 'therm_cond': 1.07708e-05, 'bulk_modulus': 226.79, 'shear_modulus': 80.839, 'universal_anisotropy': 1.011}}, {MPID(mp-381): {'elec_cond': 5.97788, 'therm_cond': 1.07801e-05, 'bulk_modulus': 257.369, 'shear_modulus': 105.83, 'universal_anisotropy': 1.575}}, {MPID(mp-856): {'elec_cond': 5.82151, 'therm_cond': 1.0782e-05, 'bulk_modulus': 176.318, 'shear_modulus': 97.241, 'universal_anisotropy': 1.324}}, {MPID(mp-242): {'elec_cond': 9.28375, 'therm_cond': 1.07871e-05, 'bulk_modulus': 144.836, 'shear_modulus': 123.639, 'universal_anisotropy': 1.336}}, {MPID(mp-768342): {'elec_cond': 6.98912, 'therm_cond': 1.07872e-05, 'bulk_modulus': 148.219, 'shear_modulus': 84.259, 'universal_anisotropy': 1.998}}, {MPID(mp-972309): {'elec_cond': 6.38269, 'therm_cond': 1.07946e-05, 'bulk_modulus': 247.64, 'shear_modulus': 99.708, 'universal_anisotropy': 1.618}}, {MPID(mp-2220557): {'elec_cond': 9.07137, 'therm_cond': 1.07969e-05, 'bulk_modulus': 146.286, 'shear_modulus': 84.338, 'universal_anisotropy': 1.401}}, {MPID(mp-675172): {'elec_cond': 6.40216, 'therm_cond': 1.0798e-05, 'bulk_modulus': 216.442, 'shear_modulus': 135.023, 'universal_anisotropy': 1.504}}, {MPID(mp-570604): {'elec_cond': 6.90584, 'therm_cond': 1.08055e-05, 'bulk_modulus': 328.673, 'shear_modulus': 204.915, 'universal_anisotropy': 1.187}}, {MPID(mp-1157): {'elec_cond': 5.6449, 'therm_cond': 1.08132e-05, 'bulk_modulus': 213.605, 'shear_modulus': 93.969, 'universal_anisotropy': 1.128}}, {MPID(mp-20994): {'elec_cond': 5.54998, 'therm_cond': 1.08179e-05, 'bulk_modulus': 255.635, 'shear_modulus': 127.037, 'universal_anisotropy': 1.336}}, {MPID(mp-30835): {'elec_cond': 4.25063, 'therm_cond': 1.08206e-05, 'bulk_modulus': 206.923, 'shear_modulus': 84.665, 'universal_anisotropy': 1.734}}, {MPID(mp-999117): {'elec_cond': 11.2995, 'therm_cond': 1.08254e-05, 'bulk_modulus': 356.635, 'shear_modulus': 162.846, 'universal_anisotropy': 1.542}}, {MPID(mp-33137): {'elec_cond': 3.26486, 'therm_cond': 1.08295e-05, 'bulk_modulus': 256.484, 'shear_modulus': 126.647, 'universal_anisotropy': 1.54}}, {MPID(mp-1756): {'elec_cond': 8.23334, 'therm_cond': 1.08306e-05, 'bulk_modulus': 195.95, 'shear_modulus': 156.187, 'universal_anisotropy': 1.8}}, {MPID(mp-755875): {'elec_cond': 6.24468, 'therm_cond': 1.08535e-05, 'bulk_modulus': 180.957, 'shear_modulus': 103.661, 'universal_anisotropy': 1.241}}, {MPID(mp-10734): {'elec_cond': 5.41547, 'therm_cond': 1.08592e-05, 'bulk_modulus': 207.966, 'shear_modulus': 100.616, 'universal_anisotropy': 1.266}}, {MPID(mp-11279): {'elec_cond': 4.5799, 'therm_cond': 1.086e-05, 'bulk_modulus': 124.845, 'shear_modulus': 83.187, 'universal_anisotropy': 1.476}}, {MPID(mp-608): {'elec_cond': 4.06895, 'therm_cond': 1.08632e-05, 'bulk_modulus': 142.93, 'shear_modulus': 107.544, 'universal_anisotropy': 1.622}}, {MPID(mp-1018012): {'elec_cond': 5.28893, 'therm_cond': 1.08652e-05, 'bulk_modulus': 197.425, 'shear_modulus': 80.874, 'universal_anisotropy': 1.294}}, {MPID(mp-865678): {'elec_cond': 6.09991, 'therm_cond': 1.08656e-05, 'bulk_modulus': 195.509, 'shear_modulus': 84.518, 'universal_anisotropy': 1.209}}, {MPID(mp-2657): {'elec_cond': 4.3559, 'therm_cond': 1.08702e-05, 'bulk_modulus': 213.77, 'shear_modulus': 122.004, 'universal_anisotropy': 1.629}}, {MPID(mp-980203): {'elec_cond': 5.27728, 'therm_cond': 1.08753e-05, 'bulk_modulus': 308.449, 'shear_modulus': 122.377, 'universal_anisotropy': 1.236}}, {MPID(mp-554462): {'elec_cond': 5.200010000000001, 'therm_cond': 1.08895e-05, 'bulk_modulus': 140.376, 'shear_modulus': 103.789, 'universal_anisotropy': 1.253}}, {MPID(mp-568789): {'elec_cond': 4.27529, 'therm_cond': 1.09e-05, 'bulk_modulus': 115.093, 'shear_modulus': 83.584, 'universal_anisotropy': 1.283}}, {MPID(mp-10857): {'elec_cond': 7.15979, 'therm_cond': 1.09143e-05, 'bulk_modulus': 209.185, 'shear_modulus': 132.002, 'universal_anisotropy': 1.135}}, {MPID(mp-20924): {'elec_cond': 4.20757, 'therm_cond': 1.09155e-05, 'bulk_modulus': 177.411, 'shear_modulus': 99.839, 'universal_anisotropy': 1.278}}, {MPID(mp-1025264): {'elec_cond': 6.74925, 'therm_cond': 1.09309e-05, 'bulk_modulus': 193.682, 'shear_modulus': 103.803, 'universal_anisotropy': 1.208}}, {MPID(mp-1865): {'elec_cond': 8.61785, 'therm_cond': 1.09371e-05, 'bulk_modulus': 206.53, 'shear_modulus': 81.652, 'universal_anisotropy': 1.431}}, {MPID(mp-1776): {'elec_cond': 5.83423, 'therm_cond': 1.09409e-05, 'bulk_modulus': 256.399, 'shear_modulus': 106.68, 'universal_anisotropy': 1.664}}, {MPID(mp-1025123): {'elec_cond': 6.30294, 'therm_cond': 1.09578e-05, 'bulk_modulus': 243.517, 'shear_modulus': 101.429, 'universal_anisotropy': 1.161}}, {MPID(mp-27769): {'elec_cond': 4.93645, 'therm_cond': 1.09601e-05, 'bulk_modulus': 196.809, 'shear_modulus': 87.423, 'universal_anisotropy': 1.727}}, {MPID(mp-865465): {'elec_cond': 3.52594, 'therm_cond': 1.09638e-05, 'bulk_modulus': 197.789, 'shear_modulus': 90.579, 'universal_anisotropy': 1.217}}, {MPID(mp-22790): {'elec_cond': 8.34939, 'therm_cond': 1.09657e-05, 'bulk_modulus': 199.274, 'shear_modulus': 96.193, 'universal_anisotropy': 1.02}}, {MPID(mp-865471): {'elec_cond': 4.82724, 'therm_cond': 1.0966e-05, 'bulk_modulus': 229.778, 'shear_modulus': 86.908, 'universal_anisotropy': 1.119}}, {MPID(mp-11531): {'elec_cond': 4.98872, 'therm_cond': 1.09662e-05, 'bulk_modulus': 230.451, 'shear_modulus': 96.964, 'universal_anisotropy': 1.546}}, {MPID(mp-11549): {'elec_cond': 7.18182, 'therm_cond': 1.09703e-05, 'bulk_modulus': 192.611, 'shear_modulus': 86.431, 'universal_anisotropy': 1.133}}, {MPID(mp-873): {'elec_cond': 2.77574, 'therm_cond': 1.09731e-05, 'bulk_modulus': 190.818, 'shear_modulus': 83.315, 'universal_anisotropy': 1.162}}, {MPID(mp-1008630): {'elec_cond': 2.87446, 'therm_cond': 1.0974e-05, 'bulk_modulus': 366.4, 'shear_modulus': 265.906, 'universal_anisotropy': 1.599}}, {MPID(mp-1004526): {'elec_cond': 7.43527, 'therm_cond': 1.09939e-05, 'bulk_modulus': 178.414, 'shear_modulus': 84.67, 'universal_anisotropy': 1.14}}, {MPID(mp-15955): {'elec_cond': 6.89499, 'therm_cond': 1.09949e-05, 'bulk_modulus': 195.332, 'shear_modulus': 120.125, 'universal_anisotropy': 1.325}}, {MPID(mp-756214): {'elec_cond': 4.10284, 'therm_cond': 1.09971e-05, 'bulk_modulus': 190.921, 'shear_modulus': 98.613, 'universal_anisotropy': 1.681}}, {MPID(mp-1017533): {'elec_cond': 10.0369, 'therm_cond': 1.10156e-05, 'bulk_modulus': 146.333, 'shear_modulus': 100.941, 'universal_anisotropy': 1.859}}, {MPID(mp-1016876): {'elec_cond': 7.77306, 'therm_cond': 1.10343e-05, 'bulk_modulus': 235.713, 'shear_modulus': 118.072, 'universal_anisotropy': 1.1}}, {MPID(mp-1014265): {'elec_cond': 6.03706, 'therm_cond': 1.10547e-05, 'bulk_modulus': 175.065, 'shear_modulus': 101.81, 'universal_anisotropy': 1.727}}, {MPID(mp-2525045): {'elec_cond': 9.98374, 'therm_cond': 1.10614e-05, 'bulk_modulus': 170.364, 'shear_modulus': 86.501, 'universal_anisotropy': 1.071}}, {MPID(mp-1014246): {'elec_cond': 4.96879, 'therm_cond': 1.10627e-05, 'bulk_modulus': 159.888, 'shear_modulus': 93.776, 'universal_anisotropy': 1.23}}, {MPID(mp-451): {'elec_cond': 4.79942, 'therm_cond': 1.10633e-05, 'bulk_modulus': 160.149, 'shear_modulus': 90.827, 'universal_anisotropy': 1.367}}, {MPID(mp-22227): {'elec_cond': 7.42072, 'therm_cond': 1.10647e-05, 'bulk_modulus': 146.313, 'shear_modulus': 89.793, 'universal_anisotropy': 1.136}}, {MPID(mp-1565): {'elec_cond': 3.83907, 'therm_cond': 1.10724e-05, 'bulk_modulus': 235.389, 'shear_modulus': 119.559, 'universal_anisotropy': 1.834}}, {MPID(mp-755759): {'elec_cond': 8.25751, 'therm_cond': 1.10741e-05, 'bulk_modulus': 217.152, 'shear_modulus': 91.464, 'universal_anisotropy': 1.335}}, {MPID(mp-775909): {'elec_cond': 5.81275, 'therm_cond': 1.10796e-05, 'bulk_modulus': 198.699, 'shear_modulus': 104.365, 'universal_anisotropy': 1.524}}, {MPID(mp-4820): {'elec_cond': 5.5672, 'therm_cond': 1.10952e-05, 'bulk_modulus': 205.354, 'shear_modulus': 105.682, 'universal_anisotropy': 1.016}}]}\n"
     ]
    }
   ],
   "source": [
    "# Display the mp-ids of the potential options for each of the composite materials\n",
    "# # matches_dict = HS.get_material_matches(consolidated_dict=consolidated_dict)\n",
    "# matches_dict = HS.get_material_matches()\n",
    "print(f\"overall bounds dict: {overall_bounds_dict, user_input}\")\n",
    "matches_dict = HS.get_material_matches(overall_bounds_dict, user_input)\n",
    "print(\"Material Matches:\")\n",
    "print(matches_dict)"
   ]
  },
  {
   "cell_type": "code",
   "execution_count": 7,
   "metadata": {},
   "outputs": [
    {
     "name": "stdout",
     "output_type": "stream",
     "text": [
      "\u001b[0;31m---------------------------------------------------------------------------\u001b[0m\n",
      "\u001b[0;31mNameError\u001b[0m                                 Traceback (most recent call last)\n",
      "Input \u001b[0;32mIn [7]\u001b[0m, in \u001b[0;36m<cell line: 7>\u001b[0;34m()\u001b[0m\n",
      "\u001b[1;32m      1\u001b[0m \u001b[38;5;66;03m# Sometimes the Composites Discovery App may not return results and you need to broaden your search\u001b[39;00m\n",
      "\u001b[1;32m      2\u001b[0m \u001b[38;5;66;03m# The code below shows how matches are evaluated once they are found\u001b[39;00m\n",
      "\u001b[1;32m      3\u001b[0m \u001b[38;5;66;03m# mat_1_ids = [\"mp-1509\", \"mp-546266\", \"mp-12863\", \"mp-16290\"]\u001b[39;00m\n",
      "\u001b[1;32m      4\u001b[0m \u001b[38;5;66;03m# mat_2_ids = [\"mp-12863\", \"mp-546266\",]\u001b[39;00m\n",
      "\u001b[1;32m      5\u001b[0m \u001b[38;5;66;03m# mat_3_ids = [\"mp-546266\"]\u001b[39;00m\n",
      "\u001b[1;32m      6\u001b[0m \u001b[38;5;66;03m# matches_dict = {'mat1': mat_1_ids, 'mat2': mat_2_ids, 'mat3': mat_3_ids}\u001b[39;00m\n",
      "\u001b[0;32m----> 7\u001b[0m HS\u001b[38;5;241m.\u001b[39mget_material_match_costs(matches_dict\u001b[38;5;241m=\u001b[39mmatches_dict, consolidated_dict\u001b[38;5;241m=\u001b[39m\u001b[43mconsolidated_dict\u001b[49m)\n",
      "\n",
      "\u001b[0;31mNameError\u001b[0m: name 'consolidated_dict' is not defined\n"
     ]
    }
   ],
   "source": [
    "# Sometimes the Composites Discovery App may not return results and you need to broaden your search\n",
    "# The code below shows how matches are evaluated once they are found\n",
    "# mat_1_ids = [\"mp-1509\", \"mp-546266\", \"mp-12863\", \"mp-16290\"]\n",
    "# mat_2_ids = [\"mp-12863\", \"mp-546266\",]\n",
    "# mat_3_ids = [\"mp-546266\"]\n",
    "# matches_dict = {'mat1': mat_1_ids, 'mat2': mat_2_ids, 'mat3': mat_3_ids}\n",
    "HS.get_material_match_costs(matches_dict=matches_dict, consolidated_dict=consolidated_dict)"
   ]
  },
  {
   "cell_type": "code",
   "execution_count": null,
   "metadata": {},
   "outputs": [],
   "source": []
  }
 ],
 "metadata": {
  "kernelspec": {
   "display_name": "carla_mp_api",
   "language": "python",
   "name": "python3"
  },
  "language_info": {
   "codemirror_mode": {
    "name": "ipython",
    "version": 3
   },
   "file_extension": ".py",
   "mimetype": "text/x-python",
   "name": "python",
   "nbconvert_exporter": "python",
   "pygments_lexer": "ipython3",
   "version": "3.9.18"
  }
 },
 "nbformat": 4,
 "nbformat_minor": 2
}
