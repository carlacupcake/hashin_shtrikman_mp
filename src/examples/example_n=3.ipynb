{
 "cells": [
  {
   "cell_type": "markdown",
   "metadata": {},
   "source": [
    "## Testing the Composites Discovery App with n=3 phases"
   ]
  },
  {
   "cell_type": "code",
   "execution_count": 3,
   "metadata": {},
   "outputs": [
    {
     "name": "stdout",
     "output_type": "stream",
     "text": [
      "User Input:  {'mat_1': {'elec_cond_300k_low_doping': {'upper_bound': 78.0, 'lower_bound': 1e-07}, 'therm_cond_300k_low_doping': {'upper_bound': 2.0, 'lower_bound': 1e-07}, 'bulk_modulus': {'upper_bound': 100.0, 'lower_bound': 50.0}, 'shear_modulus': {'upper_bound': 100.0, 'lower_bound': 80.0}, 'universal_anisotropy': {'upper_bound': 2.0, 'lower_bound': 1.0}}, 'mat_2': {'elec_cond_300k_low_doping': {'upper_bound': 78.0, 'lower_bound': 1e-07}, 'therm_cond_300k_low_doping': {'upper_bound': 2.0, 'lower_bound': 1e-07}, 'bulk_modulus': {'upper_bound': 400.0, 'lower_bound': 20.0}, 'shear_modulus': {'upper_bound': 200.0, 'lower_bound': 100.0}, 'universal_anisotropy': {'upper_bound': 2.3, 'lower_bound': 1.3}}, 'mat_3': {'elec_cond_300k_low_doping': {'upper_bound': 78.0, 'lower_bound': 1e-07}, 'therm_cond_300k_low_doping': {'upper_bound': 2.0, 'lower_bound': 1e-07}, 'bulk_modulus': {'upper_bound': 300.0, 'lower_bound': 20.0}, 'shear_modulus': {'upper_bound': 300.0, 'lower_bound': 100.0}, 'universal_anisotropy': {'upper_bound': 2.1, 'lower_bound': 0.9}}, 'mixture': {'elec_cond_300k_low_doping': {'desired_prop': 9.0}, 'therm_cond_300k_low_doping': {'desired_prop': 0.007}, 'bulk_modulus': {'desired_prop': 234.0}, 'shear_modulus': {'desired_prop': 150.0}, 'universal_anisotropy': {'desired_prop': 1.5}}}\n",
      "Overall Upper & Lower Bounds:\n",
      "Property: elec_cond_300k_low_doping, Upper Bound: 78.0, Lower Bound: 1e-07\n",
      "Property: therm_cond_300k_low_doping, Upper Bound: 2.0, Lower Bound: 1e-07\n",
      "Property: bulk_modulus, Upper Bound: 400.0, Lower Bound: 20.0\n",
      "Property: shear_modulus, Upper Bound: 300.0, Lower Bound: 80.0\n",
      "Property: universal_anisotropy, Upper Bound: 2.3, Lower Bound: 0.9\n",
      "{'elec_cond_300k_low_doping': {'upper_bound': 78.0, 'lower_bound': 1e-07}, 'therm_cond_300k_low_doping': {'upper_bound': 2.0, 'lower_bound': 1e-07}, 'bulk_modulus': {'upper_bound': 400.0, 'lower_bound': 20.0}, 'shear_modulus': {'upper_bound': 300.0, 'lower_bound': 80.0}, 'universal_anisotropy': {'upper_bound': 2.3, 'lower_bound': 0.9}}\n"
     ]
    }
   ],
   "source": [
    "import sys  \n",
    "sys.path.insert(1, '../core')\n",
    "from user_input import MaterialProperty, Material, MixtureProperty, Mixture, UserInput\n",
    "\n",
    "# Define properties for each material\n",
    "properties_mat_1 = [\n",
    "    MaterialProperty(prop='elec_cond_300k_low_doping', upper_bound=78, lower_bound=1e-7), # upper_bound=20, lower_bound=1 \n",
    "    MaterialProperty(prop='therm_cond_300k_low_doping', upper_bound=2, lower_bound=1e-7), # upper_bound=0.0001, lower_bound=1e-5 \n",
    "    MaterialProperty(prop='bulk_modulus', upper_bound=100, lower_bound=50),\n",
    "    MaterialProperty(prop='shear_modulus', upper_bound=100, lower_bound=80),\n",
    "    MaterialProperty(prop='universal_anisotropy', upper_bound=2, lower_bound=1),\n",
    "]\n",
    "\n",
    "properties_mat_2 = [\n",
    "    MaterialProperty(prop='elec_cond_300k_low_doping', upper_bound=78, lower_bound=1e-7), # upper_bound=5, lower_bound=2\n",
    "    MaterialProperty(prop='therm_cond_300k_low_doping', upper_bound=2, lower_bound=1e-7), # upper_bound=0.009, lower_bound=1e-4\n",
    "    MaterialProperty(prop='bulk_modulus', upper_bound=400, lower_bound=20),\n",
    "    MaterialProperty(prop='shear_modulus', upper_bound=200, lower_bound=100),\n",
    "    MaterialProperty(prop='universal_anisotropy', upper_bound=2.3, lower_bound=1.3),\n",
    "]\n",
    "\n",
    "properties_mat_3 = [\n",
    "    MaterialProperty(prop='elec_cond_300k_low_doping', upper_bound=78, lower_bound=1e-7), # upper_bound=10, lower_bound=1\n",
    "    MaterialProperty(prop='therm_cond_300k_low_doping', upper_bound=2, lower_bound=1e-7), # upper_bound=0.005, lower_bound=1e-4\n",
    "    MaterialProperty(prop='bulk_modulus', upper_bound=300, lower_bound=20),\n",
    "    MaterialProperty(prop='shear_modulus', upper_bound=300, lower_bound=100),\n",
    "    MaterialProperty(prop='universal_anisotropy', upper_bound=2.1, lower_bound=0.9),\n",
    "]\n",
    "\n",
    "# Define properties for the mixture\n",
    "properties_mixture = [\n",
    "    MixtureProperty(prop='elec_cond_300k_low_doping', desired_prop=9),\n",
    "    MixtureProperty(prop='therm_cond_300k_low_doping', desired_prop=0.007),\n",
    "    MixtureProperty(prop='bulk_modulus', desired_prop=234),\n",
    "    MixtureProperty(prop='shear_modulus', desired_prop=150),\n",
    "    MixtureProperty(prop='universal_anisotropy', desired_prop=1.5),\n",
    "]\n",
    "\n",
    "# Create Material & Mixture instances\n",
    "mat_1 = Material(name='mat_1', properties=properties_mat_1)\n",
    "mat_2 = Material(name='mat_2', properties=properties_mat_2)\n",
    "mat_3 = Material(name='mat_3', properties=properties_mat_3)\n",
    "mixture = Mixture(name='mixture', properties=properties_mixture)\n",
    "aggregate = [mat_1, mat_2, mat_3, mixture]\n",
    "\n",
    "# Initialize UserInput instance with materials and mixtures\n",
    "user_input= UserInput(materials=[mat_1, mat_2, mat_3], mixtures=[mixture])\n",
    "print(\"User Input: \", user_input)\n",
    "\n",
    "# Initialize dictionaries to store the overall upper and lower bounds for each property\n",
    "overall_bounds = {}\n",
    "\n",
    "# Iterate over materials\n",
    "for entity in aggregate:\n",
    "    # Skip the mixture as it doesn't have upper and lower bounds\n",
    "    if isinstance(entity, Material):\n",
    "        for property in entity.properties:\n",
    "            prop_name = property.prop\n",
    "\n",
    "            # Initialize the overall bounds if they are not already present for the property\n",
    "            if prop_name not in overall_bounds:\n",
    "                overall_bounds[prop_name] = {'upper_bound': property.upper_bound, 'lower_bound': property.lower_bound}\n",
    "            else:\n",
    "                # Update overall upper and lower bounds by comparing with existing values\n",
    "                overall_bounds[prop_name]['upper_bound'] = max(overall_bounds[prop_name]['upper_bound'], property.upper_bound)\n",
    "                overall_bounds[prop_name]['lower_bound'] = min(overall_bounds[prop_name]['lower_bound'], property.lower_bound)\n",
    "\n",
    "# Print the overall bounds for each property\n",
    "print(\"Overall Upper & Lower Bounds:\")\n",
    "for prop, bounds in overall_bounds.items():\n",
    "    print(f\"Property: {prop}, Upper Bound: {bounds['upper_bound']}, Lower Bound: {bounds['lower_bound']}\")\n",
    "\n",
    "# Step 1: Create the consolidated_dict\n",
    "overall_bounds_dict = {}\n",
    "for prop, bounds in overall_bounds.items():\n",
    "    overall_bounds_dict[prop] = {\n",
    "        'upper_bound': bounds['upper_bound'],\n",
    "        'lower_bound': bounds['lower_bound']\n",
    "    }\n",
    "\n",
    "print(overall_bounds_dict)"
   ]
  },
  {
   "cell_type": "code",
   "execution_count": 4,
   "metadata": {},
   "outputs": [
    {
     "name": "stderr",
     "output_type": "stream",
     "text": [
      "/Users/carlabecker/opt/anaconda3/envs/carla_mp_api/lib/python3.9/site-packages/mpcontribs/client/__init__.py:88: FutureWarning: use_inf_as_na option is deprecated and will be removed in a future version. Convert inf values to NaN before operating instead.\n",
      "  pd.set_option('mode.use_inf_as_na', True)\n",
      "2024-09-29 12:47:36,419 - custom_logger - INFO - Loading property categories from /Users/carlabecker/Library/Mobile Documents/com~apple~CloudDocs/Carla's Desktop/UC Berkeley/Research/Materials Project/hashin_shtrikman_mp/src/core/../io/inputs/mp_property_docs.yaml.\n",
      "2024-09-29 12:47:36,424 - custom_logger - INFO - property_categories = ['carrier-transport', 'elastic']\n",
      "2024-09-29 12:47:36,425 - custom_logger - INFO - mixture_props = {'elec_cond_300k_low_doping': {'desired_prop': 9.0}, 'therm_cond_300k_low_doping': {'desired_prop': 0.007}, 'bulk_modulus': {'desired_prop': 234.0}, 'shear_modulus': {'desired_prop': 150.0}, 'universal_anisotropy': {'desired_prop': 1.5}}\n"
     ]
    },
    {
     "name": "stdout",
     "output_type": "stream",
     "text": [
      "self.nuild_dict: <bound method UserInput.build_dict of {'mat_1': {'elec_cond_300k_low_doping': {'upper_bound': 78.0, 'lower_bound': 1e-07}, 'therm_cond_300k_low_doping': {'upper_bound': 2.0, 'lower_bound': 1e-07}, 'bulk_modulus': {'upper_bound': 100.0, 'lower_bound': 50.0}, 'shear_modulus': {'upper_bound': 100.0, 'lower_bound': 80.0}, 'universal_anisotropy': {'upper_bound': 2.0, 'lower_bound': 1.0}}, 'mat_2': {'elec_cond_300k_low_doping': {'upper_bound': 78.0, 'lower_bound': 1e-07}, 'therm_cond_300k_low_doping': {'upper_bound': 2.0, 'lower_bound': 1e-07}, 'bulk_modulus': {'upper_bound': 400.0, 'lower_bound': 20.0}, 'shear_modulus': {'upper_bound': 200.0, 'lower_bound': 100.0}, 'universal_anisotropy': {'upper_bound': 2.3, 'lower_bound': 1.3}}, 'mat_3': {'elec_cond_300k_low_doping': {'upper_bound': 78.0, 'lower_bound': 1e-07}, 'therm_cond_300k_low_doping': {'upper_bound': 2.0, 'lower_bound': 1e-07}, 'bulk_modulus': {'upper_bound': 300.0, 'lower_bound': 20.0}, 'shear_modulus': {'upper_bound': 300.0, 'lower_bound': 100.0}, 'universal_anisotropy': {'upper_bound': 2.1, 'lower_bound': 0.9}}, 'mixture': {'elec_cond_300k_low_doping': {'desired_prop': 9.0}, 'therm_cond_300k_low_doping': {'desired_prop': 0.007}, 'bulk_modulus': {'desired_prop': 234.0}, 'shear_modulus': {'desired_prop': 150.0}, 'universal_anisotropy': {'desired_prop': 1.5}}}>\n",
      "Property categories:  ['carrier-transport', 'elastic']\n",
      "Property docs:  {'carrier-transport': {'elec_cond_300k_low_doping': None, 'therm_cond_300k_low_doping': None}, 'dielectric': {'e_electronic': None, 'e_ionic': None, 'e_total': None, 'n': None}, 'elastic': {'bulk_modulus': 'voigt', 'shear_modulus': 'voigt', 'universal_anisotropy': None}, 'magnetic': {'total_magnetization': None, 'total_magnetization_normalized_vol': None}, 'piezoelectric': {'e_ij_max': None}}\n",
      "Lower Bounds: {'mat_1': {'carrier-transport': [1e-07, 1e-07], 'elastic': [50.0, 80.0, 1.0]}, 'mat_2': {'carrier-transport': [1e-07, 1e-07], 'elastic': [20.0, 100.0, 1.3]}, 'mat_3': {'carrier-transport': [1e-07, 1e-07], 'elastic': [20.0, 100.0, 0.9]}, 'volume-fractions': [0.01, 0.01, 0.01]}\n",
      "Upper Bounds: {'mat_1': {'carrier-transport': [78.0, 2.0], 'elastic': [100.0, 100.0, 2.0]}, 'mat_2': {'carrier-transport': [78.0, 2.0], 'elastic': [400.0, 200.0, 2.3]}, 'mat_3': {'carrier-transport': [78.0, 2.0], 'elastic': [300.0, 300.0, 2.1]}, 'volume-fractions': [0.99, 0.99, 0.99]}\n",
      "Number of Materials: 3\n",
      "Number of Properties: 6\n"
     ]
    }
   ],
   "source": [
    "from optimization import HashinShtrikman\n",
    "HS = HashinShtrikman(api_key=\"uJpFxJJGKCSp9s1shwg9HmDuNjCDfWbM\", user_input=user_input)\n",
    "\n",
    "print(\"Property categories: \", HS.property_categories)\n",
    "print(\"Property docs: \", HS.property_docs)\n",
    "\n",
    "print(\"Lower Bounds:\", HS.lower_bounds)\n",
    "print(\"Upper Bounds:\", HS.upper_bounds)\n",
    "\n",
    "print(\"Number of Materials:\", HS.num_materials)\n",
    "print(\"Number of Properties:\", HS.num_properties)"
   ]
  },
  {
   "cell_type": "code",
   "execution_count": 5,
   "metadata": {},
   "outputs": [
    {
     "name": "stdout",
     "output_type": "stream",
     "text": [
      "{'material_id': ['mp-546266', 'mp-12863', 'mp-1509', 'mp-1029799', 'mp-16290'], 'is_stable': [True, False, True, True, False], 'band_gap': [1.3667999999999996, 0.0, 0.7774000000000001, 1.0132999999999996, 0.0], 'is_metal': [False, True, False, False, True], 'formula_pretty': ['DyBi2IO4', 'Ba(AlSi)2', 'Sn2S3', 'Sr4TiN4', 'ZnNi3C'], 'mp-ids-contrib': ['mp-546266', 'mp-12863', 'mp-1509', 'mp-22192', 'mp-16290'], 'elec_cond_300k_low_doping': [12.7262, 2642302.9999999995, 3.71323, 2.23963, 2548302.4], 'therm_cond_300k_low_doping': [7.1457e-05, 19.2792, 1.90284e-05, 3.3981e-05, 17.8791], 'bulk_modulus': [74.071, 46.928, 20.346, 73.379, 194.302], 'shear_modulus': [40.463, 23.063, 13.493, 36.558, 64.537], 'universal_anisotropy': [1.443, 24.189, 2.364, 0.956, 2.102]}\n"
     ]
    }
   ],
   "source": [
    "# Testing without calls to generate final dict (faster)\n",
    "import json\n",
    "consolidated_dict = {}\n",
    "with open(\"consolidated_dict_02_11_2024_23_45_58\") as f:\n",
    "    consolidated_dict = json.load(f)\n",
    "print(consolidated_dict)"
   ]
  },
  {
   "cell_type": "code",
   "execution_count": 6,
   "metadata": {},
   "outputs": [],
   "source": [
    "# Run the optimization to obtain n=3 materials and their volume fractions that achieve the desired composite material properties\n",
    "HS.set_HS_optim_params(gen_counter=False)"
   ]
  },
  {
   "cell_type": "code",
   "execution_count": 7,
   "metadata": {},
   "outputs": [
    {
     "data": {
      "application/vnd.plotly.v1+json": {
       "config": {
        "plotlyServerURL": "https://plot.ly"
       },
       "data": [
        {
         "cells": {
          "align": "left",
          "fill": {
           "color": [
            [
             "white",
             "lightgrey",
             "white",
             "lightgrey",
             "white",
             "lightgrey",
             "white",
             "lightgrey",
             "white",
             "lightgrey"
            ]
           ]
          },
          "font": {
           "size": 12
          },
          "height": 30,
          "values": [
           [
            30.35903669791309,
            30.341171021943264,
            30.305255466534813,
            30.283102284123995,
            29.91254851138492,
            29.87701411989491,
            29.853853977982006,
            29.850937348954226,
            29.45045600773604,
            28.904950239123185
           ],
           [
            1.8363621841041817,
            1.8352768358159652,
            1.8330949487914427,
            1.8317491324535256,
            1.8092378150192634,
            1.807079083883558,
            1.805672094278325,
            1.8054949076816347,
            1.7811654762686948,
            1.748025742111645
           ],
           [
            60.7845988979916,
            60.81171306920429,
            60.86622097140669,
            60.89984215550335,
            61.46221989338024,
            61.51614931516231,
            61.551298729838635,
            61.555725205442286,
            62.16352306719762,
            62.9914199143505
           ],
           [
            82.34889252662127,
            82.35016524376815,
            82.35272380037047,
            82.35430195141046,
            82.38069950508822,
            82.38323090829005,
            82.38488079323066,
            82.38508856839579,
            82.41361810575172,
            82.45247891049279
           ],
           [
            1.1622853316214883,
            1.1628526018440917,
            1.1639929911104074,
            1.1646963980645457,
            1.1764622065065653,
            1.177590493071521,
            1.1783258729631434,
            1.1784184816503622,
            1.1911345490393028,
            1.208455426195868
           ],
           [
            0.2247237037546531,
            0.2741475909558052,
            0.37350494873346185,
            0.4347898612365177,
            1.4598956505023233,
            1.558198550416657,
            1.6222691315353788,
            1.6303377399843513,
            2.7382356257380858,
            4.247331370059874
           ],
           [
            0.5423496108226872,
            0.5429909097329826,
            0.5442801196450503,
            0.5450753211120212,
            0.5583765659719828,
            0.5596520937817919,
            0.560483440650285,
            0.5605881347587202,
            0.5749636472302658,
            0.5945448965242794
           ],
           [
            395.52680416904974,
            395.3734214717865,
            395.0650746299676,
            394.87488228141757,
            391.6935564116448,
            391.38848198728215,
            391.18964456060996,
            391.16460434226315,
            387.7263404655765,
            383.04299423765855
           ],
           [
            164.29506867108907,
            164.31936548890923,
            164.36820963609637,
            164.3983373423237,
            164.9022800716115,
            164.95060584656906,
            164.98210298945338,
            164.98606952305985,
            165.53071290539685,
            166.2725854380794
           ],
           [
            2.000765912778184,
            2.0003121947700397,
            1.9994000807090417,
            1.9988374768750492,
            1.989426866273947,
            1.9885244322795828,
            1.9879362556287354,
            1.9878621847055185,
            1.9776915313956,
            1.963837827164972
           ],
           [
            19.364168687663298,
            19.357422806006213,
            19.343861489499456,
            19.335496692828812,
            19.19557968645825,
            19.182162293231535,
            19.173417279789582,
            19.17231599292575,
            19.02109866768758,
            18.815121722592686
           ],
           [
            1.6117422763540752,
            1.6115806577059373,
            1.611255754045866,
            1.6110553492361495,
            1.6077032006852812,
            1.60738174515655,
            1.6071722310674683,
            1.6071458463036683,
            1.6035229633474621,
            1.5985881427997481
           ],
           [
            195.62286739061415,
            195.60645407063421,
            195.5734582016745,
            195.55310591989704,
            195.21267560805123,
            195.18002991701758,
            195.1587525345866,
            195.15607300734248,
            194.7881480315109,
            194.2869881119941
           ],
           [
            281.7363313288075,
            281.6884510831,
            281.5921969239749,
            281.53282610482285,
            280.539737138217,
            280.4445045033879,
            280.3824350195753,
            280.37461841556194,
            279.30132317326706,
            277.83936056518235
           ],
           [
            1.5438989118942132,
            1.5441245867718525,
            1.544578263340589,
            1.544858096957762,
            1.5495388421734975,
            1.5499877039722358,
            1.5502802572571563,
            1.5503170994063187,
            1.5553758823949304,
            1.562266578710654
           ],
           [
            0.7774585703147907,
            0.7771750675015958,
            0.7766051388287067,
            0.7762535993993959,
            0.7703734391866552,
            0.7698095590418681,
            0.7694420406005067,
            0.7693957578549885,
            0.7630406897870825,
            0.754384290763785
           ],
           [
            0.22026754977967117,
            0.2205478044945623,
            0.22111120348143237,
            0.22145871531535122,
            0.22727150639620358,
            0.22782892615309835,
            0.22819223392715618,
            0.22823798641018592,
            0.23452024431589624,
            0.24307746677488623
           ],
           [
            0.0022738799055381786,
            0.0022771280038419357,
            0.002283657689860964,
            0.002287685285252984,
            0.0023550544171412613,
            0.0023615148050335896,
            0.002365725472337144,
            0.002366255734825607,
            0.0024390658970212024,
            0.002538242461328841
           ],
           [
            4.9,
            4.918,
            4.95,
            4.968,
            5.164,
            5.177,
            5.184,
            5.185,
            5.312,
            5.448
           ]
          ]
         },
         "columnwidth": 1000,
         "header": {
          "align": "left",
          "fill": {
           "color": "lavender"
          },
          "font": {
           "size": 12
          },
          "height": 30,
          "values": [
           "Phase 1 Electrical conductivity, [S/m]",
           "Phase 2 Electrical conductivity, [S/m]",
           "Phase 3 Electrical conductivity, [S/m]",
           "Phase 1 Thermal conductivity, [W/m/K]",
           "Phase 2 Thermal conductivity, [W/m/K]",
           "Phase 3 Thermal conductivity, [W/m/K]",
           "Phase 1 Bulk modulus, [GPa]",
           "Phase 2 Bulk modulus, [GPa]",
           "Phase 3 Bulk modulus, [GPa]",
           "Phase 1 Shear modulus, [GPa]",
           "Phase 2 Shear modulus, [GPa]",
           "Phase 3 Shear modulus, [GPa]",
           "Phase 1 Universal anisotropy, []",
           "Phase 2 Universal anisotropy, []",
           "Phase 3 Universal anisotropy, []",
           "Phase 1 Volume Fraction",
           "Phase 2 Volume Fraction",
           "Phase 3 Volume Fraction",
           "cost"
          ]
         },
         "type": "table"
        }
       ],
       "layout": {
        "autosize": true,
        "height": 400,
        "margin": {
         "b": 0,
         "l": 0,
         "r": 0,
         "t": 40
        },
        "template": {
         "data": {
          "bar": [
           {
            "error_x": {
             "color": "rgb(36,36,36)"
            },
            "error_y": {
             "color": "rgb(36,36,36)"
            },
            "marker": {
             "line": {
              "color": "white",
              "width": 0.5
             },
             "pattern": {
              "fillmode": "overlay",
              "size": 10,
              "solidity": 0.2
             }
            },
            "type": "bar"
           }
          ],
          "barpolar": [
           {
            "marker": {
             "line": {
              "color": "white",
              "width": 0.5
             },
             "pattern": {
              "fillmode": "overlay",
              "size": 10,
              "solidity": 0.2
             }
            },
            "type": "barpolar"
           }
          ],
          "carpet": [
           {
            "aaxis": {
             "endlinecolor": "rgb(36,36,36)",
             "gridcolor": "white",
             "linecolor": "white",
             "minorgridcolor": "white",
             "startlinecolor": "rgb(36,36,36)"
            },
            "baxis": {
             "endlinecolor": "rgb(36,36,36)",
             "gridcolor": "white",
             "linecolor": "white",
             "minorgridcolor": "white",
             "startlinecolor": "rgb(36,36,36)"
            },
            "type": "carpet"
           }
          ],
          "choropleth": [
           {
            "colorbar": {
             "outlinewidth": 1,
             "tickcolor": "rgb(36,36,36)",
             "ticks": "outside"
            },
            "type": "choropleth"
           }
          ],
          "contour": [
           {
            "colorbar": {
             "outlinewidth": 1,
             "tickcolor": "rgb(36,36,36)",
             "ticks": "outside"
            },
            "colorscale": [
             [
              0,
              "#440154"
             ],
             [
              0.1111111111111111,
              "#482878"
             ],
             [
              0.2222222222222222,
              "#3e4989"
             ],
             [
              0.3333333333333333,
              "#31688e"
             ],
             [
              0.4444444444444444,
              "#26828e"
             ],
             [
              0.5555555555555556,
              "#1f9e89"
             ],
             [
              0.6666666666666666,
              "#35b779"
             ],
             [
              0.7777777777777778,
              "#6ece58"
             ],
             [
              0.8888888888888888,
              "#b5de2b"
             ],
             [
              1,
              "#fde725"
             ]
            ],
            "type": "contour"
           }
          ],
          "contourcarpet": [
           {
            "colorbar": {
             "outlinewidth": 1,
             "tickcolor": "rgb(36,36,36)",
             "ticks": "outside"
            },
            "type": "contourcarpet"
           }
          ],
          "heatmap": [
           {
            "colorbar": {
             "outlinewidth": 1,
             "tickcolor": "rgb(36,36,36)",
             "ticks": "outside"
            },
            "colorscale": [
             [
              0,
              "#440154"
             ],
             [
              0.1111111111111111,
              "#482878"
             ],
             [
              0.2222222222222222,
              "#3e4989"
             ],
             [
              0.3333333333333333,
              "#31688e"
             ],
             [
              0.4444444444444444,
              "#26828e"
             ],
             [
              0.5555555555555556,
              "#1f9e89"
             ],
             [
              0.6666666666666666,
              "#35b779"
             ],
             [
              0.7777777777777778,
              "#6ece58"
             ],
             [
              0.8888888888888888,
              "#b5de2b"
             ],
             [
              1,
              "#fde725"
             ]
            ],
            "type": "heatmap"
           }
          ],
          "heatmapgl": [
           {
            "colorbar": {
             "outlinewidth": 1,
             "tickcolor": "rgb(36,36,36)",
             "ticks": "outside"
            },
            "colorscale": [
             [
              0,
              "#440154"
             ],
             [
              0.1111111111111111,
              "#482878"
             ],
             [
              0.2222222222222222,
              "#3e4989"
             ],
             [
              0.3333333333333333,
              "#31688e"
             ],
             [
              0.4444444444444444,
              "#26828e"
             ],
             [
              0.5555555555555556,
              "#1f9e89"
             ],
             [
              0.6666666666666666,
              "#35b779"
             ],
             [
              0.7777777777777778,
              "#6ece58"
             ],
             [
              0.8888888888888888,
              "#b5de2b"
             ],
             [
              1,
              "#fde725"
             ]
            ],
            "type": "heatmapgl"
           }
          ],
          "histogram": [
           {
            "marker": {
             "line": {
              "color": "white",
              "width": 0.6
             }
            },
            "type": "histogram"
           }
          ],
          "histogram2d": [
           {
            "colorbar": {
             "outlinewidth": 1,
             "tickcolor": "rgb(36,36,36)",
             "ticks": "outside"
            },
            "colorscale": [
             [
              0,
              "#440154"
             ],
             [
              0.1111111111111111,
              "#482878"
             ],
             [
              0.2222222222222222,
              "#3e4989"
             ],
             [
              0.3333333333333333,
              "#31688e"
             ],
             [
              0.4444444444444444,
              "#26828e"
             ],
             [
              0.5555555555555556,
              "#1f9e89"
             ],
             [
              0.6666666666666666,
              "#35b779"
             ],
             [
              0.7777777777777778,
              "#6ece58"
             ],
             [
              0.8888888888888888,
              "#b5de2b"
             ],
             [
              1,
              "#fde725"
             ]
            ],
            "type": "histogram2d"
           }
          ],
          "histogram2dcontour": [
           {
            "colorbar": {
             "outlinewidth": 1,
             "tickcolor": "rgb(36,36,36)",
             "ticks": "outside"
            },
            "colorscale": [
             [
              0,
              "#440154"
             ],
             [
              0.1111111111111111,
              "#482878"
             ],
             [
              0.2222222222222222,
              "#3e4989"
             ],
             [
              0.3333333333333333,
              "#31688e"
             ],
             [
              0.4444444444444444,
              "#26828e"
             ],
             [
              0.5555555555555556,
              "#1f9e89"
             ],
             [
              0.6666666666666666,
              "#35b779"
             ],
             [
              0.7777777777777778,
              "#6ece58"
             ],
             [
              0.8888888888888888,
              "#b5de2b"
             ],
             [
              1,
              "#fde725"
             ]
            ],
            "type": "histogram2dcontour"
           }
          ],
          "mesh3d": [
           {
            "colorbar": {
             "outlinewidth": 1,
             "tickcolor": "rgb(36,36,36)",
             "ticks": "outside"
            },
            "type": "mesh3d"
           }
          ],
          "parcoords": [
           {
            "line": {
             "colorbar": {
              "outlinewidth": 1,
              "tickcolor": "rgb(36,36,36)",
              "ticks": "outside"
             }
            },
            "type": "parcoords"
           }
          ],
          "pie": [
           {
            "automargin": true,
            "type": "pie"
           }
          ],
          "scatter": [
           {
            "fillpattern": {
             "fillmode": "overlay",
             "size": 10,
             "solidity": 0.2
            },
            "type": "scatter"
           }
          ],
          "scatter3d": [
           {
            "line": {
             "colorbar": {
              "outlinewidth": 1,
              "tickcolor": "rgb(36,36,36)",
              "ticks": "outside"
             }
            },
            "marker": {
             "colorbar": {
              "outlinewidth": 1,
              "tickcolor": "rgb(36,36,36)",
              "ticks": "outside"
             }
            },
            "type": "scatter3d"
           }
          ],
          "scattercarpet": [
           {
            "marker": {
             "colorbar": {
              "outlinewidth": 1,
              "tickcolor": "rgb(36,36,36)",
              "ticks": "outside"
             }
            },
            "type": "scattercarpet"
           }
          ],
          "scattergeo": [
           {
            "marker": {
             "colorbar": {
              "outlinewidth": 1,
              "tickcolor": "rgb(36,36,36)",
              "ticks": "outside"
             }
            },
            "type": "scattergeo"
           }
          ],
          "scattergl": [
           {
            "marker": {
             "colorbar": {
              "outlinewidth": 1,
              "tickcolor": "rgb(36,36,36)",
              "ticks": "outside"
             }
            },
            "type": "scattergl"
           }
          ],
          "scattermapbox": [
           {
            "marker": {
             "colorbar": {
              "outlinewidth": 1,
              "tickcolor": "rgb(36,36,36)",
              "ticks": "outside"
             }
            },
            "type": "scattermapbox"
           }
          ],
          "scatterpolar": [
           {
            "marker": {
             "colorbar": {
              "outlinewidth": 1,
              "tickcolor": "rgb(36,36,36)",
              "ticks": "outside"
             }
            },
            "type": "scatterpolar"
           }
          ],
          "scatterpolargl": [
           {
            "marker": {
             "colorbar": {
              "outlinewidth": 1,
              "tickcolor": "rgb(36,36,36)",
              "ticks": "outside"
             }
            },
            "type": "scatterpolargl"
           }
          ],
          "scatterternary": [
           {
            "marker": {
             "colorbar": {
              "outlinewidth": 1,
              "tickcolor": "rgb(36,36,36)",
              "ticks": "outside"
             }
            },
            "type": "scatterternary"
           }
          ],
          "surface": [
           {
            "colorbar": {
             "outlinewidth": 1,
             "tickcolor": "rgb(36,36,36)",
             "ticks": "outside"
            },
            "colorscale": [
             [
              0,
              "#440154"
             ],
             [
              0.1111111111111111,
              "#482878"
             ],
             [
              0.2222222222222222,
              "#3e4989"
             ],
             [
              0.3333333333333333,
              "#31688e"
             ],
             [
              0.4444444444444444,
              "#26828e"
             ],
             [
              0.5555555555555556,
              "#1f9e89"
             ],
             [
              0.6666666666666666,
              "#35b779"
             ],
             [
              0.7777777777777778,
              "#6ece58"
             ],
             [
              0.8888888888888888,
              "#b5de2b"
             ],
             [
              1,
              "#fde725"
             ]
            ],
            "type": "surface"
           }
          ],
          "table": [
           {
            "cells": {
             "fill": {
              "color": "rgb(237,237,237)"
             },
             "line": {
              "color": "white"
             }
            },
            "header": {
             "fill": {
              "color": "rgb(217,217,217)"
             },
             "line": {
              "color": "white"
             }
            },
            "type": "table"
           }
          ]
         },
         "layout": {
          "annotationdefaults": {
           "arrowhead": 0,
           "arrowwidth": 1
          },
          "autotypenumbers": "strict",
          "coloraxis": {
           "colorbar": {
            "outlinewidth": 1,
            "tickcolor": "rgb(36,36,36)",
            "ticks": "outside"
           }
          },
          "colorscale": {
           "diverging": [
            [
             0,
             "rgb(103,0,31)"
            ],
            [
             0.1,
             "rgb(178,24,43)"
            ],
            [
             0.2,
             "rgb(214,96,77)"
            ],
            [
             0.3,
             "rgb(244,165,130)"
            ],
            [
             0.4,
             "rgb(253,219,199)"
            ],
            [
             0.5,
             "rgb(247,247,247)"
            ],
            [
             0.6,
             "rgb(209,229,240)"
            ],
            [
             0.7,
             "rgb(146,197,222)"
            ],
            [
             0.8,
             "rgb(67,147,195)"
            ],
            [
             0.9,
             "rgb(33,102,172)"
            ],
            [
             1,
             "rgb(5,48,97)"
            ]
           ],
           "sequential": [
            [
             0,
             "#440154"
            ],
            [
             0.1111111111111111,
             "#482878"
            ],
            [
             0.2222222222222222,
             "#3e4989"
            ],
            [
             0.3333333333333333,
             "#31688e"
            ],
            [
             0.4444444444444444,
             "#26828e"
            ],
            [
             0.5555555555555556,
             "#1f9e89"
            ],
            [
             0.6666666666666666,
             "#35b779"
            ],
            [
             0.7777777777777778,
             "#6ece58"
            ],
            [
             0.8888888888888888,
             "#b5de2b"
            ],
            [
             1,
             "#fde725"
            ]
           ],
           "sequentialminus": [
            [
             0,
             "#440154"
            ],
            [
             0.1111111111111111,
             "#482878"
            ],
            [
             0.2222222222222222,
             "#3e4989"
            ],
            [
             0.3333333333333333,
             "#31688e"
            ],
            [
             0.4444444444444444,
             "#26828e"
            ],
            [
             0.5555555555555556,
             "#1f9e89"
            ],
            [
             0.6666666666666666,
             "#35b779"
            ],
            [
             0.7777777777777778,
             "#6ece58"
            ],
            [
             0.8888888888888888,
             "#b5de2b"
            ],
            [
             1,
             "#fde725"
            ]
           ]
          },
          "colorway": [
           "#1F77B4",
           "#FF7F0E",
           "#2CA02C",
           "#D62728",
           "#9467BD",
           "#8C564B",
           "#E377C2",
           "#7F7F7F",
           "#BCBD22",
           "#17BECF"
          ],
          "font": {
           "color": "rgb(36,36,36)"
          },
          "geo": {
           "bgcolor": "white",
           "lakecolor": "white",
           "landcolor": "white",
           "showlakes": true,
           "showland": true,
           "subunitcolor": "white"
          },
          "hoverlabel": {
           "align": "left"
          },
          "hovermode": "closest",
          "mapbox": {
           "style": "light"
          },
          "paper_bgcolor": "white",
          "plot_bgcolor": "white",
          "polar": {
           "angularaxis": {
            "gridcolor": "rgb(232,232,232)",
            "linecolor": "rgb(36,36,36)",
            "showgrid": false,
            "showline": true,
            "ticks": "outside"
           },
           "bgcolor": "white",
           "radialaxis": {
            "gridcolor": "rgb(232,232,232)",
            "linecolor": "rgb(36,36,36)",
            "showgrid": false,
            "showline": true,
            "ticks": "outside"
           }
          },
          "scene": {
           "xaxis": {
            "backgroundcolor": "white",
            "gridcolor": "rgb(232,232,232)",
            "gridwidth": 2,
            "linecolor": "rgb(36,36,36)",
            "showbackground": true,
            "showgrid": false,
            "showline": true,
            "ticks": "outside",
            "zeroline": false,
            "zerolinecolor": "rgb(36,36,36)"
           },
           "yaxis": {
            "backgroundcolor": "white",
            "gridcolor": "rgb(232,232,232)",
            "gridwidth": 2,
            "linecolor": "rgb(36,36,36)",
            "showbackground": true,
            "showgrid": false,
            "showline": true,
            "ticks": "outside",
            "zeroline": false,
            "zerolinecolor": "rgb(36,36,36)"
           },
           "zaxis": {
            "backgroundcolor": "white",
            "gridcolor": "rgb(232,232,232)",
            "gridwidth": 2,
            "linecolor": "rgb(36,36,36)",
            "showbackground": true,
            "showgrid": false,
            "showline": true,
            "ticks": "outside",
            "zeroline": false,
            "zerolinecolor": "rgb(36,36,36)"
           }
          },
          "shapedefaults": {
           "fillcolor": "black",
           "line": {
            "width": 0
           },
           "opacity": 0.3
          },
          "ternary": {
           "aaxis": {
            "gridcolor": "rgb(232,232,232)",
            "linecolor": "rgb(36,36,36)",
            "showgrid": false,
            "showline": true,
            "ticks": "outside"
           },
           "baxis": {
            "gridcolor": "rgb(232,232,232)",
            "linecolor": "rgb(36,36,36)",
            "showgrid": false,
            "showline": true,
            "ticks": "outside"
           },
           "bgcolor": "white",
           "caxis": {
            "gridcolor": "rgb(232,232,232)",
            "linecolor": "rgb(36,36,36)",
            "showgrid": false,
            "showline": true,
            "ticks": "outside"
           }
          },
          "title": {
           "x": 0.05
          },
          "xaxis": {
           "automargin": true,
           "gridcolor": "rgb(232,232,232)",
           "linecolor": "rgb(36,36,36)",
           "showgrid": false,
           "showline": true,
           "ticks": "outside",
           "title": {
            "standoff": 15
           },
           "zeroline": false,
           "zerolinecolor": "rgb(36,36,36)"
          },
          "yaxis": {
           "automargin": true,
           "gridcolor": "rgb(232,232,232)",
           "linecolor": "rgb(36,36,36)",
           "showgrid": false,
           "showline": true,
           "ticks": "outside",
           "title": {
            "standoff": 15
           },
           "zeroline": false,
           "zerolinecolor": "rgb(36,36,36)"
          }
         }
        },
        "title": {
         "font": {
          "size": 20
         },
         "text": "Optimal Properties Recommended by Genetic Algorithm",
         "x": 0.2
        }
       }
      }
     },
     "metadata": {},
     "output_type": "display_data"
    }
   ],
   "source": [
    "# Print the optimization results as a table\n",
    "HS.print_table_of_best_designs(rows=10)"
   ]
  },
  {
   "cell_type": "code",
   "execution_count": 8,
   "metadata": {},
   "outputs": [
    {
     "data": {
      "application/vnd.plotly.v1+json": {
       "config": {
        "plotlyServerURL": "https://plot.ly"
       },
       "data": [
        {
         "mode": "lines",
         "name": "Avg. of top 10 performers",
         "type": "scatter",
         "x": [
          0,
          1,
          2,
          3,
          4,
          5,
          6,
          7,
          8,
          9,
          10,
          11,
          12,
          13,
          14,
          15,
          16,
          17,
          18,
          19,
          20,
          21,
          22,
          23,
          24,
          25,
          26,
          27,
          28,
          29,
          30,
          31,
          32,
          33,
          34,
          35,
          36,
          37,
          38,
          39,
          40,
          41,
          42,
          43,
          44,
          45,
          46,
          47,
          48,
          49,
          50,
          51,
          52,
          53,
          54,
          55,
          56,
          57,
          58,
          59,
          60,
          61,
          62,
          63,
          64,
          65,
          66,
          67,
          68,
          69,
          70,
          71,
          72,
          73,
          74,
          75,
          76,
          77,
          78,
          79,
          80,
          81,
          82,
          83,
          84,
          85,
          86,
          87,
          88,
          89,
          90,
          91,
          92,
          93,
          94,
          95,
          96,
          97,
          98,
          99
         ],
         "y": [
          10.636720653528426,
          9.090275280337439,
          7.687217412409652,
          6.83179028626626,
          6.36695775322405,
          6.087113933516336,
          6.052922912301589,
          6.044994078605284,
          6.0427900814358555,
          6.042759030497939,
          6.042758692452251,
          6.0427542297398364,
          6.042734056830094,
          6.042704315108476,
          6.0068659740602515,
          5.975323304139403,
          5.918287263114414,
          5.800316315141539,
          5.7327758135425535,
          5.692888107886529,
          5.685163607148047,
          5.684751034551861,
          5.6846144110388295,
          5.6845932455066235,
          5.684585096399985,
          5.684584447681962,
          5.684584256344591,
          5.684584197087087,
          5.684584163939831,
          5.6845841593834,
          5.684584158206625,
          5.684584157794923,
          5.6845841576623855,
          5.684584157567497,
          5.684584157539571,
          5.684584157528265,
          5.684584157525055,
          5.684584157524985,
          5.684584157524976,
          5.6845841575249745,
          5.684584157524974,
          5.670690941019366,
          5.6606703112263315,
          5.637937712269692,
          5.591761930578215,
          5.559652098017039,
          5.552761499206359,
          5.547176754756277,
          5.545725718335857,
          5.545662745167559,
          5.545654427440617,
          5.545652011163577,
          5.545651996443867,
          5.545651993081618,
          5.545651992624348,
          5.5456519925159995,
          5.545651992474382,
          5.545651992470626,
          5.545651992469196,
          5.545651992468981,
          5.545651992468899,
          5.545651992468896,
          5.545651992468896,
          5.545651992468896,
          5.545651992468896,
          5.545651992468896,
          5.545651992468896,
          5.545651992468896,
          5.545651992468895,
          5.545651992468895,
          5.545651992468895,
          5.545651992468895,
          5.545651992468895,
          5.545651992468895,
          5.545651992468894,
          5.545651992468893,
          5.545651992468893,
          5.545651992468893,
          5.545651992468893,
          5.545651992468893,
          5.545651992468893,
          5.545651992468893,
          5.545651992468893,
          5.545651992468893,
          5.545651992468893,
          5.545651992468893,
          5.545651992468893,
          5.545651992468893,
          5.545651992468893,
          5.545651992468893,
          5.4811198675027715,
          5.4811198675027715,
          5.4811198675027715,
          5.4811198675027715,
          5.4811198675027715,
          5.4811198675027715,
          5.480169324875355,
          5.420711459121877,
          5.312424899938738,
          5.120547951040849
         ]
        },
        {
         "mode": "lines",
         "name": "Best costs",
         "type": "scatter",
         "x": [
          0,
          1,
          2,
          3,
          4,
          5,
          6,
          7,
          8,
          9,
          10,
          11,
          12,
          13,
          14,
          15,
          16,
          17,
          18,
          19,
          20,
          21,
          22,
          23,
          24,
          25,
          26,
          27,
          28,
          29,
          30,
          31,
          32,
          33,
          34,
          35,
          36,
          37,
          38,
          39,
          40,
          41,
          42,
          43,
          44,
          45,
          46,
          47,
          48,
          49,
          50,
          51,
          52,
          53,
          54,
          55,
          56,
          57,
          58,
          59,
          60,
          61,
          62,
          63,
          64,
          65,
          66,
          67,
          68,
          69,
          70,
          71,
          72,
          73,
          74,
          75,
          76,
          77,
          78,
          79,
          80,
          81,
          82,
          83,
          84,
          85,
          86,
          87,
          88,
          89,
          90,
          91,
          92,
          93,
          94,
          95,
          96,
          97,
          98,
          99
         ],
         "y": [
          8.207958658052284,
          6.741172082440471,
          6.042650516742514,
          6.042650516742514,
          6.042650516742514,
          6.042650516742514,
          6.042650516742514,
          6.042650516742514,
          6.042650516742514,
          6.042650516742514,
          6.042650516742514,
          6.042650516742514,
          6.042650516742514,
          6.042650516742514,
          5.684584157524975,
          5.684584157524975,
          5.684584157524975,
          5.684584157524975,
          5.684584157524975,
          5.684584157524975,
          5.684584157524975,
          5.684584157524975,
          5.684584157524975,
          5.684584157524975,
          5.684584157524975,
          5.684584157524975,
          5.684584157524975,
          5.684584157524975,
          5.684584157524975,
          5.684584157524975,
          5.684584157524975,
          5.684584157524975,
          5.684584157524975,
          5.684584157524975,
          5.684584157524975,
          5.684584157524975,
          5.684584157524975,
          5.684584157524974,
          5.684584157524974,
          5.684584157524974,
          5.684584157524974,
          5.545651992468896,
          5.545651992468896,
          5.545651992468896,
          5.545651992468896,
          5.545651992468896,
          5.545651992468896,
          5.545651992468896,
          5.545651992468896,
          5.545651992468896,
          5.545651992468896,
          5.545651992468896,
          5.545651992468896,
          5.545651992468896,
          5.545651992468896,
          5.545651992468896,
          5.545651992468896,
          5.545651992468896,
          5.545651992468896,
          5.545651992468896,
          5.545651992468896,
          5.545651992468896,
          5.545651992468895,
          5.545651992468895,
          5.545651992468895,
          5.545651992468895,
          5.545651992468894,
          5.545651992468894,
          5.545651992468894,
          5.545651992468894,
          5.545651992468894,
          5.545651992468894,
          5.545651992468894,
          5.545651992468894,
          5.545651992468894,
          5.545651992468894,
          5.545651992468894,
          5.545651992468894,
          5.545651992468894,
          5.545651992468894,
          5.545651992468894,
          5.545651992468894,
          5.545651992468894,
          5.545651992468894,
          5.545651992468894,
          5.545651992468894,
          5.545651992468894,
          5.545651992468894,
          5.545651992468894,
          5.545651992468894,
          4.9003307428076655,
          4.9003307428076655,
          4.9003307428076655,
          4.9003307428076655,
          4.9003307428076655,
          4.9003307428076655,
          4.9003307428076655,
          4.9003307428076655,
          4.9003307428076655,
          4.9003307428076655
         ]
        }
       ],
       "layout": {
        "height": 400,
        "legend": {
         "bgcolor": "rgba(255, 255, 255, 0.5)",
         "font": {
          "size": 14
         },
         "x": 1,
         "xanchor": "right",
         "y": 1,
         "yanchor": "top"
        },
        "margin": {
         "b": 50,
         "l": 50,
         "r": 50,
         "t": 50
        },
        "template": {
         "data": {
          "bar": [
           {
            "error_x": {
             "color": "rgb(36,36,36)"
            },
            "error_y": {
             "color": "rgb(36,36,36)"
            },
            "marker": {
             "line": {
              "color": "white",
              "width": 0.5
             },
             "pattern": {
              "fillmode": "overlay",
              "size": 10,
              "solidity": 0.2
             }
            },
            "type": "bar"
           }
          ],
          "barpolar": [
           {
            "marker": {
             "line": {
              "color": "white",
              "width": 0.5
             },
             "pattern": {
              "fillmode": "overlay",
              "size": 10,
              "solidity": 0.2
             }
            },
            "type": "barpolar"
           }
          ],
          "carpet": [
           {
            "aaxis": {
             "endlinecolor": "rgb(36,36,36)",
             "gridcolor": "white",
             "linecolor": "white",
             "minorgridcolor": "white",
             "startlinecolor": "rgb(36,36,36)"
            },
            "baxis": {
             "endlinecolor": "rgb(36,36,36)",
             "gridcolor": "white",
             "linecolor": "white",
             "minorgridcolor": "white",
             "startlinecolor": "rgb(36,36,36)"
            },
            "type": "carpet"
           }
          ],
          "choropleth": [
           {
            "colorbar": {
             "outlinewidth": 1,
             "tickcolor": "rgb(36,36,36)",
             "ticks": "outside"
            },
            "type": "choropleth"
           }
          ],
          "contour": [
           {
            "colorbar": {
             "outlinewidth": 1,
             "tickcolor": "rgb(36,36,36)",
             "ticks": "outside"
            },
            "colorscale": [
             [
              0,
              "#440154"
             ],
             [
              0.1111111111111111,
              "#482878"
             ],
             [
              0.2222222222222222,
              "#3e4989"
             ],
             [
              0.3333333333333333,
              "#31688e"
             ],
             [
              0.4444444444444444,
              "#26828e"
             ],
             [
              0.5555555555555556,
              "#1f9e89"
             ],
             [
              0.6666666666666666,
              "#35b779"
             ],
             [
              0.7777777777777778,
              "#6ece58"
             ],
             [
              0.8888888888888888,
              "#b5de2b"
             ],
             [
              1,
              "#fde725"
             ]
            ],
            "type": "contour"
           }
          ],
          "contourcarpet": [
           {
            "colorbar": {
             "outlinewidth": 1,
             "tickcolor": "rgb(36,36,36)",
             "ticks": "outside"
            },
            "type": "contourcarpet"
           }
          ],
          "heatmap": [
           {
            "colorbar": {
             "outlinewidth": 1,
             "tickcolor": "rgb(36,36,36)",
             "ticks": "outside"
            },
            "colorscale": [
             [
              0,
              "#440154"
             ],
             [
              0.1111111111111111,
              "#482878"
             ],
             [
              0.2222222222222222,
              "#3e4989"
             ],
             [
              0.3333333333333333,
              "#31688e"
             ],
             [
              0.4444444444444444,
              "#26828e"
             ],
             [
              0.5555555555555556,
              "#1f9e89"
             ],
             [
              0.6666666666666666,
              "#35b779"
             ],
             [
              0.7777777777777778,
              "#6ece58"
             ],
             [
              0.8888888888888888,
              "#b5de2b"
             ],
             [
              1,
              "#fde725"
             ]
            ],
            "type": "heatmap"
           }
          ],
          "heatmapgl": [
           {
            "colorbar": {
             "outlinewidth": 1,
             "tickcolor": "rgb(36,36,36)",
             "ticks": "outside"
            },
            "colorscale": [
             [
              0,
              "#440154"
             ],
             [
              0.1111111111111111,
              "#482878"
             ],
             [
              0.2222222222222222,
              "#3e4989"
             ],
             [
              0.3333333333333333,
              "#31688e"
             ],
             [
              0.4444444444444444,
              "#26828e"
             ],
             [
              0.5555555555555556,
              "#1f9e89"
             ],
             [
              0.6666666666666666,
              "#35b779"
             ],
             [
              0.7777777777777778,
              "#6ece58"
             ],
             [
              0.8888888888888888,
              "#b5de2b"
             ],
             [
              1,
              "#fde725"
             ]
            ],
            "type": "heatmapgl"
           }
          ],
          "histogram": [
           {
            "marker": {
             "line": {
              "color": "white",
              "width": 0.6
             }
            },
            "type": "histogram"
           }
          ],
          "histogram2d": [
           {
            "colorbar": {
             "outlinewidth": 1,
             "tickcolor": "rgb(36,36,36)",
             "ticks": "outside"
            },
            "colorscale": [
             [
              0,
              "#440154"
             ],
             [
              0.1111111111111111,
              "#482878"
             ],
             [
              0.2222222222222222,
              "#3e4989"
             ],
             [
              0.3333333333333333,
              "#31688e"
             ],
             [
              0.4444444444444444,
              "#26828e"
             ],
             [
              0.5555555555555556,
              "#1f9e89"
             ],
             [
              0.6666666666666666,
              "#35b779"
             ],
             [
              0.7777777777777778,
              "#6ece58"
             ],
             [
              0.8888888888888888,
              "#b5de2b"
             ],
             [
              1,
              "#fde725"
             ]
            ],
            "type": "histogram2d"
           }
          ],
          "histogram2dcontour": [
           {
            "colorbar": {
             "outlinewidth": 1,
             "tickcolor": "rgb(36,36,36)",
             "ticks": "outside"
            },
            "colorscale": [
             [
              0,
              "#440154"
             ],
             [
              0.1111111111111111,
              "#482878"
             ],
             [
              0.2222222222222222,
              "#3e4989"
             ],
             [
              0.3333333333333333,
              "#31688e"
             ],
             [
              0.4444444444444444,
              "#26828e"
             ],
             [
              0.5555555555555556,
              "#1f9e89"
             ],
             [
              0.6666666666666666,
              "#35b779"
             ],
             [
              0.7777777777777778,
              "#6ece58"
             ],
             [
              0.8888888888888888,
              "#b5de2b"
             ],
             [
              1,
              "#fde725"
             ]
            ],
            "type": "histogram2dcontour"
           }
          ],
          "mesh3d": [
           {
            "colorbar": {
             "outlinewidth": 1,
             "tickcolor": "rgb(36,36,36)",
             "ticks": "outside"
            },
            "type": "mesh3d"
           }
          ],
          "parcoords": [
           {
            "line": {
             "colorbar": {
              "outlinewidth": 1,
              "tickcolor": "rgb(36,36,36)",
              "ticks": "outside"
             }
            },
            "type": "parcoords"
           }
          ],
          "pie": [
           {
            "automargin": true,
            "type": "pie"
           }
          ],
          "scatter": [
           {
            "fillpattern": {
             "fillmode": "overlay",
             "size": 10,
             "solidity": 0.2
            },
            "type": "scatter"
           }
          ],
          "scatter3d": [
           {
            "line": {
             "colorbar": {
              "outlinewidth": 1,
              "tickcolor": "rgb(36,36,36)",
              "ticks": "outside"
             }
            },
            "marker": {
             "colorbar": {
              "outlinewidth": 1,
              "tickcolor": "rgb(36,36,36)",
              "ticks": "outside"
             }
            },
            "type": "scatter3d"
           }
          ],
          "scattercarpet": [
           {
            "marker": {
             "colorbar": {
              "outlinewidth": 1,
              "tickcolor": "rgb(36,36,36)",
              "ticks": "outside"
             }
            },
            "type": "scattercarpet"
           }
          ],
          "scattergeo": [
           {
            "marker": {
             "colorbar": {
              "outlinewidth": 1,
              "tickcolor": "rgb(36,36,36)",
              "ticks": "outside"
             }
            },
            "type": "scattergeo"
           }
          ],
          "scattergl": [
           {
            "marker": {
             "colorbar": {
              "outlinewidth": 1,
              "tickcolor": "rgb(36,36,36)",
              "ticks": "outside"
             }
            },
            "type": "scattergl"
           }
          ],
          "scattermapbox": [
           {
            "marker": {
             "colorbar": {
              "outlinewidth": 1,
              "tickcolor": "rgb(36,36,36)",
              "ticks": "outside"
             }
            },
            "type": "scattermapbox"
           }
          ],
          "scatterpolar": [
           {
            "marker": {
             "colorbar": {
              "outlinewidth": 1,
              "tickcolor": "rgb(36,36,36)",
              "ticks": "outside"
             }
            },
            "type": "scatterpolar"
           }
          ],
          "scatterpolargl": [
           {
            "marker": {
             "colorbar": {
              "outlinewidth": 1,
              "tickcolor": "rgb(36,36,36)",
              "ticks": "outside"
             }
            },
            "type": "scatterpolargl"
           }
          ],
          "scatterternary": [
           {
            "marker": {
             "colorbar": {
              "outlinewidth": 1,
              "tickcolor": "rgb(36,36,36)",
              "ticks": "outside"
             }
            },
            "type": "scatterternary"
           }
          ],
          "surface": [
           {
            "colorbar": {
             "outlinewidth": 1,
             "tickcolor": "rgb(36,36,36)",
             "ticks": "outside"
            },
            "colorscale": [
             [
              0,
              "#440154"
             ],
             [
              0.1111111111111111,
              "#482878"
             ],
             [
              0.2222222222222222,
              "#3e4989"
             ],
             [
              0.3333333333333333,
              "#31688e"
             ],
             [
              0.4444444444444444,
              "#26828e"
             ],
             [
              0.5555555555555556,
              "#1f9e89"
             ],
             [
              0.6666666666666666,
              "#35b779"
             ],
             [
              0.7777777777777778,
              "#6ece58"
             ],
             [
              0.8888888888888888,
              "#b5de2b"
             ],
             [
              1,
              "#fde725"
             ]
            ],
            "type": "surface"
           }
          ],
          "table": [
           {
            "cells": {
             "fill": {
              "color": "rgb(237,237,237)"
             },
             "line": {
              "color": "white"
             }
            },
            "header": {
             "fill": {
              "color": "rgb(217,217,217)"
             },
             "line": {
              "color": "white"
             }
            },
            "type": "table"
           }
          ]
         },
         "layout": {
          "annotationdefaults": {
           "arrowhead": 0,
           "arrowwidth": 1
          },
          "autotypenumbers": "strict",
          "coloraxis": {
           "colorbar": {
            "outlinewidth": 1,
            "tickcolor": "rgb(36,36,36)",
            "ticks": "outside"
           }
          },
          "colorscale": {
           "diverging": [
            [
             0,
             "rgb(103,0,31)"
            ],
            [
             0.1,
             "rgb(178,24,43)"
            ],
            [
             0.2,
             "rgb(214,96,77)"
            ],
            [
             0.3,
             "rgb(244,165,130)"
            ],
            [
             0.4,
             "rgb(253,219,199)"
            ],
            [
             0.5,
             "rgb(247,247,247)"
            ],
            [
             0.6,
             "rgb(209,229,240)"
            ],
            [
             0.7,
             "rgb(146,197,222)"
            ],
            [
             0.8,
             "rgb(67,147,195)"
            ],
            [
             0.9,
             "rgb(33,102,172)"
            ],
            [
             1,
             "rgb(5,48,97)"
            ]
           ],
           "sequential": [
            [
             0,
             "#440154"
            ],
            [
             0.1111111111111111,
             "#482878"
            ],
            [
             0.2222222222222222,
             "#3e4989"
            ],
            [
             0.3333333333333333,
             "#31688e"
            ],
            [
             0.4444444444444444,
             "#26828e"
            ],
            [
             0.5555555555555556,
             "#1f9e89"
            ],
            [
             0.6666666666666666,
             "#35b779"
            ],
            [
             0.7777777777777778,
             "#6ece58"
            ],
            [
             0.8888888888888888,
             "#b5de2b"
            ],
            [
             1,
             "#fde725"
            ]
           ],
           "sequentialminus": [
            [
             0,
             "#440154"
            ],
            [
             0.1111111111111111,
             "#482878"
            ],
            [
             0.2222222222222222,
             "#3e4989"
            ],
            [
             0.3333333333333333,
             "#31688e"
            ],
            [
             0.4444444444444444,
             "#26828e"
            ],
            [
             0.5555555555555556,
             "#1f9e89"
            ],
            [
             0.6666666666666666,
             "#35b779"
            ],
            [
             0.7777777777777778,
             "#6ece58"
            ],
            [
             0.8888888888888888,
             "#b5de2b"
            ],
            [
             1,
             "#fde725"
            ]
           ]
          },
          "colorway": [
           "#1F77B4",
           "#FF7F0E",
           "#2CA02C",
           "#D62728",
           "#9467BD",
           "#8C564B",
           "#E377C2",
           "#7F7F7F",
           "#BCBD22",
           "#17BECF"
          ],
          "font": {
           "color": "rgb(36,36,36)"
          },
          "geo": {
           "bgcolor": "white",
           "lakecolor": "white",
           "landcolor": "white",
           "showlakes": true,
           "showland": true,
           "subunitcolor": "white"
          },
          "hoverlabel": {
           "align": "left"
          },
          "hovermode": "closest",
          "mapbox": {
           "style": "light"
          },
          "paper_bgcolor": "white",
          "plot_bgcolor": "white",
          "polar": {
           "angularaxis": {
            "gridcolor": "rgb(232,232,232)",
            "linecolor": "rgb(36,36,36)",
            "showgrid": false,
            "showline": true,
            "ticks": "outside"
           },
           "bgcolor": "white",
           "radialaxis": {
            "gridcolor": "rgb(232,232,232)",
            "linecolor": "rgb(36,36,36)",
            "showgrid": false,
            "showline": true,
            "ticks": "outside"
           }
          },
          "scene": {
           "xaxis": {
            "backgroundcolor": "white",
            "gridcolor": "rgb(232,232,232)",
            "gridwidth": 2,
            "linecolor": "rgb(36,36,36)",
            "showbackground": true,
            "showgrid": false,
            "showline": true,
            "ticks": "outside",
            "zeroline": false,
            "zerolinecolor": "rgb(36,36,36)"
           },
           "yaxis": {
            "backgroundcolor": "white",
            "gridcolor": "rgb(232,232,232)",
            "gridwidth": 2,
            "linecolor": "rgb(36,36,36)",
            "showbackground": true,
            "showgrid": false,
            "showline": true,
            "ticks": "outside",
            "zeroline": false,
            "zerolinecolor": "rgb(36,36,36)"
           },
           "zaxis": {
            "backgroundcolor": "white",
            "gridcolor": "rgb(232,232,232)",
            "gridwidth": 2,
            "linecolor": "rgb(36,36,36)",
            "showbackground": true,
            "showgrid": false,
            "showline": true,
            "ticks": "outside",
            "zeroline": false,
            "zerolinecolor": "rgb(36,36,36)"
           }
          },
          "shapedefaults": {
           "fillcolor": "black",
           "line": {
            "width": 0
           },
           "opacity": 0.3
          },
          "ternary": {
           "aaxis": {
            "gridcolor": "rgb(232,232,232)",
            "linecolor": "rgb(36,36,36)",
            "showgrid": false,
            "showline": true,
            "ticks": "outside"
           },
           "baxis": {
            "gridcolor": "rgb(232,232,232)",
            "linecolor": "rgb(36,36,36)",
            "showgrid": false,
            "showline": true,
            "ticks": "outside"
           },
           "bgcolor": "white",
           "caxis": {
            "gridcolor": "rgb(232,232,232)",
            "linecolor": "rgb(36,36,36)",
            "showgrid": false,
            "showline": true,
            "ticks": "outside"
           }
          },
          "title": {
           "x": 0.05
          },
          "xaxis": {
           "automargin": true,
           "gridcolor": "rgb(232,232,232)",
           "linecolor": "rgb(36,36,36)",
           "showgrid": false,
           "showline": true,
           "ticks": "outside",
           "title": {
            "standoff": 15
           },
           "zeroline": false,
           "zerolinecolor": "rgb(36,36,36)"
          },
          "yaxis": {
           "automargin": true,
           "gridcolor": "rgb(232,232,232)",
           "linecolor": "rgb(36,36,36)",
           "showgrid": false,
           "showline": true,
           "ticks": "outside",
           "title": {
            "standoff": 15
           },
           "zeroline": false,
           "zerolinecolor": "rgb(36,36,36)"
          }
         }
        },
        "title": {
         "font": {
          "size": 24
         },
         "text": "Convergence of Genetic Algorithm",
         "x": 0.25
        },
        "width": 600,
        "xaxis": {
         "title": {
          "font": {
           "size": 20
          },
          "text": "Generation"
         }
        },
        "yaxis": {
         "title": {
          "font": {
           "size": 20
          },
          "text": "Cost"
         }
        }
       }
      }
     },
     "metadata": {},
     "output_type": "display_data"
    }
   ],
   "source": [
    "# Plot the genetic algorithm convergence plot\n",
    "HS.plot_optimization_results()"
   ]
  },
  {
   "cell_type": "code",
   "execution_count": 9,
   "metadata": {},
   "outputs": [
    {
     "name": "stdout",
     "output_type": "stream",
     "text": [
      "overall bounds dict: ({'elec_cond_300k_low_doping': {'upper_bound': 78.0, 'lower_bound': 1e-07}, 'therm_cond_300k_low_doping': {'upper_bound': 2.0, 'lower_bound': 1e-07}, 'bulk_modulus': {'upper_bound': 400.0, 'lower_bound': 20.0}, 'shear_modulus': {'upper_bound': 300.0, 'lower_bound': 80.0}, 'universal_anisotropy': {'upper_bound': 2.3, 'lower_bound': 0.9}}, {'mat_1': {'elec_cond_300k_low_doping': {'upper_bound': 78.0, 'lower_bound': 1e-07}, 'therm_cond_300k_low_doping': {'upper_bound': 2.0, 'lower_bound': 1e-07}, 'bulk_modulus': {'upper_bound': 100.0, 'lower_bound': 50.0}, 'shear_modulus': {'upper_bound': 100.0, 'lower_bound': 80.0}, 'universal_anisotropy': {'upper_bound': 2.0, 'lower_bound': 1.0}}, 'mat_2': {'elec_cond_300k_low_doping': {'upper_bound': 78.0, 'lower_bound': 1e-07}, 'therm_cond_300k_low_doping': {'upper_bound': 2.0, 'lower_bound': 1e-07}, 'bulk_modulus': {'upper_bound': 400.0, 'lower_bound': 20.0}, 'shear_modulus': {'upper_bound': 200.0, 'lower_bound': 100.0}, 'universal_anisotropy': {'upper_bound': 2.3, 'lower_bound': 1.3}}, 'mat_3': {'elec_cond_300k_low_doping': {'upper_bound': 78.0, 'lower_bound': 1e-07}, 'therm_cond_300k_low_doping': {'upper_bound': 2.0, 'lower_bound': 1e-07}, 'bulk_modulus': {'upper_bound': 300.0, 'lower_bound': 20.0}, 'shear_modulus': {'upper_bound': 300.0, 'lower_bound': 100.0}, 'universal_anisotropy': {'upper_bound': 2.1, 'lower_bound': 0.9}}, 'mixture': {'elec_cond_300k_low_doping': {'desired_prop': 9.0}, 'therm_cond_300k_low_doping': {'desired_prop': 0.007}, 'bulk_modulus': {'desired_prop': 234.0}, 'shear_modulus': {'desired_prop': 150.0}, 'universal_anisotropy': {'desired_prop': 1.5}}})\n",
      "best_designs_dict: {'mat1': {'carrier-transport': {'elec_cond_300k_low_doping': [30.35903669791309, 30.341171021943264, 30.305255466534813, 30.283102284123995, 29.91254851138492, 29.87701411989491, 29.853853977982006, 29.850937348954226, 29.45045600773604, 28.904950239123185, 28.85565010879497, 28.785477131224233, 28.636338169024462, 28.57724783009075, 28.464499285231117, 28.38404724021554, 4.969961821802592, 53.38270541774826, 28.087186602046515, 28.26036643430716, 14.865506237324084, 47.53269504634767, 7.326215657556926, 4.595726767184956, 17.855135773086424, 30.950427493752883, 5.210470423803278, 57.79409094973124, 64.06589011839736, 17.419021286406856, 55.917152141924284, 30.940078829731856, 15.768005414070156, 53.24934111607412, 27.822871574325184, 3.741388911795633, 23.42382953279106, 37.15575348775858, 28.400763904733513, 58.424775600294616, 28.597444716207796, 48.429736519224726, 70.60922007048242, 43.06511010130138, 23.63241467571946, 57.132475443384486, 25.65030353889415, 19.84206614781129, 34.8016222637013, 4.325719429611542, 6.050461055290191, 30.425991577822934, 7.450410434322952, 31.740644609210975, 53.230086972772085, 40.12620850678293, 22.91598632239761, 60.74991976526697, 7.523653294833878, 9.149918313454702, 74.85915938426089, 77.70573867934615, 2.884733803742874, 49.40038949349359, 21.888580385703467, 14.776237572701328, 6.056323459116383, 76.30259697803989, 54.58749877380202, 34.12129788941164, 17.007008014149697, 30.712877466810934, 10.65183695816916, 63.41483577441868, 27.83230062135922, 42.06875713053375, 14.45056552743578, 36.00172465563241, 68.41761181315347, 12.090574263711426, 33.743953195224655, 11.646326851860117, 21.89633382610667, 9.025215467705637, 42.91831085155368, 70.38807667450371, 8.808369954105487, 61.44641898505828, 40.84970531534097, 3.1011606887607943, 64.21979510006716, 62.192601750680474, 61.275038581121116, 77.41617456226444, 27.168827411561775, 50.86302604887971, 62.964367526503196, 36.829789471966336, 20.792249261552147, 21.572360072510204, 12.246468037384886, 43.44080459413699, 4.427236561918207, 72.40150704699046, 66.31332518102546, 1.900021378149019, 27.317631184252242, 73.74930215873533, 23.40717655382438, 8.64628871414968, 8.510013060035128, 10.292468674141423, 40.01826283227873, 75.4021720057196, 45.64510557889918, 58.264818374355976, 6.0314811889978746, 75.99690550206188, 9.543175555282314, 11.582345063736195, 1.9686322535818466, 12.753583424945475, 43.8108747475671, 63.38417364102472, 45.832156716357694, 65.24782178067382, 59.39650475556609, 39.01186546992726, 16.32264402989503, 42.64913443617025, 8.230837811772993, 43.78881323836122, 75.25595448151023, 35.118940445011766, 6.814298907888942, 1.3920222141608134, 47.833868263563204, 14.512654235427261, 1.205123099392142, 72.22368939617897, 71.69854946993887, 10.810945936115507, 30.314615531963568, 25.68070387649477, 38.02572501858544, 68.09126019955835, 15.694337679458178, 24.018607778342663, 69.43593009938398, 45.99771175307626, 49.35907368252854, 25.746892812921338, 27.840569566058715, 1.118232139702242, 66.0241166327558, 8.283901566054205, 67.37817338031655, 42.42975133629158, 44.907676023068205, 71.40605539076306, 30.42497289819265, 12.289801224574164, 44.31914806218542, 33.84381904195854, 73.553712291076, 77.00155326157507, 66.67974548339858, 59.836732566346456, 69.02194205212068, 40.233045225612535, 19.59418370556469, 74.10769718294725, 8.128517476268495, 48.78551800887242, 43.10307672752977, 66.72974137434558, 54.11328940830841, 25.04950718584368, 44.92217713095911, 75.25732105851043, 8.214007640024908, 13.33425874428412, 71.96427488951424, 66.30934418901444, 55.29611931757678, 12.466668591592061, 37.50598841713769, 57.34129324053007, 22.97958898710378, 4.400632561938847, 27.351639016040007, 76.69858873328934, 6.771935518795765, 74.72985720958856, 13.44148840785978, 76.49956044504466], 'therm_cond_300k_low_doping': [1.8363621841041817, 1.8352768358159652, 1.8330949487914427, 1.8317491324535256, 1.8092378150192634, 1.807079083883558, 1.805672094278325, 1.8054949076816347, 1.7811654762686948, 1.748025742111645, 1.7450307358129222, 1.740767694144974, 1.731707431460078, 1.7281176653454269, 1.7212681377726131, 1.7163806378823978, 0.2939638442529478, 1.2240551733859169, 0.03852051258585643, 0.5775183371063344, 0.7277169941129981, 1.9786821953782383, 1.174907908674433, 1.811251938252204, 1.6421926253732553, 0.4223526559886391, 0.4456093674896191, 1.6668275463991997, 1.6418871099609043, 1.7230687280408798, 0.993795350751399, 1.4176349296629502, 1.3791198897024362, 0.869921982097977, 0.47850338845261414, 1.3718330192089356, 0.5330057391755693, 1.9263642069015734, 0.023589190840994295, 0.0254566329663319, 1.6072062125134594, 1.0873187789289747, 1.256943531053731, 1.5778889374536194, 1.4931983464518244, 1.2204080481975037, 1.4948643415737495, 1.816118216009827, 0.8703694946224559, 1.316066478577767, 0.4271795105566563, 1.5893844717967738, 0.40324942674492786, 1.7416492414364457, 1.9579158407511565, 1.123629002015434, 1.5015620200745545, 1.1046181631400045, 0.910177578550985, 0.21895799602371296, 0.7405291560823126, 1.9999014819630363, 0.03416702886690936, 0.9255899408353241, 1.6071529027389466, 1.3693547699003141, 0.9626451596964827, 0.5022721528140913, 0.7016333628450772, 1.9561803846884558, 1.2010909451913614, 0.9482488096531041, 0.09184541143413476, 0.9065838700211198, 0.45306771231556975, 0.9332385057054462, 0.45560728888217655, 0.7926035310396916, 1.0463633758904498, 1.7940732120599834, 0.8245780367604433, 1.1537046203971468, 0.018032946172642186, 1.7561222971338724, 1.2105732731820575, 1.1405153708083733, 1.5752217194191505, 0.21565603716368117, 1.9633241414551192, 0.7674373714080401, 0.1421633421276671, 1.288866315353881, 0.4658952446512862, 0.8531917746127372, 0.756655872063289, 1.8308078465705528, 0.45334563593194416, 1.707086874605236, 0.2627069353168411, 1.10530134834225, 0.6822404926621577, 1.3350498790315857, 1.2371233907785129, 0.8641125015511273, 0.06946637755636706, 1.971611479328299, 0.26209738349974737, 1.7344452737768357, 1.4722106915611055, 0.7744360440869873, 1.0488534354644174, 1.6011313806486547, 1.855935568218356, 0.38751081763766987, 0.8781226184893804, 0.05145038363039195, 1.3170351822179405, 0.07255714113029316, 1.9657273609759682, 0.5187355002435805, 0.5945268504505326, 0.2702978341564857, 0.5536225195499309, 1.2676710061147904, 0.7129733015250952, 0.5331169790125941, 1.177612624921987, 1.2701525427151672, 0.7255797351477037, 1.5234404877800136, 0.008977352937848956, 1.0465253939694585, 1.5036105369139612, 0.42087503067141996, 1.0645841895983295, 1.5970806684484153, 0.9569047195372622, 0.34364964158762257, 0.5892159928765417, 0.7205026347363748, 0.04832282560301876, 0.9257734886826018, 0.30261037460824963, 0.817527078954228, 1.5723761397155132, 0.7494287637757359, 0.22790466242669294, 1.8270158294277792, 1.1863494241228716, 1.0598498482175391, 1.4657169749954957, 1.0825709702025599, 1.4084137812607056, 0.7033507891800045, 0.4035819816120939, 0.9430641222396481, 1.6339260585821433, 0.6668706814256624, 1.5009124379780592, 0.7615610198264249, 0.11043619654179333, 1.1355240847352097, 0.5139268016554986, 1.284981289533597, 0.5220302557970351, 1.9846677769937575, 0.5621448369661591, 1.520778485206268, 1.392254155894194, 0.7946587949888614, 0.7549868662162258, 1.3184056349249074, 1.5203598173999526, 1.4946155742261136, 1.2296623489194363, 0.4445349675080469, 1.4048974226318711, 0.8059043644973405, 0.10846583559220528, 0.595662371563456, 0.1994786520502256, 1.5228321672217604, 0.33589089295252006, 0.07817299570921137, 0.46007856788385765, 0.9421587858855028, 0.2854995148487315, 1.0496631380488721, 0.3476655631037307, 0.3752956628945542, 1.3124406151503456, 1.3310494500316687, 0.4958902510485775, 0.12324087273062011, 0.24859861273982753, 0.25215179007475874]}, 'elastic': {'bulk_modulus': [60.7845988979916, 60.81171306920429, 60.86622097140669, 60.89984215550335, 61.46221989338024, 61.51614931516231, 61.551298729838635, 61.555725205442286, 62.16352306719762, 62.9914199143505, 63.066241162468096, 63.172740470502674, 63.39908395520462, 63.48876349319523, 63.65987839276399, 63.781977916266314, 99.31679461704013, 92.09324248301303, 60.35278922836975, 75.97073779461965, 71.47168710782753, 57.228154944570456, 66.4432523631345, 53.18341279918456, 97.4141272921951, 82.74927911651662, 66.10933193372813, 94.5952881749945, 98.1446033035374, 64.27299851221696, 51.466637828561176, 53.71237170922011, 51.33357954568651, 80.55772271533887, 82.08092910042652, 99.18273362281926, 72.96196933574387, 85.09049332660666, 94.31556751806428, 91.23348811248388, 72.19674571140041, 70.36966580544619, 68.54771334798276, 68.69399157293935, 77.70724541334437, 55.334288938396746, 72.67790874972515, 93.01778007347257, 71.84834235689637, 74.72017993099645, 80.11384302466607, 96.22404672501693, 97.96864721908204, 50.01415811207018, 62.1934177799774, 94.54409960934214, 67.66549174898091, 51.81583568354882, 54.4176866019782, 81.50880292164524, 50.1614804060155, 54.12558402513892, 98.7612582251604, 53.842114508247334, 72.91272383488183, 62.50606317301214, 88.65235317162276, 85.29762322253116, 62.80920254175696, 52.51220658061542, 95.18031748935522, 50.44596782214909, 73.62017518546902, 52.578611399566014, 70.02311285742078, 86.3171841493004, 78.41671503766155, 80.28031964741879, 91.18204440036766, 98.13352818175689, 91.97561580245518, 88.92479160325202, 76.22876055791494, 73.36079317854535, 54.37188587068908, 77.2322981008092, 83.93302338185367, 99.74252811042464, 69.48350869337274, 76.81783870844221, 60.2791450353574, 53.79962029906131, 74.29289563457289, 89.58213680344159, 82.92593257350993, 62.373765888947744, 55.64870973034422, 70.20923015915551, 99.52052246857863, 60.56010024095951, 79.69009714171004, 80.62841924029313, 55.99222435667705, 99.28087144093098, 59.559686479570026, 70.32136155876329, 66.34468973759331, 71.53781195358091, 88.69706468774675, 52.278822171803604, 73.73266082249832, 65.33350800971661, 99.85391896575248, 84.03875049890362, 76.81402666583412, 60.04136289480853, 83.09953814445545, 78.14668862354586, 88.90023466526631, 64.24100732182208, 53.19336591093368, 77.13776041891283, 58.338249033537494, 51.990399966276875, 84.59769765271407, 75.44823617825162, 55.939102993711735, 79.95071303678945, 93.43555170638552, 56.23090064279684, 78.09870045177183, 82.33988659815546, 58.64224004133054, 87.08055288579385, 63.9496729634066, 69.95785986244644, 74.92497818610825, 59.838964617164294, 68.00549013087316, 73.97926375810025, 55.32723785510593, 75.81056566461488, 85.23567931304468, 74.75573723379847, 69.8443387088865, 63.05752740011853, 86.43594484339769, 77.94742706033374, 93.45511416378906, 51.12441572171287, 59.061107166842056, 95.18887262141074, 62.87259253273224, 95.73445506307931, 50.73173420705853, 52.074237388799844, 94.54104073337854, 52.4468341907339, 73.56641882387922, 56.02067903897891, 88.8101526497222, 74.02514806943955, 76.58427933725197, 77.63243202082634, 57.648490551742256, 93.24322132009809, 55.5707947524141, 89.20918882765503, 81.79292033247509, 92.34052024191615, 63.48972324803627, 50.236587242972256, 85.12210221691713, 87.30548245456782, 54.87191687118029, 95.34240168444731, 54.91863418564413, 63.793995575561766, 77.04079148187708, 59.68117358352329, 67.57451177808969, 68.60684745366909, 73.01417468925231, 72.76760925988401, 90.45786692767575, 72.80132756659034, 50.83054484193054, 74.8093850778838, 83.74380386641892, 89.66280833528691, 95.20599435271863, 96.71645591007355, 66.6619930349042, 88.81270501938997, 99.2964370546332, 54.989919686853284], 'shear_modulus': [82.34889252662127, 82.35016524376815, 82.35272380037047, 82.35430195141046, 82.38069950508822, 82.38323090829005, 82.38488079323066, 82.38508856839579, 82.41361810575172, 82.45247891049279, 82.4559909590331, 82.46098994994462, 82.47161432904893, 82.4758238136328, 82.48385580786407, 82.4895870602032, 84.15756245842712, 93.82174534724095, 80.0706626906842, 90.3069753257885, 82.98780823069636, 84.80980032617732, 89.08612994401608, 86.6921640090146, 99.99051672051905, 98.0161050428418, 94.46763324387972, 82.76847223007633, 95.86232795575252, 84.41638335480675, 84.19240347814272, 97.09601608327125, 81.48003067851272, 85.7026245630823, 98.04381582930696, 85.29663177068278, 80.41236991741596, 91.834065238661, 84.6536147745072, 91.98918140545713, 97.77004774451092, 81.5342587711716, 83.60068793718831, 81.62332582279937, 82.66306260828065, 92.77573546290404, 80.42755033388116, 91.03302390739915, 96.61167412576464, 92.49130683765657, 83.79250982885966, 91.4085982890633, 82.58490673371303, 88.45998103176257, 95.12350545836195, 81.40490554424177, 83.79008551315384, 82.4406479767278, 86.71409830932275, 89.56765915591635, 98.44619669525176, 80.38612359552164, 81.66730039051528, 83.72409063077092, 87.97672878184817, 89.5183082233093, 99.24222474531592, 98.19377267534347, 95.80597857843202, 94.05823580286459, 80.37650245797964, 94.4179789309636, 94.95201867052651, 92.65730059278924, 85.45636932827657, 91.81169303066417, 82.35937989475407, 83.41419552639684, 99.195392012518, 92.18711253510844, 92.43034903280083, 81.17683700323978, 87.79795339578963, 92.82788159639678, 84.13142616522083, 91.52202336917485, 92.73246998247009, 86.98043385113574, 87.96587546251189, 81.73464019759253, 93.39343053286802, 91.7624367509004, 99.87372110041173, 97.32064158563935, 98.43419349439498, 92.6365460059299, 96.20295142691305, 92.44792379894817, 96.50472867477654, 83.10117753597606, 91.86747310213225, 88.59543715554038, 89.14834281688945, 85.1338361379325, 92.62931244481189, 89.62117380507567, 94.0473166196571, 88.30104083259693, 90.17340814588339, 83.72082100591788, 99.39016606745736, 84.89099656908492, 80.24635707242322, 94.66695464217045, 82.0073767680405, 87.40405799208706, 94.67513089622044, 84.96927334101743, 92.77934508867158, 81.84523865737017, 89.81886105099221, 89.50613238711685, 83.50847151298697, 98.50679538542872, 80.20437511609488, 98.2654298405528, 82.50943365681609, 94.66727258990032, 90.09942625368785, 98.86659702824223, 86.13610244480479, 88.99666253341844, 86.08397848005376, 92.06865727540747, 98.74188752898212, 96.12861708045685, 96.01967078985972, 92.06452587820606, 84.99336732531047, 83.16819127020713, 80.16099568719447, 89.9358363397981, 85.88973063792824, 92.07293197177202, 84.63307811811106, 88.01124676886838, 82.19514956540417, 92.1991263467912, 81.07824293735753, 91.6562414512887, 80.0946214414907, 98.30921794555559, 81.76119745659366, 89.37587286071442, 93.66338345311598, 97.21583715832571, 88.34764098631105, 84.70830899589923, 87.58603985879408, 86.8216084097955, 88.67729569634214, 86.95333428090018, 98.91445343540924, 93.53626378107415, 83.72026800333268, 98.9954492233221, 85.47639227778969, 90.13002836231459, 83.09917593179688, 91.9325050598651, 87.70793608332711, 84.11286845432404, 92.24496495858966, 89.11840419020585, 87.58247421100384, 84.47524005860484, 80.128793730052, 89.60307633296658, 91.61144487846228, 87.59367415211861, 92.0264145244471, 83.78749055145492, 98.3779385154394, 94.49848697337909, 85.71672862288203, 97.01344176578507, 86.0638239665149, 96.14537094339632, 80.20118398106587, 94.26317975244723, 86.51618514738068, 84.36444389067626, 80.6076756312783, 88.95254039312843, 91.12124190529735, 88.92116261253808], 'universal_anisotropy': [1.1622853316214883, 1.1628526018440917, 1.1639929911104074, 1.1646963980645457, 1.1764622065065653, 1.177590493071521, 1.1783258729631434, 1.1784184816503622, 1.1911345490393028, 1.208455426195868, 1.210020801945036, 1.2122489314977332, 1.216984385808489, 1.2188606198663126, 1.2224406071138556, 1.2249951172013525, 1.9684382127655393, 1.270041507166094, 1.072576749128062, 1.3730107753360512, 1.8007438736433756, 1.4709594802148733, 1.566792828698099, 1.0893488691183466, 1.552695999221171, 1.9591425450524986, 1.8362960270874045, 1.7831810796095848, 1.5790164405605769, 1.7249856808428654, 1.6922390902124662, 1.5128809176500155, 1.0184450138519354, 1.527236811387712, 1.2111778382869551, 1.7290603240210243, 1.5250971035185037, 1.8190900789899587, 1.0210068362979896, 1.3327534469267193, 1.5730465357853292, 1.9379023211533082, 1.050779004358292, 1.788066496986634, 1.9787919552098958, 1.4906103421569417, 1.0041102803192228, 1.8864687871537247, 1.0308836165061006, 1.6018347292950874, 1.8086638277047802, 1.7726624453639457, 1.1992363109836264, 1.2971283826750861, 1.7505452449410972, 1.81240790702336, 1.6668691646319898, 1.4352363487769204, 1.5963332722921075, 1.1445376777305176, 1.7208324076869579, 1.1276285755461786, 1.0752094068599418, 1.5264899805620105, 1.4167458883976511, 1.3634262064865073, 1.5193947474135792, 1.9609224630638225, 1.516330933255421, 1.0669524360655345, 1.2083879442043952, 1.7655067015062125, 1.5322773940820364, 1.0705841152180569, 1.560415991778327, 1.4242746068198207, 1.6172684035375557, 1.4564632268245816, 1.3348305965492897, 1.2247164333780507, 1.2056969814185792, 1.883294181766411, 1.7090431676217912, 1.2038965280703002, 1.7707783642712656, 1.0305092426066018, 1.4364210503897765, 1.8176162355524768, 1.8781258811226063, 1.2210636583326764, 1.3381988158326883, 1.8699495145641816, 1.4919459350536972, 1.17213142760201, 1.9153216781455218, 1.4163497103784772, 1.2258448852815773, 1.4153353651736196, 1.3407978303360077, 1.2640167574646777, 1.723892991100061, 1.5526736389602565, 1.3249278785074043, 1.088662850982333, 1.6593587688484948, 1.4281003068197378, 1.760825771302471, 1.7234524398449431, 1.1468970112008068, 1.8990785443064087, 1.8302007028041343, 1.4303579804614523, 1.817998041423758, 1.5386419211007074, 1.953922910802906, 1.3140201458827274, 1.8621952437781912, 1.677247036985988, 1.3819800846713086, 1.227880043612708, 1.6268953611362842, 1.005163338961388, 1.0521946107988198, 1.6522255716180414, 1.6517886109570277, 1.6829432281727625, 1.4245698938059193, 1.1695614717053702, 1.9854287566235338, 1.5226251921452607, 1.1098790334587896, 1.31243693295704, 1.736350473222064, 1.0401477964084116, 1.7482958634203527, 1.3197523674686455, 1.7045195878342299, 1.8927440528939217, 1.3831169101468945, 1.7141120588928351, 1.2699965852497552, 1.1154856910733626, 1.274305427330972, 1.2575670558071064, 1.525326277477137, 1.6867563650429556, 1.2893724799347281, 1.2500813909799713, 1.5654741585424194, 1.0244526391761064, 1.8425794648651241, 1.0000722733675387, 1.2257170417373113, 1.222223955250827, 1.5407287975136978, 1.1317030059077924, 1.7704176304007704, 1.791378258481148, 1.1825825144163138, 1.1959431927834494, 1.8525703954345212, 1.4312920832004452, 1.2789027127587316, 1.874699282556248, 1.9260686650421768, 1.6327913982301965, 1.55664774952765, 1.781220614403877, 1.4182053102192564, 1.0986744310877494, 1.0177934767099626, 1.5250770588833737, 1.0256889913503855, 1.1881978401355948, 1.8316315936178356, 1.7289572714353536, 1.0441617555571097, 1.2682179458332095, 1.8289183850896369, 1.4024624512702983, 1.432656943874024, 1.4916786625440859, 1.6146584575024114, 1.8949608528850432, 1.1885513306531603, 1.8568125121556052, 1.8020932189643037, 1.741724630393333, 1.5000751546041808, 1.637263976220289, 1.2487674067167343, 1.0573499063008267, 1.7797784622254706, 1.2431253116296934, 1.610144203611239, 1.0058966352401324]}}, 'mat2': {'carrier-transport': {'elec_cond_300k_low_doping': [0.2247237037546531, 0.2741475909558052, 0.37350494873346185, 0.4347898612365177, 1.4598956505023233, 1.558198550416657, 1.6222691315353788, 1.6303377399843513, 2.7382356257380858, 4.247331370059874, 4.383716026563164, 4.5778436562079685, 4.990424028621902, 5.1538924723051815, 5.465801821419525, 5.688365625031938, 70.461460054379, 55.042821869955766, 34.60184111579793, 55.89335214750967, 18.0063726227335, 32.44877183612145, 7.34145166358169, 58.619864988468535, 8.178799131012493, 0.9720110855100578, 18.356308239607504, 56.60817327697074, 70.75289971596295, 26.795174078838457, 44.08373599528604, 69.16619891728281, 48.31607865155528, 48.43057206654945, 31.39009243195704, 55.030173429746476, 53.00342499119895, 7.311737644022511, 63.101515417876506, 63.786544639634066, 37.42641693561615, 70.30525720709969, 47.889874121638364, 5.624794192379172, 7.119846149821916, 2.745245835546436, 32.432076260475355, 70.42737490803249, 16.313766183876243, 21.271449182671798, 36.776898840347286, 44.78587222953314, 23.809120789251867, 45.7246488771709, 77.91592873923878, 49.7291720048935, 46.963208895439934, 72.3529614732475, 61.68065598646767, 48.25371129297146, 25.289850476518808, 46.00255886228882, 16.32215986315031, 49.16587905572771, 52.14968234030478, 48.95176801738446, 40.02447282214164, 19.287481939438216, 14.70981900682057, 33.18991559757027, 68.02536462462446, 5.907483096213218, 28.0826766236572, 33.74007713959688, 41.23112374997329, 12.427014611786294, 70.14603150795313, 67.3919814893626, 56.87210659334173, 63.787503853150895, 48.09461523988675, 61.313799118071415, 77.82637325837237, 53.969443441442415, 10.982037081122916, 42.788628483174605, 30.558553800790285, 45.32313774262447, 34.3531139136053, 24.94380031042946, 63.96492772848919, 35.60661578515785, 0.6059391721966043, 57.94295629157293, 44.91516997346648, 11.233062743362161, 47.83246563854854, 54.39466985505549, 23.406097423674698, 6.355727321883612, 56.576331469177475, 28.19697843060482, 35.736628556053695, 56.13294804517876, 44.13246004491303, 19.059890383872006, 66.93579405411359, 15.048760596750512, 66.0030852573419, 31.33487260694055, 29.615581741536815, 36.467304447416616, 26.522912043318176, 7.430427514226723, 42.801183051610806, 55.46007635674788, 16.83287835402358, 11.758160587424518, 11.294771502945979, 65.2302462770305, 48.033832182952175, 17.098784518555316, 32.70764416292194, 12.485236401590367, 44.22334791072934, 69.84310072244915, 15.560865788043305, 52.83925473622865, 57.26839822668966, 6.896865631233243, 60.75417474865619, 27.753936957698045, 45.63509579471698, 22.696636141642202, 28.942474879538235, 53.58633072533839, 26.551515276858446, 22.663763586787585, 16.86318365610724, 34.445686753352724, 6.263177518044272, 66.94300713013546, 3.152425672396879, 51.56984106424803, 11.409755065447573, 74.85330485143454, 38.36032805031108, 15.831885773438401, 17.945853395234835, 31.951279384756806, 10.000116691781498, 67.67686221865173, 64.21626581220498, 11.2009517792464, 72.80350794391295, 33.39097774573061, 33.80217872820157, 63.34179855377786, 16.30106620188012, 27.028656544990586, 21.26795624350956, 18.674837480933302, 30.976655754519495, 68.13815148194371, 20.03289583819699, 12.746242110357686, 61.54138743010602, 21.22976587816397, 1.376595578551378, 35.537947803372084, 31.21189580215401, 57.72493500935653, 57.085175205127705, 64.21375468668593, 67.40519067169312, 47.10912003839758, 10.305274187914957, 45.910951825778085, 7.088075176813053, 33.549121359461004, 34.02468171969703, 20.097844215724006, 6.686490000610774, 69.98173530031292, 6.95537211508602, 11.016452350036912, 5.31763523694553, 22.989647619618353, 64.89632159448257, 69.93462575256036, 42.15154069327478, 40.57429372594354, 76.54689312900643, 63.18875105313689, 29.170734225451607, 5.935650698127571], 'therm_cond_300k_low_doping': [0.5423496108226872, 0.5429909097329826, 0.5442801196450503, 0.5450753211120212, 0.5583765659719828, 0.5596520937817919, 0.560483440650285, 0.5605881347587202, 0.5749636472302658, 0.5945448965242794, 0.5963145535980058, 0.5988334537574116, 0.6041868842183032, 0.6063079665681215, 0.6103551416695835, 0.6132430149796478, 1.4537053344435056, 1.0127952536420985, 0.7681285294512127, 0.4421064637359633, 0.8762779182619734, 1.8076702130254323, 1.3780578452895424, 0.9758666459404708, 1.6964134374737896, 1.7291786302150765, 1.9365154187361338, 0.523791700585225, 1.9006202412396593, 0.02636489515235593, 1.2200091828331272, 0.9005002454691288, 1.0518772864798278, 1.5041944924350148, 1.4264192884451576, 1.535279679582606, 0.16743180304575936, 1.4573075135120164, 1.3114979663933821, 0.08590461161837158, 0.6437926627342463, 1.397804475829537, 0.7470651583842838, 0.5621697251336769, 0.4595515153197799, 0.8228790919185227, 0.5560336454715855, 1.8188102955145997, 0.23308858633325083, 0.9443343822594118, 0.3137633941087662, 0.5054465591900051, 1.465976327271173, 0.7504177124744966, 1.0757427368461745, 0.2822326308781643, 0.8443851388985709, 0.9471780881360861, 1.6192048204776572, 0.5945998717276169, 0.6304721891553995, 0.9195278047155312, 0.33526461623473824, 1.9077192100503186, 1.6541084453852806, 1.9819622753880681, 1.6780419166902185, 0.09260974550342659, 0.48313285159179525, 0.5165663513863623, 1.5358358915904546, 1.5123120117039732, 0.638339242405908, 0.40239885241710505, 0.8571966057213792, 0.31839732699583834, 0.9340424666805744, 1.112224008588184, 0.556212857900852, 1.7607125873195009, 0.7466335060733104, 1.2923205824713233, 1.5476271224307536, 1.2570501990082084, 1.679994048498931, 1.3523670181536054, 1.9159367452072378, 0.35966333712690435, 0.1806518283092233, 1.3361902111227908, 0.15818480358439144, 1.5171058666168007, 0.5562148932430674, 1.6777238368011302, 1.8694326833803363, 1.2349862414872839, 0.5015558395594842, 0.7985009638064415, 1.0675005624115337, 0.014662694659501601, 1.6278960755025034, 0.927639863004411, 1.0020324692335594, 0.6408167505453548, 1.9196756453302561, 0.2224746265581724, 0.8619942453641771, 0.3315728647067364, 0.8388643458526307, 0.5570665992835486, 1.5839571346226453, 0.35236315080522795, 1.8911358521464907, 1.8033533745521635, 0.728463913357056, 0.6290974424371626, 1.7082202089990153, 1.4520825003510593, 1.8034568577251522, 0.7163165300378556, 1.579500110504832, 0.8622294506852274, 1.4416701625443726, 0.40263030322145366, 1.8105283558019722, 1.2448608688797955, 1.1300210552957546, 0.764958590414585, 1.0586803845505544, 1.3611624709697172, 0.6640049924555921, 0.7069866324876326, 1.8742099249483959, 1.090121107414649, 0.3873314091608698, 0.7119578844655609, 0.4511725419028413, 1.5293647114894298, 0.770792233672357, 1.4122261490541095, 0.2839549588256442, 0.19837126364309554, 0.5423332539503842, 1.3700392859386332, 0.6536990092893129, 1.4197776346754596, 1.7541265013896337, 0.621698620015564, 0.13773774215583512, 0.3388511034990436, 1.3280626566542437, 0.6070020453340312, 1.6669217650700863, 0.2292880901542224, 1.5947044479479637, 0.41940740659827214, 1.4745360410967412, 0.5717634823222941, 0.8120147127278272, 1.243235918189644, 1.7846479685277707, 1.5694873046095092, 1.126021009014956, 0.502869962004444, 0.5267575076826799, 1.8388408220085646, 0.42780392667757733, 1.3338826155441372, 1.0564231379697444, 1.6954260519113047, 1.655919173268987, 1.1922069989855804, 0.641868154776951, 1.475789880174256, 1.2714082712883479, 0.9160713713418241, 0.04519070936104167, 0.1217255135049169, 0.2593596520456755, 1.3313764200157268, 1.2010834168552529, 0.7594761772187948, 0.6834358037224993, 0.4440587186582095, 0.8084400314137162, 1.1330903244184265, 1.9280348187890022, 0.7743642637992115, 0.20436272505885542, 1.486499446547638, 0.037179684269550255, 0.7575386231326083, 0.3574115566403725, 0.15082464861706968, 0.23836030771219227, 0.9079011631756243]}, 'elastic': {'bulk_modulus': [395.52680416904974, 395.3734214717865, 395.0650746299676, 394.87488228141757, 391.6935564116448, 391.38848198728215, 391.18964456060996, 391.16460434226315, 387.7263404655765, 383.04299423765855, 382.61973642318, 382.0172783581748, 380.7368713739737, 380.2295614024306, 379.2615781057289, 378.5708708699281, 177.5532557797801, 333.0154973521896, 61.73143738859642, 52.91475611732729, 106.75604385832854, 330.9836789995308, 236.20008301179433, 374.71337972564305, 126.87706977857424, 349.68038248635, 139.69908322785608, 394.932781410011, 141.5294216836299, 169.1580214062288, 316.62476620654894, 311.8605474671243, 373.1101141097627, 358.65634776752876, 245.25219303872177, 371.8093798636557, 312.6559660605821, 309.767862263785, 113.73593456312751, 389.5788794777353, 370.6407617845247, 175.45142418142547, 94.55576477524708, 326.5473992419765, 134.32330710360026, 29.03865249622818, 338.13483410118687, 373.93971043107314, 91.2579669951599, 386.7309605633378, 205.22275807874763, 297.61618949089285, 375.08903811551284, 296.93101201610824, 381.39174418498726, 309.84255781937725, 200.42717398237056, 325.14579262822593, 373.1317033587926, 51.26133653701548, 387.2953045073967, 221.67986554490125, 285.9882408877143, 25.792493170387363, 115.94686660870406, 232.25243297633995, 23.420344154496345, 98.04680133041894, 79.22585362840624, 243.94854768006238, 136.03326984595984, 350.77458807563903, 180.79037186849249, 345.85201109081135, 337.4648572016613, 222.82988277994787, 397.83491288300974, 125.36554684108235, 235.5805688076917, 49.23089341335334, 119.9826179005027, 271.98045937387667, 338.1271687761778, 169.1422392320871, 259.662369029818, 184.80955664401299, 343.1973307025663, 362.0722209287087, 32.650241932684835, 333.73023014496465, 149.91122556098261, 99.76550096186936, 398.2791725807756, 341.244563319346, 241.31865899391187, 235.38258587302383, 220.64849482513287, 361.8457057418619, 306.09226846022176, 317.9357496057417, 85.31876255187373, 137.72768805103024, 74.74031289291665, 158.3254515189448, 237.61419662014396, 355.27065969490144, 118.28301077187963, 259.78086670542604, 254.51561577919898, 21.75964459636993, 194.48382390286505, 91.24200857094114, 291.2904175736592, 26.116310223548826, 249.8580600246757, 391.77332612943036, 124.94723101238101, 217.3701005084022, 234.48592969251638, 296.71500469978344, 306.5443807829825, 188.22543830205962, 336.6991415243025, 238.97469488712065, 242.11683008603134, 311.9720579211249, 392.06551742202333, 399.1416453242307, 236.87983788163018, 190.7180326369279, 234.30714429528453, 135.6819810802915, 23.5666522692593, 103.6301350686109, 35.62771680073797, 204.12401802753655, 333.029511917856, 284.6671804815268, 258.5990659912834, 285.36897408479626, 190.51503000744623, 197.7073101296122, 342.7591961740189, 36.85418638178068, 28.49888825619336, 119.55938723129272, 119.45350313961225, 78.5911999693823, 20.980532483597376, 124.73611847031329, 105.52592297183206, 309.45754312757145, 147.91378722327562, 135.26944814284167, 155.10209298602916, 300.7342003934882, 142.147819552138, 353.2845217011645, 145.19673080120094, 263.31127140028224, 35.157874651608424, 50.04362736066202, 242.7618200187438, 366.77724865456065, 20.92371800448698, 90.60172365811482, 198.72196323705188, 335.74022315811607, 21.234087348665053, 298.7605441165826, 398.8208533128535, 370.6293911461733, 209.2958866527324, 330.5968309324117, 204.59317483130465, 215.87864799172664, 264.8696441770028, 282.3006667302827, 359.6668259784918, 282.0504441650248, 332.5781405129241, 133.2327983483566, 103.94772285660565, 268.7159707166278, 134.10089222814992, 123.43179252100266, 193.98735887044782, 111.01617307329512, 108.09920778607933, 66.46660348605988, 352.42948265211567, 345.9124612904245, 206.84830897137562, 229.80666904998472, 69.77757364387244, 129.41772385223857], 'shear_modulus': [164.29506867108907, 164.31936548890923, 164.36820963609637, 164.3983373423237, 164.9022800716115, 164.95060584656906, 164.98210298945338, 164.98606952305985, 165.53071290539685, 166.2725854380794, 166.33963223144542, 166.43506551114962, 166.63789031333297, 166.71825151558625, 166.871586371685, 166.98099889457538, 198.8234978180488, 196.2701899913871, 108.21449500998959, 126.5322744029327, 102.43292678490815, 143.75669721785283, 199.5402543470066, 101.08954868377327, 163.9391693980134, 194.3377516642895, 117.3190922498636, 125.51397064036118, 169.79276376924844, 128.25862349549794, 162.27640965368792, 141.25465996567797, 171.320649476121, 139.86193912984663, 184.76784745758326, 199.5795565263338, 110.04522014522806, 197.15124553279804, 148.04613112474334, 195.63622155504794, 158.63645850521743, 195.8647289592904, 104.72290383180474, 194.56020443236798, 116.26941457803409, 104.14011794521913, 193.56560471734153, 149.7888449664975, 161.6612825496201, 125.11975513386346, 150.31396403422363, 173.8480934030593, 133.53729636273988, 156.20474914326388, 179.68925953125944, 197.46821877507267, 195.44488320392557, 129.0244032004728, 147.2492842367754, 121.12378525167713, 130.90297426699175, 105.9432093267248, 197.55513248203158, 194.18148628678864, 123.5576449124462, 114.55526212821194, 154.17138956803512, 108.69865465514835, 139.37654934393228, 183.9633588092559, 177.1959200176508, 189.72524246354214, 120.28631825586554, 143.19150731647426, 191.59065355299288, 183.30852451803435, 139.08671108221267, 120.37529593134153, 168.59289019569815, 175.85695647227186, 149.9215444872794, 178.2603327771331, 148.52997608433515, 174.67390334234895, 149.24565355901353, 125.64434468942247, 163.03266469532994, 178.0569502122782, 166.86284889707179, 152.04655416145545, 150.02855737916641, 164.6109817463797, 191.24824226219283, 160.08332284323166, 131.20308561435996, 111.9612307913055, 193.70666109460888, 128.88511735381084, 158.74420156187722, 148.94354292928006, 114.27263405954838, 164.08900121014818, 168.29858451917465, 136.05604803186026, 192.27962391021848, 156.21851754916787, 164.28083618765612, 138.68744784320452, 131.4612982537184, 190.2892333074958, 174.80037252887576, 127.42897548237288, 160.62015609272538, 196.4163380147278, 145.76160597333393, 114.25573468215778, 116.02826198731907, 194.9663425170445, 142.0262707380827, 148.53416114455294, 173.3650405789443, 134.37454129962663, 137.2057887358239, 185.50306868654948, 111.4858881033135, 185.49842363903463, 188.06995402367843, 148.30755630105995, 134.29853339013272, 158.4768480039154, 103.3454594843259, 170.4278211862797, 165.26702723624643, 113.72533250929695, 190.79710409078345, 110.0496997886035, 139.44334309892898, 132.37496911381706, 190.53226124239987, 187.2878254630415, 121.97680868618754, 153.55414750321233, 164.7304416521361, 136.2309726308269, 143.9184753807192, 140.18841206688086, 169.19727856920542, 183.943433796101, 181.81973849972306, 178.09963666039803, 125.62044179074178, 121.1142374569774, 109.93073335951229, 134.2452698856094, 136.02532266630712, 186.385846042794, 126.5322654692242, 126.92372734637821, 140.4373674512188, 107.85974767218107, 120.4483534810949, 106.53379472255186, 104.84877627483874, 154.7840902038796, 141.2256212673272, 136.7428657294823, 113.96946587543661, 161.87538695265712, 149.53185859912497, 167.00631741103933, 160.55276302404775, 184.98785676680964, 125.3418800395153, 181.84581254792482, 111.05469478955435, 105.28526380217245, 127.42952380674099, 127.3821854773858, 108.29214047066759, 195.44952698346074, 142.33521157172305, 192.9363846853919, 111.15569988084579, 124.47127928197615, 129.55940917050145, 129.3412192695591, 115.74180349718728, 124.41186976016098, 170.79186724711246, 174.1553413769992, 151.91457184009076, 149.36050630855158, 180.3193190737099, 118.86719667736784, 109.46295879983427, 165.00618356385945], 'universal_anisotropy': [2.000765912778184, 2.0003121947700397, 1.9994000807090417, 1.9988374768750492, 1.989426866273947, 1.9885244322795828, 1.9879362556287354, 1.9878621847055185, 1.9776915313956, 1.963837827164972, 1.96258579746447, 1.9608036794151604, 1.957016135468866, 1.9555154729175666, 1.9526521026604726, 1.9506089366656765, 1.3559831180566757, 2.1841248625104783, 1.5277512456103313, 1.3242457645276566, 1.5372241053633104, 1.551559300645398, 1.6988025560947668, 1.8371915869320397, 1.8096293066994964, 1.9551768341934996, 1.9754543194810816, 1.4332131696353174, 1.7325865536814224, 1.3517418785047355, 2.1253883229405037, 1.5891899909943763, 1.3289833281407573, 2.2438498842603183, 1.5488070694668294, 1.670902545389319, 1.5210919504941882, 1.7095530327059505, 1.4481204466445705, 1.6057128528813638, 1.6261864695165515, 2.2208902422352295, 1.411112550255905, 1.938372312733089, 2.106018804615093, 2.0482627330906333, 1.992059122203166, 1.6155823303705004, 2.108299972132233, 1.9944690888229346, 1.6115227024624967, 1.4402956834967138, 1.3179272910438962, 1.9391634373582936, 1.7242294796680526, 2.117001320575267, 2.01897774467787, 1.7472752352203489, 1.7211238675680205, 1.8702648566716369, 2.2310622015637955, 2.255413668708533, 1.656205937761459, 1.837635412941471, 1.3116127483411815, 2.1970131253869445, 1.9075795323824902, 2.244980549522018, 1.7951853199483652, 1.3850697971215176, 2.2406913861659308, 1.5219913408718102, 1.6266324700008288, 1.8550446425889797, 1.3613915885859555, 2.2815622406025446, 1.3891668928988026, 2.208948694145302, 1.8613974382755067, 1.8491399965712723, 1.543728875044049, 2.1413009122170177, 2.2252474832781304, 2.240824081225759, 1.3852622934697432, 1.4536556940487273, 2.2340524077256494, 1.5136418833370093, 2.247640508794654, 1.4806006090986497, 2.0527719022747033, 1.5167834898672725, 2.0100136039306746, 1.9259152642318926, 1.8747999763366319, 2.2160243358263507, 1.869591029935874, 1.8488672436024183, 1.8115729804590324, 1.862131632136061, 2.125300355960489, 2.2925299440590274, 1.9205147256291148, 2.0153629062201968, 1.3231987156792988, 1.3093521576451461, 1.9570872547767666, 1.9910606758202287, 1.6858263767858683, 1.9787841572644123, 2.0379940364431364, 1.4861539563151902, 1.4445857869885201, 2.127315381129021, 1.8111987650414363, 1.3666505244916778, 1.6357213806273543, 2.1596904390683207, 2.276375058184379, 1.5253123177243357, 1.7407809199403597, 2.073177868691036, 1.603080860175345, 1.5966190521380705, 1.4513434138878876, 1.7896576881865478, 1.853127527190666, 1.3240228933880849, 1.3471614250804418, 2.065191494393812, 2.1593412600399398, 1.3085862953780416, 1.8681070091240028, 1.6245593205920108, 1.7807400650473242, 1.5828547450166628, 1.845699563680862, 2.1003681447135136, 1.8387808578275076, 1.3152443707789592, 1.975139785425278, 1.4473670433967298, 2.151012795207768, 1.6272235401598314, 1.5717378395174821, 1.6484989793160827, 1.9256160684009958, 1.3519522192129971, 2.1496074269578647, 2.0394730396035934, 1.8196121465042394, 1.3151683781933923, 2.275529414572173, 1.878711342438966, 1.5717709888222922, 1.490134279764325, 2.0444361540389857, 1.5987522001383196, 2.114382006843132, 1.5912554225015738, 2.133723711613265, 1.6885423303437883, 1.6705898493936666, 1.4879540890733458, 1.4610581167313936, 1.438973389792422, 2.2364064002159543, 1.9440152590578248, 1.9599696480505433, 1.9205615744642266, 2.2846144471527925, 2.204961954517033, 1.6892889327014542, 1.806895582543735, 2.0500636318570717, 2.2223923657889824, 1.602399692333594, 1.9475842772637075, 1.65000659985237, 1.5932674134607632, 2.1987753902334113, 1.6227539786572196, 1.9700000694053783, 1.3350004460641147, 1.4577362588767333, 2.067530988550853, 1.5205789580790325, 1.71947277800477, 2.071704469197415, 1.5142900153452175, 1.6237973859917993, 1.905120116806962, 1.724092579729127, 1.610384752484789, 2.075173006851313, 2.0568864858147613]}}, 'mat3': {'carrier-transport': {'elec_cond_300k_low_doping': [19.364168687663298, 19.357422806006213, 19.343861489499456, 19.335496692828812, 19.19557968645825, 19.182162293231535, 19.173417279789582, 19.17231599292575, 19.02109866768758, 18.815121722592686, 18.796506538625685, 18.770009998387465, 18.713696775693876, 18.691384917234274, 18.648812313661008, 18.618434511239077, 9.77753481014279, 10.859997584516538, 54.2021832408435, 25.781187030245533, 20.062575186600395, 6.849727436377765, 28.228107617515125, 9.204931738546597, 64.68523407835744, 23.814279511402354, 9.021100861042306, 15.348381205173418, 63.14577907155219, 39.28761192474098, 52.27934426414077, 8.926022159573881, 23.003215281643598, 53.24390755442769, 13.573343950681817, 31.738025851708404, 75.3887204386836, 24.577083459990604, 76.81412704750515, 23.74421649093562, 25.544302166060636, 61.54423353103652, 55.2884968012636, 35.9061330631744, 52.05803239755715, 34.49317233686206, 75.94421893369805, 27.515262980143298, 4.514517275747385, 46.20775585437166, 55.83078696572492, 59.338097848821704, 15.378694497536689, 10.245587102699146, 70.30465648760872, 28.5970470446297, 42.14519712929065, 34.64749711267577, 42.47768560787987, 21.307841622851438, 6.215104811067341, 48.09281537627843, 4.961868095205031, 76.61121156776264, 25.02195468773661, 27.152505361902428, 41.59648184356476, 38.7834927109692, 3.2264795549537557, 23.32880417222548, 24.64237205813321, 21.92657158673946, 15.448626001893617, 65.81680846619697, 14.047860033719349, 2.366461579007718, 67.23398676831488, 48.41593877171172, 66.20583766763455, 72.46698471634527, 24.843295500410658, 49.615619614296094, 46.84922761498479, 17.443975202824987, 76.07181270810548, 62.118310302890265, 53.09109253155433, 46.988197879606076, 34.679237310749485, 1.6538307046557665, 36.42801681431918, 18.111583297647734, 34.453422651636494, 33.36728018794779, 76.93312720928793, 28.607091481435805, 20.727351122916467, 63.85939030691331, 66.33207822696065, 41.56752688554819, 20.914489516493195, 30.239042122400054, 45.691554650320874, 26.388386385776652, 38.36623348186279, 45.05973181097526, 38.521823149888085, 14.696945311487982, 61.23428222112988, 48.378400365950355, 69.79697038142704, 18.875416915819322, 16.558941055755472, 74.14808371640902, 24.379684570574465, 8.34101215516188, 56.88951545529652, 34.1583809125205, 7.929571071012583, 47.320279351395314, 73.57024239191972, 9.632824902149354, 68.02739384625494, 30.197366872567457, 39.24598106355849, 56.016879479493134, 9.277975300413184, 46.31134224946727, 57.81992572118331, 71.06331039284944, 57.94438559769617, 29.104131910779444, 31.81223865559826, 50.79312919914081, 39.2822827505673, 0.20556918536017169, 3.1764782018200024, 37.45924725406365, 30.31008323972053, 51.72280003953234, 43.33031463441809, 18.194190664722544, 28.805761344065232, 42.08280151398679, 44.76773257342067, 35.14848723509847, 35.50195124431549, 29.084045407945023, 43.314465746150525, 19.422691387117286, 59.251403612661086, 1.0980843490085768, 56.88498753178311, 48.68790559085293, 56.72041259109707, 32.94281954610964, 57.79176540849776, 26.348956341211437, 58.948512849704, 2.759164810407075, 49.95441300566575, 54.706276966914295, 17.194473231152745, 34.23090349499938, 52.494302472335896, 33.03696354025266, 71.14712412488018, 16.590689823877216, 69.79961954307578, 61.4123624593256, 56.08305945231816, 66.00500498872871, 71.78808830116431, 26.545990066394463, 72.51651055177487, 29.10104755368453, 13.201410046514484, 77.3807693222572, 44.65257494226585, 8.55774611509449, 16.20746191866764, 21.776323937861726, 25.489734198745246, 56.72915670310954, 63.26913759519673, 77.72508242141424, 68.53243583055958, 50.36655872933204, 19.392320657182882, 76.45567190325592, 13.174359713496488, 73.85533799124093, 60.707661004439416, 14.60299269444678, 55.09559312995769, 51.45384351768027], 'therm_cond_300k_low_doping': [1.6117422763540752, 1.6115806577059373, 1.611255754045866, 1.6110553492361495, 1.6077032006852812, 1.60738174515655, 1.6071722310674683, 1.6071458463036683, 1.6035229633474621, 1.5985881427997481, 1.5981421579721864, 1.5975073506584327, 1.59615819166237, 1.595623641460485, 1.5946036818781821, 1.5938758868158895, 1.3820645431475524, 1.8660513223473283, 1.9207606236472607, 0.6959195895456207, 1.554365963771327, 0.926754874795477, 1.1618054853670934, 0.22379354564619708, 1.3099875776008834, 0.9309529981994874, 0.7376990247040189, 0.2563874308560746, 0.44583021165465986, 1.4976033475267603, 0.32399840366829036, 1.7270006482683544, 1.0406812038248514, 0.464554607860463, 1.8216850421860589, 0.9155281101382371, 1.742287163938617, 1.563778344529398, 0.8641485745190484, 0.24199559552042801, 0.005384978524611135, 0.1490922929220335, 0.4855764970447643, 1.7165304233636016, 0.7845097330578954, 1.6541051526397301, 0.6372341691582671, 1.5694124651456238, 0.43905974767353595, 0.07420733855764235, 1.4872827139498146, 1.9085881387721857, 0.6930664412761303, 1.849340934731368, 0.4049668325771318, 1.388000999276517, 0.6710961148550371, 0.6866366310329776, 0.19112537236467758, 1.6074239690276517, 1.4289367790231826, 1.3875539329258635, 1.1276637848243882, 0.6879439347162328, 0.2938405647154163, 0.06610003826038072, 1.3119911878672497, 0.3399113413171606, 1.8147333721298116, 1.5134829606066957, 1.5495249161214897, 1.1780306785935202, 0.4511054771874497, 1.2397845368281937, 0.9281378185303475, 0.3874041046729963, 0.7146217070681509, 1.5579909470438686, 1.4722488578293975, 0.18818170107814683, 0.6474867891867336, 1.2552639682446005, 1.853070992146033, 1.5700322208499176, 0.5043893544639466, 1.4691492382291476, 0.006685860841214177, 0.2715542822384298, 1.394841540235332, 0.300889024316797, 1.275830821578107, 1.1215220306369948, 1.2231207699728455, 1.854411239674444, 1.6779805647993467, 1.5718452183210703, 0.15796588836681794, 1.949925943464653, 0.42665400453759716, 0.7339145840645683, 1.5725586176756616, 1.975717906857056, 0.47255281827834605, 1.9055031356489025, 1.543237585654725, 1.9893501208886473, 1.4124566965742988, 1.578837599592765, 1.5404217744316764, 0.37703392912471106, 1.8450404527801858, 1.148038862019293, 1.9286173368182455, 0.2435748644409137, 1.3453654310251, 1.4182731483134556, 1.8487115805790129, 0.8254510848361795, 1.4876475949568742, 1.9461387727544843, 1.1976588474906327, 0.4736443016634259, 0.10869490931159462, 0.5404606892913251, 0.2955222396043916, 1.724539701029719, 0.051613366854788165, 1.6224777948509341, 0.28917522901693143, 1.7297331389032464, 0.6827702845724554, 0.5734004554182067, 1.8852747540127255, 1.7230009986454757, 0.6471447974969566, 0.7576639121952007, 1.9400826702690024, 0.396961155837094, 1.2315105100550228, 0.30408602849791844, 0.272984963047271, 0.13490032601926202, 1.7508792533229947, 1.3390404780611507, 0.8470249606396295, 0.7605855943298027, 0.7108327916809458, 0.798433113712916, 0.026968928887309406, 0.13251215298275235, 1.4061281684166937, 1.194165702428873, 1.0939136614697973, 1.8916965618703743, 1.7871977814724878, 1.7329832099379217, 0.9502423463098754, 0.10031501404116219, 1.0597350988634997, 0.04472142789178545, 0.4154053238751604, 0.04070378075768893, 0.3364080450319833, 0.9930630011941933, 1.9143625005019989, 1.971731049043014, 0.2943959708868397, 0.3950343714218257, 0.11015295523395432, 0.1561398567702209, 1.0762257402106388, 1.7708212133370151, 0.06876258193181774, 1.2643766520704123, 1.7548403708282152, 0.956283358720879, 0.2888852423040381, 1.7704435819130806, 0.2446140171058894, 0.06697613643953612, 0.041008807183591095, 1.9834571681629898, 1.3019872863775646, 1.6987345320198832, 1.8178657384023431, 0.9878682082760737, 0.3034432899103322, 0.6241116109980689, 0.6433011349524402, 1.109775534535996, 0.6015871862168745, 1.9961499145501274, 0.8510504663798164, 0.6055698209516949, 1.361748827839583, 0.12486022135810504]}, 'elastic': {'bulk_modulus': [195.62286739061415, 195.60645407063421, 195.5734582016745, 195.55310591989704, 195.21267560805123, 195.18002991701758, 195.1587525345866, 195.15607300734248, 194.7881480315109, 194.2869881119941, 194.24169574155724, 194.1772273421102, 194.04021234686473, 193.98592564412365, 193.88234277677617, 193.80843092703077, 172.29774884260513, 65.71683480589121, 99.45260363445975, 178.43679366299665, 237.84454308003268, 156.544289147919, 43.93439477160575, 177.62045660112406, 140.6535409287208, 159.46077806302176, 37.616946369019914, 179.26597207673154, 160.53899953988235, 190.20879969935865, 251.88015659771978, 53.647357631237576, 160.23217284869293, 240.44313872159614, 263.08388230394735, 91.8300394473031, 127.58375327816292, 51.26935008687643, 284.5962497634202, 176.05364120766208, 169.4933532198608, 178.076960131936, 270.365152009231, 208.43101517881757, 269.8272945279932, 280.74323990445515, 279.48760205802336, 241.53627209791694, 109.79170451608593, 234.25686381744728, 115.86917835486138, 287.2525326184831, 53.36641504383772, 86.13008312491894, 247.78023575931974, 181.27201627219267, 299.9990995049431, 172.73167888648499, 200.74808788139336, 247.8927027200358, 49.45333450545551, 258.3868756626212, 59.11764062319215, 85.35064096406744, 129.50894502085498, 238.635395958553, 156.58096183779796, 296.8627936442012, 239.41705611924155, 158.27359592058838, 23.1521575378135, 66.84083526388304, 233.48548458490333, 159.9678938530506, 79.34713725894008, 34.714940363462176, 135.53648823403367, 189.17232443967387, 114.07812691699893, 281.65186966577784, 282.76735261386676, 217.0973072116985, 161.16619640830515, 181.94847400208306, 104.0995060166353, 69.39606742654365, 205.49976541887634, 222.24908496780415, 115.70982023690347, 79.01038685311914, 67.96079753863903, 153.31913647443804, 186.1049937044421, 185.48268297274024, 21.89669730382953, 293.8669824140378, 245.61573987778667, 41.51626951694978, 60.52027671768536, 137.98559386161247, 277.5686102452456, 66.42744593524964, 239.40056616352277, 206.24176419801287, 91.96855866480924, 133.16519014949841, 82.77990976273733, 131.0413792264421, 296.68821230052674, 59.09106110003917, 163.8364008808125, 157.1047207501941, 268.38513990776744, 264.0530106314246, 237.9646102740047, 299.4457473618382, 107.59477091892829, 252.23242235909345, 54.952885247957006, 109.98054828161412, 73.20034583825911, 206.57307099761582, 293.1207808920258, 76.38065347752313, 48.59805109833839, 209.01038392169437, 58.41769770599682, 218.9653544800354, 237.14552312901037, 252.31664939667644, 165.4611746728537, 177.70664401601803, 95.11271120129739, 129.5043136374868, 211.0750296608494, 173.95474323121485, 239.98083935036374, 249.28767452120567, 290.0647185516006, 214.71823797929238, 42.96719702196846, 215.23577513966217, 133.17183915480183, 274.57943417947115, 261.9184061889825, 234.73896526009088, 220.67905741448294, 231.9386625085904, 70.2062991487903, 37.58041852855267, 103.91125802864141, 79.26813059556795, 46.40047661490986, 100.93206464646747, 214.5613378239093, 112.58145617818609, 133.77747683747077, 178.8576530499918, 71.27206294042338, 282.7161049667256, 36.46305875301019, 46.49020191403912, 282.58579464512707, 59.58508568328716, 157.77213218161856, 123.67353836203716, 272.5071644749546, 130.4761616698064, 224.13636651549797, 277.6525775394411, 152.0103057887709, 113.35990553304363, 267.03004810194784, 129.8392437140829, 158.995767137387, 135.97693213711352, 173.8432959642774, 33.76180518519938, 163.8280670561015, 216.56022264382824, 284.2120541117842, 257.39211084116357, 232.71271037563898, 20.363828046204283, 227.14516827381607, 281.70948438701345, 65.25541841331477, 134.37428195064828, 142.31836642048137, 91.21996032003406, 130.17063875241584, 218.1797971419453, 36.88800833175996, 199.58470966157853, 234.94366064437443, 128.57891975344455], 'shear_modulus': [281.7363313288075, 281.6884510831, 281.5921969239749, 281.53282610482285, 280.539737138217, 280.4445045033879, 280.3824350195753, 280.37461841556194, 279.30132317326706, 277.83936056518235, 277.7072355698833, 277.51917107046063, 277.119476697477, 276.96111381482626, 276.6589462371673, 276.4433337022975, 213.69327796729482, 198.4340278420002, 280.02342103190813, 115.11855671916031, 122.97021972170103, 227.774704618707, 131.8953204343021, 214.0431834968514, 107.69715595012104, 242.42647156530606, 205.39336520759656, 184.88099018831625, 157.88482311753884, 131.11417926688148, 273.8461412546955, 293.4429817978843, 288.25136527956215, 219.7780045617525, 146.19082944185445, 241.20930588679602, 284.312148040419, 219.10861724013668, 299.86061388648216, 101.26891465455058, 117.02037631579213, 138.53968217796316, 103.23296963805477, 193.50270186831904, 283.41883137049035, 224.03963405948332, 294.9710163430459, 198.75852625466777, 275.3103919165095, 137.42627347636642, 192.25278271901738, 291.5994119872091, 281.3581411276828, 217.40254070258504, 289.33322295971766, 119.32450974712343, 100.5916795241458, 248.67028073197207, 191.92259256297223, 143.31164414445016, 172.48636461694548, 189.12423583985367, 250.34161695414284, 213.27227078214332, 104.30291412441774, 185.18544214428806, 154.94936397163173, 109.02855277049875, 202.3605537746742, 107.31012342378693, 202.26269863815432, 196.94489372146683, 167.35532424320064, 193.03089251699487, 219.12717686953317, 152.38149255880722, 223.24668333291737, 190.95441315441408, 250.22416008772, 278.1954239380991, 123.41370442698579, 109.00204985114566, 255.87217797676234, 147.14728201940093, 246.21049583049535, 263.8931434764604, 255.54990201658677, 119.19402541302043, 265.04283816851824, 131.49731581551902, 149.39378667250674, 146.78113368507837, 107.3903638288349, 155.3908107808907, 133.97789939012947, 139.164217834894, 181.976175812342, 257.68875939723, 187.6596268832041, 273.4063360020398, 151.23288916855904, 115.16104741220056, 123.09746322153603, 188.27820633553944, 252.19975524858083, 168.47547803656215, 114.51403989503146, 159.71619718204738, 181.60149930529178, 125.89729853630138, 287.9423769895337, 191.6537214265311, 113.38469389751013, 160.35240696851818, 219.28644876614234, 129.44402763304373, 157.2609332807295, 196.41293359401052, 273.4030787027288, 135.74984776233947, 165.53617782326685, 180.90024682214124, 271.2616329998558, 167.75461135610374, 231.12190110989872, 169.34934872839904, 178.6028990990978, 163.3072833382164, 248.53667056239465, 228.01427041517192, 136.27141273011753, 217.3390696207652, 109.92058198793917, 274.60563377871904, 183.84518768219277, 285.10785466312683, 277.00484162031927, 144.69956956152632, 165.8462727104611, 102.97712071296013, 109.77124038019753, 240.15924357956266, 237.73715551030332, 261.3564033904832, 135.35305382046715, 205.23359488847382, 271.1565334090759, 112.69033736969003, 119.31044718936488, 256.27793830339226, 205.94998555682164, 277.77610631656256, 172.6174643007506, 200.3001274699336, 119.82770325455922, 143.36415931510692, 190.63952186702227, 285.11529923113216, 248.34733378407964, 292.4926829845263, 284.22220786966204, 173.31433319809193, 162.91799747301363, 270.22925939523043, 249.0205904298839, 100.53469233240871, 210.07341611106702, 100.49972368894345, 282.04994779760045, 152.8901783730786, 239.62521705903353, 269.7086724586718, 113.51305722909024, 233.08340845714866, 195.33029332492208, 176.23731972332894, 282.93249178183487, 181.0674288167929, 242.49348978735415, 201.02595544922605, 215.84249543158552, 226.89207834235796, 184.73206885443471, 179.64524876349748, 298.9631841051477, 180.69701871756246, 225.40357242454695, 237.0537082361424, 227.12218220904796, 105.7861914316818, 205.3908411800341, 103.27680735230307, 177.2974261787968, 140.4682032361021, 126.96620802275487, 192.41655233490224], 'universal_anisotropy': [1.5438989118942132, 1.5441245867718525, 1.544578263340589, 1.544858096957762, 1.5495388421734975, 1.5499877039722358, 1.5502802572571563, 1.5503170994063187, 1.5553758823949304, 1.562266578710654, 1.562889325977436, 1.5637757339786558, 1.5656596211096279, 1.5664060359125744, 1.567830248134277, 1.5688464988177315, 1.8646075363938581, 0.9419891544548773, 1.774238932522814, 1.8589003274168046, 0.9739493138204014, 1.992576449604691, 1.4869686374812414, 1.3171425124941174, 1.4122963340238548, 1.7718749998312453, 1.0669353037245628, 1.6597963398776399, 0.977099082690874, 1.48099771412876, 1.4767045058246833, 1.2988265401236623, 1.5217028893664937, 1.2992079622158408, 1.7369892532548001, 1.883388424575917, 1.1430222809552513, 1.8374317694225641, 1.938061519039592, 2.0177938371466313, 0.913651753931938, 1.333709784165394, 2.072251177576685, 1.2928198152871617, 2.065797894626542, 1.0008141170952096, 1.9489080236367418, 0.9347358649571823, 1.3542822050620371, 1.6652169989807883, 1.0159577225243386, 1.8535156685313452, 1.9648173049977236, 1.4682644453539595, 1.2973449478627113, 1.8546247376060814, 1.4233377604627517, 1.9544348130491955, 1.1875687939428168, 1.9911821690284301, 1.0873974151462327, 1.905652102213316, 2.000430119539621, 1.4308934659073196, 1.7367085934611821, 1.1736099137884122, 1.7606967541329372, 1.472051439670612, 0.9484274522972448, 1.0164461988802256, 1.9760027910377085, 1.0960664561085351, 1.5910296141024476, 0.9776697877862199, 1.8498354062137894, 1.5993394908925171, 1.2346883433745048, 2.026597053043084, 1.9069474824127086, 1.100824260527577, 1.352162160728663, 1.573069614793718, 1.7988821487938977, 1.276709062760992, 1.3042316680400299, 1.5670517343852972, 2.0540220014182116, 2.0552219048363978, 1.5833215931214855, 1.5827686668749175, 1.041835067692204, 1.0295478319904152, 2.061599920505268, 1.2795328508480173, 0.9353344396733324, 1.134044431752841, 1.5003071008830928, 1.517602517910119, 1.684441232269854, 1.0827862690915218, 1.3909252658366287, 0.948630197864232, 1.5295707907730862, 2.063722155488729, 0.9925711800786455, 1.403565981148618, 1.8742364226497557, 0.9182791557928343, 1.0336622165959835, 1.4535908132738946, 1.9293401481961299, 1.118604616726099, 1.3049601130470478, 1.7245881582168026, 1.7602878307446508, 0.9465268666478328, 1.095924887800127, 1.7382777017695257, 1.8517217532912622, 1.2504979919961268, 1.6926137395245386, 1.31473627755018, 1.9151582977806645, 1.9035768764605545, 1.7764986248597345, 1.4235930741227998, 1.5994243665344077, 1.9155429224015537, 1.2968950348185737, 1.7955268862000895, 1.7742331404828349, 1.7084057530232326, 0.974649316008512, 1.9640517662068806, 2.058245572550479, 1.6031037119405924, 1.7311418011706392, 1.3474805127170297, 2.091026040259424, 1.4381425218988806, 0.9954728746379083, 0.9215638289398924, 1.1395464597305054, 2.0736721027044407, 1.217626292107323, 1.3428853888218932, 1.8426590872153135, 0.9066837606524804, 1.46202941555959, 1.5657105685338375, 1.8515158331896497, 1.5129862188613525, 1.2823756284455152, 1.3357836928549434, 0.9182378937558496, 1.2527247634312608, 1.541937819742095, 1.2880245480105725, 1.0528307513547208, 1.525598836524352, 0.9692662364556517, 1.7352977472631101, 1.7119331199479007, 2.0536336898269854, 1.7941943291939353, 1.6429282160797452, 1.1189797427441892, 1.599351543251908, 1.900122900442153, 1.6021000809556838, 1.737615871475343, 1.1660092843780085, 0.9057752893997612, 2.0281053688148503, 1.6789942837167544, 1.4936354080424636, 1.0194268749527853, 1.6169955698374927, 1.8798177992105867, 1.7924361510386948, 0.9168795718431634, 0.9839268276161006, 1.0087056790081972, 1.5203763815258222, 1.6024980357064829, 1.2709965380421668, 1.5440231552770403, 1.8532699424478456, 1.9329685082842256, 2.016793247391748, 1.0436636663663066, 0.9881945777625634, 1.1818070772123481, 1.4609481205186934, 1.117023283502181, 1.740516881283392]}}}\n",
      "keys of best_designs_dict: dict_keys(['mat1', 'mat2', 'mat3'])\n",
      "keys of best_designs_dict['mat1']: dict_keys(['carrier-transport', 'elastic'])\n",
      "overall_bounds_dict: {'elec_cond_300k_low_doping': {'upper_bound': 78.0, 'lower_bound': 1e-07}, 'therm_cond_300k_low_doping': {'upper_bound': 2.0, 'lower_bound': 1e-07}, 'bulk_modulus': {'upper_bound': 400.0, 'lower_bound': 20.0}, 'shear_modulus': {'upper_bound': 300.0, 'lower_bound': 80.0}, 'universal_anisotropy': {'upper_bound': 2.3, 'lower_bound': 0.9}}\n",
      "Initial query: {'bulk_modulus': (20.0, 400.0), 'shear_modulus': (80.0, 300.0), 'universal_anisotropy': (0.9, 2.3)}\n",
      "Fields: ['material_id', 'formula_pretty', 'bulk_modulus', 'shear_modulus', 'universal_anisotropy']\n"
     ]
    },
    {
     "data": {
      "application/vnd.jupyter.widget-view+json": {
       "model_id": "b14f40a6eb0742a6a64623e0466c9ea0",
       "version_major": 2,
       "version_minor": 0
      },
      "text/plain": [
       "Retrieving SummaryDoc documents:   0%|          | 0/251 [00:00<?, ?it/s]"
      ]
     },
     "metadata": {},
     "output_type": "display_data"
    },
    {
     "name": "stdout",
     "output_type": "stream",
     "text": [
      "Initialized result_dict: {'material_id': [], 'formula_pretty': [], 'elec_cond_300k_low_doping': [], 'therm_cond_300k_low_doping': [], 'bulk_modulus_voigt': [], 'shear_modulus_voigt': [], 'universal_anisotropy': []}\n",
      "Length of material_id: 251\n",
      "Length of formula_pretty: 251\n",
      "Length of elec_cond_300k_low_doping: 0\n",
      "Length of therm_cond_300k_low_doping: 0\n",
      "Length of bulk_modulus_voigt: 251\n",
      "Length of shear_modulus_voigt: 251\n",
      "Length of universal_anisotropy: 251\n",
      "Length of material_id after sorting: 251\n",
      "Final Length of material_id: 251\n",
      "Final Length of formula_pretty: 251\n",
      "Final Length of elec_cond_300k_low_doping: 251\n",
      "Final Length of therm_cond_300k_low_doping: 251\n",
      "Final Length of bulk_modulus_voigt: 251\n",
      "Final Length of shear_modulus_voigt: 251\n",
      "Final Length of universal_anisotropy: 251\n",
      "Keys of result_dict: dict_keys(['material_id', 'formula_pretty', 'elec_cond_300k_low_doping', 'therm_cond_300k_low_doping', 'bulk_modulus_voigt', 'shear_modulus_voigt', 'universal_anisotropy'])\n",
      "result_dict['material_id'] = [MPID(mp-867319), MPID(mp-867330), MPID(mp-684591), MPID(mp-752826), MPID(mp-16514), MPID(mp-632442), MPID(mp-16613), MPID(mp-944), MPID(mp-10883), MPID(mp-3098), MPID(mp-3748), MPID(mp-8039), MPID(mp-2658), MPID(mp-22793), MPID(mp-1019508), MPID(mp-1008556), MPID(mp-625054), MPID(mp-13178), MPID(mp-1330), MPID(mp-1700), MPID(mp-1487), MPID(mp-603719), MPID(mp-676861), MPID(mp-1018166), MPID(mp-1008530), MPID(mp-11696), MPID(mp-1001602), MPID(mp-534), MPID(mp-1008525), MPID(mp-1008526), MPID(mp-2850), MPID(mp-633538), MPID(mp-28897), MPID(mp-644751), MPID(mp-567164), MPID(mp-983590), MPID(mp-865562), MPID(mp-862706), MPID(mp-550433), MPID(mp-5597), MPID(mp-5157), MPID(mp-558636), MPID(mp-38843), MPID(mp-1016879), MPID(mp-6957), MPID(mp-2965), MPID(mp-27861), MPID(mp-21343), MPID(mp-754040), MPID(mp-1008349), MPID(mp-1018672), MPID(mp-90), MPID(mp-579), MPID(mp-1010071), MPID(mp-1008224), MPID(mp-1008280), MPID(mp-1018067), MPID(mp-784631), MPID(mp-20814), MPID(mp-2958), MPID(mp-2417), MPID(mp-10856), MPID(mp-20874), MPID(mp-20344), MPID(mp-1007853), MPID(mp-2199), MPID(mp-2794), MPID(mp-2090), MPID(mp-5436), MPID(mp-2213), MPID(mp-1918), MPID(mp-29076), MPID(mp-30551), MPID(mp-2853), MPID(mp-830), MPID(mp-470), MPID(mp-345), MPID(mp-977573), MPID(mp-1029834), MPID(mp-1016825), MPID(mp-20192), MPID(mp-550893), MPID(mp-776532), MPID(mp-1014251), MPID(mp-754134), MPID(mp-754478), MPID(mp-861979), MPID(mp-1001827), MPID(mp-13076), MPID(mp-2723), MPID(mp-549490), MPID(mp-5526), MPID(mp-2680), MPID(mp-36086), MPID(mp-35417), MPID(mp-2468835), MPID(mp-34993), MPID(mp-8001), MPID(mp-3924), MPID(mp-3524), MPID(mp-5840), MPID(mp-862870), MPID(mp-1029424), MPID(mp-867744), MPID(mp-9514), MPID(mp-4590), MPID(mp-3536), MPID(mp-763), MPID(mp-365), MPID(mp-15702), MPID(mp-1023125), MPID(mp-15701), MPID(mp-4391), MPID(mp-5924), MPID(mp-1029702), MPID(mp-1029536), MPID(mp-8634), MPID(mp-13079), MPID(mp-13082), MPID(mp-999558), MPID(mp-21235), MPID(mp-973149), MPID(mp-865027), MPID(mp-864735), MPID(mp-771), MPID(mp-3623), MPID(mp-864950), MPID(mp-978261), MPID(mp-999542), MPID(mp-1018024), MPID(mp-21171), MPID(mp-9951), MPID(mp-7829), MPID(mp-999516), MPID(mp-1232), MPID(mp-7017), MPID(mp-3136), MPID(mp-976923), MPID(mp-5475), MPID(mp-4170), MPID(mp-569167), MPID(mp-12725), MPID(mp-999388), MPID(mp-1580), MPID(mp-999357), MPID(mp-2533), MPID(mp-1018151), MPID(mp-1963), MPID(mp-756638), MPID(mp-647), MPID(mp-5622), MPID(mp-568055), MPID(mp-1929), MPID(mp-784630), MPID(mp-11507), MPID(mp-30811), MPID(mp-6927), MPID(mp-567907), MPID(mp-1009545), MPID(mp-3466), MPID(mp-12762), MPID(mp-1285), MPID(mp-12875), MPID(mp-9761), MPID(mp-974565), MPID(mp-999263), MPID(mp-20304), MPID(mp-725), MPID(mp-607371), MPID(mp-753495), MPID(mp-27693), MPID(mp-12593), MPID(mp-4200), MPID(mp-635), MPID(mp-4720), MPID(mp-11607), MPID(mp-641539), MPID(mp-978496), MPID(mp-1002206), MPID(mp-1128), MPID(mp-972845), MPID(mp-351), MPID(mp-999192), MPID(mp-10015), MPID(mp-978490), MPID(mp-2287), MPID(mp-20418), MPID(mp-381), MPID(mp-978493), MPID(mp-856), MPID(mp-242), MPID(mp-768342), MPID(mp-972309), MPID(mp-2220557), MPID(mp-675172), MPID(mp-570604), MPID(mp-1157), MPID(mp-20994), MPID(mp-999133), MPID(mp-30835), MPID(mp-865805), MPID(mp-10854), MPID(mp-999117), MPID(mp-33137), MPID(mp-1756), MPID(mp-755875), MPID(mp-10734), MPID(mp-11279), MPID(mp-608), MPID(mp-1018012), MPID(mp-1089), MPID(mp-865678), MPID(mp-2657), MPID(mp-753657), MPID(mp-980203), MPID(mp-554462), MPID(mp-568789), MPID(mp-10857), MPID(mp-29005), MPID(mp-20924), MPID(mp-1025264), MPID(mp-1008642), MPID(mp-1865), MPID(mp-1776), MPID(mp-1025123), MPID(mp-27769), MPID(mp-865465), MPID(mp-20586), MPID(mp-22790), MPID(mp-865471), MPID(mp-1002105), MPID(mp-11531), MPID(mp-1114), MPID(mp-11549), MPID(mp-873), MPID(mp-1008630), MPID(mp-1004526), MPID(mp-15955), MPID(mp-756214), MPID(mp-1017533), MPID(mp-1016876), MPID(mp-1014265), MPID(mp-2525045), MPID(mp-1014246), MPID(mp-451), MPID(mp-22227), MPID(mp-1009838), MPID(mp-1565), MPID(mp-755759), MPID(mp-775909), MPID(mp-4820)]\n",
      "Carrier transport is in the property categories\n",
      "Query for carrier transport: {'elec_cond_300k_low_doping': (1e-07, 78.0), 'therm_cond_300k_low_doping': (1e-07, 2.0)}\n",
      "Tables: {'data': [{'identifier': 'mp-752826', 'formula': 'Al2O3', 'data': {'sigma': {'p': {'display': '4.10475 1/fΩ/m/s', 'value': 4.10475, 'error': None, 'unit': '1/fΩ/m/s'}}, 'kappa': {'p': {'display': '11.1994 GW/K/m/s', 'value': 11.1994, 'error': None, 'unit': 'GW/K/m/s'}}}}, {'identifier': 'mp-3536', 'formula': 'MgAl2O4', 'data': {'sigma': {'p': {'display': '7.70117 1/fΩ/m/s', 'value': 7.70117, 'error': None, 'unit': '1/fΩ/m/s'}}, 'kappa': {'p': {'display': '31.6911 GW/K/m/s', 'value': 31.6911, 'error': None, 'unit': 'GW/K/m/s'}}}}, {'identifier': 'mp-5924', 'formula': 'MgSiO3', 'data': {'sigma': {'p': {'display': '6.45658 1/fΩ/m/s', 'value': 6.45658, 'error': None, 'unit': '1/fΩ/m/s'}}, 'kappa': {'p': {'display': '30.0167 GW/K/m/s', 'value': 30.0167, 'error': None, 'unit': 'GW/K/m/s'}}}}], 'has_more': False, 'total_count': 3, 'total_pages': 1}\n",
      "Table: {'identifier': 'mp-752826', 'formula': 'Al2O3', 'data': {'sigma': {'p': {'display': '4.10475 1/fΩ/m/s', 'value': 4.10475, 'error': None, 'unit': '1/fΩ/m/s'}}, 'kappa': {'p': {'display': '11.1994 GW/K/m/s', 'value': 11.1994, 'error': None, 'unit': 'GW/K/m/s'}}}}\n",
      "Index: 3\n",
      "Table: {'identifier': 'mp-3536', 'formula': 'MgAl2O4', 'data': {'sigma': {'p': {'display': '7.70117 1/fΩ/m/s', 'value': 7.70117, 'error': None, 'unit': '1/fΩ/m/s'}}, 'kappa': {'p': {'display': '31.6911 GW/K/m/s', 'value': 31.6911, 'error': None, 'unit': 'GW/K/m/s'}}}}\n",
      "Index: 106\n",
      "Table: {'identifier': 'mp-5924', 'formula': 'MgSiO3', 'data': {'sigma': {'p': {'display': '6.45658 1/fΩ/m/s', 'value': 6.45658, 'error': None, 'unit': '1/fΩ/m/s'}}, 'kappa': {'p': {'display': '30.0167 GW/K/m/s', 'value': 30.0167, 'error': None, 'unit': 'GW/K/m/s'}}}}\n",
      "Index: 113\n",
      "len(material_id): 3\n",
      "len(elec_cond): 3\n",
      "len(therm_cond): 3\n",
      "len(bulk_modulus): 3\n",
      "len(shear_modulus): 3\n",
      "len(universal_anisotropy): 3\n",
      "len(material_id): 3\n",
      "len(elec_cond): 3\n",
      "len(therm_cond): 3\n",
      "len(bulk_modulus): 3\n",
      "len(shear_modulus): 3\n",
      "len(universal_anisotropy): 3\n",
      "len(material_id): 3\n",
      "len(elec_cond): 3\n",
      "len(therm_cond): 3\n",
      "len(bulk_modulus): 3\n",
      "len(shear_modulus): 3\n",
      "len(universal_anisotropy): 3\n",
      "Material Matches:\n",
      "{'mat1': [{'mp-752826': {'elec_cond': 41.0475, 'therm_cond': 0.000111994, 'bulk_modulus': 168.258, 'shear_modulus': 90.134, 'universal_anisotropy': 1.271}}, {'mp-3536': {'elec_cond': 77.0117, 'therm_cond': 0.000316911, 'bulk_modulus': 182.861, 'shear_modulus': 107.669, 'universal_anisotropy': 1.062}}, {'mp-5924': {'elec_cond': 64.5658, 'therm_cond': 0.000300167, 'bulk_modulus': 193.509, 'shear_modulus': 113.741, 'universal_anisotropy': 1.091}}], 'mat2': [{'mp-752826': {'elec_cond': 41.0475, 'therm_cond': 0.000111994, 'bulk_modulus': 168.258, 'shear_modulus': 90.134, 'universal_anisotropy': 1.271}}, {'mp-3536': {'elec_cond': 77.0117, 'therm_cond': 0.000316911, 'bulk_modulus': 182.861, 'shear_modulus': 107.669, 'universal_anisotropy': 1.062}}, {'mp-5924': {'elec_cond': 64.5658, 'therm_cond': 0.000300167, 'bulk_modulus': 193.509, 'shear_modulus': 113.741, 'universal_anisotropy': 1.091}}], 'mat3': [{'mp-752826': {'elec_cond': 41.0475, 'therm_cond': 0.000111994, 'bulk_modulus': 168.258, 'shear_modulus': 90.134, 'universal_anisotropy': 1.271}}, {'mp-3536': {'elec_cond': 77.0117, 'therm_cond': 0.000316911, 'bulk_modulus': 182.861, 'shear_modulus': 107.669, 'universal_anisotropy': 1.062}}, {'mp-5924': {'elec_cond': 64.5658, 'therm_cond': 0.000300167, 'bulk_modulus': 193.509, 'shear_modulus': 113.741, 'universal_anisotropy': 1.091}}]}\n"
     ]
    }
   ],
   "source": [
    "# # Display the mp-ids of the potential options for each of the composite materials\n",
    "# HS.get_material_matches()\n",
    "# matches_dict = HS.get_material_matches(consolidated_dict=consolidated_dict)\n",
    "# print(\"Material Matches:\")\n",
    "# print(matches_dict)\n",
    "\n",
    "# Display the mp-ids of the potential options for each of the composite materials\n",
    "# # matches_dict = HS.get_material_matches(consolidated_dict=consolidated_dict)\n",
    "# matches_dict = HS.get_material_matches()\n",
    "print(f\"overall bounds dict: {overall_bounds_dict, user_input}\")\n",
    "matches_dict = HS.get_material_matches(overall_bounds_dict, user_input)\n",
    "print(\"Material Matches:\")\n",
    "print(matches_dict)"
   ]
  },
  {
   "cell_type": "code",
   "execution_count": 10,
   "metadata": {},
   "outputs": [
    {
     "name": "stdout",
     "output_type": "stream",
     "text": [
      "Loaded consolidated_dict from consolidated_dict_09_29_2024_12_47_45\n"
     ]
    },
    {
     "data": {
      "application/vnd.plotly.v1+json": {
       "config": {
        "plotlyServerURL": "https://plot.ly"
       },
       "data": [
        {
         "cells": {
          "align": "left",
          "fill": {
           "color": [
            [
             "white",
             "lightgrey",
             "white",
             "lightgrey",
             "white"
            ]
           ]
          },
          "font": {
           "size": 12
          },
          "height": 30,
          "values": [
           [
            "mp-5924",
            "mp-3536",
            "mp-752826",
            "mp-5924",
            "mp-3536"
           ],
           [
            "mp-5924",
            "mp-5924",
            "mp-5924",
            "mp-5924",
            "mp-5924"
           ],
           [
            "mp-5924",
            "mp-5924",
            "mp-5924",
            "mp-3536",
            "mp-3536"
           ],
           [
            "64.5658",
            "77.0117",
            "41.0475",
            "64.5658",
            "77.0117"
           ],
           [
            "64.5658",
            "64.5658",
            "64.5658",
            "64.5658",
            "64.5658"
           ],
           [
            "64.5658",
            "64.5658",
            "64.5658",
            "77.0117",
            "77.0117"
           ],
           [
            "0.000300167",
            "0.000316911",
            "0.000111994",
            "0.000300167",
            "0.000316911"
           ],
           [
            "0.000300167",
            "0.000300167",
            "0.000300167",
            "0.000300167",
            "0.000300167"
           ],
           [
            "0.000300167",
            "0.000300167",
            "0.000300167",
            "0.000316911",
            "0.000316911"
           ],
           [
            "193.509",
            "182.861",
            "168.258",
            "193.509",
            "182.861"
           ],
           [
            "193.509",
            "193.509",
            "193.509",
            "193.509",
            "193.509"
           ],
           [
            "193.509",
            "193.509",
            "193.509",
            "182.861",
            "182.861"
           ],
           [
            "113.741",
            "107.669",
            "90.134",
            "113.741",
            "107.669"
           ],
           [
            "113.741",
            "113.741",
            "113.741",
            "113.741",
            "113.741"
           ],
           [
            "113.741",
            "113.741",
            "113.741",
            "107.669",
            "107.669"
           ],
           [
            "1.091",
            "1.062",
            "1.271",
            "1.091",
            "1.062"
           ],
           [
            "1.091",
            "1.091",
            "1.091",
            "1.091",
            "1.091"
           ],
           [
            "1.091",
            "1.091",
            "1.091",
            "1.062",
            "1.062"
           ],
           [
            "0.1789655172413793",
            "0.1789655172413793",
            "0.1789655172413793",
            "0.1789655172413793",
            "0.1789655172413793"
           ],
           [
            "0.99",
            "0.99",
            "0.99",
            "0.99",
            "0.99"
           ],
           [
            "-0.16896551724137931",
            "-0.16896551724137931",
            "-0.16896551724137931",
            "-0.16896551724137931",
            "-0.16896551724137931"
           ],
           [
            "3.4801958362410024",
            "3.482498969001855",
            "3.484836940490787",
            "3.5119253666904524",
            "3.514234354113632"
           ]
          ]
         },
         "columnwidth": 1000,
         "header": {
          "align": "left",
          "fill": {
           "color": "lavender"
          },
          "font": {
           "size": 12
          },
          "height": 30,
          "values": [
           "Material 1 MP-ID",
           "Material 2 MP-ID",
           "Material 3 MP-ID",
           "Phase 1 Electrical conductivity, [S/m]",
           "Phase 2 Electrical conductivity, [S/m]",
           "Phase 3 Electrical conductivity, [S/m]",
           "Phase 1 Thermal conductivity, [W/m/K]",
           "Phase 2 Thermal conductivity, [W/m/K]",
           "Phase 3 Thermal conductivity, [W/m/K]",
           "Phase 1 Bulk modulus, [GPa]",
           "Phase 2 Bulk modulus, [GPa]",
           "Phase 3 Bulk modulus, [GPa]",
           "Phase 1 Shear modulus, [GPa]",
           "Phase 2 Shear modulus, [GPa]",
           "Phase 3 Shear modulus, [GPa]",
           "Phase 1 Universal anisotropy, []",
           "Phase 2 Universal anisotropy, []",
           "Phase 3 Universal anisotropy, []",
           "Phase 1 Volume Fraction",
           "Phase 2 Volume Fraction",
           "Phase 3 Volume Fraction",
           "cost"
          ]
         },
         "type": "table"
        }
       ],
       "layout": {
        "autosize": true,
        "height": 400,
        "margin": {
         "b": 0,
         "l": 0,
         "r": 0,
         "t": 40
        },
        "template": {
         "data": {
          "bar": [
           {
            "error_x": {
             "color": "rgb(36,36,36)"
            },
            "error_y": {
             "color": "rgb(36,36,36)"
            },
            "marker": {
             "line": {
              "color": "white",
              "width": 0.5
             },
             "pattern": {
              "fillmode": "overlay",
              "size": 10,
              "solidity": 0.2
             }
            },
            "type": "bar"
           }
          ],
          "barpolar": [
           {
            "marker": {
             "line": {
              "color": "white",
              "width": 0.5
             },
             "pattern": {
              "fillmode": "overlay",
              "size": 10,
              "solidity": 0.2
             }
            },
            "type": "barpolar"
           }
          ],
          "carpet": [
           {
            "aaxis": {
             "endlinecolor": "rgb(36,36,36)",
             "gridcolor": "white",
             "linecolor": "white",
             "minorgridcolor": "white",
             "startlinecolor": "rgb(36,36,36)"
            },
            "baxis": {
             "endlinecolor": "rgb(36,36,36)",
             "gridcolor": "white",
             "linecolor": "white",
             "minorgridcolor": "white",
             "startlinecolor": "rgb(36,36,36)"
            },
            "type": "carpet"
           }
          ],
          "choropleth": [
           {
            "colorbar": {
             "outlinewidth": 1,
             "tickcolor": "rgb(36,36,36)",
             "ticks": "outside"
            },
            "type": "choropleth"
           }
          ],
          "contour": [
           {
            "colorbar": {
             "outlinewidth": 1,
             "tickcolor": "rgb(36,36,36)",
             "ticks": "outside"
            },
            "colorscale": [
             [
              0,
              "#440154"
             ],
             [
              0.1111111111111111,
              "#482878"
             ],
             [
              0.2222222222222222,
              "#3e4989"
             ],
             [
              0.3333333333333333,
              "#31688e"
             ],
             [
              0.4444444444444444,
              "#26828e"
             ],
             [
              0.5555555555555556,
              "#1f9e89"
             ],
             [
              0.6666666666666666,
              "#35b779"
             ],
             [
              0.7777777777777778,
              "#6ece58"
             ],
             [
              0.8888888888888888,
              "#b5de2b"
             ],
             [
              1,
              "#fde725"
             ]
            ],
            "type": "contour"
           }
          ],
          "contourcarpet": [
           {
            "colorbar": {
             "outlinewidth": 1,
             "tickcolor": "rgb(36,36,36)",
             "ticks": "outside"
            },
            "type": "contourcarpet"
           }
          ],
          "heatmap": [
           {
            "colorbar": {
             "outlinewidth": 1,
             "tickcolor": "rgb(36,36,36)",
             "ticks": "outside"
            },
            "colorscale": [
             [
              0,
              "#440154"
             ],
             [
              0.1111111111111111,
              "#482878"
             ],
             [
              0.2222222222222222,
              "#3e4989"
             ],
             [
              0.3333333333333333,
              "#31688e"
             ],
             [
              0.4444444444444444,
              "#26828e"
             ],
             [
              0.5555555555555556,
              "#1f9e89"
             ],
             [
              0.6666666666666666,
              "#35b779"
             ],
             [
              0.7777777777777778,
              "#6ece58"
             ],
             [
              0.8888888888888888,
              "#b5de2b"
             ],
             [
              1,
              "#fde725"
             ]
            ],
            "type": "heatmap"
           }
          ],
          "heatmapgl": [
           {
            "colorbar": {
             "outlinewidth": 1,
             "tickcolor": "rgb(36,36,36)",
             "ticks": "outside"
            },
            "colorscale": [
             [
              0,
              "#440154"
             ],
             [
              0.1111111111111111,
              "#482878"
             ],
             [
              0.2222222222222222,
              "#3e4989"
             ],
             [
              0.3333333333333333,
              "#31688e"
             ],
             [
              0.4444444444444444,
              "#26828e"
             ],
             [
              0.5555555555555556,
              "#1f9e89"
             ],
             [
              0.6666666666666666,
              "#35b779"
             ],
             [
              0.7777777777777778,
              "#6ece58"
             ],
             [
              0.8888888888888888,
              "#b5de2b"
             ],
             [
              1,
              "#fde725"
             ]
            ],
            "type": "heatmapgl"
           }
          ],
          "histogram": [
           {
            "marker": {
             "line": {
              "color": "white",
              "width": 0.6
             }
            },
            "type": "histogram"
           }
          ],
          "histogram2d": [
           {
            "colorbar": {
             "outlinewidth": 1,
             "tickcolor": "rgb(36,36,36)",
             "ticks": "outside"
            },
            "colorscale": [
             [
              0,
              "#440154"
             ],
             [
              0.1111111111111111,
              "#482878"
             ],
             [
              0.2222222222222222,
              "#3e4989"
             ],
             [
              0.3333333333333333,
              "#31688e"
             ],
             [
              0.4444444444444444,
              "#26828e"
             ],
             [
              0.5555555555555556,
              "#1f9e89"
             ],
             [
              0.6666666666666666,
              "#35b779"
             ],
             [
              0.7777777777777778,
              "#6ece58"
             ],
             [
              0.8888888888888888,
              "#b5de2b"
             ],
             [
              1,
              "#fde725"
             ]
            ],
            "type": "histogram2d"
           }
          ],
          "histogram2dcontour": [
           {
            "colorbar": {
             "outlinewidth": 1,
             "tickcolor": "rgb(36,36,36)",
             "ticks": "outside"
            },
            "colorscale": [
             [
              0,
              "#440154"
             ],
             [
              0.1111111111111111,
              "#482878"
             ],
             [
              0.2222222222222222,
              "#3e4989"
             ],
             [
              0.3333333333333333,
              "#31688e"
             ],
             [
              0.4444444444444444,
              "#26828e"
             ],
             [
              0.5555555555555556,
              "#1f9e89"
             ],
             [
              0.6666666666666666,
              "#35b779"
             ],
             [
              0.7777777777777778,
              "#6ece58"
             ],
             [
              0.8888888888888888,
              "#b5de2b"
             ],
             [
              1,
              "#fde725"
             ]
            ],
            "type": "histogram2dcontour"
           }
          ],
          "mesh3d": [
           {
            "colorbar": {
             "outlinewidth": 1,
             "tickcolor": "rgb(36,36,36)",
             "ticks": "outside"
            },
            "type": "mesh3d"
           }
          ],
          "parcoords": [
           {
            "line": {
             "colorbar": {
              "outlinewidth": 1,
              "tickcolor": "rgb(36,36,36)",
              "ticks": "outside"
             }
            },
            "type": "parcoords"
           }
          ],
          "pie": [
           {
            "automargin": true,
            "type": "pie"
           }
          ],
          "scatter": [
           {
            "fillpattern": {
             "fillmode": "overlay",
             "size": 10,
             "solidity": 0.2
            },
            "type": "scatter"
           }
          ],
          "scatter3d": [
           {
            "line": {
             "colorbar": {
              "outlinewidth": 1,
              "tickcolor": "rgb(36,36,36)",
              "ticks": "outside"
             }
            },
            "marker": {
             "colorbar": {
              "outlinewidth": 1,
              "tickcolor": "rgb(36,36,36)",
              "ticks": "outside"
             }
            },
            "type": "scatter3d"
           }
          ],
          "scattercarpet": [
           {
            "marker": {
             "colorbar": {
              "outlinewidth": 1,
              "tickcolor": "rgb(36,36,36)",
              "ticks": "outside"
             }
            },
            "type": "scattercarpet"
           }
          ],
          "scattergeo": [
           {
            "marker": {
             "colorbar": {
              "outlinewidth": 1,
              "tickcolor": "rgb(36,36,36)",
              "ticks": "outside"
             }
            },
            "type": "scattergeo"
           }
          ],
          "scattergl": [
           {
            "marker": {
             "colorbar": {
              "outlinewidth": 1,
              "tickcolor": "rgb(36,36,36)",
              "ticks": "outside"
             }
            },
            "type": "scattergl"
           }
          ],
          "scattermapbox": [
           {
            "marker": {
             "colorbar": {
              "outlinewidth": 1,
              "tickcolor": "rgb(36,36,36)",
              "ticks": "outside"
             }
            },
            "type": "scattermapbox"
           }
          ],
          "scatterpolar": [
           {
            "marker": {
             "colorbar": {
              "outlinewidth": 1,
              "tickcolor": "rgb(36,36,36)",
              "ticks": "outside"
             }
            },
            "type": "scatterpolar"
           }
          ],
          "scatterpolargl": [
           {
            "marker": {
             "colorbar": {
              "outlinewidth": 1,
              "tickcolor": "rgb(36,36,36)",
              "ticks": "outside"
             }
            },
            "type": "scatterpolargl"
           }
          ],
          "scatterternary": [
           {
            "marker": {
             "colorbar": {
              "outlinewidth": 1,
              "tickcolor": "rgb(36,36,36)",
              "ticks": "outside"
             }
            },
            "type": "scatterternary"
           }
          ],
          "surface": [
           {
            "colorbar": {
             "outlinewidth": 1,
             "tickcolor": "rgb(36,36,36)",
             "ticks": "outside"
            },
            "colorscale": [
             [
              0,
              "#440154"
             ],
             [
              0.1111111111111111,
              "#482878"
             ],
             [
              0.2222222222222222,
              "#3e4989"
             ],
             [
              0.3333333333333333,
              "#31688e"
             ],
             [
              0.4444444444444444,
              "#26828e"
             ],
             [
              0.5555555555555556,
              "#1f9e89"
             ],
             [
              0.6666666666666666,
              "#35b779"
             ],
             [
              0.7777777777777778,
              "#6ece58"
             ],
             [
              0.8888888888888888,
              "#b5de2b"
             ],
             [
              1,
              "#fde725"
             ]
            ],
            "type": "surface"
           }
          ],
          "table": [
           {
            "cells": {
             "fill": {
              "color": "rgb(237,237,237)"
             },
             "line": {
              "color": "white"
             }
            },
            "header": {
             "fill": {
              "color": "rgb(217,217,217)"
             },
             "line": {
              "color": "white"
             }
            },
            "type": "table"
           }
          ]
         },
         "layout": {
          "annotationdefaults": {
           "arrowhead": 0,
           "arrowwidth": 1
          },
          "autotypenumbers": "strict",
          "coloraxis": {
           "colorbar": {
            "outlinewidth": 1,
            "tickcolor": "rgb(36,36,36)",
            "ticks": "outside"
           }
          },
          "colorscale": {
           "diverging": [
            [
             0,
             "rgb(103,0,31)"
            ],
            [
             0.1,
             "rgb(178,24,43)"
            ],
            [
             0.2,
             "rgb(214,96,77)"
            ],
            [
             0.3,
             "rgb(244,165,130)"
            ],
            [
             0.4,
             "rgb(253,219,199)"
            ],
            [
             0.5,
             "rgb(247,247,247)"
            ],
            [
             0.6,
             "rgb(209,229,240)"
            ],
            [
             0.7,
             "rgb(146,197,222)"
            ],
            [
             0.8,
             "rgb(67,147,195)"
            ],
            [
             0.9,
             "rgb(33,102,172)"
            ],
            [
             1,
             "rgb(5,48,97)"
            ]
           ],
           "sequential": [
            [
             0,
             "#440154"
            ],
            [
             0.1111111111111111,
             "#482878"
            ],
            [
             0.2222222222222222,
             "#3e4989"
            ],
            [
             0.3333333333333333,
             "#31688e"
            ],
            [
             0.4444444444444444,
             "#26828e"
            ],
            [
             0.5555555555555556,
             "#1f9e89"
            ],
            [
             0.6666666666666666,
             "#35b779"
            ],
            [
             0.7777777777777778,
             "#6ece58"
            ],
            [
             0.8888888888888888,
             "#b5de2b"
            ],
            [
             1,
             "#fde725"
            ]
           ],
           "sequentialminus": [
            [
             0,
             "#440154"
            ],
            [
             0.1111111111111111,
             "#482878"
            ],
            [
             0.2222222222222222,
             "#3e4989"
            ],
            [
             0.3333333333333333,
             "#31688e"
            ],
            [
             0.4444444444444444,
             "#26828e"
            ],
            [
             0.5555555555555556,
             "#1f9e89"
            ],
            [
             0.6666666666666666,
             "#35b779"
            ],
            [
             0.7777777777777778,
             "#6ece58"
            ],
            [
             0.8888888888888888,
             "#b5de2b"
            ],
            [
             1,
             "#fde725"
            ]
           ]
          },
          "colorway": [
           "#1F77B4",
           "#FF7F0E",
           "#2CA02C",
           "#D62728",
           "#9467BD",
           "#8C564B",
           "#E377C2",
           "#7F7F7F",
           "#BCBD22",
           "#17BECF"
          ],
          "font": {
           "color": "rgb(36,36,36)"
          },
          "geo": {
           "bgcolor": "white",
           "lakecolor": "white",
           "landcolor": "white",
           "showlakes": true,
           "showland": true,
           "subunitcolor": "white"
          },
          "hoverlabel": {
           "align": "left"
          },
          "hovermode": "closest",
          "mapbox": {
           "style": "light"
          },
          "paper_bgcolor": "white",
          "plot_bgcolor": "white",
          "polar": {
           "angularaxis": {
            "gridcolor": "rgb(232,232,232)",
            "linecolor": "rgb(36,36,36)",
            "showgrid": false,
            "showline": true,
            "ticks": "outside"
           },
           "bgcolor": "white",
           "radialaxis": {
            "gridcolor": "rgb(232,232,232)",
            "linecolor": "rgb(36,36,36)",
            "showgrid": false,
            "showline": true,
            "ticks": "outside"
           }
          },
          "scene": {
           "xaxis": {
            "backgroundcolor": "white",
            "gridcolor": "rgb(232,232,232)",
            "gridwidth": 2,
            "linecolor": "rgb(36,36,36)",
            "showbackground": true,
            "showgrid": false,
            "showline": true,
            "ticks": "outside",
            "zeroline": false,
            "zerolinecolor": "rgb(36,36,36)"
           },
           "yaxis": {
            "backgroundcolor": "white",
            "gridcolor": "rgb(232,232,232)",
            "gridwidth": 2,
            "linecolor": "rgb(36,36,36)",
            "showbackground": true,
            "showgrid": false,
            "showline": true,
            "ticks": "outside",
            "zeroline": false,
            "zerolinecolor": "rgb(36,36,36)"
           },
           "zaxis": {
            "backgroundcolor": "white",
            "gridcolor": "rgb(232,232,232)",
            "gridwidth": 2,
            "linecolor": "rgb(36,36,36)",
            "showbackground": true,
            "showgrid": false,
            "showline": true,
            "ticks": "outside",
            "zeroline": false,
            "zerolinecolor": "rgb(36,36,36)"
           }
          },
          "shapedefaults": {
           "fillcolor": "black",
           "line": {
            "width": 0
           },
           "opacity": 0.3
          },
          "ternary": {
           "aaxis": {
            "gridcolor": "rgb(232,232,232)",
            "linecolor": "rgb(36,36,36)",
            "showgrid": false,
            "showline": true,
            "ticks": "outside"
           },
           "baxis": {
            "gridcolor": "rgb(232,232,232)",
            "linecolor": "rgb(36,36,36)",
            "showgrid": false,
            "showline": true,
            "ticks": "outside"
           },
           "bgcolor": "white",
           "caxis": {
            "gridcolor": "rgb(232,232,232)",
            "linecolor": "rgb(36,36,36)",
            "showgrid": false,
            "showline": true,
            "ticks": "outside"
           }
          },
          "title": {
           "x": 0.05
          },
          "xaxis": {
           "automargin": true,
           "gridcolor": "rgb(232,232,232)",
           "linecolor": "rgb(36,36,36)",
           "showgrid": false,
           "showline": true,
           "ticks": "outside",
           "title": {
            "standoff": 15
           },
           "zeroline": false,
           "zerolinecolor": "rgb(36,36,36)"
          },
          "yaxis": {
           "automargin": true,
           "gridcolor": "rgb(232,232,232)",
           "linecolor": "rgb(36,36,36)",
           "showgrid": false,
           "showline": true,
           "ticks": "outside",
           "title": {
            "standoff": 15
           },
           "zeroline": false,
           "zerolinecolor": "rgb(36,36,36)"
          }
         }
        },
        "title": {
         "font": {
          "size": 20
         },
         "text": "Optimal Material Combinations to Comprise Desired Composite",
         "x": 0.15
        }
       }
      }
     },
     "metadata": {},
     "output_type": "display_data"
    }
   ],
   "source": [
    "import os\n",
    "import json\n",
    "from datetime import datetime\n",
    "\n",
    "# Directory where the files are located\n",
    "directory = './'\n",
    "\n",
    "# Function to get the latest consolidated dict file\n",
    "def get_latest_consolidated_dict_file(directory):\n",
    "    # List all files in the directory\n",
    "    files = os.listdir(directory)\n",
    "    \n",
    "    # Filter out only the consolidated_dict files\n",
    "    consolidated_files = [f for f in files if f.startswith('consolidated_dict_')]\n",
    "    \n",
    "    # Sort the files by date and time in the filename\n",
    "    consolidated_files.sort(key=lambda x: datetime.strptime(x, 'consolidated_dict_%m_%d_%Y_%H_%M_%S'))\n",
    "    \n",
    "    # Return the latest file\n",
    "    latest_file = consolidated_files[-1] if consolidated_files else None\n",
    "    return latest_file\n",
    "\n",
    "# Get the latest consolidated dict file\n",
    "latest_file = get_latest_consolidated_dict_file(directory)\n",
    "\n",
    "if latest_file:\n",
    "    # Open the latest consolidated dict file\n",
    "    with open(os.path.join(directory, latest_file), 'r') as f:\n",
    "        consolidated_dict = json.load(f)\n",
    "        print(f\"Loaded consolidated_dict from {latest_file}\")\n",
    "else:\n",
    "    print(\"No consolidated dict file found.\")\n",
    "\n",
    "\n",
    "HS.get_material_match_costs(matches_dict=matches_dict, consolidated_dict=consolidated_dict)"
   ]
  },
  {
   "cell_type": "code",
   "execution_count": 11,
   "metadata": {},
   "outputs": [
    {
     "data": {
      "text/plain": [
       "['carrier-transport', 'elastic']"
      ]
     },
     "execution_count": 11,
     "metadata": {},
     "output_type": "execute_result"
    }
   ],
   "source": [
    "HS.property_categories"
   ]
  },
  {
   "cell_type": "code",
   "execution_count": 12,
   "metadata": {},
   "outputs": [
    {
     "data": {
      "text/plain": [
       "{'carrier-transport': {'elec_cond_300k_low_doping': None,\n",
       "  'therm_cond_300k_low_doping': None},\n",
       " 'dielectric': {'e_electronic': None,\n",
       "  'e_ionic': None,\n",
       "  'e_total': None,\n",
       "  'n': None},\n",
       " 'elastic': {'bulk_modulus': 'voigt',\n",
       "  'shear_modulus': 'voigt',\n",
       "  'universal_anisotropy': None},\n",
       " 'magnetic': {'total_magnetization': None,\n",
       "  'total_magnetization_normalized_vol': None},\n",
       " 'piezoelectric': {'e_ij_max': None}}"
      ]
     },
     "execution_count": 12,
     "metadata": {},
     "output_type": "execute_result"
    }
   ],
   "source": [
    "HS.property_docs"
   ]
  },
  {
   "cell_type": "code",
   "execution_count": null,
   "metadata": {},
   "outputs": [],
   "source": []
  }
 ],
 "metadata": {
  "kernelspec": {
   "display_name": "carla_mp_api",
   "language": "python",
   "name": "python3"
  },
  "language_info": {
   "codemirror_mode": {
    "name": "ipython",
    "version": 3
   },
   "file_extension": ".py",
   "mimetype": "text/x-python",
   "name": "python",
   "nbconvert_exporter": "python",
   "pygments_lexer": "ipython3",
   "version": "3.9.18"
  }
 },
 "nbformat": 4,
 "nbformat_minor": 2
}
