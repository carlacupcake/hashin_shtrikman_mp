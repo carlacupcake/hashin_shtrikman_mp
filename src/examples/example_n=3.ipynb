{
 "cells": [
  {
   "cell_type": "markdown",
   "metadata": {},
   "source": [
    "## Testing the Composites Discovery App with n=3 phases"
   ]
  },
  {
   "cell_type": "code",
   "execution_count": 9,
   "metadata": {},
   "outputs": [
    {
     "name": "stdout",
     "output_type": "stream",
     "text": [
      "User Input:  {'mat_1': {'elec_cond_300k_low_doping': {'upper_bound': 78.0, 'lower_bound': 1e-07}, 'therm_cond_300k_low_doping': {'upper_bound': 2.0, 'lower_bound': 1e-07}, 'bulk_modulus': {'upper_bound': 100.0, 'lower_bound': 50.0}, 'shear_modulus': {'upper_bound': 100.0, 'lower_bound': 80.0}, 'universal_anisotropy': {'upper_bound': 2.0, 'lower_bound': 1.0}}, 'mat_2': {'elec_cond_300k_low_doping': {'upper_bound': 78.0, 'lower_bound': 1e-07}, 'therm_cond_300k_low_doping': {'upper_bound': 2.0, 'lower_bound': 1e-07}, 'bulk_modulus': {'upper_bound': 400.0, 'lower_bound': 20.0}, 'shear_modulus': {'upper_bound': 200.0, 'lower_bound': 100.0}, 'universal_anisotropy': {'upper_bound': 2.3, 'lower_bound': 1.3}}, 'mat_3': {'elec_cond_300k_low_doping': {'upper_bound': 78.0, 'lower_bound': 1e-07}, 'therm_cond_300k_low_doping': {'upper_bound': 2.0, 'lower_bound': 1e-07}, 'bulk_modulus': {'upper_bound': 300.0, 'lower_bound': 20.0}, 'shear_modulus': {'upper_bound': 300.0, 'lower_bound': 100.0}, 'universal_anisotropy': {'upper_bound': 2.1, 'lower_bound': 0.9}}, 'mixture': {'elec_cond_300k_low_doping': {'desired_prop': 9.0}, 'therm_cond_300k_low_doping': {'desired_prop': 0.9}, 'bulk_modulus': {'desired_prop': 280.0}, 'shear_modulus': {'desired_prop': 230.0}, 'universal_anisotropy': {'desired_prop': 1.5}}}\n",
      "Overall Upper & Lower Bounds:\n",
      "Property: elec_cond_300k_low_doping, Upper Bound: 78.0, Lower Bound: 1e-07\n",
      "Property: therm_cond_300k_low_doping, Upper Bound: 2.0, Lower Bound: 1e-07\n",
      "Property: bulk_modulus, Upper Bound: 400.0, Lower Bound: 20.0\n",
      "Property: shear_modulus, Upper Bound: 300.0, Lower Bound: 80.0\n",
      "Property: universal_anisotropy, Upper Bound: 2.3, Lower Bound: 0.9\n",
      "{'elec_cond_300k_low_doping': {'upper_bound': 78.0, 'lower_bound': 1e-07}, 'therm_cond_300k_low_doping': {'upper_bound': 2.0, 'lower_bound': 1e-07}, 'bulk_modulus': {'upper_bound': 400.0, 'lower_bound': 20.0}, 'shear_modulus': {'upper_bound': 300.0, 'lower_bound': 80.0}, 'universal_anisotropy': {'upper_bound': 2.3, 'lower_bound': 0.9}}\n"
     ]
    }
   ],
   "source": [
    "import sys  \n",
    "sys.path.insert(1, '../core')\n",
    "from user_input import MaterialProperty, Material, MixtureProperty, Mixture, UserInput\n",
    "\n",
    "# Define properties for each material\n",
    "properties_mat_1 = [\n",
    "    MaterialProperty(prop='elec_cond_300k_low_doping', upper_bound=78, lower_bound=1e-7), # upper_bound=20, lower_bound=1 \n",
    "    MaterialProperty(prop='therm_cond_300k_low_doping', upper_bound=2, lower_bound=1e-7), # upper_bound=0.0001, lower_bound=1e-5 \n",
    "    MaterialProperty(prop='bulk_modulus', upper_bound=100, lower_bound=50),\n",
    "    MaterialProperty(prop='shear_modulus', upper_bound=100, lower_bound=80),\n",
    "    MaterialProperty(prop='universal_anisotropy', upper_bound=2, lower_bound=1),\n",
    "]\n",
    "\n",
    "properties_mat_2 = [\n",
    "    MaterialProperty(prop='elec_cond_300k_low_doping', upper_bound=78, lower_bound=1e-7), # upper_bound=5, lower_bound=2\n",
    "    MaterialProperty(prop='therm_cond_300k_low_doping', upper_bound=2, lower_bound=1e-7), # upper_bound=0.009, lower_bound=1e-4\n",
    "    MaterialProperty(prop='bulk_modulus', upper_bound=400, lower_bound=20),\n",
    "    MaterialProperty(prop='shear_modulus', upper_bound=200, lower_bound=100),\n",
    "    MaterialProperty(prop='universal_anisotropy', upper_bound=2.3, lower_bound=1.3),\n",
    "]\n",
    "\n",
    "properties_mat_3 = [\n",
    "    MaterialProperty(prop='elec_cond_300k_low_doping', upper_bound=78, lower_bound=1e-7), # upper_bound=10, lower_bound=1\n",
    "    MaterialProperty(prop='therm_cond_300k_low_doping', upper_bound=2, lower_bound=1e-7), # upper_bound=0.005, lower_bound=1e-4\n",
    "    MaterialProperty(prop='bulk_modulus', upper_bound=300, lower_bound=20),\n",
    "    MaterialProperty(prop='shear_modulus', upper_bound=300, lower_bound=100),\n",
    "    MaterialProperty(prop='universal_anisotropy', upper_bound=2.1, lower_bound=0.9),\n",
    "]\n",
    "\n",
    "# Define properties for the mixture\n",
    "properties_mixture = [\n",
    "    MixtureProperty(prop='elec_cond_300k_low_doping', desired_prop=9),\n",
    "    MixtureProperty(prop='therm_cond_300k_low_doping', desired_prop=0.9),\n",
    "    MixtureProperty(prop='bulk_modulus', desired_prop=280),\n",
    "    MixtureProperty(prop='shear_modulus', desired_prop=230),\n",
    "    MixtureProperty(prop='universal_anisotropy', desired_prop=1.5),\n",
    "]\n",
    "\n",
    "# Create Material & Mixture instances\n",
    "mat_1 = Material(name='mat_1', properties=properties_mat_1)\n",
    "mat_2 = Material(name='mat_2', properties=properties_mat_2)\n",
    "mat_3 = Material(name='mat_3', properties=properties_mat_3)\n",
    "mixture = Mixture(name='mixture', properties=properties_mixture)\n",
    "aggregate = [mat_1, mat_2, mat_3, mixture]\n",
    "\n",
    "# Initialize UserInput instance with materials and mixtures\n",
    "user_input= UserInput(materials=[mat_1, mat_2, mat_3], mixtures=[mixture])\n",
    "print(\"User Input: \", user_input)\n",
    "\n",
    "# Initialize dictionaries to store the overall upper and lower bounds for each property\n",
    "overall_bounds = {}\n",
    "\n",
    "# Iterate over materials\n",
    "for entity in aggregate:\n",
    "    # Skip the mixture as it doesn't have upper and lower bounds\n",
    "    if isinstance(entity, Material):\n",
    "        for property in entity.properties:\n",
    "            prop_name = property.prop\n",
    "\n",
    "            # Initialize the overall bounds if they are not already present for the property\n",
    "            if prop_name not in overall_bounds:\n",
    "                overall_bounds[prop_name] = {'upper_bound': property.upper_bound, 'lower_bound': property.lower_bound}\n",
    "            else:\n",
    "                # Update overall upper and lower bounds by comparing with existing values\n",
    "                overall_bounds[prop_name]['upper_bound'] = max(overall_bounds[prop_name]['upper_bound'], property.upper_bound)\n",
    "                overall_bounds[prop_name]['lower_bound'] = min(overall_bounds[prop_name]['lower_bound'], property.lower_bound)\n",
    "\n",
    "# Print the overall bounds for each property\n",
    "print(\"Overall Upper & Lower Bounds:\")\n",
    "for prop, bounds in overall_bounds.items():\n",
    "    print(f\"Property: {prop}, Upper Bound: {bounds['upper_bound']}, Lower Bound: {bounds['lower_bound']}\")\n",
    "\n",
    "# Step 1: Create the consolidated_dict\n",
    "overall_bounds_dict = {}\n",
    "for prop, bounds in overall_bounds.items():\n",
    "    overall_bounds_dict[prop] = {\n",
    "        'upper_bound': bounds['upper_bound'],\n",
    "        'lower_bound': bounds['lower_bound']\n",
    "    }\n",
    "\n",
    "print(overall_bounds_dict)"
   ]
  },
  {
   "cell_type": "code",
   "execution_count": 10,
   "metadata": {},
   "outputs": [
    {
     "name": "stderr",
     "output_type": "stream",
     "text": [
      "2024-10-08 15:34:01,048 - custom_logger - INFO - Loading property categories from /Users/carlabecker/Library/Mobile Documents/com~apple~CloudDocs/Carla's Desktop/UC Berkeley/Research/Materials Project/hashin_shtrikman_mp/src/core/../io/inputs/mp_property_docs.yaml.\n",
      "2024-10-08 15:34:01,055 - custom_logger - INFO - property_categories = ['carrier-transport', 'elastic']\n",
      "2024-10-08 15:34:01,056 - custom_logger - INFO - mixture_props = {'elec_cond_300k_low_doping': {'desired_prop': 9.0}, 'therm_cond_300k_low_doping': {'desired_prop': 0.9}, 'bulk_modulus': {'desired_prop': 280.0}, 'shear_modulus': {'desired_prop': 230.0}, 'universal_anisotropy': {'desired_prop': 1.5}}\n"
     ]
    },
    {
     "name": "stdout",
     "output_type": "stream",
     "text": [
      "self.nuild_dict: <bound method UserInput.build_dict of {'mat_1': {'elec_cond_300k_low_doping': {'upper_bound': 78.0, 'lower_bound': 1e-07}, 'therm_cond_300k_low_doping': {'upper_bound': 2.0, 'lower_bound': 1e-07}, 'bulk_modulus': {'upper_bound': 100.0, 'lower_bound': 50.0}, 'shear_modulus': {'upper_bound': 100.0, 'lower_bound': 80.0}, 'universal_anisotropy': {'upper_bound': 2.0, 'lower_bound': 1.0}}, 'mat_2': {'elec_cond_300k_low_doping': {'upper_bound': 78.0, 'lower_bound': 1e-07}, 'therm_cond_300k_low_doping': {'upper_bound': 2.0, 'lower_bound': 1e-07}, 'bulk_modulus': {'upper_bound': 400.0, 'lower_bound': 20.0}, 'shear_modulus': {'upper_bound': 200.0, 'lower_bound': 100.0}, 'universal_anisotropy': {'upper_bound': 2.3, 'lower_bound': 1.3}}, 'mat_3': {'elec_cond_300k_low_doping': {'upper_bound': 78.0, 'lower_bound': 1e-07}, 'therm_cond_300k_low_doping': {'upper_bound': 2.0, 'lower_bound': 1e-07}, 'bulk_modulus': {'upper_bound': 300.0, 'lower_bound': 20.0}, 'shear_modulus': {'upper_bound': 300.0, 'lower_bound': 100.0}, 'universal_anisotropy': {'upper_bound': 2.1, 'lower_bound': 0.9}}, 'mixture': {'elec_cond_300k_low_doping': {'desired_prop': 9.0}, 'therm_cond_300k_low_doping': {'desired_prop': 0.9}, 'bulk_modulus': {'desired_prop': 280.0}, 'shear_modulus': {'desired_prop': 230.0}, 'universal_anisotropy': {'desired_prop': 1.5}}}>\n",
      "material: mat_1, category: carrier-transport, property: 78.0\n",
      "material: mat_1, category: carrier-transport, property: 2.0\n",
      "material: mat_1, category: elastic, property: 100.0\n",
      "Property categories:  ['carrier-transport', 'elastic']\n",
      "Property docs:  {'carrier-transport': {'elec_cond_300k_low_doping': None, 'therm_cond_300k_low_doping': None}, 'dielectric': {'e_electronic': None, 'e_ionic': None, 'e_total': None, 'n': None}, 'elastic': {'bulk_modulus': 'voigt', 'shear_modulus': 'voigt', 'universal_anisotropy': None}, 'magnetic': {'total_magnetization': None, 'total_magnetization_normalized_vol': None}, 'piezoelectric': {'e_ij_max': None}}\n",
      "Lower Bounds: {'mat_1': {'carrier-transport': [1e-07, 1e-07], 'elastic': [50.0, 80.0, 1.0]}, 'mat_2': {'carrier-transport': [1e-07, 1e-07], 'elastic': [20.0, 100.0, 1.3]}, 'mat_3': {'carrier-transport': [1e-07, 1e-07], 'elastic': [20.0, 100.0, 0.9]}, 'volume-fractions': [0.01, 0.01, 0.01]}\n",
      "Upper Bounds: {'mat_1': {'carrier-transport': [78.0, 2.0], 'elastic': [100.0, 100.0, 2.0]}, 'mat_2': {'carrier-transport': [78.0, 2.0], 'elastic': [400.0, 200.0, 2.3]}, 'mat_3': {'carrier-transport': [78.0, 2.0], 'elastic': [300.0, 300.0, 2.1]}, 'volume-fractions': [0.99, 0.99, 0.99]}\n",
      "Number of Materials: 3\n",
      "Number of Properties: 6\n"
     ]
    }
   ],
   "source": [
    "from optimization import HashinShtrikman\n",
    "HS = HashinShtrikman(api_key=\"uJpFxJJGKCSp9s1shwg9HmDuNjCDfWbM\", user_input=user_input)\n",
    "\n",
    "print(\"Property categories: \", HS.property_categories)\n",
    "print(\"Property docs: \", HS.property_docs)\n",
    "\n",
    "print(\"Lower Bounds:\", HS.lower_bounds)\n",
    "print(\"Upper Bounds:\", HS.upper_bounds)\n",
    "\n",
    "print(\"Number of Materials:\", HS.num_materials)\n",
    "print(\"Number of Properties:\", HS.num_properties)"
   ]
  },
  {
   "cell_type": "code",
   "execution_count": 11,
   "metadata": {},
   "outputs": [
    {
     "name": "stdout",
     "output_type": "stream",
     "text": [
      "{'material_id': ['mp-546266', 'mp-12863', 'mp-1509', 'mp-1029799', 'mp-16290'], 'is_stable': [True, False, True, True, False], 'band_gap': [1.3667999999999996, 0.0, 0.7774000000000001, 1.0132999999999996, 0.0], 'is_metal': [False, True, False, False, True], 'formula_pretty': ['DyBi2IO4', 'Ba(AlSi)2', 'Sn2S3', 'Sr4TiN4', 'ZnNi3C'], 'mp-ids-contrib': ['mp-546266', 'mp-12863', 'mp-1509', 'mp-22192', 'mp-16290'], 'elec_cond_300k_low_doping': [12.7262, 2642302.9999999995, 3.71323, 2.23963, 2548302.4], 'therm_cond_300k_low_doping': [7.1457e-05, 19.2792, 1.90284e-05, 3.3981e-05, 17.8791], 'bulk_modulus': [74.071, 46.928, 20.346, 73.379, 194.302], 'shear_modulus': [40.463, 23.063, 13.493, 36.558, 64.537], 'universal_anisotropy': [1.443, 24.189, 2.364, 0.956, 2.102]}\n"
     ]
    }
   ],
   "source": [
    "# Testing without calls to generate final dict (faster)\n",
    "import json\n",
    "consolidated_dict = {}\n",
    "with open(\"consolidated_dict_02_11_2024_23_45_58\") as f:\n",
    "    consolidated_dict = json.load(f)\n",
    "print(consolidated_dict)"
   ]
  },
  {
   "cell_type": "code",
   "execution_count": 12,
   "metadata": {},
   "outputs": [
    {
     "name": "stdout",
     "output_type": "stream",
     "text": [
      "Generation 0 of 100\n",
      "Generation 1 of 100\n",
      "Generation 2 of 100\n",
      "Generation 3 of 100\n",
      "Generation 4 of 100\n",
      "Generation 5 of 100\n",
      "Generation 6 of 100\n",
      "Generation 7 of 100\n",
      "Generation 8 of 100\n",
      "Generation 9 of 100\n",
      "Generation 10 of 100\n",
      "Generation 11 of 100\n",
      "Generation 12 of 100\n",
      "Generation 13 of 100\n",
      "Generation 14 of 100\n",
      "Generation 15 of 100\n",
      "Generation 16 of 100\n",
      "Generation 17 of 100\n",
      "Generation 18 of 100\n",
      "Generation 19 of 100\n",
      "Generation 20 of 100\n",
      "Generation 21 of 100\n",
      "Generation 22 of 100\n",
      "Generation 23 of 100\n",
      "Generation 24 of 100\n",
      "Generation 25 of 100\n",
      "Generation 26 of 100\n",
      "Generation 27 of 100\n",
      "Generation 28 of 100\n",
      "Generation 29 of 100\n",
      "Generation 30 of 100\n",
      "Generation 31 of 100\n",
      "Generation 32 of 100\n",
      "Generation 33 of 100\n",
      "Generation 34 of 100\n",
      "Generation 35 of 100\n",
      "Generation 36 of 100\n",
      "Generation 37 of 100\n",
      "Generation 38 of 100\n",
      "Generation 39 of 100\n",
      "Generation 40 of 100\n",
      "Generation 41 of 100\n",
      "Generation 42 of 100\n",
      "Generation 43 of 100\n",
      "Generation 44 of 100\n",
      "Generation 45 of 100\n",
      "Generation 46 of 100\n",
      "Generation 47 of 100\n",
      "Generation 48 of 100\n",
      "Generation 49 of 100\n",
      "Generation 50 of 100\n",
      "Generation 51 of 100\n",
      "Generation 52 of 100\n",
      "Generation 53 of 100\n",
      "Generation 54 of 100\n",
      "Generation 55 of 100\n",
      "Generation 56 of 100\n",
      "Generation 57 of 100\n",
      "Generation 58 of 100\n",
      "Generation 59 of 100\n",
      "Generation 60 of 100\n",
      "Generation 61 of 100\n",
      "Generation 62 of 100\n",
      "Generation 63 of 100\n",
      "Generation 64 of 100\n",
      "Generation 65 of 100\n",
      "Generation 66 of 100\n",
      "Generation 67 of 100\n",
      "Generation 68 of 100\n",
      "Generation 69 of 100\n",
      "Generation 70 of 100\n",
      "Generation 71 of 100\n",
      "Generation 72 of 100\n",
      "Generation 73 of 100\n",
      "Generation 74 of 100\n",
      "Generation 75 of 100\n",
      "Generation 76 of 100\n",
      "Generation 77 of 100\n",
      "Generation 78 of 100\n",
      "Generation 79 of 100\n",
      "Generation 80 of 100\n",
      "Generation 81 of 100\n",
      "Generation 82 of 100\n",
      "Generation 83 of 100\n",
      "Generation 84 of 100\n",
      "Generation 85 of 100\n",
      "Generation 86 of 100\n",
      "Generation 87 of 100\n",
      "Generation 88 of 100\n",
      "Generation 89 of 100\n",
      "Generation 90 of 100\n",
      "Generation 91 of 100\n",
      "Generation 92 of 100\n",
      "Generation 93 of 100\n",
      "Generation 94 of 100\n",
      "Generation 95 of 100\n",
      "Generation 96 of 100\n",
      "Generation 97 of 100\n",
      "Generation 98 of 100\n",
      "Generation 99 of 100\n"
     ]
    }
   ],
   "source": [
    "# Run the optimization to obtain n=3 materials and their volume fractions that achieve the desired composite material properties\n",
    "HS.set_HS_optim_params(gen_counter=True)"
   ]
  },
  {
   "cell_type": "code",
   "execution_count": 13,
   "metadata": {},
   "outputs": [
    {
     "data": {
      "application/vnd.plotly.v1+json": {
       "config": {
        "plotlyServerURL": "https://plot.ly"
       },
       "data": [
        {
         "cells": {
          "align": "left",
          "fill": {
           "color": [
            [
             "white",
             "lightgrey",
             "white",
             "lightgrey",
             "white",
             "lightgrey",
             "white",
             "lightgrey",
             "white",
             "lightgrey"
            ]
           ]
          },
          "font": {
           "size": 12
          },
          "height": 30,
          "values": [
           [
            32.068711395078054,
            54.9837376776453,
            0.31538640947457175,
            74.24571745827646,
            74.24997214278936,
            23.033852299809645,
            13.214446797071192,
            17.31432498409984,
            34.493393575246586,
            29.324552217301115
           ],
           [
            1.4545831053365026,
            1.7711524579663858,
            0.6519613627586147,
            0.7036079919982242,
            0.4532662151210361,
            0.674979948220289,
            1.3380323490318902,
            0.7567695794829113,
            1.1701983314342759,
            0.8288953650480105
           ],
           [
            84.86830053363286,
            92.38497180558349,
            52.95204624550763,
            96.78421602403574,
            94.69943658688658,
            38.63707773665311,
            84.22401928609632,
            81.58798827205403,
            75.87380713939999,
            26.597533105791747
           ],
           [
            82.60412618618449,
            84.31267880630674,
            99.42105606730438,
            81.48862518402088,
            86.24620679627466,
            137.09504228197545,
            86.24128110365587,
            92.8233972490604,
            90.09495019376659,
            133.29958827142443
           ],
           [
            1.4350972028271478,
            1.537229616445519,
            1.7320308707227028,
            1.2930116225134545,
            1.3975650823208399,
            2.087273330606449,
            1.8058905367578564,
            1.236704235821629,
            1.6787026112055856,
            1.079375367760804
           ],
           [
            10.03250845979932,
            7.920550220761263,
            31.328780932777377,
            8.480763964762808,
            9.358212131645256,
            76.73070537511896,
            52.7985387737741,
            44.6655716365879,
            53.567322189600056,
            9.601211958387282
           ],
           [
            1.0363298975936313,
            1.016592776979386,
            1.7165943466178555,
            1.692526034967418,
            0.5156153463526953,
            0.3928228041235513,
            0.03890066329814616,
            0.652601514516249,
            1.3095787640305834,
            0.3369628281196033
           ],
           [
            214.22485052244485,
            99.23653014534538,
            142.48921093280137,
            294.6450333617911,
            273.7368012242697,
            88.68947629054011,
            139.44537848776247,
            110.42149024587792,
            252.2758486167439,
            82.51757733695024
           ],
           [
            191.52741947914024,
            170.8769341871853,
            195.67975142694254,
            149.6455020588755,
            148.90120949488312,
            196.68229977286387,
            176.32960007990062,
            127.83132241329469,
            164.0904509837202,
            157.93417170669701
           ],
           [
            1.7955934183351272,
            2.1562774105047384,
            1.63290658934968,
            1.0405373883447595,
            1.7577807183271217,
            1.3516477398739664,
            2.260557114277065,
            2.140394803533472,
            2.079113556921646,
            1.7077567087511898
           ],
           [
            5.711380896549549,
            11.042867666551237,
            55.032724876989946,
            26.84576488859147,
            59.00400665372086,
            63.98611082351832,
            55.317498700165714,
            3.7432592476463773,
            15.409879006136038,
            31.771076594590696
           ],
           [
            0.931346149039302,
            0.7354426989518194,
            0.8800528082394166,
            1.8558918295075266,
            1.2977185982206538,
            1.510396050827562,
            1.524000621925525,
            1.433206093958683,
            1.6125124958344281,
            1.5978943031006576
           ],
           [
            309.70232335414244,
            255.74739643828835,
            270.8350528316271,
            305.6433341274735,
            333.4627210547236,
            298.03242759121923,
            282.4497567727597,
            172.36162946958643,
            273.12157529900554,
            319.7216119390499
           ],
           [
            284.95826332503043,
            271.66007714879987,
            200.97722852798717,
            240.56927229220125,
            249.80344899969884,
            286.1793735202317,
            295.2596984237431,
            233.944923267663,
            186.6399494747764,
            233.33590935738735
           ],
           [
            1.5233744296109673,
            1.2397438446963602,
            1.393406053171925,
            1.698021977982799,
            1.4426404007791127,
            1.5492293557536971,
            1.661003799814027,
            1.2869454973768713,
            1.3244574856442868,
            1.672672136966644
           ],
           [
            0.125886987858495,
            0.20188179602549003,
            0.17554171189116355,
            0.1644040638108894,
            0.18626106633341755,
            0.16056142481083888,
            0.20525773872722997,
            0.19900490308872315,
            0.16258940728104943,
            0.32963020026669587
           ],
           [
            0.2501446019835898,
            0.17058705257536289,
            0.31920770584905606,
            0.3557000177259671,
            0.16438326064771694,
            0.11947277823438028,
            0.25345179401774437,
            0.16608474838215254,
            0.5296995296257448,
            0.10416516212801798
           ],
           [
            0.6239684101579153,
            0.6275311513991471,
            0.5052505822597804,
            0.4798959184631435,
            0.6493556730188655,
            0.7199657969547808,
            0.5412904672550256,
            0.6349103485291243,
            0.30771106309320573,
            0.5662046376052862
           ],
           [
            0.056,
            0.157,
            0.158,
            0.159,
            0.178,
            0.185,
            0.19,
            0.193,
            0.203,
            0.209
           ]
          ]
         },
         "columnwidth": 1000,
         "header": {
          "align": "left",
          "fill": {
           "color": "lavender"
          },
          "font": {
           "size": 12
          },
          "height": 30,
          "values": [
           "Phase 1 Electrical conductivity, [S/m]",
           "Phase 2 Electrical conductivity, [S/m]",
           "Phase 3 Electrical conductivity, [S/m]",
           "Phase 1 Thermal conductivity, [W/m/K]",
           "Phase 2 Thermal conductivity, [W/m/K]",
           "Phase 3 Thermal conductivity, [W/m/K]",
           "Phase 1 Bulk modulus, [GPa]",
           "Phase 2 Bulk modulus, [GPa]",
           "Phase 3 Bulk modulus, [GPa]",
           "Phase 1 Shear modulus, [GPa]",
           "Phase 2 Shear modulus, [GPa]",
           "Phase 3 Shear modulus, [GPa]",
           "Phase 1 Universal anisotropy, []",
           "Phase 2 Universal anisotropy, []",
           "Phase 3 Universal anisotropy, []",
           "Phase 1 Volume Fraction",
           "Phase 2 Volume Fraction",
           "Phase 3 Volume Fraction",
           "cost"
          ]
         },
         "type": "table"
        }
       ],
       "layout": {
        "autosize": true,
        "height": 400,
        "margin": {
         "b": 0,
         "l": 0,
         "r": 0,
         "t": 40
        },
        "template": {
         "data": {
          "bar": [
           {
            "error_x": {
             "color": "rgb(36,36,36)"
            },
            "error_y": {
             "color": "rgb(36,36,36)"
            },
            "marker": {
             "line": {
              "color": "white",
              "width": 0.5
             },
             "pattern": {
              "fillmode": "overlay",
              "size": 10,
              "solidity": 0.2
             }
            },
            "type": "bar"
           }
          ],
          "barpolar": [
           {
            "marker": {
             "line": {
              "color": "white",
              "width": 0.5
             },
             "pattern": {
              "fillmode": "overlay",
              "size": 10,
              "solidity": 0.2
             }
            },
            "type": "barpolar"
           }
          ],
          "carpet": [
           {
            "aaxis": {
             "endlinecolor": "rgb(36,36,36)",
             "gridcolor": "white",
             "linecolor": "white",
             "minorgridcolor": "white",
             "startlinecolor": "rgb(36,36,36)"
            },
            "baxis": {
             "endlinecolor": "rgb(36,36,36)",
             "gridcolor": "white",
             "linecolor": "white",
             "minorgridcolor": "white",
             "startlinecolor": "rgb(36,36,36)"
            },
            "type": "carpet"
           }
          ],
          "choropleth": [
           {
            "colorbar": {
             "outlinewidth": 1,
             "tickcolor": "rgb(36,36,36)",
             "ticks": "outside"
            },
            "type": "choropleth"
           }
          ],
          "contour": [
           {
            "colorbar": {
             "outlinewidth": 1,
             "tickcolor": "rgb(36,36,36)",
             "ticks": "outside"
            },
            "colorscale": [
             [
              0,
              "#440154"
             ],
             [
              0.1111111111111111,
              "#482878"
             ],
             [
              0.2222222222222222,
              "#3e4989"
             ],
             [
              0.3333333333333333,
              "#31688e"
             ],
             [
              0.4444444444444444,
              "#26828e"
             ],
             [
              0.5555555555555556,
              "#1f9e89"
             ],
             [
              0.6666666666666666,
              "#35b779"
             ],
             [
              0.7777777777777778,
              "#6ece58"
             ],
             [
              0.8888888888888888,
              "#b5de2b"
             ],
             [
              1,
              "#fde725"
             ]
            ],
            "type": "contour"
           }
          ],
          "contourcarpet": [
           {
            "colorbar": {
             "outlinewidth": 1,
             "tickcolor": "rgb(36,36,36)",
             "ticks": "outside"
            },
            "type": "contourcarpet"
           }
          ],
          "heatmap": [
           {
            "colorbar": {
             "outlinewidth": 1,
             "tickcolor": "rgb(36,36,36)",
             "ticks": "outside"
            },
            "colorscale": [
             [
              0,
              "#440154"
             ],
             [
              0.1111111111111111,
              "#482878"
             ],
             [
              0.2222222222222222,
              "#3e4989"
             ],
             [
              0.3333333333333333,
              "#31688e"
             ],
             [
              0.4444444444444444,
              "#26828e"
             ],
             [
              0.5555555555555556,
              "#1f9e89"
             ],
             [
              0.6666666666666666,
              "#35b779"
             ],
             [
              0.7777777777777778,
              "#6ece58"
             ],
             [
              0.8888888888888888,
              "#b5de2b"
             ],
             [
              1,
              "#fde725"
             ]
            ],
            "type": "heatmap"
           }
          ],
          "heatmapgl": [
           {
            "colorbar": {
             "outlinewidth": 1,
             "tickcolor": "rgb(36,36,36)",
             "ticks": "outside"
            },
            "colorscale": [
             [
              0,
              "#440154"
             ],
             [
              0.1111111111111111,
              "#482878"
             ],
             [
              0.2222222222222222,
              "#3e4989"
             ],
             [
              0.3333333333333333,
              "#31688e"
             ],
             [
              0.4444444444444444,
              "#26828e"
             ],
             [
              0.5555555555555556,
              "#1f9e89"
             ],
             [
              0.6666666666666666,
              "#35b779"
             ],
             [
              0.7777777777777778,
              "#6ece58"
             ],
             [
              0.8888888888888888,
              "#b5de2b"
             ],
             [
              1,
              "#fde725"
             ]
            ],
            "type": "heatmapgl"
           }
          ],
          "histogram": [
           {
            "marker": {
             "line": {
              "color": "white",
              "width": 0.6
             }
            },
            "type": "histogram"
           }
          ],
          "histogram2d": [
           {
            "colorbar": {
             "outlinewidth": 1,
             "tickcolor": "rgb(36,36,36)",
             "ticks": "outside"
            },
            "colorscale": [
             [
              0,
              "#440154"
             ],
             [
              0.1111111111111111,
              "#482878"
             ],
             [
              0.2222222222222222,
              "#3e4989"
             ],
             [
              0.3333333333333333,
              "#31688e"
             ],
             [
              0.4444444444444444,
              "#26828e"
             ],
             [
              0.5555555555555556,
              "#1f9e89"
             ],
             [
              0.6666666666666666,
              "#35b779"
             ],
             [
              0.7777777777777778,
              "#6ece58"
             ],
             [
              0.8888888888888888,
              "#b5de2b"
             ],
             [
              1,
              "#fde725"
             ]
            ],
            "type": "histogram2d"
           }
          ],
          "histogram2dcontour": [
           {
            "colorbar": {
             "outlinewidth": 1,
             "tickcolor": "rgb(36,36,36)",
             "ticks": "outside"
            },
            "colorscale": [
             [
              0,
              "#440154"
             ],
             [
              0.1111111111111111,
              "#482878"
             ],
             [
              0.2222222222222222,
              "#3e4989"
             ],
             [
              0.3333333333333333,
              "#31688e"
             ],
             [
              0.4444444444444444,
              "#26828e"
             ],
             [
              0.5555555555555556,
              "#1f9e89"
             ],
             [
              0.6666666666666666,
              "#35b779"
             ],
             [
              0.7777777777777778,
              "#6ece58"
             ],
             [
              0.8888888888888888,
              "#b5de2b"
             ],
             [
              1,
              "#fde725"
             ]
            ],
            "type": "histogram2dcontour"
           }
          ],
          "mesh3d": [
           {
            "colorbar": {
             "outlinewidth": 1,
             "tickcolor": "rgb(36,36,36)",
             "ticks": "outside"
            },
            "type": "mesh3d"
           }
          ],
          "parcoords": [
           {
            "line": {
             "colorbar": {
              "outlinewidth": 1,
              "tickcolor": "rgb(36,36,36)",
              "ticks": "outside"
             }
            },
            "type": "parcoords"
           }
          ],
          "pie": [
           {
            "automargin": true,
            "type": "pie"
           }
          ],
          "scatter": [
           {
            "fillpattern": {
             "fillmode": "overlay",
             "size": 10,
             "solidity": 0.2
            },
            "type": "scatter"
           }
          ],
          "scatter3d": [
           {
            "line": {
             "colorbar": {
              "outlinewidth": 1,
              "tickcolor": "rgb(36,36,36)",
              "ticks": "outside"
             }
            },
            "marker": {
             "colorbar": {
              "outlinewidth": 1,
              "tickcolor": "rgb(36,36,36)",
              "ticks": "outside"
             }
            },
            "type": "scatter3d"
           }
          ],
          "scattercarpet": [
           {
            "marker": {
             "colorbar": {
              "outlinewidth": 1,
              "tickcolor": "rgb(36,36,36)",
              "ticks": "outside"
             }
            },
            "type": "scattercarpet"
           }
          ],
          "scattergeo": [
           {
            "marker": {
             "colorbar": {
              "outlinewidth": 1,
              "tickcolor": "rgb(36,36,36)",
              "ticks": "outside"
             }
            },
            "type": "scattergeo"
           }
          ],
          "scattergl": [
           {
            "marker": {
             "colorbar": {
              "outlinewidth": 1,
              "tickcolor": "rgb(36,36,36)",
              "ticks": "outside"
             }
            },
            "type": "scattergl"
           }
          ],
          "scattermapbox": [
           {
            "marker": {
             "colorbar": {
              "outlinewidth": 1,
              "tickcolor": "rgb(36,36,36)",
              "ticks": "outside"
             }
            },
            "type": "scattermapbox"
           }
          ],
          "scatterpolar": [
           {
            "marker": {
             "colorbar": {
              "outlinewidth": 1,
              "tickcolor": "rgb(36,36,36)",
              "ticks": "outside"
             }
            },
            "type": "scatterpolar"
           }
          ],
          "scatterpolargl": [
           {
            "marker": {
             "colorbar": {
              "outlinewidth": 1,
              "tickcolor": "rgb(36,36,36)",
              "ticks": "outside"
             }
            },
            "type": "scatterpolargl"
           }
          ],
          "scatterternary": [
           {
            "marker": {
             "colorbar": {
              "outlinewidth": 1,
              "tickcolor": "rgb(36,36,36)",
              "ticks": "outside"
             }
            },
            "type": "scatterternary"
           }
          ],
          "surface": [
           {
            "colorbar": {
             "outlinewidth": 1,
             "tickcolor": "rgb(36,36,36)",
             "ticks": "outside"
            },
            "colorscale": [
             [
              0,
              "#440154"
             ],
             [
              0.1111111111111111,
              "#482878"
             ],
             [
              0.2222222222222222,
              "#3e4989"
             ],
             [
              0.3333333333333333,
              "#31688e"
             ],
             [
              0.4444444444444444,
              "#26828e"
             ],
             [
              0.5555555555555556,
              "#1f9e89"
             ],
             [
              0.6666666666666666,
              "#35b779"
             ],
             [
              0.7777777777777778,
              "#6ece58"
             ],
             [
              0.8888888888888888,
              "#b5de2b"
             ],
             [
              1,
              "#fde725"
             ]
            ],
            "type": "surface"
           }
          ],
          "table": [
           {
            "cells": {
             "fill": {
              "color": "rgb(237,237,237)"
             },
             "line": {
              "color": "white"
             }
            },
            "header": {
             "fill": {
              "color": "rgb(217,217,217)"
             },
             "line": {
              "color": "white"
             }
            },
            "type": "table"
           }
          ]
         },
         "layout": {
          "annotationdefaults": {
           "arrowhead": 0,
           "arrowwidth": 1
          },
          "autotypenumbers": "strict",
          "coloraxis": {
           "colorbar": {
            "outlinewidth": 1,
            "tickcolor": "rgb(36,36,36)",
            "ticks": "outside"
           }
          },
          "colorscale": {
           "diverging": [
            [
             0,
             "rgb(103,0,31)"
            ],
            [
             0.1,
             "rgb(178,24,43)"
            ],
            [
             0.2,
             "rgb(214,96,77)"
            ],
            [
             0.3,
             "rgb(244,165,130)"
            ],
            [
             0.4,
             "rgb(253,219,199)"
            ],
            [
             0.5,
             "rgb(247,247,247)"
            ],
            [
             0.6,
             "rgb(209,229,240)"
            ],
            [
             0.7,
             "rgb(146,197,222)"
            ],
            [
             0.8,
             "rgb(67,147,195)"
            ],
            [
             0.9,
             "rgb(33,102,172)"
            ],
            [
             1,
             "rgb(5,48,97)"
            ]
           ],
           "sequential": [
            [
             0,
             "#440154"
            ],
            [
             0.1111111111111111,
             "#482878"
            ],
            [
             0.2222222222222222,
             "#3e4989"
            ],
            [
             0.3333333333333333,
             "#31688e"
            ],
            [
             0.4444444444444444,
             "#26828e"
            ],
            [
             0.5555555555555556,
             "#1f9e89"
            ],
            [
             0.6666666666666666,
             "#35b779"
            ],
            [
             0.7777777777777778,
             "#6ece58"
            ],
            [
             0.8888888888888888,
             "#b5de2b"
            ],
            [
             1,
             "#fde725"
            ]
           ],
           "sequentialminus": [
            [
             0,
             "#440154"
            ],
            [
             0.1111111111111111,
             "#482878"
            ],
            [
             0.2222222222222222,
             "#3e4989"
            ],
            [
             0.3333333333333333,
             "#31688e"
            ],
            [
             0.4444444444444444,
             "#26828e"
            ],
            [
             0.5555555555555556,
             "#1f9e89"
            ],
            [
             0.6666666666666666,
             "#35b779"
            ],
            [
             0.7777777777777778,
             "#6ece58"
            ],
            [
             0.8888888888888888,
             "#b5de2b"
            ],
            [
             1,
             "#fde725"
            ]
           ]
          },
          "colorway": [
           "#1F77B4",
           "#FF7F0E",
           "#2CA02C",
           "#D62728",
           "#9467BD",
           "#8C564B",
           "#E377C2",
           "#7F7F7F",
           "#BCBD22",
           "#17BECF"
          ],
          "font": {
           "color": "rgb(36,36,36)"
          },
          "geo": {
           "bgcolor": "white",
           "lakecolor": "white",
           "landcolor": "white",
           "showlakes": true,
           "showland": true,
           "subunitcolor": "white"
          },
          "hoverlabel": {
           "align": "left"
          },
          "hovermode": "closest",
          "mapbox": {
           "style": "light"
          },
          "paper_bgcolor": "white",
          "plot_bgcolor": "white",
          "polar": {
           "angularaxis": {
            "gridcolor": "rgb(232,232,232)",
            "linecolor": "rgb(36,36,36)",
            "showgrid": false,
            "showline": true,
            "ticks": "outside"
           },
           "bgcolor": "white",
           "radialaxis": {
            "gridcolor": "rgb(232,232,232)",
            "linecolor": "rgb(36,36,36)",
            "showgrid": false,
            "showline": true,
            "ticks": "outside"
           }
          },
          "scene": {
           "xaxis": {
            "backgroundcolor": "white",
            "gridcolor": "rgb(232,232,232)",
            "gridwidth": 2,
            "linecolor": "rgb(36,36,36)",
            "showbackground": true,
            "showgrid": false,
            "showline": true,
            "ticks": "outside",
            "zeroline": false,
            "zerolinecolor": "rgb(36,36,36)"
           },
           "yaxis": {
            "backgroundcolor": "white",
            "gridcolor": "rgb(232,232,232)",
            "gridwidth": 2,
            "linecolor": "rgb(36,36,36)",
            "showbackground": true,
            "showgrid": false,
            "showline": true,
            "ticks": "outside",
            "zeroline": false,
            "zerolinecolor": "rgb(36,36,36)"
           },
           "zaxis": {
            "backgroundcolor": "white",
            "gridcolor": "rgb(232,232,232)",
            "gridwidth": 2,
            "linecolor": "rgb(36,36,36)",
            "showbackground": true,
            "showgrid": false,
            "showline": true,
            "ticks": "outside",
            "zeroline": false,
            "zerolinecolor": "rgb(36,36,36)"
           }
          },
          "shapedefaults": {
           "fillcolor": "black",
           "line": {
            "width": 0
           },
           "opacity": 0.3
          },
          "ternary": {
           "aaxis": {
            "gridcolor": "rgb(232,232,232)",
            "linecolor": "rgb(36,36,36)",
            "showgrid": false,
            "showline": true,
            "ticks": "outside"
           },
           "baxis": {
            "gridcolor": "rgb(232,232,232)",
            "linecolor": "rgb(36,36,36)",
            "showgrid": false,
            "showline": true,
            "ticks": "outside"
           },
           "bgcolor": "white",
           "caxis": {
            "gridcolor": "rgb(232,232,232)",
            "linecolor": "rgb(36,36,36)",
            "showgrid": false,
            "showline": true,
            "ticks": "outside"
           }
          },
          "title": {
           "x": 0.05
          },
          "xaxis": {
           "automargin": true,
           "gridcolor": "rgb(232,232,232)",
           "linecolor": "rgb(36,36,36)",
           "showgrid": false,
           "showline": true,
           "ticks": "outside",
           "title": {
            "standoff": 15
           },
           "zeroline": false,
           "zerolinecolor": "rgb(36,36,36)"
          },
          "yaxis": {
           "automargin": true,
           "gridcolor": "rgb(232,232,232)",
           "linecolor": "rgb(36,36,36)",
           "showgrid": false,
           "showline": true,
           "ticks": "outside",
           "title": {
            "standoff": 15
           },
           "zeroline": false,
           "zerolinecolor": "rgb(36,36,36)"
          }
         }
        },
        "title": {
         "font": {
          "size": 20
         },
         "text": "Optimal Properties Recommended by Genetic Algorithm",
         "x": 0.2
        }
       }
      }
     },
     "metadata": {},
     "output_type": "display_data"
    }
   ],
   "source": [
    "# Print the optimization results as a table\n",
    "HS.print_table_of_best_designs(rows=10)"
   ]
  },
  {
   "cell_type": "code",
   "execution_count": 14,
   "metadata": {},
   "outputs": [
    {
     "data": {
      "application/vnd.plotly.v1+json": {
       "config": {
        "plotlyServerURL": "https://plot.ly"
       },
       "data": [
        {
         "mode": "lines",
         "name": "Avg. of top 10 performers",
         "type": "scatter",
         "x": [
          0,
          1,
          2,
          3,
          4,
          5,
          6,
          7,
          8,
          9,
          10,
          11,
          12,
          13,
          14,
          15,
          16,
          17,
          18,
          19,
          20,
          21,
          22,
          23,
          24,
          25,
          26,
          27,
          28,
          29,
          30,
          31,
          32,
          33,
          34,
          35,
          36,
          37,
          38,
          39,
          40,
          41,
          42,
          43,
          44,
          45,
          46,
          47,
          48,
          49,
          50,
          51,
          52,
          53,
          54,
          55,
          56,
          57,
          58,
          59,
          60,
          61,
          62,
          63,
          64,
          65,
          66,
          67,
          68,
          69,
          70,
          71,
          72,
          73,
          74,
          75,
          76,
          77,
          78,
          79,
          80,
          81,
          82,
          83,
          84,
          85,
          86,
          87,
          88,
          89,
          90,
          91,
          92,
          93,
          94,
          95,
          96,
          97,
          98,
          99
         ],
         "y": [
          0.1396571916647274,
          0.12932451518987703,
          0.11780629777944958,
          0.11041715868599696,
          0.10303967106955196,
          0.09341991422378015,
          0.08733508427118106,
          0.08546405383275599,
          0.08449139060992883,
          0.08417901159631576,
          0.08407291640318412,
          0.08406939354851307,
          0.08406794686921629,
          0.08406773497123163,
          0.08406765373478371,
          0.08406758558571154,
          0.08406757343336205,
          0.08406756547365334,
          0.08406756127579312,
          0.08406756085848599,
          0.08406756085613057,
          0.08406756085521462,
          0.08406756085514075,
          0.08406756085508994,
          0.08406756085506825,
          0.08406756085504977,
          0.08406756085504838,
          0.08406756085504737,
          0.08406756085504637,
          0.08406756085504591,
          0.08406756085504578,
          0.08406756085504574,
          0.08406756085504574,
          0.08406756085504573,
          0.08406756085504571,
          0.08406756085504571,
          0.08406756085504571,
          0.08406756085504571,
          0.08406756085504571,
          0.08406756085504571,
          0.08406756085504571,
          0.08406756085504571,
          0.08393266580788766,
          0.07960051455236068,
          0.07458576184028325,
          0.06580941397079845,
          0.06158083028814686,
          0.057829591154360836,
          0.056843638139487715,
          0.05614319453777641,
          0.05590412813765392,
          0.055844457821244184,
          0.055841021546404246,
          0.05584080593119517,
          0.055840784919197806,
          0.055840778751332754,
          0.055840778183580506,
          0.05584077798992153,
          0.055840777941873275,
          0.055840777941626896,
          0.05584077794151756,
          0.05584077794149087,
          0.055840777941490616,
          0.055840777941490574,
          0.05584077794149056,
          0.05584077794149056,
          0.055840777941490546,
          0.055840777941490546,
          0.055840777941490546,
          0.05584077794149054,
          0.05584077794149054,
          0.05584077794149054,
          0.05584077794149054,
          0.05584077794149054,
          0.05584077794149054,
          0.05584077794149054,
          0.05584077794149054,
          0.05584077794149054,
          0.05584077794149054,
          0.05584077794149054,
          0.05584077794149054,
          0.05584077794149054,
          0.05584077794149054,
          0.05584077794149054,
          0.05584077794149054,
          0.05584077794149054,
          0.05584077794149054,
          0.05584077794149054,
          0.05584077794149054,
          0.05584077794149054,
          0.05584077794149054,
          0.05584077794149054,
          0.05584077794149054,
          0.05584077794149054,
          0.05584077794149054,
          0.05584077794149054,
          0.05584077794149054,
          0.05584077794149054,
          0.05584077794149054,
          0.05584077794149054
         ]
        },
        {
         "mode": "lines",
         "name": "Best costs",
         "type": "scatter",
         "x": [
          0,
          1,
          2,
          3,
          4,
          5,
          6,
          7,
          8,
          9,
          10,
          11,
          12,
          13,
          14,
          15,
          16,
          17,
          18,
          19,
          20,
          21,
          22,
          23,
          24,
          25,
          26,
          27,
          28,
          29,
          30,
          31,
          32,
          33,
          34,
          35,
          36,
          37,
          38,
          39,
          40,
          41,
          42,
          43,
          44,
          45,
          46,
          47,
          48,
          49,
          50,
          51,
          52,
          53,
          54,
          55,
          56,
          57,
          58,
          59,
          60,
          61,
          62,
          63,
          64,
          65,
          66,
          67,
          68,
          69,
          70,
          71,
          72,
          73,
          74,
          75,
          76,
          77,
          78,
          79,
          80,
          81,
          82,
          83,
          84,
          85,
          86,
          87,
          88,
          89,
          90,
          91,
          92,
          93,
          94,
          95,
          96,
          97,
          98,
          99
         ],
         "y": [
          0.11709950520641073,
          0.11709950520641073,
          0.10079458152719512,
          0.08406756085504574,
          0.08406756085504574,
          0.08406756085504574,
          0.08406756085504574,
          0.08406756085504574,
          0.08406756085504574,
          0.08406756085504574,
          0.08406756085504574,
          0.08406756085504574,
          0.08406756085504574,
          0.08406756085504574,
          0.08406756085504574,
          0.08406756085504574,
          0.08406756085504574,
          0.08406756085504574,
          0.08406756085504574,
          0.08406756085504574,
          0.08406756085504574,
          0.08406756085504574,
          0.08406756085504574,
          0.08406756085504574,
          0.08406756085504574,
          0.08406756085504574,
          0.08406756085504574,
          0.08406756085504574,
          0.08406756085504574,
          0.08406756085504574,
          0.08406756085504574,
          0.08406756085504574,
          0.08406756085504571,
          0.08406756085504571,
          0.08406756085504571,
          0.08406756085504571,
          0.08406756085504571,
          0.08406756085504571,
          0.08406756085504571,
          0.08406756085504571,
          0.08406756085504571,
          0.08406756085504571,
          0.08271861038346515,
          0.062183873258656014,
          0.06215815048734754,
          0.05610712898293578,
          0.05610712898293578,
          0.05584077794149056,
          0.05584077794149056,
          0.05584077794149056,
          0.05584077794149056,
          0.05584077794149056,
          0.05584077794149056,
          0.05584077794149056,
          0.05584077794149056,
          0.05584077794149056,
          0.05584077794149056,
          0.05584077794149056,
          0.05584077794149056,
          0.05584077794149056,
          0.05584077794149056,
          0.05584077794149056,
          0.05584077794149056,
          0.05584077794149056,
          0.05584077794149055,
          0.055840777941490546,
          0.055840777941490546,
          0.055840777941490546,
          0.055840777941490546,
          0.05584077794149053,
          0.05584077794149053,
          0.05584077794149053,
          0.05584077794149053,
          0.05584077794149053,
          0.05584077794149053,
          0.05584077794149053,
          0.05584077794149053,
          0.05584077794149053,
          0.05584077794149053,
          0.05584077794149053,
          0.05584077794149053,
          0.05584077794149053,
          0.05584077794149053,
          0.05584077794149053,
          0.05584077794149053,
          0.05584077794149053,
          0.05584077794149053,
          0.05584077794149053,
          0.05584077794149053,
          0.05584077794149053,
          0.05584077794149053,
          0.05584077794149053,
          0.05584077794149053,
          0.05584077794149053,
          0.05584077794149053,
          0.05584077794149053,
          0.05584077794149053,
          0.05584077794149053,
          0.05584077794149053,
          0.05584077794149053
         ]
        }
       ],
       "layout": {
        "height": 400,
        "legend": {
         "bgcolor": "rgba(255, 255, 255, 0.5)",
         "font": {
          "size": 14
         },
         "x": 1,
         "xanchor": "right",
         "y": 1,
         "yanchor": "top"
        },
        "margin": {
         "b": 50,
         "l": 50,
         "r": 50,
         "t": 50
        },
        "template": {
         "data": {
          "bar": [
           {
            "error_x": {
             "color": "rgb(36,36,36)"
            },
            "error_y": {
             "color": "rgb(36,36,36)"
            },
            "marker": {
             "line": {
              "color": "white",
              "width": 0.5
             },
             "pattern": {
              "fillmode": "overlay",
              "size": 10,
              "solidity": 0.2
             }
            },
            "type": "bar"
           }
          ],
          "barpolar": [
           {
            "marker": {
             "line": {
              "color": "white",
              "width": 0.5
             },
             "pattern": {
              "fillmode": "overlay",
              "size": 10,
              "solidity": 0.2
             }
            },
            "type": "barpolar"
           }
          ],
          "carpet": [
           {
            "aaxis": {
             "endlinecolor": "rgb(36,36,36)",
             "gridcolor": "white",
             "linecolor": "white",
             "minorgridcolor": "white",
             "startlinecolor": "rgb(36,36,36)"
            },
            "baxis": {
             "endlinecolor": "rgb(36,36,36)",
             "gridcolor": "white",
             "linecolor": "white",
             "minorgridcolor": "white",
             "startlinecolor": "rgb(36,36,36)"
            },
            "type": "carpet"
           }
          ],
          "choropleth": [
           {
            "colorbar": {
             "outlinewidth": 1,
             "tickcolor": "rgb(36,36,36)",
             "ticks": "outside"
            },
            "type": "choropleth"
           }
          ],
          "contour": [
           {
            "colorbar": {
             "outlinewidth": 1,
             "tickcolor": "rgb(36,36,36)",
             "ticks": "outside"
            },
            "colorscale": [
             [
              0,
              "#440154"
             ],
             [
              0.1111111111111111,
              "#482878"
             ],
             [
              0.2222222222222222,
              "#3e4989"
             ],
             [
              0.3333333333333333,
              "#31688e"
             ],
             [
              0.4444444444444444,
              "#26828e"
             ],
             [
              0.5555555555555556,
              "#1f9e89"
             ],
             [
              0.6666666666666666,
              "#35b779"
             ],
             [
              0.7777777777777778,
              "#6ece58"
             ],
             [
              0.8888888888888888,
              "#b5de2b"
             ],
             [
              1,
              "#fde725"
             ]
            ],
            "type": "contour"
           }
          ],
          "contourcarpet": [
           {
            "colorbar": {
             "outlinewidth": 1,
             "tickcolor": "rgb(36,36,36)",
             "ticks": "outside"
            },
            "type": "contourcarpet"
           }
          ],
          "heatmap": [
           {
            "colorbar": {
             "outlinewidth": 1,
             "tickcolor": "rgb(36,36,36)",
             "ticks": "outside"
            },
            "colorscale": [
             [
              0,
              "#440154"
             ],
             [
              0.1111111111111111,
              "#482878"
             ],
             [
              0.2222222222222222,
              "#3e4989"
             ],
             [
              0.3333333333333333,
              "#31688e"
             ],
             [
              0.4444444444444444,
              "#26828e"
             ],
             [
              0.5555555555555556,
              "#1f9e89"
             ],
             [
              0.6666666666666666,
              "#35b779"
             ],
             [
              0.7777777777777778,
              "#6ece58"
             ],
             [
              0.8888888888888888,
              "#b5de2b"
             ],
             [
              1,
              "#fde725"
             ]
            ],
            "type": "heatmap"
           }
          ],
          "heatmapgl": [
           {
            "colorbar": {
             "outlinewidth": 1,
             "tickcolor": "rgb(36,36,36)",
             "ticks": "outside"
            },
            "colorscale": [
             [
              0,
              "#440154"
             ],
             [
              0.1111111111111111,
              "#482878"
             ],
             [
              0.2222222222222222,
              "#3e4989"
             ],
             [
              0.3333333333333333,
              "#31688e"
             ],
             [
              0.4444444444444444,
              "#26828e"
             ],
             [
              0.5555555555555556,
              "#1f9e89"
             ],
             [
              0.6666666666666666,
              "#35b779"
             ],
             [
              0.7777777777777778,
              "#6ece58"
             ],
             [
              0.8888888888888888,
              "#b5de2b"
             ],
             [
              1,
              "#fde725"
             ]
            ],
            "type": "heatmapgl"
           }
          ],
          "histogram": [
           {
            "marker": {
             "line": {
              "color": "white",
              "width": 0.6
             }
            },
            "type": "histogram"
           }
          ],
          "histogram2d": [
           {
            "colorbar": {
             "outlinewidth": 1,
             "tickcolor": "rgb(36,36,36)",
             "ticks": "outside"
            },
            "colorscale": [
             [
              0,
              "#440154"
             ],
             [
              0.1111111111111111,
              "#482878"
             ],
             [
              0.2222222222222222,
              "#3e4989"
             ],
             [
              0.3333333333333333,
              "#31688e"
             ],
             [
              0.4444444444444444,
              "#26828e"
             ],
             [
              0.5555555555555556,
              "#1f9e89"
             ],
             [
              0.6666666666666666,
              "#35b779"
             ],
             [
              0.7777777777777778,
              "#6ece58"
             ],
             [
              0.8888888888888888,
              "#b5de2b"
             ],
             [
              1,
              "#fde725"
             ]
            ],
            "type": "histogram2d"
           }
          ],
          "histogram2dcontour": [
           {
            "colorbar": {
             "outlinewidth": 1,
             "tickcolor": "rgb(36,36,36)",
             "ticks": "outside"
            },
            "colorscale": [
             [
              0,
              "#440154"
             ],
             [
              0.1111111111111111,
              "#482878"
             ],
             [
              0.2222222222222222,
              "#3e4989"
             ],
             [
              0.3333333333333333,
              "#31688e"
             ],
             [
              0.4444444444444444,
              "#26828e"
             ],
             [
              0.5555555555555556,
              "#1f9e89"
             ],
             [
              0.6666666666666666,
              "#35b779"
             ],
             [
              0.7777777777777778,
              "#6ece58"
             ],
             [
              0.8888888888888888,
              "#b5de2b"
             ],
             [
              1,
              "#fde725"
             ]
            ],
            "type": "histogram2dcontour"
           }
          ],
          "mesh3d": [
           {
            "colorbar": {
             "outlinewidth": 1,
             "tickcolor": "rgb(36,36,36)",
             "ticks": "outside"
            },
            "type": "mesh3d"
           }
          ],
          "parcoords": [
           {
            "line": {
             "colorbar": {
              "outlinewidth": 1,
              "tickcolor": "rgb(36,36,36)",
              "ticks": "outside"
             }
            },
            "type": "parcoords"
           }
          ],
          "pie": [
           {
            "automargin": true,
            "type": "pie"
           }
          ],
          "scatter": [
           {
            "fillpattern": {
             "fillmode": "overlay",
             "size": 10,
             "solidity": 0.2
            },
            "type": "scatter"
           }
          ],
          "scatter3d": [
           {
            "line": {
             "colorbar": {
              "outlinewidth": 1,
              "tickcolor": "rgb(36,36,36)",
              "ticks": "outside"
             }
            },
            "marker": {
             "colorbar": {
              "outlinewidth": 1,
              "tickcolor": "rgb(36,36,36)",
              "ticks": "outside"
             }
            },
            "type": "scatter3d"
           }
          ],
          "scattercarpet": [
           {
            "marker": {
             "colorbar": {
              "outlinewidth": 1,
              "tickcolor": "rgb(36,36,36)",
              "ticks": "outside"
             }
            },
            "type": "scattercarpet"
           }
          ],
          "scattergeo": [
           {
            "marker": {
             "colorbar": {
              "outlinewidth": 1,
              "tickcolor": "rgb(36,36,36)",
              "ticks": "outside"
             }
            },
            "type": "scattergeo"
           }
          ],
          "scattergl": [
           {
            "marker": {
             "colorbar": {
              "outlinewidth": 1,
              "tickcolor": "rgb(36,36,36)",
              "ticks": "outside"
             }
            },
            "type": "scattergl"
           }
          ],
          "scattermapbox": [
           {
            "marker": {
             "colorbar": {
              "outlinewidth": 1,
              "tickcolor": "rgb(36,36,36)",
              "ticks": "outside"
             }
            },
            "type": "scattermapbox"
           }
          ],
          "scatterpolar": [
           {
            "marker": {
             "colorbar": {
              "outlinewidth": 1,
              "tickcolor": "rgb(36,36,36)",
              "ticks": "outside"
             }
            },
            "type": "scatterpolar"
           }
          ],
          "scatterpolargl": [
           {
            "marker": {
             "colorbar": {
              "outlinewidth": 1,
              "tickcolor": "rgb(36,36,36)",
              "ticks": "outside"
             }
            },
            "type": "scatterpolargl"
           }
          ],
          "scatterternary": [
           {
            "marker": {
             "colorbar": {
              "outlinewidth": 1,
              "tickcolor": "rgb(36,36,36)",
              "ticks": "outside"
             }
            },
            "type": "scatterternary"
           }
          ],
          "surface": [
           {
            "colorbar": {
             "outlinewidth": 1,
             "tickcolor": "rgb(36,36,36)",
             "ticks": "outside"
            },
            "colorscale": [
             [
              0,
              "#440154"
             ],
             [
              0.1111111111111111,
              "#482878"
             ],
             [
              0.2222222222222222,
              "#3e4989"
             ],
             [
              0.3333333333333333,
              "#31688e"
             ],
             [
              0.4444444444444444,
              "#26828e"
             ],
             [
              0.5555555555555556,
              "#1f9e89"
             ],
             [
              0.6666666666666666,
              "#35b779"
             ],
             [
              0.7777777777777778,
              "#6ece58"
             ],
             [
              0.8888888888888888,
              "#b5de2b"
             ],
             [
              1,
              "#fde725"
             ]
            ],
            "type": "surface"
           }
          ],
          "table": [
           {
            "cells": {
             "fill": {
              "color": "rgb(237,237,237)"
             },
             "line": {
              "color": "white"
             }
            },
            "header": {
             "fill": {
              "color": "rgb(217,217,217)"
             },
             "line": {
              "color": "white"
             }
            },
            "type": "table"
           }
          ]
         },
         "layout": {
          "annotationdefaults": {
           "arrowhead": 0,
           "arrowwidth": 1
          },
          "autotypenumbers": "strict",
          "coloraxis": {
           "colorbar": {
            "outlinewidth": 1,
            "tickcolor": "rgb(36,36,36)",
            "ticks": "outside"
           }
          },
          "colorscale": {
           "diverging": [
            [
             0,
             "rgb(103,0,31)"
            ],
            [
             0.1,
             "rgb(178,24,43)"
            ],
            [
             0.2,
             "rgb(214,96,77)"
            ],
            [
             0.3,
             "rgb(244,165,130)"
            ],
            [
             0.4,
             "rgb(253,219,199)"
            ],
            [
             0.5,
             "rgb(247,247,247)"
            ],
            [
             0.6,
             "rgb(209,229,240)"
            ],
            [
             0.7,
             "rgb(146,197,222)"
            ],
            [
             0.8,
             "rgb(67,147,195)"
            ],
            [
             0.9,
             "rgb(33,102,172)"
            ],
            [
             1,
             "rgb(5,48,97)"
            ]
           ],
           "sequential": [
            [
             0,
             "#440154"
            ],
            [
             0.1111111111111111,
             "#482878"
            ],
            [
             0.2222222222222222,
             "#3e4989"
            ],
            [
             0.3333333333333333,
             "#31688e"
            ],
            [
             0.4444444444444444,
             "#26828e"
            ],
            [
             0.5555555555555556,
             "#1f9e89"
            ],
            [
             0.6666666666666666,
             "#35b779"
            ],
            [
             0.7777777777777778,
             "#6ece58"
            ],
            [
             0.8888888888888888,
             "#b5de2b"
            ],
            [
             1,
             "#fde725"
            ]
           ],
           "sequentialminus": [
            [
             0,
             "#440154"
            ],
            [
             0.1111111111111111,
             "#482878"
            ],
            [
             0.2222222222222222,
             "#3e4989"
            ],
            [
             0.3333333333333333,
             "#31688e"
            ],
            [
             0.4444444444444444,
             "#26828e"
            ],
            [
             0.5555555555555556,
             "#1f9e89"
            ],
            [
             0.6666666666666666,
             "#35b779"
            ],
            [
             0.7777777777777778,
             "#6ece58"
            ],
            [
             0.8888888888888888,
             "#b5de2b"
            ],
            [
             1,
             "#fde725"
            ]
           ]
          },
          "colorway": [
           "#1F77B4",
           "#FF7F0E",
           "#2CA02C",
           "#D62728",
           "#9467BD",
           "#8C564B",
           "#E377C2",
           "#7F7F7F",
           "#BCBD22",
           "#17BECF"
          ],
          "font": {
           "color": "rgb(36,36,36)"
          },
          "geo": {
           "bgcolor": "white",
           "lakecolor": "white",
           "landcolor": "white",
           "showlakes": true,
           "showland": true,
           "subunitcolor": "white"
          },
          "hoverlabel": {
           "align": "left"
          },
          "hovermode": "closest",
          "mapbox": {
           "style": "light"
          },
          "paper_bgcolor": "white",
          "plot_bgcolor": "white",
          "polar": {
           "angularaxis": {
            "gridcolor": "rgb(232,232,232)",
            "linecolor": "rgb(36,36,36)",
            "showgrid": false,
            "showline": true,
            "ticks": "outside"
           },
           "bgcolor": "white",
           "radialaxis": {
            "gridcolor": "rgb(232,232,232)",
            "linecolor": "rgb(36,36,36)",
            "showgrid": false,
            "showline": true,
            "ticks": "outside"
           }
          },
          "scene": {
           "xaxis": {
            "backgroundcolor": "white",
            "gridcolor": "rgb(232,232,232)",
            "gridwidth": 2,
            "linecolor": "rgb(36,36,36)",
            "showbackground": true,
            "showgrid": false,
            "showline": true,
            "ticks": "outside",
            "zeroline": false,
            "zerolinecolor": "rgb(36,36,36)"
           },
           "yaxis": {
            "backgroundcolor": "white",
            "gridcolor": "rgb(232,232,232)",
            "gridwidth": 2,
            "linecolor": "rgb(36,36,36)",
            "showbackground": true,
            "showgrid": false,
            "showline": true,
            "ticks": "outside",
            "zeroline": false,
            "zerolinecolor": "rgb(36,36,36)"
           },
           "zaxis": {
            "backgroundcolor": "white",
            "gridcolor": "rgb(232,232,232)",
            "gridwidth": 2,
            "linecolor": "rgb(36,36,36)",
            "showbackground": true,
            "showgrid": false,
            "showline": true,
            "ticks": "outside",
            "zeroline": false,
            "zerolinecolor": "rgb(36,36,36)"
           }
          },
          "shapedefaults": {
           "fillcolor": "black",
           "line": {
            "width": 0
           },
           "opacity": 0.3
          },
          "ternary": {
           "aaxis": {
            "gridcolor": "rgb(232,232,232)",
            "linecolor": "rgb(36,36,36)",
            "showgrid": false,
            "showline": true,
            "ticks": "outside"
           },
           "baxis": {
            "gridcolor": "rgb(232,232,232)",
            "linecolor": "rgb(36,36,36)",
            "showgrid": false,
            "showline": true,
            "ticks": "outside"
           },
           "bgcolor": "white",
           "caxis": {
            "gridcolor": "rgb(232,232,232)",
            "linecolor": "rgb(36,36,36)",
            "showgrid": false,
            "showline": true,
            "ticks": "outside"
           }
          },
          "title": {
           "x": 0.05
          },
          "xaxis": {
           "automargin": true,
           "gridcolor": "rgb(232,232,232)",
           "linecolor": "rgb(36,36,36)",
           "showgrid": false,
           "showline": true,
           "ticks": "outside",
           "title": {
            "standoff": 15
           },
           "zeroline": false,
           "zerolinecolor": "rgb(36,36,36)"
          },
          "yaxis": {
           "automargin": true,
           "gridcolor": "rgb(232,232,232)",
           "linecolor": "rgb(36,36,36)",
           "showgrid": false,
           "showline": true,
           "ticks": "outside",
           "title": {
            "standoff": 15
           },
           "zeroline": false,
           "zerolinecolor": "rgb(36,36,36)"
          }
         }
        },
        "title": {
         "font": {
          "size": 24
         },
         "text": "Convergence of Genetic Algorithm",
         "x": 0.25
        },
        "width": 600,
        "xaxis": {
         "title": {
          "font": {
           "size": 20
          },
          "text": "Generation"
         }
        },
        "yaxis": {
         "title": {
          "font": {
           "size": 20
          },
          "text": "Cost"
         }
        }
       }
      }
     },
     "metadata": {},
     "output_type": "display_data"
    }
   ],
   "source": [
    "# Plot the genetic algorithm convergence plot\n",
    "HS.plot_optimization_results()"
   ]
  },
  {
   "cell_type": "code",
   "execution_count": 15,
   "metadata": {},
   "outputs": [
    {
     "data": {
      "application/vnd.plotly.v1+json": {
       "config": {
        "plotlyServerURL": "https://plot.ly"
       },
       "data": [
        {
         "hole": 0.25,
         "insidetextorientation": "radial",
         "labels": [
          "eff. elec_cond_300k_low_doping",
          "eff. therm_cond_300k_low_doping",
          "eff. bulk_modulus",
          "eff. shear_modulus",
          "eff. universal_anisotropy",
          "cf load on elec_cond_300k_low_doping",
          "cf response from elec_cond_300k_low_doping",
          "cf load on therm_cond_300k_low_doping",
          "cf response from therm_cond_300k_low_doping",
          "cf hydrostatic stress",
          "cf deviatoric stress",
          "cf load on universal_anisotropy",
          "cf response from universal_anisotropy"
         ],
         "textinfo": "percent",
         "type": "pie",
         "values": [
          0.004647139054996932,
          0.018976359218384874,
          0.027483650453622905,
          0.00003314340160627006,
          0.008141743830999509,
          0,
          0,
          0.004138776162566064,
          0.004823232276080948,
          0.0009736988254768045,
          0.00504540283721672,
          0,
          0,
          0.004794090138021083,
          0.004903076015798553,
          0.0015772878865464627,
          0.0024990719107270756,
          0.003831687594279593,
          0.0027870614675685468,
          0.002272339236457707,
          0.002682227000037971,
          0.00009670058066210769,
          0.00014313502282221457,
          0,
          0,
          0.0037392948274983634,
          0.0035931464616443,
          0.0020678623499959118,
          0.0024314293299701555
         ]
        }
       ],
       "layout": {
        "showlegend": true,
        "template": {
         "data": {
          "bar": [
           {
            "error_x": {
             "color": "rgb(36,36,36)"
            },
            "error_y": {
             "color": "rgb(36,36,36)"
            },
            "marker": {
             "line": {
              "color": "white",
              "width": 0.5
             },
             "pattern": {
              "fillmode": "overlay",
              "size": 10,
              "solidity": 0.2
             }
            },
            "type": "bar"
           }
          ],
          "barpolar": [
           {
            "marker": {
             "line": {
              "color": "white",
              "width": 0.5
             },
             "pattern": {
              "fillmode": "overlay",
              "size": 10,
              "solidity": 0.2
             }
            },
            "type": "barpolar"
           }
          ],
          "carpet": [
           {
            "aaxis": {
             "endlinecolor": "rgb(36,36,36)",
             "gridcolor": "white",
             "linecolor": "white",
             "minorgridcolor": "white",
             "startlinecolor": "rgb(36,36,36)"
            },
            "baxis": {
             "endlinecolor": "rgb(36,36,36)",
             "gridcolor": "white",
             "linecolor": "white",
             "minorgridcolor": "white",
             "startlinecolor": "rgb(36,36,36)"
            },
            "type": "carpet"
           }
          ],
          "choropleth": [
           {
            "colorbar": {
             "outlinewidth": 1,
             "tickcolor": "rgb(36,36,36)",
             "ticks": "outside"
            },
            "type": "choropleth"
           }
          ],
          "contour": [
           {
            "colorbar": {
             "outlinewidth": 1,
             "tickcolor": "rgb(36,36,36)",
             "ticks": "outside"
            },
            "colorscale": [
             [
              0,
              "#440154"
             ],
             [
              0.1111111111111111,
              "#482878"
             ],
             [
              0.2222222222222222,
              "#3e4989"
             ],
             [
              0.3333333333333333,
              "#31688e"
             ],
             [
              0.4444444444444444,
              "#26828e"
             ],
             [
              0.5555555555555556,
              "#1f9e89"
             ],
             [
              0.6666666666666666,
              "#35b779"
             ],
             [
              0.7777777777777778,
              "#6ece58"
             ],
             [
              0.8888888888888888,
              "#b5de2b"
             ],
             [
              1,
              "#fde725"
             ]
            ],
            "type": "contour"
           }
          ],
          "contourcarpet": [
           {
            "colorbar": {
             "outlinewidth": 1,
             "tickcolor": "rgb(36,36,36)",
             "ticks": "outside"
            },
            "type": "contourcarpet"
           }
          ],
          "heatmap": [
           {
            "colorbar": {
             "outlinewidth": 1,
             "tickcolor": "rgb(36,36,36)",
             "ticks": "outside"
            },
            "colorscale": [
             [
              0,
              "#440154"
             ],
             [
              0.1111111111111111,
              "#482878"
             ],
             [
              0.2222222222222222,
              "#3e4989"
             ],
             [
              0.3333333333333333,
              "#31688e"
             ],
             [
              0.4444444444444444,
              "#26828e"
             ],
             [
              0.5555555555555556,
              "#1f9e89"
             ],
             [
              0.6666666666666666,
              "#35b779"
             ],
             [
              0.7777777777777778,
              "#6ece58"
             ],
             [
              0.8888888888888888,
              "#b5de2b"
             ],
             [
              1,
              "#fde725"
             ]
            ],
            "type": "heatmap"
           }
          ],
          "heatmapgl": [
           {
            "colorbar": {
             "outlinewidth": 1,
             "tickcolor": "rgb(36,36,36)",
             "ticks": "outside"
            },
            "colorscale": [
             [
              0,
              "#440154"
             ],
             [
              0.1111111111111111,
              "#482878"
             ],
             [
              0.2222222222222222,
              "#3e4989"
             ],
             [
              0.3333333333333333,
              "#31688e"
             ],
             [
              0.4444444444444444,
              "#26828e"
             ],
             [
              0.5555555555555556,
              "#1f9e89"
             ],
             [
              0.6666666666666666,
              "#35b779"
             ],
             [
              0.7777777777777778,
              "#6ece58"
             ],
             [
              0.8888888888888888,
              "#b5de2b"
             ],
             [
              1,
              "#fde725"
             ]
            ],
            "type": "heatmapgl"
           }
          ],
          "histogram": [
           {
            "marker": {
             "line": {
              "color": "white",
              "width": 0.6
             }
            },
            "type": "histogram"
           }
          ],
          "histogram2d": [
           {
            "colorbar": {
             "outlinewidth": 1,
             "tickcolor": "rgb(36,36,36)",
             "ticks": "outside"
            },
            "colorscale": [
             [
              0,
              "#440154"
             ],
             [
              0.1111111111111111,
              "#482878"
             ],
             [
              0.2222222222222222,
              "#3e4989"
             ],
             [
              0.3333333333333333,
              "#31688e"
             ],
             [
              0.4444444444444444,
              "#26828e"
             ],
             [
              0.5555555555555556,
              "#1f9e89"
             ],
             [
              0.6666666666666666,
              "#35b779"
             ],
             [
              0.7777777777777778,
              "#6ece58"
             ],
             [
              0.8888888888888888,
              "#b5de2b"
             ],
             [
              1,
              "#fde725"
             ]
            ],
            "type": "histogram2d"
           }
          ],
          "histogram2dcontour": [
           {
            "colorbar": {
             "outlinewidth": 1,
             "tickcolor": "rgb(36,36,36)",
             "ticks": "outside"
            },
            "colorscale": [
             [
              0,
              "#440154"
             ],
             [
              0.1111111111111111,
              "#482878"
             ],
             [
              0.2222222222222222,
              "#3e4989"
             ],
             [
              0.3333333333333333,
              "#31688e"
             ],
             [
              0.4444444444444444,
              "#26828e"
             ],
             [
              0.5555555555555556,
              "#1f9e89"
             ],
             [
              0.6666666666666666,
              "#35b779"
             ],
             [
              0.7777777777777778,
              "#6ece58"
             ],
             [
              0.8888888888888888,
              "#b5de2b"
             ],
             [
              1,
              "#fde725"
             ]
            ],
            "type": "histogram2dcontour"
           }
          ],
          "mesh3d": [
           {
            "colorbar": {
             "outlinewidth": 1,
             "tickcolor": "rgb(36,36,36)",
             "ticks": "outside"
            },
            "type": "mesh3d"
           }
          ],
          "parcoords": [
           {
            "line": {
             "colorbar": {
              "outlinewidth": 1,
              "tickcolor": "rgb(36,36,36)",
              "ticks": "outside"
             }
            },
            "type": "parcoords"
           }
          ],
          "pie": [
           {
            "automargin": true,
            "type": "pie"
           }
          ],
          "scatter": [
           {
            "fillpattern": {
             "fillmode": "overlay",
             "size": 10,
             "solidity": 0.2
            },
            "type": "scatter"
           }
          ],
          "scatter3d": [
           {
            "line": {
             "colorbar": {
              "outlinewidth": 1,
              "tickcolor": "rgb(36,36,36)",
              "ticks": "outside"
             }
            },
            "marker": {
             "colorbar": {
              "outlinewidth": 1,
              "tickcolor": "rgb(36,36,36)",
              "ticks": "outside"
             }
            },
            "type": "scatter3d"
           }
          ],
          "scattercarpet": [
           {
            "marker": {
             "colorbar": {
              "outlinewidth": 1,
              "tickcolor": "rgb(36,36,36)",
              "ticks": "outside"
             }
            },
            "type": "scattercarpet"
           }
          ],
          "scattergeo": [
           {
            "marker": {
             "colorbar": {
              "outlinewidth": 1,
              "tickcolor": "rgb(36,36,36)",
              "ticks": "outside"
             }
            },
            "type": "scattergeo"
           }
          ],
          "scattergl": [
           {
            "marker": {
             "colorbar": {
              "outlinewidth": 1,
              "tickcolor": "rgb(36,36,36)",
              "ticks": "outside"
             }
            },
            "type": "scattergl"
           }
          ],
          "scattermapbox": [
           {
            "marker": {
             "colorbar": {
              "outlinewidth": 1,
              "tickcolor": "rgb(36,36,36)",
              "ticks": "outside"
             }
            },
            "type": "scattermapbox"
           }
          ],
          "scatterpolar": [
           {
            "marker": {
             "colorbar": {
              "outlinewidth": 1,
              "tickcolor": "rgb(36,36,36)",
              "ticks": "outside"
             }
            },
            "type": "scatterpolar"
           }
          ],
          "scatterpolargl": [
           {
            "marker": {
             "colorbar": {
              "outlinewidth": 1,
              "tickcolor": "rgb(36,36,36)",
              "ticks": "outside"
             }
            },
            "type": "scatterpolargl"
           }
          ],
          "scatterternary": [
           {
            "marker": {
             "colorbar": {
              "outlinewidth": 1,
              "tickcolor": "rgb(36,36,36)",
              "ticks": "outside"
             }
            },
            "type": "scatterternary"
           }
          ],
          "surface": [
           {
            "colorbar": {
             "outlinewidth": 1,
             "tickcolor": "rgb(36,36,36)",
             "ticks": "outside"
            },
            "colorscale": [
             [
              0,
              "#440154"
             ],
             [
              0.1111111111111111,
              "#482878"
             ],
             [
              0.2222222222222222,
              "#3e4989"
             ],
             [
              0.3333333333333333,
              "#31688e"
             ],
             [
              0.4444444444444444,
              "#26828e"
             ],
             [
              0.5555555555555556,
              "#1f9e89"
             ],
             [
              0.6666666666666666,
              "#35b779"
             ],
             [
              0.7777777777777778,
              "#6ece58"
             ],
             [
              0.8888888888888888,
              "#b5de2b"
             ],
             [
              1,
              "#fde725"
             ]
            ],
            "type": "surface"
           }
          ],
          "table": [
           {
            "cells": {
             "fill": {
              "color": "rgb(237,237,237)"
             },
             "line": {
              "color": "white"
             }
            },
            "header": {
             "fill": {
              "color": "rgb(217,217,217)"
             },
             "line": {
              "color": "white"
             }
            },
            "type": "table"
           }
          ]
         },
         "layout": {
          "annotationdefaults": {
           "arrowhead": 0,
           "arrowwidth": 1
          },
          "autotypenumbers": "strict",
          "coloraxis": {
           "colorbar": {
            "outlinewidth": 1,
            "tickcolor": "rgb(36,36,36)",
            "ticks": "outside"
           }
          },
          "colorscale": {
           "diverging": [
            [
             0,
             "rgb(103,0,31)"
            ],
            [
             0.1,
             "rgb(178,24,43)"
            ],
            [
             0.2,
             "rgb(214,96,77)"
            ],
            [
             0.3,
             "rgb(244,165,130)"
            ],
            [
             0.4,
             "rgb(253,219,199)"
            ],
            [
             0.5,
             "rgb(247,247,247)"
            ],
            [
             0.6,
             "rgb(209,229,240)"
            ],
            [
             0.7,
             "rgb(146,197,222)"
            ],
            [
             0.8,
             "rgb(67,147,195)"
            ],
            [
             0.9,
             "rgb(33,102,172)"
            ],
            [
             1,
             "rgb(5,48,97)"
            ]
           ],
           "sequential": [
            [
             0,
             "#440154"
            ],
            [
             0.1111111111111111,
             "#482878"
            ],
            [
             0.2222222222222222,
             "#3e4989"
            ],
            [
             0.3333333333333333,
             "#31688e"
            ],
            [
             0.4444444444444444,
             "#26828e"
            ],
            [
             0.5555555555555556,
             "#1f9e89"
            ],
            [
             0.6666666666666666,
             "#35b779"
            ],
            [
             0.7777777777777778,
             "#6ece58"
            ],
            [
             0.8888888888888888,
             "#b5de2b"
            ],
            [
             1,
             "#fde725"
            ]
           ],
           "sequentialminus": [
            [
             0,
             "#440154"
            ],
            [
             0.1111111111111111,
             "#482878"
            ],
            [
             0.2222222222222222,
             "#3e4989"
            ],
            [
             0.3333333333333333,
             "#31688e"
            ],
            [
             0.4444444444444444,
             "#26828e"
            ],
            [
             0.5555555555555556,
             "#1f9e89"
            ],
            [
             0.6666666666666666,
             "#35b779"
            ],
            [
             0.7777777777777778,
             "#6ece58"
            ],
            [
             0.8888888888888888,
             "#b5de2b"
            ],
            [
             1,
             "#fde725"
            ]
           ]
          },
          "colorway": [
           "#1F77B4",
           "#FF7F0E",
           "#2CA02C",
           "#D62728",
           "#9467BD",
           "#8C564B",
           "#E377C2",
           "#7F7F7F",
           "#BCBD22",
           "#17BECF"
          ],
          "font": {
           "color": "rgb(36,36,36)"
          },
          "geo": {
           "bgcolor": "white",
           "lakecolor": "white",
           "landcolor": "white",
           "showlakes": true,
           "showland": true,
           "subunitcolor": "white"
          },
          "hoverlabel": {
           "align": "left"
          },
          "hovermode": "closest",
          "mapbox": {
           "style": "light"
          },
          "paper_bgcolor": "white",
          "plot_bgcolor": "white",
          "polar": {
           "angularaxis": {
            "gridcolor": "rgb(232,232,232)",
            "linecolor": "rgb(36,36,36)",
            "showgrid": false,
            "showline": true,
            "ticks": "outside"
           },
           "bgcolor": "white",
           "radialaxis": {
            "gridcolor": "rgb(232,232,232)",
            "linecolor": "rgb(36,36,36)",
            "showgrid": false,
            "showline": true,
            "ticks": "outside"
           }
          },
          "scene": {
           "xaxis": {
            "backgroundcolor": "white",
            "gridcolor": "rgb(232,232,232)",
            "gridwidth": 2,
            "linecolor": "rgb(36,36,36)",
            "showbackground": true,
            "showgrid": false,
            "showline": true,
            "ticks": "outside",
            "zeroline": false,
            "zerolinecolor": "rgb(36,36,36)"
           },
           "yaxis": {
            "backgroundcolor": "white",
            "gridcolor": "rgb(232,232,232)",
            "gridwidth": 2,
            "linecolor": "rgb(36,36,36)",
            "showbackground": true,
            "showgrid": false,
            "showline": true,
            "ticks": "outside",
            "zeroline": false,
            "zerolinecolor": "rgb(36,36,36)"
           },
           "zaxis": {
            "backgroundcolor": "white",
            "gridcolor": "rgb(232,232,232)",
            "gridwidth": 2,
            "linecolor": "rgb(36,36,36)",
            "showbackground": true,
            "showgrid": false,
            "showline": true,
            "ticks": "outside",
            "zeroline": false,
            "zerolinecolor": "rgb(36,36,36)"
           }
          },
          "shapedefaults": {
           "fillcolor": "black",
           "line": {
            "width": 0
           },
           "opacity": 0.3
          },
          "ternary": {
           "aaxis": {
            "gridcolor": "rgb(232,232,232)",
            "linecolor": "rgb(36,36,36)",
            "showgrid": false,
            "showline": true,
            "ticks": "outside"
           },
           "baxis": {
            "gridcolor": "rgb(232,232,232)",
            "linecolor": "rgb(36,36,36)",
            "showgrid": false,
            "showline": true,
            "ticks": "outside"
           },
           "bgcolor": "white",
           "caxis": {
            "gridcolor": "rgb(232,232,232)",
            "linecolor": "rgb(36,36,36)",
            "showgrid": false,
            "showline": true,
            "ticks": "outside"
           }
          },
          "title": {
           "x": 0.05
          },
          "xaxis": {
           "automargin": true,
           "gridcolor": "rgb(232,232,232)",
           "linecolor": "rgb(36,36,36)",
           "showgrid": false,
           "showline": true,
           "ticks": "outside",
           "title": {
            "standoff": 15
           },
           "zeroline": false,
           "zerolinecolor": "rgb(36,36,36)"
          },
          "yaxis": {
           "automargin": true,
           "gridcolor": "rgb(232,232,232)",
           "linecolor": "rgb(36,36,36)",
           "showgrid": false,
           "showline": true,
           "ticks": "outside",
           "title": {
            "standoff": 15
           },
           "zeroline": false,
           "zerolinecolor": "rgb(36,36,36)"
          }
         }
        },
        "title": {
         "text": "Cost Function Contributions"
        }
       }
      }
     },
     "metadata": {},
     "output_type": "display_data"
    },
    {
     "data": {
      "text/plain": [
       "0.05584077794149053"
      ]
     },
     "execution_count": 15,
     "metadata": {},
     "output_type": "execute_result"
    }
   ],
   "source": [
    "# Plot the contributions to the cost function for the best performer\n",
    "from member import Member\n",
    "best_design = Member(num_materials=HS.num_materials, \n",
    "                     num_properties=HS.num_properties,\n",
    "                     values=HS.final_population.values[0], \n",
    "                     property_categories=HS.property_categories,\n",
    "                     property_docs=HS.property_docs, \n",
    "                     desired_props=HS.desired_props, \n",
    "                     ga_params=HS.ga_params,\n",
    "                     calc_guide=HS.calc_guide)\n",
    "best_design.get_cost(plot_cost_func_contribs=True)"
   ]
  },
  {
   "cell_type": "code",
   "execution_count": 16,
   "metadata": {},
   "outputs": [
    {
     "name": "stdout",
     "output_type": "stream",
     "text": [
      "overall bounds dict: ({'elec_cond_300k_low_doping': {'upper_bound': 78.0, 'lower_bound': 1e-07}, 'therm_cond_300k_low_doping': {'upper_bound': 2.0, 'lower_bound': 1e-07}, 'bulk_modulus': {'upper_bound': 400.0, 'lower_bound': 20.0}, 'shear_modulus': {'upper_bound': 300.0, 'lower_bound': 80.0}, 'universal_anisotropy': {'upper_bound': 2.3, 'lower_bound': 0.9}}, {'mat_1': {'elec_cond_300k_low_doping': {'upper_bound': 78.0, 'lower_bound': 1e-07}, 'therm_cond_300k_low_doping': {'upper_bound': 2.0, 'lower_bound': 1e-07}, 'bulk_modulus': {'upper_bound': 100.0, 'lower_bound': 50.0}, 'shear_modulus': {'upper_bound': 100.0, 'lower_bound': 80.0}, 'universal_anisotropy': {'upper_bound': 2.0, 'lower_bound': 1.0}}, 'mat_2': {'elec_cond_300k_low_doping': {'upper_bound': 78.0, 'lower_bound': 1e-07}, 'therm_cond_300k_low_doping': {'upper_bound': 2.0, 'lower_bound': 1e-07}, 'bulk_modulus': {'upper_bound': 400.0, 'lower_bound': 20.0}, 'shear_modulus': {'upper_bound': 200.0, 'lower_bound': 100.0}, 'universal_anisotropy': {'upper_bound': 2.3, 'lower_bound': 1.3}}, 'mat_3': {'elec_cond_300k_low_doping': {'upper_bound': 78.0, 'lower_bound': 1e-07}, 'therm_cond_300k_low_doping': {'upper_bound': 2.0, 'lower_bound': 1e-07}, 'bulk_modulus': {'upper_bound': 300.0, 'lower_bound': 20.0}, 'shear_modulus': {'upper_bound': 300.0, 'lower_bound': 100.0}, 'universal_anisotropy': {'upper_bound': 2.1, 'lower_bound': 0.9}}, 'mixture': {'elec_cond_300k_low_doping': {'desired_prop': 9.0}, 'therm_cond_300k_low_doping': {'desired_prop': 0.9}, 'bulk_modulus': {'desired_prop': 280.0}, 'shear_modulus': {'desired_prop': 230.0}, 'universal_anisotropy': {'desired_prop': 1.5}}})\n",
      "best_designs_dict: {'mat1': {'carrier-transport': {'elec_cond_300k_low_doping': [32.068711395078054, 54.9837376776453, 0.31538640947457175, 74.24571745827646, 74.24997214278936, 23.033852299809645, 13.214446797071192, 17.31432498409984, 34.493393575246586, 29.324552217301115, 53.596492232980594, 34.76043749506107, 47.99274636102193, 10.16593386696226, 35.96957446119514, 13.9061046219218, 27.950022959729893, 52.18915599537917, 25.25606983983262, 1.2287668251513681, 2.2200676752908666, 66.2632328722316, 31.656053103536124, 70.76650466077507, 67.34677642323352, 41.01979225538104, 35.18905498854067, 9.411327780812844, 45.337465484065724, 18.87231147732046, 24.825259880662333, 66.6230485371361, 64.37873469890393, 47.61426334382904, 18.525664878377842, 61.06546920093601, 62.48249370685404, 9.244565905882968, 43.37404572216394, 14.412315653215556, 6.9367970873099765, 71.80794866171962, 37.755575237700604, 45.77457054391385, 64.19823134269956, 69.00782010011342, 52.04602733100528, 6.638863704530293, 30.754167979874982, 69.9513630995666, 6.967627480906749, 53.41295480764651, 50.11109952820401, 0.005954938761528621, 15.024737740422037, 2.960140185097214, 55.7422377018415, 27.777317734133593, 47.703158897530756, 0.03182215564995941, 1.4168154417461611, 14.964308804145999, 13.103705309066811, 8.82566724843435, 20.292662059590064, 34.034210060554656, 39.38171296885041, 57.53874296187325, 5.722996829621614, 2.0928661281321874, 23.380108803781454, 76.27176676261935, 57.80605926053328, 7.324426121259801, 56.7947807254754, 10.403658911748854, 60.73061177433422, 70.17056897929456, 14.202488402570706, 49.671836278647866, 50.02761526627058, 34.36722332038963, 7.2571848933417185, 12.352513902096497, 23.212151155323006, 5.615798048054633, 36.85343905820747, 6.0696486094506685, 65.33676560450603, 66.10391260839137, 18.347410093973718, 17.82941932834241, 45.040940208934444, 37.65542073317238, 51.16654333623914, 46.231795794419845, 66.68434614821284, 15.609672501999812, 60.51897251437967, 18.089846134533676, 40.174106944367274, 54.98410270287037, 11.612668772468025, 48.49611756948182, 24.50959649275136, 57.15855719462992, 76.5310480277245, 27.27170852681986, 43.08136202666732, 38.39543585908418, 72.21408587923447, 50.01468059812211, 46.44737521660114, 69.61258653659516, 53.54209370226491, 71.89122890333422, 39.65038429329297, 72.10738698518091, 12.563616064890422, 64.87597016610202, 66.89476326601529, 8.906303436963368, 11.620873216920788, 29.548814971070048, 69.40491411767421, 68.368925344521, 75.59684477169829, 48.43217481806644, 42.75742782986293, 66.3519324073434, 63.171479658259, 11.065864318446156, 42.666008352334856, 20.908611144530166, 1.8170071496558746, 60.817196294127754, 52.43559469662019, 32.6504223538879, 26.955992893776845, 49.26008978038047, 45.023573190983164, 23.036161054759184, 36.33016639550041, 10.32305949558994, 37.70632761323354, 29.90475008855667, 2.5611155716169614, 16.853371666205504, 50.84227948613273, 16.297967208658083, 29.52273011353183, 41.85492733027439, 64.05009695593131, 24.346969709410153], 'therm_cond_300k_low_doping': [1.4545831053365026, 1.7711524579663858, 0.6519613627586147, 0.7036079919982242, 0.4532662151210361, 0.674979948220289, 1.3380323490318902, 0.7567695794829113, 1.1701983314342759, 0.8288953650480105, 0.7015109018196886, 1.1592213949261234, 1.04293149035733, 0.033481591114204526, 0.6188011162164198, 1.2742145272686645, 0.6637229560992787, 0.5008608718848769, 1.3392474189863708, 0.8033003664681305, 0.4971275205808478, 1.4175139310375897, 0.7219330900811041, 0.8467524266904877, 1.1274933249162904, 1.8140231814878338, 1.553343495264669, 1.872539874106881, 0.4835087236915914, 0.847451487487199, 1.6051886299654539, 0.5526621951467834, 0.6934273812410047, 1.8142228009902786, 1.2085199114950427, 0.7733286047633648, 1.6794455948381706, 0.7543372870054963, 1.7722552992660576, 0.056505000839080076, 1.8146327503494513, 0.5050922691026879, 1.4136721091976001, 0.05233604224665892, 1.7670224439161117, 1.9023126511672515, 1.7604781085590906, 0.8069184810468865, 0.2635076227815542, 0.8183051192121251, 1.5472757994291808, 1.158938385759735, 1.7702956152325033, 1.7446531970942496, 1.9712778628016814, 1.166655049536206, 1.0672936979383365, 1.8929887359577358, 0.1918789350518444, 0.7874885013049846, 0.2066154158222345, 0.5454246227632048, 1.9310573068315302, 0.39048292284320285, 1.802764385383989, 1.7531012883761865, 0.11157308189664705, 0.5620870531502381, 1.3917407075378585, 1.215010291164831, 0.9900243845262312, 0.9323913001985016, 1.8653648532486087, 1.9169976343909838, 0.3165167893675669, 1.4715663737150024, 1.3115542207178774, 0.33715327795421757, 1.5300949691104122, 0.9031166620560306, 0.5079503032739742, 1.0063846923493311, 0.9229626534725938, 0.7552822430932336, 1.6659015055736068, 1.2014575521931599, 0.19726183397170957, 1.2407529738307082, 0.26571439578688183, 0.5704506536214142, 1.5015283866847624, 0.30696298895858315, 1.9972172238828099, 1.2701765694775025, 1.0727650881759276, 1.7119405794713445, 1.9304436692182108, 0.6445470406847991, 1.9951956958237282, 0.8963242800513573, 0.10523146495646601, 0.39372123458789055, 0.3485530403622064, 1.2208535146789252, 1.2600308632714143, 0.928066801067014, 0.2918060678925034, 1.4238751406049852, 1.5651898569514056, 1.1304027501929794, 0.4394798883534404, 1.2535477628986664, 1.3944691653102266, 0.7097451790357264, 1.8756533839037048, 0.6007805093485316, 0.6897402756342973, 0.22212123595153788, 0.567278686604833, 1.513615815247886, 1.5101370538226162, 0.08437200479929881, 1.6142876909087454, 1.1194757503952146, 0.9840971854371166, 0.2982058440708911, 0.4883916468950695, 0.24401030175775623, 1.3327454000384205, 1.2619983114552087, 0.25113586307030944, 0.12038321879259793, 0.41546692999312906, 1.6058840216363257, 0.09986022489329861, 1.0781124826368234, 1.5315492280381986, 0.06010275672925601, 1.9235523397660144, 1.6233043876694901, 1.5937662234259713, 0.15045102203960053, 0.08132961930452103, 0.0473247594626583, 0.6130593497591461, 0.08435787126514725, 1.7401433450312203, 0.9672428398399903, 0.013330555664261962, 0.03189113192141866, 0.37657076973732195, 0.46695932798344614, 1.5595416374470152, 1.7810298627816563]}, 'elastic': {'bulk_modulus': [84.86830053363286, 92.38497180558349, 52.95204624550763, 96.78421602403574, 94.69943658688658, 38.63707773665311, 84.22401928609632, 81.58798827205403, 75.87380713939999, 26.597533105791747, 84.3144571110951, 51.546079971030345, 73.47596947895627, 53.5012483343079, 67.58102185610883, 87.60066424504176, 91.08301300251796, 59.4614151758757, 39.35987383805633, 78.67181068467781, 97.94614653232236, 67.33580916630925, 84.68009459870387, 90.07372941104934, 63.536484149977035, 71.45674752785207, 37.23786884792049, 93.79051597554877, 78.26411266817817, 59.776454551504024, 77.79056355173032, 75.37323281308389, 74.93855591941974, 82.35035284945644, 98.9760272453619, 54.92149210784291, 97.65448218624195, 64.52190609660086, 89.89989306203518, 28.555612842886397, 81.8744683417256, 85.01532949386683, 53.361767464774, 53.45762404824197, 87.97648919284467, 70.94075319531746, 77.04491794680405, 35.29904474704104, 62.35843056626346, 86.93903192665073, 26.418568594460705, 65.1076926727828, 90.48330234596357, 56.105375336771665, 81.31992161168962, 31.382280879862673, 41.81370160219977, 57.12667634064049, 50.30655857870145, 45.19621233619972, 51.368648612099335, 63.2818021021026, 69.61790915002545, 58.096238652065566, 64.1325120758055, 66.73005425696397, 55.96935762946061, 58.83324613463057, 65.92894240193482, 84.05720906491194, 83.10409368693163, 87.01013110893359, 72.45306624540831, 66.97815716928247, 67.10734413045138, 31.35599843072502, 92.87987019525704, 71.76902327844898, 23.563899178188432, 44.83041525004937, 37.67757022037661, 75.55172709277352, 66.48927968038099, 30.863857182994998, 72.46304160110043, 60.50396421210572, 89.91512885797377, 51.296119359451964, 54.87626038367813, 69.44781332740469, 30.756347878985174, 54.69080077905186, 66.76157831265098, 51.25419897448876, 64.27579734510428, 96.64326877227057, 75.97188875544093, 68.22002079244896, 57.087947170860666, 53.479049411045864, 50.2924138295147, 56.31680026431836, 57.71998127584737, 71.47026520715218, 46.81354637483798, 23.393427917489966, 57.17070667077931, 74.2841321054228, 21.66740538318004, 61.84773489385982, 87.19067998507734, 57.09745894622212, 51.53496868664426, 36.152454417490546, 55.076425783221765, 27.07140137900327, 60.16102592169217, 82.70599219049689, 44.26835729313328, 67.14701255360076, 67.33147182645128, 64.51217747830135, 30.694365676249515, 26.888792378451253, 62.69734112007647, 49.24628427333981, 30.966450013238273, 61.62405799875115, 47.01694219487074, 62.620468098572175, 72.42818207658009, 68.55253367931435, 74.14563945399372, 45.83756781519279, 69.47663398428102, 32.81106742299736, 50.59251593245716, 68.85191829724047, 60.37699505093849, 30.09955313736242, 27.38964981560194, 53.090339543680614, 99.77396570737709, 93.7763993031739, 39.12467153086114, 53.78997340140923, 97.38134550277782, 79.10647736261146, 73.68978550617577, 67.03143254046495, 48.179458836852774, 66.33115559455477, 58.504264899386, 65.8767069082223], 'shear_modulus': [82.60412618618449, 84.31267880630674, 99.42105606730438, 81.48862518402088, 86.24620679627466, 137.09504228197545, 86.24128110365587, 92.8233972490604, 90.09495019376659, 133.29958827142443, 95.92708375517425, 98.85389186790835, 93.91851856854322, 86.42410022011079, 165.01133616542046, 82.90128564520323, 97.09967800593945, 98.52845884166888, 257.7317778247076, 96.01929200282811, 95.37098976528299, 96.11769212728782, 86.73292092239254, 91.67287909822116, 99.68743177229018, 82.09977051584434, 100.61015054234379, 98.3385445572099, 198.63850115057363, 161.62625048068276, 80.76471281421777, 113.59353259444667, 83.53554182207291, 86.45237316019782, 86.67485748236548, 85.6257249423648, 95.73914771582042, 94.43733918667468, 89.19154944149152, 157.69150943057096, 91.66520954750115, 89.05020372382006, 108.00182409353218, 88.1818015900327, 84.16536996272782, 88.39568927009688, 178.04781602993415, 112.07526943597199, 82.80109630990178, 83.39514893725924, 223.64688885876086, 89.68729760892185, 84.94575098893932, 87.6532796087746, 99.43221031995407, 204.854619974691, 160.72420552386183, 87.96776573276328, 245.5846870281769, 110.60652639922124, 153.7881234571341, 81.28086995660857, 82.90891403839608, 185.42949889742584, 254.05855666694964, 100.43648661356775, 101.17227884012311, 84.45592502305935, 91.3296658154225, 92.69111912673839, 93.88790941404731, 87.1057134058061, 82.83985623344276, 136.04851005137488, 94.30633254487998, 126.11297360005062, 181.92415692331474, 91.15695871908731, 131.49400920386165, 183.65690708572794, 108.76902529791884, 162.16110198780984, 98.42602011015943, 205.47233738606718, 88.8024785243305, 175.8764542244695, 98.28491366797391, 92.6613278450533, 87.94709273855443, 95.11058937376522, 160.61271425051166, 144.65290585846094, 91.27342990992675, 187.4757098512093, 93.80284862466377, 84.33195259679414, 92.65969078325386, 89.71631547284831, 94.86922297608353, 99.96337280113028, 168.49003468098698, 86.49060253182317, 92.11341295412736, 84.72661693535922, 209.6307284704094, 188.53262322580036, 83.49379627866142, 99.83702789557253, 135.0291513109187, 94.00341948515613, 96.41304538294443, 86.86677112058362, 92.74692638714151, 157.78081501791218, 80.87051067458181, 140.19151157783034, 84.10159995148427, 97.68964193239617, 114.86027645622957, 87.0296795002592, 87.03122951079683, 255.73012498017823, 289.84910823125784, 241.5378469930372, 97.71012329067834, 125.33548586025032, 150.39781392609694, 243.56362292783996, 108.28004977849032, 98.45023847842735, 98.20633487936979, 89.34130036258858, 90.24572921622918, 179.91577358535739, 80.26908632871576, 106.63722399226103, 80.8665911601929, 110.35075640650706, 80.09543747120418, 149.9743018351649, 156.65711174166432, 100.71085405943762, 92.11245494625182, 151.54329607689144, 176.30820024228527, 82.61865124871215, 93.09457831087504, 94.85303439539875, 94.5542325352063, 85.51251982113604, 134.32296984382242, 88.66952119591808, 96.7526852710286, 88.65696684489103], 'universal_anisotropy': [1.4350972028271478, 1.537229616445519, 1.7320308707227028, 1.2930116225134545, 1.3975650823208399, 2.087273330606449, 1.8058905367578564, 1.236704235821629, 1.6787026112055856, 1.079375367760804, 1.110032980597486, 1.7099103010247108, 1.37785775486487, 1.9561055406936754, 0.9762171638502344, 1.36612690686691, 1.3636363372304763, 1.1048970490244352, 1.5743908558104662, 1.348466547706204, 1.410382213123699, 1.3894587505090366, 1.532993075970923, 1.4518886519217085, 1.3859918467938028, 1.885657717024674, 2.1275217161993085, 1.3016680686309248, 1.8487047683013458, 1.0649939076833657, 1.5950337424985357, 1.6811396524747106, 1.939087427893179, 1.3605442510252193, 1.103097453734009, 1.9538060983805094, 1.9523417479963956, 1.7027707547624922, 1.085562610599779, 2.119769644228166, 1.8495339587270614, 1.5570777848251738, 1.9988807487687579, 1.9299586971626284, 1.207445525184516, 1.9893333778757543, 2.021795336868408, 1.476702525878204, 1.4284684666674519, 1.3099444608456394, 1.0416343616515558, 1.9970142360164913, 1.251292753219844, 1.0234938931663882, 1.6112849143953918, 1.0959472882671615, 1.976501189886045, 1.3771170223862828, 1.274826909218834, 1.4122341169029586, 1.251774690196686, 1.1870626048253494, 1.3287180353686798, 1.844175946144417, 1.3428317226539592, 1.393154689110031, 1.4657292957336736, 1.2106995640725848, 1.1799812322876617, 1.4868220050540688, 1.5015158616450903, 1.2400563078317715, 1.366512848050967, 1.787867226098308, 1.1797343655648547, 1.1447369701035648, 1.7672027493345372, 1.8083657288088713, 1.3327051875808749, 2.059954118649529, 1.7298695576026741, 1.777730904197988, 1.331107178666036, 1.757037394003482, 1.81026165769731, 1.5455371688847757, 1.0327154312009559, 1.821421321839643, 1.433927624142885, 1.661569043839499, 1.8176301916903763, 2.162084069354319, 1.9963422612636241, 1.6932313631780112, 1.8713532156288726, 1.3332106083015498, 1.9092239749423836, 1.2327575849383314, 1.5795871869624174, 1.1988518829746349, 1.769505752975813, 1.0732791820354537, 1.2442244127226407, 1.5160589108230558, 1.0652206539220093, 1.4721373913332996, 1.6153596210791514, 1.822905258186946, 1.5662401104009749, 1.7066097712947443, 1.041816454599341, 1.584166370326676, 1.160491808443711, 1.9338532562418664, 1.9730414866147943, 2.0739486158107914, 1.9498839546333884, 1.5078830961845484, 1.8391854972088426, 1.3658824501965077, 1.3764955822532352, 1.9406883403188928, 0.996533505821938, 2.0242769127808886, 1.5944767737574121, 1.108830901238989, 2.0327905350608524, 1.8002011245555765, 1.9302562921472348, 1.1067287460946984, 1.0155143635954418, 1.9459334807754147, 1.373633445720471, 2.240566717987514, 1.0391567484075872, 1.5565048744545842, 1.7835960396477104, 1.7176213235966349, 1.9675626229650622, 2.0826823642993775, 1.8553234103609104, 1.688743384478554, 1.8624350975301796, 1.488803591418092, 1.3173279046731683, 1.167420797877019, 1.174666429348385, 1.5559076208962777, 1.5273242639613542, 1.1654276132601034, 2.1256333423889764, 1.8748507390121203, 1.8115031798638923, 1.3834555357260958]}}, 'mat2': {'carrier-transport': {'elec_cond_300k_low_doping': [10.03250845979932, 7.920550220761263, 31.328780932777377, 8.480763964762808, 9.358212131645256, 76.73070537511896, 52.7985387737741, 44.6655716365879, 53.567322189600056, 9.601211958387282, 23.48887075281825, 25.83968943348345, 17.982751795800507, 70.41862315717235, 51.19749419235912, 26.143600256752244, 12.142657292595912, 51.62415446693636, 55.59620874118446, 20.118695115331985, 74.30840190755308, 9.828885160913654, 40.52799413921524, 5.983150912138127, 24.20775614571524, 46.6098343799166, 45.335231008675905, 72.31489791712201, 0.13583491516309432, 69.94309872223428, 47.083971102341685, 18.676721444734724, 42.172944548518345, 5.86715683454742, 61.60417873637703, 27.586329758882368, 65.19646461074338, 27.769460551911372, 61.69118820938006, 65.53047201204191, 44.52972136163717, 0.12927898877144306, 59.22506382854762, 38.42563014377908, 18.847295251192513, 61.9998368412349, 12.359826742338578, 54.04195584207769, 7.774011904988868, 50.19430048843191, 29.490534530846055, 33.48936163103589, 47.762204148883264, 35.37014672740227, 65.24923867329453, 69.30609681052773, 25.54218300475607, 3.231125110290707, 44.57619891744561, 4.867856477993671, 28.365459426143683, 41.708925336375366, 20.65699268076069, 54.9871088666083, 23.621519331062707, 20.564595862777647, 14.718273649004079, 27.003550637464595, 66.03172123978287, 61.045587248519944, 44.67228649044503, 64.7875682756013, 59.82665752436574, 11.737686475699338, 3.299848747241557, 1.4229265637595918, 3.002341654357797, 34.50016884047822, 10.332845545910645, 67.95721869317774, 17.669273437449103, 26.994998635446454, 34.39425546299657, 26.21369689582944, 22.62606190036913, 14.112835064795915, 60.745981491774664, 47.0766395975667, 34.3052898384307, 4.749156302561632, 74.83019701959446, 15.727958623171615, 27.251744544545925, 23.79558164749407, 15.252450855685339, 75.94349549304027, 55.34527880438482, 15.176029467553812, 6.829885890243709, 24.943155476128403, 33.51585778307718, 77.27768042569637, 59.323288210826725, 39.675941801964846, 68.53207636721214, 71.01790797280768, 11.525879654834197, 0.796727106704465, 51.026092491685, 42.47948731968791, 64.44001724289527, 60.71861264718829, 36.684438342224574, 31.191036929267707, 60.26310060562383, 32.66213588770532, 16.72988740159805, 75.1699136100939, 41.34957960394542, 39.82561706086824, 50.67306211722109, 39.33826829175738, 44.82909064144279, 51.941491998290005, 59.85068812569711, 67.64673035333976, 58.06496512267615, 27.726131274301903, 21.408781868893733, 47.451788626921555, 57.914225492500556, 37.353043669919195, 55.77415322870211, 59.989693803988004, 53.97579780222771, 77.24448800087404, 10.618292311134484, 7.831397544514073, 8.587675210166166, 62.1109895334021, 70.4832942689251, 25.36745249490446, 11.40510382033212, 11.0201890123307, 31.44532995944788, 27.76755904431205, 47.28329902177882, 77.80442302520306, 27.413742998479417, 30.492042030597784, 11.106624173410765, 7.213964975426812, 27.673893224918203, 25.5148256557559], 'therm_cond_300k_low_doping': [1.0363298975936313, 1.016592776979386, 1.7165943466178555, 1.692526034967418, 0.5156153463526953, 0.3928228041235513, 0.03890066329814616, 0.652601514516249, 1.3095787640305834, 0.3369628281196033, 1.418424606647864, 1.6562256523230692, 0.3939969041317238, 0.9588401475709677, 0.08922073275457006, 1.6483911153643844, 0.4129637086422873, 1.6109979802973267, 0.6524624050028857, 0.3066777955082346, 0.5527806379177695, 1.608592383857826, 1.6013542320487064, 0.23485004923685235, 0.7640498517253735, 1.9470338496711734, 1.014837362243211, 0.635535832404478, 0.7563058517955972, 0.9982420598693977, 0.24074814259441474, 1.0418093887313602, 1.8021362370765752, 0.975389392151794, 1.657955023568186, 0.4997850906871873, 1.0957688930713325, 1.2900843937491713, 1.6983483723996662, 0.6981477102163459, 0.08355864236962658, 0.18196618760805705, 1.4565140583412433, 1.8939950387587603, 1.0794080207370391, 0.14685058570593135, 0.13991034530859275, 1.0015122994269767, 0.9260780097247846, 0.4925069329662743, 0.6313644291848491, 1.4511499496502143, 0.2572544992747796, 0.7700929091626024, 1.3220167016561473, 1.7964399095654822, 0.8225792310483869, 0.7413053037731576, 0.5625564402862193, 1.929593440250763, 0.2626844061549677, 0.16048775839467777, 1.9503524879679186, 1.9343513422906498, 0.7237548263337307, 1.077416962001044, 0.06614644044940528, 1.4911513174777982, 1.8226691357894744, 1.261940124802093, 1.116594781490319, 1.8289996687687147, 1.7202348680570598, 0.361050034271917, 1.2375855134609552, 1.7384009325979741, 0.7484600042262636, 0.6074782172724927, 1.6880969054477308, 0.6267527046239235, 1.148075157502946, 0.42005808911900017, 0.756410123811815, 0.8141371168771028, 1.606600503091766, 1.3745740457592925, 0.6481236475821518, 0.3829896305821905, 0.025803351161317562, 0.9019507838590244, 0.7907068343175487, 0.892088853841054, 1.5386559550858765, 1.372024389070771, 1.6284570725813854, 0.20255259740659734, 0.3258298464781894, 0.6307482917306192, 1.1805933781491729, 0.6347424060417629, 0.4344990923436702, 1.6463673320952648, 1.1968493619991387, 1.462935211835459, 0.8472268167463312, 1.873796218454285, 0.018551106355815528, 1.942809014220884, 0.3171113786759923, 1.256947612820885, 0.8267108624641428, 1.8019488329891862, 0.03705152630141192, 1.3988109267997266, 1.4494959117839663, 0.21148962276131422, 0.12060624885055748, 0.06552117826858246, 0.14793035133882457, 0.988370480766292, 0.4905039063389843, 0.1079430102868193, 0.5573309168927512, 1.8451258925087148, 0.23858739735749632, 0.6341700881092538, 1.0389321244335648, 1.824981482074503, 0.602318621021353, 1.4375246618989506, 0.8814373702198101, 1.0888880843955737, 0.022997569833280416, 1.5767451300923805, 0.15536980409038856, 0.5950029399617197, 1.171738545807543, 1.1944858550263884, 0.19640036057015398, 0.9602931508409692, 0.6820526906998272, 0.18573930128328792, 0.35056817042302885, 1.6154614925984965, 0.5049227226207036, 0.02080934597587067, 0.40085137240045926, 0.16536584369511925, 0.8514843521741242, 1.3516113675624948, 0.640816736799837, 0.06154573442674077, 1.4728668848910902, 1.0141689920046173]}, 'elastic': {'bulk_modulus': [214.22485052244485, 99.23653014534538, 142.48921093280137, 294.6450333617911, 273.7368012242697, 88.68947629054011, 139.44537848776247, 110.42149024587792, 252.2758486167439, 82.51757733695024, 117.49138194631873, 142.1511412791291, 124.75647303718311, 171.05609795679246, 93.41147169325198, 175.69763171449216, 181.50872706251178, 163.54299742360558, 90.13761952373162, 123.34782997876107, 172.18465242398645, 73.38244787177061, 134.7046562101287, 185.24212964451922, 115.58042588100953, 138.894669203226, 60.18871915336581, 215.46765937514706, 91.06206375713225, 77.65980364538984, 95.16172949661987, 83.61079720776746, 217.81025325883758, 202.96755247714833, 160.11561217990098, 218.35045135875072, 127.75553901735269, 197.15324984695286, 98.91727849648582, 86.6394075613513, 191.65637902970482, 132.11598662733644, 80.2731793949349, 99.01173727295965, 98.04214598333805, 105.9989315348988, 89.97132847151953, 91.48016975175241, 206.8179358435853, 153.44065316993843, 91.33985035642473, 139.07713985031506, 173.83126903297497, 99.73067900634774, 112.45458830082804, 64.75153830935967, 72.61349736302697, 135.29380925141407, 83.59542551383699, 96.58140868233252, 68.0311742909366, 268.64594240090037, 231.3347362366594, 59.04738434296926, 79.62817864730673, 76.32847620442479, 98.8850526704955, 150.1413280767462, 112.41500605458735, 183.56442377008102, 97.61277543737319, 264.5776804984688, 213.27556571525085, 81.01848492785257, 205.83736782567826, 60.83901208483064, 94.97156845869551, 151.09541811707865, 75.72740862945167, 93.42357408660314, 73.72851201964885, 86.60302970990432, 79.40572518472457, 61.25093231796259, 103.56874551948282, 84.42339203643331, 110.34065510810439, 131.39685518508043, 127.73288976547106, 100.24326624957749, 52.30884144368721, 57.79975939769111, 116.91674468090865, 78.07446263878282, 74.50067237069905, 135.89716232729683, 104.15904890125776, 87.51622162308053, 149.04731279675593, 195.580995144727, 72.73679090053302, 91.4956240096511, 69.08792264266742, 109.59043222420371, 62.47659245456544, 76.37543187455911, 84.16179498669052, 101.46694036634997, 71.92475739534385, 93.45770531798627, 118.26135510837027, 92.29280356332092, 53.3233926055045, 64.33958070194173, 55.62405171188757, 95.83492308922688, 102.23628955710349, 211.86465514716977, 68.0689823684548, 88.16863691032889, 232.44901188619426, 66.03948774284933, 53.41884635996402, 94.3597801807554, 124.09411447223748, 95.31895799088615, 36.22671775680544, 65.42695595509119, 56.316400080263264, 273.05080822140746, 74.96281001628651, 122.09335796851502, 92.21312443128795, 62.08487424234748, 167.09021008192303, 70.7073223585153, 284.8007086182323, 82.6484710243555, 144.43491385594595, 38.862639840821956, 50.758873677940194, 54.59498731578487, 131.0526332016663, 94.27070294750385, 61.39218535875065, 266.07535488883946, 97.74934994235139, 85.31733004739027, 265.36745676697467, 192.28758174110513, 71.20585398667053, 253.32047439502009, 82.0904496915083, 233.2795363329721], 'shear_modulus': [191.52741947914024, 170.8769341871853, 195.67975142694254, 149.6455020588755, 148.90120949488312, 196.68229977286387, 176.32960007990062, 127.83132241329469, 164.0904509837202, 157.93417170669701, 197.80589738622217, 153.95261314353647, 125.91413669284228, 174.07728099779462, 199.16052887610994, 118.47852250686864, 130.72522831608057, 196.30499395581464, 257.7317778247076, 186.40177951466399, 166.53482982765343, 134.04483487269675, 108.36039682181774, 141.33687413662017, 170.59132286971683, 158.86484432224907, 170.56523778575468, 157.96697868814402, 199.56331998347997, 169.92385829173267, 118.85177704178109, 159.34000952719305, 188.35201729997215, 124.21328089060133, 193.7002582878916, 127.64031362290439, 170.63460715993648, 162.64732150839654, 194.03529774743407, 197.5087535922372, 148.8090142080894, 179.78668051493634, 157.4860090240092, 157.27323865413007, 152.74620804417464, 132.73937518714223, 196.61055154540998, 171.05786411762534, 139.71099758568522, 161.22037665808352, 223.64688885876086, 172.0555096232996, 108.9590839492945, 129.92577275188518, 123.48592759585665, 204.854619974691, 195.55664800357505, 176.96079539010344, 245.5846870281769, 131.24398279529183, 184.20655182129065, 198.29018170497488, 161.86296440168945, 192.8551451386242, 254.05855666694964, 164.21065423542004, 107.03966482867388, 149.93736547269867, 134.34985514094464, 171.4160982282282, 157.48290104856937, 137.64967333042287, 107.69489989159993, 189.12508075021373, 180.01037667560834, 151.405735709957, 199.22152893346305, 155.29155972145122, 151.58271725456143, 194.51481897798803, 122.83500501593025, 199.79092201225347, 171.36365447196988, 205.47233738606718, 109.62409501364864, 181.6557370979754, 180.34564778494905, 101.68557811773462, 118.50348969782327, 143.18712934565448, 199.0102796076567, 199.12076976595813, 142.27289466047165, 195.22086432539876, 105.96302140937274, 149.8039104736246, 155.0990820174839, 182.85943821160822, 189.30934140698298, 146.77201246667005, 190.42248228232282, 126.33219036287329, 140.3187831877887, 129.06460344443033, 209.6307284704094, 191.24935581317018, 179.07818962940695, 125.78751353026783, 192.7362264210508, 179.99474060030428, 138.69562555783142, 150.26619197939092, 128.94094229492623, 187.19717755757708, 113.13999418700166, 147.86529474355478, 167.38190515869854, 189.01011341255702, 172.65311197034453, 127.57857693549109, 103.95961027533109, 255.73012498017823, 289.84910823125784, 241.5378469930372, 162.90579633889465, 145.20205027333733, 173.20757575649736, 243.56362292783996, 156.6451341686589, 185.09032462770728, 179.5775087008907, 144.2517273397871, 136.2235119625492, 193.57002799480335, 193.51320029339195, 123.60203377754483, 142.7636544282282, 154.4872690187562, 129.1349775414019, 195.327597801712, 173.9122590536153, 173.9085647689521, 113.02726464109672, 166.6284635717485, 189.0682205894409, 105.2532900175942, 185.9340406281851, 117.90692441198634, 195.23187491778307, 181.7200587289748, 168.76069098854236, 148.92339261773463, 123.23665293477147, 118.65843116480502], 'universal_anisotropy': [1.7955934183351272, 2.1562774105047384, 1.63290658934968, 1.0405373883447595, 1.7577807183271217, 1.3516477398739664, 2.260557114277065, 2.140394803533472, 2.079113556921646, 1.7077567087511898, 1.7006317812319736, 1.467744354248605, 1.9554232552176578, 2.0093270882757444, 1.795480496707349, 1.4880269801938883, 1.2557212748325504, 1.0495389661170793, 1.8565396672638719, 2.2907383373432606, 1.594193037295505, 1.8102734009242785, 1.935161295863408, 1.643088653149062, 1.4756420372830583, 1.3030079519577848, 1.9152313551968656, 1.5622206683326212, 1.2479180097152418, 1.2504531198942366, 1.4915798884458735, 1.717899163059399, 2.0259816551240495, 1.2834837387624738, 1.9678854868554942, 1.8616086355002728, 1.4963338558782648, 1.3101972839802838, 1.8668442253537751, 1.5492966485913497, 2.1329015183818645, 1.706710960042938, 1.1628618616902422, 2.1560553228600554, 1.0272557003724485, 1.1507144065182011, 1.4104596285894568, 1.139068721603987, 2.277917651236038, 1.1001791014876623, 1.4542078707537982, 1.5749929385246835, 1.459333270085276, 1.676813836666205, 2.1367077514770187, 1.0297676553758546, 1.9469962845245488, 1.654269257582133, 1.6577526320614042, 1.2887474074566287, 1.400784987880763, 1.3288673335132084, 1.9686113128468476, 1.446919481624282, 1.5736947337827285, 1.5924665502070667, 1.8526209403063651, 1.4549651720341135, 0.9813273617957556, 2.0611763432205867, 1.202787496375107, 0.9679343361267122, 1.013272113491649, 1.533738377650582, 0.9159334598723611, 1.83432133856618, 1.2942803387097754, 1.5840011410874584, 1.220641372970768, 1.9982008154697617, 1.9685286971777534, 1.6318561750537637, 2.132702349422053, 1.3736137052620547, 1.3948145370955216, 1.2500154123464131, 1.722285912706839, 1.8151857797211823, 1.5278722428588165, 1.1076918417597168, 1.9541198292204638, 1.8917284410999686, 2.195971192489067, 1.8067517913608848, 2.2003826145744245, 2.260103201894907, 2.0935911621499512, 1.6308874061611385, 1.4628789463530456, 1.3308250823269083, 1.6855479774270945, 1.3853182572280978, 1.6770255627239719, 1.4091723299690098, 1.2593385931286611, 1.1437380109298292, 1.8456470304570944, 1.7316935375450306, 1.3585323547987458, 1.893714353953178, 1.4684422850806185, 1.6808036930189894, 1.6680667225166534, 1.662835846465503, 1.0960277280662656, 1.972921607711327, 1.995498257026442, 1.2684432587775591, 1.5422896266502204, 2.294597710709591, 1.4513490659813135, 1.4721928300344007, 1.4716529168193286, 1.0556669709925646, 1.7752343656797533, 1.3694694807849472, 2.0663632151869678, 1.388247773744643, 1.4709374587417883, 1.1085263215124364, 1.1905656139300242, 1.1235252082596645, 2.079814926519165, 1.7861976755060132, 1.674956570057101, 1.9803769400907685, 1.3467756380349203, 1.1482481950475718, 1.1306935560863018, 2.2292329366677617, 1.4545967838157583, 1.5808525567326792, 1.1549278784100363, 1.313503093961193, 1.7953614334277823, 1.4467322353615086, 1.3868393874898925, 1.296879481001936, 1.1624493658053228, 1.650508496664464, 1.1587251738185285, 1.1466328392671485, 1.665247462515005, 1.4277348812628063]}}, 'mat3': {'carrier-transport': {'elec_cond_300k_low_doping': [5.711380896549549, 11.042867666551237, 55.032724876989946, 26.84576488859147, 59.00400665372086, 63.98611082351832, 55.317498700165714, 3.7432592476463773, 15.409879006136038, 31.771076594590696, 41.0563698582782, 69.83438982022413, 1.270479017922511, 14.312332549714682, 49.29495177114129, 57.53243332859883, 62.466830779090024, 61.01349118458884, 4.620503728543209, 38.160652244144885, 38.709313201668195, 13.197641482376987, 4.187380553087374, 16.42837685483267, 1.9420563869551348, 2.7361929685515483, 9.126010508719604, 65.39069814786616, 62.25149723335345, 73.00340189071585, 47.26383686930083, 0.3061594801888576, 28.966270395046287, 58.295134621142736, 33.25017815231616, 62.885569443972116, 64.99156955083438, 12.646533386252448, 73.90016030076264, 49.405402907129144, 76.91363217474265, 22.733094345976895, 73.94039553035039, 44.99984265095653, 47.25686402201934, 34.78764978123045, 59.96011360042402, 0.9826037621408577, 33.990237487422945, 8.262615918067322, 14.161949889431094, 36.597234167993214, 33.39788448789432, 2.5726391640044106, 21.13824017935189, 36.38967989094978, 47.85075465551995, 43.42315266913313, 1.44506754824116, 32.009705911254976, 15.397265661083305, 37.22967555788004, 53.878510471822096, 40.80130275500486, 62.03159840427841, 11.787992064313825, 51.25768599702093, 34.00202948717663, 77.37244189375629, 70.23928190187858, 59.903291324520204, 65.32106862605302, 40.11098686222629, 68.49870615031381, 18.556724357387388, 47.213132250517226, 16.072976824219214, 42.03601670795926, 77.74515030019798, 55.58148451077101, 34.32103928327174, 60.90406396173076, 0.46377293274494585, 10.772169815787839, 6.3191485220729895, 16.509338305086455, 45.2266659876899, 44.65472043202949, 35.043471140140305, 64.67861200841342, 6.9405357999146915, 1.6460490211454148, 73.42861742675503, 69.84289611348724, 47.36560528737376, 19.906088697653963, 54.99186363020835, 31.449401463611743, 1.333789394716925, 65.83991543926184, 2.5676719906938965, 10.84072257280161, 44.98294750403251, 47.15796883832965, 15.089294218790602, 50.963496188655654, 57.68254814580289, 74.93310963674963, 46.308833735787594, 70.86441885957652, 73.76206484565135, 18.865898024284157, 3.436459480010163, 62.1293811878498, 53.018721910937494, 45.62890708167568, 39.806371633036704, 58.678786855068545, 66.7203152328066, 76.9242080697493, 22.60148912070178, 16.757483357350317, 9.489006102257148, 49.6615489653744, 47.19453781375991, 62.478679957070035, 1.8966046835376678, 14.134556192363412, 68.84806214278419, 69.47469919362732, 22.04421601445299, 41.685486019010554, 47.434131443731246, 69.56006284375566, 3.967684823851236, 0.4254430213180369, 47.286334877717465, 7.57006964552479, 43.469726249997755, 75.63291455420895, 3.921104439066088, 51.56700609737501, 75.90011162257544, 23.683037342365253, 65.16245405585006, 34.46302637311239, 4.612413122094531, 37.98048830248258, 50.8170294049511, 25.117073273168796, 75.85970219112222, 6.572314607724055, 22.46897274633685, 62.42831848171371], 'therm_cond_300k_low_doping': [0.931346149039302, 0.7354426989518194, 0.8800528082394166, 1.8558918295075266, 1.2977185982206538, 1.510396050827562, 1.524000621925525, 1.433206093958683, 1.6125124958344281, 1.5978943031006576, 1.645115539642974, 0.7106948139360063, 0.9536644363603408, 1.1088418632689474, 1.4941389410611718, 1.985118208551433, 0.6499915655678072, 1.5954498049806982, 1.8134556413394376, 0.5735351968643166, 0.27406548311735074, 1.2986925548282673, 1.278301669000698, 1.1047772629028065, 1.466288823579162, 1.8240356620243887, 0.653883614255741, 0.015521367328562989, 1.247783035953196, 0.37636563549727114, 0.9830331938374758, 1.1324943858987324, 1.8271958651713007, 1.6673220459671294, 0.9383547621197589, 0.21272889432847517, 1.326380671818439, 1.5580600797775637, 1.421443977559294, 0.3765582742877244, 1.8062284149533185, 0.8948289810080964, 0.7892162622628549, 0.8771144289657288, 0.9974271250691629, 0.18516833030344904, 1.2522625222609376, 1.4661572995539893, 1.7870666289377293, 0.40387989518342027, 1.4635066005965471, 0.9121260598041473, 0.3874414043997633, 1.8412144927548764, 1.933404973913012, 1.3636274408537938, 1.1870872654339923, 0.27188871143273, 0.5174316680676999, 1.009816360268148, 0.35138688696237963, 1.3066561599682651, 0.2182255586303644, 1.023066347958655, 1.9334437307803614, 1.7385595455215554, 0.9940366822299667, 0.5717852879754879, 1.856915412259534, 1.216711497180011, 1.9816445258573712, 0.10040466939371363, 0.2720066041943263, 1.9979068180140982, 1.1825068941799728, 0.19531016742804844, 1.0488370658351671, 0.09438242435234936, 0.1288489022172082, 0.7252653541237384, 0.12858726367114118, 0.029890048992225856, 1.746523011086017, 0.5640230598897408, 1.1963646099829828, 1.853921880263844, 0.48588476922930546, 0.08289512600708923, 1.4197580413642399, 0.7214749002959824, 1.9480032166273678, 1.7053934947618987, 0.8727015721475294, 1.2916167847736755, 1.430975182674712, 1.8920547777845975, 1.4168331760292727, 0.2877430755856577, 0.4457548089800695, 0.07284373605398516, 0.5543423254052475, 0.6571258350780573, 0.22230503914654468, 0.4403353367959187, 0.24492755010298844, 1.1061856268029364, 1.2704269624732074, 0.44775972762453, 1.0661387452752034, 0.04755538020295005, 0.9617130516190999, 1.0930486784644793, 0.9274748159780392, 1.0874046833798934, 0.1463628037111218, 0.4055627282074712, 1.5146499412253285, 0.21986513563266233, 0.8456766188357789, 0.4360582654416694, 0.019993648579414904, 0.7432662717011843, 0.8135957345036916, 1.045670088402748, 0.9343352524992853, 0.6893464198978814, 1.0491722001236978, 1.5439852412536774, 1.5245463401031891, 1.6403563529056782, 1.9119196775107001, 0.1892668754590027, 1.5885194990996887, 0.5159134369070884, 1.8313917282931604, 0.6498518702877459, 1.832591833933865, 1.8460782319683056, 0.6586134340714004, 0.9717710247854702, 1.3297935438177375, 0.1358059601414752, 0.6458579377652162, 0.9518713916629382, 0.38912017319123093, 1.3165308086584369, 1.7130439330066674, 0.144541182711386, 1.3984885965887368, 0.01337157531060052, 0.35173725496067804, 0.24422866369896712, 1.4084305641355683, 1.5170668927180753]}, 'elastic': {'bulk_modulus': [309.70232335414244, 255.74739643828835, 270.8350528316271, 305.6433341274735, 333.4627210547236, 298.03242759121923, 282.4497567727597, 172.36162946958643, 273.12157529900554, 319.7216119390499, 371.34133274665646, 350.08037678785536, 392.01181272355353, 289.8368704981749, 252.69221659572668, 398.3321001617884, 286.3785276616736, 293.5925218859567, 281.7664174846736, 147.48330842432594, 277.09056160890896, 159.54796294511976, 197.85155202654954, 194.89867899852828, 276.94394354984297, 298.39510610320167, 192.70691166617118, 271.3747790870842, 294.08942761653276, 174.28291683814814, 223.96125364079992, 248.0790234679174, 323.7177991649453, 340.29558447521595, 235.00171695279948, 247.1867730763216, 256.265690544781, 274.8610249281762, 310.5557910708108, 174.48486022150306, 298.20115956161146, 356.94876942185516, 275.2659079406618, 99.1194499966674, 168.08696797520756, 269.9728565271017, 95.30996407952878, 258.8257565597382, 259.4895343880029, 298.6957945127491, 368.83658216426466, 166.31990589943854, 173.96359819647918, 145.33505494512522, 139.90802679597894, 131.28628739715214, 157.36914614529852, 206.98159434624637, 324.2219389760036, 308.7965608327164, 160.93411373285397, 284.3969543110759, 329.13090779174195, 150.9290736898311, 79.7916286399956, 177.15283538058364, 344.13008332822255, 225.68414965656282, 293.6589069425828, 230.59801742240128, 264.59961951417455, 388.27802530150944, 333.849840102084, 175.22155796971958, 293.7408776097712, 224.68442846239094, 178.20411780077788, 399.22422249016716, 96.96501968800371, 388.25041640053865, 138.6221999321632, 90.9331374136697, 208.97762546357603, 270.38430137168075, 302.2336200968047, 171.67235293170168, 236.59237754360072, 178.3846250460301, 286.2619699029242, 187.44329014188125, 211.18277114413232, 72.7989165250209, 135.73436957521335, 128.37015151026196, 74.53707747500383, 287.63050925203294, 150.11662169342716, 238.02312397224358, 217.40385041562905, 252.40882469678564, 290.67186802081164, 386.87987125152654, 155.82983421183306, 345.88210972909854, 274.86112333414866, 89.10961201078112, 161.80586439455803, 198.58440348827574, 245.7351322438856, 127.58275586356231, 303.4594342958412, 251.14614905631785, 217.4778927621543, 301.49390937885204, 282.02355153526156, 147.50421440750523, 274.1881470956911, 300.6191916221758, 133.01690127792563, 272.7943598776712, 378.2980551489465, 385.69782527494425, 276.7015387336672, 258.6583622120599, 170.37415403935432, 371.50640458427097, 52.551663347093346, 95.62055487794306, 90.50860017372233, 340.0780637218247, 120.64669524504707, 324.77061619044724, 101.41397799525255, 79.83534177803332, 224.84638218166756, 257.5429424105834, 374.3346972410976, 271.18022753856246, 320.0284308136121, 58.70876387601969, 178.81995250135654, 118.86472208216892, 174.21088875447722, 163.85855818074637, 141.0447915055559, 287.07405981905333, 305.3614141224347, 171.8043449945109, 376.89053309633863, 287.2338963251063, 276.94812279444915, 333.1387659163393, 211.19965631980588, 397.97422709762645], 'shear_modulus': [284.95826332503043, 271.66007714879987, 200.97722852798717, 240.56927229220125, 249.80344899969884, 286.1793735202317, 295.2596984237431, 233.944923267663, 186.6399494747764, 233.33590935738735, 298.689406799948, 207.24913026800064, 199.68885878769652, 197.04884291898836, 235.59182929444125, 135.46495927968584, 268.8664770782534, 282.45032095356373, 274.8606097765397, 237.58518581804051, 232.73396987566952, 206.41163905881706, 252.815898407101, 281.1804495697245, 281.9599352305267, 201.4563000247771, 197.03506662425116, 204.31363369587262, 201.79553788037373, 298.29097145970525, 130.3624014607134, 255.254370367454, 219.03849616337288, 293.8680772322774, 202.18942021581353, 252.16147052176905, 225.63332816490032, 265.3821331243538, 246.80203505045972, 251.59920179801492, 284.3347177638409, 198.24423370328225, 288.4758246515198, 171.18107354377634, 196.9136156148053, 266.72945649717553, 213.29955546841902, 257.0616967232364, 163.51061232336124, 182.10645688683067, 279.899288523306, 177.50679290465433, 118.57399144620942, 244.8348454296364, 222.9196772695654, 274.173586707101, 299.2930287964849, 189.58212248930934, 281.73509725741735, 147.0473094082433, 191.37888529354615, 222.57445432964244, 164.83076600775965, 269.0004608438734, 282.8850115679723, 254.32210099095107, 223.89719881007375, 253.0937675126802, 171.45099360082813, 171.56127792477793, 191.59237069030087, 226.34503834373666, 238.94050474513116, 251.40596333881768, 196.57308503348992, 297.30887413942065, 244.4994689985559, 243.260391728206, 262.6227855220994, 209.25096932033665, 242.17589693563917, 225.2664414582343, 222.0924764372693, 246.07850110144645, 181.75516726743157, 187.0946954210874, 299.72211726483135, 220.6006997397899, 215.22582486590164, 256.89285096794424, 276.1672846765699, 212.26561812497647, 178.00973458742055, 235.07288517751036, 136.7766820187901, 154.99636673612318, 155.82888628073258, 230.80986905473264, 242.03279498666802, 262.5358370063729, 227.59178365105788, 191.17595160351686, 230.9792523015899, 283.4368742882881, 234.85128587558606, 290.67150048412566, 227.07191174216956, 235.87293271813138, 199.0741306482248, 254.67217934214767, 272.5413455380658, 237.93185527829115, 269.61606946502286, 280.1865154951942, 158.2060737162123, 248.32051916053834, 210.41193212642136, 260.39392794954534, 288.23848990913285, 255.84532372810924, 250.7524106340058, 298.5351554638121, 296.2980208434941, 247.08584148883338, 185.44774256134457, 145.93170098025715, 270.25945116472076, 290.5038305723127, 286.10933477261983, 210.24869840841325, 192.4958676554892, 175.82169740005747, 183.92610262439962, 211.0175162289294, 244.76381808128133, 216.11518843789787, 158.46729384491508, 166.48033288810763, 265.86389220235435, 198.41680467349374, 201.18210747196645, 205.27163929352844, 169.25421511720856, 188.03994960305116, 247.84312594634974, 189.25015069491855, 216.2985957398224, 154.35633578420445, 246.51768066192363, 201.21925920757386, 218.59008458574817, 289.3264851534334, 177.8878840047812, 122.9579805200349], 'universal_anisotropy': [1.5233744296109673, 1.2397438446963602, 1.393406053171925, 1.698021977982799, 1.4426404007791127, 1.5492293557536971, 1.661003799814027, 1.2869454973768713, 1.3244574856442868, 1.672672136966644, 2.2863978508164484, 2.057191999203834, 1.3132172510782378, 1.3767260167846185, 2.165429847177613, 1.693690708771085, 1.4866196222098838, 1.8426543810970613, 1.6222681382849118, 2.0861346729177996, 0.9087808970735209, 2.1298271151123065, 1.469407575237791, 1.9889338614752454, 1.6140800407103357, 1.2963109020419608, 1.0754018585838192, 1.8250867213507442, 1.3674280368842084, 1.6296787694382928, 1.6263863984436064, 1.8519581162062089, 1.9271467696895246, 1.9010647594612222, 1.6352019760613095, 1.4721817436651286, 1.8239698768551693, 1.9328418446137379, 1.9033674490599197, 1.355415617205327, 1.3078373657657065, 2.2550579698899766, 1.2763962729527787, 1.233631038753834, 1.8978642514253867, 2.1079217987440013, 1.5191045694114087, 1.4710938033058703, 1.0284865205428215, 1.6363936088572075, 1.9683155424066123, 1.952399280730654, 1.050520056225935, 1.3044799504768505, 2.0880646040831414, 2.0177096112643724, 1.6423479251454278, 2.1898303084489736, 1.95294115134804, 1.4069510038281994, 1.7561229289607374, 1.6741147840775183, 1.5103372280968663, 1.102583465291481, 1.0838245051792583, 1.6149190935167863, 1.6380197921830255, 1.4370653741453192, 1.7253250166196525, 1.483527387863231, 1.7230482901368775, 1.3421124123548795, 1.4510386937861293, 1.7518585961094786, 1.729319428170078, 1.878996328183457, 1.0286493927039704, 1.988350528350292, 1.4770178441958517, 2.179619808226504, 2.0739018602964907, 1.0980361033337944, 1.287084467071663, 2.03298056102512, 1.3609471708359941, 1.5935613579182961, 1.4622866520420783, 1.6078120433346892, 0.9397962381726401, 2.0042207364553724, 2.0055552152619325, 1.6547772469087176, 1.7380851910407427, 1.5966178702567941, 1.0188268146229178, 1.213407322059944, 1.494437157700224, 1.612835552069514, 1.6278505560439522, 1.1248004410627792, 1.557129278345064, 1.5044843533462096, 1.9548918410667948, 1.6637387717401892, 1.9247533122046563, 1.5523718320257114, 1.9930005083969196, 1.896833938025139, 1.90533242613055, 1.8314987533226381, 2.1582758499631893, 1.756250332672119, 2.0572093609386, 1.5379444586725595, 2.2633658085069057, 1.5789301610789521, 1.3560486420841888, 2.1149933019478113, 2.0889397878630986, 1.1193680483598984, 1.7144242110256314, 1.360353885191049, 1.4571121453433813, 1.593790534473145, 1.3669086257664842, 1.9502261269766978, 1.2742709560862728, 1.544677621626777, 1.4791608922964412, 1.9799494293782967, 1.384609936059165, 1.9759455476816083, 1.9140229349084998, 1.7149066167014002, 1.6007844639845932, 1.0288352874163562, 1.312928663587787, 1.8406024940579284, 1.754016102267352, 1.7136050187187897, 1.0072455907570192, 1.517225786690164, 1.6313511076027785, 1.6827011894376485, 1.1038091046685223, 1.1215732466422503, 1.8516058144009144, 1.792116362679777, 1.6385053315154312, 1.9024017881113013, 1.368857414739705, 1.9951954841284523, 1.7853424218199092, 1.9457503490051304]}}}\n",
      "keys of best_designs_dict: dict_keys(['mat1', 'mat2', 'mat3'])\n",
      "keys of best_designs_dict['mat1']: dict_keys(['carrier-transport', 'elastic'])\n",
      "overall_bounds_dict: {'elec_cond_300k_low_doping': {'upper_bound': 78.0, 'lower_bound': 1e-07}, 'therm_cond_300k_low_doping': {'upper_bound': 2.0, 'lower_bound': 1e-07}, 'bulk_modulus': {'upper_bound': 400.0, 'lower_bound': 20.0}, 'shear_modulus': {'upper_bound': 300.0, 'lower_bound': 80.0}, 'universal_anisotropy': {'upper_bound': 2.3, 'lower_bound': 0.9}}\n",
      "Initial query: {'bulk_modulus': (20.0, 400.0), 'shear_modulus': (80.0, 300.0), 'universal_anisotropy': (0.9, 2.3)}\n",
      "Fields: ['material_id', 'formula_pretty', 'bulk_modulus', 'shear_modulus', 'universal_anisotropy']\n"
     ]
    },
    {
     "data": {
      "application/vnd.jupyter.widget-view+json": {
       "model_id": "688fbdab8eed4f74b6043e5786044fac",
       "version_major": 2,
       "version_minor": 0
      },
      "text/plain": [
       "Retrieving SummaryDoc documents:   0%|          | 0/204 [00:00<?, ?it/s]"
      ]
     },
     "metadata": {},
     "output_type": "display_data"
    },
    {
     "name": "stdout",
     "output_type": "stream",
     "text": [
      "Initialized result_dict: {'material_id': [], 'formula_pretty': [], 'elec_cond_300k_low_doping': [], 'therm_cond_300k_low_doping': [], 'bulk_modulus_voigt': [], 'shear_modulus_voigt': [], 'universal_anisotropy': []}\n",
      "\u001b[0;31m---------------------------------------------------------------------------\u001b[0m\n",
      "\u001b[0;31mKeyError\u001b[0m                                  Traceback (most recent call last)\n",
      "Cell \u001b[0;32mIn[16], line 11\u001b[0m\n",
      "\u001b[1;32m      1\u001b[0m \u001b[38;5;66;03m# # Display the mp-ids of the potential options for each of the composite materials\u001b[39;00m\n",
      "\u001b[1;32m      2\u001b[0m \u001b[38;5;66;03m# HS.get_material_matches()\u001b[39;00m\n",
      "\u001b[1;32m      3\u001b[0m \u001b[38;5;66;03m# matches_dict = HS.get_material_matches(consolidated_dict=consolidated_dict)\u001b[39;00m\n",
      "\u001b[0;32m   (...)\u001b[0m\n",
      "\u001b[1;32m      8\u001b[0m \u001b[38;5;66;03m# # matches_dict = HS.get_material_matches(consolidated_dict=consolidated_dict)\u001b[39;00m\n",
      "\u001b[1;32m      9\u001b[0m \u001b[38;5;66;03m# matches_dict = HS.get_material_matches()\u001b[39;00m\n",
      "\u001b[1;32m     10\u001b[0m \u001b[38;5;28mprint\u001b[39m(\u001b[38;5;124mf\u001b[39m\u001b[38;5;124m\"\u001b[39m\u001b[38;5;124moverall bounds dict: \u001b[39m\u001b[38;5;132;01m{\u001b[39;00moverall_bounds_dict,\u001b[38;5;250m \u001b[39muser_input\u001b[38;5;132;01m}\u001b[39;00m\u001b[38;5;124m\"\u001b[39m)\n",
      "\u001b[0;32m---> 11\u001b[0m matches_dict \u001b[38;5;241m=\u001b[39m \u001b[43mHS\u001b[49m\u001b[38;5;241;43m.\u001b[39;49m\u001b[43mget_material_matches\u001b[49m\u001b[43m(\u001b[49m\u001b[43moverall_bounds_dict\u001b[49m\u001b[43m,\u001b[49m\u001b[43m \u001b[49m\u001b[43muser_input\u001b[49m\u001b[43m)\u001b[49m\n",
      "\u001b[1;32m     12\u001b[0m \u001b[38;5;28mprint\u001b[39m(\u001b[38;5;124m\"\u001b[39m\u001b[38;5;124mMaterial Matches:\u001b[39m\u001b[38;5;124m\"\u001b[39m)\n",
      "\u001b[1;32m     13\u001b[0m \u001b[38;5;28mprint\u001b[39m(matches_dict)\n",
      "\n",
      "File \u001b[0;32m~/Library/Mobile Documents/com~apple~CloudDocs/Carla's Desktop/UC Berkeley/Research/Materials Project/hashin_shtrikman_mp/src/examples/../core/optimization.py:293\u001b[0m, in \u001b[0;36mHashinShtrikman.get_material_matches\u001b[0;34m(self, overall_bounds_dict, user_input)\u001b[0m\n",
      "\u001b[1;32m    290\u001b[0m \u001b[38;5;28mprint\u001b[39m(\u001b[38;5;124mf\u001b[39m\u001b[38;5;124m\"\u001b[39m\u001b[38;5;124moverall_bounds_dict: \u001b[39m\u001b[38;5;132;01m{\u001b[39;00moverall_bounds_dict\u001b[38;5;132;01m}\u001b[39;00m\u001b[38;5;124m\"\u001b[39m)\n",
      "\u001b[1;32m    292\u001b[0m \u001b[38;5;66;03m# Generate the consolidated dict based on overall bounds\u001b[39;00m\n",
      "\u001b[0;32m--> 293\u001b[0m consolidated_dict \u001b[38;5;241m=\u001b[39m \u001b[38;5;28;43mself\u001b[39;49m\u001b[38;5;241;43m.\u001b[39;49m\u001b[43mgenerate_consolidated_dict\u001b[49m\u001b[43m(\u001b[49m\u001b[43moverall_bounds_dict\u001b[49m\u001b[43m)\u001b[49m \u001b[38;5;66;03m# TODO uncomment this line and remove the above lines\u001b[39;00m\n",
      "\u001b[1;32m    295\u001b[0m \u001b[38;5;66;03m# save consolidated_dict to file\u001b[39;00m\n",
      "\u001b[1;32m    296\u001b[0m \u001b[38;5;28;01mwith\u001b[39;00m \u001b[38;5;28mopen\u001b[39m(\u001b[38;5;124mf\u001b[39m\u001b[38;5;124m\"\u001b[39m\u001b[38;5;124mconsolidated_dict_\u001b[39m\u001b[38;5;132;01m{\u001b[39;00mdatetime\u001b[38;5;241m.\u001b[39mnow()\u001b[38;5;241m.\u001b[39mstrftime(\u001b[38;5;124m'\u001b[39m\u001b[38;5;124m%\u001b[39m\u001b[38;5;124mm_\u001b[39m\u001b[38;5;132;01m%d\u001b[39;00m\u001b[38;5;124m_\u001b[39m\u001b[38;5;124m%\u001b[39m\u001b[38;5;124mY_\u001b[39m\u001b[38;5;124m%\u001b[39m\u001b[38;5;124mH_\u001b[39m\u001b[38;5;124m%\u001b[39m\u001b[38;5;124mM_\u001b[39m\u001b[38;5;124m%\u001b[39m\u001b[38;5;124mS\u001b[39m\u001b[38;5;124m'\u001b[39m)\u001b[38;5;132;01m}\u001b[39;00m\u001b[38;5;124m\"\u001b[39m, \u001b[38;5;124m'\u001b[39m\u001b[38;5;124mw\u001b[39m\u001b[38;5;124m'\u001b[39m) \u001b[38;5;28;01mas\u001b[39;00m f:\n",
      "\n",
      "File \u001b[0;32m~/Library/Mobile Documents/com~apple~CloudDocs/Carla's Desktop/UC Berkeley/Research/Materials Project/hashin_shtrikman_mp/src/examples/../core/optimization.py:1077\u001b[0m, in \u001b[0;36mHashinShtrikman.generate_consolidated_dict\u001b[0;34m(self, overall_bounds_dict)\u001b[0m\n",
      "\u001b[1;32m   1075\u001b[0m                 result_dict[result_key]\u001b[38;5;241m.\u001b[39mappend(value\u001b[38;5;241m.\u001b[39mget(sub_attr[\u001b[38;5;241m0\u001b[39m], \u001b[38;5;28;01mNone\u001b[39;00m))  \u001b[38;5;66;03m# Access sub-attribute if it exists\u001b[39;00m\n",
      "\u001b[1;32m   1076\u001b[0m             \u001b[38;5;28;01melse\u001b[39;00m:\n",
      "\u001b[0;32m-> 1077\u001b[0m                 \u001b[43mresult_dict\u001b[49m\u001b[43m[\u001b[49m\u001b[43mresult_key\u001b[49m\u001b[43m]\u001b[49m\u001b[38;5;241m.\u001b[39mappend(\u001b[38;5;28mgetattr\u001b[39m(material, material_attr, \u001b[38;5;28;01mNone\u001b[39;00m))  \u001b[38;5;66;03m# Direct access to attribute\u001b[39;00m\n",
      "\u001b[1;32m   1080\u001b[0m \u001b[38;5;66;03m# Initialize variables\u001b[39;00m\n",
      "\u001b[1;32m   1081\u001b[0m formula_pretty_length \u001b[38;5;241m=\u001b[39m \u001b[38;5;28mlen\u001b[39m(result_dict[\u001b[38;5;124m'\u001b[39m\u001b[38;5;124mformula_pretty\u001b[39m\u001b[38;5;124m'\u001b[39m])\n",
      "\n",
      "\u001b[0;31mKeyError\u001b[0m: 'bulk_modulus'\n"
     ]
    }
   ],
   "source": [
    "# # Display the mp-ids of the potential options for each of the composite materials\n",
    "# HS.get_material_matches()\n",
    "# matches_dict = HS.get_material_matches(consolidated_dict=consolidated_dict)\n",
    "# print(\"Material Matches:\")\n",
    "# print(matches_dict)\n",
    "\n",
    "# Display the mp-ids of the potential options for each of the composite materials\n",
    "# # matches_dict = HS.get_material_matches(consolidated_dict=consolidated_dict)\n",
    "# matches_dict = HS.get_material_matches()\n",
    "print(f\"overall bounds dict: {overall_bounds_dict, user_input}\")\n",
    "matches_dict = HS.get_material_matches(overall_bounds_dict, user_input)\n",
    "print(\"Material Matches:\")\n",
    "print(matches_dict)"
   ]
  },
  {
   "cell_type": "code",
   "execution_count": null,
   "metadata": {},
   "outputs": [],
   "source": [
    "import os\n",
    "import json\n",
    "from datetime import datetime\n",
    "\n",
    "# Directory where the files are located\n",
    "directory = './'\n",
    "\n",
    "# Function to get the latest consolidated dict file\n",
    "def get_latest_consolidated_dict_file(directory):\n",
    "    # List all files in the directory\n",
    "    files = os.listdir(directory)\n",
    "    \n",
    "    # Filter out only the consolidated_dict files\n",
    "    consolidated_files = [f for f in files if f.startswith('consolidated_dict_')]\n",
    "    \n",
    "    # Sort the files by date and time in the filename\n",
    "    consolidated_files.sort(key=lambda x: datetime.strptime(x, 'consolidated_dict_%m_%d_%Y_%H_%M_%S'))\n",
    "    \n",
    "    # Return the latest file\n",
    "    latest_file = consolidated_files[-1] if consolidated_files else None\n",
    "    return latest_file\n",
    "\n",
    "# Get the latest consolidated dict file\n",
    "latest_file = get_latest_consolidated_dict_file(directory)\n",
    "\n",
    "if latest_file:\n",
    "    # Open the latest consolidated dict file\n",
    "    with open(os.path.join(directory, latest_file), 'r') as f:\n",
    "        consolidated_dict = json.load(f)\n",
    "        print(f\"Loaded consolidated_dict from {latest_file}\")\n",
    "else:\n",
    "    print(\"No consolidated dict file found.\")\n",
    "\n",
    "\n",
    "HS.get_material_match_costs(matches_dict=matches_dict, consolidated_dict=consolidated_dict)"
   ]
  },
  {
   "cell_type": "code",
   "execution_count": null,
   "metadata": {},
   "outputs": [],
   "source": [
    "HS.property_categories"
   ]
  },
  {
   "cell_type": "code",
   "execution_count": null,
   "metadata": {},
   "outputs": [],
   "source": [
    "HS.property_docs.values"
   ]
  },
  {
   "cell_type": "code",
   "execution_count": null,
   "metadata": {},
   "outputs": [],
   "source": []
  }
 ],
 "metadata": {
  "kernelspec": {
   "display_name": "carla_mp_api",
   "language": "python",
   "name": "python3"
  },
  "language_info": {
   "codemirror_mode": {
    "name": "ipython",
    "version": 3
   },
   "file_extension": ".py",
   "mimetype": "text/x-python",
   "name": "python",
   "nbconvert_exporter": "python",
   "pygments_lexer": "ipython3",
   "version": "3.9.18"
  }
 },
 "nbformat": 4,
 "nbformat_minor": 2
}
