{
 "cells": [
  {
   "cell_type": "markdown",
   "metadata": {},
   "source": [
    "## Testing the Composites Discovery App with n=3 phases"
   ]
  },
  {
   "cell_type": "code",
   "execution_count": 1,
   "metadata": {},
   "outputs": [
    {
     "name": "stdout",
     "output_type": "stream",
     "text": [
      "User Input:  {'mat_1': {'elec_cond_300k_low_doping': {'upper_bound': 78.0, 'lower_bound': 1e-07}, 'therm_cond_300k_low_doping': {'upper_bound': 2.0, 'lower_bound': 1e-07}, 'bulk_modulus': {'upper_bound': 100.0, 'lower_bound': 50.0}, 'shear_modulus': {'upper_bound': 100.0, 'lower_bound': 80.0}, 'universal_anisotropy': {'upper_bound': 2.0, 'lower_bound': 1.0}}, 'mat_2': {'elec_cond_300k_low_doping': {'upper_bound': 78.0, 'lower_bound': 1e-07}, 'therm_cond_300k_low_doping': {'upper_bound': 2.0, 'lower_bound': 1e-07}, 'bulk_modulus': {'upper_bound': 400.0, 'lower_bound': 20.0}, 'shear_modulus': {'upper_bound': 200.0, 'lower_bound': 100.0}, 'universal_anisotropy': {'upper_bound': 2.3, 'lower_bound': 1.3}}, 'mat_3': {'elec_cond_300k_low_doping': {'upper_bound': 78.0, 'lower_bound': 1e-07}, 'therm_cond_300k_low_doping': {'upper_bound': 2.0, 'lower_bound': 1e-07}, 'bulk_modulus': {'upper_bound': 300.0, 'lower_bound': 20.0}, 'shear_modulus': {'upper_bound': 300.0, 'lower_bound': 100.0}, 'universal_anisotropy': {'upper_bound': 2.1, 'lower_bound': 0.9}}, 'mixture': {'elec_cond_300k_low_doping': {'desired_prop': 9.0}, 'therm_cond_300k_low_doping': {'desired_prop': 0.9}, 'bulk_modulus': {'desired_prop': 280.0}, 'shear_modulus': {'desired_prop': 230.0}, 'universal_anisotropy': {'desired_prop': 1.5}}}\n",
      "Overall Upper & Lower Bounds:\n",
      "Property: elec_cond_300k_low_doping, Upper Bound: 78.0, Lower Bound: 1e-07\n",
      "Property: therm_cond_300k_low_doping, Upper Bound: 2.0, Lower Bound: 1e-07\n",
      "Property: bulk_modulus, Upper Bound: 400.0, Lower Bound: 20.0\n",
      "Property: shear_modulus, Upper Bound: 300.0, Lower Bound: 80.0\n",
      "Property: universal_anisotropy, Upper Bound: 2.3, Lower Bound: 0.9\n",
      "{'elec_cond_300k_low_doping': {'upper_bound': 78.0, 'lower_bound': 1e-07}, 'therm_cond_300k_low_doping': {'upper_bound': 2.0, 'lower_bound': 1e-07}, 'bulk_modulus': {'upper_bound': 400.0, 'lower_bound': 20.0}, 'shear_modulus': {'upper_bound': 300.0, 'lower_bound': 80.0}, 'universal_anisotropy': {'upper_bound': 2.3, 'lower_bound': 0.9}}\n"
     ]
    }
   ],
   "source": [
    "import sys  \n",
    "sys.path.insert(1, '../core')\n",
    "from user_input import MaterialProperty, Material, MixtureProperty, Mixture, UserInput\n",
    "\n",
    "# Define properties for each material\n",
    "properties_mat_1 = [\n",
    "    MaterialProperty(prop='elec_cond_300k_low_doping', upper_bound=78, lower_bound=1e-7), # upper_bound=20, lower_bound=1 \n",
    "    MaterialProperty(prop='therm_cond_300k_low_doping', upper_bound=2, lower_bound=1e-7), # upper_bound=0.0001, lower_bound=1e-5 \n",
    "    MaterialProperty(prop='bulk_modulus', upper_bound=100, lower_bound=50),\n",
    "    MaterialProperty(prop='shear_modulus', upper_bound=100, lower_bound=80),\n",
    "    MaterialProperty(prop='universal_anisotropy', upper_bound=2, lower_bound=1),\n",
    "]\n",
    "\n",
    "properties_mat_2 = [\n",
    "    MaterialProperty(prop='elec_cond_300k_low_doping', upper_bound=78, lower_bound=1e-7), # upper_bound=5, lower_bound=2\n",
    "    MaterialProperty(prop='therm_cond_300k_low_doping', upper_bound=2, lower_bound=1e-7), # upper_bound=0.009, lower_bound=1e-4\n",
    "    MaterialProperty(prop='bulk_modulus', upper_bound=400, lower_bound=20),\n",
    "    MaterialProperty(prop='shear_modulus', upper_bound=200, lower_bound=100),\n",
    "    MaterialProperty(prop='universal_anisotropy', upper_bound=2.3, lower_bound=1.3),\n",
    "]\n",
    "\n",
    "properties_mat_3 = [\n",
    "    MaterialProperty(prop='elec_cond_300k_low_doping', upper_bound=78, lower_bound=1e-7), # upper_bound=10, lower_bound=1\n",
    "    MaterialProperty(prop='therm_cond_300k_low_doping', upper_bound=2, lower_bound=1e-7), # upper_bound=0.005, lower_bound=1e-4\n",
    "    MaterialProperty(prop='bulk_modulus', upper_bound=300, lower_bound=20),\n",
    "    MaterialProperty(prop='shear_modulus', upper_bound=300, lower_bound=100),\n",
    "    MaterialProperty(prop='universal_anisotropy', upper_bound=2.1, lower_bound=0.9),\n",
    "]\n",
    "\n",
    "# Define properties for the mixture\n",
    "properties_mixture = [\n",
    "    MixtureProperty(prop='elec_cond_300k_low_doping', desired_prop=9),\n",
    "    MixtureProperty(prop='therm_cond_300k_low_doping', desired_prop=0.9),\n",
    "    MixtureProperty(prop='bulk_modulus', desired_prop=280),\n",
    "    MixtureProperty(prop='shear_modulus', desired_prop=230),\n",
    "    MixtureProperty(prop='universal_anisotropy', desired_prop=1.5),\n",
    "]\n",
    "\n",
    "# Create Material & Mixture instances\n",
    "mat_1 = Material(name='mat_1', properties=properties_mat_1)\n",
    "mat_2 = Material(name='mat_2', properties=properties_mat_2)\n",
    "mat_3 = Material(name='mat_3', properties=properties_mat_3)\n",
    "mixture = Mixture(name='mixture', properties=properties_mixture)\n",
    "aggregate = [mat_1, mat_2, mat_3, mixture]\n",
    "\n",
    "# Initialize UserInput instance with materials and mixtures\n",
    "user_input= UserInput(materials=[mat_1, mat_2, mat_3], mixtures=[mixture])\n",
    "print(\"User Input: \", user_input)\n",
    "\n",
    "# Initialize dictionaries to store the overall upper and lower bounds for each property\n",
    "overall_bounds = {}\n",
    "\n",
    "# Iterate over materials\n",
    "for entity in aggregate:\n",
    "    # Skip the mixture as it doesn't have upper and lower bounds\n",
    "    if isinstance(entity, Material):\n",
    "        for property in entity.properties:\n",
    "            prop_name = property.prop\n",
    "\n",
    "            # Initialize the overall bounds if they are not already present for the property\n",
    "            if prop_name not in overall_bounds:\n",
    "                overall_bounds[prop_name] = {'upper_bound': property.upper_bound, 'lower_bound': property.lower_bound}\n",
    "            else:\n",
    "                # Update overall upper and lower bounds by comparing with existing values\n",
    "                overall_bounds[prop_name]['upper_bound'] = max(overall_bounds[prop_name]['upper_bound'], property.upper_bound)\n",
    "                overall_bounds[prop_name]['lower_bound'] = min(overall_bounds[prop_name]['lower_bound'], property.lower_bound)\n",
    "\n",
    "# Print the overall bounds for each property\n",
    "print(\"Overall Upper & Lower Bounds:\")\n",
    "for prop, bounds in overall_bounds.items():\n",
    "    print(f\"Property: {prop}, Upper Bound: {bounds['upper_bound']}, Lower Bound: {bounds['lower_bound']}\")\n",
    "\n",
    "# Step 1: Create the consolidated_dict\n",
    "overall_bounds_dict = {}\n",
    "for prop, bounds in overall_bounds.items():\n",
    "    overall_bounds_dict[prop] = {\n",
    "        'upper_bound': bounds['upper_bound'],\n",
    "        'lower_bound': bounds['lower_bound']\n",
    "    }\n",
    "\n",
    "print(overall_bounds_dict)"
   ]
  },
  {
   "cell_type": "code",
   "execution_count": 2,
   "metadata": {},
   "outputs": [
    {
     "name": "stderr",
     "output_type": "stream",
     "text": [
      "/Users/carlabecker/opt/anaconda3/envs/carla_mp_api/lib/python3.9/site-packages/mpcontribs/client/__init__.py:88: FutureWarning: use_inf_as_na option is deprecated and will be removed in a future version. Convert inf values to NaN before operating instead.\n",
      "  pd.set_option('mode.use_inf_as_na', True)\n",
      "2024-10-07 23:47:02,301 - custom_logger - INFO - Loading property categories from /Users/carlabecker/Library/Mobile Documents/com~apple~CloudDocs/Carla's Desktop/UC Berkeley/Research/Materials Project/hashin_shtrikman_mp/src/core/../io/inputs/mp_property_docs.yaml.\n",
      "2024-10-07 23:47:02,307 - custom_logger - INFO - property_categories = ['carrier-transport', 'elastic']\n",
      "2024-10-07 23:47:02,308 - custom_logger - INFO - mixture_props = {'elec_cond_300k_low_doping': {'desired_prop': 9.0}, 'therm_cond_300k_low_doping': {'desired_prop': 0.9}, 'bulk_modulus': {'desired_prop': 280.0}, 'shear_modulus': {'desired_prop': 230.0}, 'universal_anisotropy': {'desired_prop': 1.5}}\n"
     ]
    },
    {
     "name": "stdout",
     "output_type": "stream",
     "text": [
      "self.nuild_dict: <bound method UserInput.build_dict of {'mat_1': {'elec_cond_300k_low_doping': {'upper_bound': 78.0, 'lower_bound': 1e-07}, 'therm_cond_300k_low_doping': {'upper_bound': 2.0, 'lower_bound': 1e-07}, 'bulk_modulus': {'upper_bound': 100.0, 'lower_bound': 50.0}, 'shear_modulus': {'upper_bound': 100.0, 'lower_bound': 80.0}, 'universal_anisotropy': {'upper_bound': 2.0, 'lower_bound': 1.0}}, 'mat_2': {'elec_cond_300k_low_doping': {'upper_bound': 78.0, 'lower_bound': 1e-07}, 'therm_cond_300k_low_doping': {'upper_bound': 2.0, 'lower_bound': 1e-07}, 'bulk_modulus': {'upper_bound': 400.0, 'lower_bound': 20.0}, 'shear_modulus': {'upper_bound': 200.0, 'lower_bound': 100.0}, 'universal_anisotropy': {'upper_bound': 2.3, 'lower_bound': 1.3}}, 'mat_3': {'elec_cond_300k_low_doping': {'upper_bound': 78.0, 'lower_bound': 1e-07}, 'therm_cond_300k_low_doping': {'upper_bound': 2.0, 'lower_bound': 1e-07}, 'bulk_modulus': {'upper_bound': 300.0, 'lower_bound': 20.0}, 'shear_modulus': {'upper_bound': 300.0, 'lower_bound': 100.0}, 'universal_anisotropy': {'upper_bound': 2.1, 'lower_bound': 0.9}}, 'mixture': {'elec_cond_300k_low_doping': {'desired_prop': 9.0}, 'therm_cond_300k_low_doping': {'desired_prop': 0.9}, 'bulk_modulus': {'desired_prop': 280.0}, 'shear_modulus': {'desired_prop': 230.0}, 'universal_anisotropy': {'desired_prop': 1.5}}}>\n",
      "material: mat_1, category: carrier-transport, property: 78.0\n",
      "material: mat_1, category: carrier-transport, property: 2.0\n",
      "material: mat_1, category: elastic, property: 100.0\n",
      "Property categories:  ['carrier-transport', 'elastic']\n",
      "Property docs:  {'carrier-transport': {'elec_cond_300k_low_doping': None, 'therm_cond_300k_low_doping': None}, 'dielectric': {'e_electronic': None, 'e_ionic': None, 'e_total': None, 'n': None}, 'elastic': {'bulk_modulus': 'voigt', 'shear_modulus': 'voigt', 'universal_anisotropy': None}, 'magnetic': {'total_magnetization': None, 'total_magnetization_normalized_vol': None}, 'piezoelectric': {'e_ij_max': None}}\n",
      "Lower Bounds: {'mat_1': {'carrier-transport': [1e-07, 1e-07], 'elastic': [50.0, 80.0, 1.0]}, 'mat_2': {'carrier-transport': [1e-07, 1e-07], 'elastic': [20.0, 100.0, 1.3]}, 'mat_3': {'carrier-transport': [1e-07, 1e-07], 'elastic': [20.0, 100.0, 0.9]}, 'volume-fractions': [0.01, 0.01, 0.01]}\n",
      "Upper Bounds: {'mat_1': {'carrier-transport': [78.0, 2.0], 'elastic': [100.0, 100.0, 2.0]}, 'mat_2': {'carrier-transport': [78.0, 2.0], 'elastic': [400.0, 200.0, 2.3]}, 'mat_3': {'carrier-transport': [78.0, 2.0], 'elastic': [300.0, 300.0, 2.1]}, 'volume-fractions': [0.99, 0.99, 0.99]}\n",
      "Number of Materials: 3\n",
      "Number of Properties: 6\n"
     ]
    }
   ],
   "source": [
    "from optimization import HashinShtrikman\n",
    "HS = HashinShtrikman(api_key=\"uJpFxJJGKCSp9s1shwg9HmDuNjCDfWbM\", user_input=user_input)\n",
    "\n",
    "print(\"Property categories: \", HS.property_categories)\n",
    "print(\"Property docs: \", HS.property_docs)\n",
    "\n",
    "print(\"Lower Bounds:\", HS.lower_bounds)\n",
    "print(\"Upper Bounds:\", HS.upper_bounds)\n",
    "\n",
    "print(\"Number of Materials:\", HS.num_materials)\n",
    "print(\"Number of Properties:\", HS.num_properties)"
   ]
  },
  {
   "cell_type": "code",
   "execution_count": 3,
   "metadata": {},
   "outputs": [
    {
     "name": "stdout",
     "output_type": "stream",
     "text": [
      "{'material_id': ['mp-546266', 'mp-12863', 'mp-1509', 'mp-1029799', 'mp-16290'], 'is_stable': [True, False, True, True, False], 'band_gap': [1.3667999999999996, 0.0, 0.7774000000000001, 1.0132999999999996, 0.0], 'is_metal': [False, True, False, False, True], 'formula_pretty': ['DyBi2IO4', 'Ba(AlSi)2', 'Sn2S3', 'Sr4TiN4', 'ZnNi3C'], 'mp-ids-contrib': ['mp-546266', 'mp-12863', 'mp-1509', 'mp-22192', 'mp-16290'], 'elec_cond_300k_low_doping': [12.7262, 2642302.9999999995, 3.71323, 2.23963, 2548302.4], 'therm_cond_300k_low_doping': [7.1457e-05, 19.2792, 1.90284e-05, 3.3981e-05, 17.8791], 'bulk_modulus': [74.071, 46.928, 20.346, 73.379, 194.302], 'shear_modulus': [40.463, 23.063, 13.493, 36.558, 64.537], 'universal_anisotropy': [1.443, 24.189, 2.364, 0.956, 2.102]}\n"
     ]
    }
   ],
   "source": [
    "# Testing without calls to generate final dict (faster)\n",
    "import json\n",
    "consolidated_dict = {}\n",
    "with open(\"consolidated_dict_02_11_2024_23_45_58\") as f:\n",
    "    consolidated_dict = json.load(f)\n",
    "print(consolidated_dict)"
   ]
  },
  {
   "cell_type": "code",
   "execution_count": 4,
   "metadata": {},
   "outputs": [
    {
     "name": "stdout",
     "output_type": "stream",
     "text": [
      "Generation 0 of 100\n",
      "Generation 1 of 100\n",
      "Generation 2 of 100\n",
      "Generation 3 of 100\n",
      "Generation 4 of 100\n",
      "Generation 5 of 100\n",
      "Generation 6 of 100\n",
      "Generation 7 of 100\n",
      "Generation 8 of 100\n",
      "Generation 9 of 100\n",
      "Generation 10 of 100\n",
      "Generation 11 of 100\n",
      "Generation 12 of 100\n",
      "Generation 13 of 100\n",
      "Generation 14 of 100\n",
      "Generation 15 of 100\n",
      "Generation 16 of 100\n",
      "Generation 17 of 100\n",
      "Generation 18 of 100\n",
      "Generation 19 of 100\n",
      "Generation 20 of 100\n",
      "Generation 21 of 100\n",
      "Generation 22 of 100\n",
      "Generation 23 of 100\n",
      "Generation 24 of 100\n",
      "Generation 25 of 100\n",
      "Generation 26 of 100\n",
      "Generation 27 of 100\n",
      "Generation 28 of 100\n",
      "Generation 29 of 100\n",
      "Generation 30 of 100\n",
      "Generation 31 of 100\n",
      "Generation 32 of 100\n",
      "Generation 33 of 100\n",
      "Generation 34 of 100\n",
      "Generation 35 of 100\n",
      "Generation 36 of 100\n",
      "Generation 37 of 100\n",
      "Generation 38 of 100\n",
      "Generation 39 of 100\n",
      "Generation 40 of 100\n",
      "Generation 41 of 100\n",
      "Generation 42 of 100\n",
      "Generation 43 of 100\n",
      "Generation 44 of 100\n",
      "Generation 45 of 100\n",
      "Generation 46 of 100\n",
      "Generation 47 of 100\n",
      "Generation 48 of 100\n",
      "Generation 49 of 100\n",
      "Generation 50 of 100\n",
      "Generation 51 of 100\n",
      "Generation 52 of 100\n",
      "Generation 53 of 100\n",
      "Generation 54 of 100\n",
      "Generation 55 of 100\n",
      "Generation 56 of 100\n",
      "Generation 57 of 100\n",
      "Generation 58 of 100\n",
      "Generation 59 of 100\n",
      "Generation 60 of 100\n",
      "Generation 61 of 100\n",
      "Generation 62 of 100\n",
      "Generation 63 of 100\n",
      "Generation 64 of 100\n",
      "Generation 65 of 100\n",
      "Generation 66 of 100\n",
      "Generation 67 of 100\n",
      "Generation 68 of 100\n",
      "Generation 69 of 100\n",
      "Generation 70 of 100\n",
      "Generation 71 of 100\n",
      "Generation 72 of 100\n",
      "Generation 73 of 100\n",
      "Generation 74 of 100\n",
      "Generation 75 of 100\n",
      "Generation 76 of 100\n",
      "Generation 77 of 100\n",
      "Generation 78 of 100\n",
      "Generation 79 of 100\n",
      "Generation 80 of 100\n",
      "Generation 81 of 100\n",
      "Generation 82 of 100\n",
      "Generation 83 of 100\n",
      "Generation 84 of 100\n",
      "Generation 85 of 100\n",
      "Generation 86 of 100\n",
      "Generation 87 of 100\n",
      "Generation 88 of 100\n",
      "Generation 89 of 100\n",
      "Generation 90 of 100\n",
      "Generation 91 of 100\n",
      "Generation 92 of 100\n",
      "Generation 93 of 100\n",
      "Generation 94 of 100\n",
      "Generation 95 of 100\n",
      "Generation 96 of 100\n",
      "Generation 97 of 100\n",
      "Generation 98 of 100\n",
      "Generation 99 of 100\n"
     ]
    }
   ],
   "source": [
    "# Run the optimization to obtain n=3 materials and their volume fractions that achieve the desired composite material properties\n",
    "HS.set_HS_optim_params(gen_counter=True)"
   ]
  },
  {
   "cell_type": "code",
   "execution_count": 5,
   "metadata": {},
   "outputs": [
    {
     "data": {
      "application/vnd.plotly.v1+json": {
       "config": {
        "plotlyServerURL": "https://plot.ly"
       },
       "data": [
        {
         "cells": {
          "align": "left",
          "fill": {
           "color": [
            [
             "white",
             "lightgrey",
             "white",
             "lightgrey",
             "white",
             "lightgrey",
             "white",
             "lightgrey",
             "white",
             "lightgrey"
            ]
           ]
          },
          "font": {
           "size": 12
          },
          "height": 30,
          "values": [
           [
            55.23545845750854,
            56.1160525212538,
            56.49962914933211,
            57.173721684779245,
            57.20870459036599,
            57.75358443409044,
            53.70494879888031,
            58.94293264676586,
            48.81560696396325,
            49.79123227840924
           ],
           [
            0.32361445069592937,
            0.30871528489853545,
            0.3022253799434217,
            0.2908201060926118,
            0.2902282146276674,
            0.2810091482433441,
            0.3495098298464877,
            0.2608860325637781,
            0.4322347965907969,
            0.41572775445353555
           ],
           [
            81.48097861944893,
            81.09951972726101,
            80.9333606289432,
            80.64135480879247,
            80.62620078838735,
            80.39016778507747,
            82.14397027803466,
            79.8749616642194,
            84.26195289529538,
            83.8393280253795
           ],
           [
            97.20712280719331,
            97.45999316490168,
            97.57014057918042,
            97.76371220041312,
            97.77375785051868,
            97.93022490686549,
            96.76762345012583,
            98.27175674356666,
            95.36360578789487,
            95.6437652080073
           ],
           [
            1.4881109451488346,
            1.5118208638181105,
            1.522148631207879,
            1.5402985141664822,
            1.541240425860446,
            1.5559112683191019,
            1.4469021055453988,
            1.5879343656268987,
            1.3152570013765994,
            1.3415256282156427
           ],
           [
            25.907641037813352,
            25.045792093740207,
            24.67038062381226,
            24.010637430209776,
            23.97639920231131,
            23.443118162505776,
            27.405570887092978,
            22.279087488860327,
            32.190833780773886,
            31.235976506935238
           ],
           [
            1.7682887032054824,
            1.7953934046168993,
            1.8071999002549033,
            1.8279484808429332,
            1.8290252553176551,
            1.845796666887746,
            1.7211795878794367,
            1.8824048266585054,
            1.5706855566454143,
            1.6007153216940322
           ],
           [
            242.46438788780753,
            245.25438140358415,
            246.4696704331177,
            248.60540343469168,
            248.71624006619805,
            250.44258741903278,
            237.6152613728672,
            254.21080927968436,
            222.1243188631979,
            225.21540068307178
           ],
           [
            120.04628153421697,
            120.58105658482114,
            120.81399843525642,
            121.22336738809994,
            121.2446121203502,
            121.57551163239282,
            119.11681991979049,
            122.29778966810241,
            116.14757661593697,
            116.74006309567149
           ],
           [
            1.2064201827559902,
            1.166828723685124,
            1.1495831402814451,
            1.1192759781895014,
            1.1177031487420406,
            1.0932053819281176,
            1.2752318100447622,
            1.0397323538646808,
            1.4950563411315272,
            1.451192282428807
           ],
           [
            2.9551233769502163,
            3.007853200551815,
            3.030821704166571,
            3.0711862511794195,
            3.0732810216492714,
            3.1059083345355956,
            2.86347671744769,
            3.1771263043553337,
            2.5707037553105403,
            2.629124034131398
           ],
           [
            1.1050206621445922,
            1.0997314692653937,
            1.0974275577886003,
            1.0933786939758654,
            1.0931685729419622,
            1.0898958111688601,
            1.1142135026612894,
            1.0827521199309076,
            1.143580804897261,
            1.1377208171022195
           ],
           [
            321.32475832940924,
            317.97577473357416,
            316.5169960657775,
            313.9533575673691,
            313.8203142256432,
            311.7480839739728,
            327.1454332022479,
            307.2248787674273,
            345.7400686576872,
            342.02967211031034
           ],
           [
            291.10254344309493,
            291.17321401532666,
            291.2039973023338,
            291.2580954471868,
            291.260902940512,
            291.30463134153,
            290.9797150050727,
            291.40008045052707,
            290.58732922877,
            290.665626371681
           ],
           [
            1.6719785733631758,
            1.6755769492569368,
            1.6771443603362448,
            1.6798989080098923,
            1.680041858830639,
            1.682268404040716,
            1.6657244441480032,
            1.6871284435458396,
            1.6457451023383438,
            1.649731804903558
           ],
           [
            0.11919291372628255,
            0.11061775988752824,
            0.10688252167716292,
            0.10031826303518421,
            0.09997760232727856,
            0.0946716064366168,
            0.13409689311335324,
            0.0830898296436161,
            0.18170890883186844,
            0.1722083483525311
           ],
           [
            0.20778242828269605,
            0.21214811916362913,
            0.2140497638104467,
            0.21739168917204882,
            0.21756512271901035,
            0.2202664547661909,
            0.2001946732262572,
            0.22616284546436063,
            0.1759549514960452,
            0.18079177553772574
           ],
           [
            0.6730246579910214,
            0.6772341209488426,
            0.6790677145123903,
            0.682290047792767,
            0.682457274953711,
            0.6850619387971922,
            0.6657084336603896,
            0.6907473248920233,
            0.6423361396720864,
            0.6469998761097432
           ],
           [
            0.145,
            0.146,
            0.147,
            0.148,
            0.149,
            0.151,
            0.153,
            0.157,
            0.159,
            0.165
           ]
          ]
         },
         "columnwidth": 1000,
         "header": {
          "align": "left",
          "fill": {
           "color": "lavender"
          },
          "font": {
           "size": 12
          },
          "height": 30,
          "values": [
           "Phase 1 Electrical conductivity, [S/m]",
           "Phase 2 Electrical conductivity, [S/m]",
           "Phase 3 Electrical conductivity, [S/m]",
           "Phase 1 Thermal conductivity, [W/m/K]",
           "Phase 2 Thermal conductivity, [W/m/K]",
           "Phase 3 Thermal conductivity, [W/m/K]",
           "Phase 1 Bulk modulus, [GPa]",
           "Phase 2 Bulk modulus, [GPa]",
           "Phase 3 Bulk modulus, [GPa]",
           "Phase 1 Shear modulus, [GPa]",
           "Phase 2 Shear modulus, [GPa]",
           "Phase 3 Shear modulus, [GPa]",
           "Phase 1 Universal anisotropy, []",
           "Phase 2 Universal anisotropy, []",
           "Phase 3 Universal anisotropy, []",
           "Phase 1 Volume Fraction",
           "Phase 2 Volume Fraction",
           "Phase 3 Volume Fraction",
           "cost"
          ]
         },
         "type": "table"
        }
       ],
       "layout": {
        "autosize": true,
        "height": 400,
        "margin": {
         "b": 0,
         "l": 0,
         "r": 0,
         "t": 40
        },
        "template": {
         "data": {
          "bar": [
           {
            "error_x": {
             "color": "rgb(36,36,36)"
            },
            "error_y": {
             "color": "rgb(36,36,36)"
            },
            "marker": {
             "line": {
              "color": "white",
              "width": 0.5
             },
             "pattern": {
              "fillmode": "overlay",
              "size": 10,
              "solidity": 0.2
             }
            },
            "type": "bar"
           }
          ],
          "barpolar": [
           {
            "marker": {
             "line": {
              "color": "white",
              "width": 0.5
             },
             "pattern": {
              "fillmode": "overlay",
              "size": 10,
              "solidity": 0.2
             }
            },
            "type": "barpolar"
           }
          ],
          "carpet": [
           {
            "aaxis": {
             "endlinecolor": "rgb(36,36,36)",
             "gridcolor": "white",
             "linecolor": "white",
             "minorgridcolor": "white",
             "startlinecolor": "rgb(36,36,36)"
            },
            "baxis": {
             "endlinecolor": "rgb(36,36,36)",
             "gridcolor": "white",
             "linecolor": "white",
             "minorgridcolor": "white",
             "startlinecolor": "rgb(36,36,36)"
            },
            "type": "carpet"
           }
          ],
          "choropleth": [
           {
            "colorbar": {
             "outlinewidth": 1,
             "tickcolor": "rgb(36,36,36)",
             "ticks": "outside"
            },
            "type": "choropleth"
           }
          ],
          "contour": [
           {
            "colorbar": {
             "outlinewidth": 1,
             "tickcolor": "rgb(36,36,36)",
             "ticks": "outside"
            },
            "colorscale": [
             [
              0,
              "#440154"
             ],
             [
              0.1111111111111111,
              "#482878"
             ],
             [
              0.2222222222222222,
              "#3e4989"
             ],
             [
              0.3333333333333333,
              "#31688e"
             ],
             [
              0.4444444444444444,
              "#26828e"
             ],
             [
              0.5555555555555556,
              "#1f9e89"
             ],
             [
              0.6666666666666666,
              "#35b779"
             ],
             [
              0.7777777777777778,
              "#6ece58"
             ],
             [
              0.8888888888888888,
              "#b5de2b"
             ],
             [
              1,
              "#fde725"
             ]
            ],
            "type": "contour"
           }
          ],
          "contourcarpet": [
           {
            "colorbar": {
             "outlinewidth": 1,
             "tickcolor": "rgb(36,36,36)",
             "ticks": "outside"
            },
            "type": "contourcarpet"
           }
          ],
          "heatmap": [
           {
            "colorbar": {
             "outlinewidth": 1,
             "tickcolor": "rgb(36,36,36)",
             "ticks": "outside"
            },
            "colorscale": [
             [
              0,
              "#440154"
             ],
             [
              0.1111111111111111,
              "#482878"
             ],
             [
              0.2222222222222222,
              "#3e4989"
             ],
             [
              0.3333333333333333,
              "#31688e"
             ],
             [
              0.4444444444444444,
              "#26828e"
             ],
             [
              0.5555555555555556,
              "#1f9e89"
             ],
             [
              0.6666666666666666,
              "#35b779"
             ],
             [
              0.7777777777777778,
              "#6ece58"
             ],
             [
              0.8888888888888888,
              "#b5de2b"
             ],
             [
              1,
              "#fde725"
             ]
            ],
            "type": "heatmap"
           }
          ],
          "heatmapgl": [
           {
            "colorbar": {
             "outlinewidth": 1,
             "tickcolor": "rgb(36,36,36)",
             "ticks": "outside"
            },
            "colorscale": [
             [
              0,
              "#440154"
             ],
             [
              0.1111111111111111,
              "#482878"
             ],
             [
              0.2222222222222222,
              "#3e4989"
             ],
             [
              0.3333333333333333,
              "#31688e"
             ],
             [
              0.4444444444444444,
              "#26828e"
             ],
             [
              0.5555555555555556,
              "#1f9e89"
             ],
             [
              0.6666666666666666,
              "#35b779"
             ],
             [
              0.7777777777777778,
              "#6ece58"
             ],
             [
              0.8888888888888888,
              "#b5de2b"
             ],
             [
              1,
              "#fde725"
             ]
            ],
            "type": "heatmapgl"
           }
          ],
          "histogram": [
           {
            "marker": {
             "line": {
              "color": "white",
              "width": 0.6
             }
            },
            "type": "histogram"
           }
          ],
          "histogram2d": [
           {
            "colorbar": {
             "outlinewidth": 1,
             "tickcolor": "rgb(36,36,36)",
             "ticks": "outside"
            },
            "colorscale": [
             [
              0,
              "#440154"
             ],
             [
              0.1111111111111111,
              "#482878"
             ],
             [
              0.2222222222222222,
              "#3e4989"
             ],
             [
              0.3333333333333333,
              "#31688e"
             ],
             [
              0.4444444444444444,
              "#26828e"
             ],
             [
              0.5555555555555556,
              "#1f9e89"
             ],
             [
              0.6666666666666666,
              "#35b779"
             ],
             [
              0.7777777777777778,
              "#6ece58"
             ],
             [
              0.8888888888888888,
              "#b5de2b"
             ],
             [
              1,
              "#fde725"
             ]
            ],
            "type": "histogram2d"
           }
          ],
          "histogram2dcontour": [
           {
            "colorbar": {
             "outlinewidth": 1,
             "tickcolor": "rgb(36,36,36)",
             "ticks": "outside"
            },
            "colorscale": [
             [
              0,
              "#440154"
             ],
             [
              0.1111111111111111,
              "#482878"
             ],
             [
              0.2222222222222222,
              "#3e4989"
             ],
             [
              0.3333333333333333,
              "#31688e"
             ],
             [
              0.4444444444444444,
              "#26828e"
             ],
             [
              0.5555555555555556,
              "#1f9e89"
             ],
             [
              0.6666666666666666,
              "#35b779"
             ],
             [
              0.7777777777777778,
              "#6ece58"
             ],
             [
              0.8888888888888888,
              "#b5de2b"
             ],
             [
              1,
              "#fde725"
             ]
            ],
            "type": "histogram2dcontour"
           }
          ],
          "mesh3d": [
           {
            "colorbar": {
             "outlinewidth": 1,
             "tickcolor": "rgb(36,36,36)",
             "ticks": "outside"
            },
            "type": "mesh3d"
           }
          ],
          "parcoords": [
           {
            "line": {
             "colorbar": {
              "outlinewidth": 1,
              "tickcolor": "rgb(36,36,36)",
              "ticks": "outside"
             }
            },
            "type": "parcoords"
           }
          ],
          "pie": [
           {
            "automargin": true,
            "type": "pie"
           }
          ],
          "scatter": [
           {
            "fillpattern": {
             "fillmode": "overlay",
             "size": 10,
             "solidity": 0.2
            },
            "type": "scatter"
           }
          ],
          "scatter3d": [
           {
            "line": {
             "colorbar": {
              "outlinewidth": 1,
              "tickcolor": "rgb(36,36,36)",
              "ticks": "outside"
             }
            },
            "marker": {
             "colorbar": {
              "outlinewidth": 1,
              "tickcolor": "rgb(36,36,36)",
              "ticks": "outside"
             }
            },
            "type": "scatter3d"
           }
          ],
          "scattercarpet": [
           {
            "marker": {
             "colorbar": {
              "outlinewidth": 1,
              "tickcolor": "rgb(36,36,36)",
              "ticks": "outside"
             }
            },
            "type": "scattercarpet"
           }
          ],
          "scattergeo": [
           {
            "marker": {
             "colorbar": {
              "outlinewidth": 1,
              "tickcolor": "rgb(36,36,36)",
              "ticks": "outside"
             }
            },
            "type": "scattergeo"
           }
          ],
          "scattergl": [
           {
            "marker": {
             "colorbar": {
              "outlinewidth": 1,
              "tickcolor": "rgb(36,36,36)",
              "ticks": "outside"
             }
            },
            "type": "scattergl"
           }
          ],
          "scattermapbox": [
           {
            "marker": {
             "colorbar": {
              "outlinewidth": 1,
              "tickcolor": "rgb(36,36,36)",
              "ticks": "outside"
             }
            },
            "type": "scattermapbox"
           }
          ],
          "scatterpolar": [
           {
            "marker": {
             "colorbar": {
              "outlinewidth": 1,
              "tickcolor": "rgb(36,36,36)",
              "ticks": "outside"
             }
            },
            "type": "scatterpolar"
           }
          ],
          "scatterpolargl": [
           {
            "marker": {
             "colorbar": {
              "outlinewidth": 1,
              "tickcolor": "rgb(36,36,36)",
              "ticks": "outside"
             }
            },
            "type": "scatterpolargl"
           }
          ],
          "scatterternary": [
           {
            "marker": {
             "colorbar": {
              "outlinewidth": 1,
              "tickcolor": "rgb(36,36,36)",
              "ticks": "outside"
             }
            },
            "type": "scatterternary"
           }
          ],
          "surface": [
           {
            "colorbar": {
             "outlinewidth": 1,
             "tickcolor": "rgb(36,36,36)",
             "ticks": "outside"
            },
            "colorscale": [
             [
              0,
              "#440154"
             ],
             [
              0.1111111111111111,
              "#482878"
             ],
             [
              0.2222222222222222,
              "#3e4989"
             ],
             [
              0.3333333333333333,
              "#31688e"
             ],
             [
              0.4444444444444444,
              "#26828e"
             ],
             [
              0.5555555555555556,
              "#1f9e89"
             ],
             [
              0.6666666666666666,
              "#35b779"
             ],
             [
              0.7777777777777778,
              "#6ece58"
             ],
             [
              0.8888888888888888,
              "#b5de2b"
             ],
             [
              1,
              "#fde725"
             ]
            ],
            "type": "surface"
           }
          ],
          "table": [
           {
            "cells": {
             "fill": {
              "color": "rgb(237,237,237)"
             },
             "line": {
              "color": "white"
             }
            },
            "header": {
             "fill": {
              "color": "rgb(217,217,217)"
             },
             "line": {
              "color": "white"
             }
            },
            "type": "table"
           }
          ]
         },
         "layout": {
          "annotationdefaults": {
           "arrowhead": 0,
           "arrowwidth": 1
          },
          "autotypenumbers": "strict",
          "coloraxis": {
           "colorbar": {
            "outlinewidth": 1,
            "tickcolor": "rgb(36,36,36)",
            "ticks": "outside"
           }
          },
          "colorscale": {
           "diverging": [
            [
             0,
             "rgb(103,0,31)"
            ],
            [
             0.1,
             "rgb(178,24,43)"
            ],
            [
             0.2,
             "rgb(214,96,77)"
            ],
            [
             0.3,
             "rgb(244,165,130)"
            ],
            [
             0.4,
             "rgb(253,219,199)"
            ],
            [
             0.5,
             "rgb(247,247,247)"
            ],
            [
             0.6,
             "rgb(209,229,240)"
            ],
            [
             0.7,
             "rgb(146,197,222)"
            ],
            [
             0.8,
             "rgb(67,147,195)"
            ],
            [
             0.9,
             "rgb(33,102,172)"
            ],
            [
             1,
             "rgb(5,48,97)"
            ]
           ],
           "sequential": [
            [
             0,
             "#440154"
            ],
            [
             0.1111111111111111,
             "#482878"
            ],
            [
             0.2222222222222222,
             "#3e4989"
            ],
            [
             0.3333333333333333,
             "#31688e"
            ],
            [
             0.4444444444444444,
             "#26828e"
            ],
            [
             0.5555555555555556,
             "#1f9e89"
            ],
            [
             0.6666666666666666,
             "#35b779"
            ],
            [
             0.7777777777777778,
             "#6ece58"
            ],
            [
             0.8888888888888888,
             "#b5de2b"
            ],
            [
             1,
             "#fde725"
            ]
           ],
           "sequentialminus": [
            [
             0,
             "#440154"
            ],
            [
             0.1111111111111111,
             "#482878"
            ],
            [
             0.2222222222222222,
             "#3e4989"
            ],
            [
             0.3333333333333333,
             "#31688e"
            ],
            [
             0.4444444444444444,
             "#26828e"
            ],
            [
             0.5555555555555556,
             "#1f9e89"
            ],
            [
             0.6666666666666666,
             "#35b779"
            ],
            [
             0.7777777777777778,
             "#6ece58"
            ],
            [
             0.8888888888888888,
             "#b5de2b"
            ],
            [
             1,
             "#fde725"
            ]
           ]
          },
          "colorway": [
           "#1F77B4",
           "#FF7F0E",
           "#2CA02C",
           "#D62728",
           "#9467BD",
           "#8C564B",
           "#E377C2",
           "#7F7F7F",
           "#BCBD22",
           "#17BECF"
          ],
          "font": {
           "color": "rgb(36,36,36)"
          },
          "geo": {
           "bgcolor": "white",
           "lakecolor": "white",
           "landcolor": "white",
           "showlakes": true,
           "showland": true,
           "subunitcolor": "white"
          },
          "hoverlabel": {
           "align": "left"
          },
          "hovermode": "closest",
          "mapbox": {
           "style": "light"
          },
          "paper_bgcolor": "white",
          "plot_bgcolor": "white",
          "polar": {
           "angularaxis": {
            "gridcolor": "rgb(232,232,232)",
            "linecolor": "rgb(36,36,36)",
            "showgrid": false,
            "showline": true,
            "ticks": "outside"
           },
           "bgcolor": "white",
           "radialaxis": {
            "gridcolor": "rgb(232,232,232)",
            "linecolor": "rgb(36,36,36)",
            "showgrid": false,
            "showline": true,
            "ticks": "outside"
           }
          },
          "scene": {
           "xaxis": {
            "backgroundcolor": "white",
            "gridcolor": "rgb(232,232,232)",
            "gridwidth": 2,
            "linecolor": "rgb(36,36,36)",
            "showbackground": true,
            "showgrid": false,
            "showline": true,
            "ticks": "outside",
            "zeroline": false,
            "zerolinecolor": "rgb(36,36,36)"
           },
           "yaxis": {
            "backgroundcolor": "white",
            "gridcolor": "rgb(232,232,232)",
            "gridwidth": 2,
            "linecolor": "rgb(36,36,36)",
            "showbackground": true,
            "showgrid": false,
            "showline": true,
            "ticks": "outside",
            "zeroline": false,
            "zerolinecolor": "rgb(36,36,36)"
           },
           "zaxis": {
            "backgroundcolor": "white",
            "gridcolor": "rgb(232,232,232)",
            "gridwidth": 2,
            "linecolor": "rgb(36,36,36)",
            "showbackground": true,
            "showgrid": false,
            "showline": true,
            "ticks": "outside",
            "zeroline": false,
            "zerolinecolor": "rgb(36,36,36)"
           }
          },
          "shapedefaults": {
           "fillcolor": "black",
           "line": {
            "width": 0
           },
           "opacity": 0.3
          },
          "ternary": {
           "aaxis": {
            "gridcolor": "rgb(232,232,232)",
            "linecolor": "rgb(36,36,36)",
            "showgrid": false,
            "showline": true,
            "ticks": "outside"
           },
           "baxis": {
            "gridcolor": "rgb(232,232,232)",
            "linecolor": "rgb(36,36,36)",
            "showgrid": false,
            "showline": true,
            "ticks": "outside"
           },
           "bgcolor": "white",
           "caxis": {
            "gridcolor": "rgb(232,232,232)",
            "linecolor": "rgb(36,36,36)",
            "showgrid": false,
            "showline": true,
            "ticks": "outside"
           }
          },
          "title": {
           "x": 0.05
          },
          "xaxis": {
           "automargin": true,
           "gridcolor": "rgb(232,232,232)",
           "linecolor": "rgb(36,36,36)",
           "showgrid": false,
           "showline": true,
           "ticks": "outside",
           "title": {
            "standoff": 15
           },
           "zeroline": false,
           "zerolinecolor": "rgb(36,36,36)"
          },
          "yaxis": {
           "automargin": true,
           "gridcolor": "rgb(232,232,232)",
           "linecolor": "rgb(36,36,36)",
           "showgrid": false,
           "showline": true,
           "ticks": "outside",
           "title": {
            "standoff": 15
           },
           "zeroline": false,
           "zerolinecolor": "rgb(36,36,36)"
          }
         }
        },
        "title": {
         "font": {
          "size": 20
         },
         "text": "Optimal Properties Recommended by Genetic Algorithm",
         "x": 0.2
        }
       }
      }
     },
     "metadata": {},
     "output_type": "display_data"
    }
   ],
   "source": [
    "# Print the optimization results as a table\n",
    "HS.print_table_of_best_designs(rows=10)"
   ]
  },
  {
   "cell_type": "code",
   "execution_count": 6,
   "metadata": {},
   "outputs": [
    {
     "data": {
      "application/vnd.plotly.v1+json": {
       "config": {
        "plotlyServerURL": "https://plot.ly"
       },
       "data": [
        {
         "mode": "lines",
         "name": "Avg. of top 10 performers",
         "type": "scatter",
         "x": [
          0,
          1,
          2,
          3,
          4,
          5,
          6,
          7,
          8,
          9,
          10,
          11,
          12,
          13,
          14,
          15,
          16,
          17,
          18,
          19,
          20,
          21,
          22,
          23,
          24,
          25,
          26,
          27,
          28,
          29,
          30,
          31,
          32,
          33,
          34,
          35,
          36,
          37,
          38,
          39,
          40,
          41,
          42,
          43,
          44,
          45,
          46,
          47,
          48,
          49,
          50,
          51,
          52,
          53,
          54,
          55,
          56,
          57,
          58,
          59,
          60,
          61,
          62,
          63,
          64,
          65,
          66,
          67,
          68,
          69,
          70,
          71,
          72,
          73,
          74,
          75,
          76,
          77,
          78,
          79,
          80,
          81,
          82,
          83,
          84,
          85,
          86,
          87,
          88,
          89,
          90,
          91,
          92,
          93,
          94,
          95,
          96,
          97,
          98,
          99
         ],
         "y": [
          0.3010860446049942,
          0.27564310265585495,
          0.26654238084436044,
          0.2572713099469085,
          0.24881410291354672,
          0.24299183766876395,
          0.23475284081473236,
          0.222955431518634,
          0.2180073604681277,
          0.21373322753620153,
          0.20818394176856497,
          0.20412995710693904,
          0.20349891712206417,
          0.20344389987673672,
          0.20341668291915105,
          0.20341194528132975,
          0.20340820559080702,
          0.20340658060711858,
          0.20340635420282754,
          0.20340628390360355,
          0.20340625410315064,
          0.203406226905732,
          0.2034062112140918,
          0.2034062048093749,
          0.2034062042500783,
          0.20340620420575384,
          0.20340620419598684,
          0.2034062041925976,
          0.2034062041912732,
          0.20312010332920752,
          0.20230776975392278,
          0.20077066982455652,
          0.1977761084980949,
          0.1947002470979002,
          0.19369744873596512,
          0.19335552431085484,
          0.1933140532589598,
          0.1932907589073684,
          0.19325535026823434,
          0.19322684921019928,
          0.19321632385988896,
          0.19321003748717538,
          0.19320514915023418,
          0.19320316658606193,
          0.19320298346961925,
          0.19320297020620644,
          0.19320296601807013,
          0.19320296559115369,
          0.19320296556611274,
          0.19320296555804636,
          0.1932029655563726,
          0.19320296555629646,
          0.19320296555628325,
          0.19320296555627872,
          0.193202965556276,
          0.19320296555627345,
          0.19320296555627164,
          0.19320296555627153,
          0.1932029655562715,
          0.19320296555627148,
          0.19320296555627148,
          0.19320296555627145,
          0.19320296555627142,
          0.19320296555627142,
          0.19320296555627142,
          0.19183979966566272,
          0.19183979966566272,
          0.19183979966566272,
          0.19183979966566272,
          0.19183979966566272,
          0.19183979966566272,
          0.19183979966566272,
          0.19183979966566272,
          0.19183979966566272,
          0.19159545653751692,
          0.19159545653751692,
          0.19159545653751692,
          0.19159545653751692,
          0.19053593253951806,
          0.18783310502646472,
          0.18266338169960633,
          0.179611718022906,
          0.1795572905369386,
          0.17955684599099148,
          0.1795568105610129,
          0.17955679418461562,
          0.17955677434595912,
          0.17955675270513669,
          0.1795567489898397,
          0.17955674865422686,
          0.17955674850620418,
          0.1795567485019769,
          0.17955674849833944,
          0.17955674849664488,
          0.1773198311039022,
          0.1744904853832324,
          0.17330695550933162,
          0.1659031073969994,
          0.1555320342807078,
          0.14682984178104738
         ]
        },
        {
         "mode": "lines",
         "name": "Best costs",
         "type": "scatter",
         "x": [
          0,
          1,
          2,
          3,
          4,
          5,
          6,
          7,
          8,
          9,
          10,
          11,
          12,
          13,
          14,
          15,
          16,
          17,
          18,
          19,
          20,
          21,
          22,
          23,
          24,
          25,
          26,
          27,
          28,
          29,
          30,
          31,
          32,
          33,
          34,
          35,
          36,
          37,
          38,
          39,
          40,
          41,
          42,
          43,
          44,
          45,
          46,
          47,
          48,
          49,
          50,
          51,
          52,
          53,
          54,
          55,
          56,
          57,
          58,
          59,
          60,
          61,
          62,
          63,
          64,
          65,
          66,
          67,
          68,
          69,
          70,
          71,
          72,
          73,
          74,
          75,
          76,
          77,
          78,
          79,
          80,
          81,
          82,
          83,
          84,
          85,
          86,
          87,
          88,
          89,
          90,
          91,
          92,
          93,
          94,
          95,
          96,
          97,
          98,
          99
         ],
         "y": [
          0.27009453785290777,
          0.2513577018129912,
          0.2513577018129912,
          0.24456156736284715,
          0.23432881660584037,
          0.22353452739411628,
          0.21823803087844282,
          0.20340620418699085,
          0.20340620418699085,
          0.20340620418699085,
          0.20340620418699085,
          0.20340620418699085,
          0.20340620418699085,
          0.20340620418699085,
          0.20340620418699085,
          0.20340620418699085,
          0.20340620418699085,
          0.20340620418699085,
          0.20340620418699085,
          0.20340620418699085,
          0.20340620418699085,
          0.20340620418699085,
          0.20340620418699085,
          0.20340620418699085,
          0.20340620418699085,
          0.20340620418699085,
          0.20340620418699085,
          0.20340620418699085,
          0.20340620418699085,
          0.20054519558501532,
          0.19528286844955786,
          0.19528286844955786,
          0.19332687812989657,
          0.19332687812989657,
          0.19332687812989657,
          0.1932029655562715,
          0.1932029655562715,
          0.1932029655562715,
          0.1932029655562715,
          0.1932029655562715,
          0.1932029655562715,
          0.1932029655562715,
          0.1932029655562715,
          0.1932029655562715,
          0.1932029655562715,
          0.1932029655562715,
          0.1932029655562715,
          0.1932029655562715,
          0.1932029655562715,
          0.1932029655562715,
          0.1932029655562715,
          0.1932029655562715,
          0.1932029655562715,
          0.1932029655562715,
          0.1932029655562715,
          0.19320296555627148,
          0.19320296555627148,
          0.19320296555627148,
          0.19320296555627142,
          0.19320296555627142,
          0.19320296555627142,
          0.19320296555627142,
          0.19320296555627142,
          0.19320296555627142,
          0.19320296555627142,
          0.17957130665018445,
          0.17957130665018445,
          0.17957130665018445,
          0.17957130665018445,
          0.17957130665018445,
          0.17957130665018445,
          0.17957130665018445,
          0.17957130665018445,
          0.17957130665018445,
          0.17957130665018445,
          0.17957130665018445,
          0.17957130665018445,
          0.17957130665018445,
          0.17957130665018445,
          0.17957130665018445,
          0.17955708415016017,
          0.179556806972285,
          0.179556806972285,
          0.179556806972285,
          0.17955674942678945,
          0.1795567484958437,
          0.1795567484958437,
          0.1795567484958437,
          0.1795567484958437,
          0.1795567484958437,
          0.1795567484958437,
          0.1795567484958437,
          0.1795567484958437,
          0.1795567484958437,
          0.157187574575325,
          0.157187574575325,
          0.157187574575325,
          0.14880568163535687,
          0.14513066237125755,
          0.14509083089107483
         ]
        }
       ],
       "layout": {
        "height": 400,
        "legend": {
         "bgcolor": "rgba(255, 255, 255, 0.5)",
         "font": {
          "size": 14
         },
         "x": 1,
         "xanchor": "right",
         "y": 1,
         "yanchor": "top"
        },
        "margin": {
         "b": 50,
         "l": 50,
         "r": 50,
         "t": 50
        },
        "template": {
         "data": {
          "bar": [
           {
            "error_x": {
             "color": "rgb(36,36,36)"
            },
            "error_y": {
             "color": "rgb(36,36,36)"
            },
            "marker": {
             "line": {
              "color": "white",
              "width": 0.5
             },
             "pattern": {
              "fillmode": "overlay",
              "size": 10,
              "solidity": 0.2
             }
            },
            "type": "bar"
           }
          ],
          "barpolar": [
           {
            "marker": {
             "line": {
              "color": "white",
              "width": 0.5
             },
             "pattern": {
              "fillmode": "overlay",
              "size": 10,
              "solidity": 0.2
             }
            },
            "type": "barpolar"
           }
          ],
          "carpet": [
           {
            "aaxis": {
             "endlinecolor": "rgb(36,36,36)",
             "gridcolor": "white",
             "linecolor": "white",
             "minorgridcolor": "white",
             "startlinecolor": "rgb(36,36,36)"
            },
            "baxis": {
             "endlinecolor": "rgb(36,36,36)",
             "gridcolor": "white",
             "linecolor": "white",
             "minorgridcolor": "white",
             "startlinecolor": "rgb(36,36,36)"
            },
            "type": "carpet"
           }
          ],
          "choropleth": [
           {
            "colorbar": {
             "outlinewidth": 1,
             "tickcolor": "rgb(36,36,36)",
             "ticks": "outside"
            },
            "type": "choropleth"
           }
          ],
          "contour": [
           {
            "colorbar": {
             "outlinewidth": 1,
             "tickcolor": "rgb(36,36,36)",
             "ticks": "outside"
            },
            "colorscale": [
             [
              0,
              "#440154"
             ],
             [
              0.1111111111111111,
              "#482878"
             ],
             [
              0.2222222222222222,
              "#3e4989"
             ],
             [
              0.3333333333333333,
              "#31688e"
             ],
             [
              0.4444444444444444,
              "#26828e"
             ],
             [
              0.5555555555555556,
              "#1f9e89"
             ],
             [
              0.6666666666666666,
              "#35b779"
             ],
             [
              0.7777777777777778,
              "#6ece58"
             ],
             [
              0.8888888888888888,
              "#b5de2b"
             ],
             [
              1,
              "#fde725"
             ]
            ],
            "type": "contour"
           }
          ],
          "contourcarpet": [
           {
            "colorbar": {
             "outlinewidth": 1,
             "tickcolor": "rgb(36,36,36)",
             "ticks": "outside"
            },
            "type": "contourcarpet"
           }
          ],
          "heatmap": [
           {
            "colorbar": {
             "outlinewidth": 1,
             "tickcolor": "rgb(36,36,36)",
             "ticks": "outside"
            },
            "colorscale": [
             [
              0,
              "#440154"
             ],
             [
              0.1111111111111111,
              "#482878"
             ],
             [
              0.2222222222222222,
              "#3e4989"
             ],
             [
              0.3333333333333333,
              "#31688e"
             ],
             [
              0.4444444444444444,
              "#26828e"
             ],
             [
              0.5555555555555556,
              "#1f9e89"
             ],
             [
              0.6666666666666666,
              "#35b779"
             ],
             [
              0.7777777777777778,
              "#6ece58"
             ],
             [
              0.8888888888888888,
              "#b5de2b"
             ],
             [
              1,
              "#fde725"
             ]
            ],
            "type": "heatmap"
           }
          ],
          "heatmapgl": [
           {
            "colorbar": {
             "outlinewidth": 1,
             "tickcolor": "rgb(36,36,36)",
             "ticks": "outside"
            },
            "colorscale": [
             [
              0,
              "#440154"
             ],
             [
              0.1111111111111111,
              "#482878"
             ],
             [
              0.2222222222222222,
              "#3e4989"
             ],
             [
              0.3333333333333333,
              "#31688e"
             ],
             [
              0.4444444444444444,
              "#26828e"
             ],
             [
              0.5555555555555556,
              "#1f9e89"
             ],
             [
              0.6666666666666666,
              "#35b779"
             ],
             [
              0.7777777777777778,
              "#6ece58"
             ],
             [
              0.8888888888888888,
              "#b5de2b"
             ],
             [
              1,
              "#fde725"
             ]
            ],
            "type": "heatmapgl"
           }
          ],
          "histogram": [
           {
            "marker": {
             "line": {
              "color": "white",
              "width": 0.6
             }
            },
            "type": "histogram"
           }
          ],
          "histogram2d": [
           {
            "colorbar": {
             "outlinewidth": 1,
             "tickcolor": "rgb(36,36,36)",
             "ticks": "outside"
            },
            "colorscale": [
             [
              0,
              "#440154"
             ],
             [
              0.1111111111111111,
              "#482878"
             ],
             [
              0.2222222222222222,
              "#3e4989"
             ],
             [
              0.3333333333333333,
              "#31688e"
             ],
             [
              0.4444444444444444,
              "#26828e"
             ],
             [
              0.5555555555555556,
              "#1f9e89"
             ],
             [
              0.6666666666666666,
              "#35b779"
             ],
             [
              0.7777777777777778,
              "#6ece58"
             ],
             [
              0.8888888888888888,
              "#b5de2b"
             ],
             [
              1,
              "#fde725"
             ]
            ],
            "type": "histogram2d"
           }
          ],
          "histogram2dcontour": [
           {
            "colorbar": {
             "outlinewidth": 1,
             "tickcolor": "rgb(36,36,36)",
             "ticks": "outside"
            },
            "colorscale": [
             [
              0,
              "#440154"
             ],
             [
              0.1111111111111111,
              "#482878"
             ],
             [
              0.2222222222222222,
              "#3e4989"
             ],
             [
              0.3333333333333333,
              "#31688e"
             ],
             [
              0.4444444444444444,
              "#26828e"
             ],
             [
              0.5555555555555556,
              "#1f9e89"
             ],
             [
              0.6666666666666666,
              "#35b779"
             ],
             [
              0.7777777777777778,
              "#6ece58"
             ],
             [
              0.8888888888888888,
              "#b5de2b"
             ],
             [
              1,
              "#fde725"
             ]
            ],
            "type": "histogram2dcontour"
           }
          ],
          "mesh3d": [
           {
            "colorbar": {
             "outlinewidth": 1,
             "tickcolor": "rgb(36,36,36)",
             "ticks": "outside"
            },
            "type": "mesh3d"
           }
          ],
          "parcoords": [
           {
            "line": {
             "colorbar": {
              "outlinewidth": 1,
              "tickcolor": "rgb(36,36,36)",
              "ticks": "outside"
             }
            },
            "type": "parcoords"
           }
          ],
          "pie": [
           {
            "automargin": true,
            "type": "pie"
           }
          ],
          "scatter": [
           {
            "fillpattern": {
             "fillmode": "overlay",
             "size": 10,
             "solidity": 0.2
            },
            "type": "scatter"
           }
          ],
          "scatter3d": [
           {
            "line": {
             "colorbar": {
              "outlinewidth": 1,
              "tickcolor": "rgb(36,36,36)",
              "ticks": "outside"
             }
            },
            "marker": {
             "colorbar": {
              "outlinewidth": 1,
              "tickcolor": "rgb(36,36,36)",
              "ticks": "outside"
             }
            },
            "type": "scatter3d"
           }
          ],
          "scattercarpet": [
           {
            "marker": {
             "colorbar": {
              "outlinewidth": 1,
              "tickcolor": "rgb(36,36,36)",
              "ticks": "outside"
             }
            },
            "type": "scattercarpet"
           }
          ],
          "scattergeo": [
           {
            "marker": {
             "colorbar": {
              "outlinewidth": 1,
              "tickcolor": "rgb(36,36,36)",
              "ticks": "outside"
             }
            },
            "type": "scattergeo"
           }
          ],
          "scattergl": [
           {
            "marker": {
             "colorbar": {
              "outlinewidth": 1,
              "tickcolor": "rgb(36,36,36)",
              "ticks": "outside"
             }
            },
            "type": "scattergl"
           }
          ],
          "scattermapbox": [
           {
            "marker": {
             "colorbar": {
              "outlinewidth": 1,
              "tickcolor": "rgb(36,36,36)",
              "ticks": "outside"
             }
            },
            "type": "scattermapbox"
           }
          ],
          "scatterpolar": [
           {
            "marker": {
             "colorbar": {
              "outlinewidth": 1,
              "tickcolor": "rgb(36,36,36)",
              "ticks": "outside"
             }
            },
            "type": "scatterpolar"
           }
          ],
          "scatterpolargl": [
           {
            "marker": {
             "colorbar": {
              "outlinewidth": 1,
              "tickcolor": "rgb(36,36,36)",
              "ticks": "outside"
             }
            },
            "type": "scatterpolargl"
           }
          ],
          "scatterternary": [
           {
            "marker": {
             "colorbar": {
              "outlinewidth": 1,
              "tickcolor": "rgb(36,36,36)",
              "ticks": "outside"
             }
            },
            "type": "scatterternary"
           }
          ],
          "surface": [
           {
            "colorbar": {
             "outlinewidth": 1,
             "tickcolor": "rgb(36,36,36)",
             "ticks": "outside"
            },
            "colorscale": [
             [
              0,
              "#440154"
             ],
             [
              0.1111111111111111,
              "#482878"
             ],
             [
              0.2222222222222222,
              "#3e4989"
             ],
             [
              0.3333333333333333,
              "#31688e"
             ],
             [
              0.4444444444444444,
              "#26828e"
             ],
             [
              0.5555555555555556,
              "#1f9e89"
             ],
             [
              0.6666666666666666,
              "#35b779"
             ],
             [
              0.7777777777777778,
              "#6ece58"
             ],
             [
              0.8888888888888888,
              "#b5de2b"
             ],
             [
              1,
              "#fde725"
             ]
            ],
            "type": "surface"
           }
          ],
          "table": [
           {
            "cells": {
             "fill": {
              "color": "rgb(237,237,237)"
             },
             "line": {
              "color": "white"
             }
            },
            "header": {
             "fill": {
              "color": "rgb(217,217,217)"
             },
             "line": {
              "color": "white"
             }
            },
            "type": "table"
           }
          ]
         },
         "layout": {
          "annotationdefaults": {
           "arrowhead": 0,
           "arrowwidth": 1
          },
          "autotypenumbers": "strict",
          "coloraxis": {
           "colorbar": {
            "outlinewidth": 1,
            "tickcolor": "rgb(36,36,36)",
            "ticks": "outside"
           }
          },
          "colorscale": {
           "diverging": [
            [
             0,
             "rgb(103,0,31)"
            ],
            [
             0.1,
             "rgb(178,24,43)"
            ],
            [
             0.2,
             "rgb(214,96,77)"
            ],
            [
             0.3,
             "rgb(244,165,130)"
            ],
            [
             0.4,
             "rgb(253,219,199)"
            ],
            [
             0.5,
             "rgb(247,247,247)"
            ],
            [
             0.6,
             "rgb(209,229,240)"
            ],
            [
             0.7,
             "rgb(146,197,222)"
            ],
            [
             0.8,
             "rgb(67,147,195)"
            ],
            [
             0.9,
             "rgb(33,102,172)"
            ],
            [
             1,
             "rgb(5,48,97)"
            ]
           ],
           "sequential": [
            [
             0,
             "#440154"
            ],
            [
             0.1111111111111111,
             "#482878"
            ],
            [
             0.2222222222222222,
             "#3e4989"
            ],
            [
             0.3333333333333333,
             "#31688e"
            ],
            [
             0.4444444444444444,
             "#26828e"
            ],
            [
             0.5555555555555556,
             "#1f9e89"
            ],
            [
             0.6666666666666666,
             "#35b779"
            ],
            [
             0.7777777777777778,
             "#6ece58"
            ],
            [
             0.8888888888888888,
             "#b5de2b"
            ],
            [
             1,
             "#fde725"
            ]
           ],
           "sequentialminus": [
            [
             0,
             "#440154"
            ],
            [
             0.1111111111111111,
             "#482878"
            ],
            [
             0.2222222222222222,
             "#3e4989"
            ],
            [
             0.3333333333333333,
             "#31688e"
            ],
            [
             0.4444444444444444,
             "#26828e"
            ],
            [
             0.5555555555555556,
             "#1f9e89"
            ],
            [
             0.6666666666666666,
             "#35b779"
            ],
            [
             0.7777777777777778,
             "#6ece58"
            ],
            [
             0.8888888888888888,
             "#b5de2b"
            ],
            [
             1,
             "#fde725"
            ]
           ]
          },
          "colorway": [
           "#1F77B4",
           "#FF7F0E",
           "#2CA02C",
           "#D62728",
           "#9467BD",
           "#8C564B",
           "#E377C2",
           "#7F7F7F",
           "#BCBD22",
           "#17BECF"
          ],
          "font": {
           "color": "rgb(36,36,36)"
          },
          "geo": {
           "bgcolor": "white",
           "lakecolor": "white",
           "landcolor": "white",
           "showlakes": true,
           "showland": true,
           "subunitcolor": "white"
          },
          "hoverlabel": {
           "align": "left"
          },
          "hovermode": "closest",
          "mapbox": {
           "style": "light"
          },
          "paper_bgcolor": "white",
          "plot_bgcolor": "white",
          "polar": {
           "angularaxis": {
            "gridcolor": "rgb(232,232,232)",
            "linecolor": "rgb(36,36,36)",
            "showgrid": false,
            "showline": true,
            "ticks": "outside"
           },
           "bgcolor": "white",
           "radialaxis": {
            "gridcolor": "rgb(232,232,232)",
            "linecolor": "rgb(36,36,36)",
            "showgrid": false,
            "showline": true,
            "ticks": "outside"
           }
          },
          "scene": {
           "xaxis": {
            "backgroundcolor": "white",
            "gridcolor": "rgb(232,232,232)",
            "gridwidth": 2,
            "linecolor": "rgb(36,36,36)",
            "showbackground": true,
            "showgrid": false,
            "showline": true,
            "ticks": "outside",
            "zeroline": false,
            "zerolinecolor": "rgb(36,36,36)"
           },
           "yaxis": {
            "backgroundcolor": "white",
            "gridcolor": "rgb(232,232,232)",
            "gridwidth": 2,
            "linecolor": "rgb(36,36,36)",
            "showbackground": true,
            "showgrid": false,
            "showline": true,
            "ticks": "outside",
            "zeroline": false,
            "zerolinecolor": "rgb(36,36,36)"
           },
           "zaxis": {
            "backgroundcolor": "white",
            "gridcolor": "rgb(232,232,232)",
            "gridwidth": 2,
            "linecolor": "rgb(36,36,36)",
            "showbackground": true,
            "showgrid": false,
            "showline": true,
            "ticks": "outside",
            "zeroline": false,
            "zerolinecolor": "rgb(36,36,36)"
           }
          },
          "shapedefaults": {
           "fillcolor": "black",
           "line": {
            "width": 0
           },
           "opacity": 0.3
          },
          "ternary": {
           "aaxis": {
            "gridcolor": "rgb(232,232,232)",
            "linecolor": "rgb(36,36,36)",
            "showgrid": false,
            "showline": true,
            "ticks": "outside"
           },
           "baxis": {
            "gridcolor": "rgb(232,232,232)",
            "linecolor": "rgb(36,36,36)",
            "showgrid": false,
            "showline": true,
            "ticks": "outside"
           },
           "bgcolor": "white",
           "caxis": {
            "gridcolor": "rgb(232,232,232)",
            "linecolor": "rgb(36,36,36)",
            "showgrid": false,
            "showline": true,
            "ticks": "outside"
           }
          },
          "title": {
           "x": 0.05
          },
          "xaxis": {
           "automargin": true,
           "gridcolor": "rgb(232,232,232)",
           "linecolor": "rgb(36,36,36)",
           "showgrid": false,
           "showline": true,
           "ticks": "outside",
           "title": {
            "standoff": 15
           },
           "zeroline": false,
           "zerolinecolor": "rgb(36,36,36)"
          },
          "yaxis": {
           "automargin": true,
           "gridcolor": "rgb(232,232,232)",
           "linecolor": "rgb(36,36,36)",
           "showgrid": false,
           "showline": true,
           "ticks": "outside",
           "title": {
            "standoff": 15
           },
           "zeroline": false,
           "zerolinecolor": "rgb(36,36,36)"
          }
         }
        },
        "title": {
         "font": {
          "size": 24
         },
         "text": "Convergence of Genetic Algorithm",
         "x": 0.25
        },
        "width": 600,
        "xaxis": {
         "title": {
          "font": {
           "size": 20
          },
          "text": "Generation"
         }
        },
        "yaxis": {
         "title": {
          "font": {
           "size": 20
          },
          "text": "Cost"
         }
        }
       }
      }
     },
     "metadata": {},
     "output_type": "display_data"
    }
   ],
   "source": [
    "# Plot the genetic algorithm convergence plot\n",
    "HS.plot_optimization_results()"
   ]
  },
  {
   "cell_type": "code",
   "execution_count": 7,
   "metadata": {},
   "outputs": [
    {
     "data": {
      "application/vnd.plotly.v1+json": {
       "config": {
        "plotlyServerURL": "https://plot.ly"
       },
       "data": [
        {
         "hole": 0.25,
         "insidetextorientation": "radial",
         "labels": [
          "eff. elec_cond_300k_low_doping",
          "eff. therm_cond_300k_low_doping",
          "eff. bulk_modulus",
          "eff. shear_modulus",
          "eff. universal_anisotropy",
          "cf load on elec_cond_300k_low_doping",
          "cf response from elec_cond_300k_low_doping",
          "cf load on therm_cond_300k_low_doping",
          "cf response from therm_cond_300k_low_doping",
          "cf hydrostatic stress",
          "cf deviatoric stress",
          "cf load on universal_anisotropy",
          "cf response from universal_anisotropy"
         ],
         "textinfo": "percent",
         "type": "pie",
         "values": [
          0.0021581655788655858,
          0.027330769894230285,
          0.013744357633460132,
          0.003965437446042288,
          0.0048460855817061355,
          0.0010001688083006006,
          0,
          0.0015167391323232117,
          0.0054870528795312795,
          0.0010304396221729672,
          0.009304171515505263,
          0,
          0,
          0.0018305529597019469,
          0.001893690105448177,
          0.003624858272338281,
          0.006311083290383752,
          0.0053253866900434595,
          0,
          0.0022254682846128853,
          0.018811974798518583,
          0.000020726655995510673,
          0.00014875571366438142,
          0,
          0,
          0.016247386080797004,
          0.015629506823069718,
          0.0012449863201703152,
          0.001393066804193063
         ]
        }
       ],
       "layout": {
        "showlegend": true,
        "template": {
         "data": {
          "bar": [
           {
            "error_x": {
             "color": "rgb(36,36,36)"
            },
            "error_y": {
             "color": "rgb(36,36,36)"
            },
            "marker": {
             "line": {
              "color": "white",
              "width": 0.5
             },
             "pattern": {
              "fillmode": "overlay",
              "size": 10,
              "solidity": 0.2
             }
            },
            "type": "bar"
           }
          ],
          "barpolar": [
           {
            "marker": {
             "line": {
              "color": "white",
              "width": 0.5
             },
             "pattern": {
              "fillmode": "overlay",
              "size": 10,
              "solidity": 0.2
             }
            },
            "type": "barpolar"
           }
          ],
          "carpet": [
           {
            "aaxis": {
             "endlinecolor": "rgb(36,36,36)",
             "gridcolor": "white",
             "linecolor": "white",
             "minorgridcolor": "white",
             "startlinecolor": "rgb(36,36,36)"
            },
            "baxis": {
             "endlinecolor": "rgb(36,36,36)",
             "gridcolor": "white",
             "linecolor": "white",
             "minorgridcolor": "white",
             "startlinecolor": "rgb(36,36,36)"
            },
            "type": "carpet"
           }
          ],
          "choropleth": [
           {
            "colorbar": {
             "outlinewidth": 1,
             "tickcolor": "rgb(36,36,36)",
             "ticks": "outside"
            },
            "type": "choropleth"
           }
          ],
          "contour": [
           {
            "colorbar": {
             "outlinewidth": 1,
             "tickcolor": "rgb(36,36,36)",
             "ticks": "outside"
            },
            "colorscale": [
             [
              0,
              "#440154"
             ],
             [
              0.1111111111111111,
              "#482878"
             ],
             [
              0.2222222222222222,
              "#3e4989"
             ],
             [
              0.3333333333333333,
              "#31688e"
             ],
             [
              0.4444444444444444,
              "#26828e"
             ],
             [
              0.5555555555555556,
              "#1f9e89"
             ],
             [
              0.6666666666666666,
              "#35b779"
             ],
             [
              0.7777777777777778,
              "#6ece58"
             ],
             [
              0.8888888888888888,
              "#b5de2b"
             ],
             [
              1,
              "#fde725"
             ]
            ],
            "type": "contour"
           }
          ],
          "contourcarpet": [
           {
            "colorbar": {
             "outlinewidth": 1,
             "tickcolor": "rgb(36,36,36)",
             "ticks": "outside"
            },
            "type": "contourcarpet"
           }
          ],
          "heatmap": [
           {
            "colorbar": {
             "outlinewidth": 1,
             "tickcolor": "rgb(36,36,36)",
             "ticks": "outside"
            },
            "colorscale": [
             [
              0,
              "#440154"
             ],
             [
              0.1111111111111111,
              "#482878"
             ],
             [
              0.2222222222222222,
              "#3e4989"
             ],
             [
              0.3333333333333333,
              "#31688e"
             ],
             [
              0.4444444444444444,
              "#26828e"
             ],
             [
              0.5555555555555556,
              "#1f9e89"
             ],
             [
              0.6666666666666666,
              "#35b779"
             ],
             [
              0.7777777777777778,
              "#6ece58"
             ],
             [
              0.8888888888888888,
              "#b5de2b"
             ],
             [
              1,
              "#fde725"
             ]
            ],
            "type": "heatmap"
           }
          ],
          "heatmapgl": [
           {
            "colorbar": {
             "outlinewidth": 1,
             "tickcolor": "rgb(36,36,36)",
             "ticks": "outside"
            },
            "colorscale": [
             [
              0,
              "#440154"
             ],
             [
              0.1111111111111111,
              "#482878"
             ],
             [
              0.2222222222222222,
              "#3e4989"
             ],
             [
              0.3333333333333333,
              "#31688e"
             ],
             [
              0.4444444444444444,
              "#26828e"
             ],
             [
              0.5555555555555556,
              "#1f9e89"
             ],
             [
              0.6666666666666666,
              "#35b779"
             ],
             [
              0.7777777777777778,
              "#6ece58"
             ],
             [
              0.8888888888888888,
              "#b5de2b"
             ],
             [
              1,
              "#fde725"
             ]
            ],
            "type": "heatmapgl"
           }
          ],
          "histogram": [
           {
            "marker": {
             "line": {
              "color": "white",
              "width": 0.6
             }
            },
            "type": "histogram"
           }
          ],
          "histogram2d": [
           {
            "colorbar": {
             "outlinewidth": 1,
             "tickcolor": "rgb(36,36,36)",
             "ticks": "outside"
            },
            "colorscale": [
             [
              0,
              "#440154"
             ],
             [
              0.1111111111111111,
              "#482878"
             ],
             [
              0.2222222222222222,
              "#3e4989"
             ],
             [
              0.3333333333333333,
              "#31688e"
             ],
             [
              0.4444444444444444,
              "#26828e"
             ],
             [
              0.5555555555555556,
              "#1f9e89"
             ],
             [
              0.6666666666666666,
              "#35b779"
             ],
             [
              0.7777777777777778,
              "#6ece58"
             ],
             [
              0.8888888888888888,
              "#b5de2b"
             ],
             [
              1,
              "#fde725"
             ]
            ],
            "type": "histogram2d"
           }
          ],
          "histogram2dcontour": [
           {
            "colorbar": {
             "outlinewidth": 1,
             "tickcolor": "rgb(36,36,36)",
             "ticks": "outside"
            },
            "colorscale": [
             [
              0,
              "#440154"
             ],
             [
              0.1111111111111111,
              "#482878"
             ],
             [
              0.2222222222222222,
              "#3e4989"
             ],
             [
              0.3333333333333333,
              "#31688e"
             ],
             [
              0.4444444444444444,
              "#26828e"
             ],
             [
              0.5555555555555556,
              "#1f9e89"
             ],
             [
              0.6666666666666666,
              "#35b779"
             ],
             [
              0.7777777777777778,
              "#6ece58"
             ],
             [
              0.8888888888888888,
              "#b5de2b"
             ],
             [
              1,
              "#fde725"
             ]
            ],
            "type": "histogram2dcontour"
           }
          ],
          "mesh3d": [
           {
            "colorbar": {
             "outlinewidth": 1,
             "tickcolor": "rgb(36,36,36)",
             "ticks": "outside"
            },
            "type": "mesh3d"
           }
          ],
          "parcoords": [
           {
            "line": {
             "colorbar": {
              "outlinewidth": 1,
              "tickcolor": "rgb(36,36,36)",
              "ticks": "outside"
             }
            },
            "type": "parcoords"
           }
          ],
          "pie": [
           {
            "automargin": true,
            "type": "pie"
           }
          ],
          "scatter": [
           {
            "fillpattern": {
             "fillmode": "overlay",
             "size": 10,
             "solidity": 0.2
            },
            "type": "scatter"
           }
          ],
          "scatter3d": [
           {
            "line": {
             "colorbar": {
              "outlinewidth": 1,
              "tickcolor": "rgb(36,36,36)",
              "ticks": "outside"
             }
            },
            "marker": {
             "colorbar": {
              "outlinewidth": 1,
              "tickcolor": "rgb(36,36,36)",
              "ticks": "outside"
             }
            },
            "type": "scatter3d"
           }
          ],
          "scattercarpet": [
           {
            "marker": {
             "colorbar": {
              "outlinewidth": 1,
              "tickcolor": "rgb(36,36,36)",
              "ticks": "outside"
             }
            },
            "type": "scattercarpet"
           }
          ],
          "scattergeo": [
           {
            "marker": {
             "colorbar": {
              "outlinewidth": 1,
              "tickcolor": "rgb(36,36,36)",
              "ticks": "outside"
             }
            },
            "type": "scattergeo"
           }
          ],
          "scattergl": [
           {
            "marker": {
             "colorbar": {
              "outlinewidth": 1,
              "tickcolor": "rgb(36,36,36)",
              "ticks": "outside"
             }
            },
            "type": "scattergl"
           }
          ],
          "scattermapbox": [
           {
            "marker": {
             "colorbar": {
              "outlinewidth": 1,
              "tickcolor": "rgb(36,36,36)",
              "ticks": "outside"
             }
            },
            "type": "scattermapbox"
           }
          ],
          "scatterpolar": [
           {
            "marker": {
             "colorbar": {
              "outlinewidth": 1,
              "tickcolor": "rgb(36,36,36)",
              "ticks": "outside"
             }
            },
            "type": "scatterpolar"
           }
          ],
          "scatterpolargl": [
           {
            "marker": {
             "colorbar": {
              "outlinewidth": 1,
              "tickcolor": "rgb(36,36,36)",
              "ticks": "outside"
             }
            },
            "type": "scatterpolargl"
           }
          ],
          "scatterternary": [
           {
            "marker": {
             "colorbar": {
              "outlinewidth": 1,
              "tickcolor": "rgb(36,36,36)",
              "ticks": "outside"
             }
            },
            "type": "scatterternary"
           }
          ],
          "surface": [
           {
            "colorbar": {
             "outlinewidth": 1,
             "tickcolor": "rgb(36,36,36)",
             "ticks": "outside"
            },
            "colorscale": [
             [
              0,
              "#440154"
             ],
             [
              0.1111111111111111,
              "#482878"
             ],
             [
              0.2222222222222222,
              "#3e4989"
             ],
             [
              0.3333333333333333,
              "#31688e"
             ],
             [
              0.4444444444444444,
              "#26828e"
             ],
             [
              0.5555555555555556,
              "#1f9e89"
             ],
             [
              0.6666666666666666,
              "#35b779"
             ],
             [
              0.7777777777777778,
              "#6ece58"
             ],
             [
              0.8888888888888888,
              "#b5de2b"
             ],
             [
              1,
              "#fde725"
             ]
            ],
            "type": "surface"
           }
          ],
          "table": [
           {
            "cells": {
             "fill": {
              "color": "rgb(237,237,237)"
             },
             "line": {
              "color": "white"
             }
            },
            "header": {
             "fill": {
              "color": "rgb(217,217,217)"
             },
             "line": {
              "color": "white"
             }
            },
            "type": "table"
           }
          ]
         },
         "layout": {
          "annotationdefaults": {
           "arrowhead": 0,
           "arrowwidth": 1
          },
          "autotypenumbers": "strict",
          "coloraxis": {
           "colorbar": {
            "outlinewidth": 1,
            "tickcolor": "rgb(36,36,36)",
            "ticks": "outside"
           }
          },
          "colorscale": {
           "diverging": [
            [
             0,
             "rgb(103,0,31)"
            ],
            [
             0.1,
             "rgb(178,24,43)"
            ],
            [
             0.2,
             "rgb(214,96,77)"
            ],
            [
             0.3,
             "rgb(244,165,130)"
            ],
            [
             0.4,
             "rgb(253,219,199)"
            ],
            [
             0.5,
             "rgb(247,247,247)"
            ],
            [
             0.6,
             "rgb(209,229,240)"
            ],
            [
             0.7,
             "rgb(146,197,222)"
            ],
            [
             0.8,
             "rgb(67,147,195)"
            ],
            [
             0.9,
             "rgb(33,102,172)"
            ],
            [
             1,
             "rgb(5,48,97)"
            ]
           ],
           "sequential": [
            [
             0,
             "#440154"
            ],
            [
             0.1111111111111111,
             "#482878"
            ],
            [
             0.2222222222222222,
             "#3e4989"
            ],
            [
             0.3333333333333333,
             "#31688e"
            ],
            [
             0.4444444444444444,
             "#26828e"
            ],
            [
             0.5555555555555556,
             "#1f9e89"
            ],
            [
             0.6666666666666666,
             "#35b779"
            ],
            [
             0.7777777777777778,
             "#6ece58"
            ],
            [
             0.8888888888888888,
             "#b5de2b"
            ],
            [
             1,
             "#fde725"
            ]
           ],
           "sequentialminus": [
            [
             0,
             "#440154"
            ],
            [
             0.1111111111111111,
             "#482878"
            ],
            [
             0.2222222222222222,
             "#3e4989"
            ],
            [
             0.3333333333333333,
             "#31688e"
            ],
            [
             0.4444444444444444,
             "#26828e"
            ],
            [
             0.5555555555555556,
             "#1f9e89"
            ],
            [
             0.6666666666666666,
             "#35b779"
            ],
            [
             0.7777777777777778,
             "#6ece58"
            ],
            [
             0.8888888888888888,
             "#b5de2b"
            ],
            [
             1,
             "#fde725"
            ]
           ]
          },
          "colorway": [
           "#1F77B4",
           "#FF7F0E",
           "#2CA02C",
           "#D62728",
           "#9467BD",
           "#8C564B",
           "#E377C2",
           "#7F7F7F",
           "#BCBD22",
           "#17BECF"
          ],
          "font": {
           "color": "rgb(36,36,36)"
          },
          "geo": {
           "bgcolor": "white",
           "lakecolor": "white",
           "landcolor": "white",
           "showlakes": true,
           "showland": true,
           "subunitcolor": "white"
          },
          "hoverlabel": {
           "align": "left"
          },
          "hovermode": "closest",
          "mapbox": {
           "style": "light"
          },
          "paper_bgcolor": "white",
          "plot_bgcolor": "white",
          "polar": {
           "angularaxis": {
            "gridcolor": "rgb(232,232,232)",
            "linecolor": "rgb(36,36,36)",
            "showgrid": false,
            "showline": true,
            "ticks": "outside"
           },
           "bgcolor": "white",
           "radialaxis": {
            "gridcolor": "rgb(232,232,232)",
            "linecolor": "rgb(36,36,36)",
            "showgrid": false,
            "showline": true,
            "ticks": "outside"
           }
          },
          "scene": {
           "xaxis": {
            "backgroundcolor": "white",
            "gridcolor": "rgb(232,232,232)",
            "gridwidth": 2,
            "linecolor": "rgb(36,36,36)",
            "showbackground": true,
            "showgrid": false,
            "showline": true,
            "ticks": "outside",
            "zeroline": false,
            "zerolinecolor": "rgb(36,36,36)"
           },
           "yaxis": {
            "backgroundcolor": "white",
            "gridcolor": "rgb(232,232,232)",
            "gridwidth": 2,
            "linecolor": "rgb(36,36,36)",
            "showbackground": true,
            "showgrid": false,
            "showline": true,
            "ticks": "outside",
            "zeroline": false,
            "zerolinecolor": "rgb(36,36,36)"
           },
           "zaxis": {
            "backgroundcolor": "white",
            "gridcolor": "rgb(232,232,232)",
            "gridwidth": 2,
            "linecolor": "rgb(36,36,36)",
            "showbackground": true,
            "showgrid": false,
            "showline": true,
            "ticks": "outside",
            "zeroline": false,
            "zerolinecolor": "rgb(36,36,36)"
           }
          },
          "shapedefaults": {
           "fillcolor": "black",
           "line": {
            "width": 0
           },
           "opacity": 0.3
          },
          "ternary": {
           "aaxis": {
            "gridcolor": "rgb(232,232,232)",
            "linecolor": "rgb(36,36,36)",
            "showgrid": false,
            "showline": true,
            "ticks": "outside"
           },
           "baxis": {
            "gridcolor": "rgb(232,232,232)",
            "linecolor": "rgb(36,36,36)",
            "showgrid": false,
            "showline": true,
            "ticks": "outside"
           },
           "bgcolor": "white",
           "caxis": {
            "gridcolor": "rgb(232,232,232)",
            "linecolor": "rgb(36,36,36)",
            "showgrid": false,
            "showline": true,
            "ticks": "outside"
           }
          },
          "title": {
           "x": 0.05
          },
          "xaxis": {
           "automargin": true,
           "gridcolor": "rgb(232,232,232)",
           "linecolor": "rgb(36,36,36)",
           "showgrid": false,
           "showline": true,
           "ticks": "outside",
           "title": {
            "standoff": 15
           },
           "zeroline": false,
           "zerolinecolor": "rgb(36,36,36)"
          },
          "yaxis": {
           "automargin": true,
           "gridcolor": "rgb(232,232,232)",
           "linecolor": "rgb(36,36,36)",
           "showgrid": false,
           "showline": true,
           "ticks": "outside",
           "title": {
            "standoff": 15
           },
           "zeroline": false,
           "zerolinecolor": "rgb(36,36,36)"
          }
         }
        },
        "title": {
         "text": "Cost Function Contributions"
        }
       }
      }
     },
     "metadata": {},
     "output_type": "display_data"
    },
    {
     "data": {
      "text/plain": [
       "0.14509083089107483"
      ]
     },
     "execution_count": 7,
     "metadata": {},
     "output_type": "execute_result"
    }
   ],
   "source": [
    "# Plot the contributions to the cost function for the best performer\n",
    "from member import Member\n",
    "best_design = Member(num_materials=HS.num_materials, \n",
    "                     num_properties=HS.num_properties,\n",
    "                     values=HS.final_population.values[0], \n",
    "                     property_categories=HS.property_categories,\n",
    "                     property_docs=HS.property_docs, \n",
    "                     desired_props=HS.desired_props, \n",
    "                     ga_params=HS.ga_params,\n",
    "                     calc_guide=HS.calc_guide)\n",
    "best_design.get_cost(plot_cost_func_contribs=True)"
   ]
  },
  {
   "cell_type": "code",
   "execution_count": 8,
   "metadata": {},
   "outputs": [
    {
     "name": "stdout",
     "output_type": "stream",
     "text": [
      "overall bounds dict: ({'elec_cond_300k_low_doping': {'upper_bound': 78.0, 'lower_bound': 1e-07}, 'therm_cond_300k_low_doping': {'upper_bound': 2.0, 'lower_bound': 1e-07}, 'bulk_modulus': {'upper_bound': 400.0, 'lower_bound': 20.0}, 'shear_modulus': {'upper_bound': 300.0, 'lower_bound': 80.0}, 'universal_anisotropy': {'upper_bound': 2.3, 'lower_bound': 0.9}}, {'mat_1': {'elec_cond_300k_low_doping': {'upper_bound': 78.0, 'lower_bound': 1e-07}, 'therm_cond_300k_low_doping': {'upper_bound': 2.0, 'lower_bound': 1e-07}, 'bulk_modulus': {'upper_bound': 100.0, 'lower_bound': 50.0}, 'shear_modulus': {'upper_bound': 100.0, 'lower_bound': 80.0}, 'universal_anisotropy': {'upper_bound': 2.0, 'lower_bound': 1.0}}, 'mat_2': {'elec_cond_300k_low_doping': {'upper_bound': 78.0, 'lower_bound': 1e-07}, 'therm_cond_300k_low_doping': {'upper_bound': 2.0, 'lower_bound': 1e-07}, 'bulk_modulus': {'upper_bound': 400.0, 'lower_bound': 20.0}, 'shear_modulus': {'upper_bound': 200.0, 'lower_bound': 100.0}, 'universal_anisotropy': {'upper_bound': 2.3, 'lower_bound': 1.3}}, 'mat_3': {'elec_cond_300k_low_doping': {'upper_bound': 78.0, 'lower_bound': 1e-07}, 'therm_cond_300k_low_doping': {'upper_bound': 2.0, 'lower_bound': 1e-07}, 'bulk_modulus': {'upper_bound': 300.0, 'lower_bound': 20.0}, 'shear_modulus': {'upper_bound': 300.0, 'lower_bound': 100.0}, 'universal_anisotropy': {'upper_bound': 2.1, 'lower_bound': 0.9}}, 'mixture': {'elec_cond_300k_low_doping': {'desired_prop': 9.0}, 'therm_cond_300k_low_doping': {'desired_prop': 0.9}, 'bulk_modulus': {'desired_prop': 280.0}, 'shear_modulus': {'desired_prop': 230.0}, 'universal_anisotropy': {'desired_prop': 1.5}}})\n",
      "best_designs_dict: {'mat1': {'carrier-transport': {'elec_cond_300k_low_doping': [55.23545845750854, 56.1160525212538, 56.49962914933211, 57.173721684779245, 57.20870459036599, 57.75358443409044, 53.70494879888031, 58.94293264676586, 48.81560696396325, 49.79123227840924, 41.592247179891466, 50.58334680215925, 47.496475250238966, 9.556371183002888, 6.860138438782227, 1.2499692971725984, 17.56999834108912, 54.984865258371336, 25.61020593901058, 46.095560044928874, 10.739288143267313, 28.414646209551435, 28.373995599492087, 77.59409420918217, 5.164684974913274, 61.91087688057847, 58.886483541479734, 52.55208228833777, 52.16762285480789, 0.2199900122578109, 13.853398185542666, 6.605615613503999, 46.02601829940884, 44.34036964132252, 74.92056923573259, 38.77256734581523, 68.11179651138015, 66.85932574781225, 45.56676589509398, 59.8434844824034, 11.372476117675793, 5.078684728474384, 32.59118349790966, 15.435008873141356, 18.005828610713955, 20.45139280516412, 69.64975323424407, 17.38297320313711, 66.31850038374792, 2.2497029897062375, 31.0021464998109, 39.20259758040357, 62.78279843530756, 10.725422809998419, 51.40041601799924, 43.841209043286106, 4.686539325949272, 20.978508119324125, 73.70638786912369, 34.03017240407611, 31.861955370335593, 41.231791603738934, 7.551627364094442, 22.97132757223586, 4.22362102769287, 3.119926838588334, 29.292947603186107, 73.69133634838484, 58.057510440016664, 28.480777297045996, 42.63487989701328, 50.83374749355478, 6.773088882256354, 73.20504195786938, 5.818569529158622, 11.618251828934268, 15.938980110074196, 4.470214979212733, 34.33027517579638, 5.047513431773772, 59.21711597685973, 12.42442772037027, 63.88395878294847, 12.522167936918708, 70.01781372687704, 9.73152806194446, 60.28586941150182, 3.1374922249539074, 69.03697580235361, 53.553528176375615, 37.98666194453139, 23.144725148500427, 8.926976690530775, 40.52884805165206, 9.100218163023996, 50.4179477359483, 29.74119947712367, 45.26194304843642, 41.0545366411003, 73.76622998706662, 42.642713725229775, 9.077066909643433, 48.058206245641905, 74.89781042453211, 19.69031595618657, 10.937355229329592, 13.188385943839172, 20.144832809871197, 12.910211895572745, 3.6558518151132278, 12.507445357239508, 63.558641079408794, 17.389089308905323, 2.8493954765313703, 1.5588401736748647, 12.669395792575926, 4.594042152136071, 41.412851911032995, 46.38474621156809, 68.27790198685287, 77.47009592512397, 70.61241686353083, 26.537055272663032, 22.83622985438679, 58.243123015242325, 45.4499294076449, 66.50338308002301, 65.65445807974108, 20.20606044937595, 21.65909440116293, 20.332973079980363, 36.51436602158816, 18.418422302953324, 70.42350537159398, 31.974478420409266, 70.93137959590835, 7.74019944610023, 12.314233885144317, 22.318946910101733, 58.12937901849896, 53.13514328935437, 50.80574861254834, 37.65848223086191, 29.03440007237383, 61.67980650849329, 57.789227819606, 41.702269650754594, 71.3707639046513, 54.17651342693116, 25.91818102208983, 1.4156163568814475, 56.30338347493865, 6.226839727234647, 55.22973927183033, 54.57357641292307, 69.83851179562846, 76.10136300595336, 64.8809808267099, 69.90031642763466, 66.25806789246627, 75.21726498094944, 68.99631242578118, 6.309301075728943, 21.448238754294344, 46.21740483052311, 18.387015207615974, 58.74123354244289, 28.57633059733549, 17.41395335573452, 62.54668104692814, 70.72383340308238, 22.139769199604615, 71.72872177669937, 22.31555247851405, 50.14825754529234, 71.88153657713562, 63.806180222691246, 75.71552092686746, 22.187996488289453, 8.333879688857698], 'therm_cond_300k_low_doping': [0.32361445069592937, 0.30871528489853545, 0.3022253799434217, 0.2908201060926118, 0.2902282146276674, 0.2810091482433441, 0.3495098298464877, 0.2608860325637781, 0.4322347965907969, 0.41572775445353555, 0.5544500595229406, 0.40232561366498587, 1.352749423992112, 0.8777410722849625, 1.180723142142765, 0.5835294417340099, 1.9450997851961185, 1.0142398775611947, 1.350796708837299, 0.5691432421776079, 1.3583353747066642, 0.4158877886168588, 1.1899461349703944, 0.36649856667510256, 0.5693965075469546, 1.643917358383642, 1.9288607726635931, 0.8519264011903833, 1.5984639143259245, 0.6606590280977664, 1.6837209157790725, 0.2734462720400285, 1.90923956457918, 1.2268920220978743, 1.072091925671361, 1.4126697574395324, 1.1693940588050997, 1.0041513076075748, 0.2558699549073879, 1.740099364906943, 0.27346528040167517, 1.718370050824772, 1.3011419018853883, 1.0212177194386343, 1.5113809051778724, 1.007067845708218, 0.740821624805986, 1.6033793303063462, 1.817656727257424, 0.17453660404205174, 0.6680274804185538, 0.4628804858896664, 0.09720757581230234, 1.9651438120797633, 0.6363832910259308, 0.9743341127506532, 1.2622598822225597, 1.4215302560458356, 0.712748021795924, 1.143669484177085, 0.17171142182209842, 0.6964731523286006, 0.5636605992796239, 0.6773171681959456, 0.07083177493447017, 1.1202166733109284, 0.9730623907213469, 1.029047060132303, 0.09978602782390872, 1.9183529078555308, 1.7626999786562547, 1.9496595964002856, 0.13467149512879106, 0.06505278154418534, 1.9098645238381726, 1.317708483158072, 1.1144948625938949, 0.706028788861304, 1.814540368568498, 0.6941137185443076, 1.6085479805362992, 0.3325292645701241, 0.6633279979755813, 1.455067025565979, 1.8761787511483508, 0.40824184309248035, 0.023553586888667984, 0.23092831580563583, 0.14272308588579682, 0.6298787740733576, 1.7023760888099897, 0.2632150937904834, 1.2463497527509273, 1.7676501949335783, 1.2707634190877877, 1.5585745366095194, 0.43047007704551954, 1.8620711352173978, 0.5754919424136263, 1.8638318838424754, 1.4481170529951692, 0.3017524781162434, 1.2991458999924028, 0.0732806404073421, 1.579656758693338, 1.8915039772369624, 1.4650236168318298, 0.35936009931144824, 0.38087831978827014, 0.5595739685275378, 1.9727247309827138, 1.0546020221856842, 1.7523308310899035, 1.0459342895563566, 1.74324815421597, 1.2688797587150846, 1.3911126562493439, 0.3673877467138429, 0.5139889968630283, 1.1623294241898114, 1.356005286551433, 0.37511013450145336, 0.47680464791849153, 0.4538778948555365, 0.5265015575259786, 1.9026855201109159, 0.5930685315712493, 0.23274721729544715, 0.11746922951545624, 0.10022005195382293, 1.2300989279946004, 1.7163176997410574, 0.828387864162264, 0.0522825989106901, 0.5607864538809443, 0.09530961502093935, 1.213895092866111, 1.8511168971448901, 0.3019721023193497, 0.19879519875496562, 1.0441603149951688, 0.47952724988432205, 1.5356670812050481, 0.2748688049497147, 0.4830901728247973, 0.2887752586762661, 0.4047743187087902, 0.40008405253840423, 1.0015021176827483, 1.4293821494049344, 1.3241814138038261, 1.973826327613847, 1.4682998131549845, 0.24323416961225613, 1.4339074890401355, 0.33892558737985845, 0.9956804057296779, 0.838725794150905, 0.5623092838690037, 0.08445760679258063, 0.8069242673169025, 1.3199839069721333, 1.71111177350898, 0.797320686547511, 1.4933284653706764, 0.11173330803392728, 0.022861300971131076, 0.021971509392772353, 0.19970476439167603, 0.41221357041454276, 1.0420578508208407, 1.397906144487273, 0.7550455635629233, 0.05875909905139282, 1.2575300134796008, 1.407870511991804, 1.823517700503357, 0.0016472651066661537, 1.6978821753103635, 0.3217403281635617]}, 'elastic': {'bulk_modulus': [81.48097861944893, 81.09951972726101, 80.9333606289432, 80.64135480879247, 80.62620078838735, 80.39016778507747, 82.14397027803466, 79.8749616642194, 84.26195289529538, 83.8393280253795, 87.39099377184594, 83.49619701739776, 92.2686832145547, 95.6882012791157, 74.60917460837722, 89.53809690658866, 61.52550227802657, 59.83832860577887, 52.41654388152165, 63.16907805044958, 63.02792074408096, 65.93757397008102, 90.73917643758634, 89.9797743504543, 65.92525767182039, 60.37714058434342, 50.28251585513068, 70.41819707409664, 88.18923669748702, 62.84066495496545, 89.31448847151327, 56.5282042399997, 85.7098882709058, 74.78183477634258, 72.23206731737059, 67.68874971957571, 83.65176448734402, 58.84094031263593, 55.828884559254945, 55.9545545280818, 51.728998188743816, 98.02064199833637, 90.94443743015827, 65.51323044384853, 53.100623709507246, 55.007535644063296, 63.894645455752396, 82.22047086982704, 93.41845016506356, 98.33188482085444, 61.35756998999348, 40.06984170822396, 96.81390022606664, 96.9868804105229, 59.112478542333086, 94.4762760865201, 80.74182288607577, 75.37899871221595, 51.901530924738225, 82.78805396042804, 60.776656789460404, 70.5590000753819, 95.93321278473921, 95.61074592959179, 60.454367505054215, 37.42057701142805, 53.78465330111998, 84.96860927126792, 68.53464299250909, 84.54793259097043, 55.71225598138301, 46.45992957663583, 83.4960895430263, 65.03403051235725, 89.08838474907662, 94.78313462724489, 83.6580498476846, 66.52969193257138, 86.29765893227707, 63.9534230593389, 87.06381129763281, 64.69866961488245, 34.16687850619178, 92.48102272512808, 28.669955958983515, 67.36780647296575, 97.12209866505081, 50.1966849454971, 61.18260677063307, 85.22982161113586, 78.57157313162024, 90.53563040805193, 69.59340245300098, 91.47120304225905, 74.27000721759829, 69.49492081961608, 31.839880317711344, 96.38603910964368, 87.83108015122556, 43.466157299044376, 87.34850369846961, 92.32461494411214, 58.17385339293655, 65.14747029557124, 46.806021548659515, 87.8159415155013, 46.51462150496411, 41.18170572124335, 85.43874974966155, 63.66304888384098, 61.64020916814797, 84.53024104465268, 20.61028626264829, 71.56176271527042, 77.74165274726623, 62.06339902790365, 77.29740749982564, 70.77106939961271, 80.21312533261795, 74.74075328702202, 59.9638906570243, 55.042573582024225, 41.93258144530334, 68.44978652013089, 58.16450358193135, 85.27919798499123, 30.439081039050706, 29.688363540444165, 87.18811977116559, 57.32169924060721, 53.57986541146093, 58.39761527638457, 37.44770648788874, 65.61490241652422, 34.290604177977855, 86.20279569505593, 31.99645205292196, 54.55647514742175, 66.16276919504621, 69.1758694297571, 58.26491448926337, 61.41739965822697, 64.1251384539612, 60.14759815958462, 50.99887672840289, 88.62600233598978, 65.98963643253545, 47.227413788254424, 20.275169954794144, 68.26599539754761, 89.30607845626405, 53.12226528224523, 54.08401111800128, 37.266964608571115, 22.52176944701987, 59.83281760981991, 41.10209900269933, 62.552614866416015, 64.79236149459925, 59.67989968591573, 58.399480726490424, 48.11446732727582, 22.722925932196038, 44.077928380259124, 90.11924379333811, 96.76530748160611, 66.49489649599735, 67.34918238183896, 43.81669590838063, 28.81511084188859, 66.89510958139768, 44.063355133585375, 67.90011980514895, 65.82658556835224, 26.84963336782931, 23.844107692598108, 53.0682049247797, 69.40930960471123, 98.5590234485728, 60.55705891418232], 'shear_modulus': [97.20712280719331, 97.45999316490168, 97.57014057918042, 97.76371220041312, 97.77375785051868, 97.93022490686549, 96.76762345012583, 98.27175674356666, 95.36360578789487, 95.6437652080073, 93.28935427104267, 95.87122788486747, 92.05844185935113, 84.01868721745818, 80.16119106715819, 91.78814825203987, 84.0347425788424, 97.57004425397915, 91.24758363951031, 90.84790260132947, 85.78184819692582, 83.41264283158353, 95.05579475705314, 83.04743352782191, 88.33816744280722, 94.33401925957823, 91.80250818007553, 92.44500753447792, 99.403036326051, 97.13994052688973, 84.10147345505011, 98.17472742956161, 88.64004924288609, 80.02529014102501, 93.6688014701178, 89.13047066879409, 85.9560183564463, 88.60576120410423, 210.75400171571343, 85.40871918939794, 190.12325221626878, 98.18914236276399, 85.24302855682846, 94.98789781506495, 188.80992065412627, 82.10280386358139, 167.07237812605757, 90.4743805335778, 89.87939816969276, 89.23152238277778, 94.8039455828605, 152.0528684078804, 91.37335134606153, 85.26911696371198, 80.10787922140528, 96.11905688406648, 81.6672327051576, 95.10426487632705, 90.69244962990686, 93.28055941541905, 99.80004813010663, 99.44815862276937, 82.77166265075786, 86.25433526028303, 96.65343093615871, 109.54162092546382, 81.95388911979275, 95.82695012162273, 85.17689202679172, 199.2898024881682, 242.81468626382053, 132.80463350325624, 90.02987747854363, 95.2151766052797, 87.09710941645541, 95.16004678354862, 96.38571754419449, 84.50758700145164, 91.95264831867637, 151.99473420915058, 92.62359408163343, 164.02586255107394, 171.96097235720157, 80.34261133054069, 208.5504753066022, 174.70358178033123, 85.32907372389388, 182.3772706664755, 93.19583951890905, 85.43205023141239, 141.06842000513313, 99.58007512846504, 84.91663183510829, 85.15378222255956, 94.05070683107877, 206.17056247922, 174.20512535919724, 84.9903065655444, 87.69741510268463, 138.64572317294787, 82.00432556030412, 99.71752723396384, 96.97820975960441, 81.99621190479714, 146.99755270425538, 90.99341004358988, 295.32399894834043, 221.29104220202322, 95.2191716502411, 81.10800226480707, 89.50997622313227, 132.44333560777392, 183.2742819283095, 82.85305029585041, 80.82291152011612, 96.09593972309767, 99.96994871784987, 86.67595363628301, 94.48063524475931, 89.2530098310729, 274.835505102905, 254.46190968014255, 268.3840809966257, 119.99367714655361, 148.8299169755794, 96.24976371662564, 129.00521851691443, 115.5409610920896, 96.99384071271206, 85.35872324519752, 110.16711017231864, 93.25628709796429, 132.8953278816304, 85.65036113962566, 133.8367927410009, 89.08939436261545, 107.06258266156358, 90.19361704998346, 86.63046258118172, 178.5990688988037, 125.88885252964818, 97.17600917259665, 83.93283262395077, 88.77885070234993, 213.98336316151608, 81.1304121988124, 85.19002256077141, 154.4213396706237, 100.2099723209621, 95.64960982104975, 84.67505827659845, 80.52344670287916, 88.09599838420898, 121.45012421865123, 130.74446440166395, 99.18526106098597, 128.04422649088244, 188.60567450802364, 176.1498067215258, 92.20444200492474, 90.11929146245191, 180.94859237491397, 289.23411005566135, 100.0297320105243, 109.11361414460626, 90.08885188434867, 189.42231236808578, 88.31442139223887, 144.34786612749815, 189.55999014766635, 81.30748992487443, 225.16408919873703, 96.2109997341467, 211.31146445499826, 199.98808925032475, 270.2100129953535, 126.27522765886408, 89.57753679864503, 92.23390283502981, 248.01129812238432], 'universal_anisotropy': [1.4881109451488346, 1.5118208638181105, 1.522148631207879, 1.5402985141664822, 1.541240425860446, 1.5559112683191019, 1.4469021055453988, 1.5879343656268987, 1.3152570013765994, 1.3415256282156427, 1.1207686666825751, 1.36285324295675, 1.9413811683094417, 1.125514034598075, 1.8564089465254061, 1.819580737632982, 1.331607341801897, 1.9296561386296087, 1.9455267784287114, 1.0882744196588434, 1.2219429353390858, 1.3045887624805519, 1.7675404492758715, 1.339090702591767, 1.8652826601531292, 1.4196634304211937, 1.1690897363428236, 1.5919990103918593, 1.7572558982338953, 1.365344734452924, 1.5427340108171654, 1.3844252055815303, 1.9296134970239354, 1.5737850629656194, 1.0818732405019227, 1.2343966574252814, 1.632065118163732, 1.7807882613333308, 2.056830150639678, 1.5325075682049565, 1.3130524706692888, 1.7368663080253244, 1.0188674607031551, 1.0020823753393278, 1.3517910917022384, 1.4933032591961561, 1.8755721229262707, 1.3640257603747703, 1.3772644101772786, 1.9205353677468122, 1.26660322918362, 2.0532796411235013, 1.514415488442076, 1.2837686713206322, 1.9345966435847954, 1.1077440444104898, 1.4856246835462943, 1.4930625301977196, 1.4662999256912825, 1.1599671532805789, 1.8917566222698041, 1.9209783763735588, 1.8700313204125616, 1.7143326596172432, 1.1888610690899384, 1.6904998419727923, 1.459342549465481, 1.2251843902393338, 1.725888064286929, 1.254704234938237, 1.2867490986826975, 1.4197176409320078, 1.2259082825912544, 1.6039528096822449, 1.3592242885157613, 1.6246505859206093, 1.0451490151009937, 1.5353586743303098, 1.6918963411952272, 1.6207709801450931, 1.6605891554102066, 1.3437649003192607, 1.792377820551703, 1.5780248005076731, 1.8269512184739658, 1.4959757237429199, 1.2472512646679395, 2.0634195948803282, 1.0958462245403893, 1.274205298369075, 0.941778730152397, 1.3557173166766807, 1.9742116606712325, 1.8607956956156466, 1.041778757852547, 1.0328853519891685, 1.6261303160575828, 1.4341548170342442, 1.2834198838483022, 1.133625142982319, 1.3072900949162722, 1.4048634718621456, 1.302943444596941, 1.4907031873307486, 2.292064159592918, 1.5294774290869104, 1.3046252924690562, 1.1538563123976266, 1.915208817023884, 1.3522441572876196, 1.2187939046653997, 2.174758314726821, 2.1607250747997027, 1.3668459819106886, 1.9605905213927972, 1.815308479930032, 1.9190591895306244, 1.546531399605195, 1.174220520748062, 1.3027429345388497, 0.9841097054824772, 1.7389737217518215, 1.720864781446534, 1.3342324809358628, 1.8297104725242894, 1.1007920956868342, 2.246755311697113, 1.3778777089770093, 1.3138660717098833, 1.7299543192000153, 1.5541483596897696, 1.7057895795881683, 1.7488783331019389, 1.0502037015513506, 1.7736766576502694, 1.7761979046795444, 1.3775878226121163, 1.1562303210480942, 1.8916369590079705, 1.6803667395550108, 2.2313976839734333, 1.9825350866411102, 1.7066904379046846, 1.388727762622122, 2.0582785274922832, 1.7794558216051122, 1.2737801298355822, 2.025807178631724, 1.5877214343629458, 1.2371853714996863, 1.4672047214596273, 1.2633341090067405, 1.6114947008459795, 1.0478071120850578, 1.7020111218357146, 1.9742308928119008, 1.5491336952518715, 1.3058101298545286, 1.253082098539409, 1.564299898989403, 1.0854256240071787, 1.4116050984421202, 0.9855965622162322, 1.5333060026621848, 1.1951738847586837, 1.8860368990625358, 1.1384367089973186, 1.8336145106942272, 1.6735803194472458, 1.115496979543648, 1.3393200187174843, 1.5907142784698274, 1.2458915079767388, 1.8115690117347558, 1.678865836970906, 1.1150832840292642, 1.5362576377579855, 1.7717208514834641, 1.9349390610430557, 1.4627959666787673]}}, 'mat2': {'carrier-transport': {'elec_cond_300k_low_doping': [25.907641037813352, 25.045792093740207, 24.67038062381226, 24.010637430209776, 23.97639920231131, 23.443118162505776, 27.405570887092978, 22.279087488860327, 32.190833780773886, 31.235976506935238, 39.26043061190074, 30.46072364754686, 9.657286206270532, 57.94011503360754, 5.543560587827147, 57.89490842268322, 6.419930818236472, 5.094417022591889, 69.83562346904623, 3.7545937204792694, 53.36057697727103, 39.23470968131322, 62.2670075452506, 54.159031050477665, 49.42905865895778, 43.4344910397369, 56.26721606614912, 54.771088762744576, 7.942315852317209, 57.572909799359806, 13.326601190689457, 53.943729951647036, 7.371294045951685, 25.780405633037155, 66.09028854769998, 25.19058789846387, 34.634977846539336, 67.81764669863229, 66.49119460814923, 70.72367801112172, 65.46264123639658, 69.79522876231466, 11.483910908355968, 32.075766179490095, 2.8769557970187773, 18.027504512121972, 21.22261645483865, 51.11414314584863, 34.62569703108086, 26.32955948815889, 22.159705029550743, 44.15752102077495, 29.65611924935393, 52.71847527981365, 37.724672352602184, 52.35152730906957, 23.083196345587933, 23.335365502832385, 49.14218383733496, 57.58502234187478, 63.75037604234311, 58.89161893957175, 43.50743552509353, 40.447779619014504, 62.99691791561622, 57.938065280852, 8.338908777174593, 9.724426318283273, 12.339123610681506, 75.86426767111202, 75.90592375006507, 15.50701826656948, 40.19305164984297, 70.74808147129573, 62.49741148247473, 34.90585697872654, 2.427322122784049, 70.75947912752176, 46.05465882411947, 71.7645870389973, 66.62511640183413, 32.653548520034946, 52.981025351930235, 14.382793266420975, 2.7283735451140765, 25.26741912715218, 64.06669284290108, 77.09065898173897, 75.558059918373, 21.04216084084617, 36.83863626033009, 24.801517033586506, 1.6265507383868865, 62.566776183488706, 25.56225183964774, 76.28614618081114, 56.88836817652138, 12.903901441785218, 55.56149245561357, 15.67475560218843, 53.235719701157684, 54.329320756500614, 1.2620927353432727, 40.03326975615642, 37.219077108984834, 72.26562377336141, 51.829219799062244, 39.28624517846283, 31.272994997747066, 18.498514816120206, 44.86645873458327, 0.7434728843257711, 77.59806486318439, 54.57949008470675, 9.26892869629833, 75.0154730917487, 21.517229594240142, 52.701525239348044, 0.16892413955694396, 19.239918062653125, 16.604113519906008, 36.97585481332059, 72.86969141177354, 61.30228605768853, 4.057134922990712, 19.054751269781164, 39.00010533924405, 60.85418061394223, 75.57155738545256, 56.26512840886252, 29.940577982898187, 40.36416832546434, 46.27969295512982, 32.70599918073407, 74.8121832777706, 20.794921170853957, 56.122686883834994, 34.92955733570751, 73.39938150806499, 32.28668079480991, 34.01262371363059, 23.457952537111503, 76.50197042388487, 75.28106657039253, 35.295243764526084, 31.48984020819526, 52.26989253056331, 66.7965269326437, 54.637287724004196, 8.876987797880648, 5.331216489832959, 77.11504435748249, 16.079258988725066, 4.894550459745272, 54.15557477028266, 42.319863561618014, 24.466030878649285, 2.1045033666974646, 56.63689064384409, 38.18485186706549, 26.659925692344085, 77.66401414213519, 45.08525189520912, 19.736045515599283, 76.20366269227513, 48.84506187922453, 59.81792957084369, 73.98094272259459, 66.83453155251337, 43.16903526155238, 6.092565835727925, 37.5959145594012, 61.131534861620615, 62.71357868519201, 35.4078527814743, 14.958247341666139, 45.82862650102696, 13.436634239489813, 22.131033798361432, 73.67849178679143], 'therm_cond_300k_low_doping': [1.7682887032054824, 1.7953934046168993, 1.8071999002549033, 1.8279484808429332, 1.8290252553176551, 1.845796666887746, 1.7211795878794367, 1.8824048266585054, 1.5706855566454143, 1.6007153216940322, 1.3483504101855392, 1.6250966212437659, 1.3807892307552276, 1.6963337803424834, 0.6792230805520304, 1.115571524084314, 0.8223692261684771, 1.8933253385126962, 0.6256119728214843, 1.1952719812790826, 1.9059612428332828, 0.5444513734545017, 1.079716158750187, 1.0562493614901884, 1.373208025439971, 0.1408220897207935, 0.34514405381364116, 1.7378359269085115, 1.2342576710153361, 1.8728963138058177, 0.3761935783960577, 0.8747031116640173, 1.7704044300886932, 1.892210445189334, 1.9238879873362125, 0.396118135756479, 1.6009802714782275, 0.18480230198144404, 1.8383444152532131, 1.4527828094329998, 0.657019134077822, 0.24686249013465356, 0.12742993956473544, 1.451630615249993, 1.8106237915805297, 1.2749021579172062, 1.305167578161802, 0.05007146513360386, 1.8891575803643734, 1.0308135237828753, 1.2715825568262002, 0.8839351509074831, 0.9100952156067255, 0.45266067285479933, 1.926160037945989, 1.1042284442942574, 1.9119661698324792, 1.9553774905842638, 0.8584744802072708, 1.5322595795717104, 1.0414387036171384, 0.8442831840544395, 1.0153229246170519, 1.9134612839208505, 1.3462351404879014, 0.8801547267700294, 0.4256570776018457, 0.46068819350168183, 0.35969805471066096, 0.9145054382351292, 1.0011968540086829, 0.2600300422420208, 1.5054775454004345, 0.7517285602919178, 1.692850513101863, 0.9689057600473086, 1.4673056657874655, 1.7121507935831277, 1.3086296544838767, 0.08695091735986644, 0.724612854604293, 0.7788414475144555, 1.5093513586547629, 1.6980490971304993, 0.3671142560978526, 1.9817969440989123, 1.1780724076863158, 1.5078342415058994, 1.733109316626654, 1.9220027737833398, 0.4211544844375791, 1.010171315116698, 0.39692126987599663, 0.4211217159035519, 1.5938076503927427, 0.8473501571861581, 0.6158164933616485, 1.9697480045649731, 0.16380750373385816, 0.48659138447363, 1.719357711019767, 0.4592254879230138, 1.095273470549902, 1.2506883363219796, 1.3962219168254644, 1.1139460990363905, 1.0931410468343095, 1.5034020050267842, 0.007616232149581216, 1.9771930161347835, 0.1053701030181225, 1.7385383835056292, 0.3833289141047758, 1.9228475779272305, 0.44782636109556784, 1.699709849422866, 0.30719221174200434, 1.0196880816395841, 1.7665155530785772, 1.7268172573106841, 0.15453155848140154, 1.4511961568193374, 1.6124610006101143, 0.700524147694967, 0.9538411041836119, 0.9235067591965788, 1.379195295255695, 0.08239713048374364, 0.30787504310652786, 1.386440925418889, 1.0378404906866872, 1.7988827399269745, 1.3634764538422004, 0.4333407175538401, 1.229868274383271, 1.7173300803563565, 0.8687874938721235, 0.9021875047582617, 0.14516111707169932, 1.3224329197089553, 0.03575655511662355, 1.2061424772542593, 1.843100986510964, 1.8524239369958824, 0.7437635584545849, 0.2893280397923848, 1.2324429155534833, 0.26572692666587144, 1.5066823010200403, 1.8260686468657608, 0.3243884323901044, 1.9568416172282888, 0.6093266625633912, 1.2650293981759961, 0.8491386092768047, 0.11695395526753259, 1.418360716534558, 0.14730242537747135, 1.9893963101167456, 0.12462309227226337, 0.6722347842385372, 1.4152717895259337, 1.4273378660729363, 0.14913115665986265, 0.24199303626674043, 0.8419417232112931, 1.8411156590027442, 1.6949702477190725, 0.23965289494273992, 1.3969363680302116, 1.651015930302149, 0.40222457383008975, 1.654553537972679, 1.435412441134375, 1.5046247010741118, 1.1241882578682278, 0.6558952964071021, 0.042879341585064665, 0.5032087217207316, 0.1930071077727971]}, 'elastic': {'bulk_modulus': [242.46438788780753, 245.25438140358415, 246.4696704331177, 248.60540343469168, 248.71624006619805, 250.44258741903278, 237.6152613728672, 254.21080927968436, 222.1243188631979, 225.21540068307178, 199.2384878209486, 227.72506373441655, 285.1134039998394, 179.2112475021354, 238.99137462111776, 131.44825418668904, 148.2649466559233, 236.48549074952047, 199.26261367175937, 288.5282071820097, 274.05510311619287, 238.90445169903398, 127.63002909322178, 217.07121403665818, 156.37593634056256, 203.64636911129486, 185.00998634712474, 173.05886396597768, 276.01339650015524, 164.11895826513955, 224.50924967609188, 182.04428311863208, 147.31108928813418, 194.1968420978091, 163.32258321982735, 199.78009767320123, 199.3923948156242, 218.20776350490615, 94.33771008145831, 251.68799748677742, 99.605520122302, 122.42058179905415, 199.0698111505017, 187.75481959029142, 81.9640850288082, 184.21639329826928, 87.1989203787264, 201.55773096373366, 209.86003855663333, 132.9116750070213, 236.65653337000515, 91.79304008030553, 210.2028139416411, 294.265310795098, 166.8705126994069, 122.75178837209297, 149.9749292799987, 226.30533007288932, 102.91120144604493, 161.99849589094424, 95.92494233742458, 131.75155451914583, 131.43477457933693, 112.73650635366023, 129.0159210138869, 63.652164061587506, 100.23611748291376, 116.07287272061879, 194.6658588286337, 98.91165174940849, 62.61898725140174, 74.32891972415125, 170.56806358507245, 83.45445260043212, 114.14766323568632, 221.53551122130406, 271.3385734009953, 213.29522899801654, 201.72216792984375, 80.98221502204065, 214.0412552848117, 76.23762981988278, 86.44414784770007, 93.10249013028167, 83.14327193666209, 69.92034520007964, 105.51209681314147, 61.97276741372073, 270.81632883968496, 237.10255669923762, 92.64391067917325, 163.71475104621848, 144.2256790079689, 100.03850683530119, 153.58620311753467, 85.33305647543258, 81.44076186919908, 103.4577066341533, 185.35855785249487, 50.50768780686448, 129.50740999297125, 144.4807605933648, 96.48357040351242, 238.8786879175913, 56.59352624900092, 104.08399387694577, 57.27324926350192, 62.266040111042976, 188.5715094953544, 140.30589007868286, 92.95911700589377, 87.69159143821707, 70.76936921800049, 151.1773562201945, 126.12166415933903, 88.67737415885989, 86.00749232890315, 119.43709751464061, 144.9183628568407, 134.32395137825785, 93.76677343838985, 71.53499189349404, 63.75510406091059, 74.82029808984556, 75.75734396176483, 238.21065130104486, 64.80933635485746, 66.50583019135678, 200.37955638687188, 135.84543531148393, 53.72898277882383, 83.79518945688812, 61.57597093907737, 116.58486267812891, 77.08591110051482, 161.6215000729503, 68.71208615133312, 259.9519045072209, 69.21895408745078, 99.5997660645696, 64.0451406876403, 293.5344789471042, 259.13822434330484, 164.4316093093794, 56.27372063646742, 217.54491172259844, 228.8490239599642, 56.08713697622199, 89.37133807655226, 199.70691846201197, 104.8487863182501, 117.9039383201521, 240.78724773813667, 90.21124060990306, 30.318029102250343, 184.4899338073203, 81.23059895360869, 76.76262525176477, 85.95836966868048, 195.26266101470557, 185.44615369481687, 50.73828013203923, 53.82295461215932, 59.48992742594942, 90.84914690847361, 142.9705849939943, 78.80392504844252, 122.77652036063358, 57.35163737809037, 78.56122820035621, 244.48865165460177, 75.77418563009907, 68.9411820510114, 99.0466788350316, 51.220118139021224, 54.990904671448206, 94.16569556460516, 195.17331010570686, 262.5889399070262, 99.42847420361808], 'shear_modulus': [120.04628153421697, 120.58105658482114, 120.81399843525642, 121.22336738809994, 121.2446121203502, 121.57551163239282, 119.11681991979049, 122.29778966810241, 116.14757661593697, 116.74006309567149, 111.76090998587843, 117.22110549870686, 153.4941624160444, 116.6634571061178, 195.94136011785582, 154.40918701235398, 150.65648595566435, 139.8610746356487, 153.8374823137361, 106.31755966611819, 159.47855592411653, 130.05572486401638, 157.91248801835678, 134.50173338641744, 101.73484558138361, 143.50226011072928, 114.58007677904105, 145.73430587601914, 114.10095133517761, 171.08100530742465, 185.6023451926033, 124.231221986255, 157.06596770987125, 131.33206247266799, 176.4041036346781, 136.73256131531502, 140.85057381166246, 141.4417087315134, 210.75400171571343, 136.25285639838813, 197.77812330548917, 112.00108598094802, 165.51555849577716, 176.23299689847454, 197.68692760932674, 111.31201902371423, 195.01541768078087, 132.69841691688737, 181.85616942859573, 117.45547385569509, 184.0232808282745, 176.64156099535475, 117.17121432050348, 195.90078496370785, 160.23880136918834, 115.65333043163383, 132.86461035132993, 160.51892133115672, 165.92193403145538, 160.460225486805, 133.79307777694754, 106.60830685964359, 160.71480923435445, 129.80423082369686, 157.12207734356, 124.98398698911134, 120.67629732237569, 119.73087455118522, 172.53536486671803, 199.79484285899224, 242.81468626382053, 183.97461967128635, 186.21385479274875, 132.82821197261012, 175.37624467276456, 189.98545318553, 105.77466343624059, 177.45937856754793, 101.4558700028044, 194.34057858813452, 185.2932282278622, 178.3261617871597, 173.92009654172406, 189.0332215048536, 208.5504753066022, 190.20387279714475, 116.35240133447897, 188.37401378399113, 116.7108081520172, 154.22152463972304, 141.27878181667157, 169.30190114037282, 178.82990391631864, 110.29681319485303, 152.63694905365088, 206.17056247922, 180.75481418331495, 144.60691569387095, 199.07669618675578, 197.13778395824255, 136.03379103960063, 107.62173242573357, 133.42755271846406, 147.57333388958753, 175.725897883805, 130.0578611098978, 295.32399894834043, 221.29104220202322, 106.78481683471063, 107.56426827312208, 129.62999609207, 142.8136399128439, 188.32081451704758, 115.53549189479668, 111.63662778737728, 180.82911761667168, 123.06157012366701, 138.62447987635875, 138.85642199513825, 154.5016696819974, 274.835505102905, 254.46190968014255, 268.3840809966257, 151.86504634011843, 163.9585297816794, 144.69565482737255, 148.94329084508576, 135.80887365373374, 112.31512998220839, 164.47755970151098, 124.88739120529908, 130.09413643772746, 163.41878632589777, 133.5106679937424, 167.28822247282847, 163.28323585218067, 111.54537019815054, 174.51457926617832, 181.55279818298544, 180.94548110424367, 150.4506603413259, 185.0464738926557, 181.63452848759505, 127.97515359598648, 213.98336316151608, 163.02737540814124, 164.75722697602203, 176.47943182703617, 115.9152041942631, 145.88642132968772, 187.98044127138434, 196.5509043601494, 147.4996367385624, 129.40552583916872, 180.40484152516598, 103.25765126768164, 196.70258112562948, 191.4207589102678, 176.7540422956711, 122.94224368377547, 109.80204189331911, 198.32595936190938, 289.23411005566135, 175.9087009473617, 120.44106702360952, 139.16989708247544, 198.45163933468152, 100.36773335929702, 184.46857785282305, 191.99146234399595, 118.01965042715861, 225.16408919873703, 131.10411212328455, 211.31146445499826, 199.99070064446477, 270.2100129953535, 159.31307603004356, 125.43519361792042, 113.71679275502596, 248.01129812238432], 'universal_anisotropy': [1.2064201827559902, 1.166828723685124, 1.1495831402814451, 1.1192759781895014, 1.1177031487420406, 1.0932053819281176, 1.2752318100447622, 1.0397323538646808, 1.4950563411315272, 1.451192282428807, 1.8198181865940075, 1.4155788584487436, 1.217588906116804, 1.6150874415559113, 1.1340145450948533, 1.3325341312424803, 2.0086314503643394, 1.7339121139251121, 1.1728327421389277, 1.6026999187190474, 1.841916579627872, 1.9549506446671305, 1.1226495871995101, 1.342747656665899, 1.611528170708163, 1.8527824639875248, 1.4676337368020418, 1.865435126306478, 1.4798090010784306, 1.7993272324698626, 2.0048078344346116, 1.4339929224183416, 1.088746291663582, 0.941268679344505, 2.112793035998954, 1.6651514638789267, 1.7696343287623284, 1.6267746174444613, 1.9173907576473797, 1.998297370716914, 1.6329063960281527, 1.071769453513627, 1.7201436362980682, 1.7348422063662092, 1.7981594975375388, 1.3981634665538774, 1.705704688593686, 0.9708688744929982, 1.3376849834320759, 1.7754958782001384, 1.6430158960809211, 1.2620357389722574, 1.3532422752722075, 1.1983228819619636, 1.8364875903218323, 1.99791691327767, 1.4396195567142498, 1.548597802074963, 1.400586466903101, 1.282994383751753, 2.0662123442481564, 2.045397866073605, 1.4170789018920207, 1.8129346069910302, 1.7865021009357271, 1.6316182795859293, 1.7449992889221826, 1.939867337230091, 1.499684788537769, 1.453257995468979, 1.7278509026312745, 1.4896542266661297, 1.307165975394926, 1.255670229899996, 1.4258064462611935, 1.5914142991847045, 1.761683463673671, 1.050163923446776, 1.5741501955756874, 1.6965921256399472, 1.0063142738714657, 1.296619280841476, 1.309256286357377, 1.5375894842952218, 1.576153835175618, 1.0770435867400643, 1.0649420935396163, 1.098993372565554, 1.7028114104574201, 1.5219021071135095, 1.5877172945223297, 2.181551641563673, 2.082847306593837, 2.078312528054812, 1.1107303059449778, 1.038229357455048, 1.8980606244298395, 1.877979609319829, 1.6558155706210196, 2.1946082613815414, 1.345891191176784, 1.0112289764752778, 1.3577930584158875, 1.476509494878341, 1.7820317250225033, 1.7624324607566821, 1.5228856829419115, 1.4553303958612356, 1.0579254449525772, 2.0230584348283918, 1.2893894352184314, 1.9110865588072217, 1.5024588287131762, 2.1956014422511836, 1.3825039180164576, 1.4371115438910411, 1.5638912386233488, 2.180477056554301, 1.4303956062995504, 1.322399501022505, 1.5929271852365257, 1.5666523450401864, 1.402143550424849, 1.4787281618562949, 1.6621261298107726, 1.6395166272727961, 1.770192338392241, 1.454288082788789, 1.831915153583377, 0.9351946616511004, 2.2231960456812363, 1.2300483543789316, 1.8314462958550108, 1.7780467953926875, 1.337157212002864, 1.3225231220932183, 1.3754566263013537, 1.6455300509320419, 2.1896365596272367, 1.2634800109520228, 1.0945702153146573, 0.949724129748695, 1.7120013489332493, 1.7326132825497973, 1.5885342884993345, 1.9742469361782584, 2.2973139393873394, 1.0814383548785775, 1.9157974344245685, 1.0751487543470186, 1.3609160172215913, 1.8575720364806863, 2.0005461173173167, 1.8051941411092636, 2.025492388089089, 1.6798792314418889, 1.6971431088824136, 1.1223420638161725, 1.775074735392438, 2.1289207974833784, 2.137347736305861, 1.1656981622015605, 1.0301662194375303, 1.0148066941176146, 1.6395168308616876, 1.3367235249975375, 1.8163255534511173, 1.2752432755386804, 1.114218529979629, 1.7794481025589526, 1.872737333658005, 1.2925821120500143, 1.2343735535439464, 1.008592776484674, 1.4097014997538972, 1.088093844825882, 1.740322817857431, 2.241402719216883, 1.6175818572401468, 1.0801672742697286]}}, 'mat3': {'carrier-transport': {'elec_cond_300k_low_doping': [2.9551233769502163, 3.007853200551815, 3.030821704166571, 3.0711862511794195, 3.0732810216492714, 3.1059083345355956, 2.86347671744769, 3.1771263043553337, 2.5707037553105403, 2.629124034131398, 2.138170193132037, 2.6765557178426853, 29.64059916899588, 45.705775698478114, 48.87112777745516, 49.507867212592416, 50.128800402392244, 13.009735919472053, 2.562599143113235, 40.44316568135272, 30.466486541539826, 38.16927856635676, 72.98639958623426, 72.6127754584033, 34.537536956348525, 36.49023799388976, 60.16580653031092, 37.406990905816556, 5.269516875281497, 4.33922144518299, 22.044534332550388, 10.019869811834804, 73.42920579835649, 35.33363793735195, 26.37083807179169, 53.4397806131866, 35.93537827776398, 23.94768463201445, 25.15147641022484, 25.88337208931033, 73.05217501253755, 35.32319983933, 33.712082918243595, 63.57682193831487, 27.308217050426194, 49.766557099603034, 1.84145938055531, 63.39266880997968, 73.27452341746094, 73.67411908797901, 45.21752238091062, 51.20113950281855, 57.46918539307021, 76.62135400358059, 32.510088515011326, 34.65254141140106, 30.84527834106584, 13.851556723860082, 37.434002063976514, 52.955437731969916, 50.757860463131614, 69.8723592015859, 8.56697383071014, 71.03712034741359, 35.02288791110959, 33.69885121061023, 58.61643548827383, 22.47132237046322, 25.92580221541798, 48.6637493334262, 58.283752664077134, 54.37733695434633, 30.507916552228693, 66.22448313981529, 53.6315362995127, 64.40836752503996, 69.0538351885686, 55.926226299565485, 45.30580852223349, 68.93369252396862, 61.83112399020564, 70.4639314580862, 36.76902852553267, 26.733735940576327, 75.00841248115529, 11.727030001189917, 6.737554181144256, 73.0001741131901, 35.30231854735643, 23.08403936521479, 56.765553431232256, 63.46234819946871, 51.14247588302116, 57.957041572827265, 39.580108550975986, 55.18553632205371, 69.20534970999402, 50.33162028447427, 46.40616553322626, 18.885013004817573, 67.84662531555526, 48.75162917874105, 64.76829095892059, 49.41924323108016, 68.31866205836006, 56.44376814339641, 11.271407249664655, 14.875761373250192, 59.709087580156044, 45.903958962003415, 5.421525323650588, 66.04476607348973, 22.445838666640878, 59.703838449344936, 36.98404627192412, 44.37925622220447, 2.3411449135834395, 27.088862280526676, 0.9451766416885637, 21.1321959606434, 69.86125941918671, 49.764974272739465, 39.29593463165906, 9.455988629562592, 23.981702730222604, 73.58666862676672, 48.32573253021265, 27.592797372683705, 38.53526077000281, 3.9230843911984223, 21.352545052794262, 23.122233554014215, 71.40750810901666, 9.649824295981402, 48.809288362649355, 22.50879055188473, 6.770200989714205, 17.398831355632026, 6.3605158783974405, 38.3515201382134, 73.88466170446922, 27.279007343723833, 31.001853499045296, 14.230946360217562, 17.325166179352355, 52.075207743722345, 52.52278510219011, 27.826714427154858, 0.7449971835391919, 57.64477306489012, 3.1720837172737357, 32.01173399215646, 74.85996781570483, 69.19338623496704, 35.76980407039357, 6.080038501001839, 32.75558422916078, 59.45177644872928, 5.602797125983754, 54.73347818380356, 12.042255986030536, 37.183823976359584, 3.042130445143786, 73.74906146183501, 8.342874219096103, 56.088066871912226, 24.480061957283176, 41.34552047777409, 72.09299562149108, 62.45995157921594, 19.43283718298875, 42.88069496725816, 66.44865839255257, 69.93145611239932, 9.015340568745469, 17.748545380550436, 60.920879248482244, 59.35127507378754, 31.67257636390276, 30.75748110122606], 'therm_cond_300k_low_doping': [1.1050206621445922, 1.0997314692653937, 1.0974275577886003, 1.0933786939758654, 1.0931685729419622, 1.0898958111688601, 1.1142135026612894, 1.0827521199309076, 1.143580804897261, 1.1377208171022195, 1.1869671331803597, 1.132963066998035, 0.6014444321725547, 1.4048346864369063, 1.0201496805236767, 1.212143636062209, 1.0449777538385516, 1.700742174208561, 0.2917648386156515, 0.4594503776616933, 1.799736718173749, 1.767249060011434, 0.3829790578347367, 0.488150310051108, 0.5941074439990213, 1.4344030949124613, 1.9369445747870566, 0.3896603656871578, 1.9304444606678535, 1.8199569237532718, 0.13347934963344815, 1.875030230513782, 0.3591602424303427, 0.6609757350152552, 1.8974388692913744, 0.703627031918006, 0.7849874258085019, 1.8802483065948503, 0.6446244843397414, 0.8103796063637625, 1.3242198134163012, 0.5970443769438715, 0.4969186943010258, 1.268274002219276, 1.1597801250050457, 1.4967487265741344, 0.24188297209598816, 1.2061718927776133, 0.933286218155783, 0.9159117700833085, 0.843832650197613, 1.4451656293574635, 1.4646510853916688, 1.4464973886403045, 0.47378578421530654, 0.7715038490546118, 0.43247502233231744, 0.08170304255093258, 1.928335661038537, 1.0057012291407477, 1.716114882217559, 1.403660024336031, 1.2003241965656948, 1.2895140864153227, 0.841854071107801, 0.40189468766032144, 1.8586030983707904, 1.468436853145051, 0.3631600894688152, 1.6331226481709202, 1.1225483869660857, 1.3067847245236426, 1.3939723370802108, 1.8040209983645152, 0.6484440425940383, 1.0496891467535763, 1.6775880861599268, 0.4036152725494977, 1.4955921190264507, 1.1607194185868452, 1.6394123019720277, 1.7024978958058072, 1.4917767463573444, 1.5686879716621076, 1.686324578797624, 0.4442192177932365, 1.753831490751634, 1.8903910282103242, 1.0447644717795723, 0.2942537702296565, 0.9826507234812907, 0.28049466707837684, 1.6120958933314893, 0.7307076982952856, 0.029360030529001335, 0.43190579503112525, 1.3302787006134358, 1.0334591042903738, 1.4395579981512483, 1.697779917951379, 0.7846675045005771, 0.456464373379307, 0.5617276323325269, 1.6831320039066906, 0.4224135812166401, 0.6301656420553056, 0.31365920690947374, 1.1155104183812394, 0.7172586187302378, 0.9599431088872873, 0.9843860444776248, 0.29468012360252943, 1.3445063284852907, 1.7780987723001904, 1.9810730426605874, 0.9792625129760163, 0.05789822342081313, 0.982005368250836, 1.8783551940253258, 1.214677043062171, 0.1806561076143512, 0.9047984206784427, 1.4161706522581388, 1.5129645521155393, 1.57232719713216, 0.20206390980737587, 0.7069831816758764, 1.6977466619488542, 1.8413166017135116, 1.058623685461208, 0.8103281487009156, 0.25187383292302135, 1.697602135752651, 1.6553400472555866, 0.31788583548704, 0.680697600524072, 0.9545767702954808, 0.3124168353428288, 0.6723800659908054, 0.1597325136916572, 1.4984096629773753, 1.6050994790013384, 0.2681985435038819, 1.8309654749025586, 0.9178761966475769, 1.5650134780783487, 1.9603764556668526, 0.8102515616423696, 1.8177714118221708, 0.445438212739867, 0.10458084169399841, 1.5024048182372336, 0.6779836108793983, 1.8103236095772546, 0.4229734220871511, 0.017831797589941623, 0.06226224583747246, 0.2163984963744304, 1.1794919104077157, 1.9122199136787448, 0.38732099449697366, 0.4665206530555466, 1.4437578124522792, 0.6444719887416023, 0.5927916626057618, 1.5569229263119047, 0.307319232896575, 1.9037793250841282, 1.367656188477495, 0.4319149836703538, 1.3600218450869013, 1.3445068222060694, 1.2716244074038852, 0.8257519193759275, 0.11398537937114081, 1.0098076983427955, 1.457265287986529, 1.2319106954478127, 1.8517945659935309, 0.9630945529187392]}, 'elastic': {'bulk_modulus': [321.32475832940924, 317.97577473357416, 316.5169960657775, 313.9533575673691, 313.8203142256432, 311.7480839739728, 327.1454332022479, 307.2248787674273, 345.7400686576872, 342.02967211031034, 373.2111980005128, 339.01718468247225, 321.0927447817201, 396.8111436995171, 333.82692198997944, 300.4559937921143, 270.5558183559573, 342.6365255182043, 362.53287868975985, 299.54140260511645, 343.5421192300087, 282.1056656936272, 382.47033178154794, 298.4744528655635, 355.0267077945605, 274.554328144288, 287.01517629278385, 326.06911523619124, 387.8436447987984, 222.2775907245186, 230.53265141519645, 293.1339970958855, 268.35794119763983, 358.58885509512305, 242.519918838592, 204.9129522340543, 224.2365440513542, 388.32199549045043, 284.8377929770929, 292.8934010616615, 285.26100519854236, 390.9434265066134, 306.14206776149643, 282.0210942776818, 200.566433726867, 192.90556196236497, 117.986575672011, 393.9503203609779, 274.41479959424464, 214.46471981399316, 241.55870156542207, 206.46868307303706, 351.62152575505144, 296.85791531794774, 292.65086979125925, 269.135632728999, 163.77221191861253, 337.6873292725739, 154.04583727900217, 330.9295437793624, 249.2953063814018, 199.0621325711274, 368.8745144758455, 281.44277720256275, 226.68458294583542, 249.43803838186437, 152.75583940693807, 157.4859202286634, 284.5087827507771, 258.6144139659802, 268.10212635117375, 131.74111181341226, 248.50510100118137, 241.91180799905237, 220.49393811541168, 250.6879169423336, 312.57113765351477, 286.3927597609294, 235.45885640341032, 193.4268251426537, 242.87034915340456, 255.22303845530917, 98.55999946349401, 94.3131094439216, 254.20194401388915, 133.96170066752717, 322.0773881472633, 83.95769741422073, 352.4018601185949, 353.6117661511989, 199.7325071850252, 198.96332621380853, 178.32871273532513, 218.40766250793595, 218.08696875548628, 96.44540156873916, 173.89271808293492, 216.05547167057404, 248.76625685667898, 95.36184692503383, 351.72676279040456, 147.12543377850443, 106.35607896321343, 254.13744287292866, 167.5540656540591, 318.4161061384753, 69.38220464364164, 185.63228922920487, 284.1562029777234, 380.17615449735104, 388.64454371890974, 167.45912773033092, 213.35773360807138, 193.79512659216522, 246.08777324773442, 261.5049598687484, 287.6492723512208, 282.83619092861557, 148.86558992560438, 160.50182391179462, 302.99100383826766, 235.58812881424814, 248.53765342769688, 169.97824164238085, 93.78103806137199, 387.2302895689388, 123.87440725507173, 259.52960550369164, 240.84370962590205, 272.2196649605687, 75.51708120563254, 106.55597605292151, 91.84024456961517, 200.53571163252747, 212.62353848749146, 230.0088051097314, 132.82380860343406, 280.36189460016897, 271.7271102835788, 238.07249212453496, 159.99186859115355, 378.78509063402595, 265.24920268179915, 191.2929564648414, 381.0145411260956, 373.9273861414896, 249.73584930627683, 138.6961457446925, 229.11514846037545, 321.58893372373984, 261.2088808420945, 283.76453445968775, 247.9858611249599, 371.89109524293815, 65.97225228906834, 380.9511912653223, 113.43969856808773, 281.411730885404, 101.19652403590544, 227.61243285472565, 254.02921573047, 164.6194993583493, 347.7754588691742, 330.55276136158056, 348.7878275644359, 290.63820154952936, 195.31016821936694, 211.36509073917645, 96.94422939666075, 212.7607801802669, 280.8296116255403, 82.5034338747577, 333.97775339278377, 206.4734483413911, 194.19003682263144, 62.76983196549276, 265.4302231071954, 230.38097458269792, 376.9178850571417, 291.44656501720164], 'shear_modulus': [291.10254344309493, 291.17321401532666, 291.2039973023338, 291.2580954471868, 291.260902940512, 291.30463134153, 290.9797150050727, 291.40008045052707, 290.58732922877, 290.665626371681, 290.0076308292542, 290.72919616958364, 230.87657738490532, 273.56586330911176, 222.39507709034544, 241.50683002687896, 212.67477058995757, 150.73987579271991, 215.8678885531931, 245.55509261567448, 283.52416211932876, 197.7864684630273, 177.11274702673074, 209.4090262364379, 198.7093378705148, 213.27656420284896, 151.79571297373047, 158.6426064546463, 136.0448820135614, 217.85969765706727, 279.260029700285, 235.62261295502458, 251.69431644817087, 185.21795699223676, 181.1350625309899, 256.8864498971568, 203.19825938164092, 272.81387872410005, 244.4192313694799, 255.65554499116485, 283.0983543616889, 156.2558618437659, 242.19251746110626, 205.3252844624285, 278.034669791122, 192.89300566798047, 259.56308076579853, 295.76925142999096, 220.91690368978777, 145.93710346637286, 249.34879774789653, 178.47302577638203, 222.54453100418914, 239.68479876521968, 259.70230137548884, 260.9195082083931, 289.4671812972143, 244.21451015310055, 254.7219322618869, 169.99598312097612, 251.42495962275544, 229.10447727792356, 235.91108832930553, 209.69151455016458, 263.0891218744836, 154.7107794941243, 130.8733780268342, 158.01915749085123, 266.19786580040557, 264.33413545050144, 282.3161450969439, 250.76416342761888, 194.06580316903162, 157.61622334598292, 242.27320098572218, 192.5300506722972, 277.34673816718976, 196.40533964227913, 172.44802814821645, 225.18576612683088, 264.9217342253428, 263.704680943371, 255.82034049285713, 265.79571998449626, 228.29060700489399, 204.02489627430717, 221.88839379306253, 245.31925739944282, 263.7058521732125, 215.74658711996491, 207.44261490212853, 176.48948548733966, 181.88787463944092, 134.28886296670908, 181.55439145188672, 213.2393223470129, 200.3443101296748, 194.92905852965697, 268.49556261300455, 213.939883396667, 180.9866444463471, 179.09496079890062, 279.83229311947605, 213.89269228691938, 297.15729850267394, 240.9962826311632, 299.14784093518097, 270.3801799215426, 158.69465312711213, 223.42857561579956, 187.06766780459097, 152.46404989681284, 206.73094906134983, 240.22967143928037, 151.22960814382338, 226.14857554326608, 254.26114619193532, 244.13248562055787, 185.71635634630573, 158.2127660810798, 276.8168545581166, 266.7412112852114, 278.2641500004632, 252.76823698839848, 174.540837666839, 181.45758055572458, 299.5211704122609, 225.49129656193713, 233.9565264248418, 217.9697316099074, 209.9736223062029, 172.49278154373064, 268.73131615869363, 200.755914247083, 193.2530307145553, 239.66280565594272, 137.75064892150294, 233.2532552299453, 238.93680229490707, 292.9111974369872, 287.68654345834517, 237.78949472384105, 199.52744718496717, 197.61319173337836, 241.75669576340968, 199.01556298375002, 263.6787116295245, 210.34739414634217, 214.78200791279647, 166.81468214321814, 226.06120901956166, 273.7587744444153, 211.75395873298345, 219.28855716751391, 230.792340389515, 190.8352649975476, 233.1406964979497, 222.0053783367244, 233.8385730516496, 235.5481581851426, 161.42789435685808, 210.9310262182379, 290.37970297444286, 188.21238625748944, 260.7376943834646, 152.78861146263912, 298.1834912158133, 284.8978120339048, 263.34143053473076, 288.9764900081466, 270.96945728013947, 226.3076003389734, 287.4368255229376, 214.82311679170158, 278.10919752497847, 296.6984183690574, 260.7603380336503, 199.2205506489514, 183.5915328299246, 265.95420134185804], 'universal_anisotropy': [1.6719785733631758, 1.6755769492569368, 1.6771443603362448, 1.6798989080098923, 1.680041858830639, 1.682268404040716, 1.6657244441480032, 1.6871284435458396, 1.6457451023383438, 1.649731804903558, 1.6162282513974922, 1.6529686264138435, 1.4417165674236734, 2.079924359539304, 2.2194685248150647, 1.4323323622930186, 1.4588292884623986, 1.9970100011830971, 2.250134446746116, 1.656752798962402, 1.7310288283409974, 1.3562363447266261, 1.8504313006534043, 1.1585620749064287, 2.225924275954267, 1.7214140730985925, 1.4179831646935912, 2.1525364706267167, 1.5666196108864223, 1.0255792322446158, 1.4743798573753, 1.2823871922278895, 1.9453846791666676, 1.7039460074629234, 1.6437710457262482, 1.6835367585371324, 1.7249902350224668, 1.686677345390101, 1.7468309322438969, 1.790623218083946, 1.5128067539143568, 1.884775757849698, 2.258845317769325, 2.1664953314459368, 1.413262490942848, 1.4501223465428805, 1.2847314473666236, 2.0435623300514747, 1.2419732063696838, 1.1536111326253304, 1.3394093737727317, 1.546453236779524, 1.921838981363448, 1.673073183888928, 0.9276718167675474, 1.9344136120250375, 1.5710844436260776, 1.9111574940623872, 1.7703375729917745, 1.8004922479652758, 1.790997045157094, 1.3221982130089627, 2.22075954376394, 1.3651845270602154, 2.2650058026208137, 1.7556197930364386, 1.6718188457606666, 2.2985153613773246, 1.7198831405795127, 1.5142107724293647, 2.20258910886437, 1.1055467618604187, 1.9801365011211187, 1.7790260043546886, 1.5961314570466705, 1.011647094590765, 1.3658268812348937, 2.120420703811641, 1.5809994464557586, 1.5499335692740406, 1.9389693286784682, 0.9518852350583025, 1.6318724559334452, 1.9573953817417995, 1.513953836261757, 1.7924091558347932, 1.6462852876332055, 2.048672225787594, 1.4643582178767796, 1.5913451987167428, 1.9635286492650437, 1.8553461287222879, 1.7726801917078108, 1.7331790724022187, 2.260552924074851, 1.5509032960632478, 2.09693653134646, 1.7594632780495207, 1.7119503666084328, 1.7704789517143467, 1.8329683642666441, 1.721703497600093, 2.1521716829209088, 1.4862263204955508, 1.501458672130898, 1.505028407345511, 1.9214891816335178, 2.0951090352944854, 1.5757043376633368, 1.742561522714958, 1.4119552619120992, 1.2058132030696256, 1.5466644398255815, 1.8142947373495417, 0.9920622433181954, 1.7882633764276261, 1.6351512790082186, 1.6531040072155698, 1.6557726108868445, 1.2102029641181218, 2.11865917610737, 1.5459236814140676, 1.523126828922807, 1.333402976758163, 1.346909420882508, 2.1734819607133877, 1.4532328765127822, 1.65446538514319, 1.070123642902727, 2.137236984480915, 1.522724072692775, 1.4739374187770864, 1.9775350954028728, 1.1844042091127172, 1.1489640860418397, 1.605385010187207, 1.336567679102682, 2.1142399932115943, 1.092018143444994, 2.2036555955184056, 2.058926866446894, 1.580625805553625, 1.3412086326602861, 1.950347500603523, 1.722299903030485, 2.0446313105536387, 0.9194792247173557, 1.553484638378607, 2.152479556941473, 2.065622342255166, 1.0065311388123368, 2.060885292592281, 0.9696331052465464, 1.6224740424309145, 1.5832714929544012, 1.7139247663682227, 1.4624604719018768, 1.8974709693976968, 2.0297435403283415, 1.719749524922237, 2.0545954451631454, 2.035409419625814, 1.9195070080093806, 2.0066111585671513, 1.591820760069856, 2.0404993302654892, 1.6928527875663018, 1.8950480350305343, 1.485849233015807, 1.8179171480991072, 2.2185793049663207, 1.3060913271424583, 2.0763205648708474, 1.4987554501565523, 1.9981037355377929, 1.6181325029715228, 1.8051294967474367, 1.1630094021539812, 1.8786170769492783, 1.6488337173917362]}}}\n",
      "keys of best_designs_dict: dict_keys(['mat1', 'mat2', 'mat3'])\n",
      "keys of best_designs_dict['mat1']: dict_keys(['carrier-transport', 'elastic'])\n",
      "overall_bounds_dict: {'elec_cond_300k_low_doping': {'upper_bound': 78.0, 'lower_bound': 1e-07}, 'therm_cond_300k_low_doping': {'upper_bound': 2.0, 'lower_bound': 1e-07}, 'bulk_modulus': {'upper_bound': 400.0, 'lower_bound': 20.0}, 'shear_modulus': {'upper_bound': 300.0, 'lower_bound': 80.0}, 'universal_anisotropy': {'upper_bound': 2.3, 'lower_bound': 0.9}}\n",
      "Initial query: {'bulk_modulus': (20.0, 400.0), 'shear_modulus': (80.0, 300.0), 'universal_anisotropy': (0.9, 2.3)}\n",
      "Fields: ['material_id', 'formula_pretty', 'bulk_modulus', 'shear_modulus', 'universal_anisotropy']\n"
     ]
    },
    {
     "data": {
      "application/vnd.jupyter.widget-view+json": {
       "model_id": "7120e543c0944b12b99feb039d5d80b6",
       "version_major": 2,
       "version_minor": 0
      },
      "text/plain": [
       "Retrieving SummaryDoc documents:   0%|          | 0/251 [00:00<?, ?it/s]"
      ]
     },
     "metadata": {},
     "output_type": "display_data"
    },
    {
     "name": "stdout",
     "output_type": "stream",
     "text": [
      "Initialized result_dict: {'material_id': [], 'formula_pretty': [], 'elec_cond_300k_low_doping': [], 'therm_cond_300k_low_doping': [], 'bulk_modulus_voigt': [], 'shear_modulus_voigt': [], 'universal_anisotropy': []}\n",
      "Length of material_id: 251\n",
      "Length of formula_pretty: 251\n",
      "Length of elec_cond_300k_low_doping: 0\n",
      "Length of therm_cond_300k_low_doping: 0\n",
      "Length of bulk_modulus_voigt: 251\n",
      "Length of shear_modulus_voigt: 251\n",
      "Length of universal_anisotropy: 251\n",
      "Length of material_id after sorting: 251\n",
      "Final Length of material_id: 251\n",
      "Final Length of formula_pretty: 251\n",
      "Final Length of elec_cond_300k_low_doping: 251\n",
      "Final Length of therm_cond_300k_low_doping: 251\n",
      "Final Length of bulk_modulus_voigt: 251\n",
      "Final Length of shear_modulus_voigt: 251\n",
      "Final Length of universal_anisotropy: 251\n",
      "Keys of result_dict: dict_keys(['material_id', 'formula_pretty', 'elec_cond_300k_low_doping', 'therm_cond_300k_low_doping', 'bulk_modulus_voigt', 'shear_modulus_voigt', 'universal_anisotropy'])\n",
      "result_dict['material_id'] = [MPID(mp-867319), MPID(mp-867330), MPID(mp-684591), MPID(mp-752826), MPID(mp-16514), MPID(mp-632442), MPID(mp-16613), MPID(mp-944), MPID(mp-10883), MPID(mp-3098), MPID(mp-3748), MPID(mp-8039), MPID(mp-2658), MPID(mp-22793), MPID(mp-1019508), MPID(mp-1008556), MPID(mp-625054), MPID(mp-13178), MPID(mp-1330), MPID(mp-1700), MPID(mp-1487), MPID(mp-603719), MPID(mp-676861), MPID(mp-1018166), MPID(mp-1008530), MPID(mp-11696), MPID(mp-1001602), MPID(mp-534), MPID(mp-1008525), MPID(mp-1008526), MPID(mp-2850), MPID(mp-633538), MPID(mp-28897), MPID(mp-644751), MPID(mp-567164), MPID(mp-983590), MPID(mp-865562), MPID(mp-862706), MPID(mp-550433), MPID(mp-5597), MPID(mp-5157), MPID(mp-558636), MPID(mp-38843), MPID(mp-1016879), MPID(mp-6957), MPID(mp-2965), MPID(mp-27861), MPID(mp-21343), MPID(mp-754040), MPID(mp-1008349), MPID(mp-1018672), MPID(mp-90), MPID(mp-579), MPID(mp-1010071), MPID(mp-1008224), MPID(mp-1008280), MPID(mp-1018067), MPID(mp-784631), MPID(mp-20814), MPID(mp-2958), MPID(mp-2417), MPID(mp-10856), MPID(mp-20874), MPID(mp-20344), MPID(mp-1007853), MPID(mp-2199), MPID(mp-2794), MPID(mp-2090), MPID(mp-5436), MPID(mp-2213), MPID(mp-1918), MPID(mp-29076), MPID(mp-30551), MPID(mp-2853), MPID(mp-830), MPID(mp-470), MPID(mp-345), MPID(mp-977573), MPID(mp-1029834), MPID(mp-1016825), MPID(mp-20192), MPID(mp-550893), MPID(mp-776532), MPID(mp-1014251), MPID(mp-754134), MPID(mp-754478), MPID(mp-861979), MPID(mp-1001827), MPID(mp-13076), MPID(mp-2723), MPID(mp-549490), MPID(mp-5526), MPID(mp-2680), MPID(mp-36086), MPID(mp-35417), MPID(mp-2468835), MPID(mp-34993), MPID(mp-8001), MPID(mp-3924), MPID(mp-3524), MPID(mp-5840), MPID(mp-862870), MPID(mp-1029424), MPID(mp-867744), MPID(mp-9514), MPID(mp-4590), MPID(mp-3536), MPID(mp-763), MPID(mp-365), MPID(mp-15702), MPID(mp-1023125), MPID(mp-15701), MPID(mp-4391), MPID(mp-5924), MPID(mp-1029702), MPID(mp-1029536), MPID(mp-8634), MPID(mp-13079), MPID(mp-13082), MPID(mp-999558), MPID(mp-21235), MPID(mp-973149), MPID(mp-865027), MPID(mp-864735), MPID(mp-771), MPID(mp-3623), MPID(mp-864950), MPID(mp-978261), MPID(mp-999542), MPID(mp-1018024), MPID(mp-21171), MPID(mp-9951), MPID(mp-7829), MPID(mp-999516), MPID(mp-1232), MPID(mp-7017), MPID(mp-3136), MPID(mp-976923), MPID(mp-5475), MPID(mp-4170), MPID(mp-569167), MPID(mp-12725), MPID(mp-999388), MPID(mp-1580), MPID(mp-999357), MPID(mp-2533), MPID(mp-1018151), MPID(mp-1963), MPID(mp-756638), MPID(mp-647), MPID(mp-5622), MPID(mp-568055), MPID(mp-1929), MPID(mp-784630), MPID(mp-11507), MPID(mp-30811), MPID(mp-6927), MPID(mp-567907), MPID(mp-1009545), MPID(mp-3466), MPID(mp-12762), MPID(mp-1285), MPID(mp-12875), MPID(mp-9761), MPID(mp-974565), MPID(mp-999263), MPID(mp-20304), MPID(mp-725), MPID(mp-607371), MPID(mp-753495), MPID(mp-27693), MPID(mp-12593), MPID(mp-4200), MPID(mp-635), MPID(mp-4720), MPID(mp-11607), MPID(mp-641539), MPID(mp-978496), MPID(mp-1002206), MPID(mp-1128), MPID(mp-972845), MPID(mp-351), MPID(mp-999192), MPID(mp-10015), MPID(mp-978490), MPID(mp-2287), MPID(mp-20418), MPID(mp-381), MPID(mp-978493), MPID(mp-856), MPID(mp-242), MPID(mp-768342), MPID(mp-972309), MPID(mp-2220557), MPID(mp-675172), MPID(mp-570604), MPID(mp-1157), MPID(mp-20994), MPID(mp-999133), MPID(mp-30835), MPID(mp-865805), MPID(mp-10854), MPID(mp-999117), MPID(mp-33137), MPID(mp-1756), MPID(mp-755875), MPID(mp-10734), MPID(mp-11279), MPID(mp-608), MPID(mp-1018012), MPID(mp-1089), MPID(mp-865678), MPID(mp-2657), MPID(mp-753657), MPID(mp-980203), MPID(mp-554462), MPID(mp-568789), MPID(mp-10857), MPID(mp-29005), MPID(mp-20924), MPID(mp-1025264), MPID(mp-1008642), MPID(mp-1865), MPID(mp-1776), MPID(mp-1025123), MPID(mp-27769), MPID(mp-865465), MPID(mp-20586), MPID(mp-22790), MPID(mp-865471), MPID(mp-1002105), MPID(mp-11531), MPID(mp-1114), MPID(mp-11549), MPID(mp-873), MPID(mp-1008630), MPID(mp-1004526), MPID(mp-15955), MPID(mp-756214), MPID(mp-1017533), MPID(mp-1016876), MPID(mp-1014265), MPID(mp-2525045), MPID(mp-1014246), MPID(mp-451), MPID(mp-22227), MPID(mp-1009838), MPID(mp-1565), MPID(mp-755759), MPID(mp-775909), MPID(mp-4820)]\n",
      "Carrier transport is in the property categories\n",
      "Query for carrier transport: {'elec_cond_300k_low_doping': (1e-07, 78.0), 'therm_cond_300k_low_doping': (1e-07, 2.0)}\n",
      "Tables: {'data': [{'identifier': 'mp-752826', 'formula': 'Al2O3', 'data': {'sigma': {'p': {'display': '4.10475 1/fΩ/m/s', 'value': 4.10475, 'error': None, 'unit': '1/fΩ/m/s'}}, 'kappa': {'p': {'display': '11.1994 GW/K/m/s', 'value': 11.1994, 'error': None, 'unit': 'GW/K/m/s'}}}}, {'identifier': 'mp-3536', 'formula': 'MgAl2O4', 'data': {'sigma': {'p': {'display': '7.70117 1/fΩ/m/s', 'value': 7.70117, 'error': None, 'unit': '1/fΩ/m/s'}}, 'kappa': {'p': {'display': '31.6911 GW/K/m/s', 'value': 31.6911, 'error': None, 'unit': 'GW/K/m/s'}}}}, {'identifier': 'mp-5924', 'formula': 'MgSiO3', 'data': {'sigma': {'p': {'display': '6.45658 1/fΩ/m/s', 'value': 6.45658, 'error': None, 'unit': '1/fΩ/m/s'}}, 'kappa': {'p': {'display': '30.0167 GW/K/m/s', 'value': 30.0167, 'error': None, 'unit': 'GW/K/m/s'}}}}], 'has_more': False, 'total_count': 3, 'total_pages': 1}\n",
      "Table: {'identifier': 'mp-752826', 'formula': 'Al2O3', 'data': {'sigma': {'p': {'display': '4.10475 1/fΩ/m/s', 'value': 4.10475, 'error': None, 'unit': '1/fΩ/m/s'}}, 'kappa': {'p': {'display': '11.1994 GW/K/m/s', 'value': 11.1994, 'error': None, 'unit': 'GW/K/m/s'}}}}\n",
      "Index: 3\n",
      "Table: {'identifier': 'mp-3536', 'formula': 'MgAl2O4', 'data': {'sigma': {'p': {'display': '7.70117 1/fΩ/m/s', 'value': 7.70117, 'error': None, 'unit': '1/fΩ/m/s'}}, 'kappa': {'p': {'display': '31.6911 GW/K/m/s', 'value': 31.6911, 'error': None, 'unit': 'GW/K/m/s'}}}}\n",
      "Index: 106\n",
      "Table: {'identifier': 'mp-5924', 'formula': 'MgSiO3', 'data': {'sigma': {'p': {'display': '6.45658 1/fΩ/m/s', 'value': 6.45658, 'error': None, 'unit': '1/fΩ/m/s'}}, 'kappa': {'p': {'display': '30.0167 GW/K/m/s', 'value': 30.0167, 'error': None, 'unit': 'GW/K/m/s'}}}}\n",
      "Index: 113\n",
      "len(material_id): 3\n",
      "len(elec_cond): 3\n",
      "len(therm_cond): 3\n",
      "len(bulk_modulus): 3\n",
      "len(shear_modulus): 3\n",
      "len(universal_anisotropy): 3\n",
      "len(material_id): 3\n",
      "len(elec_cond): 3\n",
      "len(therm_cond): 3\n",
      "len(bulk_modulus): 3\n",
      "len(shear_modulus): 3\n",
      "len(universal_anisotropy): 3\n",
      "len(material_id): 3\n",
      "len(elec_cond): 3\n",
      "len(therm_cond): 3\n",
      "len(bulk_modulus): 3\n",
      "len(shear_modulus): 3\n",
      "len(universal_anisotropy): 3\n",
      "Material Matches:\n",
      "{'mat1': [{'mp-752826': {'elec_cond': 41.0475, 'therm_cond': 0.000111994, 'bulk_modulus': 168.258, 'shear_modulus': 90.134, 'universal_anisotropy': 1.271}}, {'mp-3536': {'elec_cond': 77.0117, 'therm_cond': 0.000316911, 'bulk_modulus': 182.861, 'shear_modulus': 107.669, 'universal_anisotropy': 1.062}}, {'mp-5924': {'elec_cond': 64.5658, 'therm_cond': 0.000300167, 'bulk_modulus': 193.509, 'shear_modulus': 113.741, 'universal_anisotropy': 1.091}}], 'mat2': [{'mp-752826': {'elec_cond': 41.0475, 'therm_cond': 0.000111994, 'bulk_modulus': 168.258, 'shear_modulus': 90.134, 'universal_anisotropy': 1.271}}, {'mp-3536': {'elec_cond': 77.0117, 'therm_cond': 0.000316911, 'bulk_modulus': 182.861, 'shear_modulus': 107.669, 'universal_anisotropy': 1.062}}, {'mp-5924': {'elec_cond': 64.5658, 'therm_cond': 0.000300167, 'bulk_modulus': 193.509, 'shear_modulus': 113.741, 'universal_anisotropy': 1.091}}], 'mat3': [{'mp-752826': {'elec_cond': 41.0475, 'therm_cond': 0.000111994, 'bulk_modulus': 168.258, 'shear_modulus': 90.134, 'universal_anisotropy': 1.271}}, {'mp-3536': {'elec_cond': 77.0117, 'therm_cond': 0.000316911, 'bulk_modulus': 182.861, 'shear_modulus': 107.669, 'universal_anisotropy': 1.062}}, {'mp-5924': {'elec_cond': 64.5658, 'therm_cond': 0.000300167, 'bulk_modulus': 193.509, 'shear_modulus': 113.741, 'universal_anisotropy': 1.091}}]}\n"
     ]
    }
   ],
   "source": [
    "# # Display the mp-ids of the potential options for each of the composite materials\n",
    "# HS.get_material_matches()\n",
    "# matches_dict = HS.get_material_matches(consolidated_dict=consolidated_dict)\n",
    "# print(\"Material Matches:\")\n",
    "# print(matches_dict)\n",
    "\n",
    "# Display the mp-ids of the potential options for each of the composite materials\n",
    "# # matches_dict = HS.get_material_matches(consolidated_dict=consolidated_dict)\n",
    "# matches_dict = HS.get_material_matches()\n",
    "print(f\"overall bounds dict: {overall_bounds_dict, user_input}\")\n",
    "matches_dict = HS.get_material_matches(overall_bounds_dict, user_input)\n",
    "print(\"Material Matches:\")\n",
    "print(matches_dict)"
   ]
  },
  {
   "cell_type": "code",
   "execution_count": 9,
   "metadata": {},
   "outputs": [
    {
     "name": "stdout",
     "output_type": "stream",
     "text": [
      "Loaded consolidated_dict from consolidated_dict_10_07_2024_23_47_15\n"
     ]
    },
    {
     "name": "stderr",
     "output_type": "stream",
     "text": [
      "/Users/carlabecker/Library/Mobile Documents/com~apple~CloudDocs/Carla's Desktop/UC Berkeley/Research/Materials Project/hashin_shtrikman_mp/src/examples/../core/member.py:246: UserWarning:\n",
      "\n",
      "Warning: Cannot properly apply Hashin-Shtrikman bounds on effective properties when bulk_i < bulk_j and shear_i > shear_j, or vice versa.\n",
      "\n"
     ]
    },
    {
     "data": {
      "application/vnd.plotly.v1+json": {
       "config": {
        "plotlyServerURL": "https://plot.ly"
       },
       "data": [
        {
         "cells": {
          "align": "left",
          "fill": {
           "color": [
            [
             "white",
             "lightgrey",
             "white",
             "lightgrey",
             "white"
            ]
           ]
          },
          "font": {
           "size": 12
          },
          "height": 30,
          "values": [
           [
            "mp-3536",
            "mp-3536",
            "mp-3536",
            "mp-3536",
            "mp-5924"
           ],
           [
            "mp-5924",
            "mp-5924",
            "mp-3536",
            "mp-3536",
            "mp-5924"
           ],
           [
            "mp-5924",
            "mp-3536",
            "mp-5924",
            "mp-3536",
            "mp-5924"
           ],
           [
            "77.0117",
            "77.0117",
            "77.0117",
            "77.0117",
            "64.5658"
           ],
           [
            "64.5658",
            "64.5658",
            "77.0117",
            "77.0117",
            "64.5658"
           ],
           [
            "64.5658",
            "77.0117",
            "64.5658",
            "77.0117",
            "64.5658"
           ],
           [
            "0.000316911",
            "0.000316911",
            "0.000316911",
            "0.000316911",
            "0.000300167"
           ],
           [
            "0.000300167",
            "0.000300167",
            "0.000316911",
            "0.000316911",
            "0.000300167"
           ],
           [
            "0.000300167",
            "0.000316911",
            "0.000300167",
            "0.000316911",
            "0.000300167"
           ],
           [
            "182.861",
            "182.861",
            "182.861",
            "182.861",
            "193.509"
           ],
           [
            "193.509",
            "193.509",
            "182.861",
            "182.861",
            "193.509"
           ],
           [
            "193.509",
            "182.861",
            "193.509",
            "182.861",
            "193.509"
           ],
           [
            "107.669",
            "107.669",
            "107.669",
            "107.669",
            "113.741"
           ],
           [
            "113.741",
            "113.741",
            "107.669",
            "107.669",
            "113.741"
           ],
           [
            "113.741",
            "107.669",
            "113.741",
            "107.669",
            "113.741"
           ],
           [
            "1.062",
            "1.062",
            "1.062",
            "1.062",
            "1.091"
           ],
           [
            "1.091",
            "1.091",
            "1.062",
            "1.062",
            "1.091"
           ],
           [
            "1.091",
            "1.062",
            "1.091",
            "1.062",
            "1.091"
           ],
           [
            "0.1789655172413793",
            "0.1789655172413793",
            "0.1789655172413793",
            "0.1789655172413793",
            "0.1789655172413793"
           ],
           [
            "0.8210344827586207",
            "0.8210344827586207",
            "0.8210344827586207",
            "0.8210344827586207",
            "0.8210344827586207"
           ],
           [
            "0.0",
            "0.0",
            "0.0",
            "0.0",
            "0.0"
           ],
           [
            "0.9117777039567697",
            "0.9261374976326792",
            "0.9286097636881985",
            "0.9427087735961838",
            "0.9541298877953498"
           ]
          ]
         },
         "columnwidth": 1000,
         "header": {
          "align": "left",
          "fill": {
           "color": "lavender"
          },
          "font": {
           "size": 12
          },
          "height": 30,
          "values": [
           "Material 1 MP-ID",
           "Material 2 MP-ID",
           "Material 3 MP-ID",
           "Phase 1 Electrical conductivity, [S/m]",
           "Phase 2 Electrical conductivity, [S/m]",
           "Phase 3 Electrical conductivity, [S/m]",
           "Phase 1 Thermal conductivity, [W/m/K]",
           "Phase 2 Thermal conductivity, [W/m/K]",
           "Phase 3 Thermal conductivity, [W/m/K]",
           "Phase 1 Bulk modulus, [GPa]",
           "Phase 2 Bulk modulus, [GPa]",
           "Phase 3 Bulk modulus, [GPa]",
           "Phase 1 Shear modulus, [GPa]",
           "Phase 2 Shear modulus, [GPa]",
           "Phase 3 Shear modulus, [GPa]",
           "Phase 1 Universal anisotropy, []",
           "Phase 2 Universal anisotropy, []",
           "Phase 3 Universal anisotropy, []",
           "Phase 1 Volume Fraction",
           "Phase 2 Volume Fraction",
           "Phase 3 Volume Fraction",
           "cost"
          ]
         },
         "type": "table"
        }
       ],
       "layout": {
        "autosize": true,
        "height": 400,
        "margin": {
         "b": 0,
         "l": 0,
         "r": 0,
         "t": 40
        },
        "template": {
         "data": {
          "bar": [
           {
            "error_x": {
             "color": "rgb(36,36,36)"
            },
            "error_y": {
             "color": "rgb(36,36,36)"
            },
            "marker": {
             "line": {
              "color": "white",
              "width": 0.5
             },
             "pattern": {
              "fillmode": "overlay",
              "size": 10,
              "solidity": 0.2
             }
            },
            "type": "bar"
           }
          ],
          "barpolar": [
           {
            "marker": {
             "line": {
              "color": "white",
              "width": 0.5
             },
             "pattern": {
              "fillmode": "overlay",
              "size": 10,
              "solidity": 0.2
             }
            },
            "type": "barpolar"
           }
          ],
          "carpet": [
           {
            "aaxis": {
             "endlinecolor": "rgb(36,36,36)",
             "gridcolor": "white",
             "linecolor": "white",
             "minorgridcolor": "white",
             "startlinecolor": "rgb(36,36,36)"
            },
            "baxis": {
             "endlinecolor": "rgb(36,36,36)",
             "gridcolor": "white",
             "linecolor": "white",
             "minorgridcolor": "white",
             "startlinecolor": "rgb(36,36,36)"
            },
            "type": "carpet"
           }
          ],
          "choropleth": [
           {
            "colorbar": {
             "outlinewidth": 1,
             "tickcolor": "rgb(36,36,36)",
             "ticks": "outside"
            },
            "type": "choropleth"
           }
          ],
          "contour": [
           {
            "colorbar": {
             "outlinewidth": 1,
             "tickcolor": "rgb(36,36,36)",
             "ticks": "outside"
            },
            "colorscale": [
             [
              0,
              "#440154"
             ],
             [
              0.1111111111111111,
              "#482878"
             ],
             [
              0.2222222222222222,
              "#3e4989"
             ],
             [
              0.3333333333333333,
              "#31688e"
             ],
             [
              0.4444444444444444,
              "#26828e"
             ],
             [
              0.5555555555555556,
              "#1f9e89"
             ],
             [
              0.6666666666666666,
              "#35b779"
             ],
             [
              0.7777777777777778,
              "#6ece58"
             ],
             [
              0.8888888888888888,
              "#b5de2b"
             ],
             [
              1,
              "#fde725"
             ]
            ],
            "type": "contour"
           }
          ],
          "contourcarpet": [
           {
            "colorbar": {
             "outlinewidth": 1,
             "tickcolor": "rgb(36,36,36)",
             "ticks": "outside"
            },
            "type": "contourcarpet"
           }
          ],
          "heatmap": [
           {
            "colorbar": {
             "outlinewidth": 1,
             "tickcolor": "rgb(36,36,36)",
             "ticks": "outside"
            },
            "colorscale": [
             [
              0,
              "#440154"
             ],
             [
              0.1111111111111111,
              "#482878"
             ],
             [
              0.2222222222222222,
              "#3e4989"
             ],
             [
              0.3333333333333333,
              "#31688e"
             ],
             [
              0.4444444444444444,
              "#26828e"
             ],
             [
              0.5555555555555556,
              "#1f9e89"
             ],
             [
              0.6666666666666666,
              "#35b779"
             ],
             [
              0.7777777777777778,
              "#6ece58"
             ],
             [
              0.8888888888888888,
              "#b5de2b"
             ],
             [
              1,
              "#fde725"
             ]
            ],
            "type": "heatmap"
           }
          ],
          "heatmapgl": [
           {
            "colorbar": {
             "outlinewidth": 1,
             "tickcolor": "rgb(36,36,36)",
             "ticks": "outside"
            },
            "colorscale": [
             [
              0,
              "#440154"
             ],
             [
              0.1111111111111111,
              "#482878"
             ],
             [
              0.2222222222222222,
              "#3e4989"
             ],
             [
              0.3333333333333333,
              "#31688e"
             ],
             [
              0.4444444444444444,
              "#26828e"
             ],
             [
              0.5555555555555556,
              "#1f9e89"
             ],
             [
              0.6666666666666666,
              "#35b779"
             ],
             [
              0.7777777777777778,
              "#6ece58"
             ],
             [
              0.8888888888888888,
              "#b5de2b"
             ],
             [
              1,
              "#fde725"
             ]
            ],
            "type": "heatmapgl"
           }
          ],
          "histogram": [
           {
            "marker": {
             "line": {
              "color": "white",
              "width": 0.6
             }
            },
            "type": "histogram"
           }
          ],
          "histogram2d": [
           {
            "colorbar": {
             "outlinewidth": 1,
             "tickcolor": "rgb(36,36,36)",
             "ticks": "outside"
            },
            "colorscale": [
             [
              0,
              "#440154"
             ],
             [
              0.1111111111111111,
              "#482878"
             ],
             [
              0.2222222222222222,
              "#3e4989"
             ],
             [
              0.3333333333333333,
              "#31688e"
             ],
             [
              0.4444444444444444,
              "#26828e"
             ],
             [
              0.5555555555555556,
              "#1f9e89"
             ],
             [
              0.6666666666666666,
              "#35b779"
             ],
             [
              0.7777777777777778,
              "#6ece58"
             ],
             [
              0.8888888888888888,
              "#b5de2b"
             ],
             [
              1,
              "#fde725"
             ]
            ],
            "type": "histogram2d"
           }
          ],
          "histogram2dcontour": [
           {
            "colorbar": {
             "outlinewidth": 1,
             "tickcolor": "rgb(36,36,36)",
             "ticks": "outside"
            },
            "colorscale": [
             [
              0,
              "#440154"
             ],
             [
              0.1111111111111111,
              "#482878"
             ],
             [
              0.2222222222222222,
              "#3e4989"
             ],
             [
              0.3333333333333333,
              "#31688e"
             ],
             [
              0.4444444444444444,
              "#26828e"
             ],
             [
              0.5555555555555556,
              "#1f9e89"
             ],
             [
              0.6666666666666666,
              "#35b779"
             ],
             [
              0.7777777777777778,
              "#6ece58"
             ],
             [
              0.8888888888888888,
              "#b5de2b"
             ],
             [
              1,
              "#fde725"
             ]
            ],
            "type": "histogram2dcontour"
           }
          ],
          "mesh3d": [
           {
            "colorbar": {
             "outlinewidth": 1,
             "tickcolor": "rgb(36,36,36)",
             "ticks": "outside"
            },
            "type": "mesh3d"
           }
          ],
          "parcoords": [
           {
            "line": {
             "colorbar": {
              "outlinewidth": 1,
              "tickcolor": "rgb(36,36,36)",
              "ticks": "outside"
             }
            },
            "type": "parcoords"
           }
          ],
          "pie": [
           {
            "automargin": true,
            "type": "pie"
           }
          ],
          "scatter": [
           {
            "fillpattern": {
             "fillmode": "overlay",
             "size": 10,
             "solidity": 0.2
            },
            "type": "scatter"
           }
          ],
          "scatter3d": [
           {
            "line": {
             "colorbar": {
              "outlinewidth": 1,
              "tickcolor": "rgb(36,36,36)",
              "ticks": "outside"
             }
            },
            "marker": {
             "colorbar": {
              "outlinewidth": 1,
              "tickcolor": "rgb(36,36,36)",
              "ticks": "outside"
             }
            },
            "type": "scatter3d"
           }
          ],
          "scattercarpet": [
           {
            "marker": {
             "colorbar": {
              "outlinewidth": 1,
              "tickcolor": "rgb(36,36,36)",
              "ticks": "outside"
             }
            },
            "type": "scattercarpet"
           }
          ],
          "scattergeo": [
           {
            "marker": {
             "colorbar": {
              "outlinewidth": 1,
              "tickcolor": "rgb(36,36,36)",
              "ticks": "outside"
             }
            },
            "type": "scattergeo"
           }
          ],
          "scattergl": [
           {
            "marker": {
             "colorbar": {
              "outlinewidth": 1,
              "tickcolor": "rgb(36,36,36)",
              "ticks": "outside"
             }
            },
            "type": "scattergl"
           }
          ],
          "scattermapbox": [
           {
            "marker": {
             "colorbar": {
              "outlinewidth": 1,
              "tickcolor": "rgb(36,36,36)",
              "ticks": "outside"
             }
            },
            "type": "scattermapbox"
           }
          ],
          "scatterpolar": [
           {
            "marker": {
             "colorbar": {
              "outlinewidth": 1,
              "tickcolor": "rgb(36,36,36)",
              "ticks": "outside"
             }
            },
            "type": "scatterpolar"
           }
          ],
          "scatterpolargl": [
           {
            "marker": {
             "colorbar": {
              "outlinewidth": 1,
              "tickcolor": "rgb(36,36,36)",
              "ticks": "outside"
             }
            },
            "type": "scatterpolargl"
           }
          ],
          "scatterternary": [
           {
            "marker": {
             "colorbar": {
              "outlinewidth": 1,
              "tickcolor": "rgb(36,36,36)",
              "ticks": "outside"
             }
            },
            "type": "scatterternary"
           }
          ],
          "surface": [
           {
            "colorbar": {
             "outlinewidth": 1,
             "tickcolor": "rgb(36,36,36)",
             "ticks": "outside"
            },
            "colorscale": [
             [
              0,
              "#440154"
             ],
             [
              0.1111111111111111,
              "#482878"
             ],
             [
              0.2222222222222222,
              "#3e4989"
             ],
             [
              0.3333333333333333,
              "#31688e"
             ],
             [
              0.4444444444444444,
              "#26828e"
             ],
             [
              0.5555555555555556,
              "#1f9e89"
             ],
             [
              0.6666666666666666,
              "#35b779"
             ],
             [
              0.7777777777777778,
              "#6ece58"
             ],
             [
              0.8888888888888888,
              "#b5de2b"
             ],
             [
              1,
              "#fde725"
             ]
            ],
            "type": "surface"
           }
          ],
          "table": [
           {
            "cells": {
             "fill": {
              "color": "rgb(237,237,237)"
             },
             "line": {
              "color": "white"
             }
            },
            "header": {
             "fill": {
              "color": "rgb(217,217,217)"
             },
             "line": {
              "color": "white"
             }
            },
            "type": "table"
           }
          ]
         },
         "layout": {
          "annotationdefaults": {
           "arrowhead": 0,
           "arrowwidth": 1
          },
          "autotypenumbers": "strict",
          "coloraxis": {
           "colorbar": {
            "outlinewidth": 1,
            "tickcolor": "rgb(36,36,36)",
            "ticks": "outside"
           }
          },
          "colorscale": {
           "diverging": [
            [
             0,
             "rgb(103,0,31)"
            ],
            [
             0.1,
             "rgb(178,24,43)"
            ],
            [
             0.2,
             "rgb(214,96,77)"
            ],
            [
             0.3,
             "rgb(244,165,130)"
            ],
            [
             0.4,
             "rgb(253,219,199)"
            ],
            [
             0.5,
             "rgb(247,247,247)"
            ],
            [
             0.6,
             "rgb(209,229,240)"
            ],
            [
             0.7,
             "rgb(146,197,222)"
            ],
            [
             0.8,
             "rgb(67,147,195)"
            ],
            [
             0.9,
             "rgb(33,102,172)"
            ],
            [
             1,
             "rgb(5,48,97)"
            ]
           ],
           "sequential": [
            [
             0,
             "#440154"
            ],
            [
             0.1111111111111111,
             "#482878"
            ],
            [
             0.2222222222222222,
             "#3e4989"
            ],
            [
             0.3333333333333333,
             "#31688e"
            ],
            [
             0.4444444444444444,
             "#26828e"
            ],
            [
             0.5555555555555556,
             "#1f9e89"
            ],
            [
             0.6666666666666666,
             "#35b779"
            ],
            [
             0.7777777777777778,
             "#6ece58"
            ],
            [
             0.8888888888888888,
             "#b5de2b"
            ],
            [
             1,
             "#fde725"
            ]
           ],
           "sequentialminus": [
            [
             0,
             "#440154"
            ],
            [
             0.1111111111111111,
             "#482878"
            ],
            [
             0.2222222222222222,
             "#3e4989"
            ],
            [
             0.3333333333333333,
             "#31688e"
            ],
            [
             0.4444444444444444,
             "#26828e"
            ],
            [
             0.5555555555555556,
             "#1f9e89"
            ],
            [
             0.6666666666666666,
             "#35b779"
            ],
            [
             0.7777777777777778,
             "#6ece58"
            ],
            [
             0.8888888888888888,
             "#b5de2b"
            ],
            [
             1,
             "#fde725"
            ]
           ]
          },
          "colorway": [
           "#1F77B4",
           "#FF7F0E",
           "#2CA02C",
           "#D62728",
           "#9467BD",
           "#8C564B",
           "#E377C2",
           "#7F7F7F",
           "#BCBD22",
           "#17BECF"
          ],
          "font": {
           "color": "rgb(36,36,36)"
          },
          "geo": {
           "bgcolor": "white",
           "lakecolor": "white",
           "landcolor": "white",
           "showlakes": true,
           "showland": true,
           "subunitcolor": "white"
          },
          "hoverlabel": {
           "align": "left"
          },
          "hovermode": "closest",
          "mapbox": {
           "style": "light"
          },
          "paper_bgcolor": "white",
          "plot_bgcolor": "white",
          "polar": {
           "angularaxis": {
            "gridcolor": "rgb(232,232,232)",
            "linecolor": "rgb(36,36,36)",
            "showgrid": false,
            "showline": true,
            "ticks": "outside"
           },
           "bgcolor": "white",
           "radialaxis": {
            "gridcolor": "rgb(232,232,232)",
            "linecolor": "rgb(36,36,36)",
            "showgrid": false,
            "showline": true,
            "ticks": "outside"
           }
          },
          "scene": {
           "xaxis": {
            "backgroundcolor": "white",
            "gridcolor": "rgb(232,232,232)",
            "gridwidth": 2,
            "linecolor": "rgb(36,36,36)",
            "showbackground": true,
            "showgrid": false,
            "showline": true,
            "ticks": "outside",
            "zeroline": false,
            "zerolinecolor": "rgb(36,36,36)"
           },
           "yaxis": {
            "backgroundcolor": "white",
            "gridcolor": "rgb(232,232,232)",
            "gridwidth": 2,
            "linecolor": "rgb(36,36,36)",
            "showbackground": true,
            "showgrid": false,
            "showline": true,
            "ticks": "outside",
            "zeroline": false,
            "zerolinecolor": "rgb(36,36,36)"
           },
           "zaxis": {
            "backgroundcolor": "white",
            "gridcolor": "rgb(232,232,232)",
            "gridwidth": 2,
            "linecolor": "rgb(36,36,36)",
            "showbackground": true,
            "showgrid": false,
            "showline": true,
            "ticks": "outside",
            "zeroline": false,
            "zerolinecolor": "rgb(36,36,36)"
           }
          },
          "shapedefaults": {
           "fillcolor": "black",
           "line": {
            "width": 0
           },
           "opacity": 0.3
          },
          "ternary": {
           "aaxis": {
            "gridcolor": "rgb(232,232,232)",
            "linecolor": "rgb(36,36,36)",
            "showgrid": false,
            "showline": true,
            "ticks": "outside"
           },
           "baxis": {
            "gridcolor": "rgb(232,232,232)",
            "linecolor": "rgb(36,36,36)",
            "showgrid": false,
            "showline": true,
            "ticks": "outside"
           },
           "bgcolor": "white",
           "caxis": {
            "gridcolor": "rgb(232,232,232)",
            "linecolor": "rgb(36,36,36)",
            "showgrid": false,
            "showline": true,
            "ticks": "outside"
           }
          },
          "title": {
           "x": 0.05
          },
          "xaxis": {
           "automargin": true,
           "gridcolor": "rgb(232,232,232)",
           "linecolor": "rgb(36,36,36)",
           "showgrid": false,
           "showline": true,
           "ticks": "outside",
           "title": {
            "standoff": 15
           },
           "zeroline": false,
           "zerolinecolor": "rgb(36,36,36)"
          },
          "yaxis": {
           "automargin": true,
           "gridcolor": "rgb(232,232,232)",
           "linecolor": "rgb(36,36,36)",
           "showgrid": false,
           "showline": true,
           "ticks": "outside",
           "title": {
            "standoff": 15
           },
           "zeroline": false,
           "zerolinecolor": "rgb(36,36,36)"
          }
         }
        },
        "title": {
         "font": {
          "size": 20
         },
         "text": "Optimal Material Combinations to Comprise Desired Composite",
         "x": 0.15
        }
       }
      }
     },
     "metadata": {},
     "output_type": "display_data"
    }
   ],
   "source": [
    "import os\n",
    "import json\n",
    "from datetime import datetime\n",
    "\n",
    "# Directory where the files are located\n",
    "directory = './'\n",
    "\n",
    "# Function to get the latest consolidated dict file\n",
    "def get_latest_consolidated_dict_file(directory):\n",
    "    # List all files in the directory\n",
    "    files = os.listdir(directory)\n",
    "    \n",
    "    # Filter out only the consolidated_dict files\n",
    "    consolidated_files = [f for f in files if f.startswith('consolidated_dict_')]\n",
    "    \n",
    "    # Sort the files by date and time in the filename\n",
    "    consolidated_files.sort(key=lambda x: datetime.strptime(x, 'consolidated_dict_%m_%d_%Y_%H_%M_%S'))\n",
    "    \n",
    "    # Return the latest file\n",
    "    latest_file = consolidated_files[-1] if consolidated_files else None\n",
    "    return latest_file\n",
    "\n",
    "# Get the latest consolidated dict file\n",
    "latest_file = get_latest_consolidated_dict_file(directory)\n",
    "\n",
    "if latest_file:\n",
    "    # Open the latest consolidated dict file\n",
    "    with open(os.path.join(directory, latest_file), 'r') as f:\n",
    "        consolidated_dict = json.load(f)\n",
    "        print(f\"Loaded consolidated_dict from {latest_file}\")\n",
    "else:\n",
    "    print(\"No consolidated dict file found.\")\n",
    "\n",
    "\n",
    "HS.get_material_match_costs(matches_dict=matches_dict, consolidated_dict=consolidated_dict)"
   ]
  },
  {
   "cell_type": "code",
   "execution_count": 10,
   "metadata": {},
   "outputs": [
    {
     "data": {
      "text/plain": [
       "['carrier-transport', 'elastic']"
      ]
     },
     "execution_count": 10,
     "metadata": {},
     "output_type": "execute_result"
    }
   ],
   "source": [
    "HS.property_categories"
   ]
  },
  {
   "cell_type": "code",
   "execution_count": 11,
   "metadata": {},
   "outputs": [
    {
     "data": {
      "text/plain": [
       "<function dict.values>"
      ]
     },
     "execution_count": 11,
     "metadata": {},
     "output_type": "execute_result"
    }
   ],
   "source": [
    "HS.property_docs.values"
   ]
  },
  {
   "cell_type": "code",
   "execution_count": null,
   "metadata": {},
   "outputs": [],
   "source": []
  }
 ],
 "metadata": {
  "kernelspec": {
   "display_name": "carla_mp_api",
   "language": "python",
   "name": "python3"
  },
  "language_info": {
   "codemirror_mode": {
    "name": "ipython",
    "version": 3
   },
   "file_extension": ".py",
   "mimetype": "text/x-python",
   "name": "python",
   "nbconvert_exporter": "python",
   "pygments_lexer": "ipython3",
   "version": "3.9.18"
  }
 },
 "nbformat": 4,
 "nbformat_minor": 2
}
