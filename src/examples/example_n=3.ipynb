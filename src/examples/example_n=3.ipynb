{
 "cells": [
  {
   "cell_type": "markdown",
   "metadata": {},
   "source": [
    "## Testing the Composites Discovery App with n=3 phases"
   ]
  },
  {
   "cell_type": "code",
   "execution_count": 1,
   "metadata": {},
   "outputs": [
    {
     "name": "stdout",
     "output_type": "stream",
     "text": [
      "User Input:  {'mat_1': {'elec_cond_300k_low_doping': {'upper_bound': 78.0, 'lower_bound': 1e-07}, 'therm_cond_300k_low_doping': {'upper_bound': 2.0, 'lower_bound': 1e-07}, 'bulk_modulus': {'upper_bound': 100.0, 'lower_bound': 50.0}, 'shear_modulus': {'upper_bound': 100.0, 'lower_bound': 80.0}, 'universal_anisotropy': {'upper_bound': 2.0, 'lower_bound': 1.0}}, 'mat_2': {'elec_cond_300k_low_doping': {'upper_bound': 78.0, 'lower_bound': 1e-07}, 'therm_cond_300k_low_doping': {'upper_bound': 2.0, 'lower_bound': 1e-07}, 'bulk_modulus': {'upper_bound': 400.0, 'lower_bound': 20.0}, 'shear_modulus': {'upper_bound': 200.0, 'lower_bound': 100.0}, 'universal_anisotropy': {'upper_bound': 2.3, 'lower_bound': 1.3}}, 'mat_3': {'elec_cond_300k_low_doping': {'upper_bound': 78.0, 'lower_bound': 1e-07}, 'therm_cond_300k_low_doping': {'upper_bound': 2.0, 'lower_bound': 1e-07}, 'bulk_modulus': {'upper_bound': 300.0, 'lower_bound': 20.0}, 'shear_modulus': {'upper_bound': 300.0, 'lower_bound': 100.0}, 'universal_anisotropy': {'upper_bound': 2.1, 'lower_bound': 0.9}}, 'mixture': {'elec_cond_300k_low_doping': {'desired_prop': 9.0}, 'therm_cond_300k_low_doping': {'desired_prop': 0.007}, 'bulk_modulus': {'desired_prop': 234.0}, 'shear_modulus': {'desired_prop': 150.0}, 'universal_anisotropy': {'desired_prop': 1.5}}}\n",
      "Overall Upper & Lower Bounds:\n",
      "Property: elec_cond_300k_low_doping, Upper Bound: 78.0, Lower Bound: 1e-07\n",
      "Property: therm_cond_300k_low_doping, Upper Bound: 2.0, Lower Bound: 1e-07\n",
      "Property: bulk_modulus, Upper Bound: 400.0, Lower Bound: 20.0\n",
      "Property: shear_modulus, Upper Bound: 300.0, Lower Bound: 80.0\n",
      "Property: universal_anisotropy, Upper Bound: 2.3, Lower Bound: 0.9\n",
      "{'elec_cond_300k_low_doping': {'upper_bound': 78.0, 'lower_bound': 1e-07}, 'therm_cond_300k_low_doping': {'upper_bound': 2.0, 'lower_bound': 1e-07}, 'bulk_modulus': {'upper_bound': 400.0, 'lower_bound': 20.0}, 'shear_modulus': {'upper_bound': 300.0, 'lower_bound': 80.0}, 'universal_anisotropy': {'upper_bound': 2.3, 'lower_bound': 0.9}}\n"
     ]
    }
   ],
   "source": [
    "import sys  \n",
    "sys.path.insert(1, '../core')\n",
    "from user_input import MaterialProperty, Material, MixtureProperty, Mixture, UserInput\n",
    "\n",
    "# Define properties for each material\n",
    "properties_mat_1 = [\n",
    "    MaterialProperty(prop='elec_cond_300k_low_doping', upper_bound=78, lower_bound=1e-7), # upper_bound=20, lower_bound=1 \n",
    "    MaterialProperty(prop='therm_cond_300k_low_doping', upper_bound=2, lower_bound=1e-7), # upper_bound=0.0001, lower_bound=1e-5 \n",
    "    MaterialProperty(prop='bulk_modulus', upper_bound=100, lower_bound=50),\n",
    "    MaterialProperty(prop='shear_modulus', upper_bound=100, lower_bound=80),\n",
    "    MaterialProperty(prop='universal_anisotropy', upper_bound=2, lower_bound=1),\n",
    "]\n",
    "\n",
    "properties_mat_2 = [\n",
    "    MaterialProperty(prop='elec_cond_300k_low_doping', upper_bound=78, lower_bound=1e-7), # upper_bound=5, lower_bound=2\n",
    "    MaterialProperty(prop='therm_cond_300k_low_doping', upper_bound=2, lower_bound=1e-7), # upper_bound=0.009, lower_bound=1e-4\n",
    "    MaterialProperty(prop='bulk_modulus', upper_bound=400, lower_bound=20),\n",
    "    MaterialProperty(prop='shear_modulus', upper_bound=200, lower_bound=100),\n",
    "    MaterialProperty(prop='universal_anisotropy', upper_bound=2.3, lower_bound=1.3),\n",
    "]\n",
    "\n",
    "properties_mat_3 = [\n",
    "    MaterialProperty(prop='elec_cond_300k_low_doping', upper_bound=78, lower_bound=1e-7), # upper_bound=10, lower_bound=1\n",
    "    MaterialProperty(prop='therm_cond_300k_low_doping', upper_bound=2, lower_bound=1e-7), # upper_bound=0.005, lower_bound=1e-4\n",
    "    MaterialProperty(prop='bulk_modulus', upper_bound=300, lower_bound=20),\n",
    "    MaterialProperty(prop='shear_modulus', upper_bound=300, lower_bound=100),\n",
    "    MaterialProperty(prop='universal_anisotropy', upper_bound=2.1, lower_bound=0.9),\n",
    "]\n",
    "\n",
    "# Define properties for the mixture\n",
    "properties_mixture = [\n",
    "    MixtureProperty(prop='elec_cond_300k_low_doping', desired_prop=9),\n",
    "    MixtureProperty(prop='therm_cond_300k_low_doping', desired_prop=0.007),\n",
    "    MixtureProperty(prop='bulk_modulus', desired_prop=234),\n",
    "    MixtureProperty(prop='shear_modulus', desired_prop=150),\n",
    "    MixtureProperty(prop='universal_anisotropy', desired_prop=1.5),\n",
    "]\n",
    "\n",
    "# Create Material & Mixture instances\n",
    "mat_1 = Material(name='mat_1', properties=properties_mat_1)\n",
    "mat_2 = Material(name='mat_2', properties=properties_mat_2)\n",
    "mat_3 = Material(name='mat_3', properties=properties_mat_3)\n",
    "mixture = Mixture(name='mixture', properties=properties_mixture)\n",
    "aggregate = [mat_1, mat_2, mat_3, mixture]\n",
    "\n",
    "# Initialize UserInput instance with materials and mixtures\n",
    "user_input= UserInput(materials=[mat_1, mat_2, mat_3], mixtures=[mixture])\n",
    "print(\"User Input: \", user_input)\n",
    "\n",
    "# Initialize dictionaries to store the overall upper and lower bounds for each property\n",
    "overall_bounds = {}\n",
    "\n",
    "# Iterate over materials\n",
    "for entity in aggregate:\n",
    "    # Skip the mixture as it doesn't have upper and lower bounds\n",
    "    if isinstance(entity, Material):\n",
    "        for property in entity.properties:\n",
    "            prop_name = property.prop\n",
    "\n",
    "            # Initialize the overall bounds if they are not already present for the property\n",
    "            if prop_name not in overall_bounds:\n",
    "                overall_bounds[prop_name] = {'upper_bound': property.upper_bound, 'lower_bound': property.lower_bound}\n",
    "            else:\n",
    "                # Update overall upper and lower bounds by comparing with existing values\n",
    "                overall_bounds[prop_name]['upper_bound'] = max(overall_bounds[prop_name]['upper_bound'], property.upper_bound)\n",
    "                overall_bounds[prop_name]['lower_bound'] = min(overall_bounds[prop_name]['lower_bound'], property.lower_bound)\n",
    "\n",
    "# Print the overall bounds for each property\n",
    "print(\"Overall Upper & Lower Bounds:\")\n",
    "for prop, bounds in overall_bounds.items():\n",
    "    print(f\"Property: {prop}, Upper Bound: {bounds['upper_bound']}, Lower Bound: {bounds['lower_bound']}\")\n",
    "\n",
    "\n",
    "# Step 1: Create the consolidated_dict\n",
    "overall_bounds_dict = {}\n",
    "for prop, bounds in overall_bounds.items():\n",
    "    overall_bounds_dict[prop] = {\n",
    "        'upper_bound': bounds['upper_bound'],\n",
    "        'lower_bound': bounds['lower_bound']\n",
    "    }\n",
    "\n",
    "print(overall_bounds_dict)\n"
   ]
  },
  {
   "cell_type": "code",
   "execution_count": 2,
   "metadata": {},
   "outputs": [
    {
     "name": "stderr",
     "output_type": "stream",
     "text": [
      "/Users/carlabecker/opt/anaconda3/envs/carla_mp_api/lib/python3.9/site-packages/mpcontribs/client/__init__.py:88: FutureWarning: use_inf_as_na option is deprecated and will be removed in a future version. Convert inf values to NaN before operating instead.\n",
      "  pd.set_option('mode.use_inf_as_na', True)\n",
      "2024-09-25 23:55:51,583 - custom_logger - INFO - Loading property categories from /Users/carlabecker/Library/Mobile Documents/com~apple~CloudDocs/Carla's Desktop/UC Berkeley/Research/Materials Project/hashin_shtrikman_mp/src/core/../io/inputs/mp_property_docs.yaml.\n",
      "2024-09-25 23:55:51,589 - custom_logger - INFO - property_categories = ['carrier-transport', 'elastic']\n",
      "2024-09-25 23:55:51,591 - custom_logger - INFO - mixture_props = {'elec_cond_300k_low_doping': {'desired_prop': 9.0}, 'therm_cond_300k_low_doping': {'desired_prop': 0.007}, 'bulk_modulus': {'desired_prop': 234.0}, 'shear_modulus': {'desired_prop': 150.0}, 'universal_anisotropy': {'desired_prop': 1.5}}\n"
     ]
    },
    {
     "name": "stdout",
     "output_type": "stream",
     "text": [
      "self.nuild_dict: <bound method UserInput.build_dict of {'mat_1': {'elec_cond_300k_low_doping': {'upper_bound': 78.0, 'lower_bound': 1e-07}, 'therm_cond_300k_low_doping': {'upper_bound': 2.0, 'lower_bound': 1e-07}, 'bulk_modulus': {'upper_bound': 100.0, 'lower_bound': 50.0}, 'shear_modulus': {'upper_bound': 100.0, 'lower_bound': 80.0}, 'universal_anisotropy': {'upper_bound': 2.0, 'lower_bound': 1.0}}, 'mat_2': {'elec_cond_300k_low_doping': {'upper_bound': 78.0, 'lower_bound': 1e-07}, 'therm_cond_300k_low_doping': {'upper_bound': 2.0, 'lower_bound': 1e-07}, 'bulk_modulus': {'upper_bound': 400.0, 'lower_bound': 20.0}, 'shear_modulus': {'upper_bound': 200.0, 'lower_bound': 100.0}, 'universal_anisotropy': {'upper_bound': 2.3, 'lower_bound': 1.3}}, 'mat_3': {'elec_cond_300k_low_doping': {'upper_bound': 78.0, 'lower_bound': 1e-07}, 'therm_cond_300k_low_doping': {'upper_bound': 2.0, 'lower_bound': 1e-07}, 'bulk_modulus': {'upper_bound': 300.0, 'lower_bound': 20.0}, 'shear_modulus': {'upper_bound': 300.0, 'lower_bound': 100.0}, 'universal_anisotropy': {'upper_bound': 2.1, 'lower_bound': 0.9}}, 'mixture': {'elec_cond_300k_low_doping': {'desired_prop': 9.0}, 'therm_cond_300k_low_doping': {'desired_prop': 0.007}, 'bulk_modulus': {'desired_prop': 234.0}, 'shear_modulus': {'desired_prop': 150.0}, 'universal_anisotropy': {'desired_prop': 1.5}}}>\n",
      "Property categories:  ['carrier-transport', 'elastic']\n",
      "Property docs:  {'carrier-transport': {'elec_cond_300k_low_doping': None, 'therm_cond_300k_low_doping': None}, 'dielectric': {'e_electronic': None, 'e_ionic': None, 'e_total': None, 'n': None}, 'elastic': {'bulk_modulus': 'voigt', 'shear_modulus': 'voigt', 'universal_anisotropy': None}, 'magnetic': {'total_magnetization': None, 'total_magnetization_normalized_vol': None}, 'piezoelectric': {'e_ij_max': None}}\n",
      "Lower Bounds: {'mat_1': {'carrier-transport': [1e-07, 1e-07], 'elastic': [50.0, 80.0, 1.0]}, 'mat_2': {'carrier-transport': [1e-07, 1e-07], 'elastic': [20.0, 100.0, 1.3]}, 'mat_3': {'carrier-transport': [1e-07, 1e-07], 'elastic': [20.0, 100.0, 0.9]}, 'volume-fractions': [0.01, 0.01, 0.01]}\n",
      "Upper Bounds: {'mat_1': {'carrier-transport': [78.0, 2.0], 'elastic': [100.0, 100.0, 2.0]}, 'mat_2': {'carrier-transport': [78.0, 2.0], 'elastic': [400.0, 200.0, 2.3]}, 'mat_3': {'carrier-transport': [78.0, 2.0], 'elastic': [300.0, 300.0, 2.1]}, 'volume-fractions': [0.99, 0.99, 0.99]}\n",
      "Number of Materials: 3\n",
      "Number of Properties: 6\n"
     ]
    }
   ],
   "source": [
    "from optimization import HashinShtrikman\n",
    "HS = HashinShtrikman(api_key=\"uJpFxJJGKCSp9s1shwg9HmDuNjCDfWbM\", user_input=user_input)\n",
    "\n",
    "print(\"Property categories: \", HS.property_categories)\n",
    "print(\"Property docs: \", HS.property_docs)\n",
    "\n",
    "print(\"Lower Bounds:\", HS.lower_bounds)\n",
    "print(\"Upper Bounds:\", HS.upper_bounds)\n",
    "\n",
    "print(\"Number of Materials:\", HS.num_materials)\n",
    "print(\"Number of Properties:\", HS.num_properties)"
   ]
  },
  {
   "cell_type": "code",
   "execution_count": 3,
   "metadata": {},
   "outputs": [
    {
     "name": "stdout",
     "output_type": "stream",
     "text": [
      "{'material_id': ['mp-546266', 'mp-12863', 'mp-1509', 'mp-1029799', 'mp-16290'], 'is_stable': [True, False, True, True, False], 'band_gap': [1.3667999999999996, 0.0, 0.7774000000000001, 1.0132999999999996, 0.0], 'is_metal': [False, True, False, False, True], 'formula_pretty': ['DyBi2IO4', 'Ba(AlSi)2', 'Sn2S3', 'Sr4TiN4', 'ZnNi3C'], 'mp-ids-contrib': ['mp-546266', 'mp-12863', 'mp-1509', 'mp-22192', 'mp-16290'], 'elec_cond_300k_low_doping': [12.7262, 2642302.9999999995, 3.71323, 2.23963, 2548302.4], 'therm_cond_300k_low_doping': [7.1457e-05, 19.2792, 1.90284e-05, 3.3981e-05, 17.8791], 'bulk_modulus': [74.071, 46.928, 20.346, 73.379, 194.302], 'shear_modulus': [40.463, 23.063, 13.493, 36.558, 64.537], 'universal_anisotropy': [1.443, 24.189, 2.364, 0.956, 2.102]}\n"
     ]
    }
   ],
   "source": [
    "# Testing without calls to generate final dict (faster)\n",
    "import json\n",
    "consolidated_dict = {}\n",
    "with open(\"consolidated_dict_02_11_2024_23_45_58\") as f:\n",
    "    consolidated_dict = json.load(f)\n",
    "print(consolidated_dict)"
   ]
  },
  {
   "cell_type": "code",
   "execution_count": 4,
   "metadata": {},
   "outputs": [],
   "source": [
    "# Run the optimization to obtain n=3 materials and their volume fractions that achieve the desired composite material properties\n",
    "HS.set_HS_optim_params(gen_counter=False)"
   ]
  },
  {
   "cell_type": "code",
   "execution_count": 5,
   "metadata": {},
   "outputs": [
    {
     "data": {
      "application/vnd.plotly.v1+json": {
       "config": {
        "plotlyServerURL": "https://plot.ly"
       },
       "data": [
        {
         "cells": {
          "align": "left",
          "fill": {
           "color": [
            [
             "white",
             "lightgrey",
             "white",
             "lightgrey",
             "white",
             "lightgrey",
             "white",
             "lightgrey",
             "white",
             "lightgrey"
            ]
           ]
          },
          "font": {
           "size": 12
          },
          "height": 30,
          "values": [
           [
            0.34605865470104674,
            3.0057960490377216,
            74.86260286117093,
            46.568377837355946,
            7.093005230569461,
            41.29720929986253,
            55.444264216871055,
            50.417248078981686,
            10.03279095705869,
            43.54954792965229
           ],
           [
            1.674343804444923,
            1.6652330311154036,
            1.467711578498664,
            1.5683401786317457,
            1.3789752996409506,
            0.3378575021637923,
            1.812162815965103,
            0.7945750483663953,
            1.4030016740085716,
            0.9263598263794501
           ],
           [
            77.84639962815336,
            53.93554166726041,
            94.7327824722011,
            79.3168470004584,
            61.146296262893,
            79.84138512556117,
            80.81870628011704,
            98.13390447984384,
            87.7809688857539,
            89.76745319517671
           ],
           [
            90.15569126859546,
            92.89043487973652,
            81.2785516639262,
            83.26460113048307,
            88.16190608831742,
            93.46162582127195,
            88.50633434913436,
            80.01928987356344,
            89.49479807525873,
            86.5627749057555
           ],
           [
            1.1867609912701091,
            1.1471298201433413,
            1.0717582331317015,
            1.409643807515251,
            1.9955967663543182,
            1.7766047239749034,
            1.1549875997280017,
            1.0709200905185456,
            1.1409159831711984,
            1.0175769344234187
           ],
           [
            76.17308483317267,
            56.051066274617106,
            50.50911854226804,
            69.89604180073079,
            37.08104322418155,
            66.71534061407115,
            2.3253873327576198,
            31.57933922181585,
            61.13799015122004,
            13.726858079456745
           ],
           [
            0.45470731098863,
            0.554488063775016,
            0.05787513544680094,
            1.5239451370528903,
            1.5802516135933573,
            0.15319829575149993,
            0.5576682311065242,
            1.9639816084292607,
            1.6314470273738366,
            0.853068804989444
           ],
           [
            333.2968675139403,
            297.9713814842255,
            285.3385543431261,
            242.2386546826019,
            200.11681245593215,
            214.3371769482839,
            352.9954941434029,
            179.2933748256259,
            233.60274302243383,
            150.7866429525297
           ],
           [
            169.57250635436304,
            116.25614531558092,
            108.58583868300882,
            108.12313222167614,
            156.8145754772531,
            158.7591238620928,
            199.43347016453419,
            182.34862598661573,
            199.7021869236425,
            131.19731551465716
           ],
           [
            1.6822279600797576,
            2.141248117623652,
            2.2630726970379325,
            1.9765944413074616,
            2.1227268655261406,
            2.1528316869536743,
            1.9232082594616,
            1.7337159499121932,
            1.8600560074783004,
            2.1866820026292837
           ],
           [
            74.94659658734523,
            36.41582877391449,
            66.04109288736475,
            45.59827192948844,
            66.55675417094551,
            16.732284517992934,
            64.36330283620069,
            5.5246215016352185,
            26.0396601554147,
            23.587998231524693
           ],
           [
            0.6819286664678563,
            1.0542994158499783,
            0.817543292344452,
            1.8290776586592892,
            1.8501696728321628,
            1.5103371055320838,
            1.6495952679200845,
            1.9667054527425074,
            1.048673727136788,
            0.7799188512057298
           ],
           [
            264.65088060200924,
            147.8234353687622,
            136.18659687992837,
            193.37483472782068,
            284.53302706655853,
            79.81345943884233,
            20.571707654561372,
            251.39882280269276,
            65.22740311059728,
            192.70449871802344
           ],
           [
            178.796904006499,
            191.74527886742237,
            278.38926166267345,
            283.80878627189156,
            189.1620381527002,
            285.0130453695615,
            203.4172496975633,
            143.8289873447785,
            287.3657971837599,
            255.54324650478628
           ],
           [
            1.2810747889303784,
            1.727131589935208,
            1.5669193149341263,
            1.2533394023901028,
            1.0752210144872214,
            1.3025350686114148,
            1.5291171072007939,
            1.6465024886152198,
            1.2888847506813768,
            1.699929634191003
           ],
           [
            0.37536098089238784,
            0.6984652288801032,
            0.6168222535636736,
            0.09588580720578105,
            0.13358191749373977,
            0.2546970433344675,
            0.3858312633719464,
            0.35925107661940664,
            0.3507826901780979,
            0.4461464010420842
           ],
           [
            0.6140511441411585,
            0.23744110047030403,
            0.21118853839271648,
            0.7452850972547038,
            0.28473697407722603,
            0.3156277081850003,
            0.3714468667322427,
            0.28581309578608594,
            0.49146072368001675,
            0.33014687451402286
           ],
           [
            0.010587874966453636,
            0.0640936706495927,
            0.17198920804360995,
            0.15882909553951507,
            0.5816811084290342,
            0.4296752484805322,
            0.2427218698958109,
            0.35493582759450737,
            0.15775658614188537,
            0.22370672444389295
           ],
           [
            13.925,
            20.991,
            22.117,
            22.479,
            23.478,
            23.832,
            23.979,
            24.243,
            24.966,
            25.102
           ]
          ]
         },
         "columnwidth": 1000,
         "header": {
          "align": "left",
          "fill": {
           "color": "lavender"
          },
          "font": {
           "size": 12
          },
          "height": 30,
          "values": [
           "Phase 1 Electrical conductivity, [S/m]",
           "Phase 2 Electrical conductivity, [S/m]",
           "Phase 3 Electrical conductivity, [S/m]",
           "Phase 1 Thermal conductivity, [W/m/K]",
           "Phase 2 Thermal conductivity, [W/m/K]",
           "Phase 3 Thermal conductivity, [W/m/K]",
           "Phase 1 Bulk modulus, [GPa]",
           "Phase 2 Bulk modulus, [GPa]",
           "Phase 3 Bulk modulus, [GPa]",
           "Phase 1 Shear modulus, [GPa]",
           "Phase 2 Shear modulus, [GPa]",
           "Phase 3 Shear modulus, [GPa]",
           "Phase 1 Universal anisotropy, []",
           "Phase 2 Universal anisotropy, []",
           "Phase 3 Universal anisotropy, []",
           "Phase 1 Volume Fraction",
           "Phase 2 Volume Fraction",
           "Phase 3 Volume Fraction",
           "cost"
          ]
         },
         "type": "table"
        }
       ],
       "layout": {
        "autosize": true,
        "height": 400,
        "margin": {
         "b": 0,
         "l": 0,
         "r": 0,
         "t": 40
        },
        "template": {
         "data": {
          "bar": [
           {
            "error_x": {
             "color": "rgb(36,36,36)"
            },
            "error_y": {
             "color": "rgb(36,36,36)"
            },
            "marker": {
             "line": {
              "color": "white",
              "width": 0.5
             },
             "pattern": {
              "fillmode": "overlay",
              "size": 10,
              "solidity": 0.2
             }
            },
            "type": "bar"
           }
          ],
          "barpolar": [
           {
            "marker": {
             "line": {
              "color": "white",
              "width": 0.5
             },
             "pattern": {
              "fillmode": "overlay",
              "size": 10,
              "solidity": 0.2
             }
            },
            "type": "barpolar"
           }
          ],
          "carpet": [
           {
            "aaxis": {
             "endlinecolor": "rgb(36,36,36)",
             "gridcolor": "white",
             "linecolor": "white",
             "minorgridcolor": "white",
             "startlinecolor": "rgb(36,36,36)"
            },
            "baxis": {
             "endlinecolor": "rgb(36,36,36)",
             "gridcolor": "white",
             "linecolor": "white",
             "minorgridcolor": "white",
             "startlinecolor": "rgb(36,36,36)"
            },
            "type": "carpet"
           }
          ],
          "choropleth": [
           {
            "colorbar": {
             "outlinewidth": 1,
             "tickcolor": "rgb(36,36,36)",
             "ticks": "outside"
            },
            "type": "choropleth"
           }
          ],
          "contour": [
           {
            "colorbar": {
             "outlinewidth": 1,
             "tickcolor": "rgb(36,36,36)",
             "ticks": "outside"
            },
            "colorscale": [
             [
              0,
              "#440154"
             ],
             [
              0.1111111111111111,
              "#482878"
             ],
             [
              0.2222222222222222,
              "#3e4989"
             ],
             [
              0.3333333333333333,
              "#31688e"
             ],
             [
              0.4444444444444444,
              "#26828e"
             ],
             [
              0.5555555555555556,
              "#1f9e89"
             ],
             [
              0.6666666666666666,
              "#35b779"
             ],
             [
              0.7777777777777778,
              "#6ece58"
             ],
             [
              0.8888888888888888,
              "#b5de2b"
             ],
             [
              1,
              "#fde725"
             ]
            ],
            "type": "contour"
           }
          ],
          "contourcarpet": [
           {
            "colorbar": {
             "outlinewidth": 1,
             "tickcolor": "rgb(36,36,36)",
             "ticks": "outside"
            },
            "type": "contourcarpet"
           }
          ],
          "heatmap": [
           {
            "colorbar": {
             "outlinewidth": 1,
             "tickcolor": "rgb(36,36,36)",
             "ticks": "outside"
            },
            "colorscale": [
             [
              0,
              "#440154"
             ],
             [
              0.1111111111111111,
              "#482878"
             ],
             [
              0.2222222222222222,
              "#3e4989"
             ],
             [
              0.3333333333333333,
              "#31688e"
             ],
             [
              0.4444444444444444,
              "#26828e"
             ],
             [
              0.5555555555555556,
              "#1f9e89"
             ],
             [
              0.6666666666666666,
              "#35b779"
             ],
             [
              0.7777777777777778,
              "#6ece58"
             ],
             [
              0.8888888888888888,
              "#b5de2b"
             ],
             [
              1,
              "#fde725"
             ]
            ],
            "type": "heatmap"
           }
          ],
          "heatmapgl": [
           {
            "colorbar": {
             "outlinewidth": 1,
             "tickcolor": "rgb(36,36,36)",
             "ticks": "outside"
            },
            "colorscale": [
             [
              0,
              "#440154"
             ],
             [
              0.1111111111111111,
              "#482878"
             ],
             [
              0.2222222222222222,
              "#3e4989"
             ],
             [
              0.3333333333333333,
              "#31688e"
             ],
             [
              0.4444444444444444,
              "#26828e"
             ],
             [
              0.5555555555555556,
              "#1f9e89"
             ],
             [
              0.6666666666666666,
              "#35b779"
             ],
             [
              0.7777777777777778,
              "#6ece58"
             ],
             [
              0.8888888888888888,
              "#b5de2b"
             ],
             [
              1,
              "#fde725"
             ]
            ],
            "type": "heatmapgl"
           }
          ],
          "histogram": [
           {
            "marker": {
             "line": {
              "color": "white",
              "width": 0.6
             }
            },
            "type": "histogram"
           }
          ],
          "histogram2d": [
           {
            "colorbar": {
             "outlinewidth": 1,
             "tickcolor": "rgb(36,36,36)",
             "ticks": "outside"
            },
            "colorscale": [
             [
              0,
              "#440154"
             ],
             [
              0.1111111111111111,
              "#482878"
             ],
             [
              0.2222222222222222,
              "#3e4989"
             ],
             [
              0.3333333333333333,
              "#31688e"
             ],
             [
              0.4444444444444444,
              "#26828e"
             ],
             [
              0.5555555555555556,
              "#1f9e89"
             ],
             [
              0.6666666666666666,
              "#35b779"
             ],
             [
              0.7777777777777778,
              "#6ece58"
             ],
             [
              0.8888888888888888,
              "#b5de2b"
             ],
             [
              1,
              "#fde725"
             ]
            ],
            "type": "histogram2d"
           }
          ],
          "histogram2dcontour": [
           {
            "colorbar": {
             "outlinewidth": 1,
             "tickcolor": "rgb(36,36,36)",
             "ticks": "outside"
            },
            "colorscale": [
             [
              0,
              "#440154"
             ],
             [
              0.1111111111111111,
              "#482878"
             ],
             [
              0.2222222222222222,
              "#3e4989"
             ],
             [
              0.3333333333333333,
              "#31688e"
             ],
             [
              0.4444444444444444,
              "#26828e"
             ],
             [
              0.5555555555555556,
              "#1f9e89"
             ],
             [
              0.6666666666666666,
              "#35b779"
             ],
             [
              0.7777777777777778,
              "#6ece58"
             ],
             [
              0.8888888888888888,
              "#b5de2b"
             ],
             [
              1,
              "#fde725"
             ]
            ],
            "type": "histogram2dcontour"
           }
          ],
          "mesh3d": [
           {
            "colorbar": {
             "outlinewidth": 1,
             "tickcolor": "rgb(36,36,36)",
             "ticks": "outside"
            },
            "type": "mesh3d"
           }
          ],
          "parcoords": [
           {
            "line": {
             "colorbar": {
              "outlinewidth": 1,
              "tickcolor": "rgb(36,36,36)",
              "ticks": "outside"
             }
            },
            "type": "parcoords"
           }
          ],
          "pie": [
           {
            "automargin": true,
            "type": "pie"
           }
          ],
          "scatter": [
           {
            "fillpattern": {
             "fillmode": "overlay",
             "size": 10,
             "solidity": 0.2
            },
            "type": "scatter"
           }
          ],
          "scatter3d": [
           {
            "line": {
             "colorbar": {
              "outlinewidth": 1,
              "tickcolor": "rgb(36,36,36)",
              "ticks": "outside"
             }
            },
            "marker": {
             "colorbar": {
              "outlinewidth": 1,
              "tickcolor": "rgb(36,36,36)",
              "ticks": "outside"
             }
            },
            "type": "scatter3d"
           }
          ],
          "scattercarpet": [
           {
            "marker": {
             "colorbar": {
              "outlinewidth": 1,
              "tickcolor": "rgb(36,36,36)",
              "ticks": "outside"
             }
            },
            "type": "scattercarpet"
           }
          ],
          "scattergeo": [
           {
            "marker": {
             "colorbar": {
              "outlinewidth": 1,
              "tickcolor": "rgb(36,36,36)",
              "ticks": "outside"
             }
            },
            "type": "scattergeo"
           }
          ],
          "scattergl": [
           {
            "marker": {
             "colorbar": {
              "outlinewidth": 1,
              "tickcolor": "rgb(36,36,36)",
              "ticks": "outside"
             }
            },
            "type": "scattergl"
           }
          ],
          "scattermapbox": [
           {
            "marker": {
             "colorbar": {
              "outlinewidth": 1,
              "tickcolor": "rgb(36,36,36)",
              "ticks": "outside"
             }
            },
            "type": "scattermapbox"
           }
          ],
          "scatterpolar": [
           {
            "marker": {
             "colorbar": {
              "outlinewidth": 1,
              "tickcolor": "rgb(36,36,36)",
              "ticks": "outside"
             }
            },
            "type": "scatterpolar"
           }
          ],
          "scatterpolargl": [
           {
            "marker": {
             "colorbar": {
              "outlinewidth": 1,
              "tickcolor": "rgb(36,36,36)",
              "ticks": "outside"
             }
            },
            "type": "scatterpolargl"
           }
          ],
          "scatterternary": [
           {
            "marker": {
             "colorbar": {
              "outlinewidth": 1,
              "tickcolor": "rgb(36,36,36)",
              "ticks": "outside"
             }
            },
            "type": "scatterternary"
           }
          ],
          "surface": [
           {
            "colorbar": {
             "outlinewidth": 1,
             "tickcolor": "rgb(36,36,36)",
             "ticks": "outside"
            },
            "colorscale": [
             [
              0,
              "#440154"
             ],
             [
              0.1111111111111111,
              "#482878"
             ],
             [
              0.2222222222222222,
              "#3e4989"
             ],
             [
              0.3333333333333333,
              "#31688e"
             ],
             [
              0.4444444444444444,
              "#26828e"
             ],
             [
              0.5555555555555556,
              "#1f9e89"
             ],
             [
              0.6666666666666666,
              "#35b779"
             ],
             [
              0.7777777777777778,
              "#6ece58"
             ],
             [
              0.8888888888888888,
              "#b5de2b"
             ],
             [
              1,
              "#fde725"
             ]
            ],
            "type": "surface"
           }
          ],
          "table": [
           {
            "cells": {
             "fill": {
              "color": "rgb(237,237,237)"
             },
             "line": {
              "color": "white"
             }
            },
            "header": {
             "fill": {
              "color": "rgb(217,217,217)"
             },
             "line": {
              "color": "white"
             }
            },
            "type": "table"
           }
          ]
         },
         "layout": {
          "annotationdefaults": {
           "arrowhead": 0,
           "arrowwidth": 1
          },
          "autotypenumbers": "strict",
          "coloraxis": {
           "colorbar": {
            "outlinewidth": 1,
            "tickcolor": "rgb(36,36,36)",
            "ticks": "outside"
           }
          },
          "colorscale": {
           "diverging": [
            [
             0,
             "rgb(103,0,31)"
            ],
            [
             0.1,
             "rgb(178,24,43)"
            ],
            [
             0.2,
             "rgb(214,96,77)"
            ],
            [
             0.3,
             "rgb(244,165,130)"
            ],
            [
             0.4,
             "rgb(253,219,199)"
            ],
            [
             0.5,
             "rgb(247,247,247)"
            ],
            [
             0.6,
             "rgb(209,229,240)"
            ],
            [
             0.7,
             "rgb(146,197,222)"
            ],
            [
             0.8,
             "rgb(67,147,195)"
            ],
            [
             0.9,
             "rgb(33,102,172)"
            ],
            [
             1,
             "rgb(5,48,97)"
            ]
           ],
           "sequential": [
            [
             0,
             "#440154"
            ],
            [
             0.1111111111111111,
             "#482878"
            ],
            [
             0.2222222222222222,
             "#3e4989"
            ],
            [
             0.3333333333333333,
             "#31688e"
            ],
            [
             0.4444444444444444,
             "#26828e"
            ],
            [
             0.5555555555555556,
             "#1f9e89"
            ],
            [
             0.6666666666666666,
             "#35b779"
            ],
            [
             0.7777777777777778,
             "#6ece58"
            ],
            [
             0.8888888888888888,
             "#b5de2b"
            ],
            [
             1,
             "#fde725"
            ]
           ],
           "sequentialminus": [
            [
             0,
             "#440154"
            ],
            [
             0.1111111111111111,
             "#482878"
            ],
            [
             0.2222222222222222,
             "#3e4989"
            ],
            [
             0.3333333333333333,
             "#31688e"
            ],
            [
             0.4444444444444444,
             "#26828e"
            ],
            [
             0.5555555555555556,
             "#1f9e89"
            ],
            [
             0.6666666666666666,
             "#35b779"
            ],
            [
             0.7777777777777778,
             "#6ece58"
            ],
            [
             0.8888888888888888,
             "#b5de2b"
            ],
            [
             1,
             "#fde725"
            ]
           ]
          },
          "colorway": [
           "#1F77B4",
           "#FF7F0E",
           "#2CA02C",
           "#D62728",
           "#9467BD",
           "#8C564B",
           "#E377C2",
           "#7F7F7F",
           "#BCBD22",
           "#17BECF"
          ],
          "font": {
           "color": "rgb(36,36,36)"
          },
          "geo": {
           "bgcolor": "white",
           "lakecolor": "white",
           "landcolor": "white",
           "showlakes": true,
           "showland": true,
           "subunitcolor": "white"
          },
          "hoverlabel": {
           "align": "left"
          },
          "hovermode": "closest",
          "mapbox": {
           "style": "light"
          },
          "paper_bgcolor": "white",
          "plot_bgcolor": "white",
          "polar": {
           "angularaxis": {
            "gridcolor": "rgb(232,232,232)",
            "linecolor": "rgb(36,36,36)",
            "showgrid": false,
            "showline": true,
            "ticks": "outside"
           },
           "bgcolor": "white",
           "radialaxis": {
            "gridcolor": "rgb(232,232,232)",
            "linecolor": "rgb(36,36,36)",
            "showgrid": false,
            "showline": true,
            "ticks": "outside"
           }
          },
          "scene": {
           "xaxis": {
            "backgroundcolor": "white",
            "gridcolor": "rgb(232,232,232)",
            "gridwidth": 2,
            "linecolor": "rgb(36,36,36)",
            "showbackground": true,
            "showgrid": false,
            "showline": true,
            "ticks": "outside",
            "zeroline": false,
            "zerolinecolor": "rgb(36,36,36)"
           },
           "yaxis": {
            "backgroundcolor": "white",
            "gridcolor": "rgb(232,232,232)",
            "gridwidth": 2,
            "linecolor": "rgb(36,36,36)",
            "showbackground": true,
            "showgrid": false,
            "showline": true,
            "ticks": "outside",
            "zeroline": false,
            "zerolinecolor": "rgb(36,36,36)"
           },
           "zaxis": {
            "backgroundcolor": "white",
            "gridcolor": "rgb(232,232,232)",
            "gridwidth": 2,
            "linecolor": "rgb(36,36,36)",
            "showbackground": true,
            "showgrid": false,
            "showline": true,
            "ticks": "outside",
            "zeroline": false,
            "zerolinecolor": "rgb(36,36,36)"
           }
          },
          "shapedefaults": {
           "fillcolor": "black",
           "line": {
            "width": 0
           },
           "opacity": 0.3
          },
          "ternary": {
           "aaxis": {
            "gridcolor": "rgb(232,232,232)",
            "linecolor": "rgb(36,36,36)",
            "showgrid": false,
            "showline": true,
            "ticks": "outside"
           },
           "baxis": {
            "gridcolor": "rgb(232,232,232)",
            "linecolor": "rgb(36,36,36)",
            "showgrid": false,
            "showline": true,
            "ticks": "outside"
           },
           "bgcolor": "white",
           "caxis": {
            "gridcolor": "rgb(232,232,232)",
            "linecolor": "rgb(36,36,36)",
            "showgrid": false,
            "showline": true,
            "ticks": "outside"
           }
          },
          "title": {
           "x": 0.05
          },
          "xaxis": {
           "automargin": true,
           "gridcolor": "rgb(232,232,232)",
           "linecolor": "rgb(36,36,36)",
           "showgrid": false,
           "showline": true,
           "ticks": "outside",
           "title": {
            "standoff": 15
           },
           "zeroline": false,
           "zerolinecolor": "rgb(36,36,36)"
          },
          "yaxis": {
           "automargin": true,
           "gridcolor": "rgb(232,232,232)",
           "linecolor": "rgb(36,36,36)",
           "showgrid": false,
           "showline": true,
           "ticks": "outside",
           "title": {
            "standoff": 15
           },
           "zeroline": false,
           "zerolinecolor": "rgb(36,36,36)"
          }
         }
        },
        "title": {
         "font": {
          "size": 20
         },
         "text": "Optimal Properties Recommended by Genetic Algorithm",
         "x": 0.2
        }
       }
      }
     },
     "metadata": {},
     "output_type": "display_data"
    }
   ],
   "source": [
    "# Print the optimization results as a table\n",
    "HS.print_table_of_best_designs(rows=10)"
   ]
  },
  {
   "cell_type": "code",
   "execution_count": 6,
   "metadata": {},
   "outputs": [
    {
     "data": {
      "application/vnd.plotly.v1+json": {
       "config": {
        "plotlyServerURL": "https://plot.ly"
       },
       "data": [
        {
         "mode": "lines",
         "name": "Avg. of top 10 performers",
         "type": "scatter",
         "x": [
          0,
          1,
          2,
          3,
          4,
          5,
          6,
          7,
          8,
          9,
          10,
          11,
          12,
          13,
          14,
          15,
          16,
          17,
          18,
          19,
          20,
          21,
          22,
          23,
          24,
          25,
          26,
          27,
          28,
          29,
          30,
          31,
          32,
          33,
          34,
          35,
          36,
          37,
          38,
          39,
          40,
          41,
          42,
          43,
          44,
          45,
          46,
          47,
          48,
          49,
          50,
          51,
          52,
          53,
          54,
          55,
          56,
          57,
          58,
          59,
          60,
          61,
          62,
          63,
          64,
          65,
          66,
          67,
          68,
          69,
          70,
          71,
          72,
          73,
          74,
          75,
          76,
          77,
          78,
          79,
          80,
          81,
          82,
          83,
          84,
          85,
          86,
          87,
          88,
          89,
          90,
          91,
          92,
          93,
          94,
          95,
          96,
          97,
          98,
          99
         ],
         "y": [
          21.70543564851696,
          20.02401453372014,
          19.405924523620392,
          19.264682647588295,
          18.715784611657725,
          18.546520212239614,
          18.004806125526738,
          17.41454873339888,
          16.370094383634346,
          15.67351531142356,
          15.672937214433224,
          15.672767330050522,
          15.672733020796784,
          15.512713057936912,
          15.057353230776295,
          14.350571151703198,
          13.997563321960332,
          13.934275486574387,
          13.92786040152797,
          13.926395162541022,
          13.925481491144453,
          13.92536302610248,
          13.925360986129013,
          13.92536053992959,
          13.925360414726574,
          13.925360322204977,
          13.925360268430135,
          13.925360244752426,
          13.925360239583256,
          13.925360239323822,
          13.92536023923066,
          13.925360239214081,
          13.925360239212035,
          13.92536023921196,
          13.925360239211935,
          13.925360239211932,
          13.925360239211932,
          13.925360239211932,
          13.925360239211932,
          13.925360239211932,
          13.925360239211932,
          13.925360239211932,
          13.925360239211932,
          13.925360239211932,
          13.925360239211932,
          13.925360239211932,
          13.925360239211932,
          13.925360239211932,
          13.925360239211932,
          13.925360239211932,
          13.925360239211932,
          13.925360239211932,
          13.925360239211932,
          13.925360239211932,
          13.925360239211932,
          13.925360239211932,
          13.925360239211932,
          13.925360239211932,
          13.925360239211932,
          13.925360239211932,
          13.925360239211932,
          13.925360239211932,
          13.925360239211932,
          13.925360239211932,
          13.925360239211932,
          13.925360239211932,
          13.925360239211932,
          13.925360239211932,
          13.925360239211932,
          13.925360239211932,
          13.925360239211932,
          13.925360239211932,
          13.925360239211932,
          13.925360239211932,
          13.925360239211932,
          13.925360239211932,
          13.925360239211932,
          13.925360239211932,
          13.925360239211932,
          13.925360239211932,
          13.925360239211932,
          13.925360239211932,
          13.925360239211932,
          13.925360239211932,
          13.925360239211932,
          13.925360239211932,
          13.925360239211932,
          13.925360239211932,
          13.925360239211932,
          13.925360239211932,
          13.925360239211932,
          13.925360239211932,
          13.925360239211932,
          13.925360239211932,
          13.925360239211932,
          13.925360239211932,
          13.925360239211932,
          13.925360239211932,
          13.925360239211932,
          13.925360239211932
         ]
        },
        {
         "mode": "lines",
         "name": "Best costs",
         "type": "scatter",
         "x": [
          0,
          1,
          2,
          3,
          4,
          5,
          6,
          7,
          8,
          9,
          10,
          11,
          12,
          13,
          14,
          15,
          16,
          17,
          18,
          19,
          20,
          21,
          22,
          23,
          24,
          25,
          26,
          27,
          28,
          29,
          30,
          31,
          32,
          33,
          34,
          35,
          36,
          37,
          38,
          39,
          40,
          41,
          42,
          43,
          44,
          45,
          46,
          47,
          48,
          49,
          50,
          51,
          52,
          53,
          54,
          55,
          56,
          57,
          58,
          59,
          60,
          61,
          62,
          63,
          64,
          65,
          66,
          67,
          68,
          69,
          70,
          71,
          72,
          73,
          74,
          75,
          76,
          77,
          78,
          79,
          80,
          81,
          82,
          83,
          84,
          85,
          86,
          87,
          88,
          89,
          90,
          91,
          92,
          93,
          94,
          95,
          96,
          97,
          98,
          99
         ],
         "y": [
          19.204928067512654,
          18.546328340309607,
          18.546328340309607,
          18.546328340309607,
          15.87195341418986,
          15.87195341418986,
          15.86655585816582,
          15.86655585816582,
          15.86655585816582,
          13.925360239211933,
          13.925360239211933,
          13.925360239211933,
          13.925360239211933,
          13.925360239211933,
          13.925360239211933,
          13.925360239211933,
          13.925360239211933,
          13.925360239211933,
          13.925360239211933,
          13.925360239211933,
          13.925360239211933,
          13.925360239211933,
          13.925360239211933,
          13.925360239211933,
          13.925360239211933,
          13.925360239211933,
          13.925360239211933,
          13.925360239211933,
          13.925360239211933,
          13.925360239211933,
          13.925360239211933,
          13.925360239211933,
          13.925360239211933,
          13.925360239211933,
          13.925360239211933,
          13.925360239211933,
          13.925360239211933,
          13.925360239211933,
          13.925360239211933,
          13.925360239211933,
          13.925360239211933,
          13.925360239211933,
          13.925360239211933,
          13.925360239211933,
          13.925360239211933,
          13.925360239211933,
          13.925360239211933,
          13.925360239211933,
          13.925360239211933,
          13.925360239211933,
          13.925360239211933,
          13.925360239211933,
          13.925360239211933,
          13.925360239211933,
          13.925360239211933,
          13.925360239211933,
          13.925360239211933,
          13.925360239211933,
          13.925360239211933,
          13.925360239211933,
          13.925360239211933,
          13.925360239211933,
          13.925360239211933,
          13.925360239211933,
          13.925360239211933,
          13.925360239211933,
          13.925360239211933,
          13.925360239211933,
          13.925360239211933,
          13.925360239211933,
          13.925360239211933,
          13.925360239211933,
          13.925360239211933,
          13.925360239211933,
          13.925360239211933,
          13.925360239211933,
          13.925360239211933,
          13.925360239211933,
          13.925360239211933,
          13.925360239211933,
          13.925360239211933,
          13.925360239211933,
          13.925360239211933,
          13.925360239211933,
          13.925360239211933,
          13.925360239211933,
          13.925360239211933,
          13.925360239211933,
          13.925360239211933,
          13.925360239211933,
          13.925360239211933,
          13.925360239211933,
          13.925360239211933,
          13.925360239211933,
          13.925360239211933,
          13.925360239211933,
          13.925360239211933,
          13.925360239211933,
          13.925360239211933,
          13.925360239211933
         ]
        }
       ],
       "layout": {
        "legend": {
         "bgcolor": "rgba(255, 255, 255, 0.5)",
         "font": {
          "size": 14
         },
         "x": 1,
         "xanchor": "right",
         "y": 1,
         "yanchor": "top"
        },
        "template": {
         "data": {
          "bar": [
           {
            "error_x": {
             "color": "rgb(36,36,36)"
            },
            "error_y": {
             "color": "rgb(36,36,36)"
            },
            "marker": {
             "line": {
              "color": "white",
              "width": 0.5
             },
             "pattern": {
              "fillmode": "overlay",
              "size": 10,
              "solidity": 0.2
             }
            },
            "type": "bar"
           }
          ],
          "barpolar": [
           {
            "marker": {
             "line": {
              "color": "white",
              "width": 0.5
             },
             "pattern": {
              "fillmode": "overlay",
              "size": 10,
              "solidity": 0.2
             }
            },
            "type": "barpolar"
           }
          ],
          "carpet": [
           {
            "aaxis": {
             "endlinecolor": "rgb(36,36,36)",
             "gridcolor": "white",
             "linecolor": "white",
             "minorgridcolor": "white",
             "startlinecolor": "rgb(36,36,36)"
            },
            "baxis": {
             "endlinecolor": "rgb(36,36,36)",
             "gridcolor": "white",
             "linecolor": "white",
             "minorgridcolor": "white",
             "startlinecolor": "rgb(36,36,36)"
            },
            "type": "carpet"
           }
          ],
          "choropleth": [
           {
            "colorbar": {
             "outlinewidth": 1,
             "tickcolor": "rgb(36,36,36)",
             "ticks": "outside"
            },
            "type": "choropleth"
           }
          ],
          "contour": [
           {
            "colorbar": {
             "outlinewidth": 1,
             "tickcolor": "rgb(36,36,36)",
             "ticks": "outside"
            },
            "colorscale": [
             [
              0,
              "#440154"
             ],
             [
              0.1111111111111111,
              "#482878"
             ],
             [
              0.2222222222222222,
              "#3e4989"
             ],
             [
              0.3333333333333333,
              "#31688e"
             ],
             [
              0.4444444444444444,
              "#26828e"
             ],
             [
              0.5555555555555556,
              "#1f9e89"
             ],
             [
              0.6666666666666666,
              "#35b779"
             ],
             [
              0.7777777777777778,
              "#6ece58"
             ],
             [
              0.8888888888888888,
              "#b5de2b"
             ],
             [
              1,
              "#fde725"
             ]
            ],
            "type": "contour"
           }
          ],
          "contourcarpet": [
           {
            "colorbar": {
             "outlinewidth": 1,
             "tickcolor": "rgb(36,36,36)",
             "ticks": "outside"
            },
            "type": "contourcarpet"
           }
          ],
          "heatmap": [
           {
            "colorbar": {
             "outlinewidth": 1,
             "tickcolor": "rgb(36,36,36)",
             "ticks": "outside"
            },
            "colorscale": [
             [
              0,
              "#440154"
             ],
             [
              0.1111111111111111,
              "#482878"
             ],
             [
              0.2222222222222222,
              "#3e4989"
             ],
             [
              0.3333333333333333,
              "#31688e"
             ],
             [
              0.4444444444444444,
              "#26828e"
             ],
             [
              0.5555555555555556,
              "#1f9e89"
             ],
             [
              0.6666666666666666,
              "#35b779"
             ],
             [
              0.7777777777777778,
              "#6ece58"
             ],
             [
              0.8888888888888888,
              "#b5de2b"
             ],
             [
              1,
              "#fde725"
             ]
            ],
            "type": "heatmap"
           }
          ],
          "heatmapgl": [
           {
            "colorbar": {
             "outlinewidth": 1,
             "tickcolor": "rgb(36,36,36)",
             "ticks": "outside"
            },
            "colorscale": [
             [
              0,
              "#440154"
             ],
             [
              0.1111111111111111,
              "#482878"
             ],
             [
              0.2222222222222222,
              "#3e4989"
             ],
             [
              0.3333333333333333,
              "#31688e"
             ],
             [
              0.4444444444444444,
              "#26828e"
             ],
             [
              0.5555555555555556,
              "#1f9e89"
             ],
             [
              0.6666666666666666,
              "#35b779"
             ],
             [
              0.7777777777777778,
              "#6ece58"
             ],
             [
              0.8888888888888888,
              "#b5de2b"
             ],
             [
              1,
              "#fde725"
             ]
            ],
            "type": "heatmapgl"
           }
          ],
          "histogram": [
           {
            "marker": {
             "line": {
              "color": "white",
              "width": 0.6
             }
            },
            "type": "histogram"
           }
          ],
          "histogram2d": [
           {
            "colorbar": {
             "outlinewidth": 1,
             "tickcolor": "rgb(36,36,36)",
             "ticks": "outside"
            },
            "colorscale": [
             [
              0,
              "#440154"
             ],
             [
              0.1111111111111111,
              "#482878"
             ],
             [
              0.2222222222222222,
              "#3e4989"
             ],
             [
              0.3333333333333333,
              "#31688e"
             ],
             [
              0.4444444444444444,
              "#26828e"
             ],
             [
              0.5555555555555556,
              "#1f9e89"
             ],
             [
              0.6666666666666666,
              "#35b779"
             ],
             [
              0.7777777777777778,
              "#6ece58"
             ],
             [
              0.8888888888888888,
              "#b5de2b"
             ],
             [
              1,
              "#fde725"
             ]
            ],
            "type": "histogram2d"
           }
          ],
          "histogram2dcontour": [
           {
            "colorbar": {
             "outlinewidth": 1,
             "tickcolor": "rgb(36,36,36)",
             "ticks": "outside"
            },
            "colorscale": [
             [
              0,
              "#440154"
             ],
             [
              0.1111111111111111,
              "#482878"
             ],
             [
              0.2222222222222222,
              "#3e4989"
             ],
             [
              0.3333333333333333,
              "#31688e"
             ],
             [
              0.4444444444444444,
              "#26828e"
             ],
             [
              0.5555555555555556,
              "#1f9e89"
             ],
             [
              0.6666666666666666,
              "#35b779"
             ],
             [
              0.7777777777777778,
              "#6ece58"
             ],
             [
              0.8888888888888888,
              "#b5de2b"
             ],
             [
              1,
              "#fde725"
             ]
            ],
            "type": "histogram2dcontour"
           }
          ],
          "mesh3d": [
           {
            "colorbar": {
             "outlinewidth": 1,
             "tickcolor": "rgb(36,36,36)",
             "ticks": "outside"
            },
            "type": "mesh3d"
           }
          ],
          "parcoords": [
           {
            "line": {
             "colorbar": {
              "outlinewidth": 1,
              "tickcolor": "rgb(36,36,36)",
              "ticks": "outside"
             }
            },
            "type": "parcoords"
           }
          ],
          "pie": [
           {
            "automargin": true,
            "type": "pie"
           }
          ],
          "scatter": [
           {
            "fillpattern": {
             "fillmode": "overlay",
             "size": 10,
             "solidity": 0.2
            },
            "type": "scatter"
           }
          ],
          "scatter3d": [
           {
            "line": {
             "colorbar": {
              "outlinewidth": 1,
              "tickcolor": "rgb(36,36,36)",
              "ticks": "outside"
             }
            },
            "marker": {
             "colorbar": {
              "outlinewidth": 1,
              "tickcolor": "rgb(36,36,36)",
              "ticks": "outside"
             }
            },
            "type": "scatter3d"
           }
          ],
          "scattercarpet": [
           {
            "marker": {
             "colorbar": {
              "outlinewidth": 1,
              "tickcolor": "rgb(36,36,36)",
              "ticks": "outside"
             }
            },
            "type": "scattercarpet"
           }
          ],
          "scattergeo": [
           {
            "marker": {
             "colorbar": {
              "outlinewidth": 1,
              "tickcolor": "rgb(36,36,36)",
              "ticks": "outside"
             }
            },
            "type": "scattergeo"
           }
          ],
          "scattergl": [
           {
            "marker": {
             "colorbar": {
              "outlinewidth": 1,
              "tickcolor": "rgb(36,36,36)",
              "ticks": "outside"
             }
            },
            "type": "scattergl"
           }
          ],
          "scattermapbox": [
           {
            "marker": {
             "colorbar": {
              "outlinewidth": 1,
              "tickcolor": "rgb(36,36,36)",
              "ticks": "outside"
             }
            },
            "type": "scattermapbox"
           }
          ],
          "scatterpolar": [
           {
            "marker": {
             "colorbar": {
              "outlinewidth": 1,
              "tickcolor": "rgb(36,36,36)",
              "ticks": "outside"
             }
            },
            "type": "scatterpolar"
           }
          ],
          "scatterpolargl": [
           {
            "marker": {
             "colorbar": {
              "outlinewidth": 1,
              "tickcolor": "rgb(36,36,36)",
              "ticks": "outside"
             }
            },
            "type": "scatterpolargl"
           }
          ],
          "scatterternary": [
           {
            "marker": {
             "colorbar": {
              "outlinewidth": 1,
              "tickcolor": "rgb(36,36,36)",
              "ticks": "outside"
             }
            },
            "type": "scatterternary"
           }
          ],
          "surface": [
           {
            "colorbar": {
             "outlinewidth": 1,
             "tickcolor": "rgb(36,36,36)",
             "ticks": "outside"
            },
            "colorscale": [
             [
              0,
              "#440154"
             ],
             [
              0.1111111111111111,
              "#482878"
             ],
             [
              0.2222222222222222,
              "#3e4989"
             ],
             [
              0.3333333333333333,
              "#31688e"
             ],
             [
              0.4444444444444444,
              "#26828e"
             ],
             [
              0.5555555555555556,
              "#1f9e89"
             ],
             [
              0.6666666666666666,
              "#35b779"
             ],
             [
              0.7777777777777778,
              "#6ece58"
             ],
             [
              0.8888888888888888,
              "#b5de2b"
             ],
             [
              1,
              "#fde725"
             ]
            ],
            "type": "surface"
           }
          ],
          "table": [
           {
            "cells": {
             "fill": {
              "color": "rgb(237,237,237)"
             },
             "line": {
              "color": "white"
             }
            },
            "header": {
             "fill": {
              "color": "rgb(217,217,217)"
             },
             "line": {
              "color": "white"
             }
            },
            "type": "table"
           }
          ]
         },
         "layout": {
          "annotationdefaults": {
           "arrowhead": 0,
           "arrowwidth": 1
          },
          "autotypenumbers": "strict",
          "coloraxis": {
           "colorbar": {
            "outlinewidth": 1,
            "tickcolor": "rgb(36,36,36)",
            "ticks": "outside"
           }
          },
          "colorscale": {
           "diverging": [
            [
             0,
             "rgb(103,0,31)"
            ],
            [
             0.1,
             "rgb(178,24,43)"
            ],
            [
             0.2,
             "rgb(214,96,77)"
            ],
            [
             0.3,
             "rgb(244,165,130)"
            ],
            [
             0.4,
             "rgb(253,219,199)"
            ],
            [
             0.5,
             "rgb(247,247,247)"
            ],
            [
             0.6,
             "rgb(209,229,240)"
            ],
            [
             0.7,
             "rgb(146,197,222)"
            ],
            [
             0.8,
             "rgb(67,147,195)"
            ],
            [
             0.9,
             "rgb(33,102,172)"
            ],
            [
             1,
             "rgb(5,48,97)"
            ]
           ],
           "sequential": [
            [
             0,
             "#440154"
            ],
            [
             0.1111111111111111,
             "#482878"
            ],
            [
             0.2222222222222222,
             "#3e4989"
            ],
            [
             0.3333333333333333,
             "#31688e"
            ],
            [
             0.4444444444444444,
             "#26828e"
            ],
            [
             0.5555555555555556,
             "#1f9e89"
            ],
            [
             0.6666666666666666,
             "#35b779"
            ],
            [
             0.7777777777777778,
             "#6ece58"
            ],
            [
             0.8888888888888888,
             "#b5de2b"
            ],
            [
             1,
             "#fde725"
            ]
           ],
           "sequentialminus": [
            [
             0,
             "#440154"
            ],
            [
             0.1111111111111111,
             "#482878"
            ],
            [
             0.2222222222222222,
             "#3e4989"
            ],
            [
             0.3333333333333333,
             "#31688e"
            ],
            [
             0.4444444444444444,
             "#26828e"
            ],
            [
             0.5555555555555556,
             "#1f9e89"
            ],
            [
             0.6666666666666666,
             "#35b779"
            ],
            [
             0.7777777777777778,
             "#6ece58"
            ],
            [
             0.8888888888888888,
             "#b5de2b"
            ],
            [
             1,
             "#fde725"
            ]
           ]
          },
          "colorway": [
           "#1F77B4",
           "#FF7F0E",
           "#2CA02C",
           "#D62728",
           "#9467BD",
           "#8C564B",
           "#E377C2",
           "#7F7F7F",
           "#BCBD22",
           "#17BECF"
          ],
          "font": {
           "color": "rgb(36,36,36)"
          },
          "geo": {
           "bgcolor": "white",
           "lakecolor": "white",
           "landcolor": "white",
           "showlakes": true,
           "showland": true,
           "subunitcolor": "white"
          },
          "hoverlabel": {
           "align": "left"
          },
          "hovermode": "closest",
          "mapbox": {
           "style": "light"
          },
          "paper_bgcolor": "white",
          "plot_bgcolor": "white",
          "polar": {
           "angularaxis": {
            "gridcolor": "rgb(232,232,232)",
            "linecolor": "rgb(36,36,36)",
            "showgrid": false,
            "showline": true,
            "ticks": "outside"
           },
           "bgcolor": "white",
           "radialaxis": {
            "gridcolor": "rgb(232,232,232)",
            "linecolor": "rgb(36,36,36)",
            "showgrid": false,
            "showline": true,
            "ticks": "outside"
           }
          },
          "scene": {
           "xaxis": {
            "backgroundcolor": "white",
            "gridcolor": "rgb(232,232,232)",
            "gridwidth": 2,
            "linecolor": "rgb(36,36,36)",
            "showbackground": true,
            "showgrid": false,
            "showline": true,
            "ticks": "outside",
            "zeroline": false,
            "zerolinecolor": "rgb(36,36,36)"
           },
           "yaxis": {
            "backgroundcolor": "white",
            "gridcolor": "rgb(232,232,232)",
            "gridwidth": 2,
            "linecolor": "rgb(36,36,36)",
            "showbackground": true,
            "showgrid": false,
            "showline": true,
            "ticks": "outside",
            "zeroline": false,
            "zerolinecolor": "rgb(36,36,36)"
           },
           "zaxis": {
            "backgroundcolor": "white",
            "gridcolor": "rgb(232,232,232)",
            "gridwidth": 2,
            "linecolor": "rgb(36,36,36)",
            "showbackground": true,
            "showgrid": false,
            "showline": true,
            "ticks": "outside",
            "zeroline": false,
            "zerolinecolor": "rgb(36,36,36)"
           }
          },
          "shapedefaults": {
           "fillcolor": "black",
           "line": {
            "width": 0
           },
           "opacity": 0.3
          },
          "ternary": {
           "aaxis": {
            "gridcolor": "rgb(232,232,232)",
            "linecolor": "rgb(36,36,36)",
            "showgrid": false,
            "showline": true,
            "ticks": "outside"
           },
           "baxis": {
            "gridcolor": "rgb(232,232,232)",
            "linecolor": "rgb(36,36,36)",
            "showgrid": false,
            "showline": true,
            "ticks": "outside"
           },
           "bgcolor": "white",
           "caxis": {
            "gridcolor": "rgb(232,232,232)",
            "linecolor": "rgb(36,36,36)",
            "showgrid": false,
            "showline": true,
            "ticks": "outside"
           }
          },
          "title": {
           "x": 0.05
          },
          "xaxis": {
           "automargin": true,
           "gridcolor": "rgb(232,232,232)",
           "linecolor": "rgb(36,36,36)",
           "showgrid": false,
           "showline": true,
           "ticks": "outside",
           "title": {
            "standoff": 15
           },
           "zeroline": false,
           "zerolinecolor": "rgb(36,36,36)"
          },
          "yaxis": {
           "automargin": true,
           "gridcolor": "rgb(232,232,232)",
           "linecolor": "rgb(36,36,36)",
           "showgrid": false,
           "showline": true,
           "ticks": "outside",
           "title": {
            "standoff": 15
           },
           "zeroline": false,
           "zerolinecolor": "rgb(36,36,36)"
          }
         }
        },
        "title": {
         "font": {
          "size": 24
         },
         "text": "Convergence of Genetic Algorithm",
         "x": 0.25
        },
        "xaxis": {
         "title": {
          "font": {
           "size": 20
          },
          "text": "Generation"
         }
        },
        "yaxis": {
         "title": {
          "font": {
           "size": 20
          },
          "text": "Cost"
         }
        }
       }
      }
     },
     "metadata": {},
     "output_type": "display_data"
    }
   ],
   "source": [
    "# Plot the genetic algorithm convergence plot\n",
    "HS.plot_optimization_results()"
   ]
  },
  {
   "cell_type": "code",
   "execution_count": 7,
   "metadata": {},
   "outputs": [
    {
     "name": "stdout",
     "output_type": "stream",
     "text": [
      "overall bounds dict: ({'elec_cond_300k_low_doping': {'upper_bound': 78.0, 'lower_bound': 1e-07}, 'therm_cond_300k_low_doping': {'upper_bound': 2.0, 'lower_bound': 1e-07}, 'bulk_modulus': {'upper_bound': 400.0, 'lower_bound': 20.0}, 'shear_modulus': {'upper_bound': 300.0, 'lower_bound': 80.0}, 'universal_anisotropy': {'upper_bound': 2.3, 'lower_bound': 0.9}}, {'mat_1': {'elec_cond_300k_low_doping': {'upper_bound': 78.0, 'lower_bound': 1e-07}, 'therm_cond_300k_low_doping': {'upper_bound': 2.0, 'lower_bound': 1e-07}, 'bulk_modulus': {'upper_bound': 100.0, 'lower_bound': 50.0}, 'shear_modulus': {'upper_bound': 100.0, 'lower_bound': 80.0}, 'universal_anisotropy': {'upper_bound': 2.0, 'lower_bound': 1.0}}, 'mat_2': {'elec_cond_300k_low_doping': {'upper_bound': 78.0, 'lower_bound': 1e-07}, 'therm_cond_300k_low_doping': {'upper_bound': 2.0, 'lower_bound': 1e-07}, 'bulk_modulus': {'upper_bound': 400.0, 'lower_bound': 20.0}, 'shear_modulus': {'upper_bound': 200.0, 'lower_bound': 100.0}, 'universal_anisotropy': {'upper_bound': 2.3, 'lower_bound': 1.3}}, 'mat_3': {'elec_cond_300k_low_doping': {'upper_bound': 78.0, 'lower_bound': 1e-07}, 'therm_cond_300k_low_doping': {'upper_bound': 2.0, 'lower_bound': 1e-07}, 'bulk_modulus': {'upper_bound': 300.0, 'lower_bound': 20.0}, 'shear_modulus': {'upper_bound': 300.0, 'lower_bound': 100.0}, 'universal_anisotropy': {'upper_bound': 2.1, 'lower_bound': 0.9}}, 'mixture': {'elec_cond_300k_low_doping': {'desired_prop': 9.0}, 'therm_cond_300k_low_doping': {'desired_prop': 0.007}, 'bulk_modulus': {'desired_prop': 234.0}, 'shear_modulus': {'desired_prop': 150.0}, 'universal_anisotropy': {'desired_prop': 1.5}}})\n",
      "best_designs_dict: {'mat1': {'carrier-transport': {'elec_cond_300k_low_doping': [0.34605865470104674, 3.0057960490377216, 74.86260286117093, 46.568377837355946, 7.093005230569461, 41.29720929986253, 55.444264216871055, 50.417248078981686, 10.03279095705869, 43.54954792965229, 37.789245413680995, 53.009853602983604, 15.717137047049057, 18.43091681613812, 4.2313354666472565, 75.26453468992283, 63.678495253727995, 64.81833656911952, 1.0170720058735128, 28.213765511450315, 15.01819635741818, 0.2625966477463513, 50.27105981255198, 22.698951196747114, 26.767979061943173, 58.00487446370796, 2.8622943817506497, 58.60877378178162, 73.28062307898057, 77.82155492385067, 14.481154146208246, 66.42022611797958, 5.812170258812721, 36.26287447938286, 26.561364691955255, 5.727620228544416, 42.105863558186996, 25.100719771648226, 37.85865619298552, 10.551119920835301, 13.385431495243392, 14.01341666398299, 31.783213795354484, 5.530114029206257, 64.19509806723765, 32.07715254013296, 37.83695714043944, 2.1275465938558713, 71.12207407596395, 49.18905703699524, 29.472960044870746, 35.659759134369146, 13.370623647302917, 24.668425194920637, 58.019677575419365, 77.71347239663918, 38.71990248938193, 75.87056652648887, 45.021231383362554, 43.52281910004931, 29.10188224412141, 5.025377988529181, 1.5588697430305087, 57.252017400353175, 66.91787625798037, 50.8669711917655, 35.38978252288757, 10.630621684904304, 15.617124800129051, 18.010560242500294, 59.27592168628211, 46.42850098019783, 71.1243091409668, 6.7765100567300305, 6.690666532775504, 55.21054442273175, 8.97567588045005, 8.339542891319798, 7.33033846797382, 46.32212080457499, 62.78348962113733, 52.46273951324819, 58.048945601172505, 53.19042068112729, 37.67139298861563, 56.58875329713902, 43.744242236323196, 46.86179074168048, 21.634626745646084, 34.3394252663288, 15.49087886720304, 67.58286258253162, 47.68011185145907, 22.861155283215744, 14.521468943774018, 7.918943805826045, 44.25931211368526, 13.397267198144288, 44.13248323360773, 37.319359288188735, 64.73041913179925, 4.779762610184365, 57.26456413775507, 31.63555719103376, 58.313242976285125, 68.10495733443655, 29.63214471903414, 39.81519871019342, 70.71038856565315, 32.17876049080056, 5.432271787701518, 4.225044004305581, 5.418774828503327, 33.6983285713415, 38.92133078410569, 35.81526578352181, 16.76687444174456, 52.410762141917495, 67.92585986612323, 35.778107555761, 52.798194067735636, 56.572810835454106, 38.468702172853845, 59.52247876162357, 25.70213977082222, 27.75661397691583, 48.983851630912895, 40.74618170130611, 26.59460717100348, 50.930641521518176, 34.67389792286533, 27.51502141617938, 66.41188814770697, 16.012878884020033, 72.61669344880819, 68.60563077018153, 29.568700935491353, 36.50868856426493, 60.54047785497, 5.99028975689302, 77.60197305598366, 19.676010866330188, 61.5647531691742, 63.06106879656177, 22.100147243276187, 33.77402188730487, 71.78181384794998, 15.759308325858257, 42.68442278200957, 33.317521931982, 62.09569443364619, 24.09808594860133, 0.9899506150455496, 20.82183634738396, 53.90645534641779, 11.994558290026964, 34.78916948190422, 21.067864517007767, 66.08238232865521, 54.10504296992365, 59.703790135933176, 25.660767213151207, 41.83975730021004, 38.15099459793343, 50.68274973679623, 76.16469343868333, 27.905505985134447, 43.19808376391216, 40.76026876266766, 53.4004031864329, 59.619637201098854, 0.4740075655698901, 38.772013488695805, 62.19114466933502, 59.5904941489488, 4.2538054734272945, 16.27619650607809, 66.50945593154023, 43.48805644038923, 8.158256223966946, 26.677242194309787], 'therm_cond_300k_low_doping': [1.674343804444923, 1.6652330311154036, 1.467711578498664, 1.5683401786317457, 1.3789752996409506, 0.3378575021637923, 1.812162815965103, 0.7945750483663953, 1.4030016740085716, 0.9263598263794501, 1.3509802055240505, 1.8347005360958335, 1.994925028170274, 1.8188283335199302, 1.621359664807124, 1.429949976498143, 0.7902220627981794, 1.5150985863323239, 1.7215424751265997, 1.9132275942778671, 0.9563876176923884, 1.2401818692256976, 0.6720128282709061, 0.02546120684258299, 1.805214138107333, 0.02788790395600876, 0.7244269169195077, 1.8229295721735301, 1.2181780791320014, 1.1633285956253219, 1.2802113134520683, 0.19623667384593568, 0.6635448819483426, 1.3263093269090318, 1.8610206753255063, 1.6531426225220538, 1.3015902578206613, 1.738346170543888, 0.7260343046097603, 0.0818845876011741, 0.0934698560377189, 0.6700066359309108, 1.9487746453880195, 1.2857805414374905, 0.8979941832547774, 1.375663223534051, 0.7708033372564171, 0.4135511936065658, 1.4781802014978018, 0.5973183294753206, 0.7101249329473536, 1.8793779419107002, 0.39153949967607893, 1.9527215633971609, 0.18653669929772945, 0.8500510507677589, 1.1258991092212318, 1.6907232552458245, 0.7339092334668882, 0.167118433069596, 0.41395226702024107, 0.38178959912067145, 1.4956227885749374, 0.20754305700920656, 0.1077349619179931, 0.10786010811964195, 1.540298306338728, 0.35232672093131695, 0.20173508413665775, 0.5435865788877638, 0.5945614398688209, 0.27084216926575444, 1.6575629669873382, 1.7922693364416837, 1.3257758704408684, 1.956407013808833, 0.19573774018101506, 1.2137482298333526, 1.3040156167169907, 1.670858241193455, 0.44178034799795046, 0.776112965823075, 1.3967264100022183, 1.5787252448442546, 0.9642667793713117, 1.0789899477884874, 0.8513781516964523, 0.5819747828002294, 0.7667592323468132, 0.7013678733851684, 1.7732767225442927, 1.694671672302205, 0.6101366676733474, 1.7958365189425836, 0.8266313731503131, 0.15900115309484403, 0.8799051658853727, 1.6185499741610705, 1.1599108944642376, 0.36836820651809116, 1.6077047938291609, 1.5169453276062421, 0.35526936404007314, 0.5524396670942482, 1.0250605807053488, 0.8472169900027785, 0.07414599763563536, 1.499538080640725, 1.2511400478291728, 0.0574846296490072, 1.816739898498055, 1.017603453614343, 0.8393591928751079, 1.1413496486020873, 1.0361373738699453, 0.5609966320350724, 1.72006064606614, 1.0790777761717476, 1.8808910722343937, 1.1569514972373456, 1.6644190645410135, 0.9361973016229314, 0.8957629121310056, 1.9737004647579304, 0.34208506581533704, 0.8326244127025075, 1.0757277342136962, 0.08034247041393758, 0.76488791616349, 1.185891727887092, 0.2522188078922214, 1.3221154755718487, 1.0901826765075289, 1.6960466899040691, 0.8270631607931899, 0.33346329355647036, 0.71782818159852, 0.8957960566037487, 1.313300035679877, 0.9789195853038455, 0.7963615351311005, 0.29925125993222185, 1.019671139486369, 0.00463521010054972, 0.2870118482418052, 0.8052052806551524, 1.3531763566233708, 1.3340326943697012, 1.7876902077067858, 0.028390607890265235, 1.4989931660539755, 0.4198091581265211, 1.3138068899494604, 1.5154723917728186, 0.21693801962209927, 0.6029375075935514, 0.7938416023473828, 0.8655565401864759, 0.5816797271385973, 0.7095148795157448, 1.493600970316576, 1.2167613799278323, 1.0093366576580978, 1.352759096300752, 1.0708227110975894, 0.7687535272853697, 1.530316435069307, 1.5798359752435405, 0.07470729120706898, 1.9080446627325554, 1.1694327553998134, 1.6675557749327272, 1.2624185822756628, 0.4206800318442467, 1.2523881384524513, 1.6477198441815868, 0.8958133456813583, 1.72841035179212, 1.9764623791930678, 0.5792596722803205, 0.03964353645753893]}, 'elastic': {'bulk_modulus': [77.84639962815336, 53.93554166726041, 94.7327824722011, 79.3168470004584, 61.146296262893, 79.84138512556117, 80.81870628011704, 98.13390447984384, 87.7809688857539, 89.76745319517671, 99.55783367898815, 72.3166601203987, 93.47724759392824, 96.82583666836899, 51.06568113378361, 98.51569532402453, 60.742495543225864, 94.71142183416256, 61.699818765605, 72.15836897038417, 51.59166790219369, 80.67439353751449, 92.47348380354842, 52.25634107345469, 71.54178916380087, 77.10845957706468, 65.67375419049652, 66.76239690005956, 58.02404003150903, 51.138160617078846, 72.66564572471027, 65.94923261396976, 96.16467729711133, 54.38051019052971, 73.37071240148694, 51.98082763283764, 53.09417934723954, 77.64486005443891, 62.449241261304536, 51.58753125387064, 50.41991430014151, 62.914919658621805, 94.66198261730256, 99.37605107775565, 92.67017516250336, 83.49453734834819, 55.41747066467355, 78.87269182810626, 59.18834180488858, 56.43025268595763, 74.39413802999911, 84.73716231990582, 85.86151742770924, 66.96263596729742, 52.21659477732945, 54.70968285684022, 97.46120123432532, 60.11605449036992, 54.75390071128952, 99.40200648740242, 56.96667000309686, 70.86335458854089, 70.72722266597819, 62.9564764860226, 68.37111848519095, 91.81663285382783, 68.82074761281247, 82.57093572302928, 62.591538663107016, 84.31846202084623, 67.522887568245, 66.68001530509841, 75.12031938190388, 75.09913906086805, 80.50320169576365, 77.26162543468183, 73.42728877945426, 51.41220836361949, 92.40035125615773, 51.09567005139904, 82.42942062959852, 56.249518911348126, 61.910752149811174, 80.3713877153623, 79.44331788366456, 53.5039125911177, 95.36205069173599, 75.22128243493685, 98.46321864897794, 70.77840177900002, 65.40053306210646, 94.00249825756754, 75.31514971881145, 82.40588995049539, 67.36398040180677, 69.8559916340341, 53.01101742300812, 73.48791231388131, 59.33884514675839, 91.27243430239571, 93.87804434320012, 62.38052655059136, 88.60228657842372, 81.32301069614218, 93.05797826795288, 94.51023300051497, 77.87365646989923, 79.74846853482191, 98.96909765892354, 53.56906462451526, 59.73005317387111, 51.40200876866089, 55.51931262630772, 98.1790396802514, 73.21409545273166, 52.269057690001006, 59.18667957584584, 98.52141946546888, 83.42495319941803, 81.88591215795486, 57.701067964030074, 87.04224042693023, 54.415353855903156, 52.65302677936279, 69.02007578027708, 79.47671275200767, 62.7887275280191, 89.02855316069224, 77.92416338831475, 66.5933889582101, 73.26645177722831, 87.98760507279076, 50.05019301492349, 52.60755850278169, 86.10756089501557, 76.91760950120437, 66.94705346690458, 66.62089540512389, 93.04455864374069, 91.25277917114644, 92.15375298264681, 91.87365393889289, 98.31625234885377, 73.89091364443608, 79.86588959793431, 66.55592866972664, 75.85418224774541, 64.68688968524535, 52.76927574205797, 87.5883360942864, 60.95104911511703, 54.24161817441025, 68.98064372972487, 60.50524010970326, 95.89958897692595, 71.78023157164347, 79.10343118481805, 75.9839190561044, 83.32775908055532, 91.47837409469896, 80.76200679077746, 80.29517152796157, 84.64959082451111, 68.2280029950494, 75.40957380886644, 81.5664235300365, 84.29221932747245, 76.26371536502765, 78.46371415465886, 89.00446217325836, 70.17129129888333, 74.6390893778494, 99.83259373414418, 54.929505495106554, 81.08835643328798, 95.93737829667982, 57.65653011458015, 90.18705188822736, 65.03564191005688, 58.50241075329249, 97.81348419042888], 'shear_modulus': [90.15569126859546, 92.89043487973652, 81.2785516639262, 83.26460113048307, 88.16190608831742, 93.46162582127195, 88.50633434913436, 80.01928987356344, 89.49479807525873, 86.5627749057555, 98.87175058077972, 86.17528224276882, 96.55204079301791, 90.98649825332453, 85.25718796129819, 96.70153762480304, 82.27906679774496, 91.99348169849108, 89.28246759222799, 88.2532199689404, 88.49535303380921, 83.3849704197689, 93.19726406358491, 81.7126744752375, 85.88591795338175, 91.06618599096927, 97.49084921958418, 97.5661514985303, 94.23597024605817, 84.22250877366997, 92.95716583818052, 84.47174928675403, 97.79506989536729, 98.0474978744292, 94.33422745765478, 81.23815574081382, 84.26006198595506, 86.62736587515772, 99.93214363342287, 82.4632063984046, 98.71641616615723, 84.95607793193015, 91.06167247309159, 92.17783327904503, 89.79798678347859, 92.50355374548732, 97.60360909880391, 80.73635325490926, 86.33416093204066, 87.78969289447603, 93.2317874070922, 83.2750119599044, 83.31115588228447, 93.32283667361206, 86.10277134458745, 88.06386343469767, 96.11499653913614, 83.00002401681064, 94.50008149613919, 81.35768846790897, 94.93218517732771, 98.72728182623405, 88.97224801215289, 82.29956222268608, 83.20917759424157, 80.17657795349132, 98.79638180546607, 85.94199006534826, 80.38380381365361, 89.98508012976187, 90.98543395267299, 86.19105630447413, 98.46159874802645, 82.36259239997716, 97.50410846477257, 98.16297700518348, 87.81588878550468, 96.96497610851449, 85.4882793719244, 88.80963147739233, 91.48210942613908, 98.82535863026374, 89.93689322801626, 86.68879192436432, 89.62953561467182, 81.71831351073561, 81.87548530097557, 80.93554916040819, 93.00095524472782, 87.43633132230111, 99.08136176006256, 96.82670090072378, 80.83121527608067, 86.41314493249706, 94.74898252443404, 91.10302469477381, 93.93095036604349, 82.05122779899749, 80.26848513173928, 91.50743867812318, 93.78281360930586, 93.94685760828565, 92.10275342099618, 84.26913770541606, 99.51667505033274, 81.51653293729893, 94.48389609088557, 87.42196790988494, 99.68793411487528, 92.63865688062617, 85.48927898506366, 98.49275247417141, 81.31381711666059, 87.6351979242564, 80.52748109515751, 88.28051807186007, 96.01493185953659, 86.4173776210004, 81.75967032014633, 87.75560495842069, 99.73330226434125, 89.34253900053913, 90.1039242694472, 85.30379646483479, 96.49537759430783, 99.90697993320552, 97.44921315767996, 98.98199199580941, 88.11831421849895, 95.83614403463788, 95.62457167685766, 81.0699767886379, 94.6795710306131, 98.11874391090605, 95.68695255723196, 87.90887298419767, 86.87480176369549, 98.25148254625145, 82.24328264937536, 89.95002500287939, 92.06918950576507, 97.71123571116277, 85.88365629152216, 90.91686946481937, 81.95560912777037, 94.29222004389266, 96.56432279529598, 90.66678327836253, 99.80322366336557, 97.12004753790794, 85.34111980428204, 88.67427500276361, 87.82598554482344, 91.29840885199404, 87.93180305477244, 94.09968446402446, 80.86339396337704, 94.3218010461765, 86.86784955698505, 85.3261269701868, 86.25337506402326, 82.55401796605933, 90.45321137988472, 96.57883556380139, 97.84076779662718, 88.26966927287472, 87.13078590895923, 87.56562314217948, 89.82004052338672, 94.99619691077892, 87.83548177906478, 86.63338742187311, 80.53064831754925, 99.00926593843351, 86.07449505060671, 86.07080620896521, 99.16816277886393, 81.67234229492998, 96.75912384724373, 91.29557305114042, 84.84882249167758], 'universal_anisotropy': [1.1867609912701091, 1.1471298201433413, 1.0717582331317015, 1.409643807515251, 1.9955967663543182, 1.7766047239749034, 1.1549875997280017, 1.0709200905185456, 1.1409159831711984, 1.0175769344234187, 1.9618089190731935, 1.3948516657330674, 1.9084426470924103, 1.8175850816817725, 1.9156223999703261, 1.2962316910930491, 1.952708843683281, 1.899518658934895, 1.5332060228132223, 1.1187936435518844, 1.6154069551874648, 1.9585990330055365, 1.0088703008365, 1.3093105546664245, 1.689104936092459, 1.8487101156105044, 1.716327895537183, 1.6611123473170983, 1.0773304110217774, 1.878570993198175, 1.2899809216459286, 1.0775808092371264, 1.3295628956652306, 1.696817826251215, 1.367005858279369, 1.0254822299451734, 1.0015353179163173, 1.076473944321994, 1.9158339161864653, 1.7964049879171822, 1.3260269430184066, 1.737410800324025, 1.1495503030639749, 1.46677138288169, 1.9261748464850421, 1.2438905272584904, 1.3259608241643936, 1.7661676190647744, 1.457801348601226, 1.358091923813046, 1.3024691621425764, 1.3760309610758075, 1.971271012919774, 1.898392832412768, 1.395319177891042, 1.305299269527572, 1.3306645169033011, 1.0389658297617939, 1.8150224962238175, 1.655395954755274, 1.3684888222346356, 1.9840940831938187, 1.0269784066208816, 1.2952136609158682, 1.0670700716532147, 1.9982859832777764, 1.750551139406451, 1.1358086682321542, 1.24367493618389, 1.1716637754645176, 1.9802969161430117, 1.1636692715754802, 1.9678847805727013, 1.679642579451809, 1.5207956604058608, 1.2497972669740856, 1.026454748046426, 1.701750397668948, 1.6361826237035562, 1.3069044380861858, 1.3584340265275352, 1.4483523455094138, 1.7176655383459631, 1.603034829682295, 1.8169869189240302, 1.3162681205954585, 1.1028830039362165, 1.7684721608619587, 1.5034657444193695, 1.116268947487776, 1.5824598060642296, 1.4614741584176627, 1.8279698404355256, 1.7697888250740004, 1.1650425532619284, 1.8314695535051753, 1.853603149441707, 1.438084559589918, 1.8631934657674312, 1.524227488231253, 1.5265219943718722, 1.6140976883627502, 1.853703164907134, 1.8093778537076828, 1.0540293523001565, 1.0568360904279264, 1.868902140377135, 1.1031523943511528, 1.9819656880625471, 1.2877483992391645, 1.596037139443436, 1.180392858293482, 1.794998094832091, 1.8719303229450186, 1.2698341147743646, 1.1421324240879978, 1.6558818067533565, 1.5071308212999184, 1.474208736198292, 1.2008834955170242, 1.2766205186213353, 1.4603848778701167, 1.9243198839858504, 1.095238483917877, 1.4119261432109838, 1.911803504716961, 1.1094610272316747, 1.9294302701574864, 1.6458806021643595, 1.3001743954133222, 1.1622013613012916, 1.15202937063886, 1.8029949030996857, 1.1302692133352776, 1.3806862325247935, 1.2612186157329452, 1.901194292033415, 1.6093858734318458, 1.109795058195647, 1.0045319847398337, 1.1485544346662429, 1.765286765980727, 1.5640687347561033, 1.5456931300719585, 1.799316380028865, 1.0196615197508454, 1.8547629213363392, 1.653548759719187, 1.540119872223909, 1.551853072625223, 1.9082744459128897, 1.2335466316503543, 1.5400420788924345, 1.4472062036259405, 1.866325264277021, 1.4598057187611229, 1.501320431819023, 1.9522078680302124, 1.001789383005393, 1.52638789854166, 1.999566374265158, 1.4384585877308398, 1.6048879980527921, 1.6243652096527232, 1.7646440192405515, 1.7054418699149245, 1.1338669278526865, 1.0651546608852458, 1.1953496054762214, 1.6559637038494928, 1.2360469169363755, 1.3860776524544651, 1.1704891459237432, 1.8602965477566311, 1.64801859214862, 1.0819105783343406, 1.3604369777947622, 1.6506266534665013, 1.6647668880388127, 1.1654003881850679, 1.0802310883005473]}}, 'mat2': {'carrier-transport': {'elec_cond_300k_low_doping': [76.17308483317267, 56.051066274617106, 50.50911854226804, 69.89604180073079, 37.08104322418155, 66.71534061407115, 2.3253873327576198, 31.57933922181585, 61.13799015122004, 13.726858079456745, 48.69263925932565, 30.554289504999037, 56.18732619701647, 73.29208793013125, 75.75361025730295, 40.678555238482765, 30.06953774685119, 6.975931439987784, 60.61087729480222, 56.31498700480925, 39.92108913560625, 6.248253232411765, 45.22128678606615, 24.379918826294677, 48.34141345751926, 63.677914859082136, 21.900703860354653, 37.45479294146222, 26.04740653285354, 61.4570379598319, 8.742387254940363, 47.614054489861175, 60.80860317686638, 72.84231768885401, 42.15392398028837, 48.85930654270983, 62.82241928962489, 57.3131817601871, 55.38929400169639, 73.82053819820544, 0.706587761583484, 56.46412360726513, 36.608967279798556, 46.20823586441732, 15.512858401012112, 67.05475512380148, 14.231344712600224, 30.04108376077804, 41.626055624834365, 65.25535397600737, 57.01596471937885, 48.045247186651665, 33.90734306103296, 54.90040762552911, 22.04299305709667, 34.07060409369659, 15.824239965986582, 53.562701448425585, 13.411754961847011, 52.12544584520772, 11.60823596009983, 54.64163696255701, 60.85499001320425, 36.430786288053675, 9.850205776386508, 50.24884106683355, 77.19073895388308, 17.580431418335063, 16.45756146695664, 20.606589556261085, 49.30692626345303, 1.9766573997770276, 73.09074051961805, 17.863551059612117, 41.09549197041888, 5.820781626016832, 17.822054706644032, 54.83351202849306, 22.147147211537778, 0.44537067233922545, 20.07584195644061, 68.20489482561885, 0.5204472608923336, 24.982465805697444, 56.18339981917508, 60.72615532237443, 4.489040889667792, 72.98615298871682, 29.07568532693609, 50.21959022067995, 39.29530633772778, 3.812162275159432, 61.571279493764166, 40.47594146303769, 39.33165751704603, 12.912504462565266, 65.56727368117788, 56.054751389690246, 55.219730195730065, 28.031913380999114, 47.02344903861813, 19.5216162903075, 42.563467928510164, 69.59657154118506, 32.73327597908235, 8.337698140653254, 10.191111985098118, 20.335392334706373, 32.48868046589806, 23.78912893977197, 20.321774038896503, 65.50178556826583, 51.305199189996806, 19.869952042548245, 49.577286307628285, 29.058581746669077, 31.64596870940015, 76.90599761021723, 20.428090084288254, 59.62511107278583, 14.057563102184941, 67.22365160283721, 49.28038035055276, 15.215489024597371, 7.4708316654565055, 67.39145890502344, 55.29939865164123, 26.14190368955191, 69.15250066785981, 28.185843623127937, 51.86414615065697, 38.50796120731758, 47.37130185328265, 44.16644222236876, 69.29685514634723, 25.6777848278706, 56.9341192900952, 66.02461759083704, 0.4829472992783422, 7.786159803798428, 66.45172951918663, 14.032995547435235, 57.192827517680016, 56.012877000945466, 62.58169471709457, 71.1470147289372, 26.7003684221966, 51.3291265746894, 16.222037980417372, 64.20341442618734, 66.90137154417073, 2.8055788143815454, 24.543695625289388, 26.261659061388556, 74.65547644397779, 46.95329945684122, 45.684022783081154, 14.604535006686543, 48.236193894866496, 15.982889859601345, 24.14402156667599, 29.231320192812557, 72.32576070100046, 31.72444190548507, 29.344507059170798, 57.013800223934034, 33.305901958095575, 66.35843002309181, 77.4043541152064, 60.09988576981288, 52.25936542083253, 49.28625008925038, 36.948994044304584, 9.208125971234898, 68.55612285678826, 17.98934011863336, 26.710865971087156, 2.055428951272867, 60.57933883354182, 70.20404790320023, 65.73375120586321], 'therm_cond_300k_low_doping': [0.45470731098863, 0.554488063775016, 0.05787513544680094, 1.5239451370528903, 1.5802516135933573, 0.15319829575149993, 0.5576682311065242, 1.9639816084292607, 1.6314470273738366, 0.853068804989444, 0.39342366205279666, 0.4961680761669799, 0.9218073486564113, 1.979794079672563, 1.0164923266206782, 1.261870327735908, 0.5180633667091437, 0.9173538202003942, 1.9724368975329873, 1.348675117123838, 1.889876702822185, 1.724501074800576, 1.582113273417191, 1.7294095233407702, 0.26739067999843025, 0.04976703467506666, 1.5790271557394928, 1.572590420996324, 0.4125136093434058, 0.11982356259016765, 1.2517895293541415, 1.8503505492663297, 0.3683411193328853, 0.716419054876183, 0.7785350985976993, 1.0486726029335884, 0.33133782425445546, 1.7410149115860245, 0.17270068783849993, 0.6417648066327323, 0.6439141619428058, 0.7123871382035724, 0.07769310445947165, 1.7779648849199765, 0.06810969368978557, 0.9854079235020927, 0.45180385118353145, 0.033632929412388816, 0.7686793472216933, 1.1549856836440273, 1.1884794881739345, 0.07235026104378406, 1.1746411138906552, 1.275191249123208, 1.2271425321615033, 1.3095760413668145, 1.8986100143316802, 0.5466515157614592, 1.0196584916595763, 0.5554013521656002, 1.6520173867457686, 0.30495399948578567, 1.3811925563308862, 0.1731740478150686, 1.0429349925216016, 1.333149781108289, 1.2379821022587116, 0.3320027828532479, 1.8883915687841177, 0.21861300228009362, 1.722921702840061, 0.48179381781432434, 0.028847001382920887, 0.7490640231487223, 0.47800757919270764, 0.6555827395373789, 0.0993385286973181, 1.1383563802993288, 0.9963374450941719, 1.0634608708714117, 1.6641045367212317, 0.9518499289330205, 1.1222191824893315, 1.2025575605643315, 1.111649426547749, 1.3960651119272849, 0.0251255831528491, 1.9670120690639756, 0.9543893537015714, 1.2699742122991382, 1.2838834913825958, 1.6833193942955547, 1.3750725640004822, 1.7489789121174242, 1.5656764997016126, 1.3992931796639607, 0.5257937873394256, 0.7560113468944017, 1.8318302930135801, 0.11011393909942463, 1.9937335012125381, 1.4226006552075874, 0.44572290754605143, 0.08188755204897166, 1.7676050803815546, 0.13010751045194024, 0.500713414960074, 1.3678134496334766, 1.2704029408408783, 1.1044521934897604, 0.09503215153755719, 1.324513034066841, 0.6555862151339815, 1.5654202910588675, 0.05243154914372781, 0.18514943678699222, 0.8205929900696874, 1.4510536241800707, 0.2577790266880726, 0.2694524750766141, 1.4778543121648693, 0.03906338570291908, 0.21463230899830943, 1.8348801992245365, 0.4410905782638561, 0.06403368970575862, 0.3527860998616012, 1.311421671560269, 0.7944819313334631, 1.8487771843406262, 0.10752347929474348, 0.9591908247694851, 0.988226739376785, 0.7870503108826495, 1.6897221536877072, 0.8499129729693577, 1.829844670323504, 1.511817437685212, 1.5517543261523805, 0.6115754549156466, 0.07059492195814615, 1.424306119693089, 0.9298620611778727, 1.3760583831185653, 0.2554134461869209, 1.7782294926827784, 1.878306584028684, 0.7766713151512252, 0.7753149345170366, 0.38125381630135496, 1.9064077212194506, 0.1569124923252013, 1.9218897647448492, 0.09665808659126385, 1.3091765967362903, 0.7022980092259753, 0.24086054648423863, 0.24008893215568455, 0.9036316569204177, 0.07353876044412483, 1.8671700541800198, 1.2854309609977892, 1.1466559744624185, 0.41039866161689853, 0.8516798836331856, 0.5138706040209366, 0.4552107851984224, 0.657029498667611, 0.9436850335666322, 0.28737805090814267, 0.8601192876188568, 1.6494102787989913, 0.16424516444243595, 1.8172109725998316, 0.06611820528072261, 1.8104126540370342, 0.8351435246026153, 1.4503838871058783, 1.2037445453815212, 1.3745484759447917, 1.106815978637368]}, 'elastic': {'bulk_modulus': [333.2968675139403, 297.9713814842255, 285.3385543431261, 242.2386546826019, 200.11681245593215, 214.3371769482839, 352.9954941434029, 179.2933748256259, 233.60274302243383, 150.7866429525297, 257.9815985287797, 336.2557090555631, 197.80335022376784, 95.14139842317262, 162.2539144044215, 206.01889005696077, 337.7085076916287, 124.52628129563529, 225.17124177076377, 391.2838370677202, 210.52919435561202, 279.7967884861128, 237.3652165104517, 37.591282031007324, 346.67262610708514, 309.53972554670145, 334.48698542089363, 226.5689318642219, 94.93780730814017, 287.4634502373023, 292.3654411112611, 117.54013575161804, 352.71362237470794, 249.06677596501535, 242.13431157474614, 83.80594436324523, 331.48167759936626, 112.57441410139867, 230.34096709248507, 207.43487270200728, 308.43652194660467, 70.93903493189009, 46.52698821455587, 205.15123080256365, 384.4257518708454, 375.94971719958005, 99.32809051193303, 32.45659368252237, 180.5487952513789, 386.17156652451115, 350.6796023297317, 211.71506619166217, 263.1697726978792, 311.7871573026362, 34.89218512402819, 329.2842121933107, 59.54610058717357, 301.49947775206664, 71.6699577833989, 309.0719198510028, 231.57770948352697, 268.7587457868325, 72.65832081686418, 266.63454436694656, 109.34615630489606, 171.3696858440743, 275.9862729902074, 313.26652424826256, 57.86467670550161, 172.09237822706862, 37.57397532903066, 30.59691819431596, 47.65711697866669, 148.3752296463711, 24.33532421024553, 185.12425334727115, 359.77505306382665, 98.1554684019072, 386.6440535747743, 32.066748711346065, 238.74898628983968, 38.92828219933709, 261.8345464077986, 324.10734684613703, 275.9015707423504, 240.2846979801808, 279.61081067258795, 106.50452741871099, 371.3900702469812, 382.98024098060193, 59.663449280956975, 99.04083237765228, 390.66632250602567, 357.9803919353366, 241.09902766361702, 286.3877675569211, 147.29961973835026, 214.53172398184776, 157.34395532938353, 141.99236539605505, 130.62148795409988, 43.36118877483544, 365.61924079774224, 252.3651624975222, 117.43332945009116, 301.68170720004684, 37.3997230763574, 348.4785838507989, 195.04432872923144, 353.5689489738435, 141.578462203337, 98.90891096656969, 69.01891859270602, 337.86844613666347, 202.9166024030875, 322.6489696642019, 192.30061844135042, 275.37215068902674, 75.14012674619596, 342.53356211907385, 178.63128159197896, 36.81018819244244, 215.70178727916274, 266.269611795199, 262.72220382300173, 381.1602036151476, 238.84826758273576, 193.48066668284878, 56.98376143005718, 127.7552692165816, 230.8174452685435, 397.9780730466721, 357.0248624733457, 366.51174461558594, 357.9083018922655, 196.92999822786578, 269.3793914927378, 321.35072282083706, 202.4923334170262, 38.332146236869995, 189.4667227134315, 251.9906632015763, 347.08767856783277, 381.48741993137895, 239.59153494055653, 354.35957238869065, 77.98684467150048, 341.01481080936554, 92.42991359289418, 74.46614867863092, 307.78717468256286, 45.54096889610842, 148.25227403979156, 158.7136075332715, 34.1334558863896, 168.35492279404738, 390.06060522599626, 220.55713085672866, 133.92669318322748, 86.70431860511144, 69.90928753311255, 70.09511971196005, 315.19497496332355, 265.9146152263178, 282.10429956212994, 149.60868314953112, 242.99793577606835, 170.8742182407285, 130.75104806261413, 255.5693377994367, 98.97825886641921, 218.56210483825973, 77.38736058457205, 41.75449280507631, 366.5130189065478, 278.50162070573225, 387.26199403990853, 110.81918733056324, 357.96535851558195, 362.46877279285826, 150.82459911818285], 'shear_modulus': [169.57250635436304, 116.25614531558092, 108.58583868300882, 108.12313222167614, 156.8145754772531, 158.7591238620928, 199.43347016453419, 182.34862598661573, 199.7021869236425, 131.19731551465716, 170.25513394063643, 184.72516726334288, 177.25348192628994, 190.25481819979194, 105.53813019541643, 167.01638640493738, 166.63081203884036, 108.5398070971071, 170.97309532487319, 157.451643314027, 101.72732083589031, 174.92734737947893, 110.27053224232803, 111.47738967214285, 101.22688366135175, 140.570791635295, 180.1332589636864, 161.27302995948438, 133.25596979237883, 190.64763670154736, 177.2771712156657, 176.2450344297211, 120.91660930467714, 157.70036524992508, 132.32824905392417, 129.43539032681244, 119.91822523233648, 133.89508043611846, 121.49143342922622, 181.44047599519263, 132.27579799179617, 113.93698524544682, 138.1509103541104, 155.13059901782728, 119.05324493416052, 125.41669003790412, 176.01528905571558, 106.79889642019835, 164.01260657527217, 131.9021241768407, 176.16249143910483, 185.1604779664944, 199.76896565461618, 120.3399593887782, 165.60745640109366, 114.99865668571354, 175.4941259700667, 173.24339482334582, 173.3948874956377, 169.03085660780357, 146.7832619666936, 190.90162676429324, 154.65907136897388, 141.11845003007318, 159.58068213854838, 139.94326914492538, 193.90557221324872, 113.50516729566971, 194.87534884864914, 169.65249464529634, 175.16388809598303, 151.8537611713656, 163.10152104737995, 141.1941788700252, 119.14969120026038, 185.54983478584865, 113.60619411671924, 143.4540487640744, 117.34273336914495, 152.1610274739683, 192.42225917907354, 136.48003075281792, 100.47160238869256, 141.60021713898612, 158.89751445564985, 125.13500945033056, 111.60822508295395, 132.50870407957177, 188.61675511028778, 173.1970266753995, 178.3530489180638, 167.11241078887454, 104.0326953212809, 131.20531701744224, 147.0691895895056, 143.36476347465873, 138.11546453157786, 189.25791983289932, 193.07020751042177, 190.53772848056778, 112.8067984883475, 124.77618943532153, 141.48971460388577, 172.09160031453797, 186.9058628067899, 122.83670226697802, 144.10675535433475, 195.34571188378348, 159.77450591412182, 124.72374000932072, 126.00504926775594, 170.1893516436055, 125.7603348380149, 172.2603054026082, 103.60197117400159, 150.60146538163644, 129.4963274241926, 136.61288304461635, 181.36154654751317, 106.16528234801288, 100.88241920878733, 131.1107978598792, 178.09338864490076, 106.32957490380737, 102.45832712650333, 136.11784223854568, 190.3386721544038, 112.92801740438958, 111.41608406976744, 130.98931718950845, 113.2966697101865, 182.05541175391988, 139.92622895144194, 146.072083146617, 103.10804801853068, 175.00213094265666, 132.0905401552793, 183.13696657969825, 199.75872140566474, 179.76706014401464, 193.10404082072947, 162.33481131592237, 180.7904574565315, 169.5959835982535, 130.93207870986583, 185.06207346002526, 188.59366518067716, 160.1435863157345, 122.90856213621313, 192.00239704815903, 108.05781943082991, 101.68446553312887, 107.12709464906955, 183.20017490667743, 101.3038806907151, 149.96425301316788, 141.68242395277494, 150.52430106163504, 119.30870901071091, 153.893225266085, 112.73014231291798, 156.0334946710488, 188.179238978969, 149.98835676184808, 190.47419850895687, 196.8098268916109, 191.27860779955307, 182.3618914486354, 163.41414498916708, 130.49067557797383, 151.66603718690507, 158.0595481965378, 118.27257467660652, 161.82412753317902, 128.26516224050872, 125.46707551144178, 139.56996628204195, 103.93014112791388, 172.90160511904645, 115.63865578317579, 165.64628048689815], 'universal_anisotropy': [1.6822279600797576, 2.141248117623652, 2.2630726970379325, 1.9765944413074616, 2.1227268655261406, 2.1528316869536743, 1.9232082594616, 1.7337159499121932, 1.8600560074783004, 2.1866820026292837, 1.9164307796266975, 2.147664055392655, 1.629384286824813, 2.0014085613474424, 1.4056631601287883, 2.252684148115823, 1.847836300862372, 2.1325976373074056, 1.7117411366701027, 2.1698819161435035, 2.213575690854005, 1.933129354463081, 1.3653261849773148, 1.7919938859606936, 2.2650326943742765, 1.9579503870089954, 2.1577720508696423, 2.240877925359921, 2.22084213360039, 2.1388321287031586, 1.4549373731085007, 1.9444438537463395, 2.184739890847667, 1.9608053202230624, 1.325763920985906, 1.7536321865126911, 1.981318192215177, 1.929419592477983, 1.3507408318592278, 1.5289283549255284, 1.9495666507704632, 1.57425318665539, 1.364356510297293, 1.555971068043931, 1.9781279832135694, 2.124693933521703, 1.951671419906024, 1.6824403381540418, 1.3527704242271346, 1.7829806585410277, 1.7787276813664978, 2.17373632727334, 1.3405311298139089, 1.8400571043244183, 2.1893748466269844, 2.101627045104389, 1.3092476416462926, 1.570996235709922, 2.105679604171195, 1.5661950042980812, 1.5942108909195447, 1.4482109292770957, 1.5350924365341112, 2.249294333139565, 1.7817783044847788, 1.8902160092709714, 2.2279678367225477, 1.3700037244728955, 1.9152967173487676, 1.7768290193815965, 1.969569491850984, 2.084951803969247, 2.1333874874841845, 1.8990786784708187, 2.055037184994723, 1.899041881646733, 2.0424834548737745, 1.3268344330454143, 2.143778156440547, 2.0229093729894774, 1.7077660497163536, 1.752113749496094, 1.9197293335845953, 1.5793234473602886, 1.7357459059299303, 2.1784735802240363, 1.8887036914708895, 1.9960049185826527, 1.7416726667329903, 1.8292660367001046, 2.2120830703959116, 1.6891551775716682, 1.6348859546939474, 1.98819442702701, 1.5935061344888395, 1.6342356678694174, 1.4422772464549392, 2.040235176945525, 2.269225657816304, 2.122980493387401, 1.4054020683514183, 1.9236205950782224, 1.988147253249947, 1.4675149845621887, 1.721475895861732, 2.1905519265612785, 1.3527205725395346, 1.7252416683988683, 2.2111754447368543, 1.6844517560556196, 1.4046116229115262, 2.033405693644397, 2.0015768548629294, 1.873463730971145, 1.8878584066772501, 1.7432223131725388, 1.650660198724, 1.9366755768566055, 2.271510391785051, 2.041481905414175, 1.8714661257500271, 1.9575235685659527, 1.3949686207112342, 2.194359006189865, 1.5139498768051902, 1.933634531729362, 1.422374392005645, 1.9095010140357624, 1.4862018768917231, 1.647989275928234, 1.6231382581228484, 1.7577704910178165, 1.7257972980435254, 1.8556271363338195, 1.7859421255526997, 1.5608360425015433, 1.7343482760124915, 1.673491217589472, 2.1513675360797038, 1.847093891877965, 2.2310387258874513, 1.8977573234535332, 2.181687069948979, 2.2559728902238327, 1.5303436217123911, 1.3865287963168855, 2.254841048267008, 1.941041482700991, 1.9999884797257437, 2.1537070115659125, 1.5676596051403557, 2.0448301468421244, 1.9553631034597654, 1.5485324323691823, 1.7984196282484746, 1.3942297657845812, 1.8673432699871773, 2.2555649753311586, 1.9490371254607286, 2.1940615531740346, 2.0466584430035972, 1.518991653830997, 1.79535292737767, 2.139594430095488, 2.2956188421499673, 2.2403274143006753, 1.9652093624713391, 1.4353442757543144, 1.3810265441788458, 1.4501439451246283, 1.9543973199579328, 2.133025655244391, 2.219534728390703, 1.4194407086722218, 2.0806641356432714, 1.6123333013739645, 1.6278407711211444, 1.9423094323438734, 1.386748737708202, 1.8255852879783308, 2.289561654538708]}}, 'mat3': {'carrier-transport': {'elec_cond_300k_low_doping': [74.94659658734523, 36.41582877391449, 66.04109288736475, 45.59827192948844, 66.55675417094551, 16.732284517992934, 64.36330283620069, 5.5246215016352185, 26.0396601554147, 23.587998231524693, 21.42465066335808, 3.735833490147941, 0.26197767783065856, 44.57845902542823, 3.0717925305302956, 15.494050357769998, 76.4895538979042, 13.75033600533245, 10.954887031724251, 37.80194886853387, 52.52085757089848, 27.537195099253186, 28.617193125778307, 50.07494257930755, 59.55478580876552, 17.520373336565594, 76.04859323107453, 49.192239546260424, 35.56072593085829, 3.3052639733956957, 2.375786362011321, 41.11169375305325, 34.46333494657491, 53.99104008903278, 39.97330260621204, 29.657006596663926, 58.084423106299816, 75.25238751292805, 10.738972011674889, 16.849802939438938, 72.29613119219836, 4.284783941801082, 67.84080753370321, 49.488863145361385, 34.083395449861975, 0.0695067044929519, 60.39274459495938, 55.35741832195877, 13.077613701309206, 54.521612266421805, 31.398555421728716, 59.90756423357306, 2.0313811828130177, 20.872278279405702, 32.97588204359221, 73.82960866232965, 35.31106313150559, 69.29645039623293, 65.19478989815451, 35.971694400144294, 72.46163849440916, 41.634781656129796, 10.143834917284485, 36.321170691666275, 5.068779825623482, 38.939012362700936, 26.87205193226439, 26.457233926757333, 49.034550300679335, 42.82736174123549, 15.553524319130055, 0.9283129927190407, 29.82932004641133, 31.233696395161736, 9.859003510160983, 31.152908057752388, 74.28053607224348, 58.23038828629243, 7.347384317596722, 33.29004346425706, 74.97957454180003, 45.24340582080783, 18.46760027441554, 12.351021318637226, 50.38785567498459, 27.054491734732018, 70.32699903497027, 37.726062661111634, 32.2218562348782, 60.386423638876614, 18.018428151362688, 3.694385953653569, 62.473830488215434, 39.5065815017401, 43.4315045507183, 47.597096590110155, 47.41022691365575, 68.74918601268438, 15.37018204509306, 51.551588983995096, 31.84896615976388, 11.072944383719356, 44.33497595503228, 62.259554263640915, 32.40642074987436, 5.6913716558093, 48.71288036435862, 44.123597794089896, 50.63506542622373, 37.30720759097075, 63.53904634214433, 61.3577870853477, 57.923072256441706, 74.94485417309888, 68.51265529817144, 66.80794352805123, 16.834558421554227, 5.050627640389899, 40.558525310620205, 18.55157035269626, 49.0810265499773, 16.076335364960173, 38.41611758937845, 35.61259679455972, 46.72943123175112, 63.18898055659279, 74.39875065401135, 61.51451335175343, 29.65548868803249, 73.96672502158609, 27.04651276955173, 15.969168090697094, 74.79202888249146, 20.525038653742676, 73.74090881928724, 32.156924823290424, 69.19988032748424, 73.49396533729757, 52.32100214434325, 0.15889378904450882, 76.49986055871067, 26.349137156306345, 36.40300059949846, 61.850760378602686, 14.656862000552751, 71.19432835709266, 13.070437696627513, 24.745845187223637, 53.57478104779907, 67.26180830058459, 0.17059400647668552, 72.33102407571427, 12.077406536707642, 29.78181930545109, 67.6099386887424, 63.799287315237656, 25.13202381660184, 77.1147896986452, 8.776250977649063, 25.686200622204296, 76.4139095501557, 14.81748794930059, 68.21595377495046, 12.985939307367332, 44.54129865417901, 16.067116949655865, 24.584041451332133, 68.10155323874552, 41.75454672323159, 4.8503896030275655, 42.34853978419154, 29.103375182031623, 58.249335495141636, 33.43872800081811, 29.120018591961415, 38.65106607264542, 75.8467756392229, 71.94369386209561, 38.59320374493782, 15.029334651661232, 9.40433036592702], 'therm_cond_300k_low_doping': [0.6819286664678563, 1.0542994158499783, 0.817543292344452, 1.8290776586592892, 1.8501696728321628, 1.5103371055320838, 1.6495952679200845, 1.9667054527425074, 1.048673727136788, 0.7799188512057298, 0.528401922339012, 0.0951183214106291, 0.22729472915542498, 1.204039768349456, 1.918582077895987, 0.6355704836117739, 0.40013912383845424, 0.7965433599017393, 1.4377607948299638, 0.3729681997863194, 0.1759856490035492, 0.13349203664284923, 0.8213146889663342, 0.25590408334476206, 0.9427846487197445, 0.4506781592191908, 0.13771972617220726, 0.9089362720211842, 0.6671897030030981, 1.8181802202343331, 0.23810911702203041, 1.914421331239978, 0.7812537461284066, 1.9884258373432973, 1.2731062194389144, 0.8929957301932416, 1.0349183737907162, 0.49430985158221763, 0.08925283266082375, 1.8038890204550633, 1.8096648294189268, 0.8207309476663369, 1.0956193987693068, 1.6455034683875212, 0.7268736361842465, 0.20713133015904803, 1.2999690216259931, 0.2995853570597639, 0.8930118426349201, 1.0892916581420067, 0.7431155370915092, 0.06768917517301005, 0.6396422803280062, 1.705689059653231, 1.3435077520831762, 1.8332032356442973, 0.3222568372775989, 1.0148098040844211, 1.8124592639918322, 1.4179201431736006, 0.937884513641069, 1.6528282994275902, 1.8443783339719189, 0.25951552868873684, 0.15935009191886634, 0.6857164997720991, 1.079635231783738, 0.9917869301745997, 1.5224930182550247, 0.6331495401549647, 0.8819331256203597, 0.27210358338363255, 1.7142057622838878, 0.4942825508557409, 0.05167706009323397, 1.5810261144965385, 0.6793159437354622, 1.6856389903320068, 0.15930264264390245, 0.9994314612485284, 1.2927692185893203, 1.4363813503004104, 1.1231779534697661, 0.5835464321789797, 1.5003814489254932, 0.21520623458300123, 0.7317865999435195, 1.8229133153995727, 0.39566539502222897, 1.5284054032917154, 1.9060864431805007, 0.828920303337656, 1.0334567139178954, 0.22686571548454684, 1.446391886701257, 1.1676688374635908, 0.31435889205071926, 1.9114904796962155, 0.9406246612791446, 1.0669294258908673, 0.06471383816323166, 1.6845442405395556, 1.2760060102462132, 1.0155133918178505, 0.34638116957109766, 0.9527842030159637, 1.3518440237596108, 1.3405663609760894, 0.9803267482666065, 0.24985047020783063, 0.11882109245652661, 1.9680342542905125, 1.704111107884408, 1.788412108520468, 1.33942209660509, 0.6532496839044539, 1.7407973158665238, 1.3998418895761005, 0.5457514827609384, 0.9583387013366751, 0.6336547898083029, 1.2369649414861645, 0.5328775552062377, 0.9608379420664264, 1.1514979405055228, 0.8015648932912101, 1.9666217478533201, 1.8052442885523008, 0.8150914444474963, 0.7059837364073994, 1.6284276867961116, 1.718726473791656, 0.6252216153749262, 1.1492042234604174, 0.8722997207630272, 1.298076446537399, 0.7687856523394944, 1.5686867974957703, 1.822485588663445, 1.6101456728894843, 0.6868616574638395, 0.15032350237759132, 1.8890914038772415, 1.403384765797488, 0.7627898002595309, 1.5812500498680273, 0.7273846167619883, 0.5957494170347423, 0.4435071790572769, 0.2297274866047202, 1.5731872182607358, 1.5064506417152514, 0.6193767835204947, 0.5571247571356674, 0.4042205571016673, 1.7661264392002816, 0.7270708246255446, 1.8737546014347735, 0.19527423189081342, 0.5428736989956159, 1.1091138335368094, 0.2015641477483292, 0.7746544031245042, 0.32530192586044837, 0.007845873345148868, 0.45825341584789336, 0.8851844065793784, 0.7712784193817979, 1.683753183144615, 1.2133864417421187, 1.4156492883573037, 1.7926899178239848, 1.6120565343960849, 0.8352472267885108, 1.8233566140117736, 1.5036652043638812, 0.9331775356504509, 0.7289191434724015, 0.3602941639451642, 1.4352507580629996, 1.7582393478682028]}, 'elastic': {'bulk_modulus': [264.65088060200924, 147.8234353687622, 136.18659687992837, 193.37483472782068, 284.53302706655853, 79.81345943884233, 20.571707654561372, 251.39882280269276, 65.22740311059728, 192.70449871802344, 292.39389931571196, 43.29518175382883, 198.63036649951152, 125.83934632625883, 38.53079657345736, 133.7729906505832, 227.82877516509987, 104.35736231688945, 137.27791563656362, 181.734069594228, 87.79754980167687, 56.69734745926874, 191.55926790310056, 239.89307614160583, 173.99195791379003, 140.6023343540438, 232.12825036819663, 101.93246793135337, 223.58206366427487, 165.0677195960069, 161.89770404304542, 163.53945935769684, 290.2538888631147, 32.33927651963011, 53.55361484294157, 248.610181105138, 120.88166203796705, 271.38358593390853, 223.41767748055042, 221.23706090242612, 89.58711649508771, 123.84272710754948, 46.815131890237026, 45.50404458581508, 126.84733118935652, 141.7010384362842, 31.51113614394206, 35.90136782376024, 104.00228365634044, 206.7356759140263, 72.4795939804784, 32.219135917723484, 203.98957609088947, 145.77910381170247, 140.63023084297987, 121.54184804153573, 32.6875075709528, 184.29632736043368, 107.76545362850081, 169.15358092043112, 239.91986456971856, 26.716991534184906, 142.88768909922499, 116.0415931394167, 41.31382538427317, 240.89744869433005, 185.38651365283522, 68.8846364249502, 156.3603727988964, 158.91711643279385, 66.9337696284143, 180.49467179571167, 263.41118147905524, 102.19010324819452, 250.3561454186027, 262.6422726267702, 119.57915374465662, 25.91454920798188, 182.30098596109596, 97.92656770614563, 63.94183620371621, 248.95351559053677, 82.54545226348344, 155.56087417287443, 179.17125606036333, 249.96490510011893, 210.08706960127776, 159.59370312652933, 95.95346805536477, 70.8246031860476, 197.81526565757522, 52.85811059501495, 134.88861953024957, 287.831081135739, 78.53508814531897, 190.53564781907505, 59.76003899739635, 75.10048052508864, 287.6846763922266, 249.10026628514237, 119.81425751171322, 196.01300546408294, 187.67783194860885, 279.71694744840636, 204.58902149263048, 201.4257952465481, 73.92568973399287, 90.28257995320732, 85.96677288994911, 284.7588529064996, 275.3776132667328, 107.9152663892628, 162.73743413371747, 297.58628112043067, 144.93061456619114, 176.8308802997715, 63.998711665655556, 291.2265968972825, 157.52479243251935, 38.88275078858338, 110.69698270961301, 202.9935843778489, 81.14915582115259, 100.22929826928981, 114.04284430528023, 158.64865756998506, 299.4794576964655, 117.4971984416363, 93.09113217759564, 286.86411424260865, 139.2161327326555, 126.31080931909021, 296.8681208310434, 279.3605990234297, 296.9967310195096, 190.03352172406045, 59.27110664602425, 127.66039431186837, 139.8310233030502, 190.7222060981231, 92.48763632377052, 94.1619555046799, 68.23430695531405, 154.3515808751545, 284.4188255321422, 108.10570811699657, 101.71412359611955, 274.02676116915364, 91.91704874744035, 104.6150394565675, 209.09270790414394, 131.5283004037725, 137.36821464377047, 88.47424409387705, 254.61968400466162, 156.2150707441973, 255.08629723164162, 277.4255916577588, 178.85063411738167, 165.0130694313221, 27.333071791557828, 54.191411396364074, 136.33385834282956, 288.98830113776125, 261.4942250263248, 24.51281235909184, 95.21585459205339, 223.21546851857113, 123.86406073244983, 40.3187076217046, 149.63343126327607, 159.01041742417254, 170.60146003377272, 241.5356937693791, 187.02435825591135, 151.57756473828834, 80.72375066679722, 126.3978687460388, 256.6811213302832, 91.20251901565804, 57.89084221029588], 'shear_modulus': [178.796904006499, 191.74527886742237, 278.38926166267345, 283.80878627189156, 189.1620381527002, 285.0130453695615, 203.4172496975633, 143.8289873447785, 287.3657971837599, 255.54324650478628, 245.1929739999156, 139.62817313319547, 254.16529956040955, 129.22158555741083, 176.51973285195464, 222.68651941758392, 256.5026966810669, 164.47075543585436, 237.99138024761965, 223.28788307018587, 190.25539218562568, 244.33359415042364, 289.47974133915875, 117.74628679288367, 215.11153647729273, 134.9519572666201, 209.20287506521544, 182.13240688659653, 290.74626583113115, 287.56578154804396, 162.19923180639717, 183.6591829059015, 129.02591314519887, 168.65375656719732, 270.3982794884406, 235.05889860731224, 146.09553578903626, 131.74358924859143, 154.04211081901641, 190.85536293382108, 188.58991554413618, 192.22996886068637, 183.14121914701803, 141.50808903630465, 148.99067972382093, 231.89681211691706, 233.4005916031477, 202.52927643910115, 226.70900503375236, 126.13238949015724, 249.73713797836206, 235.71690207767656, 218.50309619735208, 127.39274842385416, 153.6421146373952, 161.05296099598874, 119.66465581820553, 179.22924389262718, 194.88002537429065, 177.08144924252178, 144.00793263720163, 115.05444098941567, 158.7950038967671, 131.77325394793695, 181.85466972093747, 113.76842586129123, 129.668183936498, 195.72443242076565, 273.11622705767985, 155.67126964854072, 262.2779882086244, 147.1277255092385, 280.3294484033316, 266.6846212099573, 127.70196717222906, 174.57482987531998, 255.36293326244262, 129.25090892689852, 202.3125048701527, 230.96573348941087, 299.6390180747858, 128.7595973064888, 224.14513300727782, 199.328404493619, 221.19473126387805, 193.28505561606812, 151.80899151592894, 211.91923207324993, 129.19811817233222, 171.08384551606832, 267.7221736659395, 166.87267302958992, 151.2472207461526, 188.271479370859, 164.24396426070558, 149.8799934487524, 140.27891640697567, 154.6111363170495, 246.64527801620832, 298.1863612624893, 172.77565142155714, 170.442964146858, 113.70042996680604, 177.70731607640363, 205.33390625077308, 224.36924283438776, 244.82820294441774, 126.06326806636142, 265.93421187300464, 272.77268212325725, 138.9719877726312, 265.55836664053936, 237.74222845046273, 290.25617400539807, 163.58494972609301, 206.02544477385896, 240.31739678090673, 217.26631962934692, 289.04139420049114, 182.01068243725837, 102.26350617326891, 117.75603837852697, 165.55659204312553, 130.16060833954694, 197.68876038163484, 104.97867118989942, 169.4038573686173, 264.62253336426033, 294.3922354843411, 175.3315116953695, 186.18574585673667, 278.441021974454, 210.8114780876837, 233.57417919163643, 287.7391197232921, 293.4656500656291, 150.6401065886809, 108.84158187355528, 136.85312213041718, 215.03287520496073, 193.7837246457368, 119.65354555781194, 116.41446505358716, 140.6431784074093, 234.97282233965385, 191.49837683840752, 151.29843919525266, 170.85538644290918, 264.3743639417312, 195.5452239634393, 206.12943624837322, 280.80838120151407, 170.67090023201592, 161.95748645278178, 156.53604220062078, 140.22059852405516, 264.2679086158204, 253.1041251941218, 127.37910060046313, 157.6339012039982, 142.0952097942061, 256.2247268358318, 230.08360840887, 293.26610528661934, 181.7961522774179, 143.3848143817034, 268.66537632923166, 145.58700461941137, 168.68074549432163, 278.5568483657212, 291.3424886986357, 102.03944183928675, 247.791645452023, 119.02992260756693, 262.0656335268174, 123.21995088814401, 170.93356290213876, 264.2978089726661, 202.5545444574118, 265.86670160700294, 266.2055148303441], 'universal_anisotropy': [1.2810747889303784, 1.727131589935208, 1.5669193149341263, 1.2533394023901028, 1.0752210144872214, 1.3025350686114148, 1.5291171072007939, 1.6465024886152198, 1.2888847506813768, 1.699929634191003, 1.499427380384582, 2.0580039131854893, 1.1077535345741802, 1.7789573221109418, 1.5813081361376613, 0.9480986906965596, 1.1876559919926897, 1.9771027344207037, 1.7408828959789129, 1.6689149734875746, 1.1440580873139625, 1.3464467699617702, 1.688597348510145, 1.0070739787967504, 1.681842581905142, 2.0539386150819343, 1.7094340890628184, 1.4111236847011432, 1.8238552886482524, 1.1560277370136611, 1.2074729494440906, 1.184482619040066, 1.3038026997837147, 0.927433867040018, 1.3149390947190511, 1.3396494283680687, 1.513382018737072, 1.1478005617259177, 1.6273373614108078, 1.626272427376549, 0.9643817659616228, 1.5315795166251673, 1.2170004080026409, 2.024298461410192, 1.2381784005273717, 1.5523323734614878, 1.2332154649185951, 0.9221662497123571, 1.4580853961085158, 2.0321146207046934, 0.9079598809556396, 1.3433039329333902, 1.4194428889837272, 1.2355967423236935, 1.0265170538591357, 1.5251547453316774, 1.3414597066459637, 1.9340662314144805, 1.7124371929956972, 1.4705560379611105, 1.0153542505192918, 1.9816362255916506, 1.2868232960640444, 1.3698524470005427, 1.4496671830022967, 1.0295611154754138, 1.7277889391853836, 1.1071671621304389, 1.406049025356591, 1.6474894402277824, 1.6875102296024682, 1.4450716284408116, 1.6050279344942775, 1.1090213988431201, 1.4265787336731721, 1.126814740150576, 1.8426513449122333, 2.096654320436881, 1.6380223008410595, 1.1621070099272208, 1.9884320459699891, 1.997106553857091, 1.440455456018927, 1.6205230575631249, 1.48172267082633, 1.7581218997309955, 1.8682077496299898, 1.9899969758743952, 1.415010405921564, 1.082651092088945, 1.8710919954899787, 1.2888185308239417, 1.9684126335772771, 1.5429849218186138, 2.0794942602719284, 1.0281506233544475, 1.9390570620015324, 0.9081059910463013, 1.1037615172948645, 1.5739626344217257, 2.003873378622463, 1.0128510881717956, 0.9096147155724184, 1.8602645220940284, 1.6152952195156438, 1.585728993739175, 1.94704360909859, 1.9505744151368978, 1.3666515927751566, 1.9203764189978423, 1.6796009176019946, 1.5943242490982203, 2.059734972006579, 1.9492383073979478, 1.8557884392442419, 1.4753583179677912, 1.0774229407828022, 1.7377069667751717, 1.8521662744299943, 1.957885071670367, 1.2372457736474591, 1.7367429299038077, 1.0310094272486843, 1.3182436911683744, 1.5263383000134687, 0.9760836830668508, 2.0676140506888205, 1.5836304983049836, 1.6119390415224657, 1.7076133139107155, 1.5397265186050484, 1.9167658683951516, 1.8137807737536167, 1.9400836527289695, 2.000965767911066, 1.3815990672552052, 1.363098326141265, 1.0141513632044665, 1.4021990473216335, 1.4599813665595818, 1.7454990794019232, 1.781112653311003, 1.7431356173690067, 1.8158251646822698, 1.3702765810796875, 1.1836423451989466, 1.7622239415565444, 1.6627394510610567, 2.0572107944648823, 1.5122964229233782, 1.1845137516805442, 1.3379443519993253, 1.3023912186173727, 1.0545051456258812, 1.3197948628500178, 1.9812202875496765, 1.3628912595875433, 1.791063116587884, 0.9975246142765866, 1.1527343733252151, 1.2011629586621073, 1.757492510901145, 0.9127942671005933, 1.7877995135079034, 1.271471592231974, 1.5519659835812996, 1.276182236734207, 1.88604594751247, 0.9989560298881395, 2.0584379951881, 1.8941798586717937, 1.9893831964480628, 1.1649276098746795, 2.0582677274153234, 1.2024725317485032, 1.1807445343643863, 2.049168650341578, 1.2909530587127118, 1.8185967977346147, 1.1629959491010413, 0.9882043766024546]}}}\n",
      "keys of best_designs_dict: dict_keys(['mat1', 'mat2', 'mat3'])\n",
      "keys of best_designs_dict['mat1']: dict_keys(['carrier-transport', 'elastic'])\n",
      "overall_bounds_dict: {'elec_cond_300k_low_doping': {'upper_bound': 78.0, 'lower_bound': 1e-07}, 'therm_cond_300k_low_doping': {'upper_bound': 2.0, 'lower_bound': 1e-07}, 'bulk_modulus': {'upper_bound': 400.0, 'lower_bound': 20.0}, 'shear_modulus': {'upper_bound': 300.0, 'lower_bound': 80.0}, 'universal_anisotropy': {'upper_bound': 2.3, 'lower_bound': 0.9}}\n",
      "Initial query: {'bulk_modulus': (20.0, 400.0), 'shear_modulus': (80.0, 300.0), 'universal_anisotropy': (0.9, 2.3)}\n",
      "Fields: ['material_id', 'formula_pretty', 'bulk_modulus', 'shear_modulus', 'universal_anisotropy']\n"
     ]
    },
    {
     "data": {
      "application/vnd.jupyter.widget-view+json": {
       "model_id": "5a3960fa584d48e8b914ee9b505dd33a",
       "version_major": 2,
       "version_minor": 0
      },
      "text/plain": [
       "Retrieving SummaryDoc documents:   0%|          | 0/251 [00:00<?, ?it/s]"
      ]
     },
     "metadata": {},
     "output_type": "display_data"
    },
    {
     "name": "stdout",
     "output_type": "stream",
     "text": [
      "Initialized result_dict: {'material_id': [], 'formula_pretty': [], 'elec_cond_300k_low_doping': [], 'therm_cond_300k_low_doping': [], 'bulk_modulus_voigt': [], 'shear_modulus_voigt': [], 'universal_anisotropy': []}\n",
      "Length of material_id: 251\n",
      "Length of formula_pretty: 251\n",
      "Length of elec_cond_300k_low_doping: 0\n",
      "Length of therm_cond_300k_low_doping: 0\n",
      "Length of bulk_modulus_voigt: 251\n",
      "Length of shear_modulus_voigt: 251\n",
      "Length of universal_anisotropy: 251\n",
      "Length of material_id after sorting: 251\n",
      "Final Length of material_id: 251\n",
      "Final Length of formula_pretty: 251\n",
      "Final Length of elec_cond_300k_low_doping: 251\n",
      "Final Length of therm_cond_300k_low_doping: 251\n",
      "Final Length of bulk_modulus_voigt: 251\n",
      "Final Length of shear_modulus_voigt: 251\n",
      "Final Length of universal_anisotropy: 251\n",
      "Keys of result_dict: dict_keys(['material_id', 'formula_pretty', 'elec_cond_300k_low_doping', 'therm_cond_300k_low_doping', 'bulk_modulus_voigt', 'shear_modulus_voigt', 'universal_anisotropy'])\n",
      "result_dict['material_id'] = [MPID(mp-867319), MPID(mp-867330), MPID(mp-684591), MPID(mp-752826), MPID(mp-16514), MPID(mp-632442), MPID(mp-16613), MPID(mp-944), MPID(mp-10883), MPID(mp-3098), MPID(mp-3748), MPID(mp-8039), MPID(mp-2658), MPID(mp-22793), MPID(mp-1019508), MPID(mp-1008556), MPID(mp-625054), MPID(mp-13178), MPID(mp-1330), MPID(mp-1700), MPID(mp-1487), MPID(mp-603719), MPID(mp-676861), MPID(mp-1018166), MPID(mp-1008530), MPID(mp-11696), MPID(mp-1001602), MPID(mp-534), MPID(mp-1008525), MPID(mp-1008526), MPID(mp-2850), MPID(mp-633538), MPID(mp-28897), MPID(mp-644751), MPID(mp-567164), MPID(mp-983590), MPID(mp-865562), MPID(mp-862706), MPID(mp-550433), MPID(mp-5597), MPID(mp-5157), MPID(mp-558636), MPID(mp-38843), MPID(mp-1016879), MPID(mp-6957), MPID(mp-2965), MPID(mp-27861), MPID(mp-21343), MPID(mp-754040), MPID(mp-1008349), MPID(mp-1018672), MPID(mp-90), MPID(mp-579), MPID(mp-1010071), MPID(mp-1008224), MPID(mp-1008280), MPID(mp-1018067), MPID(mp-784631), MPID(mp-20814), MPID(mp-2958), MPID(mp-2417), MPID(mp-10856), MPID(mp-20874), MPID(mp-20344), MPID(mp-1007853), MPID(mp-2199), MPID(mp-2794), MPID(mp-2090), MPID(mp-5436), MPID(mp-2213), MPID(mp-1918), MPID(mp-29076), MPID(mp-30551), MPID(mp-2853), MPID(mp-830), MPID(mp-470), MPID(mp-345), MPID(mp-977573), MPID(mp-1029834), MPID(mp-1016825), MPID(mp-20192), MPID(mp-550893), MPID(mp-776532), MPID(mp-1014251), MPID(mp-754134), MPID(mp-754478), MPID(mp-861979), MPID(mp-1001827), MPID(mp-13076), MPID(mp-2723), MPID(mp-549490), MPID(mp-5526), MPID(mp-2680), MPID(mp-36086), MPID(mp-35417), MPID(mp-2468835), MPID(mp-34993), MPID(mp-8001), MPID(mp-3924), MPID(mp-3524), MPID(mp-5840), MPID(mp-862870), MPID(mp-1029424), MPID(mp-867744), MPID(mp-9514), MPID(mp-4590), MPID(mp-3536), MPID(mp-763), MPID(mp-365), MPID(mp-15702), MPID(mp-1023125), MPID(mp-15701), MPID(mp-4391), MPID(mp-5924), MPID(mp-1029702), MPID(mp-1029536), MPID(mp-8634), MPID(mp-13079), MPID(mp-13082), MPID(mp-999558), MPID(mp-21235), MPID(mp-973149), MPID(mp-865027), MPID(mp-864735), MPID(mp-771), MPID(mp-3623), MPID(mp-864950), MPID(mp-978261), MPID(mp-999542), MPID(mp-1018024), MPID(mp-21171), MPID(mp-9951), MPID(mp-7829), MPID(mp-999516), MPID(mp-1232), MPID(mp-7017), MPID(mp-3136), MPID(mp-976923), MPID(mp-5475), MPID(mp-4170), MPID(mp-569167), MPID(mp-12725), MPID(mp-999388), MPID(mp-1580), MPID(mp-999357), MPID(mp-2533), MPID(mp-1018151), MPID(mp-1963), MPID(mp-756638), MPID(mp-647), MPID(mp-5622), MPID(mp-568055), MPID(mp-1929), MPID(mp-784630), MPID(mp-11507), MPID(mp-30811), MPID(mp-6927), MPID(mp-567907), MPID(mp-1009545), MPID(mp-3466), MPID(mp-12762), MPID(mp-1285), MPID(mp-12875), MPID(mp-9761), MPID(mp-974565), MPID(mp-999263), MPID(mp-20304), MPID(mp-725), MPID(mp-607371), MPID(mp-753495), MPID(mp-27693), MPID(mp-12593), MPID(mp-4200), MPID(mp-635), MPID(mp-4720), MPID(mp-11607), MPID(mp-641539), MPID(mp-978496), MPID(mp-1002206), MPID(mp-1128), MPID(mp-972845), MPID(mp-351), MPID(mp-999192), MPID(mp-10015), MPID(mp-978490), MPID(mp-2287), MPID(mp-20418), MPID(mp-381), MPID(mp-978493), MPID(mp-856), MPID(mp-242), MPID(mp-768342), MPID(mp-972309), MPID(mp-2220557), MPID(mp-675172), MPID(mp-570604), MPID(mp-1157), MPID(mp-20994), MPID(mp-999133), MPID(mp-30835), MPID(mp-865805), MPID(mp-10854), MPID(mp-999117), MPID(mp-33137), MPID(mp-1756), MPID(mp-755875), MPID(mp-10734), MPID(mp-11279), MPID(mp-608), MPID(mp-1018012), MPID(mp-1089), MPID(mp-865678), MPID(mp-2657), MPID(mp-753657), MPID(mp-980203), MPID(mp-554462), MPID(mp-568789), MPID(mp-10857), MPID(mp-29005), MPID(mp-20924), MPID(mp-1025264), MPID(mp-1008642), MPID(mp-1865), MPID(mp-1776), MPID(mp-1025123), MPID(mp-27769), MPID(mp-865465), MPID(mp-20586), MPID(mp-22790), MPID(mp-865471), MPID(mp-1002105), MPID(mp-11531), MPID(mp-1114), MPID(mp-11549), MPID(mp-873), MPID(mp-1008630), MPID(mp-1004526), MPID(mp-15955), MPID(mp-756214), MPID(mp-1017533), MPID(mp-1016876), MPID(mp-1014265), MPID(mp-2525045), MPID(mp-1014246), MPID(mp-451), MPID(mp-22227), MPID(mp-1009838), MPID(mp-1565), MPID(mp-755759), MPID(mp-775909), MPID(mp-4820)]\n",
      "Carrier transport is in the property categories\n",
      "Query for carrier transport: {'elec_cond_300k_low_doping': (1e-07, 78.0), 'therm_cond_300k_low_doping': (1e-07, 2.0)}\n",
      "Tables: {'data': [{'identifier': 'mp-752826', 'formula': 'Al2O3', 'data': {'sigma': {'p': {'display': '4.10475 1/fΩ/m/s', 'value': 4.10475, 'error': None, 'unit': '1/fΩ/m/s'}}, 'kappa': {'p': {'display': '11.1994 GW/K/m/s', 'value': 11.1994, 'error': None, 'unit': 'GW/K/m/s'}}}}, {'identifier': 'mp-3536', 'formula': 'MgAl2O4', 'data': {'sigma': {'p': {'display': '7.70117 1/fΩ/m/s', 'value': 7.70117, 'error': None, 'unit': '1/fΩ/m/s'}}, 'kappa': {'p': {'display': '31.6911 GW/K/m/s', 'value': 31.6911, 'error': None, 'unit': 'GW/K/m/s'}}}}, {'identifier': 'mp-5924', 'formula': 'MgSiO3', 'data': {'sigma': {'p': {'display': '6.45658 1/fΩ/m/s', 'value': 6.45658, 'error': None, 'unit': '1/fΩ/m/s'}}, 'kappa': {'p': {'display': '30.0167 GW/K/m/s', 'value': 30.0167, 'error': None, 'unit': 'GW/K/m/s'}}}}], 'has_more': False, 'total_count': 3, 'total_pages': 1}\n",
      "Table: {'identifier': 'mp-752826', 'formula': 'Al2O3', 'data': {'sigma': {'p': {'display': '4.10475 1/fΩ/m/s', 'value': 4.10475, 'error': None, 'unit': '1/fΩ/m/s'}}, 'kappa': {'p': {'display': '11.1994 GW/K/m/s', 'value': 11.1994, 'error': None, 'unit': 'GW/K/m/s'}}}}\n",
      "Index: 3\n",
      "Table: {'identifier': 'mp-3536', 'formula': 'MgAl2O4', 'data': {'sigma': {'p': {'display': '7.70117 1/fΩ/m/s', 'value': 7.70117, 'error': None, 'unit': '1/fΩ/m/s'}}, 'kappa': {'p': {'display': '31.6911 GW/K/m/s', 'value': 31.6911, 'error': None, 'unit': 'GW/K/m/s'}}}}\n",
      "Index: 106\n",
      "Table: {'identifier': 'mp-5924', 'formula': 'MgSiO3', 'data': {'sigma': {'p': {'display': '6.45658 1/fΩ/m/s', 'value': 6.45658, 'error': None, 'unit': '1/fΩ/m/s'}}, 'kappa': {'p': {'display': '30.0167 GW/K/m/s', 'value': 30.0167, 'error': None, 'unit': 'GW/K/m/s'}}}}\n",
      "Index: 113\n",
      "len(material_id): 3\n",
      "len(elec_cond): 3\n",
      "len(therm_cond): 3\n",
      "len(bulk_modulus): 3\n",
      "len(shear_modulus): 3\n",
      "len(universal_anisotropy): 3\n",
      "len(material_id): 3\n",
      "len(elec_cond): 3\n",
      "len(therm_cond): 3\n",
      "len(bulk_modulus): 3\n",
      "len(shear_modulus): 3\n",
      "len(universal_anisotropy): 3\n",
      "len(material_id): 3\n",
      "len(elec_cond): 3\n",
      "len(therm_cond): 3\n",
      "len(bulk_modulus): 3\n",
      "len(shear_modulus): 3\n",
      "len(universal_anisotropy): 3\n",
      "Material Matches:\n",
      "{'mat1': [{'mp-752826': {'elec_cond': 41.0475, 'therm_cond': 0.000111994, 'bulk_modulus': 168.258, 'shear_modulus': 90.134, 'universal_anisotropy': 1.271}}, {'mp-3536': {'elec_cond': 77.0117, 'therm_cond': 0.000316911, 'bulk_modulus': 182.861, 'shear_modulus': 107.669, 'universal_anisotropy': 1.062}}, {'mp-5924': {'elec_cond': 64.5658, 'therm_cond': 0.000300167, 'bulk_modulus': 193.509, 'shear_modulus': 113.741, 'universal_anisotropy': 1.091}}], 'mat2': [{'mp-752826': {'elec_cond': 41.0475, 'therm_cond': 0.000111994, 'bulk_modulus': 168.258, 'shear_modulus': 90.134, 'universal_anisotropy': 1.271}}, {'mp-3536': {'elec_cond': 77.0117, 'therm_cond': 0.000316911, 'bulk_modulus': 182.861, 'shear_modulus': 107.669, 'universal_anisotropy': 1.062}}, {'mp-5924': {'elec_cond': 64.5658, 'therm_cond': 0.000300167, 'bulk_modulus': 193.509, 'shear_modulus': 113.741, 'universal_anisotropy': 1.091}}], 'mat3': [{'mp-752826': {'elec_cond': 41.0475, 'therm_cond': 0.000111994, 'bulk_modulus': 168.258, 'shear_modulus': 90.134, 'universal_anisotropy': 1.271}}, {'mp-3536': {'elec_cond': 77.0117, 'therm_cond': 0.000316911, 'bulk_modulus': 182.861, 'shear_modulus': 107.669, 'universal_anisotropy': 1.062}}, {'mp-5924': {'elec_cond': 64.5658, 'therm_cond': 0.000300167, 'bulk_modulus': 193.509, 'shear_modulus': 113.741, 'universal_anisotropy': 1.091}}]}\n"
     ]
    }
   ],
   "source": [
    "# # Display the mp-ids of the potential options for each of the composite materials\n",
    "# HS.get_material_matches()\n",
    "# matches_dict = HS.get_material_matches(consolidated_dict=consolidated_dict)\n",
    "# print(\"Material Matches:\")\n",
    "# print(matches_dict)\n",
    "\n",
    "# Display the mp-ids of the potential options for each of the composite materials\n",
    "# # matches_dict = HS.get_material_matches(consolidated_dict=consolidated_dict)\n",
    "# matches_dict = HS.get_material_matches()\n",
    "print(f\"overall bounds dict: {overall_bounds_dict, user_input}\")\n",
    "matches_dict = HS.get_material_matches(overall_bounds_dict, user_input)\n",
    "print(\"Material Matches:\")\n",
    "print(matches_dict)"
   ]
  },
  {
   "cell_type": "code",
   "execution_count": 9,
   "metadata": {},
   "outputs": [
    {
     "name": "stdout",
     "output_type": "stream",
     "text": [
      "Loaded consolidated_dict from consolidated_dict_09_25_2024_23_56_01\n"
     ]
    },
    {
     "data": {
      "application/vnd.plotly.v1+json": {
       "config": {
        "plotlyServerURL": "https://plot.ly"
       },
       "data": [
        {
         "cells": {
          "align": "left",
          "fill": {
           "color": [
            [
             "white",
             "lightgrey",
             "white",
             "lightgrey",
             "white"
            ]
           ]
          },
          "font": {
           "size": 12
          },
          "height": 30,
          "values": [
           [
            "mp-752826",
            "mp-5924",
            "mp-3536",
            "mp-752826",
            "mp-5924"
           ],
           [
            "mp-5924",
            "mp-5924",
            "mp-5924",
            "mp-3536",
            "mp-3536"
           ],
           [
            "mp-752826",
            "mp-752826",
            "mp-752826",
            "mp-752826",
            "mp-752826"
           ],
           [
            "41.0475",
            "64.5658",
            "77.0117",
            "41.0475",
            "64.5658"
           ],
           [
            "64.5658",
            "64.5658",
            "64.5658",
            "77.0117",
            "77.0117"
           ],
           [
            "41.0475",
            "41.0475",
            "41.0475",
            "41.0475",
            "41.0475"
           ],
           [
            "0.000111994",
            "0.000300167",
            "0.000316911",
            "0.000111994",
            "0.000300167"
           ],
           [
            "0.000300167",
            "0.000300167",
            "0.000300167",
            "0.000316911",
            "0.000316911"
           ],
           [
            "0.000111994",
            "0.000111994",
            "0.000111994",
            "0.000111994",
            "0.000111994"
           ],
           [
            "168.258",
            "193.509",
            "182.861",
            "168.258",
            "193.509"
           ],
           [
            "193.509",
            "193.509",
            "193.509",
            "182.861",
            "182.861"
           ],
           [
            "168.258",
            "168.258",
            "168.258",
            "168.258",
            "168.258"
           ],
           [
            "90.134",
            "113.741",
            "107.669",
            "90.134",
            "113.741"
           ],
           [
            "113.741",
            "113.741",
            "113.741",
            "107.669",
            "107.669"
           ],
           [
            "90.134",
            "90.134",
            "90.134",
            "90.134",
            "90.134"
           ],
           [
            "1.271",
            "1.091",
            "1.062",
            "1.271",
            "1.091"
           ],
           [
            "1.091",
            "1.091",
            "1.091",
            "1.062",
            "1.062"
           ],
           [
            "1.271",
            "1.271",
            "1.271",
            "1.271",
            "1.271"
           ],
           [
            "0.1789655172413793",
            "0.1789655172413793",
            "0.1789655172413793",
            "0.1789655172413793",
            "0.1789655172413793"
           ],
           [
            "0.8210344827586207",
            "0.8210344827586207",
            "0.8210344827586207",
            "0.8210344827586207",
            "0.8210344827586207"
           ],
           [
            "0.0",
            "0.0",
            "0.0",
            "0.0",
            "0.0"
           ],
           [
            "17.77467106178649",
            "17.789108928555997",
            "17.79223289065066",
            "17.952493473140237",
            "17.966450396785287"
           ]
          ]
         },
         "columnwidth": 1000,
         "header": {
          "align": "left",
          "fill": {
           "color": "lavender"
          },
          "font": {
           "size": 12
          },
          "height": 30,
          "values": [
           "Material 1 MP-ID",
           "Material 2 MP-ID",
           "Material 3 MP-ID",
           "Phase 1 Electrical conductivity, [S/m]",
           "Phase 2 Electrical conductivity, [S/m]",
           "Phase 3 Electrical conductivity, [S/m]",
           "Phase 1 Thermal conductivity, [W/m/K]",
           "Phase 2 Thermal conductivity, [W/m/K]",
           "Phase 3 Thermal conductivity, [W/m/K]",
           "Phase 1 Bulk modulus, [GPa]",
           "Phase 2 Bulk modulus, [GPa]",
           "Phase 3 Bulk modulus, [GPa]",
           "Phase 1 Shear modulus, [GPa]",
           "Phase 2 Shear modulus, [GPa]",
           "Phase 3 Shear modulus, [GPa]",
           "Phase 1 Universal anisotropy, []",
           "Phase 2 Universal anisotropy, []",
           "Phase 3 Universal anisotropy, []",
           "Phase 1 Volume Fraction",
           "Phase 2 Volume Fraction",
           "Phase 3 Volume Fraction",
           "cost"
          ]
         },
         "type": "table"
        }
       ],
       "layout": {
        "autosize": true,
        "height": 400,
        "margin": {
         "b": 0,
         "l": 0,
         "r": 0,
         "t": 40
        },
        "template": {
         "data": {
          "bar": [
           {
            "error_x": {
             "color": "rgb(36,36,36)"
            },
            "error_y": {
             "color": "rgb(36,36,36)"
            },
            "marker": {
             "line": {
              "color": "white",
              "width": 0.5
             },
             "pattern": {
              "fillmode": "overlay",
              "size": 10,
              "solidity": 0.2
             }
            },
            "type": "bar"
           }
          ],
          "barpolar": [
           {
            "marker": {
             "line": {
              "color": "white",
              "width": 0.5
             },
             "pattern": {
              "fillmode": "overlay",
              "size": 10,
              "solidity": 0.2
             }
            },
            "type": "barpolar"
           }
          ],
          "carpet": [
           {
            "aaxis": {
             "endlinecolor": "rgb(36,36,36)",
             "gridcolor": "white",
             "linecolor": "white",
             "minorgridcolor": "white",
             "startlinecolor": "rgb(36,36,36)"
            },
            "baxis": {
             "endlinecolor": "rgb(36,36,36)",
             "gridcolor": "white",
             "linecolor": "white",
             "minorgridcolor": "white",
             "startlinecolor": "rgb(36,36,36)"
            },
            "type": "carpet"
           }
          ],
          "choropleth": [
           {
            "colorbar": {
             "outlinewidth": 1,
             "tickcolor": "rgb(36,36,36)",
             "ticks": "outside"
            },
            "type": "choropleth"
           }
          ],
          "contour": [
           {
            "colorbar": {
             "outlinewidth": 1,
             "tickcolor": "rgb(36,36,36)",
             "ticks": "outside"
            },
            "colorscale": [
             [
              0,
              "#440154"
             ],
             [
              0.1111111111111111,
              "#482878"
             ],
             [
              0.2222222222222222,
              "#3e4989"
             ],
             [
              0.3333333333333333,
              "#31688e"
             ],
             [
              0.4444444444444444,
              "#26828e"
             ],
             [
              0.5555555555555556,
              "#1f9e89"
             ],
             [
              0.6666666666666666,
              "#35b779"
             ],
             [
              0.7777777777777778,
              "#6ece58"
             ],
             [
              0.8888888888888888,
              "#b5de2b"
             ],
             [
              1,
              "#fde725"
             ]
            ],
            "type": "contour"
           }
          ],
          "contourcarpet": [
           {
            "colorbar": {
             "outlinewidth": 1,
             "tickcolor": "rgb(36,36,36)",
             "ticks": "outside"
            },
            "type": "contourcarpet"
           }
          ],
          "heatmap": [
           {
            "colorbar": {
             "outlinewidth": 1,
             "tickcolor": "rgb(36,36,36)",
             "ticks": "outside"
            },
            "colorscale": [
             [
              0,
              "#440154"
             ],
             [
              0.1111111111111111,
              "#482878"
             ],
             [
              0.2222222222222222,
              "#3e4989"
             ],
             [
              0.3333333333333333,
              "#31688e"
             ],
             [
              0.4444444444444444,
              "#26828e"
             ],
             [
              0.5555555555555556,
              "#1f9e89"
             ],
             [
              0.6666666666666666,
              "#35b779"
             ],
             [
              0.7777777777777778,
              "#6ece58"
             ],
             [
              0.8888888888888888,
              "#b5de2b"
             ],
             [
              1,
              "#fde725"
             ]
            ],
            "type": "heatmap"
           }
          ],
          "heatmapgl": [
           {
            "colorbar": {
             "outlinewidth": 1,
             "tickcolor": "rgb(36,36,36)",
             "ticks": "outside"
            },
            "colorscale": [
             [
              0,
              "#440154"
             ],
             [
              0.1111111111111111,
              "#482878"
             ],
             [
              0.2222222222222222,
              "#3e4989"
             ],
             [
              0.3333333333333333,
              "#31688e"
             ],
             [
              0.4444444444444444,
              "#26828e"
             ],
             [
              0.5555555555555556,
              "#1f9e89"
             ],
             [
              0.6666666666666666,
              "#35b779"
             ],
             [
              0.7777777777777778,
              "#6ece58"
             ],
             [
              0.8888888888888888,
              "#b5de2b"
             ],
             [
              1,
              "#fde725"
             ]
            ],
            "type": "heatmapgl"
           }
          ],
          "histogram": [
           {
            "marker": {
             "line": {
              "color": "white",
              "width": 0.6
             }
            },
            "type": "histogram"
           }
          ],
          "histogram2d": [
           {
            "colorbar": {
             "outlinewidth": 1,
             "tickcolor": "rgb(36,36,36)",
             "ticks": "outside"
            },
            "colorscale": [
             [
              0,
              "#440154"
             ],
             [
              0.1111111111111111,
              "#482878"
             ],
             [
              0.2222222222222222,
              "#3e4989"
             ],
             [
              0.3333333333333333,
              "#31688e"
             ],
             [
              0.4444444444444444,
              "#26828e"
             ],
             [
              0.5555555555555556,
              "#1f9e89"
             ],
             [
              0.6666666666666666,
              "#35b779"
             ],
             [
              0.7777777777777778,
              "#6ece58"
             ],
             [
              0.8888888888888888,
              "#b5de2b"
             ],
             [
              1,
              "#fde725"
             ]
            ],
            "type": "histogram2d"
           }
          ],
          "histogram2dcontour": [
           {
            "colorbar": {
             "outlinewidth": 1,
             "tickcolor": "rgb(36,36,36)",
             "ticks": "outside"
            },
            "colorscale": [
             [
              0,
              "#440154"
             ],
             [
              0.1111111111111111,
              "#482878"
             ],
             [
              0.2222222222222222,
              "#3e4989"
             ],
             [
              0.3333333333333333,
              "#31688e"
             ],
             [
              0.4444444444444444,
              "#26828e"
             ],
             [
              0.5555555555555556,
              "#1f9e89"
             ],
             [
              0.6666666666666666,
              "#35b779"
             ],
             [
              0.7777777777777778,
              "#6ece58"
             ],
             [
              0.8888888888888888,
              "#b5de2b"
             ],
             [
              1,
              "#fde725"
             ]
            ],
            "type": "histogram2dcontour"
           }
          ],
          "mesh3d": [
           {
            "colorbar": {
             "outlinewidth": 1,
             "tickcolor": "rgb(36,36,36)",
             "ticks": "outside"
            },
            "type": "mesh3d"
           }
          ],
          "parcoords": [
           {
            "line": {
             "colorbar": {
              "outlinewidth": 1,
              "tickcolor": "rgb(36,36,36)",
              "ticks": "outside"
             }
            },
            "type": "parcoords"
           }
          ],
          "pie": [
           {
            "automargin": true,
            "type": "pie"
           }
          ],
          "scatter": [
           {
            "fillpattern": {
             "fillmode": "overlay",
             "size": 10,
             "solidity": 0.2
            },
            "type": "scatter"
           }
          ],
          "scatter3d": [
           {
            "line": {
             "colorbar": {
              "outlinewidth": 1,
              "tickcolor": "rgb(36,36,36)",
              "ticks": "outside"
             }
            },
            "marker": {
             "colorbar": {
              "outlinewidth": 1,
              "tickcolor": "rgb(36,36,36)",
              "ticks": "outside"
             }
            },
            "type": "scatter3d"
           }
          ],
          "scattercarpet": [
           {
            "marker": {
             "colorbar": {
              "outlinewidth": 1,
              "tickcolor": "rgb(36,36,36)",
              "ticks": "outside"
             }
            },
            "type": "scattercarpet"
           }
          ],
          "scattergeo": [
           {
            "marker": {
             "colorbar": {
              "outlinewidth": 1,
              "tickcolor": "rgb(36,36,36)",
              "ticks": "outside"
             }
            },
            "type": "scattergeo"
           }
          ],
          "scattergl": [
           {
            "marker": {
             "colorbar": {
              "outlinewidth": 1,
              "tickcolor": "rgb(36,36,36)",
              "ticks": "outside"
             }
            },
            "type": "scattergl"
           }
          ],
          "scattermapbox": [
           {
            "marker": {
             "colorbar": {
              "outlinewidth": 1,
              "tickcolor": "rgb(36,36,36)",
              "ticks": "outside"
             }
            },
            "type": "scattermapbox"
           }
          ],
          "scatterpolar": [
           {
            "marker": {
             "colorbar": {
              "outlinewidth": 1,
              "tickcolor": "rgb(36,36,36)",
              "ticks": "outside"
             }
            },
            "type": "scatterpolar"
           }
          ],
          "scatterpolargl": [
           {
            "marker": {
             "colorbar": {
              "outlinewidth": 1,
              "tickcolor": "rgb(36,36,36)",
              "ticks": "outside"
             }
            },
            "type": "scatterpolargl"
           }
          ],
          "scatterternary": [
           {
            "marker": {
             "colorbar": {
              "outlinewidth": 1,
              "tickcolor": "rgb(36,36,36)",
              "ticks": "outside"
             }
            },
            "type": "scatterternary"
           }
          ],
          "surface": [
           {
            "colorbar": {
             "outlinewidth": 1,
             "tickcolor": "rgb(36,36,36)",
             "ticks": "outside"
            },
            "colorscale": [
             [
              0,
              "#440154"
             ],
             [
              0.1111111111111111,
              "#482878"
             ],
             [
              0.2222222222222222,
              "#3e4989"
             ],
             [
              0.3333333333333333,
              "#31688e"
             ],
             [
              0.4444444444444444,
              "#26828e"
             ],
             [
              0.5555555555555556,
              "#1f9e89"
             ],
             [
              0.6666666666666666,
              "#35b779"
             ],
             [
              0.7777777777777778,
              "#6ece58"
             ],
             [
              0.8888888888888888,
              "#b5de2b"
             ],
             [
              1,
              "#fde725"
             ]
            ],
            "type": "surface"
           }
          ],
          "table": [
           {
            "cells": {
             "fill": {
              "color": "rgb(237,237,237)"
             },
             "line": {
              "color": "white"
             }
            },
            "header": {
             "fill": {
              "color": "rgb(217,217,217)"
             },
             "line": {
              "color": "white"
             }
            },
            "type": "table"
           }
          ]
         },
         "layout": {
          "annotationdefaults": {
           "arrowhead": 0,
           "arrowwidth": 1
          },
          "autotypenumbers": "strict",
          "coloraxis": {
           "colorbar": {
            "outlinewidth": 1,
            "tickcolor": "rgb(36,36,36)",
            "ticks": "outside"
           }
          },
          "colorscale": {
           "diverging": [
            [
             0,
             "rgb(103,0,31)"
            ],
            [
             0.1,
             "rgb(178,24,43)"
            ],
            [
             0.2,
             "rgb(214,96,77)"
            ],
            [
             0.3,
             "rgb(244,165,130)"
            ],
            [
             0.4,
             "rgb(253,219,199)"
            ],
            [
             0.5,
             "rgb(247,247,247)"
            ],
            [
             0.6,
             "rgb(209,229,240)"
            ],
            [
             0.7,
             "rgb(146,197,222)"
            ],
            [
             0.8,
             "rgb(67,147,195)"
            ],
            [
             0.9,
             "rgb(33,102,172)"
            ],
            [
             1,
             "rgb(5,48,97)"
            ]
           ],
           "sequential": [
            [
             0,
             "#440154"
            ],
            [
             0.1111111111111111,
             "#482878"
            ],
            [
             0.2222222222222222,
             "#3e4989"
            ],
            [
             0.3333333333333333,
             "#31688e"
            ],
            [
             0.4444444444444444,
             "#26828e"
            ],
            [
             0.5555555555555556,
             "#1f9e89"
            ],
            [
             0.6666666666666666,
             "#35b779"
            ],
            [
             0.7777777777777778,
             "#6ece58"
            ],
            [
             0.8888888888888888,
             "#b5de2b"
            ],
            [
             1,
             "#fde725"
            ]
           ],
           "sequentialminus": [
            [
             0,
             "#440154"
            ],
            [
             0.1111111111111111,
             "#482878"
            ],
            [
             0.2222222222222222,
             "#3e4989"
            ],
            [
             0.3333333333333333,
             "#31688e"
            ],
            [
             0.4444444444444444,
             "#26828e"
            ],
            [
             0.5555555555555556,
             "#1f9e89"
            ],
            [
             0.6666666666666666,
             "#35b779"
            ],
            [
             0.7777777777777778,
             "#6ece58"
            ],
            [
             0.8888888888888888,
             "#b5de2b"
            ],
            [
             1,
             "#fde725"
            ]
           ]
          },
          "colorway": [
           "#1F77B4",
           "#FF7F0E",
           "#2CA02C",
           "#D62728",
           "#9467BD",
           "#8C564B",
           "#E377C2",
           "#7F7F7F",
           "#BCBD22",
           "#17BECF"
          ],
          "font": {
           "color": "rgb(36,36,36)"
          },
          "geo": {
           "bgcolor": "white",
           "lakecolor": "white",
           "landcolor": "white",
           "showlakes": true,
           "showland": true,
           "subunitcolor": "white"
          },
          "hoverlabel": {
           "align": "left"
          },
          "hovermode": "closest",
          "mapbox": {
           "style": "light"
          },
          "paper_bgcolor": "white",
          "plot_bgcolor": "white",
          "polar": {
           "angularaxis": {
            "gridcolor": "rgb(232,232,232)",
            "linecolor": "rgb(36,36,36)",
            "showgrid": false,
            "showline": true,
            "ticks": "outside"
           },
           "bgcolor": "white",
           "radialaxis": {
            "gridcolor": "rgb(232,232,232)",
            "linecolor": "rgb(36,36,36)",
            "showgrid": false,
            "showline": true,
            "ticks": "outside"
           }
          },
          "scene": {
           "xaxis": {
            "backgroundcolor": "white",
            "gridcolor": "rgb(232,232,232)",
            "gridwidth": 2,
            "linecolor": "rgb(36,36,36)",
            "showbackground": true,
            "showgrid": false,
            "showline": true,
            "ticks": "outside",
            "zeroline": false,
            "zerolinecolor": "rgb(36,36,36)"
           },
           "yaxis": {
            "backgroundcolor": "white",
            "gridcolor": "rgb(232,232,232)",
            "gridwidth": 2,
            "linecolor": "rgb(36,36,36)",
            "showbackground": true,
            "showgrid": false,
            "showline": true,
            "ticks": "outside",
            "zeroline": false,
            "zerolinecolor": "rgb(36,36,36)"
           },
           "zaxis": {
            "backgroundcolor": "white",
            "gridcolor": "rgb(232,232,232)",
            "gridwidth": 2,
            "linecolor": "rgb(36,36,36)",
            "showbackground": true,
            "showgrid": false,
            "showline": true,
            "ticks": "outside",
            "zeroline": false,
            "zerolinecolor": "rgb(36,36,36)"
           }
          },
          "shapedefaults": {
           "fillcolor": "black",
           "line": {
            "width": 0
           },
           "opacity": 0.3
          },
          "ternary": {
           "aaxis": {
            "gridcolor": "rgb(232,232,232)",
            "linecolor": "rgb(36,36,36)",
            "showgrid": false,
            "showline": true,
            "ticks": "outside"
           },
           "baxis": {
            "gridcolor": "rgb(232,232,232)",
            "linecolor": "rgb(36,36,36)",
            "showgrid": false,
            "showline": true,
            "ticks": "outside"
           },
           "bgcolor": "white",
           "caxis": {
            "gridcolor": "rgb(232,232,232)",
            "linecolor": "rgb(36,36,36)",
            "showgrid": false,
            "showline": true,
            "ticks": "outside"
           }
          },
          "title": {
           "x": 0.05
          },
          "xaxis": {
           "automargin": true,
           "gridcolor": "rgb(232,232,232)",
           "linecolor": "rgb(36,36,36)",
           "showgrid": false,
           "showline": true,
           "ticks": "outside",
           "title": {
            "standoff": 15
           },
           "zeroline": false,
           "zerolinecolor": "rgb(36,36,36)"
          },
          "yaxis": {
           "automargin": true,
           "gridcolor": "rgb(232,232,232)",
           "linecolor": "rgb(36,36,36)",
           "showgrid": false,
           "showline": true,
           "ticks": "outside",
           "title": {
            "standoff": 15
           },
           "zeroline": false,
           "zerolinecolor": "rgb(36,36,36)"
          }
         }
        },
        "title": {
         "font": {
          "size": 20
         },
         "text": "Optimal Material Combinations to Comprise Desired Composite",
         "x": 0.15
        }
       }
      }
     },
     "metadata": {},
     "output_type": "display_data"
    }
   ],
   "source": [
    "import os\n",
    "import json\n",
    "from datetime import datetime\n",
    "\n",
    "# Directory where the files are located\n",
    "directory = './'\n",
    "\n",
    "# Function to get the latest consolidated dict file\n",
    "def get_latest_consolidated_dict_file(directory):\n",
    "    # List all files in the directory\n",
    "    files = os.listdir(directory)\n",
    "    \n",
    "    # Filter out only the consolidated_dict files\n",
    "    consolidated_files = [f for f in files if f.startswith('consolidated_dict_')]\n",
    "    \n",
    "    # Sort the files by date and time in the filename\n",
    "    consolidated_files.sort(key=lambda x: datetime.strptime(x, 'consolidated_dict_%m_%d_%Y_%H_%M_%S'))\n",
    "    \n",
    "    # Return the latest file\n",
    "    latest_file = consolidated_files[-1] if consolidated_files else None\n",
    "    return latest_file\n",
    "\n",
    "# Get the latest consolidated dict file\n",
    "latest_file = get_latest_consolidated_dict_file(directory)\n",
    "\n",
    "if latest_file:\n",
    "    # Open the latest consolidated dict file\n",
    "    with open(os.path.join(directory, latest_file), 'r') as f:\n",
    "        consolidated_dict = json.load(f)\n",
    "        print(f\"Loaded consolidated_dict from {latest_file}\")\n",
    "else:\n",
    "    print(\"No consolidated dict file found.\")\n",
    "\n",
    "\n",
    "HS.get_material_match_costs(matches_dict=matches_dict, consolidated_dict=consolidated_dict)"
   ]
  },
  {
   "cell_type": "code",
   "execution_count": null,
   "metadata": {},
   "outputs": [],
   "source": []
  }
 ],
 "metadata": {
  "kernelspec": {
   "display_name": "carla_mp_api",
   "language": "python",
   "name": "python3"
  },
  "language_info": {
   "codemirror_mode": {
    "name": "ipython",
    "version": 3
   },
   "file_extension": ".py",
   "mimetype": "text/x-python",
   "name": "python",
   "nbconvert_exporter": "python",
   "pygments_lexer": "ipython3",
   "version": "3.9.18"
  }
 },
 "nbformat": 4,
 "nbformat_minor": 2
}
