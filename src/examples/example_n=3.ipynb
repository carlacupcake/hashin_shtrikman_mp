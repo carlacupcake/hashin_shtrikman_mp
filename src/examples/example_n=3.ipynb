{
 "cells": [
  {
   "cell_type": "markdown",
   "metadata": {},
   "source": [
    "## Testing the Composites Discovery App with n=3 phases"
   ]
  },
  {
   "cell_type": "code",
   "execution_count": 1,
   "metadata": {},
   "outputs": [
    {
     "name": "stdout",
     "output_type": "stream",
     "text": [
      "User Input:  {'mat_1': {'elec_cond_300k_low_doping': {'upper_bound': 78.0, 'lower_bound': 1e-07}, 'therm_cond_300k_low_doping': {'upper_bound': 2.0, 'lower_bound': 1e-07}, 'bulk_modulus': {'upper_bound': 100.0, 'lower_bound': 50.0}, 'shear_modulus': {'upper_bound': 100.0, 'lower_bound': 80.0}, 'universal_anisotropy': {'upper_bound': 2.0, 'lower_bound': 1.0}}, 'mat_2': {'elec_cond_300k_low_doping': {'upper_bound': 78.0, 'lower_bound': 1e-07}, 'therm_cond_300k_low_doping': {'upper_bound': 2.0, 'lower_bound': 1e-07}, 'bulk_modulus': {'upper_bound': 400.0, 'lower_bound': 20.0}, 'shear_modulus': {'upper_bound': 200.0, 'lower_bound': 100.0}, 'universal_anisotropy': {'upper_bound': 2.3, 'lower_bound': 1.3}}, 'mat_3': {'elec_cond_300k_low_doping': {'upper_bound': 78.0, 'lower_bound': 1e-07}, 'therm_cond_300k_low_doping': {'upper_bound': 2.0, 'lower_bound': 1e-07}, 'bulk_modulus': {'upper_bound': 300.0, 'lower_bound': 20.0}, 'shear_modulus': {'upper_bound': 300.0, 'lower_bound': 100.0}, 'universal_anisotropy': {'upper_bound': 2.1, 'lower_bound': 0.9}}, 'mixture': {'elec_cond_300k_low_doping': {'desired_prop': 9.0}, 'therm_cond_300k_low_doping': {'desired_prop': 0.007}, 'bulk_modulus': {'desired_prop': 234.0}, 'shear_modulus': {'desired_prop': 150.0}, 'universal_anisotropy': {'desired_prop': 1.5}}}\n",
      "Overall Upper & Lower Bounds:\n",
      "Property: elec_cond_300k_low_doping, Upper Bound: 78.0, Lower Bound: 1e-07\n",
      "Property: therm_cond_300k_low_doping, Upper Bound: 2.0, Lower Bound: 1e-07\n",
      "Property: bulk_modulus, Upper Bound: 400.0, Lower Bound: 20.0\n",
      "Property: shear_modulus, Upper Bound: 300.0, Lower Bound: 80.0\n",
      "Property: universal_anisotropy, Upper Bound: 2.3, Lower Bound: 0.9\n",
      "{'elec_cond_300k_low_doping': {'upper_bound': 78.0, 'lower_bound': 1e-07}, 'therm_cond_300k_low_doping': {'upper_bound': 2.0, 'lower_bound': 1e-07}, 'bulk_modulus': {'upper_bound': 400.0, 'lower_bound': 20.0}, 'shear_modulus': {'upper_bound': 300.0, 'lower_bound': 80.0}, 'universal_anisotropy': {'upper_bound': 2.3, 'lower_bound': 0.9}}\n"
     ]
    }
   ],
   "source": [
    "import sys  \n",
    "sys.path.insert(1, '../core')\n",
    "from user_input import MaterialProperty, Material, MixtureProperty, Mixture, UserInput\n",
    "\n",
    "# Define properties for each material\n",
    "properties_mat_1 = [\n",
    "    MaterialProperty(prop='elec_cond_300k_low_doping', upper_bound=78, lower_bound=1e-7), # upper_bound=20, lower_bound=1 \n",
    "    MaterialProperty(prop='therm_cond_300k_low_doping', upper_bound=2, lower_bound=1e-7), # upper_bound=0.0001, lower_bound=1e-5 \n",
    "    MaterialProperty(prop='bulk_modulus', upper_bound=100, lower_bound=50),\n",
    "    MaterialProperty(prop='shear_modulus', upper_bound=100, lower_bound=80),\n",
    "    MaterialProperty(prop='universal_anisotropy', upper_bound=2, lower_bound=1),\n",
    "]\n",
    "\n",
    "properties_mat_2 = [\n",
    "    MaterialProperty(prop='elec_cond_300k_low_doping', upper_bound=78, lower_bound=1e-7), # upper_bound=5, lower_bound=2\n",
    "    MaterialProperty(prop='therm_cond_300k_low_doping', upper_bound=2, lower_bound=1e-7), # upper_bound=0.009, lower_bound=1e-4\n",
    "    MaterialProperty(prop='bulk_modulus', upper_bound=400, lower_bound=20),\n",
    "    MaterialProperty(prop='shear_modulus', upper_bound=200, lower_bound=100),\n",
    "    MaterialProperty(prop='universal_anisotropy', upper_bound=2.3, lower_bound=1.3),\n",
    "]\n",
    "\n",
    "properties_mat_3 = [\n",
    "    MaterialProperty(prop='elec_cond_300k_low_doping', upper_bound=78, lower_bound=1e-7), # upper_bound=10, lower_bound=1\n",
    "    MaterialProperty(prop='therm_cond_300k_low_doping', upper_bound=2, lower_bound=1e-7), # upper_bound=0.005, lower_bound=1e-4\n",
    "    MaterialProperty(prop='bulk_modulus', upper_bound=300, lower_bound=20),\n",
    "    MaterialProperty(prop='shear_modulus', upper_bound=300, lower_bound=100),\n",
    "    MaterialProperty(prop='universal_anisotropy', upper_bound=2.1, lower_bound=0.9),\n",
    "]\n",
    "\n",
    "# Define properties for the mixture\n",
    "properties_mixture = [\n",
    "    MixtureProperty(prop='elec_cond_300k_low_doping', desired_prop=9),\n",
    "    MixtureProperty(prop='therm_cond_300k_low_doping', desired_prop=0.007),\n",
    "    MixtureProperty(prop='bulk_modulus', desired_prop=234),\n",
    "    MixtureProperty(prop='shear_modulus', desired_prop=150),\n",
    "    MixtureProperty(prop='universal_anisotropy', desired_prop=1.5),\n",
    "]\n",
    "\n",
    "# Create Material & Mixture instances\n",
    "mat_1 = Material(name='mat_1', properties=properties_mat_1)\n",
    "mat_2 = Material(name='mat_2', properties=properties_mat_2)\n",
    "mat_3 = Material(name='mat_3', properties=properties_mat_3)\n",
    "mixture = Mixture(name='mixture', properties=properties_mixture)\n",
    "aggregate = [mat_1, mat_2, mat_3, mixture]\n",
    "\n",
    "# Initialize UserInput instance with materials and mixtures\n",
    "user_input= UserInput(materials=[mat_1, mat_2, mat_3], mixtures=[mixture])\n",
    "print(\"User Input: \", user_input)\n",
    "\n",
    "# Initialize dictionaries to store the overall upper and lower bounds for each property\n",
    "overall_bounds = {}\n",
    "\n",
    "# Iterate over materials\n",
    "for entity in aggregate:\n",
    "    # Skip the mixture as it doesn't have upper and lower bounds\n",
    "    if isinstance(entity, Material):\n",
    "        for property in entity.properties:\n",
    "            prop_name = property.prop\n",
    "\n",
    "            # Initialize the overall bounds if they are not already present for the property\n",
    "            if prop_name not in overall_bounds:\n",
    "                overall_bounds[prop_name] = {'upper_bound': property.upper_bound, 'lower_bound': property.lower_bound}\n",
    "            else:\n",
    "                # Update overall upper and lower bounds by comparing with existing values\n",
    "                overall_bounds[prop_name]['upper_bound'] = max(overall_bounds[prop_name]['upper_bound'], property.upper_bound)\n",
    "                overall_bounds[prop_name]['lower_bound'] = min(overall_bounds[prop_name]['lower_bound'], property.lower_bound)\n",
    "\n",
    "# Print the overall bounds for each property\n",
    "print(\"Overall Upper & Lower Bounds:\")\n",
    "for prop, bounds in overall_bounds.items():\n",
    "    print(f\"Property: {prop}, Upper Bound: {bounds['upper_bound']}, Lower Bound: {bounds['lower_bound']}\")\n",
    "\n",
    "\n",
    "# Step 1: Create the consolidated_dict\n",
    "overall_bounds_dict = {}\n",
    "for prop, bounds in overall_bounds.items():\n",
    "    overall_bounds_dict[prop] = {\n",
    "        'upper_bound': bounds['upper_bound'],\n",
    "        'lower_bound': bounds['lower_bound']\n",
    "    }\n",
    "\n",
    "print(overall_bounds_dict)\n"
   ]
  },
  {
   "cell_type": "code",
   "execution_count": 2,
   "metadata": {},
   "outputs": [
    {
     "name": "stderr",
     "output_type": "stream",
     "text": [
      "/Users/HPSahasrabuddhe/opt/miniconda3/envs/alab_one/lib/python3.9/site-packages/paramiko/transport.py:219: CryptographyDeprecationWarning: Blowfish has been deprecated\n",
      "  \"class\": algorithms.Blowfish,\n",
      "/Users/HPSahasrabuddhe/opt/miniconda3/envs/alab_one/lib/python3.9/site-packages/pandas/core/computation/expressions.py:21: UserWarning: Pandas requires version '2.8.4' or newer of 'numexpr' (version '2.8.3' currently installed).\n",
      "  from pandas.core.computation.check import NUMEXPR_INSTALLED\n",
      "/Users/HPSahasrabuddhe/opt/miniconda3/envs/alab_one/lib/python3.9/site-packages/pandas/core/arrays/masked.py:60: UserWarning: Pandas requires version '1.3.6' or newer of 'bottleneck' (version '1.3.5' currently installed).\n",
      "  from pandas.core import (\n",
      "/Users/HPSahasrabuddhe/opt/miniconda3/lib/python3.9/site-packages/mpcontribs/client/__init__.py:88: FutureWarning: use_inf_as_na option is deprecated and will be removed in a future version. Convert inf values to NaN before operating instead.\n",
      "  pd.set_option('mode.use_inf_as_na', True)\n",
      "2024-09-25 14:24:31,766 - custom_logger - INFO - Loading property categories from /Users/HPSahasrabuddhe/code/hashin_shtrikman_mp/src/core/../io/inputs/mp_property_docs.yaml.\n",
      "2024-09-25 14:24:31,769 - custom_logger - INFO - property_categories = ['carrier-transport', 'elastic']\n",
      "2024-09-25 14:24:31,770 - custom_logger - INFO - mixture_props = {'elec_cond_300k_low_doping': {'desired_prop': 9.0}, 'therm_cond_300k_low_doping': {'desired_prop': 0.007}, 'bulk_modulus': {'desired_prop': 234.0}, 'shear_modulus': {'desired_prop': 150.0}, 'universal_anisotropy': {'desired_prop': 1.5}}\n"
     ]
    },
    {
     "name": "stdout",
     "output_type": "stream",
     "text": [
      "self.nuild_dict: <bound method UserInput.build_dict of {'mat_1': {'elec_cond_300k_low_doping': {'upper_bound': 78.0, 'lower_bound': 1e-07}, 'therm_cond_300k_low_doping': {'upper_bound': 2.0, 'lower_bound': 1e-07}, 'bulk_modulus': {'upper_bound': 100.0, 'lower_bound': 50.0}, 'shear_modulus': {'upper_bound': 100.0, 'lower_bound': 80.0}, 'universal_anisotropy': {'upper_bound': 2.0, 'lower_bound': 1.0}}, 'mat_2': {'elec_cond_300k_low_doping': {'upper_bound': 78.0, 'lower_bound': 1e-07}, 'therm_cond_300k_low_doping': {'upper_bound': 2.0, 'lower_bound': 1e-07}, 'bulk_modulus': {'upper_bound': 400.0, 'lower_bound': 20.0}, 'shear_modulus': {'upper_bound': 200.0, 'lower_bound': 100.0}, 'universal_anisotropy': {'upper_bound': 2.3, 'lower_bound': 1.3}}, 'mat_3': {'elec_cond_300k_low_doping': {'upper_bound': 78.0, 'lower_bound': 1e-07}, 'therm_cond_300k_low_doping': {'upper_bound': 2.0, 'lower_bound': 1e-07}, 'bulk_modulus': {'upper_bound': 300.0, 'lower_bound': 20.0}, 'shear_modulus': {'upper_bound': 300.0, 'lower_bound': 100.0}, 'universal_anisotropy': {'upper_bound': 2.1, 'lower_bound': 0.9}}, 'mixture': {'elec_cond_300k_low_doping': {'desired_prop': 9.0}, 'therm_cond_300k_low_doping': {'desired_prop': 0.007}, 'bulk_modulus': {'desired_prop': 234.0}, 'shear_modulus': {'desired_prop': 150.0}, 'universal_anisotropy': {'desired_prop': 1.5}}}>\n",
      "Property categories:  ['carrier-transport', 'elastic']\n",
      "Property docs:  {'carrier-transport': {'elec_cond_300k_low_doping': None, 'therm_cond_300k_low_doping': None}, 'dielectric': {'e_electronic': None, 'e_ionic': None, 'e_total': None, 'n': None}, 'elastic': {'bulk_modulus': 'voigt', 'shear_modulus': 'voigt', 'universal_anisotropy': None}, 'magnetic': {'total_magnetization': None, 'total_magnetization_normalized_vol': None}, 'piezoelectric': {'e_ij_max': None}}\n",
      "Lower Bounds: {'mat_1': {'carrier-transport': [1e-07, 1e-07], 'elastic': [50.0, 80.0, 1.0]}, 'mat_2': {'carrier-transport': [1e-07, 1e-07], 'elastic': [20.0, 100.0, 1.3]}, 'mat_3': {'carrier-transport': [1e-07, 1e-07], 'elastic': [20.0, 100.0, 0.9]}, 'volume-fractions': [0.01, 0.01, 0.01]}\n",
      "Upper Bounds: {'mat_1': {'carrier-transport': [78.0, 2.0], 'elastic': [100.0, 100.0, 2.0]}, 'mat_2': {'carrier-transport': [78.0, 2.0], 'elastic': [400.0, 200.0, 2.3]}, 'mat_3': {'carrier-transport': [78.0, 2.0], 'elastic': [300.0, 300.0, 2.1]}, 'volume-fractions': [0.99, 0.99, 0.99]}\n",
      "Number of Materials: 3\n",
      "Number of Properties: 6\n"
     ]
    }
   ],
   "source": [
    "from optimization import HashinShtrikman\n",
    "HS = HashinShtrikman(api_key=\"uJpFxJJGKCSp9s1shwg9HmDuNjCDfWbM\", user_input=user_input)\n",
    "\n",
    "print(\"Property categories: \", HS.property_categories)\n",
    "print(\"Property docs: \", HS.property_docs)\n",
    "\n",
    "print(\"Lower Bounds:\", HS.lower_bounds)\n",
    "print(\"Upper Bounds:\", HS.upper_bounds)\n",
    "\n",
    "print(\"Number of Materials:\", HS.num_materials)\n",
    "print(\"Number of Properties:\", HS.num_properties)"
   ]
  },
  {
   "cell_type": "code",
   "execution_count": null,
   "metadata": {},
   "outputs": [],
   "source": [
    "# Testing without calls to generate final dict (faster)\n",
    "import json\n",
    "consolidated_dict = {}\n",
    "with open(\"consolidated_dict_02_11_2024_23_45_58\") as f:\n",
    "    consolidated_dict = json.load(f)\n",
    "print(consolidated_dict)"
   ]
  },
  {
   "cell_type": "code",
   "execution_count": 3,
   "metadata": {},
   "outputs": [],
   "source": [
    "# Run the optimization to obtain n=3 materials and their volume fractions that achieve the desired composite material properties\n",
    "HS.set_HS_optim_params(gen_counter=False)"
   ]
  },
  {
   "cell_type": "code",
   "execution_count": 4,
   "metadata": {},
   "outputs": [
    {
     "data": {
      "application/vnd.plotly.v1+json": {
       "config": {
        "plotlyServerURL": "https://plot.ly"
       },
       "data": [
        {
         "cells": {
          "align": "left",
          "fill": {
           "color": [
            [
             "white",
             "lightgrey",
             "white",
             "lightgrey",
             "white",
             "lightgrey",
             "white",
             "lightgrey",
             "white",
             "lightgrey"
            ]
           ]
          },
          "font": {
           "size": 12
          },
          "height": 30,
          "values": [
           [
            0.580634802858712,
            13.764546019154217,
            49.00396618422278,
            16.001669927173843,
            46.44633919280257,
            4.795199244488537,
            30.88353180182687,
            61.12941820419198,
            1.5853229385533543,
            4.649846376837147
           ],
           [
            0.05765799904816367,
            1.9145615571480816,
            0.15010552198383473,
            1.2543695000304318,
            1.5795127936983862,
            0.6395861698872876,
            1.9755830417776183,
            1.364552295323313,
            0.2614641090173251,
            0.9080603140953936
           ],
           [
            64.18455620881227,
            98.48501935619215,
            57.43538817996044,
            66.97664514969748,
            99.6779554063302,
            98.39292962282315,
            65.2961446496799,
            73.49410373656188,
            72.09168794855333,
            95.44165960485168
           ],
           [
            93.1536482768154,
            83.7776261411987,
            92.84301580871426,
            88.8213878037797,
            85.15642103274718,
            80.5058072693151,
            94.3504094444078,
            92.38866965726145,
            90.26399244385769,
            96.39535516183034
           ],
           [
            1.113696456332151,
            1.4743371708190591,
            1.8556125203574618,
            1.4244510085619573,
            1.9391605257957103,
            1.2496240411266968,
            1.8231527920856805,
            1.8074849020291586,
            1.214186115479365,
            1.9824272285429725
           ],
           [
            23.834146532762688,
            56.71530089080449,
            32.101793336109374,
            37.36721070842157,
            38.37013699659791,
            77.58190174502536,
            77.79082078573167,
            76.39291738014106,
            60.72875846892251,
            77.17194120241079
           ],
           [
            1.9086094944686929,
            1.0817958741980678,
            1.8174675614560274,
            0.6612064811489681,
            0.3625414632315101,
            0.8130221376767497,
            1.1317309201945422,
            1.491645441888394,
            0.5905194356101817,
            1.6586379642565015
           ],
           [
            207.8131201997394,
            168.34054379758607,
            372.41644538675314,
            313.35554977862245,
            392.9597737536596,
            355.7209783227558,
            303.84156929381146,
            83.49467015875004,
            392.8185844794467,
            348.7321484782182
           ],
           [
            157.93185171130074,
            138.2682317015083,
            174.17760415747608,
            111.1192855456984,
            132.770611567052,
            143.36109932553273,
            132.4928270911454,
            104.75628471887798,
            158.56007618817958,
            137.5265069361647
           ],
           [
            1.7130931610483353,
            2.132059515556543,
            1.654275342326226,
            1.8405099383138817,
            1.879357040863201,
            1.9306374268134443,
            2.034744512740982,
            1.849240695438715,
            1.485198639503069,
            1.7487845979461882
           ],
           [
            5.1760065310816294,
            42.70773862138866,
            32.49782065877257,
            13.871785527783082,
            19.582305886062997,
            17.15858988815753,
            43.277287957987824,
            55.54463495938709,
            23.63602447865033,
            60.347913657163886
           ],
           [
            1.3167980391230076,
            1.386999276215571,
            0.7428599319143061,
            0.8617570388097627,
            1.1894083819628427,
            1.6486863760011647,
            1.3716882834616584,
            1.8376631050444483,
            0.6137892860830942,
            0.25957876690633663
           ],
           [
            126.83795758676064,
            141.36824478990903,
            160.67575162032122,
            114.67472424380674,
            292.10463356557676,
            131.33787051471737,
            37.33537107633169,
            263.4679451700564,
            130.52621247992334,
            106.17097536045863
           ],
           [
            184.41633674686375,
            241.00376030935163,
            112.27688355031572,
            177.4388859056182,
            113.64331280549793,
            229.66266860564218,
            224.17314395340907,
            262.5058167334025,
            288.5469802425523,
            281.0316612165458
           ],
           [
            1.5692225141591232,
            1.966391857630673,
            1.8955257796888059,
            1.2045221185310606,
            1.5000508325077824,
            1.861309718919195,
            1.477741366856505,
            1.5342881566655997,
            2.0096382232713337,
            1.8721360106480254
           ],
           [
            0.30718978925474516,
            0.3132939249329139,
            0.12166711431575135,
            0.2746926372187536,
            0.5321703241816016,
            0.38577036435118756,
            0.2625333298929141,
            0.20606682026282325,
            0.36097141071006345,
            0.5759489904875122
           ],
           [
            0.5603986668254466,
            0.6204403688628763,
            0.818536027248956,
            0.5152679458648327,
            0.2356551713563614,
            0.4407738945692008,
            0.5316417771508454,
            0.1831186913924109,
            0.3878654301092672,
            0.3379004211925536
           ],
           [
            0.1324115439198084,
            0.0662657062042098,
            0.05979685843529259,
            0.2100394169164137,
            0.23217450446203702,
            0.1734557410796116,
            0.2058248929562405,
            0.6108144883447658,
            0.25116315918066934,
            0.08615058831993416
           ],
           [
            14.314,
            19.819,
            21.184,
            21.693,
            23.385,
            23.668,
            23.72,
            23.861,
            23.968,
            24.473
           ]
          ]
         },
         "columnwidth": 1000,
         "header": {
          "align": "left",
          "fill": {
           "color": "lavender"
          },
          "font": {
           "size": 12
          },
          "height": 30,
          "values": [
           "Phase 1 Electrical conductivity, [S/m]",
           "Phase 2 Electrical conductivity, [S/m]",
           "Phase 3 Electrical conductivity, [S/m]",
           "Phase 1 Thermal conductivity, [W/m/K]",
           "Phase 2 Thermal conductivity, [W/m/K]",
           "Phase 3 Thermal conductivity, [W/m/K]",
           "Phase 1 Bulk modulus, [GPa]",
           "Phase 2 Bulk modulus, [GPa]",
           "Phase 3 Bulk modulus, [GPa]",
           "Phase 1 Shear modulus, [GPa]",
           "Phase 2 Shear modulus, [GPa]",
           "Phase 3 Shear modulus, [GPa]",
           "Phase 1 Universal anisotropy, []",
           "Phase 2 Universal anisotropy, []",
           "Phase 3 Universal anisotropy, []",
           "Phase 1 Volume Fraction",
           "Phase 2 Volume Fraction",
           "Phase 3 Volume Fraction",
           "cost"
          ]
         },
         "type": "table"
        }
       ],
       "layout": {
        "autosize": true,
        "height": 400,
        "margin": {
         "b": 0,
         "l": 0,
         "r": 0,
         "t": 40
        },
        "template": {
         "data": {
          "bar": [
           {
            "error_x": {
             "color": "rgb(36,36,36)"
            },
            "error_y": {
             "color": "rgb(36,36,36)"
            },
            "marker": {
             "line": {
              "color": "white",
              "width": 0.5
             },
             "pattern": {
              "fillmode": "overlay",
              "size": 10,
              "solidity": 0.2
             }
            },
            "type": "bar"
           }
          ],
          "barpolar": [
           {
            "marker": {
             "line": {
              "color": "white",
              "width": 0.5
             },
             "pattern": {
              "fillmode": "overlay",
              "size": 10,
              "solidity": 0.2
             }
            },
            "type": "barpolar"
           }
          ],
          "carpet": [
           {
            "aaxis": {
             "endlinecolor": "rgb(36,36,36)",
             "gridcolor": "white",
             "linecolor": "white",
             "minorgridcolor": "white",
             "startlinecolor": "rgb(36,36,36)"
            },
            "baxis": {
             "endlinecolor": "rgb(36,36,36)",
             "gridcolor": "white",
             "linecolor": "white",
             "minorgridcolor": "white",
             "startlinecolor": "rgb(36,36,36)"
            },
            "type": "carpet"
           }
          ],
          "choropleth": [
           {
            "colorbar": {
             "outlinewidth": 1,
             "tickcolor": "rgb(36,36,36)",
             "ticks": "outside"
            },
            "type": "choropleth"
           }
          ],
          "contour": [
           {
            "colorbar": {
             "outlinewidth": 1,
             "tickcolor": "rgb(36,36,36)",
             "ticks": "outside"
            },
            "colorscale": [
             [
              0,
              "#440154"
             ],
             [
              0.1111111111111111,
              "#482878"
             ],
             [
              0.2222222222222222,
              "#3e4989"
             ],
             [
              0.3333333333333333,
              "#31688e"
             ],
             [
              0.4444444444444444,
              "#26828e"
             ],
             [
              0.5555555555555556,
              "#1f9e89"
             ],
             [
              0.6666666666666666,
              "#35b779"
             ],
             [
              0.7777777777777778,
              "#6ece58"
             ],
             [
              0.8888888888888888,
              "#b5de2b"
             ],
             [
              1,
              "#fde725"
             ]
            ],
            "type": "contour"
           }
          ],
          "contourcarpet": [
           {
            "colorbar": {
             "outlinewidth": 1,
             "tickcolor": "rgb(36,36,36)",
             "ticks": "outside"
            },
            "type": "contourcarpet"
           }
          ],
          "heatmap": [
           {
            "colorbar": {
             "outlinewidth": 1,
             "tickcolor": "rgb(36,36,36)",
             "ticks": "outside"
            },
            "colorscale": [
             [
              0,
              "#440154"
             ],
             [
              0.1111111111111111,
              "#482878"
             ],
             [
              0.2222222222222222,
              "#3e4989"
             ],
             [
              0.3333333333333333,
              "#31688e"
             ],
             [
              0.4444444444444444,
              "#26828e"
             ],
             [
              0.5555555555555556,
              "#1f9e89"
             ],
             [
              0.6666666666666666,
              "#35b779"
             ],
             [
              0.7777777777777778,
              "#6ece58"
             ],
             [
              0.8888888888888888,
              "#b5de2b"
             ],
             [
              1,
              "#fde725"
             ]
            ],
            "type": "heatmap"
           }
          ],
          "heatmapgl": [
           {
            "colorbar": {
             "outlinewidth": 1,
             "tickcolor": "rgb(36,36,36)",
             "ticks": "outside"
            },
            "colorscale": [
             [
              0,
              "#440154"
             ],
             [
              0.1111111111111111,
              "#482878"
             ],
             [
              0.2222222222222222,
              "#3e4989"
             ],
             [
              0.3333333333333333,
              "#31688e"
             ],
             [
              0.4444444444444444,
              "#26828e"
             ],
             [
              0.5555555555555556,
              "#1f9e89"
             ],
             [
              0.6666666666666666,
              "#35b779"
             ],
             [
              0.7777777777777778,
              "#6ece58"
             ],
             [
              0.8888888888888888,
              "#b5de2b"
             ],
             [
              1,
              "#fde725"
             ]
            ],
            "type": "heatmapgl"
           }
          ],
          "histogram": [
           {
            "marker": {
             "line": {
              "color": "white",
              "width": 0.6
             }
            },
            "type": "histogram"
           }
          ],
          "histogram2d": [
           {
            "colorbar": {
             "outlinewidth": 1,
             "tickcolor": "rgb(36,36,36)",
             "ticks": "outside"
            },
            "colorscale": [
             [
              0,
              "#440154"
             ],
             [
              0.1111111111111111,
              "#482878"
             ],
             [
              0.2222222222222222,
              "#3e4989"
             ],
             [
              0.3333333333333333,
              "#31688e"
             ],
             [
              0.4444444444444444,
              "#26828e"
             ],
             [
              0.5555555555555556,
              "#1f9e89"
             ],
             [
              0.6666666666666666,
              "#35b779"
             ],
             [
              0.7777777777777778,
              "#6ece58"
             ],
             [
              0.8888888888888888,
              "#b5de2b"
             ],
             [
              1,
              "#fde725"
             ]
            ],
            "type": "histogram2d"
           }
          ],
          "histogram2dcontour": [
           {
            "colorbar": {
             "outlinewidth": 1,
             "tickcolor": "rgb(36,36,36)",
             "ticks": "outside"
            },
            "colorscale": [
             [
              0,
              "#440154"
             ],
             [
              0.1111111111111111,
              "#482878"
             ],
             [
              0.2222222222222222,
              "#3e4989"
             ],
             [
              0.3333333333333333,
              "#31688e"
             ],
             [
              0.4444444444444444,
              "#26828e"
             ],
             [
              0.5555555555555556,
              "#1f9e89"
             ],
             [
              0.6666666666666666,
              "#35b779"
             ],
             [
              0.7777777777777778,
              "#6ece58"
             ],
             [
              0.8888888888888888,
              "#b5de2b"
             ],
             [
              1,
              "#fde725"
             ]
            ],
            "type": "histogram2dcontour"
           }
          ],
          "mesh3d": [
           {
            "colorbar": {
             "outlinewidth": 1,
             "tickcolor": "rgb(36,36,36)",
             "ticks": "outside"
            },
            "type": "mesh3d"
           }
          ],
          "parcoords": [
           {
            "line": {
             "colorbar": {
              "outlinewidth": 1,
              "tickcolor": "rgb(36,36,36)",
              "ticks": "outside"
             }
            },
            "type": "parcoords"
           }
          ],
          "pie": [
           {
            "automargin": true,
            "type": "pie"
           }
          ],
          "scatter": [
           {
            "fillpattern": {
             "fillmode": "overlay",
             "size": 10,
             "solidity": 0.2
            },
            "type": "scatter"
           }
          ],
          "scatter3d": [
           {
            "line": {
             "colorbar": {
              "outlinewidth": 1,
              "tickcolor": "rgb(36,36,36)",
              "ticks": "outside"
             }
            },
            "marker": {
             "colorbar": {
              "outlinewidth": 1,
              "tickcolor": "rgb(36,36,36)",
              "ticks": "outside"
             }
            },
            "type": "scatter3d"
           }
          ],
          "scattercarpet": [
           {
            "marker": {
             "colorbar": {
              "outlinewidth": 1,
              "tickcolor": "rgb(36,36,36)",
              "ticks": "outside"
             }
            },
            "type": "scattercarpet"
           }
          ],
          "scattergeo": [
           {
            "marker": {
             "colorbar": {
              "outlinewidth": 1,
              "tickcolor": "rgb(36,36,36)",
              "ticks": "outside"
             }
            },
            "type": "scattergeo"
           }
          ],
          "scattergl": [
           {
            "marker": {
             "colorbar": {
              "outlinewidth": 1,
              "tickcolor": "rgb(36,36,36)",
              "ticks": "outside"
             }
            },
            "type": "scattergl"
           }
          ],
          "scattermapbox": [
           {
            "marker": {
             "colorbar": {
              "outlinewidth": 1,
              "tickcolor": "rgb(36,36,36)",
              "ticks": "outside"
             }
            },
            "type": "scattermapbox"
           }
          ],
          "scatterpolar": [
           {
            "marker": {
             "colorbar": {
              "outlinewidth": 1,
              "tickcolor": "rgb(36,36,36)",
              "ticks": "outside"
             }
            },
            "type": "scatterpolar"
           }
          ],
          "scatterpolargl": [
           {
            "marker": {
             "colorbar": {
              "outlinewidth": 1,
              "tickcolor": "rgb(36,36,36)",
              "ticks": "outside"
             }
            },
            "type": "scatterpolargl"
           }
          ],
          "scatterternary": [
           {
            "marker": {
             "colorbar": {
              "outlinewidth": 1,
              "tickcolor": "rgb(36,36,36)",
              "ticks": "outside"
             }
            },
            "type": "scatterternary"
           }
          ],
          "surface": [
           {
            "colorbar": {
             "outlinewidth": 1,
             "tickcolor": "rgb(36,36,36)",
             "ticks": "outside"
            },
            "colorscale": [
             [
              0,
              "#440154"
             ],
             [
              0.1111111111111111,
              "#482878"
             ],
             [
              0.2222222222222222,
              "#3e4989"
             ],
             [
              0.3333333333333333,
              "#31688e"
             ],
             [
              0.4444444444444444,
              "#26828e"
             ],
             [
              0.5555555555555556,
              "#1f9e89"
             ],
             [
              0.6666666666666666,
              "#35b779"
             ],
             [
              0.7777777777777778,
              "#6ece58"
             ],
             [
              0.8888888888888888,
              "#b5de2b"
             ],
             [
              1,
              "#fde725"
             ]
            ],
            "type": "surface"
           }
          ],
          "table": [
           {
            "cells": {
             "fill": {
              "color": "rgb(237,237,237)"
             },
             "line": {
              "color": "white"
             }
            },
            "header": {
             "fill": {
              "color": "rgb(217,217,217)"
             },
             "line": {
              "color": "white"
             }
            },
            "type": "table"
           }
          ]
         },
         "layout": {
          "annotationdefaults": {
           "arrowhead": 0,
           "arrowwidth": 1
          },
          "autotypenumbers": "strict",
          "coloraxis": {
           "colorbar": {
            "outlinewidth": 1,
            "tickcolor": "rgb(36,36,36)",
            "ticks": "outside"
           }
          },
          "colorscale": {
           "diverging": [
            [
             0,
             "rgb(103,0,31)"
            ],
            [
             0.1,
             "rgb(178,24,43)"
            ],
            [
             0.2,
             "rgb(214,96,77)"
            ],
            [
             0.3,
             "rgb(244,165,130)"
            ],
            [
             0.4,
             "rgb(253,219,199)"
            ],
            [
             0.5,
             "rgb(247,247,247)"
            ],
            [
             0.6,
             "rgb(209,229,240)"
            ],
            [
             0.7,
             "rgb(146,197,222)"
            ],
            [
             0.8,
             "rgb(67,147,195)"
            ],
            [
             0.9,
             "rgb(33,102,172)"
            ],
            [
             1,
             "rgb(5,48,97)"
            ]
           ],
           "sequential": [
            [
             0,
             "#440154"
            ],
            [
             0.1111111111111111,
             "#482878"
            ],
            [
             0.2222222222222222,
             "#3e4989"
            ],
            [
             0.3333333333333333,
             "#31688e"
            ],
            [
             0.4444444444444444,
             "#26828e"
            ],
            [
             0.5555555555555556,
             "#1f9e89"
            ],
            [
             0.6666666666666666,
             "#35b779"
            ],
            [
             0.7777777777777778,
             "#6ece58"
            ],
            [
             0.8888888888888888,
             "#b5de2b"
            ],
            [
             1,
             "#fde725"
            ]
           ],
           "sequentialminus": [
            [
             0,
             "#440154"
            ],
            [
             0.1111111111111111,
             "#482878"
            ],
            [
             0.2222222222222222,
             "#3e4989"
            ],
            [
             0.3333333333333333,
             "#31688e"
            ],
            [
             0.4444444444444444,
             "#26828e"
            ],
            [
             0.5555555555555556,
             "#1f9e89"
            ],
            [
             0.6666666666666666,
             "#35b779"
            ],
            [
             0.7777777777777778,
             "#6ece58"
            ],
            [
             0.8888888888888888,
             "#b5de2b"
            ],
            [
             1,
             "#fde725"
            ]
           ]
          },
          "colorway": [
           "#1F77B4",
           "#FF7F0E",
           "#2CA02C",
           "#D62728",
           "#9467BD",
           "#8C564B",
           "#E377C2",
           "#7F7F7F",
           "#BCBD22",
           "#17BECF"
          ],
          "font": {
           "color": "rgb(36,36,36)"
          },
          "geo": {
           "bgcolor": "white",
           "lakecolor": "white",
           "landcolor": "white",
           "showlakes": true,
           "showland": true,
           "subunitcolor": "white"
          },
          "hoverlabel": {
           "align": "left"
          },
          "hovermode": "closest",
          "mapbox": {
           "style": "light"
          },
          "paper_bgcolor": "white",
          "plot_bgcolor": "white",
          "polar": {
           "angularaxis": {
            "gridcolor": "rgb(232,232,232)",
            "linecolor": "rgb(36,36,36)",
            "showgrid": false,
            "showline": true,
            "ticks": "outside"
           },
           "bgcolor": "white",
           "radialaxis": {
            "gridcolor": "rgb(232,232,232)",
            "linecolor": "rgb(36,36,36)",
            "showgrid": false,
            "showline": true,
            "ticks": "outside"
           }
          },
          "scene": {
           "xaxis": {
            "backgroundcolor": "white",
            "gridcolor": "rgb(232,232,232)",
            "gridwidth": 2,
            "linecolor": "rgb(36,36,36)",
            "showbackground": true,
            "showgrid": false,
            "showline": true,
            "ticks": "outside",
            "zeroline": false,
            "zerolinecolor": "rgb(36,36,36)"
           },
           "yaxis": {
            "backgroundcolor": "white",
            "gridcolor": "rgb(232,232,232)",
            "gridwidth": 2,
            "linecolor": "rgb(36,36,36)",
            "showbackground": true,
            "showgrid": false,
            "showline": true,
            "ticks": "outside",
            "zeroline": false,
            "zerolinecolor": "rgb(36,36,36)"
           },
           "zaxis": {
            "backgroundcolor": "white",
            "gridcolor": "rgb(232,232,232)",
            "gridwidth": 2,
            "linecolor": "rgb(36,36,36)",
            "showbackground": true,
            "showgrid": false,
            "showline": true,
            "ticks": "outside",
            "zeroline": false,
            "zerolinecolor": "rgb(36,36,36)"
           }
          },
          "shapedefaults": {
           "fillcolor": "black",
           "line": {
            "width": 0
           },
           "opacity": 0.3
          },
          "ternary": {
           "aaxis": {
            "gridcolor": "rgb(232,232,232)",
            "linecolor": "rgb(36,36,36)",
            "showgrid": false,
            "showline": true,
            "ticks": "outside"
           },
           "baxis": {
            "gridcolor": "rgb(232,232,232)",
            "linecolor": "rgb(36,36,36)",
            "showgrid": false,
            "showline": true,
            "ticks": "outside"
           },
           "bgcolor": "white",
           "caxis": {
            "gridcolor": "rgb(232,232,232)",
            "linecolor": "rgb(36,36,36)",
            "showgrid": false,
            "showline": true,
            "ticks": "outside"
           }
          },
          "title": {
           "x": 0.05
          },
          "xaxis": {
           "automargin": true,
           "gridcolor": "rgb(232,232,232)",
           "linecolor": "rgb(36,36,36)",
           "showgrid": false,
           "showline": true,
           "ticks": "outside",
           "title": {
            "standoff": 15
           },
           "zeroline": false,
           "zerolinecolor": "rgb(36,36,36)"
          },
          "yaxis": {
           "automargin": true,
           "gridcolor": "rgb(232,232,232)",
           "linecolor": "rgb(36,36,36)",
           "showgrid": false,
           "showline": true,
           "ticks": "outside",
           "title": {
            "standoff": 15
           },
           "zeroline": false,
           "zerolinecolor": "rgb(36,36,36)"
          }
         }
        },
        "title": {
         "font": {
          "size": 20
         },
         "text": "Optimal Properties Recommended by Genetic Algorithm",
         "x": 0.2
        }
       }
      }
     },
     "metadata": {},
     "output_type": "display_data"
    }
   ],
   "source": [
    "# Print the optimization results as a table\n",
    "HS.print_table_of_best_designs(rows=10)"
   ]
  },
  {
   "cell_type": "code",
   "execution_count": 5,
   "metadata": {},
   "outputs": [
    {
     "data": {
      "application/vnd.plotly.v1+json": {
       "config": {
        "plotlyServerURL": "https://plot.ly"
       },
       "data": [
        {
         "mode": "lines",
         "name": "Avg. of top 10 performers",
         "type": "scatter",
         "x": [
          0,
          1,
          2,
          3,
          4,
          5,
          6,
          7,
          8,
          9,
          10,
          11,
          12,
          13,
          14,
          15,
          16,
          17,
          18,
          19,
          20,
          21,
          22,
          23,
          24,
          25,
          26,
          27,
          28,
          29,
          30,
          31,
          32,
          33,
          34,
          35,
          36,
          37,
          38,
          39,
          40,
          41,
          42,
          43,
          44,
          45,
          46,
          47,
          48,
          49,
          50,
          51,
          52,
          53,
          54,
          55,
          56,
          57,
          58,
          59,
          60,
          61,
          62,
          63,
          64,
          65,
          66,
          67,
          68,
          69,
          70,
          71,
          72,
          73,
          74,
          75,
          76,
          77,
          78,
          79,
          80,
          81,
          82,
          83,
          84,
          85,
          86,
          87,
          88,
          89,
          90,
          91,
          92,
          93,
          94,
          95,
          96,
          97,
          98,
          99
         ],
         "y": [
          21.759000545304364,
          20.382154529609473,
          19.827953678185516,
          18.591252953240527,
          17.316670517332437,
          17.050751103647947,
          17.018743326057127,
          16.992493847693552,
          16.976290860680002,
          16.973852263468324,
          16.97295971866781,
          16.972724801966486,
          16.762587707125668,
          16.762575550113503,
          16.73242185055544,
          16.461610030081545,
          16.274840943341854,
          16.189276963053956,
          16.0476737258946,
          15.66430679523018,
          15.263736871030579,
          15.154918433627989,
          15.078888709604277,
          15.05824360829474,
          15.054123216996521,
          15.032651039708247,
          14.929015904136696,
          14.71641380598848,
          14.495344020433572,
          14.367031552598235,
          14.322809670024792,
          14.319823325851806,
          14.316346061003085,
          14.314527343287585,
          14.314452266184645,
          14.314440277079697,
          14.314437782100674,
          14.31443737251387,
          14.314437237694989,
          14.314437237197135,
          14.314437237148667,
          14.314437237136227,
          14.314437237135971,
          14.314437237135957,
          14.314437237135957,
          14.314437237135957,
          14.314437237135957,
          14.314437237135957,
          14.314437237135957,
          14.314437237135957,
          14.314437237135957,
          14.314437237135957,
          14.314437237135957,
          14.314437237135953,
          14.314437237135953,
          14.314437237135953,
          14.314437237135953,
          14.314437237135953,
          14.314437237135953,
          14.314437237135953,
          14.314437237135953,
          14.314437237135953,
          14.314437237135953,
          14.314437237135953,
          14.314437237135953,
          14.314437237135953,
          14.314437237135953,
          14.314437237135953,
          14.314437237135953,
          14.314437237135953,
          14.314437237135953,
          14.314437237135953,
          14.314437237135953,
          14.314437237135953,
          14.314437237135953,
          14.314437237135953,
          14.314437237135953,
          14.314437237135953,
          14.314437237135953,
          14.314437237135953,
          14.314437237135953,
          14.314437237135953,
          14.314437237135953,
          14.314437237135953,
          14.314437237135953,
          14.314437237135953,
          14.314437237135953,
          14.314437237135953,
          14.314437237135953,
          14.314437237135953,
          14.314437237135953,
          14.314437237135953,
          14.314437237135953,
          14.314437237135953,
          14.314437237135953,
          14.314437237135953,
          14.314437237135953,
          14.314437237135953,
          14.314437237135953,
          14.314437237135953
         ]
        },
        {
         "mode": "lines",
         "name": "Best costs",
         "type": "scatter",
         "x": [
          0,
          1,
          2,
          3,
          4,
          5,
          6,
          7,
          8,
          9,
          10,
          11,
          12,
          13,
          14,
          15,
          16,
          17,
          18,
          19,
          20,
          21,
          22,
          23,
          24,
          25,
          26,
          27,
          28,
          29,
          30,
          31,
          32,
          33,
          34,
          35,
          36,
          37,
          38,
          39,
          40,
          41,
          42,
          43,
          44,
          45,
          46,
          47,
          48,
          49,
          50,
          51,
          52,
          53,
          54,
          55,
          56,
          57,
          58,
          59,
          60,
          61,
          62,
          63,
          64,
          65,
          66,
          67,
          68,
          69,
          70,
          71,
          72,
          73,
          74,
          75,
          76,
          77,
          78,
          79,
          80,
          81,
          82,
          83,
          84,
          85,
          86,
          87,
          88,
          89,
          90,
          91,
          92,
          93,
          94,
          95,
          96,
          97,
          98,
          99
         ],
         "y": [
          19.696824523253184,
          16.972675102642846,
          16.972675102642846,
          16.972675102642846,
          16.972675102642846,
          16.972675102642846,
          16.972675102642846,
          16.972675102642846,
          16.972675102642846,
          16.972675102642846,
          16.972675102642846,
          16.972675102642846,
          14.871634432662646,
          14.871634432662646,
          14.871634432662646,
          14.871634432662646,
          14.871634432662646,
          14.871634432662646,
          14.871634432662646,
          14.871634432662646,
          14.871634432662646,
          14.871634432662646,
          14.871634432662646,
          14.871634432662646,
          14.871634432662646,
          14.871634432662646,
          14.314437237135955,
          14.314437237135955,
          14.314437237135955,
          14.314437237135955,
          14.314437237135955,
          14.314437237135955,
          14.314437237135955,
          14.314437237135955,
          14.314437237135955,
          14.314437237135955,
          14.314437237135955,
          14.314437237135955,
          14.314437237135955,
          14.314437237135955,
          14.314437237135955,
          14.314437237135955,
          14.314437237135955,
          14.314437237135955,
          14.314437237135955,
          14.314437237135955,
          14.314437237135955,
          14.314437237135955,
          14.314437237135955,
          14.314437237135955,
          14.314437237135953,
          14.314437237135953,
          14.314437237135953,
          14.314437237135953,
          14.314437237135953,
          14.314437237135953,
          14.314437237135953,
          14.314437237135953,
          14.314437237135953,
          14.314437237135953,
          14.314437237135953,
          14.314437237135953,
          14.314437237135953,
          14.314437237135953,
          14.314437237135953,
          14.314437237135953,
          14.314437237135953,
          14.314437237135953,
          14.314437237135953,
          14.314437237135953,
          14.314437237135953,
          14.314437237135953,
          14.314437237135953,
          14.314437237135953,
          14.314437237135953,
          14.314437237135953,
          14.314437237135953,
          14.314437237135953,
          14.314437237135953,
          14.314437237135953,
          14.314437237135953,
          14.314437237135953,
          14.314437237135953,
          14.314437237135953,
          14.314437237135953,
          14.314437237135953,
          14.314437237135953,
          14.314437237135953,
          14.314437237135953,
          14.314437237135953,
          14.314437237135953,
          14.314437237135953,
          14.314437237135953,
          14.314437237135953,
          14.314437237135953,
          14.314437237135953,
          14.314437237135953,
          14.314437237135953,
          14.314437237135953,
          14.314437237135953
         ]
        }
       ],
       "layout": {
        "legend": {
         "bgcolor": "rgba(255, 255, 255, 0.5)",
         "font": {
          "size": 14
         },
         "x": 1,
         "xanchor": "right",
         "y": 1,
         "yanchor": "top"
        },
        "template": {
         "data": {
          "bar": [
           {
            "error_x": {
             "color": "rgb(36,36,36)"
            },
            "error_y": {
             "color": "rgb(36,36,36)"
            },
            "marker": {
             "line": {
              "color": "white",
              "width": 0.5
             },
             "pattern": {
              "fillmode": "overlay",
              "size": 10,
              "solidity": 0.2
             }
            },
            "type": "bar"
           }
          ],
          "barpolar": [
           {
            "marker": {
             "line": {
              "color": "white",
              "width": 0.5
             },
             "pattern": {
              "fillmode": "overlay",
              "size": 10,
              "solidity": 0.2
             }
            },
            "type": "barpolar"
           }
          ],
          "carpet": [
           {
            "aaxis": {
             "endlinecolor": "rgb(36,36,36)",
             "gridcolor": "white",
             "linecolor": "white",
             "minorgridcolor": "white",
             "startlinecolor": "rgb(36,36,36)"
            },
            "baxis": {
             "endlinecolor": "rgb(36,36,36)",
             "gridcolor": "white",
             "linecolor": "white",
             "minorgridcolor": "white",
             "startlinecolor": "rgb(36,36,36)"
            },
            "type": "carpet"
           }
          ],
          "choropleth": [
           {
            "colorbar": {
             "outlinewidth": 1,
             "tickcolor": "rgb(36,36,36)",
             "ticks": "outside"
            },
            "type": "choropleth"
           }
          ],
          "contour": [
           {
            "colorbar": {
             "outlinewidth": 1,
             "tickcolor": "rgb(36,36,36)",
             "ticks": "outside"
            },
            "colorscale": [
             [
              0,
              "#440154"
             ],
             [
              0.1111111111111111,
              "#482878"
             ],
             [
              0.2222222222222222,
              "#3e4989"
             ],
             [
              0.3333333333333333,
              "#31688e"
             ],
             [
              0.4444444444444444,
              "#26828e"
             ],
             [
              0.5555555555555556,
              "#1f9e89"
             ],
             [
              0.6666666666666666,
              "#35b779"
             ],
             [
              0.7777777777777778,
              "#6ece58"
             ],
             [
              0.8888888888888888,
              "#b5de2b"
             ],
             [
              1,
              "#fde725"
             ]
            ],
            "type": "contour"
           }
          ],
          "contourcarpet": [
           {
            "colorbar": {
             "outlinewidth": 1,
             "tickcolor": "rgb(36,36,36)",
             "ticks": "outside"
            },
            "type": "contourcarpet"
           }
          ],
          "heatmap": [
           {
            "colorbar": {
             "outlinewidth": 1,
             "tickcolor": "rgb(36,36,36)",
             "ticks": "outside"
            },
            "colorscale": [
             [
              0,
              "#440154"
             ],
             [
              0.1111111111111111,
              "#482878"
             ],
             [
              0.2222222222222222,
              "#3e4989"
             ],
             [
              0.3333333333333333,
              "#31688e"
             ],
             [
              0.4444444444444444,
              "#26828e"
             ],
             [
              0.5555555555555556,
              "#1f9e89"
             ],
             [
              0.6666666666666666,
              "#35b779"
             ],
             [
              0.7777777777777778,
              "#6ece58"
             ],
             [
              0.8888888888888888,
              "#b5de2b"
             ],
             [
              1,
              "#fde725"
             ]
            ],
            "type": "heatmap"
           }
          ],
          "heatmapgl": [
           {
            "colorbar": {
             "outlinewidth": 1,
             "tickcolor": "rgb(36,36,36)",
             "ticks": "outside"
            },
            "colorscale": [
             [
              0,
              "#440154"
             ],
             [
              0.1111111111111111,
              "#482878"
             ],
             [
              0.2222222222222222,
              "#3e4989"
             ],
             [
              0.3333333333333333,
              "#31688e"
             ],
             [
              0.4444444444444444,
              "#26828e"
             ],
             [
              0.5555555555555556,
              "#1f9e89"
             ],
             [
              0.6666666666666666,
              "#35b779"
             ],
             [
              0.7777777777777778,
              "#6ece58"
             ],
             [
              0.8888888888888888,
              "#b5de2b"
             ],
             [
              1,
              "#fde725"
             ]
            ],
            "type": "heatmapgl"
           }
          ],
          "histogram": [
           {
            "marker": {
             "line": {
              "color": "white",
              "width": 0.6
             }
            },
            "type": "histogram"
           }
          ],
          "histogram2d": [
           {
            "colorbar": {
             "outlinewidth": 1,
             "tickcolor": "rgb(36,36,36)",
             "ticks": "outside"
            },
            "colorscale": [
             [
              0,
              "#440154"
             ],
             [
              0.1111111111111111,
              "#482878"
             ],
             [
              0.2222222222222222,
              "#3e4989"
             ],
             [
              0.3333333333333333,
              "#31688e"
             ],
             [
              0.4444444444444444,
              "#26828e"
             ],
             [
              0.5555555555555556,
              "#1f9e89"
             ],
             [
              0.6666666666666666,
              "#35b779"
             ],
             [
              0.7777777777777778,
              "#6ece58"
             ],
             [
              0.8888888888888888,
              "#b5de2b"
             ],
             [
              1,
              "#fde725"
             ]
            ],
            "type": "histogram2d"
           }
          ],
          "histogram2dcontour": [
           {
            "colorbar": {
             "outlinewidth": 1,
             "tickcolor": "rgb(36,36,36)",
             "ticks": "outside"
            },
            "colorscale": [
             [
              0,
              "#440154"
             ],
             [
              0.1111111111111111,
              "#482878"
             ],
             [
              0.2222222222222222,
              "#3e4989"
             ],
             [
              0.3333333333333333,
              "#31688e"
             ],
             [
              0.4444444444444444,
              "#26828e"
             ],
             [
              0.5555555555555556,
              "#1f9e89"
             ],
             [
              0.6666666666666666,
              "#35b779"
             ],
             [
              0.7777777777777778,
              "#6ece58"
             ],
             [
              0.8888888888888888,
              "#b5de2b"
             ],
             [
              1,
              "#fde725"
             ]
            ],
            "type": "histogram2dcontour"
           }
          ],
          "mesh3d": [
           {
            "colorbar": {
             "outlinewidth": 1,
             "tickcolor": "rgb(36,36,36)",
             "ticks": "outside"
            },
            "type": "mesh3d"
           }
          ],
          "parcoords": [
           {
            "line": {
             "colorbar": {
              "outlinewidth": 1,
              "tickcolor": "rgb(36,36,36)",
              "ticks": "outside"
             }
            },
            "type": "parcoords"
           }
          ],
          "pie": [
           {
            "automargin": true,
            "type": "pie"
           }
          ],
          "scatter": [
           {
            "fillpattern": {
             "fillmode": "overlay",
             "size": 10,
             "solidity": 0.2
            },
            "type": "scatter"
           }
          ],
          "scatter3d": [
           {
            "line": {
             "colorbar": {
              "outlinewidth": 1,
              "tickcolor": "rgb(36,36,36)",
              "ticks": "outside"
             }
            },
            "marker": {
             "colorbar": {
              "outlinewidth": 1,
              "tickcolor": "rgb(36,36,36)",
              "ticks": "outside"
             }
            },
            "type": "scatter3d"
           }
          ],
          "scattercarpet": [
           {
            "marker": {
             "colorbar": {
              "outlinewidth": 1,
              "tickcolor": "rgb(36,36,36)",
              "ticks": "outside"
             }
            },
            "type": "scattercarpet"
           }
          ],
          "scattergeo": [
           {
            "marker": {
             "colorbar": {
              "outlinewidth": 1,
              "tickcolor": "rgb(36,36,36)",
              "ticks": "outside"
             }
            },
            "type": "scattergeo"
           }
          ],
          "scattergl": [
           {
            "marker": {
             "colorbar": {
              "outlinewidth": 1,
              "tickcolor": "rgb(36,36,36)",
              "ticks": "outside"
             }
            },
            "type": "scattergl"
           }
          ],
          "scattermapbox": [
           {
            "marker": {
             "colorbar": {
              "outlinewidth": 1,
              "tickcolor": "rgb(36,36,36)",
              "ticks": "outside"
             }
            },
            "type": "scattermapbox"
           }
          ],
          "scatterpolar": [
           {
            "marker": {
             "colorbar": {
              "outlinewidth": 1,
              "tickcolor": "rgb(36,36,36)",
              "ticks": "outside"
             }
            },
            "type": "scatterpolar"
           }
          ],
          "scatterpolargl": [
           {
            "marker": {
             "colorbar": {
              "outlinewidth": 1,
              "tickcolor": "rgb(36,36,36)",
              "ticks": "outside"
             }
            },
            "type": "scatterpolargl"
           }
          ],
          "scatterternary": [
           {
            "marker": {
             "colorbar": {
              "outlinewidth": 1,
              "tickcolor": "rgb(36,36,36)",
              "ticks": "outside"
             }
            },
            "type": "scatterternary"
           }
          ],
          "surface": [
           {
            "colorbar": {
             "outlinewidth": 1,
             "tickcolor": "rgb(36,36,36)",
             "ticks": "outside"
            },
            "colorscale": [
             [
              0,
              "#440154"
             ],
             [
              0.1111111111111111,
              "#482878"
             ],
             [
              0.2222222222222222,
              "#3e4989"
             ],
             [
              0.3333333333333333,
              "#31688e"
             ],
             [
              0.4444444444444444,
              "#26828e"
             ],
             [
              0.5555555555555556,
              "#1f9e89"
             ],
             [
              0.6666666666666666,
              "#35b779"
             ],
             [
              0.7777777777777778,
              "#6ece58"
             ],
             [
              0.8888888888888888,
              "#b5de2b"
             ],
             [
              1,
              "#fde725"
             ]
            ],
            "type": "surface"
           }
          ],
          "table": [
           {
            "cells": {
             "fill": {
              "color": "rgb(237,237,237)"
             },
             "line": {
              "color": "white"
             }
            },
            "header": {
             "fill": {
              "color": "rgb(217,217,217)"
             },
             "line": {
              "color": "white"
             }
            },
            "type": "table"
           }
          ]
         },
         "layout": {
          "annotationdefaults": {
           "arrowhead": 0,
           "arrowwidth": 1
          },
          "autotypenumbers": "strict",
          "coloraxis": {
           "colorbar": {
            "outlinewidth": 1,
            "tickcolor": "rgb(36,36,36)",
            "ticks": "outside"
           }
          },
          "colorscale": {
           "diverging": [
            [
             0,
             "rgb(103,0,31)"
            ],
            [
             0.1,
             "rgb(178,24,43)"
            ],
            [
             0.2,
             "rgb(214,96,77)"
            ],
            [
             0.3,
             "rgb(244,165,130)"
            ],
            [
             0.4,
             "rgb(253,219,199)"
            ],
            [
             0.5,
             "rgb(247,247,247)"
            ],
            [
             0.6,
             "rgb(209,229,240)"
            ],
            [
             0.7,
             "rgb(146,197,222)"
            ],
            [
             0.8,
             "rgb(67,147,195)"
            ],
            [
             0.9,
             "rgb(33,102,172)"
            ],
            [
             1,
             "rgb(5,48,97)"
            ]
           ],
           "sequential": [
            [
             0,
             "#440154"
            ],
            [
             0.1111111111111111,
             "#482878"
            ],
            [
             0.2222222222222222,
             "#3e4989"
            ],
            [
             0.3333333333333333,
             "#31688e"
            ],
            [
             0.4444444444444444,
             "#26828e"
            ],
            [
             0.5555555555555556,
             "#1f9e89"
            ],
            [
             0.6666666666666666,
             "#35b779"
            ],
            [
             0.7777777777777778,
             "#6ece58"
            ],
            [
             0.8888888888888888,
             "#b5de2b"
            ],
            [
             1,
             "#fde725"
            ]
           ],
           "sequentialminus": [
            [
             0,
             "#440154"
            ],
            [
             0.1111111111111111,
             "#482878"
            ],
            [
             0.2222222222222222,
             "#3e4989"
            ],
            [
             0.3333333333333333,
             "#31688e"
            ],
            [
             0.4444444444444444,
             "#26828e"
            ],
            [
             0.5555555555555556,
             "#1f9e89"
            ],
            [
             0.6666666666666666,
             "#35b779"
            ],
            [
             0.7777777777777778,
             "#6ece58"
            ],
            [
             0.8888888888888888,
             "#b5de2b"
            ],
            [
             1,
             "#fde725"
            ]
           ]
          },
          "colorway": [
           "#1F77B4",
           "#FF7F0E",
           "#2CA02C",
           "#D62728",
           "#9467BD",
           "#8C564B",
           "#E377C2",
           "#7F7F7F",
           "#BCBD22",
           "#17BECF"
          ],
          "font": {
           "color": "rgb(36,36,36)"
          },
          "geo": {
           "bgcolor": "white",
           "lakecolor": "white",
           "landcolor": "white",
           "showlakes": true,
           "showland": true,
           "subunitcolor": "white"
          },
          "hoverlabel": {
           "align": "left"
          },
          "hovermode": "closest",
          "mapbox": {
           "style": "light"
          },
          "paper_bgcolor": "white",
          "plot_bgcolor": "white",
          "polar": {
           "angularaxis": {
            "gridcolor": "rgb(232,232,232)",
            "linecolor": "rgb(36,36,36)",
            "showgrid": false,
            "showline": true,
            "ticks": "outside"
           },
           "bgcolor": "white",
           "radialaxis": {
            "gridcolor": "rgb(232,232,232)",
            "linecolor": "rgb(36,36,36)",
            "showgrid": false,
            "showline": true,
            "ticks": "outside"
           }
          },
          "scene": {
           "xaxis": {
            "backgroundcolor": "white",
            "gridcolor": "rgb(232,232,232)",
            "gridwidth": 2,
            "linecolor": "rgb(36,36,36)",
            "showbackground": true,
            "showgrid": false,
            "showline": true,
            "ticks": "outside",
            "zeroline": false,
            "zerolinecolor": "rgb(36,36,36)"
           },
           "yaxis": {
            "backgroundcolor": "white",
            "gridcolor": "rgb(232,232,232)",
            "gridwidth": 2,
            "linecolor": "rgb(36,36,36)",
            "showbackground": true,
            "showgrid": false,
            "showline": true,
            "ticks": "outside",
            "zeroline": false,
            "zerolinecolor": "rgb(36,36,36)"
           },
           "zaxis": {
            "backgroundcolor": "white",
            "gridcolor": "rgb(232,232,232)",
            "gridwidth": 2,
            "linecolor": "rgb(36,36,36)",
            "showbackground": true,
            "showgrid": false,
            "showline": true,
            "ticks": "outside",
            "zeroline": false,
            "zerolinecolor": "rgb(36,36,36)"
           }
          },
          "shapedefaults": {
           "fillcolor": "black",
           "line": {
            "width": 0
           },
           "opacity": 0.3
          },
          "ternary": {
           "aaxis": {
            "gridcolor": "rgb(232,232,232)",
            "linecolor": "rgb(36,36,36)",
            "showgrid": false,
            "showline": true,
            "ticks": "outside"
           },
           "baxis": {
            "gridcolor": "rgb(232,232,232)",
            "linecolor": "rgb(36,36,36)",
            "showgrid": false,
            "showline": true,
            "ticks": "outside"
           },
           "bgcolor": "white",
           "caxis": {
            "gridcolor": "rgb(232,232,232)",
            "linecolor": "rgb(36,36,36)",
            "showgrid": false,
            "showline": true,
            "ticks": "outside"
           }
          },
          "title": {
           "x": 0.05
          },
          "xaxis": {
           "automargin": true,
           "gridcolor": "rgb(232,232,232)",
           "linecolor": "rgb(36,36,36)",
           "showgrid": false,
           "showline": true,
           "ticks": "outside",
           "title": {
            "standoff": 15
           },
           "zeroline": false,
           "zerolinecolor": "rgb(36,36,36)"
          },
          "yaxis": {
           "automargin": true,
           "gridcolor": "rgb(232,232,232)",
           "linecolor": "rgb(36,36,36)",
           "showgrid": false,
           "showline": true,
           "ticks": "outside",
           "title": {
            "standoff": 15
           },
           "zeroline": false,
           "zerolinecolor": "rgb(36,36,36)"
          }
         }
        },
        "title": {
         "font": {
          "size": 24
         },
         "text": "Convergence of Genetic Algorithm",
         "x": 0.25
        },
        "xaxis": {
         "title": {
          "font": {
           "size": 20
          },
          "text": "Generation"
         }
        },
        "yaxis": {
         "title": {
          "font": {
           "size": 20
          },
          "text": "Cost"
         }
        }
       }
      }
     },
     "metadata": {},
     "output_type": "display_data"
    }
   ],
   "source": [
    "# Plot the genetic algorithm convergence plot\n",
    "HS.plot_optimization_results()"
   ]
  },
  {
   "cell_type": "code",
   "execution_count": 6,
   "metadata": {},
   "outputs": [
    {
     "name": "stdout",
     "output_type": "stream",
     "text": [
      "overall bounds dict: ({'elec_cond_300k_low_doping': {'upper_bound': 78.0, 'lower_bound': 1e-07}, 'therm_cond_300k_low_doping': {'upper_bound': 2.0, 'lower_bound': 1e-07}, 'bulk_modulus': {'upper_bound': 400.0, 'lower_bound': 20.0}, 'shear_modulus': {'upper_bound': 300.0, 'lower_bound': 80.0}, 'universal_anisotropy': {'upper_bound': 2.3, 'lower_bound': 0.9}}, {'mat_1': {'elec_cond_300k_low_doping': {'upper_bound': 78.0, 'lower_bound': 1e-07}, 'therm_cond_300k_low_doping': {'upper_bound': 2.0, 'lower_bound': 1e-07}, 'bulk_modulus': {'upper_bound': 100.0, 'lower_bound': 50.0}, 'shear_modulus': {'upper_bound': 100.0, 'lower_bound': 80.0}, 'universal_anisotropy': {'upper_bound': 2.0, 'lower_bound': 1.0}}, 'mat_2': {'elec_cond_300k_low_doping': {'upper_bound': 78.0, 'lower_bound': 1e-07}, 'therm_cond_300k_low_doping': {'upper_bound': 2.0, 'lower_bound': 1e-07}, 'bulk_modulus': {'upper_bound': 400.0, 'lower_bound': 20.0}, 'shear_modulus': {'upper_bound': 200.0, 'lower_bound': 100.0}, 'universal_anisotropy': {'upper_bound': 2.3, 'lower_bound': 1.3}}, 'mat_3': {'elec_cond_300k_low_doping': {'upper_bound': 78.0, 'lower_bound': 1e-07}, 'therm_cond_300k_low_doping': {'upper_bound': 2.0, 'lower_bound': 1e-07}, 'bulk_modulus': {'upper_bound': 300.0, 'lower_bound': 20.0}, 'shear_modulus': {'upper_bound': 300.0, 'lower_bound': 100.0}, 'universal_anisotropy': {'upper_bound': 2.1, 'lower_bound': 0.9}}, 'mixture': {'elec_cond_300k_low_doping': {'desired_prop': 9.0}, 'therm_cond_300k_low_doping': {'desired_prop': 0.007}, 'bulk_modulus': {'desired_prop': 234.0}, 'shear_modulus': {'desired_prop': 150.0}, 'universal_anisotropy': {'desired_prop': 1.5}}})\n",
      "best_designs_dict: {'mat1': {'carrier-transport': {'elec_cond_300k_low_doping': [0.580634802858712, 13.764546019154217, 49.00396618422278, 16.001669927173843, 46.44633919280257, 4.795199244488537, 30.88353180182687, 61.12941820419198, 1.5853229385533543, 4.649846376837147, 28.489401989275233, 54.19945559405824, 34.98208184083857, 22.369478003616734, 16.795389470593403, 69.3173115115542, 49.37474971959951, 75.04543276927586, 49.61854146842883, 71.02547819175082, 53.80811539607403, 4.164921743116057, 39.431661094600415, 3.8038203775840453, 70.35431512755355, 34.57536154694063, 2.8427649710191463, 71.30317080146159, 5.064854285819249, 27.79561868168243, 39.689839013139284, 30.730647349233543, 18.416235859508415, 64.56895548398074, 61.43172899764281, 40.37100691584177, 46.34998903527377, 57.65896993189809, 42.76322942229272, 47.15894645307282, 38.22133391686982, 39.898409862961486, 3.2404068244933444, 26.932307794835012, 74.30929067310936, 43.45816411227612, 43.507018914792106, 20.6921641179366, 70.13988595059382, 9.92895396678795, 69.07483059008389, 63.72747237064112, 4.224899269554619, 54.35776967792319, 73.25312931807645, 23.970670859802627, 6.745850546759419, 77.0742375903269, 72.19100964894314, 71.77930702003584, 15.334637616186875, 19.31151757087517, 36.8791218492222, 67.87070589066833, 22.14047647534638, 1.6007150670923516, 55.57978939009267, 54.55997741856863, 74.81578854378353, 37.67260645654548, 59.651909525785534, 37.211770794870084, 39.63063722732748, 67.99662378336083, 46.470743879481546, 63.218924379222436, 56.40803500208442, 21.770177975274596, 67.92810604736505, 67.43342383061629, 15.484729454802714, 43.69136794308821, 52.22247604931167, 1.608053991834895, 54.10944890967606, 8.578011940554655, 12.874654148149697, 27.86450044929599, 21.77400187596191, 19.096324603417358, 40.431835494760335, 70.49541491949633, 66.10783494945935, 62.104713797329175, 31.061949200684115, 4.106187302326093, 52.30273750385711, 61.378075247653165, 53.109858185861384, 28.8176105400103, 4.49574466962574, 38.29216076722232, 6.419233517699381, 47.0522751046053, 39.38541718771318, 41.50001442975212, 54.27655412046371, 2.724569524140084, 35.15030477600578, 47.256076242599455, 44.81750716254613, 21.016492080400162, 44.64948678952382, 45.54766909066947, 10.086687384309542, 1.2650402668059737, 7.545554906298776, 32.34255796584577, 43.78977218127189, 41.53299895123158, 44.19665885643003, 27.937563796203882, 39.06797691069563, 44.482440146790424, 16.06993576628421, 22.553044272095164, 3.6241190665945746, 54.37257061915231, 38.803697901551836, 42.26607867118181, 13.432632318641668, 13.678965040854873, 29.66077342609901, 10.836780706019404, 71.8688128792578, 35.41056592767978, 38.31158350250535, 14.404114530501753, 29.447628858157618, 46.6835556649594, 8.468669749432863, 33.847089993546966, 47.01721753023298, 72.17789717893564, 8.797331263633305, 67.5937701015175, 21.44524617300648, 41.35761647791109, 10.420967347663659, 71.97527578879085, 48.03485007172757, 29.048703824995037, 8.122166535225652, 62.17693363832771, 17.33202256922235, 37.382315074711016, 69.94400208743211, 48.80605286860938, 43.389725735978544, 33.91348484559344, 71.71166834848377, 61.51359260711638, 69.51920244366849, 66.78438752221263, 23.394074968071294, 24.96702767982938, 68.87971731406198, 43.7449168714032, 55.43021721472706, 64.67541497981506, 46.04199902404215, 12.49580436836689, 63.10792755673322, 22.418514845985747, 40.34643131089614, 31.283528465157705, 70.01918668634956, 35.32494387607483, 4.714863318891632, 40.32035276128756, 46.404940495268825], 'therm_cond_300k_low_doping': [0.05765799904816367, 1.9145615571480816, 0.15010552198383473, 1.2543695000304318, 1.5795127936983862, 0.6395861698872876, 1.9755830417776183, 1.364552295323313, 0.2614641090173251, 0.9080603140953936, 0.8620784401758135, 1.6523062363605754, 1.3110963836972909, 1.8526163375938456, 1.311922230342061, 0.4019834068342771, 0.017164999652197588, 0.5233689954447874, 1.145531554051932, 0.34784426774995325, 0.287442833443061, 1.9325266846699831, 0.13802432297653883, 1.687598356230092, 0.4818054374185026, 0.7129448179500266, 0.2562102721828854, 0.7354772194483976, 1.2936830609750183, 0.014696779067405885, 0.4161043158209691, 0.7336795156312856, 1.8019221017914562, 0.7368545232419568, 1.4942027341597546, 0.5554158380869568, 0.3352408811050258, 0.9578439912442935, 0.5905463425249458, 1.1352274908813813, 1.1849294652176368, 0.06246938396194387, 1.5029742895312925, 0.38176111051948497, 0.4267495746743178, 0.8295496306318335, 0.2549505772491885, 1.8893839405813448, 0.5951444687820457, 0.8522525818399029, 0.9699378735011729, 1.7310428013215111, 1.027797709759717, 1.9862309026087313, 0.1701261131562147, 0.7921852995929757, 1.1106673732370849, 1.4634779871701673, 0.8334161136101287, 0.5194213150391702, 0.3558592974507154, 0.484755167464517, 1.31355668175789, 0.7340371055757795, 1.7853569778217113, 1.0200164825446483, 1.168081215348475, 0.5870916458040202, 0.8118337557367012, 0.6071224295537762, 1.9772002482378475, 1.4832322056579887, 1.8881209580620952, 1.7369868043008418, 0.40915758762116256, 1.000570569343613, 1.8054027789710132, 1.9880930338255378, 1.8893295810924835, 0.8591941591174862, 1.1382365782700448, 0.4019465550334034, 0.39778133746392264, 1.8200530838113558, 0.961968016670365, 0.6186486527707828, 0.2570302319799912, 0.9496090913760654, 0.5863783627459757, 1.952753778701627, 1.192947944174921, 0.36976990715044217, 1.3625843649861122, 1.9748776853518673, 1.335272655829299, 1.0699165898457133, 1.415549290321036, 1.546078079851385, 1.1043215788412635, 0.26271437283136784, 1.6247552549585416, 0.29181762178038945, 0.5140262435499297, 0.6914686810704761, 1.1399775768082614, 0.7841534796491536, 1.9983426189384492, 0.19224457702911607, 0.9894703111946929, 0.04465027814164068, 0.48267566833830194, 1.058259068590279, 0.17032835000347105, 0.6614039280696126, 0.8496996973297423, 0.9654981072901743, 0.35861063741247456, 1.3219244888106678, 1.6663738613780867, 0.45045446312849824, 0.2111019100592723, 0.04735044634003451, 0.03717821685700088, 0.9441973749738641, 0.31463721974748526, 1.0651533090252547, 0.7001277910434698, 0.549590312129362, 1.6899897938733561, 0.5854369249701564, 0.3833212814682567, 1.6157737678469217, 0.8897423318977011, 0.2110411885854946, 1.441781749908713, 0.17165053199970987, 1.880189803589735, 1.3508253784391497, 1.6632873398085615, 0.44136864687358257, 1.6948715143388255, 0.21817586648772808, 0.18203186351477385, 0.7730899430647151, 1.1261621688837757, 0.796501592164154, 1.5769099005026024, 1.164453941255554, 0.36919719206766427, 1.7949392178765975, 1.335963623713268, 1.5762903423029886, 1.1327188773189887, 0.062128192740589956, 1.6838984253148235, 1.7300746292116158, 0.38499374824279137, 1.3272604201138802, 0.11650160681934925, 1.5000482722807542, 0.9346343292419991, 0.9890661222183159, 1.6303863238150955, 1.4461797483963965, 1.4955230465481022, 0.2527405950256183, 1.8513286551816213, 1.5323552430323686, 0.7152409393264064, 0.6845138995121951, 0.7695275114266095, 0.3904554284075092, 1.889478665661807, 0.08679592700002849, 0.8989360707402978, 1.1093280538530121, 0.11153663738668086, 1.7129055372296305, 1.6704615447393916, 0.5393127786926551, 1.2592501014443445]}, 'elastic': {'bulk_modulus': [64.18455620881227, 98.48501935619215, 57.43538817996044, 66.97664514969748, 99.6779554063302, 98.39292962282315, 65.2961446496799, 73.49410373656188, 72.09168794855333, 95.44165960485168, 54.13503976350616, 57.53187328065501, 92.37381724441204, 80.46977725898597, 92.60274928934311, 81.58866403527381, 58.99547054873824, 63.43571288438295, 89.02575224742523, 71.34734325805618, 96.62544540610575, 56.466049159807326, 72.70826686858155, 84.78523394780457, 55.392892615040466, 75.12131506033354, 58.684650133432136, 71.47845630186994, 59.44017173559216, 81.38823097963122, 51.25868718273068, 87.13494573135895, 53.68684971193945, 66.58666400831987, 54.477753652438395, 85.15688848485776, 53.72872418680398, 69.3221526237848, 78.89475091804454, 84.88707031135803, 74.9009493310209, 80.85042782889552, 56.81603395517635, 85.95626631805456, 80.98138195311398, 91.20725454908833, 85.40236944905936, 66.50478868711608, 98.05769014186484, 82.49274990681859, 68.57342767300989, 52.09427739612528, 96.13122666601245, 73.85436792466783, 63.746259336330795, 87.70695388765284, 81.7877649693441, 55.09404692000865, 87.06354673092157, 69.20451132535719, 88.93250062197077, 57.37163524603211, 92.93577307132819, 98.28993401905282, 90.64299932175226, 88.3138852324281, 84.07322641791372, 82.45449117865535, 98.92689039373539, 97.83189834147822, 77.20828095722817, 55.502879541100356, 78.23017662090163, 81.42256371984577, 97.77941511484858, 61.264116896241525, 68.47566871693047, 53.835098290855086, 65.92355537836161, 53.220148100857436, 59.06423330603508, 58.23759901870798, 66.05166926019652, 92.64992053583707, 90.72728653290032, 61.53898434755881, 91.02082383048273, 78.97335441172798, 93.01659740816821, 53.636414925173575, 88.09059033548365, 79.41793470123395, 72.74662417754081, 98.08497477325751, 88.73371332781527, 87.82230477981355, 90.39736683464203, 92.01531299838535, 98.59325844217473, 87.0830807267827, 84.29945000325938, 87.7707962901154, 54.50774949368961, 70.69343437338728, 57.487893994028525, 96.03676678807729, 56.97211474976016, 74.25307720243, 87.22417517312454, 53.60475310490352, 86.41677480878352, 71.59969026065838, 69.99939117411398, 84.59842185432953, 77.10059336617711, 80.65419608263178, 62.87246258296355, 52.52553795964987, 72.16115484763151, 51.29943311647912, 71.59016227431373, 50.81548998337933, 58.350176391570336, 92.35151044436984, 93.9975807960013, 60.28256026622241, 54.1309405553603, 64.79706404585987, 73.01928172223984, 80.11487681680636, 59.25643138219412, 87.17308008228807, 91.89144346340115, 76.9201948114954, 66.71533286568847, 81.91124630280831, 50.782155569727, 98.59996501948336, 82.51566622142306, 96.84180711422897, 75.05061895136427, 51.17804874485829, 82.82190331758785, 97.68091608741176, 84.54639823606153, 51.986717140997925, 59.285987049040486, 88.96095605499681, 94.82514213300624, 56.53009079720944, 58.020813013231795, 99.80393002782303, 72.51291649239266, 87.40636644112668, 83.68745438426332, 67.65349537734055, 75.1959316624022, 51.540137333976396, 81.50062915285406, 80.40028320620986, 75.1629798324302, 50.065457212583546, 59.198982625555125, 66.2784126107687, 71.92963914866101, 58.87430631552317, 53.44297689726836, 69.05008469856998, 68.84975346530314, 96.50791370246829, 77.09769940859586, 93.53581388994122, 83.51813978031484, 77.11327314609355, 86.65524150281112, 72.87680225620903, 60.01532496637279, 75.0347752785048, 81.16084108173911, 89.56838964409877, 96.07190822454888], 'shear_modulus': [93.1536482768154, 83.7776261411987, 92.84301580871426, 88.8213878037797, 85.15642103274718, 80.5058072693151, 94.3504094444078, 92.38866965726145, 90.26399244385769, 96.39535516183034, 80.26921312137117, 95.91506170601258, 88.61110868325996, 85.53113211237724, 83.43345695421847, 82.48735141982235, 80.00936779490495, 90.87818642654568, 81.64239400624018, 84.48913777204014, 86.29665472392568, 91.77778218066797, 88.7960280320728, 80.1939375611598, 84.44455644980869, 80.61961221061937, 82.44143331919867, 84.05191561318438, 97.4698219806056, 83.56785954207749, 92.30360534473479, 80.66903076288533, 85.17589688156855, 96.23978351379893, 89.36188313377805, 88.04656610800596, 80.59767664397269, 86.6763452860829, 87.59004012653408, 89.56987549699053, 90.66587254919094, 93.7369038386265, 93.9883483156796, 83.55258486247111, 96.7772079274598, 92.31609326740819, 86.37756201254857, 81.5054108303846, 91.23340030320558, 99.34324229904111, 98.56806276473729, 83.35063498158519, 87.12525070275052, 85.5192650500827, 83.4731719579033, 88.55722049415729, 95.96508569479866, 87.11760138844923, 95.98083114983268, 93.4669349367802, 88.31350773959413, 96.91843044736854, 96.3184057537062, 92.26200549635632, 83.67363644244756, 99.37964671364834, 98.12472534130346, 93.36896918174196, 85.91392252347433, 81.77260647331396, 91.01798089665213, 84.47817730209908, 94.77330046097413, 85.62833666392456, 97.27634511249893, 92.04028549482469, 92.63243914865915, 80.31821344165785, 92.17041118666872, 84.22512625958007, 80.99489928237088, 89.8912735026313, 85.98700091816157, 98.18633506974662, 86.57429153389603, 88.61877774103172, 94.98854502290884, 99.87292365883245, 84.38344332061615, 83.10344658738694, 96.98433153337639, 94.96232887899522, 92.75592659799196, 89.38921793828283, 88.00542160649864, 83.0214765383283, 93.15693352186842, 88.32455997282402, 94.11133533356727, 80.67908819124568, 91.90231874362874, 86.1046971727848, 87.81228596597897, 89.95289068839489, 81.08919718791988, 91.2073775836626, 81.24687928057179, 97.27058926148041, 90.181165493777, 81.67989513294975, 93.14613492689807, 92.76144733474487, 83.6282067580679, 94.8764090189408, 92.55292271404181, 99.32245533782717, 93.88653687998706, 85.26541492581744, 94.16773676728263, 92.94456343353282, 97.04536985190708, 97.69283213897755, 81.66347810732914, 96.70036144429548, 94.49551441197735, 98.4738676881935, 85.88328708360294, 97.95838897249226, 94.07306142040149, 97.97025976576828, 89.85158573333831, 80.11978578640613, 92.06436370521054, 84.42578921721744, 88.39294396738188, 96.24114603738408, 92.00196424185361, 93.17591923045791, 88.9687055151983, 98.99141364981239, 95.16696159977644, 90.99060797806415, 89.91781109598827, 87.38587180573596, 85.05799450006789, 80.49316299581231, 89.11088976875627, 94.99435216741227, 89.58643570632591, 86.03772921338975, 80.38791424542178, 94.68515247871157, 92.56660453328941, 97.34844891553641, 80.31744893231944, 88.45664396940894, 88.89921203448745, 94.99744148348682, 85.72386432131316, 83.88779178614284, 83.9173785397893, 92.94085018710634, 97.54090245817667, 93.03488857354397, 90.4624151324933, 96.37427968411974, 83.57022483245721, 84.38491196553602, 80.22215650455486, 84.31960665317551, 87.49086607940248, 96.48668686583301, 93.14720169545683, 91.29233657454755, 91.00114315595606, 87.15336640556305, 94.21358900407397, 89.6583213421477, 81.10956271245944, 87.64162489590908, 83.36589696744656], 'universal_anisotropy': [1.113696456332151, 1.4743371708190591, 1.8556125203574618, 1.4244510085619573, 1.9391605257957103, 1.2496240411266968, 1.8231527920856805, 1.8074849020291586, 1.214186115479365, 1.9824272285429725, 1.1114431778882916, 1.2319690030143526, 1.0070592882542575, 1.1362848188753967, 1.5633595601147645, 1.0513530954634887, 1.5400198501472109, 1.8030602175286676, 1.9662164526913841, 1.4801753342652983, 1.3580953891631546, 1.8285264765982878, 1.7691982323837365, 1.6075113119524307, 1.792915166755178, 1.7110040652004954, 1.1057113792860405, 1.4187509172407533, 1.833783537351483, 1.2869301099041728, 1.1911400347447354, 1.158405624259387, 1.008622332418136, 1.2866006307555504, 1.7448238955975148, 1.009451347287801, 1.4619158453869168, 1.9144489642008455, 1.3160530510893018, 1.0832864480398245, 1.3495765389103669, 1.584869352234417, 1.6799162414090798, 1.921272363710825, 1.9841574277236567, 1.553169183523901, 1.134584875180312, 1.8120823405345656, 1.0859131393178754, 1.5393014429960372, 1.580139208221756, 1.7880099787483166, 1.8202644470771472, 1.9338976389236104, 1.0340179682222337, 1.2875627742093179, 1.8133065600569207, 1.4340062634269197, 1.5584850547431666, 1.9104858953323287, 1.0095404564495432, 1.933657855335041, 1.5224980036789457, 1.1415315193831888, 1.107484773467275, 1.4785491951895393, 1.1838567133169282, 1.272204216301673, 1.9207232639080702, 1.2206132990852543, 1.0813912504539416, 1.6606375845270334, 1.9305431560930315, 1.0756715987767564, 1.8445390782482032, 1.459445892231309, 1.843590440540567, 1.1756447875601843, 1.3429646713985341, 1.8323185013215548, 1.5947962653797663, 1.3955232101967305, 1.8253862836880272, 1.7027500870746826, 1.5571148240362533, 1.8551760546104892, 1.9072236908711249, 1.5035750807854398, 1.2422470545662185, 1.1681922077183384, 1.680075138068861, 1.8527747693583279, 1.7028589217893058, 1.6503863672097525, 1.8404752974153311, 1.3011144661949017, 1.8208775317442996, 1.0340004302846268, 1.386149859800176, 1.9248535693364999, 1.3031901278527296, 1.0142837310211248, 1.9209590655053521, 1.0849319823646888, 1.2301670019836766, 1.4550045897922361, 1.4063255269272834, 1.4064500245278828, 1.552757253821142, 1.0421558628592398, 1.9189046976738116, 1.815188123425084, 1.1462963412854994, 1.5258716006741642, 1.5643085047538037, 1.6825004193853772, 1.2228664391397834, 1.0103995960651915, 1.5942550672436715, 1.1743122231146146, 1.2632566867378618, 1.6186682289813992, 1.3249609155934663, 1.9003201914531145, 1.7839060189656404, 1.6084130001800623, 1.506534222958226, 1.900981787578702, 1.332091178358935, 1.4571610592927395, 1.6184875275931008, 1.784320043591182, 1.3036205246604093, 1.9045298433458182, 1.612892993981116, 1.2506703713404386, 1.0209262595266888, 1.4751343436213427, 1.2576485484911322, 1.99514000140349, 1.763703939131612, 1.2881966174681794, 1.3044895650071069, 1.7395742973916806, 1.823791008288207, 1.6913518740002265, 1.7963197466972438, 1.6809652865038527, 1.298487696111203, 1.726710784227979, 1.5076517286280722, 1.4469675269897768, 1.4507038335537046, 1.9768809838508576, 1.2323469619335867, 1.6530183648799817, 1.756521705614142, 1.5839960656545826, 1.4231910648394779, 1.798078861046465, 1.101633458339708, 1.5862691005971292, 1.6181957071799098, 1.3370778324466914, 1.587372292447498, 1.4136860169177117, 1.2467194693240533, 1.3297297345965515, 1.7632055913125715, 1.2246949113868282, 1.2322013895736954, 1.5059670461745889, 1.8575607312023736, 1.987545293617672, 1.218038359292581, 1.1632793036085962, 1.6461838035022387, 1.7848943716342873, 1.6333013327376253, 1.5092259827948005, 1.8446618548186506]}}, 'mat2': {'carrier-transport': {'elec_cond_300k_low_doping': [23.834146532762688, 56.71530089080449, 32.101793336109374, 37.36721070842157, 38.37013699659791, 77.58190174502536, 77.79082078573167, 76.39291738014106, 60.72875846892251, 77.17194120241079, 1.407934835984664, 28.78167401796348, 24.879393328601267, 1.6857747463597454, 57.67567223343005, 17.910852679670533, 50.22055864470149, 1.3024377906602345, 67.25943998287639, 1.2757963815565598, 32.21211176370019, 22.98301691725653, 19.047541347539507, 65.41862312298265, 27.72268098746771, 6.4381481197398625, 47.534547057194985, 20.779589210436942, 68.81288453366277, 9.147088450553483, 30.3080478597508, 66.38804313505146, 74.6959698756926, 2.437820593712841, 62.35121197156029, 72.21227977405856, 46.39317274732534, 11.497738714423672, 22.965210843905044, 31.325774456969405, 29.947232841427656, 51.065102673685274, 27.520488123085272, 34.512520588330545, 70.67998507572314, 32.85631269636705, 24.444742793530832, 64.50364930690348, 42.85090413283378, 52.7275053985227, 4.816300274892325, 1.0317319937352807, 58.22545456006938, 25.40478537583163, 10.564349166959275, 70.29590273612514, 46.11202099583406, 29.145585563306515, 39.936547948647885, 75.92011090351879, 61.687839688036, 75.3398348755065, 19.792075489782437, 32.28491900582056, 11.265856931817526, 11.795684143044838, 66.75049859446888, 56.74522648062514, 25.608481648075966, 57.01935419565485, 43.708045747878955, 41.844402775608906, 32.280348728485336, 23.354665259102152, 1.8444923153707984, 13.339317206380704, 57.627469358798955, 11.155725920756616, 16.17694974741503, 77.75212721156741, 46.526674573695225, 41.03341569621692, 64.54121721325836, 18.224814817197572, 70.65602666022936, 36.88293955225406, 72.96302259333069, 71.55671704413075, 65.45863100966542, 29.36494121583715, 11.101930741602768, 31.669066124424912, 60.34580064430561, 63.520408638651865, 48.710443795231036, 52.517682743317636, 24.02554442470026, 53.778721327685865, 32.834843448845795, 23.578005003225233, 48.6000343865346, 30.53145373778532, 42.128784216937085, 27.56780790573423, 34.89855712502512, 71.2667438951081, 62.60130604291465, 4.802975815405608, 31.989162394049792, 66.88961026474031, 70.4495831517418, 51.572904861833216, 56.95117534277102, 25.030277850475972, 6.252282419763178, 55.17414375578102, 24.052854060720676, 37.08710097809614, 64.75153316439666, 42.3912456683997, 18.467419838900017, 40.73557114634487, 22.800056407960632, 46.7261824398751, 4.155385243830351, 28.74504594950605, 72.67491528380523, 66.79803741346878, 73.7510677445945, 26.308011597944894, 38.84093768723715, 15.721098865077852, 41.92182648452569, 11.396240087551464, 62.909724331414374, 76.92469183629093, 39.34480046916626, 26.2782008060761, 63.670605668865235, 33.68824855625342, 43.465255818077594, 71.77347270819138, 22.40880600203808, 34.70587214859845, 26.17205173181982, 11.591773418376913, 11.51279244672369, 30.888963584726596, 38.84853734464629, 59.15282914021766, 46.66270493661625, 40.432168646768, 29.58950649211927, 51.34535972258736, 15.14299325755571, 49.22188121787356, 18.217226374554684, 13.474337998703273, 65.5152298485496, 72.79104360024918, 68.42359863621516, 57.54740743634842, 58.55347239980951, 4.377036665853487, 53.75962411432404, 43.46233121484207, 37.820736614607256, 27.282189218375557, 47.49608304597757, 22.603547410425094, 35.62034839540302, 38.03660343155322, 12.315986806605432, 35.906407950636066, 55.08588322336076, 37.664315125603444, 59.23625100469303, 49.964662560878246, 37.17175454998622, 39.83987948679887, 33.843890806504476], 'therm_cond_300k_low_doping': [1.9086094944686929, 1.0817958741980678, 1.8174675614560274, 0.6612064811489681, 0.3625414632315101, 0.8130221376767497, 1.1317309201945422, 1.491645441888394, 0.5905194356101817, 1.6586379642565015, 0.7010304440652951, 1.1042571907740606, 0.6772113863976756, 1.4596350748528377, 1.4436030448121082, 0.8390091663838404, 0.30233325909694236, 1.5191690356945307, 0.8499612877229882, 0.886428641419498, 0.17720149506009794, 1.3809182982111088, 1.0266115151523747, 1.4783912766509308, 1.5024969199100986, 0.2982329825314992, 1.119475292251136, 0.33611288741419204, 0.26734419318393415, 0.3542913156519601, 0.20152283506050023, 0.39480869032882243, 0.0991933468561508, 0.800243510387699, 1.4799601974463392, 0.8785984570398437, 1.0488221745300665, 0.16470281290764732, 1.1367446009787043, 1.7710045280700957, 1.158266679462158, 0.4145187633253183, 1.4354491724813978, 0.4012175075898638, 0.053043805360801236, 1.573292790378137, 1.5397573204153694, 1.4433177651326792, 1.3545672774171291, 0.9698575150394757, 1.4294982308744493, 0.7246367731623627, 1.382572778948953, 1.5643818161403777, 1.372032644189331, 1.3662199101847843, 1.5589279890141134, 1.4397145629434642, 1.8992257561041428, 0.05059804284598143, 0.25964477361914073, 1.9667086845054453, 1.4652186942718444, 1.4197374324672203, 0.5460639455839745, 1.0685407790423498, 1.74340804504008, 0.03187130833929814, 1.1220280246486243, 1.4963573802292536, 0.5880295876576632, 0.03696390220791113, 0.01736188183108563, 1.2794266282357398, 0.7429406791331391, 1.4643227793996672, 0.35822181526046115, 1.005887464515285, 1.29534793066067, 0.01712596219780176, 0.16393825416255034, 1.3162304287060613, 1.5203932241446578, 0.07343687440091871, 1.3478508516670955, 1.051689308793538, 0.5405590832366342, 0.25590950662616085, 0.4175698592165257, 0.16040477882389656, 1.4792090924449435, 1.218188554829343, 0.7928930108929179, 1.8989811014379758, 1.973298530992952, 0.8654922516463832, 1.9852894951323972, 1.1498338943288784, 1.6954072388930812, 1.369847971946337, 1.9227839984154842, 1.3511350587912763, 0.4657534140083625, 0.7398651707273247, 1.5899672215883025, 1.7475046935584877, 0.6903448680368917, 0.050126954669802874, 0.783053522318672, 0.7238695688735198, 0.5220864793204735, 1.4618147700573865, 1.0689033163880404, 1.4854532782997147, 0.7333597114269773, 1.3084081179419869, 0.361815815776633, 0.9450170587842203, 1.913405907028603, 1.783177997981197, 0.48526254517282225, 0.9881184514440394, 1.7390594469445009, 1.091726026376737, 0.0005842248678195058, 1.3868558521590009, 0.5756807787400023, 0.36389742147538706, 1.1485921457939814, 1.1470428343659258, 0.2991263906462131, 1.9067261439470395, 0.7020639264129949, 1.305054084888173, 0.8148401520322907, 1.6608421348904716, 1.8820974888940258, 0.8526134327101486, 1.322766895199932, 1.460280640904914, 1.264807756743884, 1.398967315927374, 1.1490853694414296, 0.9889409874759184, 0.3857325654693817, 0.6397814707182583, 1.0820820460519913, 1.3068672521461757, 0.9005988883598077, 1.227227754075246, 1.3156365757380906, 0.6377380266496986, 1.3051309819435848, 0.808551650893911, 0.9478751869287111, 1.2862543419391432, 0.5640931822929852, 0.9757183910480716, 1.6804677120445062, 1.630758513964392, 1.3035542417692096, 0.6498093814365609, 0.5167166602004865, 1.5030970471832588, 1.876922136586929, 0.7044434857112061, 0.2128879386777855, 0.5121490340707555, 1.8679571826540908, 1.8944597520636044, 1.4843466872404851, 1.4991413590467992, 1.4016237443336454, 0.0696336135294661, 1.1610156681877408, 0.3013610300469633, 0.16182472170019016, 1.5635750740563397, 0.7313256479252745, 0.26848256226490824, 0.09317825861469402]}, 'elastic': {'bulk_modulus': [207.8131201997394, 168.34054379758607, 372.41644538675314, 313.35554977862245, 392.9597737536596, 355.7209783227558, 303.84156929381146, 83.49467015875004, 392.8185844794467, 348.7321484782182, 199.79422417514314, 362.14195885567045, 368.7658293498513, 325.4478361507838, 334.55055388737435, 283.15420052772015, 285.2233571106287, 276.0657095692317, 281.288829823433, 158.11827977779848, 64.71644856787562, 337.0950415314807, 156.41186730451722, 38.412990148419865, 377.3573338794313, 78.57498988326206, 304.88660053986644, 390.72081655201146, 292.4790313239983, 178.57983447706692, 78.72374185378905, 314.16278222536596, 61.85242321676171, 39.32450585657402, 68.28242123935227, 321.72861607459316, 304.2049742313872, 396.8342874397631, 265.0324098871878, 197.6921592620599, 353.6861022697771, 337.3746289975779, 49.66557533460315, 142.43538907943258, 249.1204634501885, 166.6868023901975, 140.70900933318399, 317.98527481269826, 53.15464080711149, 302.4999860323459, 138.52993200417893, 263.92557977283747, 353.62410995478257, 57.43898451433073, 323.19278730726995, 328.4042771846942, 321.0300887906574, 323.12442631117057, 170.1688220619722, 271.3007937225841, 377.5534480669239, 172.5034730740802, 95.11505721608775, 79.6992042607682, 58.86002514701306, 150.2097159684056, 290.985565290085, 377.2384947561035, 236.78576540445198, 187.16245290849284, 78.55245570637292, 103.38266534524281, 351.4301549410715, 223.79331557355684, 286.4997505497528, 28.871531967502946, 125.30812609763895, 21.49277884826133, 316.20550594705315, 137.6760939625978, 285.3072415548554, 129.402275413008, 195.9216043583748, 54.25112292950723, 274.99441593876327, 180.10917426585024, 256.1725522027972, 206.90729039443013, 79.33092264553304, 201.1850504798487, 197.64373447732714, 91.83803695375879, 82.8198467774271, 104.90945325595628, 27.027324597302943, 77.62894199168781, 206.95604775274012, 393.21560555494756, 140.11607469081292, 203.14934340546088, 252.6157934428586, 193.4860120591672, 33.91271422606969, 213.9063066316288, 172.90130942269568, 262.085382136642, 391.3846387763105, 258.1549692607124, 228.015746379915, 185.5518077585938, 33.582850324702484, 24.002683413091262, 289.28531819627204, 92.63936125632158, 205.0726149322398, 379.44634160753645, 187.29888982930584, 375.4450598812929, 135.11712612032073, 135.55750702060863, 122.41919842203461, 299.04592695560996, 240.6576917828744, 246.88868800063062, 368.0898234994658, 96.69447532583797, 309.89649547598367, 127.41584828758748, 299.16421776064186, 389.6129613661809, 26.139639863649105, 362.0219236917698, 152.4743078656793, 123.79679419646052, 121.07781699781881, 84.30326546004372, 104.15170423159984, 149.84425383450895, 179.2746238982177, 98.5608865877839, 235.46858757646916, 180.71089940631023, 336.1261735346307, 357.0248248976802, 179.85460567010813, 62.63267726396759, 321.1247998509633, 38.08361820339969, 56.96533657420964, 121.14091446391987, 302.820207223642, 367.3822249974882, 330.09725334335565, 150.8792971456565, 307.13734829525373, 360.3784801005153, 108.71129262079087, 219.05531872440392, 355.7499806660683, 107.18485587997603, 91.49455049730152, 276.6053490972372, 359.5416744879937, 181.37246541551508, 42.913239289271296, 369.7041515108692, 352.81539183186794, 58.72765171631856, 220.66213425166333, 21.865215087451386, 342.43809099587133, 47.38331881467006, 298.74677175612425, 350.68542361349057, 35.65756599543657, 76.14352905435149, 301.48571414404546, 399.80608118172734, 23.002552159191286, 175.28905694531574, 298.3522924239134], 'shear_modulus': [157.93185171130074, 138.2682317015083, 174.17760415747608, 111.1192855456984, 132.770611567052, 143.36109932553273, 132.4928270911454, 104.75628471887798, 158.56007618817958, 137.5265069361647, 167.02895277424835, 191.61106846536381, 139.36641599642502, 181.73359721562724, 111.123579981058, 173.40703557974172, 188.79442209798538, 140.47284656155495, 120.5441988603109, 153.8824039102003, 141.61322100392636, 111.86947759069618, 102.83432071527639, 116.56306729465015, 108.26828577998823, 151.48467581174467, 198.34728332974754, 187.2041123794163, 139.90531197919023, 179.32266220752052, 160.8647814968602, 186.75216048730738, 113.42808737935658, 136.67230794136105, 171.63815869284974, 187.78714100639223, 164.44178248328228, 136.59265930289436, 185.7612715001689, 128.59463545843295, 132.53474906475512, 179.97328568936314, 159.8254138795297, 106.99855084491774, 129.00015983634256, 119.63501120423965, 164.81238638466164, 112.36444454578735, 146.2146780865091, 162.92146935364266, 197.7628644792403, 134.8317346153654, 180.93564974468978, 177.94027405608597, 113.37194513857611, 120.8464965372915, 115.7956909905087, 137.87525883674323, 166.79204405478026, 104.31048589020627, 110.93908124623594, 177.20101039882175, 129.63795402366824, 194.33337508283142, 153.38914775478455, 159.55788002245814, 185.3087932268885, 110.1302301637938, 176.34344625372597, 150.41576637157004, 112.47900885865388, 164.04094862377934, 165.38822866295533, 196.23384040654503, 175.05704232136168, 141.4262551754503, 101.8040310991371, 173.03257136372082, 118.65507669090596, 170.32491609028438, 126.04801582276004, 139.29086057708162, 130.10130431266347, 108.59049702007182, 107.40972106469519, 172.8864740172756, 169.93135906973674, 171.09626507623219, 151.89656874225113, 186.9638317614988, 160.87875862821932, 193.59508438425, 197.14729449628288, 129.9533035596331, 103.3760221406899, 115.22530156937833, 152.2121339708503, 124.97586916212938, 179.51182727225836, 136.65943530834738, 168.53423622338047, 179.9400724350694, 172.0406849565545, 135.16233212293312, 168.90227422221562, 111.99726977732658, 152.98386066526814, 190.1286894541355, 172.47757472112625, 112.0821515567601, 164.33566433549748, 113.83629839045841, 140.5574651258868, 105.70399411279774, 137.30339261663073, 107.07575401739359, 113.82508155702838, 140.82389432938828, 198.22384690201727, 163.0980036603649, 190.2313189582763, 152.85416821867116, 185.28681465018417, 139.73119045216794, 158.96154625077583, 161.53847718563935, 151.89685112210014, 152.41577533571416, 154.4777133213859, 110.76528607160392, 141.34126154463087, 146.63462180783867, 140.3717089695116, 151.05709468064492, 109.1736602244401, 147.0712228258502, 109.10923756179326, 121.72055654780375, 130.22940752253285, 191.2414679176484, 187.72762218579942, 151.21012483690419, 180.39897133807585, 144.59667540791577, 144.402517615504, 114.62109746447314, 156.39710616449187, 167.03571962953345, 199.63287848157802, 109.3068523116642, 180.43424917617293, 180.41610545480575, 158.01809634909472, 181.53813269022874, 168.35273060689445, 112.96024614351781, 118.88241424741184, 191.7693226432919, 121.23454699434703, 136.9115931325264, 164.46994721977086, 149.01254734416682, 122.23662302554018, 186.54744525296584, 132.30930019840525, 194.0624757970178, 147.67785975361193, 155.0126737377818, 188.82464912892996, 166.78811019081053, 167.91347039304566, 148.4046347266753, 133.49358935397268, 197.50766788668216, 163.5025728484599, 128.71853906650983, 176.1312995748217, 115.0613107922727, 108.79621389747865, 110.55851999912107, 168.3734939772189], 'universal_anisotropy': [1.7130931610483353, 2.132059515556543, 1.654275342326226, 1.8405099383138817, 1.879357040863201, 1.9306374268134443, 2.034744512740982, 1.849240695438715, 1.485198639503069, 1.7487845979461882, 1.6439137230552707, 2.216562690053886, 1.6362740063135774, 2.2763900015449545, 2.021593945588447, 1.723641056687675, 1.4766964505194546, 1.9385076384929705, 1.6200847597722643, 1.58209113495984, 1.7215630764981362, 1.538366805627202, 1.5513537273284583, 2.0986715051339155, 2.0347150319127465, 2.0233393071989045, 1.7641016987864284, 1.842652309017939, 1.6537542278392567, 2.1531985734834986, 1.5728030741882761, 1.357988200708069, 1.3120489891413445, 1.4296467437583604, 1.7394939505489435, 1.9023987554445105, 1.497026558787183, 1.4281702832471217, 2.2242521696211672, 2.1198237302843728, 1.82642299590951, 1.561279477521596, 1.8919121927847542, 1.8594068337442586, 2.03027127849929, 1.7871814840018665, 1.695331201823981, 2.144710670645746, 2.1459192415607906, 1.823790641550034, 1.951433017809678, 1.4720935998145903, 1.9840872809516634, 1.7492024629111826, 1.5957319449631033, 2.0534711670970833, 1.6786806976819988, 1.4178015542948814, 1.5194727009354967, 2.096515419351362, 2.2991183178442562, 2.060897501752793, 2.179626866878177, 2.0768684754683746, 1.841700642933998, 1.5672328438830279, 2.051520287015883, 1.895250398841017, 2.054916196426503, 1.522189028207148, 1.7985927795173349, 1.8984318833612086, 1.7279012885079834, 1.746231751180976, 2.000950791434512, 2.2979984376949365, 2.0930587911550953, 1.8861701374130178, 1.592384436766823, 2.2940422128201057, 1.7535661918709362, 2.2088145382518265, 1.7486308571761047, 1.8333697133284246, 1.6865449889397859, 1.5521349019077948, 1.7259952968336996, 1.5423541812678174, 1.5254149531526093, 2.1760350262966917, 2.1894731470130537, 1.398033025619822, 2.2927343241878564, 1.5584427195920811, 1.7836245622328748, 2.186808853643639, 1.5717276398512785, 2.004300354586335, 2.259374731401525, 1.4097047857522274, 1.4784887404084053, 1.7787167327886058, 2.1839801393247855, 2.15399538661426, 1.8616566971368553, 1.4915570187327838, 1.3557434898802632, 2.0431690946561822, 2.051318936199119, 1.6267170113850802, 1.473692295863473, 1.6455944742061683, 1.3808235101860813, 1.9292261357105978, 1.3579625626680951, 1.802613981523026, 1.439855937803376, 2.1941004035291676, 1.9209549105529247, 2.174736682345995, 2.0192317297191678, 1.8687413596347335, 1.5488093350406833, 1.4965447940005272, 1.577291412841558, 1.8715055271333787, 1.3096277778073466, 1.6746421795942164, 1.43364278216454, 1.3088333591421162, 2.20536422171875, 2.0063803188711824, 2.2975215983069304, 1.5069848338092942, 1.4507371404192817, 1.5928211122134677, 1.50461448493333, 2.0352802093926736, 1.5982677400985976, 2.064633831289859, 1.8636735271265537, 1.6765336849196233, 2.2490053411950788, 2.222279022533006, 1.6943835034595618, 1.978989462504042, 2.0306942317251657, 2.196258801294505, 1.8343532631103565, 1.7916249783144678, 1.5660294429044603, 1.923704126637967, 2.2107512590243585, 1.570812877674022, 1.5422994655190485, 2.2262004529394974, 2.2163011978329346, 1.308281129949303, 1.5300946496621681, 1.6714179726472482, 1.3703006695909246, 2.1951344606187875, 2.222320604094137, 1.9611799325303538, 2.2807039261629516, 1.4365973728605477, 1.9294140407386826, 2.044719785463321, 1.743268950942352, 2.1425898746613496, 1.9181267250624634, 1.65426529876426, 1.5370069519405873, 2.0588059225898943, 1.718095730995163, 2.07851783161533, 1.9543487616215602, 1.8343125705104966, 1.8646613797929645, 1.9555129298060834, 1.5930225977628034]}}, 'mat3': {'carrier-transport': {'elec_cond_300k_low_doping': [5.1760065310816294, 42.70773862138866, 32.49782065877257, 13.871785527783082, 19.582305886062997, 17.15858988815753, 43.277287957987824, 55.54463495938709, 23.63602447865033, 60.347913657163886, 51.09313038767226, 59.20340572294404, 24.136204281715628, 44.90828099475789, 67.62522492538028, 41.678387962713266, 76.95256041294506, 20.71336045473221, 13.791723612339256, 63.3367262221057, 71.03781127434294, 10.364514727508277, 3.695191773997405, 77.66156875474691, 22.05900829281312, 37.95660967478437, 40.23822442097047, 55.3666620789966, 26.472369331608775, 43.850633297577346, 35.11953450042803, 51.777239175207484, 19.87825315349503, 10.28007702286705, 72.84234490655719, 28.448723678869673, 69.52483013894377, 22.54858207662443, 40.916410153508984, 15.413179641371016, 19.325957462450198, 40.35907320998792, 36.52108705361416, 21.372002312597246, 27.097316102990746, 29.3621970760381, 55.39519760763586, 45.25827979256465, 29.157205630654268, 69.77402214598301, 40.63753474216848, 20.739024932221202, 17.434085267417014, 38.48553639950279, 61.32504334124315, 44.04962487859688, 45.66621981158213, 17.075925573676187, 13.862522489154006, 52.69091475719694, 59.525089549816336, 75.01196019386002, 11.207386502508776, 39.5496013619047, 38.58039464732395, 38.203654526252194, 19.00078454957296, 39.39050000210026, 60.9297434403916, 39.31896452084916, 18.132645942360252, 62.65092489773181, 16.80180666438848, 18.34607808943268, 33.77235335135536, 74.29511571190675, 57.028745107231096, 68.63862191535658, 9.205666597504296, 73.3087800126665, 26.62973584381019, 53.613587963183605, 14.012510144388452, 23.10267201381198, 10.681600016404062, 74.23235514014362, 46.939013634347404, 39.114413221978545, 54.56585307687793, 70.81102299995285, 28.295406387431957, 55.13440808242673, 66.28567904094226, 54.42031667580515, 49.03289726432974, 6.989647993536093, 18.77713021147706, 0.47829265036868807, 21.41787032053125, 34.12271230715233, 49.57686859452568, 23.888610164861944, 10.452884823358499, 60.48790926011002, 26.673529417383918, 4.72939368519081, 29.877797721074423, 40.54652993200313, 42.674464850270574, 7.369695043673281, 10.863438447653348, 43.043784067881326, 66.03084650256751, 44.71285635052095, 73.02374318836225, 0.5560140953746612, 35.3121473101979, 27.887266845470798, 66.4968846971347, 25.436814404032674, 64.81294512724313, 47.12372356512094, 9.043130762807118, 60.03203750988594, 45.81707024361649, 69.71295740286273, 9.937802513313073, 40.49241720585093, 23.550637550524268, 57.92483264872279, 46.10974664336634, 8.707566158291415, 76.31846343003814, 9.712617480954941, 28.14317496101711, 54.434558693887766, 3.29804810629932, 2.9314843699663053, 58.00612591681964, 0.9376165018006978, 3.4996136751508007, 56.52554843350804, 67.89295713932108, 15.573272266946503, 72.97092647091857, 17.965883356110282, 44.28361369106902, 58.845842043409654, 27.678505099490604, 63.75524495166742, 0.51161026945072, 29.182006150022268, 76.9699441370117, 72.73562128411425, 15.003380390730156, 22.478033292074134, 28.87473159289073, 10.000730687153744, 67.6020205118785, 52.30506161534782, 35.85324053276123, 14.94898181566585, 48.995842300430596, 75.95835729349791, 42.08527588918068, 41.579002541862664, 73.76167703349691, 28.247099498205202, 71.59457031857947, 72.88777293496796, 44.83248207512437, 32.180690833772424, 40.87060853977928, 77.29635445621518, 58.515744066850075, 35.18374383447443, 72.69544539781545, 18.265520737429654, 12.547055619318774, 65.9189487877503, 67.79598503174148], 'therm_cond_300k_low_doping': [1.3167980391230076, 1.386999276215571, 0.7428599319143061, 0.8617570388097627, 1.1894083819628427, 1.6486863760011647, 1.3716882834616584, 1.8376631050444483, 0.6137892860830942, 0.25957876690633663, 1.2653796497572147, 1.840937242182813, 0.8581060470618685, 0.5437165179002327, 0.6024223850399962, 1.7662787911936626, 1.8983810982907368, 0.8372887146433675, 0.5186745289509646, 0.389094971701133, 0.04472226162412068, 1.6218786304878943, 0.9192278248401116, 0.7347412255601269, 1.9382035976556073, 1.7705400376158806, 0.8499471975182062, 1.539106546850848, 0.569597541223857, 0.37365598130835376, 1.7185541420989907, 0.1657925666508731, 1.6047906264744125, 1.3958285074702625, 0.1365335482965286, 1.2940935608273223, 0.048688663258181206, 0.48256603034955137, 1.2810426222330191, 1.0969339292309033, 0.25743616667885805, 0.40006049472723837, 1.5629675526704154, 1.7002183549712868, 1.4881304000771323, 1.7517523311512284, 1.1619130219620897, 0.3167161026178319, 1.090890103878005, 0.5409348614730547, 0.9382175097239882, 0.29250805563372817, 0.6701625581405457, 0.8864552548465181, 0.10376434803941417, 1.9529955804600194, 0.6980484591402472, 0.6088111722279693, 0.7134049266294775, 1.8777400750231021, 1.668937171824061, 0.503257471522305, 1.6999349646121806, 0.054155983372511665, 1.886988448496046, 0.975134897823013, 1.128559066930566, 0.39485788908012615, 1.3007867851996944, 0.4233744427082498, 0.6855583458775579, 0.21118284957065686, 0.4765627561933972, 0.17951290895265165, 0.8184377550952656, 0.24270634756246992, 0.5791783533012954, 1.3759313238457112, 0.6116090545527612, 1.583135897519739, 0.7995908952058579, 1.9534508887292827, 1.3973956857239829, 1.6475875032776492, 1.7585932091014624, 1.6277009295537486, 1.0455144478427878, 1.7765484987119802, 1.8890814536697123, 1.0125206542776541, 0.5163056182237457, 1.0023070068309514, 1.7147040329575831, 1.5047578406445479, 0.18469002813143567, 1.594439403777353, 1.8562044494100172, 0.6708011874673202, 1.1575783722212336, 0.5517207469829659, 0.9701465066301719, 0.02214859389941038, 0.6611396787942867, 1.9250243822975104, 0.6107727489704473, 1.250616297138129, 1.403321085155531, 1.0005801820648306, 0.41583687929994934, 0.28799987785651887, 1.0592215189832683, 0.7147362926620127, 1.4450075887186253, 0.1641385586690762, 0.6176106145041781, 0.968932030539272, 0.012868058082618155, 0.5899525319555317, 0.7479547046218129, 0.29672809303756453, 0.45855097775052045, 0.8176458062314703, 1.269454158042832, 1.3915552481454663, 0.7976105235960882, 1.229233222416693, 1.120582958072557, 0.8530081592409016, 1.7739832429015967, 0.6015851994951495, 1.4481889732176234, 1.9525673937918646, 0.9949799067153549, 0.15590160256147423, 0.8490455097842099, 0.8225212671192288, 1.0901187618366226, 1.9810179206264489, 0.5221837897056301, 0.4328618863924107, 1.387200345194315, 0.824511711597822, 1.111378162092361, 0.3510895494207633, 1.7880175027345193, 1.0585464281776913, 0.6909701658412288, 0.22076972371716874, 0.41143430219009636, 1.80886506073233, 0.9654249976260776, 1.3308575462373693, 1.2711538779637426, 1.1324163664866906, 0.3245357193765351, 0.035287077593805984, 0.9544885060263621, 1.7018478459986381, 0.14191145771662256, 0.9071631987679983, 0.8105586125315395, 0.7321460589117343, 1.9264774966226679, 0.735044429917732, 1.9489797173178576, 1.1236400528574901, 1.3631414203039298, 1.5458255203093876, 1.1733979812757804, 1.655098938097877, 0.4000168952211753, 0.22280456076343366, 0.7018942783296155, 1.4733777321599373, 0.47870345851231155, 1.4064210416163512, 1.266724856022304, 1.0630892624012331, 1.02466949767582, 1.3675113015392613, 0.894108769790474]}, 'elastic': {'bulk_modulus': [126.83795758676064, 141.36824478990903, 160.67575162032122, 114.67472424380674, 292.10463356557676, 131.33787051471737, 37.33537107633169, 263.4679451700564, 130.52621247992334, 106.17097536045863, 270.66751086209445, 278.1976368200715, 296.77797649876015, 203.53300567413095, 64.09876301451331, 67.7934393167038, 144.12003904408948, 255.80717777419017, 210.36192934193667, 266.51520157343555, 225.81621932236538, 34.51700859984588, 288.5599843383365, 269.61905066640736, 284.35876698530825, 238.77134572671142, 222.21162304127128, 61.3362447882923, 263.0537681597051, 193.53118884750074, 291.31362166862823, 192.5906330878704, 293.0698991842561, 194.64664987305287, 295.6118798431037, 71.63470083856014, 145.22510376428747, 53.04876232334124, 201.95005055923667, 26.28778153819621, 161.63412104729818, 98.98616333356728, 247.5875547992963, 52.5677181434491, 252.93184113862517, 171.77237172930745, 80.36426451429287, 116.11541247420216, 43.53193879762976, 88.10579695470035, 87.08297042074645, 93.55041362726658, 168.4277015595389, 121.14307579613995, 87.7603373422407, 290.87403656686035, 180.4724806908554, 138.32865617031263, 65.65070549424146, 185.28486341374048, 70.8636711129245, 182.7279632499741, 239.80987704482433, 216.5480057476754, 95.43093828946468, 123.19498137042008, 229.93239449329053, 262.81023884653206, 202.16679642697565, 105.17467289326565, 46.21813160139979, 22.649562488776482, 46.30084722828525, 197.19021536247345, 220.48553484887296, 159.1918226951267, 109.41838215636568, 98.70200456681327, 229.15561237286283, 145.27369600588824, 138.01996613949657, 92.53389009817504, 247.04299367927865, 142.12751068932113, 280.87539412696935, 181.68952540410086, 129.79967795583792, 124.09726783666483, 297.8282650625342, 61.76413738261516, 253.89924596697062, 149.22256406132664, 256.51198103410644, 141.21269500507532, 165.12762541306856, 94.5796238050468, 178.2956095972613, 60.62915641617703, 152.93036766966478, 86.84179027789756, 23.60290430910176, 262.1680343945019, 200.21228205086746, 288.60714170699816, 298.4867078956327, 181.97403243157345, 98.91947601411597, 268.87108575823754, 243.5079855001345, 37.607298946782464, 50.07091681062866, 202.17291143079055, 245.53070104360225, 220.66604032976363, 100.9071139007817, 160.0527233305467, 98.56662970579124, 274.0765887180725, 285.78855307001703, 111.10682250939809, 282.12587717475134, 236.92538230309023, 38.27131071040548, 62.97818169399963, 298.02213133576237, 294.64718332859576, 116.53775402519044, 296.6137789060524, 202.6701062919192, 59.69173280123941, 271.5717040593093, 104.73521832929268, 192.93755137961037, 295.88611338536447, 78.88994155259965, 128.13144515955076, 150.71650012342482, 186.68118994583293, 296.2715279845366, 90.39250590073434, 289.8316688602682, 120.88246370213625, 276.79618137050545, 298.6995567632111, 169.98630485836958, 187.77268725926305, 268.0301812984161, 20.093215025862122, 257.5856998169803, 272.7664561181574, 255.1490420033635, 147.27769861047503, 283.09306370270843, 240.54906970596997, 85.20931736330617, 109.3728004384303, 137.04894126117455, 88.83579170450244, 225.6671055322165, 276.91115155845256, 160.56817563794354, 200.5404557329652, 275.19796390153573, 276.5229368006112, 145.81382053065826, 287.2204616389237, 186.35653966558806, 263.34398405899964, 111.37590398478218, 255.55528485358178, 194.620596643428, 129.27524723464748, 226.2183694201686, 226.91044039287215, 121.72799094194939, 200.65397362722186, 181.82513858983506, 218.4267569455695, 166.5720129757231, 88.45271239683848, 127.77578598636072], 'shear_modulus': [184.41633674686375, 241.00376030935163, 112.27688355031572, 177.4388859056182, 113.64331280549793, 229.66266860564218, 224.17314395340907, 262.5058167334025, 288.5469802425523, 281.0316612165458, 288.9494720189392, 259.6863050681907, 208.900812709043, 233.389386631492, 182.39370518867042, 123.00737092742047, 130.33153364570853, 170.49138002695742, 109.34361790084918, 207.65154469330054, 119.12350212467547, 270.6047669947242, 271.226883139801, 178.85974232078325, 219.42423734961724, 107.54798821640324, 190.90444991905565, 297.63153376206014, 227.7117203943725, 163.04085151376927, 166.49723213890255, 192.13609006298435, 246.0948131355008, 235.91409636249176, 184.39226901132258, 167.55988373169382, 139.0833738043634, 106.57434678733549, 225.73705478291083, 148.70116618195345, 103.8943514148605, 248.21043224915513, 121.71278826447387, 142.0457664365252, 253.25291852038785, 291.2355186771012, 253.9496807456213, 266.4309354622237, 207.12102814013875, 294.84531180743386, 260.1376825835514, 278.373268119167, 164.92851427084676, 155.90498203294163, 216.43021623922056, 198.2949419709753, 100.98810138869774, 153.94690101006813, 225.03831470261173, 227.6175470937432, 184.27251723772292, 293.17582543238166, 193.36433783410112, 264.65097936810866, 200.830421935129, 102.4909027419969, 244.14376337768994, 102.7918826973658, 291.4504699090411, 293.04818114755176, 209.3109241512985, 281.622117904731, 108.82256343494683, 293.18220507890277, 104.60848908388071, 139.03356711874557, 151.8683753113993, 162.61979944027166, 151.3336737689268, 223.2222911837456, 104.70212611234263, 274.5681007054836, 272.8901532540174, 228.27827943744933, 185.784547575241, 130.29294419955133, 199.31065047519607, 197.7090181176821, 143.29522642588412, 112.60444399545042, 281.14782714728057, 276.9066208682709, 287.6608947833806, 295.4098340432252, 290.62009608566814, 147.18798971890863, 192.4435972995131, 132.26934303023722, 148.21799061694065, 276.10238439783194, 193.74516380253417, 138.42919748221897, 118.31745161544231, 147.52789867434, 234.70976317501854, 200.73928454846055, 145.33337843877678, 208.5493140112892, 236.11273360298782, 213.17983149765837, 263.0713809660249, 237.27821259169403, 221.3418587982072, 265.1805366501111, 190.55142033466697, 101.9069886633541, 122.69186987964136, 215.43855078247628, 264.7231053510638, 294.03227177795236, 142.53148915316305, 103.32854781072794, 225.6723494842451, 126.62624542954812, 201.77936093339437, 288.6475454735647, 213.91162859260027, 103.80177120761948, 281.47261998386716, 272.43383029033623, 186.7597870099649, 104.65867941593831, 281.49439032127844, 265.06591190131246, 122.57059484221293, 233.5887429996349, 196.25649634563015, 128.44516840251708, 148.63706181848946, 201.08937315994126, 141.9408970695444, 191.03296509159205, 145.7434574498698, 126.69512816539883, 227.4435556190628, 222.2790965227345, 289.07445227920584, 144.8142063088144, 130.7126548979377, 151.4531664246512, 253.63362376904712, 286.06549971183694, 193.04226210008358, 280.1257370573898, 136.88909964604085, 268.8137738378408, 241.2815642621409, 224.31780928926122, 275.63639909208257, 114.70826068443718, 244.87731031303457, 267.15799113380916, 276.04118649653594, 217.86156990244683, 125.61219508585111, 266.5836527563305, 150.15615188321587, 152.5431739418721, 261.3965875929239, 250.48172204705523, 239.3514042794332, 111.416069746587, 144.38277490267635, 270.21871054584074, 173.56706541933886, 234.3083407672931, 291.1576678616239, 131.40751451009208, 255.76130813562258, 112.24669371022078, 150.1042837340767], 'universal_anisotropy': [1.5692225141591232, 1.966391857630673, 1.8955257796888059, 1.2045221185310606, 1.5000508325077824, 1.861309718919195, 1.477741366856505, 1.5342881566655997, 2.0096382232713337, 1.8721360106480254, 2.050165780915784, 1.5487189195127278, 1.8743380656795, 1.7330323853484433, 1.9731034291652825, 1.8371468295700946, 1.6848910298849762, 1.6824991278974588, 1.4077016093239032, 1.5944069712259166, 1.7030135023320245, 1.0420743501833358, 1.4616995411323819, 2.041341852439641, 1.3982082139713587, 1.8576533261035824, 1.7278914261119367, 1.497718598597763, 1.1084239925278745, 1.5108863306832219, 0.9557593584509508, 1.0065516521469229, 1.6282458633291124, 0.9051389022552274, 1.8207829230352202, 1.4806717717880922, 1.9333418940499798, 1.7112826303773803, 1.2342868499630957, 2.074943629807383, 1.7730102356238944, 1.1623263450239554, 1.7797556090842144, 1.3652929544439574, 1.7414374406673074, 1.2119388716124395, 1.1340575209331032, 1.7408053558466965, 1.6371912288459494, 1.3650006467644316, 1.9378118318974202, 1.2723375357359576, 1.641678120195945, 1.9473242078479358, 1.0101647602104444, 1.0488063919100885, 0.9670471837268863, 1.1234802584896337, 1.6252486503587238, 1.0724901517391299, 2.096853121206921, 1.792100107188535, 1.3158744018194815, 1.4998292818284282, 1.9121974042987335, 1.5026480898409948, 1.7742584639520178, 1.613634945122817, 1.327887494140675, 1.7989878578356833, 1.6551415523105586, 0.9108940846457335, 1.230736914526492, 1.4817158248515763, 2.075965074631064, 1.138974770915454, 1.3309456827956938, 1.5786699722306885, 1.3028140995561064, 1.8911727030404049, 0.9848770994354745, 1.4977782444879821, 0.9405796053597595, 1.1543382604742973, 0.996541404768571, 1.3831864380942283, 1.5113325275703047, 1.886101965176454, 1.743507832102103, 1.632713804479006, 1.874993754076431, 1.2831484372679567, 1.4726077208248038, 1.9815052871983005, 1.7571874315887746, 1.5484773282847175, 0.9039343098798123, 1.2787827564758354, 1.8562770894642528, 1.7424445443076446, 1.4496190124460417, 1.9224159927601319, 1.2306933182082902, 1.9888928655757883, 1.0638960782564075, 1.6129763743177623, 1.8890792921138204, 1.0058311690074369, 1.6516225810167158, 1.7408265369029803, 1.6381745767519438, 1.9835453408351365, 2.0163920218426203, 1.174064627339507, 1.4089956356463464, 1.978465625466562, 2.0378373831793533, 2.0297020237103416, 1.645080743546985, 1.7868913958571309, 1.0027386310064244, 1.8995704941558003, 1.1711823746605212, 1.0024046789726304, 1.4398790647682627, 1.0729080710545464, 1.2613138943367967, 1.748224286023785, 1.1527895498604899, 1.0459875361770958, 1.1934939391819233, 1.5270733664140064, 1.5613664708861341, 1.131430171039367, 1.866723024322308, 0.9196713107013587, 0.9380625520705524, 1.3013796931823325, 1.037912477655166, 1.0901484933305994, 1.8696751235705287, 1.3932629904920724, 1.442114499525279, 1.0844267674715133, 1.5141538432403006, 1.922402072530672, 2.011378785156562, 1.1510746243691399, 1.8400022172221688, 1.3722668778309823, 1.1775803894572119, 1.1134832506468149, 1.3812288716477128, 1.8856962092071532, 1.9058229289019657, 1.196533256315551, 1.850593130441602, 1.7982135270936386, 1.0564848505427265, 1.756047984871405, 1.5035190859610845, 1.4647660574554124, 1.640841310626451, 0.9433643156820952, 1.7353932272671742, 0.9082483132873387, 2.0609819355442474, 1.907079543525608, 1.113887169283648, 1.9115716835778325, 2.0700458352139806, 1.0486994070066193, 1.409837573699284, 1.1336111964647526, 1.071915773927231, 1.9061854172585297, 2.080283408730745, 1.407224319217784, 1.5600286944244814, 1.5923651901510978, 1.4617734862268077]}}}\n",
      "keys of best_designs_dict: dict_keys(['mat1', 'mat2', 'mat3'])\n",
      "keys of best_designs_dict['mat1']: dict_keys(['carrier-transport', 'elastic'])\n",
      "overall_bounds_dict: {'elec_cond_300k_low_doping': {'upper_bound': 78.0, 'lower_bound': 1e-07}, 'therm_cond_300k_low_doping': {'upper_bound': 2.0, 'lower_bound': 1e-07}, 'bulk_modulus': {'upper_bound': 400.0, 'lower_bound': 20.0}, 'shear_modulus': {'upper_bound': 300.0, 'lower_bound': 80.0}, 'universal_anisotropy': {'upper_bound': 2.3, 'lower_bound': 0.9}}\n",
      "Initial query: {'bulk_modulus': (20.0, 400.0), 'shear_modulus': (80.0, 300.0), 'universal_anisotropy': (0.9, 2.3)}\n",
      "Fields: ['material_id', 'formula_pretty', 'bulk_modulus', 'shear_modulus', 'universal_anisotropy']\n"
     ]
    },
    {
     "data": {
      "application/vnd.jupyter.widget-view+json": {
       "model_id": "3af9cbeaa586468e8f36bb1f5c58a99b",
       "version_major": 2,
       "version_minor": 0
      },
      "text/plain": [
       "Retrieving SummaryDoc documents:   0%|          | 0/251 [00:00<?, ?it/s]"
      ]
     },
     "metadata": {},
     "output_type": "display_data"
    },
    {
     "name": "stdout",
     "output_type": "stream",
     "text": [
      "Initialized result_dict: {'material_id': [], 'formula_pretty': [], 'elec_cond_300k_low_doping': [], 'therm_cond_300k_low_doping': [], 'bulk_modulus_voigt': [], 'shear_modulus_voigt': [], 'universal_anisotropy': []}\n",
      "Length of material_id: 251\n",
      "Length of formula_pretty: 251\n",
      "Length of elec_cond_300k_low_doping: 0\n",
      "Length of therm_cond_300k_low_doping: 0\n",
      "Length of bulk_modulus_voigt: 251\n",
      "Length of shear_modulus_voigt: 251\n",
      "Length of universal_anisotropy: 251\n",
      "Length of material_id after sorting: 251\n",
      "Final Length of material_id: 251\n",
      "Final Length of formula_pretty: 251\n",
      "Final Length of elec_cond_300k_low_doping: 251\n",
      "Final Length of therm_cond_300k_low_doping: 251\n",
      "Final Length of bulk_modulus_voigt: 251\n",
      "Final Length of shear_modulus_voigt: 251\n",
      "Final Length of universal_anisotropy: 251\n",
      "Keys of result_dict: dict_keys(['material_id', 'formula_pretty', 'elec_cond_300k_low_doping', 'therm_cond_300k_low_doping', 'bulk_modulus_voigt', 'shear_modulus_voigt', 'universal_anisotropy'])\n",
      "result_dict['material_id'] = [MPID(mp-867319), MPID(mp-867330), MPID(mp-684591), MPID(mp-752826), MPID(mp-16514), MPID(mp-632442), MPID(mp-16613), MPID(mp-944), MPID(mp-10883), MPID(mp-3098), MPID(mp-3748), MPID(mp-8039), MPID(mp-2658), MPID(mp-22793), MPID(mp-1019508), MPID(mp-1008556), MPID(mp-625054), MPID(mp-13178), MPID(mp-1330), MPID(mp-1700), MPID(mp-1487), MPID(mp-603719), MPID(mp-676861), MPID(mp-1018166), MPID(mp-1008530), MPID(mp-11696), MPID(mp-1001602), MPID(mp-534), MPID(mp-1008525), MPID(mp-1008526), MPID(mp-2850), MPID(mp-633538), MPID(mp-28897), MPID(mp-644751), MPID(mp-567164), MPID(mp-983590), MPID(mp-865562), MPID(mp-862706), MPID(mp-550433), MPID(mp-5597), MPID(mp-5157), MPID(mp-558636), MPID(mp-38843), MPID(mp-1016879), MPID(mp-6957), MPID(mp-2965), MPID(mp-27861), MPID(mp-21343), MPID(mp-754040), MPID(mp-1008349), MPID(mp-1018672), MPID(mp-90), MPID(mp-579), MPID(mp-1010071), MPID(mp-1008224), MPID(mp-1008280), MPID(mp-1018067), MPID(mp-784631), MPID(mp-20814), MPID(mp-2958), MPID(mp-2417), MPID(mp-10856), MPID(mp-20874), MPID(mp-20344), MPID(mp-1007853), MPID(mp-2199), MPID(mp-2794), MPID(mp-2090), MPID(mp-5436), MPID(mp-2213), MPID(mp-1918), MPID(mp-29076), MPID(mp-30551), MPID(mp-2853), MPID(mp-830), MPID(mp-470), MPID(mp-345), MPID(mp-977573), MPID(mp-1029834), MPID(mp-1016825), MPID(mp-20192), MPID(mp-550893), MPID(mp-776532), MPID(mp-1014251), MPID(mp-754134), MPID(mp-754478), MPID(mp-861979), MPID(mp-1001827), MPID(mp-13076), MPID(mp-2723), MPID(mp-549490), MPID(mp-5526), MPID(mp-2680), MPID(mp-36086), MPID(mp-35417), MPID(mp-2468835), MPID(mp-34993), MPID(mp-8001), MPID(mp-3924), MPID(mp-3524), MPID(mp-5840), MPID(mp-862870), MPID(mp-1029424), MPID(mp-867744), MPID(mp-9514), MPID(mp-4590), MPID(mp-3536), MPID(mp-763), MPID(mp-365), MPID(mp-15702), MPID(mp-1023125), MPID(mp-15701), MPID(mp-4391), MPID(mp-5924), MPID(mp-1029702), MPID(mp-1029536), MPID(mp-8634), MPID(mp-13079), MPID(mp-13082), MPID(mp-999558), MPID(mp-21235), MPID(mp-973149), MPID(mp-865027), MPID(mp-864735), MPID(mp-771), MPID(mp-3623), MPID(mp-864950), MPID(mp-978261), MPID(mp-999542), MPID(mp-1018024), MPID(mp-21171), MPID(mp-9951), MPID(mp-7829), MPID(mp-999516), MPID(mp-1232), MPID(mp-7017), MPID(mp-3136), MPID(mp-976923), MPID(mp-5475), MPID(mp-4170), MPID(mp-569167), MPID(mp-12725), MPID(mp-999388), MPID(mp-1580), MPID(mp-999357), MPID(mp-2533), MPID(mp-1018151), MPID(mp-1963), MPID(mp-756638), MPID(mp-647), MPID(mp-5622), MPID(mp-568055), MPID(mp-1929), MPID(mp-784630), MPID(mp-11507), MPID(mp-30811), MPID(mp-6927), MPID(mp-567907), MPID(mp-1009545), MPID(mp-3466), MPID(mp-12762), MPID(mp-1285), MPID(mp-12875), MPID(mp-9761), MPID(mp-974565), MPID(mp-999263), MPID(mp-20304), MPID(mp-725), MPID(mp-607371), MPID(mp-753495), MPID(mp-27693), MPID(mp-12593), MPID(mp-4200), MPID(mp-635), MPID(mp-4720), MPID(mp-11607), MPID(mp-641539), MPID(mp-978496), MPID(mp-1002206), MPID(mp-1128), MPID(mp-972845), MPID(mp-351), MPID(mp-999192), MPID(mp-10015), MPID(mp-978490), MPID(mp-2287), MPID(mp-20418), MPID(mp-381), MPID(mp-978493), MPID(mp-856), MPID(mp-242), MPID(mp-768342), MPID(mp-972309), MPID(mp-2220557), MPID(mp-675172), MPID(mp-570604), MPID(mp-1157), MPID(mp-20994), MPID(mp-999133), MPID(mp-30835), MPID(mp-865805), MPID(mp-10854), MPID(mp-999117), MPID(mp-33137), MPID(mp-1756), MPID(mp-755875), MPID(mp-10734), MPID(mp-11279), MPID(mp-608), MPID(mp-1018012), MPID(mp-1089), MPID(mp-865678), MPID(mp-2657), MPID(mp-753657), MPID(mp-980203), MPID(mp-554462), MPID(mp-568789), MPID(mp-10857), MPID(mp-29005), MPID(mp-20924), MPID(mp-1025264), MPID(mp-1008642), MPID(mp-1865), MPID(mp-1776), MPID(mp-1025123), MPID(mp-27769), MPID(mp-865465), MPID(mp-20586), MPID(mp-22790), MPID(mp-865471), MPID(mp-1002105), MPID(mp-11531), MPID(mp-1114), MPID(mp-11549), MPID(mp-873), MPID(mp-1008630), MPID(mp-1004526), MPID(mp-15955), MPID(mp-756214), MPID(mp-1017533), MPID(mp-1016876), MPID(mp-1014265), MPID(mp-2525045), MPID(mp-1014246), MPID(mp-451), MPID(mp-22227), MPID(mp-1009838), MPID(mp-1565), MPID(mp-755759), MPID(mp-775909), MPID(mp-4820)]\n",
      "Carrier transport is in the property categories\n",
      "Query for carrier transport: {'elec_cond_300k_low_doping': (1e-07, 78.0), 'therm_cond_300k_low_doping': (1e-07, 2.0)}\n",
      "Tables: {'data': [{'identifier': 'mp-752826', 'formula': 'Al2O3', 'data': {'sigma': {'p': {'display': '4.10475 1/fΩ/m/s', 'value': 4.10475, 'error': None, 'unit': '1/fΩ/m/s'}}, 'kappa': {'p': {'display': '11.1994 GW/K/m/s', 'value': 11.1994, 'error': None, 'unit': 'GW/K/m/s'}}}}, {'identifier': 'mp-3536', 'formula': 'MgAl2O4', 'data': {'sigma': {'p': {'display': '7.70117 1/fΩ/m/s', 'value': 7.70117, 'error': None, 'unit': '1/fΩ/m/s'}}, 'kappa': {'p': {'display': '31.6911 GW/K/m/s', 'value': 31.6911, 'error': None, 'unit': 'GW/K/m/s'}}}}, {'identifier': 'mp-5924', 'formula': 'MgSiO3', 'data': {'sigma': {'p': {'display': '6.45658 1/fΩ/m/s', 'value': 6.45658, 'error': None, 'unit': '1/fΩ/m/s'}}, 'kappa': {'p': {'display': '30.0167 GW/K/m/s', 'value': 30.0167, 'error': None, 'unit': 'GW/K/m/s'}}}}], 'has_more': False, 'total_count': 3, 'total_pages': 1}\n",
      "Table: {'identifier': 'mp-752826', 'formula': 'Al2O3', 'data': {'sigma': {'p': {'display': '4.10475 1/fΩ/m/s', 'value': 4.10475, 'error': None, 'unit': '1/fΩ/m/s'}}, 'kappa': {'p': {'display': '11.1994 GW/K/m/s', 'value': 11.1994, 'error': None, 'unit': 'GW/K/m/s'}}}}\n",
      "Index: 3\n",
      "Table: {'identifier': 'mp-3536', 'formula': 'MgAl2O4', 'data': {'sigma': {'p': {'display': '7.70117 1/fΩ/m/s', 'value': 7.70117, 'error': None, 'unit': '1/fΩ/m/s'}}, 'kappa': {'p': {'display': '31.6911 GW/K/m/s', 'value': 31.6911, 'error': None, 'unit': 'GW/K/m/s'}}}}\n",
      "Index: 106\n",
      "Table: {'identifier': 'mp-5924', 'formula': 'MgSiO3', 'data': {'sigma': {'p': {'display': '6.45658 1/fΩ/m/s', 'value': 6.45658, 'error': None, 'unit': '1/fΩ/m/s'}}, 'kappa': {'p': {'display': '30.0167 GW/K/m/s', 'value': 30.0167, 'error': None, 'unit': 'GW/K/m/s'}}}}\n",
      "Index: 113\n",
      "len(material_id): 3\n",
      "len(elec_cond): 3\n",
      "len(therm_cond): 3\n",
      "len(bulk_modulus): 3\n",
      "len(shear_modulus): 3\n",
      "len(universal_anisotropy): 3\n",
      "len(material_id): 3\n",
      "len(elec_cond): 3\n",
      "len(therm_cond): 3\n",
      "len(bulk_modulus): 3\n",
      "len(shear_modulus): 3\n",
      "len(universal_anisotropy): 3\n",
      "len(material_id): 3\n",
      "len(elec_cond): 3\n",
      "len(therm_cond): 3\n",
      "len(bulk_modulus): 3\n",
      "len(shear_modulus): 3\n",
      "len(universal_anisotropy): 3\n",
      "Material Matches:\n",
      "{'mat1': [{'mp-752826': {'elec_cond': 41.0475, 'therm_cond': 0.000111994, 'bulk_modulus': 168.258, 'shear_modulus': 90.134, 'universal_anisotropy': 1.271}}, {'mp-3536': {'elec_cond': 77.0117, 'therm_cond': 0.000316911, 'bulk_modulus': 182.861, 'shear_modulus': 107.669, 'universal_anisotropy': 1.062}}, {'mp-5924': {'elec_cond': 64.5658, 'therm_cond': 0.000300167, 'bulk_modulus': 193.509, 'shear_modulus': 113.741, 'universal_anisotropy': 1.091}}], 'mat2': [{'mp-752826': {'elec_cond': 41.0475, 'therm_cond': 0.000111994, 'bulk_modulus': 168.258, 'shear_modulus': 90.134, 'universal_anisotropy': 1.271}}, {'mp-3536': {'elec_cond': 77.0117, 'therm_cond': 0.000316911, 'bulk_modulus': 182.861, 'shear_modulus': 107.669, 'universal_anisotropy': 1.062}}, {'mp-5924': {'elec_cond': 64.5658, 'therm_cond': 0.000300167, 'bulk_modulus': 193.509, 'shear_modulus': 113.741, 'universal_anisotropy': 1.091}}], 'mat3': [{'mp-752826': {'elec_cond': 41.0475, 'therm_cond': 0.000111994, 'bulk_modulus': 168.258, 'shear_modulus': 90.134, 'universal_anisotropy': 1.271}}, {'mp-3536': {'elec_cond': 77.0117, 'therm_cond': 0.000316911, 'bulk_modulus': 182.861, 'shear_modulus': 107.669, 'universal_anisotropy': 1.062}}, {'mp-5924': {'elec_cond': 64.5658, 'therm_cond': 0.000300167, 'bulk_modulus': 193.509, 'shear_modulus': 113.741, 'universal_anisotropy': 1.091}}]}\n"
     ]
    }
   ],
   "source": [
    "# # Display the mp-ids of the potential options for each of the composite materials\n",
    "# HS.get_material_matches()\n",
    "# matches_dict = HS.get_material_matches(consolidated_dict=consolidated_dict)\n",
    "# print(\"Material Matches:\")\n",
    "# print(matches_dict)\n",
    "\n",
    "# Display the mp-ids of the potential options for each of the composite materials\n",
    "# # matches_dict = HS.get_material_matches(consolidated_dict=consolidated_dict)\n",
    "# matches_dict = HS.get_material_matches()\n",
    "print(f\"overall bounds dict: {overall_bounds_dict, user_input}\")\n",
    "matches_dict = HS.get_material_matches(overall_bounds_dict, user_input)\n",
    "print(\"Material Matches:\")\n",
    "print(matches_dict)"
   ]
  },
  {
   "cell_type": "code",
   "execution_count": 7,
   "metadata": {},
   "outputs": [
    {
     "name": "stdout",
     "output_type": "stream",
     "text": [
      "Loaded consolidated_dict from consolidated_dict_09_25_2024_14_24_40\n"
     ]
    },
    {
     "data": {
      "application/vnd.plotly.v1+json": {
       "config": {
        "plotlyServerURL": "https://plot.ly"
       },
       "data": [
        {
         "cells": {
          "align": "left",
          "fill": {
           "color": [
            [
             "white",
             "lightgrey",
             "white",
             "lightgrey",
             "white"
            ]
           ]
          },
          "font": {
           "size": 12
          },
          "height": 30,
          "values": [
           [
            {
             "mp-752826": {
              "bulk_modulus": 168.258,
              "elec_cond": 41.0475,
              "shear_modulus": 90.134,
              "therm_cond": 0.000111994,
              "universal_anisotropy": 1.271
             }
            },
            {
             "mp-752826": {
              "bulk_modulus": 168.258,
              "elec_cond": 41.0475,
              "shear_modulus": 90.134,
              "therm_cond": 0.000111994,
              "universal_anisotropy": 1.271
             }
            },
            {
             "mp-752826": {
              "bulk_modulus": 168.258,
              "elec_cond": 41.0475,
              "shear_modulus": 90.134,
              "therm_cond": 0.000111994,
              "universal_anisotropy": 1.271
             }
            },
            {
             "mp-752826": {
              "bulk_modulus": 168.258,
              "elec_cond": 41.0475,
              "shear_modulus": 90.134,
              "therm_cond": 0.000111994,
              "universal_anisotropy": 1.271
             }
            },
            {
             "mp-752826": {
              "bulk_modulus": 168.258,
              "elec_cond": 41.0475,
              "shear_modulus": 90.134,
              "therm_cond": 0.000111994,
              "universal_anisotropy": 1.271
             }
            }
           ],
           [
            {
             "mp-752826": {
              "bulk_modulus": 168.258,
              "elec_cond": 41.0475,
              "shear_modulus": 90.134,
              "therm_cond": 0.000111994,
              "universal_anisotropy": 1.271
             }
            },
            {
             "mp-752826": {
              "bulk_modulus": 168.258,
              "elec_cond": 41.0475,
              "shear_modulus": 90.134,
              "therm_cond": 0.000111994,
              "universal_anisotropy": 1.271
             }
            },
            {
             "mp-752826": {
              "bulk_modulus": 168.258,
              "elec_cond": 41.0475,
              "shear_modulus": 90.134,
              "therm_cond": 0.000111994,
              "universal_anisotropy": 1.271
             }
            },
            {
             "mp-752826": {
              "bulk_modulus": 168.258,
              "elec_cond": 41.0475,
              "shear_modulus": 90.134,
              "therm_cond": 0.000111994,
              "universal_anisotropy": 1.271
             }
            },
            {
             "mp-752826": {
              "bulk_modulus": 168.258,
              "elec_cond": 41.0475,
              "shear_modulus": 90.134,
              "therm_cond": 0.000111994,
              "universal_anisotropy": 1.271
             }
            }
           ],
           [
            {
             "mp-752826": {
              "bulk_modulus": 168.258,
              "elec_cond": 41.0475,
              "shear_modulus": 90.134,
              "therm_cond": 0.000111994,
              "universal_anisotropy": 1.271
             }
            },
            {
             "mp-752826": {
              "bulk_modulus": 168.258,
              "elec_cond": 41.0475,
              "shear_modulus": 90.134,
              "therm_cond": 0.000111994,
              "universal_anisotropy": 1.271
             }
            },
            {
             "mp-752826": {
              "bulk_modulus": 168.258,
              "elec_cond": 41.0475,
              "shear_modulus": 90.134,
              "therm_cond": 0.000111994,
              "universal_anisotropy": 1.271
             }
            },
            {
             "mp-752826": {
              "bulk_modulus": 168.258,
              "elec_cond": 41.0475,
              "shear_modulus": 90.134,
              "therm_cond": 0.000111994,
              "universal_anisotropy": 1.271
             }
            },
            {
             "mp-752826": {
              "bulk_modulus": 168.258,
              "elec_cond": 41.0475,
              "shear_modulus": 90.134,
              "therm_cond": 0.000111994,
              "universal_anisotropy": 1.271
             }
            }
           ],
           [
            41.0475,
            41.0475,
            41.0475,
            41.0475,
            41.0475
           ],
           [
            41.0475,
            41.0475,
            41.0475,
            41.0475,
            41.0475
           ],
           [
            41.0475,
            41.0475,
            41.0475,
            41.0475,
            41.0475
           ],
           [
            0.000111994,
            0.000111994,
            0.000111994,
            0.000111994,
            0.000111994
           ],
           [
            0.000111994,
            0.000111994,
            0.000111994,
            0.000111994,
            0.000111994
           ],
           [
            0.000111994,
            0.000111994,
            0.000111994,
            0.000111994,
            0.000111994
           ],
           [
            168.258,
            168.258,
            168.258,
            168.258,
            168.258
           ],
           [
            168.258,
            168.258,
            168.258,
            168.258,
            168.258
           ],
           [
            168.258,
            168.258,
            168.258,
            168.258,
            168.258
           ],
           [
            90.134,
            90.134,
            90.134,
            90.134,
            90.134
           ],
           [
            90.134,
            90.134,
            90.134,
            90.134,
            90.134
           ],
           [
            90.134,
            90.134,
            90.134,
            90.134,
            90.134
           ],
           [
            1.271,
            1.271,
            1.271,
            1.271,
            1.271
           ],
           [
            1.271,
            1.271,
            1.271,
            1.271,
            1.271
           ],
           [
            1.271,
            1.271,
            1.271,
            1.271,
            1.271
           ],
           [
            0.1789655172413793,
            0.11137931034482758,
            0.1789655172413793,
            0.1789655172413793,
            0.1789655172413793
           ],
           [
            0.8210344827586207,
            0.8886206896551724,
            0.9562068965517241,
            0.9224137931034482,
            0.99
           ],
           [
            0,
            0,
            -0.1351724137931034,
            -0.1013793103448275,
            -0.16896551724137931
           ],
           [
            18.66828847647796,
            21.149712770826326,
            27.78199683063577,
            29.500244630619203,
            29.600758391570043
           ]
          ]
         },
         "columnwidth": 1000,
         "header": {
          "align": "left",
          "fill": {
           "color": "lavender"
          },
          "font": {
           "size": 12
          },
          "height": 30,
          "values": [
           "Material 1 MP-ID",
           "Material 2 MP-ID",
           "Material 3 MP-ID",
           "Phase 1 Electrical conductivity, [S/m]",
           "Phase 2 Electrical conductivity, [S/m]",
           "Phase 3 Electrical conductivity, [S/m]",
           "Phase 1 Thermal conductivity, [W/m/K]",
           "Phase 2 Thermal conductivity, [W/m/K]",
           "Phase 3 Thermal conductivity, [W/m/K]",
           "Phase 1 Bulk modulus, [GPa]",
           "Phase 2 Bulk modulus, [GPa]",
           "Phase 3 Bulk modulus, [GPa]",
           "Phase 1 Shear modulus, [GPa]",
           "Phase 2 Shear modulus, [GPa]",
           "Phase 3 Shear modulus, [GPa]",
           "Phase 1 Universal anisotropy, []",
           "Phase 2 Universal anisotropy, []",
           "Phase 3 Universal anisotropy, []",
           "Phase 1 Volume Fraction",
           "Phase 2 Volume Fraction",
           "Phase 3 Volume Fraction",
           "cost"
          ]
         },
         "type": "table"
        }
       ],
       "layout": {
        "autosize": true,
        "height": 400,
        "margin": {
         "b": 0,
         "l": 0,
         "r": 0,
         "t": 40
        },
        "template": {
         "data": {
          "bar": [
           {
            "error_x": {
             "color": "rgb(36,36,36)"
            },
            "error_y": {
             "color": "rgb(36,36,36)"
            },
            "marker": {
             "line": {
              "color": "white",
              "width": 0.5
             },
             "pattern": {
              "fillmode": "overlay",
              "size": 10,
              "solidity": 0.2
             }
            },
            "type": "bar"
           }
          ],
          "barpolar": [
           {
            "marker": {
             "line": {
              "color": "white",
              "width": 0.5
             },
             "pattern": {
              "fillmode": "overlay",
              "size": 10,
              "solidity": 0.2
             }
            },
            "type": "barpolar"
           }
          ],
          "carpet": [
           {
            "aaxis": {
             "endlinecolor": "rgb(36,36,36)",
             "gridcolor": "white",
             "linecolor": "white",
             "minorgridcolor": "white",
             "startlinecolor": "rgb(36,36,36)"
            },
            "baxis": {
             "endlinecolor": "rgb(36,36,36)",
             "gridcolor": "white",
             "linecolor": "white",
             "minorgridcolor": "white",
             "startlinecolor": "rgb(36,36,36)"
            },
            "type": "carpet"
           }
          ],
          "choropleth": [
           {
            "colorbar": {
             "outlinewidth": 1,
             "tickcolor": "rgb(36,36,36)",
             "ticks": "outside"
            },
            "type": "choropleth"
           }
          ],
          "contour": [
           {
            "colorbar": {
             "outlinewidth": 1,
             "tickcolor": "rgb(36,36,36)",
             "ticks": "outside"
            },
            "colorscale": [
             [
              0,
              "#440154"
             ],
             [
              0.1111111111111111,
              "#482878"
             ],
             [
              0.2222222222222222,
              "#3e4989"
             ],
             [
              0.3333333333333333,
              "#31688e"
             ],
             [
              0.4444444444444444,
              "#26828e"
             ],
             [
              0.5555555555555556,
              "#1f9e89"
             ],
             [
              0.6666666666666666,
              "#35b779"
             ],
             [
              0.7777777777777778,
              "#6ece58"
             ],
             [
              0.8888888888888888,
              "#b5de2b"
             ],
             [
              1,
              "#fde725"
             ]
            ],
            "type": "contour"
           }
          ],
          "contourcarpet": [
           {
            "colorbar": {
             "outlinewidth": 1,
             "tickcolor": "rgb(36,36,36)",
             "ticks": "outside"
            },
            "type": "contourcarpet"
           }
          ],
          "heatmap": [
           {
            "colorbar": {
             "outlinewidth": 1,
             "tickcolor": "rgb(36,36,36)",
             "ticks": "outside"
            },
            "colorscale": [
             [
              0,
              "#440154"
             ],
             [
              0.1111111111111111,
              "#482878"
             ],
             [
              0.2222222222222222,
              "#3e4989"
             ],
             [
              0.3333333333333333,
              "#31688e"
             ],
             [
              0.4444444444444444,
              "#26828e"
             ],
             [
              0.5555555555555556,
              "#1f9e89"
             ],
             [
              0.6666666666666666,
              "#35b779"
             ],
             [
              0.7777777777777778,
              "#6ece58"
             ],
             [
              0.8888888888888888,
              "#b5de2b"
             ],
             [
              1,
              "#fde725"
             ]
            ],
            "type": "heatmap"
           }
          ],
          "heatmapgl": [
           {
            "colorbar": {
             "outlinewidth": 1,
             "tickcolor": "rgb(36,36,36)",
             "ticks": "outside"
            },
            "colorscale": [
             [
              0,
              "#440154"
             ],
             [
              0.1111111111111111,
              "#482878"
             ],
             [
              0.2222222222222222,
              "#3e4989"
             ],
             [
              0.3333333333333333,
              "#31688e"
             ],
             [
              0.4444444444444444,
              "#26828e"
             ],
             [
              0.5555555555555556,
              "#1f9e89"
             ],
             [
              0.6666666666666666,
              "#35b779"
             ],
             [
              0.7777777777777778,
              "#6ece58"
             ],
             [
              0.8888888888888888,
              "#b5de2b"
             ],
             [
              1,
              "#fde725"
             ]
            ],
            "type": "heatmapgl"
           }
          ],
          "histogram": [
           {
            "marker": {
             "line": {
              "color": "white",
              "width": 0.6
             }
            },
            "type": "histogram"
           }
          ],
          "histogram2d": [
           {
            "colorbar": {
             "outlinewidth": 1,
             "tickcolor": "rgb(36,36,36)",
             "ticks": "outside"
            },
            "colorscale": [
             [
              0,
              "#440154"
             ],
             [
              0.1111111111111111,
              "#482878"
             ],
             [
              0.2222222222222222,
              "#3e4989"
             ],
             [
              0.3333333333333333,
              "#31688e"
             ],
             [
              0.4444444444444444,
              "#26828e"
             ],
             [
              0.5555555555555556,
              "#1f9e89"
             ],
             [
              0.6666666666666666,
              "#35b779"
             ],
             [
              0.7777777777777778,
              "#6ece58"
             ],
             [
              0.8888888888888888,
              "#b5de2b"
             ],
             [
              1,
              "#fde725"
             ]
            ],
            "type": "histogram2d"
           }
          ],
          "histogram2dcontour": [
           {
            "colorbar": {
             "outlinewidth": 1,
             "tickcolor": "rgb(36,36,36)",
             "ticks": "outside"
            },
            "colorscale": [
             [
              0,
              "#440154"
             ],
             [
              0.1111111111111111,
              "#482878"
             ],
             [
              0.2222222222222222,
              "#3e4989"
             ],
             [
              0.3333333333333333,
              "#31688e"
             ],
             [
              0.4444444444444444,
              "#26828e"
             ],
             [
              0.5555555555555556,
              "#1f9e89"
             ],
             [
              0.6666666666666666,
              "#35b779"
             ],
             [
              0.7777777777777778,
              "#6ece58"
             ],
             [
              0.8888888888888888,
              "#b5de2b"
             ],
             [
              1,
              "#fde725"
             ]
            ],
            "type": "histogram2dcontour"
           }
          ],
          "mesh3d": [
           {
            "colorbar": {
             "outlinewidth": 1,
             "tickcolor": "rgb(36,36,36)",
             "ticks": "outside"
            },
            "type": "mesh3d"
           }
          ],
          "parcoords": [
           {
            "line": {
             "colorbar": {
              "outlinewidth": 1,
              "tickcolor": "rgb(36,36,36)",
              "ticks": "outside"
             }
            },
            "type": "parcoords"
           }
          ],
          "pie": [
           {
            "automargin": true,
            "type": "pie"
           }
          ],
          "scatter": [
           {
            "fillpattern": {
             "fillmode": "overlay",
             "size": 10,
             "solidity": 0.2
            },
            "type": "scatter"
           }
          ],
          "scatter3d": [
           {
            "line": {
             "colorbar": {
              "outlinewidth": 1,
              "tickcolor": "rgb(36,36,36)",
              "ticks": "outside"
             }
            },
            "marker": {
             "colorbar": {
              "outlinewidth": 1,
              "tickcolor": "rgb(36,36,36)",
              "ticks": "outside"
             }
            },
            "type": "scatter3d"
           }
          ],
          "scattercarpet": [
           {
            "marker": {
             "colorbar": {
              "outlinewidth": 1,
              "tickcolor": "rgb(36,36,36)",
              "ticks": "outside"
             }
            },
            "type": "scattercarpet"
           }
          ],
          "scattergeo": [
           {
            "marker": {
             "colorbar": {
              "outlinewidth": 1,
              "tickcolor": "rgb(36,36,36)",
              "ticks": "outside"
             }
            },
            "type": "scattergeo"
           }
          ],
          "scattergl": [
           {
            "marker": {
             "colorbar": {
              "outlinewidth": 1,
              "tickcolor": "rgb(36,36,36)",
              "ticks": "outside"
             }
            },
            "type": "scattergl"
           }
          ],
          "scattermapbox": [
           {
            "marker": {
             "colorbar": {
              "outlinewidth": 1,
              "tickcolor": "rgb(36,36,36)",
              "ticks": "outside"
             }
            },
            "type": "scattermapbox"
           }
          ],
          "scatterpolar": [
           {
            "marker": {
             "colorbar": {
              "outlinewidth": 1,
              "tickcolor": "rgb(36,36,36)",
              "ticks": "outside"
             }
            },
            "type": "scatterpolar"
           }
          ],
          "scatterpolargl": [
           {
            "marker": {
             "colorbar": {
              "outlinewidth": 1,
              "tickcolor": "rgb(36,36,36)",
              "ticks": "outside"
             }
            },
            "type": "scatterpolargl"
           }
          ],
          "scatterternary": [
           {
            "marker": {
             "colorbar": {
              "outlinewidth": 1,
              "tickcolor": "rgb(36,36,36)",
              "ticks": "outside"
             }
            },
            "type": "scatterternary"
           }
          ],
          "surface": [
           {
            "colorbar": {
             "outlinewidth": 1,
             "tickcolor": "rgb(36,36,36)",
             "ticks": "outside"
            },
            "colorscale": [
             [
              0,
              "#440154"
             ],
             [
              0.1111111111111111,
              "#482878"
             ],
             [
              0.2222222222222222,
              "#3e4989"
             ],
             [
              0.3333333333333333,
              "#31688e"
             ],
             [
              0.4444444444444444,
              "#26828e"
             ],
             [
              0.5555555555555556,
              "#1f9e89"
             ],
             [
              0.6666666666666666,
              "#35b779"
             ],
             [
              0.7777777777777778,
              "#6ece58"
             ],
             [
              0.8888888888888888,
              "#b5de2b"
             ],
             [
              1,
              "#fde725"
             ]
            ],
            "type": "surface"
           }
          ],
          "table": [
           {
            "cells": {
             "fill": {
              "color": "rgb(237,237,237)"
             },
             "line": {
              "color": "white"
             }
            },
            "header": {
             "fill": {
              "color": "rgb(217,217,217)"
             },
             "line": {
              "color": "white"
             }
            },
            "type": "table"
           }
          ]
         },
         "layout": {
          "annotationdefaults": {
           "arrowhead": 0,
           "arrowwidth": 1
          },
          "autotypenumbers": "strict",
          "coloraxis": {
           "colorbar": {
            "outlinewidth": 1,
            "tickcolor": "rgb(36,36,36)",
            "ticks": "outside"
           }
          },
          "colorscale": {
           "diverging": [
            [
             0,
             "rgb(103,0,31)"
            ],
            [
             0.1,
             "rgb(178,24,43)"
            ],
            [
             0.2,
             "rgb(214,96,77)"
            ],
            [
             0.3,
             "rgb(244,165,130)"
            ],
            [
             0.4,
             "rgb(253,219,199)"
            ],
            [
             0.5,
             "rgb(247,247,247)"
            ],
            [
             0.6,
             "rgb(209,229,240)"
            ],
            [
             0.7,
             "rgb(146,197,222)"
            ],
            [
             0.8,
             "rgb(67,147,195)"
            ],
            [
             0.9,
             "rgb(33,102,172)"
            ],
            [
             1,
             "rgb(5,48,97)"
            ]
           ],
           "sequential": [
            [
             0,
             "#440154"
            ],
            [
             0.1111111111111111,
             "#482878"
            ],
            [
             0.2222222222222222,
             "#3e4989"
            ],
            [
             0.3333333333333333,
             "#31688e"
            ],
            [
             0.4444444444444444,
             "#26828e"
            ],
            [
             0.5555555555555556,
             "#1f9e89"
            ],
            [
             0.6666666666666666,
             "#35b779"
            ],
            [
             0.7777777777777778,
             "#6ece58"
            ],
            [
             0.8888888888888888,
             "#b5de2b"
            ],
            [
             1,
             "#fde725"
            ]
           ],
           "sequentialminus": [
            [
             0,
             "#440154"
            ],
            [
             0.1111111111111111,
             "#482878"
            ],
            [
             0.2222222222222222,
             "#3e4989"
            ],
            [
             0.3333333333333333,
             "#31688e"
            ],
            [
             0.4444444444444444,
             "#26828e"
            ],
            [
             0.5555555555555556,
             "#1f9e89"
            ],
            [
             0.6666666666666666,
             "#35b779"
            ],
            [
             0.7777777777777778,
             "#6ece58"
            ],
            [
             0.8888888888888888,
             "#b5de2b"
            ],
            [
             1,
             "#fde725"
            ]
           ]
          },
          "colorway": [
           "#1F77B4",
           "#FF7F0E",
           "#2CA02C",
           "#D62728",
           "#9467BD",
           "#8C564B",
           "#E377C2",
           "#7F7F7F",
           "#BCBD22",
           "#17BECF"
          ],
          "font": {
           "color": "rgb(36,36,36)"
          },
          "geo": {
           "bgcolor": "white",
           "lakecolor": "white",
           "landcolor": "white",
           "showlakes": true,
           "showland": true,
           "subunitcolor": "white"
          },
          "hoverlabel": {
           "align": "left"
          },
          "hovermode": "closest",
          "mapbox": {
           "style": "light"
          },
          "paper_bgcolor": "white",
          "plot_bgcolor": "white",
          "polar": {
           "angularaxis": {
            "gridcolor": "rgb(232,232,232)",
            "linecolor": "rgb(36,36,36)",
            "showgrid": false,
            "showline": true,
            "ticks": "outside"
           },
           "bgcolor": "white",
           "radialaxis": {
            "gridcolor": "rgb(232,232,232)",
            "linecolor": "rgb(36,36,36)",
            "showgrid": false,
            "showline": true,
            "ticks": "outside"
           }
          },
          "scene": {
           "xaxis": {
            "backgroundcolor": "white",
            "gridcolor": "rgb(232,232,232)",
            "gridwidth": 2,
            "linecolor": "rgb(36,36,36)",
            "showbackground": true,
            "showgrid": false,
            "showline": true,
            "ticks": "outside",
            "zeroline": false,
            "zerolinecolor": "rgb(36,36,36)"
           },
           "yaxis": {
            "backgroundcolor": "white",
            "gridcolor": "rgb(232,232,232)",
            "gridwidth": 2,
            "linecolor": "rgb(36,36,36)",
            "showbackground": true,
            "showgrid": false,
            "showline": true,
            "ticks": "outside",
            "zeroline": false,
            "zerolinecolor": "rgb(36,36,36)"
           },
           "zaxis": {
            "backgroundcolor": "white",
            "gridcolor": "rgb(232,232,232)",
            "gridwidth": 2,
            "linecolor": "rgb(36,36,36)",
            "showbackground": true,
            "showgrid": false,
            "showline": true,
            "ticks": "outside",
            "zeroline": false,
            "zerolinecolor": "rgb(36,36,36)"
           }
          },
          "shapedefaults": {
           "fillcolor": "black",
           "line": {
            "width": 0
           },
           "opacity": 0.3
          },
          "ternary": {
           "aaxis": {
            "gridcolor": "rgb(232,232,232)",
            "linecolor": "rgb(36,36,36)",
            "showgrid": false,
            "showline": true,
            "ticks": "outside"
           },
           "baxis": {
            "gridcolor": "rgb(232,232,232)",
            "linecolor": "rgb(36,36,36)",
            "showgrid": false,
            "showline": true,
            "ticks": "outside"
           },
           "bgcolor": "white",
           "caxis": {
            "gridcolor": "rgb(232,232,232)",
            "linecolor": "rgb(36,36,36)",
            "showgrid": false,
            "showline": true,
            "ticks": "outside"
           }
          },
          "title": {
           "x": 0.05
          },
          "xaxis": {
           "automargin": true,
           "gridcolor": "rgb(232,232,232)",
           "linecolor": "rgb(36,36,36)",
           "showgrid": false,
           "showline": true,
           "ticks": "outside",
           "title": {
            "standoff": 15
           },
           "zeroline": false,
           "zerolinecolor": "rgb(36,36,36)"
          },
          "yaxis": {
           "automargin": true,
           "gridcolor": "rgb(232,232,232)",
           "linecolor": "rgb(36,36,36)",
           "showgrid": false,
           "showline": true,
           "ticks": "outside",
           "title": {
            "standoff": 15
           },
           "zeroline": false,
           "zerolinecolor": "rgb(36,36,36)"
          }
         }
        },
        "title": {
         "font": {
          "size": 20
         },
         "text": "Optimal Material Combinations to Comprise Desired Composite",
         "x": 0.15
        }
       }
      }
     },
     "metadata": {},
     "output_type": "display_data"
    },
    {
     "data": {
      "application/vnd.plotly.v1+json": {
       "config": {
        "plotlyServerURL": "https://plot.ly"
       },
       "data": [
        {
         "cells": {
          "align": "left",
          "fill": {
           "color": [
            [
             "white",
             "lightgrey",
             "white",
             "lightgrey",
             "white"
            ]
           ]
          },
          "font": {
           "size": 12
          },
          "height": 30,
          "values": [
           [
            {
             "mp-752826": {
              "bulk_modulus": 168.258,
              "elec_cond": 41.0475,
              "shear_modulus": 90.134,
              "therm_cond": 0.000111994,
              "universal_anisotropy": 1.271
             }
            },
            {
             "mp-752826": {
              "bulk_modulus": 168.258,
              "elec_cond": 41.0475,
              "shear_modulus": 90.134,
              "therm_cond": 0.000111994,
              "universal_anisotropy": 1.271
             }
            },
            {
             "mp-752826": {
              "bulk_modulus": 168.258,
              "elec_cond": 41.0475,
              "shear_modulus": 90.134,
              "therm_cond": 0.000111994,
              "universal_anisotropy": 1.271
             }
            },
            {
             "mp-752826": {
              "bulk_modulus": 168.258,
              "elec_cond": 41.0475,
              "shear_modulus": 90.134,
              "therm_cond": 0.000111994,
              "universal_anisotropy": 1.271
             }
            },
            {
             "mp-752826": {
              "bulk_modulus": 168.258,
              "elec_cond": 41.0475,
              "shear_modulus": 90.134,
              "therm_cond": 0.000111994,
              "universal_anisotropy": 1.271
             }
            }
           ],
           [
            {
             "mp-752826": {
              "bulk_modulus": 168.258,
              "elec_cond": 41.0475,
              "shear_modulus": 90.134,
              "therm_cond": 0.000111994,
              "universal_anisotropy": 1.271
             }
            },
            {
             "mp-752826": {
              "bulk_modulus": 168.258,
              "elec_cond": 41.0475,
              "shear_modulus": 90.134,
              "therm_cond": 0.000111994,
              "universal_anisotropy": 1.271
             }
            },
            {
             "mp-752826": {
              "bulk_modulus": 168.258,
              "elec_cond": 41.0475,
              "shear_modulus": 90.134,
              "therm_cond": 0.000111994,
              "universal_anisotropy": 1.271
             }
            },
            {
             "mp-752826": {
              "bulk_modulus": 168.258,
              "elec_cond": 41.0475,
              "shear_modulus": 90.134,
              "therm_cond": 0.000111994,
              "universal_anisotropy": 1.271
             }
            },
            {
             "mp-752826": {
              "bulk_modulus": 168.258,
              "elec_cond": 41.0475,
              "shear_modulus": 90.134,
              "therm_cond": 0.000111994,
              "universal_anisotropy": 1.271
             }
            }
           ],
           [
            {
             "mp-3536": {
              "bulk_modulus": 182.861,
              "elec_cond": 77.0117,
              "shear_modulus": 107.669,
              "therm_cond": 0.000316911,
              "universal_anisotropy": 1.062
             }
            },
            {
             "mp-3536": {
              "bulk_modulus": 182.861,
              "elec_cond": 77.0117,
              "shear_modulus": 107.669,
              "therm_cond": 0.000316911,
              "universal_anisotropy": 1.062
             }
            },
            {
             "mp-3536": {
              "bulk_modulus": 182.861,
              "elec_cond": 77.0117,
              "shear_modulus": 107.669,
              "therm_cond": 0.000316911,
              "universal_anisotropy": 1.062
             }
            },
            {
             "mp-3536": {
              "bulk_modulus": 182.861,
              "elec_cond": 77.0117,
              "shear_modulus": 107.669,
              "therm_cond": 0.000316911,
              "universal_anisotropy": 1.062
             }
            },
            {
             "mp-3536": {
              "bulk_modulus": 182.861,
              "elec_cond": 77.0117,
              "shear_modulus": 107.669,
              "therm_cond": 0.000316911,
              "universal_anisotropy": 1.062
             }
            }
           ],
           [
            41.0475,
            41.0475,
            41.0475,
            41.0475,
            41.0475
           ],
           [
            41.0475,
            41.0475,
            41.0475,
            41.0475,
            41.0475
           ],
           [
            77.0117,
            77.0117,
            77.0117,
            77.0117,
            77.0117
           ],
           [
            0.000111994,
            0.000111994,
            0.000111994,
            0.000111994,
            0.000111994
           ],
           [
            0.000111994,
            0.000111994,
            0.000111994,
            0.000111994,
            0.000111994
           ],
           [
            0.000316911,
            0.000316911,
            0.000316911,
            0.000316911,
            0.000316911
           ],
           [
            168.258,
            168.258,
            168.258,
            168.258,
            168.258
           ],
           [
            168.258,
            168.258,
            168.258,
            168.258,
            168.258
           ],
           [
            182.861,
            182.861,
            182.861,
            182.861,
            182.861
           ],
           [
            90.134,
            90.134,
            90.134,
            90.134,
            90.134
           ],
           [
            90.134,
            90.134,
            90.134,
            90.134,
            90.134
           ],
           [
            107.669,
            107.669,
            107.669,
            107.669,
            107.669
           ],
           [
            1.271,
            1.271,
            1.271,
            1.271,
            1.271
           ],
           [
            1.271,
            1.271,
            1.271,
            1.271,
            1.271
           ],
           [
            1.062,
            1.062,
            1.062,
            1.062,
            1.062
           ],
           [
            0.1789655172413793,
            0.11137931034482758,
            0.1789655172413793,
            0.1789655172413793,
            0.1789655172413793
           ],
           [
            0.8210344827586207,
            0.8886206896551724,
            0.9562068965517241,
            0.9224137931034482,
            0.99
           ],
           [
            0,
            0,
            -0.1351724137931034,
            -0.1013793103448275,
            -0.16896551724137931
           ],
           [
            19.059106793827535,
            21.52632414532522,
            27.277562380417738,
            28.949698951529637,
            29.14013858235438
           ]
          ]
         },
         "columnwidth": 1000,
         "header": {
          "align": "left",
          "fill": {
           "color": "lavender"
          },
          "font": {
           "size": 12
          },
          "height": 30,
          "values": [
           "Material 1 MP-ID",
           "Material 2 MP-ID",
           "Material 3 MP-ID",
           "Phase 1 Electrical conductivity, [S/m]",
           "Phase 2 Electrical conductivity, [S/m]",
           "Phase 3 Electrical conductivity, [S/m]",
           "Phase 1 Thermal conductivity, [W/m/K]",
           "Phase 2 Thermal conductivity, [W/m/K]",
           "Phase 3 Thermal conductivity, [W/m/K]",
           "Phase 1 Bulk modulus, [GPa]",
           "Phase 2 Bulk modulus, [GPa]",
           "Phase 3 Bulk modulus, [GPa]",
           "Phase 1 Shear modulus, [GPa]",
           "Phase 2 Shear modulus, [GPa]",
           "Phase 3 Shear modulus, [GPa]",
           "Phase 1 Universal anisotropy, []",
           "Phase 2 Universal anisotropy, []",
           "Phase 3 Universal anisotropy, []",
           "Phase 1 Volume Fraction",
           "Phase 2 Volume Fraction",
           "Phase 3 Volume Fraction",
           "cost"
          ]
         },
         "type": "table"
        }
       ],
       "layout": {
        "autosize": true,
        "height": 400,
        "margin": {
         "b": 0,
         "l": 0,
         "r": 0,
         "t": 40
        },
        "template": {
         "data": {
          "bar": [
           {
            "error_x": {
             "color": "rgb(36,36,36)"
            },
            "error_y": {
             "color": "rgb(36,36,36)"
            },
            "marker": {
             "line": {
              "color": "white",
              "width": 0.5
             },
             "pattern": {
              "fillmode": "overlay",
              "size": 10,
              "solidity": 0.2
             }
            },
            "type": "bar"
           }
          ],
          "barpolar": [
           {
            "marker": {
             "line": {
              "color": "white",
              "width": 0.5
             },
             "pattern": {
              "fillmode": "overlay",
              "size": 10,
              "solidity": 0.2
             }
            },
            "type": "barpolar"
           }
          ],
          "carpet": [
           {
            "aaxis": {
             "endlinecolor": "rgb(36,36,36)",
             "gridcolor": "white",
             "linecolor": "white",
             "minorgridcolor": "white",
             "startlinecolor": "rgb(36,36,36)"
            },
            "baxis": {
             "endlinecolor": "rgb(36,36,36)",
             "gridcolor": "white",
             "linecolor": "white",
             "minorgridcolor": "white",
             "startlinecolor": "rgb(36,36,36)"
            },
            "type": "carpet"
           }
          ],
          "choropleth": [
           {
            "colorbar": {
             "outlinewidth": 1,
             "tickcolor": "rgb(36,36,36)",
             "ticks": "outside"
            },
            "type": "choropleth"
           }
          ],
          "contour": [
           {
            "colorbar": {
             "outlinewidth": 1,
             "tickcolor": "rgb(36,36,36)",
             "ticks": "outside"
            },
            "colorscale": [
             [
              0,
              "#440154"
             ],
             [
              0.1111111111111111,
              "#482878"
             ],
             [
              0.2222222222222222,
              "#3e4989"
             ],
             [
              0.3333333333333333,
              "#31688e"
             ],
             [
              0.4444444444444444,
              "#26828e"
             ],
             [
              0.5555555555555556,
              "#1f9e89"
             ],
             [
              0.6666666666666666,
              "#35b779"
             ],
             [
              0.7777777777777778,
              "#6ece58"
             ],
             [
              0.8888888888888888,
              "#b5de2b"
             ],
             [
              1,
              "#fde725"
             ]
            ],
            "type": "contour"
           }
          ],
          "contourcarpet": [
           {
            "colorbar": {
             "outlinewidth": 1,
             "tickcolor": "rgb(36,36,36)",
             "ticks": "outside"
            },
            "type": "contourcarpet"
           }
          ],
          "heatmap": [
           {
            "colorbar": {
             "outlinewidth": 1,
             "tickcolor": "rgb(36,36,36)",
             "ticks": "outside"
            },
            "colorscale": [
             [
              0,
              "#440154"
             ],
             [
              0.1111111111111111,
              "#482878"
             ],
             [
              0.2222222222222222,
              "#3e4989"
             ],
             [
              0.3333333333333333,
              "#31688e"
             ],
             [
              0.4444444444444444,
              "#26828e"
             ],
             [
              0.5555555555555556,
              "#1f9e89"
             ],
             [
              0.6666666666666666,
              "#35b779"
             ],
             [
              0.7777777777777778,
              "#6ece58"
             ],
             [
              0.8888888888888888,
              "#b5de2b"
             ],
             [
              1,
              "#fde725"
             ]
            ],
            "type": "heatmap"
           }
          ],
          "heatmapgl": [
           {
            "colorbar": {
             "outlinewidth": 1,
             "tickcolor": "rgb(36,36,36)",
             "ticks": "outside"
            },
            "colorscale": [
             [
              0,
              "#440154"
             ],
             [
              0.1111111111111111,
              "#482878"
             ],
             [
              0.2222222222222222,
              "#3e4989"
             ],
             [
              0.3333333333333333,
              "#31688e"
             ],
             [
              0.4444444444444444,
              "#26828e"
             ],
             [
              0.5555555555555556,
              "#1f9e89"
             ],
             [
              0.6666666666666666,
              "#35b779"
             ],
             [
              0.7777777777777778,
              "#6ece58"
             ],
             [
              0.8888888888888888,
              "#b5de2b"
             ],
             [
              1,
              "#fde725"
             ]
            ],
            "type": "heatmapgl"
           }
          ],
          "histogram": [
           {
            "marker": {
             "line": {
              "color": "white",
              "width": 0.6
             }
            },
            "type": "histogram"
           }
          ],
          "histogram2d": [
           {
            "colorbar": {
             "outlinewidth": 1,
             "tickcolor": "rgb(36,36,36)",
             "ticks": "outside"
            },
            "colorscale": [
             [
              0,
              "#440154"
             ],
             [
              0.1111111111111111,
              "#482878"
             ],
             [
              0.2222222222222222,
              "#3e4989"
             ],
             [
              0.3333333333333333,
              "#31688e"
             ],
             [
              0.4444444444444444,
              "#26828e"
             ],
             [
              0.5555555555555556,
              "#1f9e89"
             ],
             [
              0.6666666666666666,
              "#35b779"
             ],
             [
              0.7777777777777778,
              "#6ece58"
             ],
             [
              0.8888888888888888,
              "#b5de2b"
             ],
             [
              1,
              "#fde725"
             ]
            ],
            "type": "histogram2d"
           }
          ],
          "histogram2dcontour": [
           {
            "colorbar": {
             "outlinewidth": 1,
             "tickcolor": "rgb(36,36,36)",
             "ticks": "outside"
            },
            "colorscale": [
             [
              0,
              "#440154"
             ],
             [
              0.1111111111111111,
              "#482878"
             ],
             [
              0.2222222222222222,
              "#3e4989"
             ],
             [
              0.3333333333333333,
              "#31688e"
             ],
             [
              0.4444444444444444,
              "#26828e"
             ],
             [
              0.5555555555555556,
              "#1f9e89"
             ],
             [
              0.6666666666666666,
              "#35b779"
             ],
             [
              0.7777777777777778,
              "#6ece58"
             ],
             [
              0.8888888888888888,
              "#b5de2b"
             ],
             [
              1,
              "#fde725"
             ]
            ],
            "type": "histogram2dcontour"
           }
          ],
          "mesh3d": [
           {
            "colorbar": {
             "outlinewidth": 1,
             "tickcolor": "rgb(36,36,36)",
             "ticks": "outside"
            },
            "type": "mesh3d"
           }
          ],
          "parcoords": [
           {
            "line": {
             "colorbar": {
              "outlinewidth": 1,
              "tickcolor": "rgb(36,36,36)",
              "ticks": "outside"
             }
            },
            "type": "parcoords"
           }
          ],
          "pie": [
           {
            "automargin": true,
            "type": "pie"
           }
          ],
          "scatter": [
           {
            "fillpattern": {
             "fillmode": "overlay",
             "size": 10,
             "solidity": 0.2
            },
            "type": "scatter"
           }
          ],
          "scatter3d": [
           {
            "line": {
             "colorbar": {
              "outlinewidth": 1,
              "tickcolor": "rgb(36,36,36)",
              "ticks": "outside"
             }
            },
            "marker": {
             "colorbar": {
              "outlinewidth": 1,
              "tickcolor": "rgb(36,36,36)",
              "ticks": "outside"
             }
            },
            "type": "scatter3d"
           }
          ],
          "scattercarpet": [
           {
            "marker": {
             "colorbar": {
              "outlinewidth": 1,
              "tickcolor": "rgb(36,36,36)",
              "ticks": "outside"
             }
            },
            "type": "scattercarpet"
           }
          ],
          "scattergeo": [
           {
            "marker": {
             "colorbar": {
              "outlinewidth": 1,
              "tickcolor": "rgb(36,36,36)",
              "ticks": "outside"
             }
            },
            "type": "scattergeo"
           }
          ],
          "scattergl": [
           {
            "marker": {
             "colorbar": {
              "outlinewidth": 1,
              "tickcolor": "rgb(36,36,36)",
              "ticks": "outside"
             }
            },
            "type": "scattergl"
           }
          ],
          "scattermapbox": [
           {
            "marker": {
             "colorbar": {
              "outlinewidth": 1,
              "tickcolor": "rgb(36,36,36)",
              "ticks": "outside"
             }
            },
            "type": "scattermapbox"
           }
          ],
          "scatterpolar": [
           {
            "marker": {
             "colorbar": {
              "outlinewidth": 1,
              "tickcolor": "rgb(36,36,36)",
              "ticks": "outside"
             }
            },
            "type": "scatterpolar"
           }
          ],
          "scatterpolargl": [
           {
            "marker": {
             "colorbar": {
              "outlinewidth": 1,
              "tickcolor": "rgb(36,36,36)",
              "ticks": "outside"
             }
            },
            "type": "scatterpolargl"
           }
          ],
          "scatterternary": [
           {
            "marker": {
             "colorbar": {
              "outlinewidth": 1,
              "tickcolor": "rgb(36,36,36)",
              "ticks": "outside"
             }
            },
            "type": "scatterternary"
           }
          ],
          "surface": [
           {
            "colorbar": {
             "outlinewidth": 1,
             "tickcolor": "rgb(36,36,36)",
             "ticks": "outside"
            },
            "colorscale": [
             [
              0,
              "#440154"
             ],
             [
              0.1111111111111111,
              "#482878"
             ],
             [
              0.2222222222222222,
              "#3e4989"
             ],
             [
              0.3333333333333333,
              "#31688e"
             ],
             [
              0.4444444444444444,
              "#26828e"
             ],
             [
              0.5555555555555556,
              "#1f9e89"
             ],
             [
              0.6666666666666666,
              "#35b779"
             ],
             [
              0.7777777777777778,
              "#6ece58"
             ],
             [
              0.8888888888888888,
              "#b5de2b"
             ],
             [
              1,
              "#fde725"
             ]
            ],
            "type": "surface"
           }
          ],
          "table": [
           {
            "cells": {
             "fill": {
              "color": "rgb(237,237,237)"
             },
             "line": {
              "color": "white"
             }
            },
            "header": {
             "fill": {
              "color": "rgb(217,217,217)"
             },
             "line": {
              "color": "white"
             }
            },
            "type": "table"
           }
          ]
         },
         "layout": {
          "annotationdefaults": {
           "arrowhead": 0,
           "arrowwidth": 1
          },
          "autotypenumbers": "strict",
          "coloraxis": {
           "colorbar": {
            "outlinewidth": 1,
            "tickcolor": "rgb(36,36,36)",
            "ticks": "outside"
           }
          },
          "colorscale": {
           "diverging": [
            [
             0,
             "rgb(103,0,31)"
            ],
            [
             0.1,
             "rgb(178,24,43)"
            ],
            [
             0.2,
             "rgb(214,96,77)"
            ],
            [
             0.3,
             "rgb(244,165,130)"
            ],
            [
             0.4,
             "rgb(253,219,199)"
            ],
            [
             0.5,
             "rgb(247,247,247)"
            ],
            [
             0.6,
             "rgb(209,229,240)"
            ],
            [
             0.7,
             "rgb(146,197,222)"
            ],
            [
             0.8,
             "rgb(67,147,195)"
            ],
            [
             0.9,
             "rgb(33,102,172)"
            ],
            [
             1,
             "rgb(5,48,97)"
            ]
           ],
           "sequential": [
            [
             0,
             "#440154"
            ],
            [
             0.1111111111111111,
             "#482878"
            ],
            [
             0.2222222222222222,
             "#3e4989"
            ],
            [
             0.3333333333333333,
             "#31688e"
            ],
            [
             0.4444444444444444,
             "#26828e"
            ],
            [
             0.5555555555555556,
             "#1f9e89"
            ],
            [
             0.6666666666666666,
             "#35b779"
            ],
            [
             0.7777777777777778,
             "#6ece58"
            ],
            [
             0.8888888888888888,
             "#b5de2b"
            ],
            [
             1,
             "#fde725"
            ]
           ],
           "sequentialminus": [
            [
             0,
             "#440154"
            ],
            [
             0.1111111111111111,
             "#482878"
            ],
            [
             0.2222222222222222,
             "#3e4989"
            ],
            [
             0.3333333333333333,
             "#31688e"
            ],
            [
             0.4444444444444444,
             "#26828e"
            ],
            [
             0.5555555555555556,
             "#1f9e89"
            ],
            [
             0.6666666666666666,
             "#35b779"
            ],
            [
             0.7777777777777778,
             "#6ece58"
            ],
            [
             0.8888888888888888,
             "#b5de2b"
            ],
            [
             1,
             "#fde725"
            ]
           ]
          },
          "colorway": [
           "#1F77B4",
           "#FF7F0E",
           "#2CA02C",
           "#D62728",
           "#9467BD",
           "#8C564B",
           "#E377C2",
           "#7F7F7F",
           "#BCBD22",
           "#17BECF"
          ],
          "font": {
           "color": "rgb(36,36,36)"
          },
          "geo": {
           "bgcolor": "white",
           "lakecolor": "white",
           "landcolor": "white",
           "showlakes": true,
           "showland": true,
           "subunitcolor": "white"
          },
          "hoverlabel": {
           "align": "left"
          },
          "hovermode": "closest",
          "mapbox": {
           "style": "light"
          },
          "paper_bgcolor": "white",
          "plot_bgcolor": "white",
          "polar": {
           "angularaxis": {
            "gridcolor": "rgb(232,232,232)",
            "linecolor": "rgb(36,36,36)",
            "showgrid": false,
            "showline": true,
            "ticks": "outside"
           },
           "bgcolor": "white",
           "radialaxis": {
            "gridcolor": "rgb(232,232,232)",
            "linecolor": "rgb(36,36,36)",
            "showgrid": false,
            "showline": true,
            "ticks": "outside"
           }
          },
          "scene": {
           "xaxis": {
            "backgroundcolor": "white",
            "gridcolor": "rgb(232,232,232)",
            "gridwidth": 2,
            "linecolor": "rgb(36,36,36)",
            "showbackground": true,
            "showgrid": false,
            "showline": true,
            "ticks": "outside",
            "zeroline": false,
            "zerolinecolor": "rgb(36,36,36)"
           },
           "yaxis": {
            "backgroundcolor": "white",
            "gridcolor": "rgb(232,232,232)",
            "gridwidth": 2,
            "linecolor": "rgb(36,36,36)",
            "showbackground": true,
            "showgrid": false,
            "showline": true,
            "ticks": "outside",
            "zeroline": false,
            "zerolinecolor": "rgb(36,36,36)"
           },
           "zaxis": {
            "backgroundcolor": "white",
            "gridcolor": "rgb(232,232,232)",
            "gridwidth": 2,
            "linecolor": "rgb(36,36,36)",
            "showbackground": true,
            "showgrid": false,
            "showline": true,
            "ticks": "outside",
            "zeroline": false,
            "zerolinecolor": "rgb(36,36,36)"
           }
          },
          "shapedefaults": {
           "fillcolor": "black",
           "line": {
            "width": 0
           },
           "opacity": 0.3
          },
          "ternary": {
           "aaxis": {
            "gridcolor": "rgb(232,232,232)",
            "linecolor": "rgb(36,36,36)",
            "showgrid": false,
            "showline": true,
            "ticks": "outside"
           },
           "baxis": {
            "gridcolor": "rgb(232,232,232)",
            "linecolor": "rgb(36,36,36)",
            "showgrid": false,
            "showline": true,
            "ticks": "outside"
           },
           "bgcolor": "white",
           "caxis": {
            "gridcolor": "rgb(232,232,232)",
            "linecolor": "rgb(36,36,36)",
            "showgrid": false,
            "showline": true,
            "ticks": "outside"
           }
          },
          "title": {
           "x": 0.05
          },
          "xaxis": {
           "automargin": true,
           "gridcolor": "rgb(232,232,232)",
           "linecolor": "rgb(36,36,36)",
           "showgrid": false,
           "showline": true,
           "ticks": "outside",
           "title": {
            "standoff": 15
           },
           "zeroline": false,
           "zerolinecolor": "rgb(36,36,36)"
          },
          "yaxis": {
           "automargin": true,
           "gridcolor": "rgb(232,232,232)",
           "linecolor": "rgb(36,36,36)",
           "showgrid": false,
           "showline": true,
           "ticks": "outside",
           "title": {
            "standoff": 15
           },
           "zeroline": false,
           "zerolinecolor": "rgb(36,36,36)"
          }
         }
        },
        "title": {
         "font": {
          "size": 20
         },
         "text": "Optimal Material Combinations to Comprise Desired Composite",
         "x": 0.15
        }
       }
      }
     },
     "metadata": {},
     "output_type": "display_data"
    },
    {
     "data": {
      "application/vnd.plotly.v1+json": {
       "config": {
        "plotlyServerURL": "https://plot.ly"
       },
       "data": [
        {
         "cells": {
          "align": "left",
          "fill": {
           "color": [
            [
             "white",
             "lightgrey",
             "white",
             "lightgrey",
             "white"
            ]
           ]
          },
          "font": {
           "size": 12
          },
          "height": 30,
          "values": [
           [
            {
             "mp-752826": {
              "bulk_modulus": 168.258,
              "elec_cond": 41.0475,
              "shear_modulus": 90.134,
              "therm_cond": 0.000111994,
              "universal_anisotropy": 1.271
             }
            },
            {
             "mp-752826": {
              "bulk_modulus": 168.258,
              "elec_cond": 41.0475,
              "shear_modulus": 90.134,
              "therm_cond": 0.000111994,
              "universal_anisotropy": 1.271
             }
            },
            {
             "mp-752826": {
              "bulk_modulus": 168.258,
              "elec_cond": 41.0475,
              "shear_modulus": 90.134,
              "therm_cond": 0.000111994,
              "universal_anisotropy": 1.271
             }
            },
            {
             "mp-752826": {
              "bulk_modulus": 168.258,
              "elec_cond": 41.0475,
              "shear_modulus": 90.134,
              "therm_cond": 0.000111994,
              "universal_anisotropy": 1.271
             }
            },
            {
             "mp-752826": {
              "bulk_modulus": 168.258,
              "elec_cond": 41.0475,
              "shear_modulus": 90.134,
              "therm_cond": 0.000111994,
              "universal_anisotropy": 1.271
             }
            }
           ],
           [
            {
             "mp-752826": {
              "bulk_modulus": 168.258,
              "elec_cond": 41.0475,
              "shear_modulus": 90.134,
              "therm_cond": 0.000111994,
              "universal_anisotropy": 1.271
             }
            },
            {
             "mp-752826": {
              "bulk_modulus": 168.258,
              "elec_cond": 41.0475,
              "shear_modulus": 90.134,
              "therm_cond": 0.000111994,
              "universal_anisotropy": 1.271
             }
            },
            {
             "mp-752826": {
              "bulk_modulus": 168.258,
              "elec_cond": 41.0475,
              "shear_modulus": 90.134,
              "therm_cond": 0.000111994,
              "universal_anisotropy": 1.271
             }
            },
            {
             "mp-752826": {
              "bulk_modulus": 168.258,
              "elec_cond": 41.0475,
              "shear_modulus": 90.134,
              "therm_cond": 0.000111994,
              "universal_anisotropy": 1.271
             }
            },
            {
             "mp-752826": {
              "bulk_modulus": 168.258,
              "elec_cond": 41.0475,
              "shear_modulus": 90.134,
              "therm_cond": 0.000111994,
              "universal_anisotropy": 1.271
             }
            }
           ],
           [
            {
             "mp-5924": {
              "bulk_modulus": 193.509,
              "elec_cond": 64.5658,
              "shear_modulus": 113.741,
              "therm_cond": 0.000300167,
              "universal_anisotropy": 1.091
             }
            },
            {
             "mp-5924": {
              "bulk_modulus": 193.509,
              "elec_cond": 64.5658,
              "shear_modulus": 113.741,
              "therm_cond": 0.000300167,
              "universal_anisotropy": 1.091
             }
            },
            {
             "mp-5924": {
              "bulk_modulus": 193.509,
              "elec_cond": 64.5658,
              "shear_modulus": 113.741,
              "therm_cond": 0.000300167,
              "universal_anisotropy": 1.091
             }
            },
            {
             "mp-5924": {
              "bulk_modulus": 193.509,
              "elec_cond": 64.5658,
              "shear_modulus": 113.741,
              "therm_cond": 0.000300167,
              "universal_anisotropy": 1.091
             }
            },
            {
             "mp-5924": {
              "bulk_modulus": 193.509,
              "elec_cond": 64.5658,
              "shear_modulus": 113.741,
              "therm_cond": 0.000300167,
              "universal_anisotropy": 1.091
             }
            }
           ],
           [
            41.0475,
            41.0475,
            41.0475,
            41.0475,
            41.0475
           ],
           [
            41.0475,
            41.0475,
            41.0475,
            41.0475,
            41.0475
           ],
           [
            64.5658,
            64.5658,
            64.5658,
            64.5658,
            64.5658
           ],
           [
            0.000111994,
            0.000111994,
            0.000111994,
            0.000111994,
            0.000111994
           ],
           [
            0.000111994,
            0.000111994,
            0.000111994,
            0.000111994,
            0.000111994
           ],
           [
            0.000300167,
            0.000300167,
            0.000300167,
            0.000300167,
            0.000300167
           ],
           [
            168.258,
            168.258,
            168.258,
            168.258,
            168.258
           ],
           [
            168.258,
            168.258,
            168.258,
            168.258,
            168.258
           ],
           [
            193.509,
            193.509,
            193.509,
            193.509,
            193.509
           ],
           [
            90.134,
            90.134,
            90.134,
            90.134,
            90.134
           ],
           [
            90.134,
            90.134,
            90.134,
            90.134,
            90.134
           ],
           [
            113.741,
            113.741,
            113.741,
            113.741,
            113.741
           ],
           [
            1.271,
            1.271,
            1.271,
            1.271,
            1.271
           ],
           [
            1.271,
            1.271,
            1.271,
            1.271,
            1.271
           ],
           [
            1.091,
            1.091,
            1.091,
            1.091,
            1.091
           ],
           [
            0.1789655172413793,
            0.11137931034482758,
            0.1789655172413793,
            0.1789655172413793,
            0.1789655172413793
           ],
           [
            0.8210344827586207,
            0.8886206896551724,
            0.9562068965517241,
            0.9224137931034482,
            0.99
           ],
           [
            0,
            0,
            -0.1351724137931034,
            -0.1013793103448275,
            -0.16896551724137931
           ],
           [
            19.306984403180024,
            21.765349282364177,
            26.959388093865144,
            28.601989027443963,
            28.850203478193194
           ]
          ]
         },
         "columnwidth": 1000,
         "header": {
          "align": "left",
          "fill": {
           "color": "lavender"
          },
          "font": {
           "size": 12
          },
          "height": 30,
          "values": [
           "Material 1 MP-ID",
           "Material 2 MP-ID",
           "Material 3 MP-ID",
           "Phase 1 Electrical conductivity, [S/m]",
           "Phase 2 Electrical conductivity, [S/m]",
           "Phase 3 Electrical conductivity, [S/m]",
           "Phase 1 Thermal conductivity, [W/m/K]",
           "Phase 2 Thermal conductivity, [W/m/K]",
           "Phase 3 Thermal conductivity, [W/m/K]",
           "Phase 1 Bulk modulus, [GPa]",
           "Phase 2 Bulk modulus, [GPa]",
           "Phase 3 Bulk modulus, [GPa]",
           "Phase 1 Shear modulus, [GPa]",
           "Phase 2 Shear modulus, [GPa]",
           "Phase 3 Shear modulus, [GPa]",
           "Phase 1 Universal anisotropy, []",
           "Phase 2 Universal anisotropy, []",
           "Phase 3 Universal anisotropy, []",
           "Phase 1 Volume Fraction",
           "Phase 2 Volume Fraction",
           "Phase 3 Volume Fraction",
           "cost"
          ]
         },
         "type": "table"
        }
       ],
       "layout": {
        "autosize": true,
        "height": 400,
        "margin": {
         "b": 0,
         "l": 0,
         "r": 0,
         "t": 40
        },
        "template": {
         "data": {
          "bar": [
           {
            "error_x": {
             "color": "rgb(36,36,36)"
            },
            "error_y": {
             "color": "rgb(36,36,36)"
            },
            "marker": {
             "line": {
              "color": "white",
              "width": 0.5
             },
             "pattern": {
              "fillmode": "overlay",
              "size": 10,
              "solidity": 0.2
             }
            },
            "type": "bar"
           }
          ],
          "barpolar": [
           {
            "marker": {
             "line": {
              "color": "white",
              "width": 0.5
             },
             "pattern": {
              "fillmode": "overlay",
              "size": 10,
              "solidity": 0.2
             }
            },
            "type": "barpolar"
           }
          ],
          "carpet": [
           {
            "aaxis": {
             "endlinecolor": "rgb(36,36,36)",
             "gridcolor": "white",
             "linecolor": "white",
             "minorgridcolor": "white",
             "startlinecolor": "rgb(36,36,36)"
            },
            "baxis": {
             "endlinecolor": "rgb(36,36,36)",
             "gridcolor": "white",
             "linecolor": "white",
             "minorgridcolor": "white",
             "startlinecolor": "rgb(36,36,36)"
            },
            "type": "carpet"
           }
          ],
          "choropleth": [
           {
            "colorbar": {
             "outlinewidth": 1,
             "tickcolor": "rgb(36,36,36)",
             "ticks": "outside"
            },
            "type": "choropleth"
           }
          ],
          "contour": [
           {
            "colorbar": {
             "outlinewidth": 1,
             "tickcolor": "rgb(36,36,36)",
             "ticks": "outside"
            },
            "colorscale": [
             [
              0,
              "#440154"
             ],
             [
              0.1111111111111111,
              "#482878"
             ],
             [
              0.2222222222222222,
              "#3e4989"
             ],
             [
              0.3333333333333333,
              "#31688e"
             ],
             [
              0.4444444444444444,
              "#26828e"
             ],
             [
              0.5555555555555556,
              "#1f9e89"
             ],
             [
              0.6666666666666666,
              "#35b779"
             ],
             [
              0.7777777777777778,
              "#6ece58"
             ],
             [
              0.8888888888888888,
              "#b5de2b"
             ],
             [
              1,
              "#fde725"
             ]
            ],
            "type": "contour"
           }
          ],
          "contourcarpet": [
           {
            "colorbar": {
             "outlinewidth": 1,
             "tickcolor": "rgb(36,36,36)",
             "ticks": "outside"
            },
            "type": "contourcarpet"
           }
          ],
          "heatmap": [
           {
            "colorbar": {
             "outlinewidth": 1,
             "tickcolor": "rgb(36,36,36)",
             "ticks": "outside"
            },
            "colorscale": [
             [
              0,
              "#440154"
             ],
             [
              0.1111111111111111,
              "#482878"
             ],
             [
              0.2222222222222222,
              "#3e4989"
             ],
             [
              0.3333333333333333,
              "#31688e"
             ],
             [
              0.4444444444444444,
              "#26828e"
             ],
             [
              0.5555555555555556,
              "#1f9e89"
             ],
             [
              0.6666666666666666,
              "#35b779"
             ],
             [
              0.7777777777777778,
              "#6ece58"
             ],
             [
              0.8888888888888888,
              "#b5de2b"
             ],
             [
              1,
              "#fde725"
             ]
            ],
            "type": "heatmap"
           }
          ],
          "heatmapgl": [
           {
            "colorbar": {
             "outlinewidth": 1,
             "tickcolor": "rgb(36,36,36)",
             "ticks": "outside"
            },
            "colorscale": [
             [
              0,
              "#440154"
             ],
             [
              0.1111111111111111,
              "#482878"
             ],
             [
              0.2222222222222222,
              "#3e4989"
             ],
             [
              0.3333333333333333,
              "#31688e"
             ],
             [
              0.4444444444444444,
              "#26828e"
             ],
             [
              0.5555555555555556,
              "#1f9e89"
             ],
             [
              0.6666666666666666,
              "#35b779"
             ],
             [
              0.7777777777777778,
              "#6ece58"
             ],
             [
              0.8888888888888888,
              "#b5de2b"
             ],
             [
              1,
              "#fde725"
             ]
            ],
            "type": "heatmapgl"
           }
          ],
          "histogram": [
           {
            "marker": {
             "line": {
              "color": "white",
              "width": 0.6
             }
            },
            "type": "histogram"
           }
          ],
          "histogram2d": [
           {
            "colorbar": {
             "outlinewidth": 1,
             "tickcolor": "rgb(36,36,36)",
             "ticks": "outside"
            },
            "colorscale": [
             [
              0,
              "#440154"
             ],
             [
              0.1111111111111111,
              "#482878"
             ],
             [
              0.2222222222222222,
              "#3e4989"
             ],
             [
              0.3333333333333333,
              "#31688e"
             ],
             [
              0.4444444444444444,
              "#26828e"
             ],
             [
              0.5555555555555556,
              "#1f9e89"
             ],
             [
              0.6666666666666666,
              "#35b779"
             ],
             [
              0.7777777777777778,
              "#6ece58"
             ],
             [
              0.8888888888888888,
              "#b5de2b"
             ],
             [
              1,
              "#fde725"
             ]
            ],
            "type": "histogram2d"
           }
          ],
          "histogram2dcontour": [
           {
            "colorbar": {
             "outlinewidth": 1,
             "tickcolor": "rgb(36,36,36)",
             "ticks": "outside"
            },
            "colorscale": [
             [
              0,
              "#440154"
             ],
             [
              0.1111111111111111,
              "#482878"
             ],
             [
              0.2222222222222222,
              "#3e4989"
             ],
             [
              0.3333333333333333,
              "#31688e"
             ],
             [
              0.4444444444444444,
              "#26828e"
             ],
             [
              0.5555555555555556,
              "#1f9e89"
             ],
             [
              0.6666666666666666,
              "#35b779"
             ],
             [
              0.7777777777777778,
              "#6ece58"
             ],
             [
              0.8888888888888888,
              "#b5de2b"
             ],
             [
              1,
              "#fde725"
             ]
            ],
            "type": "histogram2dcontour"
           }
          ],
          "mesh3d": [
           {
            "colorbar": {
             "outlinewidth": 1,
             "tickcolor": "rgb(36,36,36)",
             "ticks": "outside"
            },
            "type": "mesh3d"
           }
          ],
          "parcoords": [
           {
            "line": {
             "colorbar": {
              "outlinewidth": 1,
              "tickcolor": "rgb(36,36,36)",
              "ticks": "outside"
             }
            },
            "type": "parcoords"
           }
          ],
          "pie": [
           {
            "automargin": true,
            "type": "pie"
           }
          ],
          "scatter": [
           {
            "fillpattern": {
             "fillmode": "overlay",
             "size": 10,
             "solidity": 0.2
            },
            "type": "scatter"
           }
          ],
          "scatter3d": [
           {
            "line": {
             "colorbar": {
              "outlinewidth": 1,
              "tickcolor": "rgb(36,36,36)",
              "ticks": "outside"
             }
            },
            "marker": {
             "colorbar": {
              "outlinewidth": 1,
              "tickcolor": "rgb(36,36,36)",
              "ticks": "outside"
             }
            },
            "type": "scatter3d"
           }
          ],
          "scattercarpet": [
           {
            "marker": {
             "colorbar": {
              "outlinewidth": 1,
              "tickcolor": "rgb(36,36,36)",
              "ticks": "outside"
             }
            },
            "type": "scattercarpet"
           }
          ],
          "scattergeo": [
           {
            "marker": {
             "colorbar": {
              "outlinewidth": 1,
              "tickcolor": "rgb(36,36,36)",
              "ticks": "outside"
             }
            },
            "type": "scattergeo"
           }
          ],
          "scattergl": [
           {
            "marker": {
             "colorbar": {
              "outlinewidth": 1,
              "tickcolor": "rgb(36,36,36)",
              "ticks": "outside"
             }
            },
            "type": "scattergl"
           }
          ],
          "scattermapbox": [
           {
            "marker": {
             "colorbar": {
              "outlinewidth": 1,
              "tickcolor": "rgb(36,36,36)",
              "ticks": "outside"
             }
            },
            "type": "scattermapbox"
           }
          ],
          "scatterpolar": [
           {
            "marker": {
             "colorbar": {
              "outlinewidth": 1,
              "tickcolor": "rgb(36,36,36)",
              "ticks": "outside"
             }
            },
            "type": "scatterpolar"
           }
          ],
          "scatterpolargl": [
           {
            "marker": {
             "colorbar": {
              "outlinewidth": 1,
              "tickcolor": "rgb(36,36,36)",
              "ticks": "outside"
             }
            },
            "type": "scatterpolargl"
           }
          ],
          "scatterternary": [
           {
            "marker": {
             "colorbar": {
              "outlinewidth": 1,
              "tickcolor": "rgb(36,36,36)",
              "ticks": "outside"
             }
            },
            "type": "scatterternary"
           }
          ],
          "surface": [
           {
            "colorbar": {
             "outlinewidth": 1,
             "tickcolor": "rgb(36,36,36)",
             "ticks": "outside"
            },
            "colorscale": [
             [
              0,
              "#440154"
             ],
             [
              0.1111111111111111,
              "#482878"
             ],
             [
              0.2222222222222222,
              "#3e4989"
             ],
             [
              0.3333333333333333,
              "#31688e"
             ],
             [
              0.4444444444444444,
              "#26828e"
             ],
             [
              0.5555555555555556,
              "#1f9e89"
             ],
             [
              0.6666666666666666,
              "#35b779"
             ],
             [
              0.7777777777777778,
              "#6ece58"
             ],
             [
              0.8888888888888888,
              "#b5de2b"
             ],
             [
              1,
              "#fde725"
             ]
            ],
            "type": "surface"
           }
          ],
          "table": [
           {
            "cells": {
             "fill": {
              "color": "rgb(237,237,237)"
             },
             "line": {
              "color": "white"
             }
            },
            "header": {
             "fill": {
              "color": "rgb(217,217,217)"
             },
             "line": {
              "color": "white"
             }
            },
            "type": "table"
           }
          ]
         },
         "layout": {
          "annotationdefaults": {
           "arrowhead": 0,
           "arrowwidth": 1
          },
          "autotypenumbers": "strict",
          "coloraxis": {
           "colorbar": {
            "outlinewidth": 1,
            "tickcolor": "rgb(36,36,36)",
            "ticks": "outside"
           }
          },
          "colorscale": {
           "diverging": [
            [
             0,
             "rgb(103,0,31)"
            ],
            [
             0.1,
             "rgb(178,24,43)"
            ],
            [
             0.2,
             "rgb(214,96,77)"
            ],
            [
             0.3,
             "rgb(244,165,130)"
            ],
            [
             0.4,
             "rgb(253,219,199)"
            ],
            [
             0.5,
             "rgb(247,247,247)"
            ],
            [
             0.6,
             "rgb(209,229,240)"
            ],
            [
             0.7,
             "rgb(146,197,222)"
            ],
            [
             0.8,
             "rgb(67,147,195)"
            ],
            [
             0.9,
             "rgb(33,102,172)"
            ],
            [
             1,
             "rgb(5,48,97)"
            ]
           ],
           "sequential": [
            [
             0,
             "#440154"
            ],
            [
             0.1111111111111111,
             "#482878"
            ],
            [
             0.2222222222222222,
             "#3e4989"
            ],
            [
             0.3333333333333333,
             "#31688e"
            ],
            [
             0.4444444444444444,
             "#26828e"
            ],
            [
             0.5555555555555556,
             "#1f9e89"
            ],
            [
             0.6666666666666666,
             "#35b779"
            ],
            [
             0.7777777777777778,
             "#6ece58"
            ],
            [
             0.8888888888888888,
             "#b5de2b"
            ],
            [
             1,
             "#fde725"
            ]
           ],
           "sequentialminus": [
            [
             0,
             "#440154"
            ],
            [
             0.1111111111111111,
             "#482878"
            ],
            [
             0.2222222222222222,
             "#3e4989"
            ],
            [
             0.3333333333333333,
             "#31688e"
            ],
            [
             0.4444444444444444,
             "#26828e"
            ],
            [
             0.5555555555555556,
             "#1f9e89"
            ],
            [
             0.6666666666666666,
             "#35b779"
            ],
            [
             0.7777777777777778,
             "#6ece58"
            ],
            [
             0.8888888888888888,
             "#b5de2b"
            ],
            [
             1,
             "#fde725"
            ]
           ]
          },
          "colorway": [
           "#1F77B4",
           "#FF7F0E",
           "#2CA02C",
           "#D62728",
           "#9467BD",
           "#8C564B",
           "#E377C2",
           "#7F7F7F",
           "#BCBD22",
           "#17BECF"
          ],
          "font": {
           "color": "rgb(36,36,36)"
          },
          "geo": {
           "bgcolor": "white",
           "lakecolor": "white",
           "landcolor": "white",
           "showlakes": true,
           "showland": true,
           "subunitcolor": "white"
          },
          "hoverlabel": {
           "align": "left"
          },
          "hovermode": "closest",
          "mapbox": {
           "style": "light"
          },
          "paper_bgcolor": "white",
          "plot_bgcolor": "white",
          "polar": {
           "angularaxis": {
            "gridcolor": "rgb(232,232,232)",
            "linecolor": "rgb(36,36,36)",
            "showgrid": false,
            "showline": true,
            "ticks": "outside"
           },
           "bgcolor": "white",
           "radialaxis": {
            "gridcolor": "rgb(232,232,232)",
            "linecolor": "rgb(36,36,36)",
            "showgrid": false,
            "showline": true,
            "ticks": "outside"
           }
          },
          "scene": {
           "xaxis": {
            "backgroundcolor": "white",
            "gridcolor": "rgb(232,232,232)",
            "gridwidth": 2,
            "linecolor": "rgb(36,36,36)",
            "showbackground": true,
            "showgrid": false,
            "showline": true,
            "ticks": "outside",
            "zeroline": false,
            "zerolinecolor": "rgb(36,36,36)"
           },
           "yaxis": {
            "backgroundcolor": "white",
            "gridcolor": "rgb(232,232,232)",
            "gridwidth": 2,
            "linecolor": "rgb(36,36,36)",
            "showbackground": true,
            "showgrid": false,
            "showline": true,
            "ticks": "outside",
            "zeroline": false,
            "zerolinecolor": "rgb(36,36,36)"
           },
           "zaxis": {
            "backgroundcolor": "white",
            "gridcolor": "rgb(232,232,232)",
            "gridwidth": 2,
            "linecolor": "rgb(36,36,36)",
            "showbackground": true,
            "showgrid": false,
            "showline": true,
            "ticks": "outside",
            "zeroline": false,
            "zerolinecolor": "rgb(36,36,36)"
           }
          },
          "shapedefaults": {
           "fillcolor": "black",
           "line": {
            "width": 0
           },
           "opacity": 0.3
          },
          "ternary": {
           "aaxis": {
            "gridcolor": "rgb(232,232,232)",
            "linecolor": "rgb(36,36,36)",
            "showgrid": false,
            "showline": true,
            "ticks": "outside"
           },
           "baxis": {
            "gridcolor": "rgb(232,232,232)",
            "linecolor": "rgb(36,36,36)",
            "showgrid": false,
            "showline": true,
            "ticks": "outside"
           },
           "bgcolor": "white",
           "caxis": {
            "gridcolor": "rgb(232,232,232)",
            "linecolor": "rgb(36,36,36)",
            "showgrid": false,
            "showline": true,
            "ticks": "outside"
           }
          },
          "title": {
           "x": 0.05
          },
          "xaxis": {
           "automargin": true,
           "gridcolor": "rgb(232,232,232)",
           "linecolor": "rgb(36,36,36)",
           "showgrid": false,
           "showline": true,
           "ticks": "outside",
           "title": {
            "standoff": 15
           },
           "zeroline": false,
           "zerolinecolor": "rgb(36,36,36)"
          },
          "yaxis": {
           "automargin": true,
           "gridcolor": "rgb(232,232,232)",
           "linecolor": "rgb(36,36,36)",
           "showgrid": false,
           "showline": true,
           "ticks": "outside",
           "title": {
            "standoff": 15
           },
           "zeroline": false,
           "zerolinecolor": "rgb(36,36,36)"
          }
         }
        },
        "title": {
         "font": {
          "size": 20
         },
         "text": "Optimal Material Combinations to Comprise Desired Composite",
         "x": 0.15
        }
       }
      }
     },
     "metadata": {},
     "output_type": "display_data"
    },
    {
     "data": {
      "application/vnd.plotly.v1+json": {
       "config": {
        "plotlyServerURL": "https://plot.ly"
       },
       "data": [
        {
         "cells": {
          "align": "left",
          "fill": {
           "color": [
            [
             "white",
             "lightgrey",
             "white",
             "lightgrey",
             "white"
            ]
           ]
          },
          "font": {
           "size": 12
          },
          "height": 30,
          "values": [
           [
            {
             "mp-752826": {
              "bulk_modulus": 168.258,
              "elec_cond": 41.0475,
              "shear_modulus": 90.134,
              "therm_cond": 0.000111994,
              "universal_anisotropy": 1.271
             }
            },
            {
             "mp-752826": {
              "bulk_modulus": 168.258,
              "elec_cond": 41.0475,
              "shear_modulus": 90.134,
              "therm_cond": 0.000111994,
              "universal_anisotropy": 1.271
             }
            },
            {
             "mp-752826": {
              "bulk_modulus": 168.258,
              "elec_cond": 41.0475,
              "shear_modulus": 90.134,
              "therm_cond": 0.000111994,
              "universal_anisotropy": 1.271
             }
            },
            {
             "mp-752826": {
              "bulk_modulus": 168.258,
              "elec_cond": 41.0475,
              "shear_modulus": 90.134,
              "therm_cond": 0.000111994,
              "universal_anisotropy": 1.271
             }
            },
            {
             "mp-752826": {
              "bulk_modulus": 168.258,
              "elec_cond": 41.0475,
              "shear_modulus": 90.134,
              "therm_cond": 0.000111994,
              "universal_anisotropy": 1.271
             }
            }
           ],
           [
            {
             "mp-3536": {
              "bulk_modulus": 182.861,
              "elec_cond": 77.0117,
              "shear_modulus": 107.669,
              "therm_cond": 0.000316911,
              "universal_anisotropy": 1.062
             }
            },
            {
             "mp-3536": {
              "bulk_modulus": 182.861,
              "elec_cond": 77.0117,
              "shear_modulus": 107.669,
              "therm_cond": 0.000316911,
              "universal_anisotropy": 1.062
             }
            },
            {
             "mp-3536": {
              "bulk_modulus": 182.861,
              "elec_cond": 77.0117,
              "shear_modulus": 107.669,
              "therm_cond": 0.000316911,
              "universal_anisotropy": 1.062
             }
            },
            {
             "mp-3536": {
              "bulk_modulus": 182.861,
              "elec_cond": 77.0117,
              "shear_modulus": 107.669,
              "therm_cond": 0.000316911,
              "universal_anisotropy": 1.062
             }
            },
            {
             "mp-3536": {
              "bulk_modulus": 182.861,
              "elec_cond": 77.0117,
              "shear_modulus": 107.669,
              "therm_cond": 0.000316911,
              "universal_anisotropy": 1.062
             }
            }
           ],
           [
            {
             "mp-752826": {
              "bulk_modulus": 168.258,
              "elec_cond": 41.0475,
              "shear_modulus": 90.134,
              "therm_cond": 0.000111994,
              "universal_anisotropy": 1.271
             }
            },
            {
             "mp-752826": {
              "bulk_modulus": 168.258,
              "elec_cond": 41.0475,
              "shear_modulus": 90.134,
              "therm_cond": 0.000111994,
              "universal_anisotropy": 1.271
             }
            },
            {
             "mp-752826": {
              "bulk_modulus": 168.258,
              "elec_cond": 41.0475,
              "shear_modulus": 90.134,
              "therm_cond": 0.000111994,
              "universal_anisotropy": 1.271
             }
            },
            {
             "mp-752826": {
              "bulk_modulus": 168.258,
              "elec_cond": 41.0475,
              "shear_modulus": 90.134,
              "therm_cond": 0.000111994,
              "universal_anisotropy": 1.271
             }
            },
            {
             "mp-752826": {
              "bulk_modulus": 168.258,
              "elec_cond": 41.0475,
              "shear_modulus": 90.134,
              "therm_cond": 0.000111994,
              "universal_anisotropy": 1.271
             }
            }
           ],
           [
            41.0475,
            41.0475,
            41.0475,
            41.0475,
            41.0475
           ],
           [
            77.0117,
            77.0117,
            77.0117,
            77.0117,
            77.0117
           ],
           [
            41.0475,
            41.0475,
            41.0475,
            41.0475,
            41.0475
           ],
           [
            0.000111994,
            0.000111994,
            0.000111994,
            0.000111994,
            0.000111994
           ],
           [
            0.000316911,
            0.000316911,
            0.000316911,
            0.000316911,
            0.000316911
           ],
           [
            0.000111994,
            0.000111994,
            0.000111994,
            0.000111994,
            0.000111994
           ],
           [
            168.258,
            168.258,
            168.258,
            168.258,
            168.258
           ],
           [
            182.861,
            182.861,
            182.861,
            182.861,
            182.861
           ],
           [
            168.258,
            168.258,
            168.258,
            168.258,
            168.258
           ],
           [
            90.134,
            90.134,
            90.134,
            90.134,
            90.134
           ],
           [
            107.669,
            107.669,
            107.669,
            107.669,
            107.669
           ],
           [
            90.134,
            90.134,
            90.134,
            90.134,
            90.134
           ],
           [
            1.271,
            1.271,
            1.271,
            1.271,
            1.271
           ],
           [
            1.062,
            1.062,
            1.062,
            1.062,
            1.062
           ],
           [
            1.271,
            1.271,
            1.271,
            1.271,
            1.271
           ],
           [
            0.1789655172413793,
            0.11137931034482758,
            0.1789655172413793,
            0.1789655172413793,
            0.1789655172413793
           ],
           [
            0.8210344827586207,
            0.8886206896551724,
            0.9562068965517241,
            0.99,
            0.9224137931034482
           ],
           [
            0,
            0,
            -0.1351724137931034,
            -0.16896551724137931,
            -0.1013793103448275
           ],
           [
            17.952493473140237,
            19.23026924052361,
            24.86927617328575,
            26.069127981877717,
            26.910672276149448
           ]
          ]
         },
         "columnwidth": 1000,
         "header": {
          "align": "left",
          "fill": {
           "color": "lavender"
          },
          "font": {
           "size": 12
          },
          "height": 30,
          "values": [
           "Material 1 MP-ID",
           "Material 2 MP-ID",
           "Material 3 MP-ID",
           "Phase 1 Electrical conductivity, [S/m]",
           "Phase 2 Electrical conductivity, [S/m]",
           "Phase 3 Electrical conductivity, [S/m]",
           "Phase 1 Thermal conductivity, [W/m/K]",
           "Phase 2 Thermal conductivity, [W/m/K]",
           "Phase 3 Thermal conductivity, [W/m/K]",
           "Phase 1 Bulk modulus, [GPa]",
           "Phase 2 Bulk modulus, [GPa]",
           "Phase 3 Bulk modulus, [GPa]",
           "Phase 1 Shear modulus, [GPa]",
           "Phase 2 Shear modulus, [GPa]",
           "Phase 3 Shear modulus, [GPa]",
           "Phase 1 Universal anisotropy, []",
           "Phase 2 Universal anisotropy, []",
           "Phase 3 Universal anisotropy, []",
           "Phase 1 Volume Fraction",
           "Phase 2 Volume Fraction",
           "Phase 3 Volume Fraction",
           "cost"
          ]
         },
         "type": "table"
        }
       ],
       "layout": {
        "autosize": true,
        "height": 400,
        "margin": {
         "b": 0,
         "l": 0,
         "r": 0,
         "t": 40
        },
        "template": {
         "data": {
          "bar": [
           {
            "error_x": {
             "color": "rgb(36,36,36)"
            },
            "error_y": {
             "color": "rgb(36,36,36)"
            },
            "marker": {
             "line": {
              "color": "white",
              "width": 0.5
             },
             "pattern": {
              "fillmode": "overlay",
              "size": 10,
              "solidity": 0.2
             }
            },
            "type": "bar"
           }
          ],
          "barpolar": [
           {
            "marker": {
             "line": {
              "color": "white",
              "width": 0.5
             },
             "pattern": {
              "fillmode": "overlay",
              "size": 10,
              "solidity": 0.2
             }
            },
            "type": "barpolar"
           }
          ],
          "carpet": [
           {
            "aaxis": {
             "endlinecolor": "rgb(36,36,36)",
             "gridcolor": "white",
             "linecolor": "white",
             "minorgridcolor": "white",
             "startlinecolor": "rgb(36,36,36)"
            },
            "baxis": {
             "endlinecolor": "rgb(36,36,36)",
             "gridcolor": "white",
             "linecolor": "white",
             "minorgridcolor": "white",
             "startlinecolor": "rgb(36,36,36)"
            },
            "type": "carpet"
           }
          ],
          "choropleth": [
           {
            "colorbar": {
             "outlinewidth": 1,
             "tickcolor": "rgb(36,36,36)",
             "ticks": "outside"
            },
            "type": "choropleth"
           }
          ],
          "contour": [
           {
            "colorbar": {
             "outlinewidth": 1,
             "tickcolor": "rgb(36,36,36)",
             "ticks": "outside"
            },
            "colorscale": [
             [
              0,
              "#440154"
             ],
             [
              0.1111111111111111,
              "#482878"
             ],
             [
              0.2222222222222222,
              "#3e4989"
             ],
             [
              0.3333333333333333,
              "#31688e"
             ],
             [
              0.4444444444444444,
              "#26828e"
             ],
             [
              0.5555555555555556,
              "#1f9e89"
             ],
             [
              0.6666666666666666,
              "#35b779"
             ],
             [
              0.7777777777777778,
              "#6ece58"
             ],
             [
              0.8888888888888888,
              "#b5de2b"
             ],
             [
              1,
              "#fde725"
             ]
            ],
            "type": "contour"
           }
          ],
          "contourcarpet": [
           {
            "colorbar": {
             "outlinewidth": 1,
             "tickcolor": "rgb(36,36,36)",
             "ticks": "outside"
            },
            "type": "contourcarpet"
           }
          ],
          "heatmap": [
           {
            "colorbar": {
             "outlinewidth": 1,
             "tickcolor": "rgb(36,36,36)",
             "ticks": "outside"
            },
            "colorscale": [
             [
              0,
              "#440154"
             ],
             [
              0.1111111111111111,
              "#482878"
             ],
             [
              0.2222222222222222,
              "#3e4989"
             ],
             [
              0.3333333333333333,
              "#31688e"
             ],
             [
              0.4444444444444444,
              "#26828e"
             ],
             [
              0.5555555555555556,
              "#1f9e89"
             ],
             [
              0.6666666666666666,
              "#35b779"
             ],
             [
              0.7777777777777778,
              "#6ece58"
             ],
             [
              0.8888888888888888,
              "#b5de2b"
             ],
             [
              1,
              "#fde725"
             ]
            ],
            "type": "heatmap"
           }
          ],
          "heatmapgl": [
           {
            "colorbar": {
             "outlinewidth": 1,
             "tickcolor": "rgb(36,36,36)",
             "ticks": "outside"
            },
            "colorscale": [
             [
              0,
              "#440154"
             ],
             [
              0.1111111111111111,
              "#482878"
             ],
             [
              0.2222222222222222,
              "#3e4989"
             ],
             [
              0.3333333333333333,
              "#31688e"
             ],
             [
              0.4444444444444444,
              "#26828e"
             ],
             [
              0.5555555555555556,
              "#1f9e89"
             ],
             [
              0.6666666666666666,
              "#35b779"
             ],
             [
              0.7777777777777778,
              "#6ece58"
             ],
             [
              0.8888888888888888,
              "#b5de2b"
             ],
             [
              1,
              "#fde725"
             ]
            ],
            "type": "heatmapgl"
           }
          ],
          "histogram": [
           {
            "marker": {
             "line": {
              "color": "white",
              "width": 0.6
             }
            },
            "type": "histogram"
           }
          ],
          "histogram2d": [
           {
            "colorbar": {
             "outlinewidth": 1,
             "tickcolor": "rgb(36,36,36)",
             "ticks": "outside"
            },
            "colorscale": [
             [
              0,
              "#440154"
             ],
             [
              0.1111111111111111,
              "#482878"
             ],
             [
              0.2222222222222222,
              "#3e4989"
             ],
             [
              0.3333333333333333,
              "#31688e"
             ],
             [
              0.4444444444444444,
              "#26828e"
             ],
             [
              0.5555555555555556,
              "#1f9e89"
             ],
             [
              0.6666666666666666,
              "#35b779"
             ],
             [
              0.7777777777777778,
              "#6ece58"
             ],
             [
              0.8888888888888888,
              "#b5de2b"
             ],
             [
              1,
              "#fde725"
             ]
            ],
            "type": "histogram2d"
           }
          ],
          "histogram2dcontour": [
           {
            "colorbar": {
             "outlinewidth": 1,
             "tickcolor": "rgb(36,36,36)",
             "ticks": "outside"
            },
            "colorscale": [
             [
              0,
              "#440154"
             ],
             [
              0.1111111111111111,
              "#482878"
             ],
             [
              0.2222222222222222,
              "#3e4989"
             ],
             [
              0.3333333333333333,
              "#31688e"
             ],
             [
              0.4444444444444444,
              "#26828e"
             ],
             [
              0.5555555555555556,
              "#1f9e89"
             ],
             [
              0.6666666666666666,
              "#35b779"
             ],
             [
              0.7777777777777778,
              "#6ece58"
             ],
             [
              0.8888888888888888,
              "#b5de2b"
             ],
             [
              1,
              "#fde725"
             ]
            ],
            "type": "histogram2dcontour"
           }
          ],
          "mesh3d": [
           {
            "colorbar": {
             "outlinewidth": 1,
             "tickcolor": "rgb(36,36,36)",
             "ticks": "outside"
            },
            "type": "mesh3d"
           }
          ],
          "parcoords": [
           {
            "line": {
             "colorbar": {
              "outlinewidth": 1,
              "tickcolor": "rgb(36,36,36)",
              "ticks": "outside"
             }
            },
            "type": "parcoords"
           }
          ],
          "pie": [
           {
            "automargin": true,
            "type": "pie"
           }
          ],
          "scatter": [
           {
            "fillpattern": {
             "fillmode": "overlay",
             "size": 10,
             "solidity": 0.2
            },
            "type": "scatter"
           }
          ],
          "scatter3d": [
           {
            "line": {
             "colorbar": {
              "outlinewidth": 1,
              "tickcolor": "rgb(36,36,36)",
              "ticks": "outside"
             }
            },
            "marker": {
             "colorbar": {
              "outlinewidth": 1,
              "tickcolor": "rgb(36,36,36)",
              "ticks": "outside"
             }
            },
            "type": "scatter3d"
           }
          ],
          "scattercarpet": [
           {
            "marker": {
             "colorbar": {
              "outlinewidth": 1,
              "tickcolor": "rgb(36,36,36)",
              "ticks": "outside"
             }
            },
            "type": "scattercarpet"
           }
          ],
          "scattergeo": [
           {
            "marker": {
             "colorbar": {
              "outlinewidth": 1,
              "tickcolor": "rgb(36,36,36)",
              "ticks": "outside"
             }
            },
            "type": "scattergeo"
           }
          ],
          "scattergl": [
           {
            "marker": {
             "colorbar": {
              "outlinewidth": 1,
              "tickcolor": "rgb(36,36,36)",
              "ticks": "outside"
             }
            },
            "type": "scattergl"
           }
          ],
          "scattermapbox": [
           {
            "marker": {
             "colorbar": {
              "outlinewidth": 1,
              "tickcolor": "rgb(36,36,36)",
              "ticks": "outside"
             }
            },
            "type": "scattermapbox"
           }
          ],
          "scatterpolar": [
           {
            "marker": {
             "colorbar": {
              "outlinewidth": 1,
              "tickcolor": "rgb(36,36,36)",
              "ticks": "outside"
             }
            },
            "type": "scatterpolar"
           }
          ],
          "scatterpolargl": [
           {
            "marker": {
             "colorbar": {
              "outlinewidth": 1,
              "tickcolor": "rgb(36,36,36)",
              "ticks": "outside"
             }
            },
            "type": "scatterpolargl"
           }
          ],
          "scatterternary": [
           {
            "marker": {
             "colorbar": {
              "outlinewidth": 1,
              "tickcolor": "rgb(36,36,36)",
              "ticks": "outside"
             }
            },
            "type": "scatterternary"
           }
          ],
          "surface": [
           {
            "colorbar": {
             "outlinewidth": 1,
             "tickcolor": "rgb(36,36,36)",
             "ticks": "outside"
            },
            "colorscale": [
             [
              0,
              "#440154"
             ],
             [
              0.1111111111111111,
              "#482878"
             ],
             [
              0.2222222222222222,
              "#3e4989"
             ],
             [
              0.3333333333333333,
              "#31688e"
             ],
             [
              0.4444444444444444,
              "#26828e"
             ],
             [
              0.5555555555555556,
              "#1f9e89"
             ],
             [
              0.6666666666666666,
              "#35b779"
             ],
             [
              0.7777777777777778,
              "#6ece58"
             ],
             [
              0.8888888888888888,
              "#b5de2b"
             ],
             [
              1,
              "#fde725"
             ]
            ],
            "type": "surface"
           }
          ],
          "table": [
           {
            "cells": {
             "fill": {
              "color": "rgb(237,237,237)"
             },
             "line": {
              "color": "white"
             }
            },
            "header": {
             "fill": {
              "color": "rgb(217,217,217)"
             },
             "line": {
              "color": "white"
             }
            },
            "type": "table"
           }
          ]
         },
         "layout": {
          "annotationdefaults": {
           "arrowhead": 0,
           "arrowwidth": 1
          },
          "autotypenumbers": "strict",
          "coloraxis": {
           "colorbar": {
            "outlinewidth": 1,
            "tickcolor": "rgb(36,36,36)",
            "ticks": "outside"
           }
          },
          "colorscale": {
           "diverging": [
            [
             0,
             "rgb(103,0,31)"
            ],
            [
             0.1,
             "rgb(178,24,43)"
            ],
            [
             0.2,
             "rgb(214,96,77)"
            ],
            [
             0.3,
             "rgb(244,165,130)"
            ],
            [
             0.4,
             "rgb(253,219,199)"
            ],
            [
             0.5,
             "rgb(247,247,247)"
            ],
            [
             0.6,
             "rgb(209,229,240)"
            ],
            [
             0.7,
             "rgb(146,197,222)"
            ],
            [
             0.8,
             "rgb(67,147,195)"
            ],
            [
             0.9,
             "rgb(33,102,172)"
            ],
            [
             1,
             "rgb(5,48,97)"
            ]
           ],
           "sequential": [
            [
             0,
             "#440154"
            ],
            [
             0.1111111111111111,
             "#482878"
            ],
            [
             0.2222222222222222,
             "#3e4989"
            ],
            [
             0.3333333333333333,
             "#31688e"
            ],
            [
             0.4444444444444444,
             "#26828e"
            ],
            [
             0.5555555555555556,
             "#1f9e89"
            ],
            [
             0.6666666666666666,
             "#35b779"
            ],
            [
             0.7777777777777778,
             "#6ece58"
            ],
            [
             0.8888888888888888,
             "#b5de2b"
            ],
            [
             1,
             "#fde725"
            ]
           ],
           "sequentialminus": [
            [
             0,
             "#440154"
            ],
            [
             0.1111111111111111,
             "#482878"
            ],
            [
             0.2222222222222222,
             "#3e4989"
            ],
            [
             0.3333333333333333,
             "#31688e"
            ],
            [
             0.4444444444444444,
             "#26828e"
            ],
            [
             0.5555555555555556,
             "#1f9e89"
            ],
            [
             0.6666666666666666,
             "#35b779"
            ],
            [
             0.7777777777777778,
             "#6ece58"
            ],
            [
             0.8888888888888888,
             "#b5de2b"
            ],
            [
             1,
             "#fde725"
            ]
           ]
          },
          "colorway": [
           "#1F77B4",
           "#FF7F0E",
           "#2CA02C",
           "#D62728",
           "#9467BD",
           "#8C564B",
           "#E377C2",
           "#7F7F7F",
           "#BCBD22",
           "#17BECF"
          ],
          "font": {
           "color": "rgb(36,36,36)"
          },
          "geo": {
           "bgcolor": "white",
           "lakecolor": "white",
           "landcolor": "white",
           "showlakes": true,
           "showland": true,
           "subunitcolor": "white"
          },
          "hoverlabel": {
           "align": "left"
          },
          "hovermode": "closest",
          "mapbox": {
           "style": "light"
          },
          "paper_bgcolor": "white",
          "plot_bgcolor": "white",
          "polar": {
           "angularaxis": {
            "gridcolor": "rgb(232,232,232)",
            "linecolor": "rgb(36,36,36)",
            "showgrid": false,
            "showline": true,
            "ticks": "outside"
           },
           "bgcolor": "white",
           "radialaxis": {
            "gridcolor": "rgb(232,232,232)",
            "linecolor": "rgb(36,36,36)",
            "showgrid": false,
            "showline": true,
            "ticks": "outside"
           }
          },
          "scene": {
           "xaxis": {
            "backgroundcolor": "white",
            "gridcolor": "rgb(232,232,232)",
            "gridwidth": 2,
            "linecolor": "rgb(36,36,36)",
            "showbackground": true,
            "showgrid": false,
            "showline": true,
            "ticks": "outside",
            "zeroline": false,
            "zerolinecolor": "rgb(36,36,36)"
           },
           "yaxis": {
            "backgroundcolor": "white",
            "gridcolor": "rgb(232,232,232)",
            "gridwidth": 2,
            "linecolor": "rgb(36,36,36)",
            "showbackground": true,
            "showgrid": false,
            "showline": true,
            "ticks": "outside",
            "zeroline": false,
            "zerolinecolor": "rgb(36,36,36)"
           },
           "zaxis": {
            "backgroundcolor": "white",
            "gridcolor": "rgb(232,232,232)",
            "gridwidth": 2,
            "linecolor": "rgb(36,36,36)",
            "showbackground": true,
            "showgrid": false,
            "showline": true,
            "ticks": "outside",
            "zeroline": false,
            "zerolinecolor": "rgb(36,36,36)"
           }
          },
          "shapedefaults": {
           "fillcolor": "black",
           "line": {
            "width": 0
           },
           "opacity": 0.3
          },
          "ternary": {
           "aaxis": {
            "gridcolor": "rgb(232,232,232)",
            "linecolor": "rgb(36,36,36)",
            "showgrid": false,
            "showline": true,
            "ticks": "outside"
           },
           "baxis": {
            "gridcolor": "rgb(232,232,232)",
            "linecolor": "rgb(36,36,36)",
            "showgrid": false,
            "showline": true,
            "ticks": "outside"
           },
           "bgcolor": "white",
           "caxis": {
            "gridcolor": "rgb(232,232,232)",
            "linecolor": "rgb(36,36,36)",
            "showgrid": false,
            "showline": true,
            "ticks": "outside"
           }
          },
          "title": {
           "x": 0.05
          },
          "xaxis": {
           "automargin": true,
           "gridcolor": "rgb(232,232,232)",
           "linecolor": "rgb(36,36,36)",
           "showgrid": false,
           "showline": true,
           "ticks": "outside",
           "title": {
            "standoff": 15
           },
           "zeroline": false,
           "zerolinecolor": "rgb(36,36,36)"
          },
          "yaxis": {
           "automargin": true,
           "gridcolor": "rgb(232,232,232)",
           "linecolor": "rgb(36,36,36)",
           "showgrid": false,
           "showline": true,
           "ticks": "outside",
           "title": {
            "standoff": 15
           },
           "zeroline": false,
           "zerolinecolor": "rgb(36,36,36)"
          }
         }
        },
        "title": {
         "font": {
          "size": 20
         },
         "text": "Optimal Material Combinations to Comprise Desired Composite",
         "x": 0.15
        }
       }
      }
     },
     "metadata": {},
     "output_type": "display_data"
    },
    {
     "data": {
      "application/vnd.plotly.v1+json": {
       "config": {
        "plotlyServerURL": "https://plot.ly"
       },
       "data": [
        {
         "cells": {
          "align": "left",
          "fill": {
           "color": [
            [
             "white",
             "lightgrey",
             "white",
             "lightgrey",
             "white"
            ]
           ]
          },
          "font": {
           "size": 12
          },
          "height": 30,
          "values": [
           [
            {
             "mp-752826": {
              "bulk_modulus": 168.258,
              "elec_cond": 41.0475,
              "shear_modulus": 90.134,
              "therm_cond": 0.000111994,
              "universal_anisotropy": 1.271
             }
            },
            {
             "mp-752826": {
              "bulk_modulus": 168.258,
              "elec_cond": 41.0475,
              "shear_modulus": 90.134,
              "therm_cond": 0.000111994,
              "universal_anisotropy": 1.271
             }
            },
            {
             "mp-752826": {
              "bulk_modulus": 168.258,
              "elec_cond": 41.0475,
              "shear_modulus": 90.134,
              "therm_cond": 0.000111994,
              "universal_anisotropy": 1.271
             }
            },
            {
             "mp-752826": {
              "bulk_modulus": 168.258,
              "elec_cond": 41.0475,
              "shear_modulus": 90.134,
              "therm_cond": 0.000111994,
              "universal_anisotropy": 1.271
             }
            },
            {
             "mp-752826": {
              "bulk_modulus": 168.258,
              "elec_cond": 41.0475,
              "shear_modulus": 90.134,
              "therm_cond": 0.000111994,
              "universal_anisotropy": 1.271
             }
            }
           ],
           [
            {
             "mp-3536": {
              "bulk_modulus": 182.861,
              "elec_cond": 77.0117,
              "shear_modulus": 107.669,
              "therm_cond": 0.000316911,
              "universal_anisotropy": 1.062
             }
            },
            {
             "mp-3536": {
              "bulk_modulus": 182.861,
              "elec_cond": 77.0117,
              "shear_modulus": 107.669,
              "therm_cond": 0.000316911,
              "universal_anisotropy": 1.062
             }
            },
            {
             "mp-3536": {
              "bulk_modulus": 182.861,
              "elec_cond": 77.0117,
              "shear_modulus": 107.669,
              "therm_cond": 0.000316911,
              "universal_anisotropy": 1.062
             }
            },
            {
             "mp-3536": {
              "bulk_modulus": 182.861,
              "elec_cond": 77.0117,
              "shear_modulus": 107.669,
              "therm_cond": 0.000316911,
              "universal_anisotropy": 1.062
             }
            },
            {
             "mp-3536": {
              "bulk_modulus": 182.861,
              "elec_cond": 77.0117,
              "shear_modulus": 107.669,
              "therm_cond": 0.000316911,
              "universal_anisotropy": 1.062
             }
            }
           ],
           [
            {
             "mp-3536": {
              "bulk_modulus": 182.861,
              "elec_cond": 77.0117,
              "shear_modulus": 107.669,
              "therm_cond": 0.000316911,
              "universal_anisotropy": 1.062
             }
            },
            {
             "mp-3536": {
              "bulk_modulus": 182.861,
              "elec_cond": 77.0117,
              "shear_modulus": 107.669,
              "therm_cond": 0.000316911,
              "universal_anisotropy": 1.062
             }
            },
            {
             "mp-3536": {
              "bulk_modulus": 182.861,
              "elec_cond": 77.0117,
              "shear_modulus": 107.669,
              "therm_cond": 0.000316911,
              "universal_anisotropy": 1.062
             }
            },
            {
             "mp-3536": {
              "bulk_modulus": 182.861,
              "elec_cond": 77.0117,
              "shear_modulus": 107.669,
              "therm_cond": 0.000316911,
              "universal_anisotropy": 1.062
             }
            },
            {
             "mp-3536": {
              "bulk_modulus": 182.861,
              "elec_cond": 77.0117,
              "shear_modulus": 107.669,
              "therm_cond": 0.000316911,
              "universal_anisotropy": 1.062
             }
            }
           ],
           [
            41.0475,
            41.0475,
            41.0475,
            41.0475,
            41.0475
           ],
           [
            77.0117,
            77.0117,
            77.0117,
            77.0117,
            77.0117
           ],
           [
            77.0117,
            77.0117,
            77.0117,
            77.0117,
            77.0117
           ],
           [
            0.000111994,
            0.000111994,
            0.000111994,
            0.000111994,
            0.000111994
           ],
           [
            0.000316911,
            0.000316911,
            0.000316911,
            0.000316911,
            0.000316911
           ],
           [
            0.000316911,
            0.000316911,
            0.000316911,
            0.000316911,
            0.000316911
           ],
           [
            168.258,
            168.258,
            168.258,
            168.258,
            168.258
           ],
           [
            182.861,
            182.861,
            182.861,
            182.861,
            182.861
           ],
           [
            182.861,
            182.861,
            182.861,
            182.861,
            182.861
           ],
           [
            90.134,
            90.134,
            90.134,
            90.134,
            90.134
           ],
           [
            107.669,
            107.669,
            107.669,
            107.669,
            107.669
           ],
           [
            107.669,
            107.669,
            107.669,
            107.669,
            107.669
           ],
           [
            1.271,
            1.271,
            1.271,
            1.271,
            1.271
           ],
           [
            1.062,
            1.062,
            1.062,
            1.062,
            1.062
           ],
           [
            1.062,
            1.062,
            1.062,
            1.062,
            1.062
           ],
           [
            0.1789655172413793,
            0.11137931034482758,
            0.1789655172413793,
            0.1789655172413793,
            0.1789655172413793
           ],
           [
            0.8210344827586207,
            0.8886206896551724,
            0.9562068965517241,
            0.99,
            0.9224137931034482
           ],
           [
            0,
            0,
            -0.1351724137931034,
            -0.16896551724137931,
            -0.1013793103448275
           ],
           [
            18.343531301872844,
            19.606984007223257,
            24.362087827594344,
            25.60536961276441,
            26.357796122671402
           ]
          ]
         },
         "columnwidth": 1000,
         "header": {
          "align": "left",
          "fill": {
           "color": "lavender"
          },
          "font": {
           "size": 12
          },
          "height": 30,
          "values": [
           "Material 1 MP-ID",
           "Material 2 MP-ID",
           "Material 3 MP-ID",
           "Phase 1 Electrical conductivity, [S/m]",
           "Phase 2 Electrical conductivity, [S/m]",
           "Phase 3 Electrical conductivity, [S/m]",
           "Phase 1 Thermal conductivity, [W/m/K]",
           "Phase 2 Thermal conductivity, [W/m/K]",
           "Phase 3 Thermal conductivity, [W/m/K]",
           "Phase 1 Bulk modulus, [GPa]",
           "Phase 2 Bulk modulus, [GPa]",
           "Phase 3 Bulk modulus, [GPa]",
           "Phase 1 Shear modulus, [GPa]",
           "Phase 2 Shear modulus, [GPa]",
           "Phase 3 Shear modulus, [GPa]",
           "Phase 1 Universal anisotropy, []",
           "Phase 2 Universal anisotropy, []",
           "Phase 3 Universal anisotropy, []",
           "Phase 1 Volume Fraction",
           "Phase 2 Volume Fraction",
           "Phase 3 Volume Fraction",
           "cost"
          ]
         },
         "type": "table"
        }
       ],
       "layout": {
        "autosize": true,
        "height": 400,
        "margin": {
         "b": 0,
         "l": 0,
         "r": 0,
         "t": 40
        },
        "template": {
         "data": {
          "bar": [
           {
            "error_x": {
             "color": "rgb(36,36,36)"
            },
            "error_y": {
             "color": "rgb(36,36,36)"
            },
            "marker": {
             "line": {
              "color": "white",
              "width": 0.5
             },
             "pattern": {
              "fillmode": "overlay",
              "size": 10,
              "solidity": 0.2
             }
            },
            "type": "bar"
           }
          ],
          "barpolar": [
           {
            "marker": {
             "line": {
              "color": "white",
              "width": 0.5
             },
             "pattern": {
              "fillmode": "overlay",
              "size": 10,
              "solidity": 0.2
             }
            },
            "type": "barpolar"
           }
          ],
          "carpet": [
           {
            "aaxis": {
             "endlinecolor": "rgb(36,36,36)",
             "gridcolor": "white",
             "linecolor": "white",
             "minorgridcolor": "white",
             "startlinecolor": "rgb(36,36,36)"
            },
            "baxis": {
             "endlinecolor": "rgb(36,36,36)",
             "gridcolor": "white",
             "linecolor": "white",
             "minorgridcolor": "white",
             "startlinecolor": "rgb(36,36,36)"
            },
            "type": "carpet"
           }
          ],
          "choropleth": [
           {
            "colorbar": {
             "outlinewidth": 1,
             "tickcolor": "rgb(36,36,36)",
             "ticks": "outside"
            },
            "type": "choropleth"
           }
          ],
          "contour": [
           {
            "colorbar": {
             "outlinewidth": 1,
             "tickcolor": "rgb(36,36,36)",
             "ticks": "outside"
            },
            "colorscale": [
             [
              0,
              "#440154"
             ],
             [
              0.1111111111111111,
              "#482878"
             ],
             [
              0.2222222222222222,
              "#3e4989"
             ],
             [
              0.3333333333333333,
              "#31688e"
             ],
             [
              0.4444444444444444,
              "#26828e"
             ],
             [
              0.5555555555555556,
              "#1f9e89"
             ],
             [
              0.6666666666666666,
              "#35b779"
             ],
             [
              0.7777777777777778,
              "#6ece58"
             ],
             [
              0.8888888888888888,
              "#b5de2b"
             ],
             [
              1,
              "#fde725"
             ]
            ],
            "type": "contour"
           }
          ],
          "contourcarpet": [
           {
            "colorbar": {
             "outlinewidth": 1,
             "tickcolor": "rgb(36,36,36)",
             "ticks": "outside"
            },
            "type": "contourcarpet"
           }
          ],
          "heatmap": [
           {
            "colorbar": {
             "outlinewidth": 1,
             "tickcolor": "rgb(36,36,36)",
             "ticks": "outside"
            },
            "colorscale": [
             [
              0,
              "#440154"
             ],
             [
              0.1111111111111111,
              "#482878"
             ],
             [
              0.2222222222222222,
              "#3e4989"
             ],
             [
              0.3333333333333333,
              "#31688e"
             ],
             [
              0.4444444444444444,
              "#26828e"
             ],
             [
              0.5555555555555556,
              "#1f9e89"
             ],
             [
              0.6666666666666666,
              "#35b779"
             ],
             [
              0.7777777777777778,
              "#6ece58"
             ],
             [
              0.8888888888888888,
              "#b5de2b"
             ],
             [
              1,
              "#fde725"
             ]
            ],
            "type": "heatmap"
           }
          ],
          "heatmapgl": [
           {
            "colorbar": {
             "outlinewidth": 1,
             "tickcolor": "rgb(36,36,36)",
             "ticks": "outside"
            },
            "colorscale": [
             [
              0,
              "#440154"
             ],
             [
              0.1111111111111111,
              "#482878"
             ],
             [
              0.2222222222222222,
              "#3e4989"
             ],
             [
              0.3333333333333333,
              "#31688e"
             ],
             [
              0.4444444444444444,
              "#26828e"
             ],
             [
              0.5555555555555556,
              "#1f9e89"
             ],
             [
              0.6666666666666666,
              "#35b779"
             ],
             [
              0.7777777777777778,
              "#6ece58"
             ],
             [
              0.8888888888888888,
              "#b5de2b"
             ],
             [
              1,
              "#fde725"
             ]
            ],
            "type": "heatmapgl"
           }
          ],
          "histogram": [
           {
            "marker": {
             "line": {
              "color": "white",
              "width": 0.6
             }
            },
            "type": "histogram"
           }
          ],
          "histogram2d": [
           {
            "colorbar": {
             "outlinewidth": 1,
             "tickcolor": "rgb(36,36,36)",
             "ticks": "outside"
            },
            "colorscale": [
             [
              0,
              "#440154"
             ],
             [
              0.1111111111111111,
              "#482878"
             ],
             [
              0.2222222222222222,
              "#3e4989"
             ],
             [
              0.3333333333333333,
              "#31688e"
             ],
             [
              0.4444444444444444,
              "#26828e"
             ],
             [
              0.5555555555555556,
              "#1f9e89"
             ],
             [
              0.6666666666666666,
              "#35b779"
             ],
             [
              0.7777777777777778,
              "#6ece58"
             ],
             [
              0.8888888888888888,
              "#b5de2b"
             ],
             [
              1,
              "#fde725"
             ]
            ],
            "type": "histogram2d"
           }
          ],
          "histogram2dcontour": [
           {
            "colorbar": {
             "outlinewidth": 1,
             "tickcolor": "rgb(36,36,36)",
             "ticks": "outside"
            },
            "colorscale": [
             [
              0,
              "#440154"
             ],
             [
              0.1111111111111111,
              "#482878"
             ],
             [
              0.2222222222222222,
              "#3e4989"
             ],
             [
              0.3333333333333333,
              "#31688e"
             ],
             [
              0.4444444444444444,
              "#26828e"
             ],
             [
              0.5555555555555556,
              "#1f9e89"
             ],
             [
              0.6666666666666666,
              "#35b779"
             ],
             [
              0.7777777777777778,
              "#6ece58"
             ],
             [
              0.8888888888888888,
              "#b5de2b"
             ],
             [
              1,
              "#fde725"
             ]
            ],
            "type": "histogram2dcontour"
           }
          ],
          "mesh3d": [
           {
            "colorbar": {
             "outlinewidth": 1,
             "tickcolor": "rgb(36,36,36)",
             "ticks": "outside"
            },
            "type": "mesh3d"
           }
          ],
          "parcoords": [
           {
            "line": {
             "colorbar": {
              "outlinewidth": 1,
              "tickcolor": "rgb(36,36,36)",
              "ticks": "outside"
             }
            },
            "type": "parcoords"
           }
          ],
          "pie": [
           {
            "automargin": true,
            "type": "pie"
           }
          ],
          "scatter": [
           {
            "fillpattern": {
             "fillmode": "overlay",
             "size": 10,
             "solidity": 0.2
            },
            "type": "scatter"
           }
          ],
          "scatter3d": [
           {
            "line": {
             "colorbar": {
              "outlinewidth": 1,
              "tickcolor": "rgb(36,36,36)",
              "ticks": "outside"
             }
            },
            "marker": {
             "colorbar": {
              "outlinewidth": 1,
              "tickcolor": "rgb(36,36,36)",
              "ticks": "outside"
             }
            },
            "type": "scatter3d"
           }
          ],
          "scattercarpet": [
           {
            "marker": {
             "colorbar": {
              "outlinewidth": 1,
              "tickcolor": "rgb(36,36,36)",
              "ticks": "outside"
             }
            },
            "type": "scattercarpet"
           }
          ],
          "scattergeo": [
           {
            "marker": {
             "colorbar": {
              "outlinewidth": 1,
              "tickcolor": "rgb(36,36,36)",
              "ticks": "outside"
             }
            },
            "type": "scattergeo"
           }
          ],
          "scattergl": [
           {
            "marker": {
             "colorbar": {
              "outlinewidth": 1,
              "tickcolor": "rgb(36,36,36)",
              "ticks": "outside"
             }
            },
            "type": "scattergl"
           }
          ],
          "scattermapbox": [
           {
            "marker": {
             "colorbar": {
              "outlinewidth": 1,
              "tickcolor": "rgb(36,36,36)",
              "ticks": "outside"
             }
            },
            "type": "scattermapbox"
           }
          ],
          "scatterpolar": [
           {
            "marker": {
             "colorbar": {
              "outlinewidth": 1,
              "tickcolor": "rgb(36,36,36)",
              "ticks": "outside"
             }
            },
            "type": "scatterpolar"
           }
          ],
          "scatterpolargl": [
           {
            "marker": {
             "colorbar": {
              "outlinewidth": 1,
              "tickcolor": "rgb(36,36,36)",
              "ticks": "outside"
             }
            },
            "type": "scatterpolargl"
           }
          ],
          "scatterternary": [
           {
            "marker": {
             "colorbar": {
              "outlinewidth": 1,
              "tickcolor": "rgb(36,36,36)",
              "ticks": "outside"
             }
            },
            "type": "scatterternary"
           }
          ],
          "surface": [
           {
            "colorbar": {
             "outlinewidth": 1,
             "tickcolor": "rgb(36,36,36)",
             "ticks": "outside"
            },
            "colorscale": [
             [
              0,
              "#440154"
             ],
             [
              0.1111111111111111,
              "#482878"
             ],
             [
              0.2222222222222222,
              "#3e4989"
             ],
             [
              0.3333333333333333,
              "#31688e"
             ],
             [
              0.4444444444444444,
              "#26828e"
             ],
             [
              0.5555555555555556,
              "#1f9e89"
             ],
             [
              0.6666666666666666,
              "#35b779"
             ],
             [
              0.7777777777777778,
              "#6ece58"
             ],
             [
              0.8888888888888888,
              "#b5de2b"
             ],
             [
              1,
              "#fde725"
             ]
            ],
            "type": "surface"
           }
          ],
          "table": [
           {
            "cells": {
             "fill": {
              "color": "rgb(237,237,237)"
             },
             "line": {
              "color": "white"
             }
            },
            "header": {
             "fill": {
              "color": "rgb(217,217,217)"
             },
             "line": {
              "color": "white"
             }
            },
            "type": "table"
           }
          ]
         },
         "layout": {
          "annotationdefaults": {
           "arrowhead": 0,
           "arrowwidth": 1
          },
          "autotypenumbers": "strict",
          "coloraxis": {
           "colorbar": {
            "outlinewidth": 1,
            "tickcolor": "rgb(36,36,36)",
            "ticks": "outside"
           }
          },
          "colorscale": {
           "diverging": [
            [
             0,
             "rgb(103,0,31)"
            ],
            [
             0.1,
             "rgb(178,24,43)"
            ],
            [
             0.2,
             "rgb(214,96,77)"
            ],
            [
             0.3,
             "rgb(244,165,130)"
            ],
            [
             0.4,
             "rgb(253,219,199)"
            ],
            [
             0.5,
             "rgb(247,247,247)"
            ],
            [
             0.6,
             "rgb(209,229,240)"
            ],
            [
             0.7,
             "rgb(146,197,222)"
            ],
            [
             0.8,
             "rgb(67,147,195)"
            ],
            [
             0.9,
             "rgb(33,102,172)"
            ],
            [
             1,
             "rgb(5,48,97)"
            ]
           ],
           "sequential": [
            [
             0,
             "#440154"
            ],
            [
             0.1111111111111111,
             "#482878"
            ],
            [
             0.2222222222222222,
             "#3e4989"
            ],
            [
             0.3333333333333333,
             "#31688e"
            ],
            [
             0.4444444444444444,
             "#26828e"
            ],
            [
             0.5555555555555556,
             "#1f9e89"
            ],
            [
             0.6666666666666666,
             "#35b779"
            ],
            [
             0.7777777777777778,
             "#6ece58"
            ],
            [
             0.8888888888888888,
             "#b5de2b"
            ],
            [
             1,
             "#fde725"
            ]
           ],
           "sequentialminus": [
            [
             0,
             "#440154"
            ],
            [
             0.1111111111111111,
             "#482878"
            ],
            [
             0.2222222222222222,
             "#3e4989"
            ],
            [
             0.3333333333333333,
             "#31688e"
            ],
            [
             0.4444444444444444,
             "#26828e"
            ],
            [
             0.5555555555555556,
             "#1f9e89"
            ],
            [
             0.6666666666666666,
             "#35b779"
            ],
            [
             0.7777777777777778,
             "#6ece58"
            ],
            [
             0.8888888888888888,
             "#b5de2b"
            ],
            [
             1,
             "#fde725"
            ]
           ]
          },
          "colorway": [
           "#1F77B4",
           "#FF7F0E",
           "#2CA02C",
           "#D62728",
           "#9467BD",
           "#8C564B",
           "#E377C2",
           "#7F7F7F",
           "#BCBD22",
           "#17BECF"
          ],
          "font": {
           "color": "rgb(36,36,36)"
          },
          "geo": {
           "bgcolor": "white",
           "lakecolor": "white",
           "landcolor": "white",
           "showlakes": true,
           "showland": true,
           "subunitcolor": "white"
          },
          "hoverlabel": {
           "align": "left"
          },
          "hovermode": "closest",
          "mapbox": {
           "style": "light"
          },
          "paper_bgcolor": "white",
          "plot_bgcolor": "white",
          "polar": {
           "angularaxis": {
            "gridcolor": "rgb(232,232,232)",
            "linecolor": "rgb(36,36,36)",
            "showgrid": false,
            "showline": true,
            "ticks": "outside"
           },
           "bgcolor": "white",
           "radialaxis": {
            "gridcolor": "rgb(232,232,232)",
            "linecolor": "rgb(36,36,36)",
            "showgrid": false,
            "showline": true,
            "ticks": "outside"
           }
          },
          "scene": {
           "xaxis": {
            "backgroundcolor": "white",
            "gridcolor": "rgb(232,232,232)",
            "gridwidth": 2,
            "linecolor": "rgb(36,36,36)",
            "showbackground": true,
            "showgrid": false,
            "showline": true,
            "ticks": "outside",
            "zeroline": false,
            "zerolinecolor": "rgb(36,36,36)"
           },
           "yaxis": {
            "backgroundcolor": "white",
            "gridcolor": "rgb(232,232,232)",
            "gridwidth": 2,
            "linecolor": "rgb(36,36,36)",
            "showbackground": true,
            "showgrid": false,
            "showline": true,
            "ticks": "outside",
            "zeroline": false,
            "zerolinecolor": "rgb(36,36,36)"
           },
           "zaxis": {
            "backgroundcolor": "white",
            "gridcolor": "rgb(232,232,232)",
            "gridwidth": 2,
            "linecolor": "rgb(36,36,36)",
            "showbackground": true,
            "showgrid": false,
            "showline": true,
            "ticks": "outside",
            "zeroline": false,
            "zerolinecolor": "rgb(36,36,36)"
           }
          },
          "shapedefaults": {
           "fillcolor": "black",
           "line": {
            "width": 0
           },
           "opacity": 0.3
          },
          "ternary": {
           "aaxis": {
            "gridcolor": "rgb(232,232,232)",
            "linecolor": "rgb(36,36,36)",
            "showgrid": false,
            "showline": true,
            "ticks": "outside"
           },
           "baxis": {
            "gridcolor": "rgb(232,232,232)",
            "linecolor": "rgb(36,36,36)",
            "showgrid": false,
            "showline": true,
            "ticks": "outside"
           },
           "bgcolor": "white",
           "caxis": {
            "gridcolor": "rgb(232,232,232)",
            "linecolor": "rgb(36,36,36)",
            "showgrid": false,
            "showline": true,
            "ticks": "outside"
           }
          },
          "title": {
           "x": 0.05
          },
          "xaxis": {
           "automargin": true,
           "gridcolor": "rgb(232,232,232)",
           "linecolor": "rgb(36,36,36)",
           "showgrid": false,
           "showline": true,
           "ticks": "outside",
           "title": {
            "standoff": 15
           },
           "zeroline": false,
           "zerolinecolor": "rgb(36,36,36)"
          },
          "yaxis": {
           "automargin": true,
           "gridcolor": "rgb(232,232,232)",
           "linecolor": "rgb(36,36,36)",
           "showgrid": false,
           "showline": true,
           "ticks": "outside",
           "title": {
            "standoff": 15
           },
           "zeroline": false,
           "zerolinecolor": "rgb(36,36,36)"
          }
         }
        },
        "title": {
         "font": {
          "size": 20
         },
         "text": "Optimal Material Combinations to Comprise Desired Composite",
         "x": 0.15
        }
       }
      }
     },
     "metadata": {},
     "output_type": "display_data"
    },
    {
     "data": {
      "application/vnd.plotly.v1+json": {
       "config": {
        "plotlyServerURL": "https://plot.ly"
       },
       "data": [
        {
         "cells": {
          "align": "left",
          "fill": {
           "color": [
            [
             "white",
             "lightgrey",
             "white",
             "lightgrey",
             "white"
            ]
           ]
          },
          "font": {
           "size": 12
          },
          "height": 30,
          "values": [
           [
            {
             "mp-752826": {
              "bulk_modulus": 168.258,
              "elec_cond": 41.0475,
              "shear_modulus": 90.134,
              "therm_cond": 0.000111994,
              "universal_anisotropy": 1.271
             }
            },
            {
             "mp-752826": {
              "bulk_modulus": 168.258,
              "elec_cond": 41.0475,
              "shear_modulus": 90.134,
              "therm_cond": 0.000111994,
              "universal_anisotropy": 1.271
             }
            },
            {
             "mp-752826": {
              "bulk_modulus": 168.258,
              "elec_cond": 41.0475,
              "shear_modulus": 90.134,
              "therm_cond": 0.000111994,
              "universal_anisotropy": 1.271
             }
            },
            {
             "mp-752826": {
              "bulk_modulus": 168.258,
              "elec_cond": 41.0475,
              "shear_modulus": 90.134,
              "therm_cond": 0.000111994,
              "universal_anisotropy": 1.271
             }
            },
            {
             "mp-752826": {
              "bulk_modulus": 168.258,
              "elec_cond": 41.0475,
              "shear_modulus": 90.134,
              "therm_cond": 0.000111994,
              "universal_anisotropy": 1.271
             }
            }
           ],
           [
            {
             "mp-3536": {
              "bulk_modulus": 182.861,
              "elec_cond": 77.0117,
              "shear_modulus": 107.669,
              "therm_cond": 0.000316911,
              "universal_anisotropy": 1.062
             }
            },
            {
             "mp-3536": {
              "bulk_modulus": 182.861,
              "elec_cond": 77.0117,
              "shear_modulus": 107.669,
              "therm_cond": 0.000316911,
              "universal_anisotropy": 1.062
             }
            },
            {
             "mp-3536": {
              "bulk_modulus": 182.861,
              "elec_cond": 77.0117,
              "shear_modulus": 107.669,
              "therm_cond": 0.000316911,
              "universal_anisotropy": 1.062
             }
            },
            {
             "mp-3536": {
              "bulk_modulus": 182.861,
              "elec_cond": 77.0117,
              "shear_modulus": 107.669,
              "therm_cond": 0.000316911,
              "universal_anisotropy": 1.062
             }
            },
            {
             "mp-3536": {
              "bulk_modulus": 182.861,
              "elec_cond": 77.0117,
              "shear_modulus": 107.669,
              "therm_cond": 0.000316911,
              "universal_anisotropy": 1.062
             }
            }
           ],
           [
            {
             "mp-5924": {
              "bulk_modulus": 193.509,
              "elec_cond": 64.5658,
              "shear_modulus": 113.741,
              "therm_cond": 0.000300167,
              "universal_anisotropy": 1.091
             }
            },
            {
             "mp-5924": {
              "bulk_modulus": 193.509,
              "elec_cond": 64.5658,
              "shear_modulus": 113.741,
              "therm_cond": 0.000300167,
              "universal_anisotropy": 1.091
             }
            },
            {
             "mp-5924": {
              "bulk_modulus": 193.509,
              "elec_cond": 64.5658,
              "shear_modulus": 113.741,
              "therm_cond": 0.000300167,
              "universal_anisotropy": 1.091
             }
            },
            {
             "mp-5924": {
              "bulk_modulus": 193.509,
              "elec_cond": 64.5658,
              "shear_modulus": 113.741,
              "therm_cond": 0.000300167,
              "universal_anisotropy": 1.091
             }
            },
            {
             "mp-5924": {
              "bulk_modulus": 193.509,
              "elec_cond": 64.5658,
              "shear_modulus": 113.741,
              "therm_cond": 0.000300167,
              "universal_anisotropy": 1.091
             }
            }
           ],
           [
            41.0475,
            41.0475,
            41.0475,
            41.0475,
            41.0475
           ],
           [
            77.0117,
            77.0117,
            77.0117,
            77.0117,
            77.0117
           ],
           [
            64.5658,
            64.5658,
            64.5658,
            64.5658,
            64.5658
           ],
           [
            0.000111994,
            0.000111994,
            0.000111994,
            0.000111994,
            0.000111994
           ],
           [
            0.000316911,
            0.000316911,
            0.000316911,
            0.000316911,
            0.000316911
           ],
           [
            0.000300167,
            0.000300167,
            0.000300167,
            0.000300167,
            0.000300167
           ],
           [
            168.258,
            168.258,
            168.258,
            168.258,
            168.258
           ],
           [
            182.861,
            182.861,
            182.861,
            182.861,
            182.861
           ],
           [
            193.509,
            193.509,
            193.509,
            193.509,
            193.509
           ],
           [
            90.134,
            90.134,
            90.134,
            90.134,
            90.134
           ],
           [
            107.669,
            107.669,
            107.669,
            107.669,
            107.669
           ],
           [
            113.741,
            113.741,
            113.741,
            113.741,
            113.741
           ],
           [
            1.271,
            1.271,
            1.271,
            1.271,
            1.271
           ],
           [
            1.062,
            1.062,
            1.062,
            1.062,
            1.062
           ],
           [
            1.091,
            1.091,
            1.091,
            1.091,
            1.091
           ],
           [
            0.1789655172413793,
            0.11137931034482758,
            0.1789655172413793,
            0.1789655172413793,
            0.1789655172413793
           ],
           [
            0.8210344827586207,
            0.8886206896551724,
            0.9562068965517241,
            0.99,
            0.9224137931034482
           ],
           [
            0,
            0,
            -0.1351724137931034,
            -0.16896551724137931,
            -0.1013793103448275
           ],
           [
            18.591390975057223,
            19.84600069638161,
            24.04206486525693,
            25.313280292177055,
            26.008523150134696
           ]
          ]
         },
         "columnwidth": 1000,
         "header": {
          "align": "left",
          "fill": {
           "color": "lavender"
          },
          "font": {
           "size": 12
          },
          "height": 30,
          "values": [
           "Material 1 MP-ID",
           "Material 2 MP-ID",
           "Material 3 MP-ID",
           "Phase 1 Electrical conductivity, [S/m]",
           "Phase 2 Electrical conductivity, [S/m]",
           "Phase 3 Electrical conductivity, [S/m]",
           "Phase 1 Thermal conductivity, [W/m/K]",
           "Phase 2 Thermal conductivity, [W/m/K]",
           "Phase 3 Thermal conductivity, [W/m/K]",
           "Phase 1 Bulk modulus, [GPa]",
           "Phase 2 Bulk modulus, [GPa]",
           "Phase 3 Bulk modulus, [GPa]",
           "Phase 1 Shear modulus, [GPa]",
           "Phase 2 Shear modulus, [GPa]",
           "Phase 3 Shear modulus, [GPa]",
           "Phase 1 Universal anisotropy, []",
           "Phase 2 Universal anisotropy, []",
           "Phase 3 Universal anisotropy, []",
           "Phase 1 Volume Fraction",
           "Phase 2 Volume Fraction",
           "Phase 3 Volume Fraction",
           "cost"
          ]
         },
         "type": "table"
        }
       ],
       "layout": {
        "autosize": true,
        "height": 400,
        "margin": {
         "b": 0,
         "l": 0,
         "r": 0,
         "t": 40
        },
        "template": {
         "data": {
          "bar": [
           {
            "error_x": {
             "color": "rgb(36,36,36)"
            },
            "error_y": {
             "color": "rgb(36,36,36)"
            },
            "marker": {
             "line": {
              "color": "white",
              "width": 0.5
             },
             "pattern": {
              "fillmode": "overlay",
              "size": 10,
              "solidity": 0.2
             }
            },
            "type": "bar"
           }
          ],
          "barpolar": [
           {
            "marker": {
             "line": {
              "color": "white",
              "width": 0.5
             },
             "pattern": {
              "fillmode": "overlay",
              "size": 10,
              "solidity": 0.2
             }
            },
            "type": "barpolar"
           }
          ],
          "carpet": [
           {
            "aaxis": {
             "endlinecolor": "rgb(36,36,36)",
             "gridcolor": "white",
             "linecolor": "white",
             "minorgridcolor": "white",
             "startlinecolor": "rgb(36,36,36)"
            },
            "baxis": {
             "endlinecolor": "rgb(36,36,36)",
             "gridcolor": "white",
             "linecolor": "white",
             "minorgridcolor": "white",
             "startlinecolor": "rgb(36,36,36)"
            },
            "type": "carpet"
           }
          ],
          "choropleth": [
           {
            "colorbar": {
             "outlinewidth": 1,
             "tickcolor": "rgb(36,36,36)",
             "ticks": "outside"
            },
            "type": "choropleth"
           }
          ],
          "contour": [
           {
            "colorbar": {
             "outlinewidth": 1,
             "tickcolor": "rgb(36,36,36)",
             "ticks": "outside"
            },
            "colorscale": [
             [
              0,
              "#440154"
             ],
             [
              0.1111111111111111,
              "#482878"
             ],
             [
              0.2222222222222222,
              "#3e4989"
             ],
             [
              0.3333333333333333,
              "#31688e"
             ],
             [
              0.4444444444444444,
              "#26828e"
             ],
             [
              0.5555555555555556,
              "#1f9e89"
             ],
             [
              0.6666666666666666,
              "#35b779"
             ],
             [
              0.7777777777777778,
              "#6ece58"
             ],
             [
              0.8888888888888888,
              "#b5de2b"
             ],
             [
              1,
              "#fde725"
             ]
            ],
            "type": "contour"
           }
          ],
          "contourcarpet": [
           {
            "colorbar": {
             "outlinewidth": 1,
             "tickcolor": "rgb(36,36,36)",
             "ticks": "outside"
            },
            "type": "contourcarpet"
           }
          ],
          "heatmap": [
           {
            "colorbar": {
             "outlinewidth": 1,
             "tickcolor": "rgb(36,36,36)",
             "ticks": "outside"
            },
            "colorscale": [
             [
              0,
              "#440154"
             ],
             [
              0.1111111111111111,
              "#482878"
             ],
             [
              0.2222222222222222,
              "#3e4989"
             ],
             [
              0.3333333333333333,
              "#31688e"
             ],
             [
              0.4444444444444444,
              "#26828e"
             ],
             [
              0.5555555555555556,
              "#1f9e89"
             ],
             [
              0.6666666666666666,
              "#35b779"
             ],
             [
              0.7777777777777778,
              "#6ece58"
             ],
             [
              0.8888888888888888,
              "#b5de2b"
             ],
             [
              1,
              "#fde725"
             ]
            ],
            "type": "heatmap"
           }
          ],
          "heatmapgl": [
           {
            "colorbar": {
             "outlinewidth": 1,
             "tickcolor": "rgb(36,36,36)",
             "ticks": "outside"
            },
            "colorscale": [
             [
              0,
              "#440154"
             ],
             [
              0.1111111111111111,
              "#482878"
             ],
             [
              0.2222222222222222,
              "#3e4989"
             ],
             [
              0.3333333333333333,
              "#31688e"
             ],
             [
              0.4444444444444444,
              "#26828e"
             ],
             [
              0.5555555555555556,
              "#1f9e89"
             ],
             [
              0.6666666666666666,
              "#35b779"
             ],
             [
              0.7777777777777778,
              "#6ece58"
             ],
             [
              0.8888888888888888,
              "#b5de2b"
             ],
             [
              1,
              "#fde725"
             ]
            ],
            "type": "heatmapgl"
           }
          ],
          "histogram": [
           {
            "marker": {
             "line": {
              "color": "white",
              "width": 0.6
             }
            },
            "type": "histogram"
           }
          ],
          "histogram2d": [
           {
            "colorbar": {
             "outlinewidth": 1,
             "tickcolor": "rgb(36,36,36)",
             "ticks": "outside"
            },
            "colorscale": [
             [
              0,
              "#440154"
             ],
             [
              0.1111111111111111,
              "#482878"
             ],
             [
              0.2222222222222222,
              "#3e4989"
             ],
             [
              0.3333333333333333,
              "#31688e"
             ],
             [
              0.4444444444444444,
              "#26828e"
             ],
             [
              0.5555555555555556,
              "#1f9e89"
             ],
             [
              0.6666666666666666,
              "#35b779"
             ],
             [
              0.7777777777777778,
              "#6ece58"
             ],
             [
              0.8888888888888888,
              "#b5de2b"
             ],
             [
              1,
              "#fde725"
             ]
            ],
            "type": "histogram2d"
           }
          ],
          "histogram2dcontour": [
           {
            "colorbar": {
             "outlinewidth": 1,
             "tickcolor": "rgb(36,36,36)",
             "ticks": "outside"
            },
            "colorscale": [
             [
              0,
              "#440154"
             ],
             [
              0.1111111111111111,
              "#482878"
             ],
             [
              0.2222222222222222,
              "#3e4989"
             ],
             [
              0.3333333333333333,
              "#31688e"
             ],
             [
              0.4444444444444444,
              "#26828e"
             ],
             [
              0.5555555555555556,
              "#1f9e89"
             ],
             [
              0.6666666666666666,
              "#35b779"
             ],
             [
              0.7777777777777778,
              "#6ece58"
             ],
             [
              0.8888888888888888,
              "#b5de2b"
             ],
             [
              1,
              "#fde725"
             ]
            ],
            "type": "histogram2dcontour"
           }
          ],
          "mesh3d": [
           {
            "colorbar": {
             "outlinewidth": 1,
             "tickcolor": "rgb(36,36,36)",
             "ticks": "outside"
            },
            "type": "mesh3d"
           }
          ],
          "parcoords": [
           {
            "line": {
             "colorbar": {
              "outlinewidth": 1,
              "tickcolor": "rgb(36,36,36)",
              "ticks": "outside"
             }
            },
            "type": "parcoords"
           }
          ],
          "pie": [
           {
            "automargin": true,
            "type": "pie"
           }
          ],
          "scatter": [
           {
            "fillpattern": {
             "fillmode": "overlay",
             "size": 10,
             "solidity": 0.2
            },
            "type": "scatter"
           }
          ],
          "scatter3d": [
           {
            "line": {
             "colorbar": {
              "outlinewidth": 1,
              "tickcolor": "rgb(36,36,36)",
              "ticks": "outside"
             }
            },
            "marker": {
             "colorbar": {
              "outlinewidth": 1,
              "tickcolor": "rgb(36,36,36)",
              "ticks": "outside"
             }
            },
            "type": "scatter3d"
           }
          ],
          "scattercarpet": [
           {
            "marker": {
             "colorbar": {
              "outlinewidth": 1,
              "tickcolor": "rgb(36,36,36)",
              "ticks": "outside"
             }
            },
            "type": "scattercarpet"
           }
          ],
          "scattergeo": [
           {
            "marker": {
             "colorbar": {
              "outlinewidth": 1,
              "tickcolor": "rgb(36,36,36)",
              "ticks": "outside"
             }
            },
            "type": "scattergeo"
           }
          ],
          "scattergl": [
           {
            "marker": {
             "colorbar": {
              "outlinewidth": 1,
              "tickcolor": "rgb(36,36,36)",
              "ticks": "outside"
             }
            },
            "type": "scattergl"
           }
          ],
          "scattermapbox": [
           {
            "marker": {
             "colorbar": {
              "outlinewidth": 1,
              "tickcolor": "rgb(36,36,36)",
              "ticks": "outside"
             }
            },
            "type": "scattermapbox"
           }
          ],
          "scatterpolar": [
           {
            "marker": {
             "colorbar": {
              "outlinewidth": 1,
              "tickcolor": "rgb(36,36,36)",
              "ticks": "outside"
             }
            },
            "type": "scatterpolar"
           }
          ],
          "scatterpolargl": [
           {
            "marker": {
             "colorbar": {
              "outlinewidth": 1,
              "tickcolor": "rgb(36,36,36)",
              "ticks": "outside"
             }
            },
            "type": "scatterpolargl"
           }
          ],
          "scatterternary": [
           {
            "marker": {
             "colorbar": {
              "outlinewidth": 1,
              "tickcolor": "rgb(36,36,36)",
              "ticks": "outside"
             }
            },
            "type": "scatterternary"
           }
          ],
          "surface": [
           {
            "colorbar": {
             "outlinewidth": 1,
             "tickcolor": "rgb(36,36,36)",
             "ticks": "outside"
            },
            "colorscale": [
             [
              0,
              "#440154"
             ],
             [
              0.1111111111111111,
              "#482878"
             ],
             [
              0.2222222222222222,
              "#3e4989"
             ],
             [
              0.3333333333333333,
              "#31688e"
             ],
             [
              0.4444444444444444,
              "#26828e"
             ],
             [
              0.5555555555555556,
              "#1f9e89"
             ],
             [
              0.6666666666666666,
              "#35b779"
             ],
             [
              0.7777777777777778,
              "#6ece58"
             ],
             [
              0.8888888888888888,
              "#b5de2b"
             ],
             [
              1,
              "#fde725"
             ]
            ],
            "type": "surface"
           }
          ],
          "table": [
           {
            "cells": {
             "fill": {
              "color": "rgb(237,237,237)"
             },
             "line": {
              "color": "white"
             }
            },
            "header": {
             "fill": {
              "color": "rgb(217,217,217)"
             },
             "line": {
              "color": "white"
             }
            },
            "type": "table"
           }
          ]
         },
         "layout": {
          "annotationdefaults": {
           "arrowhead": 0,
           "arrowwidth": 1
          },
          "autotypenumbers": "strict",
          "coloraxis": {
           "colorbar": {
            "outlinewidth": 1,
            "tickcolor": "rgb(36,36,36)",
            "ticks": "outside"
           }
          },
          "colorscale": {
           "diverging": [
            [
             0,
             "rgb(103,0,31)"
            ],
            [
             0.1,
             "rgb(178,24,43)"
            ],
            [
             0.2,
             "rgb(214,96,77)"
            ],
            [
             0.3,
             "rgb(244,165,130)"
            ],
            [
             0.4,
             "rgb(253,219,199)"
            ],
            [
             0.5,
             "rgb(247,247,247)"
            ],
            [
             0.6,
             "rgb(209,229,240)"
            ],
            [
             0.7,
             "rgb(146,197,222)"
            ],
            [
             0.8,
             "rgb(67,147,195)"
            ],
            [
             0.9,
             "rgb(33,102,172)"
            ],
            [
             1,
             "rgb(5,48,97)"
            ]
           ],
           "sequential": [
            [
             0,
             "#440154"
            ],
            [
             0.1111111111111111,
             "#482878"
            ],
            [
             0.2222222222222222,
             "#3e4989"
            ],
            [
             0.3333333333333333,
             "#31688e"
            ],
            [
             0.4444444444444444,
             "#26828e"
            ],
            [
             0.5555555555555556,
             "#1f9e89"
            ],
            [
             0.6666666666666666,
             "#35b779"
            ],
            [
             0.7777777777777778,
             "#6ece58"
            ],
            [
             0.8888888888888888,
             "#b5de2b"
            ],
            [
             1,
             "#fde725"
            ]
           ],
           "sequentialminus": [
            [
             0,
             "#440154"
            ],
            [
             0.1111111111111111,
             "#482878"
            ],
            [
             0.2222222222222222,
             "#3e4989"
            ],
            [
             0.3333333333333333,
             "#31688e"
            ],
            [
             0.4444444444444444,
             "#26828e"
            ],
            [
             0.5555555555555556,
             "#1f9e89"
            ],
            [
             0.6666666666666666,
             "#35b779"
            ],
            [
             0.7777777777777778,
             "#6ece58"
            ],
            [
             0.8888888888888888,
             "#b5de2b"
            ],
            [
             1,
             "#fde725"
            ]
           ]
          },
          "colorway": [
           "#1F77B4",
           "#FF7F0E",
           "#2CA02C",
           "#D62728",
           "#9467BD",
           "#8C564B",
           "#E377C2",
           "#7F7F7F",
           "#BCBD22",
           "#17BECF"
          ],
          "font": {
           "color": "rgb(36,36,36)"
          },
          "geo": {
           "bgcolor": "white",
           "lakecolor": "white",
           "landcolor": "white",
           "showlakes": true,
           "showland": true,
           "subunitcolor": "white"
          },
          "hoverlabel": {
           "align": "left"
          },
          "hovermode": "closest",
          "mapbox": {
           "style": "light"
          },
          "paper_bgcolor": "white",
          "plot_bgcolor": "white",
          "polar": {
           "angularaxis": {
            "gridcolor": "rgb(232,232,232)",
            "linecolor": "rgb(36,36,36)",
            "showgrid": false,
            "showline": true,
            "ticks": "outside"
           },
           "bgcolor": "white",
           "radialaxis": {
            "gridcolor": "rgb(232,232,232)",
            "linecolor": "rgb(36,36,36)",
            "showgrid": false,
            "showline": true,
            "ticks": "outside"
           }
          },
          "scene": {
           "xaxis": {
            "backgroundcolor": "white",
            "gridcolor": "rgb(232,232,232)",
            "gridwidth": 2,
            "linecolor": "rgb(36,36,36)",
            "showbackground": true,
            "showgrid": false,
            "showline": true,
            "ticks": "outside",
            "zeroline": false,
            "zerolinecolor": "rgb(36,36,36)"
           },
           "yaxis": {
            "backgroundcolor": "white",
            "gridcolor": "rgb(232,232,232)",
            "gridwidth": 2,
            "linecolor": "rgb(36,36,36)",
            "showbackground": true,
            "showgrid": false,
            "showline": true,
            "ticks": "outside",
            "zeroline": false,
            "zerolinecolor": "rgb(36,36,36)"
           },
           "zaxis": {
            "backgroundcolor": "white",
            "gridcolor": "rgb(232,232,232)",
            "gridwidth": 2,
            "linecolor": "rgb(36,36,36)",
            "showbackground": true,
            "showgrid": false,
            "showline": true,
            "ticks": "outside",
            "zeroline": false,
            "zerolinecolor": "rgb(36,36,36)"
           }
          },
          "shapedefaults": {
           "fillcolor": "black",
           "line": {
            "width": 0
           },
           "opacity": 0.3
          },
          "ternary": {
           "aaxis": {
            "gridcolor": "rgb(232,232,232)",
            "linecolor": "rgb(36,36,36)",
            "showgrid": false,
            "showline": true,
            "ticks": "outside"
           },
           "baxis": {
            "gridcolor": "rgb(232,232,232)",
            "linecolor": "rgb(36,36,36)",
            "showgrid": false,
            "showline": true,
            "ticks": "outside"
           },
           "bgcolor": "white",
           "caxis": {
            "gridcolor": "rgb(232,232,232)",
            "linecolor": "rgb(36,36,36)",
            "showgrid": false,
            "showline": true,
            "ticks": "outside"
           }
          },
          "title": {
           "x": 0.05
          },
          "xaxis": {
           "automargin": true,
           "gridcolor": "rgb(232,232,232)",
           "linecolor": "rgb(36,36,36)",
           "showgrid": false,
           "showline": true,
           "ticks": "outside",
           "title": {
            "standoff": 15
           },
           "zeroline": false,
           "zerolinecolor": "rgb(36,36,36)"
          },
          "yaxis": {
           "automargin": true,
           "gridcolor": "rgb(232,232,232)",
           "linecolor": "rgb(36,36,36)",
           "showgrid": false,
           "showline": true,
           "ticks": "outside",
           "title": {
            "standoff": 15
           },
           "zeroline": false,
           "zerolinecolor": "rgb(36,36,36)"
          }
         }
        },
        "title": {
         "font": {
          "size": 20
         },
         "text": "Optimal Material Combinations to Comprise Desired Composite",
         "x": 0.15
        }
       }
      }
     },
     "metadata": {},
     "output_type": "display_data"
    },
    {
     "data": {
      "application/vnd.plotly.v1+json": {
       "config": {
        "plotlyServerURL": "https://plot.ly"
       },
       "data": [
        {
         "cells": {
          "align": "left",
          "fill": {
           "color": [
            [
             "white",
             "lightgrey",
             "white",
             "lightgrey",
             "white"
            ]
           ]
          },
          "font": {
           "size": 12
          },
          "height": 30,
          "values": [
           [
            {
             "mp-752826": {
              "bulk_modulus": 168.258,
              "elec_cond": 41.0475,
              "shear_modulus": 90.134,
              "therm_cond": 0.000111994,
              "universal_anisotropy": 1.271
             }
            },
            {
             "mp-752826": {
              "bulk_modulus": 168.258,
              "elec_cond": 41.0475,
              "shear_modulus": 90.134,
              "therm_cond": 0.000111994,
              "universal_anisotropy": 1.271
             }
            },
            {
             "mp-752826": {
              "bulk_modulus": 168.258,
              "elec_cond": 41.0475,
              "shear_modulus": 90.134,
              "therm_cond": 0.000111994,
              "universal_anisotropy": 1.271
             }
            },
            {
             "mp-752826": {
              "bulk_modulus": 168.258,
              "elec_cond": 41.0475,
              "shear_modulus": 90.134,
              "therm_cond": 0.000111994,
              "universal_anisotropy": 1.271
             }
            },
            {
             "mp-752826": {
              "bulk_modulus": 168.258,
              "elec_cond": 41.0475,
              "shear_modulus": 90.134,
              "therm_cond": 0.000111994,
              "universal_anisotropy": 1.271
             }
            }
           ],
           [
            {
             "mp-5924": {
              "bulk_modulus": 193.509,
              "elec_cond": 64.5658,
              "shear_modulus": 113.741,
              "therm_cond": 0.000300167,
              "universal_anisotropy": 1.091
             }
            },
            {
             "mp-5924": {
              "bulk_modulus": 193.509,
              "elec_cond": 64.5658,
              "shear_modulus": 113.741,
              "therm_cond": 0.000300167,
              "universal_anisotropy": 1.091
             }
            },
            {
             "mp-5924": {
              "bulk_modulus": 193.509,
              "elec_cond": 64.5658,
              "shear_modulus": 113.741,
              "therm_cond": 0.000300167,
              "universal_anisotropy": 1.091
             }
            },
            {
             "mp-5924": {
              "bulk_modulus": 193.509,
              "elec_cond": 64.5658,
              "shear_modulus": 113.741,
              "therm_cond": 0.000300167,
              "universal_anisotropy": 1.091
             }
            },
            {
             "mp-5924": {
              "bulk_modulus": 193.509,
              "elec_cond": 64.5658,
              "shear_modulus": 113.741,
              "therm_cond": 0.000300167,
              "universal_anisotropy": 1.091
             }
            }
           ],
           [
            {
             "mp-752826": {
              "bulk_modulus": 168.258,
              "elec_cond": 41.0475,
              "shear_modulus": 90.134,
              "therm_cond": 0.000111994,
              "universal_anisotropy": 1.271
             }
            },
            {
             "mp-752826": {
              "bulk_modulus": 168.258,
              "elec_cond": 41.0475,
              "shear_modulus": 90.134,
              "therm_cond": 0.000111994,
              "universal_anisotropy": 1.271
             }
            },
            {
             "mp-752826": {
              "bulk_modulus": 168.258,
              "elec_cond": 41.0475,
              "shear_modulus": 90.134,
              "therm_cond": 0.000111994,
              "universal_anisotropy": 1.271
             }
            },
            {
             "mp-752826": {
              "bulk_modulus": 168.258,
              "elec_cond": 41.0475,
              "shear_modulus": 90.134,
              "therm_cond": 0.000111994,
              "universal_anisotropy": 1.271
             }
            },
            {
             "mp-752826": {
              "bulk_modulus": 168.258,
              "elec_cond": 41.0475,
              "shear_modulus": 90.134,
              "therm_cond": 0.000111994,
              "universal_anisotropy": 1.271
             }
            }
           ],
           [
            41.0475,
            41.0475,
            41.0475,
            41.0475,
            41.0475
           ],
           [
            64.5658,
            64.5658,
            64.5658,
            64.5658,
            64.5658
           ],
           [
            41.0475,
            41.0475,
            41.0475,
            41.0475,
            41.0475
           ],
           [
            0.000111994,
            0.000111994,
            0.000111994,
            0.000111994,
            0.000111994
           ],
           [
            0.000300167,
            0.000300167,
            0.000300167,
            0.000300167,
            0.000300167
           ],
           [
            0.000111994,
            0.000111994,
            0.000111994,
            0.000111994,
            0.000111994
           ],
           [
            168.258,
            168.258,
            168.258,
            168.258,
            168.258
           ],
           [
            193.509,
            193.509,
            193.509,
            193.509,
            193.509
           ],
           [
            168.258,
            168.258,
            168.258,
            168.258,
            168.258
           ],
           [
            90.134,
            90.134,
            90.134,
            90.134,
            90.134
           ],
           [
            113.741,
            113.741,
            113.741,
            113.741,
            113.741
           ],
           [
            90.134,
            90.134,
            90.134,
            90.134,
            90.134
           ],
           [
            1.271,
            1.271,
            1.271,
            1.271,
            1.271
           ],
           [
            1.091,
            1.091,
            1.091,
            1.091,
            1.091
           ],
           [
            1.271,
            1.271,
            1.271,
            1.271,
            1.271
           ],
           [
            0.1789655172413793,
            0.11137931034482758,
            0.1789655172413793,
            0.1789655172413793,
            0.1789655172413793
           ],
           [
            0.8210344827586207,
            0.8886206896551724,
            0.9562068965517241,
            0.99,
            0.9224137931034482
           ],
           [
            0,
            0,
            -0.1351724137931034,
            -0.16896551724137931,
            -0.1013793103448275
           ],
           [
            17.77467106178649,
            18.417813225092004,
            23.684618681016453,
            24.73198881444464,
            25.791106641461763
           ]
          ]
         },
         "columnwidth": 1000,
         "header": {
          "align": "left",
          "fill": {
           "color": "lavender"
          },
          "font": {
           "size": 12
          },
          "height": 30,
          "values": [
           "Material 1 MP-ID",
           "Material 2 MP-ID",
           "Material 3 MP-ID",
           "Phase 1 Electrical conductivity, [S/m]",
           "Phase 2 Electrical conductivity, [S/m]",
           "Phase 3 Electrical conductivity, [S/m]",
           "Phase 1 Thermal conductivity, [W/m/K]",
           "Phase 2 Thermal conductivity, [W/m/K]",
           "Phase 3 Thermal conductivity, [W/m/K]",
           "Phase 1 Bulk modulus, [GPa]",
           "Phase 2 Bulk modulus, [GPa]",
           "Phase 3 Bulk modulus, [GPa]",
           "Phase 1 Shear modulus, [GPa]",
           "Phase 2 Shear modulus, [GPa]",
           "Phase 3 Shear modulus, [GPa]",
           "Phase 1 Universal anisotropy, []",
           "Phase 2 Universal anisotropy, []",
           "Phase 3 Universal anisotropy, []",
           "Phase 1 Volume Fraction",
           "Phase 2 Volume Fraction",
           "Phase 3 Volume Fraction",
           "cost"
          ]
         },
         "type": "table"
        }
       ],
       "layout": {
        "autosize": true,
        "height": 400,
        "margin": {
         "b": 0,
         "l": 0,
         "r": 0,
         "t": 40
        },
        "template": {
         "data": {
          "bar": [
           {
            "error_x": {
             "color": "rgb(36,36,36)"
            },
            "error_y": {
             "color": "rgb(36,36,36)"
            },
            "marker": {
             "line": {
              "color": "white",
              "width": 0.5
             },
             "pattern": {
              "fillmode": "overlay",
              "size": 10,
              "solidity": 0.2
             }
            },
            "type": "bar"
           }
          ],
          "barpolar": [
           {
            "marker": {
             "line": {
              "color": "white",
              "width": 0.5
             },
             "pattern": {
              "fillmode": "overlay",
              "size": 10,
              "solidity": 0.2
             }
            },
            "type": "barpolar"
           }
          ],
          "carpet": [
           {
            "aaxis": {
             "endlinecolor": "rgb(36,36,36)",
             "gridcolor": "white",
             "linecolor": "white",
             "minorgridcolor": "white",
             "startlinecolor": "rgb(36,36,36)"
            },
            "baxis": {
             "endlinecolor": "rgb(36,36,36)",
             "gridcolor": "white",
             "linecolor": "white",
             "minorgridcolor": "white",
             "startlinecolor": "rgb(36,36,36)"
            },
            "type": "carpet"
           }
          ],
          "choropleth": [
           {
            "colorbar": {
             "outlinewidth": 1,
             "tickcolor": "rgb(36,36,36)",
             "ticks": "outside"
            },
            "type": "choropleth"
           }
          ],
          "contour": [
           {
            "colorbar": {
             "outlinewidth": 1,
             "tickcolor": "rgb(36,36,36)",
             "ticks": "outside"
            },
            "colorscale": [
             [
              0,
              "#440154"
             ],
             [
              0.1111111111111111,
              "#482878"
             ],
             [
              0.2222222222222222,
              "#3e4989"
             ],
             [
              0.3333333333333333,
              "#31688e"
             ],
             [
              0.4444444444444444,
              "#26828e"
             ],
             [
              0.5555555555555556,
              "#1f9e89"
             ],
             [
              0.6666666666666666,
              "#35b779"
             ],
             [
              0.7777777777777778,
              "#6ece58"
             ],
             [
              0.8888888888888888,
              "#b5de2b"
             ],
             [
              1,
              "#fde725"
             ]
            ],
            "type": "contour"
           }
          ],
          "contourcarpet": [
           {
            "colorbar": {
             "outlinewidth": 1,
             "tickcolor": "rgb(36,36,36)",
             "ticks": "outside"
            },
            "type": "contourcarpet"
           }
          ],
          "heatmap": [
           {
            "colorbar": {
             "outlinewidth": 1,
             "tickcolor": "rgb(36,36,36)",
             "ticks": "outside"
            },
            "colorscale": [
             [
              0,
              "#440154"
             ],
             [
              0.1111111111111111,
              "#482878"
             ],
             [
              0.2222222222222222,
              "#3e4989"
             ],
             [
              0.3333333333333333,
              "#31688e"
             ],
             [
              0.4444444444444444,
              "#26828e"
             ],
             [
              0.5555555555555556,
              "#1f9e89"
             ],
             [
              0.6666666666666666,
              "#35b779"
             ],
             [
              0.7777777777777778,
              "#6ece58"
             ],
             [
              0.8888888888888888,
              "#b5de2b"
             ],
             [
              1,
              "#fde725"
             ]
            ],
            "type": "heatmap"
           }
          ],
          "heatmapgl": [
           {
            "colorbar": {
             "outlinewidth": 1,
             "tickcolor": "rgb(36,36,36)",
             "ticks": "outside"
            },
            "colorscale": [
             [
              0,
              "#440154"
             ],
             [
              0.1111111111111111,
              "#482878"
             ],
             [
              0.2222222222222222,
              "#3e4989"
             ],
             [
              0.3333333333333333,
              "#31688e"
             ],
             [
              0.4444444444444444,
              "#26828e"
             ],
             [
              0.5555555555555556,
              "#1f9e89"
             ],
             [
              0.6666666666666666,
              "#35b779"
             ],
             [
              0.7777777777777778,
              "#6ece58"
             ],
             [
              0.8888888888888888,
              "#b5de2b"
             ],
             [
              1,
              "#fde725"
             ]
            ],
            "type": "heatmapgl"
           }
          ],
          "histogram": [
           {
            "marker": {
             "line": {
              "color": "white",
              "width": 0.6
             }
            },
            "type": "histogram"
           }
          ],
          "histogram2d": [
           {
            "colorbar": {
             "outlinewidth": 1,
             "tickcolor": "rgb(36,36,36)",
             "ticks": "outside"
            },
            "colorscale": [
             [
              0,
              "#440154"
             ],
             [
              0.1111111111111111,
              "#482878"
             ],
             [
              0.2222222222222222,
              "#3e4989"
             ],
             [
              0.3333333333333333,
              "#31688e"
             ],
             [
              0.4444444444444444,
              "#26828e"
             ],
             [
              0.5555555555555556,
              "#1f9e89"
             ],
             [
              0.6666666666666666,
              "#35b779"
             ],
             [
              0.7777777777777778,
              "#6ece58"
             ],
             [
              0.8888888888888888,
              "#b5de2b"
             ],
             [
              1,
              "#fde725"
             ]
            ],
            "type": "histogram2d"
           }
          ],
          "histogram2dcontour": [
           {
            "colorbar": {
             "outlinewidth": 1,
             "tickcolor": "rgb(36,36,36)",
             "ticks": "outside"
            },
            "colorscale": [
             [
              0,
              "#440154"
             ],
             [
              0.1111111111111111,
              "#482878"
             ],
             [
              0.2222222222222222,
              "#3e4989"
             ],
             [
              0.3333333333333333,
              "#31688e"
             ],
             [
              0.4444444444444444,
              "#26828e"
             ],
             [
              0.5555555555555556,
              "#1f9e89"
             ],
             [
              0.6666666666666666,
              "#35b779"
             ],
             [
              0.7777777777777778,
              "#6ece58"
             ],
             [
              0.8888888888888888,
              "#b5de2b"
             ],
             [
              1,
              "#fde725"
             ]
            ],
            "type": "histogram2dcontour"
           }
          ],
          "mesh3d": [
           {
            "colorbar": {
             "outlinewidth": 1,
             "tickcolor": "rgb(36,36,36)",
             "ticks": "outside"
            },
            "type": "mesh3d"
           }
          ],
          "parcoords": [
           {
            "line": {
             "colorbar": {
              "outlinewidth": 1,
              "tickcolor": "rgb(36,36,36)",
              "ticks": "outside"
             }
            },
            "type": "parcoords"
           }
          ],
          "pie": [
           {
            "automargin": true,
            "type": "pie"
           }
          ],
          "scatter": [
           {
            "fillpattern": {
             "fillmode": "overlay",
             "size": 10,
             "solidity": 0.2
            },
            "type": "scatter"
           }
          ],
          "scatter3d": [
           {
            "line": {
             "colorbar": {
              "outlinewidth": 1,
              "tickcolor": "rgb(36,36,36)",
              "ticks": "outside"
             }
            },
            "marker": {
             "colorbar": {
              "outlinewidth": 1,
              "tickcolor": "rgb(36,36,36)",
              "ticks": "outside"
             }
            },
            "type": "scatter3d"
           }
          ],
          "scattercarpet": [
           {
            "marker": {
             "colorbar": {
              "outlinewidth": 1,
              "tickcolor": "rgb(36,36,36)",
              "ticks": "outside"
             }
            },
            "type": "scattercarpet"
           }
          ],
          "scattergeo": [
           {
            "marker": {
             "colorbar": {
              "outlinewidth": 1,
              "tickcolor": "rgb(36,36,36)",
              "ticks": "outside"
             }
            },
            "type": "scattergeo"
           }
          ],
          "scattergl": [
           {
            "marker": {
             "colorbar": {
              "outlinewidth": 1,
              "tickcolor": "rgb(36,36,36)",
              "ticks": "outside"
             }
            },
            "type": "scattergl"
           }
          ],
          "scattermapbox": [
           {
            "marker": {
             "colorbar": {
              "outlinewidth": 1,
              "tickcolor": "rgb(36,36,36)",
              "ticks": "outside"
             }
            },
            "type": "scattermapbox"
           }
          ],
          "scatterpolar": [
           {
            "marker": {
             "colorbar": {
              "outlinewidth": 1,
              "tickcolor": "rgb(36,36,36)",
              "ticks": "outside"
             }
            },
            "type": "scatterpolar"
           }
          ],
          "scatterpolargl": [
           {
            "marker": {
             "colorbar": {
              "outlinewidth": 1,
              "tickcolor": "rgb(36,36,36)",
              "ticks": "outside"
             }
            },
            "type": "scatterpolargl"
           }
          ],
          "scatterternary": [
           {
            "marker": {
             "colorbar": {
              "outlinewidth": 1,
              "tickcolor": "rgb(36,36,36)",
              "ticks": "outside"
             }
            },
            "type": "scatterternary"
           }
          ],
          "surface": [
           {
            "colorbar": {
             "outlinewidth": 1,
             "tickcolor": "rgb(36,36,36)",
             "ticks": "outside"
            },
            "colorscale": [
             [
              0,
              "#440154"
             ],
             [
              0.1111111111111111,
              "#482878"
             ],
             [
              0.2222222222222222,
              "#3e4989"
             ],
             [
              0.3333333333333333,
              "#31688e"
             ],
             [
              0.4444444444444444,
              "#26828e"
             ],
             [
              0.5555555555555556,
              "#1f9e89"
             ],
             [
              0.6666666666666666,
              "#35b779"
             ],
             [
              0.7777777777777778,
              "#6ece58"
             ],
             [
              0.8888888888888888,
              "#b5de2b"
             ],
             [
              1,
              "#fde725"
             ]
            ],
            "type": "surface"
           }
          ],
          "table": [
           {
            "cells": {
             "fill": {
              "color": "rgb(237,237,237)"
             },
             "line": {
              "color": "white"
             }
            },
            "header": {
             "fill": {
              "color": "rgb(217,217,217)"
             },
             "line": {
              "color": "white"
             }
            },
            "type": "table"
           }
          ]
         },
         "layout": {
          "annotationdefaults": {
           "arrowhead": 0,
           "arrowwidth": 1
          },
          "autotypenumbers": "strict",
          "coloraxis": {
           "colorbar": {
            "outlinewidth": 1,
            "tickcolor": "rgb(36,36,36)",
            "ticks": "outside"
           }
          },
          "colorscale": {
           "diverging": [
            [
             0,
             "rgb(103,0,31)"
            ],
            [
             0.1,
             "rgb(178,24,43)"
            ],
            [
             0.2,
             "rgb(214,96,77)"
            ],
            [
             0.3,
             "rgb(244,165,130)"
            ],
            [
             0.4,
             "rgb(253,219,199)"
            ],
            [
             0.5,
             "rgb(247,247,247)"
            ],
            [
             0.6,
             "rgb(209,229,240)"
            ],
            [
             0.7,
             "rgb(146,197,222)"
            ],
            [
             0.8,
             "rgb(67,147,195)"
            ],
            [
             0.9,
             "rgb(33,102,172)"
            ],
            [
             1,
             "rgb(5,48,97)"
            ]
           ],
           "sequential": [
            [
             0,
             "#440154"
            ],
            [
             0.1111111111111111,
             "#482878"
            ],
            [
             0.2222222222222222,
             "#3e4989"
            ],
            [
             0.3333333333333333,
             "#31688e"
            ],
            [
             0.4444444444444444,
             "#26828e"
            ],
            [
             0.5555555555555556,
             "#1f9e89"
            ],
            [
             0.6666666666666666,
             "#35b779"
            ],
            [
             0.7777777777777778,
             "#6ece58"
            ],
            [
             0.8888888888888888,
             "#b5de2b"
            ],
            [
             1,
             "#fde725"
            ]
           ],
           "sequentialminus": [
            [
             0,
             "#440154"
            ],
            [
             0.1111111111111111,
             "#482878"
            ],
            [
             0.2222222222222222,
             "#3e4989"
            ],
            [
             0.3333333333333333,
             "#31688e"
            ],
            [
             0.4444444444444444,
             "#26828e"
            ],
            [
             0.5555555555555556,
             "#1f9e89"
            ],
            [
             0.6666666666666666,
             "#35b779"
            ],
            [
             0.7777777777777778,
             "#6ece58"
            ],
            [
             0.8888888888888888,
             "#b5de2b"
            ],
            [
             1,
             "#fde725"
            ]
           ]
          },
          "colorway": [
           "#1F77B4",
           "#FF7F0E",
           "#2CA02C",
           "#D62728",
           "#9467BD",
           "#8C564B",
           "#E377C2",
           "#7F7F7F",
           "#BCBD22",
           "#17BECF"
          ],
          "font": {
           "color": "rgb(36,36,36)"
          },
          "geo": {
           "bgcolor": "white",
           "lakecolor": "white",
           "landcolor": "white",
           "showlakes": true,
           "showland": true,
           "subunitcolor": "white"
          },
          "hoverlabel": {
           "align": "left"
          },
          "hovermode": "closest",
          "mapbox": {
           "style": "light"
          },
          "paper_bgcolor": "white",
          "plot_bgcolor": "white",
          "polar": {
           "angularaxis": {
            "gridcolor": "rgb(232,232,232)",
            "linecolor": "rgb(36,36,36)",
            "showgrid": false,
            "showline": true,
            "ticks": "outside"
           },
           "bgcolor": "white",
           "radialaxis": {
            "gridcolor": "rgb(232,232,232)",
            "linecolor": "rgb(36,36,36)",
            "showgrid": false,
            "showline": true,
            "ticks": "outside"
           }
          },
          "scene": {
           "xaxis": {
            "backgroundcolor": "white",
            "gridcolor": "rgb(232,232,232)",
            "gridwidth": 2,
            "linecolor": "rgb(36,36,36)",
            "showbackground": true,
            "showgrid": false,
            "showline": true,
            "ticks": "outside",
            "zeroline": false,
            "zerolinecolor": "rgb(36,36,36)"
           },
           "yaxis": {
            "backgroundcolor": "white",
            "gridcolor": "rgb(232,232,232)",
            "gridwidth": 2,
            "linecolor": "rgb(36,36,36)",
            "showbackground": true,
            "showgrid": false,
            "showline": true,
            "ticks": "outside",
            "zeroline": false,
            "zerolinecolor": "rgb(36,36,36)"
           },
           "zaxis": {
            "backgroundcolor": "white",
            "gridcolor": "rgb(232,232,232)",
            "gridwidth": 2,
            "linecolor": "rgb(36,36,36)",
            "showbackground": true,
            "showgrid": false,
            "showline": true,
            "ticks": "outside",
            "zeroline": false,
            "zerolinecolor": "rgb(36,36,36)"
           }
          },
          "shapedefaults": {
           "fillcolor": "black",
           "line": {
            "width": 0
           },
           "opacity": 0.3
          },
          "ternary": {
           "aaxis": {
            "gridcolor": "rgb(232,232,232)",
            "linecolor": "rgb(36,36,36)",
            "showgrid": false,
            "showline": true,
            "ticks": "outside"
           },
           "baxis": {
            "gridcolor": "rgb(232,232,232)",
            "linecolor": "rgb(36,36,36)",
            "showgrid": false,
            "showline": true,
            "ticks": "outside"
           },
           "bgcolor": "white",
           "caxis": {
            "gridcolor": "rgb(232,232,232)",
            "linecolor": "rgb(36,36,36)",
            "showgrid": false,
            "showline": true,
            "ticks": "outside"
           }
          },
          "title": {
           "x": 0.05
          },
          "xaxis": {
           "automargin": true,
           "gridcolor": "rgb(232,232,232)",
           "linecolor": "rgb(36,36,36)",
           "showgrid": false,
           "showline": true,
           "ticks": "outside",
           "title": {
            "standoff": 15
           },
           "zeroline": false,
           "zerolinecolor": "rgb(36,36,36)"
          },
          "yaxis": {
           "automargin": true,
           "gridcolor": "rgb(232,232,232)",
           "linecolor": "rgb(36,36,36)",
           "showgrid": false,
           "showline": true,
           "ticks": "outside",
           "title": {
            "standoff": 15
           },
           "zeroline": false,
           "zerolinecolor": "rgb(36,36,36)"
          }
         }
        },
        "title": {
         "font": {
          "size": 20
         },
         "text": "Optimal Material Combinations to Comprise Desired Composite",
         "x": 0.15
        }
       }
      }
     },
     "metadata": {},
     "output_type": "display_data"
    },
    {
     "data": {
      "application/vnd.plotly.v1+json": {
       "config": {
        "plotlyServerURL": "https://plot.ly"
       },
       "data": [
        {
         "cells": {
          "align": "left",
          "fill": {
           "color": [
            [
             "white",
             "lightgrey",
             "white",
             "lightgrey",
             "white"
            ]
           ]
          },
          "font": {
           "size": 12
          },
          "height": 30,
          "values": [
           [
            {
             "mp-752826": {
              "bulk_modulus": 168.258,
              "elec_cond": 41.0475,
              "shear_modulus": 90.134,
              "therm_cond": 0.000111994,
              "universal_anisotropy": 1.271
             }
            },
            {
             "mp-752826": {
              "bulk_modulus": 168.258,
              "elec_cond": 41.0475,
              "shear_modulus": 90.134,
              "therm_cond": 0.000111994,
              "universal_anisotropy": 1.271
             }
            },
            {
             "mp-752826": {
              "bulk_modulus": 168.258,
              "elec_cond": 41.0475,
              "shear_modulus": 90.134,
              "therm_cond": 0.000111994,
              "universal_anisotropy": 1.271
             }
            },
            {
             "mp-752826": {
              "bulk_modulus": 168.258,
              "elec_cond": 41.0475,
              "shear_modulus": 90.134,
              "therm_cond": 0.000111994,
              "universal_anisotropy": 1.271
             }
            },
            {
             "mp-752826": {
              "bulk_modulus": 168.258,
              "elec_cond": 41.0475,
              "shear_modulus": 90.134,
              "therm_cond": 0.000111994,
              "universal_anisotropy": 1.271
             }
            }
           ],
           [
            {
             "mp-5924": {
              "bulk_modulus": 193.509,
              "elec_cond": 64.5658,
              "shear_modulus": 113.741,
              "therm_cond": 0.000300167,
              "universal_anisotropy": 1.091
             }
            },
            {
             "mp-5924": {
              "bulk_modulus": 193.509,
              "elec_cond": 64.5658,
              "shear_modulus": 113.741,
              "therm_cond": 0.000300167,
              "universal_anisotropy": 1.091
             }
            },
            {
             "mp-5924": {
              "bulk_modulus": 193.509,
              "elec_cond": 64.5658,
              "shear_modulus": 113.741,
              "therm_cond": 0.000300167,
              "universal_anisotropy": 1.091
             }
            },
            {
             "mp-5924": {
              "bulk_modulus": 193.509,
              "elec_cond": 64.5658,
              "shear_modulus": 113.741,
              "therm_cond": 0.000300167,
              "universal_anisotropy": 1.091
             }
            },
            {
             "mp-5924": {
              "bulk_modulus": 193.509,
              "elec_cond": 64.5658,
              "shear_modulus": 113.741,
              "therm_cond": 0.000300167,
              "universal_anisotropy": 1.091
             }
            }
           ],
           [
            {
             "mp-3536": {
              "bulk_modulus": 182.861,
              "elec_cond": 77.0117,
              "shear_modulus": 107.669,
              "therm_cond": 0.000316911,
              "universal_anisotropy": 1.062
             }
            },
            {
             "mp-3536": {
              "bulk_modulus": 182.861,
              "elec_cond": 77.0117,
              "shear_modulus": 107.669,
              "therm_cond": 0.000316911,
              "universal_anisotropy": 1.062
             }
            },
            {
             "mp-3536": {
              "bulk_modulus": 182.861,
              "elec_cond": 77.0117,
              "shear_modulus": 107.669,
              "therm_cond": 0.000316911,
              "universal_anisotropy": 1.062
             }
            },
            {
             "mp-3536": {
              "bulk_modulus": 182.861,
              "elec_cond": 77.0117,
              "shear_modulus": 107.669,
              "therm_cond": 0.000316911,
              "universal_anisotropy": 1.062
             }
            },
            {
             "mp-3536": {
              "bulk_modulus": 182.861,
              "elec_cond": 77.0117,
              "shear_modulus": 107.669,
              "therm_cond": 0.000316911,
              "universal_anisotropy": 1.062
             }
            }
           ],
           [
            41.0475,
            41.0475,
            41.0475,
            41.0475,
            41.0475
           ],
           [
            64.5658,
            64.5658,
            64.5658,
            64.5658,
            64.5658
           ],
           [
            77.0117,
            77.0117,
            77.0117,
            77.0117,
            77.0117
           ],
           [
            0.000111994,
            0.000111994,
            0.000111994,
            0.000111994,
            0.000111994
           ],
           [
            0.000300167,
            0.000300167,
            0.000300167,
            0.000300167,
            0.000300167
           ],
           [
            0.000316911,
            0.000316911,
            0.000316911,
            0.000316911,
            0.000316911
           ],
           [
            168.258,
            168.258,
            168.258,
            168.258,
            168.258
           ],
           [
            193.509,
            193.509,
            193.509,
            193.509,
            193.509
           ],
           [
            182.861,
            182.861,
            182.861,
            182.861,
            182.861
           ],
           [
            90.134,
            90.134,
            90.134,
            90.134,
            90.134
           ],
           [
            113.741,
            113.741,
            113.741,
            113.741,
            113.741
           ],
           [
            107.669,
            107.669,
            107.669,
            107.669,
            107.669
           ],
           [
            1.271,
            1.271,
            1.271,
            1.271,
            1.271
           ],
           [
            1.091,
            1.091,
            1.091,
            1.091,
            1.091
           ],
           [
            1.062,
            1.062,
            1.062,
            1.062,
            1.062
           ],
           [
            0.1789655172413793,
            0.11137931034482758,
            0.1789655172413793,
            0.1789655172413793,
            0.1789655172413793
           ],
           [
            0.8210344827586207,
            0.8886206896551724,
            0.9562068965517241,
            0.99,
            0.9224137931034482
           ],
           [
            0,
            0,
            -0.1351724137931034,
            -0.16896551724137931,
            -0.1013793103448275
           ],
           [
            18.16569949138614,
            18.79455315852836,
            23.175490876614084,
            24.26597242239646,
            25.23661106046451
           ]
          ]
         },
         "columnwidth": 1000,
         "header": {
          "align": "left",
          "fill": {
           "color": "lavender"
          },
          "font": {
           "size": 12
          },
          "height": 30,
          "values": [
           "Material 1 MP-ID",
           "Material 2 MP-ID",
           "Material 3 MP-ID",
           "Phase 1 Electrical conductivity, [S/m]",
           "Phase 2 Electrical conductivity, [S/m]",
           "Phase 3 Electrical conductivity, [S/m]",
           "Phase 1 Thermal conductivity, [W/m/K]",
           "Phase 2 Thermal conductivity, [W/m/K]",
           "Phase 3 Thermal conductivity, [W/m/K]",
           "Phase 1 Bulk modulus, [GPa]",
           "Phase 2 Bulk modulus, [GPa]",
           "Phase 3 Bulk modulus, [GPa]",
           "Phase 1 Shear modulus, [GPa]",
           "Phase 2 Shear modulus, [GPa]",
           "Phase 3 Shear modulus, [GPa]",
           "Phase 1 Universal anisotropy, []",
           "Phase 2 Universal anisotropy, []",
           "Phase 3 Universal anisotropy, []",
           "Phase 1 Volume Fraction",
           "Phase 2 Volume Fraction",
           "Phase 3 Volume Fraction",
           "cost"
          ]
         },
         "type": "table"
        }
       ],
       "layout": {
        "autosize": true,
        "height": 400,
        "margin": {
         "b": 0,
         "l": 0,
         "r": 0,
         "t": 40
        },
        "template": {
         "data": {
          "bar": [
           {
            "error_x": {
             "color": "rgb(36,36,36)"
            },
            "error_y": {
             "color": "rgb(36,36,36)"
            },
            "marker": {
             "line": {
              "color": "white",
              "width": 0.5
             },
             "pattern": {
              "fillmode": "overlay",
              "size": 10,
              "solidity": 0.2
             }
            },
            "type": "bar"
           }
          ],
          "barpolar": [
           {
            "marker": {
             "line": {
              "color": "white",
              "width": 0.5
             },
             "pattern": {
              "fillmode": "overlay",
              "size": 10,
              "solidity": 0.2
             }
            },
            "type": "barpolar"
           }
          ],
          "carpet": [
           {
            "aaxis": {
             "endlinecolor": "rgb(36,36,36)",
             "gridcolor": "white",
             "linecolor": "white",
             "minorgridcolor": "white",
             "startlinecolor": "rgb(36,36,36)"
            },
            "baxis": {
             "endlinecolor": "rgb(36,36,36)",
             "gridcolor": "white",
             "linecolor": "white",
             "minorgridcolor": "white",
             "startlinecolor": "rgb(36,36,36)"
            },
            "type": "carpet"
           }
          ],
          "choropleth": [
           {
            "colorbar": {
             "outlinewidth": 1,
             "tickcolor": "rgb(36,36,36)",
             "ticks": "outside"
            },
            "type": "choropleth"
           }
          ],
          "contour": [
           {
            "colorbar": {
             "outlinewidth": 1,
             "tickcolor": "rgb(36,36,36)",
             "ticks": "outside"
            },
            "colorscale": [
             [
              0,
              "#440154"
             ],
             [
              0.1111111111111111,
              "#482878"
             ],
             [
              0.2222222222222222,
              "#3e4989"
             ],
             [
              0.3333333333333333,
              "#31688e"
             ],
             [
              0.4444444444444444,
              "#26828e"
             ],
             [
              0.5555555555555556,
              "#1f9e89"
             ],
             [
              0.6666666666666666,
              "#35b779"
             ],
             [
              0.7777777777777778,
              "#6ece58"
             ],
             [
              0.8888888888888888,
              "#b5de2b"
             ],
             [
              1,
              "#fde725"
             ]
            ],
            "type": "contour"
           }
          ],
          "contourcarpet": [
           {
            "colorbar": {
             "outlinewidth": 1,
             "tickcolor": "rgb(36,36,36)",
             "ticks": "outside"
            },
            "type": "contourcarpet"
           }
          ],
          "heatmap": [
           {
            "colorbar": {
             "outlinewidth": 1,
             "tickcolor": "rgb(36,36,36)",
             "ticks": "outside"
            },
            "colorscale": [
             [
              0,
              "#440154"
             ],
             [
              0.1111111111111111,
              "#482878"
             ],
             [
              0.2222222222222222,
              "#3e4989"
             ],
             [
              0.3333333333333333,
              "#31688e"
             ],
             [
              0.4444444444444444,
              "#26828e"
             ],
             [
              0.5555555555555556,
              "#1f9e89"
             ],
             [
              0.6666666666666666,
              "#35b779"
             ],
             [
              0.7777777777777778,
              "#6ece58"
             ],
             [
              0.8888888888888888,
              "#b5de2b"
             ],
             [
              1,
              "#fde725"
             ]
            ],
            "type": "heatmap"
           }
          ],
          "heatmapgl": [
           {
            "colorbar": {
             "outlinewidth": 1,
             "tickcolor": "rgb(36,36,36)",
             "ticks": "outside"
            },
            "colorscale": [
             [
              0,
              "#440154"
             ],
             [
              0.1111111111111111,
              "#482878"
             ],
             [
              0.2222222222222222,
              "#3e4989"
             ],
             [
              0.3333333333333333,
              "#31688e"
             ],
             [
              0.4444444444444444,
              "#26828e"
             ],
             [
              0.5555555555555556,
              "#1f9e89"
             ],
             [
              0.6666666666666666,
              "#35b779"
             ],
             [
              0.7777777777777778,
              "#6ece58"
             ],
             [
              0.8888888888888888,
              "#b5de2b"
             ],
             [
              1,
              "#fde725"
             ]
            ],
            "type": "heatmapgl"
           }
          ],
          "histogram": [
           {
            "marker": {
             "line": {
              "color": "white",
              "width": 0.6
             }
            },
            "type": "histogram"
           }
          ],
          "histogram2d": [
           {
            "colorbar": {
             "outlinewidth": 1,
             "tickcolor": "rgb(36,36,36)",
             "ticks": "outside"
            },
            "colorscale": [
             [
              0,
              "#440154"
             ],
             [
              0.1111111111111111,
              "#482878"
             ],
             [
              0.2222222222222222,
              "#3e4989"
             ],
             [
              0.3333333333333333,
              "#31688e"
             ],
             [
              0.4444444444444444,
              "#26828e"
             ],
             [
              0.5555555555555556,
              "#1f9e89"
             ],
             [
              0.6666666666666666,
              "#35b779"
             ],
             [
              0.7777777777777778,
              "#6ece58"
             ],
             [
              0.8888888888888888,
              "#b5de2b"
             ],
             [
              1,
              "#fde725"
             ]
            ],
            "type": "histogram2d"
           }
          ],
          "histogram2dcontour": [
           {
            "colorbar": {
             "outlinewidth": 1,
             "tickcolor": "rgb(36,36,36)",
             "ticks": "outside"
            },
            "colorscale": [
             [
              0,
              "#440154"
             ],
             [
              0.1111111111111111,
              "#482878"
             ],
             [
              0.2222222222222222,
              "#3e4989"
             ],
             [
              0.3333333333333333,
              "#31688e"
             ],
             [
              0.4444444444444444,
              "#26828e"
             ],
             [
              0.5555555555555556,
              "#1f9e89"
             ],
             [
              0.6666666666666666,
              "#35b779"
             ],
             [
              0.7777777777777778,
              "#6ece58"
             ],
             [
              0.8888888888888888,
              "#b5de2b"
             ],
             [
              1,
              "#fde725"
             ]
            ],
            "type": "histogram2dcontour"
           }
          ],
          "mesh3d": [
           {
            "colorbar": {
             "outlinewidth": 1,
             "tickcolor": "rgb(36,36,36)",
             "ticks": "outside"
            },
            "type": "mesh3d"
           }
          ],
          "parcoords": [
           {
            "line": {
             "colorbar": {
              "outlinewidth": 1,
              "tickcolor": "rgb(36,36,36)",
              "ticks": "outside"
             }
            },
            "type": "parcoords"
           }
          ],
          "pie": [
           {
            "automargin": true,
            "type": "pie"
           }
          ],
          "scatter": [
           {
            "fillpattern": {
             "fillmode": "overlay",
             "size": 10,
             "solidity": 0.2
            },
            "type": "scatter"
           }
          ],
          "scatter3d": [
           {
            "line": {
             "colorbar": {
              "outlinewidth": 1,
              "tickcolor": "rgb(36,36,36)",
              "ticks": "outside"
             }
            },
            "marker": {
             "colorbar": {
              "outlinewidth": 1,
              "tickcolor": "rgb(36,36,36)",
              "ticks": "outside"
             }
            },
            "type": "scatter3d"
           }
          ],
          "scattercarpet": [
           {
            "marker": {
             "colorbar": {
              "outlinewidth": 1,
              "tickcolor": "rgb(36,36,36)",
              "ticks": "outside"
             }
            },
            "type": "scattercarpet"
           }
          ],
          "scattergeo": [
           {
            "marker": {
             "colorbar": {
              "outlinewidth": 1,
              "tickcolor": "rgb(36,36,36)",
              "ticks": "outside"
             }
            },
            "type": "scattergeo"
           }
          ],
          "scattergl": [
           {
            "marker": {
             "colorbar": {
              "outlinewidth": 1,
              "tickcolor": "rgb(36,36,36)",
              "ticks": "outside"
             }
            },
            "type": "scattergl"
           }
          ],
          "scattermapbox": [
           {
            "marker": {
             "colorbar": {
              "outlinewidth": 1,
              "tickcolor": "rgb(36,36,36)",
              "ticks": "outside"
             }
            },
            "type": "scattermapbox"
           }
          ],
          "scatterpolar": [
           {
            "marker": {
             "colorbar": {
              "outlinewidth": 1,
              "tickcolor": "rgb(36,36,36)",
              "ticks": "outside"
             }
            },
            "type": "scatterpolar"
           }
          ],
          "scatterpolargl": [
           {
            "marker": {
             "colorbar": {
              "outlinewidth": 1,
              "tickcolor": "rgb(36,36,36)",
              "ticks": "outside"
             }
            },
            "type": "scatterpolargl"
           }
          ],
          "scatterternary": [
           {
            "marker": {
             "colorbar": {
              "outlinewidth": 1,
              "tickcolor": "rgb(36,36,36)",
              "ticks": "outside"
             }
            },
            "type": "scatterternary"
           }
          ],
          "surface": [
           {
            "colorbar": {
             "outlinewidth": 1,
             "tickcolor": "rgb(36,36,36)",
             "ticks": "outside"
            },
            "colorscale": [
             [
              0,
              "#440154"
             ],
             [
              0.1111111111111111,
              "#482878"
             ],
             [
              0.2222222222222222,
              "#3e4989"
             ],
             [
              0.3333333333333333,
              "#31688e"
             ],
             [
              0.4444444444444444,
              "#26828e"
             ],
             [
              0.5555555555555556,
              "#1f9e89"
             ],
             [
              0.6666666666666666,
              "#35b779"
             ],
             [
              0.7777777777777778,
              "#6ece58"
             ],
             [
              0.8888888888888888,
              "#b5de2b"
             ],
             [
              1,
              "#fde725"
             ]
            ],
            "type": "surface"
           }
          ],
          "table": [
           {
            "cells": {
             "fill": {
              "color": "rgb(237,237,237)"
             },
             "line": {
              "color": "white"
             }
            },
            "header": {
             "fill": {
              "color": "rgb(217,217,217)"
             },
             "line": {
              "color": "white"
             }
            },
            "type": "table"
           }
          ]
         },
         "layout": {
          "annotationdefaults": {
           "arrowhead": 0,
           "arrowwidth": 1
          },
          "autotypenumbers": "strict",
          "coloraxis": {
           "colorbar": {
            "outlinewidth": 1,
            "tickcolor": "rgb(36,36,36)",
            "ticks": "outside"
           }
          },
          "colorscale": {
           "diverging": [
            [
             0,
             "rgb(103,0,31)"
            ],
            [
             0.1,
             "rgb(178,24,43)"
            ],
            [
             0.2,
             "rgb(214,96,77)"
            ],
            [
             0.3,
             "rgb(244,165,130)"
            ],
            [
             0.4,
             "rgb(253,219,199)"
            ],
            [
             0.5,
             "rgb(247,247,247)"
            ],
            [
             0.6,
             "rgb(209,229,240)"
            ],
            [
             0.7,
             "rgb(146,197,222)"
            ],
            [
             0.8,
             "rgb(67,147,195)"
            ],
            [
             0.9,
             "rgb(33,102,172)"
            ],
            [
             1,
             "rgb(5,48,97)"
            ]
           ],
           "sequential": [
            [
             0,
             "#440154"
            ],
            [
             0.1111111111111111,
             "#482878"
            ],
            [
             0.2222222222222222,
             "#3e4989"
            ],
            [
             0.3333333333333333,
             "#31688e"
            ],
            [
             0.4444444444444444,
             "#26828e"
            ],
            [
             0.5555555555555556,
             "#1f9e89"
            ],
            [
             0.6666666666666666,
             "#35b779"
            ],
            [
             0.7777777777777778,
             "#6ece58"
            ],
            [
             0.8888888888888888,
             "#b5de2b"
            ],
            [
             1,
             "#fde725"
            ]
           ],
           "sequentialminus": [
            [
             0,
             "#440154"
            ],
            [
             0.1111111111111111,
             "#482878"
            ],
            [
             0.2222222222222222,
             "#3e4989"
            ],
            [
             0.3333333333333333,
             "#31688e"
            ],
            [
             0.4444444444444444,
             "#26828e"
            ],
            [
             0.5555555555555556,
             "#1f9e89"
            ],
            [
             0.6666666666666666,
             "#35b779"
            ],
            [
             0.7777777777777778,
             "#6ece58"
            ],
            [
             0.8888888888888888,
             "#b5de2b"
            ],
            [
             1,
             "#fde725"
            ]
           ]
          },
          "colorway": [
           "#1F77B4",
           "#FF7F0E",
           "#2CA02C",
           "#D62728",
           "#9467BD",
           "#8C564B",
           "#E377C2",
           "#7F7F7F",
           "#BCBD22",
           "#17BECF"
          ],
          "font": {
           "color": "rgb(36,36,36)"
          },
          "geo": {
           "bgcolor": "white",
           "lakecolor": "white",
           "landcolor": "white",
           "showlakes": true,
           "showland": true,
           "subunitcolor": "white"
          },
          "hoverlabel": {
           "align": "left"
          },
          "hovermode": "closest",
          "mapbox": {
           "style": "light"
          },
          "paper_bgcolor": "white",
          "plot_bgcolor": "white",
          "polar": {
           "angularaxis": {
            "gridcolor": "rgb(232,232,232)",
            "linecolor": "rgb(36,36,36)",
            "showgrid": false,
            "showline": true,
            "ticks": "outside"
           },
           "bgcolor": "white",
           "radialaxis": {
            "gridcolor": "rgb(232,232,232)",
            "linecolor": "rgb(36,36,36)",
            "showgrid": false,
            "showline": true,
            "ticks": "outside"
           }
          },
          "scene": {
           "xaxis": {
            "backgroundcolor": "white",
            "gridcolor": "rgb(232,232,232)",
            "gridwidth": 2,
            "linecolor": "rgb(36,36,36)",
            "showbackground": true,
            "showgrid": false,
            "showline": true,
            "ticks": "outside",
            "zeroline": false,
            "zerolinecolor": "rgb(36,36,36)"
           },
           "yaxis": {
            "backgroundcolor": "white",
            "gridcolor": "rgb(232,232,232)",
            "gridwidth": 2,
            "linecolor": "rgb(36,36,36)",
            "showbackground": true,
            "showgrid": false,
            "showline": true,
            "ticks": "outside",
            "zeroline": false,
            "zerolinecolor": "rgb(36,36,36)"
           },
           "zaxis": {
            "backgroundcolor": "white",
            "gridcolor": "rgb(232,232,232)",
            "gridwidth": 2,
            "linecolor": "rgb(36,36,36)",
            "showbackground": true,
            "showgrid": false,
            "showline": true,
            "ticks": "outside",
            "zeroline": false,
            "zerolinecolor": "rgb(36,36,36)"
           }
          },
          "shapedefaults": {
           "fillcolor": "black",
           "line": {
            "width": 0
           },
           "opacity": 0.3
          },
          "ternary": {
           "aaxis": {
            "gridcolor": "rgb(232,232,232)",
            "linecolor": "rgb(36,36,36)",
            "showgrid": false,
            "showline": true,
            "ticks": "outside"
           },
           "baxis": {
            "gridcolor": "rgb(232,232,232)",
            "linecolor": "rgb(36,36,36)",
            "showgrid": false,
            "showline": true,
            "ticks": "outside"
           },
           "bgcolor": "white",
           "caxis": {
            "gridcolor": "rgb(232,232,232)",
            "linecolor": "rgb(36,36,36)",
            "showgrid": false,
            "showline": true,
            "ticks": "outside"
           }
          },
          "title": {
           "x": 0.05
          },
          "xaxis": {
           "automargin": true,
           "gridcolor": "rgb(232,232,232)",
           "linecolor": "rgb(36,36,36)",
           "showgrid": false,
           "showline": true,
           "ticks": "outside",
           "title": {
            "standoff": 15
           },
           "zeroline": false,
           "zerolinecolor": "rgb(36,36,36)"
          },
          "yaxis": {
           "automargin": true,
           "gridcolor": "rgb(232,232,232)",
           "linecolor": "rgb(36,36,36)",
           "showgrid": false,
           "showline": true,
           "ticks": "outside",
           "title": {
            "standoff": 15
           },
           "zeroline": false,
           "zerolinecolor": "rgb(36,36,36)"
          }
         }
        },
        "title": {
         "font": {
          "size": 20
         },
         "text": "Optimal Material Combinations to Comprise Desired Composite",
         "x": 0.15
        }
       }
      }
     },
     "metadata": {},
     "output_type": "display_data"
    },
    {
     "data": {
      "application/vnd.plotly.v1+json": {
       "config": {
        "plotlyServerURL": "https://plot.ly"
       },
       "data": [
        {
         "cells": {
          "align": "left",
          "fill": {
           "color": [
            [
             "white",
             "lightgrey",
             "white",
             "lightgrey",
             "white"
            ]
           ]
          },
          "font": {
           "size": 12
          },
          "height": 30,
          "values": [
           [
            {
             "mp-752826": {
              "bulk_modulus": 168.258,
              "elec_cond": 41.0475,
              "shear_modulus": 90.134,
              "therm_cond": 0.000111994,
              "universal_anisotropy": 1.271
             }
            },
            {
             "mp-752826": {
              "bulk_modulus": 168.258,
              "elec_cond": 41.0475,
              "shear_modulus": 90.134,
              "therm_cond": 0.000111994,
              "universal_anisotropy": 1.271
             }
            },
            {
             "mp-752826": {
              "bulk_modulus": 168.258,
              "elec_cond": 41.0475,
              "shear_modulus": 90.134,
              "therm_cond": 0.000111994,
              "universal_anisotropy": 1.271
             }
            },
            {
             "mp-752826": {
              "bulk_modulus": 168.258,
              "elec_cond": 41.0475,
              "shear_modulus": 90.134,
              "therm_cond": 0.000111994,
              "universal_anisotropy": 1.271
             }
            },
            {
             "mp-752826": {
              "bulk_modulus": 168.258,
              "elec_cond": 41.0475,
              "shear_modulus": 90.134,
              "therm_cond": 0.000111994,
              "universal_anisotropy": 1.271
             }
            }
           ],
           [
            {
             "mp-5924": {
              "bulk_modulus": 193.509,
              "elec_cond": 64.5658,
              "shear_modulus": 113.741,
              "therm_cond": 0.000300167,
              "universal_anisotropy": 1.091
             }
            },
            {
             "mp-5924": {
              "bulk_modulus": 193.509,
              "elec_cond": 64.5658,
              "shear_modulus": 113.741,
              "therm_cond": 0.000300167,
              "universal_anisotropy": 1.091
             }
            },
            {
             "mp-5924": {
              "bulk_modulus": 193.509,
              "elec_cond": 64.5658,
              "shear_modulus": 113.741,
              "therm_cond": 0.000300167,
              "universal_anisotropy": 1.091
             }
            },
            {
             "mp-5924": {
              "bulk_modulus": 193.509,
              "elec_cond": 64.5658,
              "shear_modulus": 113.741,
              "therm_cond": 0.000300167,
              "universal_anisotropy": 1.091
             }
            },
            {
             "mp-5924": {
              "bulk_modulus": 193.509,
              "elec_cond": 64.5658,
              "shear_modulus": 113.741,
              "therm_cond": 0.000300167,
              "universal_anisotropy": 1.091
             }
            }
           ],
           [
            {
             "mp-5924": {
              "bulk_modulus": 193.509,
              "elec_cond": 64.5658,
              "shear_modulus": 113.741,
              "therm_cond": 0.000300167,
              "universal_anisotropy": 1.091
             }
            },
            {
             "mp-5924": {
              "bulk_modulus": 193.509,
              "elec_cond": 64.5658,
              "shear_modulus": 113.741,
              "therm_cond": 0.000300167,
              "universal_anisotropy": 1.091
             }
            },
            {
             "mp-5924": {
              "bulk_modulus": 193.509,
              "elec_cond": 64.5658,
              "shear_modulus": 113.741,
              "therm_cond": 0.000300167,
              "universal_anisotropy": 1.091
             }
            },
            {
             "mp-5924": {
              "bulk_modulus": 193.509,
              "elec_cond": 64.5658,
              "shear_modulus": 113.741,
              "therm_cond": 0.000300167,
              "universal_anisotropy": 1.091
             }
            },
            {
             "mp-5924": {
              "bulk_modulus": 193.509,
              "elec_cond": 64.5658,
              "shear_modulus": 113.741,
              "therm_cond": 0.000300167,
              "universal_anisotropy": 1.091
             }
            }
           ],
           [
            41.0475,
            41.0475,
            41.0475,
            41.0475,
            41.0475
           ],
           [
            64.5658,
            64.5658,
            64.5658,
            64.5658,
            64.5658
           ],
           [
            64.5658,
            64.5658,
            64.5658,
            64.5658,
            64.5658
           ],
           [
            0.000111994,
            0.000111994,
            0.000111994,
            0.000111994,
            0.000111994
           ],
           [
            0.000300167,
            0.000300167,
            0.000300167,
            0.000300167,
            0.000300167
           ],
           [
            0.000300167,
            0.000300167,
            0.000300167,
            0.000300167,
            0.000300167
           ],
           [
            168.258,
            168.258,
            168.258,
            168.258,
            168.258
           ],
           [
            193.509,
            193.509,
            193.509,
            193.509,
            193.509
           ],
           [
            193.509,
            193.509,
            193.509,
            193.509,
            193.509
           ],
           [
            90.134,
            90.134,
            90.134,
            90.134,
            90.134
           ],
           [
            113.741,
            113.741,
            113.741,
            113.741,
            113.741
           ],
           [
            113.741,
            113.741,
            113.741,
            113.741,
            113.741
           ],
           [
            1.271,
            1.271,
            1.271,
            1.271,
            1.271
           ],
           [
            1.091,
            1.091,
            1.091,
            1.091,
            1.091
           ],
           [
            1.091,
            1.091,
            1.091,
            1.091,
            1.091
           ],
           [
            0.1789655172413793,
            0.11137931034482758,
            0.1789655172413793,
            0.1789655172413793,
            0.1789655172413793
           ],
           [
            0.8210344827586207,
            0.8886206896551724,
            0.9562068965517241,
            0.99,
            0.9224137931034482
           ],
           [
            0,
            0,
            -0.1351724137931034,
            -0.16896551724137931,
            -0.1013793103448275
           ],
           [
            18.41355993256437,
            19.033567791373155,
            22.854217316287922,
            23.972417694149037,
            24.886292417713246
           ]
          ]
         },
         "columnwidth": 1000,
         "header": {
          "align": "left",
          "fill": {
           "color": "lavender"
          },
          "font": {
           "size": 12
          },
          "height": 30,
          "values": [
           "Material 1 MP-ID",
           "Material 2 MP-ID",
           "Material 3 MP-ID",
           "Phase 1 Electrical conductivity, [S/m]",
           "Phase 2 Electrical conductivity, [S/m]",
           "Phase 3 Electrical conductivity, [S/m]",
           "Phase 1 Thermal conductivity, [W/m/K]",
           "Phase 2 Thermal conductivity, [W/m/K]",
           "Phase 3 Thermal conductivity, [W/m/K]",
           "Phase 1 Bulk modulus, [GPa]",
           "Phase 2 Bulk modulus, [GPa]",
           "Phase 3 Bulk modulus, [GPa]",
           "Phase 1 Shear modulus, [GPa]",
           "Phase 2 Shear modulus, [GPa]",
           "Phase 3 Shear modulus, [GPa]",
           "Phase 1 Universal anisotropy, []",
           "Phase 2 Universal anisotropy, []",
           "Phase 3 Universal anisotropy, []",
           "Phase 1 Volume Fraction",
           "Phase 2 Volume Fraction",
           "Phase 3 Volume Fraction",
           "cost"
          ]
         },
         "type": "table"
        }
       ],
       "layout": {
        "autosize": true,
        "height": 400,
        "margin": {
         "b": 0,
         "l": 0,
         "r": 0,
         "t": 40
        },
        "template": {
         "data": {
          "bar": [
           {
            "error_x": {
             "color": "rgb(36,36,36)"
            },
            "error_y": {
             "color": "rgb(36,36,36)"
            },
            "marker": {
             "line": {
              "color": "white",
              "width": 0.5
             },
             "pattern": {
              "fillmode": "overlay",
              "size": 10,
              "solidity": 0.2
             }
            },
            "type": "bar"
           }
          ],
          "barpolar": [
           {
            "marker": {
             "line": {
              "color": "white",
              "width": 0.5
             },
             "pattern": {
              "fillmode": "overlay",
              "size": 10,
              "solidity": 0.2
             }
            },
            "type": "barpolar"
           }
          ],
          "carpet": [
           {
            "aaxis": {
             "endlinecolor": "rgb(36,36,36)",
             "gridcolor": "white",
             "linecolor": "white",
             "minorgridcolor": "white",
             "startlinecolor": "rgb(36,36,36)"
            },
            "baxis": {
             "endlinecolor": "rgb(36,36,36)",
             "gridcolor": "white",
             "linecolor": "white",
             "minorgridcolor": "white",
             "startlinecolor": "rgb(36,36,36)"
            },
            "type": "carpet"
           }
          ],
          "choropleth": [
           {
            "colorbar": {
             "outlinewidth": 1,
             "tickcolor": "rgb(36,36,36)",
             "ticks": "outside"
            },
            "type": "choropleth"
           }
          ],
          "contour": [
           {
            "colorbar": {
             "outlinewidth": 1,
             "tickcolor": "rgb(36,36,36)",
             "ticks": "outside"
            },
            "colorscale": [
             [
              0,
              "#440154"
             ],
             [
              0.1111111111111111,
              "#482878"
             ],
             [
              0.2222222222222222,
              "#3e4989"
             ],
             [
              0.3333333333333333,
              "#31688e"
             ],
             [
              0.4444444444444444,
              "#26828e"
             ],
             [
              0.5555555555555556,
              "#1f9e89"
             ],
             [
              0.6666666666666666,
              "#35b779"
             ],
             [
              0.7777777777777778,
              "#6ece58"
             ],
             [
              0.8888888888888888,
              "#b5de2b"
             ],
             [
              1,
              "#fde725"
             ]
            ],
            "type": "contour"
           }
          ],
          "contourcarpet": [
           {
            "colorbar": {
             "outlinewidth": 1,
             "tickcolor": "rgb(36,36,36)",
             "ticks": "outside"
            },
            "type": "contourcarpet"
           }
          ],
          "heatmap": [
           {
            "colorbar": {
             "outlinewidth": 1,
             "tickcolor": "rgb(36,36,36)",
             "ticks": "outside"
            },
            "colorscale": [
             [
              0,
              "#440154"
             ],
             [
              0.1111111111111111,
              "#482878"
             ],
             [
              0.2222222222222222,
              "#3e4989"
             ],
             [
              0.3333333333333333,
              "#31688e"
             ],
             [
              0.4444444444444444,
              "#26828e"
             ],
             [
              0.5555555555555556,
              "#1f9e89"
             ],
             [
              0.6666666666666666,
              "#35b779"
             ],
             [
              0.7777777777777778,
              "#6ece58"
             ],
             [
              0.8888888888888888,
              "#b5de2b"
             ],
             [
              1,
              "#fde725"
             ]
            ],
            "type": "heatmap"
           }
          ],
          "heatmapgl": [
           {
            "colorbar": {
             "outlinewidth": 1,
             "tickcolor": "rgb(36,36,36)",
             "ticks": "outside"
            },
            "colorscale": [
             [
              0,
              "#440154"
             ],
             [
              0.1111111111111111,
              "#482878"
             ],
             [
              0.2222222222222222,
              "#3e4989"
             ],
             [
              0.3333333333333333,
              "#31688e"
             ],
             [
              0.4444444444444444,
              "#26828e"
             ],
             [
              0.5555555555555556,
              "#1f9e89"
             ],
             [
              0.6666666666666666,
              "#35b779"
             ],
             [
              0.7777777777777778,
              "#6ece58"
             ],
             [
              0.8888888888888888,
              "#b5de2b"
             ],
             [
              1,
              "#fde725"
             ]
            ],
            "type": "heatmapgl"
           }
          ],
          "histogram": [
           {
            "marker": {
             "line": {
              "color": "white",
              "width": 0.6
             }
            },
            "type": "histogram"
           }
          ],
          "histogram2d": [
           {
            "colorbar": {
             "outlinewidth": 1,
             "tickcolor": "rgb(36,36,36)",
             "ticks": "outside"
            },
            "colorscale": [
             [
              0,
              "#440154"
             ],
             [
              0.1111111111111111,
              "#482878"
             ],
             [
              0.2222222222222222,
              "#3e4989"
             ],
             [
              0.3333333333333333,
              "#31688e"
             ],
             [
              0.4444444444444444,
              "#26828e"
             ],
             [
              0.5555555555555556,
              "#1f9e89"
             ],
             [
              0.6666666666666666,
              "#35b779"
             ],
             [
              0.7777777777777778,
              "#6ece58"
             ],
             [
              0.8888888888888888,
              "#b5de2b"
             ],
             [
              1,
              "#fde725"
             ]
            ],
            "type": "histogram2d"
           }
          ],
          "histogram2dcontour": [
           {
            "colorbar": {
             "outlinewidth": 1,
             "tickcolor": "rgb(36,36,36)",
             "ticks": "outside"
            },
            "colorscale": [
             [
              0,
              "#440154"
             ],
             [
              0.1111111111111111,
              "#482878"
             ],
             [
              0.2222222222222222,
              "#3e4989"
             ],
             [
              0.3333333333333333,
              "#31688e"
             ],
             [
              0.4444444444444444,
              "#26828e"
             ],
             [
              0.5555555555555556,
              "#1f9e89"
             ],
             [
              0.6666666666666666,
              "#35b779"
             ],
             [
              0.7777777777777778,
              "#6ece58"
             ],
             [
              0.8888888888888888,
              "#b5de2b"
             ],
             [
              1,
              "#fde725"
             ]
            ],
            "type": "histogram2dcontour"
           }
          ],
          "mesh3d": [
           {
            "colorbar": {
             "outlinewidth": 1,
             "tickcolor": "rgb(36,36,36)",
             "ticks": "outside"
            },
            "type": "mesh3d"
           }
          ],
          "parcoords": [
           {
            "line": {
             "colorbar": {
              "outlinewidth": 1,
              "tickcolor": "rgb(36,36,36)",
              "ticks": "outside"
             }
            },
            "type": "parcoords"
           }
          ],
          "pie": [
           {
            "automargin": true,
            "type": "pie"
           }
          ],
          "scatter": [
           {
            "fillpattern": {
             "fillmode": "overlay",
             "size": 10,
             "solidity": 0.2
            },
            "type": "scatter"
           }
          ],
          "scatter3d": [
           {
            "line": {
             "colorbar": {
              "outlinewidth": 1,
              "tickcolor": "rgb(36,36,36)",
              "ticks": "outside"
             }
            },
            "marker": {
             "colorbar": {
              "outlinewidth": 1,
              "tickcolor": "rgb(36,36,36)",
              "ticks": "outside"
             }
            },
            "type": "scatter3d"
           }
          ],
          "scattercarpet": [
           {
            "marker": {
             "colorbar": {
              "outlinewidth": 1,
              "tickcolor": "rgb(36,36,36)",
              "ticks": "outside"
             }
            },
            "type": "scattercarpet"
           }
          ],
          "scattergeo": [
           {
            "marker": {
             "colorbar": {
              "outlinewidth": 1,
              "tickcolor": "rgb(36,36,36)",
              "ticks": "outside"
             }
            },
            "type": "scattergeo"
           }
          ],
          "scattergl": [
           {
            "marker": {
             "colorbar": {
              "outlinewidth": 1,
              "tickcolor": "rgb(36,36,36)",
              "ticks": "outside"
             }
            },
            "type": "scattergl"
           }
          ],
          "scattermapbox": [
           {
            "marker": {
             "colorbar": {
              "outlinewidth": 1,
              "tickcolor": "rgb(36,36,36)",
              "ticks": "outside"
             }
            },
            "type": "scattermapbox"
           }
          ],
          "scatterpolar": [
           {
            "marker": {
             "colorbar": {
              "outlinewidth": 1,
              "tickcolor": "rgb(36,36,36)",
              "ticks": "outside"
             }
            },
            "type": "scatterpolar"
           }
          ],
          "scatterpolargl": [
           {
            "marker": {
             "colorbar": {
              "outlinewidth": 1,
              "tickcolor": "rgb(36,36,36)",
              "ticks": "outside"
             }
            },
            "type": "scatterpolargl"
           }
          ],
          "scatterternary": [
           {
            "marker": {
             "colorbar": {
              "outlinewidth": 1,
              "tickcolor": "rgb(36,36,36)",
              "ticks": "outside"
             }
            },
            "type": "scatterternary"
           }
          ],
          "surface": [
           {
            "colorbar": {
             "outlinewidth": 1,
             "tickcolor": "rgb(36,36,36)",
             "ticks": "outside"
            },
            "colorscale": [
             [
              0,
              "#440154"
             ],
             [
              0.1111111111111111,
              "#482878"
             ],
             [
              0.2222222222222222,
              "#3e4989"
             ],
             [
              0.3333333333333333,
              "#31688e"
             ],
             [
              0.4444444444444444,
              "#26828e"
             ],
             [
              0.5555555555555556,
              "#1f9e89"
             ],
             [
              0.6666666666666666,
              "#35b779"
             ],
             [
              0.7777777777777778,
              "#6ece58"
             ],
             [
              0.8888888888888888,
              "#b5de2b"
             ],
             [
              1,
              "#fde725"
             ]
            ],
            "type": "surface"
           }
          ],
          "table": [
           {
            "cells": {
             "fill": {
              "color": "rgb(237,237,237)"
             },
             "line": {
              "color": "white"
             }
            },
            "header": {
             "fill": {
              "color": "rgb(217,217,217)"
             },
             "line": {
              "color": "white"
             }
            },
            "type": "table"
           }
          ]
         },
         "layout": {
          "annotationdefaults": {
           "arrowhead": 0,
           "arrowwidth": 1
          },
          "autotypenumbers": "strict",
          "coloraxis": {
           "colorbar": {
            "outlinewidth": 1,
            "tickcolor": "rgb(36,36,36)",
            "ticks": "outside"
           }
          },
          "colorscale": {
           "diverging": [
            [
             0,
             "rgb(103,0,31)"
            ],
            [
             0.1,
             "rgb(178,24,43)"
            ],
            [
             0.2,
             "rgb(214,96,77)"
            ],
            [
             0.3,
             "rgb(244,165,130)"
            ],
            [
             0.4,
             "rgb(253,219,199)"
            ],
            [
             0.5,
             "rgb(247,247,247)"
            ],
            [
             0.6,
             "rgb(209,229,240)"
            ],
            [
             0.7,
             "rgb(146,197,222)"
            ],
            [
             0.8,
             "rgb(67,147,195)"
            ],
            [
             0.9,
             "rgb(33,102,172)"
            ],
            [
             1,
             "rgb(5,48,97)"
            ]
           ],
           "sequential": [
            [
             0,
             "#440154"
            ],
            [
             0.1111111111111111,
             "#482878"
            ],
            [
             0.2222222222222222,
             "#3e4989"
            ],
            [
             0.3333333333333333,
             "#31688e"
            ],
            [
             0.4444444444444444,
             "#26828e"
            ],
            [
             0.5555555555555556,
             "#1f9e89"
            ],
            [
             0.6666666666666666,
             "#35b779"
            ],
            [
             0.7777777777777778,
             "#6ece58"
            ],
            [
             0.8888888888888888,
             "#b5de2b"
            ],
            [
             1,
             "#fde725"
            ]
           ],
           "sequentialminus": [
            [
             0,
             "#440154"
            ],
            [
             0.1111111111111111,
             "#482878"
            ],
            [
             0.2222222222222222,
             "#3e4989"
            ],
            [
             0.3333333333333333,
             "#31688e"
            ],
            [
             0.4444444444444444,
             "#26828e"
            ],
            [
             0.5555555555555556,
             "#1f9e89"
            ],
            [
             0.6666666666666666,
             "#35b779"
            ],
            [
             0.7777777777777778,
             "#6ece58"
            ],
            [
             0.8888888888888888,
             "#b5de2b"
            ],
            [
             1,
             "#fde725"
            ]
           ]
          },
          "colorway": [
           "#1F77B4",
           "#FF7F0E",
           "#2CA02C",
           "#D62728",
           "#9467BD",
           "#8C564B",
           "#E377C2",
           "#7F7F7F",
           "#BCBD22",
           "#17BECF"
          ],
          "font": {
           "color": "rgb(36,36,36)"
          },
          "geo": {
           "bgcolor": "white",
           "lakecolor": "white",
           "landcolor": "white",
           "showlakes": true,
           "showland": true,
           "subunitcolor": "white"
          },
          "hoverlabel": {
           "align": "left"
          },
          "hovermode": "closest",
          "mapbox": {
           "style": "light"
          },
          "paper_bgcolor": "white",
          "plot_bgcolor": "white",
          "polar": {
           "angularaxis": {
            "gridcolor": "rgb(232,232,232)",
            "linecolor": "rgb(36,36,36)",
            "showgrid": false,
            "showline": true,
            "ticks": "outside"
           },
           "bgcolor": "white",
           "radialaxis": {
            "gridcolor": "rgb(232,232,232)",
            "linecolor": "rgb(36,36,36)",
            "showgrid": false,
            "showline": true,
            "ticks": "outside"
           }
          },
          "scene": {
           "xaxis": {
            "backgroundcolor": "white",
            "gridcolor": "rgb(232,232,232)",
            "gridwidth": 2,
            "linecolor": "rgb(36,36,36)",
            "showbackground": true,
            "showgrid": false,
            "showline": true,
            "ticks": "outside",
            "zeroline": false,
            "zerolinecolor": "rgb(36,36,36)"
           },
           "yaxis": {
            "backgroundcolor": "white",
            "gridcolor": "rgb(232,232,232)",
            "gridwidth": 2,
            "linecolor": "rgb(36,36,36)",
            "showbackground": true,
            "showgrid": false,
            "showline": true,
            "ticks": "outside",
            "zeroline": false,
            "zerolinecolor": "rgb(36,36,36)"
           },
           "zaxis": {
            "backgroundcolor": "white",
            "gridcolor": "rgb(232,232,232)",
            "gridwidth": 2,
            "linecolor": "rgb(36,36,36)",
            "showbackground": true,
            "showgrid": false,
            "showline": true,
            "ticks": "outside",
            "zeroline": false,
            "zerolinecolor": "rgb(36,36,36)"
           }
          },
          "shapedefaults": {
           "fillcolor": "black",
           "line": {
            "width": 0
           },
           "opacity": 0.3
          },
          "ternary": {
           "aaxis": {
            "gridcolor": "rgb(232,232,232)",
            "linecolor": "rgb(36,36,36)",
            "showgrid": false,
            "showline": true,
            "ticks": "outside"
           },
           "baxis": {
            "gridcolor": "rgb(232,232,232)",
            "linecolor": "rgb(36,36,36)",
            "showgrid": false,
            "showline": true,
            "ticks": "outside"
           },
           "bgcolor": "white",
           "caxis": {
            "gridcolor": "rgb(232,232,232)",
            "linecolor": "rgb(36,36,36)",
            "showgrid": false,
            "showline": true,
            "ticks": "outside"
           }
          },
          "title": {
           "x": 0.05
          },
          "xaxis": {
           "automargin": true,
           "gridcolor": "rgb(232,232,232)",
           "linecolor": "rgb(36,36,36)",
           "showgrid": false,
           "showline": true,
           "ticks": "outside",
           "title": {
            "standoff": 15
           },
           "zeroline": false,
           "zerolinecolor": "rgb(36,36,36)"
          },
          "yaxis": {
           "automargin": true,
           "gridcolor": "rgb(232,232,232)",
           "linecolor": "rgb(36,36,36)",
           "showgrid": false,
           "showline": true,
           "ticks": "outside",
           "title": {
            "standoff": 15
           },
           "zeroline": false,
           "zerolinecolor": "rgb(36,36,36)"
          }
         }
        },
        "title": {
         "font": {
          "size": 20
         },
         "text": "Optimal Material Combinations to Comprise Desired Composite",
         "x": 0.15
        }
       }
      }
     },
     "metadata": {},
     "output_type": "display_data"
    },
    {
     "data": {
      "application/vnd.plotly.v1+json": {
       "config": {
        "plotlyServerURL": "https://plot.ly"
       },
       "data": [
        {
         "cells": {
          "align": "left",
          "fill": {
           "color": [
            [
             "white",
             "lightgrey",
             "white",
             "lightgrey",
             "white"
            ]
           ]
          },
          "font": {
           "size": 12
          },
          "height": 30,
          "values": [
           [
            {
             "mp-3536": {
              "bulk_modulus": 182.861,
              "elec_cond": 77.0117,
              "shear_modulus": 107.669,
              "therm_cond": 0.000316911,
              "universal_anisotropy": 1.062
             }
            },
            {
             "mp-3536": {
              "bulk_modulus": 182.861,
              "elec_cond": 77.0117,
              "shear_modulus": 107.669,
              "therm_cond": 0.000316911,
              "universal_anisotropy": 1.062
             }
            },
            {
             "mp-3536": {
              "bulk_modulus": 182.861,
              "elec_cond": 77.0117,
              "shear_modulus": 107.669,
              "therm_cond": 0.000316911,
              "universal_anisotropy": 1.062
             }
            },
            {
             "mp-3536": {
              "bulk_modulus": 182.861,
              "elec_cond": 77.0117,
              "shear_modulus": 107.669,
              "therm_cond": 0.000316911,
              "universal_anisotropy": 1.062
             }
            },
            {
             "mp-3536": {
              "bulk_modulus": 182.861,
              "elec_cond": 77.0117,
              "shear_modulus": 107.669,
              "therm_cond": 0.000316911,
              "universal_anisotropy": 1.062
             }
            }
           ],
           [
            {
             "mp-752826": {
              "bulk_modulus": 168.258,
              "elec_cond": 41.0475,
              "shear_modulus": 90.134,
              "therm_cond": 0.000111994,
              "universal_anisotropy": 1.271
             }
            },
            {
             "mp-752826": {
              "bulk_modulus": 168.258,
              "elec_cond": 41.0475,
              "shear_modulus": 90.134,
              "therm_cond": 0.000111994,
              "universal_anisotropy": 1.271
             }
            },
            {
             "mp-752826": {
              "bulk_modulus": 168.258,
              "elec_cond": 41.0475,
              "shear_modulus": 90.134,
              "therm_cond": 0.000111994,
              "universal_anisotropy": 1.271
             }
            },
            {
             "mp-752826": {
              "bulk_modulus": 168.258,
              "elec_cond": 41.0475,
              "shear_modulus": 90.134,
              "therm_cond": 0.000111994,
              "universal_anisotropy": 1.271
             }
            },
            {
             "mp-752826": {
              "bulk_modulus": 168.258,
              "elec_cond": 41.0475,
              "shear_modulus": 90.134,
              "therm_cond": 0.000111994,
              "universal_anisotropy": 1.271
             }
            }
           ],
           [
            {
             "mp-752826": {
              "bulk_modulus": 168.258,
              "elec_cond": 41.0475,
              "shear_modulus": 90.134,
              "therm_cond": 0.000111994,
              "universal_anisotropy": 1.271
             }
            },
            {
             "mp-752826": {
              "bulk_modulus": 168.258,
              "elec_cond": 41.0475,
              "shear_modulus": 90.134,
              "therm_cond": 0.000111994,
              "universal_anisotropy": 1.271
             }
            },
            {
             "mp-752826": {
              "bulk_modulus": 168.258,
              "elec_cond": 41.0475,
              "shear_modulus": 90.134,
              "therm_cond": 0.000111994,
              "universal_anisotropy": 1.271
             }
            },
            {
             "mp-752826": {
              "bulk_modulus": 168.258,
              "elec_cond": 41.0475,
              "shear_modulus": 90.134,
              "therm_cond": 0.000111994,
              "universal_anisotropy": 1.271
             }
            },
            {
             "mp-752826": {
              "bulk_modulus": 168.258,
              "elec_cond": 41.0475,
              "shear_modulus": 90.134,
              "therm_cond": 0.000111994,
              "universal_anisotropy": 1.271
             }
            }
           ],
           [
            77.0117,
            77.0117,
            77.0117,
            77.0117,
            77.0117
           ],
           [
            41.0475,
            41.0475,
            41.0475,
            41.0475,
            41.0475
           ],
           [
            41.0475,
            41.0475,
            41.0475,
            41.0475,
            41.0475
           ],
           [
            0.000316911,
            0.000316911,
            0.000316911,
            0.000316911,
            0.000316911
           ],
           [
            0.000111994,
            0.000111994,
            0.000111994,
            0.000111994,
            0.000111994
           ],
           [
            0.000111994,
            0.000111994,
            0.000111994,
            0.000111994,
            0.000111994
           ],
           [
            182.861,
            182.861,
            182.861,
            182.861,
            182.861
           ],
           [
            168.258,
            168.258,
            168.258,
            168.258,
            168.258
           ],
           [
            168.258,
            168.258,
            168.258,
            168.258,
            168.258
           ],
           [
            107.669,
            107.669,
            107.669,
            107.669,
            107.669
           ],
           [
            90.134,
            90.134,
            90.134,
            90.134,
            90.134
           ],
           [
            90.134,
            90.134,
            90.134,
            90.134,
            90.134
           ],
           [
            1.062,
            1.062,
            1.062,
            1.062,
            1.062
           ],
           [
            1.271,
            1.271,
            1.271,
            1.271,
            1.271
           ],
           [
            1.271,
            1.271,
            1.271,
            1.271,
            1.271
           ],
           [
            0.1789655172413793,
            0.11137931034482758,
            0.1789655172413793,
            0.1789655172413793,
            0.1789655172413793
           ],
           [
            0.8210344827586207,
            0.8886206896551724,
            0.9562068965517241,
            0.9224137931034482,
            0.99
           ],
           [
            0,
            0,
            -0.1351724137931034,
            -0.1013793103448275,
            -0.16896551724137931
           ],
           [
            18.686854990968946,
            21.167967915767008,
            27.72801036738124,
            29.399722829213072,
            29.5708752651994
           ]
          ]
         },
         "columnwidth": 1000,
         "header": {
          "align": "left",
          "fill": {
           "color": "lavender"
          },
          "font": {
           "size": 12
          },
          "height": 30,
          "values": [
           "Material 1 MP-ID",
           "Material 2 MP-ID",
           "Material 3 MP-ID",
           "Phase 1 Electrical conductivity, [S/m]",
           "Phase 2 Electrical conductivity, [S/m]",
           "Phase 3 Electrical conductivity, [S/m]",
           "Phase 1 Thermal conductivity, [W/m/K]",
           "Phase 2 Thermal conductivity, [W/m/K]",
           "Phase 3 Thermal conductivity, [W/m/K]",
           "Phase 1 Bulk modulus, [GPa]",
           "Phase 2 Bulk modulus, [GPa]",
           "Phase 3 Bulk modulus, [GPa]",
           "Phase 1 Shear modulus, [GPa]",
           "Phase 2 Shear modulus, [GPa]",
           "Phase 3 Shear modulus, [GPa]",
           "Phase 1 Universal anisotropy, []",
           "Phase 2 Universal anisotropy, []",
           "Phase 3 Universal anisotropy, []",
           "Phase 1 Volume Fraction",
           "Phase 2 Volume Fraction",
           "Phase 3 Volume Fraction",
           "cost"
          ]
         },
         "type": "table"
        }
       ],
       "layout": {
        "autosize": true,
        "height": 400,
        "margin": {
         "b": 0,
         "l": 0,
         "r": 0,
         "t": 40
        },
        "template": {
         "data": {
          "bar": [
           {
            "error_x": {
             "color": "rgb(36,36,36)"
            },
            "error_y": {
             "color": "rgb(36,36,36)"
            },
            "marker": {
             "line": {
              "color": "white",
              "width": 0.5
             },
             "pattern": {
              "fillmode": "overlay",
              "size": 10,
              "solidity": 0.2
             }
            },
            "type": "bar"
           }
          ],
          "barpolar": [
           {
            "marker": {
             "line": {
              "color": "white",
              "width": 0.5
             },
             "pattern": {
              "fillmode": "overlay",
              "size": 10,
              "solidity": 0.2
             }
            },
            "type": "barpolar"
           }
          ],
          "carpet": [
           {
            "aaxis": {
             "endlinecolor": "rgb(36,36,36)",
             "gridcolor": "white",
             "linecolor": "white",
             "minorgridcolor": "white",
             "startlinecolor": "rgb(36,36,36)"
            },
            "baxis": {
             "endlinecolor": "rgb(36,36,36)",
             "gridcolor": "white",
             "linecolor": "white",
             "minorgridcolor": "white",
             "startlinecolor": "rgb(36,36,36)"
            },
            "type": "carpet"
           }
          ],
          "choropleth": [
           {
            "colorbar": {
             "outlinewidth": 1,
             "tickcolor": "rgb(36,36,36)",
             "ticks": "outside"
            },
            "type": "choropleth"
           }
          ],
          "contour": [
           {
            "colorbar": {
             "outlinewidth": 1,
             "tickcolor": "rgb(36,36,36)",
             "ticks": "outside"
            },
            "colorscale": [
             [
              0,
              "#440154"
             ],
             [
              0.1111111111111111,
              "#482878"
             ],
             [
              0.2222222222222222,
              "#3e4989"
             ],
             [
              0.3333333333333333,
              "#31688e"
             ],
             [
              0.4444444444444444,
              "#26828e"
             ],
             [
              0.5555555555555556,
              "#1f9e89"
             ],
             [
              0.6666666666666666,
              "#35b779"
             ],
             [
              0.7777777777777778,
              "#6ece58"
             ],
             [
              0.8888888888888888,
              "#b5de2b"
             ],
             [
              1,
              "#fde725"
             ]
            ],
            "type": "contour"
           }
          ],
          "contourcarpet": [
           {
            "colorbar": {
             "outlinewidth": 1,
             "tickcolor": "rgb(36,36,36)",
             "ticks": "outside"
            },
            "type": "contourcarpet"
           }
          ],
          "heatmap": [
           {
            "colorbar": {
             "outlinewidth": 1,
             "tickcolor": "rgb(36,36,36)",
             "ticks": "outside"
            },
            "colorscale": [
             [
              0,
              "#440154"
             ],
             [
              0.1111111111111111,
              "#482878"
             ],
             [
              0.2222222222222222,
              "#3e4989"
             ],
             [
              0.3333333333333333,
              "#31688e"
             ],
             [
              0.4444444444444444,
              "#26828e"
             ],
             [
              0.5555555555555556,
              "#1f9e89"
             ],
             [
              0.6666666666666666,
              "#35b779"
             ],
             [
              0.7777777777777778,
              "#6ece58"
             ],
             [
              0.8888888888888888,
              "#b5de2b"
             ],
             [
              1,
              "#fde725"
             ]
            ],
            "type": "heatmap"
           }
          ],
          "heatmapgl": [
           {
            "colorbar": {
             "outlinewidth": 1,
             "tickcolor": "rgb(36,36,36)",
             "ticks": "outside"
            },
            "colorscale": [
             [
              0,
              "#440154"
             ],
             [
              0.1111111111111111,
              "#482878"
             ],
             [
              0.2222222222222222,
              "#3e4989"
             ],
             [
              0.3333333333333333,
              "#31688e"
             ],
             [
              0.4444444444444444,
              "#26828e"
             ],
             [
              0.5555555555555556,
              "#1f9e89"
             ],
             [
              0.6666666666666666,
              "#35b779"
             ],
             [
              0.7777777777777778,
              "#6ece58"
             ],
             [
              0.8888888888888888,
              "#b5de2b"
             ],
             [
              1,
              "#fde725"
             ]
            ],
            "type": "heatmapgl"
           }
          ],
          "histogram": [
           {
            "marker": {
             "line": {
              "color": "white",
              "width": 0.6
             }
            },
            "type": "histogram"
           }
          ],
          "histogram2d": [
           {
            "colorbar": {
             "outlinewidth": 1,
             "tickcolor": "rgb(36,36,36)",
             "ticks": "outside"
            },
            "colorscale": [
             [
              0,
              "#440154"
             ],
             [
              0.1111111111111111,
              "#482878"
             ],
             [
              0.2222222222222222,
              "#3e4989"
             ],
             [
              0.3333333333333333,
              "#31688e"
             ],
             [
              0.4444444444444444,
              "#26828e"
             ],
             [
              0.5555555555555556,
              "#1f9e89"
             ],
             [
              0.6666666666666666,
              "#35b779"
             ],
             [
              0.7777777777777778,
              "#6ece58"
             ],
             [
              0.8888888888888888,
              "#b5de2b"
             ],
             [
              1,
              "#fde725"
             ]
            ],
            "type": "histogram2d"
           }
          ],
          "histogram2dcontour": [
           {
            "colorbar": {
             "outlinewidth": 1,
             "tickcolor": "rgb(36,36,36)",
             "ticks": "outside"
            },
            "colorscale": [
             [
              0,
              "#440154"
             ],
             [
              0.1111111111111111,
              "#482878"
             ],
             [
              0.2222222222222222,
              "#3e4989"
             ],
             [
              0.3333333333333333,
              "#31688e"
             ],
             [
              0.4444444444444444,
              "#26828e"
             ],
             [
              0.5555555555555556,
              "#1f9e89"
             ],
             [
              0.6666666666666666,
              "#35b779"
             ],
             [
              0.7777777777777778,
              "#6ece58"
             ],
             [
              0.8888888888888888,
              "#b5de2b"
             ],
             [
              1,
              "#fde725"
             ]
            ],
            "type": "histogram2dcontour"
           }
          ],
          "mesh3d": [
           {
            "colorbar": {
             "outlinewidth": 1,
             "tickcolor": "rgb(36,36,36)",
             "ticks": "outside"
            },
            "type": "mesh3d"
           }
          ],
          "parcoords": [
           {
            "line": {
             "colorbar": {
              "outlinewidth": 1,
              "tickcolor": "rgb(36,36,36)",
              "ticks": "outside"
             }
            },
            "type": "parcoords"
           }
          ],
          "pie": [
           {
            "automargin": true,
            "type": "pie"
           }
          ],
          "scatter": [
           {
            "fillpattern": {
             "fillmode": "overlay",
             "size": 10,
             "solidity": 0.2
            },
            "type": "scatter"
           }
          ],
          "scatter3d": [
           {
            "line": {
             "colorbar": {
              "outlinewidth": 1,
              "tickcolor": "rgb(36,36,36)",
              "ticks": "outside"
             }
            },
            "marker": {
             "colorbar": {
              "outlinewidth": 1,
              "tickcolor": "rgb(36,36,36)",
              "ticks": "outside"
             }
            },
            "type": "scatter3d"
           }
          ],
          "scattercarpet": [
           {
            "marker": {
             "colorbar": {
              "outlinewidth": 1,
              "tickcolor": "rgb(36,36,36)",
              "ticks": "outside"
             }
            },
            "type": "scattercarpet"
           }
          ],
          "scattergeo": [
           {
            "marker": {
             "colorbar": {
              "outlinewidth": 1,
              "tickcolor": "rgb(36,36,36)",
              "ticks": "outside"
             }
            },
            "type": "scattergeo"
           }
          ],
          "scattergl": [
           {
            "marker": {
             "colorbar": {
              "outlinewidth": 1,
              "tickcolor": "rgb(36,36,36)",
              "ticks": "outside"
             }
            },
            "type": "scattergl"
           }
          ],
          "scattermapbox": [
           {
            "marker": {
             "colorbar": {
              "outlinewidth": 1,
              "tickcolor": "rgb(36,36,36)",
              "ticks": "outside"
             }
            },
            "type": "scattermapbox"
           }
          ],
          "scatterpolar": [
           {
            "marker": {
             "colorbar": {
              "outlinewidth": 1,
              "tickcolor": "rgb(36,36,36)",
              "ticks": "outside"
             }
            },
            "type": "scatterpolar"
           }
          ],
          "scatterpolargl": [
           {
            "marker": {
             "colorbar": {
              "outlinewidth": 1,
              "tickcolor": "rgb(36,36,36)",
              "ticks": "outside"
             }
            },
            "type": "scatterpolargl"
           }
          ],
          "scatterternary": [
           {
            "marker": {
             "colorbar": {
              "outlinewidth": 1,
              "tickcolor": "rgb(36,36,36)",
              "ticks": "outside"
             }
            },
            "type": "scatterternary"
           }
          ],
          "surface": [
           {
            "colorbar": {
             "outlinewidth": 1,
             "tickcolor": "rgb(36,36,36)",
             "ticks": "outside"
            },
            "colorscale": [
             [
              0,
              "#440154"
             ],
             [
              0.1111111111111111,
              "#482878"
             ],
             [
              0.2222222222222222,
              "#3e4989"
             ],
             [
              0.3333333333333333,
              "#31688e"
             ],
             [
              0.4444444444444444,
              "#26828e"
             ],
             [
              0.5555555555555556,
              "#1f9e89"
             ],
             [
              0.6666666666666666,
              "#35b779"
             ],
             [
              0.7777777777777778,
              "#6ece58"
             ],
             [
              0.8888888888888888,
              "#b5de2b"
             ],
             [
              1,
              "#fde725"
             ]
            ],
            "type": "surface"
           }
          ],
          "table": [
           {
            "cells": {
             "fill": {
              "color": "rgb(237,237,237)"
             },
             "line": {
              "color": "white"
             }
            },
            "header": {
             "fill": {
              "color": "rgb(217,217,217)"
             },
             "line": {
              "color": "white"
             }
            },
            "type": "table"
           }
          ]
         },
         "layout": {
          "annotationdefaults": {
           "arrowhead": 0,
           "arrowwidth": 1
          },
          "autotypenumbers": "strict",
          "coloraxis": {
           "colorbar": {
            "outlinewidth": 1,
            "tickcolor": "rgb(36,36,36)",
            "ticks": "outside"
           }
          },
          "colorscale": {
           "diverging": [
            [
             0,
             "rgb(103,0,31)"
            ],
            [
             0.1,
             "rgb(178,24,43)"
            ],
            [
             0.2,
             "rgb(214,96,77)"
            ],
            [
             0.3,
             "rgb(244,165,130)"
            ],
            [
             0.4,
             "rgb(253,219,199)"
            ],
            [
             0.5,
             "rgb(247,247,247)"
            ],
            [
             0.6,
             "rgb(209,229,240)"
            ],
            [
             0.7,
             "rgb(146,197,222)"
            ],
            [
             0.8,
             "rgb(67,147,195)"
            ],
            [
             0.9,
             "rgb(33,102,172)"
            ],
            [
             1,
             "rgb(5,48,97)"
            ]
           ],
           "sequential": [
            [
             0,
             "#440154"
            ],
            [
             0.1111111111111111,
             "#482878"
            ],
            [
             0.2222222222222222,
             "#3e4989"
            ],
            [
             0.3333333333333333,
             "#31688e"
            ],
            [
             0.4444444444444444,
             "#26828e"
            ],
            [
             0.5555555555555556,
             "#1f9e89"
            ],
            [
             0.6666666666666666,
             "#35b779"
            ],
            [
             0.7777777777777778,
             "#6ece58"
            ],
            [
             0.8888888888888888,
             "#b5de2b"
            ],
            [
             1,
             "#fde725"
            ]
           ],
           "sequentialminus": [
            [
             0,
             "#440154"
            ],
            [
             0.1111111111111111,
             "#482878"
            ],
            [
             0.2222222222222222,
             "#3e4989"
            ],
            [
             0.3333333333333333,
             "#31688e"
            ],
            [
             0.4444444444444444,
             "#26828e"
            ],
            [
             0.5555555555555556,
             "#1f9e89"
            ],
            [
             0.6666666666666666,
             "#35b779"
            ],
            [
             0.7777777777777778,
             "#6ece58"
            ],
            [
             0.8888888888888888,
             "#b5de2b"
            ],
            [
             1,
             "#fde725"
            ]
           ]
          },
          "colorway": [
           "#1F77B4",
           "#FF7F0E",
           "#2CA02C",
           "#D62728",
           "#9467BD",
           "#8C564B",
           "#E377C2",
           "#7F7F7F",
           "#BCBD22",
           "#17BECF"
          ],
          "font": {
           "color": "rgb(36,36,36)"
          },
          "geo": {
           "bgcolor": "white",
           "lakecolor": "white",
           "landcolor": "white",
           "showlakes": true,
           "showland": true,
           "subunitcolor": "white"
          },
          "hoverlabel": {
           "align": "left"
          },
          "hovermode": "closest",
          "mapbox": {
           "style": "light"
          },
          "paper_bgcolor": "white",
          "plot_bgcolor": "white",
          "polar": {
           "angularaxis": {
            "gridcolor": "rgb(232,232,232)",
            "linecolor": "rgb(36,36,36)",
            "showgrid": false,
            "showline": true,
            "ticks": "outside"
           },
           "bgcolor": "white",
           "radialaxis": {
            "gridcolor": "rgb(232,232,232)",
            "linecolor": "rgb(36,36,36)",
            "showgrid": false,
            "showline": true,
            "ticks": "outside"
           }
          },
          "scene": {
           "xaxis": {
            "backgroundcolor": "white",
            "gridcolor": "rgb(232,232,232)",
            "gridwidth": 2,
            "linecolor": "rgb(36,36,36)",
            "showbackground": true,
            "showgrid": false,
            "showline": true,
            "ticks": "outside",
            "zeroline": false,
            "zerolinecolor": "rgb(36,36,36)"
           },
           "yaxis": {
            "backgroundcolor": "white",
            "gridcolor": "rgb(232,232,232)",
            "gridwidth": 2,
            "linecolor": "rgb(36,36,36)",
            "showbackground": true,
            "showgrid": false,
            "showline": true,
            "ticks": "outside",
            "zeroline": false,
            "zerolinecolor": "rgb(36,36,36)"
           },
           "zaxis": {
            "backgroundcolor": "white",
            "gridcolor": "rgb(232,232,232)",
            "gridwidth": 2,
            "linecolor": "rgb(36,36,36)",
            "showbackground": true,
            "showgrid": false,
            "showline": true,
            "ticks": "outside",
            "zeroline": false,
            "zerolinecolor": "rgb(36,36,36)"
           }
          },
          "shapedefaults": {
           "fillcolor": "black",
           "line": {
            "width": 0
           },
           "opacity": 0.3
          },
          "ternary": {
           "aaxis": {
            "gridcolor": "rgb(232,232,232)",
            "linecolor": "rgb(36,36,36)",
            "showgrid": false,
            "showline": true,
            "ticks": "outside"
           },
           "baxis": {
            "gridcolor": "rgb(232,232,232)",
            "linecolor": "rgb(36,36,36)",
            "showgrid": false,
            "showline": true,
            "ticks": "outside"
           },
           "bgcolor": "white",
           "caxis": {
            "gridcolor": "rgb(232,232,232)",
            "linecolor": "rgb(36,36,36)",
            "showgrid": false,
            "showline": true,
            "ticks": "outside"
           }
          },
          "title": {
           "x": 0.05
          },
          "xaxis": {
           "automargin": true,
           "gridcolor": "rgb(232,232,232)",
           "linecolor": "rgb(36,36,36)",
           "showgrid": false,
           "showline": true,
           "ticks": "outside",
           "title": {
            "standoff": 15
           },
           "zeroline": false,
           "zerolinecolor": "rgb(36,36,36)"
          },
          "yaxis": {
           "automargin": true,
           "gridcolor": "rgb(232,232,232)",
           "linecolor": "rgb(36,36,36)",
           "showgrid": false,
           "showline": true,
           "ticks": "outside",
           "title": {
            "standoff": 15
           },
           "zeroline": false,
           "zerolinecolor": "rgb(36,36,36)"
          }
         }
        },
        "title": {
         "font": {
          "size": 20
         },
         "text": "Optimal Material Combinations to Comprise Desired Composite",
         "x": 0.15
        }
       }
      }
     },
     "metadata": {},
     "output_type": "display_data"
    },
    {
     "data": {
      "application/vnd.plotly.v1+json": {
       "config": {
        "plotlyServerURL": "https://plot.ly"
       },
       "data": [
        {
         "cells": {
          "align": "left",
          "fill": {
           "color": [
            [
             "white",
             "lightgrey",
             "white",
             "lightgrey",
             "white"
            ]
           ]
          },
          "font": {
           "size": 12
          },
          "height": 30,
          "values": [
           [
            {
             "mp-3536": {
              "bulk_modulus": 182.861,
              "elec_cond": 77.0117,
              "shear_modulus": 107.669,
              "therm_cond": 0.000316911,
              "universal_anisotropy": 1.062
             }
            },
            {
             "mp-3536": {
              "bulk_modulus": 182.861,
              "elec_cond": 77.0117,
              "shear_modulus": 107.669,
              "therm_cond": 0.000316911,
              "universal_anisotropy": 1.062
             }
            },
            {
             "mp-3536": {
              "bulk_modulus": 182.861,
              "elec_cond": 77.0117,
              "shear_modulus": 107.669,
              "therm_cond": 0.000316911,
              "universal_anisotropy": 1.062
             }
            },
            {
             "mp-3536": {
              "bulk_modulus": 182.861,
              "elec_cond": 77.0117,
              "shear_modulus": 107.669,
              "therm_cond": 0.000316911,
              "universal_anisotropy": 1.062
             }
            },
            {
             "mp-3536": {
              "bulk_modulus": 182.861,
              "elec_cond": 77.0117,
              "shear_modulus": 107.669,
              "therm_cond": 0.000316911,
              "universal_anisotropy": 1.062
             }
            }
           ],
           [
            {
             "mp-752826": {
              "bulk_modulus": 168.258,
              "elec_cond": 41.0475,
              "shear_modulus": 90.134,
              "therm_cond": 0.000111994,
              "universal_anisotropy": 1.271
             }
            },
            {
             "mp-752826": {
              "bulk_modulus": 168.258,
              "elec_cond": 41.0475,
              "shear_modulus": 90.134,
              "therm_cond": 0.000111994,
              "universal_anisotropy": 1.271
             }
            },
            {
             "mp-752826": {
              "bulk_modulus": 168.258,
              "elec_cond": 41.0475,
              "shear_modulus": 90.134,
              "therm_cond": 0.000111994,
              "universal_anisotropy": 1.271
             }
            },
            {
             "mp-752826": {
              "bulk_modulus": 168.258,
              "elec_cond": 41.0475,
              "shear_modulus": 90.134,
              "therm_cond": 0.000111994,
              "universal_anisotropy": 1.271
             }
            },
            {
             "mp-752826": {
              "bulk_modulus": 168.258,
              "elec_cond": 41.0475,
              "shear_modulus": 90.134,
              "therm_cond": 0.000111994,
              "universal_anisotropy": 1.271
             }
            }
           ],
           [
            {
             "mp-3536": {
              "bulk_modulus": 182.861,
              "elec_cond": 77.0117,
              "shear_modulus": 107.669,
              "therm_cond": 0.000316911,
              "universal_anisotropy": 1.062
             }
            },
            {
             "mp-3536": {
              "bulk_modulus": 182.861,
              "elec_cond": 77.0117,
              "shear_modulus": 107.669,
              "therm_cond": 0.000316911,
              "universal_anisotropy": 1.062
             }
            },
            {
             "mp-3536": {
              "bulk_modulus": 182.861,
              "elec_cond": 77.0117,
              "shear_modulus": 107.669,
              "therm_cond": 0.000316911,
              "universal_anisotropy": 1.062
             }
            },
            {
             "mp-3536": {
              "bulk_modulus": 182.861,
              "elec_cond": 77.0117,
              "shear_modulus": 107.669,
              "therm_cond": 0.000316911,
              "universal_anisotropy": 1.062
             }
            },
            {
             "mp-3536": {
              "bulk_modulus": 182.861,
              "elec_cond": 77.0117,
              "shear_modulus": 107.669,
              "therm_cond": 0.000316911,
              "universal_anisotropy": 1.062
             }
            }
           ],
           [
            77.0117,
            77.0117,
            77.0117,
            77.0117,
            77.0117
           ],
           [
            41.0475,
            41.0475,
            41.0475,
            41.0475,
            41.0475
           ],
           [
            77.0117,
            77.0117,
            77.0117,
            77.0117,
            77.0117
           ],
           [
            0.000316911,
            0.000316911,
            0.000316911,
            0.000316911,
            0.000316911
           ],
           [
            0.000111994,
            0.000111994,
            0.000111994,
            0.000111994,
            0.000111994
           ],
           [
            0.000316911,
            0.000316911,
            0.000316911,
            0.000316911,
            0.000316911
           ],
           [
            182.861,
            182.861,
            182.861,
            182.861,
            182.861
           ],
           [
            168.258,
            168.258,
            168.258,
            168.258,
            168.258
           ],
           [
            182.861,
            182.861,
            182.861,
            182.861,
            182.861
           ],
           [
            107.669,
            107.669,
            107.669,
            107.669,
            107.669
           ],
           [
            90.134,
            90.134,
            90.134,
            90.134,
            90.134
           ],
           [
            107.669,
            107.669,
            107.669,
            107.669,
            107.669
           ],
           [
            1.062,
            1.062,
            1.062,
            1.062,
            1.062
           ],
           [
            1.271,
            1.271,
            1.271,
            1.271,
            1.271
           ],
           [
            1.062,
            1.062,
            1.062,
            1.062,
            1.062
           ],
           [
            0.1789655172413793,
            0.11137931034482758,
            0.1789655172413793,
            0.1789655172413793,
            0.1789655172413793
           ],
           [
            0.8210344827586207,
            0.8886206896551724,
            0.9562068965517241,
            0.9224137931034482,
            0.99
           ],
           [
            0,
            0,
            -0.1351724137931034,
            -0.1013793103448275,
            -0.16896551724137931
           ],
           [
            19.077673218471247,
            21.544579238279834,
            27.222757129918246,
            28.848137354762365,
            29.109593108422462
           ]
          ]
         },
         "columnwidth": 1000,
         "header": {
          "align": "left",
          "fill": {
           "color": "lavender"
          },
          "font": {
           "size": 12
          },
          "height": 30,
          "values": [
           "Material 1 MP-ID",
           "Material 2 MP-ID",
           "Material 3 MP-ID",
           "Phase 1 Electrical conductivity, [S/m]",
           "Phase 2 Electrical conductivity, [S/m]",
           "Phase 3 Electrical conductivity, [S/m]",
           "Phase 1 Thermal conductivity, [W/m/K]",
           "Phase 2 Thermal conductivity, [W/m/K]",
           "Phase 3 Thermal conductivity, [W/m/K]",
           "Phase 1 Bulk modulus, [GPa]",
           "Phase 2 Bulk modulus, [GPa]",
           "Phase 3 Bulk modulus, [GPa]",
           "Phase 1 Shear modulus, [GPa]",
           "Phase 2 Shear modulus, [GPa]",
           "Phase 3 Shear modulus, [GPa]",
           "Phase 1 Universal anisotropy, []",
           "Phase 2 Universal anisotropy, []",
           "Phase 3 Universal anisotropy, []",
           "Phase 1 Volume Fraction",
           "Phase 2 Volume Fraction",
           "Phase 3 Volume Fraction",
           "cost"
          ]
         },
         "type": "table"
        }
       ],
       "layout": {
        "autosize": true,
        "height": 400,
        "margin": {
         "b": 0,
         "l": 0,
         "r": 0,
         "t": 40
        },
        "template": {
         "data": {
          "bar": [
           {
            "error_x": {
             "color": "rgb(36,36,36)"
            },
            "error_y": {
             "color": "rgb(36,36,36)"
            },
            "marker": {
             "line": {
              "color": "white",
              "width": 0.5
             },
             "pattern": {
              "fillmode": "overlay",
              "size": 10,
              "solidity": 0.2
             }
            },
            "type": "bar"
           }
          ],
          "barpolar": [
           {
            "marker": {
             "line": {
              "color": "white",
              "width": 0.5
             },
             "pattern": {
              "fillmode": "overlay",
              "size": 10,
              "solidity": 0.2
             }
            },
            "type": "barpolar"
           }
          ],
          "carpet": [
           {
            "aaxis": {
             "endlinecolor": "rgb(36,36,36)",
             "gridcolor": "white",
             "linecolor": "white",
             "minorgridcolor": "white",
             "startlinecolor": "rgb(36,36,36)"
            },
            "baxis": {
             "endlinecolor": "rgb(36,36,36)",
             "gridcolor": "white",
             "linecolor": "white",
             "minorgridcolor": "white",
             "startlinecolor": "rgb(36,36,36)"
            },
            "type": "carpet"
           }
          ],
          "choropleth": [
           {
            "colorbar": {
             "outlinewidth": 1,
             "tickcolor": "rgb(36,36,36)",
             "ticks": "outside"
            },
            "type": "choropleth"
           }
          ],
          "contour": [
           {
            "colorbar": {
             "outlinewidth": 1,
             "tickcolor": "rgb(36,36,36)",
             "ticks": "outside"
            },
            "colorscale": [
             [
              0,
              "#440154"
             ],
             [
              0.1111111111111111,
              "#482878"
             ],
             [
              0.2222222222222222,
              "#3e4989"
             ],
             [
              0.3333333333333333,
              "#31688e"
             ],
             [
              0.4444444444444444,
              "#26828e"
             ],
             [
              0.5555555555555556,
              "#1f9e89"
             ],
             [
              0.6666666666666666,
              "#35b779"
             ],
             [
              0.7777777777777778,
              "#6ece58"
             ],
             [
              0.8888888888888888,
              "#b5de2b"
             ],
             [
              1,
              "#fde725"
             ]
            ],
            "type": "contour"
           }
          ],
          "contourcarpet": [
           {
            "colorbar": {
             "outlinewidth": 1,
             "tickcolor": "rgb(36,36,36)",
             "ticks": "outside"
            },
            "type": "contourcarpet"
           }
          ],
          "heatmap": [
           {
            "colorbar": {
             "outlinewidth": 1,
             "tickcolor": "rgb(36,36,36)",
             "ticks": "outside"
            },
            "colorscale": [
             [
              0,
              "#440154"
             ],
             [
              0.1111111111111111,
              "#482878"
             ],
             [
              0.2222222222222222,
              "#3e4989"
             ],
             [
              0.3333333333333333,
              "#31688e"
             ],
             [
              0.4444444444444444,
              "#26828e"
             ],
             [
              0.5555555555555556,
              "#1f9e89"
             ],
             [
              0.6666666666666666,
              "#35b779"
             ],
             [
              0.7777777777777778,
              "#6ece58"
             ],
             [
              0.8888888888888888,
              "#b5de2b"
             ],
             [
              1,
              "#fde725"
             ]
            ],
            "type": "heatmap"
           }
          ],
          "heatmapgl": [
           {
            "colorbar": {
             "outlinewidth": 1,
             "tickcolor": "rgb(36,36,36)",
             "ticks": "outside"
            },
            "colorscale": [
             [
              0,
              "#440154"
             ],
             [
              0.1111111111111111,
              "#482878"
             ],
             [
              0.2222222222222222,
              "#3e4989"
             ],
             [
              0.3333333333333333,
              "#31688e"
             ],
             [
              0.4444444444444444,
              "#26828e"
             ],
             [
              0.5555555555555556,
              "#1f9e89"
             ],
             [
              0.6666666666666666,
              "#35b779"
             ],
             [
              0.7777777777777778,
              "#6ece58"
             ],
             [
              0.8888888888888888,
              "#b5de2b"
             ],
             [
              1,
              "#fde725"
             ]
            ],
            "type": "heatmapgl"
           }
          ],
          "histogram": [
           {
            "marker": {
             "line": {
              "color": "white",
              "width": 0.6
             }
            },
            "type": "histogram"
           }
          ],
          "histogram2d": [
           {
            "colorbar": {
             "outlinewidth": 1,
             "tickcolor": "rgb(36,36,36)",
             "ticks": "outside"
            },
            "colorscale": [
             [
              0,
              "#440154"
             ],
             [
              0.1111111111111111,
              "#482878"
             ],
             [
              0.2222222222222222,
              "#3e4989"
             ],
             [
              0.3333333333333333,
              "#31688e"
             ],
             [
              0.4444444444444444,
              "#26828e"
             ],
             [
              0.5555555555555556,
              "#1f9e89"
             ],
             [
              0.6666666666666666,
              "#35b779"
             ],
             [
              0.7777777777777778,
              "#6ece58"
             ],
             [
              0.8888888888888888,
              "#b5de2b"
             ],
             [
              1,
              "#fde725"
             ]
            ],
            "type": "histogram2d"
           }
          ],
          "histogram2dcontour": [
           {
            "colorbar": {
             "outlinewidth": 1,
             "tickcolor": "rgb(36,36,36)",
             "ticks": "outside"
            },
            "colorscale": [
             [
              0,
              "#440154"
             ],
             [
              0.1111111111111111,
              "#482878"
             ],
             [
              0.2222222222222222,
              "#3e4989"
             ],
             [
              0.3333333333333333,
              "#31688e"
             ],
             [
              0.4444444444444444,
              "#26828e"
             ],
             [
              0.5555555555555556,
              "#1f9e89"
             ],
             [
              0.6666666666666666,
              "#35b779"
             ],
             [
              0.7777777777777778,
              "#6ece58"
             ],
             [
              0.8888888888888888,
              "#b5de2b"
             ],
             [
              1,
              "#fde725"
             ]
            ],
            "type": "histogram2dcontour"
           }
          ],
          "mesh3d": [
           {
            "colorbar": {
             "outlinewidth": 1,
             "tickcolor": "rgb(36,36,36)",
             "ticks": "outside"
            },
            "type": "mesh3d"
           }
          ],
          "parcoords": [
           {
            "line": {
             "colorbar": {
              "outlinewidth": 1,
              "tickcolor": "rgb(36,36,36)",
              "ticks": "outside"
             }
            },
            "type": "parcoords"
           }
          ],
          "pie": [
           {
            "automargin": true,
            "type": "pie"
           }
          ],
          "scatter": [
           {
            "fillpattern": {
             "fillmode": "overlay",
             "size": 10,
             "solidity": 0.2
            },
            "type": "scatter"
           }
          ],
          "scatter3d": [
           {
            "line": {
             "colorbar": {
              "outlinewidth": 1,
              "tickcolor": "rgb(36,36,36)",
              "ticks": "outside"
             }
            },
            "marker": {
             "colorbar": {
              "outlinewidth": 1,
              "tickcolor": "rgb(36,36,36)",
              "ticks": "outside"
             }
            },
            "type": "scatter3d"
           }
          ],
          "scattercarpet": [
           {
            "marker": {
             "colorbar": {
              "outlinewidth": 1,
              "tickcolor": "rgb(36,36,36)",
              "ticks": "outside"
             }
            },
            "type": "scattercarpet"
           }
          ],
          "scattergeo": [
           {
            "marker": {
             "colorbar": {
              "outlinewidth": 1,
              "tickcolor": "rgb(36,36,36)",
              "ticks": "outside"
             }
            },
            "type": "scattergeo"
           }
          ],
          "scattergl": [
           {
            "marker": {
             "colorbar": {
              "outlinewidth": 1,
              "tickcolor": "rgb(36,36,36)",
              "ticks": "outside"
             }
            },
            "type": "scattergl"
           }
          ],
          "scattermapbox": [
           {
            "marker": {
             "colorbar": {
              "outlinewidth": 1,
              "tickcolor": "rgb(36,36,36)",
              "ticks": "outside"
             }
            },
            "type": "scattermapbox"
           }
          ],
          "scatterpolar": [
           {
            "marker": {
             "colorbar": {
              "outlinewidth": 1,
              "tickcolor": "rgb(36,36,36)",
              "ticks": "outside"
             }
            },
            "type": "scatterpolar"
           }
          ],
          "scatterpolargl": [
           {
            "marker": {
             "colorbar": {
              "outlinewidth": 1,
              "tickcolor": "rgb(36,36,36)",
              "ticks": "outside"
             }
            },
            "type": "scatterpolargl"
           }
          ],
          "scatterternary": [
           {
            "marker": {
             "colorbar": {
              "outlinewidth": 1,
              "tickcolor": "rgb(36,36,36)",
              "ticks": "outside"
             }
            },
            "type": "scatterternary"
           }
          ],
          "surface": [
           {
            "colorbar": {
             "outlinewidth": 1,
             "tickcolor": "rgb(36,36,36)",
             "ticks": "outside"
            },
            "colorscale": [
             [
              0,
              "#440154"
             ],
             [
              0.1111111111111111,
              "#482878"
             ],
             [
              0.2222222222222222,
              "#3e4989"
             ],
             [
              0.3333333333333333,
              "#31688e"
             ],
             [
              0.4444444444444444,
              "#26828e"
             ],
             [
              0.5555555555555556,
              "#1f9e89"
             ],
             [
              0.6666666666666666,
              "#35b779"
             ],
             [
              0.7777777777777778,
              "#6ece58"
             ],
             [
              0.8888888888888888,
              "#b5de2b"
             ],
             [
              1,
              "#fde725"
             ]
            ],
            "type": "surface"
           }
          ],
          "table": [
           {
            "cells": {
             "fill": {
              "color": "rgb(237,237,237)"
             },
             "line": {
              "color": "white"
             }
            },
            "header": {
             "fill": {
              "color": "rgb(217,217,217)"
             },
             "line": {
              "color": "white"
             }
            },
            "type": "table"
           }
          ]
         },
         "layout": {
          "annotationdefaults": {
           "arrowhead": 0,
           "arrowwidth": 1
          },
          "autotypenumbers": "strict",
          "coloraxis": {
           "colorbar": {
            "outlinewidth": 1,
            "tickcolor": "rgb(36,36,36)",
            "ticks": "outside"
           }
          },
          "colorscale": {
           "diverging": [
            [
             0,
             "rgb(103,0,31)"
            ],
            [
             0.1,
             "rgb(178,24,43)"
            ],
            [
             0.2,
             "rgb(214,96,77)"
            ],
            [
             0.3,
             "rgb(244,165,130)"
            ],
            [
             0.4,
             "rgb(253,219,199)"
            ],
            [
             0.5,
             "rgb(247,247,247)"
            ],
            [
             0.6,
             "rgb(209,229,240)"
            ],
            [
             0.7,
             "rgb(146,197,222)"
            ],
            [
             0.8,
             "rgb(67,147,195)"
            ],
            [
             0.9,
             "rgb(33,102,172)"
            ],
            [
             1,
             "rgb(5,48,97)"
            ]
           ],
           "sequential": [
            [
             0,
             "#440154"
            ],
            [
             0.1111111111111111,
             "#482878"
            ],
            [
             0.2222222222222222,
             "#3e4989"
            ],
            [
             0.3333333333333333,
             "#31688e"
            ],
            [
             0.4444444444444444,
             "#26828e"
            ],
            [
             0.5555555555555556,
             "#1f9e89"
            ],
            [
             0.6666666666666666,
             "#35b779"
            ],
            [
             0.7777777777777778,
             "#6ece58"
            ],
            [
             0.8888888888888888,
             "#b5de2b"
            ],
            [
             1,
             "#fde725"
            ]
           ],
           "sequentialminus": [
            [
             0,
             "#440154"
            ],
            [
             0.1111111111111111,
             "#482878"
            ],
            [
             0.2222222222222222,
             "#3e4989"
            ],
            [
             0.3333333333333333,
             "#31688e"
            ],
            [
             0.4444444444444444,
             "#26828e"
            ],
            [
             0.5555555555555556,
             "#1f9e89"
            ],
            [
             0.6666666666666666,
             "#35b779"
            ],
            [
             0.7777777777777778,
             "#6ece58"
            ],
            [
             0.8888888888888888,
             "#b5de2b"
            ],
            [
             1,
             "#fde725"
            ]
           ]
          },
          "colorway": [
           "#1F77B4",
           "#FF7F0E",
           "#2CA02C",
           "#D62728",
           "#9467BD",
           "#8C564B",
           "#E377C2",
           "#7F7F7F",
           "#BCBD22",
           "#17BECF"
          ],
          "font": {
           "color": "rgb(36,36,36)"
          },
          "geo": {
           "bgcolor": "white",
           "lakecolor": "white",
           "landcolor": "white",
           "showlakes": true,
           "showland": true,
           "subunitcolor": "white"
          },
          "hoverlabel": {
           "align": "left"
          },
          "hovermode": "closest",
          "mapbox": {
           "style": "light"
          },
          "paper_bgcolor": "white",
          "plot_bgcolor": "white",
          "polar": {
           "angularaxis": {
            "gridcolor": "rgb(232,232,232)",
            "linecolor": "rgb(36,36,36)",
            "showgrid": false,
            "showline": true,
            "ticks": "outside"
           },
           "bgcolor": "white",
           "radialaxis": {
            "gridcolor": "rgb(232,232,232)",
            "linecolor": "rgb(36,36,36)",
            "showgrid": false,
            "showline": true,
            "ticks": "outside"
           }
          },
          "scene": {
           "xaxis": {
            "backgroundcolor": "white",
            "gridcolor": "rgb(232,232,232)",
            "gridwidth": 2,
            "linecolor": "rgb(36,36,36)",
            "showbackground": true,
            "showgrid": false,
            "showline": true,
            "ticks": "outside",
            "zeroline": false,
            "zerolinecolor": "rgb(36,36,36)"
           },
           "yaxis": {
            "backgroundcolor": "white",
            "gridcolor": "rgb(232,232,232)",
            "gridwidth": 2,
            "linecolor": "rgb(36,36,36)",
            "showbackground": true,
            "showgrid": false,
            "showline": true,
            "ticks": "outside",
            "zeroline": false,
            "zerolinecolor": "rgb(36,36,36)"
           },
           "zaxis": {
            "backgroundcolor": "white",
            "gridcolor": "rgb(232,232,232)",
            "gridwidth": 2,
            "linecolor": "rgb(36,36,36)",
            "showbackground": true,
            "showgrid": false,
            "showline": true,
            "ticks": "outside",
            "zeroline": false,
            "zerolinecolor": "rgb(36,36,36)"
           }
          },
          "shapedefaults": {
           "fillcolor": "black",
           "line": {
            "width": 0
           },
           "opacity": 0.3
          },
          "ternary": {
           "aaxis": {
            "gridcolor": "rgb(232,232,232)",
            "linecolor": "rgb(36,36,36)",
            "showgrid": false,
            "showline": true,
            "ticks": "outside"
           },
           "baxis": {
            "gridcolor": "rgb(232,232,232)",
            "linecolor": "rgb(36,36,36)",
            "showgrid": false,
            "showline": true,
            "ticks": "outside"
           },
           "bgcolor": "white",
           "caxis": {
            "gridcolor": "rgb(232,232,232)",
            "linecolor": "rgb(36,36,36)",
            "showgrid": false,
            "showline": true,
            "ticks": "outside"
           }
          },
          "title": {
           "x": 0.05
          },
          "xaxis": {
           "automargin": true,
           "gridcolor": "rgb(232,232,232)",
           "linecolor": "rgb(36,36,36)",
           "showgrid": false,
           "showline": true,
           "ticks": "outside",
           "title": {
            "standoff": 15
           },
           "zeroline": false,
           "zerolinecolor": "rgb(36,36,36)"
          },
          "yaxis": {
           "automargin": true,
           "gridcolor": "rgb(232,232,232)",
           "linecolor": "rgb(36,36,36)",
           "showgrid": false,
           "showline": true,
           "ticks": "outside",
           "title": {
            "standoff": 15
           },
           "zeroline": false,
           "zerolinecolor": "rgb(36,36,36)"
          }
         }
        },
        "title": {
         "font": {
          "size": 20
         },
         "text": "Optimal Material Combinations to Comprise Desired Composite",
         "x": 0.15
        }
       }
      }
     },
     "metadata": {},
     "output_type": "display_data"
    },
    {
     "data": {
      "application/vnd.plotly.v1+json": {
       "config": {
        "plotlyServerURL": "https://plot.ly"
       },
       "data": [
        {
         "cells": {
          "align": "left",
          "fill": {
           "color": [
            [
             "white",
             "lightgrey",
             "white",
             "lightgrey",
             "white"
            ]
           ]
          },
          "font": {
           "size": 12
          },
          "height": 30,
          "values": [
           [
            {
             "mp-3536": {
              "bulk_modulus": 182.861,
              "elec_cond": 77.0117,
              "shear_modulus": 107.669,
              "therm_cond": 0.000316911,
              "universal_anisotropy": 1.062
             }
            },
            {
             "mp-3536": {
              "bulk_modulus": 182.861,
              "elec_cond": 77.0117,
              "shear_modulus": 107.669,
              "therm_cond": 0.000316911,
              "universal_anisotropy": 1.062
             }
            },
            {
             "mp-3536": {
              "bulk_modulus": 182.861,
              "elec_cond": 77.0117,
              "shear_modulus": 107.669,
              "therm_cond": 0.000316911,
              "universal_anisotropy": 1.062
             }
            },
            {
             "mp-3536": {
              "bulk_modulus": 182.861,
              "elec_cond": 77.0117,
              "shear_modulus": 107.669,
              "therm_cond": 0.000316911,
              "universal_anisotropy": 1.062
             }
            },
            {
             "mp-3536": {
              "bulk_modulus": 182.861,
              "elec_cond": 77.0117,
              "shear_modulus": 107.669,
              "therm_cond": 0.000316911,
              "universal_anisotropy": 1.062
             }
            }
           ],
           [
            {
             "mp-752826": {
              "bulk_modulus": 168.258,
              "elec_cond": 41.0475,
              "shear_modulus": 90.134,
              "therm_cond": 0.000111994,
              "universal_anisotropy": 1.271
             }
            },
            {
             "mp-752826": {
              "bulk_modulus": 168.258,
              "elec_cond": 41.0475,
              "shear_modulus": 90.134,
              "therm_cond": 0.000111994,
              "universal_anisotropy": 1.271
             }
            },
            {
             "mp-752826": {
              "bulk_modulus": 168.258,
              "elec_cond": 41.0475,
              "shear_modulus": 90.134,
              "therm_cond": 0.000111994,
              "universal_anisotropy": 1.271
             }
            },
            {
             "mp-752826": {
              "bulk_modulus": 168.258,
              "elec_cond": 41.0475,
              "shear_modulus": 90.134,
              "therm_cond": 0.000111994,
              "universal_anisotropy": 1.271
             }
            },
            {
             "mp-752826": {
              "bulk_modulus": 168.258,
              "elec_cond": 41.0475,
              "shear_modulus": 90.134,
              "therm_cond": 0.000111994,
              "universal_anisotropy": 1.271
             }
            }
           ],
           [
            {
             "mp-5924": {
              "bulk_modulus": 193.509,
              "elec_cond": 64.5658,
              "shear_modulus": 113.741,
              "therm_cond": 0.000300167,
              "universal_anisotropy": 1.091
             }
            },
            {
             "mp-5924": {
              "bulk_modulus": 193.509,
              "elec_cond": 64.5658,
              "shear_modulus": 113.741,
              "therm_cond": 0.000300167,
              "universal_anisotropy": 1.091
             }
            },
            {
             "mp-5924": {
              "bulk_modulus": 193.509,
              "elec_cond": 64.5658,
              "shear_modulus": 113.741,
              "therm_cond": 0.000300167,
              "universal_anisotropy": 1.091
             }
            },
            {
             "mp-5924": {
              "bulk_modulus": 193.509,
              "elec_cond": 64.5658,
              "shear_modulus": 113.741,
              "therm_cond": 0.000300167,
              "universal_anisotropy": 1.091
             }
            },
            {
             "mp-5924": {
              "bulk_modulus": 193.509,
              "elec_cond": 64.5658,
              "shear_modulus": 113.741,
              "therm_cond": 0.000300167,
              "universal_anisotropy": 1.091
             }
            }
           ],
           [
            77.0117,
            77.0117,
            77.0117,
            77.0117,
            77.0117
           ],
           [
            41.0475,
            41.0475,
            41.0475,
            41.0475,
            41.0475
           ],
           [
            64.5658,
            64.5658,
            64.5658,
            64.5658,
            64.5658
           ],
           [
            0.000316911,
            0.000316911,
            0.000316911,
            0.000316911,
            0.000316911
           ],
           [
            0.000111994,
            0.000111994,
            0.000111994,
            0.000111994,
            0.000111994
           ],
           [
            0.000300167,
            0.000300167,
            0.000300167,
            0.000300167,
            0.000300167
           ],
           [
            182.861,
            182.861,
            182.861,
            182.861,
            182.861
           ],
           [
            168.258,
            168.258,
            168.258,
            168.258,
            168.258
           ],
           [
            193.509,
            193.509,
            193.509,
            193.509,
            193.509
           ],
           [
            107.669,
            107.669,
            107.669,
            107.669,
            107.669
           ],
           [
            90.134,
            90.134,
            90.134,
            90.134,
            90.134
           ],
           [
            113.741,
            113.741,
            113.741,
            113.741,
            113.741
           ],
           [
            1.062,
            1.062,
            1.062,
            1.062,
            1.062
           ],
           [
            1.271,
            1.271,
            1.271,
            1.271,
            1.271
           ],
           [
            1.091,
            1.091,
            1.091,
            1.091,
            1.091
           ],
           [
            0.1789655172413793,
            0.11137931034482758,
            0.1789655172413793,
            0.1789655172413793,
            0.1789655172413793
           ],
           [
            0.8210344827586207,
            0.8886206896551724,
            0.9562068965517241,
            0.9224137931034482,
            0.99
           ],
           [
            0,
            0,
            -0.1351724137931034,
            -0.1013793103448275,
            -0.16896551724137931
           ],
           [
            19.325550774730324,
            21.783604344598686,
            26.904050777054543,
            28.499754307184663,
            28.819225604160767
           ]
          ]
         },
         "columnwidth": 1000,
         "header": {
          "align": "left",
          "fill": {
           "color": "lavender"
          },
          "font": {
           "size": 12
          },
          "height": 30,
          "values": [
           "Material 1 MP-ID",
           "Material 2 MP-ID",
           "Material 3 MP-ID",
           "Phase 1 Electrical conductivity, [S/m]",
           "Phase 2 Electrical conductivity, [S/m]",
           "Phase 3 Electrical conductivity, [S/m]",
           "Phase 1 Thermal conductivity, [W/m/K]",
           "Phase 2 Thermal conductivity, [W/m/K]",
           "Phase 3 Thermal conductivity, [W/m/K]",
           "Phase 1 Bulk modulus, [GPa]",
           "Phase 2 Bulk modulus, [GPa]",
           "Phase 3 Bulk modulus, [GPa]",
           "Phase 1 Shear modulus, [GPa]",
           "Phase 2 Shear modulus, [GPa]",
           "Phase 3 Shear modulus, [GPa]",
           "Phase 1 Universal anisotropy, []",
           "Phase 2 Universal anisotropy, []",
           "Phase 3 Universal anisotropy, []",
           "Phase 1 Volume Fraction",
           "Phase 2 Volume Fraction",
           "Phase 3 Volume Fraction",
           "cost"
          ]
         },
         "type": "table"
        }
       ],
       "layout": {
        "autosize": true,
        "height": 400,
        "margin": {
         "b": 0,
         "l": 0,
         "r": 0,
         "t": 40
        },
        "template": {
         "data": {
          "bar": [
           {
            "error_x": {
             "color": "rgb(36,36,36)"
            },
            "error_y": {
             "color": "rgb(36,36,36)"
            },
            "marker": {
             "line": {
              "color": "white",
              "width": 0.5
             },
             "pattern": {
              "fillmode": "overlay",
              "size": 10,
              "solidity": 0.2
             }
            },
            "type": "bar"
           }
          ],
          "barpolar": [
           {
            "marker": {
             "line": {
              "color": "white",
              "width": 0.5
             },
             "pattern": {
              "fillmode": "overlay",
              "size": 10,
              "solidity": 0.2
             }
            },
            "type": "barpolar"
           }
          ],
          "carpet": [
           {
            "aaxis": {
             "endlinecolor": "rgb(36,36,36)",
             "gridcolor": "white",
             "linecolor": "white",
             "minorgridcolor": "white",
             "startlinecolor": "rgb(36,36,36)"
            },
            "baxis": {
             "endlinecolor": "rgb(36,36,36)",
             "gridcolor": "white",
             "linecolor": "white",
             "minorgridcolor": "white",
             "startlinecolor": "rgb(36,36,36)"
            },
            "type": "carpet"
           }
          ],
          "choropleth": [
           {
            "colorbar": {
             "outlinewidth": 1,
             "tickcolor": "rgb(36,36,36)",
             "ticks": "outside"
            },
            "type": "choropleth"
           }
          ],
          "contour": [
           {
            "colorbar": {
             "outlinewidth": 1,
             "tickcolor": "rgb(36,36,36)",
             "ticks": "outside"
            },
            "colorscale": [
             [
              0,
              "#440154"
             ],
             [
              0.1111111111111111,
              "#482878"
             ],
             [
              0.2222222222222222,
              "#3e4989"
             ],
             [
              0.3333333333333333,
              "#31688e"
             ],
             [
              0.4444444444444444,
              "#26828e"
             ],
             [
              0.5555555555555556,
              "#1f9e89"
             ],
             [
              0.6666666666666666,
              "#35b779"
             ],
             [
              0.7777777777777778,
              "#6ece58"
             ],
             [
              0.8888888888888888,
              "#b5de2b"
             ],
             [
              1,
              "#fde725"
             ]
            ],
            "type": "contour"
           }
          ],
          "contourcarpet": [
           {
            "colorbar": {
             "outlinewidth": 1,
             "tickcolor": "rgb(36,36,36)",
             "ticks": "outside"
            },
            "type": "contourcarpet"
           }
          ],
          "heatmap": [
           {
            "colorbar": {
             "outlinewidth": 1,
             "tickcolor": "rgb(36,36,36)",
             "ticks": "outside"
            },
            "colorscale": [
             [
              0,
              "#440154"
             ],
             [
              0.1111111111111111,
              "#482878"
             ],
             [
              0.2222222222222222,
              "#3e4989"
             ],
             [
              0.3333333333333333,
              "#31688e"
             ],
             [
              0.4444444444444444,
              "#26828e"
             ],
             [
              0.5555555555555556,
              "#1f9e89"
             ],
             [
              0.6666666666666666,
              "#35b779"
             ],
             [
              0.7777777777777778,
              "#6ece58"
             ],
             [
              0.8888888888888888,
              "#b5de2b"
             ],
             [
              1,
              "#fde725"
             ]
            ],
            "type": "heatmap"
           }
          ],
          "heatmapgl": [
           {
            "colorbar": {
             "outlinewidth": 1,
             "tickcolor": "rgb(36,36,36)",
             "ticks": "outside"
            },
            "colorscale": [
             [
              0,
              "#440154"
             ],
             [
              0.1111111111111111,
              "#482878"
             ],
             [
              0.2222222222222222,
              "#3e4989"
             ],
             [
              0.3333333333333333,
              "#31688e"
             ],
             [
              0.4444444444444444,
              "#26828e"
             ],
             [
              0.5555555555555556,
              "#1f9e89"
             ],
             [
              0.6666666666666666,
              "#35b779"
             ],
             [
              0.7777777777777778,
              "#6ece58"
             ],
             [
              0.8888888888888888,
              "#b5de2b"
             ],
             [
              1,
              "#fde725"
             ]
            ],
            "type": "heatmapgl"
           }
          ],
          "histogram": [
           {
            "marker": {
             "line": {
              "color": "white",
              "width": 0.6
             }
            },
            "type": "histogram"
           }
          ],
          "histogram2d": [
           {
            "colorbar": {
             "outlinewidth": 1,
             "tickcolor": "rgb(36,36,36)",
             "ticks": "outside"
            },
            "colorscale": [
             [
              0,
              "#440154"
             ],
             [
              0.1111111111111111,
              "#482878"
             ],
             [
              0.2222222222222222,
              "#3e4989"
             ],
             [
              0.3333333333333333,
              "#31688e"
             ],
             [
              0.4444444444444444,
              "#26828e"
             ],
             [
              0.5555555555555556,
              "#1f9e89"
             ],
             [
              0.6666666666666666,
              "#35b779"
             ],
             [
              0.7777777777777778,
              "#6ece58"
             ],
             [
              0.8888888888888888,
              "#b5de2b"
             ],
             [
              1,
              "#fde725"
             ]
            ],
            "type": "histogram2d"
           }
          ],
          "histogram2dcontour": [
           {
            "colorbar": {
             "outlinewidth": 1,
             "tickcolor": "rgb(36,36,36)",
             "ticks": "outside"
            },
            "colorscale": [
             [
              0,
              "#440154"
             ],
             [
              0.1111111111111111,
              "#482878"
             ],
             [
              0.2222222222222222,
              "#3e4989"
             ],
             [
              0.3333333333333333,
              "#31688e"
             ],
             [
              0.4444444444444444,
              "#26828e"
             ],
             [
              0.5555555555555556,
              "#1f9e89"
             ],
             [
              0.6666666666666666,
              "#35b779"
             ],
             [
              0.7777777777777778,
              "#6ece58"
             ],
             [
              0.8888888888888888,
              "#b5de2b"
             ],
             [
              1,
              "#fde725"
             ]
            ],
            "type": "histogram2dcontour"
           }
          ],
          "mesh3d": [
           {
            "colorbar": {
             "outlinewidth": 1,
             "tickcolor": "rgb(36,36,36)",
             "ticks": "outside"
            },
            "type": "mesh3d"
           }
          ],
          "parcoords": [
           {
            "line": {
             "colorbar": {
              "outlinewidth": 1,
              "tickcolor": "rgb(36,36,36)",
              "ticks": "outside"
             }
            },
            "type": "parcoords"
           }
          ],
          "pie": [
           {
            "automargin": true,
            "type": "pie"
           }
          ],
          "scatter": [
           {
            "fillpattern": {
             "fillmode": "overlay",
             "size": 10,
             "solidity": 0.2
            },
            "type": "scatter"
           }
          ],
          "scatter3d": [
           {
            "line": {
             "colorbar": {
              "outlinewidth": 1,
              "tickcolor": "rgb(36,36,36)",
              "ticks": "outside"
             }
            },
            "marker": {
             "colorbar": {
              "outlinewidth": 1,
              "tickcolor": "rgb(36,36,36)",
              "ticks": "outside"
             }
            },
            "type": "scatter3d"
           }
          ],
          "scattercarpet": [
           {
            "marker": {
             "colorbar": {
              "outlinewidth": 1,
              "tickcolor": "rgb(36,36,36)",
              "ticks": "outside"
             }
            },
            "type": "scattercarpet"
           }
          ],
          "scattergeo": [
           {
            "marker": {
             "colorbar": {
              "outlinewidth": 1,
              "tickcolor": "rgb(36,36,36)",
              "ticks": "outside"
             }
            },
            "type": "scattergeo"
           }
          ],
          "scattergl": [
           {
            "marker": {
             "colorbar": {
              "outlinewidth": 1,
              "tickcolor": "rgb(36,36,36)",
              "ticks": "outside"
             }
            },
            "type": "scattergl"
           }
          ],
          "scattermapbox": [
           {
            "marker": {
             "colorbar": {
              "outlinewidth": 1,
              "tickcolor": "rgb(36,36,36)",
              "ticks": "outside"
             }
            },
            "type": "scattermapbox"
           }
          ],
          "scatterpolar": [
           {
            "marker": {
             "colorbar": {
              "outlinewidth": 1,
              "tickcolor": "rgb(36,36,36)",
              "ticks": "outside"
             }
            },
            "type": "scatterpolar"
           }
          ],
          "scatterpolargl": [
           {
            "marker": {
             "colorbar": {
              "outlinewidth": 1,
              "tickcolor": "rgb(36,36,36)",
              "ticks": "outside"
             }
            },
            "type": "scatterpolargl"
           }
          ],
          "scatterternary": [
           {
            "marker": {
             "colorbar": {
              "outlinewidth": 1,
              "tickcolor": "rgb(36,36,36)",
              "ticks": "outside"
             }
            },
            "type": "scatterternary"
           }
          ],
          "surface": [
           {
            "colorbar": {
             "outlinewidth": 1,
             "tickcolor": "rgb(36,36,36)",
             "ticks": "outside"
            },
            "colorscale": [
             [
              0,
              "#440154"
             ],
             [
              0.1111111111111111,
              "#482878"
             ],
             [
              0.2222222222222222,
              "#3e4989"
             ],
             [
              0.3333333333333333,
              "#31688e"
             ],
             [
              0.4444444444444444,
              "#26828e"
             ],
             [
              0.5555555555555556,
              "#1f9e89"
             ],
             [
              0.6666666666666666,
              "#35b779"
             ],
             [
              0.7777777777777778,
              "#6ece58"
             ],
             [
              0.8888888888888888,
              "#b5de2b"
             ],
             [
              1,
              "#fde725"
             ]
            ],
            "type": "surface"
           }
          ],
          "table": [
           {
            "cells": {
             "fill": {
              "color": "rgb(237,237,237)"
             },
             "line": {
              "color": "white"
             }
            },
            "header": {
             "fill": {
              "color": "rgb(217,217,217)"
             },
             "line": {
              "color": "white"
             }
            },
            "type": "table"
           }
          ]
         },
         "layout": {
          "annotationdefaults": {
           "arrowhead": 0,
           "arrowwidth": 1
          },
          "autotypenumbers": "strict",
          "coloraxis": {
           "colorbar": {
            "outlinewidth": 1,
            "tickcolor": "rgb(36,36,36)",
            "ticks": "outside"
           }
          },
          "colorscale": {
           "diverging": [
            [
             0,
             "rgb(103,0,31)"
            ],
            [
             0.1,
             "rgb(178,24,43)"
            ],
            [
             0.2,
             "rgb(214,96,77)"
            ],
            [
             0.3,
             "rgb(244,165,130)"
            ],
            [
             0.4,
             "rgb(253,219,199)"
            ],
            [
             0.5,
             "rgb(247,247,247)"
            ],
            [
             0.6,
             "rgb(209,229,240)"
            ],
            [
             0.7,
             "rgb(146,197,222)"
            ],
            [
             0.8,
             "rgb(67,147,195)"
            ],
            [
             0.9,
             "rgb(33,102,172)"
            ],
            [
             1,
             "rgb(5,48,97)"
            ]
           ],
           "sequential": [
            [
             0,
             "#440154"
            ],
            [
             0.1111111111111111,
             "#482878"
            ],
            [
             0.2222222222222222,
             "#3e4989"
            ],
            [
             0.3333333333333333,
             "#31688e"
            ],
            [
             0.4444444444444444,
             "#26828e"
            ],
            [
             0.5555555555555556,
             "#1f9e89"
            ],
            [
             0.6666666666666666,
             "#35b779"
            ],
            [
             0.7777777777777778,
             "#6ece58"
            ],
            [
             0.8888888888888888,
             "#b5de2b"
            ],
            [
             1,
             "#fde725"
            ]
           ],
           "sequentialminus": [
            [
             0,
             "#440154"
            ],
            [
             0.1111111111111111,
             "#482878"
            ],
            [
             0.2222222222222222,
             "#3e4989"
            ],
            [
             0.3333333333333333,
             "#31688e"
            ],
            [
             0.4444444444444444,
             "#26828e"
            ],
            [
             0.5555555555555556,
             "#1f9e89"
            ],
            [
             0.6666666666666666,
             "#35b779"
            ],
            [
             0.7777777777777778,
             "#6ece58"
            ],
            [
             0.8888888888888888,
             "#b5de2b"
            ],
            [
             1,
             "#fde725"
            ]
           ]
          },
          "colorway": [
           "#1F77B4",
           "#FF7F0E",
           "#2CA02C",
           "#D62728",
           "#9467BD",
           "#8C564B",
           "#E377C2",
           "#7F7F7F",
           "#BCBD22",
           "#17BECF"
          ],
          "font": {
           "color": "rgb(36,36,36)"
          },
          "geo": {
           "bgcolor": "white",
           "lakecolor": "white",
           "landcolor": "white",
           "showlakes": true,
           "showland": true,
           "subunitcolor": "white"
          },
          "hoverlabel": {
           "align": "left"
          },
          "hovermode": "closest",
          "mapbox": {
           "style": "light"
          },
          "paper_bgcolor": "white",
          "plot_bgcolor": "white",
          "polar": {
           "angularaxis": {
            "gridcolor": "rgb(232,232,232)",
            "linecolor": "rgb(36,36,36)",
            "showgrid": false,
            "showline": true,
            "ticks": "outside"
           },
           "bgcolor": "white",
           "radialaxis": {
            "gridcolor": "rgb(232,232,232)",
            "linecolor": "rgb(36,36,36)",
            "showgrid": false,
            "showline": true,
            "ticks": "outside"
           }
          },
          "scene": {
           "xaxis": {
            "backgroundcolor": "white",
            "gridcolor": "rgb(232,232,232)",
            "gridwidth": 2,
            "linecolor": "rgb(36,36,36)",
            "showbackground": true,
            "showgrid": false,
            "showline": true,
            "ticks": "outside",
            "zeroline": false,
            "zerolinecolor": "rgb(36,36,36)"
           },
           "yaxis": {
            "backgroundcolor": "white",
            "gridcolor": "rgb(232,232,232)",
            "gridwidth": 2,
            "linecolor": "rgb(36,36,36)",
            "showbackground": true,
            "showgrid": false,
            "showline": true,
            "ticks": "outside",
            "zeroline": false,
            "zerolinecolor": "rgb(36,36,36)"
           },
           "zaxis": {
            "backgroundcolor": "white",
            "gridcolor": "rgb(232,232,232)",
            "gridwidth": 2,
            "linecolor": "rgb(36,36,36)",
            "showbackground": true,
            "showgrid": false,
            "showline": true,
            "ticks": "outside",
            "zeroline": false,
            "zerolinecolor": "rgb(36,36,36)"
           }
          },
          "shapedefaults": {
           "fillcolor": "black",
           "line": {
            "width": 0
           },
           "opacity": 0.3
          },
          "ternary": {
           "aaxis": {
            "gridcolor": "rgb(232,232,232)",
            "linecolor": "rgb(36,36,36)",
            "showgrid": false,
            "showline": true,
            "ticks": "outside"
           },
           "baxis": {
            "gridcolor": "rgb(232,232,232)",
            "linecolor": "rgb(36,36,36)",
            "showgrid": false,
            "showline": true,
            "ticks": "outside"
           },
           "bgcolor": "white",
           "caxis": {
            "gridcolor": "rgb(232,232,232)",
            "linecolor": "rgb(36,36,36)",
            "showgrid": false,
            "showline": true,
            "ticks": "outside"
           }
          },
          "title": {
           "x": 0.05
          },
          "xaxis": {
           "automargin": true,
           "gridcolor": "rgb(232,232,232)",
           "linecolor": "rgb(36,36,36)",
           "showgrid": false,
           "showline": true,
           "ticks": "outside",
           "title": {
            "standoff": 15
           },
           "zeroline": false,
           "zerolinecolor": "rgb(36,36,36)"
          },
          "yaxis": {
           "automargin": true,
           "gridcolor": "rgb(232,232,232)",
           "linecolor": "rgb(36,36,36)",
           "showgrid": false,
           "showline": true,
           "ticks": "outside",
           "title": {
            "standoff": 15
           },
           "zeroline": false,
           "zerolinecolor": "rgb(36,36,36)"
          }
         }
        },
        "title": {
         "font": {
          "size": 20
         },
         "text": "Optimal Material Combinations to Comprise Desired Composite",
         "x": 0.15
        }
       }
      }
     },
     "metadata": {},
     "output_type": "display_data"
    },
    {
     "data": {
      "application/vnd.plotly.v1+json": {
       "config": {
        "plotlyServerURL": "https://plot.ly"
       },
       "data": [
        {
         "cells": {
          "align": "left",
          "fill": {
           "color": [
            [
             "white",
             "lightgrey",
             "white",
             "lightgrey",
             "white"
            ]
           ]
          },
          "font": {
           "size": 12
          },
          "height": 30,
          "values": [
           [
            {
             "mp-3536": {
              "bulk_modulus": 182.861,
              "elec_cond": 77.0117,
              "shear_modulus": 107.669,
              "therm_cond": 0.000316911,
              "universal_anisotropy": 1.062
             }
            },
            {
             "mp-3536": {
              "bulk_modulus": 182.861,
              "elec_cond": 77.0117,
              "shear_modulus": 107.669,
              "therm_cond": 0.000316911,
              "universal_anisotropy": 1.062
             }
            },
            {
             "mp-3536": {
              "bulk_modulus": 182.861,
              "elec_cond": 77.0117,
              "shear_modulus": 107.669,
              "therm_cond": 0.000316911,
              "universal_anisotropy": 1.062
             }
            },
            {
             "mp-3536": {
              "bulk_modulus": 182.861,
              "elec_cond": 77.0117,
              "shear_modulus": 107.669,
              "therm_cond": 0.000316911,
              "universal_anisotropy": 1.062
             }
            },
            {
             "mp-3536": {
              "bulk_modulus": 182.861,
              "elec_cond": 77.0117,
              "shear_modulus": 107.669,
              "therm_cond": 0.000316911,
              "universal_anisotropy": 1.062
             }
            }
           ],
           [
            {
             "mp-3536": {
              "bulk_modulus": 182.861,
              "elec_cond": 77.0117,
              "shear_modulus": 107.669,
              "therm_cond": 0.000316911,
              "universal_anisotropy": 1.062
             }
            },
            {
             "mp-3536": {
              "bulk_modulus": 182.861,
              "elec_cond": 77.0117,
              "shear_modulus": 107.669,
              "therm_cond": 0.000316911,
              "universal_anisotropy": 1.062
             }
            },
            {
             "mp-3536": {
              "bulk_modulus": 182.861,
              "elec_cond": 77.0117,
              "shear_modulus": 107.669,
              "therm_cond": 0.000316911,
              "universal_anisotropy": 1.062
             }
            },
            {
             "mp-3536": {
              "bulk_modulus": 182.861,
              "elec_cond": 77.0117,
              "shear_modulus": 107.669,
              "therm_cond": 0.000316911,
              "universal_anisotropy": 1.062
             }
            },
            {
             "mp-3536": {
              "bulk_modulus": 182.861,
              "elec_cond": 77.0117,
              "shear_modulus": 107.669,
              "therm_cond": 0.000316911,
              "universal_anisotropy": 1.062
             }
            }
           ],
           [
            {
             "mp-752826": {
              "bulk_modulus": 168.258,
              "elec_cond": 41.0475,
              "shear_modulus": 90.134,
              "therm_cond": 0.000111994,
              "universal_anisotropy": 1.271
             }
            },
            {
             "mp-752826": {
              "bulk_modulus": 168.258,
              "elec_cond": 41.0475,
              "shear_modulus": 90.134,
              "therm_cond": 0.000111994,
              "universal_anisotropy": 1.271
             }
            },
            {
             "mp-752826": {
              "bulk_modulus": 168.258,
              "elec_cond": 41.0475,
              "shear_modulus": 90.134,
              "therm_cond": 0.000111994,
              "universal_anisotropy": 1.271
             }
            },
            {
             "mp-752826": {
              "bulk_modulus": 168.258,
              "elec_cond": 41.0475,
              "shear_modulus": 90.134,
              "therm_cond": 0.000111994,
              "universal_anisotropy": 1.271
             }
            },
            {
             "mp-752826": {
              "bulk_modulus": 168.258,
              "elec_cond": 41.0475,
              "shear_modulus": 90.134,
              "therm_cond": 0.000111994,
              "universal_anisotropy": 1.271
             }
            }
           ],
           [
            77.0117,
            77.0117,
            77.0117,
            77.0117,
            77.0117
           ],
           [
            77.0117,
            77.0117,
            77.0117,
            77.0117,
            77.0117
           ],
           [
            41.0475,
            41.0475,
            41.0475,
            41.0475,
            41.0475
           ],
           [
            0.000316911,
            0.000316911,
            0.000316911,
            0.000316911,
            0.000316911
           ],
           [
            0.000316911,
            0.000316911,
            0.000316911,
            0.000316911,
            0.000316911
           ],
           [
            0.000111994,
            0.000111994,
            0.000111994,
            0.000111994,
            0.000111994
           ],
           [
            182.861,
            182.861,
            182.861,
            182.861,
            182.861
           ],
           [
            182.861,
            182.861,
            182.861,
            182.861,
            182.861
           ],
           [
            168.258,
            168.258,
            168.258,
            168.258,
            168.258
           ],
           [
            107.669,
            107.669,
            107.669,
            107.669,
            107.669
           ],
           [
            107.669,
            107.669,
            107.669,
            107.669,
            107.669
           ],
           [
            90.134,
            90.134,
            90.134,
            90.134,
            90.134
           ],
           [
            1.062,
            1.062,
            1.062,
            1.062,
            1.062
           ],
           [
            1.062,
            1.062,
            1.062,
            1.062,
            1.062
           ],
           [
            1.271,
            1.271,
            1.271,
            1.271,
            1.271
           ],
           [
            0.1789655172413793,
            0.11137931034482758,
            0.1789655172413793,
            0.1789655172413793,
            0.1789655172413793
           ],
           [
            0.8210344827586207,
            0.8886206896551724,
            0.9562068965517241,
            0.99,
            0.9224137931034482
           ],
           [
            0,
            0,
            -0.1351724137931034,
            -0.16896551724137931,
            -0.1013793103448275
           ],
           [
            17.96981932809343,
            19.244059013565405,
            24.833296416903316,
            26.05244954195457,
            26.83737733864578
           ]
          ]
         },
         "columnwidth": 1000,
         "header": {
          "align": "left",
          "fill": {
           "color": "lavender"
          },
          "font": {
           "size": 12
          },
          "height": 30,
          "values": [
           "Material 1 MP-ID",
           "Material 2 MP-ID",
           "Material 3 MP-ID",
           "Phase 1 Electrical conductivity, [S/m]",
           "Phase 2 Electrical conductivity, [S/m]",
           "Phase 3 Electrical conductivity, [S/m]",
           "Phase 1 Thermal conductivity, [W/m/K]",
           "Phase 2 Thermal conductivity, [W/m/K]",
           "Phase 3 Thermal conductivity, [W/m/K]",
           "Phase 1 Bulk modulus, [GPa]",
           "Phase 2 Bulk modulus, [GPa]",
           "Phase 3 Bulk modulus, [GPa]",
           "Phase 1 Shear modulus, [GPa]",
           "Phase 2 Shear modulus, [GPa]",
           "Phase 3 Shear modulus, [GPa]",
           "Phase 1 Universal anisotropy, []",
           "Phase 2 Universal anisotropy, []",
           "Phase 3 Universal anisotropy, []",
           "Phase 1 Volume Fraction",
           "Phase 2 Volume Fraction",
           "Phase 3 Volume Fraction",
           "cost"
          ]
         },
         "type": "table"
        }
       ],
       "layout": {
        "autosize": true,
        "height": 400,
        "margin": {
         "b": 0,
         "l": 0,
         "r": 0,
         "t": 40
        },
        "template": {
         "data": {
          "bar": [
           {
            "error_x": {
             "color": "rgb(36,36,36)"
            },
            "error_y": {
             "color": "rgb(36,36,36)"
            },
            "marker": {
             "line": {
              "color": "white",
              "width": 0.5
             },
             "pattern": {
              "fillmode": "overlay",
              "size": 10,
              "solidity": 0.2
             }
            },
            "type": "bar"
           }
          ],
          "barpolar": [
           {
            "marker": {
             "line": {
              "color": "white",
              "width": 0.5
             },
             "pattern": {
              "fillmode": "overlay",
              "size": 10,
              "solidity": 0.2
             }
            },
            "type": "barpolar"
           }
          ],
          "carpet": [
           {
            "aaxis": {
             "endlinecolor": "rgb(36,36,36)",
             "gridcolor": "white",
             "linecolor": "white",
             "minorgridcolor": "white",
             "startlinecolor": "rgb(36,36,36)"
            },
            "baxis": {
             "endlinecolor": "rgb(36,36,36)",
             "gridcolor": "white",
             "linecolor": "white",
             "minorgridcolor": "white",
             "startlinecolor": "rgb(36,36,36)"
            },
            "type": "carpet"
           }
          ],
          "choropleth": [
           {
            "colorbar": {
             "outlinewidth": 1,
             "tickcolor": "rgb(36,36,36)",
             "ticks": "outside"
            },
            "type": "choropleth"
           }
          ],
          "contour": [
           {
            "colorbar": {
             "outlinewidth": 1,
             "tickcolor": "rgb(36,36,36)",
             "ticks": "outside"
            },
            "colorscale": [
             [
              0,
              "#440154"
             ],
             [
              0.1111111111111111,
              "#482878"
             ],
             [
              0.2222222222222222,
              "#3e4989"
             ],
             [
              0.3333333333333333,
              "#31688e"
             ],
             [
              0.4444444444444444,
              "#26828e"
             ],
             [
              0.5555555555555556,
              "#1f9e89"
             ],
             [
              0.6666666666666666,
              "#35b779"
             ],
             [
              0.7777777777777778,
              "#6ece58"
             ],
             [
              0.8888888888888888,
              "#b5de2b"
             ],
             [
              1,
              "#fde725"
             ]
            ],
            "type": "contour"
           }
          ],
          "contourcarpet": [
           {
            "colorbar": {
             "outlinewidth": 1,
             "tickcolor": "rgb(36,36,36)",
             "ticks": "outside"
            },
            "type": "contourcarpet"
           }
          ],
          "heatmap": [
           {
            "colorbar": {
             "outlinewidth": 1,
             "tickcolor": "rgb(36,36,36)",
             "ticks": "outside"
            },
            "colorscale": [
             [
              0,
              "#440154"
             ],
             [
              0.1111111111111111,
              "#482878"
             ],
             [
              0.2222222222222222,
              "#3e4989"
             ],
             [
              0.3333333333333333,
              "#31688e"
             ],
             [
              0.4444444444444444,
              "#26828e"
             ],
             [
              0.5555555555555556,
              "#1f9e89"
             ],
             [
              0.6666666666666666,
              "#35b779"
             ],
             [
              0.7777777777777778,
              "#6ece58"
             ],
             [
              0.8888888888888888,
              "#b5de2b"
             ],
             [
              1,
              "#fde725"
             ]
            ],
            "type": "heatmap"
           }
          ],
          "heatmapgl": [
           {
            "colorbar": {
             "outlinewidth": 1,
             "tickcolor": "rgb(36,36,36)",
             "ticks": "outside"
            },
            "colorscale": [
             [
              0,
              "#440154"
             ],
             [
              0.1111111111111111,
              "#482878"
             ],
             [
              0.2222222222222222,
              "#3e4989"
             ],
             [
              0.3333333333333333,
              "#31688e"
             ],
             [
              0.4444444444444444,
              "#26828e"
             ],
             [
              0.5555555555555556,
              "#1f9e89"
             ],
             [
              0.6666666666666666,
              "#35b779"
             ],
             [
              0.7777777777777778,
              "#6ece58"
             ],
             [
              0.8888888888888888,
              "#b5de2b"
             ],
             [
              1,
              "#fde725"
             ]
            ],
            "type": "heatmapgl"
           }
          ],
          "histogram": [
           {
            "marker": {
             "line": {
              "color": "white",
              "width": 0.6
             }
            },
            "type": "histogram"
           }
          ],
          "histogram2d": [
           {
            "colorbar": {
             "outlinewidth": 1,
             "tickcolor": "rgb(36,36,36)",
             "ticks": "outside"
            },
            "colorscale": [
             [
              0,
              "#440154"
             ],
             [
              0.1111111111111111,
              "#482878"
             ],
             [
              0.2222222222222222,
              "#3e4989"
             ],
             [
              0.3333333333333333,
              "#31688e"
             ],
             [
              0.4444444444444444,
              "#26828e"
             ],
             [
              0.5555555555555556,
              "#1f9e89"
             ],
             [
              0.6666666666666666,
              "#35b779"
             ],
             [
              0.7777777777777778,
              "#6ece58"
             ],
             [
              0.8888888888888888,
              "#b5de2b"
             ],
             [
              1,
              "#fde725"
             ]
            ],
            "type": "histogram2d"
           }
          ],
          "histogram2dcontour": [
           {
            "colorbar": {
             "outlinewidth": 1,
             "tickcolor": "rgb(36,36,36)",
             "ticks": "outside"
            },
            "colorscale": [
             [
              0,
              "#440154"
             ],
             [
              0.1111111111111111,
              "#482878"
             ],
             [
              0.2222222222222222,
              "#3e4989"
             ],
             [
              0.3333333333333333,
              "#31688e"
             ],
             [
              0.4444444444444444,
              "#26828e"
             ],
             [
              0.5555555555555556,
              "#1f9e89"
             ],
             [
              0.6666666666666666,
              "#35b779"
             ],
             [
              0.7777777777777778,
              "#6ece58"
             ],
             [
              0.8888888888888888,
              "#b5de2b"
             ],
             [
              1,
              "#fde725"
             ]
            ],
            "type": "histogram2dcontour"
           }
          ],
          "mesh3d": [
           {
            "colorbar": {
             "outlinewidth": 1,
             "tickcolor": "rgb(36,36,36)",
             "ticks": "outside"
            },
            "type": "mesh3d"
           }
          ],
          "parcoords": [
           {
            "line": {
             "colorbar": {
              "outlinewidth": 1,
              "tickcolor": "rgb(36,36,36)",
              "ticks": "outside"
             }
            },
            "type": "parcoords"
           }
          ],
          "pie": [
           {
            "automargin": true,
            "type": "pie"
           }
          ],
          "scatter": [
           {
            "fillpattern": {
             "fillmode": "overlay",
             "size": 10,
             "solidity": 0.2
            },
            "type": "scatter"
           }
          ],
          "scatter3d": [
           {
            "line": {
             "colorbar": {
              "outlinewidth": 1,
              "tickcolor": "rgb(36,36,36)",
              "ticks": "outside"
             }
            },
            "marker": {
             "colorbar": {
              "outlinewidth": 1,
              "tickcolor": "rgb(36,36,36)",
              "ticks": "outside"
             }
            },
            "type": "scatter3d"
           }
          ],
          "scattercarpet": [
           {
            "marker": {
             "colorbar": {
              "outlinewidth": 1,
              "tickcolor": "rgb(36,36,36)",
              "ticks": "outside"
             }
            },
            "type": "scattercarpet"
           }
          ],
          "scattergeo": [
           {
            "marker": {
             "colorbar": {
              "outlinewidth": 1,
              "tickcolor": "rgb(36,36,36)",
              "ticks": "outside"
             }
            },
            "type": "scattergeo"
           }
          ],
          "scattergl": [
           {
            "marker": {
             "colorbar": {
              "outlinewidth": 1,
              "tickcolor": "rgb(36,36,36)",
              "ticks": "outside"
             }
            },
            "type": "scattergl"
           }
          ],
          "scattermapbox": [
           {
            "marker": {
             "colorbar": {
              "outlinewidth": 1,
              "tickcolor": "rgb(36,36,36)",
              "ticks": "outside"
             }
            },
            "type": "scattermapbox"
           }
          ],
          "scatterpolar": [
           {
            "marker": {
             "colorbar": {
              "outlinewidth": 1,
              "tickcolor": "rgb(36,36,36)",
              "ticks": "outside"
             }
            },
            "type": "scatterpolar"
           }
          ],
          "scatterpolargl": [
           {
            "marker": {
             "colorbar": {
              "outlinewidth": 1,
              "tickcolor": "rgb(36,36,36)",
              "ticks": "outside"
             }
            },
            "type": "scatterpolargl"
           }
          ],
          "scatterternary": [
           {
            "marker": {
             "colorbar": {
              "outlinewidth": 1,
              "tickcolor": "rgb(36,36,36)",
              "ticks": "outside"
             }
            },
            "type": "scatterternary"
           }
          ],
          "surface": [
           {
            "colorbar": {
             "outlinewidth": 1,
             "tickcolor": "rgb(36,36,36)",
             "ticks": "outside"
            },
            "colorscale": [
             [
              0,
              "#440154"
             ],
             [
              0.1111111111111111,
              "#482878"
             ],
             [
              0.2222222222222222,
              "#3e4989"
             ],
             [
              0.3333333333333333,
              "#31688e"
             ],
             [
              0.4444444444444444,
              "#26828e"
             ],
             [
              0.5555555555555556,
              "#1f9e89"
             ],
             [
              0.6666666666666666,
              "#35b779"
             ],
             [
              0.7777777777777778,
              "#6ece58"
             ],
             [
              0.8888888888888888,
              "#b5de2b"
             ],
             [
              1,
              "#fde725"
             ]
            ],
            "type": "surface"
           }
          ],
          "table": [
           {
            "cells": {
             "fill": {
              "color": "rgb(237,237,237)"
             },
             "line": {
              "color": "white"
             }
            },
            "header": {
             "fill": {
              "color": "rgb(217,217,217)"
             },
             "line": {
              "color": "white"
             }
            },
            "type": "table"
           }
          ]
         },
         "layout": {
          "annotationdefaults": {
           "arrowhead": 0,
           "arrowwidth": 1
          },
          "autotypenumbers": "strict",
          "coloraxis": {
           "colorbar": {
            "outlinewidth": 1,
            "tickcolor": "rgb(36,36,36)",
            "ticks": "outside"
           }
          },
          "colorscale": {
           "diverging": [
            [
             0,
             "rgb(103,0,31)"
            ],
            [
             0.1,
             "rgb(178,24,43)"
            ],
            [
             0.2,
             "rgb(214,96,77)"
            ],
            [
             0.3,
             "rgb(244,165,130)"
            ],
            [
             0.4,
             "rgb(253,219,199)"
            ],
            [
             0.5,
             "rgb(247,247,247)"
            ],
            [
             0.6,
             "rgb(209,229,240)"
            ],
            [
             0.7,
             "rgb(146,197,222)"
            ],
            [
             0.8,
             "rgb(67,147,195)"
            ],
            [
             0.9,
             "rgb(33,102,172)"
            ],
            [
             1,
             "rgb(5,48,97)"
            ]
           ],
           "sequential": [
            [
             0,
             "#440154"
            ],
            [
             0.1111111111111111,
             "#482878"
            ],
            [
             0.2222222222222222,
             "#3e4989"
            ],
            [
             0.3333333333333333,
             "#31688e"
            ],
            [
             0.4444444444444444,
             "#26828e"
            ],
            [
             0.5555555555555556,
             "#1f9e89"
            ],
            [
             0.6666666666666666,
             "#35b779"
            ],
            [
             0.7777777777777778,
             "#6ece58"
            ],
            [
             0.8888888888888888,
             "#b5de2b"
            ],
            [
             1,
             "#fde725"
            ]
           ],
           "sequentialminus": [
            [
             0,
             "#440154"
            ],
            [
             0.1111111111111111,
             "#482878"
            ],
            [
             0.2222222222222222,
             "#3e4989"
            ],
            [
             0.3333333333333333,
             "#31688e"
            ],
            [
             0.4444444444444444,
             "#26828e"
            ],
            [
             0.5555555555555556,
             "#1f9e89"
            ],
            [
             0.6666666666666666,
             "#35b779"
            ],
            [
             0.7777777777777778,
             "#6ece58"
            ],
            [
             0.8888888888888888,
             "#b5de2b"
            ],
            [
             1,
             "#fde725"
            ]
           ]
          },
          "colorway": [
           "#1F77B4",
           "#FF7F0E",
           "#2CA02C",
           "#D62728",
           "#9467BD",
           "#8C564B",
           "#E377C2",
           "#7F7F7F",
           "#BCBD22",
           "#17BECF"
          ],
          "font": {
           "color": "rgb(36,36,36)"
          },
          "geo": {
           "bgcolor": "white",
           "lakecolor": "white",
           "landcolor": "white",
           "showlakes": true,
           "showland": true,
           "subunitcolor": "white"
          },
          "hoverlabel": {
           "align": "left"
          },
          "hovermode": "closest",
          "mapbox": {
           "style": "light"
          },
          "paper_bgcolor": "white",
          "plot_bgcolor": "white",
          "polar": {
           "angularaxis": {
            "gridcolor": "rgb(232,232,232)",
            "linecolor": "rgb(36,36,36)",
            "showgrid": false,
            "showline": true,
            "ticks": "outside"
           },
           "bgcolor": "white",
           "radialaxis": {
            "gridcolor": "rgb(232,232,232)",
            "linecolor": "rgb(36,36,36)",
            "showgrid": false,
            "showline": true,
            "ticks": "outside"
           }
          },
          "scene": {
           "xaxis": {
            "backgroundcolor": "white",
            "gridcolor": "rgb(232,232,232)",
            "gridwidth": 2,
            "linecolor": "rgb(36,36,36)",
            "showbackground": true,
            "showgrid": false,
            "showline": true,
            "ticks": "outside",
            "zeroline": false,
            "zerolinecolor": "rgb(36,36,36)"
           },
           "yaxis": {
            "backgroundcolor": "white",
            "gridcolor": "rgb(232,232,232)",
            "gridwidth": 2,
            "linecolor": "rgb(36,36,36)",
            "showbackground": true,
            "showgrid": false,
            "showline": true,
            "ticks": "outside",
            "zeroline": false,
            "zerolinecolor": "rgb(36,36,36)"
           },
           "zaxis": {
            "backgroundcolor": "white",
            "gridcolor": "rgb(232,232,232)",
            "gridwidth": 2,
            "linecolor": "rgb(36,36,36)",
            "showbackground": true,
            "showgrid": false,
            "showline": true,
            "ticks": "outside",
            "zeroline": false,
            "zerolinecolor": "rgb(36,36,36)"
           }
          },
          "shapedefaults": {
           "fillcolor": "black",
           "line": {
            "width": 0
           },
           "opacity": 0.3
          },
          "ternary": {
           "aaxis": {
            "gridcolor": "rgb(232,232,232)",
            "linecolor": "rgb(36,36,36)",
            "showgrid": false,
            "showline": true,
            "ticks": "outside"
           },
           "baxis": {
            "gridcolor": "rgb(232,232,232)",
            "linecolor": "rgb(36,36,36)",
            "showgrid": false,
            "showline": true,
            "ticks": "outside"
           },
           "bgcolor": "white",
           "caxis": {
            "gridcolor": "rgb(232,232,232)",
            "linecolor": "rgb(36,36,36)",
            "showgrid": false,
            "showline": true,
            "ticks": "outside"
           }
          },
          "title": {
           "x": 0.05
          },
          "xaxis": {
           "automargin": true,
           "gridcolor": "rgb(232,232,232)",
           "linecolor": "rgb(36,36,36)",
           "showgrid": false,
           "showline": true,
           "ticks": "outside",
           "title": {
            "standoff": 15
           },
           "zeroline": false,
           "zerolinecolor": "rgb(36,36,36)"
          },
          "yaxis": {
           "automargin": true,
           "gridcolor": "rgb(232,232,232)",
           "linecolor": "rgb(36,36,36)",
           "showgrid": false,
           "showline": true,
           "ticks": "outside",
           "title": {
            "standoff": 15
           },
           "zeroline": false,
           "zerolinecolor": "rgb(36,36,36)"
          }
         }
        },
        "title": {
         "font": {
          "size": 20
         },
         "text": "Optimal Material Combinations to Comprise Desired Composite",
         "x": 0.15
        }
       }
      }
     },
     "metadata": {},
     "output_type": "display_data"
    },
    {
     "data": {
      "application/vnd.plotly.v1+json": {
       "config": {
        "plotlyServerURL": "https://plot.ly"
       },
       "data": [
        {
         "cells": {
          "align": "left",
          "fill": {
           "color": [
            [
             "white",
             "lightgrey",
             "white",
             "lightgrey",
             "white"
            ]
           ]
          },
          "font": {
           "size": 12
          },
          "height": 30,
          "values": [
           [
            {
             "mp-3536": {
              "bulk_modulus": 182.861,
              "elec_cond": 77.0117,
              "shear_modulus": 107.669,
              "therm_cond": 0.000316911,
              "universal_anisotropy": 1.062
             }
            },
            {
             "mp-3536": {
              "bulk_modulus": 182.861,
              "elec_cond": 77.0117,
              "shear_modulus": 107.669,
              "therm_cond": 0.000316911,
              "universal_anisotropy": 1.062
             }
            },
            {
             "mp-3536": {
              "bulk_modulus": 182.861,
              "elec_cond": 77.0117,
              "shear_modulus": 107.669,
              "therm_cond": 0.000316911,
              "universal_anisotropy": 1.062
             }
            },
            {
             "mp-3536": {
              "bulk_modulus": 182.861,
              "elec_cond": 77.0117,
              "shear_modulus": 107.669,
              "therm_cond": 0.000316911,
              "universal_anisotropy": 1.062
             }
            },
            {
             "mp-3536": {
              "bulk_modulus": 182.861,
              "elec_cond": 77.0117,
              "shear_modulus": 107.669,
              "therm_cond": 0.000316911,
              "universal_anisotropy": 1.062
             }
            }
           ],
           [
            {
             "mp-3536": {
              "bulk_modulus": 182.861,
              "elec_cond": 77.0117,
              "shear_modulus": 107.669,
              "therm_cond": 0.000316911,
              "universal_anisotropy": 1.062
             }
            },
            {
             "mp-3536": {
              "bulk_modulus": 182.861,
              "elec_cond": 77.0117,
              "shear_modulus": 107.669,
              "therm_cond": 0.000316911,
              "universal_anisotropy": 1.062
             }
            },
            {
             "mp-3536": {
              "bulk_modulus": 182.861,
              "elec_cond": 77.0117,
              "shear_modulus": 107.669,
              "therm_cond": 0.000316911,
              "universal_anisotropy": 1.062
             }
            },
            {
             "mp-3536": {
              "bulk_modulus": 182.861,
              "elec_cond": 77.0117,
              "shear_modulus": 107.669,
              "therm_cond": 0.000316911,
              "universal_anisotropy": 1.062
             }
            },
            {
             "mp-3536": {
              "bulk_modulus": 182.861,
              "elec_cond": 77.0117,
              "shear_modulus": 107.669,
              "therm_cond": 0.000316911,
              "universal_anisotropy": 1.062
             }
            }
           ],
           [
            {
             "mp-3536": {
              "bulk_modulus": 182.861,
              "elec_cond": 77.0117,
              "shear_modulus": 107.669,
              "therm_cond": 0.000316911,
              "universal_anisotropy": 1.062
             }
            },
            {
             "mp-3536": {
              "bulk_modulus": 182.861,
              "elec_cond": 77.0117,
              "shear_modulus": 107.669,
              "therm_cond": 0.000316911,
              "universal_anisotropy": 1.062
             }
            },
            {
             "mp-3536": {
              "bulk_modulus": 182.861,
              "elec_cond": 77.0117,
              "shear_modulus": 107.669,
              "therm_cond": 0.000316911,
              "universal_anisotropy": 1.062
             }
            },
            {
             "mp-3536": {
              "bulk_modulus": 182.861,
              "elec_cond": 77.0117,
              "shear_modulus": 107.669,
              "therm_cond": 0.000316911,
              "universal_anisotropy": 1.062
             }
            },
            {
             "mp-3536": {
              "bulk_modulus": 182.861,
              "elec_cond": 77.0117,
              "shear_modulus": 107.669,
              "therm_cond": 0.000316911,
              "universal_anisotropy": 1.062
             }
            }
           ],
           [
            77.0117,
            77.0117,
            77.0117,
            77.0117,
            77.0117
           ],
           [
            77.0117,
            77.0117,
            77.0117,
            77.0117,
            77.0117
           ],
           [
            77.0117,
            77.0117,
            77.0117,
            77.0117,
            77.0117
           ],
           [
            0.000316911,
            0.000316911,
            0.000316911,
            0.000316911,
            0.000316911
           ],
           [
            0.000316911,
            0.000316911,
            0.000316911,
            0.000316911,
            0.000316911
           ],
           [
            0.000316911,
            0.000316911,
            0.000316911,
            0.000316911,
            0.000316911
           ],
           [
            182.861,
            182.861,
            182.861,
            182.861,
            182.861
           ],
           [
            182.861,
            182.861,
            182.861,
            182.861,
            182.861
           ],
           [
            182.861,
            182.861,
            182.861,
            182.861,
            182.861
           ],
           [
            107.669,
            107.669,
            107.669,
            107.669,
            107.669
           ],
           [
            107.669,
            107.669,
            107.669,
            107.669,
            107.669
           ],
           [
            107.669,
            107.669,
            107.669,
            107.669,
            107.669
           ],
           [
            1.062,
            1.062,
            1.062,
            1.062,
            1.062
           ],
           [
            1.062,
            1.062,
            1.062,
            1.062,
            1.062
           ],
           [
            1.062,
            1.062,
            1.062,
            1.062,
            1.062
           ],
           [
            0.1789655172413793,
            0.11137931034482758,
            0.1789655172413793,
            0.1789655172413793,
            0.1789655172413793
           ],
           [
            0.8210344827586207,
            0.8886206896551724,
            0.9562068965517241,
            0.99,
            0.9224137931034482
           ],
           [
            0,
            0,
            -0.1351724137931034,
            -0.16896551724137931,
            -0.1013793103448275
           ],
           [
            18.360857066978763,
            19.62077372827898,
            24.32539270837902,
            25.588113442211412,
            26.283594984143086
           ]
          ]
         },
         "columnwidth": 1000,
         "header": {
          "align": "left",
          "fill": {
           "color": "lavender"
          },
          "font": {
           "size": 12
          },
          "height": 30,
          "values": [
           "Material 1 MP-ID",
           "Material 2 MP-ID",
           "Material 3 MP-ID",
           "Phase 1 Electrical conductivity, [S/m]",
           "Phase 2 Electrical conductivity, [S/m]",
           "Phase 3 Electrical conductivity, [S/m]",
           "Phase 1 Thermal conductivity, [W/m/K]",
           "Phase 2 Thermal conductivity, [W/m/K]",
           "Phase 3 Thermal conductivity, [W/m/K]",
           "Phase 1 Bulk modulus, [GPa]",
           "Phase 2 Bulk modulus, [GPa]",
           "Phase 3 Bulk modulus, [GPa]",
           "Phase 1 Shear modulus, [GPa]",
           "Phase 2 Shear modulus, [GPa]",
           "Phase 3 Shear modulus, [GPa]",
           "Phase 1 Universal anisotropy, []",
           "Phase 2 Universal anisotropy, []",
           "Phase 3 Universal anisotropy, []",
           "Phase 1 Volume Fraction",
           "Phase 2 Volume Fraction",
           "Phase 3 Volume Fraction",
           "cost"
          ]
         },
         "type": "table"
        }
       ],
       "layout": {
        "autosize": true,
        "height": 400,
        "margin": {
         "b": 0,
         "l": 0,
         "r": 0,
         "t": 40
        },
        "template": {
         "data": {
          "bar": [
           {
            "error_x": {
             "color": "rgb(36,36,36)"
            },
            "error_y": {
             "color": "rgb(36,36,36)"
            },
            "marker": {
             "line": {
              "color": "white",
              "width": 0.5
             },
             "pattern": {
              "fillmode": "overlay",
              "size": 10,
              "solidity": 0.2
             }
            },
            "type": "bar"
           }
          ],
          "barpolar": [
           {
            "marker": {
             "line": {
              "color": "white",
              "width": 0.5
             },
             "pattern": {
              "fillmode": "overlay",
              "size": 10,
              "solidity": 0.2
             }
            },
            "type": "barpolar"
           }
          ],
          "carpet": [
           {
            "aaxis": {
             "endlinecolor": "rgb(36,36,36)",
             "gridcolor": "white",
             "linecolor": "white",
             "minorgridcolor": "white",
             "startlinecolor": "rgb(36,36,36)"
            },
            "baxis": {
             "endlinecolor": "rgb(36,36,36)",
             "gridcolor": "white",
             "linecolor": "white",
             "minorgridcolor": "white",
             "startlinecolor": "rgb(36,36,36)"
            },
            "type": "carpet"
           }
          ],
          "choropleth": [
           {
            "colorbar": {
             "outlinewidth": 1,
             "tickcolor": "rgb(36,36,36)",
             "ticks": "outside"
            },
            "type": "choropleth"
           }
          ],
          "contour": [
           {
            "colorbar": {
             "outlinewidth": 1,
             "tickcolor": "rgb(36,36,36)",
             "ticks": "outside"
            },
            "colorscale": [
             [
              0,
              "#440154"
             ],
             [
              0.1111111111111111,
              "#482878"
             ],
             [
              0.2222222222222222,
              "#3e4989"
             ],
             [
              0.3333333333333333,
              "#31688e"
             ],
             [
              0.4444444444444444,
              "#26828e"
             ],
             [
              0.5555555555555556,
              "#1f9e89"
             ],
             [
              0.6666666666666666,
              "#35b779"
             ],
             [
              0.7777777777777778,
              "#6ece58"
             ],
             [
              0.8888888888888888,
              "#b5de2b"
             ],
             [
              1,
              "#fde725"
             ]
            ],
            "type": "contour"
           }
          ],
          "contourcarpet": [
           {
            "colorbar": {
             "outlinewidth": 1,
             "tickcolor": "rgb(36,36,36)",
             "ticks": "outside"
            },
            "type": "contourcarpet"
           }
          ],
          "heatmap": [
           {
            "colorbar": {
             "outlinewidth": 1,
             "tickcolor": "rgb(36,36,36)",
             "ticks": "outside"
            },
            "colorscale": [
             [
              0,
              "#440154"
             ],
             [
              0.1111111111111111,
              "#482878"
             ],
             [
              0.2222222222222222,
              "#3e4989"
             ],
             [
              0.3333333333333333,
              "#31688e"
             ],
             [
              0.4444444444444444,
              "#26828e"
             ],
             [
              0.5555555555555556,
              "#1f9e89"
             ],
             [
              0.6666666666666666,
              "#35b779"
             ],
             [
              0.7777777777777778,
              "#6ece58"
             ],
             [
              0.8888888888888888,
              "#b5de2b"
             ],
             [
              1,
              "#fde725"
             ]
            ],
            "type": "heatmap"
           }
          ],
          "heatmapgl": [
           {
            "colorbar": {
             "outlinewidth": 1,
             "tickcolor": "rgb(36,36,36)",
             "ticks": "outside"
            },
            "colorscale": [
             [
              0,
              "#440154"
             ],
             [
              0.1111111111111111,
              "#482878"
             ],
             [
              0.2222222222222222,
              "#3e4989"
             ],
             [
              0.3333333333333333,
              "#31688e"
             ],
             [
              0.4444444444444444,
              "#26828e"
             ],
             [
              0.5555555555555556,
              "#1f9e89"
             ],
             [
              0.6666666666666666,
              "#35b779"
             ],
             [
              0.7777777777777778,
              "#6ece58"
             ],
             [
              0.8888888888888888,
              "#b5de2b"
             ],
             [
              1,
              "#fde725"
             ]
            ],
            "type": "heatmapgl"
           }
          ],
          "histogram": [
           {
            "marker": {
             "line": {
              "color": "white",
              "width": 0.6
             }
            },
            "type": "histogram"
           }
          ],
          "histogram2d": [
           {
            "colorbar": {
             "outlinewidth": 1,
             "tickcolor": "rgb(36,36,36)",
             "ticks": "outside"
            },
            "colorscale": [
             [
              0,
              "#440154"
             ],
             [
              0.1111111111111111,
              "#482878"
             ],
             [
              0.2222222222222222,
              "#3e4989"
             ],
             [
              0.3333333333333333,
              "#31688e"
             ],
             [
              0.4444444444444444,
              "#26828e"
             ],
             [
              0.5555555555555556,
              "#1f9e89"
             ],
             [
              0.6666666666666666,
              "#35b779"
             ],
             [
              0.7777777777777778,
              "#6ece58"
             ],
             [
              0.8888888888888888,
              "#b5de2b"
             ],
             [
              1,
              "#fde725"
             ]
            ],
            "type": "histogram2d"
           }
          ],
          "histogram2dcontour": [
           {
            "colorbar": {
             "outlinewidth": 1,
             "tickcolor": "rgb(36,36,36)",
             "ticks": "outside"
            },
            "colorscale": [
             [
              0,
              "#440154"
             ],
             [
              0.1111111111111111,
              "#482878"
             ],
             [
              0.2222222222222222,
              "#3e4989"
             ],
             [
              0.3333333333333333,
              "#31688e"
             ],
             [
              0.4444444444444444,
              "#26828e"
             ],
             [
              0.5555555555555556,
              "#1f9e89"
             ],
             [
              0.6666666666666666,
              "#35b779"
             ],
             [
              0.7777777777777778,
              "#6ece58"
             ],
             [
              0.8888888888888888,
              "#b5de2b"
             ],
             [
              1,
              "#fde725"
             ]
            ],
            "type": "histogram2dcontour"
           }
          ],
          "mesh3d": [
           {
            "colorbar": {
             "outlinewidth": 1,
             "tickcolor": "rgb(36,36,36)",
             "ticks": "outside"
            },
            "type": "mesh3d"
           }
          ],
          "parcoords": [
           {
            "line": {
             "colorbar": {
              "outlinewidth": 1,
              "tickcolor": "rgb(36,36,36)",
              "ticks": "outside"
             }
            },
            "type": "parcoords"
           }
          ],
          "pie": [
           {
            "automargin": true,
            "type": "pie"
           }
          ],
          "scatter": [
           {
            "fillpattern": {
             "fillmode": "overlay",
             "size": 10,
             "solidity": 0.2
            },
            "type": "scatter"
           }
          ],
          "scatter3d": [
           {
            "line": {
             "colorbar": {
              "outlinewidth": 1,
              "tickcolor": "rgb(36,36,36)",
              "ticks": "outside"
             }
            },
            "marker": {
             "colorbar": {
              "outlinewidth": 1,
              "tickcolor": "rgb(36,36,36)",
              "ticks": "outside"
             }
            },
            "type": "scatter3d"
           }
          ],
          "scattercarpet": [
           {
            "marker": {
             "colorbar": {
              "outlinewidth": 1,
              "tickcolor": "rgb(36,36,36)",
              "ticks": "outside"
             }
            },
            "type": "scattercarpet"
           }
          ],
          "scattergeo": [
           {
            "marker": {
             "colorbar": {
              "outlinewidth": 1,
              "tickcolor": "rgb(36,36,36)",
              "ticks": "outside"
             }
            },
            "type": "scattergeo"
           }
          ],
          "scattergl": [
           {
            "marker": {
             "colorbar": {
              "outlinewidth": 1,
              "tickcolor": "rgb(36,36,36)",
              "ticks": "outside"
             }
            },
            "type": "scattergl"
           }
          ],
          "scattermapbox": [
           {
            "marker": {
             "colorbar": {
              "outlinewidth": 1,
              "tickcolor": "rgb(36,36,36)",
              "ticks": "outside"
             }
            },
            "type": "scattermapbox"
           }
          ],
          "scatterpolar": [
           {
            "marker": {
             "colorbar": {
              "outlinewidth": 1,
              "tickcolor": "rgb(36,36,36)",
              "ticks": "outside"
             }
            },
            "type": "scatterpolar"
           }
          ],
          "scatterpolargl": [
           {
            "marker": {
             "colorbar": {
              "outlinewidth": 1,
              "tickcolor": "rgb(36,36,36)",
              "ticks": "outside"
             }
            },
            "type": "scatterpolargl"
           }
          ],
          "scatterternary": [
           {
            "marker": {
             "colorbar": {
              "outlinewidth": 1,
              "tickcolor": "rgb(36,36,36)",
              "ticks": "outside"
             }
            },
            "type": "scatterternary"
           }
          ],
          "surface": [
           {
            "colorbar": {
             "outlinewidth": 1,
             "tickcolor": "rgb(36,36,36)",
             "ticks": "outside"
            },
            "colorscale": [
             [
              0,
              "#440154"
             ],
             [
              0.1111111111111111,
              "#482878"
             ],
             [
              0.2222222222222222,
              "#3e4989"
             ],
             [
              0.3333333333333333,
              "#31688e"
             ],
             [
              0.4444444444444444,
              "#26828e"
             ],
             [
              0.5555555555555556,
              "#1f9e89"
             ],
             [
              0.6666666666666666,
              "#35b779"
             ],
             [
              0.7777777777777778,
              "#6ece58"
             ],
             [
              0.8888888888888888,
              "#b5de2b"
             ],
             [
              1,
              "#fde725"
             ]
            ],
            "type": "surface"
           }
          ],
          "table": [
           {
            "cells": {
             "fill": {
              "color": "rgb(237,237,237)"
             },
             "line": {
              "color": "white"
             }
            },
            "header": {
             "fill": {
              "color": "rgb(217,217,217)"
             },
             "line": {
              "color": "white"
             }
            },
            "type": "table"
           }
          ]
         },
         "layout": {
          "annotationdefaults": {
           "arrowhead": 0,
           "arrowwidth": 1
          },
          "autotypenumbers": "strict",
          "coloraxis": {
           "colorbar": {
            "outlinewidth": 1,
            "tickcolor": "rgb(36,36,36)",
            "ticks": "outside"
           }
          },
          "colorscale": {
           "diverging": [
            [
             0,
             "rgb(103,0,31)"
            ],
            [
             0.1,
             "rgb(178,24,43)"
            ],
            [
             0.2,
             "rgb(214,96,77)"
            ],
            [
             0.3,
             "rgb(244,165,130)"
            ],
            [
             0.4,
             "rgb(253,219,199)"
            ],
            [
             0.5,
             "rgb(247,247,247)"
            ],
            [
             0.6,
             "rgb(209,229,240)"
            ],
            [
             0.7,
             "rgb(146,197,222)"
            ],
            [
             0.8,
             "rgb(67,147,195)"
            ],
            [
             0.9,
             "rgb(33,102,172)"
            ],
            [
             1,
             "rgb(5,48,97)"
            ]
           ],
           "sequential": [
            [
             0,
             "#440154"
            ],
            [
             0.1111111111111111,
             "#482878"
            ],
            [
             0.2222222222222222,
             "#3e4989"
            ],
            [
             0.3333333333333333,
             "#31688e"
            ],
            [
             0.4444444444444444,
             "#26828e"
            ],
            [
             0.5555555555555556,
             "#1f9e89"
            ],
            [
             0.6666666666666666,
             "#35b779"
            ],
            [
             0.7777777777777778,
             "#6ece58"
            ],
            [
             0.8888888888888888,
             "#b5de2b"
            ],
            [
             1,
             "#fde725"
            ]
           ],
           "sequentialminus": [
            [
             0,
             "#440154"
            ],
            [
             0.1111111111111111,
             "#482878"
            ],
            [
             0.2222222222222222,
             "#3e4989"
            ],
            [
             0.3333333333333333,
             "#31688e"
            ],
            [
             0.4444444444444444,
             "#26828e"
            ],
            [
             0.5555555555555556,
             "#1f9e89"
            ],
            [
             0.6666666666666666,
             "#35b779"
            ],
            [
             0.7777777777777778,
             "#6ece58"
            ],
            [
             0.8888888888888888,
             "#b5de2b"
            ],
            [
             1,
             "#fde725"
            ]
           ]
          },
          "colorway": [
           "#1F77B4",
           "#FF7F0E",
           "#2CA02C",
           "#D62728",
           "#9467BD",
           "#8C564B",
           "#E377C2",
           "#7F7F7F",
           "#BCBD22",
           "#17BECF"
          ],
          "font": {
           "color": "rgb(36,36,36)"
          },
          "geo": {
           "bgcolor": "white",
           "lakecolor": "white",
           "landcolor": "white",
           "showlakes": true,
           "showland": true,
           "subunitcolor": "white"
          },
          "hoverlabel": {
           "align": "left"
          },
          "hovermode": "closest",
          "mapbox": {
           "style": "light"
          },
          "paper_bgcolor": "white",
          "plot_bgcolor": "white",
          "polar": {
           "angularaxis": {
            "gridcolor": "rgb(232,232,232)",
            "linecolor": "rgb(36,36,36)",
            "showgrid": false,
            "showline": true,
            "ticks": "outside"
           },
           "bgcolor": "white",
           "radialaxis": {
            "gridcolor": "rgb(232,232,232)",
            "linecolor": "rgb(36,36,36)",
            "showgrid": false,
            "showline": true,
            "ticks": "outside"
           }
          },
          "scene": {
           "xaxis": {
            "backgroundcolor": "white",
            "gridcolor": "rgb(232,232,232)",
            "gridwidth": 2,
            "linecolor": "rgb(36,36,36)",
            "showbackground": true,
            "showgrid": false,
            "showline": true,
            "ticks": "outside",
            "zeroline": false,
            "zerolinecolor": "rgb(36,36,36)"
           },
           "yaxis": {
            "backgroundcolor": "white",
            "gridcolor": "rgb(232,232,232)",
            "gridwidth": 2,
            "linecolor": "rgb(36,36,36)",
            "showbackground": true,
            "showgrid": false,
            "showline": true,
            "ticks": "outside",
            "zeroline": false,
            "zerolinecolor": "rgb(36,36,36)"
           },
           "zaxis": {
            "backgroundcolor": "white",
            "gridcolor": "rgb(232,232,232)",
            "gridwidth": 2,
            "linecolor": "rgb(36,36,36)",
            "showbackground": true,
            "showgrid": false,
            "showline": true,
            "ticks": "outside",
            "zeroline": false,
            "zerolinecolor": "rgb(36,36,36)"
           }
          },
          "shapedefaults": {
           "fillcolor": "black",
           "line": {
            "width": 0
           },
           "opacity": 0.3
          },
          "ternary": {
           "aaxis": {
            "gridcolor": "rgb(232,232,232)",
            "linecolor": "rgb(36,36,36)",
            "showgrid": false,
            "showline": true,
            "ticks": "outside"
           },
           "baxis": {
            "gridcolor": "rgb(232,232,232)",
            "linecolor": "rgb(36,36,36)",
            "showgrid": false,
            "showline": true,
            "ticks": "outside"
           },
           "bgcolor": "white",
           "caxis": {
            "gridcolor": "rgb(232,232,232)",
            "linecolor": "rgb(36,36,36)",
            "showgrid": false,
            "showline": true,
            "ticks": "outside"
           }
          },
          "title": {
           "x": 0.05
          },
          "xaxis": {
           "automargin": true,
           "gridcolor": "rgb(232,232,232)",
           "linecolor": "rgb(36,36,36)",
           "showgrid": false,
           "showline": true,
           "ticks": "outside",
           "title": {
            "standoff": 15
           },
           "zeroline": false,
           "zerolinecolor": "rgb(36,36,36)"
          },
          "yaxis": {
           "automargin": true,
           "gridcolor": "rgb(232,232,232)",
           "linecolor": "rgb(36,36,36)",
           "showgrid": false,
           "showline": true,
           "ticks": "outside",
           "title": {
            "standoff": 15
           },
           "zeroline": false,
           "zerolinecolor": "rgb(36,36,36)"
          }
         }
        },
        "title": {
         "font": {
          "size": 20
         },
         "text": "Optimal Material Combinations to Comprise Desired Composite",
         "x": 0.15
        }
       }
      }
     },
     "metadata": {},
     "output_type": "display_data"
    },
    {
     "data": {
      "application/vnd.plotly.v1+json": {
       "config": {
        "plotlyServerURL": "https://plot.ly"
       },
       "data": [
        {
         "cells": {
          "align": "left",
          "fill": {
           "color": [
            [
             "white",
             "lightgrey",
             "white",
             "lightgrey",
             "white"
            ]
           ]
          },
          "font": {
           "size": 12
          },
          "height": 30,
          "values": [
           [
            {
             "mp-3536": {
              "bulk_modulus": 182.861,
              "elec_cond": 77.0117,
              "shear_modulus": 107.669,
              "therm_cond": 0.000316911,
              "universal_anisotropy": 1.062
             }
            },
            {
             "mp-3536": {
              "bulk_modulus": 182.861,
              "elec_cond": 77.0117,
              "shear_modulus": 107.669,
              "therm_cond": 0.000316911,
              "universal_anisotropy": 1.062
             }
            },
            {
             "mp-3536": {
              "bulk_modulus": 182.861,
              "elec_cond": 77.0117,
              "shear_modulus": 107.669,
              "therm_cond": 0.000316911,
              "universal_anisotropy": 1.062
             }
            },
            {
             "mp-3536": {
              "bulk_modulus": 182.861,
              "elec_cond": 77.0117,
              "shear_modulus": 107.669,
              "therm_cond": 0.000316911,
              "universal_anisotropy": 1.062
             }
            },
            {
             "mp-3536": {
              "bulk_modulus": 182.861,
              "elec_cond": 77.0117,
              "shear_modulus": 107.669,
              "therm_cond": 0.000316911,
              "universal_anisotropy": 1.062
             }
            }
           ],
           [
            {
             "mp-3536": {
              "bulk_modulus": 182.861,
              "elec_cond": 77.0117,
              "shear_modulus": 107.669,
              "therm_cond": 0.000316911,
              "universal_anisotropy": 1.062
             }
            },
            {
             "mp-3536": {
              "bulk_modulus": 182.861,
              "elec_cond": 77.0117,
              "shear_modulus": 107.669,
              "therm_cond": 0.000316911,
              "universal_anisotropy": 1.062
             }
            },
            {
             "mp-3536": {
              "bulk_modulus": 182.861,
              "elec_cond": 77.0117,
              "shear_modulus": 107.669,
              "therm_cond": 0.000316911,
              "universal_anisotropy": 1.062
             }
            },
            {
             "mp-3536": {
              "bulk_modulus": 182.861,
              "elec_cond": 77.0117,
              "shear_modulus": 107.669,
              "therm_cond": 0.000316911,
              "universal_anisotropy": 1.062
             }
            },
            {
             "mp-3536": {
              "bulk_modulus": 182.861,
              "elec_cond": 77.0117,
              "shear_modulus": 107.669,
              "therm_cond": 0.000316911,
              "universal_anisotropy": 1.062
             }
            }
           ],
           [
            {
             "mp-5924": {
              "bulk_modulus": 193.509,
              "elec_cond": 64.5658,
              "shear_modulus": 113.741,
              "therm_cond": 0.000300167,
              "universal_anisotropy": 1.091
             }
            },
            {
             "mp-5924": {
              "bulk_modulus": 193.509,
              "elec_cond": 64.5658,
              "shear_modulus": 113.741,
              "therm_cond": 0.000300167,
              "universal_anisotropy": 1.091
             }
            },
            {
             "mp-5924": {
              "bulk_modulus": 193.509,
              "elec_cond": 64.5658,
              "shear_modulus": 113.741,
              "therm_cond": 0.000300167,
              "universal_anisotropy": 1.091
             }
            },
            {
             "mp-5924": {
              "bulk_modulus": 193.509,
              "elec_cond": 64.5658,
              "shear_modulus": 113.741,
              "therm_cond": 0.000300167,
              "universal_anisotropy": 1.091
             }
            },
            {
             "mp-5924": {
              "bulk_modulus": 193.509,
              "elec_cond": 64.5658,
              "shear_modulus": 113.741,
              "therm_cond": 0.000300167,
              "universal_anisotropy": 1.091
             }
            }
           ],
           [
            77.0117,
            77.0117,
            77.0117,
            77.0117,
            77.0117
           ],
           [
            77.0117,
            77.0117,
            77.0117,
            77.0117,
            77.0117
           ],
           [
            64.5658,
            64.5658,
            64.5658,
            64.5658,
            64.5658
           ],
           [
            0.000316911,
            0.000316911,
            0.000316911,
            0.000316911,
            0.000316911
           ],
           [
            0.000316911,
            0.000316911,
            0.000316911,
            0.000316911,
            0.000316911
           ],
           [
            0.000300167,
            0.000300167,
            0.000300167,
            0.000300167,
            0.000300167
           ],
           [
            182.861,
            182.861,
            182.861,
            182.861,
            182.861
           ],
           [
            182.861,
            182.861,
            182.861,
            182.861,
            182.861
           ],
           [
            193.509,
            193.509,
            193.509,
            193.509,
            193.509
           ],
           [
            107.669,
            107.669,
            107.669,
            107.669,
            107.669
           ],
           [
            107.669,
            107.669,
            107.669,
            107.669,
            107.669
           ],
           [
            113.741,
            113.741,
            113.741,
            113.741,
            113.741
           ],
           [
            1.062,
            1.062,
            1.062,
            1.062,
            1.062
           ],
           [
            1.062,
            1.062,
            1.062,
            1.062,
            1.062
           ],
           [
            1.091,
            1.091,
            1.091,
            1.091,
            1.091
           ],
           [
            0.1789655172413793,
            0.11137931034482758,
            0.1789655172413793,
            0.1789655172413793,
            0.1789655172413793
           ],
           [
            0.8210344827586207,
            0.8886206896551724,
            0.9562068965517241,
            0.99,
            0.9224137931034482
           ],
           [
            0,
            0,
            -0.1351724137931034,
            -0.16896551724137931,
            -0.1013793103448275
           ],
           [
            18.608716687069734,
            19.859790386717226,
            24.004904076256885,
            25.295646131396698,
            25.933734567194456
           ]
          ]
         },
         "columnwidth": 1000,
         "header": {
          "align": "left",
          "fill": {
           "color": "lavender"
          },
          "font": {
           "size": 12
          },
          "height": 30,
          "values": [
           "Material 1 MP-ID",
           "Material 2 MP-ID",
           "Material 3 MP-ID",
           "Phase 1 Electrical conductivity, [S/m]",
           "Phase 2 Electrical conductivity, [S/m]",
           "Phase 3 Electrical conductivity, [S/m]",
           "Phase 1 Thermal conductivity, [W/m/K]",
           "Phase 2 Thermal conductivity, [W/m/K]",
           "Phase 3 Thermal conductivity, [W/m/K]",
           "Phase 1 Bulk modulus, [GPa]",
           "Phase 2 Bulk modulus, [GPa]",
           "Phase 3 Bulk modulus, [GPa]",
           "Phase 1 Shear modulus, [GPa]",
           "Phase 2 Shear modulus, [GPa]",
           "Phase 3 Shear modulus, [GPa]",
           "Phase 1 Universal anisotropy, []",
           "Phase 2 Universal anisotropy, []",
           "Phase 3 Universal anisotropy, []",
           "Phase 1 Volume Fraction",
           "Phase 2 Volume Fraction",
           "Phase 3 Volume Fraction",
           "cost"
          ]
         },
         "type": "table"
        }
       ],
       "layout": {
        "autosize": true,
        "height": 400,
        "margin": {
         "b": 0,
         "l": 0,
         "r": 0,
         "t": 40
        },
        "template": {
         "data": {
          "bar": [
           {
            "error_x": {
             "color": "rgb(36,36,36)"
            },
            "error_y": {
             "color": "rgb(36,36,36)"
            },
            "marker": {
             "line": {
              "color": "white",
              "width": 0.5
             },
             "pattern": {
              "fillmode": "overlay",
              "size": 10,
              "solidity": 0.2
             }
            },
            "type": "bar"
           }
          ],
          "barpolar": [
           {
            "marker": {
             "line": {
              "color": "white",
              "width": 0.5
             },
             "pattern": {
              "fillmode": "overlay",
              "size": 10,
              "solidity": 0.2
             }
            },
            "type": "barpolar"
           }
          ],
          "carpet": [
           {
            "aaxis": {
             "endlinecolor": "rgb(36,36,36)",
             "gridcolor": "white",
             "linecolor": "white",
             "minorgridcolor": "white",
             "startlinecolor": "rgb(36,36,36)"
            },
            "baxis": {
             "endlinecolor": "rgb(36,36,36)",
             "gridcolor": "white",
             "linecolor": "white",
             "minorgridcolor": "white",
             "startlinecolor": "rgb(36,36,36)"
            },
            "type": "carpet"
           }
          ],
          "choropleth": [
           {
            "colorbar": {
             "outlinewidth": 1,
             "tickcolor": "rgb(36,36,36)",
             "ticks": "outside"
            },
            "type": "choropleth"
           }
          ],
          "contour": [
           {
            "colorbar": {
             "outlinewidth": 1,
             "tickcolor": "rgb(36,36,36)",
             "ticks": "outside"
            },
            "colorscale": [
             [
              0,
              "#440154"
             ],
             [
              0.1111111111111111,
              "#482878"
             ],
             [
              0.2222222222222222,
              "#3e4989"
             ],
             [
              0.3333333333333333,
              "#31688e"
             ],
             [
              0.4444444444444444,
              "#26828e"
             ],
             [
              0.5555555555555556,
              "#1f9e89"
             ],
             [
              0.6666666666666666,
              "#35b779"
             ],
             [
              0.7777777777777778,
              "#6ece58"
             ],
             [
              0.8888888888888888,
              "#b5de2b"
             ],
             [
              1,
              "#fde725"
             ]
            ],
            "type": "contour"
           }
          ],
          "contourcarpet": [
           {
            "colorbar": {
             "outlinewidth": 1,
             "tickcolor": "rgb(36,36,36)",
             "ticks": "outside"
            },
            "type": "contourcarpet"
           }
          ],
          "heatmap": [
           {
            "colorbar": {
             "outlinewidth": 1,
             "tickcolor": "rgb(36,36,36)",
             "ticks": "outside"
            },
            "colorscale": [
             [
              0,
              "#440154"
             ],
             [
              0.1111111111111111,
              "#482878"
             ],
             [
              0.2222222222222222,
              "#3e4989"
             ],
             [
              0.3333333333333333,
              "#31688e"
             ],
             [
              0.4444444444444444,
              "#26828e"
             ],
             [
              0.5555555555555556,
              "#1f9e89"
             ],
             [
              0.6666666666666666,
              "#35b779"
             ],
             [
              0.7777777777777778,
              "#6ece58"
             ],
             [
              0.8888888888888888,
              "#b5de2b"
             ],
             [
              1,
              "#fde725"
             ]
            ],
            "type": "heatmap"
           }
          ],
          "heatmapgl": [
           {
            "colorbar": {
             "outlinewidth": 1,
             "tickcolor": "rgb(36,36,36)",
             "ticks": "outside"
            },
            "colorscale": [
             [
              0,
              "#440154"
             ],
             [
              0.1111111111111111,
              "#482878"
             ],
             [
              0.2222222222222222,
              "#3e4989"
             ],
             [
              0.3333333333333333,
              "#31688e"
             ],
             [
              0.4444444444444444,
              "#26828e"
             ],
             [
              0.5555555555555556,
              "#1f9e89"
             ],
             [
              0.6666666666666666,
              "#35b779"
             ],
             [
              0.7777777777777778,
              "#6ece58"
             ],
             [
              0.8888888888888888,
              "#b5de2b"
             ],
             [
              1,
              "#fde725"
             ]
            ],
            "type": "heatmapgl"
           }
          ],
          "histogram": [
           {
            "marker": {
             "line": {
              "color": "white",
              "width": 0.6
             }
            },
            "type": "histogram"
           }
          ],
          "histogram2d": [
           {
            "colorbar": {
             "outlinewidth": 1,
             "tickcolor": "rgb(36,36,36)",
             "ticks": "outside"
            },
            "colorscale": [
             [
              0,
              "#440154"
             ],
             [
              0.1111111111111111,
              "#482878"
             ],
             [
              0.2222222222222222,
              "#3e4989"
             ],
             [
              0.3333333333333333,
              "#31688e"
             ],
             [
              0.4444444444444444,
              "#26828e"
             ],
             [
              0.5555555555555556,
              "#1f9e89"
             ],
             [
              0.6666666666666666,
              "#35b779"
             ],
             [
              0.7777777777777778,
              "#6ece58"
             ],
             [
              0.8888888888888888,
              "#b5de2b"
             ],
             [
              1,
              "#fde725"
             ]
            ],
            "type": "histogram2d"
           }
          ],
          "histogram2dcontour": [
           {
            "colorbar": {
             "outlinewidth": 1,
             "tickcolor": "rgb(36,36,36)",
             "ticks": "outside"
            },
            "colorscale": [
             [
              0,
              "#440154"
             ],
             [
              0.1111111111111111,
              "#482878"
             ],
             [
              0.2222222222222222,
              "#3e4989"
             ],
             [
              0.3333333333333333,
              "#31688e"
             ],
             [
              0.4444444444444444,
              "#26828e"
             ],
             [
              0.5555555555555556,
              "#1f9e89"
             ],
             [
              0.6666666666666666,
              "#35b779"
             ],
             [
              0.7777777777777778,
              "#6ece58"
             ],
             [
              0.8888888888888888,
              "#b5de2b"
             ],
             [
              1,
              "#fde725"
             ]
            ],
            "type": "histogram2dcontour"
           }
          ],
          "mesh3d": [
           {
            "colorbar": {
             "outlinewidth": 1,
             "tickcolor": "rgb(36,36,36)",
             "ticks": "outside"
            },
            "type": "mesh3d"
           }
          ],
          "parcoords": [
           {
            "line": {
             "colorbar": {
              "outlinewidth": 1,
              "tickcolor": "rgb(36,36,36)",
              "ticks": "outside"
             }
            },
            "type": "parcoords"
           }
          ],
          "pie": [
           {
            "automargin": true,
            "type": "pie"
           }
          ],
          "scatter": [
           {
            "fillpattern": {
             "fillmode": "overlay",
             "size": 10,
             "solidity": 0.2
            },
            "type": "scatter"
           }
          ],
          "scatter3d": [
           {
            "line": {
             "colorbar": {
              "outlinewidth": 1,
              "tickcolor": "rgb(36,36,36)",
              "ticks": "outside"
             }
            },
            "marker": {
             "colorbar": {
              "outlinewidth": 1,
              "tickcolor": "rgb(36,36,36)",
              "ticks": "outside"
             }
            },
            "type": "scatter3d"
           }
          ],
          "scattercarpet": [
           {
            "marker": {
             "colorbar": {
              "outlinewidth": 1,
              "tickcolor": "rgb(36,36,36)",
              "ticks": "outside"
             }
            },
            "type": "scattercarpet"
           }
          ],
          "scattergeo": [
           {
            "marker": {
             "colorbar": {
              "outlinewidth": 1,
              "tickcolor": "rgb(36,36,36)",
              "ticks": "outside"
             }
            },
            "type": "scattergeo"
           }
          ],
          "scattergl": [
           {
            "marker": {
             "colorbar": {
              "outlinewidth": 1,
              "tickcolor": "rgb(36,36,36)",
              "ticks": "outside"
             }
            },
            "type": "scattergl"
           }
          ],
          "scattermapbox": [
           {
            "marker": {
             "colorbar": {
              "outlinewidth": 1,
              "tickcolor": "rgb(36,36,36)",
              "ticks": "outside"
             }
            },
            "type": "scattermapbox"
           }
          ],
          "scatterpolar": [
           {
            "marker": {
             "colorbar": {
              "outlinewidth": 1,
              "tickcolor": "rgb(36,36,36)",
              "ticks": "outside"
             }
            },
            "type": "scatterpolar"
           }
          ],
          "scatterpolargl": [
           {
            "marker": {
             "colorbar": {
              "outlinewidth": 1,
              "tickcolor": "rgb(36,36,36)",
              "ticks": "outside"
             }
            },
            "type": "scatterpolargl"
           }
          ],
          "scatterternary": [
           {
            "marker": {
             "colorbar": {
              "outlinewidth": 1,
              "tickcolor": "rgb(36,36,36)",
              "ticks": "outside"
             }
            },
            "type": "scatterternary"
           }
          ],
          "surface": [
           {
            "colorbar": {
             "outlinewidth": 1,
             "tickcolor": "rgb(36,36,36)",
             "ticks": "outside"
            },
            "colorscale": [
             [
              0,
              "#440154"
             ],
             [
              0.1111111111111111,
              "#482878"
             ],
             [
              0.2222222222222222,
              "#3e4989"
             ],
             [
              0.3333333333333333,
              "#31688e"
             ],
             [
              0.4444444444444444,
              "#26828e"
             ],
             [
              0.5555555555555556,
              "#1f9e89"
             ],
             [
              0.6666666666666666,
              "#35b779"
             ],
             [
              0.7777777777777778,
              "#6ece58"
             ],
             [
              0.8888888888888888,
              "#b5de2b"
             ],
             [
              1,
              "#fde725"
             ]
            ],
            "type": "surface"
           }
          ],
          "table": [
           {
            "cells": {
             "fill": {
              "color": "rgb(237,237,237)"
             },
             "line": {
              "color": "white"
             }
            },
            "header": {
             "fill": {
              "color": "rgb(217,217,217)"
             },
             "line": {
              "color": "white"
             }
            },
            "type": "table"
           }
          ]
         },
         "layout": {
          "annotationdefaults": {
           "arrowhead": 0,
           "arrowwidth": 1
          },
          "autotypenumbers": "strict",
          "coloraxis": {
           "colorbar": {
            "outlinewidth": 1,
            "tickcolor": "rgb(36,36,36)",
            "ticks": "outside"
           }
          },
          "colorscale": {
           "diverging": [
            [
             0,
             "rgb(103,0,31)"
            ],
            [
             0.1,
             "rgb(178,24,43)"
            ],
            [
             0.2,
             "rgb(214,96,77)"
            ],
            [
             0.3,
             "rgb(244,165,130)"
            ],
            [
             0.4,
             "rgb(253,219,199)"
            ],
            [
             0.5,
             "rgb(247,247,247)"
            ],
            [
             0.6,
             "rgb(209,229,240)"
            ],
            [
             0.7,
             "rgb(146,197,222)"
            ],
            [
             0.8,
             "rgb(67,147,195)"
            ],
            [
             0.9,
             "rgb(33,102,172)"
            ],
            [
             1,
             "rgb(5,48,97)"
            ]
           ],
           "sequential": [
            [
             0,
             "#440154"
            ],
            [
             0.1111111111111111,
             "#482878"
            ],
            [
             0.2222222222222222,
             "#3e4989"
            ],
            [
             0.3333333333333333,
             "#31688e"
            ],
            [
             0.4444444444444444,
             "#26828e"
            ],
            [
             0.5555555555555556,
             "#1f9e89"
            ],
            [
             0.6666666666666666,
             "#35b779"
            ],
            [
             0.7777777777777778,
             "#6ece58"
            ],
            [
             0.8888888888888888,
             "#b5de2b"
            ],
            [
             1,
             "#fde725"
            ]
           ],
           "sequentialminus": [
            [
             0,
             "#440154"
            ],
            [
             0.1111111111111111,
             "#482878"
            ],
            [
             0.2222222222222222,
             "#3e4989"
            ],
            [
             0.3333333333333333,
             "#31688e"
            ],
            [
             0.4444444444444444,
             "#26828e"
            ],
            [
             0.5555555555555556,
             "#1f9e89"
            ],
            [
             0.6666666666666666,
             "#35b779"
            ],
            [
             0.7777777777777778,
             "#6ece58"
            ],
            [
             0.8888888888888888,
             "#b5de2b"
            ],
            [
             1,
             "#fde725"
            ]
           ]
          },
          "colorway": [
           "#1F77B4",
           "#FF7F0E",
           "#2CA02C",
           "#D62728",
           "#9467BD",
           "#8C564B",
           "#E377C2",
           "#7F7F7F",
           "#BCBD22",
           "#17BECF"
          ],
          "font": {
           "color": "rgb(36,36,36)"
          },
          "geo": {
           "bgcolor": "white",
           "lakecolor": "white",
           "landcolor": "white",
           "showlakes": true,
           "showland": true,
           "subunitcolor": "white"
          },
          "hoverlabel": {
           "align": "left"
          },
          "hovermode": "closest",
          "mapbox": {
           "style": "light"
          },
          "paper_bgcolor": "white",
          "plot_bgcolor": "white",
          "polar": {
           "angularaxis": {
            "gridcolor": "rgb(232,232,232)",
            "linecolor": "rgb(36,36,36)",
            "showgrid": false,
            "showline": true,
            "ticks": "outside"
           },
           "bgcolor": "white",
           "radialaxis": {
            "gridcolor": "rgb(232,232,232)",
            "linecolor": "rgb(36,36,36)",
            "showgrid": false,
            "showline": true,
            "ticks": "outside"
           }
          },
          "scene": {
           "xaxis": {
            "backgroundcolor": "white",
            "gridcolor": "rgb(232,232,232)",
            "gridwidth": 2,
            "linecolor": "rgb(36,36,36)",
            "showbackground": true,
            "showgrid": false,
            "showline": true,
            "ticks": "outside",
            "zeroline": false,
            "zerolinecolor": "rgb(36,36,36)"
           },
           "yaxis": {
            "backgroundcolor": "white",
            "gridcolor": "rgb(232,232,232)",
            "gridwidth": 2,
            "linecolor": "rgb(36,36,36)",
            "showbackground": true,
            "showgrid": false,
            "showline": true,
            "ticks": "outside",
            "zeroline": false,
            "zerolinecolor": "rgb(36,36,36)"
           },
           "zaxis": {
            "backgroundcolor": "white",
            "gridcolor": "rgb(232,232,232)",
            "gridwidth": 2,
            "linecolor": "rgb(36,36,36)",
            "showbackground": true,
            "showgrid": false,
            "showline": true,
            "ticks": "outside",
            "zeroline": false,
            "zerolinecolor": "rgb(36,36,36)"
           }
          },
          "shapedefaults": {
           "fillcolor": "black",
           "line": {
            "width": 0
           },
           "opacity": 0.3
          },
          "ternary": {
           "aaxis": {
            "gridcolor": "rgb(232,232,232)",
            "linecolor": "rgb(36,36,36)",
            "showgrid": false,
            "showline": true,
            "ticks": "outside"
           },
           "baxis": {
            "gridcolor": "rgb(232,232,232)",
            "linecolor": "rgb(36,36,36)",
            "showgrid": false,
            "showline": true,
            "ticks": "outside"
           },
           "bgcolor": "white",
           "caxis": {
            "gridcolor": "rgb(232,232,232)",
            "linecolor": "rgb(36,36,36)",
            "showgrid": false,
            "showline": true,
            "ticks": "outside"
           }
          },
          "title": {
           "x": 0.05
          },
          "xaxis": {
           "automargin": true,
           "gridcolor": "rgb(232,232,232)",
           "linecolor": "rgb(36,36,36)",
           "showgrid": false,
           "showline": true,
           "ticks": "outside",
           "title": {
            "standoff": 15
           },
           "zeroline": false,
           "zerolinecolor": "rgb(36,36,36)"
          },
          "yaxis": {
           "automargin": true,
           "gridcolor": "rgb(232,232,232)",
           "linecolor": "rgb(36,36,36)",
           "showgrid": false,
           "showline": true,
           "ticks": "outside",
           "title": {
            "standoff": 15
           },
           "zeroline": false,
           "zerolinecolor": "rgb(36,36,36)"
          }
         }
        },
        "title": {
         "font": {
          "size": 20
         },
         "text": "Optimal Material Combinations to Comprise Desired Composite",
         "x": 0.15
        }
       }
      }
     },
     "metadata": {},
     "output_type": "display_data"
    },
    {
     "data": {
      "application/vnd.plotly.v1+json": {
       "config": {
        "plotlyServerURL": "https://plot.ly"
       },
       "data": [
        {
         "cells": {
          "align": "left",
          "fill": {
           "color": [
            [
             "white",
             "lightgrey",
             "white",
             "lightgrey",
             "white"
            ]
           ]
          },
          "font": {
           "size": 12
          },
          "height": 30,
          "values": [
           [
            {
             "mp-3536": {
              "bulk_modulus": 182.861,
              "elec_cond": 77.0117,
              "shear_modulus": 107.669,
              "therm_cond": 0.000316911,
              "universal_anisotropy": 1.062
             }
            },
            {
             "mp-3536": {
              "bulk_modulus": 182.861,
              "elec_cond": 77.0117,
              "shear_modulus": 107.669,
              "therm_cond": 0.000316911,
              "universal_anisotropy": 1.062
             }
            },
            {
             "mp-3536": {
              "bulk_modulus": 182.861,
              "elec_cond": 77.0117,
              "shear_modulus": 107.669,
              "therm_cond": 0.000316911,
              "universal_anisotropy": 1.062
             }
            },
            {
             "mp-3536": {
              "bulk_modulus": 182.861,
              "elec_cond": 77.0117,
              "shear_modulus": 107.669,
              "therm_cond": 0.000316911,
              "universal_anisotropy": 1.062
             }
            },
            {
             "mp-3536": {
              "bulk_modulus": 182.861,
              "elec_cond": 77.0117,
              "shear_modulus": 107.669,
              "therm_cond": 0.000316911,
              "universal_anisotropy": 1.062
             }
            }
           ],
           [
            {
             "mp-5924": {
              "bulk_modulus": 193.509,
              "elec_cond": 64.5658,
              "shear_modulus": 113.741,
              "therm_cond": 0.000300167,
              "universal_anisotropy": 1.091
             }
            },
            {
             "mp-5924": {
              "bulk_modulus": 193.509,
              "elec_cond": 64.5658,
              "shear_modulus": 113.741,
              "therm_cond": 0.000300167,
              "universal_anisotropy": 1.091
             }
            },
            {
             "mp-5924": {
              "bulk_modulus": 193.509,
              "elec_cond": 64.5658,
              "shear_modulus": 113.741,
              "therm_cond": 0.000300167,
              "universal_anisotropy": 1.091
             }
            },
            {
             "mp-5924": {
              "bulk_modulus": 193.509,
              "elec_cond": 64.5658,
              "shear_modulus": 113.741,
              "therm_cond": 0.000300167,
              "universal_anisotropy": 1.091
             }
            },
            {
             "mp-5924": {
              "bulk_modulus": 193.509,
              "elec_cond": 64.5658,
              "shear_modulus": 113.741,
              "therm_cond": 0.000300167,
              "universal_anisotropy": 1.091
             }
            }
           ],
           [
            {
             "mp-752826": {
              "bulk_modulus": 168.258,
              "elec_cond": 41.0475,
              "shear_modulus": 90.134,
              "therm_cond": 0.000111994,
              "universal_anisotropy": 1.271
             }
            },
            {
             "mp-752826": {
              "bulk_modulus": 168.258,
              "elec_cond": 41.0475,
              "shear_modulus": 90.134,
              "therm_cond": 0.000111994,
              "universal_anisotropy": 1.271
             }
            },
            {
             "mp-752826": {
              "bulk_modulus": 168.258,
              "elec_cond": 41.0475,
              "shear_modulus": 90.134,
              "therm_cond": 0.000111994,
              "universal_anisotropy": 1.271
             }
            },
            {
             "mp-752826": {
              "bulk_modulus": 168.258,
              "elec_cond": 41.0475,
              "shear_modulus": 90.134,
              "therm_cond": 0.000111994,
              "universal_anisotropy": 1.271
             }
            },
            {
             "mp-752826": {
              "bulk_modulus": 168.258,
              "elec_cond": 41.0475,
              "shear_modulus": 90.134,
              "therm_cond": 0.000111994,
              "universal_anisotropy": 1.271
             }
            }
           ],
           [
            77.0117,
            77.0117,
            77.0117,
            77.0117,
            77.0117
           ],
           [
            64.5658,
            64.5658,
            64.5658,
            64.5658,
            64.5658
           ],
           [
            41.0475,
            41.0475,
            41.0475,
            41.0475,
            41.0475
           ],
           [
            0.000316911,
            0.000316911,
            0.000316911,
            0.000316911,
            0.000316911
           ],
           [
            0.000300167,
            0.000300167,
            0.000300167,
            0.000300167,
            0.000300167
           ],
           [
            0.000111994,
            0.000111994,
            0.000111994,
            0.000111994,
            0.000111994
           ],
           [
            182.861,
            182.861,
            182.861,
            182.861,
            182.861
           ],
           [
            193.509,
            193.509,
            193.509,
            193.509,
            193.509
           ],
           [
            168.258,
            168.258,
            168.258,
            168.258,
            168.258
           ],
           [
            107.669,
            107.669,
            107.669,
            107.669,
            107.669
           ],
           [
            113.741,
            113.741,
            113.741,
            113.741,
            113.741
           ],
           [
            90.134,
            90.134,
            90.134,
            90.134,
            90.134
           ],
           [
            1.062,
            1.062,
            1.062,
            1.062,
            1.062
           ],
           [
            1.091,
            1.091,
            1.091,
            1.091,
            1.091
           ],
           [
            1.271,
            1.271,
            1.271,
            1.271,
            1.271
           ],
           [
            0.1789655172413793,
            0.11137931034482758,
            0.1789655172413793,
            0.1789655172413793,
            0.1789655172413793
           ],
           [
            0.8210344827586207,
            0.8886206896551724,
            0.9562068965517241,
            0.99,
            0.9224137931034482
           ],
           [
            0,
            0,
            -0.1351724137931034,
            -0.16896551724137931,
            -0.1013793103448275
           ],
           [
            17.79223289065066,
            18.432796594289968,
            23.656631077208452,
            24.720900464967187,
            25.730648043408145
           ]
          ]
         },
         "columnwidth": 1000,
         "header": {
          "align": "left",
          "fill": {
           "color": "lavender"
          },
          "font": {
           "size": 12
          },
          "height": 30,
          "values": [
           "Material 1 MP-ID",
           "Material 2 MP-ID",
           "Material 3 MP-ID",
           "Phase 1 Electrical conductivity, [S/m]",
           "Phase 2 Electrical conductivity, [S/m]",
           "Phase 3 Electrical conductivity, [S/m]",
           "Phase 1 Thermal conductivity, [W/m/K]",
           "Phase 2 Thermal conductivity, [W/m/K]",
           "Phase 3 Thermal conductivity, [W/m/K]",
           "Phase 1 Bulk modulus, [GPa]",
           "Phase 2 Bulk modulus, [GPa]",
           "Phase 3 Bulk modulus, [GPa]",
           "Phase 1 Shear modulus, [GPa]",
           "Phase 2 Shear modulus, [GPa]",
           "Phase 3 Shear modulus, [GPa]",
           "Phase 1 Universal anisotropy, []",
           "Phase 2 Universal anisotropy, []",
           "Phase 3 Universal anisotropy, []",
           "Phase 1 Volume Fraction",
           "Phase 2 Volume Fraction",
           "Phase 3 Volume Fraction",
           "cost"
          ]
         },
         "type": "table"
        }
       ],
       "layout": {
        "autosize": true,
        "height": 400,
        "margin": {
         "b": 0,
         "l": 0,
         "r": 0,
         "t": 40
        },
        "template": {
         "data": {
          "bar": [
           {
            "error_x": {
             "color": "rgb(36,36,36)"
            },
            "error_y": {
             "color": "rgb(36,36,36)"
            },
            "marker": {
             "line": {
              "color": "white",
              "width": 0.5
             },
             "pattern": {
              "fillmode": "overlay",
              "size": 10,
              "solidity": 0.2
             }
            },
            "type": "bar"
           }
          ],
          "barpolar": [
           {
            "marker": {
             "line": {
              "color": "white",
              "width": 0.5
             },
             "pattern": {
              "fillmode": "overlay",
              "size": 10,
              "solidity": 0.2
             }
            },
            "type": "barpolar"
           }
          ],
          "carpet": [
           {
            "aaxis": {
             "endlinecolor": "rgb(36,36,36)",
             "gridcolor": "white",
             "linecolor": "white",
             "minorgridcolor": "white",
             "startlinecolor": "rgb(36,36,36)"
            },
            "baxis": {
             "endlinecolor": "rgb(36,36,36)",
             "gridcolor": "white",
             "linecolor": "white",
             "minorgridcolor": "white",
             "startlinecolor": "rgb(36,36,36)"
            },
            "type": "carpet"
           }
          ],
          "choropleth": [
           {
            "colorbar": {
             "outlinewidth": 1,
             "tickcolor": "rgb(36,36,36)",
             "ticks": "outside"
            },
            "type": "choropleth"
           }
          ],
          "contour": [
           {
            "colorbar": {
             "outlinewidth": 1,
             "tickcolor": "rgb(36,36,36)",
             "ticks": "outside"
            },
            "colorscale": [
             [
              0,
              "#440154"
             ],
             [
              0.1111111111111111,
              "#482878"
             ],
             [
              0.2222222222222222,
              "#3e4989"
             ],
             [
              0.3333333333333333,
              "#31688e"
             ],
             [
              0.4444444444444444,
              "#26828e"
             ],
             [
              0.5555555555555556,
              "#1f9e89"
             ],
             [
              0.6666666666666666,
              "#35b779"
             ],
             [
              0.7777777777777778,
              "#6ece58"
             ],
             [
              0.8888888888888888,
              "#b5de2b"
             ],
             [
              1,
              "#fde725"
             ]
            ],
            "type": "contour"
           }
          ],
          "contourcarpet": [
           {
            "colorbar": {
             "outlinewidth": 1,
             "tickcolor": "rgb(36,36,36)",
             "ticks": "outside"
            },
            "type": "contourcarpet"
           }
          ],
          "heatmap": [
           {
            "colorbar": {
             "outlinewidth": 1,
             "tickcolor": "rgb(36,36,36)",
             "ticks": "outside"
            },
            "colorscale": [
             [
              0,
              "#440154"
             ],
             [
              0.1111111111111111,
              "#482878"
             ],
             [
              0.2222222222222222,
              "#3e4989"
             ],
             [
              0.3333333333333333,
              "#31688e"
             ],
             [
              0.4444444444444444,
              "#26828e"
             ],
             [
              0.5555555555555556,
              "#1f9e89"
             ],
             [
              0.6666666666666666,
              "#35b779"
             ],
             [
              0.7777777777777778,
              "#6ece58"
             ],
             [
              0.8888888888888888,
              "#b5de2b"
             ],
             [
              1,
              "#fde725"
             ]
            ],
            "type": "heatmap"
           }
          ],
          "heatmapgl": [
           {
            "colorbar": {
             "outlinewidth": 1,
             "tickcolor": "rgb(36,36,36)",
             "ticks": "outside"
            },
            "colorscale": [
             [
              0,
              "#440154"
             ],
             [
              0.1111111111111111,
              "#482878"
             ],
             [
              0.2222222222222222,
              "#3e4989"
             ],
             [
              0.3333333333333333,
              "#31688e"
             ],
             [
              0.4444444444444444,
              "#26828e"
             ],
             [
              0.5555555555555556,
              "#1f9e89"
             ],
             [
              0.6666666666666666,
              "#35b779"
             ],
             [
              0.7777777777777778,
              "#6ece58"
             ],
             [
              0.8888888888888888,
              "#b5de2b"
             ],
             [
              1,
              "#fde725"
             ]
            ],
            "type": "heatmapgl"
           }
          ],
          "histogram": [
           {
            "marker": {
             "line": {
              "color": "white",
              "width": 0.6
             }
            },
            "type": "histogram"
           }
          ],
          "histogram2d": [
           {
            "colorbar": {
             "outlinewidth": 1,
             "tickcolor": "rgb(36,36,36)",
             "ticks": "outside"
            },
            "colorscale": [
             [
              0,
              "#440154"
             ],
             [
              0.1111111111111111,
              "#482878"
             ],
             [
              0.2222222222222222,
              "#3e4989"
             ],
             [
              0.3333333333333333,
              "#31688e"
             ],
             [
              0.4444444444444444,
              "#26828e"
             ],
             [
              0.5555555555555556,
              "#1f9e89"
             ],
             [
              0.6666666666666666,
              "#35b779"
             ],
             [
              0.7777777777777778,
              "#6ece58"
             ],
             [
              0.8888888888888888,
              "#b5de2b"
             ],
             [
              1,
              "#fde725"
             ]
            ],
            "type": "histogram2d"
           }
          ],
          "histogram2dcontour": [
           {
            "colorbar": {
             "outlinewidth": 1,
             "tickcolor": "rgb(36,36,36)",
             "ticks": "outside"
            },
            "colorscale": [
             [
              0,
              "#440154"
             ],
             [
              0.1111111111111111,
              "#482878"
             ],
             [
              0.2222222222222222,
              "#3e4989"
             ],
             [
              0.3333333333333333,
              "#31688e"
             ],
             [
              0.4444444444444444,
              "#26828e"
             ],
             [
              0.5555555555555556,
              "#1f9e89"
             ],
             [
              0.6666666666666666,
              "#35b779"
             ],
             [
              0.7777777777777778,
              "#6ece58"
             ],
             [
              0.8888888888888888,
              "#b5de2b"
             ],
             [
              1,
              "#fde725"
             ]
            ],
            "type": "histogram2dcontour"
           }
          ],
          "mesh3d": [
           {
            "colorbar": {
             "outlinewidth": 1,
             "tickcolor": "rgb(36,36,36)",
             "ticks": "outside"
            },
            "type": "mesh3d"
           }
          ],
          "parcoords": [
           {
            "line": {
             "colorbar": {
              "outlinewidth": 1,
              "tickcolor": "rgb(36,36,36)",
              "ticks": "outside"
             }
            },
            "type": "parcoords"
           }
          ],
          "pie": [
           {
            "automargin": true,
            "type": "pie"
           }
          ],
          "scatter": [
           {
            "fillpattern": {
             "fillmode": "overlay",
             "size": 10,
             "solidity": 0.2
            },
            "type": "scatter"
           }
          ],
          "scatter3d": [
           {
            "line": {
             "colorbar": {
              "outlinewidth": 1,
              "tickcolor": "rgb(36,36,36)",
              "ticks": "outside"
             }
            },
            "marker": {
             "colorbar": {
              "outlinewidth": 1,
              "tickcolor": "rgb(36,36,36)",
              "ticks": "outside"
             }
            },
            "type": "scatter3d"
           }
          ],
          "scattercarpet": [
           {
            "marker": {
             "colorbar": {
              "outlinewidth": 1,
              "tickcolor": "rgb(36,36,36)",
              "ticks": "outside"
             }
            },
            "type": "scattercarpet"
           }
          ],
          "scattergeo": [
           {
            "marker": {
             "colorbar": {
              "outlinewidth": 1,
              "tickcolor": "rgb(36,36,36)",
              "ticks": "outside"
             }
            },
            "type": "scattergeo"
           }
          ],
          "scattergl": [
           {
            "marker": {
             "colorbar": {
              "outlinewidth": 1,
              "tickcolor": "rgb(36,36,36)",
              "ticks": "outside"
             }
            },
            "type": "scattergl"
           }
          ],
          "scattermapbox": [
           {
            "marker": {
             "colorbar": {
              "outlinewidth": 1,
              "tickcolor": "rgb(36,36,36)",
              "ticks": "outside"
             }
            },
            "type": "scattermapbox"
           }
          ],
          "scatterpolar": [
           {
            "marker": {
             "colorbar": {
              "outlinewidth": 1,
              "tickcolor": "rgb(36,36,36)",
              "ticks": "outside"
             }
            },
            "type": "scatterpolar"
           }
          ],
          "scatterpolargl": [
           {
            "marker": {
             "colorbar": {
              "outlinewidth": 1,
              "tickcolor": "rgb(36,36,36)",
              "ticks": "outside"
             }
            },
            "type": "scatterpolargl"
           }
          ],
          "scatterternary": [
           {
            "marker": {
             "colorbar": {
              "outlinewidth": 1,
              "tickcolor": "rgb(36,36,36)",
              "ticks": "outside"
             }
            },
            "type": "scatterternary"
           }
          ],
          "surface": [
           {
            "colorbar": {
             "outlinewidth": 1,
             "tickcolor": "rgb(36,36,36)",
             "ticks": "outside"
            },
            "colorscale": [
             [
              0,
              "#440154"
             ],
             [
              0.1111111111111111,
              "#482878"
             ],
             [
              0.2222222222222222,
              "#3e4989"
             ],
             [
              0.3333333333333333,
              "#31688e"
             ],
             [
              0.4444444444444444,
              "#26828e"
             ],
             [
              0.5555555555555556,
              "#1f9e89"
             ],
             [
              0.6666666666666666,
              "#35b779"
             ],
             [
              0.7777777777777778,
              "#6ece58"
             ],
             [
              0.8888888888888888,
              "#b5de2b"
             ],
             [
              1,
              "#fde725"
             ]
            ],
            "type": "surface"
           }
          ],
          "table": [
           {
            "cells": {
             "fill": {
              "color": "rgb(237,237,237)"
             },
             "line": {
              "color": "white"
             }
            },
            "header": {
             "fill": {
              "color": "rgb(217,217,217)"
             },
             "line": {
              "color": "white"
             }
            },
            "type": "table"
           }
          ]
         },
         "layout": {
          "annotationdefaults": {
           "arrowhead": 0,
           "arrowwidth": 1
          },
          "autotypenumbers": "strict",
          "coloraxis": {
           "colorbar": {
            "outlinewidth": 1,
            "tickcolor": "rgb(36,36,36)",
            "ticks": "outside"
           }
          },
          "colorscale": {
           "diverging": [
            [
             0,
             "rgb(103,0,31)"
            ],
            [
             0.1,
             "rgb(178,24,43)"
            ],
            [
             0.2,
             "rgb(214,96,77)"
            ],
            [
             0.3,
             "rgb(244,165,130)"
            ],
            [
             0.4,
             "rgb(253,219,199)"
            ],
            [
             0.5,
             "rgb(247,247,247)"
            ],
            [
             0.6,
             "rgb(209,229,240)"
            ],
            [
             0.7,
             "rgb(146,197,222)"
            ],
            [
             0.8,
             "rgb(67,147,195)"
            ],
            [
             0.9,
             "rgb(33,102,172)"
            ],
            [
             1,
             "rgb(5,48,97)"
            ]
           ],
           "sequential": [
            [
             0,
             "#440154"
            ],
            [
             0.1111111111111111,
             "#482878"
            ],
            [
             0.2222222222222222,
             "#3e4989"
            ],
            [
             0.3333333333333333,
             "#31688e"
            ],
            [
             0.4444444444444444,
             "#26828e"
            ],
            [
             0.5555555555555556,
             "#1f9e89"
            ],
            [
             0.6666666666666666,
             "#35b779"
            ],
            [
             0.7777777777777778,
             "#6ece58"
            ],
            [
             0.8888888888888888,
             "#b5de2b"
            ],
            [
             1,
             "#fde725"
            ]
           ],
           "sequentialminus": [
            [
             0,
             "#440154"
            ],
            [
             0.1111111111111111,
             "#482878"
            ],
            [
             0.2222222222222222,
             "#3e4989"
            ],
            [
             0.3333333333333333,
             "#31688e"
            ],
            [
             0.4444444444444444,
             "#26828e"
            ],
            [
             0.5555555555555556,
             "#1f9e89"
            ],
            [
             0.6666666666666666,
             "#35b779"
            ],
            [
             0.7777777777777778,
             "#6ece58"
            ],
            [
             0.8888888888888888,
             "#b5de2b"
            ],
            [
             1,
             "#fde725"
            ]
           ]
          },
          "colorway": [
           "#1F77B4",
           "#FF7F0E",
           "#2CA02C",
           "#D62728",
           "#9467BD",
           "#8C564B",
           "#E377C2",
           "#7F7F7F",
           "#BCBD22",
           "#17BECF"
          ],
          "font": {
           "color": "rgb(36,36,36)"
          },
          "geo": {
           "bgcolor": "white",
           "lakecolor": "white",
           "landcolor": "white",
           "showlakes": true,
           "showland": true,
           "subunitcolor": "white"
          },
          "hoverlabel": {
           "align": "left"
          },
          "hovermode": "closest",
          "mapbox": {
           "style": "light"
          },
          "paper_bgcolor": "white",
          "plot_bgcolor": "white",
          "polar": {
           "angularaxis": {
            "gridcolor": "rgb(232,232,232)",
            "linecolor": "rgb(36,36,36)",
            "showgrid": false,
            "showline": true,
            "ticks": "outside"
           },
           "bgcolor": "white",
           "radialaxis": {
            "gridcolor": "rgb(232,232,232)",
            "linecolor": "rgb(36,36,36)",
            "showgrid": false,
            "showline": true,
            "ticks": "outside"
           }
          },
          "scene": {
           "xaxis": {
            "backgroundcolor": "white",
            "gridcolor": "rgb(232,232,232)",
            "gridwidth": 2,
            "linecolor": "rgb(36,36,36)",
            "showbackground": true,
            "showgrid": false,
            "showline": true,
            "ticks": "outside",
            "zeroline": false,
            "zerolinecolor": "rgb(36,36,36)"
           },
           "yaxis": {
            "backgroundcolor": "white",
            "gridcolor": "rgb(232,232,232)",
            "gridwidth": 2,
            "linecolor": "rgb(36,36,36)",
            "showbackground": true,
            "showgrid": false,
            "showline": true,
            "ticks": "outside",
            "zeroline": false,
            "zerolinecolor": "rgb(36,36,36)"
           },
           "zaxis": {
            "backgroundcolor": "white",
            "gridcolor": "rgb(232,232,232)",
            "gridwidth": 2,
            "linecolor": "rgb(36,36,36)",
            "showbackground": true,
            "showgrid": false,
            "showline": true,
            "ticks": "outside",
            "zeroline": false,
            "zerolinecolor": "rgb(36,36,36)"
           }
          },
          "shapedefaults": {
           "fillcolor": "black",
           "line": {
            "width": 0
           },
           "opacity": 0.3
          },
          "ternary": {
           "aaxis": {
            "gridcolor": "rgb(232,232,232)",
            "linecolor": "rgb(36,36,36)",
            "showgrid": false,
            "showline": true,
            "ticks": "outside"
           },
           "baxis": {
            "gridcolor": "rgb(232,232,232)",
            "linecolor": "rgb(36,36,36)",
            "showgrid": false,
            "showline": true,
            "ticks": "outside"
           },
           "bgcolor": "white",
           "caxis": {
            "gridcolor": "rgb(232,232,232)",
            "linecolor": "rgb(36,36,36)",
            "showgrid": false,
            "showline": true,
            "ticks": "outside"
           }
          },
          "title": {
           "x": 0.05
          },
          "xaxis": {
           "automargin": true,
           "gridcolor": "rgb(232,232,232)",
           "linecolor": "rgb(36,36,36)",
           "showgrid": false,
           "showline": true,
           "ticks": "outside",
           "title": {
            "standoff": 15
           },
           "zeroline": false,
           "zerolinecolor": "rgb(36,36,36)"
          },
          "yaxis": {
           "automargin": true,
           "gridcolor": "rgb(232,232,232)",
           "linecolor": "rgb(36,36,36)",
           "showgrid": false,
           "showline": true,
           "ticks": "outside",
           "title": {
            "standoff": 15
           },
           "zeroline": false,
           "zerolinecolor": "rgb(36,36,36)"
          }
         }
        },
        "title": {
         "font": {
          "size": 20
         },
         "text": "Optimal Material Combinations to Comprise Desired Composite",
         "x": 0.15
        }
       }
      }
     },
     "metadata": {},
     "output_type": "display_data"
    },
    {
     "data": {
      "application/vnd.plotly.v1+json": {
       "config": {
        "plotlyServerURL": "https://plot.ly"
       },
       "data": [
        {
         "cells": {
          "align": "left",
          "fill": {
           "color": [
            [
             "white",
             "lightgrey",
             "white",
             "lightgrey",
             "white"
            ]
           ]
          },
          "font": {
           "size": 12
          },
          "height": 30,
          "values": [
           [
            {
             "mp-3536": {
              "bulk_modulus": 182.861,
              "elec_cond": 77.0117,
              "shear_modulus": 107.669,
              "therm_cond": 0.000316911,
              "universal_anisotropy": 1.062
             }
            },
            {
             "mp-3536": {
              "bulk_modulus": 182.861,
              "elec_cond": 77.0117,
              "shear_modulus": 107.669,
              "therm_cond": 0.000316911,
              "universal_anisotropy": 1.062
             }
            },
            {
             "mp-3536": {
              "bulk_modulus": 182.861,
              "elec_cond": 77.0117,
              "shear_modulus": 107.669,
              "therm_cond": 0.000316911,
              "universal_anisotropy": 1.062
             }
            },
            {
             "mp-3536": {
              "bulk_modulus": 182.861,
              "elec_cond": 77.0117,
              "shear_modulus": 107.669,
              "therm_cond": 0.000316911,
              "universal_anisotropy": 1.062
             }
            },
            {
             "mp-3536": {
              "bulk_modulus": 182.861,
              "elec_cond": 77.0117,
              "shear_modulus": 107.669,
              "therm_cond": 0.000316911,
              "universal_anisotropy": 1.062
             }
            }
           ],
           [
            {
             "mp-5924": {
              "bulk_modulus": 193.509,
              "elec_cond": 64.5658,
              "shear_modulus": 113.741,
              "therm_cond": 0.000300167,
              "universal_anisotropy": 1.091
             }
            },
            {
             "mp-5924": {
              "bulk_modulus": 193.509,
              "elec_cond": 64.5658,
              "shear_modulus": 113.741,
              "therm_cond": 0.000300167,
              "universal_anisotropy": 1.091
             }
            },
            {
             "mp-5924": {
              "bulk_modulus": 193.509,
              "elec_cond": 64.5658,
              "shear_modulus": 113.741,
              "therm_cond": 0.000300167,
              "universal_anisotropy": 1.091
             }
            },
            {
             "mp-5924": {
              "bulk_modulus": 193.509,
              "elec_cond": 64.5658,
              "shear_modulus": 113.741,
              "therm_cond": 0.000300167,
              "universal_anisotropy": 1.091
             }
            },
            {
             "mp-5924": {
              "bulk_modulus": 193.509,
              "elec_cond": 64.5658,
              "shear_modulus": 113.741,
              "therm_cond": 0.000300167,
              "universal_anisotropy": 1.091
             }
            }
           ],
           [
            {
             "mp-3536": {
              "bulk_modulus": 182.861,
              "elec_cond": 77.0117,
              "shear_modulus": 107.669,
              "therm_cond": 0.000316911,
              "universal_anisotropy": 1.062
             }
            },
            {
             "mp-3536": {
              "bulk_modulus": 182.861,
              "elec_cond": 77.0117,
              "shear_modulus": 107.669,
              "therm_cond": 0.000316911,
              "universal_anisotropy": 1.062
             }
            },
            {
             "mp-3536": {
              "bulk_modulus": 182.861,
              "elec_cond": 77.0117,
              "shear_modulus": 107.669,
              "therm_cond": 0.000316911,
              "universal_anisotropy": 1.062
             }
            },
            {
             "mp-3536": {
              "bulk_modulus": 182.861,
              "elec_cond": 77.0117,
              "shear_modulus": 107.669,
              "therm_cond": 0.000316911,
              "universal_anisotropy": 1.062
             }
            },
            {
             "mp-3536": {
              "bulk_modulus": 182.861,
              "elec_cond": 77.0117,
              "shear_modulus": 107.669,
              "therm_cond": 0.000316911,
              "universal_anisotropy": 1.062
             }
            }
           ],
           [
            77.0117,
            77.0117,
            77.0117,
            77.0117,
            77.0117
           ],
           [
            64.5658,
            64.5658,
            64.5658,
            64.5658,
            64.5658
           ],
           [
            77.0117,
            77.0117,
            77.0117,
            77.0117,
            77.0117
           ],
           [
            0.000316911,
            0.000316911,
            0.000316911,
            0.000316911,
            0.000316911
           ],
           [
            0.000300167,
            0.000300167,
            0.000300167,
            0.000300167,
            0.000300167
           ],
           [
            0.000316911,
            0.000316911,
            0.000316911,
            0.000316911,
            0.000316911
           ],
           [
            182.861,
            182.861,
            182.861,
            182.861,
            182.861
           ],
           [
            193.509,
            193.509,
            193.509,
            193.509,
            193.509
           ],
           [
            182.861,
            182.861,
            182.861,
            182.861,
            182.861
           ],
           [
            107.669,
            107.669,
            107.669,
            107.669,
            107.669
           ],
           [
            113.741,
            113.741,
            113.741,
            113.741,
            113.741
           ],
           [
            107.669,
            107.669,
            107.669,
            107.669,
            107.669
           ],
           [
            1.062,
            1.062,
            1.062,
            1.062,
            1.062
           ],
           [
            1.091,
            1.091,
            1.091,
            1.091,
            1.091
           ],
           [
            1.062,
            1.062,
            1.062,
            1.062,
            1.062
           ],
           [
            0.1789655172413793,
            0.11137931034482758,
            0.1789655172413793,
            0.1789655172413793,
            0.1789655172413793
           ],
           [
            0.8210344827586207,
            0.8886206896551724,
            0.9562068965517241,
            0.99,
            0.9224137931034482
           ],
           [
            0,
            0,
            -0.1351724137931034,
            -0.16896551724137931,
            -0.1013793103448275
           ],
           [
            18.183261230403033,
            18.809536475740252,
            23.146850684148077,
            24.254357873280547,
            25.175326645147845
           ]
          ]
         },
         "columnwidth": 1000,
         "header": {
          "align": "left",
          "fill": {
           "color": "lavender"
          },
          "font": {
           "size": 12
          },
          "height": 30,
          "values": [
           "Material 1 MP-ID",
           "Material 2 MP-ID",
           "Material 3 MP-ID",
           "Phase 1 Electrical conductivity, [S/m]",
           "Phase 2 Electrical conductivity, [S/m]",
           "Phase 3 Electrical conductivity, [S/m]",
           "Phase 1 Thermal conductivity, [W/m/K]",
           "Phase 2 Thermal conductivity, [W/m/K]",
           "Phase 3 Thermal conductivity, [W/m/K]",
           "Phase 1 Bulk modulus, [GPa]",
           "Phase 2 Bulk modulus, [GPa]",
           "Phase 3 Bulk modulus, [GPa]",
           "Phase 1 Shear modulus, [GPa]",
           "Phase 2 Shear modulus, [GPa]",
           "Phase 3 Shear modulus, [GPa]",
           "Phase 1 Universal anisotropy, []",
           "Phase 2 Universal anisotropy, []",
           "Phase 3 Universal anisotropy, []",
           "Phase 1 Volume Fraction",
           "Phase 2 Volume Fraction",
           "Phase 3 Volume Fraction",
           "cost"
          ]
         },
         "type": "table"
        }
       ],
       "layout": {
        "autosize": true,
        "height": 400,
        "margin": {
         "b": 0,
         "l": 0,
         "r": 0,
         "t": 40
        },
        "template": {
         "data": {
          "bar": [
           {
            "error_x": {
             "color": "rgb(36,36,36)"
            },
            "error_y": {
             "color": "rgb(36,36,36)"
            },
            "marker": {
             "line": {
              "color": "white",
              "width": 0.5
             },
             "pattern": {
              "fillmode": "overlay",
              "size": 10,
              "solidity": 0.2
             }
            },
            "type": "bar"
           }
          ],
          "barpolar": [
           {
            "marker": {
             "line": {
              "color": "white",
              "width": 0.5
             },
             "pattern": {
              "fillmode": "overlay",
              "size": 10,
              "solidity": 0.2
             }
            },
            "type": "barpolar"
           }
          ],
          "carpet": [
           {
            "aaxis": {
             "endlinecolor": "rgb(36,36,36)",
             "gridcolor": "white",
             "linecolor": "white",
             "minorgridcolor": "white",
             "startlinecolor": "rgb(36,36,36)"
            },
            "baxis": {
             "endlinecolor": "rgb(36,36,36)",
             "gridcolor": "white",
             "linecolor": "white",
             "minorgridcolor": "white",
             "startlinecolor": "rgb(36,36,36)"
            },
            "type": "carpet"
           }
          ],
          "choropleth": [
           {
            "colorbar": {
             "outlinewidth": 1,
             "tickcolor": "rgb(36,36,36)",
             "ticks": "outside"
            },
            "type": "choropleth"
           }
          ],
          "contour": [
           {
            "colorbar": {
             "outlinewidth": 1,
             "tickcolor": "rgb(36,36,36)",
             "ticks": "outside"
            },
            "colorscale": [
             [
              0,
              "#440154"
             ],
             [
              0.1111111111111111,
              "#482878"
             ],
             [
              0.2222222222222222,
              "#3e4989"
             ],
             [
              0.3333333333333333,
              "#31688e"
             ],
             [
              0.4444444444444444,
              "#26828e"
             ],
             [
              0.5555555555555556,
              "#1f9e89"
             ],
             [
              0.6666666666666666,
              "#35b779"
             ],
             [
              0.7777777777777778,
              "#6ece58"
             ],
             [
              0.8888888888888888,
              "#b5de2b"
             ],
             [
              1,
              "#fde725"
             ]
            ],
            "type": "contour"
           }
          ],
          "contourcarpet": [
           {
            "colorbar": {
             "outlinewidth": 1,
             "tickcolor": "rgb(36,36,36)",
             "ticks": "outside"
            },
            "type": "contourcarpet"
           }
          ],
          "heatmap": [
           {
            "colorbar": {
             "outlinewidth": 1,
             "tickcolor": "rgb(36,36,36)",
             "ticks": "outside"
            },
            "colorscale": [
             [
              0,
              "#440154"
             ],
             [
              0.1111111111111111,
              "#482878"
             ],
             [
              0.2222222222222222,
              "#3e4989"
             ],
             [
              0.3333333333333333,
              "#31688e"
             ],
             [
              0.4444444444444444,
              "#26828e"
             ],
             [
              0.5555555555555556,
              "#1f9e89"
             ],
             [
              0.6666666666666666,
              "#35b779"
             ],
             [
              0.7777777777777778,
              "#6ece58"
             ],
             [
              0.8888888888888888,
              "#b5de2b"
             ],
             [
              1,
              "#fde725"
             ]
            ],
            "type": "heatmap"
           }
          ],
          "heatmapgl": [
           {
            "colorbar": {
             "outlinewidth": 1,
             "tickcolor": "rgb(36,36,36)",
             "ticks": "outside"
            },
            "colorscale": [
             [
              0,
              "#440154"
             ],
             [
              0.1111111111111111,
              "#482878"
             ],
             [
              0.2222222222222222,
              "#3e4989"
             ],
             [
              0.3333333333333333,
              "#31688e"
             ],
             [
              0.4444444444444444,
              "#26828e"
             ],
             [
              0.5555555555555556,
              "#1f9e89"
             ],
             [
              0.6666666666666666,
              "#35b779"
             ],
             [
              0.7777777777777778,
              "#6ece58"
             ],
             [
              0.8888888888888888,
              "#b5de2b"
             ],
             [
              1,
              "#fde725"
             ]
            ],
            "type": "heatmapgl"
           }
          ],
          "histogram": [
           {
            "marker": {
             "line": {
              "color": "white",
              "width": 0.6
             }
            },
            "type": "histogram"
           }
          ],
          "histogram2d": [
           {
            "colorbar": {
             "outlinewidth": 1,
             "tickcolor": "rgb(36,36,36)",
             "ticks": "outside"
            },
            "colorscale": [
             [
              0,
              "#440154"
             ],
             [
              0.1111111111111111,
              "#482878"
             ],
             [
              0.2222222222222222,
              "#3e4989"
             ],
             [
              0.3333333333333333,
              "#31688e"
             ],
             [
              0.4444444444444444,
              "#26828e"
             ],
             [
              0.5555555555555556,
              "#1f9e89"
             ],
             [
              0.6666666666666666,
              "#35b779"
             ],
             [
              0.7777777777777778,
              "#6ece58"
             ],
             [
              0.8888888888888888,
              "#b5de2b"
             ],
             [
              1,
              "#fde725"
             ]
            ],
            "type": "histogram2d"
           }
          ],
          "histogram2dcontour": [
           {
            "colorbar": {
             "outlinewidth": 1,
             "tickcolor": "rgb(36,36,36)",
             "ticks": "outside"
            },
            "colorscale": [
             [
              0,
              "#440154"
             ],
             [
              0.1111111111111111,
              "#482878"
             ],
             [
              0.2222222222222222,
              "#3e4989"
             ],
             [
              0.3333333333333333,
              "#31688e"
             ],
             [
              0.4444444444444444,
              "#26828e"
             ],
             [
              0.5555555555555556,
              "#1f9e89"
             ],
             [
              0.6666666666666666,
              "#35b779"
             ],
             [
              0.7777777777777778,
              "#6ece58"
             ],
             [
              0.8888888888888888,
              "#b5de2b"
             ],
             [
              1,
              "#fde725"
             ]
            ],
            "type": "histogram2dcontour"
           }
          ],
          "mesh3d": [
           {
            "colorbar": {
             "outlinewidth": 1,
             "tickcolor": "rgb(36,36,36)",
             "ticks": "outside"
            },
            "type": "mesh3d"
           }
          ],
          "parcoords": [
           {
            "line": {
             "colorbar": {
              "outlinewidth": 1,
              "tickcolor": "rgb(36,36,36)",
              "ticks": "outside"
             }
            },
            "type": "parcoords"
           }
          ],
          "pie": [
           {
            "automargin": true,
            "type": "pie"
           }
          ],
          "scatter": [
           {
            "fillpattern": {
             "fillmode": "overlay",
             "size": 10,
             "solidity": 0.2
            },
            "type": "scatter"
           }
          ],
          "scatter3d": [
           {
            "line": {
             "colorbar": {
              "outlinewidth": 1,
              "tickcolor": "rgb(36,36,36)",
              "ticks": "outside"
             }
            },
            "marker": {
             "colorbar": {
              "outlinewidth": 1,
              "tickcolor": "rgb(36,36,36)",
              "ticks": "outside"
             }
            },
            "type": "scatter3d"
           }
          ],
          "scattercarpet": [
           {
            "marker": {
             "colorbar": {
              "outlinewidth": 1,
              "tickcolor": "rgb(36,36,36)",
              "ticks": "outside"
             }
            },
            "type": "scattercarpet"
           }
          ],
          "scattergeo": [
           {
            "marker": {
             "colorbar": {
              "outlinewidth": 1,
              "tickcolor": "rgb(36,36,36)",
              "ticks": "outside"
             }
            },
            "type": "scattergeo"
           }
          ],
          "scattergl": [
           {
            "marker": {
             "colorbar": {
              "outlinewidth": 1,
              "tickcolor": "rgb(36,36,36)",
              "ticks": "outside"
             }
            },
            "type": "scattergl"
           }
          ],
          "scattermapbox": [
           {
            "marker": {
             "colorbar": {
              "outlinewidth": 1,
              "tickcolor": "rgb(36,36,36)",
              "ticks": "outside"
             }
            },
            "type": "scattermapbox"
           }
          ],
          "scatterpolar": [
           {
            "marker": {
             "colorbar": {
              "outlinewidth": 1,
              "tickcolor": "rgb(36,36,36)",
              "ticks": "outside"
             }
            },
            "type": "scatterpolar"
           }
          ],
          "scatterpolargl": [
           {
            "marker": {
             "colorbar": {
              "outlinewidth": 1,
              "tickcolor": "rgb(36,36,36)",
              "ticks": "outside"
             }
            },
            "type": "scatterpolargl"
           }
          ],
          "scatterternary": [
           {
            "marker": {
             "colorbar": {
              "outlinewidth": 1,
              "tickcolor": "rgb(36,36,36)",
              "ticks": "outside"
             }
            },
            "type": "scatterternary"
           }
          ],
          "surface": [
           {
            "colorbar": {
             "outlinewidth": 1,
             "tickcolor": "rgb(36,36,36)",
             "ticks": "outside"
            },
            "colorscale": [
             [
              0,
              "#440154"
             ],
             [
              0.1111111111111111,
              "#482878"
             ],
             [
              0.2222222222222222,
              "#3e4989"
             ],
             [
              0.3333333333333333,
              "#31688e"
             ],
             [
              0.4444444444444444,
              "#26828e"
             ],
             [
              0.5555555555555556,
              "#1f9e89"
             ],
             [
              0.6666666666666666,
              "#35b779"
             ],
             [
              0.7777777777777778,
              "#6ece58"
             ],
             [
              0.8888888888888888,
              "#b5de2b"
             ],
             [
              1,
              "#fde725"
             ]
            ],
            "type": "surface"
           }
          ],
          "table": [
           {
            "cells": {
             "fill": {
              "color": "rgb(237,237,237)"
             },
             "line": {
              "color": "white"
             }
            },
            "header": {
             "fill": {
              "color": "rgb(217,217,217)"
             },
             "line": {
              "color": "white"
             }
            },
            "type": "table"
           }
          ]
         },
         "layout": {
          "annotationdefaults": {
           "arrowhead": 0,
           "arrowwidth": 1
          },
          "autotypenumbers": "strict",
          "coloraxis": {
           "colorbar": {
            "outlinewidth": 1,
            "tickcolor": "rgb(36,36,36)",
            "ticks": "outside"
           }
          },
          "colorscale": {
           "diverging": [
            [
             0,
             "rgb(103,0,31)"
            ],
            [
             0.1,
             "rgb(178,24,43)"
            ],
            [
             0.2,
             "rgb(214,96,77)"
            ],
            [
             0.3,
             "rgb(244,165,130)"
            ],
            [
             0.4,
             "rgb(253,219,199)"
            ],
            [
             0.5,
             "rgb(247,247,247)"
            ],
            [
             0.6,
             "rgb(209,229,240)"
            ],
            [
             0.7,
             "rgb(146,197,222)"
            ],
            [
             0.8,
             "rgb(67,147,195)"
            ],
            [
             0.9,
             "rgb(33,102,172)"
            ],
            [
             1,
             "rgb(5,48,97)"
            ]
           ],
           "sequential": [
            [
             0,
             "#440154"
            ],
            [
             0.1111111111111111,
             "#482878"
            ],
            [
             0.2222222222222222,
             "#3e4989"
            ],
            [
             0.3333333333333333,
             "#31688e"
            ],
            [
             0.4444444444444444,
             "#26828e"
            ],
            [
             0.5555555555555556,
             "#1f9e89"
            ],
            [
             0.6666666666666666,
             "#35b779"
            ],
            [
             0.7777777777777778,
             "#6ece58"
            ],
            [
             0.8888888888888888,
             "#b5de2b"
            ],
            [
             1,
             "#fde725"
            ]
           ],
           "sequentialminus": [
            [
             0,
             "#440154"
            ],
            [
             0.1111111111111111,
             "#482878"
            ],
            [
             0.2222222222222222,
             "#3e4989"
            ],
            [
             0.3333333333333333,
             "#31688e"
            ],
            [
             0.4444444444444444,
             "#26828e"
            ],
            [
             0.5555555555555556,
             "#1f9e89"
            ],
            [
             0.6666666666666666,
             "#35b779"
            ],
            [
             0.7777777777777778,
             "#6ece58"
            ],
            [
             0.8888888888888888,
             "#b5de2b"
            ],
            [
             1,
             "#fde725"
            ]
           ]
          },
          "colorway": [
           "#1F77B4",
           "#FF7F0E",
           "#2CA02C",
           "#D62728",
           "#9467BD",
           "#8C564B",
           "#E377C2",
           "#7F7F7F",
           "#BCBD22",
           "#17BECF"
          ],
          "font": {
           "color": "rgb(36,36,36)"
          },
          "geo": {
           "bgcolor": "white",
           "lakecolor": "white",
           "landcolor": "white",
           "showlakes": true,
           "showland": true,
           "subunitcolor": "white"
          },
          "hoverlabel": {
           "align": "left"
          },
          "hovermode": "closest",
          "mapbox": {
           "style": "light"
          },
          "paper_bgcolor": "white",
          "plot_bgcolor": "white",
          "polar": {
           "angularaxis": {
            "gridcolor": "rgb(232,232,232)",
            "linecolor": "rgb(36,36,36)",
            "showgrid": false,
            "showline": true,
            "ticks": "outside"
           },
           "bgcolor": "white",
           "radialaxis": {
            "gridcolor": "rgb(232,232,232)",
            "linecolor": "rgb(36,36,36)",
            "showgrid": false,
            "showline": true,
            "ticks": "outside"
           }
          },
          "scene": {
           "xaxis": {
            "backgroundcolor": "white",
            "gridcolor": "rgb(232,232,232)",
            "gridwidth": 2,
            "linecolor": "rgb(36,36,36)",
            "showbackground": true,
            "showgrid": false,
            "showline": true,
            "ticks": "outside",
            "zeroline": false,
            "zerolinecolor": "rgb(36,36,36)"
           },
           "yaxis": {
            "backgroundcolor": "white",
            "gridcolor": "rgb(232,232,232)",
            "gridwidth": 2,
            "linecolor": "rgb(36,36,36)",
            "showbackground": true,
            "showgrid": false,
            "showline": true,
            "ticks": "outside",
            "zeroline": false,
            "zerolinecolor": "rgb(36,36,36)"
           },
           "zaxis": {
            "backgroundcolor": "white",
            "gridcolor": "rgb(232,232,232)",
            "gridwidth": 2,
            "linecolor": "rgb(36,36,36)",
            "showbackground": true,
            "showgrid": false,
            "showline": true,
            "ticks": "outside",
            "zeroline": false,
            "zerolinecolor": "rgb(36,36,36)"
           }
          },
          "shapedefaults": {
           "fillcolor": "black",
           "line": {
            "width": 0
           },
           "opacity": 0.3
          },
          "ternary": {
           "aaxis": {
            "gridcolor": "rgb(232,232,232)",
            "linecolor": "rgb(36,36,36)",
            "showgrid": false,
            "showline": true,
            "ticks": "outside"
           },
           "baxis": {
            "gridcolor": "rgb(232,232,232)",
            "linecolor": "rgb(36,36,36)",
            "showgrid": false,
            "showline": true,
            "ticks": "outside"
           },
           "bgcolor": "white",
           "caxis": {
            "gridcolor": "rgb(232,232,232)",
            "linecolor": "rgb(36,36,36)",
            "showgrid": false,
            "showline": true,
            "ticks": "outside"
           }
          },
          "title": {
           "x": 0.05
          },
          "xaxis": {
           "automargin": true,
           "gridcolor": "rgb(232,232,232)",
           "linecolor": "rgb(36,36,36)",
           "showgrid": false,
           "showline": true,
           "ticks": "outside",
           "title": {
            "standoff": 15
           },
           "zeroline": false,
           "zerolinecolor": "rgb(36,36,36)"
          },
          "yaxis": {
           "automargin": true,
           "gridcolor": "rgb(232,232,232)",
           "linecolor": "rgb(36,36,36)",
           "showgrid": false,
           "showline": true,
           "ticks": "outside",
           "title": {
            "standoff": 15
           },
           "zeroline": false,
           "zerolinecolor": "rgb(36,36,36)"
          }
         }
        },
        "title": {
         "font": {
          "size": 20
         },
         "text": "Optimal Material Combinations to Comprise Desired Composite",
         "x": 0.15
        }
       }
      }
     },
     "metadata": {},
     "output_type": "display_data"
    },
    {
     "data": {
      "application/vnd.plotly.v1+json": {
       "config": {
        "plotlyServerURL": "https://plot.ly"
       },
       "data": [
        {
         "cells": {
          "align": "left",
          "fill": {
           "color": [
            [
             "white",
             "lightgrey",
             "white",
             "lightgrey",
             "white"
            ]
           ]
          },
          "font": {
           "size": 12
          },
          "height": 30,
          "values": [
           [
            {
             "mp-3536": {
              "bulk_modulus": 182.861,
              "elec_cond": 77.0117,
              "shear_modulus": 107.669,
              "therm_cond": 0.000316911,
              "universal_anisotropy": 1.062
             }
            },
            {
             "mp-3536": {
              "bulk_modulus": 182.861,
              "elec_cond": 77.0117,
              "shear_modulus": 107.669,
              "therm_cond": 0.000316911,
              "universal_anisotropy": 1.062
             }
            },
            {
             "mp-3536": {
              "bulk_modulus": 182.861,
              "elec_cond": 77.0117,
              "shear_modulus": 107.669,
              "therm_cond": 0.000316911,
              "universal_anisotropy": 1.062
             }
            },
            {
             "mp-3536": {
              "bulk_modulus": 182.861,
              "elec_cond": 77.0117,
              "shear_modulus": 107.669,
              "therm_cond": 0.000316911,
              "universal_anisotropy": 1.062
             }
            },
            {
             "mp-3536": {
              "bulk_modulus": 182.861,
              "elec_cond": 77.0117,
              "shear_modulus": 107.669,
              "therm_cond": 0.000316911,
              "universal_anisotropy": 1.062
             }
            }
           ],
           [
            {
             "mp-5924": {
              "bulk_modulus": 193.509,
              "elec_cond": 64.5658,
              "shear_modulus": 113.741,
              "therm_cond": 0.000300167,
              "universal_anisotropy": 1.091
             }
            },
            {
             "mp-5924": {
              "bulk_modulus": 193.509,
              "elec_cond": 64.5658,
              "shear_modulus": 113.741,
              "therm_cond": 0.000300167,
              "universal_anisotropy": 1.091
             }
            },
            {
             "mp-5924": {
              "bulk_modulus": 193.509,
              "elec_cond": 64.5658,
              "shear_modulus": 113.741,
              "therm_cond": 0.000300167,
              "universal_anisotropy": 1.091
             }
            },
            {
             "mp-5924": {
              "bulk_modulus": 193.509,
              "elec_cond": 64.5658,
              "shear_modulus": 113.741,
              "therm_cond": 0.000300167,
              "universal_anisotropy": 1.091
             }
            },
            {
             "mp-5924": {
              "bulk_modulus": 193.509,
              "elec_cond": 64.5658,
              "shear_modulus": 113.741,
              "therm_cond": 0.000300167,
              "universal_anisotropy": 1.091
             }
            }
           ],
           [
            {
             "mp-5924": {
              "bulk_modulus": 193.509,
              "elec_cond": 64.5658,
              "shear_modulus": 113.741,
              "therm_cond": 0.000300167,
              "universal_anisotropy": 1.091
             }
            },
            {
             "mp-5924": {
              "bulk_modulus": 193.509,
              "elec_cond": 64.5658,
              "shear_modulus": 113.741,
              "therm_cond": 0.000300167,
              "universal_anisotropy": 1.091
             }
            },
            {
             "mp-5924": {
              "bulk_modulus": 193.509,
              "elec_cond": 64.5658,
              "shear_modulus": 113.741,
              "therm_cond": 0.000300167,
              "universal_anisotropy": 1.091
             }
            },
            {
             "mp-5924": {
              "bulk_modulus": 193.509,
              "elec_cond": 64.5658,
              "shear_modulus": 113.741,
              "therm_cond": 0.000300167,
              "universal_anisotropy": 1.091
             }
            },
            {
             "mp-5924": {
              "bulk_modulus": 193.509,
              "elec_cond": 64.5658,
              "shear_modulus": 113.741,
              "therm_cond": 0.000300167,
              "universal_anisotropy": 1.091
             }
            }
           ],
           [
            77.0117,
            77.0117,
            77.0117,
            77.0117,
            77.0117
           ],
           [
            64.5658,
            64.5658,
            64.5658,
            64.5658,
            64.5658
           ],
           [
            64.5658,
            64.5658,
            64.5658,
            64.5658,
            64.5658
           ],
           [
            0.000316911,
            0.000316911,
            0.000316911,
            0.000316911,
            0.000316911
           ],
           [
            0.000300167,
            0.000300167,
            0.000300167,
            0.000300167,
            0.000300167
           ],
           [
            0.000300167,
            0.000300167,
            0.000300167,
            0.000300167,
            0.000300167
           ],
           [
            182.861,
            182.861,
            182.861,
            182.861,
            182.861
           ],
           [
            193.509,
            193.509,
            193.509,
            193.509,
            193.509
           ],
           [
            193.509,
            193.509,
            193.509,
            193.509,
            193.509
           ],
           [
            107.669,
            107.669,
            107.669,
            107.669,
            107.669
           ],
           [
            113.741,
            113.741,
            113.741,
            113.741,
            113.741
           ],
           [
            113.741,
            113.741,
            113.741,
            113.741,
            113.741
           ],
           [
            1.062,
            1.062,
            1.062,
            1.062,
            1.062
           ],
           [
            1.091,
            1.091,
            1.091,
            1.091,
            1.091
           ],
           [
            1.091,
            1.091,
            1.091,
            1.091,
            1.091
           ],
           [
            0.1789655172413793,
            0.11137931034482758,
            0.1789655172413793,
            0.1789655172413793,
            0.1789655172413793
           ],
           [
            0.8210344827586207,
            0.8886206896551724,
            0.9562068965517241,
            0.99,
            0.9224137931034482
           ],
           [
            0,
            0,
            -0.1351724137931034,
            -0.16896551724137931,
            -0.1013793103448275
           ],
           [
            18.431121618487854,
            19.048551077864943,
            22.82515179594035,
            23.96045833484341,
            24.82447215281952
           ]
          ]
         },
         "columnwidth": 1000,
         "header": {
          "align": "left",
          "fill": {
           "color": "lavender"
          },
          "font": {
           "size": 12
          },
          "height": 30,
          "values": [
           "Material 1 MP-ID",
           "Material 2 MP-ID",
           "Material 3 MP-ID",
           "Phase 1 Electrical conductivity, [S/m]",
           "Phase 2 Electrical conductivity, [S/m]",
           "Phase 3 Electrical conductivity, [S/m]",
           "Phase 1 Thermal conductivity, [W/m/K]",
           "Phase 2 Thermal conductivity, [W/m/K]",
           "Phase 3 Thermal conductivity, [W/m/K]",
           "Phase 1 Bulk modulus, [GPa]",
           "Phase 2 Bulk modulus, [GPa]",
           "Phase 3 Bulk modulus, [GPa]",
           "Phase 1 Shear modulus, [GPa]",
           "Phase 2 Shear modulus, [GPa]",
           "Phase 3 Shear modulus, [GPa]",
           "Phase 1 Universal anisotropy, []",
           "Phase 2 Universal anisotropy, []",
           "Phase 3 Universal anisotropy, []",
           "Phase 1 Volume Fraction",
           "Phase 2 Volume Fraction",
           "Phase 3 Volume Fraction",
           "cost"
          ]
         },
         "type": "table"
        }
       ],
       "layout": {
        "autosize": true,
        "height": 400,
        "margin": {
         "b": 0,
         "l": 0,
         "r": 0,
         "t": 40
        },
        "template": {
         "data": {
          "bar": [
           {
            "error_x": {
             "color": "rgb(36,36,36)"
            },
            "error_y": {
             "color": "rgb(36,36,36)"
            },
            "marker": {
             "line": {
              "color": "white",
              "width": 0.5
             },
             "pattern": {
              "fillmode": "overlay",
              "size": 10,
              "solidity": 0.2
             }
            },
            "type": "bar"
           }
          ],
          "barpolar": [
           {
            "marker": {
             "line": {
              "color": "white",
              "width": 0.5
             },
             "pattern": {
              "fillmode": "overlay",
              "size": 10,
              "solidity": 0.2
             }
            },
            "type": "barpolar"
           }
          ],
          "carpet": [
           {
            "aaxis": {
             "endlinecolor": "rgb(36,36,36)",
             "gridcolor": "white",
             "linecolor": "white",
             "minorgridcolor": "white",
             "startlinecolor": "rgb(36,36,36)"
            },
            "baxis": {
             "endlinecolor": "rgb(36,36,36)",
             "gridcolor": "white",
             "linecolor": "white",
             "minorgridcolor": "white",
             "startlinecolor": "rgb(36,36,36)"
            },
            "type": "carpet"
           }
          ],
          "choropleth": [
           {
            "colorbar": {
             "outlinewidth": 1,
             "tickcolor": "rgb(36,36,36)",
             "ticks": "outside"
            },
            "type": "choropleth"
           }
          ],
          "contour": [
           {
            "colorbar": {
             "outlinewidth": 1,
             "tickcolor": "rgb(36,36,36)",
             "ticks": "outside"
            },
            "colorscale": [
             [
              0,
              "#440154"
             ],
             [
              0.1111111111111111,
              "#482878"
             ],
             [
              0.2222222222222222,
              "#3e4989"
             ],
             [
              0.3333333333333333,
              "#31688e"
             ],
             [
              0.4444444444444444,
              "#26828e"
             ],
             [
              0.5555555555555556,
              "#1f9e89"
             ],
             [
              0.6666666666666666,
              "#35b779"
             ],
             [
              0.7777777777777778,
              "#6ece58"
             ],
             [
              0.8888888888888888,
              "#b5de2b"
             ],
             [
              1,
              "#fde725"
             ]
            ],
            "type": "contour"
           }
          ],
          "contourcarpet": [
           {
            "colorbar": {
             "outlinewidth": 1,
             "tickcolor": "rgb(36,36,36)",
             "ticks": "outside"
            },
            "type": "contourcarpet"
           }
          ],
          "heatmap": [
           {
            "colorbar": {
             "outlinewidth": 1,
             "tickcolor": "rgb(36,36,36)",
             "ticks": "outside"
            },
            "colorscale": [
             [
              0,
              "#440154"
             ],
             [
              0.1111111111111111,
              "#482878"
             ],
             [
              0.2222222222222222,
              "#3e4989"
             ],
             [
              0.3333333333333333,
              "#31688e"
             ],
             [
              0.4444444444444444,
              "#26828e"
             ],
             [
              0.5555555555555556,
              "#1f9e89"
             ],
             [
              0.6666666666666666,
              "#35b779"
             ],
             [
              0.7777777777777778,
              "#6ece58"
             ],
             [
              0.8888888888888888,
              "#b5de2b"
             ],
             [
              1,
              "#fde725"
             ]
            ],
            "type": "heatmap"
           }
          ],
          "heatmapgl": [
           {
            "colorbar": {
             "outlinewidth": 1,
             "tickcolor": "rgb(36,36,36)",
             "ticks": "outside"
            },
            "colorscale": [
             [
              0,
              "#440154"
             ],
             [
              0.1111111111111111,
              "#482878"
             ],
             [
              0.2222222222222222,
              "#3e4989"
             ],
             [
              0.3333333333333333,
              "#31688e"
             ],
             [
              0.4444444444444444,
              "#26828e"
             ],
             [
              0.5555555555555556,
              "#1f9e89"
             ],
             [
              0.6666666666666666,
              "#35b779"
             ],
             [
              0.7777777777777778,
              "#6ece58"
             ],
             [
              0.8888888888888888,
              "#b5de2b"
             ],
             [
              1,
              "#fde725"
             ]
            ],
            "type": "heatmapgl"
           }
          ],
          "histogram": [
           {
            "marker": {
             "line": {
              "color": "white",
              "width": 0.6
             }
            },
            "type": "histogram"
           }
          ],
          "histogram2d": [
           {
            "colorbar": {
             "outlinewidth": 1,
             "tickcolor": "rgb(36,36,36)",
             "ticks": "outside"
            },
            "colorscale": [
             [
              0,
              "#440154"
             ],
             [
              0.1111111111111111,
              "#482878"
             ],
             [
              0.2222222222222222,
              "#3e4989"
             ],
             [
              0.3333333333333333,
              "#31688e"
             ],
             [
              0.4444444444444444,
              "#26828e"
             ],
             [
              0.5555555555555556,
              "#1f9e89"
             ],
             [
              0.6666666666666666,
              "#35b779"
             ],
             [
              0.7777777777777778,
              "#6ece58"
             ],
             [
              0.8888888888888888,
              "#b5de2b"
             ],
             [
              1,
              "#fde725"
             ]
            ],
            "type": "histogram2d"
           }
          ],
          "histogram2dcontour": [
           {
            "colorbar": {
             "outlinewidth": 1,
             "tickcolor": "rgb(36,36,36)",
             "ticks": "outside"
            },
            "colorscale": [
             [
              0,
              "#440154"
             ],
             [
              0.1111111111111111,
              "#482878"
             ],
             [
              0.2222222222222222,
              "#3e4989"
             ],
             [
              0.3333333333333333,
              "#31688e"
             ],
             [
              0.4444444444444444,
              "#26828e"
             ],
             [
              0.5555555555555556,
              "#1f9e89"
             ],
             [
              0.6666666666666666,
              "#35b779"
             ],
             [
              0.7777777777777778,
              "#6ece58"
             ],
             [
              0.8888888888888888,
              "#b5de2b"
             ],
             [
              1,
              "#fde725"
             ]
            ],
            "type": "histogram2dcontour"
           }
          ],
          "mesh3d": [
           {
            "colorbar": {
             "outlinewidth": 1,
             "tickcolor": "rgb(36,36,36)",
             "ticks": "outside"
            },
            "type": "mesh3d"
           }
          ],
          "parcoords": [
           {
            "line": {
             "colorbar": {
              "outlinewidth": 1,
              "tickcolor": "rgb(36,36,36)",
              "ticks": "outside"
             }
            },
            "type": "parcoords"
           }
          ],
          "pie": [
           {
            "automargin": true,
            "type": "pie"
           }
          ],
          "scatter": [
           {
            "fillpattern": {
             "fillmode": "overlay",
             "size": 10,
             "solidity": 0.2
            },
            "type": "scatter"
           }
          ],
          "scatter3d": [
           {
            "line": {
             "colorbar": {
              "outlinewidth": 1,
              "tickcolor": "rgb(36,36,36)",
              "ticks": "outside"
             }
            },
            "marker": {
             "colorbar": {
              "outlinewidth": 1,
              "tickcolor": "rgb(36,36,36)",
              "ticks": "outside"
             }
            },
            "type": "scatter3d"
           }
          ],
          "scattercarpet": [
           {
            "marker": {
             "colorbar": {
              "outlinewidth": 1,
              "tickcolor": "rgb(36,36,36)",
              "ticks": "outside"
             }
            },
            "type": "scattercarpet"
           }
          ],
          "scattergeo": [
           {
            "marker": {
             "colorbar": {
              "outlinewidth": 1,
              "tickcolor": "rgb(36,36,36)",
              "ticks": "outside"
             }
            },
            "type": "scattergeo"
           }
          ],
          "scattergl": [
           {
            "marker": {
             "colorbar": {
              "outlinewidth": 1,
              "tickcolor": "rgb(36,36,36)",
              "ticks": "outside"
             }
            },
            "type": "scattergl"
           }
          ],
          "scattermapbox": [
           {
            "marker": {
             "colorbar": {
              "outlinewidth": 1,
              "tickcolor": "rgb(36,36,36)",
              "ticks": "outside"
             }
            },
            "type": "scattermapbox"
           }
          ],
          "scatterpolar": [
           {
            "marker": {
             "colorbar": {
              "outlinewidth": 1,
              "tickcolor": "rgb(36,36,36)",
              "ticks": "outside"
             }
            },
            "type": "scatterpolar"
           }
          ],
          "scatterpolargl": [
           {
            "marker": {
             "colorbar": {
              "outlinewidth": 1,
              "tickcolor": "rgb(36,36,36)",
              "ticks": "outside"
             }
            },
            "type": "scatterpolargl"
           }
          ],
          "scatterternary": [
           {
            "marker": {
             "colorbar": {
              "outlinewidth": 1,
              "tickcolor": "rgb(36,36,36)",
              "ticks": "outside"
             }
            },
            "type": "scatterternary"
           }
          ],
          "surface": [
           {
            "colorbar": {
             "outlinewidth": 1,
             "tickcolor": "rgb(36,36,36)",
             "ticks": "outside"
            },
            "colorscale": [
             [
              0,
              "#440154"
             ],
             [
              0.1111111111111111,
              "#482878"
             ],
             [
              0.2222222222222222,
              "#3e4989"
             ],
             [
              0.3333333333333333,
              "#31688e"
             ],
             [
              0.4444444444444444,
              "#26828e"
             ],
             [
              0.5555555555555556,
              "#1f9e89"
             ],
             [
              0.6666666666666666,
              "#35b779"
             ],
             [
              0.7777777777777778,
              "#6ece58"
             ],
             [
              0.8888888888888888,
              "#b5de2b"
             ],
             [
              1,
              "#fde725"
             ]
            ],
            "type": "surface"
           }
          ],
          "table": [
           {
            "cells": {
             "fill": {
              "color": "rgb(237,237,237)"
             },
             "line": {
              "color": "white"
             }
            },
            "header": {
             "fill": {
              "color": "rgb(217,217,217)"
             },
             "line": {
              "color": "white"
             }
            },
            "type": "table"
           }
          ]
         },
         "layout": {
          "annotationdefaults": {
           "arrowhead": 0,
           "arrowwidth": 1
          },
          "autotypenumbers": "strict",
          "coloraxis": {
           "colorbar": {
            "outlinewidth": 1,
            "tickcolor": "rgb(36,36,36)",
            "ticks": "outside"
           }
          },
          "colorscale": {
           "diverging": [
            [
             0,
             "rgb(103,0,31)"
            ],
            [
             0.1,
             "rgb(178,24,43)"
            ],
            [
             0.2,
             "rgb(214,96,77)"
            ],
            [
             0.3,
             "rgb(244,165,130)"
            ],
            [
             0.4,
             "rgb(253,219,199)"
            ],
            [
             0.5,
             "rgb(247,247,247)"
            ],
            [
             0.6,
             "rgb(209,229,240)"
            ],
            [
             0.7,
             "rgb(146,197,222)"
            ],
            [
             0.8,
             "rgb(67,147,195)"
            ],
            [
             0.9,
             "rgb(33,102,172)"
            ],
            [
             1,
             "rgb(5,48,97)"
            ]
           ],
           "sequential": [
            [
             0,
             "#440154"
            ],
            [
             0.1111111111111111,
             "#482878"
            ],
            [
             0.2222222222222222,
             "#3e4989"
            ],
            [
             0.3333333333333333,
             "#31688e"
            ],
            [
             0.4444444444444444,
             "#26828e"
            ],
            [
             0.5555555555555556,
             "#1f9e89"
            ],
            [
             0.6666666666666666,
             "#35b779"
            ],
            [
             0.7777777777777778,
             "#6ece58"
            ],
            [
             0.8888888888888888,
             "#b5de2b"
            ],
            [
             1,
             "#fde725"
            ]
           ],
           "sequentialminus": [
            [
             0,
             "#440154"
            ],
            [
             0.1111111111111111,
             "#482878"
            ],
            [
             0.2222222222222222,
             "#3e4989"
            ],
            [
             0.3333333333333333,
             "#31688e"
            ],
            [
             0.4444444444444444,
             "#26828e"
            ],
            [
             0.5555555555555556,
             "#1f9e89"
            ],
            [
             0.6666666666666666,
             "#35b779"
            ],
            [
             0.7777777777777778,
             "#6ece58"
            ],
            [
             0.8888888888888888,
             "#b5de2b"
            ],
            [
             1,
             "#fde725"
            ]
           ]
          },
          "colorway": [
           "#1F77B4",
           "#FF7F0E",
           "#2CA02C",
           "#D62728",
           "#9467BD",
           "#8C564B",
           "#E377C2",
           "#7F7F7F",
           "#BCBD22",
           "#17BECF"
          ],
          "font": {
           "color": "rgb(36,36,36)"
          },
          "geo": {
           "bgcolor": "white",
           "lakecolor": "white",
           "landcolor": "white",
           "showlakes": true,
           "showland": true,
           "subunitcolor": "white"
          },
          "hoverlabel": {
           "align": "left"
          },
          "hovermode": "closest",
          "mapbox": {
           "style": "light"
          },
          "paper_bgcolor": "white",
          "plot_bgcolor": "white",
          "polar": {
           "angularaxis": {
            "gridcolor": "rgb(232,232,232)",
            "linecolor": "rgb(36,36,36)",
            "showgrid": false,
            "showline": true,
            "ticks": "outside"
           },
           "bgcolor": "white",
           "radialaxis": {
            "gridcolor": "rgb(232,232,232)",
            "linecolor": "rgb(36,36,36)",
            "showgrid": false,
            "showline": true,
            "ticks": "outside"
           }
          },
          "scene": {
           "xaxis": {
            "backgroundcolor": "white",
            "gridcolor": "rgb(232,232,232)",
            "gridwidth": 2,
            "linecolor": "rgb(36,36,36)",
            "showbackground": true,
            "showgrid": false,
            "showline": true,
            "ticks": "outside",
            "zeroline": false,
            "zerolinecolor": "rgb(36,36,36)"
           },
           "yaxis": {
            "backgroundcolor": "white",
            "gridcolor": "rgb(232,232,232)",
            "gridwidth": 2,
            "linecolor": "rgb(36,36,36)",
            "showbackground": true,
            "showgrid": false,
            "showline": true,
            "ticks": "outside",
            "zeroline": false,
            "zerolinecolor": "rgb(36,36,36)"
           },
           "zaxis": {
            "backgroundcolor": "white",
            "gridcolor": "rgb(232,232,232)",
            "gridwidth": 2,
            "linecolor": "rgb(36,36,36)",
            "showbackground": true,
            "showgrid": false,
            "showline": true,
            "ticks": "outside",
            "zeroline": false,
            "zerolinecolor": "rgb(36,36,36)"
           }
          },
          "shapedefaults": {
           "fillcolor": "black",
           "line": {
            "width": 0
           },
           "opacity": 0.3
          },
          "ternary": {
           "aaxis": {
            "gridcolor": "rgb(232,232,232)",
            "linecolor": "rgb(36,36,36)",
            "showgrid": false,
            "showline": true,
            "ticks": "outside"
           },
           "baxis": {
            "gridcolor": "rgb(232,232,232)",
            "linecolor": "rgb(36,36,36)",
            "showgrid": false,
            "showline": true,
            "ticks": "outside"
           },
           "bgcolor": "white",
           "caxis": {
            "gridcolor": "rgb(232,232,232)",
            "linecolor": "rgb(36,36,36)",
            "showgrid": false,
            "showline": true,
            "ticks": "outside"
           }
          },
          "title": {
           "x": 0.05
          },
          "xaxis": {
           "automargin": true,
           "gridcolor": "rgb(232,232,232)",
           "linecolor": "rgb(36,36,36)",
           "showgrid": false,
           "showline": true,
           "ticks": "outside",
           "title": {
            "standoff": 15
           },
           "zeroline": false,
           "zerolinecolor": "rgb(36,36,36)"
          },
          "yaxis": {
           "automargin": true,
           "gridcolor": "rgb(232,232,232)",
           "linecolor": "rgb(36,36,36)",
           "showgrid": false,
           "showline": true,
           "ticks": "outside",
           "title": {
            "standoff": 15
           },
           "zeroline": false,
           "zerolinecolor": "rgb(36,36,36)"
          }
         }
        },
        "title": {
         "font": {
          "size": 20
         },
         "text": "Optimal Material Combinations to Comprise Desired Composite",
         "x": 0.15
        }
       }
      }
     },
     "metadata": {},
     "output_type": "display_data"
    },
    {
     "data": {
      "application/vnd.plotly.v1+json": {
       "config": {
        "plotlyServerURL": "https://plot.ly"
       },
       "data": [
        {
         "cells": {
          "align": "left",
          "fill": {
           "color": [
            [
             "white",
             "lightgrey",
             "white",
             "lightgrey",
             "white"
            ]
           ]
          },
          "font": {
           "size": 12
          },
          "height": 30,
          "values": [
           [
            {
             "mp-5924": {
              "bulk_modulus": 193.509,
              "elec_cond": 64.5658,
              "shear_modulus": 113.741,
              "therm_cond": 0.000300167,
              "universal_anisotropy": 1.091
             }
            },
            {
             "mp-5924": {
              "bulk_modulus": 193.509,
              "elec_cond": 64.5658,
              "shear_modulus": 113.741,
              "therm_cond": 0.000300167,
              "universal_anisotropy": 1.091
             }
            },
            {
             "mp-5924": {
              "bulk_modulus": 193.509,
              "elec_cond": 64.5658,
              "shear_modulus": 113.741,
              "therm_cond": 0.000300167,
              "universal_anisotropy": 1.091
             }
            },
            {
             "mp-5924": {
              "bulk_modulus": 193.509,
              "elec_cond": 64.5658,
              "shear_modulus": 113.741,
              "therm_cond": 0.000300167,
              "universal_anisotropy": 1.091
             }
            },
            {
             "mp-5924": {
              "bulk_modulus": 193.509,
              "elec_cond": 64.5658,
              "shear_modulus": 113.741,
              "therm_cond": 0.000300167,
              "universal_anisotropy": 1.091
             }
            }
           ],
           [
            {
             "mp-752826": {
              "bulk_modulus": 168.258,
              "elec_cond": 41.0475,
              "shear_modulus": 90.134,
              "therm_cond": 0.000111994,
              "universal_anisotropy": 1.271
             }
            },
            {
             "mp-752826": {
              "bulk_modulus": 168.258,
              "elec_cond": 41.0475,
              "shear_modulus": 90.134,
              "therm_cond": 0.000111994,
              "universal_anisotropy": 1.271
             }
            },
            {
             "mp-752826": {
              "bulk_modulus": 168.258,
              "elec_cond": 41.0475,
              "shear_modulus": 90.134,
              "therm_cond": 0.000111994,
              "universal_anisotropy": 1.271
             }
            },
            {
             "mp-752826": {
              "bulk_modulus": 168.258,
              "elec_cond": 41.0475,
              "shear_modulus": 90.134,
              "therm_cond": 0.000111994,
              "universal_anisotropy": 1.271
             }
            },
            {
             "mp-752826": {
              "bulk_modulus": 168.258,
              "elec_cond": 41.0475,
              "shear_modulus": 90.134,
              "therm_cond": 0.000111994,
              "universal_anisotropy": 1.271
             }
            }
           ],
           [
            {
             "mp-752826": {
              "bulk_modulus": 168.258,
              "elec_cond": 41.0475,
              "shear_modulus": 90.134,
              "therm_cond": 0.000111994,
              "universal_anisotropy": 1.271
             }
            },
            {
             "mp-752826": {
              "bulk_modulus": 168.258,
              "elec_cond": 41.0475,
              "shear_modulus": 90.134,
              "therm_cond": 0.000111994,
              "universal_anisotropy": 1.271
             }
            },
            {
             "mp-752826": {
              "bulk_modulus": 168.258,
              "elec_cond": 41.0475,
              "shear_modulus": 90.134,
              "therm_cond": 0.000111994,
              "universal_anisotropy": 1.271
             }
            },
            {
             "mp-752826": {
              "bulk_modulus": 168.258,
              "elec_cond": 41.0475,
              "shear_modulus": 90.134,
              "therm_cond": 0.000111994,
              "universal_anisotropy": 1.271
             }
            },
            {
             "mp-752826": {
              "bulk_modulus": 168.258,
              "elec_cond": 41.0475,
              "shear_modulus": 90.134,
              "therm_cond": 0.000111994,
              "universal_anisotropy": 1.271
             }
            }
           ],
           [
            64.5658,
            64.5658,
            64.5658,
            64.5658,
            64.5658
           ],
           [
            41.0475,
            41.0475,
            41.0475,
            41.0475,
            41.0475
           ],
           [
            41.0475,
            41.0475,
            41.0475,
            41.0475,
            41.0475
           ],
           [
            0.000300167,
            0.000300167,
            0.000300167,
            0.000300167,
            0.000300167
           ],
           [
            0.000111994,
            0.000111994,
            0.000111994,
            0.000111994,
            0.000111994
           ],
           [
            0.000111994,
            0.000111994,
            0.000111994,
            0.000111994,
            0.000111994
           ],
           [
            193.509,
            193.509,
            193.509,
            193.509,
            193.509
           ],
           [
            168.258,
            168.258,
            168.258,
            168.258,
            168.258
           ],
           [
            168.258,
            168.258,
            168.258,
            168.258,
            168.258
           ],
           [
            113.741,
            113.741,
            113.741,
            113.741,
            113.741
           ],
           [
            90.134,
            90.134,
            90.134,
            90.134,
            90.134
           ],
           [
            90.134,
            90.134,
            90.134,
            90.134,
            90.134
           ],
           [
            1.091,
            1.091,
            1.091,
            1.091,
            1.091
           ],
           [
            1.271,
            1.271,
            1.271,
            1.271,
            1.271
           ],
           [
            1.271,
            1.271,
            1.271,
            1.271,
            1.271
           ],
           [
            0.1789655172413793,
            0.11137931034482758,
            0.1789655172413793,
            0.1789655172413793,
            0.1789655172413793
           ],
           [
            0.8210344827586207,
            0.8886206896551724,
            0.9562068965517241,
            0.9224137931034482,
            0.99
           ],
           [
            0,
            0,
            -0.1351724137931034,
            -0.1013793103448275,
            -0.16896551724137931
           ],
           [
            18.684170175234698,
            21.167163573941004,
            27.744967590984682,
            29.422966485785444,
            29.584557432284022
           ]
          ]
         },
         "columnwidth": 1000,
         "header": {
          "align": "left",
          "fill": {
           "color": "lavender"
          },
          "font": {
           "size": 12
          },
          "height": 30,
          "values": [
           "Material 1 MP-ID",
           "Material 2 MP-ID",
           "Material 3 MP-ID",
           "Phase 1 Electrical conductivity, [S/m]",
           "Phase 2 Electrical conductivity, [S/m]",
           "Phase 3 Electrical conductivity, [S/m]",
           "Phase 1 Thermal conductivity, [W/m/K]",
           "Phase 2 Thermal conductivity, [W/m/K]",
           "Phase 3 Thermal conductivity, [W/m/K]",
           "Phase 1 Bulk modulus, [GPa]",
           "Phase 2 Bulk modulus, [GPa]",
           "Phase 3 Bulk modulus, [GPa]",
           "Phase 1 Shear modulus, [GPa]",
           "Phase 2 Shear modulus, [GPa]",
           "Phase 3 Shear modulus, [GPa]",
           "Phase 1 Universal anisotropy, []",
           "Phase 2 Universal anisotropy, []",
           "Phase 3 Universal anisotropy, []",
           "Phase 1 Volume Fraction",
           "Phase 2 Volume Fraction",
           "Phase 3 Volume Fraction",
           "cost"
          ]
         },
         "type": "table"
        }
       ],
       "layout": {
        "autosize": true,
        "height": 400,
        "margin": {
         "b": 0,
         "l": 0,
         "r": 0,
         "t": 40
        },
        "template": {
         "data": {
          "bar": [
           {
            "error_x": {
             "color": "rgb(36,36,36)"
            },
            "error_y": {
             "color": "rgb(36,36,36)"
            },
            "marker": {
             "line": {
              "color": "white",
              "width": 0.5
             },
             "pattern": {
              "fillmode": "overlay",
              "size": 10,
              "solidity": 0.2
             }
            },
            "type": "bar"
           }
          ],
          "barpolar": [
           {
            "marker": {
             "line": {
              "color": "white",
              "width": 0.5
             },
             "pattern": {
              "fillmode": "overlay",
              "size": 10,
              "solidity": 0.2
             }
            },
            "type": "barpolar"
           }
          ],
          "carpet": [
           {
            "aaxis": {
             "endlinecolor": "rgb(36,36,36)",
             "gridcolor": "white",
             "linecolor": "white",
             "minorgridcolor": "white",
             "startlinecolor": "rgb(36,36,36)"
            },
            "baxis": {
             "endlinecolor": "rgb(36,36,36)",
             "gridcolor": "white",
             "linecolor": "white",
             "minorgridcolor": "white",
             "startlinecolor": "rgb(36,36,36)"
            },
            "type": "carpet"
           }
          ],
          "choropleth": [
           {
            "colorbar": {
             "outlinewidth": 1,
             "tickcolor": "rgb(36,36,36)",
             "ticks": "outside"
            },
            "type": "choropleth"
           }
          ],
          "contour": [
           {
            "colorbar": {
             "outlinewidth": 1,
             "tickcolor": "rgb(36,36,36)",
             "ticks": "outside"
            },
            "colorscale": [
             [
              0,
              "#440154"
             ],
             [
              0.1111111111111111,
              "#482878"
             ],
             [
              0.2222222222222222,
              "#3e4989"
             ],
             [
              0.3333333333333333,
              "#31688e"
             ],
             [
              0.4444444444444444,
              "#26828e"
             ],
             [
              0.5555555555555556,
              "#1f9e89"
             ],
             [
              0.6666666666666666,
              "#35b779"
             ],
             [
              0.7777777777777778,
              "#6ece58"
             ],
             [
              0.8888888888888888,
              "#b5de2b"
             ],
             [
              1,
              "#fde725"
             ]
            ],
            "type": "contour"
           }
          ],
          "contourcarpet": [
           {
            "colorbar": {
             "outlinewidth": 1,
             "tickcolor": "rgb(36,36,36)",
             "ticks": "outside"
            },
            "type": "contourcarpet"
           }
          ],
          "heatmap": [
           {
            "colorbar": {
             "outlinewidth": 1,
             "tickcolor": "rgb(36,36,36)",
             "ticks": "outside"
            },
            "colorscale": [
             [
              0,
              "#440154"
             ],
             [
              0.1111111111111111,
              "#482878"
             ],
             [
              0.2222222222222222,
              "#3e4989"
             ],
             [
              0.3333333333333333,
              "#31688e"
             ],
             [
              0.4444444444444444,
              "#26828e"
             ],
             [
              0.5555555555555556,
              "#1f9e89"
             ],
             [
              0.6666666666666666,
              "#35b779"
             ],
             [
              0.7777777777777778,
              "#6ece58"
             ],
             [
              0.8888888888888888,
              "#b5de2b"
             ],
             [
              1,
              "#fde725"
             ]
            ],
            "type": "heatmap"
           }
          ],
          "heatmapgl": [
           {
            "colorbar": {
             "outlinewidth": 1,
             "tickcolor": "rgb(36,36,36)",
             "ticks": "outside"
            },
            "colorscale": [
             [
              0,
              "#440154"
             ],
             [
              0.1111111111111111,
              "#482878"
             ],
             [
              0.2222222222222222,
              "#3e4989"
             ],
             [
              0.3333333333333333,
              "#31688e"
             ],
             [
              0.4444444444444444,
              "#26828e"
             ],
             [
              0.5555555555555556,
              "#1f9e89"
             ],
             [
              0.6666666666666666,
              "#35b779"
             ],
             [
              0.7777777777777778,
              "#6ece58"
             ],
             [
              0.8888888888888888,
              "#b5de2b"
             ],
             [
              1,
              "#fde725"
             ]
            ],
            "type": "heatmapgl"
           }
          ],
          "histogram": [
           {
            "marker": {
             "line": {
              "color": "white",
              "width": 0.6
             }
            },
            "type": "histogram"
           }
          ],
          "histogram2d": [
           {
            "colorbar": {
             "outlinewidth": 1,
             "tickcolor": "rgb(36,36,36)",
             "ticks": "outside"
            },
            "colorscale": [
             [
              0,
              "#440154"
             ],
             [
              0.1111111111111111,
              "#482878"
             ],
             [
              0.2222222222222222,
              "#3e4989"
             ],
             [
              0.3333333333333333,
              "#31688e"
             ],
             [
              0.4444444444444444,
              "#26828e"
             ],
             [
              0.5555555555555556,
              "#1f9e89"
             ],
             [
              0.6666666666666666,
              "#35b779"
             ],
             [
              0.7777777777777778,
              "#6ece58"
             ],
             [
              0.8888888888888888,
              "#b5de2b"
             ],
             [
              1,
              "#fde725"
             ]
            ],
            "type": "histogram2d"
           }
          ],
          "histogram2dcontour": [
           {
            "colorbar": {
             "outlinewidth": 1,
             "tickcolor": "rgb(36,36,36)",
             "ticks": "outside"
            },
            "colorscale": [
             [
              0,
              "#440154"
             ],
             [
              0.1111111111111111,
              "#482878"
             ],
             [
              0.2222222222222222,
              "#3e4989"
             ],
             [
              0.3333333333333333,
              "#31688e"
             ],
             [
              0.4444444444444444,
              "#26828e"
             ],
             [
              0.5555555555555556,
              "#1f9e89"
             ],
             [
              0.6666666666666666,
              "#35b779"
             ],
             [
              0.7777777777777778,
              "#6ece58"
             ],
             [
              0.8888888888888888,
              "#b5de2b"
             ],
             [
              1,
              "#fde725"
             ]
            ],
            "type": "histogram2dcontour"
           }
          ],
          "mesh3d": [
           {
            "colorbar": {
             "outlinewidth": 1,
             "tickcolor": "rgb(36,36,36)",
             "ticks": "outside"
            },
            "type": "mesh3d"
           }
          ],
          "parcoords": [
           {
            "line": {
             "colorbar": {
              "outlinewidth": 1,
              "tickcolor": "rgb(36,36,36)",
              "ticks": "outside"
             }
            },
            "type": "parcoords"
           }
          ],
          "pie": [
           {
            "automargin": true,
            "type": "pie"
           }
          ],
          "scatter": [
           {
            "fillpattern": {
             "fillmode": "overlay",
             "size": 10,
             "solidity": 0.2
            },
            "type": "scatter"
           }
          ],
          "scatter3d": [
           {
            "line": {
             "colorbar": {
              "outlinewidth": 1,
              "tickcolor": "rgb(36,36,36)",
              "ticks": "outside"
             }
            },
            "marker": {
             "colorbar": {
              "outlinewidth": 1,
              "tickcolor": "rgb(36,36,36)",
              "ticks": "outside"
             }
            },
            "type": "scatter3d"
           }
          ],
          "scattercarpet": [
           {
            "marker": {
             "colorbar": {
              "outlinewidth": 1,
              "tickcolor": "rgb(36,36,36)",
              "ticks": "outside"
             }
            },
            "type": "scattercarpet"
           }
          ],
          "scattergeo": [
           {
            "marker": {
             "colorbar": {
              "outlinewidth": 1,
              "tickcolor": "rgb(36,36,36)",
              "ticks": "outside"
             }
            },
            "type": "scattergeo"
           }
          ],
          "scattergl": [
           {
            "marker": {
             "colorbar": {
              "outlinewidth": 1,
              "tickcolor": "rgb(36,36,36)",
              "ticks": "outside"
             }
            },
            "type": "scattergl"
           }
          ],
          "scattermapbox": [
           {
            "marker": {
             "colorbar": {
              "outlinewidth": 1,
              "tickcolor": "rgb(36,36,36)",
              "ticks": "outside"
             }
            },
            "type": "scattermapbox"
           }
          ],
          "scatterpolar": [
           {
            "marker": {
             "colorbar": {
              "outlinewidth": 1,
              "tickcolor": "rgb(36,36,36)",
              "ticks": "outside"
             }
            },
            "type": "scatterpolar"
           }
          ],
          "scatterpolargl": [
           {
            "marker": {
             "colorbar": {
              "outlinewidth": 1,
              "tickcolor": "rgb(36,36,36)",
              "ticks": "outside"
             }
            },
            "type": "scatterpolargl"
           }
          ],
          "scatterternary": [
           {
            "marker": {
             "colorbar": {
              "outlinewidth": 1,
              "tickcolor": "rgb(36,36,36)",
              "ticks": "outside"
             }
            },
            "type": "scatterternary"
           }
          ],
          "surface": [
           {
            "colorbar": {
             "outlinewidth": 1,
             "tickcolor": "rgb(36,36,36)",
             "ticks": "outside"
            },
            "colorscale": [
             [
              0,
              "#440154"
             ],
             [
              0.1111111111111111,
              "#482878"
             ],
             [
              0.2222222222222222,
              "#3e4989"
             ],
             [
              0.3333333333333333,
              "#31688e"
             ],
             [
              0.4444444444444444,
              "#26828e"
             ],
             [
              0.5555555555555556,
              "#1f9e89"
             ],
             [
              0.6666666666666666,
              "#35b779"
             ],
             [
              0.7777777777777778,
              "#6ece58"
             ],
             [
              0.8888888888888888,
              "#b5de2b"
             ],
             [
              1,
              "#fde725"
             ]
            ],
            "type": "surface"
           }
          ],
          "table": [
           {
            "cells": {
             "fill": {
              "color": "rgb(237,237,237)"
             },
             "line": {
              "color": "white"
             }
            },
            "header": {
             "fill": {
              "color": "rgb(217,217,217)"
             },
             "line": {
              "color": "white"
             }
            },
            "type": "table"
           }
          ]
         },
         "layout": {
          "annotationdefaults": {
           "arrowhead": 0,
           "arrowwidth": 1
          },
          "autotypenumbers": "strict",
          "coloraxis": {
           "colorbar": {
            "outlinewidth": 1,
            "tickcolor": "rgb(36,36,36)",
            "ticks": "outside"
           }
          },
          "colorscale": {
           "diverging": [
            [
             0,
             "rgb(103,0,31)"
            ],
            [
             0.1,
             "rgb(178,24,43)"
            ],
            [
             0.2,
             "rgb(214,96,77)"
            ],
            [
             0.3,
             "rgb(244,165,130)"
            ],
            [
             0.4,
             "rgb(253,219,199)"
            ],
            [
             0.5,
             "rgb(247,247,247)"
            ],
            [
             0.6,
             "rgb(209,229,240)"
            ],
            [
             0.7,
             "rgb(146,197,222)"
            ],
            [
             0.8,
             "rgb(67,147,195)"
            ],
            [
             0.9,
             "rgb(33,102,172)"
            ],
            [
             1,
             "rgb(5,48,97)"
            ]
           ],
           "sequential": [
            [
             0,
             "#440154"
            ],
            [
             0.1111111111111111,
             "#482878"
            ],
            [
             0.2222222222222222,
             "#3e4989"
            ],
            [
             0.3333333333333333,
             "#31688e"
            ],
            [
             0.4444444444444444,
             "#26828e"
            ],
            [
             0.5555555555555556,
             "#1f9e89"
            ],
            [
             0.6666666666666666,
             "#35b779"
            ],
            [
             0.7777777777777778,
             "#6ece58"
            ],
            [
             0.8888888888888888,
             "#b5de2b"
            ],
            [
             1,
             "#fde725"
            ]
           ],
           "sequentialminus": [
            [
             0,
             "#440154"
            ],
            [
             0.1111111111111111,
             "#482878"
            ],
            [
             0.2222222222222222,
             "#3e4989"
            ],
            [
             0.3333333333333333,
             "#31688e"
            ],
            [
             0.4444444444444444,
             "#26828e"
            ],
            [
             0.5555555555555556,
             "#1f9e89"
            ],
            [
             0.6666666666666666,
             "#35b779"
            ],
            [
             0.7777777777777778,
             "#6ece58"
            ],
            [
             0.8888888888888888,
             "#b5de2b"
            ],
            [
             1,
             "#fde725"
            ]
           ]
          },
          "colorway": [
           "#1F77B4",
           "#FF7F0E",
           "#2CA02C",
           "#D62728",
           "#9467BD",
           "#8C564B",
           "#E377C2",
           "#7F7F7F",
           "#BCBD22",
           "#17BECF"
          ],
          "font": {
           "color": "rgb(36,36,36)"
          },
          "geo": {
           "bgcolor": "white",
           "lakecolor": "white",
           "landcolor": "white",
           "showlakes": true,
           "showland": true,
           "subunitcolor": "white"
          },
          "hoverlabel": {
           "align": "left"
          },
          "hovermode": "closest",
          "mapbox": {
           "style": "light"
          },
          "paper_bgcolor": "white",
          "plot_bgcolor": "white",
          "polar": {
           "angularaxis": {
            "gridcolor": "rgb(232,232,232)",
            "linecolor": "rgb(36,36,36)",
            "showgrid": false,
            "showline": true,
            "ticks": "outside"
           },
           "bgcolor": "white",
           "radialaxis": {
            "gridcolor": "rgb(232,232,232)",
            "linecolor": "rgb(36,36,36)",
            "showgrid": false,
            "showline": true,
            "ticks": "outside"
           }
          },
          "scene": {
           "xaxis": {
            "backgroundcolor": "white",
            "gridcolor": "rgb(232,232,232)",
            "gridwidth": 2,
            "linecolor": "rgb(36,36,36)",
            "showbackground": true,
            "showgrid": false,
            "showline": true,
            "ticks": "outside",
            "zeroline": false,
            "zerolinecolor": "rgb(36,36,36)"
           },
           "yaxis": {
            "backgroundcolor": "white",
            "gridcolor": "rgb(232,232,232)",
            "gridwidth": 2,
            "linecolor": "rgb(36,36,36)",
            "showbackground": true,
            "showgrid": false,
            "showline": true,
            "ticks": "outside",
            "zeroline": false,
            "zerolinecolor": "rgb(36,36,36)"
           },
           "zaxis": {
            "backgroundcolor": "white",
            "gridcolor": "rgb(232,232,232)",
            "gridwidth": 2,
            "linecolor": "rgb(36,36,36)",
            "showbackground": true,
            "showgrid": false,
            "showline": true,
            "ticks": "outside",
            "zeroline": false,
            "zerolinecolor": "rgb(36,36,36)"
           }
          },
          "shapedefaults": {
           "fillcolor": "black",
           "line": {
            "width": 0
           },
           "opacity": 0.3
          },
          "ternary": {
           "aaxis": {
            "gridcolor": "rgb(232,232,232)",
            "linecolor": "rgb(36,36,36)",
            "showgrid": false,
            "showline": true,
            "ticks": "outside"
           },
           "baxis": {
            "gridcolor": "rgb(232,232,232)",
            "linecolor": "rgb(36,36,36)",
            "showgrid": false,
            "showline": true,
            "ticks": "outside"
           },
           "bgcolor": "white",
           "caxis": {
            "gridcolor": "rgb(232,232,232)",
            "linecolor": "rgb(36,36,36)",
            "showgrid": false,
            "showline": true,
            "ticks": "outside"
           }
          },
          "title": {
           "x": 0.05
          },
          "xaxis": {
           "automargin": true,
           "gridcolor": "rgb(232,232,232)",
           "linecolor": "rgb(36,36,36)",
           "showgrid": false,
           "showline": true,
           "ticks": "outside",
           "title": {
            "standoff": 15
           },
           "zeroline": false,
           "zerolinecolor": "rgb(36,36,36)"
          },
          "yaxis": {
           "automargin": true,
           "gridcolor": "rgb(232,232,232)",
           "linecolor": "rgb(36,36,36)",
           "showgrid": false,
           "showline": true,
           "ticks": "outside",
           "title": {
            "standoff": 15
           },
           "zeroline": false,
           "zerolinecolor": "rgb(36,36,36)"
          }
         }
        },
        "title": {
         "font": {
          "size": 20
         },
         "text": "Optimal Material Combinations to Comprise Desired Composite",
         "x": 0.15
        }
       }
      }
     },
     "metadata": {},
     "output_type": "display_data"
    },
    {
     "data": {
      "application/vnd.plotly.v1+json": {
       "config": {
        "plotlyServerURL": "https://plot.ly"
       },
       "data": [
        {
         "cells": {
          "align": "left",
          "fill": {
           "color": [
            [
             "white",
             "lightgrey",
             "white",
             "lightgrey",
             "white"
            ]
           ]
          },
          "font": {
           "size": 12
          },
          "height": 30,
          "values": [
           [
            {
             "mp-5924": {
              "bulk_modulus": 193.509,
              "elec_cond": 64.5658,
              "shear_modulus": 113.741,
              "therm_cond": 0.000300167,
              "universal_anisotropy": 1.091
             }
            },
            {
             "mp-5924": {
              "bulk_modulus": 193.509,
              "elec_cond": 64.5658,
              "shear_modulus": 113.741,
              "therm_cond": 0.000300167,
              "universal_anisotropy": 1.091
             }
            },
            {
             "mp-5924": {
              "bulk_modulus": 193.509,
              "elec_cond": 64.5658,
              "shear_modulus": 113.741,
              "therm_cond": 0.000300167,
              "universal_anisotropy": 1.091
             }
            },
            {
             "mp-5924": {
              "bulk_modulus": 193.509,
              "elec_cond": 64.5658,
              "shear_modulus": 113.741,
              "therm_cond": 0.000300167,
              "universal_anisotropy": 1.091
             }
            },
            {
             "mp-5924": {
              "bulk_modulus": 193.509,
              "elec_cond": 64.5658,
              "shear_modulus": 113.741,
              "therm_cond": 0.000300167,
              "universal_anisotropy": 1.091
             }
            }
           ],
           [
            {
             "mp-752826": {
              "bulk_modulus": 168.258,
              "elec_cond": 41.0475,
              "shear_modulus": 90.134,
              "therm_cond": 0.000111994,
              "universal_anisotropy": 1.271
             }
            },
            {
             "mp-752826": {
              "bulk_modulus": 168.258,
              "elec_cond": 41.0475,
              "shear_modulus": 90.134,
              "therm_cond": 0.000111994,
              "universal_anisotropy": 1.271
             }
            },
            {
             "mp-752826": {
              "bulk_modulus": 168.258,
              "elec_cond": 41.0475,
              "shear_modulus": 90.134,
              "therm_cond": 0.000111994,
              "universal_anisotropy": 1.271
             }
            },
            {
             "mp-752826": {
              "bulk_modulus": 168.258,
              "elec_cond": 41.0475,
              "shear_modulus": 90.134,
              "therm_cond": 0.000111994,
              "universal_anisotropy": 1.271
             }
            },
            {
             "mp-752826": {
              "bulk_modulus": 168.258,
              "elec_cond": 41.0475,
              "shear_modulus": 90.134,
              "therm_cond": 0.000111994,
              "universal_anisotropy": 1.271
             }
            }
           ],
           [
            {
             "mp-3536": {
              "bulk_modulus": 182.861,
              "elec_cond": 77.0117,
              "shear_modulus": 107.669,
              "therm_cond": 0.000316911,
              "universal_anisotropy": 1.062
             }
            },
            {
             "mp-3536": {
              "bulk_modulus": 182.861,
              "elec_cond": 77.0117,
              "shear_modulus": 107.669,
              "therm_cond": 0.000316911,
              "universal_anisotropy": 1.062
             }
            },
            {
             "mp-3536": {
              "bulk_modulus": 182.861,
              "elec_cond": 77.0117,
              "shear_modulus": 107.669,
              "therm_cond": 0.000316911,
              "universal_anisotropy": 1.062
             }
            },
            {
             "mp-3536": {
              "bulk_modulus": 182.861,
              "elec_cond": 77.0117,
              "shear_modulus": 107.669,
              "therm_cond": 0.000316911,
              "universal_anisotropy": 1.062
             }
            },
            {
             "mp-3536": {
              "bulk_modulus": 182.861,
              "elec_cond": 77.0117,
              "shear_modulus": 107.669,
              "therm_cond": 0.000316911,
              "universal_anisotropy": 1.062
             }
            }
           ],
           [
            64.5658,
            64.5658,
            64.5658,
            64.5658,
            64.5658
           ],
           [
            41.0475,
            41.0475,
            41.0475,
            41.0475,
            41.0475
           ],
           [
            77.0117,
            77.0117,
            77.0117,
            77.0117,
            77.0117
           ],
           [
            0.000300167,
            0.000300167,
            0.000300167,
            0.000300167,
            0.000300167
           ],
           [
            0.000111994,
            0.000111994,
            0.000111994,
            0.000111994,
            0.000111994
           ],
           [
            0.000316911,
            0.000316911,
            0.000316911,
            0.000316911,
            0.000316911
           ],
           [
            193.509,
            193.509,
            193.509,
            193.509,
            193.509
           ],
           [
            168.258,
            168.258,
            168.258,
            168.258,
            168.258
           ],
           [
            182.861,
            182.861,
            182.861,
            182.861,
            182.861
           ],
           [
            113.741,
            113.741,
            113.741,
            113.741,
            113.741
           ],
           [
            90.134,
            90.134,
            90.134,
            90.134,
            90.134
           ],
           [
            107.669,
            107.669,
            107.669,
            107.669,
            107.669
           ],
           [
            1.091,
            1.091,
            1.091,
            1.091,
            1.091
           ],
           [
            1.271,
            1.271,
            1.271,
            1.271,
            1.271
           ],
           [
            1.062,
            1.062,
            1.062,
            1.062,
            1.062
           ],
           [
            0.1789655172413793,
            0.11137931034482758,
            0.1789655172413793,
            0.1789655172413793,
            0.1789655172413793
           ],
           [
            0.8210344827586207,
            0.8886206896551724,
            0.9562068965517241,
            0.9224137931034482,
            0.99
           ],
           [
            0,
            0,
            -0.1351724137931034,
            -0.1013793103448275,
            -0.16896551724137931
           ],
           [
            19.074988410078518,
            21.54377490070167,
            27.239824688780036,
            28.87151999709912,
            29.123364918969138
           ]
          ]
         },
         "columnwidth": 1000,
         "header": {
          "align": "left",
          "fill": {
           "color": "lavender"
          },
          "font": {
           "size": 12
          },
          "height": 30,
          "values": [
           "Material 1 MP-ID",
           "Material 2 MP-ID",
           "Material 3 MP-ID",
           "Phase 1 Electrical conductivity, [S/m]",
           "Phase 2 Electrical conductivity, [S/m]",
           "Phase 3 Electrical conductivity, [S/m]",
           "Phase 1 Thermal conductivity, [W/m/K]",
           "Phase 2 Thermal conductivity, [W/m/K]",
           "Phase 3 Thermal conductivity, [W/m/K]",
           "Phase 1 Bulk modulus, [GPa]",
           "Phase 2 Bulk modulus, [GPa]",
           "Phase 3 Bulk modulus, [GPa]",
           "Phase 1 Shear modulus, [GPa]",
           "Phase 2 Shear modulus, [GPa]",
           "Phase 3 Shear modulus, [GPa]",
           "Phase 1 Universal anisotropy, []",
           "Phase 2 Universal anisotropy, []",
           "Phase 3 Universal anisotropy, []",
           "Phase 1 Volume Fraction",
           "Phase 2 Volume Fraction",
           "Phase 3 Volume Fraction",
           "cost"
          ]
         },
         "type": "table"
        }
       ],
       "layout": {
        "autosize": true,
        "height": 400,
        "margin": {
         "b": 0,
         "l": 0,
         "r": 0,
         "t": 40
        },
        "template": {
         "data": {
          "bar": [
           {
            "error_x": {
             "color": "rgb(36,36,36)"
            },
            "error_y": {
             "color": "rgb(36,36,36)"
            },
            "marker": {
             "line": {
              "color": "white",
              "width": 0.5
             },
             "pattern": {
              "fillmode": "overlay",
              "size": 10,
              "solidity": 0.2
             }
            },
            "type": "bar"
           }
          ],
          "barpolar": [
           {
            "marker": {
             "line": {
              "color": "white",
              "width": 0.5
             },
             "pattern": {
              "fillmode": "overlay",
              "size": 10,
              "solidity": 0.2
             }
            },
            "type": "barpolar"
           }
          ],
          "carpet": [
           {
            "aaxis": {
             "endlinecolor": "rgb(36,36,36)",
             "gridcolor": "white",
             "linecolor": "white",
             "minorgridcolor": "white",
             "startlinecolor": "rgb(36,36,36)"
            },
            "baxis": {
             "endlinecolor": "rgb(36,36,36)",
             "gridcolor": "white",
             "linecolor": "white",
             "minorgridcolor": "white",
             "startlinecolor": "rgb(36,36,36)"
            },
            "type": "carpet"
           }
          ],
          "choropleth": [
           {
            "colorbar": {
             "outlinewidth": 1,
             "tickcolor": "rgb(36,36,36)",
             "ticks": "outside"
            },
            "type": "choropleth"
           }
          ],
          "contour": [
           {
            "colorbar": {
             "outlinewidth": 1,
             "tickcolor": "rgb(36,36,36)",
             "ticks": "outside"
            },
            "colorscale": [
             [
              0,
              "#440154"
             ],
             [
              0.1111111111111111,
              "#482878"
             ],
             [
              0.2222222222222222,
              "#3e4989"
             ],
             [
              0.3333333333333333,
              "#31688e"
             ],
             [
              0.4444444444444444,
              "#26828e"
             ],
             [
              0.5555555555555556,
              "#1f9e89"
             ],
             [
              0.6666666666666666,
              "#35b779"
             ],
             [
              0.7777777777777778,
              "#6ece58"
             ],
             [
              0.8888888888888888,
              "#b5de2b"
             ],
             [
              1,
              "#fde725"
             ]
            ],
            "type": "contour"
           }
          ],
          "contourcarpet": [
           {
            "colorbar": {
             "outlinewidth": 1,
             "tickcolor": "rgb(36,36,36)",
             "ticks": "outside"
            },
            "type": "contourcarpet"
           }
          ],
          "heatmap": [
           {
            "colorbar": {
             "outlinewidth": 1,
             "tickcolor": "rgb(36,36,36)",
             "ticks": "outside"
            },
            "colorscale": [
             [
              0,
              "#440154"
             ],
             [
              0.1111111111111111,
              "#482878"
             ],
             [
              0.2222222222222222,
              "#3e4989"
             ],
             [
              0.3333333333333333,
              "#31688e"
             ],
             [
              0.4444444444444444,
              "#26828e"
             ],
             [
              0.5555555555555556,
              "#1f9e89"
             ],
             [
              0.6666666666666666,
              "#35b779"
             ],
             [
              0.7777777777777778,
              "#6ece58"
             ],
             [
              0.8888888888888888,
              "#b5de2b"
             ],
             [
              1,
              "#fde725"
             ]
            ],
            "type": "heatmap"
           }
          ],
          "heatmapgl": [
           {
            "colorbar": {
             "outlinewidth": 1,
             "tickcolor": "rgb(36,36,36)",
             "ticks": "outside"
            },
            "colorscale": [
             [
              0,
              "#440154"
             ],
             [
              0.1111111111111111,
              "#482878"
             ],
             [
              0.2222222222222222,
              "#3e4989"
             ],
             [
              0.3333333333333333,
              "#31688e"
             ],
             [
              0.4444444444444444,
              "#26828e"
             ],
             [
              0.5555555555555556,
              "#1f9e89"
             ],
             [
              0.6666666666666666,
              "#35b779"
             ],
             [
              0.7777777777777778,
              "#6ece58"
             ],
             [
              0.8888888888888888,
              "#b5de2b"
             ],
             [
              1,
              "#fde725"
             ]
            ],
            "type": "heatmapgl"
           }
          ],
          "histogram": [
           {
            "marker": {
             "line": {
              "color": "white",
              "width": 0.6
             }
            },
            "type": "histogram"
           }
          ],
          "histogram2d": [
           {
            "colorbar": {
             "outlinewidth": 1,
             "tickcolor": "rgb(36,36,36)",
             "ticks": "outside"
            },
            "colorscale": [
             [
              0,
              "#440154"
             ],
             [
              0.1111111111111111,
              "#482878"
             ],
             [
              0.2222222222222222,
              "#3e4989"
             ],
             [
              0.3333333333333333,
              "#31688e"
             ],
             [
              0.4444444444444444,
              "#26828e"
             ],
             [
              0.5555555555555556,
              "#1f9e89"
             ],
             [
              0.6666666666666666,
              "#35b779"
             ],
             [
              0.7777777777777778,
              "#6ece58"
             ],
             [
              0.8888888888888888,
              "#b5de2b"
             ],
             [
              1,
              "#fde725"
             ]
            ],
            "type": "histogram2d"
           }
          ],
          "histogram2dcontour": [
           {
            "colorbar": {
             "outlinewidth": 1,
             "tickcolor": "rgb(36,36,36)",
             "ticks": "outside"
            },
            "colorscale": [
             [
              0,
              "#440154"
             ],
             [
              0.1111111111111111,
              "#482878"
             ],
             [
              0.2222222222222222,
              "#3e4989"
             ],
             [
              0.3333333333333333,
              "#31688e"
             ],
             [
              0.4444444444444444,
              "#26828e"
             ],
             [
              0.5555555555555556,
              "#1f9e89"
             ],
             [
              0.6666666666666666,
              "#35b779"
             ],
             [
              0.7777777777777778,
              "#6ece58"
             ],
             [
              0.8888888888888888,
              "#b5de2b"
             ],
             [
              1,
              "#fde725"
             ]
            ],
            "type": "histogram2dcontour"
           }
          ],
          "mesh3d": [
           {
            "colorbar": {
             "outlinewidth": 1,
             "tickcolor": "rgb(36,36,36)",
             "ticks": "outside"
            },
            "type": "mesh3d"
           }
          ],
          "parcoords": [
           {
            "line": {
             "colorbar": {
              "outlinewidth": 1,
              "tickcolor": "rgb(36,36,36)",
              "ticks": "outside"
             }
            },
            "type": "parcoords"
           }
          ],
          "pie": [
           {
            "automargin": true,
            "type": "pie"
           }
          ],
          "scatter": [
           {
            "fillpattern": {
             "fillmode": "overlay",
             "size": 10,
             "solidity": 0.2
            },
            "type": "scatter"
           }
          ],
          "scatter3d": [
           {
            "line": {
             "colorbar": {
              "outlinewidth": 1,
              "tickcolor": "rgb(36,36,36)",
              "ticks": "outside"
             }
            },
            "marker": {
             "colorbar": {
              "outlinewidth": 1,
              "tickcolor": "rgb(36,36,36)",
              "ticks": "outside"
             }
            },
            "type": "scatter3d"
           }
          ],
          "scattercarpet": [
           {
            "marker": {
             "colorbar": {
              "outlinewidth": 1,
              "tickcolor": "rgb(36,36,36)",
              "ticks": "outside"
             }
            },
            "type": "scattercarpet"
           }
          ],
          "scattergeo": [
           {
            "marker": {
             "colorbar": {
              "outlinewidth": 1,
              "tickcolor": "rgb(36,36,36)",
              "ticks": "outside"
             }
            },
            "type": "scattergeo"
           }
          ],
          "scattergl": [
           {
            "marker": {
             "colorbar": {
              "outlinewidth": 1,
              "tickcolor": "rgb(36,36,36)",
              "ticks": "outside"
             }
            },
            "type": "scattergl"
           }
          ],
          "scattermapbox": [
           {
            "marker": {
             "colorbar": {
              "outlinewidth": 1,
              "tickcolor": "rgb(36,36,36)",
              "ticks": "outside"
             }
            },
            "type": "scattermapbox"
           }
          ],
          "scatterpolar": [
           {
            "marker": {
             "colorbar": {
              "outlinewidth": 1,
              "tickcolor": "rgb(36,36,36)",
              "ticks": "outside"
             }
            },
            "type": "scatterpolar"
           }
          ],
          "scatterpolargl": [
           {
            "marker": {
             "colorbar": {
              "outlinewidth": 1,
              "tickcolor": "rgb(36,36,36)",
              "ticks": "outside"
             }
            },
            "type": "scatterpolargl"
           }
          ],
          "scatterternary": [
           {
            "marker": {
             "colorbar": {
              "outlinewidth": 1,
              "tickcolor": "rgb(36,36,36)",
              "ticks": "outside"
             }
            },
            "type": "scatterternary"
           }
          ],
          "surface": [
           {
            "colorbar": {
             "outlinewidth": 1,
             "tickcolor": "rgb(36,36,36)",
             "ticks": "outside"
            },
            "colorscale": [
             [
              0,
              "#440154"
             ],
             [
              0.1111111111111111,
              "#482878"
             ],
             [
              0.2222222222222222,
              "#3e4989"
             ],
             [
              0.3333333333333333,
              "#31688e"
             ],
             [
              0.4444444444444444,
              "#26828e"
             ],
             [
              0.5555555555555556,
              "#1f9e89"
             ],
             [
              0.6666666666666666,
              "#35b779"
             ],
             [
              0.7777777777777778,
              "#6ece58"
             ],
             [
              0.8888888888888888,
              "#b5de2b"
             ],
             [
              1,
              "#fde725"
             ]
            ],
            "type": "surface"
           }
          ],
          "table": [
           {
            "cells": {
             "fill": {
              "color": "rgb(237,237,237)"
             },
             "line": {
              "color": "white"
             }
            },
            "header": {
             "fill": {
              "color": "rgb(217,217,217)"
             },
             "line": {
              "color": "white"
             }
            },
            "type": "table"
           }
          ]
         },
         "layout": {
          "annotationdefaults": {
           "arrowhead": 0,
           "arrowwidth": 1
          },
          "autotypenumbers": "strict",
          "coloraxis": {
           "colorbar": {
            "outlinewidth": 1,
            "tickcolor": "rgb(36,36,36)",
            "ticks": "outside"
           }
          },
          "colorscale": {
           "diverging": [
            [
             0,
             "rgb(103,0,31)"
            ],
            [
             0.1,
             "rgb(178,24,43)"
            ],
            [
             0.2,
             "rgb(214,96,77)"
            ],
            [
             0.3,
             "rgb(244,165,130)"
            ],
            [
             0.4,
             "rgb(253,219,199)"
            ],
            [
             0.5,
             "rgb(247,247,247)"
            ],
            [
             0.6,
             "rgb(209,229,240)"
            ],
            [
             0.7,
             "rgb(146,197,222)"
            ],
            [
             0.8,
             "rgb(67,147,195)"
            ],
            [
             0.9,
             "rgb(33,102,172)"
            ],
            [
             1,
             "rgb(5,48,97)"
            ]
           ],
           "sequential": [
            [
             0,
             "#440154"
            ],
            [
             0.1111111111111111,
             "#482878"
            ],
            [
             0.2222222222222222,
             "#3e4989"
            ],
            [
             0.3333333333333333,
             "#31688e"
            ],
            [
             0.4444444444444444,
             "#26828e"
            ],
            [
             0.5555555555555556,
             "#1f9e89"
            ],
            [
             0.6666666666666666,
             "#35b779"
            ],
            [
             0.7777777777777778,
             "#6ece58"
            ],
            [
             0.8888888888888888,
             "#b5de2b"
            ],
            [
             1,
             "#fde725"
            ]
           ],
           "sequentialminus": [
            [
             0,
             "#440154"
            ],
            [
             0.1111111111111111,
             "#482878"
            ],
            [
             0.2222222222222222,
             "#3e4989"
            ],
            [
             0.3333333333333333,
             "#31688e"
            ],
            [
             0.4444444444444444,
             "#26828e"
            ],
            [
             0.5555555555555556,
             "#1f9e89"
            ],
            [
             0.6666666666666666,
             "#35b779"
            ],
            [
             0.7777777777777778,
             "#6ece58"
            ],
            [
             0.8888888888888888,
             "#b5de2b"
            ],
            [
             1,
             "#fde725"
            ]
           ]
          },
          "colorway": [
           "#1F77B4",
           "#FF7F0E",
           "#2CA02C",
           "#D62728",
           "#9467BD",
           "#8C564B",
           "#E377C2",
           "#7F7F7F",
           "#BCBD22",
           "#17BECF"
          ],
          "font": {
           "color": "rgb(36,36,36)"
          },
          "geo": {
           "bgcolor": "white",
           "lakecolor": "white",
           "landcolor": "white",
           "showlakes": true,
           "showland": true,
           "subunitcolor": "white"
          },
          "hoverlabel": {
           "align": "left"
          },
          "hovermode": "closest",
          "mapbox": {
           "style": "light"
          },
          "paper_bgcolor": "white",
          "plot_bgcolor": "white",
          "polar": {
           "angularaxis": {
            "gridcolor": "rgb(232,232,232)",
            "linecolor": "rgb(36,36,36)",
            "showgrid": false,
            "showline": true,
            "ticks": "outside"
           },
           "bgcolor": "white",
           "radialaxis": {
            "gridcolor": "rgb(232,232,232)",
            "linecolor": "rgb(36,36,36)",
            "showgrid": false,
            "showline": true,
            "ticks": "outside"
           }
          },
          "scene": {
           "xaxis": {
            "backgroundcolor": "white",
            "gridcolor": "rgb(232,232,232)",
            "gridwidth": 2,
            "linecolor": "rgb(36,36,36)",
            "showbackground": true,
            "showgrid": false,
            "showline": true,
            "ticks": "outside",
            "zeroline": false,
            "zerolinecolor": "rgb(36,36,36)"
           },
           "yaxis": {
            "backgroundcolor": "white",
            "gridcolor": "rgb(232,232,232)",
            "gridwidth": 2,
            "linecolor": "rgb(36,36,36)",
            "showbackground": true,
            "showgrid": false,
            "showline": true,
            "ticks": "outside",
            "zeroline": false,
            "zerolinecolor": "rgb(36,36,36)"
           },
           "zaxis": {
            "backgroundcolor": "white",
            "gridcolor": "rgb(232,232,232)",
            "gridwidth": 2,
            "linecolor": "rgb(36,36,36)",
            "showbackground": true,
            "showgrid": false,
            "showline": true,
            "ticks": "outside",
            "zeroline": false,
            "zerolinecolor": "rgb(36,36,36)"
           }
          },
          "shapedefaults": {
           "fillcolor": "black",
           "line": {
            "width": 0
           },
           "opacity": 0.3
          },
          "ternary": {
           "aaxis": {
            "gridcolor": "rgb(232,232,232)",
            "linecolor": "rgb(36,36,36)",
            "showgrid": false,
            "showline": true,
            "ticks": "outside"
           },
           "baxis": {
            "gridcolor": "rgb(232,232,232)",
            "linecolor": "rgb(36,36,36)",
            "showgrid": false,
            "showline": true,
            "ticks": "outside"
           },
           "bgcolor": "white",
           "caxis": {
            "gridcolor": "rgb(232,232,232)",
            "linecolor": "rgb(36,36,36)",
            "showgrid": false,
            "showline": true,
            "ticks": "outside"
           }
          },
          "title": {
           "x": 0.05
          },
          "xaxis": {
           "automargin": true,
           "gridcolor": "rgb(232,232,232)",
           "linecolor": "rgb(36,36,36)",
           "showgrid": false,
           "showline": true,
           "ticks": "outside",
           "title": {
            "standoff": 15
           },
           "zeroline": false,
           "zerolinecolor": "rgb(36,36,36)"
          },
          "yaxis": {
           "automargin": true,
           "gridcolor": "rgb(232,232,232)",
           "linecolor": "rgb(36,36,36)",
           "showgrid": false,
           "showline": true,
           "ticks": "outside",
           "title": {
            "standoff": 15
           },
           "zeroline": false,
           "zerolinecolor": "rgb(36,36,36)"
          }
         }
        },
        "title": {
         "font": {
          "size": 20
         },
         "text": "Optimal Material Combinations to Comprise Desired Composite",
         "x": 0.15
        }
       }
      }
     },
     "metadata": {},
     "output_type": "display_data"
    },
    {
     "data": {
      "application/vnd.plotly.v1+json": {
       "config": {
        "plotlyServerURL": "https://plot.ly"
       },
       "data": [
        {
         "cells": {
          "align": "left",
          "fill": {
           "color": [
            [
             "white",
             "lightgrey",
             "white",
             "lightgrey",
             "white"
            ]
           ]
          },
          "font": {
           "size": 12
          },
          "height": 30,
          "values": [
           [
            {
             "mp-5924": {
              "bulk_modulus": 193.509,
              "elec_cond": 64.5658,
              "shear_modulus": 113.741,
              "therm_cond": 0.000300167,
              "universal_anisotropy": 1.091
             }
            },
            {
             "mp-5924": {
              "bulk_modulus": 193.509,
              "elec_cond": 64.5658,
              "shear_modulus": 113.741,
              "therm_cond": 0.000300167,
              "universal_anisotropy": 1.091
             }
            },
            {
             "mp-5924": {
              "bulk_modulus": 193.509,
              "elec_cond": 64.5658,
              "shear_modulus": 113.741,
              "therm_cond": 0.000300167,
              "universal_anisotropy": 1.091
             }
            },
            {
             "mp-5924": {
              "bulk_modulus": 193.509,
              "elec_cond": 64.5658,
              "shear_modulus": 113.741,
              "therm_cond": 0.000300167,
              "universal_anisotropy": 1.091
             }
            },
            {
             "mp-5924": {
              "bulk_modulus": 193.509,
              "elec_cond": 64.5658,
              "shear_modulus": 113.741,
              "therm_cond": 0.000300167,
              "universal_anisotropy": 1.091
             }
            }
           ],
           [
            {
             "mp-752826": {
              "bulk_modulus": 168.258,
              "elec_cond": 41.0475,
              "shear_modulus": 90.134,
              "therm_cond": 0.000111994,
              "universal_anisotropy": 1.271
             }
            },
            {
             "mp-752826": {
              "bulk_modulus": 168.258,
              "elec_cond": 41.0475,
              "shear_modulus": 90.134,
              "therm_cond": 0.000111994,
              "universal_anisotropy": 1.271
             }
            },
            {
             "mp-752826": {
              "bulk_modulus": 168.258,
              "elec_cond": 41.0475,
              "shear_modulus": 90.134,
              "therm_cond": 0.000111994,
              "universal_anisotropy": 1.271
             }
            },
            {
             "mp-752826": {
              "bulk_modulus": 168.258,
              "elec_cond": 41.0475,
              "shear_modulus": 90.134,
              "therm_cond": 0.000111994,
              "universal_anisotropy": 1.271
             }
            },
            {
             "mp-752826": {
              "bulk_modulus": 168.258,
              "elec_cond": 41.0475,
              "shear_modulus": 90.134,
              "therm_cond": 0.000111994,
              "universal_anisotropy": 1.271
             }
            }
           ],
           [
            {
             "mp-5924": {
              "bulk_modulus": 193.509,
              "elec_cond": 64.5658,
              "shear_modulus": 113.741,
              "therm_cond": 0.000300167,
              "universal_anisotropy": 1.091
             }
            },
            {
             "mp-5924": {
              "bulk_modulus": 193.509,
              "elec_cond": 64.5658,
              "shear_modulus": 113.741,
              "therm_cond": 0.000300167,
              "universal_anisotropy": 1.091
             }
            },
            {
             "mp-5924": {
              "bulk_modulus": 193.509,
              "elec_cond": 64.5658,
              "shear_modulus": 113.741,
              "therm_cond": 0.000300167,
              "universal_anisotropy": 1.091
             }
            },
            {
             "mp-5924": {
              "bulk_modulus": 193.509,
              "elec_cond": 64.5658,
              "shear_modulus": 113.741,
              "therm_cond": 0.000300167,
              "universal_anisotropy": 1.091
             }
            },
            {
             "mp-5924": {
              "bulk_modulus": 193.509,
              "elec_cond": 64.5658,
              "shear_modulus": 113.741,
              "therm_cond": 0.000300167,
              "universal_anisotropy": 1.091
             }
            }
           ],
           [
            64.5658,
            64.5658,
            64.5658,
            64.5658,
            64.5658
           ],
           [
            41.0475,
            41.0475,
            41.0475,
            41.0475,
            41.0475
           ],
           [
            64.5658,
            64.5658,
            64.5658,
            64.5658,
            64.5658
           ],
           [
            0.000300167,
            0.000300167,
            0.000300167,
            0.000300167,
            0.000300167
           ],
           [
            0.000111994,
            0.000111994,
            0.000111994,
            0.000111994,
            0.000111994
           ],
           [
            0.000300167,
            0.000300167,
            0.000300167,
            0.000300167,
            0.000300167
           ],
           [
            193.509,
            193.509,
            193.509,
            193.509,
            193.509
           ],
           [
            168.258,
            168.258,
            168.258,
            168.258,
            168.258
           ],
           [
            193.509,
            193.509,
            193.509,
            193.509,
            193.509
           ],
           [
            113.741,
            113.741,
            113.741,
            113.741,
            113.741
           ],
           [
            90.134,
            90.134,
            90.134,
            90.134,
            90.134
           ],
           [
            113.741,
            113.741,
            113.741,
            113.741,
            113.741
           ],
           [
            1.091,
            1.091,
            1.091,
            1.091,
            1.091
           ],
           [
            1.271,
            1.271,
            1.271,
            1.271,
            1.271
           ],
           [
            1.091,
            1.091,
            1.091,
            1.091,
            1.091
           ],
           [
            0.1789655172413793,
            0.11137931034482758,
            0.1789655172413793,
            0.1789655172413793,
            0.1789655172413793
           ],
           [
            0.8210344827586207,
            0.8886206896551724,
            0.9562068965517241,
            0.9224137931034482,
            0.99
           ],
           [
            0,
            0,
            -0.1351724137931034,
            -0.1013793103448275,
            -0.16896551724137931
           ],
           [
            19.322865970675913,
            21.782800009530696,
            26.921190096323393,
            28.523227004153398,
            28.833055988134674
           ]
          ]
         },
         "columnwidth": 1000,
         "header": {
          "align": "left",
          "fill": {
           "color": "lavender"
          },
          "font": {
           "size": 12
          },
          "height": 30,
          "values": [
           "Material 1 MP-ID",
           "Material 2 MP-ID",
           "Material 3 MP-ID",
           "Phase 1 Electrical conductivity, [S/m]",
           "Phase 2 Electrical conductivity, [S/m]",
           "Phase 3 Electrical conductivity, [S/m]",
           "Phase 1 Thermal conductivity, [W/m/K]",
           "Phase 2 Thermal conductivity, [W/m/K]",
           "Phase 3 Thermal conductivity, [W/m/K]",
           "Phase 1 Bulk modulus, [GPa]",
           "Phase 2 Bulk modulus, [GPa]",
           "Phase 3 Bulk modulus, [GPa]",
           "Phase 1 Shear modulus, [GPa]",
           "Phase 2 Shear modulus, [GPa]",
           "Phase 3 Shear modulus, [GPa]",
           "Phase 1 Universal anisotropy, []",
           "Phase 2 Universal anisotropy, []",
           "Phase 3 Universal anisotropy, []",
           "Phase 1 Volume Fraction",
           "Phase 2 Volume Fraction",
           "Phase 3 Volume Fraction",
           "cost"
          ]
         },
         "type": "table"
        }
       ],
       "layout": {
        "autosize": true,
        "height": 400,
        "margin": {
         "b": 0,
         "l": 0,
         "r": 0,
         "t": 40
        },
        "template": {
         "data": {
          "bar": [
           {
            "error_x": {
             "color": "rgb(36,36,36)"
            },
            "error_y": {
             "color": "rgb(36,36,36)"
            },
            "marker": {
             "line": {
              "color": "white",
              "width": 0.5
             },
             "pattern": {
              "fillmode": "overlay",
              "size": 10,
              "solidity": 0.2
             }
            },
            "type": "bar"
           }
          ],
          "barpolar": [
           {
            "marker": {
             "line": {
              "color": "white",
              "width": 0.5
             },
             "pattern": {
              "fillmode": "overlay",
              "size": 10,
              "solidity": 0.2
             }
            },
            "type": "barpolar"
           }
          ],
          "carpet": [
           {
            "aaxis": {
             "endlinecolor": "rgb(36,36,36)",
             "gridcolor": "white",
             "linecolor": "white",
             "minorgridcolor": "white",
             "startlinecolor": "rgb(36,36,36)"
            },
            "baxis": {
             "endlinecolor": "rgb(36,36,36)",
             "gridcolor": "white",
             "linecolor": "white",
             "minorgridcolor": "white",
             "startlinecolor": "rgb(36,36,36)"
            },
            "type": "carpet"
           }
          ],
          "choropleth": [
           {
            "colorbar": {
             "outlinewidth": 1,
             "tickcolor": "rgb(36,36,36)",
             "ticks": "outside"
            },
            "type": "choropleth"
           }
          ],
          "contour": [
           {
            "colorbar": {
             "outlinewidth": 1,
             "tickcolor": "rgb(36,36,36)",
             "ticks": "outside"
            },
            "colorscale": [
             [
              0,
              "#440154"
             ],
             [
              0.1111111111111111,
              "#482878"
             ],
             [
              0.2222222222222222,
              "#3e4989"
             ],
             [
              0.3333333333333333,
              "#31688e"
             ],
             [
              0.4444444444444444,
              "#26828e"
             ],
             [
              0.5555555555555556,
              "#1f9e89"
             ],
             [
              0.6666666666666666,
              "#35b779"
             ],
             [
              0.7777777777777778,
              "#6ece58"
             ],
             [
              0.8888888888888888,
              "#b5de2b"
             ],
             [
              1,
              "#fde725"
             ]
            ],
            "type": "contour"
           }
          ],
          "contourcarpet": [
           {
            "colorbar": {
             "outlinewidth": 1,
             "tickcolor": "rgb(36,36,36)",
             "ticks": "outside"
            },
            "type": "contourcarpet"
           }
          ],
          "heatmap": [
           {
            "colorbar": {
             "outlinewidth": 1,
             "tickcolor": "rgb(36,36,36)",
             "ticks": "outside"
            },
            "colorscale": [
             [
              0,
              "#440154"
             ],
             [
              0.1111111111111111,
              "#482878"
             ],
             [
              0.2222222222222222,
              "#3e4989"
             ],
             [
              0.3333333333333333,
              "#31688e"
             ],
             [
              0.4444444444444444,
              "#26828e"
             ],
             [
              0.5555555555555556,
              "#1f9e89"
             ],
             [
              0.6666666666666666,
              "#35b779"
             ],
             [
              0.7777777777777778,
              "#6ece58"
             ],
             [
              0.8888888888888888,
              "#b5de2b"
             ],
             [
              1,
              "#fde725"
             ]
            ],
            "type": "heatmap"
           }
          ],
          "heatmapgl": [
           {
            "colorbar": {
             "outlinewidth": 1,
             "tickcolor": "rgb(36,36,36)",
             "ticks": "outside"
            },
            "colorscale": [
             [
              0,
              "#440154"
             ],
             [
              0.1111111111111111,
              "#482878"
             ],
             [
              0.2222222222222222,
              "#3e4989"
             ],
             [
              0.3333333333333333,
              "#31688e"
             ],
             [
              0.4444444444444444,
              "#26828e"
             ],
             [
              0.5555555555555556,
              "#1f9e89"
             ],
             [
              0.6666666666666666,
              "#35b779"
             ],
             [
              0.7777777777777778,
              "#6ece58"
             ],
             [
              0.8888888888888888,
              "#b5de2b"
             ],
             [
              1,
              "#fde725"
             ]
            ],
            "type": "heatmapgl"
           }
          ],
          "histogram": [
           {
            "marker": {
             "line": {
              "color": "white",
              "width": 0.6
             }
            },
            "type": "histogram"
           }
          ],
          "histogram2d": [
           {
            "colorbar": {
             "outlinewidth": 1,
             "tickcolor": "rgb(36,36,36)",
             "ticks": "outside"
            },
            "colorscale": [
             [
              0,
              "#440154"
             ],
             [
              0.1111111111111111,
              "#482878"
             ],
             [
              0.2222222222222222,
              "#3e4989"
             ],
             [
              0.3333333333333333,
              "#31688e"
             ],
             [
              0.4444444444444444,
              "#26828e"
             ],
             [
              0.5555555555555556,
              "#1f9e89"
             ],
             [
              0.6666666666666666,
              "#35b779"
             ],
             [
              0.7777777777777778,
              "#6ece58"
             ],
             [
              0.8888888888888888,
              "#b5de2b"
             ],
             [
              1,
              "#fde725"
             ]
            ],
            "type": "histogram2d"
           }
          ],
          "histogram2dcontour": [
           {
            "colorbar": {
             "outlinewidth": 1,
             "tickcolor": "rgb(36,36,36)",
             "ticks": "outside"
            },
            "colorscale": [
             [
              0,
              "#440154"
             ],
             [
              0.1111111111111111,
              "#482878"
             ],
             [
              0.2222222222222222,
              "#3e4989"
             ],
             [
              0.3333333333333333,
              "#31688e"
             ],
             [
              0.4444444444444444,
              "#26828e"
             ],
             [
              0.5555555555555556,
              "#1f9e89"
             ],
             [
              0.6666666666666666,
              "#35b779"
             ],
             [
              0.7777777777777778,
              "#6ece58"
             ],
             [
              0.8888888888888888,
              "#b5de2b"
             ],
             [
              1,
              "#fde725"
             ]
            ],
            "type": "histogram2dcontour"
           }
          ],
          "mesh3d": [
           {
            "colorbar": {
             "outlinewidth": 1,
             "tickcolor": "rgb(36,36,36)",
             "ticks": "outside"
            },
            "type": "mesh3d"
           }
          ],
          "parcoords": [
           {
            "line": {
             "colorbar": {
              "outlinewidth": 1,
              "tickcolor": "rgb(36,36,36)",
              "ticks": "outside"
             }
            },
            "type": "parcoords"
           }
          ],
          "pie": [
           {
            "automargin": true,
            "type": "pie"
           }
          ],
          "scatter": [
           {
            "fillpattern": {
             "fillmode": "overlay",
             "size": 10,
             "solidity": 0.2
            },
            "type": "scatter"
           }
          ],
          "scatter3d": [
           {
            "line": {
             "colorbar": {
              "outlinewidth": 1,
              "tickcolor": "rgb(36,36,36)",
              "ticks": "outside"
             }
            },
            "marker": {
             "colorbar": {
              "outlinewidth": 1,
              "tickcolor": "rgb(36,36,36)",
              "ticks": "outside"
             }
            },
            "type": "scatter3d"
           }
          ],
          "scattercarpet": [
           {
            "marker": {
             "colorbar": {
              "outlinewidth": 1,
              "tickcolor": "rgb(36,36,36)",
              "ticks": "outside"
             }
            },
            "type": "scattercarpet"
           }
          ],
          "scattergeo": [
           {
            "marker": {
             "colorbar": {
              "outlinewidth": 1,
              "tickcolor": "rgb(36,36,36)",
              "ticks": "outside"
             }
            },
            "type": "scattergeo"
           }
          ],
          "scattergl": [
           {
            "marker": {
             "colorbar": {
              "outlinewidth": 1,
              "tickcolor": "rgb(36,36,36)",
              "ticks": "outside"
             }
            },
            "type": "scattergl"
           }
          ],
          "scattermapbox": [
           {
            "marker": {
             "colorbar": {
              "outlinewidth": 1,
              "tickcolor": "rgb(36,36,36)",
              "ticks": "outside"
             }
            },
            "type": "scattermapbox"
           }
          ],
          "scatterpolar": [
           {
            "marker": {
             "colorbar": {
              "outlinewidth": 1,
              "tickcolor": "rgb(36,36,36)",
              "ticks": "outside"
             }
            },
            "type": "scatterpolar"
           }
          ],
          "scatterpolargl": [
           {
            "marker": {
             "colorbar": {
              "outlinewidth": 1,
              "tickcolor": "rgb(36,36,36)",
              "ticks": "outside"
             }
            },
            "type": "scatterpolargl"
           }
          ],
          "scatterternary": [
           {
            "marker": {
             "colorbar": {
              "outlinewidth": 1,
              "tickcolor": "rgb(36,36,36)",
              "ticks": "outside"
             }
            },
            "type": "scatterternary"
           }
          ],
          "surface": [
           {
            "colorbar": {
             "outlinewidth": 1,
             "tickcolor": "rgb(36,36,36)",
             "ticks": "outside"
            },
            "colorscale": [
             [
              0,
              "#440154"
             ],
             [
              0.1111111111111111,
              "#482878"
             ],
             [
              0.2222222222222222,
              "#3e4989"
             ],
             [
              0.3333333333333333,
              "#31688e"
             ],
             [
              0.4444444444444444,
              "#26828e"
             ],
             [
              0.5555555555555556,
              "#1f9e89"
             ],
             [
              0.6666666666666666,
              "#35b779"
             ],
             [
              0.7777777777777778,
              "#6ece58"
             ],
             [
              0.8888888888888888,
              "#b5de2b"
             ],
             [
              1,
              "#fde725"
             ]
            ],
            "type": "surface"
           }
          ],
          "table": [
           {
            "cells": {
             "fill": {
              "color": "rgb(237,237,237)"
             },
             "line": {
              "color": "white"
             }
            },
            "header": {
             "fill": {
              "color": "rgb(217,217,217)"
             },
             "line": {
              "color": "white"
             }
            },
            "type": "table"
           }
          ]
         },
         "layout": {
          "annotationdefaults": {
           "arrowhead": 0,
           "arrowwidth": 1
          },
          "autotypenumbers": "strict",
          "coloraxis": {
           "colorbar": {
            "outlinewidth": 1,
            "tickcolor": "rgb(36,36,36)",
            "ticks": "outside"
           }
          },
          "colorscale": {
           "diverging": [
            [
             0,
             "rgb(103,0,31)"
            ],
            [
             0.1,
             "rgb(178,24,43)"
            ],
            [
             0.2,
             "rgb(214,96,77)"
            ],
            [
             0.3,
             "rgb(244,165,130)"
            ],
            [
             0.4,
             "rgb(253,219,199)"
            ],
            [
             0.5,
             "rgb(247,247,247)"
            ],
            [
             0.6,
             "rgb(209,229,240)"
            ],
            [
             0.7,
             "rgb(146,197,222)"
            ],
            [
             0.8,
             "rgb(67,147,195)"
            ],
            [
             0.9,
             "rgb(33,102,172)"
            ],
            [
             1,
             "rgb(5,48,97)"
            ]
           ],
           "sequential": [
            [
             0,
             "#440154"
            ],
            [
             0.1111111111111111,
             "#482878"
            ],
            [
             0.2222222222222222,
             "#3e4989"
            ],
            [
             0.3333333333333333,
             "#31688e"
            ],
            [
             0.4444444444444444,
             "#26828e"
            ],
            [
             0.5555555555555556,
             "#1f9e89"
            ],
            [
             0.6666666666666666,
             "#35b779"
            ],
            [
             0.7777777777777778,
             "#6ece58"
            ],
            [
             0.8888888888888888,
             "#b5de2b"
            ],
            [
             1,
             "#fde725"
            ]
           ],
           "sequentialminus": [
            [
             0,
             "#440154"
            ],
            [
             0.1111111111111111,
             "#482878"
            ],
            [
             0.2222222222222222,
             "#3e4989"
            ],
            [
             0.3333333333333333,
             "#31688e"
            ],
            [
             0.4444444444444444,
             "#26828e"
            ],
            [
             0.5555555555555556,
             "#1f9e89"
            ],
            [
             0.6666666666666666,
             "#35b779"
            ],
            [
             0.7777777777777778,
             "#6ece58"
            ],
            [
             0.8888888888888888,
             "#b5de2b"
            ],
            [
             1,
             "#fde725"
            ]
           ]
          },
          "colorway": [
           "#1F77B4",
           "#FF7F0E",
           "#2CA02C",
           "#D62728",
           "#9467BD",
           "#8C564B",
           "#E377C2",
           "#7F7F7F",
           "#BCBD22",
           "#17BECF"
          ],
          "font": {
           "color": "rgb(36,36,36)"
          },
          "geo": {
           "bgcolor": "white",
           "lakecolor": "white",
           "landcolor": "white",
           "showlakes": true,
           "showland": true,
           "subunitcolor": "white"
          },
          "hoverlabel": {
           "align": "left"
          },
          "hovermode": "closest",
          "mapbox": {
           "style": "light"
          },
          "paper_bgcolor": "white",
          "plot_bgcolor": "white",
          "polar": {
           "angularaxis": {
            "gridcolor": "rgb(232,232,232)",
            "linecolor": "rgb(36,36,36)",
            "showgrid": false,
            "showline": true,
            "ticks": "outside"
           },
           "bgcolor": "white",
           "radialaxis": {
            "gridcolor": "rgb(232,232,232)",
            "linecolor": "rgb(36,36,36)",
            "showgrid": false,
            "showline": true,
            "ticks": "outside"
           }
          },
          "scene": {
           "xaxis": {
            "backgroundcolor": "white",
            "gridcolor": "rgb(232,232,232)",
            "gridwidth": 2,
            "linecolor": "rgb(36,36,36)",
            "showbackground": true,
            "showgrid": false,
            "showline": true,
            "ticks": "outside",
            "zeroline": false,
            "zerolinecolor": "rgb(36,36,36)"
           },
           "yaxis": {
            "backgroundcolor": "white",
            "gridcolor": "rgb(232,232,232)",
            "gridwidth": 2,
            "linecolor": "rgb(36,36,36)",
            "showbackground": true,
            "showgrid": false,
            "showline": true,
            "ticks": "outside",
            "zeroline": false,
            "zerolinecolor": "rgb(36,36,36)"
           },
           "zaxis": {
            "backgroundcolor": "white",
            "gridcolor": "rgb(232,232,232)",
            "gridwidth": 2,
            "linecolor": "rgb(36,36,36)",
            "showbackground": true,
            "showgrid": false,
            "showline": true,
            "ticks": "outside",
            "zeroline": false,
            "zerolinecolor": "rgb(36,36,36)"
           }
          },
          "shapedefaults": {
           "fillcolor": "black",
           "line": {
            "width": 0
           },
           "opacity": 0.3
          },
          "ternary": {
           "aaxis": {
            "gridcolor": "rgb(232,232,232)",
            "linecolor": "rgb(36,36,36)",
            "showgrid": false,
            "showline": true,
            "ticks": "outside"
           },
           "baxis": {
            "gridcolor": "rgb(232,232,232)",
            "linecolor": "rgb(36,36,36)",
            "showgrid": false,
            "showline": true,
            "ticks": "outside"
           },
           "bgcolor": "white",
           "caxis": {
            "gridcolor": "rgb(232,232,232)",
            "linecolor": "rgb(36,36,36)",
            "showgrid": false,
            "showline": true,
            "ticks": "outside"
           }
          },
          "title": {
           "x": 0.05
          },
          "xaxis": {
           "automargin": true,
           "gridcolor": "rgb(232,232,232)",
           "linecolor": "rgb(36,36,36)",
           "showgrid": false,
           "showline": true,
           "ticks": "outside",
           "title": {
            "standoff": 15
           },
           "zeroline": false,
           "zerolinecolor": "rgb(36,36,36)"
          },
          "yaxis": {
           "automargin": true,
           "gridcolor": "rgb(232,232,232)",
           "linecolor": "rgb(36,36,36)",
           "showgrid": false,
           "showline": true,
           "ticks": "outside",
           "title": {
            "standoff": 15
           },
           "zeroline": false,
           "zerolinecolor": "rgb(36,36,36)"
          }
         }
        },
        "title": {
         "font": {
          "size": 20
         },
         "text": "Optimal Material Combinations to Comprise Desired Composite",
         "x": 0.15
        }
       }
      }
     },
     "metadata": {},
     "output_type": "display_data"
    },
    {
     "data": {
      "application/vnd.plotly.v1+json": {
       "config": {
        "plotlyServerURL": "https://plot.ly"
       },
       "data": [
        {
         "cells": {
          "align": "left",
          "fill": {
           "color": [
            [
             "white",
             "lightgrey",
             "white",
             "lightgrey",
             "white"
            ]
           ]
          },
          "font": {
           "size": 12
          },
          "height": 30,
          "values": [
           [
            {
             "mp-5924": {
              "bulk_modulus": 193.509,
              "elec_cond": 64.5658,
              "shear_modulus": 113.741,
              "therm_cond": 0.000300167,
              "universal_anisotropy": 1.091
             }
            },
            {
             "mp-5924": {
              "bulk_modulus": 193.509,
              "elec_cond": 64.5658,
              "shear_modulus": 113.741,
              "therm_cond": 0.000300167,
              "universal_anisotropy": 1.091
             }
            },
            {
             "mp-5924": {
              "bulk_modulus": 193.509,
              "elec_cond": 64.5658,
              "shear_modulus": 113.741,
              "therm_cond": 0.000300167,
              "universal_anisotropy": 1.091
             }
            },
            {
             "mp-5924": {
              "bulk_modulus": 193.509,
              "elec_cond": 64.5658,
              "shear_modulus": 113.741,
              "therm_cond": 0.000300167,
              "universal_anisotropy": 1.091
             }
            },
            {
             "mp-5924": {
              "bulk_modulus": 193.509,
              "elec_cond": 64.5658,
              "shear_modulus": 113.741,
              "therm_cond": 0.000300167,
              "universal_anisotropy": 1.091
             }
            }
           ],
           [
            {
             "mp-3536": {
              "bulk_modulus": 182.861,
              "elec_cond": 77.0117,
              "shear_modulus": 107.669,
              "therm_cond": 0.000316911,
              "universal_anisotropy": 1.062
             }
            },
            {
             "mp-3536": {
              "bulk_modulus": 182.861,
              "elec_cond": 77.0117,
              "shear_modulus": 107.669,
              "therm_cond": 0.000316911,
              "universal_anisotropy": 1.062
             }
            },
            {
             "mp-3536": {
              "bulk_modulus": 182.861,
              "elec_cond": 77.0117,
              "shear_modulus": 107.669,
              "therm_cond": 0.000316911,
              "universal_anisotropy": 1.062
             }
            },
            {
             "mp-3536": {
              "bulk_modulus": 182.861,
              "elec_cond": 77.0117,
              "shear_modulus": 107.669,
              "therm_cond": 0.000316911,
              "universal_anisotropy": 1.062
             }
            },
            {
             "mp-3536": {
              "bulk_modulus": 182.861,
              "elec_cond": 77.0117,
              "shear_modulus": 107.669,
              "therm_cond": 0.000316911,
              "universal_anisotropy": 1.062
             }
            }
           ],
           [
            {
             "mp-752826": {
              "bulk_modulus": 168.258,
              "elec_cond": 41.0475,
              "shear_modulus": 90.134,
              "therm_cond": 0.000111994,
              "universal_anisotropy": 1.271
             }
            },
            {
             "mp-752826": {
              "bulk_modulus": 168.258,
              "elec_cond": 41.0475,
              "shear_modulus": 90.134,
              "therm_cond": 0.000111994,
              "universal_anisotropy": 1.271
             }
            },
            {
             "mp-752826": {
              "bulk_modulus": 168.258,
              "elec_cond": 41.0475,
              "shear_modulus": 90.134,
              "therm_cond": 0.000111994,
              "universal_anisotropy": 1.271
             }
            },
            {
             "mp-752826": {
              "bulk_modulus": 168.258,
              "elec_cond": 41.0475,
              "shear_modulus": 90.134,
              "therm_cond": 0.000111994,
              "universal_anisotropy": 1.271
             }
            },
            {
             "mp-752826": {
              "bulk_modulus": 168.258,
              "elec_cond": 41.0475,
              "shear_modulus": 90.134,
              "therm_cond": 0.000111994,
              "universal_anisotropy": 1.271
             }
            }
           ],
           [
            64.5658,
            64.5658,
            64.5658,
            64.5658,
            64.5658
           ],
           [
            77.0117,
            77.0117,
            77.0117,
            77.0117,
            77.0117
           ],
           [
            41.0475,
            41.0475,
            41.0475,
            41.0475,
            41.0475
           ],
           [
            0.000300167,
            0.000300167,
            0.000300167,
            0.000300167,
            0.000300167
           ],
           [
            0.000316911,
            0.000316911,
            0.000316911,
            0.000316911,
            0.000316911
           ],
           [
            0.000111994,
            0.000111994,
            0.000111994,
            0.000111994,
            0.000111994
           ],
           [
            193.509,
            193.509,
            193.509,
            193.509,
            193.509
           ],
           [
            182.861,
            182.861,
            182.861,
            182.861,
            182.861
           ],
           [
            168.258,
            168.258,
            168.258,
            168.258,
            168.258
           ],
           [
            113.741,
            113.741,
            113.741,
            113.741,
            113.741
           ],
           [
            107.669,
            107.669,
            107.669,
            107.669,
            107.669
           ],
           [
            90.134,
            90.134,
            90.134,
            90.134,
            90.134
           ],
           [
            1.091,
            1.091,
            1.091,
            1.091,
            1.091
           ],
           [
            1.062,
            1.062,
            1.062,
            1.062,
            1.062
           ],
           [
            1.271,
            1.271,
            1.271,
            1.271,
            1.271
           ],
           [
            0.1789655172413793,
            0.11137931034482758,
            0.1789655172413793,
            0.1789655172413793,
            0.1789655172413793
           ],
           [
            0.8210344827586207,
            0.8886206896551724,
            0.9562068965517241,
            0.99,
            0.9224137931034482
           ],
           [
            0,
            0,
            -0.1351724137931034,
            -0.16896551724137931,
            -0.1013793103448275
           ],
           [
            17.966450396785287,
            19.240335398960372,
            24.850130662090134,
            26.066354908488794,
            26.859600228371317
           ]
          ]
         },
         "columnwidth": 1000,
         "header": {
          "align": "left",
          "fill": {
           "color": "lavender"
          },
          "font": {
           "size": 12
          },
          "height": 30,
          "values": [
           "Material 1 MP-ID",
           "Material 2 MP-ID",
           "Material 3 MP-ID",
           "Phase 1 Electrical conductivity, [S/m]",
           "Phase 2 Electrical conductivity, [S/m]",
           "Phase 3 Electrical conductivity, [S/m]",
           "Phase 1 Thermal conductivity, [W/m/K]",
           "Phase 2 Thermal conductivity, [W/m/K]",
           "Phase 3 Thermal conductivity, [W/m/K]",
           "Phase 1 Bulk modulus, [GPa]",
           "Phase 2 Bulk modulus, [GPa]",
           "Phase 3 Bulk modulus, [GPa]",
           "Phase 1 Shear modulus, [GPa]",
           "Phase 2 Shear modulus, [GPa]",
           "Phase 3 Shear modulus, [GPa]",
           "Phase 1 Universal anisotropy, []",
           "Phase 2 Universal anisotropy, []",
           "Phase 3 Universal anisotropy, []",
           "Phase 1 Volume Fraction",
           "Phase 2 Volume Fraction",
           "Phase 3 Volume Fraction",
           "cost"
          ]
         },
         "type": "table"
        }
       ],
       "layout": {
        "autosize": true,
        "height": 400,
        "margin": {
         "b": 0,
         "l": 0,
         "r": 0,
         "t": 40
        },
        "template": {
         "data": {
          "bar": [
           {
            "error_x": {
             "color": "rgb(36,36,36)"
            },
            "error_y": {
             "color": "rgb(36,36,36)"
            },
            "marker": {
             "line": {
              "color": "white",
              "width": 0.5
             },
             "pattern": {
              "fillmode": "overlay",
              "size": 10,
              "solidity": 0.2
             }
            },
            "type": "bar"
           }
          ],
          "barpolar": [
           {
            "marker": {
             "line": {
              "color": "white",
              "width": 0.5
             },
             "pattern": {
              "fillmode": "overlay",
              "size": 10,
              "solidity": 0.2
             }
            },
            "type": "barpolar"
           }
          ],
          "carpet": [
           {
            "aaxis": {
             "endlinecolor": "rgb(36,36,36)",
             "gridcolor": "white",
             "linecolor": "white",
             "minorgridcolor": "white",
             "startlinecolor": "rgb(36,36,36)"
            },
            "baxis": {
             "endlinecolor": "rgb(36,36,36)",
             "gridcolor": "white",
             "linecolor": "white",
             "minorgridcolor": "white",
             "startlinecolor": "rgb(36,36,36)"
            },
            "type": "carpet"
           }
          ],
          "choropleth": [
           {
            "colorbar": {
             "outlinewidth": 1,
             "tickcolor": "rgb(36,36,36)",
             "ticks": "outside"
            },
            "type": "choropleth"
           }
          ],
          "contour": [
           {
            "colorbar": {
             "outlinewidth": 1,
             "tickcolor": "rgb(36,36,36)",
             "ticks": "outside"
            },
            "colorscale": [
             [
              0,
              "#440154"
             ],
             [
              0.1111111111111111,
              "#482878"
             ],
             [
              0.2222222222222222,
              "#3e4989"
             ],
             [
              0.3333333333333333,
              "#31688e"
             ],
             [
              0.4444444444444444,
              "#26828e"
             ],
             [
              0.5555555555555556,
              "#1f9e89"
             ],
             [
              0.6666666666666666,
              "#35b779"
             ],
             [
              0.7777777777777778,
              "#6ece58"
             ],
             [
              0.8888888888888888,
              "#b5de2b"
             ],
             [
              1,
              "#fde725"
             ]
            ],
            "type": "contour"
           }
          ],
          "contourcarpet": [
           {
            "colorbar": {
             "outlinewidth": 1,
             "tickcolor": "rgb(36,36,36)",
             "ticks": "outside"
            },
            "type": "contourcarpet"
           }
          ],
          "heatmap": [
           {
            "colorbar": {
             "outlinewidth": 1,
             "tickcolor": "rgb(36,36,36)",
             "ticks": "outside"
            },
            "colorscale": [
             [
              0,
              "#440154"
             ],
             [
              0.1111111111111111,
              "#482878"
             ],
             [
              0.2222222222222222,
              "#3e4989"
             ],
             [
              0.3333333333333333,
              "#31688e"
             ],
             [
              0.4444444444444444,
              "#26828e"
             ],
             [
              0.5555555555555556,
              "#1f9e89"
             ],
             [
              0.6666666666666666,
              "#35b779"
             ],
             [
              0.7777777777777778,
              "#6ece58"
             ],
             [
              0.8888888888888888,
              "#b5de2b"
             ],
             [
              1,
              "#fde725"
             ]
            ],
            "type": "heatmap"
           }
          ],
          "heatmapgl": [
           {
            "colorbar": {
             "outlinewidth": 1,
             "tickcolor": "rgb(36,36,36)",
             "ticks": "outside"
            },
            "colorscale": [
             [
              0,
              "#440154"
             ],
             [
              0.1111111111111111,
              "#482878"
             ],
             [
              0.2222222222222222,
              "#3e4989"
             ],
             [
              0.3333333333333333,
              "#31688e"
             ],
             [
              0.4444444444444444,
              "#26828e"
             ],
             [
              0.5555555555555556,
              "#1f9e89"
             ],
             [
              0.6666666666666666,
              "#35b779"
             ],
             [
              0.7777777777777778,
              "#6ece58"
             ],
             [
              0.8888888888888888,
              "#b5de2b"
             ],
             [
              1,
              "#fde725"
             ]
            ],
            "type": "heatmapgl"
           }
          ],
          "histogram": [
           {
            "marker": {
             "line": {
              "color": "white",
              "width": 0.6
             }
            },
            "type": "histogram"
           }
          ],
          "histogram2d": [
           {
            "colorbar": {
             "outlinewidth": 1,
             "tickcolor": "rgb(36,36,36)",
             "ticks": "outside"
            },
            "colorscale": [
             [
              0,
              "#440154"
             ],
             [
              0.1111111111111111,
              "#482878"
             ],
             [
              0.2222222222222222,
              "#3e4989"
             ],
             [
              0.3333333333333333,
              "#31688e"
             ],
             [
              0.4444444444444444,
              "#26828e"
             ],
             [
              0.5555555555555556,
              "#1f9e89"
             ],
             [
              0.6666666666666666,
              "#35b779"
             ],
             [
              0.7777777777777778,
              "#6ece58"
             ],
             [
              0.8888888888888888,
              "#b5de2b"
             ],
             [
              1,
              "#fde725"
             ]
            ],
            "type": "histogram2d"
           }
          ],
          "histogram2dcontour": [
           {
            "colorbar": {
             "outlinewidth": 1,
             "tickcolor": "rgb(36,36,36)",
             "ticks": "outside"
            },
            "colorscale": [
             [
              0,
              "#440154"
             ],
             [
              0.1111111111111111,
              "#482878"
             ],
             [
              0.2222222222222222,
              "#3e4989"
             ],
             [
              0.3333333333333333,
              "#31688e"
             ],
             [
              0.4444444444444444,
              "#26828e"
             ],
             [
              0.5555555555555556,
              "#1f9e89"
             ],
             [
              0.6666666666666666,
              "#35b779"
             ],
             [
              0.7777777777777778,
              "#6ece58"
             ],
             [
              0.8888888888888888,
              "#b5de2b"
             ],
             [
              1,
              "#fde725"
             ]
            ],
            "type": "histogram2dcontour"
           }
          ],
          "mesh3d": [
           {
            "colorbar": {
             "outlinewidth": 1,
             "tickcolor": "rgb(36,36,36)",
             "ticks": "outside"
            },
            "type": "mesh3d"
           }
          ],
          "parcoords": [
           {
            "line": {
             "colorbar": {
              "outlinewidth": 1,
              "tickcolor": "rgb(36,36,36)",
              "ticks": "outside"
             }
            },
            "type": "parcoords"
           }
          ],
          "pie": [
           {
            "automargin": true,
            "type": "pie"
           }
          ],
          "scatter": [
           {
            "fillpattern": {
             "fillmode": "overlay",
             "size": 10,
             "solidity": 0.2
            },
            "type": "scatter"
           }
          ],
          "scatter3d": [
           {
            "line": {
             "colorbar": {
              "outlinewidth": 1,
              "tickcolor": "rgb(36,36,36)",
              "ticks": "outside"
             }
            },
            "marker": {
             "colorbar": {
              "outlinewidth": 1,
              "tickcolor": "rgb(36,36,36)",
              "ticks": "outside"
             }
            },
            "type": "scatter3d"
           }
          ],
          "scattercarpet": [
           {
            "marker": {
             "colorbar": {
              "outlinewidth": 1,
              "tickcolor": "rgb(36,36,36)",
              "ticks": "outside"
             }
            },
            "type": "scattercarpet"
           }
          ],
          "scattergeo": [
           {
            "marker": {
             "colorbar": {
              "outlinewidth": 1,
              "tickcolor": "rgb(36,36,36)",
              "ticks": "outside"
             }
            },
            "type": "scattergeo"
           }
          ],
          "scattergl": [
           {
            "marker": {
             "colorbar": {
              "outlinewidth": 1,
              "tickcolor": "rgb(36,36,36)",
              "ticks": "outside"
             }
            },
            "type": "scattergl"
           }
          ],
          "scattermapbox": [
           {
            "marker": {
             "colorbar": {
              "outlinewidth": 1,
              "tickcolor": "rgb(36,36,36)",
              "ticks": "outside"
             }
            },
            "type": "scattermapbox"
           }
          ],
          "scatterpolar": [
           {
            "marker": {
             "colorbar": {
              "outlinewidth": 1,
              "tickcolor": "rgb(36,36,36)",
              "ticks": "outside"
             }
            },
            "type": "scatterpolar"
           }
          ],
          "scatterpolargl": [
           {
            "marker": {
             "colorbar": {
              "outlinewidth": 1,
              "tickcolor": "rgb(36,36,36)",
              "ticks": "outside"
             }
            },
            "type": "scatterpolargl"
           }
          ],
          "scatterternary": [
           {
            "marker": {
             "colorbar": {
              "outlinewidth": 1,
              "tickcolor": "rgb(36,36,36)",
              "ticks": "outside"
             }
            },
            "type": "scatterternary"
           }
          ],
          "surface": [
           {
            "colorbar": {
             "outlinewidth": 1,
             "tickcolor": "rgb(36,36,36)",
             "ticks": "outside"
            },
            "colorscale": [
             [
              0,
              "#440154"
             ],
             [
              0.1111111111111111,
              "#482878"
             ],
             [
              0.2222222222222222,
              "#3e4989"
             ],
             [
              0.3333333333333333,
              "#31688e"
             ],
             [
              0.4444444444444444,
              "#26828e"
             ],
             [
              0.5555555555555556,
              "#1f9e89"
             ],
             [
              0.6666666666666666,
              "#35b779"
             ],
             [
              0.7777777777777778,
              "#6ece58"
             ],
             [
              0.8888888888888888,
              "#b5de2b"
             ],
             [
              1,
              "#fde725"
             ]
            ],
            "type": "surface"
           }
          ],
          "table": [
           {
            "cells": {
             "fill": {
              "color": "rgb(237,237,237)"
             },
             "line": {
              "color": "white"
             }
            },
            "header": {
             "fill": {
              "color": "rgb(217,217,217)"
             },
             "line": {
              "color": "white"
             }
            },
            "type": "table"
           }
          ]
         },
         "layout": {
          "annotationdefaults": {
           "arrowhead": 0,
           "arrowwidth": 1
          },
          "autotypenumbers": "strict",
          "coloraxis": {
           "colorbar": {
            "outlinewidth": 1,
            "tickcolor": "rgb(36,36,36)",
            "ticks": "outside"
           }
          },
          "colorscale": {
           "diverging": [
            [
             0,
             "rgb(103,0,31)"
            ],
            [
             0.1,
             "rgb(178,24,43)"
            ],
            [
             0.2,
             "rgb(214,96,77)"
            ],
            [
             0.3,
             "rgb(244,165,130)"
            ],
            [
             0.4,
             "rgb(253,219,199)"
            ],
            [
             0.5,
             "rgb(247,247,247)"
            ],
            [
             0.6,
             "rgb(209,229,240)"
            ],
            [
             0.7,
             "rgb(146,197,222)"
            ],
            [
             0.8,
             "rgb(67,147,195)"
            ],
            [
             0.9,
             "rgb(33,102,172)"
            ],
            [
             1,
             "rgb(5,48,97)"
            ]
           ],
           "sequential": [
            [
             0,
             "#440154"
            ],
            [
             0.1111111111111111,
             "#482878"
            ],
            [
             0.2222222222222222,
             "#3e4989"
            ],
            [
             0.3333333333333333,
             "#31688e"
            ],
            [
             0.4444444444444444,
             "#26828e"
            ],
            [
             0.5555555555555556,
             "#1f9e89"
            ],
            [
             0.6666666666666666,
             "#35b779"
            ],
            [
             0.7777777777777778,
             "#6ece58"
            ],
            [
             0.8888888888888888,
             "#b5de2b"
            ],
            [
             1,
             "#fde725"
            ]
           ],
           "sequentialminus": [
            [
             0,
             "#440154"
            ],
            [
             0.1111111111111111,
             "#482878"
            ],
            [
             0.2222222222222222,
             "#3e4989"
            ],
            [
             0.3333333333333333,
             "#31688e"
            ],
            [
             0.4444444444444444,
             "#26828e"
            ],
            [
             0.5555555555555556,
             "#1f9e89"
            ],
            [
             0.6666666666666666,
             "#35b779"
            ],
            [
             0.7777777777777778,
             "#6ece58"
            ],
            [
             0.8888888888888888,
             "#b5de2b"
            ],
            [
             1,
             "#fde725"
            ]
           ]
          },
          "colorway": [
           "#1F77B4",
           "#FF7F0E",
           "#2CA02C",
           "#D62728",
           "#9467BD",
           "#8C564B",
           "#E377C2",
           "#7F7F7F",
           "#BCBD22",
           "#17BECF"
          ],
          "font": {
           "color": "rgb(36,36,36)"
          },
          "geo": {
           "bgcolor": "white",
           "lakecolor": "white",
           "landcolor": "white",
           "showlakes": true,
           "showland": true,
           "subunitcolor": "white"
          },
          "hoverlabel": {
           "align": "left"
          },
          "hovermode": "closest",
          "mapbox": {
           "style": "light"
          },
          "paper_bgcolor": "white",
          "plot_bgcolor": "white",
          "polar": {
           "angularaxis": {
            "gridcolor": "rgb(232,232,232)",
            "linecolor": "rgb(36,36,36)",
            "showgrid": false,
            "showline": true,
            "ticks": "outside"
           },
           "bgcolor": "white",
           "radialaxis": {
            "gridcolor": "rgb(232,232,232)",
            "linecolor": "rgb(36,36,36)",
            "showgrid": false,
            "showline": true,
            "ticks": "outside"
           }
          },
          "scene": {
           "xaxis": {
            "backgroundcolor": "white",
            "gridcolor": "rgb(232,232,232)",
            "gridwidth": 2,
            "linecolor": "rgb(36,36,36)",
            "showbackground": true,
            "showgrid": false,
            "showline": true,
            "ticks": "outside",
            "zeroline": false,
            "zerolinecolor": "rgb(36,36,36)"
           },
           "yaxis": {
            "backgroundcolor": "white",
            "gridcolor": "rgb(232,232,232)",
            "gridwidth": 2,
            "linecolor": "rgb(36,36,36)",
            "showbackground": true,
            "showgrid": false,
            "showline": true,
            "ticks": "outside",
            "zeroline": false,
            "zerolinecolor": "rgb(36,36,36)"
           },
           "zaxis": {
            "backgroundcolor": "white",
            "gridcolor": "rgb(232,232,232)",
            "gridwidth": 2,
            "linecolor": "rgb(36,36,36)",
            "showbackground": true,
            "showgrid": false,
            "showline": true,
            "ticks": "outside",
            "zeroline": false,
            "zerolinecolor": "rgb(36,36,36)"
           }
          },
          "shapedefaults": {
           "fillcolor": "black",
           "line": {
            "width": 0
           },
           "opacity": 0.3
          },
          "ternary": {
           "aaxis": {
            "gridcolor": "rgb(232,232,232)",
            "linecolor": "rgb(36,36,36)",
            "showgrid": false,
            "showline": true,
            "ticks": "outside"
           },
           "baxis": {
            "gridcolor": "rgb(232,232,232)",
            "linecolor": "rgb(36,36,36)",
            "showgrid": false,
            "showline": true,
            "ticks": "outside"
           },
           "bgcolor": "white",
           "caxis": {
            "gridcolor": "rgb(232,232,232)",
            "linecolor": "rgb(36,36,36)",
            "showgrid": false,
            "showline": true,
            "ticks": "outside"
           }
          },
          "title": {
           "x": 0.05
          },
          "xaxis": {
           "automargin": true,
           "gridcolor": "rgb(232,232,232)",
           "linecolor": "rgb(36,36,36)",
           "showgrid": false,
           "showline": true,
           "ticks": "outside",
           "title": {
            "standoff": 15
           },
           "zeroline": false,
           "zerolinecolor": "rgb(36,36,36)"
          },
          "yaxis": {
           "automargin": true,
           "gridcolor": "rgb(232,232,232)",
           "linecolor": "rgb(36,36,36)",
           "showgrid": false,
           "showline": true,
           "ticks": "outside",
           "title": {
            "standoff": 15
           },
           "zeroline": false,
           "zerolinecolor": "rgb(36,36,36)"
          }
         }
        },
        "title": {
         "font": {
          "size": 20
         },
         "text": "Optimal Material Combinations to Comprise Desired Composite",
         "x": 0.15
        }
       }
      }
     },
     "metadata": {},
     "output_type": "display_data"
    },
    {
     "data": {
      "application/vnd.plotly.v1+json": {
       "config": {
        "plotlyServerURL": "https://plot.ly"
       },
       "data": [
        {
         "cells": {
          "align": "left",
          "fill": {
           "color": [
            [
             "white",
             "lightgrey",
             "white",
             "lightgrey",
             "white"
            ]
           ]
          },
          "font": {
           "size": 12
          },
          "height": 30,
          "values": [
           [
            {
             "mp-5924": {
              "bulk_modulus": 193.509,
              "elec_cond": 64.5658,
              "shear_modulus": 113.741,
              "therm_cond": 0.000300167,
              "universal_anisotropy": 1.091
             }
            },
            {
             "mp-5924": {
              "bulk_modulus": 193.509,
              "elec_cond": 64.5658,
              "shear_modulus": 113.741,
              "therm_cond": 0.000300167,
              "universal_anisotropy": 1.091
             }
            },
            {
             "mp-5924": {
              "bulk_modulus": 193.509,
              "elec_cond": 64.5658,
              "shear_modulus": 113.741,
              "therm_cond": 0.000300167,
              "universal_anisotropy": 1.091
             }
            },
            {
             "mp-5924": {
              "bulk_modulus": 193.509,
              "elec_cond": 64.5658,
              "shear_modulus": 113.741,
              "therm_cond": 0.000300167,
              "universal_anisotropy": 1.091
             }
            },
            {
             "mp-5924": {
              "bulk_modulus": 193.509,
              "elec_cond": 64.5658,
              "shear_modulus": 113.741,
              "therm_cond": 0.000300167,
              "universal_anisotropy": 1.091
             }
            }
           ],
           [
            {
             "mp-3536": {
              "bulk_modulus": 182.861,
              "elec_cond": 77.0117,
              "shear_modulus": 107.669,
              "therm_cond": 0.000316911,
              "universal_anisotropy": 1.062
             }
            },
            {
             "mp-3536": {
              "bulk_modulus": 182.861,
              "elec_cond": 77.0117,
              "shear_modulus": 107.669,
              "therm_cond": 0.000316911,
              "universal_anisotropy": 1.062
             }
            },
            {
             "mp-3536": {
              "bulk_modulus": 182.861,
              "elec_cond": 77.0117,
              "shear_modulus": 107.669,
              "therm_cond": 0.000316911,
              "universal_anisotropy": 1.062
             }
            },
            {
             "mp-3536": {
              "bulk_modulus": 182.861,
              "elec_cond": 77.0117,
              "shear_modulus": 107.669,
              "therm_cond": 0.000316911,
              "universal_anisotropy": 1.062
             }
            },
            {
             "mp-3536": {
              "bulk_modulus": 182.861,
              "elec_cond": 77.0117,
              "shear_modulus": 107.669,
              "therm_cond": 0.000316911,
              "universal_anisotropy": 1.062
             }
            }
           ],
           [
            {
             "mp-3536": {
              "bulk_modulus": 182.861,
              "elec_cond": 77.0117,
              "shear_modulus": 107.669,
              "therm_cond": 0.000316911,
              "universal_anisotropy": 1.062
             }
            },
            {
             "mp-3536": {
              "bulk_modulus": 182.861,
              "elec_cond": 77.0117,
              "shear_modulus": 107.669,
              "therm_cond": 0.000316911,
              "universal_anisotropy": 1.062
             }
            },
            {
             "mp-3536": {
              "bulk_modulus": 182.861,
              "elec_cond": 77.0117,
              "shear_modulus": 107.669,
              "therm_cond": 0.000316911,
              "universal_anisotropy": 1.062
             }
            },
            {
             "mp-3536": {
              "bulk_modulus": 182.861,
              "elec_cond": 77.0117,
              "shear_modulus": 107.669,
              "therm_cond": 0.000316911,
              "universal_anisotropy": 1.062
             }
            },
            {
             "mp-3536": {
              "bulk_modulus": 182.861,
              "elec_cond": 77.0117,
              "shear_modulus": 107.669,
              "therm_cond": 0.000316911,
              "universal_anisotropy": 1.062
             }
            }
           ],
           [
            64.5658,
            64.5658,
            64.5658,
            64.5658,
            64.5658
           ],
           [
            77.0117,
            77.0117,
            77.0117,
            77.0117,
            77.0117
           ],
           [
            77.0117,
            77.0117,
            77.0117,
            77.0117,
            77.0117
           ],
           [
            0.000300167,
            0.000300167,
            0.000300167,
            0.000300167,
            0.000300167
           ],
           [
            0.000316911,
            0.000316911,
            0.000316911,
            0.000316911,
            0.000316911
           ],
           [
            0.000316911,
            0.000316911,
            0.000316911,
            0.000316911,
            0.000316911
           ],
           [
            193.509,
            193.509,
            193.509,
            193.509,
            193.509
           ],
           [
            182.861,
            182.861,
            182.861,
            182.861,
            182.861
           ],
           [
            182.861,
            182.861,
            182.861,
            182.861,
            182.861
           ],
           [
            113.741,
            113.741,
            113.741,
            113.741,
            113.741
           ],
           [
            107.669,
            107.669,
            107.669,
            107.669,
            107.669
           ],
           [
            107.669,
            107.669,
            107.669,
            107.669,
            107.669
           ],
           [
            1.091,
            1.091,
            1.091,
            1.091,
            1.091
           ],
           [
            1.062,
            1.062,
            1.062,
            1.062,
            1.062
           ],
           [
            1.062,
            1.062,
            1.062,
            1.062,
            1.062
           ],
           [
            0.1789655172413793,
            0.11137931034482758,
            0.1789655172413793,
            0.1789655172413793,
            0.1789655172413793
           ],
           [
            0.8210344827586207,
            0.8886206896551724,
            0.9562068965517241,
            0.99,
            0.9224137931034482
           ],
           [
            0,
            0,
            -0.1351724137931034,
            -0.16896551724137931,
            -0.1013793103448275
           ],
           [
            18.35748814301214,
            19.61705011792179,
            24.342323404155863,
            25.602097018846273,
            26.305939133299056
           ]
          ]
         },
         "columnwidth": 1000,
         "header": {
          "align": "left",
          "fill": {
           "color": "lavender"
          },
          "font": {
           "size": 12
          },
          "height": 30,
          "values": [
           "Material 1 MP-ID",
           "Material 2 MP-ID",
           "Material 3 MP-ID",
           "Phase 1 Electrical conductivity, [S/m]",
           "Phase 2 Electrical conductivity, [S/m]",
           "Phase 3 Electrical conductivity, [S/m]",
           "Phase 1 Thermal conductivity, [W/m/K]",
           "Phase 2 Thermal conductivity, [W/m/K]",
           "Phase 3 Thermal conductivity, [W/m/K]",
           "Phase 1 Bulk modulus, [GPa]",
           "Phase 2 Bulk modulus, [GPa]",
           "Phase 3 Bulk modulus, [GPa]",
           "Phase 1 Shear modulus, [GPa]",
           "Phase 2 Shear modulus, [GPa]",
           "Phase 3 Shear modulus, [GPa]",
           "Phase 1 Universal anisotropy, []",
           "Phase 2 Universal anisotropy, []",
           "Phase 3 Universal anisotropy, []",
           "Phase 1 Volume Fraction",
           "Phase 2 Volume Fraction",
           "Phase 3 Volume Fraction",
           "cost"
          ]
         },
         "type": "table"
        }
       ],
       "layout": {
        "autosize": true,
        "height": 400,
        "margin": {
         "b": 0,
         "l": 0,
         "r": 0,
         "t": 40
        },
        "template": {
         "data": {
          "bar": [
           {
            "error_x": {
             "color": "rgb(36,36,36)"
            },
            "error_y": {
             "color": "rgb(36,36,36)"
            },
            "marker": {
             "line": {
              "color": "white",
              "width": 0.5
             },
             "pattern": {
              "fillmode": "overlay",
              "size": 10,
              "solidity": 0.2
             }
            },
            "type": "bar"
           }
          ],
          "barpolar": [
           {
            "marker": {
             "line": {
              "color": "white",
              "width": 0.5
             },
             "pattern": {
              "fillmode": "overlay",
              "size": 10,
              "solidity": 0.2
             }
            },
            "type": "barpolar"
           }
          ],
          "carpet": [
           {
            "aaxis": {
             "endlinecolor": "rgb(36,36,36)",
             "gridcolor": "white",
             "linecolor": "white",
             "minorgridcolor": "white",
             "startlinecolor": "rgb(36,36,36)"
            },
            "baxis": {
             "endlinecolor": "rgb(36,36,36)",
             "gridcolor": "white",
             "linecolor": "white",
             "minorgridcolor": "white",
             "startlinecolor": "rgb(36,36,36)"
            },
            "type": "carpet"
           }
          ],
          "choropleth": [
           {
            "colorbar": {
             "outlinewidth": 1,
             "tickcolor": "rgb(36,36,36)",
             "ticks": "outside"
            },
            "type": "choropleth"
           }
          ],
          "contour": [
           {
            "colorbar": {
             "outlinewidth": 1,
             "tickcolor": "rgb(36,36,36)",
             "ticks": "outside"
            },
            "colorscale": [
             [
              0,
              "#440154"
             ],
             [
              0.1111111111111111,
              "#482878"
             ],
             [
              0.2222222222222222,
              "#3e4989"
             ],
             [
              0.3333333333333333,
              "#31688e"
             ],
             [
              0.4444444444444444,
              "#26828e"
             ],
             [
              0.5555555555555556,
              "#1f9e89"
             ],
             [
              0.6666666666666666,
              "#35b779"
             ],
             [
              0.7777777777777778,
              "#6ece58"
             ],
             [
              0.8888888888888888,
              "#b5de2b"
             ],
             [
              1,
              "#fde725"
             ]
            ],
            "type": "contour"
           }
          ],
          "contourcarpet": [
           {
            "colorbar": {
             "outlinewidth": 1,
             "tickcolor": "rgb(36,36,36)",
             "ticks": "outside"
            },
            "type": "contourcarpet"
           }
          ],
          "heatmap": [
           {
            "colorbar": {
             "outlinewidth": 1,
             "tickcolor": "rgb(36,36,36)",
             "ticks": "outside"
            },
            "colorscale": [
             [
              0,
              "#440154"
             ],
             [
              0.1111111111111111,
              "#482878"
             ],
             [
              0.2222222222222222,
              "#3e4989"
             ],
             [
              0.3333333333333333,
              "#31688e"
             ],
             [
              0.4444444444444444,
              "#26828e"
             ],
             [
              0.5555555555555556,
              "#1f9e89"
             ],
             [
              0.6666666666666666,
              "#35b779"
             ],
             [
              0.7777777777777778,
              "#6ece58"
             ],
             [
              0.8888888888888888,
              "#b5de2b"
             ],
             [
              1,
              "#fde725"
             ]
            ],
            "type": "heatmap"
           }
          ],
          "heatmapgl": [
           {
            "colorbar": {
             "outlinewidth": 1,
             "tickcolor": "rgb(36,36,36)",
             "ticks": "outside"
            },
            "colorscale": [
             [
              0,
              "#440154"
             ],
             [
              0.1111111111111111,
              "#482878"
             ],
             [
              0.2222222222222222,
              "#3e4989"
             ],
             [
              0.3333333333333333,
              "#31688e"
             ],
             [
              0.4444444444444444,
              "#26828e"
             ],
             [
              0.5555555555555556,
              "#1f9e89"
             ],
             [
              0.6666666666666666,
              "#35b779"
             ],
             [
              0.7777777777777778,
              "#6ece58"
             ],
             [
              0.8888888888888888,
              "#b5de2b"
             ],
             [
              1,
              "#fde725"
             ]
            ],
            "type": "heatmapgl"
           }
          ],
          "histogram": [
           {
            "marker": {
             "line": {
              "color": "white",
              "width": 0.6
             }
            },
            "type": "histogram"
           }
          ],
          "histogram2d": [
           {
            "colorbar": {
             "outlinewidth": 1,
             "tickcolor": "rgb(36,36,36)",
             "ticks": "outside"
            },
            "colorscale": [
             [
              0,
              "#440154"
             ],
             [
              0.1111111111111111,
              "#482878"
             ],
             [
              0.2222222222222222,
              "#3e4989"
             ],
             [
              0.3333333333333333,
              "#31688e"
             ],
             [
              0.4444444444444444,
              "#26828e"
             ],
             [
              0.5555555555555556,
              "#1f9e89"
             ],
             [
              0.6666666666666666,
              "#35b779"
             ],
             [
              0.7777777777777778,
              "#6ece58"
             ],
             [
              0.8888888888888888,
              "#b5de2b"
             ],
             [
              1,
              "#fde725"
             ]
            ],
            "type": "histogram2d"
           }
          ],
          "histogram2dcontour": [
           {
            "colorbar": {
             "outlinewidth": 1,
             "tickcolor": "rgb(36,36,36)",
             "ticks": "outside"
            },
            "colorscale": [
             [
              0,
              "#440154"
             ],
             [
              0.1111111111111111,
              "#482878"
             ],
             [
              0.2222222222222222,
              "#3e4989"
             ],
             [
              0.3333333333333333,
              "#31688e"
             ],
             [
              0.4444444444444444,
              "#26828e"
             ],
             [
              0.5555555555555556,
              "#1f9e89"
             ],
             [
              0.6666666666666666,
              "#35b779"
             ],
             [
              0.7777777777777778,
              "#6ece58"
             ],
             [
              0.8888888888888888,
              "#b5de2b"
             ],
             [
              1,
              "#fde725"
             ]
            ],
            "type": "histogram2dcontour"
           }
          ],
          "mesh3d": [
           {
            "colorbar": {
             "outlinewidth": 1,
             "tickcolor": "rgb(36,36,36)",
             "ticks": "outside"
            },
            "type": "mesh3d"
           }
          ],
          "parcoords": [
           {
            "line": {
             "colorbar": {
              "outlinewidth": 1,
              "tickcolor": "rgb(36,36,36)",
              "ticks": "outside"
             }
            },
            "type": "parcoords"
           }
          ],
          "pie": [
           {
            "automargin": true,
            "type": "pie"
           }
          ],
          "scatter": [
           {
            "fillpattern": {
             "fillmode": "overlay",
             "size": 10,
             "solidity": 0.2
            },
            "type": "scatter"
           }
          ],
          "scatter3d": [
           {
            "line": {
             "colorbar": {
              "outlinewidth": 1,
              "tickcolor": "rgb(36,36,36)",
              "ticks": "outside"
             }
            },
            "marker": {
             "colorbar": {
              "outlinewidth": 1,
              "tickcolor": "rgb(36,36,36)",
              "ticks": "outside"
             }
            },
            "type": "scatter3d"
           }
          ],
          "scattercarpet": [
           {
            "marker": {
             "colorbar": {
              "outlinewidth": 1,
              "tickcolor": "rgb(36,36,36)",
              "ticks": "outside"
             }
            },
            "type": "scattercarpet"
           }
          ],
          "scattergeo": [
           {
            "marker": {
             "colorbar": {
              "outlinewidth": 1,
              "tickcolor": "rgb(36,36,36)",
              "ticks": "outside"
             }
            },
            "type": "scattergeo"
           }
          ],
          "scattergl": [
           {
            "marker": {
             "colorbar": {
              "outlinewidth": 1,
              "tickcolor": "rgb(36,36,36)",
              "ticks": "outside"
             }
            },
            "type": "scattergl"
           }
          ],
          "scattermapbox": [
           {
            "marker": {
             "colorbar": {
              "outlinewidth": 1,
              "tickcolor": "rgb(36,36,36)",
              "ticks": "outside"
             }
            },
            "type": "scattermapbox"
           }
          ],
          "scatterpolar": [
           {
            "marker": {
             "colorbar": {
              "outlinewidth": 1,
              "tickcolor": "rgb(36,36,36)",
              "ticks": "outside"
             }
            },
            "type": "scatterpolar"
           }
          ],
          "scatterpolargl": [
           {
            "marker": {
             "colorbar": {
              "outlinewidth": 1,
              "tickcolor": "rgb(36,36,36)",
              "ticks": "outside"
             }
            },
            "type": "scatterpolargl"
           }
          ],
          "scatterternary": [
           {
            "marker": {
             "colorbar": {
              "outlinewidth": 1,
              "tickcolor": "rgb(36,36,36)",
              "ticks": "outside"
             }
            },
            "type": "scatterternary"
           }
          ],
          "surface": [
           {
            "colorbar": {
             "outlinewidth": 1,
             "tickcolor": "rgb(36,36,36)",
             "ticks": "outside"
            },
            "colorscale": [
             [
              0,
              "#440154"
             ],
             [
              0.1111111111111111,
              "#482878"
             ],
             [
              0.2222222222222222,
              "#3e4989"
             ],
             [
              0.3333333333333333,
              "#31688e"
             ],
             [
              0.4444444444444444,
              "#26828e"
             ],
             [
              0.5555555555555556,
              "#1f9e89"
             ],
             [
              0.6666666666666666,
              "#35b779"
             ],
             [
              0.7777777777777778,
              "#6ece58"
             ],
             [
              0.8888888888888888,
              "#b5de2b"
             ],
             [
              1,
              "#fde725"
             ]
            ],
            "type": "surface"
           }
          ],
          "table": [
           {
            "cells": {
             "fill": {
              "color": "rgb(237,237,237)"
             },
             "line": {
              "color": "white"
             }
            },
            "header": {
             "fill": {
              "color": "rgb(217,217,217)"
             },
             "line": {
              "color": "white"
             }
            },
            "type": "table"
           }
          ]
         },
         "layout": {
          "annotationdefaults": {
           "arrowhead": 0,
           "arrowwidth": 1
          },
          "autotypenumbers": "strict",
          "coloraxis": {
           "colorbar": {
            "outlinewidth": 1,
            "tickcolor": "rgb(36,36,36)",
            "ticks": "outside"
           }
          },
          "colorscale": {
           "diverging": [
            [
             0,
             "rgb(103,0,31)"
            ],
            [
             0.1,
             "rgb(178,24,43)"
            ],
            [
             0.2,
             "rgb(214,96,77)"
            ],
            [
             0.3,
             "rgb(244,165,130)"
            ],
            [
             0.4,
             "rgb(253,219,199)"
            ],
            [
             0.5,
             "rgb(247,247,247)"
            ],
            [
             0.6,
             "rgb(209,229,240)"
            ],
            [
             0.7,
             "rgb(146,197,222)"
            ],
            [
             0.8,
             "rgb(67,147,195)"
            ],
            [
             0.9,
             "rgb(33,102,172)"
            ],
            [
             1,
             "rgb(5,48,97)"
            ]
           ],
           "sequential": [
            [
             0,
             "#440154"
            ],
            [
             0.1111111111111111,
             "#482878"
            ],
            [
             0.2222222222222222,
             "#3e4989"
            ],
            [
             0.3333333333333333,
             "#31688e"
            ],
            [
             0.4444444444444444,
             "#26828e"
            ],
            [
             0.5555555555555556,
             "#1f9e89"
            ],
            [
             0.6666666666666666,
             "#35b779"
            ],
            [
             0.7777777777777778,
             "#6ece58"
            ],
            [
             0.8888888888888888,
             "#b5de2b"
            ],
            [
             1,
             "#fde725"
            ]
           ],
           "sequentialminus": [
            [
             0,
             "#440154"
            ],
            [
             0.1111111111111111,
             "#482878"
            ],
            [
             0.2222222222222222,
             "#3e4989"
            ],
            [
             0.3333333333333333,
             "#31688e"
            ],
            [
             0.4444444444444444,
             "#26828e"
            ],
            [
             0.5555555555555556,
             "#1f9e89"
            ],
            [
             0.6666666666666666,
             "#35b779"
            ],
            [
             0.7777777777777778,
             "#6ece58"
            ],
            [
             0.8888888888888888,
             "#b5de2b"
            ],
            [
             1,
             "#fde725"
            ]
           ]
          },
          "colorway": [
           "#1F77B4",
           "#FF7F0E",
           "#2CA02C",
           "#D62728",
           "#9467BD",
           "#8C564B",
           "#E377C2",
           "#7F7F7F",
           "#BCBD22",
           "#17BECF"
          ],
          "font": {
           "color": "rgb(36,36,36)"
          },
          "geo": {
           "bgcolor": "white",
           "lakecolor": "white",
           "landcolor": "white",
           "showlakes": true,
           "showland": true,
           "subunitcolor": "white"
          },
          "hoverlabel": {
           "align": "left"
          },
          "hovermode": "closest",
          "mapbox": {
           "style": "light"
          },
          "paper_bgcolor": "white",
          "plot_bgcolor": "white",
          "polar": {
           "angularaxis": {
            "gridcolor": "rgb(232,232,232)",
            "linecolor": "rgb(36,36,36)",
            "showgrid": false,
            "showline": true,
            "ticks": "outside"
           },
           "bgcolor": "white",
           "radialaxis": {
            "gridcolor": "rgb(232,232,232)",
            "linecolor": "rgb(36,36,36)",
            "showgrid": false,
            "showline": true,
            "ticks": "outside"
           }
          },
          "scene": {
           "xaxis": {
            "backgroundcolor": "white",
            "gridcolor": "rgb(232,232,232)",
            "gridwidth": 2,
            "linecolor": "rgb(36,36,36)",
            "showbackground": true,
            "showgrid": false,
            "showline": true,
            "ticks": "outside",
            "zeroline": false,
            "zerolinecolor": "rgb(36,36,36)"
           },
           "yaxis": {
            "backgroundcolor": "white",
            "gridcolor": "rgb(232,232,232)",
            "gridwidth": 2,
            "linecolor": "rgb(36,36,36)",
            "showbackground": true,
            "showgrid": false,
            "showline": true,
            "ticks": "outside",
            "zeroline": false,
            "zerolinecolor": "rgb(36,36,36)"
           },
           "zaxis": {
            "backgroundcolor": "white",
            "gridcolor": "rgb(232,232,232)",
            "gridwidth": 2,
            "linecolor": "rgb(36,36,36)",
            "showbackground": true,
            "showgrid": false,
            "showline": true,
            "ticks": "outside",
            "zeroline": false,
            "zerolinecolor": "rgb(36,36,36)"
           }
          },
          "shapedefaults": {
           "fillcolor": "black",
           "line": {
            "width": 0
           },
           "opacity": 0.3
          },
          "ternary": {
           "aaxis": {
            "gridcolor": "rgb(232,232,232)",
            "linecolor": "rgb(36,36,36)",
            "showgrid": false,
            "showline": true,
            "ticks": "outside"
           },
           "baxis": {
            "gridcolor": "rgb(232,232,232)",
            "linecolor": "rgb(36,36,36)",
            "showgrid": false,
            "showline": true,
            "ticks": "outside"
           },
           "bgcolor": "white",
           "caxis": {
            "gridcolor": "rgb(232,232,232)",
            "linecolor": "rgb(36,36,36)",
            "showgrid": false,
            "showline": true,
            "ticks": "outside"
           }
          },
          "title": {
           "x": 0.05
          },
          "xaxis": {
           "automargin": true,
           "gridcolor": "rgb(232,232,232)",
           "linecolor": "rgb(36,36,36)",
           "showgrid": false,
           "showline": true,
           "ticks": "outside",
           "title": {
            "standoff": 15
           },
           "zeroline": false,
           "zerolinecolor": "rgb(36,36,36)"
          },
          "yaxis": {
           "automargin": true,
           "gridcolor": "rgb(232,232,232)",
           "linecolor": "rgb(36,36,36)",
           "showgrid": false,
           "showline": true,
           "ticks": "outside",
           "title": {
            "standoff": 15
           },
           "zeroline": false,
           "zerolinecolor": "rgb(36,36,36)"
          }
         }
        },
        "title": {
         "font": {
          "size": 20
         },
         "text": "Optimal Material Combinations to Comprise Desired Composite",
         "x": 0.15
        }
       }
      }
     },
     "metadata": {},
     "output_type": "display_data"
    },
    {
     "data": {
      "application/vnd.plotly.v1+json": {
       "config": {
        "plotlyServerURL": "https://plot.ly"
       },
       "data": [
        {
         "cells": {
          "align": "left",
          "fill": {
           "color": [
            [
             "white",
             "lightgrey",
             "white",
             "lightgrey",
             "white"
            ]
           ]
          },
          "font": {
           "size": 12
          },
          "height": 30,
          "values": [
           [
            {
             "mp-5924": {
              "bulk_modulus": 193.509,
              "elec_cond": 64.5658,
              "shear_modulus": 113.741,
              "therm_cond": 0.000300167,
              "universal_anisotropy": 1.091
             }
            },
            {
             "mp-5924": {
              "bulk_modulus": 193.509,
              "elec_cond": 64.5658,
              "shear_modulus": 113.741,
              "therm_cond": 0.000300167,
              "universal_anisotropy": 1.091
             }
            },
            {
             "mp-5924": {
              "bulk_modulus": 193.509,
              "elec_cond": 64.5658,
              "shear_modulus": 113.741,
              "therm_cond": 0.000300167,
              "universal_anisotropy": 1.091
             }
            },
            {
             "mp-5924": {
              "bulk_modulus": 193.509,
              "elec_cond": 64.5658,
              "shear_modulus": 113.741,
              "therm_cond": 0.000300167,
              "universal_anisotropy": 1.091
             }
            },
            {
             "mp-5924": {
              "bulk_modulus": 193.509,
              "elec_cond": 64.5658,
              "shear_modulus": 113.741,
              "therm_cond": 0.000300167,
              "universal_anisotropy": 1.091
             }
            }
           ],
           [
            {
             "mp-3536": {
              "bulk_modulus": 182.861,
              "elec_cond": 77.0117,
              "shear_modulus": 107.669,
              "therm_cond": 0.000316911,
              "universal_anisotropy": 1.062
             }
            },
            {
             "mp-3536": {
              "bulk_modulus": 182.861,
              "elec_cond": 77.0117,
              "shear_modulus": 107.669,
              "therm_cond": 0.000316911,
              "universal_anisotropy": 1.062
             }
            },
            {
             "mp-3536": {
              "bulk_modulus": 182.861,
              "elec_cond": 77.0117,
              "shear_modulus": 107.669,
              "therm_cond": 0.000316911,
              "universal_anisotropy": 1.062
             }
            },
            {
             "mp-3536": {
              "bulk_modulus": 182.861,
              "elec_cond": 77.0117,
              "shear_modulus": 107.669,
              "therm_cond": 0.000316911,
              "universal_anisotropy": 1.062
             }
            },
            {
             "mp-3536": {
              "bulk_modulus": 182.861,
              "elec_cond": 77.0117,
              "shear_modulus": 107.669,
              "therm_cond": 0.000316911,
              "universal_anisotropy": 1.062
             }
            }
           ],
           [
            {
             "mp-5924": {
              "bulk_modulus": 193.509,
              "elec_cond": 64.5658,
              "shear_modulus": 113.741,
              "therm_cond": 0.000300167,
              "universal_anisotropy": 1.091
             }
            },
            {
             "mp-5924": {
              "bulk_modulus": 193.509,
              "elec_cond": 64.5658,
              "shear_modulus": 113.741,
              "therm_cond": 0.000300167,
              "universal_anisotropy": 1.091
             }
            },
            {
             "mp-5924": {
              "bulk_modulus": 193.509,
              "elec_cond": 64.5658,
              "shear_modulus": 113.741,
              "therm_cond": 0.000300167,
              "universal_anisotropy": 1.091
             }
            },
            {
             "mp-5924": {
              "bulk_modulus": 193.509,
              "elec_cond": 64.5658,
              "shear_modulus": 113.741,
              "therm_cond": 0.000300167,
              "universal_anisotropy": 1.091
             }
            },
            {
             "mp-5924": {
              "bulk_modulus": 193.509,
              "elec_cond": 64.5658,
              "shear_modulus": 113.741,
              "therm_cond": 0.000300167,
              "universal_anisotropy": 1.091
             }
            }
           ],
           [
            64.5658,
            64.5658,
            64.5658,
            64.5658,
            64.5658
           ],
           [
            77.0117,
            77.0117,
            77.0117,
            77.0117,
            77.0117
           ],
           [
            64.5658,
            64.5658,
            64.5658,
            64.5658,
            64.5658
           ],
           [
            0.000300167,
            0.000300167,
            0.000300167,
            0.000300167,
            0.000300167
           ],
           [
            0.000316911,
            0.000316911,
            0.000316911,
            0.000316911,
            0.000316911
           ],
           [
            0.000300167,
            0.000300167,
            0.000300167,
            0.000300167,
            0.000300167
           ],
           [
            193.509,
            193.509,
            193.509,
            193.509,
            193.509
           ],
           [
            182.861,
            182.861,
            182.861,
            182.861,
            182.861
           ],
           [
            193.509,
            193.509,
            193.509,
            193.509,
            193.509
           ],
           [
            113.741,
            113.741,
            113.741,
            113.741,
            113.741
           ],
           [
            107.669,
            107.669,
            107.669,
            107.669,
            107.669
           ],
           [
            113.741,
            113.741,
            113.741,
            113.741,
            113.741
           ],
           [
            1.091,
            1.091,
            1.091,
            1.091,
            1.091
           ],
           [
            1.062,
            1.062,
            1.062,
            1.062,
            1.062
           ],
           [
            1.091,
            1.091,
            1.091,
            1.091,
            1.091
           ],
           [
            0.1789655172413793,
            0.11137931034482758,
            0.1789655172413793,
            0.1789655172413793,
            0.1789655172413793
           ],
           [
            0.8210344827586207,
            0.8886206896551724,
            0.9562068965517241,
            0.99,
            0.9224137931034482
           ],
           [
            0,
            0,
            -0.1351724137931034,
            -0.16896551724137931,
            -0.1013793103448275
           ],
           [
            18.605347767441433,
            19.856066778870208,
            24.02189762041949,
            25.309680930685627,
            25.956157405202205
           ]
          ]
         },
         "columnwidth": 1000,
         "header": {
          "align": "left",
          "fill": {
           "color": "lavender"
          },
          "font": {
           "size": 12
          },
          "height": 30,
          "values": [
           "Material 1 MP-ID",
           "Material 2 MP-ID",
           "Material 3 MP-ID",
           "Phase 1 Electrical conductivity, [S/m]",
           "Phase 2 Electrical conductivity, [S/m]",
           "Phase 3 Electrical conductivity, [S/m]",
           "Phase 1 Thermal conductivity, [W/m/K]",
           "Phase 2 Thermal conductivity, [W/m/K]",
           "Phase 3 Thermal conductivity, [W/m/K]",
           "Phase 1 Bulk modulus, [GPa]",
           "Phase 2 Bulk modulus, [GPa]",
           "Phase 3 Bulk modulus, [GPa]",
           "Phase 1 Shear modulus, [GPa]",
           "Phase 2 Shear modulus, [GPa]",
           "Phase 3 Shear modulus, [GPa]",
           "Phase 1 Universal anisotropy, []",
           "Phase 2 Universal anisotropy, []",
           "Phase 3 Universal anisotropy, []",
           "Phase 1 Volume Fraction",
           "Phase 2 Volume Fraction",
           "Phase 3 Volume Fraction",
           "cost"
          ]
         },
         "type": "table"
        }
       ],
       "layout": {
        "autosize": true,
        "height": 400,
        "margin": {
         "b": 0,
         "l": 0,
         "r": 0,
         "t": 40
        },
        "template": {
         "data": {
          "bar": [
           {
            "error_x": {
             "color": "rgb(36,36,36)"
            },
            "error_y": {
             "color": "rgb(36,36,36)"
            },
            "marker": {
             "line": {
              "color": "white",
              "width": 0.5
             },
             "pattern": {
              "fillmode": "overlay",
              "size": 10,
              "solidity": 0.2
             }
            },
            "type": "bar"
           }
          ],
          "barpolar": [
           {
            "marker": {
             "line": {
              "color": "white",
              "width": 0.5
             },
             "pattern": {
              "fillmode": "overlay",
              "size": 10,
              "solidity": 0.2
             }
            },
            "type": "barpolar"
           }
          ],
          "carpet": [
           {
            "aaxis": {
             "endlinecolor": "rgb(36,36,36)",
             "gridcolor": "white",
             "linecolor": "white",
             "minorgridcolor": "white",
             "startlinecolor": "rgb(36,36,36)"
            },
            "baxis": {
             "endlinecolor": "rgb(36,36,36)",
             "gridcolor": "white",
             "linecolor": "white",
             "minorgridcolor": "white",
             "startlinecolor": "rgb(36,36,36)"
            },
            "type": "carpet"
           }
          ],
          "choropleth": [
           {
            "colorbar": {
             "outlinewidth": 1,
             "tickcolor": "rgb(36,36,36)",
             "ticks": "outside"
            },
            "type": "choropleth"
           }
          ],
          "contour": [
           {
            "colorbar": {
             "outlinewidth": 1,
             "tickcolor": "rgb(36,36,36)",
             "ticks": "outside"
            },
            "colorscale": [
             [
              0,
              "#440154"
             ],
             [
              0.1111111111111111,
              "#482878"
             ],
             [
              0.2222222222222222,
              "#3e4989"
             ],
             [
              0.3333333333333333,
              "#31688e"
             ],
             [
              0.4444444444444444,
              "#26828e"
             ],
             [
              0.5555555555555556,
              "#1f9e89"
             ],
             [
              0.6666666666666666,
              "#35b779"
             ],
             [
              0.7777777777777778,
              "#6ece58"
             ],
             [
              0.8888888888888888,
              "#b5de2b"
             ],
             [
              1,
              "#fde725"
             ]
            ],
            "type": "contour"
           }
          ],
          "contourcarpet": [
           {
            "colorbar": {
             "outlinewidth": 1,
             "tickcolor": "rgb(36,36,36)",
             "ticks": "outside"
            },
            "type": "contourcarpet"
           }
          ],
          "heatmap": [
           {
            "colorbar": {
             "outlinewidth": 1,
             "tickcolor": "rgb(36,36,36)",
             "ticks": "outside"
            },
            "colorscale": [
             [
              0,
              "#440154"
             ],
             [
              0.1111111111111111,
              "#482878"
             ],
             [
              0.2222222222222222,
              "#3e4989"
             ],
             [
              0.3333333333333333,
              "#31688e"
             ],
             [
              0.4444444444444444,
              "#26828e"
             ],
             [
              0.5555555555555556,
              "#1f9e89"
             ],
             [
              0.6666666666666666,
              "#35b779"
             ],
             [
              0.7777777777777778,
              "#6ece58"
             ],
             [
              0.8888888888888888,
              "#b5de2b"
             ],
             [
              1,
              "#fde725"
             ]
            ],
            "type": "heatmap"
           }
          ],
          "heatmapgl": [
           {
            "colorbar": {
             "outlinewidth": 1,
             "tickcolor": "rgb(36,36,36)",
             "ticks": "outside"
            },
            "colorscale": [
             [
              0,
              "#440154"
             ],
             [
              0.1111111111111111,
              "#482878"
             ],
             [
              0.2222222222222222,
              "#3e4989"
             ],
             [
              0.3333333333333333,
              "#31688e"
             ],
             [
              0.4444444444444444,
              "#26828e"
             ],
             [
              0.5555555555555556,
              "#1f9e89"
             ],
             [
              0.6666666666666666,
              "#35b779"
             ],
             [
              0.7777777777777778,
              "#6ece58"
             ],
             [
              0.8888888888888888,
              "#b5de2b"
             ],
             [
              1,
              "#fde725"
             ]
            ],
            "type": "heatmapgl"
           }
          ],
          "histogram": [
           {
            "marker": {
             "line": {
              "color": "white",
              "width": 0.6
             }
            },
            "type": "histogram"
           }
          ],
          "histogram2d": [
           {
            "colorbar": {
             "outlinewidth": 1,
             "tickcolor": "rgb(36,36,36)",
             "ticks": "outside"
            },
            "colorscale": [
             [
              0,
              "#440154"
             ],
             [
              0.1111111111111111,
              "#482878"
             ],
             [
              0.2222222222222222,
              "#3e4989"
             ],
             [
              0.3333333333333333,
              "#31688e"
             ],
             [
              0.4444444444444444,
              "#26828e"
             ],
             [
              0.5555555555555556,
              "#1f9e89"
             ],
             [
              0.6666666666666666,
              "#35b779"
             ],
             [
              0.7777777777777778,
              "#6ece58"
             ],
             [
              0.8888888888888888,
              "#b5de2b"
             ],
             [
              1,
              "#fde725"
             ]
            ],
            "type": "histogram2d"
           }
          ],
          "histogram2dcontour": [
           {
            "colorbar": {
             "outlinewidth": 1,
             "tickcolor": "rgb(36,36,36)",
             "ticks": "outside"
            },
            "colorscale": [
             [
              0,
              "#440154"
             ],
             [
              0.1111111111111111,
              "#482878"
             ],
             [
              0.2222222222222222,
              "#3e4989"
             ],
             [
              0.3333333333333333,
              "#31688e"
             ],
             [
              0.4444444444444444,
              "#26828e"
             ],
             [
              0.5555555555555556,
              "#1f9e89"
             ],
             [
              0.6666666666666666,
              "#35b779"
             ],
             [
              0.7777777777777778,
              "#6ece58"
             ],
             [
              0.8888888888888888,
              "#b5de2b"
             ],
             [
              1,
              "#fde725"
             ]
            ],
            "type": "histogram2dcontour"
           }
          ],
          "mesh3d": [
           {
            "colorbar": {
             "outlinewidth": 1,
             "tickcolor": "rgb(36,36,36)",
             "ticks": "outside"
            },
            "type": "mesh3d"
           }
          ],
          "parcoords": [
           {
            "line": {
             "colorbar": {
              "outlinewidth": 1,
              "tickcolor": "rgb(36,36,36)",
              "ticks": "outside"
             }
            },
            "type": "parcoords"
           }
          ],
          "pie": [
           {
            "automargin": true,
            "type": "pie"
           }
          ],
          "scatter": [
           {
            "fillpattern": {
             "fillmode": "overlay",
             "size": 10,
             "solidity": 0.2
            },
            "type": "scatter"
           }
          ],
          "scatter3d": [
           {
            "line": {
             "colorbar": {
              "outlinewidth": 1,
              "tickcolor": "rgb(36,36,36)",
              "ticks": "outside"
             }
            },
            "marker": {
             "colorbar": {
              "outlinewidth": 1,
              "tickcolor": "rgb(36,36,36)",
              "ticks": "outside"
             }
            },
            "type": "scatter3d"
           }
          ],
          "scattercarpet": [
           {
            "marker": {
             "colorbar": {
              "outlinewidth": 1,
              "tickcolor": "rgb(36,36,36)",
              "ticks": "outside"
             }
            },
            "type": "scattercarpet"
           }
          ],
          "scattergeo": [
           {
            "marker": {
             "colorbar": {
              "outlinewidth": 1,
              "tickcolor": "rgb(36,36,36)",
              "ticks": "outside"
             }
            },
            "type": "scattergeo"
           }
          ],
          "scattergl": [
           {
            "marker": {
             "colorbar": {
              "outlinewidth": 1,
              "tickcolor": "rgb(36,36,36)",
              "ticks": "outside"
             }
            },
            "type": "scattergl"
           }
          ],
          "scattermapbox": [
           {
            "marker": {
             "colorbar": {
              "outlinewidth": 1,
              "tickcolor": "rgb(36,36,36)",
              "ticks": "outside"
             }
            },
            "type": "scattermapbox"
           }
          ],
          "scatterpolar": [
           {
            "marker": {
             "colorbar": {
              "outlinewidth": 1,
              "tickcolor": "rgb(36,36,36)",
              "ticks": "outside"
             }
            },
            "type": "scatterpolar"
           }
          ],
          "scatterpolargl": [
           {
            "marker": {
             "colorbar": {
              "outlinewidth": 1,
              "tickcolor": "rgb(36,36,36)",
              "ticks": "outside"
             }
            },
            "type": "scatterpolargl"
           }
          ],
          "scatterternary": [
           {
            "marker": {
             "colorbar": {
              "outlinewidth": 1,
              "tickcolor": "rgb(36,36,36)",
              "ticks": "outside"
             }
            },
            "type": "scatterternary"
           }
          ],
          "surface": [
           {
            "colorbar": {
             "outlinewidth": 1,
             "tickcolor": "rgb(36,36,36)",
             "ticks": "outside"
            },
            "colorscale": [
             [
              0,
              "#440154"
             ],
             [
              0.1111111111111111,
              "#482878"
             ],
             [
              0.2222222222222222,
              "#3e4989"
             ],
             [
              0.3333333333333333,
              "#31688e"
             ],
             [
              0.4444444444444444,
              "#26828e"
             ],
             [
              0.5555555555555556,
              "#1f9e89"
             ],
             [
              0.6666666666666666,
              "#35b779"
             ],
             [
              0.7777777777777778,
              "#6ece58"
             ],
             [
              0.8888888888888888,
              "#b5de2b"
             ],
             [
              1,
              "#fde725"
             ]
            ],
            "type": "surface"
           }
          ],
          "table": [
           {
            "cells": {
             "fill": {
              "color": "rgb(237,237,237)"
             },
             "line": {
              "color": "white"
             }
            },
            "header": {
             "fill": {
              "color": "rgb(217,217,217)"
             },
             "line": {
              "color": "white"
             }
            },
            "type": "table"
           }
          ]
         },
         "layout": {
          "annotationdefaults": {
           "arrowhead": 0,
           "arrowwidth": 1
          },
          "autotypenumbers": "strict",
          "coloraxis": {
           "colorbar": {
            "outlinewidth": 1,
            "tickcolor": "rgb(36,36,36)",
            "ticks": "outside"
           }
          },
          "colorscale": {
           "diverging": [
            [
             0,
             "rgb(103,0,31)"
            ],
            [
             0.1,
             "rgb(178,24,43)"
            ],
            [
             0.2,
             "rgb(214,96,77)"
            ],
            [
             0.3,
             "rgb(244,165,130)"
            ],
            [
             0.4,
             "rgb(253,219,199)"
            ],
            [
             0.5,
             "rgb(247,247,247)"
            ],
            [
             0.6,
             "rgb(209,229,240)"
            ],
            [
             0.7,
             "rgb(146,197,222)"
            ],
            [
             0.8,
             "rgb(67,147,195)"
            ],
            [
             0.9,
             "rgb(33,102,172)"
            ],
            [
             1,
             "rgb(5,48,97)"
            ]
           ],
           "sequential": [
            [
             0,
             "#440154"
            ],
            [
             0.1111111111111111,
             "#482878"
            ],
            [
             0.2222222222222222,
             "#3e4989"
            ],
            [
             0.3333333333333333,
             "#31688e"
            ],
            [
             0.4444444444444444,
             "#26828e"
            ],
            [
             0.5555555555555556,
             "#1f9e89"
            ],
            [
             0.6666666666666666,
             "#35b779"
            ],
            [
             0.7777777777777778,
             "#6ece58"
            ],
            [
             0.8888888888888888,
             "#b5de2b"
            ],
            [
             1,
             "#fde725"
            ]
           ],
           "sequentialminus": [
            [
             0,
             "#440154"
            ],
            [
             0.1111111111111111,
             "#482878"
            ],
            [
             0.2222222222222222,
             "#3e4989"
            ],
            [
             0.3333333333333333,
             "#31688e"
            ],
            [
             0.4444444444444444,
             "#26828e"
            ],
            [
             0.5555555555555556,
             "#1f9e89"
            ],
            [
             0.6666666666666666,
             "#35b779"
            ],
            [
             0.7777777777777778,
             "#6ece58"
            ],
            [
             0.8888888888888888,
             "#b5de2b"
            ],
            [
             1,
             "#fde725"
            ]
           ]
          },
          "colorway": [
           "#1F77B4",
           "#FF7F0E",
           "#2CA02C",
           "#D62728",
           "#9467BD",
           "#8C564B",
           "#E377C2",
           "#7F7F7F",
           "#BCBD22",
           "#17BECF"
          ],
          "font": {
           "color": "rgb(36,36,36)"
          },
          "geo": {
           "bgcolor": "white",
           "lakecolor": "white",
           "landcolor": "white",
           "showlakes": true,
           "showland": true,
           "subunitcolor": "white"
          },
          "hoverlabel": {
           "align": "left"
          },
          "hovermode": "closest",
          "mapbox": {
           "style": "light"
          },
          "paper_bgcolor": "white",
          "plot_bgcolor": "white",
          "polar": {
           "angularaxis": {
            "gridcolor": "rgb(232,232,232)",
            "linecolor": "rgb(36,36,36)",
            "showgrid": false,
            "showline": true,
            "ticks": "outside"
           },
           "bgcolor": "white",
           "radialaxis": {
            "gridcolor": "rgb(232,232,232)",
            "linecolor": "rgb(36,36,36)",
            "showgrid": false,
            "showline": true,
            "ticks": "outside"
           }
          },
          "scene": {
           "xaxis": {
            "backgroundcolor": "white",
            "gridcolor": "rgb(232,232,232)",
            "gridwidth": 2,
            "linecolor": "rgb(36,36,36)",
            "showbackground": true,
            "showgrid": false,
            "showline": true,
            "ticks": "outside",
            "zeroline": false,
            "zerolinecolor": "rgb(36,36,36)"
           },
           "yaxis": {
            "backgroundcolor": "white",
            "gridcolor": "rgb(232,232,232)",
            "gridwidth": 2,
            "linecolor": "rgb(36,36,36)",
            "showbackground": true,
            "showgrid": false,
            "showline": true,
            "ticks": "outside",
            "zeroline": false,
            "zerolinecolor": "rgb(36,36,36)"
           },
           "zaxis": {
            "backgroundcolor": "white",
            "gridcolor": "rgb(232,232,232)",
            "gridwidth": 2,
            "linecolor": "rgb(36,36,36)",
            "showbackground": true,
            "showgrid": false,
            "showline": true,
            "ticks": "outside",
            "zeroline": false,
            "zerolinecolor": "rgb(36,36,36)"
           }
          },
          "shapedefaults": {
           "fillcolor": "black",
           "line": {
            "width": 0
           },
           "opacity": 0.3
          },
          "ternary": {
           "aaxis": {
            "gridcolor": "rgb(232,232,232)",
            "linecolor": "rgb(36,36,36)",
            "showgrid": false,
            "showline": true,
            "ticks": "outside"
           },
           "baxis": {
            "gridcolor": "rgb(232,232,232)",
            "linecolor": "rgb(36,36,36)",
            "showgrid": false,
            "showline": true,
            "ticks": "outside"
           },
           "bgcolor": "white",
           "caxis": {
            "gridcolor": "rgb(232,232,232)",
            "linecolor": "rgb(36,36,36)",
            "showgrid": false,
            "showline": true,
            "ticks": "outside"
           }
          },
          "title": {
           "x": 0.05
          },
          "xaxis": {
           "automargin": true,
           "gridcolor": "rgb(232,232,232)",
           "linecolor": "rgb(36,36,36)",
           "showgrid": false,
           "showline": true,
           "ticks": "outside",
           "title": {
            "standoff": 15
           },
           "zeroline": false,
           "zerolinecolor": "rgb(36,36,36)"
          },
          "yaxis": {
           "automargin": true,
           "gridcolor": "rgb(232,232,232)",
           "linecolor": "rgb(36,36,36)",
           "showgrid": false,
           "showline": true,
           "ticks": "outside",
           "title": {
            "standoff": 15
           },
           "zeroline": false,
           "zerolinecolor": "rgb(36,36,36)"
          }
         }
        },
        "title": {
         "font": {
          "size": 20
         },
         "text": "Optimal Material Combinations to Comprise Desired Composite",
         "x": 0.15
        }
       }
      }
     },
     "metadata": {},
     "output_type": "display_data"
    },
    {
     "data": {
      "application/vnd.plotly.v1+json": {
       "config": {
        "plotlyServerURL": "https://plot.ly"
       },
       "data": [
        {
         "cells": {
          "align": "left",
          "fill": {
           "color": [
            [
             "white",
             "lightgrey",
             "white",
             "lightgrey",
             "white"
            ]
           ]
          },
          "font": {
           "size": 12
          },
          "height": 30,
          "values": [
           [
            {
             "mp-5924": {
              "bulk_modulus": 193.509,
              "elec_cond": 64.5658,
              "shear_modulus": 113.741,
              "therm_cond": 0.000300167,
              "universal_anisotropy": 1.091
             }
            },
            {
             "mp-5924": {
              "bulk_modulus": 193.509,
              "elec_cond": 64.5658,
              "shear_modulus": 113.741,
              "therm_cond": 0.000300167,
              "universal_anisotropy": 1.091
             }
            },
            {
             "mp-5924": {
              "bulk_modulus": 193.509,
              "elec_cond": 64.5658,
              "shear_modulus": 113.741,
              "therm_cond": 0.000300167,
              "universal_anisotropy": 1.091
             }
            },
            {
             "mp-5924": {
              "bulk_modulus": 193.509,
              "elec_cond": 64.5658,
              "shear_modulus": 113.741,
              "therm_cond": 0.000300167,
              "universal_anisotropy": 1.091
             }
            },
            {
             "mp-5924": {
              "bulk_modulus": 193.509,
              "elec_cond": 64.5658,
              "shear_modulus": 113.741,
              "therm_cond": 0.000300167,
              "universal_anisotropy": 1.091
             }
            }
           ],
           [
            {
             "mp-5924": {
              "bulk_modulus": 193.509,
              "elec_cond": 64.5658,
              "shear_modulus": 113.741,
              "therm_cond": 0.000300167,
              "universal_anisotropy": 1.091
             }
            },
            {
             "mp-5924": {
              "bulk_modulus": 193.509,
              "elec_cond": 64.5658,
              "shear_modulus": 113.741,
              "therm_cond": 0.000300167,
              "universal_anisotropy": 1.091
             }
            },
            {
             "mp-5924": {
              "bulk_modulus": 193.509,
              "elec_cond": 64.5658,
              "shear_modulus": 113.741,
              "therm_cond": 0.000300167,
              "universal_anisotropy": 1.091
             }
            },
            {
             "mp-5924": {
              "bulk_modulus": 193.509,
              "elec_cond": 64.5658,
              "shear_modulus": 113.741,
              "therm_cond": 0.000300167,
              "universal_anisotropy": 1.091
             }
            },
            {
             "mp-5924": {
              "bulk_modulus": 193.509,
              "elec_cond": 64.5658,
              "shear_modulus": 113.741,
              "therm_cond": 0.000300167,
              "universal_anisotropy": 1.091
             }
            }
           ],
           [
            {
             "mp-752826": {
              "bulk_modulus": 168.258,
              "elec_cond": 41.0475,
              "shear_modulus": 90.134,
              "therm_cond": 0.000111994,
              "universal_anisotropy": 1.271
             }
            },
            {
             "mp-752826": {
              "bulk_modulus": 168.258,
              "elec_cond": 41.0475,
              "shear_modulus": 90.134,
              "therm_cond": 0.000111994,
              "universal_anisotropy": 1.271
             }
            },
            {
             "mp-752826": {
              "bulk_modulus": 168.258,
              "elec_cond": 41.0475,
              "shear_modulus": 90.134,
              "therm_cond": 0.000111994,
              "universal_anisotropy": 1.271
             }
            },
            {
             "mp-752826": {
              "bulk_modulus": 168.258,
              "elec_cond": 41.0475,
              "shear_modulus": 90.134,
              "therm_cond": 0.000111994,
              "universal_anisotropy": 1.271
             }
            },
            {
             "mp-752826": {
              "bulk_modulus": 168.258,
              "elec_cond": 41.0475,
              "shear_modulus": 90.134,
              "therm_cond": 0.000111994,
              "universal_anisotropy": 1.271
             }
            }
           ],
           [
            64.5658,
            64.5658,
            64.5658,
            64.5658,
            64.5658
           ],
           [
            64.5658,
            64.5658,
            64.5658,
            64.5658,
            64.5658
           ],
           [
            41.0475,
            41.0475,
            41.0475,
            41.0475,
            41.0475
           ],
           [
            0.000300167,
            0.000300167,
            0.000300167,
            0.000300167,
            0.000300167
           ],
           [
            0.000300167,
            0.000300167,
            0.000300167,
            0.000300167,
            0.000300167
           ],
           [
            0.000111994,
            0.000111994,
            0.000111994,
            0.000111994,
            0.000111994
           ],
           [
            193.509,
            193.509,
            193.509,
            193.509,
            193.509
           ],
           [
            193.509,
            193.509,
            193.509,
            193.509,
            193.509
           ],
           [
            168.258,
            168.258,
            168.258,
            168.258,
            168.258
           ],
           [
            113.741,
            113.741,
            113.741,
            113.741,
            113.741
           ],
           [
            113.741,
            113.741,
            113.741,
            113.741,
            113.741
           ],
           [
            90.134,
            90.134,
            90.134,
            90.134,
            90.134
           ],
           [
            1.091,
            1.091,
            1.091,
            1.091,
            1.091
           ],
           [
            1.091,
            1.091,
            1.091,
            1.091,
            1.091
           ],
           [
            1.271,
            1.271,
            1.271,
            1.271,
            1.271
           ],
           [
            0.1789655172413793,
            0.11137931034482758,
            0.1789655172413793,
            0.1789655172413793,
            0.1789655172413793
           ],
           [
            0.8210344827586207,
            0.8886206896551724,
            0.9562068965517241,
            0.99,
            0.9224137931034482
           ],
           [
            0,
            0,
            -0.1351724137931034,
            -0.16896551724137931,
            -0.1013793103448275
           ],
           [
            17.789108928555997,
            18.42994043505311,
            23.671762206859327,
            24.73351949167279,
            25.75042220353378
           ]
          ]
         },
         "columnwidth": 1000,
         "header": {
          "align": "left",
          "fill": {
           "color": "lavender"
          },
          "font": {
           "size": 12
          },
          "height": 30,
          "values": [
           "Material 1 MP-ID",
           "Material 2 MP-ID",
           "Material 3 MP-ID",
           "Phase 1 Electrical conductivity, [S/m]",
           "Phase 2 Electrical conductivity, [S/m]",
           "Phase 3 Electrical conductivity, [S/m]",
           "Phase 1 Thermal conductivity, [W/m/K]",
           "Phase 2 Thermal conductivity, [W/m/K]",
           "Phase 3 Thermal conductivity, [W/m/K]",
           "Phase 1 Bulk modulus, [GPa]",
           "Phase 2 Bulk modulus, [GPa]",
           "Phase 3 Bulk modulus, [GPa]",
           "Phase 1 Shear modulus, [GPa]",
           "Phase 2 Shear modulus, [GPa]",
           "Phase 3 Shear modulus, [GPa]",
           "Phase 1 Universal anisotropy, []",
           "Phase 2 Universal anisotropy, []",
           "Phase 3 Universal anisotropy, []",
           "Phase 1 Volume Fraction",
           "Phase 2 Volume Fraction",
           "Phase 3 Volume Fraction",
           "cost"
          ]
         },
         "type": "table"
        }
       ],
       "layout": {
        "autosize": true,
        "height": 400,
        "margin": {
         "b": 0,
         "l": 0,
         "r": 0,
         "t": 40
        },
        "template": {
         "data": {
          "bar": [
           {
            "error_x": {
             "color": "rgb(36,36,36)"
            },
            "error_y": {
             "color": "rgb(36,36,36)"
            },
            "marker": {
             "line": {
              "color": "white",
              "width": 0.5
             },
             "pattern": {
              "fillmode": "overlay",
              "size": 10,
              "solidity": 0.2
             }
            },
            "type": "bar"
           }
          ],
          "barpolar": [
           {
            "marker": {
             "line": {
              "color": "white",
              "width": 0.5
             },
             "pattern": {
              "fillmode": "overlay",
              "size": 10,
              "solidity": 0.2
             }
            },
            "type": "barpolar"
           }
          ],
          "carpet": [
           {
            "aaxis": {
             "endlinecolor": "rgb(36,36,36)",
             "gridcolor": "white",
             "linecolor": "white",
             "minorgridcolor": "white",
             "startlinecolor": "rgb(36,36,36)"
            },
            "baxis": {
             "endlinecolor": "rgb(36,36,36)",
             "gridcolor": "white",
             "linecolor": "white",
             "minorgridcolor": "white",
             "startlinecolor": "rgb(36,36,36)"
            },
            "type": "carpet"
           }
          ],
          "choropleth": [
           {
            "colorbar": {
             "outlinewidth": 1,
             "tickcolor": "rgb(36,36,36)",
             "ticks": "outside"
            },
            "type": "choropleth"
           }
          ],
          "contour": [
           {
            "colorbar": {
             "outlinewidth": 1,
             "tickcolor": "rgb(36,36,36)",
             "ticks": "outside"
            },
            "colorscale": [
             [
              0,
              "#440154"
             ],
             [
              0.1111111111111111,
              "#482878"
             ],
             [
              0.2222222222222222,
              "#3e4989"
             ],
             [
              0.3333333333333333,
              "#31688e"
             ],
             [
              0.4444444444444444,
              "#26828e"
             ],
             [
              0.5555555555555556,
              "#1f9e89"
             ],
             [
              0.6666666666666666,
              "#35b779"
             ],
             [
              0.7777777777777778,
              "#6ece58"
             ],
             [
              0.8888888888888888,
              "#b5de2b"
             ],
             [
              1,
              "#fde725"
             ]
            ],
            "type": "contour"
           }
          ],
          "contourcarpet": [
           {
            "colorbar": {
             "outlinewidth": 1,
             "tickcolor": "rgb(36,36,36)",
             "ticks": "outside"
            },
            "type": "contourcarpet"
           }
          ],
          "heatmap": [
           {
            "colorbar": {
             "outlinewidth": 1,
             "tickcolor": "rgb(36,36,36)",
             "ticks": "outside"
            },
            "colorscale": [
             [
              0,
              "#440154"
             ],
             [
              0.1111111111111111,
              "#482878"
             ],
             [
              0.2222222222222222,
              "#3e4989"
             ],
             [
              0.3333333333333333,
              "#31688e"
             ],
             [
              0.4444444444444444,
              "#26828e"
             ],
             [
              0.5555555555555556,
              "#1f9e89"
             ],
             [
              0.6666666666666666,
              "#35b779"
             ],
             [
              0.7777777777777778,
              "#6ece58"
             ],
             [
              0.8888888888888888,
              "#b5de2b"
             ],
             [
              1,
              "#fde725"
             ]
            ],
            "type": "heatmap"
           }
          ],
          "heatmapgl": [
           {
            "colorbar": {
             "outlinewidth": 1,
             "tickcolor": "rgb(36,36,36)",
             "ticks": "outside"
            },
            "colorscale": [
             [
              0,
              "#440154"
             ],
             [
              0.1111111111111111,
              "#482878"
             ],
             [
              0.2222222222222222,
              "#3e4989"
             ],
             [
              0.3333333333333333,
              "#31688e"
             ],
             [
              0.4444444444444444,
              "#26828e"
             ],
             [
              0.5555555555555556,
              "#1f9e89"
             ],
             [
              0.6666666666666666,
              "#35b779"
             ],
             [
              0.7777777777777778,
              "#6ece58"
             ],
             [
              0.8888888888888888,
              "#b5de2b"
             ],
             [
              1,
              "#fde725"
             ]
            ],
            "type": "heatmapgl"
           }
          ],
          "histogram": [
           {
            "marker": {
             "line": {
              "color": "white",
              "width": 0.6
             }
            },
            "type": "histogram"
           }
          ],
          "histogram2d": [
           {
            "colorbar": {
             "outlinewidth": 1,
             "tickcolor": "rgb(36,36,36)",
             "ticks": "outside"
            },
            "colorscale": [
             [
              0,
              "#440154"
             ],
             [
              0.1111111111111111,
              "#482878"
             ],
             [
              0.2222222222222222,
              "#3e4989"
             ],
             [
              0.3333333333333333,
              "#31688e"
             ],
             [
              0.4444444444444444,
              "#26828e"
             ],
             [
              0.5555555555555556,
              "#1f9e89"
             ],
             [
              0.6666666666666666,
              "#35b779"
             ],
             [
              0.7777777777777778,
              "#6ece58"
             ],
             [
              0.8888888888888888,
              "#b5de2b"
             ],
             [
              1,
              "#fde725"
             ]
            ],
            "type": "histogram2d"
           }
          ],
          "histogram2dcontour": [
           {
            "colorbar": {
             "outlinewidth": 1,
             "tickcolor": "rgb(36,36,36)",
             "ticks": "outside"
            },
            "colorscale": [
             [
              0,
              "#440154"
             ],
             [
              0.1111111111111111,
              "#482878"
             ],
             [
              0.2222222222222222,
              "#3e4989"
             ],
             [
              0.3333333333333333,
              "#31688e"
             ],
             [
              0.4444444444444444,
              "#26828e"
             ],
             [
              0.5555555555555556,
              "#1f9e89"
             ],
             [
              0.6666666666666666,
              "#35b779"
             ],
             [
              0.7777777777777778,
              "#6ece58"
             ],
             [
              0.8888888888888888,
              "#b5de2b"
             ],
             [
              1,
              "#fde725"
             ]
            ],
            "type": "histogram2dcontour"
           }
          ],
          "mesh3d": [
           {
            "colorbar": {
             "outlinewidth": 1,
             "tickcolor": "rgb(36,36,36)",
             "ticks": "outside"
            },
            "type": "mesh3d"
           }
          ],
          "parcoords": [
           {
            "line": {
             "colorbar": {
              "outlinewidth": 1,
              "tickcolor": "rgb(36,36,36)",
              "ticks": "outside"
             }
            },
            "type": "parcoords"
           }
          ],
          "pie": [
           {
            "automargin": true,
            "type": "pie"
           }
          ],
          "scatter": [
           {
            "fillpattern": {
             "fillmode": "overlay",
             "size": 10,
             "solidity": 0.2
            },
            "type": "scatter"
           }
          ],
          "scatter3d": [
           {
            "line": {
             "colorbar": {
              "outlinewidth": 1,
              "tickcolor": "rgb(36,36,36)",
              "ticks": "outside"
             }
            },
            "marker": {
             "colorbar": {
              "outlinewidth": 1,
              "tickcolor": "rgb(36,36,36)",
              "ticks": "outside"
             }
            },
            "type": "scatter3d"
           }
          ],
          "scattercarpet": [
           {
            "marker": {
             "colorbar": {
              "outlinewidth": 1,
              "tickcolor": "rgb(36,36,36)",
              "ticks": "outside"
             }
            },
            "type": "scattercarpet"
           }
          ],
          "scattergeo": [
           {
            "marker": {
             "colorbar": {
              "outlinewidth": 1,
              "tickcolor": "rgb(36,36,36)",
              "ticks": "outside"
             }
            },
            "type": "scattergeo"
           }
          ],
          "scattergl": [
           {
            "marker": {
             "colorbar": {
              "outlinewidth": 1,
              "tickcolor": "rgb(36,36,36)",
              "ticks": "outside"
             }
            },
            "type": "scattergl"
           }
          ],
          "scattermapbox": [
           {
            "marker": {
             "colorbar": {
              "outlinewidth": 1,
              "tickcolor": "rgb(36,36,36)",
              "ticks": "outside"
             }
            },
            "type": "scattermapbox"
           }
          ],
          "scatterpolar": [
           {
            "marker": {
             "colorbar": {
              "outlinewidth": 1,
              "tickcolor": "rgb(36,36,36)",
              "ticks": "outside"
             }
            },
            "type": "scatterpolar"
           }
          ],
          "scatterpolargl": [
           {
            "marker": {
             "colorbar": {
              "outlinewidth": 1,
              "tickcolor": "rgb(36,36,36)",
              "ticks": "outside"
             }
            },
            "type": "scatterpolargl"
           }
          ],
          "scatterternary": [
           {
            "marker": {
             "colorbar": {
              "outlinewidth": 1,
              "tickcolor": "rgb(36,36,36)",
              "ticks": "outside"
             }
            },
            "type": "scatterternary"
           }
          ],
          "surface": [
           {
            "colorbar": {
             "outlinewidth": 1,
             "tickcolor": "rgb(36,36,36)",
             "ticks": "outside"
            },
            "colorscale": [
             [
              0,
              "#440154"
             ],
             [
              0.1111111111111111,
              "#482878"
             ],
             [
              0.2222222222222222,
              "#3e4989"
             ],
             [
              0.3333333333333333,
              "#31688e"
             ],
             [
              0.4444444444444444,
              "#26828e"
             ],
             [
              0.5555555555555556,
              "#1f9e89"
             ],
             [
              0.6666666666666666,
              "#35b779"
             ],
             [
              0.7777777777777778,
              "#6ece58"
             ],
             [
              0.8888888888888888,
              "#b5de2b"
             ],
             [
              1,
              "#fde725"
             ]
            ],
            "type": "surface"
           }
          ],
          "table": [
           {
            "cells": {
             "fill": {
              "color": "rgb(237,237,237)"
             },
             "line": {
              "color": "white"
             }
            },
            "header": {
             "fill": {
              "color": "rgb(217,217,217)"
             },
             "line": {
              "color": "white"
             }
            },
            "type": "table"
           }
          ]
         },
         "layout": {
          "annotationdefaults": {
           "arrowhead": 0,
           "arrowwidth": 1
          },
          "autotypenumbers": "strict",
          "coloraxis": {
           "colorbar": {
            "outlinewidth": 1,
            "tickcolor": "rgb(36,36,36)",
            "ticks": "outside"
           }
          },
          "colorscale": {
           "diverging": [
            [
             0,
             "rgb(103,0,31)"
            ],
            [
             0.1,
             "rgb(178,24,43)"
            ],
            [
             0.2,
             "rgb(214,96,77)"
            ],
            [
             0.3,
             "rgb(244,165,130)"
            ],
            [
             0.4,
             "rgb(253,219,199)"
            ],
            [
             0.5,
             "rgb(247,247,247)"
            ],
            [
             0.6,
             "rgb(209,229,240)"
            ],
            [
             0.7,
             "rgb(146,197,222)"
            ],
            [
             0.8,
             "rgb(67,147,195)"
            ],
            [
             0.9,
             "rgb(33,102,172)"
            ],
            [
             1,
             "rgb(5,48,97)"
            ]
           ],
           "sequential": [
            [
             0,
             "#440154"
            ],
            [
             0.1111111111111111,
             "#482878"
            ],
            [
             0.2222222222222222,
             "#3e4989"
            ],
            [
             0.3333333333333333,
             "#31688e"
            ],
            [
             0.4444444444444444,
             "#26828e"
            ],
            [
             0.5555555555555556,
             "#1f9e89"
            ],
            [
             0.6666666666666666,
             "#35b779"
            ],
            [
             0.7777777777777778,
             "#6ece58"
            ],
            [
             0.8888888888888888,
             "#b5de2b"
            ],
            [
             1,
             "#fde725"
            ]
           ],
           "sequentialminus": [
            [
             0,
             "#440154"
            ],
            [
             0.1111111111111111,
             "#482878"
            ],
            [
             0.2222222222222222,
             "#3e4989"
            ],
            [
             0.3333333333333333,
             "#31688e"
            ],
            [
             0.4444444444444444,
             "#26828e"
            ],
            [
             0.5555555555555556,
             "#1f9e89"
            ],
            [
             0.6666666666666666,
             "#35b779"
            ],
            [
             0.7777777777777778,
             "#6ece58"
            ],
            [
             0.8888888888888888,
             "#b5de2b"
            ],
            [
             1,
             "#fde725"
            ]
           ]
          },
          "colorway": [
           "#1F77B4",
           "#FF7F0E",
           "#2CA02C",
           "#D62728",
           "#9467BD",
           "#8C564B",
           "#E377C2",
           "#7F7F7F",
           "#BCBD22",
           "#17BECF"
          ],
          "font": {
           "color": "rgb(36,36,36)"
          },
          "geo": {
           "bgcolor": "white",
           "lakecolor": "white",
           "landcolor": "white",
           "showlakes": true,
           "showland": true,
           "subunitcolor": "white"
          },
          "hoverlabel": {
           "align": "left"
          },
          "hovermode": "closest",
          "mapbox": {
           "style": "light"
          },
          "paper_bgcolor": "white",
          "plot_bgcolor": "white",
          "polar": {
           "angularaxis": {
            "gridcolor": "rgb(232,232,232)",
            "linecolor": "rgb(36,36,36)",
            "showgrid": false,
            "showline": true,
            "ticks": "outside"
           },
           "bgcolor": "white",
           "radialaxis": {
            "gridcolor": "rgb(232,232,232)",
            "linecolor": "rgb(36,36,36)",
            "showgrid": false,
            "showline": true,
            "ticks": "outside"
           }
          },
          "scene": {
           "xaxis": {
            "backgroundcolor": "white",
            "gridcolor": "rgb(232,232,232)",
            "gridwidth": 2,
            "linecolor": "rgb(36,36,36)",
            "showbackground": true,
            "showgrid": false,
            "showline": true,
            "ticks": "outside",
            "zeroline": false,
            "zerolinecolor": "rgb(36,36,36)"
           },
           "yaxis": {
            "backgroundcolor": "white",
            "gridcolor": "rgb(232,232,232)",
            "gridwidth": 2,
            "linecolor": "rgb(36,36,36)",
            "showbackground": true,
            "showgrid": false,
            "showline": true,
            "ticks": "outside",
            "zeroline": false,
            "zerolinecolor": "rgb(36,36,36)"
           },
           "zaxis": {
            "backgroundcolor": "white",
            "gridcolor": "rgb(232,232,232)",
            "gridwidth": 2,
            "linecolor": "rgb(36,36,36)",
            "showbackground": true,
            "showgrid": false,
            "showline": true,
            "ticks": "outside",
            "zeroline": false,
            "zerolinecolor": "rgb(36,36,36)"
           }
          },
          "shapedefaults": {
           "fillcolor": "black",
           "line": {
            "width": 0
           },
           "opacity": 0.3
          },
          "ternary": {
           "aaxis": {
            "gridcolor": "rgb(232,232,232)",
            "linecolor": "rgb(36,36,36)",
            "showgrid": false,
            "showline": true,
            "ticks": "outside"
           },
           "baxis": {
            "gridcolor": "rgb(232,232,232)",
            "linecolor": "rgb(36,36,36)",
            "showgrid": false,
            "showline": true,
            "ticks": "outside"
           },
           "bgcolor": "white",
           "caxis": {
            "gridcolor": "rgb(232,232,232)",
            "linecolor": "rgb(36,36,36)",
            "showgrid": false,
            "showline": true,
            "ticks": "outside"
           }
          },
          "title": {
           "x": 0.05
          },
          "xaxis": {
           "automargin": true,
           "gridcolor": "rgb(232,232,232)",
           "linecolor": "rgb(36,36,36)",
           "showgrid": false,
           "showline": true,
           "ticks": "outside",
           "title": {
            "standoff": 15
           },
           "zeroline": false,
           "zerolinecolor": "rgb(36,36,36)"
          },
          "yaxis": {
           "automargin": true,
           "gridcolor": "rgb(232,232,232)",
           "linecolor": "rgb(36,36,36)",
           "showgrid": false,
           "showline": true,
           "ticks": "outside",
           "title": {
            "standoff": 15
           },
           "zeroline": false,
           "zerolinecolor": "rgb(36,36,36)"
          }
         }
        },
        "title": {
         "font": {
          "size": 20
         },
         "text": "Optimal Material Combinations to Comprise Desired Composite",
         "x": 0.15
        }
       }
      }
     },
     "metadata": {},
     "output_type": "display_data"
    },
    {
     "data": {
      "application/vnd.plotly.v1+json": {
       "config": {
        "plotlyServerURL": "https://plot.ly"
       },
       "data": [
        {
         "cells": {
          "align": "left",
          "fill": {
           "color": [
            [
             "white",
             "lightgrey",
             "white",
             "lightgrey",
             "white"
            ]
           ]
          },
          "font": {
           "size": 12
          },
          "height": 30,
          "values": [
           [
            {
             "mp-5924": {
              "bulk_modulus": 193.509,
              "elec_cond": 64.5658,
              "shear_modulus": 113.741,
              "therm_cond": 0.000300167,
              "universal_anisotropy": 1.091
             }
            },
            {
             "mp-5924": {
              "bulk_modulus": 193.509,
              "elec_cond": 64.5658,
              "shear_modulus": 113.741,
              "therm_cond": 0.000300167,
              "universal_anisotropy": 1.091
             }
            },
            {
             "mp-5924": {
              "bulk_modulus": 193.509,
              "elec_cond": 64.5658,
              "shear_modulus": 113.741,
              "therm_cond": 0.000300167,
              "universal_anisotropy": 1.091
             }
            },
            {
             "mp-5924": {
              "bulk_modulus": 193.509,
              "elec_cond": 64.5658,
              "shear_modulus": 113.741,
              "therm_cond": 0.000300167,
              "universal_anisotropy": 1.091
             }
            },
            {
             "mp-5924": {
              "bulk_modulus": 193.509,
              "elec_cond": 64.5658,
              "shear_modulus": 113.741,
              "therm_cond": 0.000300167,
              "universal_anisotropy": 1.091
             }
            }
           ],
           [
            {
             "mp-5924": {
              "bulk_modulus": 193.509,
              "elec_cond": 64.5658,
              "shear_modulus": 113.741,
              "therm_cond": 0.000300167,
              "universal_anisotropy": 1.091
             }
            },
            {
             "mp-5924": {
              "bulk_modulus": 193.509,
              "elec_cond": 64.5658,
              "shear_modulus": 113.741,
              "therm_cond": 0.000300167,
              "universal_anisotropy": 1.091
             }
            },
            {
             "mp-5924": {
              "bulk_modulus": 193.509,
              "elec_cond": 64.5658,
              "shear_modulus": 113.741,
              "therm_cond": 0.000300167,
              "universal_anisotropy": 1.091
             }
            },
            {
             "mp-5924": {
              "bulk_modulus": 193.509,
              "elec_cond": 64.5658,
              "shear_modulus": 113.741,
              "therm_cond": 0.000300167,
              "universal_anisotropy": 1.091
             }
            },
            {
             "mp-5924": {
              "bulk_modulus": 193.509,
              "elec_cond": 64.5658,
              "shear_modulus": 113.741,
              "therm_cond": 0.000300167,
              "universal_anisotropy": 1.091
             }
            }
           ],
           [
            {
             "mp-3536": {
              "bulk_modulus": 182.861,
              "elec_cond": 77.0117,
              "shear_modulus": 107.669,
              "therm_cond": 0.000316911,
              "universal_anisotropy": 1.062
             }
            },
            {
             "mp-3536": {
              "bulk_modulus": 182.861,
              "elec_cond": 77.0117,
              "shear_modulus": 107.669,
              "therm_cond": 0.000316911,
              "universal_anisotropy": 1.062
             }
            },
            {
             "mp-3536": {
              "bulk_modulus": 182.861,
              "elec_cond": 77.0117,
              "shear_modulus": 107.669,
              "therm_cond": 0.000316911,
              "universal_anisotropy": 1.062
             }
            },
            {
             "mp-3536": {
              "bulk_modulus": 182.861,
              "elec_cond": 77.0117,
              "shear_modulus": 107.669,
              "therm_cond": 0.000316911,
              "universal_anisotropy": 1.062
             }
            },
            {
             "mp-3536": {
              "bulk_modulus": 182.861,
              "elec_cond": 77.0117,
              "shear_modulus": 107.669,
              "therm_cond": 0.000316911,
              "universal_anisotropy": 1.062
             }
            }
           ],
           [
            64.5658,
            64.5658,
            64.5658,
            64.5658,
            64.5658
           ],
           [
            64.5658,
            64.5658,
            64.5658,
            64.5658,
            64.5658
           ],
           [
            77.0117,
            77.0117,
            77.0117,
            77.0117,
            77.0117
           ],
           [
            0.000300167,
            0.000300167,
            0.000300167,
            0.000300167,
            0.000300167
           ],
           [
            0.000300167,
            0.000300167,
            0.000300167,
            0.000300167,
            0.000300167
           ],
           [
            0.000316911,
            0.000316911,
            0.000316911,
            0.000316911,
            0.000316911
           ],
           [
            193.509,
            193.509,
            193.509,
            193.509,
            193.509
           ],
           [
            193.509,
            193.509,
            193.509,
            193.509,
            193.509
           ],
           [
            182.861,
            182.861,
            182.861,
            182.861,
            182.861
           ],
           [
            113.741,
            113.741,
            113.741,
            113.741,
            113.741
           ],
           [
            113.741,
            113.741,
            113.741,
            113.741,
            113.741
           ],
           [
            107.669,
            107.669,
            107.669,
            107.669,
            107.669
           ],
           [
            1.091,
            1.091,
            1.091,
            1.091,
            1.091
           ],
           [
            1.091,
            1.091,
            1.091,
            1.091,
            1.091
           ],
           [
            1.062,
            1.062,
            1.062,
            1.062,
            1.062
           ],
           [
            0.1789655172413793,
            0.11137931034482758,
            0.1789655172413793,
            0.1789655172413793,
            0.1789655172413793
           ],
           [
            0.8210344827586207,
            0.8886206896551724,
            0.9562068965517241,
            0.99,
            0.9224137931034482
           ],
           [
            0,
            0,
            -0.1351724137931034,
            -0.16896551724137931,
            -0.1013793103448275
           ],
           [
            18.180137275649894,
            18.806680320751234,
            23.16206981498153,
            24.267048132957363,
            25.19521136007819
           ]
          ]
         },
         "columnwidth": 1000,
         "header": {
          "align": "left",
          "fill": {
           "color": "lavender"
          },
          "font": {
           "size": 12
          },
          "height": 30,
          "values": [
           "Material 1 MP-ID",
           "Material 2 MP-ID",
           "Material 3 MP-ID",
           "Phase 1 Electrical conductivity, [S/m]",
           "Phase 2 Electrical conductivity, [S/m]",
           "Phase 3 Electrical conductivity, [S/m]",
           "Phase 1 Thermal conductivity, [W/m/K]",
           "Phase 2 Thermal conductivity, [W/m/K]",
           "Phase 3 Thermal conductivity, [W/m/K]",
           "Phase 1 Bulk modulus, [GPa]",
           "Phase 2 Bulk modulus, [GPa]",
           "Phase 3 Bulk modulus, [GPa]",
           "Phase 1 Shear modulus, [GPa]",
           "Phase 2 Shear modulus, [GPa]",
           "Phase 3 Shear modulus, [GPa]",
           "Phase 1 Universal anisotropy, []",
           "Phase 2 Universal anisotropy, []",
           "Phase 3 Universal anisotropy, []",
           "Phase 1 Volume Fraction",
           "Phase 2 Volume Fraction",
           "Phase 3 Volume Fraction",
           "cost"
          ]
         },
         "type": "table"
        }
       ],
       "layout": {
        "autosize": true,
        "height": 400,
        "margin": {
         "b": 0,
         "l": 0,
         "r": 0,
         "t": 40
        },
        "template": {
         "data": {
          "bar": [
           {
            "error_x": {
             "color": "rgb(36,36,36)"
            },
            "error_y": {
             "color": "rgb(36,36,36)"
            },
            "marker": {
             "line": {
              "color": "white",
              "width": 0.5
             },
             "pattern": {
              "fillmode": "overlay",
              "size": 10,
              "solidity": 0.2
             }
            },
            "type": "bar"
           }
          ],
          "barpolar": [
           {
            "marker": {
             "line": {
              "color": "white",
              "width": 0.5
             },
             "pattern": {
              "fillmode": "overlay",
              "size": 10,
              "solidity": 0.2
             }
            },
            "type": "barpolar"
           }
          ],
          "carpet": [
           {
            "aaxis": {
             "endlinecolor": "rgb(36,36,36)",
             "gridcolor": "white",
             "linecolor": "white",
             "minorgridcolor": "white",
             "startlinecolor": "rgb(36,36,36)"
            },
            "baxis": {
             "endlinecolor": "rgb(36,36,36)",
             "gridcolor": "white",
             "linecolor": "white",
             "minorgridcolor": "white",
             "startlinecolor": "rgb(36,36,36)"
            },
            "type": "carpet"
           }
          ],
          "choropleth": [
           {
            "colorbar": {
             "outlinewidth": 1,
             "tickcolor": "rgb(36,36,36)",
             "ticks": "outside"
            },
            "type": "choropleth"
           }
          ],
          "contour": [
           {
            "colorbar": {
             "outlinewidth": 1,
             "tickcolor": "rgb(36,36,36)",
             "ticks": "outside"
            },
            "colorscale": [
             [
              0,
              "#440154"
             ],
             [
              0.1111111111111111,
              "#482878"
             ],
             [
              0.2222222222222222,
              "#3e4989"
             ],
             [
              0.3333333333333333,
              "#31688e"
             ],
             [
              0.4444444444444444,
              "#26828e"
             ],
             [
              0.5555555555555556,
              "#1f9e89"
             ],
             [
              0.6666666666666666,
              "#35b779"
             ],
             [
              0.7777777777777778,
              "#6ece58"
             ],
             [
              0.8888888888888888,
              "#b5de2b"
             ],
             [
              1,
              "#fde725"
             ]
            ],
            "type": "contour"
           }
          ],
          "contourcarpet": [
           {
            "colorbar": {
             "outlinewidth": 1,
             "tickcolor": "rgb(36,36,36)",
             "ticks": "outside"
            },
            "type": "contourcarpet"
           }
          ],
          "heatmap": [
           {
            "colorbar": {
             "outlinewidth": 1,
             "tickcolor": "rgb(36,36,36)",
             "ticks": "outside"
            },
            "colorscale": [
             [
              0,
              "#440154"
             ],
             [
              0.1111111111111111,
              "#482878"
             ],
             [
              0.2222222222222222,
              "#3e4989"
             ],
             [
              0.3333333333333333,
              "#31688e"
             ],
             [
              0.4444444444444444,
              "#26828e"
             ],
             [
              0.5555555555555556,
              "#1f9e89"
             ],
             [
              0.6666666666666666,
              "#35b779"
             ],
             [
              0.7777777777777778,
              "#6ece58"
             ],
             [
              0.8888888888888888,
              "#b5de2b"
             ],
             [
              1,
              "#fde725"
             ]
            ],
            "type": "heatmap"
           }
          ],
          "heatmapgl": [
           {
            "colorbar": {
             "outlinewidth": 1,
             "tickcolor": "rgb(36,36,36)",
             "ticks": "outside"
            },
            "colorscale": [
             [
              0,
              "#440154"
             ],
             [
              0.1111111111111111,
              "#482878"
             ],
             [
              0.2222222222222222,
              "#3e4989"
             ],
             [
              0.3333333333333333,
              "#31688e"
             ],
             [
              0.4444444444444444,
              "#26828e"
             ],
             [
              0.5555555555555556,
              "#1f9e89"
             ],
             [
              0.6666666666666666,
              "#35b779"
             ],
             [
              0.7777777777777778,
              "#6ece58"
             ],
             [
              0.8888888888888888,
              "#b5de2b"
             ],
             [
              1,
              "#fde725"
             ]
            ],
            "type": "heatmapgl"
           }
          ],
          "histogram": [
           {
            "marker": {
             "line": {
              "color": "white",
              "width": 0.6
             }
            },
            "type": "histogram"
           }
          ],
          "histogram2d": [
           {
            "colorbar": {
             "outlinewidth": 1,
             "tickcolor": "rgb(36,36,36)",
             "ticks": "outside"
            },
            "colorscale": [
             [
              0,
              "#440154"
             ],
             [
              0.1111111111111111,
              "#482878"
             ],
             [
              0.2222222222222222,
              "#3e4989"
             ],
             [
              0.3333333333333333,
              "#31688e"
             ],
             [
              0.4444444444444444,
              "#26828e"
             ],
             [
              0.5555555555555556,
              "#1f9e89"
             ],
             [
              0.6666666666666666,
              "#35b779"
             ],
             [
              0.7777777777777778,
              "#6ece58"
             ],
             [
              0.8888888888888888,
              "#b5de2b"
             ],
             [
              1,
              "#fde725"
             ]
            ],
            "type": "histogram2d"
           }
          ],
          "histogram2dcontour": [
           {
            "colorbar": {
             "outlinewidth": 1,
             "tickcolor": "rgb(36,36,36)",
             "ticks": "outside"
            },
            "colorscale": [
             [
              0,
              "#440154"
             ],
             [
              0.1111111111111111,
              "#482878"
             ],
             [
              0.2222222222222222,
              "#3e4989"
             ],
             [
              0.3333333333333333,
              "#31688e"
             ],
             [
              0.4444444444444444,
              "#26828e"
             ],
             [
              0.5555555555555556,
              "#1f9e89"
             ],
             [
              0.6666666666666666,
              "#35b779"
             ],
             [
              0.7777777777777778,
              "#6ece58"
             ],
             [
              0.8888888888888888,
              "#b5de2b"
             ],
             [
              1,
              "#fde725"
             ]
            ],
            "type": "histogram2dcontour"
           }
          ],
          "mesh3d": [
           {
            "colorbar": {
             "outlinewidth": 1,
             "tickcolor": "rgb(36,36,36)",
             "ticks": "outside"
            },
            "type": "mesh3d"
           }
          ],
          "parcoords": [
           {
            "line": {
             "colorbar": {
              "outlinewidth": 1,
              "tickcolor": "rgb(36,36,36)",
              "ticks": "outside"
             }
            },
            "type": "parcoords"
           }
          ],
          "pie": [
           {
            "automargin": true,
            "type": "pie"
           }
          ],
          "scatter": [
           {
            "fillpattern": {
             "fillmode": "overlay",
             "size": 10,
             "solidity": 0.2
            },
            "type": "scatter"
           }
          ],
          "scatter3d": [
           {
            "line": {
             "colorbar": {
              "outlinewidth": 1,
              "tickcolor": "rgb(36,36,36)",
              "ticks": "outside"
             }
            },
            "marker": {
             "colorbar": {
              "outlinewidth": 1,
              "tickcolor": "rgb(36,36,36)",
              "ticks": "outside"
             }
            },
            "type": "scatter3d"
           }
          ],
          "scattercarpet": [
           {
            "marker": {
             "colorbar": {
              "outlinewidth": 1,
              "tickcolor": "rgb(36,36,36)",
              "ticks": "outside"
             }
            },
            "type": "scattercarpet"
           }
          ],
          "scattergeo": [
           {
            "marker": {
             "colorbar": {
              "outlinewidth": 1,
              "tickcolor": "rgb(36,36,36)",
              "ticks": "outside"
             }
            },
            "type": "scattergeo"
           }
          ],
          "scattergl": [
           {
            "marker": {
             "colorbar": {
              "outlinewidth": 1,
              "tickcolor": "rgb(36,36,36)",
              "ticks": "outside"
             }
            },
            "type": "scattergl"
           }
          ],
          "scattermapbox": [
           {
            "marker": {
             "colorbar": {
              "outlinewidth": 1,
              "tickcolor": "rgb(36,36,36)",
              "ticks": "outside"
             }
            },
            "type": "scattermapbox"
           }
          ],
          "scatterpolar": [
           {
            "marker": {
             "colorbar": {
              "outlinewidth": 1,
              "tickcolor": "rgb(36,36,36)",
              "ticks": "outside"
             }
            },
            "type": "scatterpolar"
           }
          ],
          "scatterpolargl": [
           {
            "marker": {
             "colorbar": {
              "outlinewidth": 1,
              "tickcolor": "rgb(36,36,36)",
              "ticks": "outside"
             }
            },
            "type": "scatterpolargl"
           }
          ],
          "scatterternary": [
           {
            "marker": {
             "colorbar": {
              "outlinewidth": 1,
              "tickcolor": "rgb(36,36,36)",
              "ticks": "outside"
             }
            },
            "type": "scatterternary"
           }
          ],
          "surface": [
           {
            "colorbar": {
             "outlinewidth": 1,
             "tickcolor": "rgb(36,36,36)",
             "ticks": "outside"
            },
            "colorscale": [
             [
              0,
              "#440154"
             ],
             [
              0.1111111111111111,
              "#482878"
             ],
             [
              0.2222222222222222,
              "#3e4989"
             ],
             [
              0.3333333333333333,
              "#31688e"
             ],
             [
              0.4444444444444444,
              "#26828e"
             ],
             [
              0.5555555555555556,
              "#1f9e89"
             ],
             [
              0.6666666666666666,
              "#35b779"
             ],
             [
              0.7777777777777778,
              "#6ece58"
             ],
             [
              0.8888888888888888,
              "#b5de2b"
             ],
             [
              1,
              "#fde725"
             ]
            ],
            "type": "surface"
           }
          ],
          "table": [
           {
            "cells": {
             "fill": {
              "color": "rgb(237,237,237)"
             },
             "line": {
              "color": "white"
             }
            },
            "header": {
             "fill": {
              "color": "rgb(217,217,217)"
             },
             "line": {
              "color": "white"
             }
            },
            "type": "table"
           }
          ]
         },
         "layout": {
          "annotationdefaults": {
           "arrowhead": 0,
           "arrowwidth": 1
          },
          "autotypenumbers": "strict",
          "coloraxis": {
           "colorbar": {
            "outlinewidth": 1,
            "tickcolor": "rgb(36,36,36)",
            "ticks": "outside"
           }
          },
          "colorscale": {
           "diverging": [
            [
             0,
             "rgb(103,0,31)"
            ],
            [
             0.1,
             "rgb(178,24,43)"
            ],
            [
             0.2,
             "rgb(214,96,77)"
            ],
            [
             0.3,
             "rgb(244,165,130)"
            ],
            [
             0.4,
             "rgb(253,219,199)"
            ],
            [
             0.5,
             "rgb(247,247,247)"
            ],
            [
             0.6,
             "rgb(209,229,240)"
            ],
            [
             0.7,
             "rgb(146,197,222)"
            ],
            [
             0.8,
             "rgb(67,147,195)"
            ],
            [
             0.9,
             "rgb(33,102,172)"
            ],
            [
             1,
             "rgb(5,48,97)"
            ]
           ],
           "sequential": [
            [
             0,
             "#440154"
            ],
            [
             0.1111111111111111,
             "#482878"
            ],
            [
             0.2222222222222222,
             "#3e4989"
            ],
            [
             0.3333333333333333,
             "#31688e"
            ],
            [
             0.4444444444444444,
             "#26828e"
            ],
            [
             0.5555555555555556,
             "#1f9e89"
            ],
            [
             0.6666666666666666,
             "#35b779"
            ],
            [
             0.7777777777777778,
             "#6ece58"
            ],
            [
             0.8888888888888888,
             "#b5de2b"
            ],
            [
             1,
             "#fde725"
            ]
           ],
           "sequentialminus": [
            [
             0,
             "#440154"
            ],
            [
             0.1111111111111111,
             "#482878"
            ],
            [
             0.2222222222222222,
             "#3e4989"
            ],
            [
             0.3333333333333333,
             "#31688e"
            ],
            [
             0.4444444444444444,
             "#26828e"
            ],
            [
             0.5555555555555556,
             "#1f9e89"
            ],
            [
             0.6666666666666666,
             "#35b779"
            ],
            [
             0.7777777777777778,
             "#6ece58"
            ],
            [
             0.8888888888888888,
             "#b5de2b"
            ],
            [
             1,
             "#fde725"
            ]
           ]
          },
          "colorway": [
           "#1F77B4",
           "#FF7F0E",
           "#2CA02C",
           "#D62728",
           "#9467BD",
           "#8C564B",
           "#E377C2",
           "#7F7F7F",
           "#BCBD22",
           "#17BECF"
          ],
          "font": {
           "color": "rgb(36,36,36)"
          },
          "geo": {
           "bgcolor": "white",
           "lakecolor": "white",
           "landcolor": "white",
           "showlakes": true,
           "showland": true,
           "subunitcolor": "white"
          },
          "hoverlabel": {
           "align": "left"
          },
          "hovermode": "closest",
          "mapbox": {
           "style": "light"
          },
          "paper_bgcolor": "white",
          "plot_bgcolor": "white",
          "polar": {
           "angularaxis": {
            "gridcolor": "rgb(232,232,232)",
            "linecolor": "rgb(36,36,36)",
            "showgrid": false,
            "showline": true,
            "ticks": "outside"
           },
           "bgcolor": "white",
           "radialaxis": {
            "gridcolor": "rgb(232,232,232)",
            "linecolor": "rgb(36,36,36)",
            "showgrid": false,
            "showline": true,
            "ticks": "outside"
           }
          },
          "scene": {
           "xaxis": {
            "backgroundcolor": "white",
            "gridcolor": "rgb(232,232,232)",
            "gridwidth": 2,
            "linecolor": "rgb(36,36,36)",
            "showbackground": true,
            "showgrid": false,
            "showline": true,
            "ticks": "outside",
            "zeroline": false,
            "zerolinecolor": "rgb(36,36,36)"
           },
           "yaxis": {
            "backgroundcolor": "white",
            "gridcolor": "rgb(232,232,232)",
            "gridwidth": 2,
            "linecolor": "rgb(36,36,36)",
            "showbackground": true,
            "showgrid": false,
            "showline": true,
            "ticks": "outside",
            "zeroline": false,
            "zerolinecolor": "rgb(36,36,36)"
           },
           "zaxis": {
            "backgroundcolor": "white",
            "gridcolor": "rgb(232,232,232)",
            "gridwidth": 2,
            "linecolor": "rgb(36,36,36)",
            "showbackground": true,
            "showgrid": false,
            "showline": true,
            "ticks": "outside",
            "zeroline": false,
            "zerolinecolor": "rgb(36,36,36)"
           }
          },
          "shapedefaults": {
           "fillcolor": "black",
           "line": {
            "width": 0
           },
           "opacity": 0.3
          },
          "ternary": {
           "aaxis": {
            "gridcolor": "rgb(232,232,232)",
            "linecolor": "rgb(36,36,36)",
            "showgrid": false,
            "showline": true,
            "ticks": "outside"
           },
           "baxis": {
            "gridcolor": "rgb(232,232,232)",
            "linecolor": "rgb(36,36,36)",
            "showgrid": false,
            "showline": true,
            "ticks": "outside"
           },
           "bgcolor": "white",
           "caxis": {
            "gridcolor": "rgb(232,232,232)",
            "linecolor": "rgb(36,36,36)",
            "showgrid": false,
            "showline": true,
            "ticks": "outside"
           }
          },
          "title": {
           "x": 0.05
          },
          "xaxis": {
           "automargin": true,
           "gridcolor": "rgb(232,232,232)",
           "linecolor": "rgb(36,36,36)",
           "showgrid": false,
           "showline": true,
           "ticks": "outside",
           "title": {
            "standoff": 15
           },
           "zeroline": false,
           "zerolinecolor": "rgb(36,36,36)"
          },
          "yaxis": {
           "automargin": true,
           "gridcolor": "rgb(232,232,232)",
           "linecolor": "rgb(36,36,36)",
           "showgrid": false,
           "showline": true,
           "ticks": "outside",
           "title": {
            "standoff": 15
           },
           "zeroline": false,
           "zerolinecolor": "rgb(36,36,36)"
          }
         }
        },
        "title": {
         "font": {
          "size": 20
         },
         "text": "Optimal Material Combinations to Comprise Desired Composite",
         "x": 0.15
        }
       }
      }
     },
     "metadata": {},
     "output_type": "display_data"
    },
    {
     "data": {
      "application/vnd.plotly.v1+json": {
       "config": {
        "plotlyServerURL": "https://plot.ly"
       },
       "data": [
        {
         "cells": {
          "align": "left",
          "fill": {
           "color": [
            [
             "white",
             "lightgrey",
             "white",
             "lightgrey",
             "white"
            ]
           ]
          },
          "font": {
           "size": 12
          },
          "height": 30,
          "values": [
           [
            {
             "mp-5924": {
              "bulk_modulus": 193.509,
              "elec_cond": 64.5658,
              "shear_modulus": 113.741,
              "therm_cond": 0.000300167,
              "universal_anisotropy": 1.091
             }
            },
            {
             "mp-5924": {
              "bulk_modulus": 193.509,
              "elec_cond": 64.5658,
              "shear_modulus": 113.741,
              "therm_cond": 0.000300167,
              "universal_anisotropy": 1.091
             }
            },
            {
             "mp-5924": {
              "bulk_modulus": 193.509,
              "elec_cond": 64.5658,
              "shear_modulus": 113.741,
              "therm_cond": 0.000300167,
              "universal_anisotropy": 1.091
             }
            },
            {
             "mp-5924": {
              "bulk_modulus": 193.509,
              "elec_cond": 64.5658,
              "shear_modulus": 113.741,
              "therm_cond": 0.000300167,
              "universal_anisotropy": 1.091
             }
            },
            {
             "mp-5924": {
              "bulk_modulus": 193.509,
              "elec_cond": 64.5658,
              "shear_modulus": 113.741,
              "therm_cond": 0.000300167,
              "universal_anisotropy": 1.091
             }
            }
           ],
           [
            {
             "mp-5924": {
              "bulk_modulus": 193.509,
              "elec_cond": 64.5658,
              "shear_modulus": 113.741,
              "therm_cond": 0.000300167,
              "universal_anisotropy": 1.091
             }
            },
            {
             "mp-5924": {
              "bulk_modulus": 193.509,
              "elec_cond": 64.5658,
              "shear_modulus": 113.741,
              "therm_cond": 0.000300167,
              "universal_anisotropy": 1.091
             }
            },
            {
             "mp-5924": {
              "bulk_modulus": 193.509,
              "elec_cond": 64.5658,
              "shear_modulus": 113.741,
              "therm_cond": 0.000300167,
              "universal_anisotropy": 1.091
             }
            },
            {
             "mp-5924": {
              "bulk_modulus": 193.509,
              "elec_cond": 64.5658,
              "shear_modulus": 113.741,
              "therm_cond": 0.000300167,
              "universal_anisotropy": 1.091
             }
            },
            {
             "mp-5924": {
              "bulk_modulus": 193.509,
              "elec_cond": 64.5658,
              "shear_modulus": 113.741,
              "therm_cond": 0.000300167,
              "universal_anisotropy": 1.091
             }
            }
           ],
           [
            {
             "mp-5924": {
              "bulk_modulus": 193.509,
              "elec_cond": 64.5658,
              "shear_modulus": 113.741,
              "therm_cond": 0.000300167,
              "universal_anisotropy": 1.091
             }
            },
            {
             "mp-5924": {
              "bulk_modulus": 193.509,
              "elec_cond": 64.5658,
              "shear_modulus": 113.741,
              "therm_cond": 0.000300167,
              "universal_anisotropy": 1.091
             }
            },
            {
             "mp-5924": {
              "bulk_modulus": 193.509,
              "elec_cond": 64.5658,
              "shear_modulus": 113.741,
              "therm_cond": 0.000300167,
              "universal_anisotropy": 1.091
             }
            },
            {
             "mp-5924": {
              "bulk_modulus": 193.509,
              "elec_cond": 64.5658,
              "shear_modulus": 113.741,
              "therm_cond": 0.000300167,
              "universal_anisotropy": 1.091
             }
            },
            {
             "mp-5924": {
              "bulk_modulus": 193.509,
              "elec_cond": 64.5658,
              "shear_modulus": 113.741,
              "therm_cond": 0.000300167,
              "universal_anisotropy": 1.091
             }
            }
           ],
           [
            64.5658,
            64.5658,
            64.5658,
            64.5658,
            64.5658
           ],
           [
            64.5658,
            64.5658,
            64.5658,
            64.5658,
            64.5658
           ],
           [
            64.5658,
            64.5658,
            64.5658,
            64.5658,
            64.5658
           ],
           [
            0.000300167,
            0.000300167,
            0.000300167,
            0.000300167,
            0.000300167
           ],
           [
            0.000300167,
            0.000300167,
            0.000300167,
            0.000300167,
            0.000300167
           ],
           [
            0.000300167,
            0.000300167,
            0.000300167,
            0.000300167,
            0.000300167
           ],
           [
            193.509,
            193.509,
            193.509,
            193.509,
            193.509
           ],
           [
            193.509,
            193.509,
            193.509,
            193.509,
            193.509
           ],
           [
            193.509,
            193.509,
            193.509,
            193.509,
            193.509
           ],
           [
            113.741,
            113.741,
            113.741,
            113.741,
            113.741
           ],
           [
            113.741,
            113.741,
            113.741,
            113.741,
            113.741
           ],
           [
            113.741,
            113.741,
            113.741,
            113.741,
            113.741
           ],
           [
            1.091,
            1.091,
            1.091,
            1.091,
            1.091
           ],
           [
            1.091,
            1.091,
            1.091,
            1.091,
            1.091
           ],
           [
            1.091,
            1.091,
            1.091,
            1.091,
            1.091
           ],
           [
            0.1789655172413793,
            0.11137931034482758,
            0.1789655172413793,
            0.1789655172413793,
            0.1789655172413793
           ],
           [
            0.8210344827586207,
            0.8886206896551724,
            0.9562068965517241,
            0.99,
            0.9224137931034482
           ],
           [
            0,
            0,
            -0.1351724137931034,
            -0.16896551724137931,
            -0.1013793103448275
           ],
           [
            18.427997668073033,
            19.045694925386094,
            22.84042834609801,
            23.973195325282884,
            24.844428687381107
           ]
          ]
         },
         "columnwidth": 1000,
         "header": {
          "align": "left",
          "fill": {
           "color": "lavender"
          },
          "font": {
           "size": 12
          },
          "height": 30,
          "values": [
           "Material 1 MP-ID",
           "Material 2 MP-ID",
           "Material 3 MP-ID",
           "Phase 1 Electrical conductivity, [S/m]",
           "Phase 2 Electrical conductivity, [S/m]",
           "Phase 3 Electrical conductivity, [S/m]",
           "Phase 1 Thermal conductivity, [W/m/K]",
           "Phase 2 Thermal conductivity, [W/m/K]",
           "Phase 3 Thermal conductivity, [W/m/K]",
           "Phase 1 Bulk modulus, [GPa]",
           "Phase 2 Bulk modulus, [GPa]",
           "Phase 3 Bulk modulus, [GPa]",
           "Phase 1 Shear modulus, [GPa]",
           "Phase 2 Shear modulus, [GPa]",
           "Phase 3 Shear modulus, [GPa]",
           "Phase 1 Universal anisotropy, []",
           "Phase 2 Universal anisotropy, []",
           "Phase 3 Universal anisotropy, []",
           "Phase 1 Volume Fraction",
           "Phase 2 Volume Fraction",
           "Phase 3 Volume Fraction",
           "cost"
          ]
         },
         "type": "table"
        }
       ],
       "layout": {
        "autosize": true,
        "height": 400,
        "margin": {
         "b": 0,
         "l": 0,
         "r": 0,
         "t": 40
        },
        "template": {
         "data": {
          "bar": [
           {
            "error_x": {
             "color": "rgb(36,36,36)"
            },
            "error_y": {
             "color": "rgb(36,36,36)"
            },
            "marker": {
             "line": {
              "color": "white",
              "width": 0.5
             },
             "pattern": {
              "fillmode": "overlay",
              "size": 10,
              "solidity": 0.2
             }
            },
            "type": "bar"
           }
          ],
          "barpolar": [
           {
            "marker": {
             "line": {
              "color": "white",
              "width": 0.5
             },
             "pattern": {
              "fillmode": "overlay",
              "size": 10,
              "solidity": 0.2
             }
            },
            "type": "barpolar"
           }
          ],
          "carpet": [
           {
            "aaxis": {
             "endlinecolor": "rgb(36,36,36)",
             "gridcolor": "white",
             "linecolor": "white",
             "minorgridcolor": "white",
             "startlinecolor": "rgb(36,36,36)"
            },
            "baxis": {
             "endlinecolor": "rgb(36,36,36)",
             "gridcolor": "white",
             "linecolor": "white",
             "minorgridcolor": "white",
             "startlinecolor": "rgb(36,36,36)"
            },
            "type": "carpet"
           }
          ],
          "choropleth": [
           {
            "colorbar": {
             "outlinewidth": 1,
             "tickcolor": "rgb(36,36,36)",
             "ticks": "outside"
            },
            "type": "choropleth"
           }
          ],
          "contour": [
           {
            "colorbar": {
             "outlinewidth": 1,
             "tickcolor": "rgb(36,36,36)",
             "ticks": "outside"
            },
            "colorscale": [
             [
              0,
              "#440154"
             ],
             [
              0.1111111111111111,
              "#482878"
             ],
             [
              0.2222222222222222,
              "#3e4989"
             ],
             [
              0.3333333333333333,
              "#31688e"
             ],
             [
              0.4444444444444444,
              "#26828e"
             ],
             [
              0.5555555555555556,
              "#1f9e89"
             ],
             [
              0.6666666666666666,
              "#35b779"
             ],
             [
              0.7777777777777778,
              "#6ece58"
             ],
             [
              0.8888888888888888,
              "#b5de2b"
             ],
             [
              1,
              "#fde725"
             ]
            ],
            "type": "contour"
           }
          ],
          "contourcarpet": [
           {
            "colorbar": {
             "outlinewidth": 1,
             "tickcolor": "rgb(36,36,36)",
             "ticks": "outside"
            },
            "type": "contourcarpet"
           }
          ],
          "heatmap": [
           {
            "colorbar": {
             "outlinewidth": 1,
             "tickcolor": "rgb(36,36,36)",
             "ticks": "outside"
            },
            "colorscale": [
             [
              0,
              "#440154"
             ],
             [
              0.1111111111111111,
              "#482878"
             ],
             [
              0.2222222222222222,
              "#3e4989"
             ],
             [
              0.3333333333333333,
              "#31688e"
             ],
             [
              0.4444444444444444,
              "#26828e"
             ],
             [
              0.5555555555555556,
              "#1f9e89"
             ],
             [
              0.6666666666666666,
              "#35b779"
             ],
             [
              0.7777777777777778,
              "#6ece58"
             ],
             [
              0.8888888888888888,
              "#b5de2b"
             ],
             [
              1,
              "#fde725"
             ]
            ],
            "type": "heatmap"
           }
          ],
          "heatmapgl": [
           {
            "colorbar": {
             "outlinewidth": 1,
             "tickcolor": "rgb(36,36,36)",
             "ticks": "outside"
            },
            "colorscale": [
             [
              0,
              "#440154"
             ],
             [
              0.1111111111111111,
              "#482878"
             ],
             [
              0.2222222222222222,
              "#3e4989"
             ],
             [
              0.3333333333333333,
              "#31688e"
             ],
             [
              0.4444444444444444,
              "#26828e"
             ],
             [
              0.5555555555555556,
              "#1f9e89"
             ],
             [
              0.6666666666666666,
              "#35b779"
             ],
             [
              0.7777777777777778,
              "#6ece58"
             ],
             [
              0.8888888888888888,
              "#b5de2b"
             ],
             [
              1,
              "#fde725"
             ]
            ],
            "type": "heatmapgl"
           }
          ],
          "histogram": [
           {
            "marker": {
             "line": {
              "color": "white",
              "width": 0.6
             }
            },
            "type": "histogram"
           }
          ],
          "histogram2d": [
           {
            "colorbar": {
             "outlinewidth": 1,
             "tickcolor": "rgb(36,36,36)",
             "ticks": "outside"
            },
            "colorscale": [
             [
              0,
              "#440154"
             ],
             [
              0.1111111111111111,
              "#482878"
             ],
             [
              0.2222222222222222,
              "#3e4989"
             ],
             [
              0.3333333333333333,
              "#31688e"
             ],
             [
              0.4444444444444444,
              "#26828e"
             ],
             [
              0.5555555555555556,
              "#1f9e89"
             ],
             [
              0.6666666666666666,
              "#35b779"
             ],
             [
              0.7777777777777778,
              "#6ece58"
             ],
             [
              0.8888888888888888,
              "#b5de2b"
             ],
             [
              1,
              "#fde725"
             ]
            ],
            "type": "histogram2d"
           }
          ],
          "histogram2dcontour": [
           {
            "colorbar": {
             "outlinewidth": 1,
             "tickcolor": "rgb(36,36,36)",
             "ticks": "outside"
            },
            "colorscale": [
             [
              0,
              "#440154"
             ],
             [
              0.1111111111111111,
              "#482878"
             ],
             [
              0.2222222222222222,
              "#3e4989"
             ],
             [
              0.3333333333333333,
              "#31688e"
             ],
             [
              0.4444444444444444,
              "#26828e"
             ],
             [
              0.5555555555555556,
              "#1f9e89"
             ],
             [
              0.6666666666666666,
              "#35b779"
             ],
             [
              0.7777777777777778,
              "#6ece58"
             ],
             [
              0.8888888888888888,
              "#b5de2b"
             ],
             [
              1,
              "#fde725"
             ]
            ],
            "type": "histogram2dcontour"
           }
          ],
          "mesh3d": [
           {
            "colorbar": {
             "outlinewidth": 1,
             "tickcolor": "rgb(36,36,36)",
             "ticks": "outside"
            },
            "type": "mesh3d"
           }
          ],
          "parcoords": [
           {
            "line": {
             "colorbar": {
              "outlinewidth": 1,
              "tickcolor": "rgb(36,36,36)",
              "ticks": "outside"
             }
            },
            "type": "parcoords"
           }
          ],
          "pie": [
           {
            "automargin": true,
            "type": "pie"
           }
          ],
          "scatter": [
           {
            "fillpattern": {
             "fillmode": "overlay",
             "size": 10,
             "solidity": 0.2
            },
            "type": "scatter"
           }
          ],
          "scatter3d": [
           {
            "line": {
             "colorbar": {
              "outlinewidth": 1,
              "tickcolor": "rgb(36,36,36)",
              "ticks": "outside"
             }
            },
            "marker": {
             "colorbar": {
              "outlinewidth": 1,
              "tickcolor": "rgb(36,36,36)",
              "ticks": "outside"
             }
            },
            "type": "scatter3d"
           }
          ],
          "scattercarpet": [
           {
            "marker": {
             "colorbar": {
              "outlinewidth": 1,
              "tickcolor": "rgb(36,36,36)",
              "ticks": "outside"
             }
            },
            "type": "scattercarpet"
           }
          ],
          "scattergeo": [
           {
            "marker": {
             "colorbar": {
              "outlinewidth": 1,
              "tickcolor": "rgb(36,36,36)",
              "ticks": "outside"
             }
            },
            "type": "scattergeo"
           }
          ],
          "scattergl": [
           {
            "marker": {
             "colorbar": {
              "outlinewidth": 1,
              "tickcolor": "rgb(36,36,36)",
              "ticks": "outside"
             }
            },
            "type": "scattergl"
           }
          ],
          "scattermapbox": [
           {
            "marker": {
             "colorbar": {
              "outlinewidth": 1,
              "tickcolor": "rgb(36,36,36)",
              "ticks": "outside"
             }
            },
            "type": "scattermapbox"
           }
          ],
          "scatterpolar": [
           {
            "marker": {
             "colorbar": {
              "outlinewidth": 1,
              "tickcolor": "rgb(36,36,36)",
              "ticks": "outside"
             }
            },
            "type": "scatterpolar"
           }
          ],
          "scatterpolargl": [
           {
            "marker": {
             "colorbar": {
              "outlinewidth": 1,
              "tickcolor": "rgb(36,36,36)",
              "ticks": "outside"
             }
            },
            "type": "scatterpolargl"
           }
          ],
          "scatterternary": [
           {
            "marker": {
             "colorbar": {
              "outlinewidth": 1,
              "tickcolor": "rgb(36,36,36)",
              "ticks": "outside"
             }
            },
            "type": "scatterternary"
           }
          ],
          "surface": [
           {
            "colorbar": {
             "outlinewidth": 1,
             "tickcolor": "rgb(36,36,36)",
             "ticks": "outside"
            },
            "colorscale": [
             [
              0,
              "#440154"
             ],
             [
              0.1111111111111111,
              "#482878"
             ],
             [
              0.2222222222222222,
              "#3e4989"
             ],
             [
              0.3333333333333333,
              "#31688e"
             ],
             [
              0.4444444444444444,
              "#26828e"
             ],
             [
              0.5555555555555556,
              "#1f9e89"
             ],
             [
              0.6666666666666666,
              "#35b779"
             ],
             [
              0.7777777777777778,
              "#6ece58"
             ],
             [
              0.8888888888888888,
              "#b5de2b"
             ],
             [
              1,
              "#fde725"
             ]
            ],
            "type": "surface"
           }
          ],
          "table": [
           {
            "cells": {
             "fill": {
              "color": "rgb(237,237,237)"
             },
             "line": {
              "color": "white"
             }
            },
            "header": {
             "fill": {
              "color": "rgb(217,217,217)"
             },
             "line": {
              "color": "white"
             }
            },
            "type": "table"
           }
          ]
         },
         "layout": {
          "annotationdefaults": {
           "arrowhead": 0,
           "arrowwidth": 1
          },
          "autotypenumbers": "strict",
          "coloraxis": {
           "colorbar": {
            "outlinewidth": 1,
            "tickcolor": "rgb(36,36,36)",
            "ticks": "outside"
           }
          },
          "colorscale": {
           "diverging": [
            [
             0,
             "rgb(103,0,31)"
            ],
            [
             0.1,
             "rgb(178,24,43)"
            ],
            [
             0.2,
             "rgb(214,96,77)"
            ],
            [
             0.3,
             "rgb(244,165,130)"
            ],
            [
             0.4,
             "rgb(253,219,199)"
            ],
            [
             0.5,
             "rgb(247,247,247)"
            ],
            [
             0.6,
             "rgb(209,229,240)"
            ],
            [
             0.7,
             "rgb(146,197,222)"
            ],
            [
             0.8,
             "rgb(67,147,195)"
            ],
            [
             0.9,
             "rgb(33,102,172)"
            ],
            [
             1,
             "rgb(5,48,97)"
            ]
           ],
           "sequential": [
            [
             0,
             "#440154"
            ],
            [
             0.1111111111111111,
             "#482878"
            ],
            [
             0.2222222222222222,
             "#3e4989"
            ],
            [
             0.3333333333333333,
             "#31688e"
            ],
            [
             0.4444444444444444,
             "#26828e"
            ],
            [
             0.5555555555555556,
             "#1f9e89"
            ],
            [
             0.6666666666666666,
             "#35b779"
            ],
            [
             0.7777777777777778,
             "#6ece58"
            ],
            [
             0.8888888888888888,
             "#b5de2b"
            ],
            [
             1,
             "#fde725"
            ]
           ],
           "sequentialminus": [
            [
             0,
             "#440154"
            ],
            [
             0.1111111111111111,
             "#482878"
            ],
            [
             0.2222222222222222,
             "#3e4989"
            ],
            [
             0.3333333333333333,
             "#31688e"
            ],
            [
             0.4444444444444444,
             "#26828e"
            ],
            [
             0.5555555555555556,
             "#1f9e89"
            ],
            [
             0.6666666666666666,
             "#35b779"
            ],
            [
             0.7777777777777778,
             "#6ece58"
            ],
            [
             0.8888888888888888,
             "#b5de2b"
            ],
            [
             1,
             "#fde725"
            ]
           ]
          },
          "colorway": [
           "#1F77B4",
           "#FF7F0E",
           "#2CA02C",
           "#D62728",
           "#9467BD",
           "#8C564B",
           "#E377C2",
           "#7F7F7F",
           "#BCBD22",
           "#17BECF"
          ],
          "font": {
           "color": "rgb(36,36,36)"
          },
          "geo": {
           "bgcolor": "white",
           "lakecolor": "white",
           "landcolor": "white",
           "showlakes": true,
           "showland": true,
           "subunitcolor": "white"
          },
          "hoverlabel": {
           "align": "left"
          },
          "hovermode": "closest",
          "mapbox": {
           "style": "light"
          },
          "paper_bgcolor": "white",
          "plot_bgcolor": "white",
          "polar": {
           "angularaxis": {
            "gridcolor": "rgb(232,232,232)",
            "linecolor": "rgb(36,36,36)",
            "showgrid": false,
            "showline": true,
            "ticks": "outside"
           },
           "bgcolor": "white",
           "radialaxis": {
            "gridcolor": "rgb(232,232,232)",
            "linecolor": "rgb(36,36,36)",
            "showgrid": false,
            "showline": true,
            "ticks": "outside"
           }
          },
          "scene": {
           "xaxis": {
            "backgroundcolor": "white",
            "gridcolor": "rgb(232,232,232)",
            "gridwidth": 2,
            "linecolor": "rgb(36,36,36)",
            "showbackground": true,
            "showgrid": false,
            "showline": true,
            "ticks": "outside",
            "zeroline": false,
            "zerolinecolor": "rgb(36,36,36)"
           },
           "yaxis": {
            "backgroundcolor": "white",
            "gridcolor": "rgb(232,232,232)",
            "gridwidth": 2,
            "linecolor": "rgb(36,36,36)",
            "showbackground": true,
            "showgrid": false,
            "showline": true,
            "ticks": "outside",
            "zeroline": false,
            "zerolinecolor": "rgb(36,36,36)"
           },
           "zaxis": {
            "backgroundcolor": "white",
            "gridcolor": "rgb(232,232,232)",
            "gridwidth": 2,
            "linecolor": "rgb(36,36,36)",
            "showbackground": true,
            "showgrid": false,
            "showline": true,
            "ticks": "outside",
            "zeroline": false,
            "zerolinecolor": "rgb(36,36,36)"
           }
          },
          "shapedefaults": {
           "fillcolor": "black",
           "line": {
            "width": 0
           },
           "opacity": 0.3
          },
          "ternary": {
           "aaxis": {
            "gridcolor": "rgb(232,232,232)",
            "linecolor": "rgb(36,36,36)",
            "showgrid": false,
            "showline": true,
            "ticks": "outside"
           },
           "baxis": {
            "gridcolor": "rgb(232,232,232)",
            "linecolor": "rgb(36,36,36)",
            "showgrid": false,
            "showline": true,
            "ticks": "outside"
           },
           "bgcolor": "white",
           "caxis": {
            "gridcolor": "rgb(232,232,232)",
            "linecolor": "rgb(36,36,36)",
            "showgrid": false,
            "showline": true,
            "ticks": "outside"
           }
          },
          "title": {
           "x": 0.05
          },
          "xaxis": {
           "automargin": true,
           "gridcolor": "rgb(232,232,232)",
           "linecolor": "rgb(36,36,36)",
           "showgrid": false,
           "showline": true,
           "ticks": "outside",
           "title": {
            "standoff": 15
           },
           "zeroline": false,
           "zerolinecolor": "rgb(36,36,36)"
          },
          "yaxis": {
           "automargin": true,
           "gridcolor": "rgb(232,232,232)",
           "linecolor": "rgb(36,36,36)",
           "showgrid": false,
           "showline": true,
           "ticks": "outside",
           "title": {
            "standoff": 15
           },
           "zeroline": false,
           "zerolinecolor": "rgb(36,36,36)"
          }
         }
        },
        "title": {
         "font": {
          "size": 20
         },
         "text": "Optimal Material Combinations to Comprise Desired Composite",
         "x": 0.15
        }
       }
      }
     },
     "metadata": {},
     "output_type": "display_data"
    }
   ],
   "source": [
    "import os\n",
    "import json\n",
    "from datetime import datetime\n",
    "\n",
    "# Directory where the files are located\n",
    "directory = './'\n",
    "\n",
    "# Function to get the latest consolidated dict file\n",
    "def get_latest_consolidated_dict_file(directory):\n",
    "    # List all files in the directory\n",
    "    files = os.listdir(directory)\n",
    "    \n",
    "    # Filter out only the consolidated_dict files\n",
    "    consolidated_files = [f for f in files if f.startswith('consolidated_dict_')]\n",
    "    \n",
    "    # Sort the files by date and time in the filename\n",
    "    consolidated_files.sort(key=lambda x: datetime.strptime(x, 'consolidated_dict_%m_%d_%Y_%H_%M_%S'))\n",
    "    \n",
    "    # Return the latest file\n",
    "    latest_file = consolidated_files[-1] if consolidated_files else None\n",
    "    return latest_file\n",
    "\n",
    "# Get the latest consolidated dict file\n",
    "latest_file = get_latest_consolidated_dict_file(directory)\n",
    "\n",
    "if latest_file:\n",
    "    # Open the latest consolidated dict file\n",
    "    with open(os.path.join(directory, latest_file), 'r') as f:\n",
    "        consolidated_dict = json.load(f)\n",
    "        print(f\"Loaded consolidated_dict from {latest_file}\")\n",
    "else:\n",
    "    print(\"No consolidated dict file found.\")\n",
    "\n",
    "\n",
    "HS.get_material_match_costs(matches_dict=matches_dict, consolidated_dict=consolidated_dict)"
   ]
  },
  {
   "cell_type": "code",
   "execution_count": null,
   "metadata": {},
   "outputs": [],
   "source": []
  }
 ],
 "metadata": {
  "kernelspec": {
   "display_name": "carla_mp_api",
   "language": "python",
   "name": "python3"
  },
  "language_info": {
   "codemirror_mode": {
    "name": "ipython",
    "version": 3
   },
   "file_extension": ".py",
   "mimetype": "text/x-python",
   "name": "python",
   "nbconvert_exporter": "python",
   "pygments_lexer": "ipython3",
   "version": "3.9.18"
  }
 },
 "nbformat": 4,
 "nbformat_minor": 2
}
