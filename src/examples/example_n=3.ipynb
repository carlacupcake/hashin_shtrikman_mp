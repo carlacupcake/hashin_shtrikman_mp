{
 "cells": [
  {
   "cell_type": "markdown",
   "metadata": {},
   "source": [
    "## Testing the Composites Discovery App with n=3 phases"
   ]
  },
  {
   "cell_type": "code",
   "execution_count": 1,
   "metadata": {},
   "outputs": [
    {
     "name": "stdout",
     "output_type": "stream",
     "text": [
      "User Input:  {'mat_1': {'elec_cond_300k_low_doping': {'upper_bound': 78.0, 'lower_bound': 1e-07}, 'therm_cond_300k_low_doping': {'upper_bound': 2.0, 'lower_bound': 1e-07}, 'bulk_modulus': {'upper_bound': 100.0, 'lower_bound': 50.0}, 'shear_modulus': {'upper_bound': 100.0, 'lower_bound': 80.0}, 'universal_anisotropy': {'upper_bound': 2.0, 'lower_bound': 1.0}}, 'mat_2': {'elec_cond_300k_low_doping': {'upper_bound': 78.0, 'lower_bound': 1e-07}, 'therm_cond_300k_low_doping': {'upper_bound': 2.0, 'lower_bound': 1e-07}, 'bulk_modulus': {'upper_bound': 400.0, 'lower_bound': 20.0}, 'shear_modulus': {'upper_bound': 200.0, 'lower_bound': 100.0}, 'universal_anisotropy': {'upper_bound': 2.3, 'lower_bound': 1.3}}, 'mat_3': {'elec_cond_300k_low_doping': {'upper_bound': 78.0, 'lower_bound': 1e-07}, 'therm_cond_300k_low_doping': {'upper_bound': 2.0, 'lower_bound': 1e-07}, 'bulk_modulus': {'upper_bound': 300.0, 'lower_bound': 20.0}, 'shear_modulus': {'upper_bound': 300.0, 'lower_bound': 100.0}, 'universal_anisotropy': {'upper_bound': 2.1, 'lower_bound': 0.9}}, 'mixture': {'elec_cond_300k_low_doping': {'desired_prop': 9.0}, 'therm_cond_300k_low_doping': {'desired_prop': 0.9}, 'bulk_modulus': {'desired_prop': 280.0}, 'shear_modulus': {'desired_prop': 230.0}, 'universal_anisotropy': {'desired_prop': 1.5}}}\n",
      "Overall Upper & Lower Bounds:\n",
      "Property: elec_cond_300k_low_doping, Upper Bound: 78.0, Lower Bound: 1e-07\n",
      "Property: therm_cond_300k_low_doping, Upper Bound: 2.0, Lower Bound: 1e-07\n",
      "Property: bulk_modulus, Upper Bound: 400.0, Lower Bound: 20.0\n",
      "Property: shear_modulus, Upper Bound: 300.0, Lower Bound: 80.0\n",
      "Property: universal_anisotropy, Upper Bound: 2.3, Lower Bound: 0.9\n",
      "{'elec_cond_300k_low_doping': {'upper_bound': 78.0, 'lower_bound': 1e-07}, 'therm_cond_300k_low_doping': {'upper_bound': 2.0, 'lower_bound': 1e-07}, 'bulk_modulus': {'upper_bound': 400.0, 'lower_bound': 20.0}, 'shear_modulus': {'upper_bound': 300.0, 'lower_bound': 80.0}, 'universal_anisotropy': {'upper_bound': 2.3, 'lower_bound': 0.9}}\n"
     ]
    }
   ],
   "source": [
    "import sys  \n",
    "sys.path.insert(1, '../core')\n",
    "from user_input import MaterialProperty, Material, MixtureProperty, Mixture, UserInput\n",
    "\n",
    "# Define properties for each material\n",
    "properties_mat_1 = [\n",
    "    MaterialProperty(prop='elec_cond_300k_low_doping', upper_bound=78, lower_bound=1e-7), # upper_bound=20, lower_bound=1 \n",
    "    MaterialProperty(prop='therm_cond_300k_low_doping', upper_bound=2, lower_bound=1e-7), # upper_bound=0.0001, lower_bound=1e-5 \n",
    "    MaterialProperty(prop='bulk_modulus', upper_bound=100, lower_bound=50),\n",
    "    MaterialProperty(prop='shear_modulus', upper_bound=100, lower_bound=80),\n",
    "    MaterialProperty(prop='universal_anisotropy', upper_bound=2, lower_bound=1),\n",
    "]\n",
    "\n",
    "properties_mat_2 = [\n",
    "    MaterialProperty(prop='elec_cond_300k_low_doping', upper_bound=78, lower_bound=1e-7), # upper_bound=5, lower_bound=2\n",
    "    MaterialProperty(prop='therm_cond_300k_low_doping', upper_bound=2, lower_bound=1e-7), # upper_bound=0.009, lower_bound=1e-4\n",
    "    MaterialProperty(prop='bulk_modulus', upper_bound=400, lower_bound=20),\n",
    "    MaterialProperty(prop='shear_modulus', upper_bound=200, lower_bound=100),\n",
    "    MaterialProperty(prop='universal_anisotropy', upper_bound=2.3, lower_bound=1.3),\n",
    "]\n",
    "\n",
    "properties_mat_3 = [\n",
    "    MaterialProperty(prop='elec_cond_300k_low_doping', upper_bound=78, lower_bound=1e-7), # upper_bound=10, lower_bound=1\n",
    "    MaterialProperty(prop='therm_cond_300k_low_doping', upper_bound=2, lower_bound=1e-7), # upper_bound=0.005, lower_bound=1e-4\n",
    "    MaterialProperty(prop='bulk_modulus', upper_bound=300, lower_bound=20),\n",
    "    MaterialProperty(prop='shear_modulus', upper_bound=300, lower_bound=100),\n",
    "    MaterialProperty(prop='universal_anisotropy', upper_bound=2.1, lower_bound=0.9),\n",
    "]\n",
    "\n",
    "# Define properties for the mixture\n",
    "properties_mixture = [\n",
    "    MixtureProperty(prop='elec_cond_300k_low_doping', desired_prop=9),\n",
    "    MixtureProperty(prop='therm_cond_300k_low_doping', desired_prop=0.9),\n",
    "    MixtureProperty(prop='bulk_modulus', desired_prop=280),\n",
    "    MixtureProperty(prop='shear_modulus', desired_prop=230),\n",
    "    MixtureProperty(prop='universal_anisotropy', desired_prop=1.5),\n",
    "]\n",
    "\n",
    "# Create Material & Mixture instances\n",
    "mat_1 = Material(name='mat_1', properties=properties_mat_1)\n",
    "mat_2 = Material(name='mat_2', properties=properties_mat_2)\n",
    "mat_3 = Material(name='mat_3', properties=properties_mat_3)\n",
    "mixture = Mixture(name='mixture', properties=properties_mixture)\n",
    "aggregate = [mat_1, mat_2, mat_3, mixture]\n",
    "\n",
    "# Initialize UserInput instance with materials and mixtures\n",
    "user_input= UserInput(materials=[mat_1, mat_2, mat_3], mixtures=[mixture])\n",
    "print(\"User Input: \", user_input)\n",
    "\n",
    "# Initialize dictionaries to store the overall upper and lower bounds for each property\n",
    "overall_bounds = {}\n",
    "\n",
    "# Iterate over materials\n",
    "for entity in aggregate:\n",
    "    # Skip the mixture as it doesn't have upper and lower bounds\n",
    "    if isinstance(entity, Material):\n",
    "        for property in entity.properties:\n",
    "            prop_name = property.prop\n",
    "\n",
    "            # Initialize the overall bounds if they are not already present for the property\n",
    "            if prop_name not in overall_bounds:\n",
    "                overall_bounds[prop_name] = {'upper_bound': property.upper_bound, 'lower_bound': property.lower_bound}\n",
    "            else:\n",
    "                # Update overall upper and lower bounds by comparing with existing values\n",
    "                overall_bounds[prop_name]['upper_bound'] = max(overall_bounds[prop_name]['upper_bound'], property.upper_bound)\n",
    "                overall_bounds[prop_name]['lower_bound'] = min(overall_bounds[prop_name]['lower_bound'], property.lower_bound)\n",
    "\n",
    "# Print the overall bounds for each property\n",
    "print(\"Overall Upper & Lower Bounds:\")\n",
    "for prop, bounds in overall_bounds.items():\n",
    "    print(f\"Property: {prop}, Upper Bound: {bounds['upper_bound']}, Lower Bound: {bounds['lower_bound']}\")\n",
    "\n",
    "# Step 1: Create the consolidated_dict\n",
    "overall_bounds_dict = {}\n",
    "for prop, bounds in overall_bounds.items():\n",
    "    overall_bounds_dict[prop] = {\n",
    "        'upper_bound': bounds['upper_bound'],\n",
    "        'lower_bound': bounds['lower_bound']\n",
    "    }\n",
    "\n",
    "print(overall_bounds_dict)"
   ]
  },
  {
   "cell_type": "code",
   "execution_count": 2,
   "metadata": {},
   "outputs": [
    {
     "name": "stderr",
     "output_type": "stream",
     "text": [
      "/Users/carlabecker/opt/anaconda3/envs/carla_mp_api/lib/python3.9/site-packages/mpcontribs/client/__init__.py:88: FutureWarning: use_inf_as_na option is deprecated and will be removed in a future version. Convert inf values to NaN before operating instead.\n",
      "  pd.set_option('mode.use_inf_as_na', True)\n",
      "2024-10-08 14:06:19,737 - custom_logger - INFO - Loading property categories from /Users/carlabecker/Library/Mobile Documents/com~apple~CloudDocs/Carla's Desktop/UC Berkeley/Research/Materials Project/hashin_shtrikman_mp/src/core/../io/inputs/mp_property_docs.yaml.\n",
      "2024-10-08 14:06:19,741 - custom_logger - INFO - property_categories = ['carrier-transport', 'elastic']\n",
      "2024-10-08 14:06:19,742 - custom_logger - INFO - mixture_props = {'elec_cond_300k_low_doping': {'desired_prop': 9.0}, 'therm_cond_300k_low_doping': {'desired_prop': 0.9}, 'bulk_modulus': {'desired_prop': 280.0}, 'shear_modulus': {'desired_prop': 230.0}, 'universal_anisotropy': {'desired_prop': 1.5}}\n"
     ]
    },
    {
     "name": "stdout",
     "output_type": "stream",
     "text": [
      "self.nuild_dict: <bound method UserInput.build_dict of {'mat_1': {'elec_cond_300k_low_doping': {'upper_bound': 78.0, 'lower_bound': 1e-07}, 'therm_cond_300k_low_doping': {'upper_bound': 2.0, 'lower_bound': 1e-07}, 'bulk_modulus': {'upper_bound': 100.0, 'lower_bound': 50.0}, 'shear_modulus': {'upper_bound': 100.0, 'lower_bound': 80.0}, 'universal_anisotropy': {'upper_bound': 2.0, 'lower_bound': 1.0}}, 'mat_2': {'elec_cond_300k_low_doping': {'upper_bound': 78.0, 'lower_bound': 1e-07}, 'therm_cond_300k_low_doping': {'upper_bound': 2.0, 'lower_bound': 1e-07}, 'bulk_modulus': {'upper_bound': 400.0, 'lower_bound': 20.0}, 'shear_modulus': {'upper_bound': 200.0, 'lower_bound': 100.0}, 'universal_anisotropy': {'upper_bound': 2.3, 'lower_bound': 1.3}}, 'mat_3': {'elec_cond_300k_low_doping': {'upper_bound': 78.0, 'lower_bound': 1e-07}, 'therm_cond_300k_low_doping': {'upper_bound': 2.0, 'lower_bound': 1e-07}, 'bulk_modulus': {'upper_bound': 300.0, 'lower_bound': 20.0}, 'shear_modulus': {'upper_bound': 300.0, 'lower_bound': 100.0}, 'universal_anisotropy': {'upper_bound': 2.1, 'lower_bound': 0.9}}, 'mixture': {'elec_cond_300k_low_doping': {'desired_prop': 9.0}, 'therm_cond_300k_low_doping': {'desired_prop': 0.9}, 'bulk_modulus': {'desired_prop': 280.0}, 'shear_modulus': {'desired_prop': 230.0}, 'universal_anisotropy': {'desired_prop': 1.5}}}>\n",
      "material: mat_1, category: carrier-transport, property: 78.0\n",
      "material: mat_1, category: carrier-transport, property: 2.0\n",
      "material: mat_1, category: elastic, property: 100.0\n",
      "Property categories:  ['carrier-transport', 'elastic']\n",
      "Property docs:  {'carrier-transport': {'elec_cond_300k_low_doping': None, 'therm_cond_300k_low_doping': None}, 'dielectric': {'e_electronic': None, 'e_ionic': None, 'e_total': None, 'n': None}, 'elastic': {'bulk_modulus': 'voigt', 'shear_modulus': 'voigt', 'universal_anisotropy': None}, 'magnetic': {'total_magnetization': None, 'total_magnetization_normalized_vol': None}, 'piezoelectric': {'e_ij_max': None}}\n",
      "Lower Bounds: {'mat_1': {'carrier-transport': [1e-07, 1e-07], 'elastic': [50.0, 80.0, 1.0]}, 'mat_2': {'carrier-transport': [1e-07, 1e-07], 'elastic': [20.0, 100.0, 1.3]}, 'mat_3': {'carrier-transport': [1e-07, 1e-07], 'elastic': [20.0, 100.0, 0.9]}, 'volume-fractions': [0.01, 0.01, 0.01]}\n",
      "Upper Bounds: {'mat_1': {'carrier-transport': [78.0, 2.0], 'elastic': [100.0, 100.0, 2.0]}, 'mat_2': {'carrier-transport': [78.0, 2.0], 'elastic': [400.0, 200.0, 2.3]}, 'mat_3': {'carrier-transport': [78.0, 2.0], 'elastic': [300.0, 300.0, 2.1]}, 'volume-fractions': [0.99, 0.99, 0.99]}\n",
      "Number of Materials: 3\n",
      "Number of Properties: 6\n"
     ]
    }
   ],
   "source": [
    "from optimization import HashinShtrikman\n",
    "HS = HashinShtrikman(api_key=\"uJpFxJJGKCSp9s1shwg9HmDuNjCDfWbM\", user_input=user_input)\n",
    "\n",
    "print(\"Property categories: \", HS.property_categories)\n",
    "print(\"Property docs: \", HS.property_docs)\n",
    "\n",
    "print(\"Lower Bounds:\", HS.lower_bounds)\n",
    "print(\"Upper Bounds:\", HS.upper_bounds)\n",
    "\n",
    "print(\"Number of Materials:\", HS.num_materials)\n",
    "print(\"Number of Properties:\", HS.num_properties)"
   ]
  },
  {
   "cell_type": "code",
   "execution_count": 3,
   "metadata": {},
   "outputs": [
    {
     "name": "stdout",
     "output_type": "stream",
     "text": [
      "{'material_id': ['mp-546266', 'mp-12863', 'mp-1509', 'mp-1029799', 'mp-16290'], 'is_stable': [True, False, True, True, False], 'band_gap': [1.3667999999999996, 0.0, 0.7774000000000001, 1.0132999999999996, 0.0], 'is_metal': [False, True, False, False, True], 'formula_pretty': ['DyBi2IO4', 'Ba(AlSi)2', 'Sn2S3', 'Sr4TiN4', 'ZnNi3C'], 'mp-ids-contrib': ['mp-546266', 'mp-12863', 'mp-1509', 'mp-22192', 'mp-16290'], 'elec_cond_300k_low_doping': [12.7262, 2642302.9999999995, 3.71323, 2.23963, 2548302.4], 'therm_cond_300k_low_doping': [7.1457e-05, 19.2792, 1.90284e-05, 3.3981e-05, 17.8791], 'bulk_modulus': [74.071, 46.928, 20.346, 73.379, 194.302], 'shear_modulus': [40.463, 23.063, 13.493, 36.558, 64.537], 'universal_anisotropy': [1.443, 24.189, 2.364, 0.956, 2.102]}\n"
     ]
    }
   ],
   "source": [
    "# Testing without calls to generate final dict (faster)\n",
    "import json\n",
    "consolidated_dict = {}\n",
    "with open(\"consolidated_dict_02_11_2024_23_45_58\") as f:\n",
    "    consolidated_dict = json.load(f)\n",
    "print(consolidated_dict)"
   ]
  },
  {
   "cell_type": "code",
   "execution_count": 4,
   "metadata": {},
   "outputs": [
    {
     "name": "stdout",
     "output_type": "stream",
     "text": [
      "Generation 0 of 100\n",
      "Generation 1 of 100\n",
      "Generation 2 of 100\n",
      "Generation 3 of 100\n",
      "Generation 4 of 100\n",
      "Generation 5 of 100\n",
      "Generation 6 of 100\n",
      "Generation 7 of 100\n",
      "Generation 8 of 100\n",
      "Generation 9 of 100\n",
      "Generation 10 of 100\n",
      "Generation 11 of 100\n",
      "Generation 12 of 100\n",
      "Generation 13 of 100\n",
      "Generation 14 of 100\n",
      "Generation 15 of 100\n",
      "Generation 16 of 100\n",
      "Generation 17 of 100\n",
      "Generation 18 of 100\n",
      "Generation 19 of 100\n",
      "Generation 20 of 100\n",
      "Generation 21 of 100\n",
      "Generation 22 of 100\n",
      "Generation 23 of 100\n",
      "Generation 24 of 100\n",
      "Generation 25 of 100\n",
      "Generation 26 of 100\n",
      "Generation 27 of 100\n",
      "Generation 28 of 100\n",
      "Generation 29 of 100\n",
      "Generation 30 of 100\n",
      "Generation 31 of 100\n",
      "Generation 32 of 100\n",
      "Generation 33 of 100\n",
      "Generation 34 of 100\n",
      "Generation 35 of 100\n",
      "Generation 36 of 100\n",
      "Generation 37 of 100\n",
      "Generation 38 of 100\n",
      "Generation 39 of 100\n",
      "Generation 40 of 100\n",
      "Generation 41 of 100\n",
      "Generation 42 of 100\n",
      "Generation 43 of 100\n",
      "Generation 44 of 100\n",
      "Generation 45 of 100\n",
      "Generation 46 of 100\n",
      "Generation 47 of 100\n",
      "Generation 48 of 100\n",
      "Generation 49 of 100\n",
      "Generation 50 of 100\n",
      "Generation 51 of 100\n",
      "Generation 52 of 100\n",
      "Generation 53 of 100\n",
      "Generation 54 of 100\n",
      "Generation 55 of 100\n",
      "Generation 56 of 100\n",
      "Generation 57 of 100\n",
      "Generation 58 of 100\n",
      "Generation 59 of 100\n",
      "Generation 60 of 100\n",
      "Generation 61 of 100\n",
      "Generation 62 of 100\n",
      "Generation 63 of 100\n",
      "Generation 64 of 100\n",
      "Generation 65 of 100\n",
      "Generation 66 of 100\n",
      "Generation 67 of 100\n",
      "Generation 68 of 100\n",
      "Generation 69 of 100\n",
      "Generation 70 of 100\n",
      "Generation 71 of 100\n",
      "Generation 72 of 100\n",
      "Generation 73 of 100\n",
      "Generation 74 of 100\n",
      "Generation 75 of 100\n",
      "Generation 76 of 100\n",
      "Generation 77 of 100\n",
      "Generation 78 of 100\n",
      "Generation 79 of 100\n",
      "Generation 80 of 100\n",
      "Generation 81 of 100\n",
      "Generation 82 of 100\n",
      "Generation 83 of 100\n",
      "Generation 84 of 100\n",
      "Generation 85 of 100\n",
      "Generation 86 of 100\n",
      "Generation 87 of 100\n",
      "Generation 88 of 100\n",
      "Generation 89 of 100\n",
      "Generation 90 of 100\n",
      "Generation 91 of 100\n",
      "Generation 92 of 100\n",
      "Generation 93 of 100\n",
      "Generation 94 of 100\n",
      "Generation 95 of 100\n",
      "Generation 96 of 100\n",
      "Generation 97 of 100\n",
      "Generation 98 of 100\n",
      "Generation 99 of 100\n"
     ]
    }
   ],
   "source": [
    "# Run the optimization to obtain n=3 materials and their volume fractions that achieve the desired composite material properties\n",
    "HS.set_HS_optim_params(gen_counter=True)"
   ]
  },
  {
   "cell_type": "code",
   "execution_count": 5,
   "metadata": {},
   "outputs": [
    {
     "data": {
      "application/vnd.plotly.v1+json": {
       "config": {
        "plotlyServerURL": "https://plot.ly"
       },
       "data": [
        {
         "cells": {
          "align": "left",
          "fill": {
           "color": [
            [
             "white",
             "lightgrey",
             "white",
             "lightgrey",
             "white",
             "lightgrey",
             "white",
             "lightgrey",
             "white",
             "lightgrey"
            ]
           ]
          },
          "font": {
           "size": 12
          },
          "height": 30,
          "values": [
           [
            52.78926014568628,
            32.25532134928632,
            16.530125200075457,
            2.144385588561728,
            72.87914738514696,
            67.65300252842363,
            30.169599134021585,
            67.01988016160793,
            2.766111187686786,
            35.576834403896996
           ],
           [
            1.6514887373869436,
            1.8121536903401612,
            1.400531569940699,
            1.963985557704548,
            0.46522345646204494,
            1.9592934850050103,
            1.6458411535348085,
            0.5090379625222757,
            1.0821456938567031,
            0.7777280249875995
           ],
           [
            65.53639854440576,
            62.66459800592571,
            75.42455449490942,
            73.69475149965685,
            59.96306489872761,
            64.06851325820655,
            36.222127881412135,
            64.6962469047652,
            65.35833417710438,
            84.40431070569916
           ],
           [
            86.92405192929554,
            220.64870666494346,
            92.76215858977324,
            96.18513398918756,
            94.36466668195672,
            92.22516402264532,
            226.11124834465275,
            275.68757398267115,
            85.38640718291082,
            93.45476425837194
           ],
           [
            1.1625195405990507,
            1.1340741869022053,
            1.6707181292493958,
            1.0917460237395407,
            1.8682033039187393,
            1.3732092339755202,
            0.994961234476181,
            1.3613202685854526,
            1.1021758175933647,
            1.7381504213162497
           ],
           [
            6.831039028296498,
            24.8156050264858,
            31.89599083926256,
            13.533982772052601,
            38.2367879523507,
            56.88093402283735,
            2.298013570398095,
            15.539941589561725,
            46.114798731779814,
            46.218523171036296
           ],
           [
            1.6173432435332433,
            0.7675588858680923,
            1.3678797040899746,
            1.2200749558654502,
            1.2281245934948453,
            0.9919305783289077,
            1.7021784361209567,
            0.8344865916592105,
            1.89794189667655,
            0.2535539945409141
           ],
           [
            240.60690768584666,
            90.42141240719522,
            119.32030889681215,
            210.670039129175,
            161.93961943916173,
            281.6738127695853,
            92.38278076145687,
            96.35089777116718,
            230.26059777681894,
            234.8576549348403
           ],
           [
            196.7382239256957,
            220.64870666494346,
            168.18306298871062,
            186.3540020920194,
            195.98699095249975,
            194.0362010683403,
            226.11124834465275,
            275.68757398267115,
            125.88136930929,
            147.96222067023353
           ],
           [
            2.0310537677688494,
            1.403829637008318,
            1.6056875775433737,
            1.4692028528368168,
            1.3550195658367188,
            1.3316605710416516,
            1.3490792694532399,
            1.8051832114518667,
            1.694333652021359,
            1.4723584129698666
           ],
           [
            8.493641718814203,
            5.2047380596121835,
            1.224407382380859,
            37.87730080678789,
            30.55608058914779,
            56.15175990798798,
            66.15919792871367,
            45.235613392429094,
            22.81775695073905,
            60.990937723028985
           ],
           [
            0.8750278692592968,
            0.6670652061091663,
            1.1713200390346985,
            0.4064879373981384,
            0.649935244280231,
            1.2087135605102433,
            1.092056888772396,
            1.359396152794919,
            0.4629878328117699,
            1.2205100036185554
           ],
           [
            330.0967825530406,
            367.97028882147526,
            391.72139448990697,
            341.580290572632,
            291.1283505249993,
            298.6167369580544,
            334.4033254223008,
            250.80922104452353,
            327.9907985445188,
            347.1092896417483
           ],
           [
            257.0060743477812,
            255.23104692339547,
            272.7517712998103,
            248.1277314003551,
            263.25134398737214,
            226.94715990298832,
            289.49380030906536,
            294.95085878558723,
            134.40227477191382,
            166.15096511119881
           ],
           [
            1.6665020034212978,
            1.967234503120394,
            1.3286008338545845,
            1.3318535461043386,
            2.2856641654191545,
            1.467024423700988,
            2.004009620152952,
            2.0936537883112623,
            1.9470753360034159,
            2.1180482048650764
           ],
           [
            0.10139087126289112,
            0.07272656407716564,
            0.3720790767882024,
            0.12301177891123925,
            0.044451451407274536,
            0.19300778001001892,
            0.3525824124284191,
            0.1488444061860924,
            0.3586448827349786,
            0.18277247308281455
           ],
           [
            0.11074764031888182,
            0.5080587364556044,
            0.276629844997235,
            0.12152999155479328,
            0.4088218875098896,
            0.26414173556607135,
            0.2524284577646518,
            0.14259623498173277,
            0.32209620018211127,
            0.09307673205557138
           ],
           [
            0.7878614884182271,
            0.41921469946723,
            0.3512910782145626,
            0.7554582295339675,
            0.5467266610828359,
            0.5428504844239097,
            0.39498912980692913,
            0.7085593588321748,
            0.3192589170829101,
            0.724150794861614
           ],
           [
            0.068,
            0.14,
            0.149,
            0.159,
            0.173,
            0.189,
            0.207,
            0.21,
            0.215,
            0.219
           ]
          ]
         },
         "columnwidth": 1000,
         "header": {
          "align": "left",
          "fill": {
           "color": "lavender"
          },
          "font": {
           "size": 12
          },
          "height": 30,
          "values": [
           "Phase 1 Electrical conductivity, [S/m]",
           "Phase 2 Electrical conductivity, [S/m]",
           "Phase 3 Electrical conductivity, [S/m]",
           "Phase 1 Thermal conductivity, [W/m/K]",
           "Phase 2 Thermal conductivity, [W/m/K]",
           "Phase 3 Thermal conductivity, [W/m/K]",
           "Phase 1 Bulk modulus, [GPa]",
           "Phase 2 Bulk modulus, [GPa]",
           "Phase 3 Bulk modulus, [GPa]",
           "Phase 1 Shear modulus, [GPa]",
           "Phase 2 Shear modulus, [GPa]",
           "Phase 3 Shear modulus, [GPa]",
           "Phase 1 Universal anisotropy, []",
           "Phase 2 Universal anisotropy, []",
           "Phase 3 Universal anisotropy, []",
           "Phase 1 Volume Fraction",
           "Phase 2 Volume Fraction",
           "Phase 3 Volume Fraction",
           "cost"
          ]
         },
         "type": "table"
        }
       ],
       "layout": {
        "autosize": true,
        "height": 400,
        "margin": {
         "b": 0,
         "l": 0,
         "r": 0,
         "t": 40
        },
        "template": {
         "data": {
          "bar": [
           {
            "error_x": {
             "color": "rgb(36,36,36)"
            },
            "error_y": {
             "color": "rgb(36,36,36)"
            },
            "marker": {
             "line": {
              "color": "white",
              "width": 0.5
             },
             "pattern": {
              "fillmode": "overlay",
              "size": 10,
              "solidity": 0.2
             }
            },
            "type": "bar"
           }
          ],
          "barpolar": [
           {
            "marker": {
             "line": {
              "color": "white",
              "width": 0.5
             },
             "pattern": {
              "fillmode": "overlay",
              "size": 10,
              "solidity": 0.2
             }
            },
            "type": "barpolar"
           }
          ],
          "carpet": [
           {
            "aaxis": {
             "endlinecolor": "rgb(36,36,36)",
             "gridcolor": "white",
             "linecolor": "white",
             "minorgridcolor": "white",
             "startlinecolor": "rgb(36,36,36)"
            },
            "baxis": {
             "endlinecolor": "rgb(36,36,36)",
             "gridcolor": "white",
             "linecolor": "white",
             "minorgridcolor": "white",
             "startlinecolor": "rgb(36,36,36)"
            },
            "type": "carpet"
           }
          ],
          "choropleth": [
           {
            "colorbar": {
             "outlinewidth": 1,
             "tickcolor": "rgb(36,36,36)",
             "ticks": "outside"
            },
            "type": "choropleth"
           }
          ],
          "contour": [
           {
            "colorbar": {
             "outlinewidth": 1,
             "tickcolor": "rgb(36,36,36)",
             "ticks": "outside"
            },
            "colorscale": [
             [
              0,
              "#440154"
             ],
             [
              0.1111111111111111,
              "#482878"
             ],
             [
              0.2222222222222222,
              "#3e4989"
             ],
             [
              0.3333333333333333,
              "#31688e"
             ],
             [
              0.4444444444444444,
              "#26828e"
             ],
             [
              0.5555555555555556,
              "#1f9e89"
             ],
             [
              0.6666666666666666,
              "#35b779"
             ],
             [
              0.7777777777777778,
              "#6ece58"
             ],
             [
              0.8888888888888888,
              "#b5de2b"
             ],
             [
              1,
              "#fde725"
             ]
            ],
            "type": "contour"
           }
          ],
          "contourcarpet": [
           {
            "colorbar": {
             "outlinewidth": 1,
             "tickcolor": "rgb(36,36,36)",
             "ticks": "outside"
            },
            "type": "contourcarpet"
           }
          ],
          "heatmap": [
           {
            "colorbar": {
             "outlinewidth": 1,
             "tickcolor": "rgb(36,36,36)",
             "ticks": "outside"
            },
            "colorscale": [
             [
              0,
              "#440154"
             ],
             [
              0.1111111111111111,
              "#482878"
             ],
             [
              0.2222222222222222,
              "#3e4989"
             ],
             [
              0.3333333333333333,
              "#31688e"
             ],
             [
              0.4444444444444444,
              "#26828e"
             ],
             [
              0.5555555555555556,
              "#1f9e89"
             ],
             [
              0.6666666666666666,
              "#35b779"
             ],
             [
              0.7777777777777778,
              "#6ece58"
             ],
             [
              0.8888888888888888,
              "#b5de2b"
             ],
             [
              1,
              "#fde725"
             ]
            ],
            "type": "heatmap"
           }
          ],
          "heatmapgl": [
           {
            "colorbar": {
             "outlinewidth": 1,
             "tickcolor": "rgb(36,36,36)",
             "ticks": "outside"
            },
            "colorscale": [
             [
              0,
              "#440154"
             ],
             [
              0.1111111111111111,
              "#482878"
             ],
             [
              0.2222222222222222,
              "#3e4989"
             ],
             [
              0.3333333333333333,
              "#31688e"
             ],
             [
              0.4444444444444444,
              "#26828e"
             ],
             [
              0.5555555555555556,
              "#1f9e89"
             ],
             [
              0.6666666666666666,
              "#35b779"
             ],
             [
              0.7777777777777778,
              "#6ece58"
             ],
             [
              0.8888888888888888,
              "#b5de2b"
             ],
             [
              1,
              "#fde725"
             ]
            ],
            "type": "heatmapgl"
           }
          ],
          "histogram": [
           {
            "marker": {
             "line": {
              "color": "white",
              "width": 0.6
             }
            },
            "type": "histogram"
           }
          ],
          "histogram2d": [
           {
            "colorbar": {
             "outlinewidth": 1,
             "tickcolor": "rgb(36,36,36)",
             "ticks": "outside"
            },
            "colorscale": [
             [
              0,
              "#440154"
             ],
             [
              0.1111111111111111,
              "#482878"
             ],
             [
              0.2222222222222222,
              "#3e4989"
             ],
             [
              0.3333333333333333,
              "#31688e"
             ],
             [
              0.4444444444444444,
              "#26828e"
             ],
             [
              0.5555555555555556,
              "#1f9e89"
             ],
             [
              0.6666666666666666,
              "#35b779"
             ],
             [
              0.7777777777777778,
              "#6ece58"
             ],
             [
              0.8888888888888888,
              "#b5de2b"
             ],
             [
              1,
              "#fde725"
             ]
            ],
            "type": "histogram2d"
           }
          ],
          "histogram2dcontour": [
           {
            "colorbar": {
             "outlinewidth": 1,
             "tickcolor": "rgb(36,36,36)",
             "ticks": "outside"
            },
            "colorscale": [
             [
              0,
              "#440154"
             ],
             [
              0.1111111111111111,
              "#482878"
             ],
             [
              0.2222222222222222,
              "#3e4989"
             ],
             [
              0.3333333333333333,
              "#31688e"
             ],
             [
              0.4444444444444444,
              "#26828e"
             ],
             [
              0.5555555555555556,
              "#1f9e89"
             ],
             [
              0.6666666666666666,
              "#35b779"
             ],
             [
              0.7777777777777778,
              "#6ece58"
             ],
             [
              0.8888888888888888,
              "#b5de2b"
             ],
             [
              1,
              "#fde725"
             ]
            ],
            "type": "histogram2dcontour"
           }
          ],
          "mesh3d": [
           {
            "colorbar": {
             "outlinewidth": 1,
             "tickcolor": "rgb(36,36,36)",
             "ticks": "outside"
            },
            "type": "mesh3d"
           }
          ],
          "parcoords": [
           {
            "line": {
             "colorbar": {
              "outlinewidth": 1,
              "tickcolor": "rgb(36,36,36)",
              "ticks": "outside"
             }
            },
            "type": "parcoords"
           }
          ],
          "pie": [
           {
            "automargin": true,
            "type": "pie"
           }
          ],
          "scatter": [
           {
            "fillpattern": {
             "fillmode": "overlay",
             "size": 10,
             "solidity": 0.2
            },
            "type": "scatter"
           }
          ],
          "scatter3d": [
           {
            "line": {
             "colorbar": {
              "outlinewidth": 1,
              "tickcolor": "rgb(36,36,36)",
              "ticks": "outside"
             }
            },
            "marker": {
             "colorbar": {
              "outlinewidth": 1,
              "tickcolor": "rgb(36,36,36)",
              "ticks": "outside"
             }
            },
            "type": "scatter3d"
           }
          ],
          "scattercarpet": [
           {
            "marker": {
             "colorbar": {
              "outlinewidth": 1,
              "tickcolor": "rgb(36,36,36)",
              "ticks": "outside"
             }
            },
            "type": "scattercarpet"
           }
          ],
          "scattergeo": [
           {
            "marker": {
             "colorbar": {
              "outlinewidth": 1,
              "tickcolor": "rgb(36,36,36)",
              "ticks": "outside"
             }
            },
            "type": "scattergeo"
           }
          ],
          "scattergl": [
           {
            "marker": {
             "colorbar": {
              "outlinewidth": 1,
              "tickcolor": "rgb(36,36,36)",
              "ticks": "outside"
             }
            },
            "type": "scattergl"
           }
          ],
          "scattermapbox": [
           {
            "marker": {
             "colorbar": {
              "outlinewidth": 1,
              "tickcolor": "rgb(36,36,36)",
              "ticks": "outside"
             }
            },
            "type": "scattermapbox"
           }
          ],
          "scatterpolar": [
           {
            "marker": {
             "colorbar": {
              "outlinewidth": 1,
              "tickcolor": "rgb(36,36,36)",
              "ticks": "outside"
             }
            },
            "type": "scatterpolar"
           }
          ],
          "scatterpolargl": [
           {
            "marker": {
             "colorbar": {
              "outlinewidth": 1,
              "tickcolor": "rgb(36,36,36)",
              "ticks": "outside"
             }
            },
            "type": "scatterpolargl"
           }
          ],
          "scatterternary": [
           {
            "marker": {
             "colorbar": {
              "outlinewidth": 1,
              "tickcolor": "rgb(36,36,36)",
              "ticks": "outside"
             }
            },
            "type": "scatterternary"
           }
          ],
          "surface": [
           {
            "colorbar": {
             "outlinewidth": 1,
             "tickcolor": "rgb(36,36,36)",
             "ticks": "outside"
            },
            "colorscale": [
             [
              0,
              "#440154"
             ],
             [
              0.1111111111111111,
              "#482878"
             ],
             [
              0.2222222222222222,
              "#3e4989"
             ],
             [
              0.3333333333333333,
              "#31688e"
             ],
             [
              0.4444444444444444,
              "#26828e"
             ],
             [
              0.5555555555555556,
              "#1f9e89"
             ],
             [
              0.6666666666666666,
              "#35b779"
             ],
             [
              0.7777777777777778,
              "#6ece58"
             ],
             [
              0.8888888888888888,
              "#b5de2b"
             ],
             [
              1,
              "#fde725"
             ]
            ],
            "type": "surface"
           }
          ],
          "table": [
           {
            "cells": {
             "fill": {
              "color": "rgb(237,237,237)"
             },
             "line": {
              "color": "white"
             }
            },
            "header": {
             "fill": {
              "color": "rgb(217,217,217)"
             },
             "line": {
              "color": "white"
             }
            },
            "type": "table"
           }
          ]
         },
         "layout": {
          "annotationdefaults": {
           "arrowhead": 0,
           "arrowwidth": 1
          },
          "autotypenumbers": "strict",
          "coloraxis": {
           "colorbar": {
            "outlinewidth": 1,
            "tickcolor": "rgb(36,36,36)",
            "ticks": "outside"
           }
          },
          "colorscale": {
           "diverging": [
            [
             0,
             "rgb(103,0,31)"
            ],
            [
             0.1,
             "rgb(178,24,43)"
            ],
            [
             0.2,
             "rgb(214,96,77)"
            ],
            [
             0.3,
             "rgb(244,165,130)"
            ],
            [
             0.4,
             "rgb(253,219,199)"
            ],
            [
             0.5,
             "rgb(247,247,247)"
            ],
            [
             0.6,
             "rgb(209,229,240)"
            ],
            [
             0.7,
             "rgb(146,197,222)"
            ],
            [
             0.8,
             "rgb(67,147,195)"
            ],
            [
             0.9,
             "rgb(33,102,172)"
            ],
            [
             1,
             "rgb(5,48,97)"
            ]
           ],
           "sequential": [
            [
             0,
             "#440154"
            ],
            [
             0.1111111111111111,
             "#482878"
            ],
            [
             0.2222222222222222,
             "#3e4989"
            ],
            [
             0.3333333333333333,
             "#31688e"
            ],
            [
             0.4444444444444444,
             "#26828e"
            ],
            [
             0.5555555555555556,
             "#1f9e89"
            ],
            [
             0.6666666666666666,
             "#35b779"
            ],
            [
             0.7777777777777778,
             "#6ece58"
            ],
            [
             0.8888888888888888,
             "#b5de2b"
            ],
            [
             1,
             "#fde725"
            ]
           ],
           "sequentialminus": [
            [
             0,
             "#440154"
            ],
            [
             0.1111111111111111,
             "#482878"
            ],
            [
             0.2222222222222222,
             "#3e4989"
            ],
            [
             0.3333333333333333,
             "#31688e"
            ],
            [
             0.4444444444444444,
             "#26828e"
            ],
            [
             0.5555555555555556,
             "#1f9e89"
            ],
            [
             0.6666666666666666,
             "#35b779"
            ],
            [
             0.7777777777777778,
             "#6ece58"
            ],
            [
             0.8888888888888888,
             "#b5de2b"
            ],
            [
             1,
             "#fde725"
            ]
           ]
          },
          "colorway": [
           "#1F77B4",
           "#FF7F0E",
           "#2CA02C",
           "#D62728",
           "#9467BD",
           "#8C564B",
           "#E377C2",
           "#7F7F7F",
           "#BCBD22",
           "#17BECF"
          ],
          "font": {
           "color": "rgb(36,36,36)"
          },
          "geo": {
           "bgcolor": "white",
           "lakecolor": "white",
           "landcolor": "white",
           "showlakes": true,
           "showland": true,
           "subunitcolor": "white"
          },
          "hoverlabel": {
           "align": "left"
          },
          "hovermode": "closest",
          "mapbox": {
           "style": "light"
          },
          "paper_bgcolor": "white",
          "plot_bgcolor": "white",
          "polar": {
           "angularaxis": {
            "gridcolor": "rgb(232,232,232)",
            "linecolor": "rgb(36,36,36)",
            "showgrid": false,
            "showline": true,
            "ticks": "outside"
           },
           "bgcolor": "white",
           "radialaxis": {
            "gridcolor": "rgb(232,232,232)",
            "linecolor": "rgb(36,36,36)",
            "showgrid": false,
            "showline": true,
            "ticks": "outside"
           }
          },
          "scene": {
           "xaxis": {
            "backgroundcolor": "white",
            "gridcolor": "rgb(232,232,232)",
            "gridwidth": 2,
            "linecolor": "rgb(36,36,36)",
            "showbackground": true,
            "showgrid": false,
            "showline": true,
            "ticks": "outside",
            "zeroline": false,
            "zerolinecolor": "rgb(36,36,36)"
           },
           "yaxis": {
            "backgroundcolor": "white",
            "gridcolor": "rgb(232,232,232)",
            "gridwidth": 2,
            "linecolor": "rgb(36,36,36)",
            "showbackground": true,
            "showgrid": false,
            "showline": true,
            "ticks": "outside",
            "zeroline": false,
            "zerolinecolor": "rgb(36,36,36)"
           },
           "zaxis": {
            "backgroundcolor": "white",
            "gridcolor": "rgb(232,232,232)",
            "gridwidth": 2,
            "linecolor": "rgb(36,36,36)",
            "showbackground": true,
            "showgrid": false,
            "showline": true,
            "ticks": "outside",
            "zeroline": false,
            "zerolinecolor": "rgb(36,36,36)"
           }
          },
          "shapedefaults": {
           "fillcolor": "black",
           "line": {
            "width": 0
           },
           "opacity": 0.3
          },
          "ternary": {
           "aaxis": {
            "gridcolor": "rgb(232,232,232)",
            "linecolor": "rgb(36,36,36)",
            "showgrid": false,
            "showline": true,
            "ticks": "outside"
           },
           "baxis": {
            "gridcolor": "rgb(232,232,232)",
            "linecolor": "rgb(36,36,36)",
            "showgrid": false,
            "showline": true,
            "ticks": "outside"
           },
           "bgcolor": "white",
           "caxis": {
            "gridcolor": "rgb(232,232,232)",
            "linecolor": "rgb(36,36,36)",
            "showgrid": false,
            "showline": true,
            "ticks": "outside"
           }
          },
          "title": {
           "x": 0.05
          },
          "xaxis": {
           "automargin": true,
           "gridcolor": "rgb(232,232,232)",
           "linecolor": "rgb(36,36,36)",
           "showgrid": false,
           "showline": true,
           "ticks": "outside",
           "title": {
            "standoff": 15
           },
           "zeroline": false,
           "zerolinecolor": "rgb(36,36,36)"
          },
          "yaxis": {
           "automargin": true,
           "gridcolor": "rgb(232,232,232)",
           "linecolor": "rgb(36,36,36)",
           "showgrid": false,
           "showline": true,
           "ticks": "outside",
           "title": {
            "standoff": 15
           },
           "zeroline": false,
           "zerolinecolor": "rgb(36,36,36)"
          }
         }
        },
        "title": {
         "font": {
          "size": 20
         },
         "text": "Optimal Properties Recommended by Genetic Algorithm",
         "x": 0.2
        }
       }
      }
     },
     "metadata": {},
     "output_type": "display_data"
    }
   ],
   "source": [
    "# Print the optimization results as a table\n",
    "HS.print_table_of_best_designs(rows=10)"
   ]
  },
  {
   "cell_type": "code",
   "execution_count": 6,
   "metadata": {},
   "outputs": [
    {
     "data": {
      "application/vnd.plotly.v1+json": {
       "config": {
        "plotlyServerURL": "https://plot.ly"
       },
       "data": [
        {
         "mode": "lines",
         "name": "Avg. of top 10 performers",
         "type": "scatter",
         "x": [
          0,
          1,
          2,
          3,
          4,
          5,
          6,
          7,
          8,
          9,
          10,
          11,
          12,
          13,
          14,
          15,
          16,
          17,
          18,
          19,
          20,
          21,
          22,
          23,
          24,
          25,
          26,
          27,
          28,
          29,
          30,
          31,
          32,
          33,
          34,
          35,
          36,
          37,
          38,
          39,
          40,
          41,
          42,
          43,
          44,
          45,
          46,
          47,
          48,
          49,
          50,
          51,
          52,
          53,
          54,
          55,
          56,
          57,
          58,
          59,
          60,
          61,
          62,
          63,
          64,
          65,
          66,
          67,
          68,
          69,
          70,
          71,
          72,
          73,
          74,
          75,
          76,
          77,
          78,
          79,
          80,
          81,
          82,
          83,
          84,
          85,
          86,
          87,
          88,
          89,
          90,
          91,
          92,
          93,
          94,
          95,
          96,
          97,
          98,
          99
         ],
         "y": [
          0.15259039368286365,
          0.1361777959760287,
          0.12311869805833524,
          0.11630355392251876,
          0.11248716473871627,
          0.11043252435268158,
          0.10944811332689194,
          0.10927698415592071,
          0.10924682197127326,
          0.10923718522126957,
          0.10923596869040549,
          0.10923560819229208,
          0.10923546519392431,
          0.1092354221811704,
          0.10923541987980696,
          0.10923541864021269,
          0.10923541778793952,
          0.10923541762522959,
          0.1092354176161389,
          0.10923541761189445,
          0.10923541761011539,
          0.10923541760989423,
          0.10923541760987374,
          0.1092354176098705,
          0.10923541760986792,
          0.10923541760986563,
          0.10923541760986451,
          0.10923541760986384,
          0.1092354176098638,
          0.10923541760986377,
          0.10923541760986374,
          0.10923541760986374,
          0.10867369442485028,
          0.10623430188488273,
          0.10490741948363776,
          0.1014786392150083,
          0.09674073306051681,
          0.09418340262246304,
          0.09389056820930072,
          0.09385606010019325,
          0.09385441208064488,
          0.09385371308771287,
          0.0938536018650448,
          0.09385357181532766,
          0.09385356990375536,
          0.09385356972105527,
          0.0938535697047725,
          0.09385356970364504,
          0.09385356970350447,
          0.09385356970348739,
          0.09385356970347794,
          0.09385356970347777,
          0.09385356970347766,
          0.09385356970347755,
          0.09385356970347745,
          0.09385356970347744,
          0.09385356970347743,
          0.0938535697034774,
          0.0938535697034774,
          0.09385356970347739,
          0.09385356970347737,
          0.09385356970347736,
          0.09385356970347736,
          0.09385356970347736,
          0.09385356970347736,
          0.09348252377301496,
          0.09348252377301496,
          0.09348252377301496,
          0.09348252377301496,
          0.09348252377301496,
          0.09348252377301496,
          0.09348252377301496,
          0.09348252377301496,
          0.09348252377301494,
          0.09348252377301494,
          0.09348252377301494,
          0.09348252377301494,
          0.09348252377301494,
          0.09348252377301494,
          0.09348252377301494,
          0.09348252377301493,
          0.09348252377301493,
          0.09348252377301491,
          0.09348252377301489,
          0.09348252377301489,
          0.09348252377301489,
          0.09347171165338031,
          0.09275607036296725,
          0.09019371191518619,
          0.08523753531642378,
          0.07796901900572309,
          0.07010827619925324,
          0.0687427479143014,
          0.06840080822771683,
          0.06837445909776325,
          0.068366208844162,
          0.06836536070743846,
          0.0683649435686559,
          0.06836468896276773,
          0.06836462365070592
         ]
        },
        {
         "mode": "lines",
         "name": "Best costs",
         "type": "scatter",
         "x": [
          0,
          1,
          2,
          3,
          4,
          5,
          6,
          7,
          8,
          9,
          10,
          11,
          12,
          13,
          14,
          15,
          16,
          17,
          18,
          19,
          20,
          21,
          22,
          23,
          24,
          25,
          26,
          27,
          28,
          29,
          30,
          31,
          32,
          33,
          34,
          35,
          36,
          37,
          38,
          39,
          40,
          41,
          42,
          43,
          44,
          45,
          46,
          47,
          48,
          49,
          50,
          51,
          52,
          53,
          54,
          55,
          56,
          57,
          58,
          59,
          60,
          61,
          62,
          63,
          64,
          65,
          66,
          67,
          68,
          69,
          70,
          71,
          72,
          73,
          74,
          75,
          76,
          77,
          78,
          79,
          80,
          81,
          82,
          83,
          84,
          85,
          86,
          87,
          88,
          89,
          90,
          91,
          92,
          93,
          94,
          95,
          96,
          97,
          98,
          99
         ],
         "y": [
          0.1300157631411086,
          0.11883391549388175,
          0.10923541760986377,
          0.10923541760986377,
          0.10923541760986377,
          0.10923541760986377,
          0.10923541760986377,
          0.10923541760986377,
          0.10923541760986377,
          0.10923541760986377,
          0.10923541760986377,
          0.10923541760986377,
          0.10923541760986377,
          0.10923541760986377,
          0.10923541760986377,
          0.10923541760986377,
          0.10923541760986377,
          0.10923541760986377,
          0.10923541760986377,
          0.10923541760986377,
          0.10923541760986377,
          0.10923541760986377,
          0.10923541760986377,
          0.10923541760986377,
          0.10923541760986377,
          0.10923541760986377,
          0.10923541760986377,
          0.10923541760986377,
          0.10923541760986374,
          0.10923541760986374,
          0.10923541760986374,
          0.10923541760986374,
          0.10361818575972925,
          0.09463765330593055,
          0.09463765330593055,
          0.09411286588574705,
          0.09390915950621076,
          0.0938550051012971,
          0.09385455754429992,
          0.09385369201584412,
          0.09385358476330807,
          0.09385357329581714,
          0.09385357002184967,
          0.09385356981399032,
          0.09385356970378174,
          0.09385356970348815,
          0.09385356970348815,
          0.09385356970348625,
          0.0938535697034779,
          0.09385356970347772,
          0.09385356970347772,
          0.09385356970347758,
          0.09385356970347748,
          0.09385356970347741,
          0.09385356970347741,
          0.09385356970347741,
          0.09385356970347739,
          0.09385356970347736,
          0.09385356970347736,
          0.09385356970347736,
          0.09385356970347736,
          0.09385356970347736,
          0.09385356970347736,
          0.09385356970347734,
          0.09385356970347733,
          0.09014311039885338,
          0.09014311039885338,
          0.09014311039885338,
          0.09014311039885338,
          0.09014311039885338,
          0.09014311039885338,
          0.09014311039885338,
          0.09014311039885338,
          0.09014311039885338,
          0.09014311039885338,
          0.09014311039885338,
          0.09014311039885338,
          0.09014311039885338,
          0.09014311039885338,
          0.09014311039885338,
          0.09014311039885338,
          0.09014311039885338,
          0.09014311039885338,
          0.09014311039885338,
          0.09014311039885338,
          0.09014311039885338,
          0.09014311039885338,
          0.0886885781904818,
          0.07034154100586,
          0.06836458534227131,
          0.06836458534227131,
          0.06836458534227131,
          0.06836458534227131,
          0.06836458534227131,
          0.06836458534227131,
          0.06836458534227131,
          0.06836458534227131,
          0.06836458534227131,
          0.06836458534227131,
          0.06836458534227131
         ]
        }
       ],
       "layout": {
        "height": 400,
        "legend": {
         "bgcolor": "rgba(255, 255, 255, 0.5)",
         "font": {
          "size": 14
         },
         "x": 1,
         "xanchor": "right",
         "y": 1,
         "yanchor": "top"
        },
        "margin": {
         "b": 50,
         "l": 50,
         "r": 50,
         "t": 50
        },
        "template": {
         "data": {
          "bar": [
           {
            "error_x": {
             "color": "rgb(36,36,36)"
            },
            "error_y": {
             "color": "rgb(36,36,36)"
            },
            "marker": {
             "line": {
              "color": "white",
              "width": 0.5
             },
             "pattern": {
              "fillmode": "overlay",
              "size": 10,
              "solidity": 0.2
             }
            },
            "type": "bar"
           }
          ],
          "barpolar": [
           {
            "marker": {
             "line": {
              "color": "white",
              "width": 0.5
             },
             "pattern": {
              "fillmode": "overlay",
              "size": 10,
              "solidity": 0.2
             }
            },
            "type": "barpolar"
           }
          ],
          "carpet": [
           {
            "aaxis": {
             "endlinecolor": "rgb(36,36,36)",
             "gridcolor": "white",
             "linecolor": "white",
             "minorgridcolor": "white",
             "startlinecolor": "rgb(36,36,36)"
            },
            "baxis": {
             "endlinecolor": "rgb(36,36,36)",
             "gridcolor": "white",
             "linecolor": "white",
             "minorgridcolor": "white",
             "startlinecolor": "rgb(36,36,36)"
            },
            "type": "carpet"
           }
          ],
          "choropleth": [
           {
            "colorbar": {
             "outlinewidth": 1,
             "tickcolor": "rgb(36,36,36)",
             "ticks": "outside"
            },
            "type": "choropleth"
           }
          ],
          "contour": [
           {
            "colorbar": {
             "outlinewidth": 1,
             "tickcolor": "rgb(36,36,36)",
             "ticks": "outside"
            },
            "colorscale": [
             [
              0,
              "#440154"
             ],
             [
              0.1111111111111111,
              "#482878"
             ],
             [
              0.2222222222222222,
              "#3e4989"
             ],
             [
              0.3333333333333333,
              "#31688e"
             ],
             [
              0.4444444444444444,
              "#26828e"
             ],
             [
              0.5555555555555556,
              "#1f9e89"
             ],
             [
              0.6666666666666666,
              "#35b779"
             ],
             [
              0.7777777777777778,
              "#6ece58"
             ],
             [
              0.8888888888888888,
              "#b5de2b"
             ],
             [
              1,
              "#fde725"
             ]
            ],
            "type": "contour"
           }
          ],
          "contourcarpet": [
           {
            "colorbar": {
             "outlinewidth": 1,
             "tickcolor": "rgb(36,36,36)",
             "ticks": "outside"
            },
            "type": "contourcarpet"
           }
          ],
          "heatmap": [
           {
            "colorbar": {
             "outlinewidth": 1,
             "tickcolor": "rgb(36,36,36)",
             "ticks": "outside"
            },
            "colorscale": [
             [
              0,
              "#440154"
             ],
             [
              0.1111111111111111,
              "#482878"
             ],
             [
              0.2222222222222222,
              "#3e4989"
             ],
             [
              0.3333333333333333,
              "#31688e"
             ],
             [
              0.4444444444444444,
              "#26828e"
             ],
             [
              0.5555555555555556,
              "#1f9e89"
             ],
             [
              0.6666666666666666,
              "#35b779"
             ],
             [
              0.7777777777777778,
              "#6ece58"
             ],
             [
              0.8888888888888888,
              "#b5de2b"
             ],
             [
              1,
              "#fde725"
             ]
            ],
            "type": "heatmap"
           }
          ],
          "heatmapgl": [
           {
            "colorbar": {
             "outlinewidth": 1,
             "tickcolor": "rgb(36,36,36)",
             "ticks": "outside"
            },
            "colorscale": [
             [
              0,
              "#440154"
             ],
             [
              0.1111111111111111,
              "#482878"
             ],
             [
              0.2222222222222222,
              "#3e4989"
             ],
             [
              0.3333333333333333,
              "#31688e"
             ],
             [
              0.4444444444444444,
              "#26828e"
             ],
             [
              0.5555555555555556,
              "#1f9e89"
             ],
             [
              0.6666666666666666,
              "#35b779"
             ],
             [
              0.7777777777777778,
              "#6ece58"
             ],
             [
              0.8888888888888888,
              "#b5de2b"
             ],
             [
              1,
              "#fde725"
             ]
            ],
            "type": "heatmapgl"
           }
          ],
          "histogram": [
           {
            "marker": {
             "line": {
              "color": "white",
              "width": 0.6
             }
            },
            "type": "histogram"
           }
          ],
          "histogram2d": [
           {
            "colorbar": {
             "outlinewidth": 1,
             "tickcolor": "rgb(36,36,36)",
             "ticks": "outside"
            },
            "colorscale": [
             [
              0,
              "#440154"
             ],
             [
              0.1111111111111111,
              "#482878"
             ],
             [
              0.2222222222222222,
              "#3e4989"
             ],
             [
              0.3333333333333333,
              "#31688e"
             ],
             [
              0.4444444444444444,
              "#26828e"
             ],
             [
              0.5555555555555556,
              "#1f9e89"
             ],
             [
              0.6666666666666666,
              "#35b779"
             ],
             [
              0.7777777777777778,
              "#6ece58"
             ],
             [
              0.8888888888888888,
              "#b5de2b"
             ],
             [
              1,
              "#fde725"
             ]
            ],
            "type": "histogram2d"
           }
          ],
          "histogram2dcontour": [
           {
            "colorbar": {
             "outlinewidth": 1,
             "tickcolor": "rgb(36,36,36)",
             "ticks": "outside"
            },
            "colorscale": [
             [
              0,
              "#440154"
             ],
             [
              0.1111111111111111,
              "#482878"
             ],
             [
              0.2222222222222222,
              "#3e4989"
             ],
             [
              0.3333333333333333,
              "#31688e"
             ],
             [
              0.4444444444444444,
              "#26828e"
             ],
             [
              0.5555555555555556,
              "#1f9e89"
             ],
             [
              0.6666666666666666,
              "#35b779"
             ],
             [
              0.7777777777777778,
              "#6ece58"
             ],
             [
              0.8888888888888888,
              "#b5de2b"
             ],
             [
              1,
              "#fde725"
             ]
            ],
            "type": "histogram2dcontour"
           }
          ],
          "mesh3d": [
           {
            "colorbar": {
             "outlinewidth": 1,
             "tickcolor": "rgb(36,36,36)",
             "ticks": "outside"
            },
            "type": "mesh3d"
           }
          ],
          "parcoords": [
           {
            "line": {
             "colorbar": {
              "outlinewidth": 1,
              "tickcolor": "rgb(36,36,36)",
              "ticks": "outside"
             }
            },
            "type": "parcoords"
           }
          ],
          "pie": [
           {
            "automargin": true,
            "type": "pie"
           }
          ],
          "scatter": [
           {
            "fillpattern": {
             "fillmode": "overlay",
             "size": 10,
             "solidity": 0.2
            },
            "type": "scatter"
           }
          ],
          "scatter3d": [
           {
            "line": {
             "colorbar": {
              "outlinewidth": 1,
              "tickcolor": "rgb(36,36,36)",
              "ticks": "outside"
             }
            },
            "marker": {
             "colorbar": {
              "outlinewidth": 1,
              "tickcolor": "rgb(36,36,36)",
              "ticks": "outside"
             }
            },
            "type": "scatter3d"
           }
          ],
          "scattercarpet": [
           {
            "marker": {
             "colorbar": {
              "outlinewidth": 1,
              "tickcolor": "rgb(36,36,36)",
              "ticks": "outside"
             }
            },
            "type": "scattercarpet"
           }
          ],
          "scattergeo": [
           {
            "marker": {
             "colorbar": {
              "outlinewidth": 1,
              "tickcolor": "rgb(36,36,36)",
              "ticks": "outside"
             }
            },
            "type": "scattergeo"
           }
          ],
          "scattergl": [
           {
            "marker": {
             "colorbar": {
              "outlinewidth": 1,
              "tickcolor": "rgb(36,36,36)",
              "ticks": "outside"
             }
            },
            "type": "scattergl"
           }
          ],
          "scattermapbox": [
           {
            "marker": {
             "colorbar": {
              "outlinewidth": 1,
              "tickcolor": "rgb(36,36,36)",
              "ticks": "outside"
             }
            },
            "type": "scattermapbox"
           }
          ],
          "scatterpolar": [
           {
            "marker": {
             "colorbar": {
              "outlinewidth": 1,
              "tickcolor": "rgb(36,36,36)",
              "ticks": "outside"
             }
            },
            "type": "scatterpolar"
           }
          ],
          "scatterpolargl": [
           {
            "marker": {
             "colorbar": {
              "outlinewidth": 1,
              "tickcolor": "rgb(36,36,36)",
              "ticks": "outside"
             }
            },
            "type": "scatterpolargl"
           }
          ],
          "scatterternary": [
           {
            "marker": {
             "colorbar": {
              "outlinewidth": 1,
              "tickcolor": "rgb(36,36,36)",
              "ticks": "outside"
             }
            },
            "type": "scatterternary"
           }
          ],
          "surface": [
           {
            "colorbar": {
             "outlinewidth": 1,
             "tickcolor": "rgb(36,36,36)",
             "ticks": "outside"
            },
            "colorscale": [
             [
              0,
              "#440154"
             ],
             [
              0.1111111111111111,
              "#482878"
             ],
             [
              0.2222222222222222,
              "#3e4989"
             ],
             [
              0.3333333333333333,
              "#31688e"
             ],
             [
              0.4444444444444444,
              "#26828e"
             ],
             [
              0.5555555555555556,
              "#1f9e89"
             ],
             [
              0.6666666666666666,
              "#35b779"
             ],
             [
              0.7777777777777778,
              "#6ece58"
             ],
             [
              0.8888888888888888,
              "#b5de2b"
             ],
             [
              1,
              "#fde725"
             ]
            ],
            "type": "surface"
           }
          ],
          "table": [
           {
            "cells": {
             "fill": {
              "color": "rgb(237,237,237)"
             },
             "line": {
              "color": "white"
             }
            },
            "header": {
             "fill": {
              "color": "rgb(217,217,217)"
             },
             "line": {
              "color": "white"
             }
            },
            "type": "table"
           }
          ]
         },
         "layout": {
          "annotationdefaults": {
           "arrowhead": 0,
           "arrowwidth": 1
          },
          "autotypenumbers": "strict",
          "coloraxis": {
           "colorbar": {
            "outlinewidth": 1,
            "tickcolor": "rgb(36,36,36)",
            "ticks": "outside"
           }
          },
          "colorscale": {
           "diverging": [
            [
             0,
             "rgb(103,0,31)"
            ],
            [
             0.1,
             "rgb(178,24,43)"
            ],
            [
             0.2,
             "rgb(214,96,77)"
            ],
            [
             0.3,
             "rgb(244,165,130)"
            ],
            [
             0.4,
             "rgb(253,219,199)"
            ],
            [
             0.5,
             "rgb(247,247,247)"
            ],
            [
             0.6,
             "rgb(209,229,240)"
            ],
            [
             0.7,
             "rgb(146,197,222)"
            ],
            [
             0.8,
             "rgb(67,147,195)"
            ],
            [
             0.9,
             "rgb(33,102,172)"
            ],
            [
             1,
             "rgb(5,48,97)"
            ]
           ],
           "sequential": [
            [
             0,
             "#440154"
            ],
            [
             0.1111111111111111,
             "#482878"
            ],
            [
             0.2222222222222222,
             "#3e4989"
            ],
            [
             0.3333333333333333,
             "#31688e"
            ],
            [
             0.4444444444444444,
             "#26828e"
            ],
            [
             0.5555555555555556,
             "#1f9e89"
            ],
            [
             0.6666666666666666,
             "#35b779"
            ],
            [
             0.7777777777777778,
             "#6ece58"
            ],
            [
             0.8888888888888888,
             "#b5de2b"
            ],
            [
             1,
             "#fde725"
            ]
           ],
           "sequentialminus": [
            [
             0,
             "#440154"
            ],
            [
             0.1111111111111111,
             "#482878"
            ],
            [
             0.2222222222222222,
             "#3e4989"
            ],
            [
             0.3333333333333333,
             "#31688e"
            ],
            [
             0.4444444444444444,
             "#26828e"
            ],
            [
             0.5555555555555556,
             "#1f9e89"
            ],
            [
             0.6666666666666666,
             "#35b779"
            ],
            [
             0.7777777777777778,
             "#6ece58"
            ],
            [
             0.8888888888888888,
             "#b5de2b"
            ],
            [
             1,
             "#fde725"
            ]
           ]
          },
          "colorway": [
           "#1F77B4",
           "#FF7F0E",
           "#2CA02C",
           "#D62728",
           "#9467BD",
           "#8C564B",
           "#E377C2",
           "#7F7F7F",
           "#BCBD22",
           "#17BECF"
          ],
          "font": {
           "color": "rgb(36,36,36)"
          },
          "geo": {
           "bgcolor": "white",
           "lakecolor": "white",
           "landcolor": "white",
           "showlakes": true,
           "showland": true,
           "subunitcolor": "white"
          },
          "hoverlabel": {
           "align": "left"
          },
          "hovermode": "closest",
          "mapbox": {
           "style": "light"
          },
          "paper_bgcolor": "white",
          "plot_bgcolor": "white",
          "polar": {
           "angularaxis": {
            "gridcolor": "rgb(232,232,232)",
            "linecolor": "rgb(36,36,36)",
            "showgrid": false,
            "showline": true,
            "ticks": "outside"
           },
           "bgcolor": "white",
           "radialaxis": {
            "gridcolor": "rgb(232,232,232)",
            "linecolor": "rgb(36,36,36)",
            "showgrid": false,
            "showline": true,
            "ticks": "outside"
           }
          },
          "scene": {
           "xaxis": {
            "backgroundcolor": "white",
            "gridcolor": "rgb(232,232,232)",
            "gridwidth": 2,
            "linecolor": "rgb(36,36,36)",
            "showbackground": true,
            "showgrid": false,
            "showline": true,
            "ticks": "outside",
            "zeroline": false,
            "zerolinecolor": "rgb(36,36,36)"
           },
           "yaxis": {
            "backgroundcolor": "white",
            "gridcolor": "rgb(232,232,232)",
            "gridwidth": 2,
            "linecolor": "rgb(36,36,36)",
            "showbackground": true,
            "showgrid": false,
            "showline": true,
            "ticks": "outside",
            "zeroline": false,
            "zerolinecolor": "rgb(36,36,36)"
           },
           "zaxis": {
            "backgroundcolor": "white",
            "gridcolor": "rgb(232,232,232)",
            "gridwidth": 2,
            "linecolor": "rgb(36,36,36)",
            "showbackground": true,
            "showgrid": false,
            "showline": true,
            "ticks": "outside",
            "zeroline": false,
            "zerolinecolor": "rgb(36,36,36)"
           }
          },
          "shapedefaults": {
           "fillcolor": "black",
           "line": {
            "width": 0
           },
           "opacity": 0.3
          },
          "ternary": {
           "aaxis": {
            "gridcolor": "rgb(232,232,232)",
            "linecolor": "rgb(36,36,36)",
            "showgrid": false,
            "showline": true,
            "ticks": "outside"
           },
           "baxis": {
            "gridcolor": "rgb(232,232,232)",
            "linecolor": "rgb(36,36,36)",
            "showgrid": false,
            "showline": true,
            "ticks": "outside"
           },
           "bgcolor": "white",
           "caxis": {
            "gridcolor": "rgb(232,232,232)",
            "linecolor": "rgb(36,36,36)",
            "showgrid": false,
            "showline": true,
            "ticks": "outside"
           }
          },
          "title": {
           "x": 0.05
          },
          "xaxis": {
           "automargin": true,
           "gridcolor": "rgb(232,232,232)",
           "linecolor": "rgb(36,36,36)",
           "showgrid": false,
           "showline": true,
           "ticks": "outside",
           "title": {
            "standoff": 15
           },
           "zeroline": false,
           "zerolinecolor": "rgb(36,36,36)"
          },
          "yaxis": {
           "automargin": true,
           "gridcolor": "rgb(232,232,232)",
           "linecolor": "rgb(36,36,36)",
           "showgrid": false,
           "showline": true,
           "ticks": "outside",
           "title": {
            "standoff": 15
           },
           "zeroline": false,
           "zerolinecolor": "rgb(36,36,36)"
          }
         }
        },
        "title": {
         "font": {
          "size": 24
         },
         "text": "Convergence of Genetic Algorithm",
         "x": 0.25
        },
        "width": 600,
        "xaxis": {
         "title": {
          "font": {
           "size": 20
          },
          "text": "Generation"
         }
        },
        "yaxis": {
         "title": {
          "font": {
           "size": 20
          },
          "text": "Cost"
         }
        }
       }
      }
     },
     "metadata": {},
     "output_type": "display_data"
    }
   ],
   "source": [
    "# Plot the genetic algorithm convergence plot\n",
    "HS.plot_optimization_results()"
   ]
  },
  {
   "cell_type": "code",
   "execution_count": 7,
   "metadata": {},
   "outputs": [
    {
     "data": {
      "application/vnd.plotly.v1+json": {
       "config": {
        "plotlyServerURL": "https://plot.ly"
       },
       "data": [
        {
         "hole": 0.25,
         "insidetextorientation": "radial",
         "labels": [
          "eff. elec_cond_300k_low_doping",
          "eff. therm_cond_300k_low_doping",
          "eff. bulk_modulus",
          "eff. shear_modulus",
          "eff. universal_anisotropy",
          "cf load on elec_cond_300k_low_doping",
          "cf response from elec_cond_300k_low_doping",
          "cf load on therm_cond_300k_low_doping",
          "cf response from therm_cond_300k_low_doping",
          "cf hydrostatic stress",
          "cf deviatoric stress",
          "cf load on universal_anisotropy",
          "cf response from universal_anisotropy"
         ],
         "textinfo": "percent",
         "type": "pie",
         "values": [
          0.027120548682030628,
          0.018292586949165135,
          0.005480696768229992,
          0.0003393846484544586,
          0.014857844701022974,
          0,
          0,
          0.0044296769677533866,
          0.0033836247280943092,
          0.0008458431289555397,
          0.006326747320920357,
          0.0008021687207048356,
          0.00033517878493131883,
          0.002200210500853236,
          0.0038531523326235046,
          0.0023221533136771246,
          0.0041454336161276615,
          0.008129079139968234,
          0.0025788163215432628,
          0.0037160700048513,
          0.006845557231314777,
          0,
          0.00011615413210593116,
          0,
          0,
          0.0014772117936618365,
          0.0015015213001587516,
          0.007835788994786694,
          0.009793720602607385
         ]
        }
       ],
       "layout": {
        "showlegend": true,
        "template": {
         "data": {
          "bar": [
           {
            "error_x": {
             "color": "rgb(36,36,36)"
            },
            "error_y": {
             "color": "rgb(36,36,36)"
            },
            "marker": {
             "line": {
              "color": "white",
              "width": 0.5
             },
             "pattern": {
              "fillmode": "overlay",
              "size": 10,
              "solidity": 0.2
             }
            },
            "type": "bar"
           }
          ],
          "barpolar": [
           {
            "marker": {
             "line": {
              "color": "white",
              "width": 0.5
             },
             "pattern": {
              "fillmode": "overlay",
              "size": 10,
              "solidity": 0.2
             }
            },
            "type": "barpolar"
           }
          ],
          "carpet": [
           {
            "aaxis": {
             "endlinecolor": "rgb(36,36,36)",
             "gridcolor": "white",
             "linecolor": "white",
             "minorgridcolor": "white",
             "startlinecolor": "rgb(36,36,36)"
            },
            "baxis": {
             "endlinecolor": "rgb(36,36,36)",
             "gridcolor": "white",
             "linecolor": "white",
             "minorgridcolor": "white",
             "startlinecolor": "rgb(36,36,36)"
            },
            "type": "carpet"
           }
          ],
          "choropleth": [
           {
            "colorbar": {
             "outlinewidth": 1,
             "tickcolor": "rgb(36,36,36)",
             "ticks": "outside"
            },
            "type": "choropleth"
           }
          ],
          "contour": [
           {
            "colorbar": {
             "outlinewidth": 1,
             "tickcolor": "rgb(36,36,36)",
             "ticks": "outside"
            },
            "colorscale": [
             [
              0,
              "#440154"
             ],
             [
              0.1111111111111111,
              "#482878"
             ],
             [
              0.2222222222222222,
              "#3e4989"
             ],
             [
              0.3333333333333333,
              "#31688e"
             ],
             [
              0.4444444444444444,
              "#26828e"
             ],
             [
              0.5555555555555556,
              "#1f9e89"
             ],
             [
              0.6666666666666666,
              "#35b779"
             ],
             [
              0.7777777777777778,
              "#6ece58"
             ],
             [
              0.8888888888888888,
              "#b5de2b"
             ],
             [
              1,
              "#fde725"
             ]
            ],
            "type": "contour"
           }
          ],
          "contourcarpet": [
           {
            "colorbar": {
             "outlinewidth": 1,
             "tickcolor": "rgb(36,36,36)",
             "ticks": "outside"
            },
            "type": "contourcarpet"
           }
          ],
          "heatmap": [
           {
            "colorbar": {
             "outlinewidth": 1,
             "tickcolor": "rgb(36,36,36)",
             "ticks": "outside"
            },
            "colorscale": [
             [
              0,
              "#440154"
             ],
             [
              0.1111111111111111,
              "#482878"
             ],
             [
              0.2222222222222222,
              "#3e4989"
             ],
             [
              0.3333333333333333,
              "#31688e"
             ],
             [
              0.4444444444444444,
              "#26828e"
             ],
             [
              0.5555555555555556,
              "#1f9e89"
             ],
             [
              0.6666666666666666,
              "#35b779"
             ],
             [
              0.7777777777777778,
              "#6ece58"
             ],
             [
              0.8888888888888888,
              "#b5de2b"
             ],
             [
              1,
              "#fde725"
             ]
            ],
            "type": "heatmap"
           }
          ],
          "heatmapgl": [
           {
            "colorbar": {
             "outlinewidth": 1,
             "tickcolor": "rgb(36,36,36)",
             "ticks": "outside"
            },
            "colorscale": [
             [
              0,
              "#440154"
             ],
             [
              0.1111111111111111,
              "#482878"
             ],
             [
              0.2222222222222222,
              "#3e4989"
             ],
             [
              0.3333333333333333,
              "#31688e"
             ],
             [
              0.4444444444444444,
              "#26828e"
             ],
             [
              0.5555555555555556,
              "#1f9e89"
             ],
             [
              0.6666666666666666,
              "#35b779"
             ],
             [
              0.7777777777777778,
              "#6ece58"
             ],
             [
              0.8888888888888888,
              "#b5de2b"
             ],
             [
              1,
              "#fde725"
             ]
            ],
            "type": "heatmapgl"
           }
          ],
          "histogram": [
           {
            "marker": {
             "line": {
              "color": "white",
              "width": 0.6
             }
            },
            "type": "histogram"
           }
          ],
          "histogram2d": [
           {
            "colorbar": {
             "outlinewidth": 1,
             "tickcolor": "rgb(36,36,36)",
             "ticks": "outside"
            },
            "colorscale": [
             [
              0,
              "#440154"
             ],
             [
              0.1111111111111111,
              "#482878"
             ],
             [
              0.2222222222222222,
              "#3e4989"
             ],
             [
              0.3333333333333333,
              "#31688e"
             ],
             [
              0.4444444444444444,
              "#26828e"
             ],
             [
              0.5555555555555556,
              "#1f9e89"
             ],
             [
              0.6666666666666666,
              "#35b779"
             ],
             [
              0.7777777777777778,
              "#6ece58"
             ],
             [
              0.8888888888888888,
              "#b5de2b"
             ],
             [
              1,
              "#fde725"
             ]
            ],
            "type": "histogram2d"
           }
          ],
          "histogram2dcontour": [
           {
            "colorbar": {
             "outlinewidth": 1,
             "tickcolor": "rgb(36,36,36)",
             "ticks": "outside"
            },
            "colorscale": [
             [
              0,
              "#440154"
             ],
             [
              0.1111111111111111,
              "#482878"
             ],
             [
              0.2222222222222222,
              "#3e4989"
             ],
             [
              0.3333333333333333,
              "#31688e"
             ],
             [
              0.4444444444444444,
              "#26828e"
             ],
             [
              0.5555555555555556,
              "#1f9e89"
             ],
             [
              0.6666666666666666,
              "#35b779"
             ],
             [
              0.7777777777777778,
              "#6ece58"
             ],
             [
              0.8888888888888888,
              "#b5de2b"
             ],
             [
              1,
              "#fde725"
             ]
            ],
            "type": "histogram2dcontour"
           }
          ],
          "mesh3d": [
           {
            "colorbar": {
             "outlinewidth": 1,
             "tickcolor": "rgb(36,36,36)",
             "ticks": "outside"
            },
            "type": "mesh3d"
           }
          ],
          "parcoords": [
           {
            "line": {
             "colorbar": {
              "outlinewidth": 1,
              "tickcolor": "rgb(36,36,36)",
              "ticks": "outside"
             }
            },
            "type": "parcoords"
           }
          ],
          "pie": [
           {
            "automargin": true,
            "type": "pie"
           }
          ],
          "scatter": [
           {
            "fillpattern": {
             "fillmode": "overlay",
             "size": 10,
             "solidity": 0.2
            },
            "type": "scatter"
           }
          ],
          "scatter3d": [
           {
            "line": {
             "colorbar": {
              "outlinewidth": 1,
              "tickcolor": "rgb(36,36,36)",
              "ticks": "outside"
             }
            },
            "marker": {
             "colorbar": {
              "outlinewidth": 1,
              "tickcolor": "rgb(36,36,36)",
              "ticks": "outside"
             }
            },
            "type": "scatter3d"
           }
          ],
          "scattercarpet": [
           {
            "marker": {
             "colorbar": {
              "outlinewidth": 1,
              "tickcolor": "rgb(36,36,36)",
              "ticks": "outside"
             }
            },
            "type": "scattercarpet"
           }
          ],
          "scattergeo": [
           {
            "marker": {
             "colorbar": {
              "outlinewidth": 1,
              "tickcolor": "rgb(36,36,36)",
              "ticks": "outside"
             }
            },
            "type": "scattergeo"
           }
          ],
          "scattergl": [
           {
            "marker": {
             "colorbar": {
              "outlinewidth": 1,
              "tickcolor": "rgb(36,36,36)",
              "ticks": "outside"
             }
            },
            "type": "scattergl"
           }
          ],
          "scattermapbox": [
           {
            "marker": {
             "colorbar": {
              "outlinewidth": 1,
              "tickcolor": "rgb(36,36,36)",
              "ticks": "outside"
             }
            },
            "type": "scattermapbox"
           }
          ],
          "scatterpolar": [
           {
            "marker": {
             "colorbar": {
              "outlinewidth": 1,
              "tickcolor": "rgb(36,36,36)",
              "ticks": "outside"
             }
            },
            "type": "scatterpolar"
           }
          ],
          "scatterpolargl": [
           {
            "marker": {
             "colorbar": {
              "outlinewidth": 1,
              "tickcolor": "rgb(36,36,36)",
              "ticks": "outside"
             }
            },
            "type": "scatterpolargl"
           }
          ],
          "scatterternary": [
           {
            "marker": {
             "colorbar": {
              "outlinewidth": 1,
              "tickcolor": "rgb(36,36,36)",
              "ticks": "outside"
             }
            },
            "type": "scatterternary"
           }
          ],
          "surface": [
           {
            "colorbar": {
             "outlinewidth": 1,
             "tickcolor": "rgb(36,36,36)",
             "ticks": "outside"
            },
            "colorscale": [
             [
              0,
              "#440154"
             ],
             [
              0.1111111111111111,
              "#482878"
             ],
             [
              0.2222222222222222,
              "#3e4989"
             ],
             [
              0.3333333333333333,
              "#31688e"
             ],
             [
              0.4444444444444444,
              "#26828e"
             ],
             [
              0.5555555555555556,
              "#1f9e89"
             ],
             [
              0.6666666666666666,
              "#35b779"
             ],
             [
              0.7777777777777778,
              "#6ece58"
             ],
             [
              0.8888888888888888,
              "#b5de2b"
             ],
             [
              1,
              "#fde725"
             ]
            ],
            "type": "surface"
           }
          ],
          "table": [
           {
            "cells": {
             "fill": {
              "color": "rgb(237,237,237)"
             },
             "line": {
              "color": "white"
             }
            },
            "header": {
             "fill": {
              "color": "rgb(217,217,217)"
             },
             "line": {
              "color": "white"
             }
            },
            "type": "table"
           }
          ]
         },
         "layout": {
          "annotationdefaults": {
           "arrowhead": 0,
           "arrowwidth": 1
          },
          "autotypenumbers": "strict",
          "coloraxis": {
           "colorbar": {
            "outlinewidth": 1,
            "tickcolor": "rgb(36,36,36)",
            "ticks": "outside"
           }
          },
          "colorscale": {
           "diverging": [
            [
             0,
             "rgb(103,0,31)"
            ],
            [
             0.1,
             "rgb(178,24,43)"
            ],
            [
             0.2,
             "rgb(214,96,77)"
            ],
            [
             0.3,
             "rgb(244,165,130)"
            ],
            [
             0.4,
             "rgb(253,219,199)"
            ],
            [
             0.5,
             "rgb(247,247,247)"
            ],
            [
             0.6,
             "rgb(209,229,240)"
            ],
            [
             0.7,
             "rgb(146,197,222)"
            ],
            [
             0.8,
             "rgb(67,147,195)"
            ],
            [
             0.9,
             "rgb(33,102,172)"
            ],
            [
             1,
             "rgb(5,48,97)"
            ]
           ],
           "sequential": [
            [
             0,
             "#440154"
            ],
            [
             0.1111111111111111,
             "#482878"
            ],
            [
             0.2222222222222222,
             "#3e4989"
            ],
            [
             0.3333333333333333,
             "#31688e"
            ],
            [
             0.4444444444444444,
             "#26828e"
            ],
            [
             0.5555555555555556,
             "#1f9e89"
            ],
            [
             0.6666666666666666,
             "#35b779"
            ],
            [
             0.7777777777777778,
             "#6ece58"
            ],
            [
             0.8888888888888888,
             "#b5de2b"
            ],
            [
             1,
             "#fde725"
            ]
           ],
           "sequentialminus": [
            [
             0,
             "#440154"
            ],
            [
             0.1111111111111111,
             "#482878"
            ],
            [
             0.2222222222222222,
             "#3e4989"
            ],
            [
             0.3333333333333333,
             "#31688e"
            ],
            [
             0.4444444444444444,
             "#26828e"
            ],
            [
             0.5555555555555556,
             "#1f9e89"
            ],
            [
             0.6666666666666666,
             "#35b779"
            ],
            [
             0.7777777777777778,
             "#6ece58"
            ],
            [
             0.8888888888888888,
             "#b5de2b"
            ],
            [
             1,
             "#fde725"
            ]
           ]
          },
          "colorway": [
           "#1F77B4",
           "#FF7F0E",
           "#2CA02C",
           "#D62728",
           "#9467BD",
           "#8C564B",
           "#E377C2",
           "#7F7F7F",
           "#BCBD22",
           "#17BECF"
          ],
          "font": {
           "color": "rgb(36,36,36)"
          },
          "geo": {
           "bgcolor": "white",
           "lakecolor": "white",
           "landcolor": "white",
           "showlakes": true,
           "showland": true,
           "subunitcolor": "white"
          },
          "hoverlabel": {
           "align": "left"
          },
          "hovermode": "closest",
          "mapbox": {
           "style": "light"
          },
          "paper_bgcolor": "white",
          "plot_bgcolor": "white",
          "polar": {
           "angularaxis": {
            "gridcolor": "rgb(232,232,232)",
            "linecolor": "rgb(36,36,36)",
            "showgrid": false,
            "showline": true,
            "ticks": "outside"
           },
           "bgcolor": "white",
           "radialaxis": {
            "gridcolor": "rgb(232,232,232)",
            "linecolor": "rgb(36,36,36)",
            "showgrid": false,
            "showline": true,
            "ticks": "outside"
           }
          },
          "scene": {
           "xaxis": {
            "backgroundcolor": "white",
            "gridcolor": "rgb(232,232,232)",
            "gridwidth": 2,
            "linecolor": "rgb(36,36,36)",
            "showbackground": true,
            "showgrid": false,
            "showline": true,
            "ticks": "outside",
            "zeroline": false,
            "zerolinecolor": "rgb(36,36,36)"
           },
           "yaxis": {
            "backgroundcolor": "white",
            "gridcolor": "rgb(232,232,232)",
            "gridwidth": 2,
            "linecolor": "rgb(36,36,36)",
            "showbackground": true,
            "showgrid": false,
            "showline": true,
            "ticks": "outside",
            "zeroline": false,
            "zerolinecolor": "rgb(36,36,36)"
           },
           "zaxis": {
            "backgroundcolor": "white",
            "gridcolor": "rgb(232,232,232)",
            "gridwidth": 2,
            "linecolor": "rgb(36,36,36)",
            "showbackground": true,
            "showgrid": false,
            "showline": true,
            "ticks": "outside",
            "zeroline": false,
            "zerolinecolor": "rgb(36,36,36)"
           }
          },
          "shapedefaults": {
           "fillcolor": "black",
           "line": {
            "width": 0
           },
           "opacity": 0.3
          },
          "ternary": {
           "aaxis": {
            "gridcolor": "rgb(232,232,232)",
            "linecolor": "rgb(36,36,36)",
            "showgrid": false,
            "showline": true,
            "ticks": "outside"
           },
           "baxis": {
            "gridcolor": "rgb(232,232,232)",
            "linecolor": "rgb(36,36,36)",
            "showgrid": false,
            "showline": true,
            "ticks": "outside"
           },
           "bgcolor": "white",
           "caxis": {
            "gridcolor": "rgb(232,232,232)",
            "linecolor": "rgb(36,36,36)",
            "showgrid": false,
            "showline": true,
            "ticks": "outside"
           }
          },
          "title": {
           "x": 0.05
          },
          "xaxis": {
           "automargin": true,
           "gridcolor": "rgb(232,232,232)",
           "linecolor": "rgb(36,36,36)",
           "showgrid": false,
           "showline": true,
           "ticks": "outside",
           "title": {
            "standoff": 15
           },
           "zeroline": false,
           "zerolinecolor": "rgb(36,36,36)"
          },
          "yaxis": {
           "automargin": true,
           "gridcolor": "rgb(232,232,232)",
           "linecolor": "rgb(36,36,36)",
           "showgrid": false,
           "showline": true,
           "ticks": "outside",
           "title": {
            "standoff": 15
           },
           "zeroline": false,
           "zerolinecolor": "rgb(36,36,36)"
          }
         }
        },
        "title": {
         "text": "Cost Function Contributions"
        }
       }
      }
     },
     "metadata": {},
     "output_type": "display_data"
    },
    {
     "data": {
      "text/plain": [
       "0.06836458534227131"
      ]
     },
     "execution_count": 7,
     "metadata": {},
     "output_type": "execute_result"
    }
   ],
   "source": [
    "# Plot the contributions to the cost function for the best performer\n",
    "from member import Member\n",
    "best_design = Member(num_materials=HS.num_materials, \n",
    "                     num_properties=HS.num_properties,\n",
    "                     values=HS.final_population.values[0], \n",
    "                     property_categories=HS.property_categories,\n",
    "                     property_docs=HS.property_docs, \n",
    "                     desired_props=HS.desired_props, \n",
    "                     ga_params=HS.ga_params,\n",
    "                     calc_guide=HS.calc_guide)\n",
    "best_design.get_cost(plot_cost_func_contribs=True)"
   ]
  },
  {
   "cell_type": "code",
   "execution_count": 8,
   "metadata": {},
   "outputs": [
    {
     "name": "stdout",
     "output_type": "stream",
     "text": [
      "overall bounds dict: ({'elec_cond_300k_low_doping': {'upper_bound': 78.0, 'lower_bound': 1e-07}, 'therm_cond_300k_low_doping': {'upper_bound': 2.0, 'lower_bound': 1e-07}, 'bulk_modulus': {'upper_bound': 400.0, 'lower_bound': 20.0}, 'shear_modulus': {'upper_bound': 300.0, 'lower_bound': 80.0}, 'universal_anisotropy': {'upper_bound': 2.3, 'lower_bound': 0.9}}, {'mat_1': {'elec_cond_300k_low_doping': {'upper_bound': 78.0, 'lower_bound': 1e-07}, 'therm_cond_300k_low_doping': {'upper_bound': 2.0, 'lower_bound': 1e-07}, 'bulk_modulus': {'upper_bound': 100.0, 'lower_bound': 50.0}, 'shear_modulus': {'upper_bound': 100.0, 'lower_bound': 80.0}, 'universal_anisotropy': {'upper_bound': 2.0, 'lower_bound': 1.0}}, 'mat_2': {'elec_cond_300k_low_doping': {'upper_bound': 78.0, 'lower_bound': 1e-07}, 'therm_cond_300k_low_doping': {'upper_bound': 2.0, 'lower_bound': 1e-07}, 'bulk_modulus': {'upper_bound': 400.0, 'lower_bound': 20.0}, 'shear_modulus': {'upper_bound': 200.0, 'lower_bound': 100.0}, 'universal_anisotropy': {'upper_bound': 2.3, 'lower_bound': 1.3}}, 'mat_3': {'elec_cond_300k_low_doping': {'upper_bound': 78.0, 'lower_bound': 1e-07}, 'therm_cond_300k_low_doping': {'upper_bound': 2.0, 'lower_bound': 1e-07}, 'bulk_modulus': {'upper_bound': 300.0, 'lower_bound': 20.0}, 'shear_modulus': {'upper_bound': 300.0, 'lower_bound': 100.0}, 'universal_anisotropy': {'upper_bound': 2.1, 'lower_bound': 0.9}}, 'mixture': {'elec_cond_300k_low_doping': {'desired_prop': 9.0}, 'therm_cond_300k_low_doping': {'desired_prop': 0.9}, 'bulk_modulus': {'desired_prop': 280.0}, 'shear_modulus': {'desired_prop': 230.0}, 'universal_anisotropy': {'desired_prop': 1.5}}})\n",
      "best_designs_dict: {'mat1': {'carrier-transport': {'elec_cond_300k_low_doping': [52.78926014568628, 32.25532134928632, 16.530125200075457, 2.144385588561728, 72.87914738514696, 67.65300252842363, 30.169599134021585, 67.01988016160793, 2.766111187686786, 35.576834403896996, 7.765496755656665, 47.619676162115795, 30.43020937860147, 75.13510329861003, 73.04166183724246, 38.78703999870458, 27.119292802316128, 57.681938670292254, 55.39529590619836, 19.93505609542152, 2.468659415815876, 27.89213060245845, 18.150343249197846, 14.176901717702211, 42.57517772357087, 33.85948823058898, 40.785650738722644, 26.062853718617387, 35.300540463109066, 62.90043624970132, 8.777078813731459, 34.57064270509622, 64.409221904545, 14.302711171502605, 38.45615040917942, 62.698695411269675, 77.18443886945795, 7.179325290840225, 35.279924049589994, 49.56549308588802, 9.139001771809093, 19.540411681441487, 59.10009563540609, 68.606531891135, 69.99254768337916, 10.361233115444175, 56.78994220710654, 37.68414371342998, 30.185189914063102, 19.48130550593108, 75.51580050463139, 0.9201402567998248, 5.674158195006615, 68.02886094120154, 75.80758052599397, 41.529383663750956, 6.28946546683235, 45.00828025812142, 70.9844518193952, 19.600496798294696, 63.53164282053425, 74.14555807470182, 66.6446911559889, 28.859407234840077, 20.850735127159915, 48.84942097442646, 43.51859447326887, 46.20186857463582, 49.40110438959259, 57.845894749912226, 19.829288641565178, 37.440750247613956, 66.71210697639799, 34.91782481903434, 55.06382258334691, 68.7165926955908, 21.46654686624978, 9.394785193464363, 74.49597220146971, 65.45134788836555, 71.52982287955156, 37.16907720491257, 39.51304118028541, 58.84860745515919, 0.8687646188588415, 8.260333693983966, 8.068349767690743, 63.81624942976082, 22.02268629365115, 5.731471504446511, 11.473548343402467, 8.866699187263322, 31.865515122182348, 7.857294359970576, 74.08060102082773, 75.31559316110857, 9.901717227144829, 21.24507842836813, 24.74102584181976, 75.37974458334384, 32.4470320527965, 66.31581479669818, 8.20635564986431, 4.052185966426239, 23.6613248253052, 18.758439290500856, 38.34642687632357, 49.621196756358835, 69.15312512425015, 72.54741778632781, 43.464828886890835, 55.00098321102619, 1.8300223946631948, 46.18318123897574, 34.75981530879741, 67.8015265774649, 49.06402447810773, 34.42286570264954, 36.00732276204974, 28.564729645741625, 35.68966201057369, 66.69787079394004, 38.71882330373878, 0.9138898263898959, 20.12405091822665, 71.60914609757972, 36.88229152848455, 60.286354216006806, 6.699466183084531, 73.13789500903222, 37.27541873589891, 16.02334428553477, 2.3191327925752794, 27.359068815297935, 49.053354495017395, 63.189104166281666, 22.2915030079313, 37.747110227727156, 57.718069555332825, 34.957199167283356, 15.324926981051528, 32.567399241874114, 47.36546884585824, 24.522589226276242, 37.05902327583726, 71.36371092945167, 69.08771941751588, 16.88264111405582, 30.089473760245394, 5.237584451602094, 56.59823932587251, 6.840607899099248, 75.79823806984052, 75.05400464154458, 70.80676879995723, 66.47662911582124], 'therm_cond_300k_low_doping': [1.6514887373869436, 1.8121536903401612, 1.400531569940699, 1.963985557704548, 0.46522345646204494, 1.9592934850050103, 1.6458411535348085, 0.5090379625222757, 1.0821456938567031, 0.7777280249875995, 0.769369227970665, 0.09130075958500014, 1.4471940720430612, 0.05239085589441033, 1.472528529035857, 1.8763454295473054, 1.2853517518006379, 1.9631174484161695, 0.7446631829584105, 1.0842599650465532, 0.6788087563514802, 0.6174732788476761, 0.37721691764988396, 0.14106433903154478, 1.698316018867235, 0.4318380589685918, 0.42389376000892887, 1.17238622809455, 1.183579390095031, 0.7661941492144297, 0.43749331761605054, 1.7660619397886081, 1.291801357297369, 0.33141305470690563, 1.698855485123621, 1.051623613484585, 0.09881847328620279, 1.243792485429632, 0.8751039640209545, 1.778329097165454, 1.2537569806167885, 0.22120279031625978, 1.6797009397730318, 0.33474407102758125, 0.6504972183463347, 0.5806957044431794, 0.06610442605903379, 0.487379494485255, 1.3593885184468473, 0.6543364344274144, 1.987157304324021, 1.407101326262659, 0.5532355857740314, 1.5693495734201353, 0.747068095634421, 1.0321124554045014, 0.9477436205516466, 1.7216430557857332, 1.8151794344533898, 1.5435307733939785, 1.0983807924196045, 1.085819813852465, 1.7496737778498341, 1.7390989052538381, 1.156399020298393, 0.3997362764201332, 0.32625993638924006, 0.8357530682832142, 1.9835094318081798, 0.945287910923839, 0.1947026007381012, 0.2953109164391801, 0.009993468124534426, 1.079191854881945, 1.0917273950672566, 0.8849756669601122, 0.11746581017298263, 0.8866430072006046, 1.7617110356638983, 1.1289461885697316, 0.7731687795733164, 0.4660290623587676, 0.34590623719634, 0.0617758639377121, 0.8833702188492264, 1.8695343985370345, 0.4897173802898338, 1.0280763439072798, 0.4209330743853294, 0.7926313403412083, 1.5797806949333086, 0.9870037364191226, 1.640874120403466, 1.6518647895303642, 1.28165862144777, 1.2300230968885524, 1.0720679335304157, 0.3157224414821285, 0.9389425093814944, 1.7973037414917894, 1.2746748773468504, 1.5457118079578305, 1.926660106599365, 1.4385839790746746, 1.6830195932459417, 1.939505399790449, 0.0261636922672615, 1.3014974732458937, 0.08479006262451384, 0.8789988321428724, 0.4066877356478851, 0.9202654272442421, 1.0602198910872869, 0.4031484204238107, 0.5678082607182886, 0.30747705333354347, 0.660140714747273, 1.9098570101186079, 0.5467058026240793, 0.16875644112728996, 1.0801356588464415, 1.3886989108361474, 0.17101957353094943, 0.6650346376074547, 1.3786914781241368, 0.9753013658461044, 0.6466204313223429, 0.623390750861227, 1.0953230225341832, 0.07076686792013907, 0.888675181464393, 0.5222281761726446, 0.6790746907035976, 0.9869933249816216, 1.3126046251612378, 0.9655299631597261, 1.5465855799889159, 0.7181590636008058, 0.23170894397183606, 1.4319753686523107, 1.5517637497213654, 0.6170797660589948, 0.473876178650588, 0.03682670289803926, 0.15088735880620116, 1.848117198517112, 0.790087486228971, 0.5467995231165915, 1.2950533890107, 0.01439369897280867, 0.6168232543617034, 1.330485092555052, 0.05199534200959922, 0.01592543390881066, 0.16213490889480378, 0.37752837001960854]}, 'elastic': {'bulk_modulus': [65.53639854440576, 62.66459800592571, 75.42455449490942, 73.69475149965685, 59.96306489872761, 64.06851325820655, 36.222127881412135, 64.6962469047652, 65.35833417710438, 84.40431070569916, 86.92223180329827, 80.27196953410572, 49.66166261560447, 52.9234041915608, 89.73600076481037, 52.33716692763896, 67.24294742031441, 98.99025862926842, 76.70091924965095, 55.726515053780936, 83.04787897718398, 88.57228135205034, 72.73395502700305, 82.34920367628385, 59.575190099839816, 88.3641927607431, 96.35836743646348, 61.04218049966566, 84.4132362487918, 71.27242780931702, 61.72736823088064, 61.79625792982729, 93.88695379425658, 86.39362595018841, 76.7713006549318, 87.17476852106694, 71.06343153825418, 81.71025105884439, 58.48894019205035, 28.411100257064042, 77.24599955610701, 52.00343425535875, 74.38969158701717, 60.90485270717204, 84.12804444691054, 70.18176870676896, 65.3430263748642, 68.37346131288221, 63.86051287867546, 77.96555685265344, 65.40611358941631, 81.77784955568984, 60.83465490568626, 94.37404508536787, 88.42026949792145, 51.2217301285084, 65.57944542624482, 71.40759962233398, 79.23690714926703, 21.117030896584833, 94.44147555123737, 29.988672865996303, 52.38465990358168, 56.69860311343849, 69.56947810592564, 64.92919800716302, 58.7194683465432, 77.37405787754126, 91.74299638441896, 51.005715110792835, 87.64636631445364, 81.57402628787477, 44.129989308219606, 79.44872856863951, 39.46356117314191, 58.0289656508061, 50.279644083988394, 78.60972964931644, 48.4475186109213, 86.01635704838284, 86.18873576780922, 36.23634849597032, 67.66208775754492, 55.19235056159471, 82.61457609821318, 88.03397215427984, 22.368965099771213, 56.02384161519881, 65.8699575701844, 60.69617816574562, 88.05912096308427, 85.53136076307838, 51.50618719027468, 83.91799150852239, 23.92017056735809, 30.915653655337834, 36.49097543213924, 90.03205928289567, 85.60330179493656, 37.6322686822285, 78.61351211749259, 29.56162690121712, 81.43222220062046, 54.47752649723279, 45.23427015633524, 73.1457896271075, 93.02568087256418, 81.06164963132157, 43.97384087168682, 46.81056431080097, 38.3934380432211, 30.94780494651469, 54.865593881903834, 75.26377162432526, 53.46513291163101, 88.36845986335638, 25.71255950132552, 85.24874147392596, 23.29810444960558, 91.6280045277363, 35.88439042315918, 90.05052068315763, 96.25466107826497, 57.15045792731252, 59.8536413550875, 22.05607724388659, 23.12209611749925, 83.15468583643829, 38.214473629696926, 66.29296027340138, 95.07552082766574, 31.919214093650513, 51.532744813810844, 26.14496806440438, 52.18662582895315, 38.55988705027751, 79.0206465497751, 29.221881090722786, 62.73190502872384, 51.49675381926428, 22.393777567139143, 54.92496751373797, 28.064830836803935, 58.8576289552815, 72.99173417281668, 27.638923809755692, 29.005658546076788, 26.124329629292056, 85.01897017356224, 93.61442058768154, 56.42336154761064, 79.96330621917133, 86.34451904277044, 78.6865022565233, 93.32224479526727, 51.00204353415057], 'shear_modulus': [86.92405192929554, 220.64870666494346, 92.76215858977324, 96.18513398918756, 94.36466668195672, 92.22516402264532, 226.11124834465275, 275.68757398267115, 85.38640718291082, 93.45476425837194, 92.37757927762775, 80.23810900494483, 113.30096244909807, 85.72880614819016, 84.66570115068978, 94.7046250404464, 96.07146914331466, 84.4905874635556, 89.7950721733506, 82.47901898053155, 96.22648914711192, 98.21265925520518, 82.48311915119373, 84.18961476982493, 221.14037894168445, 97.44491356139316, 98.37354366561601, 233.25772339828956, 92.59601035648681, 99.31636889322124, 95.05859130411116, 92.41738545760055, 85.63500345101355, 86.5652759905489, 297.0149995172204, 98.91913730787763, 99.75097132874116, 90.16136299953868, 83.28995474769249, 229.27311112994917, 99.40382619575604, 94.47341747689939, 85.14056348284392, 122.03647098337886, 91.3291105582695, 156.70429450270066, 87.26710995240363, 91.6903542517038, 85.25765435782725, 92.08934391195491, 98.28014760577128, 82.82317129812941, 96.54148982324591, 80.4234444762047, 98.7252929144657, 82.56284928770457, 92.56980912319203, 101.67823264075895, 89.67062295602238, 139.05591888684262, 95.95703600188213, 139.15262843526534, 99.37926007743667, 121.6070771721331, 92.68881334445007, 207.77432117885274, 96.80956090798482, 93.22590849964281, 97.03449510530488, 85.59879053990994, 80.15163180872861, 84.8222684998181, 172.90198510548464, 95.58294440857085, 159.7118556537216, 95.41545293163591, 87.53788357000091, 84.42873399941456, 219.93994301397134, 192.25856095645764, 82.5656604080618, 151.56196030889583, 260.7593133538006, 89.90897610825529, 92.88920197776064, 80.27516722448425, 123.81868253516437, 94.12768625114013, 99.42218582475309, 99.22836559920604, 92.12025534702252, 94.51641970057945, 93.09355589837621, 95.59487969834508, 281.743248634671, 229.0033664658727, 180.86530776029286, 85.87680984871872, 94.98814673305705, 272.83137813057436, 94.15546282702637, 173.2337081621543, 282.53210804385174, 90.55339978076773, 141.39866018764235, 87.25720434315416, 95.38478217346668, 256.2077572479366, 262.02006050225964, 138.46031490080674, 146.26732270029845, 157.06109177081373, 84.49230491630723, 81.80072449554964, 89.1374207186966, 95.20237520654301, 136.945519916139, 139.30531843970306, 186.21531836154338, 93.64515092021443, 200.60701745089477, 98.20827258693892, 81.42236545446826, 99.72866217421888, 83.3713359472083, 167.76100849666977, 126.35404679066902, 97.89066951693998, 100.50116363544292, 80.97484298318702, 81.97163516244659, 263.7188777126222, 157.11526147862836, 194.24524934983776, 97.9637981802814, 159.41464549650695, 83.59149665299694, 116.23741443290503, 166.16013907874859, 86.70249772941632, 269.4283936480324, 199.33321258409643, 219.89590046093457, 144.60037332878738, 88.78384459047658, 275.8625738830973, 146.30435257490922, 102.0790782401304, 141.2337214561811, 96.23482032681719, 83.45967553396065, 133.73269119678963, 89.37248233120799, 83.23304721929004, 89.74172251320329, 87.36475501634214], 'universal_anisotropy': [1.1625195405990507, 1.1340741869022053, 1.6707181292493958, 1.0917460237395407, 1.8682033039187393, 1.3732092339755202, 0.994961234476181, 1.3613202685854526, 1.1021758175933647, 1.7381504213162497, 1.6866911862003913, 1.3968533546672188, 1.3966215967900688, 1.2194707861547647, 1.0833255682108796, 1.4681840517668845, 1.8259362350120063, 1.7441686213490404, 1.075307996333635, 1.0403676149169971, 1.5466753886070599, 1.4511575363059195, 1.6068053913806608, 1.8733033981641967, 1.836014482807738, 1.9386979453589799, 1.7095099679219303, 1.8949706581222414, 1.2902406189593338, 1.8653082385073332, 1.9152993643844929, 1.9632098145414902, 1.5256604210767926, 1.2476261418316041, 1.085344307738179, 1.3563123657055671, 1.9237443516157269, 1.7557600523280714, 1.426750234977486, 0.9475446809204242, 1.6915281218129485, 1.683080900063397, 1.0281621532682874, 1.8447319552939914, 1.7006281490051398, 1.7649405894226762, 1.443004467822603, 1.1843537706097744, 1.4677959431412329, 1.605723452261623, 1.081379626893863, 1.8384895393003315, 1.4829676400344391, 1.4444692187037722, 1.5208090396734444, 1.8635671286771802, 1.6098475091656632, 1.1722774850872764, 1.7761885892925753, 1.6244869005778395, 1.6010551992059576, 1.2969215065472013, 1.452739588821431, 1.3156020729474054, 1.4081549607243358, 1.9204040365486592, 1.9964568108974166, 1.537513021492519, 1.624807638758766, 1.0886015307284005, 1.682548052186846, 1.8462995244281597, 2.259973290408397, 1.2352293061666197, 1.6783025839078802, 1.817552542577893, 1.6672536008787229, 1.2672214128078712, 1.2239135241266572, 1.4236818940004539, 1.3617465116637875, 1.5959358167105306, 2.0014462223543856, 1.3187183039042325, 1.2798408899044547, 1.7484460794572891, 1.4577886234956057, 1.2116371207486205, 1.553978066604285, 1.4761487703023137, 1.9065176142037856, 1.4993918874821803, 1.1445269900250765, 1.8723276231098356, 0.9760163374628902, 1.9498598857736145, 2.2758458820457674, 1.4512831020972117, 1.2715157161715167, 1.0859291731028917, 1.8979173661776287, 1.3823042449163054, 1.451239004041713, 1.5874133850428849, 1.2007418505577463, 1.537708016822156, 1.0990699554386034, 1.7226196171231623, 1.7831376849898228, 1.7611285536571866, 1.7292673932284843, 1.3474912391956424, 1.5635644022886637, 1.1778030256696779, 1.4317555876604633, 1.8926195899981875, 1.351571313430267, 2.211949751602393, 0.9014928409789321, 1.7104755091869959, 1.275553953791149, 1.0624632500412483, 1.853688319051076, 1.7529678707718421, 1.2268466102416853, 1.2498022217380742, 1.4877383684948366, 1.6959235608121417, 1.41946741798094, 1.5726479210245792, 1.9875789242057746, 1.6421183416306595, 1.7873542714393835, 0.9316301775630731, 1.7565669425671722, 2.0716907239930507, 1.8337996916488766, 1.43083369671866, 1.4284268321935825, 1.8985133949566493, 1.7081652233714752, 1.9300561104036045, 1.2989546680495665, 2.242256069806265, 1.7272530353489635, 1.3817315647264563, 1.698029705488171, 1.8029100504229039, 1.6267279576814209, 1.5385544317810844, 1.924558067651815, 2.1427675379359665, 1.3369577202213878, 1.9740248277755459, 1.0390052860337937, 1.5387397666880318]}}, 'mat2': {'carrier-transport': {'elec_cond_300k_low_doping': [6.831039028296498, 24.8156050264858, 31.89599083926256, 13.533982772052601, 38.2367879523507, 56.88093402283735, 2.298013570398095, 15.539941589561725, 46.114798731779814, 46.218523171036296, 20.43591574703242, 42.009744733344704, 50.81263322744429, 48.240343369228505, 19.34830748440342, 42.53662574987958, 65.6966827254139, 14.90890385554292, 44.3408857147481, 55.982439533352895, 45.026632660052705, 0.9248302758227265, 4.313907741097417, 43.100116524076135, 36.9409659157933, 41.71191321290629, 73.00425157209712, 73.05908584436389, 41.9109187973632, 29.613610156802565, 21.71103544313765, 29.610642544809952, 71.89491636235056, 71.79468302839553, 38.3325831565365, 29.665984379982085, 40.6801676623534, 29.884585033532886, 19.372267629778946, 28.072686166227182, 41.72845670069748, 37.394713514811194, 70.87759475423285, 37.1875955964145, 10.193048543686732, 45.46661942110583, 21.302804921610726, 2.628778724997333, 15.007856268896276, 74.29824881245275, 37.88980617636683, 25.970462923438536, 51.106423923317884, 52.63011937826133, 40.38388948313967, 31.437794286693382, 2.9415085139401933, 23.881566184916167, 47.75437361392752, 31.10492815993463, 57.19082491113726, 12.456097448936504, 68.97884889322027, 36.424572079234245, 25.730810750201975, 0.15437982407348486, 71.94845707940725, 44.466301869675206, 0.3719276163844811, 62.60095144117544, 25.854112933139646, 75.32512566265439, 71.34559385187696, 31.653316234342235, 66.2780421671861, 43.3050170418458, 55.41923272553101, 0.08474200805666722, 25.92555430088129, 28.219521366579066, 43.455387371883525, 6.041525510217611, 2.7962300933301787, 1.1279098863460784, 23.134980831053415, 17.846196475915573, 67.81141510057864, 48.87088576410779, 6.619967073073681, 30.023878119334846, 34.61553553531282, 16.652317660661446, 11.370100423953573, 41.5350026234181, 68.59771657520595, 25.326686343431906, 13.565788927438364, 26.345766143563825, 54.902100433298706, 59.559507616408006, 73.32884968750153, 31.260110759139675, 1.4903841681407082, 15.965089054857215, 51.133642880659075, 70.63003141509523, 0.6755162081262693, 74.34928029041322, 74.1834142991974, 35.81375913571251, 14.410882128683133, 34.00071215580806, 39.47337371936293, 13.903987043154368, 73.9485302887845, 0.612216627329015, 35.4974502049132, 36.39176655781742, 22.49750791028432, 6.3256839728403635, 54.38505634187791, 48.78013030073565, 9.687225070771456, 4.860785746140586, 69.90568177759452, 3.3618071799692055, 24.531254501291485, 58.92923882861837, 5.488726091584424, 10.516538661081642, 66.0633311664432, 25.345608755781015, 4.2959285982213995, 66.47039934805036, 46.88722415305008, 62.33026581636741, 67.73382677627036, 2.057169920544837, 4.029627758870961, 73.97476304196452, 50.070846795117546, 45.241157415510216, 0.15762258370272916, 10.465486027826204, 56.66324475679114, 16.332637638943755, 43.35978051082536, 24.79644415815656, 68.40015278345625, 6.155623438422796, 37.148559506284165, 50.07943972567351, 23.879243170173925, 62.90625851775578, 35.701728347674766, 0.6810855569543982], 'therm_cond_300k_low_doping': [1.6173432435332433, 0.7675588858680923, 1.3678797040899746, 1.2200749558654502, 1.2281245934948453, 0.9919305783289077, 1.7021784361209567, 0.8344865916592105, 1.89794189667655, 0.2535539945409141, 0.18342232773962605, 0.8871693996365524, 1.917141380252253, 0.9944628348509588, 1.0491143187260756, 1.6517386239878644, 0.3545040092574052, 1.0029467108502648, 1.7780787657746269, 0.6926797055598541, 1.0039753784515129, 1.0659610171287348, 1.7098991429036128, 1.2300240400884193, 0.43675443439901174, 1.3697717712627946, 0.3928863871412681, 1.3540288808739414, 0.2696154967797741, 0.09411048417519388, 0.8419186536436548, 1.564541436054162, 1.3714860766716475, 0.5385039592733162, 0.516569842318707, 1.3016526510634518, 0.8750743431413279, 1.7061097141007562, 1.0504145877328048, 0.3543827276116847, 1.8026371795307097, 0.6105101262559145, 0.47520258856450587, 1.8674761132124706, 1.6954883948344313, 0.5045315986849003, 1.920364413800172, 0.46878816466443424, 0.722391424903434, 0.6145010857056068, 0.739163645822197, 1.782492149491777, 1.6400589888538208, 1.2372230521838474, 0.3336059137883882, 1.2963716259822327, 1.4977918929219065, 0.5844716877503752, 1.7933812747343876, 1.3512604589963866, 1.6203026202696147, 0.9313825583609788, 1.0456139331613097, 0.09831973662381414, 0.16492872771232625, 0.9240306586068887, 1.0535608240836667, 0.36724952222079044, 1.8940824380476757, 1.5280724942790602, 0.045609133781120824, 1.1682926260666417, 1.7992551944141941, 1.1301921902073837, 0.8374084101837574, 1.913025796247944, 0.16699129585276962, 0.5433439458517995, 0.049489540472900086, 0.30998426535272866, 1.9271481523855407, 0.5903001940722971, 0.4389774117700726, 0.04015480513003301, 0.4609446130302341, 1.241799128387891, 1.1052617843435557, 1.690304809221856, 1.6079690009100491, 1.6911376328812353, 1.6189710630411929, 0.8432155571962787, 0.10720186843666409, 1.1645991797776007, 1.8735275834360934, 0.04233553206549134, 0.23864591783625128, 0.2499100851754881, 1.3114802834317985, 1.584834203702763, 1.9847487391805254, 1.0285669375566115, 0.1823610692819415, 1.923633292869958, 0.7825927516503601, 1.512008381559229, 0.20170834171306548, 0.005171806196698541, 0.6624274649899782, 0.46648941575820224, 1.3533196537947092, 1.1390784980556659, 0.9444396187518608, 1.1992497760273046, 0.4326197486784734, 1.5125408082390681, 1.8327154082216415, 1.458784767664975, 0.4461224486002494, 1.5751700001420066, 0.35392099174266334, 1.416844987529706, 0.09916280586844736, 0.3276633892438869, 0.8744695911245903, 1.4166366130493988, 1.335351450215378, 1.3665382887392943, 1.2961252379176382, 1.4194633657866622, 1.641316458813164, 0.7290846079264771, 1.3178311531742202, 0.5637498269994499, 0.042324419888376257, 1.1053399436621096, 0.35380970906247533, 1.7327344264578233, 0.7489719188851564, 1.5358191149243607, 0.39833250493485445, 0.48100134985764104, 0.08148023811170142, 1.9525690431308107, 0.772863100130985, 0.348609310975957, 1.808763197952101, 0.5179270142035869, 1.6557249202794146, 1.473926611261218, 0.1360557886064701, 0.9776359831552704, 1.9610373435931348, 1.5761838601734561, 1.795267143278216, 0.6494219850186125]}, 'elastic': {'bulk_modulus': [240.60690768584666, 90.42141240719522, 119.32030889681215, 210.670039129175, 161.93961943916173, 281.6738127695853, 92.38278076145687, 96.35089777116718, 230.26059777681894, 234.8576549348403, 187.91604536108628, 118.05301458720857, 69.63476063437115, 200.96127689533685, 131.75129934033313, 215.39481575670698, 185.32147932872704, 144.90265109611093, 206.8031945241617, 134.14376217840777, 158.96680070841512, 252.9641715573398, 143.56889241971373, 107.8767982817197, 72.53999848211743, 174.50729047194267, 198.1807953752469, 92.28868833671403, 92.1255622523738, 161.8891250063495, 96.39037019369977, 115.96265982027373, 96.35942600782626, 191.4236246595618, 90.6587384839228, 147.86385379048542, 74.0917241662701, 99.66500897620611, 197.10456997219012, 88.67540781685454, 131.66672635274716, 83.90356466533201, 214.03943912526327, 75.4745789860673, 270.5920746935202, 82.86694269528027, 154.36254028172323, 255.011286130164, 80.43150943173487, 96.52079450485236, 246.2823766471936, 83.60757209633587, 113.36939516886254, 145.41247596150134, 260.6714934873098, 104.7752707956085, 107.79698741507623, 88.28515512709336, 105.98947204403315, 62.99148768293097, 106.39519217173238, 67.68100125265923, 151.06511600095658, 93.91595628797828, 168.90190977177974, 86.53903790525763, 166.82684039301, 205.5464328463411, 108.24209155246669, 53.379715261636214, 161.2157211803338, 236.94306978315768, 72.42325309871774, 190.585411578391, 68.97344753064716, 92.18519899190984, 110.22955310094277, 155.62066038167268, 71.96602048491758, 87.16403827744625, 188.32648489669245, 90.11684602522598, 93.51503712545414, 122.69630533243667, 85.067465330326, 106.56311391082727, 59.862376442465134, 144.68118540381508, 153.65351940422548, 228.23464888521772, 206.29490325834388, 137.6353474785205, 112.84119368582597, 244.58507334403208, 56.84003602133812, 76.3103085456106, 82.70116279963534, 137.57223537131864, 261.6152738256023, 98.07042550973617, 190.75456333155023, 69.33060326165293, 88.18800095048269, 59.27083482615288, 88.45293690694791, 206.23920489541962, 138.29551764324654, 83.35790343044343, 49.18689354884502, 94.237143257926, 94.35214780644412, 81.25021508739175, 91.57709754708566, 95.8043013879843, 99.73013213276859, 195.21963020797793, 38.560018887301275, 94.09677972004772, 48.56762047154794, 143.21133239165664, 76.0600199273657, 189.12314857918653, 103.08989548669464, 246.72910322488625, 96.68195448452083, 53.25479049644415, 35.781848849682376, 127.31985533465911, 50.54822152316478, 208.7728868666828, 146.65617822600365, 78.12158067745628, 59.39211481268968, 29.330768255140335, 291.1919938577173, 60.50804664340313, 134.72781863587272, 95.79865938434364, 91.36420616568984, 54.285755195524175, 85.3305735942121, 62.67842441242516, 91.27391824103285, 88.83792522314975, 73.18583774718965, 88.87088511864455, 88.35514745133801, 37.45871659711777, 86.63229731806885, 185.11528389343337, 101.25985255543928, 81.56042697502546, 165.80272483831106, 284.9740630408286, 183.23829672429355, 126.9289020629005], 'shear_modulus': [196.7382239256957, 220.64870666494346, 168.18306298871062, 186.3540020920194, 195.98699095249975, 194.0362010683403, 226.11124834465275, 275.68757398267115, 125.88136930929, 147.96222067023353, 179.60734632839325, 197.989962033226, 198.43907257032066, 183.57582862647, 112.19064560764573, 188.94863035884873, 199.64973936292475, 143.06781226545937, 141.3883765453596, 188.5016765676259, 146.06228429529148, 184.4313907774795, 189.8323330592519, 183.6365331454436, 221.14037894168445, 170.18754574637506, 169.56616623267558, 233.25772339828956, 108.42940203761054, 150.22985144678938, 116.68647147285834, 168.80003891695287, 147.64335759209666, 198.98189675575452, 297.0149995172204, 199.42578411497624, 113.43526377669794, 129.9876063419992, 147.1518798572289, 229.27311112994917, 182.28469896050487, 175.97353281632775, 157.58160451762643, 189.29460178767965, 109.73771083722738, 178.95230665150103, 152.31175999647672, 141.87209817496532, 104.89762095134554, 111.20288983926993, 105.32819578692691, 118.47177209990613, 198.2107893237071, 140.2495336182068, 176.57866446888335, 105.69722480957688, 121.64348302301914, 102.2044163277475, 129.31280047886227, 199.30052200184375, 150.45742840254042, 156.57655999179127, 197.9083887577498, 145.24599284097627, 136.1989277906658, 207.77432117885274, 134.5402794190556, 146.3871035476993, 138.15313114656715, 110.94423560500731, 155.11762706516038, 154.00539312585445, 175.68435487645314, 164.4921999396304, 162.06281332740292, 121.98722743986457, 147.30218800812486, 171.98641810421412, 219.93994301397134, 197.0004276700982, 183.26724481436463, 191.76586861245312, 260.7593133538006, 182.17596603638157, 140.44485820777368, 122.48484174161483, 160.64553754923259, 164.33052125860115, 164.23738352520758, 157.18489181201173, 162.715878410993, 149.0415553347351, 150.4608379259168, 171.26888772926088, 281.743248634671, 229.0033664658727, 196.90264275373272, 116.62041364464554, 191.44045013472498, 272.83137813057436, 150.08600845449533, 175.27258220281848, 282.53210804385174, 187.96889536389966, 160.94577642465904, 105.53940618708577, 118.58836268898607, 256.2077572479366, 262.02006050225964, 164.10998488056478, 162.76523012638296, 193.197058837111, 197.86845879755217, 162.46195967279056, 154.82055226278135, 174.37397331695973, 182.09436769129934, 152.46572185939235, 189.78443116729463, 196.67601505748985, 200.60701745089477, 175.99411349311103, 123.13859280519355, 159.30570566562028, 144.384509983479, 174.1425996814152, 159.56675704787446, 133.39891608857988, 126.31878900956436, 115.1703238733175, 147.7734016632757, 263.7188777126222, 187.42779879309248, 197.46417179274135, 112.86790917393195, 182.7618046660173, 119.33766684599043, 168.89333632380203, 167.78890942133637, 162.9356214467781, 269.4283936480324, 199.99239327032313, 219.89590046093457, 160.08048043000468, 193.16149335188555, 275.8625738830973, 154.8695854139764, 126.97330597718015, 194.02293901054907, 100.62519870208305, 104.01171803920639, 144.1720706421598, 192.67325108152693, 193.0130522074731, 130.61485527683044, 103.26101121727524], 'universal_anisotropy': [2.0310537677688494, 1.403829637008318, 1.6056875775433737, 1.4692028528368168, 1.3550195658367188, 1.3316605710416516, 1.3490792694532399, 1.8051832114518667, 1.694333652021359, 1.4723584129698666, 1.7309265848424857, 2.1428091184072278, 1.9139550298240278, 1.9398969989836026, 1.4766791888050026, 1.9780108994659575, 1.2533307648684127, 1.7053925710491495, 0.9956063451609202, 1.3367616272520446, 1.4300920594912232, 1.506155310617114, 1.0986186662480635, 1.5133692534079026, 1.9953169499963725, 1.377756865036749, 1.5434865345239843, 1.4969472172463774, 1.5613608898715456, 1.8891018673683933, 2.2808416325339027, 0.948150597329132, 2.0724967336855267, 1.460666490878454, 1.8970748234947883, 1.0631790990966852, 1.1582817906789757, 1.5016653973900589, 1.6613458022073146, 1.9270308648490209, 1.5018218278861528, 1.3262560348829107, 1.7541973799063353, 1.7379761227636048, 1.229459835492555, 1.0981163660355613, 1.5926386582547736, 1.7003854787800512, 1.689078755929264, 1.3891099509453189, 1.5105613403854141, 1.5088959731780154, 1.3350430772336226, 2.2971407369533208, 1.2548000850075796, 1.7288787692100827, 1.8250487715687416, 1.8366849034936783, 2.065672191763023, 1.8545551285244262, 1.9450849369639163, 1.6520255505890802, 1.8074935173989068, 1.3518051039559464, 1.3151630575547517, 1.9802479366183818, 2.1088548335446085, 1.3602709530019617, 1.1041103429465045, 2.099852917506695, 1.310495516239979, 1.4474323209219928, 1.8521641673595477, 1.0024176699150948, 1.1307927237925663, 1.9114448898084047, 1.3017096788233062, 1.405681244762608, 1.5008987331433485, 1.4924128254597389, 1.9028190746615712, 1.6969940313638543, 1.6398507675344827, 2.0252753737041758, 2.096157302294892, 1.8775197730242508, 1.6606505729050567, 1.2740710715274812, 1.7699279357007276, 1.5338541686649405, 1.5823041474829829, 1.5078981139181904, 1.6049109898615825, 1.9776536287407973, 1.0040313658325015, 1.4950866620045047, 1.5297567571147623, 1.4760031988345845, 1.478587945503855, 1.0433146497553305, 1.9251403027220215, 1.0681740259660049, 1.545188167944029, 1.7394207461498632, 1.3491468345594175, 1.9191701004948492, 2.2726523370570346, 1.7032291843749263, 2.133151339321607, 1.6859437482041078, 1.758880850357072, 1.6645313074409869, 1.9543990442189685, 1.3381923480194775, 1.5391283003235119, 1.933311539891713, 1.2219348429414796, 1.7744050611432458, 2.0940539591571996, 1.9554052465344067, 1.0664349600074263, 1.7034111446442894, 2.041884564510015, 1.3899990487949685, 1.5499108195572746, 1.8177349553653426, 1.2430159840356496, 1.4422085331330874, 1.0822632415480462, 1.4622532186787167, 1.7880696763152342, 1.9198528692949468, 1.2299166257471628, 1.3949761637276454, 0.9211467977117712, 1.3363219735421703, 2.0694683036455315, 1.2398052589060307, 1.1447411789523665, 1.404521373372556, 1.0928594157119358, 1.9470430843273498, 1.709520908809686, 1.493345220299612, 0.9590521835663243, 1.5084171983404795, 1.7317835035687743, 1.545613072354628, 1.475905464040258, 1.8877375955616356, 0.9250342014959826, 1.3104822118427872, 1.8369493317880514, 1.4838483511626301, 1.4868912774041152, 1.2797328165989879]}}, 'mat3': {'carrier-transport': {'elec_cond_300k_low_doping': [8.493641718814203, 5.2047380596121835, 1.224407382380859, 37.87730080678789, 30.55608058914779, 56.15175990798798, 66.15919792871367, 45.235613392429094, 22.81775695073905, 60.990937723028985, 27.118954665630095, 11.424316609176115, 0.6058987800026518, 49.81534731031224, 58.23238700086171, 52.26188857231534, 29.308464078648466, 19.35888059436774, 24.743866037249855, 65.31118614221265, 49.13173806138588, 18.838545890154453, 27.51580850816566, 60.07436752536701, 69.158855048334, 32.81356203156046, 30.94230315928758, 9.159533403282643, 62.83590695008011, 62.36099263317527, 17.359924761476314, 1.7753852787435735, 71.09794077088512, 0.015781999880830063, 33.16244666558387, 76.8941477685365, 65.58735919956726, 55.4450874020978, 14.315926000476688, 20.14258655094325, 38.549138005278046, 76.88048931799989, 1.5528462784055574, 24.24778493059799, 24.659640104478786, 37.533985101743035, 11.774157245094353, 34.89006882974597, 46.23142501473625, 57.5661867205799, 13.19461672068584, 71.49205898091594, 58.53466485556459, 61.38101271568833, 19.535685907822856, 8.873349922881822, 68.69616862620504, 69.13463205749893, 28.093169857640003, 58.32912436192458, 60.73898974908827, 65.96252111873302, 76.34919136231629, 14.619580071178294, 68.9830077433856, 45.46153177541238, 32.18231527842004, 48.383959872212465, 71.76805095121705, 47.74857941226481, 7.1490722734458885, 19.54642006641921, 47.530510751347954, 74.27202199509185, 49.656020873014846, 58.560202270940735, 65.16245241656902, 17.47688551964823, 76.96230143660735, 72.68547328387783, 32.357300005352194, 69.32463396546862, 34.96627805536419, 37.39309229816, 14.20569437784642, 77.89672748963109, 55.9037565080535, 76.2013633697372, 46.839431154941025, 6.314066798831752, 36.11964659028499, 15.242466755393016, 0.14501717475763778, 16.750367018328763, 55.10842530441961, 53.03775723902315, 34.66382338632813, 40.774242589597975, 45.40980076280651, 45.58245856718761, 72.13666073047754, 57.556025323777625, 57.49477874331119, 57.73458436498834, 5.667866610237508, 73.33420727822127, 4.611513348136624, 70.67809595712397, 32.82119093202266, 32.35287652034332, 72.18581130264285, 71.41252989378214, 46.329959548082776, 11.047310150115816, 5.593439359837037, 77.4775228766805, 22.74230403724261, 31.41270157064216, 19.80475799313789, 22.77886666762212, 24.023436198628726, 4.666933004019835, 25.15358825595742, 18.74589495832215, 50.44811931693004, 28.751538504834166, 21.96861015105618, 63.514154812932816, 41.733595255781275, 65.10023709217619, 46.861568252297005, 4.017200077290688, 68.15797014679484, 47.455268191549095, 37.38834454547272, 0.5615036813563886, 29.355783099023743, 59.056410807906694, 43.012847115025544, 7.427267207588924, 18.42136975944064, 62.91670954178019, 40.76901348604287, 10.338197604170318, 71.05499503266445, 31.71666649897159, 7.740754591757907, 5.270088737449649, 0.0623741158641968, 7.857525201084533, 33.74326885842626, 40.363577182837126, 43.86321906836741, 8.878920532268987, 35.58039825105252, 75.12370439682752], 'therm_cond_300k_low_doping': [0.8750278692592968, 0.6670652061091663, 1.1713200390346985, 0.4064879373981384, 0.649935244280231, 1.2087135605102433, 1.092056888772396, 1.359396152794919, 0.4629878328117699, 1.2205100036185554, 1.0801669362057935, 1.8858114688114223, 1.463825258420963, 1.4704936158235367, 0.7801408553077673, 0.9903928139597392, 1.0620928986755203, 1.9393473711007125, 0.25754508089487954, 0.2759790285460978, 1.0484311742324897, 1.9211552863398476, 1.952114144673449, 1.730231015434875, 0.9168737487163732, 0.8278230159898553, 1.096268256686825, 1.443534954601899, 1.9996861245617186, 0.5236612190675606, 1.648427688066199, 1.9265820909777975, 1.7628996049553125, 1.4944207501698112, 1.4648150869956158, 0.051997061704007815, 1.7418948784045971, 1.5614171665514536, 1.553372937279469, 0.8935845164756777, 1.4240920074798538, 1.8406126572849497, 1.7511473159970254, 1.658700043611568, 0.7599294911998676, 1.7259563009860575, 1.517716277428748, 0.6603020020753301, 1.7821858029628275, 0.7734036464900332, 1.700220996656077, 1.9544054396048915, 1.0889101934571441, 0.46728044593978163, 1.828079561128482, 0.6070176445167061, 0.053362555120635924, 0.3016436657436243, 0.7881639689330984, 0.421857423048354, 1.6801109629610746, 0.8396853675126401, 0.7535423711316463, 1.7953848797349965, 0.5693839763597807, 1.0882866087031418, 0.9839507354338509, 1.108778718114949, 0.7396964538746238, 0.5147916806085635, 1.152436402112697, 1.5492347499096897, 1.1243710951169086, 1.0935828302074715, 0.3912177718431498, 1.6364827982864496, 1.6500518956170005, 0.0269676846427263, 0.9976332637199818, 1.5327387607500598, 0.47988143025656976, 1.5228829415098923, 0.5132634917047986, 1.8121100733379047, 0.896625031029723, 1.8137763167101058, 1.0827029056785982, 1.5954057498443355, 1.5472597589929942, 0.9535205790440098, 0.5812180197652056, 1.3394769136960547, 1.3669287735173243, 1.748495961318358, 1.8909147852584032, 1.6037438633653973, 1.2526848647011006, 0.5188355923014611, 0.538542242189916, 1.9657338251918828, 0.7529683524703732, 0.7150783570100891, 0.5572869417128822, 0.9943399066023293, 1.164672297717628, 1.5722313499472975, 0.7447831542205184, 1.4790148636977887, 0.4771263023521508, 0.6534798890035699, 0.04526241072900382, 0.2250244137369933, 1.0874541425442579, 1.7919061438241788, 0.32520430961793184, 1.599611133417976, 1.221413887937557, 0.7739011843955177, 0.8556354284960942, 0.06313317024970942, 0.038937114386434574, 1.9192065439895893, 1.6700308837574236, 1.223362956933922, 1.2538523779846227, 1.0104253328401147, 0.5950415827771603, 1.031032521215229, 0.5730398766147384, 1.047433469562772, 0.543305234210088, 0.86641835473046, 1.427030125870838, 0.2041282278448627, 0.1014947713352626, 1.6301932598150564, 1.7968608206816679, 0.713902939066419, 1.6822824457612036, 0.023536387937053503, 1.404344931061395, 0.6518366989018725, 0.8087194855754432, 1.6249480093642306, 0.15690085939980444, 1.5327458971176848, 1.0303856722600844, 0.4706322023211185, 1.5100662033266572, 0.32674806336184176, 1.1870357231248498, 0.3999945252559658, 1.0483417176546603, 0.8335212634509033, 1.988429945455344, 1.4783520070601357]}, 'elastic': {'bulk_modulus': [330.0967825530406, 367.97028882147526, 391.72139448990697, 341.580290572632, 291.1283505249993, 298.6167369580544, 334.4033254223008, 250.80922104452353, 327.9907985445188, 347.1092896417483, 338.13650854876494, 154.91689686720596, 287.5361713042691, 285.5885401745036, 348.6855558588821, 320.31660035918594, 298.65142201903296, 197.0287358180376, 285.4909179861586, 294.4889943231557, 365.56018077520156, 279.26943691883474, 184.2155786465914, 136.9461547980466, 276.4071116439599, 265.6235439390661, 291.20630790551377, 154.62019345028875, 252.55944176398424, 248.45298740319117, 255.4081385967773, 235.76173355634768, 253.73504529900072, 242.18403620105067, 169.4615988289724, 181.43723945216234, 158.52639136821568, 183.44139686626085, 255.5096200523872, 302.69890567957395, 140.59742607306504, 277.3407528939688, 391.34285415288736, 171.6338670771283, 355.5803288932654, 126.06574044637462, 236.41216857299023, 327.62218785053807, 296.99714885388255, 155.32410346971315, 285.5556908157344, 373.8948242429334, 259.10066813624667, 178.73341472085343, 321.6695441362184, 363.01275401286756, 223.37199660808434, 265.24218546373805, 263.2184197744099, 191.7388750172578, 200.39882706152466, 110.66278649556594, 310.04920633816914, 118.30301619666479, 322.6659346162582, 328.26583510897586, 194.39584360131107, 342.6323007607758, 333.11109871638894, 243.50739074670463, 276.9611321911328, 259.8939841659005, 164.8862973419961, 223.38324383069684, 99.09626860499057, 294.78989697009496, 324.32879710387004, 197.77541898932188, 358.7620710117519, 158.05743007593946, 262.26529243851445, 153.8216015529151, 115.49063665839006, 239.760171089953, 347.3815202650169, 209.0856966130511, 224.15404670774421, 221.55011910232298, 248.892286432199, 255.68563715962003, 240.10869008050486, 213.69728271029444, 258.0342613398807, 299.2103957674293, 170.03733457809804, 324.60612152285523, 225.4298133893309, 222.91513654017123, 264.1506899334513, 153.5496773977387, 372.3599274622342, 128.70714833013392, 313.6175745327754, 113.31823509883183, 276.84836028768945, 350.663143543767, 181.157702071946, 249.56531690988442, 95.9617231487711, 234.41218149979204, 191.68871042465193, 180.6041515323155, 260.0977720212677, 209.74559401398443, 195.5271073297322, 249.05660417939558, 86.96813639873147, 214.15692860422965, 85.26031717506983, 164.41526430730852, 174.64881034457878, 233.50914002328145, 348.18508686105554, 319.25092362954643, 225.1685477276676, 364.68147822310493, 58.05258501917778, 253.0103432429144, 206.66945159608392, 383.9417457973365, 395.1396533239595, 127.24046896157846, 77.09533472707253, 56.989714859892544, 340.6224599786815, 81.3971943263191, 281.51567569875476, 230.8063457303208, 204.24111894197992, 234.5536508665998, 115.14309240217929, 359.4256052159555, 395.5624523049777, 104.4634988386996, 147.61952917951578, 105.02418563107993, 258.70682373492235, 50.08276420372328, 186.10120810177136, 235.77444564146222, 195.42534198839243, 213.67906310882984, 248.50257632246795, 377.58769970584785, 287.3942908357215, 369.89600202873555], 'shear_modulus': [257.0060743477812, 255.23104692339547, 272.7517712998103, 248.1277314003551, 263.25134398737214, 226.94715990298832, 289.49380030906536, 294.95085878558723, 134.40227477191382, 166.15096511119881, 294.75780752328694, 275.86684304039875, 255.48273255884686, 294.4489024763683, 294.5314662517405, 276.87766170876495, 262.06989099241576, 282.8328046196008, 201.1880563221282, 211.26187458762627, 277.07263375994523, 187.1079406092458, 199.02018700352983, 248.21860530322886, 262.7953348051785, 237.55531162800128, 227.51354204045202, 295.80478947561437, 194.0145446175187, 226.7933073289429, 220.06874567496396, 280.89238078084486, 180.85169161723803, 289.54356749299006, 299.9238472262594, 295.95260156944005, 271.88386766156776, 206.75642089228174, 279.36901462861096, 272.63608606356854, 207.7779870087085, 220.56375814304448, 234.14924269969907, 229.4799665642775, 210.0029829863512, 242.08398157628358, 158.37070280985785, 249.012456016548, 240.78542678949367, 169.74786608752134, 171.06389822688953, 280.3957843798329, 249.00538281024154, 240.83585355601315, 194.4065294078182, 228.16509520849712, 232.2194221804862, 104.37171042155727, 207.97543971644808, 298.26353506439204, 276.82817640358064, 227.24499443976362, 267.6531909875043, 153.76342361222424, 148.00258427104694, 240.917416725332, 163.87946292923212, 222.03107697378968, 170.70485616421752, 275.3170604171313, 265.6684761897129, 159.9430493676987, 200.8249525275307, 168.38737226368085, 282.360415072288, 141.0528630040542, 213.22157809004852, 247.20303278096105, 224.8369134616925, 267.9266423422549, 293.4734953867315, 242.13072301116335, 262.6268896595898, 209.46345047114306, 145.38380557575096, 279.2054544804752, 239.12671021159406, 198.04397025362033, 169.05609247825188, 293.0771452064772, 219.52010957443872, 173.61184512127926, 289.2057069637191, 288.60164318686105, 287.8303131007526, 236.09054731917942, 274.6754538018792, 256.9073789513313, 278.3719467896323, 298.9081515813327, 209.56319727254885, 226.7087415497299, 294.776956438031, 218.32115610419004, 174.54603406494593, 280.23206121352496, 121.37694364527071, 262.1954065895668, 272.3373178787772, 172.63132387226025, 259.478952010752, 269.71868660219224, 281.94059405596664, 169.43233658110648, 190.60078091853794, 230.25710140489878, 290.04982112674406, 247.1484125852375, 198.50033911154483, 225.0947823277409, 241.0467516612337, 181.1115252213843, 203.91104489131328, 242.66247860606546, 183.70769845840798, 250.9112624938574, 244.1088125242888, 275.48827111904177, 264.4568387701228, 130.68693466435343, 289.3803654065649, 296.14477068445797, 287.94827620096, 269.5954825051877, 181.05313845207297, 258.29172909638584, 226.39538360962462, 191.46983786000027, 183.95360793939753, 256.34778395032106, 290.5393348622197, 275.9815343409164, 220.26628102618284, 272.88207230568764, 224.48789605076934, 281.8540371458611, 249.12578195588276, 267.5906604286486, 254.8798873012019, 159.38490071263828, 123.99192305189777, 164.64575256556478, 222.59481797176034, 241.62961385097, 178.58908693927964, 188.56711119818593], 'universal_anisotropy': [1.6665020034212978, 1.967234503120394, 1.3286008338545845, 1.3318535461043386, 2.2856641654191545, 1.467024423700988, 2.004009620152952, 2.0936537883112623, 1.9470753360034159, 2.1180482048650764, 1.7012806293052685, 1.6440919558243332, 1.758990692793866, 1.990049706823751, 2.2492692366162945, 1.9848176098289456, 2.0763807514514987, 1.001610239675631, 2.0684024457312846, 1.8264891130551255, 1.7467734069804806, 1.8281695275844556, 2.2068086586097793, 1.6496839914695207, 1.9386630874107547, 1.3598012333175589, 1.5504454646781376, 1.9447792422778833, 2.086243101362864, 1.0051374191977125, 1.0796631757585833, 1.3605894919076102, 0.9171350554767856, 1.447808795323545, 1.6390769677654335, 2.284888428422355, 1.4438585469534095, 1.1542644216738336, 1.126562394515203, 1.3742768942713586, 1.1914646067321604, 2.077620361330576, 2.0408772159805184, 1.870170221022014, 1.9660729389614335, 1.8458650274663753, 1.8751045551768377, 1.7515335721164995, 1.3686162272169178, 1.7836121645662881, 2.0461190886729557, 1.6720736789335169, 1.479186647303266, 1.9248753028900052, 2.084520672356157, 2.0770799166199834, 1.392144912355773, 1.4090983298764819, 0.9813277693298115, 1.3742380085147592, 2.0830642282792557, 1.825594176840752, 1.7457092037395698, 1.5416701902024073, 2.0476724891031512, 1.792788310075215, 1.1168093103726626, 1.7200519298420018, 1.9328865562053221, 1.5823393379011066, 1.9120368899528963, 1.1703948361789582, 1.8675293922610117, 1.9316954740196737, 2.0087488070733706, 1.9217201442922662, 2.29734372122941, 1.7436899604965932, 1.6919476932517505, 1.6643767154002707, 1.9726281171146263, 1.5673482272100863, 2.1827489171837193, 2.1051929723457365, 1.650172144889987, 1.6279434935260297, 1.8521475632234816, 1.713403699203453, 2.1251370394078677, 1.9590952231073206, 1.0175057206068947, 1.6231780294958003, 0.9741686266476088, 1.8364096930052716, 2.2643659755661925, 1.8989744237469635, 1.7205083639587173, 1.891286830089191, 1.452754997599207, 2.1019884610126978, 1.6916049700376954, 2.1571100537473997, 1.9571127812230007, 1.169614189837565, 2.2259481375192864, 1.5365029802560326, 1.6532385552084596, 1.7494992662133553, 1.7334728803965027, 1.6110343589273324, 1.0771903383138597, 1.4965281373277723, 1.8426950394941919, 0.9551251550187031, 1.9491649741132315, 1.8226214915167422, 1.5325502572935918, 1.599796172285532, 1.120529459457451, 1.4253022951801981, 1.7962856006126469, 1.7848858896333102, 1.5290835324989298, 1.6363418296466878, 1.6031257166580566, 1.686630806944522, 1.9929730480520074, 1.7412584372556676, 2.03790057731708, 1.6745138694988222, 1.771825590493723, 1.402118012544801, 1.0232015249507387, 1.594573649368474, 1.8693501877039465, 1.5166763006371413, 2.21975700320522, 2.0895091944726616, 1.574316770442247, 2.0813457660799313, 2.2926857249833223, 1.3681965590463467, 1.3126221788345547, 1.382682814616994, 2.2481006119427565, 2.2203136683710674, 2.2968988296705253, 1.0183875264112463, 1.253212713007053, 1.339866460646197, 1.8493686104780054, 1.320937135736358, 1.7222316083926548, 1.3942492618045899, 2.1177566349585226, 1.5477598057945707]}}}\n",
      "keys of best_designs_dict: dict_keys(['mat1', 'mat2', 'mat3'])\n",
      "keys of best_designs_dict['mat1']: dict_keys(['carrier-transport', 'elastic'])\n",
      "overall_bounds_dict: {'elec_cond_300k_low_doping': {'upper_bound': 78.0, 'lower_bound': 1e-07}, 'therm_cond_300k_low_doping': {'upper_bound': 2.0, 'lower_bound': 1e-07}, 'bulk_modulus': {'upper_bound': 400.0, 'lower_bound': 20.0}, 'shear_modulus': {'upper_bound': 300.0, 'lower_bound': 80.0}, 'universal_anisotropy': {'upper_bound': 2.3, 'lower_bound': 0.9}}\n",
      "Initial query: {'bulk_modulus': (20.0, 400.0), 'shear_modulus': (80.0, 300.0), 'universal_anisotropy': (0.9, 2.3)}\n",
      "Fields: ['material_id', 'formula_pretty', 'bulk_modulus', 'shear_modulus', 'universal_anisotropy']\n"
     ]
    },
    {
     "data": {
      "application/vnd.jupyter.widget-view+json": {
       "model_id": "01ff6b00d4eb44be959c94e18ac72fa7",
       "version_major": 2,
       "version_minor": 0
      },
      "text/plain": [
       "Retrieving SummaryDoc documents:   0%|          | 0/251 [00:00<?, ?it/s]"
      ]
     },
     "metadata": {},
     "output_type": "display_data"
    },
    {
     "name": "stdout",
     "output_type": "stream",
     "text": [
      "Initialized result_dict: {'material_id': [], 'formula_pretty': [], 'elec_cond_300k_low_doping': [], 'therm_cond_300k_low_doping': [], 'bulk_modulus_voigt': [], 'shear_modulus_voigt': [], 'universal_anisotropy': []}\n",
      "Length of material_id: 251\n",
      "Length of formula_pretty: 251\n",
      "Length of elec_cond_300k_low_doping: 0\n",
      "Length of therm_cond_300k_low_doping: 0\n",
      "Length of bulk_modulus_voigt: 251\n",
      "Length of shear_modulus_voigt: 251\n",
      "Length of universal_anisotropy: 251\n",
      "Length of material_id after sorting: 251\n",
      "Final Length of material_id: 251\n",
      "Final Length of formula_pretty: 251\n",
      "Final Length of elec_cond_300k_low_doping: 251\n",
      "Final Length of therm_cond_300k_low_doping: 251\n",
      "Final Length of bulk_modulus_voigt: 251\n",
      "Final Length of shear_modulus_voigt: 251\n",
      "Final Length of universal_anisotropy: 251\n",
      "Keys of result_dict: dict_keys(['material_id', 'formula_pretty', 'elec_cond_300k_low_doping', 'therm_cond_300k_low_doping', 'bulk_modulus_voigt', 'shear_modulus_voigt', 'universal_anisotropy'])\n",
      "result_dict['material_id'] = [MPID(mp-867319), MPID(mp-867330), MPID(mp-684591), MPID(mp-752826), MPID(mp-16514), MPID(mp-632442), MPID(mp-16613), MPID(mp-944), MPID(mp-10883), MPID(mp-3098), MPID(mp-3748), MPID(mp-8039), MPID(mp-2658), MPID(mp-22793), MPID(mp-1019508), MPID(mp-1008556), MPID(mp-625054), MPID(mp-13178), MPID(mp-1330), MPID(mp-1700), MPID(mp-1487), MPID(mp-603719), MPID(mp-676861), MPID(mp-1018166), MPID(mp-1008530), MPID(mp-11696), MPID(mp-1001602), MPID(mp-534), MPID(mp-1008525), MPID(mp-1008526), MPID(mp-2850), MPID(mp-633538), MPID(mp-28897), MPID(mp-644751), MPID(mp-567164), MPID(mp-983590), MPID(mp-865562), MPID(mp-862706), MPID(mp-550433), MPID(mp-5597), MPID(mp-5157), MPID(mp-558636), MPID(mp-38843), MPID(mp-1016879), MPID(mp-6957), MPID(mp-2965), MPID(mp-27861), MPID(mp-21343), MPID(mp-754040), MPID(mp-1008349), MPID(mp-1018672), MPID(mp-90), MPID(mp-579), MPID(mp-1010071), MPID(mp-1008224), MPID(mp-1008280), MPID(mp-1018067), MPID(mp-784631), MPID(mp-20814), MPID(mp-2958), MPID(mp-2417), MPID(mp-10856), MPID(mp-20874), MPID(mp-20344), MPID(mp-1007853), MPID(mp-2199), MPID(mp-2794), MPID(mp-2090), MPID(mp-5436), MPID(mp-2213), MPID(mp-1918), MPID(mp-29076), MPID(mp-30551), MPID(mp-2853), MPID(mp-830), MPID(mp-470), MPID(mp-345), MPID(mp-977573), MPID(mp-1029834), MPID(mp-1016825), MPID(mp-20192), MPID(mp-550893), MPID(mp-776532), MPID(mp-1014251), MPID(mp-754134), MPID(mp-754478), MPID(mp-861979), MPID(mp-1001827), MPID(mp-13076), MPID(mp-2723), MPID(mp-549490), MPID(mp-5526), MPID(mp-2680), MPID(mp-36086), MPID(mp-35417), MPID(mp-2468835), MPID(mp-34993), MPID(mp-8001), MPID(mp-3924), MPID(mp-3524), MPID(mp-5840), MPID(mp-862870), MPID(mp-1029424), MPID(mp-867744), MPID(mp-9514), MPID(mp-4590), MPID(mp-3536), MPID(mp-763), MPID(mp-365), MPID(mp-15702), MPID(mp-1023125), MPID(mp-15701), MPID(mp-4391), MPID(mp-5924), MPID(mp-1029702), MPID(mp-1029536), MPID(mp-8634), MPID(mp-13079), MPID(mp-13082), MPID(mp-999558), MPID(mp-21235), MPID(mp-973149), MPID(mp-865027), MPID(mp-864735), MPID(mp-771), MPID(mp-3623), MPID(mp-864950), MPID(mp-978261), MPID(mp-999542), MPID(mp-1018024), MPID(mp-21171), MPID(mp-9951), MPID(mp-7829), MPID(mp-999516), MPID(mp-1232), MPID(mp-7017), MPID(mp-3136), MPID(mp-976923), MPID(mp-5475), MPID(mp-4170), MPID(mp-569167), MPID(mp-12725), MPID(mp-999388), MPID(mp-1580), MPID(mp-999357), MPID(mp-2533), MPID(mp-1018151), MPID(mp-1963), MPID(mp-756638), MPID(mp-647), MPID(mp-5622), MPID(mp-568055), MPID(mp-1929), MPID(mp-784630), MPID(mp-11507), MPID(mp-30811), MPID(mp-6927), MPID(mp-567907), MPID(mp-1009545), MPID(mp-3466), MPID(mp-12762), MPID(mp-1285), MPID(mp-12875), MPID(mp-9761), MPID(mp-974565), MPID(mp-999263), MPID(mp-20304), MPID(mp-725), MPID(mp-607371), MPID(mp-753495), MPID(mp-27693), MPID(mp-12593), MPID(mp-4200), MPID(mp-635), MPID(mp-4720), MPID(mp-11607), MPID(mp-641539), MPID(mp-978496), MPID(mp-1002206), MPID(mp-1128), MPID(mp-972845), MPID(mp-351), MPID(mp-999192), MPID(mp-10015), MPID(mp-978490), MPID(mp-2287), MPID(mp-20418), MPID(mp-381), MPID(mp-978493), MPID(mp-856), MPID(mp-242), MPID(mp-768342), MPID(mp-972309), MPID(mp-2220557), MPID(mp-675172), MPID(mp-570604), MPID(mp-1157), MPID(mp-20994), MPID(mp-999133), MPID(mp-30835), MPID(mp-865805), MPID(mp-10854), MPID(mp-999117), MPID(mp-33137), MPID(mp-1756), MPID(mp-755875), MPID(mp-10734), MPID(mp-11279), MPID(mp-608), MPID(mp-1018012), MPID(mp-1089), MPID(mp-865678), MPID(mp-2657), MPID(mp-753657), MPID(mp-980203), MPID(mp-554462), MPID(mp-568789), MPID(mp-10857), MPID(mp-29005), MPID(mp-20924), MPID(mp-1025264), MPID(mp-1008642), MPID(mp-1865), MPID(mp-1776), MPID(mp-1025123), MPID(mp-27769), MPID(mp-865465), MPID(mp-20586), MPID(mp-22790), MPID(mp-865471), MPID(mp-1002105), MPID(mp-11531), MPID(mp-1114), MPID(mp-11549), MPID(mp-873), MPID(mp-1008630), MPID(mp-1004526), MPID(mp-15955), MPID(mp-756214), MPID(mp-1017533), MPID(mp-1016876), MPID(mp-1014265), MPID(mp-2525045), MPID(mp-1014246), MPID(mp-451), MPID(mp-22227), MPID(mp-1009838), MPID(mp-1565), MPID(mp-755759), MPID(mp-775909), MPID(mp-4820)]\n",
      "Carrier transport is in the property categories\n",
      "Query for carrier transport: {'elec_cond_300k_low_doping': (1e-07, 78.0), 'therm_cond_300k_low_doping': (1e-07, 2.0)}\n",
      "Tables: {'data': [{'identifier': 'mp-752826', 'formula': 'Al2O3', 'data': {'sigma': {'p': {'display': '4.10475 1/fΩ/m/s', 'value': 4.10475, 'error': None, 'unit': '1/fΩ/m/s'}}, 'kappa': {'p': {'display': '11.1994 GW/K/m/s', 'value': 11.1994, 'error': None, 'unit': 'GW/K/m/s'}}}}, {'identifier': 'mp-3536', 'formula': 'MgAl2O4', 'data': {'sigma': {'p': {'display': '7.70117 1/fΩ/m/s', 'value': 7.70117, 'error': None, 'unit': '1/fΩ/m/s'}}, 'kappa': {'p': {'display': '31.6911 GW/K/m/s', 'value': 31.6911, 'error': None, 'unit': 'GW/K/m/s'}}}}, {'identifier': 'mp-5924', 'formula': 'MgSiO3', 'data': {'sigma': {'p': {'display': '6.45658 1/fΩ/m/s', 'value': 6.45658, 'error': None, 'unit': '1/fΩ/m/s'}}, 'kappa': {'p': {'display': '30.0167 GW/K/m/s', 'value': 30.0167, 'error': None, 'unit': 'GW/K/m/s'}}}}], 'has_more': False, 'total_count': 3, 'total_pages': 1}\n",
      "Table: {'identifier': 'mp-752826', 'formula': 'Al2O3', 'data': {'sigma': {'p': {'display': '4.10475 1/fΩ/m/s', 'value': 4.10475, 'error': None, 'unit': '1/fΩ/m/s'}}, 'kappa': {'p': {'display': '11.1994 GW/K/m/s', 'value': 11.1994, 'error': None, 'unit': 'GW/K/m/s'}}}}\n",
      "Index: 3\n",
      "Table: {'identifier': 'mp-3536', 'formula': 'MgAl2O4', 'data': {'sigma': {'p': {'display': '7.70117 1/fΩ/m/s', 'value': 7.70117, 'error': None, 'unit': '1/fΩ/m/s'}}, 'kappa': {'p': {'display': '31.6911 GW/K/m/s', 'value': 31.6911, 'error': None, 'unit': 'GW/K/m/s'}}}}\n",
      "Index: 106\n",
      "Table: {'identifier': 'mp-5924', 'formula': 'MgSiO3', 'data': {'sigma': {'p': {'display': '6.45658 1/fΩ/m/s', 'value': 6.45658, 'error': None, 'unit': '1/fΩ/m/s'}}, 'kappa': {'p': {'display': '30.0167 GW/K/m/s', 'value': 30.0167, 'error': None, 'unit': 'GW/K/m/s'}}}}\n",
      "Index: 113\n",
      "len(material_id): 3\n",
      "len(elec_cond): 3\n",
      "len(therm_cond): 3\n",
      "len(bulk_modulus): 3\n",
      "len(shear_modulus): 3\n",
      "len(universal_anisotropy): 3\n",
      "len(material_id): 3\n",
      "len(elec_cond): 3\n",
      "len(therm_cond): 3\n",
      "len(bulk_modulus): 3\n",
      "len(shear_modulus): 3\n",
      "len(universal_anisotropy): 3\n",
      "len(material_id): 3\n",
      "len(elec_cond): 3\n",
      "len(therm_cond): 3\n",
      "len(bulk_modulus): 3\n",
      "len(shear_modulus): 3\n",
      "len(universal_anisotropy): 3\n",
      "Material Matches:\n",
      "{'mat1': [{'mp-752826': {'elec_cond': 41.0475, 'therm_cond': 0.000111994, 'bulk_modulus': 168.258, 'shear_modulus': 90.134, 'universal_anisotropy': 1.271}}, {'mp-3536': {'elec_cond': 77.0117, 'therm_cond': 0.000316911, 'bulk_modulus': 182.861, 'shear_modulus': 107.669, 'universal_anisotropy': 1.062}}, {'mp-5924': {'elec_cond': 64.5658, 'therm_cond': 0.000300167, 'bulk_modulus': 193.509, 'shear_modulus': 113.741, 'universal_anisotropy': 1.091}}], 'mat2': [{'mp-752826': {'elec_cond': 41.0475, 'therm_cond': 0.000111994, 'bulk_modulus': 168.258, 'shear_modulus': 90.134, 'universal_anisotropy': 1.271}}, {'mp-3536': {'elec_cond': 77.0117, 'therm_cond': 0.000316911, 'bulk_modulus': 182.861, 'shear_modulus': 107.669, 'universal_anisotropy': 1.062}}, {'mp-5924': {'elec_cond': 64.5658, 'therm_cond': 0.000300167, 'bulk_modulus': 193.509, 'shear_modulus': 113.741, 'universal_anisotropy': 1.091}}], 'mat3': [{'mp-752826': {'elec_cond': 41.0475, 'therm_cond': 0.000111994, 'bulk_modulus': 168.258, 'shear_modulus': 90.134, 'universal_anisotropy': 1.271}}, {'mp-3536': {'elec_cond': 77.0117, 'therm_cond': 0.000316911, 'bulk_modulus': 182.861, 'shear_modulus': 107.669, 'universal_anisotropy': 1.062}}, {'mp-5924': {'elec_cond': 64.5658, 'therm_cond': 0.000300167, 'bulk_modulus': 193.509, 'shear_modulus': 113.741, 'universal_anisotropy': 1.091}}]}\n"
     ]
    }
   ],
   "source": [
    "# # Display the mp-ids of the potential options for each of the composite materials\n",
    "# HS.get_material_matches()\n",
    "# matches_dict = HS.get_material_matches(consolidated_dict=consolidated_dict)\n",
    "# print(\"Material Matches:\")\n",
    "# print(matches_dict)\n",
    "\n",
    "# Display the mp-ids of the potential options for each of the composite materials\n",
    "# # matches_dict = HS.get_material_matches(consolidated_dict=consolidated_dict)\n",
    "# matches_dict = HS.get_material_matches()\n",
    "print(f\"overall bounds dict: {overall_bounds_dict, user_input}\")\n",
    "matches_dict = HS.get_material_matches(overall_bounds_dict, user_input)\n",
    "print(\"Material Matches:\")\n",
    "print(matches_dict)"
   ]
  },
  {
   "cell_type": "code",
   "execution_count": 9,
   "metadata": {},
   "outputs": [
    {
     "name": "stdout",
     "output_type": "stream",
     "text": [
      "Loaded consolidated_dict from consolidated_dict_10_08_2024_14_06_29\n"
     ]
    },
    {
     "name": "stderr",
     "output_type": "stream",
     "text": [
      "/Users/carlabecker/Library/Mobile Documents/com~apple~CloudDocs/Carla's Desktop/UC Berkeley/Research/Materials Project/hashin_shtrikman_mp/src/examples/../core/member.py:247: UserWarning:\n",
      "\n",
      "Warning: Cannot properly apply Hashin-Shtrikman bounds on effective properties when bulk_i < bulk_j and shear_i > shear_j, or vice versa.\n",
      "\n"
     ]
    },
    {
     "data": {
      "application/vnd.plotly.v1+json": {
       "config": {
        "plotlyServerURL": "https://plot.ly"
       },
       "data": [
        {
         "cells": {
          "align": "left",
          "fill": {
           "color": [
            [
             "white",
             "lightgrey",
             "white",
             "lightgrey",
             "white"
            ]
           ]
          },
          "font": {
           "size": 12
          },
          "height": 30,
          "values": [
           [
            "mp-3536",
            "mp-3536",
            "mp-3536",
            "mp-3536",
            "mp-5924"
           ],
           [
            "mp-5924",
            "mp-5924",
            "mp-3536",
            "mp-3536",
            "mp-5924"
           ],
           [
            "mp-5924",
            "mp-3536",
            "mp-5924",
            "mp-3536",
            "mp-5924"
           ],
           [
            "77.0117",
            "77.0117",
            "77.0117",
            "77.0117",
            "64.5658"
           ],
           [
            "64.5658",
            "64.5658",
            "77.0117",
            "77.0117",
            "64.5658"
           ],
           [
            "64.5658",
            "77.0117",
            "64.5658",
            "77.0117",
            "64.5658"
           ],
           [
            "0.000316911",
            "0.000316911",
            "0.000316911",
            "0.000316911",
            "0.000300167"
           ],
           [
            "0.000300167",
            "0.000300167",
            "0.000316911",
            "0.000316911",
            "0.000300167"
           ],
           [
            "0.000300167",
            "0.000316911",
            "0.000300167",
            "0.000316911",
            "0.000300167"
           ],
           [
            "182.861",
            "182.861",
            "182.861",
            "182.861",
            "193.509"
           ],
           [
            "193.509",
            "193.509",
            "182.861",
            "182.861",
            "193.509"
           ],
           [
            "193.509",
            "182.861",
            "193.509",
            "182.861",
            "193.509"
           ],
           [
            "107.669",
            "107.669",
            "107.669",
            "107.669",
            "113.741"
           ],
           [
            "113.741",
            "113.741",
            "107.669",
            "107.669",
            "113.741"
           ],
           [
            "113.741",
            "107.669",
            "113.741",
            "107.669",
            "113.741"
           ],
           [
            "1.062",
            "1.062",
            "1.062",
            "1.062",
            "1.091"
           ],
           [
            "1.091",
            "1.091",
            "1.062",
            "1.062",
            "1.091"
           ],
           [
            "1.091",
            "1.062",
            "1.091",
            "1.062",
            "1.091"
           ],
           [
            "0.1789655172413793",
            "0.1789655172413793",
            "0.1789655172413793",
            "0.1789655172413793",
            "0.1789655172413793"
           ],
           [
            "0.8210344827586207",
            "0.8210344827586207",
            "0.8210344827586207",
            "0.8210344827586207",
            "0.8210344827586207"
           ],
           [
            "0.0",
            "0.0",
            "0.0",
            "0.0",
            "0.0"
           ],
           [
            "0.45588885197838486",
            "0.4630687488163396",
            "0.46430488184409924",
            "0.4713543867980919",
            "0.4770649438976749"
           ]
          ]
         },
         "columnwidth": 1000,
         "header": {
          "align": "left",
          "fill": {
           "color": "lavender"
          },
          "font": {
           "size": 12
          },
          "height": 30,
          "values": [
           "Material 1 MP-ID",
           "Material 2 MP-ID",
           "Material 3 MP-ID",
           "Phase 1 Electrical conductivity, [S/m]",
           "Phase 2 Electrical conductivity, [S/m]",
           "Phase 3 Electrical conductivity, [S/m]",
           "Phase 1 Thermal conductivity, [W/m/K]",
           "Phase 2 Thermal conductivity, [W/m/K]",
           "Phase 3 Thermal conductivity, [W/m/K]",
           "Phase 1 Bulk modulus, [GPa]",
           "Phase 2 Bulk modulus, [GPa]",
           "Phase 3 Bulk modulus, [GPa]",
           "Phase 1 Shear modulus, [GPa]",
           "Phase 2 Shear modulus, [GPa]",
           "Phase 3 Shear modulus, [GPa]",
           "Phase 1 Universal anisotropy, []",
           "Phase 2 Universal anisotropy, []",
           "Phase 3 Universal anisotropy, []",
           "Phase 1 Volume Fraction",
           "Phase 2 Volume Fraction",
           "Phase 3 Volume Fraction",
           "cost"
          ]
         },
         "type": "table"
        }
       ],
       "layout": {
        "autosize": true,
        "height": 400,
        "margin": {
         "b": 0,
         "l": 0,
         "r": 0,
         "t": 40
        },
        "template": {
         "data": {
          "bar": [
           {
            "error_x": {
             "color": "rgb(36,36,36)"
            },
            "error_y": {
             "color": "rgb(36,36,36)"
            },
            "marker": {
             "line": {
              "color": "white",
              "width": 0.5
             },
             "pattern": {
              "fillmode": "overlay",
              "size": 10,
              "solidity": 0.2
             }
            },
            "type": "bar"
           }
          ],
          "barpolar": [
           {
            "marker": {
             "line": {
              "color": "white",
              "width": 0.5
             },
             "pattern": {
              "fillmode": "overlay",
              "size": 10,
              "solidity": 0.2
             }
            },
            "type": "barpolar"
           }
          ],
          "carpet": [
           {
            "aaxis": {
             "endlinecolor": "rgb(36,36,36)",
             "gridcolor": "white",
             "linecolor": "white",
             "minorgridcolor": "white",
             "startlinecolor": "rgb(36,36,36)"
            },
            "baxis": {
             "endlinecolor": "rgb(36,36,36)",
             "gridcolor": "white",
             "linecolor": "white",
             "minorgridcolor": "white",
             "startlinecolor": "rgb(36,36,36)"
            },
            "type": "carpet"
           }
          ],
          "choropleth": [
           {
            "colorbar": {
             "outlinewidth": 1,
             "tickcolor": "rgb(36,36,36)",
             "ticks": "outside"
            },
            "type": "choropleth"
           }
          ],
          "contour": [
           {
            "colorbar": {
             "outlinewidth": 1,
             "tickcolor": "rgb(36,36,36)",
             "ticks": "outside"
            },
            "colorscale": [
             [
              0,
              "#440154"
             ],
             [
              0.1111111111111111,
              "#482878"
             ],
             [
              0.2222222222222222,
              "#3e4989"
             ],
             [
              0.3333333333333333,
              "#31688e"
             ],
             [
              0.4444444444444444,
              "#26828e"
             ],
             [
              0.5555555555555556,
              "#1f9e89"
             ],
             [
              0.6666666666666666,
              "#35b779"
             ],
             [
              0.7777777777777778,
              "#6ece58"
             ],
             [
              0.8888888888888888,
              "#b5de2b"
             ],
             [
              1,
              "#fde725"
             ]
            ],
            "type": "contour"
           }
          ],
          "contourcarpet": [
           {
            "colorbar": {
             "outlinewidth": 1,
             "tickcolor": "rgb(36,36,36)",
             "ticks": "outside"
            },
            "type": "contourcarpet"
           }
          ],
          "heatmap": [
           {
            "colorbar": {
             "outlinewidth": 1,
             "tickcolor": "rgb(36,36,36)",
             "ticks": "outside"
            },
            "colorscale": [
             [
              0,
              "#440154"
             ],
             [
              0.1111111111111111,
              "#482878"
             ],
             [
              0.2222222222222222,
              "#3e4989"
             ],
             [
              0.3333333333333333,
              "#31688e"
             ],
             [
              0.4444444444444444,
              "#26828e"
             ],
             [
              0.5555555555555556,
              "#1f9e89"
             ],
             [
              0.6666666666666666,
              "#35b779"
             ],
             [
              0.7777777777777778,
              "#6ece58"
             ],
             [
              0.8888888888888888,
              "#b5de2b"
             ],
             [
              1,
              "#fde725"
             ]
            ],
            "type": "heatmap"
           }
          ],
          "heatmapgl": [
           {
            "colorbar": {
             "outlinewidth": 1,
             "tickcolor": "rgb(36,36,36)",
             "ticks": "outside"
            },
            "colorscale": [
             [
              0,
              "#440154"
             ],
             [
              0.1111111111111111,
              "#482878"
             ],
             [
              0.2222222222222222,
              "#3e4989"
             ],
             [
              0.3333333333333333,
              "#31688e"
             ],
             [
              0.4444444444444444,
              "#26828e"
             ],
             [
              0.5555555555555556,
              "#1f9e89"
             ],
             [
              0.6666666666666666,
              "#35b779"
             ],
             [
              0.7777777777777778,
              "#6ece58"
             ],
             [
              0.8888888888888888,
              "#b5de2b"
             ],
             [
              1,
              "#fde725"
             ]
            ],
            "type": "heatmapgl"
           }
          ],
          "histogram": [
           {
            "marker": {
             "line": {
              "color": "white",
              "width": 0.6
             }
            },
            "type": "histogram"
           }
          ],
          "histogram2d": [
           {
            "colorbar": {
             "outlinewidth": 1,
             "tickcolor": "rgb(36,36,36)",
             "ticks": "outside"
            },
            "colorscale": [
             [
              0,
              "#440154"
             ],
             [
              0.1111111111111111,
              "#482878"
             ],
             [
              0.2222222222222222,
              "#3e4989"
             ],
             [
              0.3333333333333333,
              "#31688e"
             ],
             [
              0.4444444444444444,
              "#26828e"
             ],
             [
              0.5555555555555556,
              "#1f9e89"
             ],
             [
              0.6666666666666666,
              "#35b779"
             ],
             [
              0.7777777777777778,
              "#6ece58"
             ],
             [
              0.8888888888888888,
              "#b5de2b"
             ],
             [
              1,
              "#fde725"
             ]
            ],
            "type": "histogram2d"
           }
          ],
          "histogram2dcontour": [
           {
            "colorbar": {
             "outlinewidth": 1,
             "tickcolor": "rgb(36,36,36)",
             "ticks": "outside"
            },
            "colorscale": [
             [
              0,
              "#440154"
             ],
             [
              0.1111111111111111,
              "#482878"
             ],
             [
              0.2222222222222222,
              "#3e4989"
             ],
             [
              0.3333333333333333,
              "#31688e"
             ],
             [
              0.4444444444444444,
              "#26828e"
             ],
             [
              0.5555555555555556,
              "#1f9e89"
             ],
             [
              0.6666666666666666,
              "#35b779"
             ],
             [
              0.7777777777777778,
              "#6ece58"
             ],
             [
              0.8888888888888888,
              "#b5de2b"
             ],
             [
              1,
              "#fde725"
             ]
            ],
            "type": "histogram2dcontour"
           }
          ],
          "mesh3d": [
           {
            "colorbar": {
             "outlinewidth": 1,
             "tickcolor": "rgb(36,36,36)",
             "ticks": "outside"
            },
            "type": "mesh3d"
           }
          ],
          "parcoords": [
           {
            "line": {
             "colorbar": {
              "outlinewidth": 1,
              "tickcolor": "rgb(36,36,36)",
              "ticks": "outside"
             }
            },
            "type": "parcoords"
           }
          ],
          "pie": [
           {
            "automargin": true,
            "type": "pie"
           }
          ],
          "scatter": [
           {
            "fillpattern": {
             "fillmode": "overlay",
             "size": 10,
             "solidity": 0.2
            },
            "type": "scatter"
           }
          ],
          "scatter3d": [
           {
            "line": {
             "colorbar": {
              "outlinewidth": 1,
              "tickcolor": "rgb(36,36,36)",
              "ticks": "outside"
             }
            },
            "marker": {
             "colorbar": {
              "outlinewidth": 1,
              "tickcolor": "rgb(36,36,36)",
              "ticks": "outside"
             }
            },
            "type": "scatter3d"
           }
          ],
          "scattercarpet": [
           {
            "marker": {
             "colorbar": {
              "outlinewidth": 1,
              "tickcolor": "rgb(36,36,36)",
              "ticks": "outside"
             }
            },
            "type": "scattercarpet"
           }
          ],
          "scattergeo": [
           {
            "marker": {
             "colorbar": {
              "outlinewidth": 1,
              "tickcolor": "rgb(36,36,36)",
              "ticks": "outside"
             }
            },
            "type": "scattergeo"
           }
          ],
          "scattergl": [
           {
            "marker": {
             "colorbar": {
              "outlinewidth": 1,
              "tickcolor": "rgb(36,36,36)",
              "ticks": "outside"
             }
            },
            "type": "scattergl"
           }
          ],
          "scattermapbox": [
           {
            "marker": {
             "colorbar": {
              "outlinewidth": 1,
              "tickcolor": "rgb(36,36,36)",
              "ticks": "outside"
             }
            },
            "type": "scattermapbox"
           }
          ],
          "scatterpolar": [
           {
            "marker": {
             "colorbar": {
              "outlinewidth": 1,
              "tickcolor": "rgb(36,36,36)",
              "ticks": "outside"
             }
            },
            "type": "scatterpolar"
           }
          ],
          "scatterpolargl": [
           {
            "marker": {
             "colorbar": {
              "outlinewidth": 1,
              "tickcolor": "rgb(36,36,36)",
              "ticks": "outside"
             }
            },
            "type": "scatterpolargl"
           }
          ],
          "scatterternary": [
           {
            "marker": {
             "colorbar": {
              "outlinewidth": 1,
              "tickcolor": "rgb(36,36,36)",
              "ticks": "outside"
             }
            },
            "type": "scatterternary"
           }
          ],
          "surface": [
           {
            "colorbar": {
             "outlinewidth": 1,
             "tickcolor": "rgb(36,36,36)",
             "ticks": "outside"
            },
            "colorscale": [
             [
              0,
              "#440154"
             ],
             [
              0.1111111111111111,
              "#482878"
             ],
             [
              0.2222222222222222,
              "#3e4989"
             ],
             [
              0.3333333333333333,
              "#31688e"
             ],
             [
              0.4444444444444444,
              "#26828e"
             ],
             [
              0.5555555555555556,
              "#1f9e89"
             ],
             [
              0.6666666666666666,
              "#35b779"
             ],
             [
              0.7777777777777778,
              "#6ece58"
             ],
             [
              0.8888888888888888,
              "#b5de2b"
             ],
             [
              1,
              "#fde725"
             ]
            ],
            "type": "surface"
           }
          ],
          "table": [
           {
            "cells": {
             "fill": {
              "color": "rgb(237,237,237)"
             },
             "line": {
              "color": "white"
             }
            },
            "header": {
             "fill": {
              "color": "rgb(217,217,217)"
             },
             "line": {
              "color": "white"
             }
            },
            "type": "table"
           }
          ]
         },
         "layout": {
          "annotationdefaults": {
           "arrowhead": 0,
           "arrowwidth": 1
          },
          "autotypenumbers": "strict",
          "coloraxis": {
           "colorbar": {
            "outlinewidth": 1,
            "tickcolor": "rgb(36,36,36)",
            "ticks": "outside"
           }
          },
          "colorscale": {
           "diverging": [
            [
             0,
             "rgb(103,0,31)"
            ],
            [
             0.1,
             "rgb(178,24,43)"
            ],
            [
             0.2,
             "rgb(214,96,77)"
            ],
            [
             0.3,
             "rgb(244,165,130)"
            ],
            [
             0.4,
             "rgb(253,219,199)"
            ],
            [
             0.5,
             "rgb(247,247,247)"
            ],
            [
             0.6,
             "rgb(209,229,240)"
            ],
            [
             0.7,
             "rgb(146,197,222)"
            ],
            [
             0.8,
             "rgb(67,147,195)"
            ],
            [
             0.9,
             "rgb(33,102,172)"
            ],
            [
             1,
             "rgb(5,48,97)"
            ]
           ],
           "sequential": [
            [
             0,
             "#440154"
            ],
            [
             0.1111111111111111,
             "#482878"
            ],
            [
             0.2222222222222222,
             "#3e4989"
            ],
            [
             0.3333333333333333,
             "#31688e"
            ],
            [
             0.4444444444444444,
             "#26828e"
            ],
            [
             0.5555555555555556,
             "#1f9e89"
            ],
            [
             0.6666666666666666,
             "#35b779"
            ],
            [
             0.7777777777777778,
             "#6ece58"
            ],
            [
             0.8888888888888888,
             "#b5de2b"
            ],
            [
             1,
             "#fde725"
            ]
           ],
           "sequentialminus": [
            [
             0,
             "#440154"
            ],
            [
             0.1111111111111111,
             "#482878"
            ],
            [
             0.2222222222222222,
             "#3e4989"
            ],
            [
             0.3333333333333333,
             "#31688e"
            ],
            [
             0.4444444444444444,
             "#26828e"
            ],
            [
             0.5555555555555556,
             "#1f9e89"
            ],
            [
             0.6666666666666666,
             "#35b779"
            ],
            [
             0.7777777777777778,
             "#6ece58"
            ],
            [
             0.8888888888888888,
             "#b5de2b"
            ],
            [
             1,
             "#fde725"
            ]
           ]
          },
          "colorway": [
           "#1F77B4",
           "#FF7F0E",
           "#2CA02C",
           "#D62728",
           "#9467BD",
           "#8C564B",
           "#E377C2",
           "#7F7F7F",
           "#BCBD22",
           "#17BECF"
          ],
          "font": {
           "color": "rgb(36,36,36)"
          },
          "geo": {
           "bgcolor": "white",
           "lakecolor": "white",
           "landcolor": "white",
           "showlakes": true,
           "showland": true,
           "subunitcolor": "white"
          },
          "hoverlabel": {
           "align": "left"
          },
          "hovermode": "closest",
          "mapbox": {
           "style": "light"
          },
          "paper_bgcolor": "white",
          "plot_bgcolor": "white",
          "polar": {
           "angularaxis": {
            "gridcolor": "rgb(232,232,232)",
            "linecolor": "rgb(36,36,36)",
            "showgrid": false,
            "showline": true,
            "ticks": "outside"
           },
           "bgcolor": "white",
           "radialaxis": {
            "gridcolor": "rgb(232,232,232)",
            "linecolor": "rgb(36,36,36)",
            "showgrid": false,
            "showline": true,
            "ticks": "outside"
           }
          },
          "scene": {
           "xaxis": {
            "backgroundcolor": "white",
            "gridcolor": "rgb(232,232,232)",
            "gridwidth": 2,
            "linecolor": "rgb(36,36,36)",
            "showbackground": true,
            "showgrid": false,
            "showline": true,
            "ticks": "outside",
            "zeroline": false,
            "zerolinecolor": "rgb(36,36,36)"
           },
           "yaxis": {
            "backgroundcolor": "white",
            "gridcolor": "rgb(232,232,232)",
            "gridwidth": 2,
            "linecolor": "rgb(36,36,36)",
            "showbackground": true,
            "showgrid": false,
            "showline": true,
            "ticks": "outside",
            "zeroline": false,
            "zerolinecolor": "rgb(36,36,36)"
           },
           "zaxis": {
            "backgroundcolor": "white",
            "gridcolor": "rgb(232,232,232)",
            "gridwidth": 2,
            "linecolor": "rgb(36,36,36)",
            "showbackground": true,
            "showgrid": false,
            "showline": true,
            "ticks": "outside",
            "zeroline": false,
            "zerolinecolor": "rgb(36,36,36)"
           }
          },
          "shapedefaults": {
           "fillcolor": "black",
           "line": {
            "width": 0
           },
           "opacity": 0.3
          },
          "ternary": {
           "aaxis": {
            "gridcolor": "rgb(232,232,232)",
            "linecolor": "rgb(36,36,36)",
            "showgrid": false,
            "showline": true,
            "ticks": "outside"
           },
           "baxis": {
            "gridcolor": "rgb(232,232,232)",
            "linecolor": "rgb(36,36,36)",
            "showgrid": false,
            "showline": true,
            "ticks": "outside"
           },
           "bgcolor": "white",
           "caxis": {
            "gridcolor": "rgb(232,232,232)",
            "linecolor": "rgb(36,36,36)",
            "showgrid": false,
            "showline": true,
            "ticks": "outside"
           }
          },
          "title": {
           "x": 0.05
          },
          "xaxis": {
           "automargin": true,
           "gridcolor": "rgb(232,232,232)",
           "linecolor": "rgb(36,36,36)",
           "showgrid": false,
           "showline": true,
           "ticks": "outside",
           "title": {
            "standoff": 15
           },
           "zeroline": false,
           "zerolinecolor": "rgb(36,36,36)"
          },
          "yaxis": {
           "automargin": true,
           "gridcolor": "rgb(232,232,232)",
           "linecolor": "rgb(36,36,36)",
           "showgrid": false,
           "showline": true,
           "ticks": "outside",
           "title": {
            "standoff": 15
           },
           "zeroline": false,
           "zerolinecolor": "rgb(36,36,36)"
          }
         }
        },
        "title": {
         "font": {
          "size": 20
         },
         "text": "Optimal Material Combinations to Comprise Desired Composite",
         "x": 0.15
        }
       }
      }
     },
     "metadata": {},
     "output_type": "display_data"
    }
   ],
   "source": [
    "import os\n",
    "import json\n",
    "from datetime import datetime\n",
    "\n",
    "# Directory where the files are located\n",
    "directory = './'\n",
    "\n",
    "# Function to get the latest consolidated dict file\n",
    "def get_latest_consolidated_dict_file(directory):\n",
    "    # List all files in the directory\n",
    "    files = os.listdir(directory)\n",
    "    \n",
    "    # Filter out only the consolidated_dict files\n",
    "    consolidated_files = [f for f in files if f.startswith('consolidated_dict_')]\n",
    "    \n",
    "    # Sort the files by date and time in the filename\n",
    "    consolidated_files.sort(key=lambda x: datetime.strptime(x, 'consolidated_dict_%m_%d_%Y_%H_%M_%S'))\n",
    "    \n",
    "    # Return the latest file\n",
    "    latest_file = consolidated_files[-1] if consolidated_files else None\n",
    "    return latest_file\n",
    "\n",
    "# Get the latest consolidated dict file\n",
    "latest_file = get_latest_consolidated_dict_file(directory)\n",
    "\n",
    "if latest_file:\n",
    "    # Open the latest consolidated dict file\n",
    "    with open(os.path.join(directory, latest_file), 'r') as f:\n",
    "        consolidated_dict = json.load(f)\n",
    "        print(f\"Loaded consolidated_dict from {latest_file}\")\n",
    "else:\n",
    "    print(\"No consolidated dict file found.\")\n",
    "\n",
    "\n",
    "HS.get_material_match_costs(matches_dict=matches_dict, consolidated_dict=consolidated_dict)"
   ]
  },
  {
   "cell_type": "code",
   "execution_count": 10,
   "metadata": {},
   "outputs": [
    {
     "data": {
      "text/plain": [
       "['carrier-transport', 'elastic']"
      ]
     },
     "execution_count": 10,
     "metadata": {},
     "output_type": "execute_result"
    }
   ],
   "source": [
    "HS.property_categories"
   ]
  },
  {
   "cell_type": "code",
   "execution_count": 11,
   "metadata": {},
   "outputs": [
    {
     "data": {
      "text/plain": [
       "<function dict.values>"
      ]
     },
     "execution_count": 11,
     "metadata": {},
     "output_type": "execute_result"
    }
   ],
   "source": [
    "HS.property_docs.values"
   ]
  },
  {
   "cell_type": "code",
   "execution_count": null,
   "metadata": {},
   "outputs": [],
   "source": []
  }
 ],
 "metadata": {
  "kernelspec": {
   "display_name": "carla_mp_api",
   "language": "python",
   "name": "python3"
  },
  "language_info": {
   "codemirror_mode": {
    "name": "ipython",
    "version": 3
   },
   "file_extension": ".py",
   "mimetype": "text/x-python",
   "name": "python",
   "nbconvert_exporter": "python",
   "pygments_lexer": "ipython3",
   "version": "3.9.18"
  }
 },
 "nbformat": 4,
 "nbformat_minor": 2
}
