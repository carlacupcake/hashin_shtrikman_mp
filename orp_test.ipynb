{
 "cells": [
  {
   "cell_type": "markdown",
   "metadata": {},
   "source": [
    "## Testing the Object Oriented Paradigm"
   ]
  },
  {
   "cell_type": "code",
   "execution_count": 1,
   "metadata": {},
   "outputs": [],
   "source": [
    "from ga_params_class import GAParams\n",
    "from hashin_sktrikman_class import HashinShtrikman\n",
    "from population_class import Population\n",
    "from genetic_string_class import GeneticString"
   ]
  },
  {
   "cell_type": "code",
   "execution_count": 2,
   "metadata": {},
   "outputs": [],
   "source": [
    "HS = HashinShtrikman()"
   ]
  },
  {
   "cell_type": "code",
   "execution_count": null,
   "metadata": {},
   "outputs": [],
   "source": [
    "HS.generate_final_dict()"
   ]
  },
  {
   "cell_type": "code",
   "execution_count": 3,
   "metadata": {},
   "outputs": [
    {
     "name": "stdout",
     "output_type": "stream",
     "text": [
      "lower bounds: [0, 0, 0, 0, 0, 0, 0, 0, 0, 0, 0, 0]\n",
      "upper bounds: [inf, inf, inf, inf, inf, inf, inf, inf, inf, inf, inf, inf]\n",
      "upper_bounds_for_loop: [1000000000.0, 1000000000.0, 1000000000.0, 1000000000.0, 1000000000.0, 1000000000.0, 1000000000.0, 1000000000.0, 1000000000.0, 1000000000.0, 1000000000.0, 1000000000.0]\n",
      "\u001b[0;31m---------------------------------------------------------------------------\u001b[0m\n",
      "\u001b[0;31mValueError\u001b[0m                                Traceback (most recent call last)\n",
      "Input \u001b[0;32mIn [3]\u001b[0m, in \u001b[0;36m<cell line: 1>\u001b[0;34m()\u001b[0m\n",
      "\u001b[0;32m----> 1\u001b[0m \u001b[43mHS\u001b[49m\u001b[38;5;241;43m.\u001b[39;49m\u001b[43mset_HS_optim_params\u001b[49m\u001b[43m(\u001b[49m\u001b[43m)\u001b[49m\n",
      "\n",
      "File \u001b[0;32m~/code/hashin_shtrikman_mp/hashin_sktrikman_class.py:336\u001b[0m, in \u001b[0;36mHashinShtrikman.set_HS_optim_params\u001b[0;34m(self)\u001b[0m\n",
      "\u001b[1;32m    334\u001b[0m \u001b[38;5;28mprint\u001b[39m(\u001b[38;5;124mf\u001b[39m\u001b[38;5;124m\"\u001b[39m\u001b[38;5;124mlower bounds: \u001b[39m\u001b[38;5;132;01m{\u001b[39;00mlower_bounds\u001b[38;5;132;01m}\u001b[39;00m\u001b[38;5;124m\"\u001b[39m)\n",
      "\u001b[1;32m    335\u001b[0m \u001b[38;5;28mprint\u001b[39m(\u001b[38;5;124mf\u001b[39m\u001b[38;5;124m\"\u001b[39m\u001b[38;5;124mupper bounds: \u001b[39m\u001b[38;5;132;01m{\u001b[39;00mupper_bounds\u001b[38;5;132;01m}\u001b[39;00m\u001b[38;5;124m\"\u001b[39m)\n",
      "\u001b[0;32m--> 336\u001b[0m \u001b[43mLambda\u001b[49m\u001b[38;5;241;43m.\u001b[39;49m\u001b[43mset_initial_random\u001b[49m\u001b[43m(\u001b[49m\u001b[43mlower_bounds\u001b[49m\u001b[43m,\u001b[49m\u001b[43m \u001b[49m\u001b[43mupper_bounds\u001b[49m\u001b[43m)\u001b[49m\n",
      "\u001b[1;32m    338\u001b[0m \u001b[38;5;66;03m# Calculate the costs of the first generation\u001b[39;00m\n",
      "\u001b[1;32m    339\u001b[0m Lambda\u001b[38;5;241m.\u001b[39mset_costs()\n",
      "\n",
      "File \u001b[0;32m~/code/hashin_shtrikman_mp/population_class.py:64\u001b[0m, in \u001b[0;36mPopulation.set_initial_random\u001b[0;34m(self, lower_bounds, upper_bounds)\u001b[0m\n",
      "\u001b[1;32m     62\u001b[0m \u001b[38;5;28mprint\u001b[39m(\u001b[38;5;124mf\u001b[39m\u001b[38;5;124m\"\u001b[39m\u001b[38;5;124mupper_bounds_for_loop: \u001b[39m\u001b[38;5;132;01m{\u001b[39;00mupper_bounds\u001b[38;5;132;01m}\u001b[39;00m\u001b[38;5;124m\"\u001b[39m)\n",
      "\u001b[1;32m     63\u001b[0m \u001b[38;5;28;01mfor\u001b[39;00m i \u001b[38;5;129;01min\u001b[39;00m \u001b[38;5;28mrange\u001b[39m (S):\n",
      "\u001b[0;32m---> 64\u001b[0m     \u001b[38;5;28mself\u001b[39m\u001b[38;5;241m.\u001b[39mvalues[i, :] \u001b[38;5;241m=\u001b[39m np\u001b[38;5;241m.\u001b[39mrandom\u001b[38;5;241m.\u001b[39muniform(lower_bounds, upper_bounds)\n",
      "\u001b[1;32m     65\u001b[0m \u001b[38;5;66;03m# self.values = Lambda\u001b[39;00m\n",
      "\u001b[1;32m     66\u001b[0m \u001b[38;5;28;01mreturn\u001b[39;00m \u001b[38;5;28mself\u001b[39m\n",
      "\n",
      "\u001b[0;31mValueError\u001b[0m: could not broadcast input array from shape (12,) into shape (2,)\n"
     ]
    }
   ],
   "source": [
    "HS.set_HS_optim_params()"
   ]
  },
  {
   "cell_type": "code",
   "execution_count": null,
   "metadata": {},
   "outputs": [],
   "source": []
  }
 ],
 "metadata": {
  "kernelspec": {
   "display_name": "carla_mp_api",
   "language": "python",
   "name": "python3"
  },
  "language_info": {
   "codemirror_mode": {
    "name": "ipython",
    "version": 3
   },
   "file_extension": ".py",
   "mimetype": "text/x-python",
   "name": "python",
   "nbconvert_exporter": "python",
   "pygments_lexer": "ipython3",
   "version": "3.9.18"
  }
 },
 "nbformat": 4,
 "nbformat_minor": 2
}
