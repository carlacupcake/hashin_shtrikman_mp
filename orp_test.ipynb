{
 "cells": [
  {
   "cell_type": "markdown",
   "metadata": {},
   "source": [
    "## Testing the Object Oriented Paradigm"
   ]
  },
  {
   "cell_type": "code",
   "execution_count": 1,
   "metadata": {},
   "outputs": [
    {
     "name": "stderr",
     "output_type": "stream",
     "text": [
      "/Users/HPSahasrabuddhe/opt/miniconda3/envs/carla_mp_api/lib/python3.9/site-packages/pandas/core/computation/expressions.py:21: UserWarning: Pandas requires version '2.8.4' or newer of 'numexpr' (version '2.8.3' currently installed).\n",
      "  from pandas.core.computation.check import NUMEXPR_INSTALLED\n",
      "/Users/HPSahasrabuddhe/opt/miniconda3/envs/carla_mp_api/lib/python3.9/site-packages/pandas/core/arrays/masked.py:60: UserWarning: Pandas requires version '1.3.6' or newer of 'bottleneck' (version '1.3.5' currently installed).\n",
      "  from pandas.core import (\n",
      "/Users/HPSahasrabuddhe/opt/miniconda3/lib/python3.9/site-packages/mpcontribs/client/__init__.py:88: FutureWarning: use_inf_as_na option is deprecated and will be removed in a future version. Convert inf values to NaN before operating instead.\n",
      "  pd.set_option('mode.use_inf_as_na', True)\n"
     ]
    }
   ],
   "source": [
    "from ga_params_class import GAParams\n",
    "from hashin_sktrikman_class import HashinShtrikman\n",
    "from population_class import Population\n",
    "from genetic_string_class import GeneticString"
   ]
  },
  {
   "cell_type": "code",
   "execution_count": 2,
   "metadata": {},
   "outputs": [],
   "source": [
    "# HS = HashinShtrikman(property_docs=[\"carrier-transport\", \"elastic\"],\n",
    "#                      api_key=\"uJpFxJJGKCSp9s1shwg9HmDuNjCDfWbM\",\n",
    "#                      mp_contribs_project=\"carrier_transport\")\n",
    "\n",
    "HS = HashinShtrikman()\n",
    "\n",
    "# HS = HashinShtrikman(property_docs=[\"carrier-transport\", \"dielectric\", \"elastic\", \"magnetic\", \"piezoelectric\"],\n",
    "#                      api_key=\"uJpFxJJGKCSp9s1shwg9HmDuNjCDfWbM\",\n",
    "#                      mp_contribs_project=\"carrier_transport\")"
   ]
  },
  {
   "cell_type": "code",
   "execution_count": null,
   "metadata": {},
   "outputs": [],
   "source": [
    "consolidated_dict = HS.generate_final_dict(total_docs=50)"
   ]
  },
  {
   "cell_type": "code",
   "execution_count": 3,
   "metadata": {},
   "outputs": [
    {
     "name": "stdout",
     "output_type": "stream",
     "text": [
      "lower bounds: [0, 0, 0, 0, 0, 0, 0, 0, 0, 0, 0, 0, 0, 0, 0, 0, 0, 0, 0, 0, 0, 0, 0, 0, 0, 0]\n",
      "upper bounds: [inf, inf, inf, inf, inf, inf, inf, inf, inf, inf, inf, inf, inf, inf, inf, inf, inf, inf, inf, inf, inf, inf, inf, inf, 1, 1]\n",
      "S = 200\n",
      "upper_bounds_for_loop: [1000000000.0, 1000000000.0, 1000000000.0, 1000000000.0, 1000000000.0, 1000000000.0, 1000000000.0, 1000000000.0, 1000000000.0, 1000000000.0, 1000000000.0, 1000000000.0, 1000000000.0, 1000000000.0, 1000000000.0, 1000000000.0, 1000000000.0, 1000000000.0, 1000000000.0, 1000000000.0, 1000000000.0, 1000000000.0, 1000000000.0, 1000000000.0, 1, 1]\n",
      "\u001b[0;31m---------------------------------------------------------------------------\u001b[0m\n",
      "\u001b[0;31mValueError\u001b[0m                                Traceback (most recent call last)\n",
      "Input \u001b[0;32mIn [3]\u001b[0m, in \u001b[0;36m<cell line: 1>\u001b[0;34m()\u001b[0m\n",
      "\u001b[0;32m----> 1\u001b[0m \u001b[43mHS\u001b[49m\u001b[38;5;241;43m.\u001b[39;49m\u001b[43mset_HS_optim_params\u001b[49m\u001b[43m(\u001b[49m\u001b[43m)\u001b[49m\n",
      "\n",
      "File \u001b[0;32m~/code/hashin_shtrikman_mp/hashin_sktrikman_class.py:531\u001b[0m, in \u001b[0;36mHashinShtrikman.set_HS_optim_params\u001b[0;34m(self)\u001b[0m\n",
      "\u001b[1;32m    528\u001b[0m Lambda\u001b[38;5;241m.\u001b[39mset_initial_random(lower_bounds, upper_bounds)\n",
      "\u001b[1;32m    530\u001b[0m \u001b[38;5;66;03m# Calculate the costs of the first generation\u001b[39;00m\n",
      "\u001b[0;32m--> 531\u001b[0m \u001b[43mLambda\u001b[49m\u001b[38;5;241;43m.\u001b[39;49m\u001b[43mset_costs\u001b[49m\u001b[43m(\u001b[49m\u001b[43m)\u001b[49m    \n",
      "\u001b[1;32m    532\u001b[0m \u001b[38;5;66;03m# Sort the costs of the first generation\u001b[39;00m\n",
      "\u001b[1;32m    533\u001b[0m [sorted_costs, ind] \u001b[38;5;241m=\u001b[39m Lambda\u001b[38;5;241m.\u001b[39msort_costs()  \n",
      "\n",
      "File \u001b[0;32m~/code/hashin_shtrikman_mp/population_class.py:79\u001b[0m, in \u001b[0;36mPopulation.set_costs\u001b[0;34m(self)\u001b[0m\n",
      "\u001b[1;32m     73\u001b[0m \u001b[38;5;28;01mfor\u001b[39;00m i \u001b[38;5;129;01min\u001b[39;00m \u001b[38;5;28mrange\u001b[39m (S):\n",
      "\u001b[1;32m     74\u001b[0m     this_genetic_string \u001b[38;5;241m=\u001b[39m GeneticString(dv\u001b[38;5;241m=\u001b[39m\u001b[38;5;28mself\u001b[39m\u001b[38;5;241m.\u001b[39mdv, \n",
      "\u001b[1;32m     75\u001b[0m                                         values\u001b[38;5;241m=\u001b[39mLambda[i, :], \n",
      "\u001b[1;32m     76\u001b[0m                                         material_properties\u001b[38;5;241m=\u001b[39m\u001b[38;5;28mself\u001b[39m\u001b[38;5;241m.\u001b[39mmaterial_properties, \n",
      "\u001b[1;32m     77\u001b[0m                                         desired_properties\u001b[38;5;241m=\u001b[39m\u001b[38;5;28mself\u001b[39m\u001b[38;5;241m.\u001b[39mdesired_properties, \n",
      "\u001b[1;32m     78\u001b[0m                                         ga_params\u001b[38;5;241m=\u001b[39m\u001b[38;5;28mself\u001b[39m\u001b[38;5;241m.\u001b[39mga_params)\n",
      "\u001b[0;32m---> 79\u001b[0m     costs[i] \u001b[38;5;241m=\u001b[39m \u001b[43mthis_genetic_string\u001b[49m\u001b[38;5;241;43m.\u001b[39;49m\u001b[43mget_cost\u001b[49m\u001b[43m(\u001b[49m\u001b[43m)\u001b[49m\n",
      "\u001b[1;32m     81\u001b[0m \u001b[38;5;28mself\u001b[39m\u001b[38;5;241m.\u001b[39mcosts \u001b[38;5;241m=\u001b[39m costs\n",
      "\u001b[1;32m     82\u001b[0m \u001b[38;5;28;01mreturn\u001b[39;00m \u001b[38;5;28mself\u001b[39m\n",
      "\n",
      "File \u001b[0;32m~/code/hashin_shtrikman_mp/genetic_string_class.py:295\u001b[0m, in \u001b[0;36mGeneticString.get_cost\u001b[0;34m(self)\u001b[0m\n",
      "\u001b[1;32m    293\u001b[0m des_props \u001b[38;5;241m=\u001b[39m des_props[des_props \u001b[38;5;241m!=\u001b[39m \u001b[38;5;241m0\u001b[39m]\n",
      "\u001b[1;32m    294\u001b[0m effective_properties \u001b[38;5;241m=\u001b[39m effective_properties[effective_properties \u001b[38;5;241m!=\u001b[39m \u001b[38;5;241m0\u001b[39m]\n",
      "\u001b[0;32m--> 295\u001b[0m cost \u001b[38;5;241m=\u001b[39m w1\u001b[38;5;241m*\u001b[39mW \u001b[38;5;241m*\u001b[39m np\u001b[38;5;241m.\u001b[39msum(\u001b[38;5;28mabs\u001b[39m(np\u001b[38;5;241m.\u001b[39mdivide(\u001b[43mdes_props\u001b[49m\u001b[43m \u001b[49m\u001b[38;5;241;43m-\u001b[39;49m\u001b[43m \u001b[49m\u001b[43meffective_properties\u001b[49m, effective_properties))) \u001b[38;5;241m+\u001b[39m np\u001b[38;5;241m.\u001b[39msum(np\u001b[38;5;241m.\u001b[39mmultiply(weights, \u001b[38;5;28mabs\u001b[39m(np\u001b[38;5;241m.\u001b[39mdivide(concentration_factors \u001b[38;5;241m-\u001b[39m TOL, TOL))))\n",
      "\u001b[1;32m    296\u001b[0m \u001b[38;5;66;03m#logger.info(f\"checkpoint cost: {cost}\")\u001b[39;00m\n",
      "\u001b[1;32m    297\u001b[0m \u001b[38;5;28;01mreturn\u001b[39;00m cost\n",
      "\n",
      "\u001b[0;31mValueError\u001b[0m: operands could not be broadcast together with shapes (0,) (5,) \n"
     ]
    }
   ],
   "source": [
    "HS.set_HS_optim_params()"
   ]
  },
  {
   "cell_type": "code",
   "execution_count": null,
   "metadata": {},
   "outputs": [],
   "source": [
    "HS.print_table_of_best_designs()"
   ]
  },
  {
   "cell_type": "code",
   "execution_count": null,
   "metadata": {},
   "outputs": [],
   "source": [
    "HS.plot_optimization_results()"
   ]
  },
  {
   "cell_type": "code",
   "execution_count": null,
   "metadata": {},
   "outputs": [],
   "source": [
    "HS.get_material_matches()"
   ]
  },
  {
   "cell_type": "code",
   "execution_count": null,
   "metadata": {},
   "outputs": [],
   "source": []
  }
 ],
 "metadata": {
  "kernelspec": {
   "display_name": "carla_mp_api",
   "language": "python",
   "name": "python3"
  },
  "language_info": {
   "codemirror_mode": {
    "name": "ipython",
    "version": 3
   },
   "file_extension": ".py",
   "mimetype": "text/x-python",
   "name": "python",
   "nbconvert_exporter": "python",
   "pygments_lexer": "ipython3",
   "version": "3.9.7"
  }
 },
 "nbformat": 4,
 "nbformat_minor": 2
}
