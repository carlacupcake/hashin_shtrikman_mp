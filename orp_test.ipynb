{
 "cells": [
  {
   "cell_type": "markdown",
   "metadata": {},
   "source": [
    "## Testing the Object Oriented Paradigm"
   ]
  },
  {
   "cell_type": "code",
   "execution_count": 1,
   "metadata": {},
   "outputs": [],
   "source": [
    "from ga_params_class import GAParams\n",
    "from hashin_sktrikman_class import HashinShtrikman\n",
    "from population_class import Population\n",
    "from genetic_string_class import GeneticString"
   ]
  },
  {
   "cell_type": "code",
   "execution_count": 2,
   "metadata": {},
   "outputs": [],
   "source": [
    "HS = HashinShtrikman(property_docs=[\"carrier-transport\", \"elastic\"],\n",
    "                      api_key=\"uJpFxJJGKCSp9s1shwg9HmDuNjCDfWbM\",\n",
    "                      mp_contribs_project=\"carrier_transport\")\n",
    "\n",
    "#HS = HashinShtrikman()\n",
    "\n",
    "# HS = HashinShtrikman(property_docs=[\"carrier-transport\", \"dielectric\", \"elastic\", \"magnetic\", \"piezoelectric\"],\n",
    "#                      api_key=\"uJpFxJJGKCSp9s1shwg9HmDuNjCDfWbM\",\n",
    "#                      mp_contribs_project=\"carrier_transport\")"
   ]
  },
  {
   "cell_type": "code",
   "execution_count": 3,
   "metadata": {},
   "outputs": [
    {
     "name": "stderr",
     "output_type": "stream",
     "text": [
      "2024-01-28 21:29:33,491 - hs_logger - INFO - self.fields: {'material_id': [], 'is_stable': [], 'band_gap': [], 'is_metal': [], 'formula': [], 'mp-ids-contrib': [], 'elec_cond_300K_low_doping': [], 'therm_cond_300K_low_doping': [], 'bulk_modulus': [], 'shear_modulus': [], 'universal_anisotropy': []}\n"
     ]
    },
    {
     "data": {
      "application/vnd.jupyter.widget-view+json": {
       "model_id": "818e20187e3043c0bb355ce852ba51fd",
       "version_major": 2,
       "version_minor": 0
      },
      "text/plain": [
       "Retrieving SummaryDoc documents:   0%|          | 0/153235 [00:00<?, ?it/s]"
      ]
     },
     "metadata": {},
     "output_type": "display_data"
    },
    {
     "name": "stdout",
     "output_type": "stream",
     "text": [
      "\u001b[0;31m---------------------------------------------------------------------------\u001b[0m\n",
      "\u001b[0;31mKeyboardInterrupt\u001b[0m                         Traceback (most recent call last)\n",
      "Cell \u001b[0;32mIn[3], line 1\u001b[0m\n",
      "\u001b[0;32m----> 1\u001b[0m consolidated_dict \u001b[38;5;241m=\u001b[39m \u001b[43mHS\u001b[49m\u001b[38;5;241;43m.\u001b[39;49m\u001b[43mgenerate_final_dict\u001b[49m\u001b[43m(\u001b[49m\u001b[43mtotal_docs\u001b[49m\u001b[38;5;241;43m=\u001b[39;49m\u001b[38;5;241;43m50\u001b[39;49m\u001b[43m)\u001b[49m\n",
      "\n",
      "File \u001b[0;32m~/Desktop/UC Berkeley/Research/Materials Project/hashin_shtrikman_mp/hashin_sktrikman_class.py:1023\u001b[0m, in \u001b[0;36mHashinShtrikman.generate_final_dict\u001b[0;34m(self, total_docs)\u001b[0m\n",
      "\u001b[1;32m   1019\u001b[0m logger\u001b[38;5;241m.\u001b[39minfo(\u001b[38;5;124mf\u001b[39m\u001b[38;5;124m\"\u001b[39m\u001b[38;5;124mself.fields: \u001b[39m\u001b[38;5;132;01m{\u001b[39;00m\u001b[38;5;28mself\u001b[39m\u001b[38;5;241m.\u001b[39mfields\u001b[38;5;132;01m}\u001b[39;00m\u001b[38;5;124m\"\u001b[39m)\n",
      "\u001b[1;32m   1021\u001b[0m \u001b[38;5;28;01mwith\u001b[39;00m MPRester(\u001b[38;5;28mself\u001b[39m\u001b[38;5;241m.\u001b[39mapi_key) \u001b[38;5;28;01mas\u001b[39;00m mpr:\n",
      "\u001b[0;32m-> 1023\u001b[0m     docs \u001b[38;5;241m=\u001b[39m \u001b[43mmpr\u001b[49m\u001b[38;5;241;43m.\u001b[39;49m\u001b[43mmaterials\u001b[49m\u001b[38;5;241;43m.\u001b[39;49m\u001b[43msummary\u001b[49m\u001b[38;5;241;43m.\u001b[39;49m\u001b[43msearch\u001b[49m\u001b[43m(\u001b[49m\u001b[43mfields\u001b[49m\u001b[38;5;241;43m=\u001b[39;49m\u001b[38;5;28;43mself\u001b[39;49m\u001b[38;5;241;43m.\u001b[39;49m\u001b[43mfields\u001b[49m\u001b[43m)\u001b[49m\n",
      "\u001b[1;32m   1024\u001b[0m     \u001b[38;5;28;01mfrom\u001b[39;00m \u001b[38;5;21;01mmpi4py\u001b[39;00m \u001b[38;5;28;01mimport\u001b[39;00m MPI\n",
      "\u001b[1;32m   1026\u001b[0m     comm \u001b[38;5;241m=\u001b[39m MPI\u001b[38;5;241m.\u001b[39mCOMM_WORLD\n",
      "\n",
      "File \u001b[0;32m~/opt/anaconda3/envs/carla_mp_api/lib/python3.9/site-packages/mp_api/client/routes/materials/summary.py:276\u001b[0m, in \u001b[0;36mSummaryRester.search\u001b[0;34m(self, band_gap, chemsys, crystal_system, density, deprecated, e_electronic, e_ionic, e_total, efermi, elastic_anisotropy, elements, energy_above_hull, equilibrium_reaction_energy, exclude_elements, formation_energy, formula, g_reuss, g_voigt, g_vrh, has_props, has_reconstructed, is_gap_direct, is_metal, is_stable, k_reuss, k_voigt, k_vrh, magnetic_ordering, material_ids, n, num_elements, num_sites, num_magnetic_sites, num_unique_magnetic_sites, piezoelectric_modulus, poisson_ratio, possible_species, shape_factor, spacegroup_number, spacegroup_symbol, surface_energy_anisotropy, theoretical, total_energy, total_magnetization, total_magnetization_normalized_formula_units, total_magnetization_normalized_vol, uncorrected_energy, volume, weighted_surface_energy, weighted_work_function, num_chunks, chunk_size, all_fields, fields)\u001b[0m\n",
      "\u001b[1;32m    268\u001b[0m     query_params\u001b[38;5;241m.\u001b[39mupdate({\u001b[38;5;124m\"\u001b[39m\u001b[38;5;124mtheoretical\u001b[39m\u001b[38;5;124m\"\u001b[39m: theoretical})\n",
      "\u001b[1;32m    270\u001b[0m query_params \u001b[38;5;241m=\u001b[39m {\n",
      "\u001b[1;32m    271\u001b[0m     entry: query_params[entry]\n",
      "\u001b[1;32m    272\u001b[0m     \u001b[38;5;28;01mfor\u001b[39;00m entry \u001b[38;5;129;01min\u001b[39;00m query_params\n",
      "\u001b[1;32m    273\u001b[0m     \u001b[38;5;28;01mif\u001b[39;00m query_params[entry] \u001b[38;5;129;01mis\u001b[39;00m \u001b[38;5;129;01mnot\u001b[39;00m \u001b[38;5;28;01mNone\u001b[39;00m\n",
      "\u001b[1;32m    274\u001b[0m }\n",
      "\u001b[0;32m--> 276\u001b[0m \u001b[38;5;28;01mreturn\u001b[39;00m \u001b[38;5;28;43msuper\u001b[39;49m\u001b[43m(\u001b[49m\u001b[43m)\u001b[49m\u001b[38;5;241;43m.\u001b[39;49m\u001b[43m_search\u001b[49m\u001b[43m(\u001b[49m\n",
      "\u001b[1;32m    277\u001b[0m \u001b[43m    \u001b[49m\u001b[43mnum_chunks\u001b[49m\u001b[38;5;241;43m=\u001b[39;49m\u001b[43mnum_chunks\u001b[49m\u001b[43m,\u001b[49m\n",
      "\u001b[1;32m    278\u001b[0m \u001b[43m    \u001b[49m\u001b[43mchunk_size\u001b[49m\u001b[38;5;241;43m=\u001b[39;49m\u001b[43mchunk_size\u001b[49m\u001b[43m,\u001b[49m\n",
      "\u001b[1;32m    279\u001b[0m \u001b[43m    \u001b[49m\u001b[43mall_fields\u001b[49m\u001b[38;5;241;43m=\u001b[39;49m\u001b[43mall_fields\u001b[49m\u001b[43m,\u001b[49m\n",
      "\u001b[1;32m    280\u001b[0m \u001b[43m    \u001b[49m\u001b[43mfields\u001b[49m\u001b[38;5;241;43m=\u001b[39;49m\u001b[43mfields\u001b[49m\u001b[43m,\u001b[49m\n",
      "\u001b[1;32m    281\u001b[0m \u001b[43m    \u001b[49m\u001b[38;5;241;43m*\u001b[39;49m\u001b[38;5;241;43m*\u001b[39;49m\u001b[43mquery_params\u001b[49m\u001b[43m,\u001b[49m\n",
      "\u001b[1;32m    282\u001b[0m \u001b[43m\u001b[49m\u001b[43m)\u001b[49m\n",
      "\n",
      "File \u001b[0;32m~/opt/anaconda3/envs/carla_mp_api/lib/python3.9/site-packages/mp_api/client/core/client.py:1072\u001b[0m, in \u001b[0;36mBaseRester._search\u001b[0;34m(self, num_chunks, chunk_size, all_fields, fields, **kwargs)\u001b[0m\n",
      "\u001b[1;32m   1050\u001b[0m \u001b[38;5;250m\u001b[39m\u001b[38;5;124;03m\"\"\"A generic search method to retrieve documents matching specific parameters.\u001b[39;00m\n",
      "\u001b[1;32m   1051\u001b[0m \n",
      "\u001b[1;32m   1052\u001b[0m \u001b[38;5;124;03mArguments:\u001b[39;00m\n",
      "\u001b[0;32m   (...)\u001b[0m\n",
      "\u001b[1;32m   1067\u001b[0m \u001b[38;5;124;03m    A list of documents.\u001b[39;00m\n",
      "\u001b[1;32m   1068\u001b[0m \u001b[38;5;124;03m\"\"\"\u001b[39;00m\n",
      "\u001b[1;32m   1069\u001b[0m \u001b[38;5;66;03m# This method should be customized for each end point to give more user friendly,\u001b[39;00m\n",
      "\u001b[1;32m   1070\u001b[0m \u001b[38;5;66;03m# documented kwargs.\u001b[39;00m\n",
      "\u001b[0;32m-> 1072\u001b[0m \u001b[38;5;28;01mreturn\u001b[39;00m \u001b[38;5;28;43mself\u001b[39;49m\u001b[38;5;241;43m.\u001b[39;49m\u001b[43m_get_all_documents\u001b[49m\u001b[43m(\u001b[49m\n",
      "\u001b[1;32m   1073\u001b[0m \u001b[43m    \u001b[49m\u001b[43mkwargs\u001b[49m\u001b[43m,\u001b[49m\n",
      "\u001b[1;32m   1074\u001b[0m \u001b[43m    \u001b[49m\u001b[43mall_fields\u001b[49m\u001b[38;5;241;43m=\u001b[39;49m\u001b[43mall_fields\u001b[49m\u001b[43m,\u001b[49m\n",
      "\u001b[1;32m   1075\u001b[0m \u001b[43m    \u001b[49m\u001b[43mfields\u001b[49m\u001b[38;5;241;43m=\u001b[39;49m\u001b[43mfields\u001b[49m\u001b[43m,\u001b[49m\n",
      "\u001b[1;32m   1076\u001b[0m \u001b[43m    \u001b[49m\u001b[43mchunk_size\u001b[49m\u001b[38;5;241;43m=\u001b[39;49m\u001b[43mchunk_size\u001b[49m\u001b[43m,\u001b[49m\n",
      "\u001b[1;32m   1077\u001b[0m \u001b[43m    \u001b[49m\u001b[43mnum_chunks\u001b[49m\u001b[38;5;241;43m=\u001b[39;49m\u001b[43mnum_chunks\u001b[49m\u001b[43m,\u001b[49m\n",
      "\u001b[1;32m   1078\u001b[0m \u001b[43m\u001b[49m\u001b[43m)\u001b[49m\n",
      "\n",
      "File \u001b[0;32m~/opt/anaconda3/envs/carla_mp_api/lib/python3.9/site-packages/mp_api/client/core/client.py:1119\u001b[0m, in \u001b[0;36mBaseRester._get_all_documents\u001b[0;34m(self, query_params, all_fields, fields, chunk_size, num_chunks)\u001b[0m\n",
      "\u001b[1;32m   1105\u001b[0m list_entries \u001b[38;5;241m=\u001b[39m \u001b[38;5;28msorted\u001b[39m(\n",
      "\u001b[1;32m   1106\u001b[0m     (\n",
      "\u001b[1;32m   1107\u001b[0m         (key, \u001b[38;5;28mlen\u001b[39m(entry\u001b[38;5;241m.\u001b[39msplit(\u001b[38;5;124m\"\u001b[39m\u001b[38;5;124m,\u001b[39m\u001b[38;5;124m\"\u001b[39m)))\n",
      "\u001b[0;32m   (...)\u001b[0m\n",
      "\u001b[1;32m   1114\u001b[0m     reverse\u001b[38;5;241m=\u001b[39m\u001b[38;5;28;01mTrue\u001b[39;00m,\n",
      "\u001b[1;32m   1115\u001b[0m )\n",
      "\u001b[1;32m   1117\u001b[0m chosen_param \u001b[38;5;241m=\u001b[39m list_entries[\u001b[38;5;241m0\u001b[39m][\u001b[38;5;241m0\u001b[39m] \u001b[38;5;28;01mif\u001b[39;00m \u001b[38;5;28mlen\u001b[39m(list_entries) \u001b[38;5;241m>\u001b[39m \u001b[38;5;241m0\u001b[39m \u001b[38;5;28;01melse\u001b[39;00m \u001b[38;5;28;01mNone\u001b[39;00m\n",
      "\u001b[0;32m-> 1119\u001b[0m results \u001b[38;5;241m=\u001b[39m \u001b[38;5;28;43mself\u001b[39;49m\u001b[38;5;241;43m.\u001b[39;49m\u001b[43m_query_resource\u001b[49m\u001b[43m(\u001b[49m\n",
      "\u001b[1;32m   1120\u001b[0m \u001b[43m    \u001b[49m\u001b[43mquery_params\u001b[49m\u001b[43m,\u001b[49m\n",
      "\u001b[1;32m   1121\u001b[0m \u001b[43m    \u001b[49m\u001b[43mfields\u001b[49m\u001b[38;5;241;43m=\u001b[39;49m\u001b[43mfields\u001b[49m\u001b[43m,\u001b[49m\n",
      "\u001b[1;32m   1122\u001b[0m \u001b[43m    \u001b[49m\u001b[43mparallel_param\u001b[49m\u001b[38;5;241;43m=\u001b[39;49m\u001b[43mchosen_param\u001b[49m\u001b[43m,\u001b[49m\n",
      "\u001b[1;32m   1123\u001b[0m \u001b[43m    \u001b[49m\u001b[43mchunk_size\u001b[49m\u001b[38;5;241;43m=\u001b[39;49m\u001b[43mchunk_size\u001b[49m\u001b[43m,\u001b[49m\n",
      "\u001b[1;32m   1124\u001b[0m \u001b[43m    \u001b[49m\u001b[43mnum_chunks\u001b[49m\u001b[38;5;241;43m=\u001b[39;49m\u001b[43mnum_chunks\u001b[49m\u001b[43m,\u001b[49m\n",
      "\u001b[1;32m   1125\u001b[0m \u001b[43m\u001b[49m\u001b[43m)\u001b[49m\n",
      "\u001b[1;32m   1127\u001b[0m \u001b[38;5;28;01mreturn\u001b[39;00m results[\u001b[38;5;124m\"\u001b[39m\u001b[38;5;124mdata\u001b[39m\u001b[38;5;124m\"\u001b[39m]\n",
      "\n",
      "File \u001b[0;32m~/opt/anaconda3/envs/carla_mp_api/lib/python3.9/site-packages/mp_api/client/core/client.py:411\u001b[0m, in \u001b[0;36mBaseRester._query_resource\u001b[0;34m(self, criteria, fields, suburl, use_document_model, parallel_param, num_chunks, chunk_size, timeout)\u001b[0m\n",
      "\u001b[1;32m    408\u001b[0m         \u001b[38;5;28;01mif\u001b[39;00m \u001b[38;5;129;01mnot\u001b[39;00m url\u001b[38;5;241m.\u001b[39mendswith(\u001b[38;5;124m\"\u001b[39m\u001b[38;5;124m/\u001b[39m\u001b[38;5;124m\"\u001b[39m):\n",
      "\u001b[1;32m    409\u001b[0m             url \u001b[38;5;241m+\u001b[39m\u001b[38;5;241m=\u001b[39m \u001b[38;5;124m\"\u001b[39m\u001b[38;5;124m/\u001b[39m\u001b[38;5;124m\"\u001b[39m\n",
      "\u001b[0;32m--> 411\u001b[0m     data \u001b[38;5;241m=\u001b[39m \u001b[38;5;28;43mself\u001b[39;49m\u001b[38;5;241;43m.\u001b[39;49m\u001b[43m_submit_requests\u001b[49m\u001b[43m(\u001b[49m\n",
      "\u001b[1;32m    412\u001b[0m \u001b[43m        \u001b[49m\u001b[43murl\u001b[49m\u001b[38;5;241;43m=\u001b[39;49m\u001b[43murl\u001b[49m\u001b[43m,\u001b[49m\n",
      "\u001b[1;32m    413\u001b[0m \u001b[43m        \u001b[49m\u001b[43mcriteria\u001b[49m\u001b[38;5;241;43m=\u001b[39;49m\u001b[43mcriteria\u001b[49m\u001b[43m,\u001b[49m\n",
      "\u001b[1;32m    414\u001b[0m \u001b[43m        \u001b[49m\u001b[43muse_document_model\u001b[49m\u001b[38;5;241;43m=\u001b[39;49m\u001b[43muse_document_model\u001b[49m\u001b[43m,\u001b[49m\n",
      "\u001b[1;32m    415\u001b[0m \u001b[43m        \u001b[49m\u001b[43mparallel_param\u001b[49m\u001b[38;5;241;43m=\u001b[39;49m\u001b[43mparallel_param\u001b[49m\u001b[43m,\u001b[49m\n",
      "\u001b[1;32m    416\u001b[0m \u001b[43m        \u001b[49m\u001b[43mnum_chunks\u001b[49m\u001b[38;5;241;43m=\u001b[39;49m\u001b[43mnum_chunks\u001b[49m\u001b[43m,\u001b[49m\n",
      "\u001b[1;32m    417\u001b[0m \u001b[43m        \u001b[49m\u001b[43mchunk_size\u001b[49m\u001b[38;5;241;43m=\u001b[39;49m\u001b[43mchunk_size\u001b[49m\u001b[43m,\u001b[49m\n",
      "\u001b[1;32m    418\u001b[0m \u001b[43m        \u001b[49m\u001b[43mtimeout\u001b[49m\u001b[38;5;241;43m=\u001b[39;49m\u001b[43mtimeout\u001b[49m\u001b[43m,\u001b[49m\n",
      "\u001b[1;32m    419\u001b[0m \u001b[43m    \u001b[49m\u001b[43m)\u001b[49m\n",
      "\u001b[1;32m    421\u001b[0m     \u001b[38;5;28;01mreturn\u001b[39;00m data\n",
      "\u001b[1;32m    423\u001b[0m \u001b[38;5;28;01mexcept\u001b[39;00m RequestException \u001b[38;5;28;01mas\u001b[39;00m ex:\n",
      "\n",
      "File \u001b[0;32m~/opt/anaconda3/envs/carla_mp_api/lib/python3.9/site-packages/mp_api/client/core/client.py:702\u001b[0m, in \u001b[0;36mBaseRester._submit_requests\u001b[0;34m(self, url, criteria, use_document_model, parallel_param, num_chunks, chunk_size, timeout)\u001b[0m\n",
      "\u001b[1;32m    699\u001b[0m         remaining \u001b[38;5;241m-\u001b[39m\u001b[38;5;241m=\u001b[39m crit[\u001b[38;5;124m\"\u001b[39m\u001b[38;5;124m_limit\u001b[39m\u001b[38;5;124m\"\u001b[39m]\n",
      "\u001b[1;32m    701\u001b[0m \u001b[38;5;66;03m# Submit requests and process data\u001b[39;00m\n",
      "\u001b[0;32m--> 702\u001b[0m data_tuples \u001b[38;5;241m=\u001b[39m \u001b[38;5;28;43mself\u001b[39;49m\u001b[38;5;241;43m.\u001b[39;49m\u001b[43m_multi_thread\u001b[49m\u001b[43m(\u001b[49m\u001b[43muse_document_model\u001b[49m\u001b[43m,\u001b[49m\u001b[43m \u001b[49m\u001b[43mparams_list\u001b[49m\u001b[43m,\u001b[49m\u001b[43m \u001b[49m\u001b[43mpbar\u001b[49m\u001b[43m,\u001b[49m\u001b[43m \u001b[49m\u001b[43mtimeout\u001b[49m\u001b[43m)\u001b[49m\n",
      "\u001b[1;32m    704\u001b[0m \u001b[38;5;28;01mfor\u001b[39;00m data, _, _ \u001b[38;5;129;01min\u001b[39;00m data_tuples:\n",
      "\u001b[1;32m    705\u001b[0m     total_data[\u001b[38;5;124m\"\u001b[39m\u001b[38;5;124mdata\u001b[39m\u001b[38;5;124m\"\u001b[39m]\u001b[38;5;241m.\u001b[39mextend(data[\u001b[38;5;124m\"\u001b[39m\u001b[38;5;124mdata\u001b[39m\u001b[38;5;124m\"\u001b[39m])\n",
      "\n",
      "File \u001b[0;32m~/opt/anaconda3/envs/carla_mp_api/lib/python3.9/site-packages/mp_api/client/core/client.py:763\u001b[0m, in \u001b[0;36mBaseRester._multi_thread\u001b[0;34m(self, use_document_model, params_list, progress_bar, timeout)\u001b[0m\n",
      "\u001b[1;32m    759\u001b[0m     params_ind \u001b[38;5;241m+\u001b[39m\u001b[38;5;241m=\u001b[39m \u001b[38;5;241m1\u001b[39m\n",
      "\u001b[1;32m    761\u001b[0m \u001b[38;5;28;01mwhile\u001b[39;00m futures:\n",
      "\u001b[1;32m    762\u001b[0m     \u001b[38;5;66;03m# Wait for at least one future to complete and process finished\u001b[39;00m\n",
      "\u001b[0;32m--> 763\u001b[0m     finished, futures \u001b[38;5;241m=\u001b[39m \u001b[43mwait\u001b[49m\u001b[43m(\u001b[49m\u001b[43mfutures\u001b[49m\u001b[43m,\u001b[49m\u001b[43m \u001b[49m\u001b[43mreturn_when\u001b[49m\u001b[38;5;241;43m=\u001b[39;49m\u001b[43mFIRST_COMPLETED\u001b[49m\u001b[43m)\u001b[49m\n",
      "\u001b[1;32m    765\u001b[0m     \u001b[38;5;28;01mfor\u001b[39;00m future \u001b[38;5;129;01min\u001b[39;00m finished:\n",
      "\u001b[1;32m    766\u001b[0m         data, subtotal \u001b[38;5;241m=\u001b[39m future\u001b[38;5;241m.\u001b[39mresult()\n",
      "\n",
      "File \u001b[0;32m~/opt/anaconda3/envs/carla_mp_api/lib/python3.9/concurrent/futures/_base.py:307\u001b[0m, in \u001b[0;36mwait\u001b[0;34m(fs, timeout, return_when)\u001b[0m\n",
      "\u001b[1;32m    303\u001b[0m         \u001b[38;5;28;01mreturn\u001b[39;00m DoneAndNotDoneFutures(done, not_done)\n",
      "\u001b[1;32m    305\u001b[0m     waiter \u001b[38;5;241m=\u001b[39m _create_and_install_waiters(fs, return_when)\n",
      "\u001b[0;32m--> 307\u001b[0m \u001b[43mwaiter\u001b[49m\u001b[38;5;241;43m.\u001b[39;49m\u001b[43mevent\u001b[49m\u001b[38;5;241;43m.\u001b[39;49m\u001b[43mwait\u001b[49m\u001b[43m(\u001b[49m\u001b[43mtimeout\u001b[49m\u001b[43m)\u001b[49m\n",
      "\u001b[1;32m    308\u001b[0m \u001b[38;5;28;01mfor\u001b[39;00m f \u001b[38;5;129;01min\u001b[39;00m fs:\n",
      "\u001b[1;32m    309\u001b[0m     \u001b[38;5;28;01mwith\u001b[39;00m f\u001b[38;5;241m.\u001b[39m_condition:\n",
      "\n",
      "File \u001b[0;32m~/opt/anaconda3/envs/carla_mp_api/lib/python3.9/threading.py:581\u001b[0m, in \u001b[0;36mEvent.wait\u001b[0;34m(self, timeout)\u001b[0m\n",
      "\u001b[1;32m    579\u001b[0m signaled \u001b[38;5;241m=\u001b[39m \u001b[38;5;28mself\u001b[39m\u001b[38;5;241m.\u001b[39m_flag\n",
      "\u001b[1;32m    580\u001b[0m \u001b[38;5;28;01mif\u001b[39;00m \u001b[38;5;129;01mnot\u001b[39;00m signaled:\n",
      "\u001b[0;32m--> 581\u001b[0m     signaled \u001b[38;5;241m=\u001b[39m \u001b[38;5;28;43mself\u001b[39;49m\u001b[38;5;241;43m.\u001b[39;49m\u001b[43m_cond\u001b[49m\u001b[38;5;241;43m.\u001b[39;49m\u001b[43mwait\u001b[49m\u001b[43m(\u001b[49m\u001b[43mtimeout\u001b[49m\u001b[43m)\u001b[49m\n",
      "\u001b[1;32m    582\u001b[0m \u001b[38;5;28;01mreturn\u001b[39;00m signaled\n",
      "\n",
      "File \u001b[0;32m~/opt/anaconda3/envs/carla_mp_api/lib/python3.9/threading.py:312\u001b[0m, in \u001b[0;36mCondition.wait\u001b[0;34m(self, timeout)\u001b[0m\n",
      "\u001b[1;32m    310\u001b[0m \u001b[38;5;28;01mtry\u001b[39;00m:    \u001b[38;5;66;03m# restore state no matter what (e.g., KeyboardInterrupt)\u001b[39;00m\n",
      "\u001b[1;32m    311\u001b[0m     \u001b[38;5;28;01mif\u001b[39;00m timeout \u001b[38;5;129;01mis\u001b[39;00m \u001b[38;5;28;01mNone\u001b[39;00m:\n",
      "\u001b[0;32m--> 312\u001b[0m         \u001b[43mwaiter\u001b[49m\u001b[38;5;241;43m.\u001b[39;49m\u001b[43macquire\u001b[49m\u001b[43m(\u001b[49m\u001b[43m)\u001b[49m\n",
      "\u001b[1;32m    313\u001b[0m         gotit \u001b[38;5;241m=\u001b[39m \u001b[38;5;28;01mTrue\u001b[39;00m\n",
      "\u001b[1;32m    314\u001b[0m     \u001b[38;5;28;01melse\u001b[39;00m:\n",
      "\n",
      "\u001b[0;31mKeyboardInterrupt\u001b[0m: \n"
     ]
    }
   ],
   "source": [
    "consolidated_dict = HS.generate_final_dict(total_docs=50)"
   ]
  },
  {
   "cell_type": "code",
   "execution_count": null,
   "metadata": {},
   "outputs": [],
   "source": [
    "HS.set_HS_optim_params()"
   ]
  },
  {
   "cell_type": "code",
   "execution_count": null,
   "metadata": {},
   "outputs": [],
   "source": [
    "HS.print_table_of_best_designs()"
   ]
  },
  {
   "cell_type": "code",
   "execution_count": null,
   "metadata": {},
   "outputs": [],
   "source": [
    "HS.plot_optimization_results()"
   ]
  },
  {
   "cell_type": "code",
   "execution_count": null,
   "metadata": {},
   "outputs": [],
   "source": [
    "HS.get_material_matches()"
   ]
  },
  {
   "cell_type": "code",
   "execution_count": null,
   "metadata": {},
   "outputs": [],
   "source": []
  }
 ],
 "metadata": {
  "kernelspec": {
   "display_name": "carla_mp_api",
   "language": "python",
   "name": "python3"
  },
  "language_info": {
   "codemirror_mode": {
    "name": "ipython",
    "version": 3
   },
   "file_extension": ".py",
   "mimetype": "text/x-python",
   "name": "python",
   "nbconvert_exporter": "python",
   "pygments_lexer": "ipython3",
   "version": "3.9.18"
  }
 },
 "nbformat": 4,
 "nbformat_minor": 2
}
