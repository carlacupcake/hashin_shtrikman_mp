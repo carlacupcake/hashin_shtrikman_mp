{
 "cells": [
  {
   "cell_type": "markdown",
   "metadata": {},
   "source": [
    "## Testing how runtime scales with number of phases in the composite"
   ]
  },
  {
   "cell_type": "code",
   "execution_count": null,
   "metadata": {},
   "outputs": [],
   "source": [
    "# Import necessary packages\n",
    "import json\n",
    "import matplotlib.pyplot as plt\n",
    "import numpy as np\n",
    "import sys\n",
    "import time\n",
    "\n",
    "# Custom imports\n",
    "from hashin_shtrikman_mp.core.user_input import MaterialProperty, Material, MixtureProperty, Mixture, UserInput\n",
    "from hashin_shtrikman_mp.core.optimizer import Optimizer\n",
    "from hashin_shtrikman_mp.core.visualizer import Visualizer"
   ]
  },
  {
   "cell_type": "code",
   "execution_count": null,
   "metadata": {},
   "outputs": [],
   "source": [
    "# Testing without calls to generate final dict (faster)\n",
    "import json\n",
    "consolidated_dict = {}\n",
    "with open(\"test_consolidated_dict\") as f:\n",
    "    consolidated_dict = json.load(f)"
   ]
  },
  {
   "cell_type": "code",
   "execution_count": null,
   "metadata": {},
   "outputs": [],
   "source": [
    "# Define the number of trials\n",
    "num_trials = 10"
   ]
  },
  {
   "cell_type": "markdown",
   "metadata": {},
   "source": [
    "## 2 phase composite"
   ]
  },
  {
   "cell_type": "code",
   "execution_count": null,
   "metadata": {},
   "outputs": [],
   "source": [
    "# Example material matches for an n=2 phase compositie\n",
    "mat_1_ids = [\"mp-1509\", \"mp-546266\", \"mp-12863\", \"mp-16290\"]\n",
    "mat_2_ids = [\"mp-1509\", \"mp-546266\", \"mp-12863\", \"mp-16290\"]\n",
    "matches_dict = {'mat1': mat_1_ids, 'mat2': mat_2_ids}"
   ]
  },
  {
   "cell_type": "code",
   "execution_count": null,
   "metadata": {},
   "outputs": [],
   "source": [
    "# Need user input to create an HS instance\n",
    "# Use same bounds for all materials\n",
    "properties_mat_1 = [\n",
    "    MaterialProperty(prop='elec_cond_300k_low_doping', upper_bound=20, lower_bound=1),\n",
    "    MaterialProperty(prop='therm_cond_300k_low_doping', upper_bound=0.001, lower_bound=1e-5),\n",
    "    MaterialProperty(prop='bulk_modulus', upper_bound=400, lower_bound=50),\n",
    "    MaterialProperty(prop='shear_modulus', upper_bound=400, lower_bound=80),\n",
    "    MaterialProperty(prop='universal_anisotropy', upper_bound=3, lower_bound=0.5),\n",
    "]\n",
    "\n",
    "# Define properties for the mixture\n",
    "properties_mixture = [\n",
    "    MixtureProperty(prop='elec_cond_300k_low_doping', desired_prop=9),\n",
    "    MixtureProperty(prop='therm_cond_300k_low_doping', desired_prop=0.007),\n",
    "    MixtureProperty(prop='bulk_modulus', desired_prop=234),\n",
    "    MixtureProperty(prop='shear_modulus', desired_prop=150),\n",
    "    MixtureProperty(prop='universal_anisotropy', desired_prop=1.5),\n",
    "]\n",
    "\n",
    "# Create Material & Mixture instances\n",
    "mat_1 = Material(name='mat_1', properties=properties_mat_1)\n",
    "mat_2 = Material(name='mat_2', properties=properties_mat_1)\n",
    "mixture = Mixture(name='mixture', properties=properties_mixture)\n",
    "aggregate = [mat_1, mat_2, mixture]\n",
    "\n",
    "# Initialize UserInput instance with materials and mixtures\n",
    "user_input= UserInput(materials=[mat_1, mat_2], mixtures=[mixture])\n",
    "print(\"User Input: \", user_input)"
   ]
  },
  {
   "cell_type": "code",
   "execution_count": null,
   "metadata": {},
   "outputs": [],
   "source": [
    "# Create an HS instance for testing\n",
    "optimizer_2phase = Optimizer(api_key=\"uJpFxJJGKCSp9s1shwg9HmDuNjCDfWbM\", user_input=user_input)"
   ]
  },
  {
   "cell_type": "code",
   "execution_count": null,
   "metadata": {},
   "outputs": [],
   "source": [
    "# Perform Optimizaztion several times to observe variation\n",
    "runtimes_2phase_optimization = []\n",
    "for i in range(num_trials):\n",
    "    start = time.time()\n",
    "    optimizer_2phase.set_HS_optim_params(gen_counter=False)\n",
    "    end = time.time()\n",
    "    runtime = end - start\n",
    "    print(f'Trial {i}: {runtime} seconds')\n",
    "    runtimes_2phase_optimization.append(runtime)"
   ]
  },
  {
   "cell_type": "markdown",
   "metadata": {},
   "source": [
    "## 3 phase composite"
   ]
  },
  {
   "cell_type": "code",
   "execution_count": null,
   "metadata": {},
   "outputs": [],
   "source": [
    "# Example material matches for an n=3 phase compositie\n",
    "mat_3_ids = [\"mp-1509\", \"mp-546266\", \"mp-12863\", \"mp-16290\"]\n",
    "matches_dict = {'mat1': mat_1_ids, 'mat2': mat_2_ids, 'mat3': mat_3_ids}"
   ]
  },
  {
   "cell_type": "code",
   "execution_count": null,
   "metadata": {},
   "outputs": [],
   "source": [
    "# Need user input to create an HS instance\n",
    "# Use same bounds for all materials\n",
    "\n",
    "# Create Material & Mixture instances\n",
    "mat_3 = Material(name='mat_3', properties=properties_mat_1)\n",
    "mixture = Mixture(name='mixture', properties=properties_mixture)\n",
    "aggregate = [mat_1, mat_2, mat_3, mixture]\n",
    "\n",
    "# Initialize UserInput instance with materials and mixtures\n",
    "user_input= UserInput(materials=[mat_1, mat_2, mat_3], mixtures=[mixture])\n",
    "print(\"User Input: \", user_input)"
   ]
  },
  {
   "cell_type": "code",
   "execution_count": null,
   "metadata": {},
   "outputs": [],
   "source": [
    "# Create an HS instance for testing\n",
    "optimizer_3phase = Optimizer(api_key=\"uJpFxJJGKCSp9s1shwg9HmDuNjCDfWbM\", user_input=user_input)"
   ]
  },
  {
   "cell_type": "code",
   "execution_count": null,
   "metadata": {},
   "outputs": [],
   "source": [
    "# Perform Optimizaztion several times to observe variation\n",
    "runtimes_3phase_optimization = []\n",
    "for i in range(num_trials):\n",
    "    start = time.time()\n",
    "    optimizer_3phase.set_HS_optim_params(gen_counter=False)\n",
    "    end = time.time()\n",
    "    runtime = end - start\n",
    "    print(f'Trial {i}: {runtime} seconds')\n",
    "    runtimes_3phase_optimization.append(runtime)"
   ]
  },
  {
   "cell_type": "markdown",
   "metadata": {},
   "source": [
    "## 4 phase composite"
   ]
  },
  {
   "cell_type": "code",
   "execution_count": null,
   "metadata": {},
   "outputs": [],
   "source": [
    "# Example material matches for an n=3 phase compositie\n",
    "mat_4_ids = [\"mp-1509\", \"mp-546266\", \"mp-12863\", \"mp-16290\"]\n",
    "matches_dict = {'mat1': mat_1_ids, 'mat2': mat_2_ids, 'mat3': mat_3_ids, 'mat4': mat_4_ids}"
   ]
  },
  {
   "cell_type": "code",
   "execution_count": null,
   "metadata": {},
   "outputs": [],
   "source": [
    "# Need user input to create an HS instance\n",
    "# Use same bounds for all materials\n",
    "\n",
    "# Create Material & Mixture instances\n",
    "mat_4 = Material(name='mat_4', properties=properties_mat_1)\n",
    "mixture = Mixture(name='mixture', properties=properties_mixture)\n",
    "aggregate = [mat_1, mat_2, mat_3, mat_4, mixture]\n",
    "\n",
    "# Initialize UserInput instance with materials and mixtures\n",
    "user_input= UserInput(materials=[mat_1, mat_2, mat_3, mat_4], mixtures=[mixture])\n",
    "print(\"User Input: \", user_input)"
   ]
  },
  {
   "cell_type": "code",
   "execution_count": null,
   "metadata": {},
   "outputs": [],
   "source": [
    "# Create an HS instance for testing\n",
    "optimizer_4phase = Optimizer(api_key=\"uJpFxJJGKCSp9s1shwg9HmDuNjCDfWbM\", user_input=user_input)"
   ]
  },
  {
   "cell_type": "code",
   "execution_count": null,
   "metadata": {},
   "outputs": [],
   "source": [
    "# Perform Optimizaztion several times to observe variation\n",
    "runtimes_4phase_optimization = []\n",
    "for i in range(num_trials):\n",
    "    start = time.time()\n",
    "    optimizer_4phase.set_HS_optim_params(gen_counter=False)\n",
    "    end = time.time()\n",
    "    runtime = end - start\n",
    "    print(f'Trial {i}: {runtime} seconds')\n",
    "    runtimes_4phase_optimization.append(runtime)"
   ]
  },
  {
   "cell_type": "markdown",
   "metadata": {},
   "source": [
    "## 5 phase composite"
   ]
  },
  {
   "cell_type": "code",
   "execution_count": null,
   "metadata": {},
   "outputs": [],
   "source": [
    "# Example material matches for an n=3 phase compositie\n",
    "mat_5_ids = [\"mp-1509\", \"mp-546266\", \"mp-12863\", \"mp-16290\"]\n",
    "matches_dict = {'mat1': mat_1_ids, 'mat2': mat_2_ids, 'mat3': mat_3_ids, 'mat4': mat_4_ids, 'mat5': mat_5_ids}"
   ]
  },
  {
   "cell_type": "code",
   "execution_count": null,
   "metadata": {},
   "outputs": [],
   "source": [
    "# Need user input to create an HS instance\n",
    "# Use same bounds for all materials\n",
    "\n",
    "# Create Material & Mixture instances\n",
    "mat_5 = Material(name='mat_5', properties=properties_mat_1)\n",
    "mixture = Mixture(name='mixture', properties=properties_mixture)\n",
    "aggregate = [mat_1, mat_2, mat_3, mat_4, mat_5, mixture]\n",
    "\n",
    "# Initialize UserInput instance with materials and mixtures\n",
    "user_input= UserInput(materials=[mat_1, mat_2, mat_3, mat_4, mat_5], mixtures=[mixture])\n",
    "print(\"User Input: \", user_input)"
   ]
  },
  {
   "cell_type": "code",
   "execution_count": null,
   "metadata": {},
   "outputs": [],
   "source": [
    "# Create an HS instance for testing\n",
    "optimizer_5phase = Optimizer(api_key=\"uJpFxJJGKCSp9s1shwg9HmDuNjCDfWbM\", user_input=user_input)"
   ]
  },
  {
   "cell_type": "code",
   "execution_count": null,
   "metadata": {},
   "outputs": [],
   "source": [
    "# Perform Optimizaztion several times to observe variation\n",
    "runtimes_5phase_optimization = []\n",
    "for i in range(num_trials):\n",
    "    start = time.time()\n",
    "    optimizer_5phase.set_HS_optim_params(gen_counter=False)\n",
    "    end = time.time()\n",
    "    runtime = end - start\n",
    "    print(f'Trial {i}: {runtime} seconds')\n",
    "    runtimes_5phase_optimization.append(runtime)"
   ]
  },
  {
   "cell_type": "markdown",
   "metadata": {},
   "source": [
    "## 6 phase composite"
   ]
  },
  {
   "cell_type": "code",
   "execution_count": null,
   "metadata": {},
   "outputs": [],
   "source": [
    "# Example material matches for an n=3 phase compositie\n",
    "mat_6_ids = [\"mp-1509\", \"mp-546266\", \"mp-12863\", \"mp-16290\"]\n",
    "matches_dict = {'mat1': mat_1_ids, \n",
    "                'mat2': mat_2_ids, \n",
    "                'mat3': mat_3_ids, \n",
    "                'mat4': mat_4_ids, \n",
    "                'mat5': mat_5_ids, \n",
    "                'mat6': mat_6_ids}"
   ]
  },
  {
   "cell_type": "code",
   "execution_count": null,
   "metadata": {},
   "outputs": [],
   "source": [
    "# Need user input to create an HS instance\n",
    "# Use same bounds for all materials\n",
    "\n",
    "# Create Material & Mixture instances\n",
    "mat_6 = Material(name='mat_6', properties=properties_mat_1)\n",
    "mixture = Mixture(name='mixture', properties=properties_mixture)\n",
    "aggregate = [mat_1, mat_2, mat_3, mat_4, mat_5, mat_6, mixture]\n",
    "\n",
    "# Initialize UserInput instance with materials and mixtures\n",
    "user_input= UserInput(materials=[mat_1, mat_2, mat_3, mat_4, mat_5, mat_6], mixtures=[mixture])\n",
    "print(\"User Input: \", user_input)"
   ]
  },
  {
   "cell_type": "code",
   "execution_count": null,
   "metadata": {},
   "outputs": [],
   "source": [
    "# Create an HS instance for testing\n",
    "optimizer_6phase = Optimizer(api_key=\"uJpFxJJGKCSp9s1shwg9HmDuNjCDfWbM\", user_input=user_input)"
   ]
  },
  {
   "cell_type": "code",
   "execution_count": null,
   "metadata": {},
   "outputs": [],
   "source": [
    "# Perform Optimizaztion several times to observe variation\n",
    "runtimes_6phase_optimization = []\n",
    "for i in range(num_trials):\n",
    "    start = time.time()\n",
    "    optimizer_6phase.set_HS_optim_params(gen_counter=False)\n",
    "    end = time.time()\n",
    "    runime = end - start\n",
    "    print(f'Trial {i}: {runtime} seconds')\n",
    "    runtimes_6phase_optimization.append(runtime)"
   ]
  },
  {
   "cell_type": "markdown",
   "metadata": {},
   "source": [
    "## 7 phase composite"
   ]
  },
  {
   "cell_type": "code",
   "execution_count": null,
   "metadata": {},
   "outputs": [],
   "source": [
    "# Example material matches for an n=3 phase compositie\n",
    "mat_7_ids = [\"mp-1509\", \"mp-546266\", \"mp-12863\", \"mp-16290\"]\n",
    "matches_dict = {'mat1': mat_1_ids, \n",
    "                'mat2': mat_2_ids, \n",
    "                'mat3': mat_3_ids, \n",
    "                'mat4': mat_4_ids, \n",
    "                'mat5': mat_5_ids, \n",
    "                'mat6': mat_6_ids,\n",
    "                'mat7': mat_7_ids}"
   ]
  },
  {
   "cell_type": "code",
   "execution_count": null,
   "metadata": {},
   "outputs": [],
   "source": [
    "# Need user input to create an HS instance\n",
    "# Use same bounds for all materials\n",
    "\n",
    "# Create Material & Mixture instances\n",
    "mat_7 = Material(name='mat_7', properties=properties_mat_1)\n",
    "mixture = Mixture(name='mixture', properties=properties_mixture)\n",
    "aggregate = [mat_1, mat_2, mat_3, mat_4, mat_5, mat_6, mat_7, mixture]\n",
    "\n",
    "# Initialize UserInput instance with materials and mixtures\n",
    "user_input= UserInput(materials=[mat_1, mat_2, mat_3, mat_4, mat_5, mat_6, mat_7], mixtures=[mixture])\n",
    "print(\"User Input: \", user_input)"
   ]
  },
  {
   "cell_type": "code",
   "execution_count": null,
   "metadata": {},
   "outputs": [],
   "source": [
    "# Create an HS instance for testing\n",
    "optimizer_7phase = Optimizer(api_key=\"uJpFxJJGKCSp9s1shwg9HmDuNjCDfWbM\", user_input=user_input)"
   ]
  },
  {
   "cell_type": "code",
   "execution_count": null,
   "metadata": {},
   "outputs": [],
   "source": [
    "# Perform Optimizaztion several times to observe variation\n",
    "runtimes_7phase_optimization = []\n",
    "for i in range(num_trials):\n",
    "    start = time.time()\n",
    "    optimizer_7phase.set_HS_optim_params(gen_counter=False)\n",
    "    end = time.time()\n",
    "    runtime = end - start\n",
    "    print(f'Trial {i}: {runtime} seconds')\n",
    "    runtimes_7phase_optimization.append(runtime)"
   ]
  },
  {
   "cell_type": "markdown",
   "metadata": {},
   "source": [
    "## 8 phase composite"
   ]
  },
  {
   "cell_type": "code",
   "execution_count": null,
   "metadata": {},
   "outputs": [],
   "source": [
    "# Example material matches for an n=3 phase compositie\n",
    "mat_8_ids = [\"mp-1509\", \"mp-546266\", \"mp-12863\", \"mp-16290\"]\n",
    "matches_dict = {'mat1': mat_1_ids, \n",
    "                'mat2': mat_2_ids, \n",
    "                'mat3': mat_3_ids, \n",
    "                'mat4': mat_4_ids, \n",
    "                'mat5': mat_5_ids, \n",
    "                'mat6': mat_6_ids,\n",
    "                'mat7': mat_7_ids,\n",
    "                'mat7': mat_7_ids}"
   ]
  },
  {
   "cell_type": "code",
   "execution_count": null,
   "metadata": {},
   "outputs": [],
   "source": [
    "# Need user input to create an HS instance\n",
    "# Use same bounds for all materials\n",
    "\n",
    "# Create Material & Mixture instances\n",
    "mat_8 = Material(name='mat_8', properties=properties_mat_1)\n",
    "mixture = Mixture(name='mixture', properties=properties_mixture)\n",
    "aggregate = [mat_1, mat_2, mat_3, mat_4, mat_5, mat_6, mat_7, mat_8, mixture]\n",
    "\n",
    "# Initialize UserInput instance with materials and mixtures\n",
    "user_input= UserInput(materials=[mat_1, mat_2, mat_3, mat_4, mat_5, mat_6, mat_7, mat_8], mixtures=[mixture])\n",
    "print(\"User Input: \", user_input)"
   ]
  },
  {
   "cell_type": "code",
   "execution_count": null,
   "metadata": {},
   "outputs": [],
   "source": [
    "# Create an HS instance for testing\n",
    "optimizer_8phase = Optimizer(api_key=\"uJpFxJJGKCSp9s1shwg9HmDuNjCDfWbM\", user_input=user_input)"
   ]
  },
  {
   "cell_type": "code",
   "execution_count": null,
   "metadata": {},
   "outputs": [],
   "source": [
    "# Perform Optimizaztion several times to observe variation\n",
    "runtimes_8phase_optimization = []\n",
    "for i in range(num_trials):\n",
    "    start = time.time()\n",
    "    optimizer_8phase.set_HS_optim_params(gen_counter=False)\n",
    "    end = time.time()\n",
    "    runtime = end - start\n",
    "    print(f'Trial {i}: {runtime} seconds')\n",
    "    runtimes_8phase_optimization.append(runtime)"
   ]
  },
  {
   "cell_type": "markdown",
   "metadata": {},
   "source": [
    "## 9 phase composite"
   ]
  },
  {
   "cell_type": "code",
   "execution_count": null,
   "metadata": {},
   "outputs": [],
   "source": [
    "# Example material matches for an n=3 phase compositie\n",
    "mat_9_ids = [\"mp-1509\", \"mp-546266\", \"mp-12863\", \"mp-16290\"]\n",
    "matches_dict = {'mat1': mat_1_ids, \n",
    "                'mat2': mat_2_ids, \n",
    "                'mat3': mat_3_ids, \n",
    "                'mat4': mat_4_ids, \n",
    "                'mat5': mat_5_ids, \n",
    "                'mat6': mat_6_ids,\n",
    "                'mat7': mat_7_ids,\n",
    "                'mat7': mat_7_ids,\n",
    "                'mat8': mat_8_ids,\n",
    "                'mat9': mat_9_ids}"
   ]
  },
  {
   "cell_type": "code",
   "execution_count": null,
   "metadata": {},
   "outputs": [],
   "source": [
    "# Need user input to create an HS instance\n",
    "# Use same bounds for all materials\n",
    "\n",
    "# Create Material & Mixture instances\n",
    "mat_9 = Material(name='mat_9', properties=properties_mat_1)\n",
    "mixture = Mixture(name='mixture', properties=properties_mixture)\n",
    "aggregate = [mat_1, mat_2, mat_3, mat_4, mat_5, mat_6, mat_7, mat_8, mat_9, mixture]\n",
    "\n",
    "# Initialize UserInput instance with materials and mixtures\n",
    "user_input= UserInput(materials=[mat_1, mat_2, mat_3, mat_4, mat_5, mat_6, mat_7, mat_8, mat_9], mixtures=[mixture])\n",
    "print(\"User Input: \", user_input)"
   ]
  },
  {
   "cell_type": "code",
   "execution_count": null,
   "metadata": {},
   "outputs": [],
   "source": [
    "# Create an HS instance for testing\n",
    "optimizer_9phase = Optimizer(api_key=\"uJpFxJJGKCSp9s1shwg9HmDuNjCDfWbM\", user_input=user_input)"
   ]
  },
  {
   "cell_type": "code",
   "execution_count": null,
   "metadata": {},
   "outputs": [],
   "source": [
    "# Perform Optimizaztion several times to observe variation\n",
    "runtimes_9phase_optimization = []\n",
    "for i in range(num_trials):\n",
    "    start = time.time()\n",
    "    optimizer_9phase.set_HS_optim_params(gen_counter=False)\n",
    "    end = time.time()\n",
    "    runtime= end - start\n",
    "    print(f'Trial {i}: {runtime} seconds')\n",
    "    runtimes_9phase_optimization.append(runtime)"
   ]
  },
  {
   "cell_type": "markdown",
   "metadata": {},
   "source": [
    "## 10 phase composite"
   ]
  },
  {
   "cell_type": "code",
   "execution_count": null,
   "metadata": {},
   "outputs": [],
   "source": [
    "# Example material matches for an n=3 phase compositie\n",
    "mat_10_ids = [\"mp-1509\", \"mp-546266\", \"mp-12863\", \"mp-16290\"]\n",
    "matches_dict = {'mat1': mat_1_ids, \n",
    "                'mat2': mat_2_ids, \n",
    "                'mat3': mat_3_ids, \n",
    "                'mat4': mat_4_ids, \n",
    "                'mat5': mat_5_ids, \n",
    "                'mat6': mat_6_ids,\n",
    "                'mat7': mat_7_ids,\n",
    "                'mat7': mat_7_ids,\n",
    "                'mat8': mat_8_ids,\n",
    "                'mat9': mat_9_ids,\n",
    "                'mat10': mat_10_ids}"
   ]
  },
  {
   "cell_type": "code",
   "execution_count": null,
   "metadata": {},
   "outputs": [],
   "source": [
    "# Need user input to create an HS instance\n",
    "# Use same bounds for all materials\n",
    "\n",
    "# Create Material & Mixture instances\n",
    "mat_10 = Material(name='mat_10', properties=properties_mat_1)\n",
    "mixture = Mixture(name='mixture', properties=properties_mixture)\n",
    "aggregate = [mat_1, mat_2, mat_3, mat_4, mat_5, mat_6, mat_7, mat_8, mat_9, mat_10, mixture]\n",
    "\n",
    "# Initialize UserInput instance with materials and mixtures\n",
    "user_input= UserInput(materials=[mat_1, mat_2, mat_3, mat_4, mat_5, mat_6, mat_7, mat_8, mat_9, mat_10], mixtures=[mixture])\n",
    "print(\"User Input: \", user_input)"
   ]
  },
  {
   "cell_type": "code",
   "execution_count": null,
   "metadata": {},
   "outputs": [],
   "source": [
    "# Create an HS instance for testing\n",
    "optimizer_10phase = Optimizer(api_key=\"uJpFxJJGKCSp9s1shwg9HmDuNjCDfWbM\", user_input=user_input)"
   ]
  },
  {
   "cell_type": "code",
   "execution_count": null,
   "metadata": {},
   "outputs": [],
   "source": [
    "# Perform Optimizaztion several times to observe variation\n",
    "runtimes_10phase_optimization = []\n",
    "for i in range(num_trials):\n",
    "    start = time.time()\n",
    "    optimizer_10phase.set_HS_optim_params(gen_counter=False)\n",
    "    end = time.time()\n",
    "    runtime = end - start\n",
    "    print(f'Trial {i}: {runtime} seconds')\n",
    "    runtimes_10phase_optimization.append(runtime)"
   ]
  },
  {
   "cell_type": "markdown",
   "metadata": {},
   "source": [
    "## Compare runtimes"
   ]
  },
  {
   "cell_type": "code",
   "execution_count": null,
   "metadata": {},
   "outputs": [],
   "source": [
    "runtimes = np.array([runtimes_2phase_optimization, \n",
    "                     runtimes_3phase_optimization, \n",
    "                     runtimes_4phase_optimization, \n",
    "                     runtimes_5phase_optimization, \n",
    "                     runtimes_6phase_optimization, \n",
    "                     runtimes_7phase_optimization, \n",
    "                     runtimes_8phase_optimization, \n",
    "                     runtimes_9phase_optimization,\n",
    "                     runtimes_10phase_optimization])\n",
    "phases = np.arange(len(runtimes)) + 2"
   ]
  },
  {
   "cell_type": "code",
   "execution_count": null,
   "metadata": {},
   "outputs": [],
   "source": [
    "# Plot\n",
    "plt.figure(figsize=(10, 6))\n",
    "\n",
    "for i in range(num_trials):\n",
    "\n",
    "    plt.plot(phases, runtimes[:, i], marker='o', linestyle='-', label=f'trial {i}')\n",
    "    plt.scatter(phases, runtimes[:, i])\n",
    "\n",
    "plt.xlabel('Number of phases', fontsize=14)\n",
    "plt.ylabel('Runtime (seconds)', fontsize=14)\n",
    "plt.title('Runtimes vs. Number of Composite Phases', fontsize=16)\n",
    "plt.legend()\n",
    "\n",
    "plt.show()"
   ]
  },
  {
   "cell_type": "code",
   "execution_count": null,
   "metadata": {},
   "outputs": [],
   "source": [
    "# Statistics\n",
    "min_runtime = np.min(runtimes)\n",
    "max_runtime = np.max(runtimes)\n",
    "avg_runtime = np.mean(runtimes)\n",
    "med_runtime = np.median(runtimes)\n",
    "\n",
    "print(f'Min runtime: {min_runtime}')\n",
    "print(f'Max runtime: {max_runtime}')\n",
    "print(f'Average runtime: {avg_runtime}')\n",
    "print(f'Median runtime: {med_runtime}')"
   ]
  }
 ],
 "metadata": {
  "language_info": {
   "codemirror_mode": {
    "name": "ipython",
    "version": 3
   },
   "file_extension": ".py",
   "mimetype": "text/x-python",
   "name": "python",
   "nbconvert_exporter": "python",
   "pygments_lexer": "ipython3",
   "version": "3.9.18"
  }
 },
 "nbformat": 4,
 "nbformat_minor": 2
}
