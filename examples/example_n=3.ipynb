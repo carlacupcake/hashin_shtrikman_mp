{
 "cells": [
  {
   "cell_type": "code",
   "execution_count": 1,
   "metadata": {
    "tags": []
   },
   "outputs": [],
   "source": [
    "%load_ext autoreload\n",
    "%autoreload 2"
   ]
  },
  {
   "cell_type": "markdown",
   "metadata": {},
   "source": [
    "## Testing the Composites Discovery App with n=3 phases"
   ]
  },
  {
   "cell_type": "code",
   "execution_count": 2,
   "metadata": {},
   "outputs": [
    {
     "name": "stderr",
     "output_type": "stream",
     "text": [
      "/Users/carlabecker/opt/anaconda3/envs/carla_mp_api/lib/python3.11/site-packages/tqdm/auto.py:21: TqdmWarning: IProgress not found. Please update jupyter and ipywidgets. See https://ipywidgets.readthedocs.io/en/stable/user_install.html\n",
      "  from .autonotebook import tqdm as notebook_tqdm\n"
     ]
    }
   ],
   "source": [
    "from hashin_shtrikman_mp.core.user_input import MaterialProperty, Material, MixtureProperty, Mixture, UserInput\n",
    "from hashin_shtrikman_mp.core import GeneticAlgorithm\n",
    "from hashin_shtrikman_mp.core.genetic_algorithm import OptimizationParams\n",
    "from hashin_shtrikman_mp.core.visualization import OptimizationResultVisualizer\n",
    "from hashin_shtrikman_mp.core.match_finder import MatchFinder"
   ]
  },
  {
   "cell_type": "code",
   "execution_count": 3,
   "metadata": {
    "tags": []
   },
   "outputs": [
    {
     "name": "stdout",
     "output_type": "stream",
     "text": [
      "User Input:  {'mat_1': {'elec_cond_300k_low_doping': {'upper_bound': 120.0, 'lower_bound': 1e-07}, 'therm_cond_300k_low_doping': {'upper_bound': 2.0, 'lower_bound': 1e-07}, 'bulk_modulus': {'upper_bound': 500.0, 'lower_bound': 50.0}, 'shear_modulus': {'upper_bound': 500.0, 'lower_bound': 80.0}, 'universal_anisotropy': {'upper_bound': 6.0, 'lower_bound': 1.0}}, 'mat_2': {'elec_cond_300k_low_doping': {'upper_bound': 78.0, 'lower_bound': 1e-07}, 'therm_cond_300k_low_doping': {'upper_bound': 2.0, 'lower_bound': 1e-07}, 'bulk_modulus': {'upper_bound': 400.0, 'lower_bound': 20.0}, 'shear_modulus': {'upper_bound': 500.0, 'lower_bound': 100.0}, 'universal_anisotropy': {'upper_bound': 4.3, 'lower_bound': 1.3}}, 'mat_3': {'elec_cond_300k_low_doping': {'upper_bound': 78.0, 'lower_bound': 1e-07}, 'therm_cond_300k_low_doping': {'upper_bound': 2.0, 'lower_bound': 1e-07}, 'bulk_modulus': {'upper_bound': 700.0, 'lower_bound': 20.0}, 'shear_modulus': {'upper_bound': 600.0, 'lower_bound': 100.0}, 'universal_anisotropy': {'upper_bound': 2.1, 'lower_bound': 0.9}}, 'mixture': {'elec_cond_300k_low_doping': {'desired_prop': 9.0}, 'therm_cond_300k_low_doping': {'desired_prop': 0.9}, 'bulk_modulus': {'desired_prop': 280.0}, 'shear_modulus': {'desired_prop': 230.0}, 'universal_anisotropy': {'desired_prop': 1.5}}}\n",
      "Overall Upper & Lower Bounds:\n",
      "Property: elec_cond_300k_low_doping, Upper Bound: 120.0, Lower Bound: 1e-07\n",
      "Property: therm_cond_300k_low_doping, Upper Bound: 2.0, Lower Bound: 1e-07\n",
      "Property: bulk_modulus, Upper Bound: 700.0, Lower Bound: 20.0\n",
      "Property: shear_modulus, Upper Bound: 600.0, Lower Bound: 80.0\n",
      "Property: universal_anisotropy, Upper Bound: 6.0, Lower Bound: 0.9\n",
      "{'elec_cond_300k_low_doping': {'upper_bound': 120.0, 'lower_bound': 1e-07}, 'therm_cond_300k_low_doping': {'upper_bound': 2.0, 'lower_bound': 1e-07}, 'bulk_modulus': {'upper_bound': 700.0, 'lower_bound': 20.0}, 'shear_modulus': {'upper_bound': 600.0, 'lower_bound': 80.0}, 'universal_anisotropy': {'upper_bound': 6.0, 'lower_bound': 0.9}}\n"
     ]
    }
   ],
   "source": [
    "# Define properties for each material\n",
    "properties_mat_1 = [\n",
    "    MaterialProperty(prop='elec_cond_300k_low_doping', upper_bound=120, lower_bound=1e-7), # upper_bound=20, lower_bound=1 \n",
    "    MaterialProperty(prop='therm_cond_300k_low_doping', upper_bound=2, lower_bound=1e-7), # upper_bound=0.0001, lower_bound=1e-5 \n",
    "    MaterialProperty(prop='bulk_modulus', upper_bound=500, lower_bound=50),\n",
    "    MaterialProperty(prop='shear_modulus', upper_bound=500, lower_bound=80),\n",
    "    MaterialProperty(prop='universal_anisotropy', upper_bound=6, lower_bound=1),\n",
    "]\n",
    "\n",
    "properties_mat_2 = [\n",
    "    MaterialProperty(prop='elec_cond_300k_low_doping', upper_bound=78, lower_bound=1e-7), # upper_bound=5, lower_bound=2\n",
    "    MaterialProperty(prop='therm_cond_300k_low_doping', upper_bound=2, lower_bound=1e-7), # upper_bound=0.009, lower_bound=1e-4\n",
    "    MaterialProperty(prop='bulk_modulus', upper_bound=400, lower_bound=20),\n",
    "    MaterialProperty(prop='shear_modulus', upper_bound=500, lower_bound=100),\n",
    "    MaterialProperty(prop='universal_anisotropy', upper_bound=4.3, lower_bound=1.3),\n",
    "]\n",
    "\n",
    "properties_mat_3 = [\n",
    "    MaterialProperty(prop='elec_cond_300k_low_doping', upper_bound=78, lower_bound=1e-7), # upper_bound=10, lower_bound=1\n",
    "    MaterialProperty(prop='therm_cond_300k_low_doping', upper_bound=2, lower_bound=1e-7), # upper_bound=0.005, lower_bound=1e-4\n",
    "    MaterialProperty(prop='bulk_modulus', upper_bound=700, lower_bound=20),\n",
    "    MaterialProperty(prop='shear_modulus', upper_bound=600, lower_bound=100),\n",
    "    MaterialProperty(prop='universal_anisotropy', upper_bound=2.1, lower_bound=0.9),\n",
    "]\n",
    "\n",
    "# Define properties for the mixture\n",
    "properties_mixture = [\n",
    "    MixtureProperty(prop='elec_cond_300k_low_doping', desired_prop=9),\n",
    "    MixtureProperty(prop='therm_cond_300k_low_doping', desired_prop=0.9),\n",
    "    MixtureProperty(prop='bulk_modulus', desired_prop=280),\n",
    "    MixtureProperty(prop='shear_modulus', desired_prop=230),\n",
    "    MixtureProperty(prop='universal_anisotropy', desired_prop=1.5),\n",
    "]\n",
    "\n",
    "# Create Material & Mixture instances\n",
    "mat_1 = Material(name='mat_1', properties=properties_mat_1)\n",
    "mat_2 = Material(name='mat_2', properties=properties_mat_2)\n",
    "mat_3 = Material(name='mat_3', properties=properties_mat_3)\n",
    "mixture = Mixture(name='mixture', properties=properties_mixture)\n",
    "aggregate = [mat_1, mat_2, mat_3, mixture]\n",
    "\n",
    "# Initialize UserInput instance with materials and mixtures\n",
    "user_input= UserInput(materials=[mat_1, mat_2, mat_3], mixtures=[mixture])\n",
    "print(\"User Input: \", user_input)\n",
    "\n",
    "# Initialize dictionaries to store the overall upper and lower bounds for each property\n",
    "overall_bounds = {}\n",
    "\n",
    "# Iterate over materials\n",
    "for entity in aggregate:\n",
    "    # Skip the mixture as it doesn't have upper and lower bounds\n",
    "    if isinstance(entity, Material):\n",
    "        for property in entity.properties:\n",
    "            prop_name = property.prop\n",
    "\n",
    "            # Initialize the overall bounds if they are not already present for the property\n",
    "            if prop_name not in overall_bounds:\n",
    "                overall_bounds[prop_name] = {'upper_bound': property.upper_bound, 'lower_bound': property.lower_bound}\n",
    "            else:\n",
    "                # Update overall upper and lower bounds by comparing with existing values\n",
    "                overall_bounds[prop_name]['upper_bound'] = max(overall_bounds[prop_name]['upper_bound'], property.upper_bound)\n",
    "                overall_bounds[prop_name]['lower_bound'] = min(overall_bounds[prop_name]['lower_bound'], property.lower_bound)\n",
    "\n",
    "# Print the overall bounds for each property\n",
    "print(\"Overall Upper & Lower Bounds:\")\n",
    "for prop, bounds in overall_bounds.items():\n",
    "    print(f\"Property: {prop}, Upper Bound: {bounds['upper_bound']}, Lower Bound: {bounds['lower_bound']}\")\n",
    "\n",
    "# Step 1: Create the consolidated_dict\n",
    "overall_bounds_dict = {}\n",
    "for prop, bounds in overall_bounds.items():\n",
    "    overall_bounds_dict[prop] = {\n",
    "        'upper_bound': bounds['upper_bound'],\n",
    "        'lower_bound': bounds['lower_bound']\n",
    "    }\n",
    "\n",
    "print(overall_bounds_dict)"
   ]
  },
  {
   "cell_type": "code",
   "execution_count": 4,
   "metadata": {
    "tags": []
   },
   "outputs": [
    {
     "name": "stderr",
     "output_type": "stream",
     "text": [
      "2025-01-17 23:28:27,356 - hashin_shtrikman_mp.log.custom_logger - INFO - Loading property categories from /Users/carlabecker/Library/Mobile Documents/com~apple~CloudDocs/Carla's Desktop/UC Berkeley/Research/Materials Project/hashin_shtrikman_mp/src/hashin_shtrikman_mp/io/inputs/data/mp_property_docs.yaml.\n",
      "2025-01-17 23:28:27,364 - hashin_shtrikman_mp.log.custom_logger - INFO - property_categories = ['carrier-transport', 'elastic']\n",
      "2025-01-17 23:28:27,365 - hashin_shtrikman_mp.log.custom_logger - INFO - mixture_props = {'elec_cond_300k_low_doping': {'desired_prop': 9.0}, 'therm_cond_300k_low_doping': {'desired_prop': 0.9}, 'bulk_modulus': {'desired_prop': 280.0}, 'shear_modulus': {'desired_prop': 230.0}, 'universal_anisotropy': {'desired_prop': 1.5}}\n"
     ]
    },
    {
     "name": "stdout",
     "output_type": "stream",
     "text": [
      "Property categories:  ['carrier-transport', 'elastic']\n",
      "Property docs:  {'carrier-transport': {'elec_cond_300k_low_doping': None, 'therm_cond_300k_low_doping': None}, 'dielectric': {'e_electronic': None, 'e_ionic': None, 'e_total': None, 'n': None}, 'elastic': {'bulk_modulus': 'vrh', 'shear_modulus': 'vrh', 'universal_anisotropy': None}, 'magnetic': {'total_magnetization': None, 'total_magnetization_normalized_vol': None}, 'piezoelectric': {'e_ij_max': None}}\n",
      "Lower Bounds: {'mat_1': {'carrier-transport': [1e-07, 1e-07], 'elastic': [50.0, 80.0, 1.0]}, 'mat_2': {'carrier-transport': [1e-07, 1e-07], 'elastic': [20.0, 100.0, 1.3]}, 'mat_3': {'carrier-transport': [1e-07, 1e-07], 'elastic': [20.0, 100.0, 0.9]}, 'volume-fractions': [0.01, 0.01, 0.01]}\n",
      "Upper Bounds: {'mat_1': {'carrier-transport': [120.0, 2.0], 'elastic': [500.0, 500.0, 6.0]}, 'mat_2': {'carrier-transport': [78.0, 2.0], 'elastic': [400.0, 500.0, 4.3]}, 'mat_3': {'carrier-transport': [78.0, 2.0], 'elastic': [700.0, 600.0, 2.1]}, 'volume-fractions': [0.99, 0.99, 0.99]}\n",
      "Number of Materials: 3\n",
      "Number of Properties: 6\n"
     ]
    }
   ],
   "source": [
    "# Initialize optimization parameters and genetic algorithm\n",
    "optimization_parameters = OptimizationParams.from_user_input(user_input)\n",
    "ga = GeneticAlgorithm()\n",
    "\n",
    "print(\"Property categories: \", optimization_parameters.property_categories)\n",
    "print(\"Property docs: \", optimization_parameters.property_docs)\n",
    "\n",
    "print(\"Lower Bounds:\", optimization_parameters.lower_bounds)\n",
    "print(\"Upper Bounds:\", optimization_parameters.upper_bounds)\n",
    "\n",
    "print(\"Number of Materials:\", optimization_parameters.num_materials)\n",
    "print(\"Number of Properties:\", optimization_parameters.num_properties)"
   ]
  },
  {
   "cell_type": "code",
   "execution_count": 5,
   "metadata": {
    "tags": []
   },
   "outputs": [
    {
     "name": "stderr",
     "output_type": "stream",
     "text": [
      "2025-01-17 23:28:27,420 - hashin_shtrikman_mp.log.custom_logger - INFO - Loading property categories from /Users/carlabecker/Library/Mobile Documents/com~apple~CloudDocs/Carla's Desktop/UC Berkeley/Research/Materials Project/hashin_shtrikman_mp/src/hashin_shtrikman_mp/io/inputs/data/mp_property_docs.yaml.\n",
      "2025-01-17 23:28:27,425 - hashin_shtrikman_mp.log.custom_logger - INFO - property_categories = ['carrier-transport', 'elastic']\n",
      "2025-01-17 23:28:27,426 - hashin_shtrikman_mp.log.custom_logger - INFO - mixture_props = {'elec_cond_300k_low_doping': {'desired_prop': 9.0}, 'therm_cond_300k_low_doping': {'desired_prop': 0.9}, 'bulk_modulus': {'desired_prop': 280.0}, 'shear_modulus': {'desired_prop': 230.0}, 'universal_anisotropy': {'desired_prop': 1.5}}\n"
     ]
    },
    {
     "name": "stdout",
     "output_type": "stream",
     "text": [
      "Generation 0 of 100\n",
      "Generation 1 of 100\n",
      "Generation 2 of 100\n",
      "Generation 3 of 100\n",
      "Generation 4 of 100\n",
      "Generation 5 of 100\n",
      "Generation 6 of 100\n",
      "Generation 7 of 100\n",
      "Generation 8 of 100\n",
      "Generation 9 of 100\n",
      "Generation 10 of 100\n",
      "Generation 11 of 100\n",
      "Generation 12 of 100\n",
      "Generation 13 of 100\n",
      "Generation 14 of 100\n",
      "Generation 15 of 100\n",
      "Generation 16 of 100\n",
      "Generation 17 of 100\n",
      "Generation 18 of 100\n",
      "Generation 19 of 100\n",
      "Generation 20 of 100\n",
      "Generation 21 of 100\n",
      "Generation 22 of 100\n",
      "Generation 23 of 100\n",
      "Generation 24 of 100\n",
      "Generation 25 of 100\n",
      "Generation 26 of 100\n",
      "Generation 27 of 100\n",
      "Generation 28 of 100\n",
      "Generation 29 of 100\n",
      "Generation 30 of 100\n",
      "Generation 31 of 100\n",
      "Generation 32 of 100\n",
      "Generation 33 of 100\n",
      "Generation 34 of 100\n",
      "Generation 35 of 100\n",
      "Generation 36 of 100\n",
      "Generation 37 of 100\n",
      "Generation 38 of 100\n",
      "Generation 39 of 100\n",
      "Generation 40 of 100\n",
      "Generation 41 of 100\n",
      "Generation 42 of 100\n",
      "Generation 43 of 100\n",
      "Generation 44 of 100\n",
      "Generation 45 of 100\n",
      "Generation 46 of 100\n",
      "Generation 47 of 100\n",
      "Generation 48 of 100\n",
      "Generation 49 of 100\n",
      "Generation 50 of 100\n",
      "Generation 51 of 100\n",
      "Generation 52 of 100\n",
      "Generation 53 of 100\n",
      "Generation 54 of 100\n",
      "Generation 55 of 100\n",
      "Generation 56 of 100\n",
      "Generation 57 of 100\n",
      "Generation 58 of 100\n",
      "Generation 59 of 100\n",
      "Generation 60 of 100\n",
      "Generation 61 of 100\n",
      "Generation 62 of 100\n",
      "Generation 63 of 100\n",
      "Generation 64 of 100\n",
      "Generation 65 of 100\n",
      "Generation 66 of 100\n",
      "Generation 67 of 100\n",
      "Generation 68 of 100\n",
      "Generation 69 of 100\n",
      "Generation 70 of 100\n",
      "Generation 71 of 100\n",
      "Generation 72 of 100\n",
      "Generation 73 of 100\n",
      "Generation 74 of 100\n",
      "Generation 75 of 100\n",
      "Generation 76 of 100\n",
      "Generation 77 of 100\n",
      "Generation 78 of 100\n",
      "Generation 79 of 100\n",
      "Generation 80 of 100\n",
      "Generation 81 of 100\n",
      "Generation 82 of 100\n",
      "Generation 83 of 100\n",
      "Generation 84 of 100\n",
      "Generation 85 of 100\n",
      "Generation 86 of 100\n",
      "Generation 87 of 100\n",
      "Generation 88 of 100\n",
      "Generation 89 of 100\n",
      "Generation 90 of 100\n",
      "Generation 91 of 100\n",
      "Generation 92 of 100\n",
      "Generation 93 of 100\n",
      "Generation 94 of 100\n",
      "Generation 95 of 100\n",
      "Generation 96 of 100\n",
      "Generation 97 of 100\n",
      "Generation 98 of 100\n",
      "Generation 99 of 100\n"
     ]
    }
   ],
   "source": [
    "# Run the optimization to obtain n=3 materials and their volume fractions that achieve the desired composite material properties\n",
    "ga_result = ga.run(user_input, gen_counter=True)"
   ]
  },
  {
   "cell_type": "code",
   "execution_count": 6,
   "metadata": {
    "tags": []
   },
   "outputs": [],
   "source": [
    "# Create an instance of the Visualizer class using the genetic algorithm result\n",
    "visualizer = OptimizationResultVisualizer(ga_result)"
   ]
  },
  {
   "cell_type": "code",
   "execution_count": 7,
   "metadata": {
    "tags": []
   },
   "outputs": [
    {
     "data": {
      "application/vnd.plotly.v1+json": {
       "config": {
        "plotlyServerURL": "https://plot.ly"
       },
       "data": [
        {
         "cells": {
          "align": "left",
          "fill": {
           "color": [
            [
             "white",
             "lightgrey",
             "white",
             "lightgrey",
             "white",
             "lightgrey",
             "white",
             "lightgrey",
             "white",
             "lightgrey"
            ]
           ]
          },
          "font": {
           "size": 12
          },
          "height": 30,
          "values": [
           [
            67.45152555906519,
            0.804323393424103,
            10.602174677793574,
            67.17547071394353,
            32.548082259843326,
            35.40139299573556,
            57.9615464410949,
            70.23823147415848,
            2.451026759474529,
            2.3488606449890193
           ],
           [
            1.8370262584528891,
            0.96601890571161,
            1.237771490293987,
            1.8728308639570082,
            0.8727700108635551,
            0.8404671169836052,
            1.7428453223525542,
            1.2175723693371456,
            1.9305875621822168,
            1.7344789044087796
           ],
           [
            114.9596441893741,
            269.3890698762898,
            350.63611540685037,
            255.7451172676335,
            194.7977760698094,
            184.8875274079973,
            125.93977777101848,
            205.58459710724586,
            328.0075257308312,
            182.64903050220377
           ],
           [
            237.97023049651403,
            224.41463234441989,
            193.20056388807546,
            320.94708258204327,
            247.8196157927187,
            156.30067902507466,
            215.49270238663766,
            116.6060725855794,
            141.30461785203732,
            107.67633904666602
           ],
           [
            3.6179288084536703,
            1.9597210288244389,
            1.6216022249036075,
            1.2957036478675759,
            1.6966619410227193,
            1.714616748999942,
            1.6675857327214585,
            3.6041020202832597,
            2.4391052204856343,
            4.8700800754332345
           ],
           [
            7.639040483237668,
            31.10942259870754,
            58.04961517475484,
            0.9918053932884405,
            64.75944803453953,
            54.602207409906946,
            42.484094404686324,
            62.05662368222144,
            74.522198832398,
            64.67501704997714
           ],
           [
            0.7099065956473956,
            0.8565700524383928,
            1.7469442730599685,
            1.9590426444419058,
            0.15713859672620206,
            1.6275749313673225,
            0.20461314393433838,
            0.7802042560380996,
            0.2135731749125936,
            0.46905713556452056
           ],
           [
            259.2256187730155,
            402.99000840715104,
            386.5736841256384,
            281.26736994843384,
            309.9041415084188,
            226.238607618237,
            267.5987716681817,
            360.3523403574653,
            339.4709934284988,
            305.8445019871316
           ],
           [
            257.85687793059134,
            330.29437603709147,
            436.1817635149939,
            364.51410648218723,
            316.28176560120016,
            370.80381003580726,
            246.48203802419852,
            472.9294970580653,
            355.0800043407676,
            138.35794542785672
           ],
           [
            1.5191301881506079,
            1.0918401615442292,
            3.3892629034844646,
            2.754161382207154,
            4.675538339881404,
            1.127395644653117,
            2.5159695743794304,
            1.9054499454712484,
            2.601127096217648,
            3.0198216195939
           ],
           [
            24.63121898133035,
            25.544634151444672,
            32.52416075223984,
            14.44108348261687,
            28.02808113821164,
            104.8307515717979,
            26.242318450957345,
            75.3856808510155,
            76.87758879943974,
            56.0040464722493
           ],
           [
            1.4381038185327988,
            1.5010153922357243,
            1.91679326420081,
            0.3495633582268189,
            1.7581242318852246,
            0.6239653648587836,
            1.5503734585742144,
            0.4362121314001319,
            1.203864726806975,
            0.841700254259586
           ],
           [
            657.475687172308,
            419.59775586764425,
            497.49201267376174,
            335.08148166731155,
            320.90131247655165,
            351.3170843187167,
            331.7772925975776,
            420.04000122220083,
            682.4417396592137,
            333.7353758027129
           ],
           [
            543.4044292361937,
            372.9619229021156,
            458.2107382539368,
            535.141378263314,
            373.4900870827026,
            474.33926165059995,
            295.94464194298496,
            587.4165309910138,
            506.8067221784363,
            521.8304263559635
           ],
           [
            1.1472414245638256,
            5.559514643094072,
            4.155979306957058,
            5.074350917189671,
            1.982847582034414,
            2.4922287229871656,
            1.7515807005796475,
            4.142007390000443,
            1.1178840993142205,
            1.6926878394573923
           ],
           [
            0.05048972320715406,
            0.5134085461894319,
            0.9391731067984671,
            0.24527872954347904,
            0.7835900013689816,
            0.6525700765136929,
            0.295567536047775,
            0.6405945098415444,
            0.6649850454346682,
            0.09571450369758097
           ],
           [
            0.7865178112063647,
            0.2264474523410812,
            0.022369524328700048,
            0.3190580401307699,
            0.050040278227208135,
            0.10347004561239484,
            0.15991911028290434,
            0.17667124844812546,
            0.12005298513588585,
            0.5344570281005592
           ],
           [
            0.16299246558648156,
            0.2601440014694869,
            0.0384573688728328,
            0.43566323032575105,
            0.16636972040381026,
            0.24395987787391227,
            0.5445133536693206,
            0.18273424171033015,
            0.214961969429446,
            0.3698284682018599
           ],
           [
            0.085,
            0.118,
            0.119,
            0.146,
            0.147,
            0.15,
            0.152,
            0.164,
            0.165,
            0.166
           ]
          ]
         },
         "columnwidth": 1000,
         "header": {
          "align": "left",
          "fill": {
           "color": "lavender"
          },
          "font": {
           "size": 12
          },
          "height": 30,
          "values": [
           "Phase 1 Electrical conductivity, [S/m]",
           "Phase 2 Electrical conductivity, [S/m]",
           "Phase 3 Electrical conductivity, [S/m]",
           "Phase 1 Thermal conductivity, [W/m/K]",
           "Phase 2 Thermal conductivity, [W/m/K]",
           "Phase 3 Thermal conductivity, [W/m/K]",
           "Phase 1 Bulk modulus, [GPa]",
           "Phase 2 Bulk modulus, [GPa]",
           "Phase 3 Bulk modulus, [GPa]",
           "Phase 1 Shear modulus, [GPa]",
           "Phase 2 Shear modulus, [GPa]",
           "Phase 3 Shear modulus, [GPa]",
           "Phase 1 Universal anisotropy, []",
           "Phase 2 Universal anisotropy, []",
           "Phase 3 Universal anisotropy, []",
           "Phase 1 Volume Fraction",
           "Phase 2 Volume Fraction",
           "Phase 3 Volume Fraction",
           "cost"
          ]
         },
         "type": "table"
        }
       ],
       "layout": {
        "autosize": true,
        "height": 400,
        "margin": {
         "b": 0,
         "l": 0,
         "r": 0,
         "t": 40
        },
        "template": {
         "data": {
          "bar": [
           {
            "error_x": {
             "color": "#2a3f5f"
            },
            "error_y": {
             "color": "#2a3f5f"
            },
            "marker": {
             "line": {
              "color": "#E5ECF6",
              "width": 0.5
             },
             "pattern": {
              "fillmode": "overlay",
              "size": 10,
              "solidity": 0.2
             }
            },
            "type": "bar"
           }
          ],
          "barpolar": [
           {
            "marker": {
             "line": {
              "color": "#E5ECF6",
              "width": 0.5
             },
             "pattern": {
              "fillmode": "overlay",
              "size": 10,
              "solidity": 0.2
             }
            },
            "type": "barpolar"
           }
          ],
          "carpet": [
           {
            "aaxis": {
             "endlinecolor": "#2a3f5f",
             "gridcolor": "white",
             "linecolor": "white",
             "minorgridcolor": "white",
             "startlinecolor": "#2a3f5f"
            },
            "baxis": {
             "endlinecolor": "#2a3f5f",
             "gridcolor": "white",
             "linecolor": "white",
             "minorgridcolor": "white",
             "startlinecolor": "#2a3f5f"
            },
            "type": "carpet"
           }
          ],
          "choropleth": [
           {
            "colorbar": {
             "outlinewidth": 0,
             "ticks": ""
            },
            "type": "choropleth"
           }
          ],
          "contour": [
           {
            "colorbar": {
             "outlinewidth": 0,
             "ticks": ""
            },
            "colorscale": [
             [
              0,
              "#0d0887"
             ],
             [
              0.1111111111111111,
              "#46039f"
             ],
             [
              0.2222222222222222,
              "#7201a8"
             ],
             [
              0.3333333333333333,
              "#9c179e"
             ],
             [
              0.4444444444444444,
              "#bd3786"
             ],
             [
              0.5555555555555556,
              "#d8576b"
             ],
             [
              0.6666666666666666,
              "#ed7953"
             ],
             [
              0.7777777777777778,
              "#fb9f3a"
             ],
             [
              0.8888888888888888,
              "#fdca26"
             ],
             [
              1,
              "#f0f921"
             ]
            ],
            "type": "contour"
           }
          ],
          "contourcarpet": [
           {
            "colorbar": {
             "outlinewidth": 0,
             "ticks": ""
            },
            "type": "contourcarpet"
           }
          ],
          "heatmap": [
           {
            "colorbar": {
             "outlinewidth": 0,
             "ticks": ""
            },
            "colorscale": [
             [
              0,
              "#0d0887"
             ],
             [
              0.1111111111111111,
              "#46039f"
             ],
             [
              0.2222222222222222,
              "#7201a8"
             ],
             [
              0.3333333333333333,
              "#9c179e"
             ],
             [
              0.4444444444444444,
              "#bd3786"
             ],
             [
              0.5555555555555556,
              "#d8576b"
             ],
             [
              0.6666666666666666,
              "#ed7953"
             ],
             [
              0.7777777777777778,
              "#fb9f3a"
             ],
             [
              0.8888888888888888,
              "#fdca26"
             ],
             [
              1,
              "#f0f921"
             ]
            ],
            "type": "heatmap"
           }
          ],
          "heatmapgl": [
           {
            "colorbar": {
             "outlinewidth": 0,
             "ticks": ""
            },
            "colorscale": [
             [
              0,
              "#0d0887"
             ],
             [
              0.1111111111111111,
              "#46039f"
             ],
             [
              0.2222222222222222,
              "#7201a8"
             ],
             [
              0.3333333333333333,
              "#9c179e"
             ],
             [
              0.4444444444444444,
              "#bd3786"
             ],
             [
              0.5555555555555556,
              "#d8576b"
             ],
             [
              0.6666666666666666,
              "#ed7953"
             ],
             [
              0.7777777777777778,
              "#fb9f3a"
             ],
             [
              0.8888888888888888,
              "#fdca26"
             ],
             [
              1,
              "#f0f921"
             ]
            ],
            "type": "heatmapgl"
           }
          ],
          "histogram": [
           {
            "marker": {
             "pattern": {
              "fillmode": "overlay",
              "size": 10,
              "solidity": 0.2
             }
            },
            "type": "histogram"
           }
          ],
          "histogram2d": [
           {
            "colorbar": {
             "outlinewidth": 0,
             "ticks": ""
            },
            "colorscale": [
             [
              0,
              "#0d0887"
             ],
             [
              0.1111111111111111,
              "#46039f"
             ],
             [
              0.2222222222222222,
              "#7201a8"
             ],
             [
              0.3333333333333333,
              "#9c179e"
             ],
             [
              0.4444444444444444,
              "#bd3786"
             ],
             [
              0.5555555555555556,
              "#d8576b"
             ],
             [
              0.6666666666666666,
              "#ed7953"
             ],
             [
              0.7777777777777778,
              "#fb9f3a"
             ],
             [
              0.8888888888888888,
              "#fdca26"
             ],
             [
              1,
              "#f0f921"
             ]
            ],
            "type": "histogram2d"
           }
          ],
          "histogram2dcontour": [
           {
            "colorbar": {
             "outlinewidth": 0,
             "ticks": ""
            },
            "colorscale": [
             [
              0,
              "#0d0887"
             ],
             [
              0.1111111111111111,
              "#46039f"
             ],
             [
              0.2222222222222222,
              "#7201a8"
             ],
             [
              0.3333333333333333,
              "#9c179e"
             ],
             [
              0.4444444444444444,
              "#bd3786"
             ],
             [
              0.5555555555555556,
              "#d8576b"
             ],
             [
              0.6666666666666666,
              "#ed7953"
             ],
             [
              0.7777777777777778,
              "#fb9f3a"
             ],
             [
              0.8888888888888888,
              "#fdca26"
             ],
             [
              1,
              "#f0f921"
             ]
            ],
            "type": "histogram2dcontour"
           }
          ],
          "mesh3d": [
           {
            "colorbar": {
             "outlinewidth": 0,
             "ticks": ""
            },
            "type": "mesh3d"
           }
          ],
          "parcoords": [
           {
            "line": {
             "colorbar": {
              "outlinewidth": 0,
              "ticks": ""
             }
            },
            "type": "parcoords"
           }
          ],
          "pie": [
           {
            "automargin": true,
            "type": "pie"
           }
          ],
          "scatter": [
           {
            "fillpattern": {
             "fillmode": "overlay",
             "size": 10,
             "solidity": 0.2
            },
            "type": "scatter"
           }
          ],
          "scatter3d": [
           {
            "line": {
             "colorbar": {
              "outlinewidth": 0,
              "ticks": ""
             }
            },
            "marker": {
             "colorbar": {
              "outlinewidth": 0,
              "ticks": ""
             }
            },
            "type": "scatter3d"
           }
          ],
          "scattercarpet": [
           {
            "marker": {
             "colorbar": {
              "outlinewidth": 0,
              "ticks": ""
             }
            },
            "type": "scattercarpet"
           }
          ],
          "scattergeo": [
           {
            "marker": {
             "colorbar": {
              "outlinewidth": 0,
              "ticks": ""
             }
            },
            "type": "scattergeo"
           }
          ],
          "scattergl": [
           {
            "marker": {
             "colorbar": {
              "outlinewidth": 0,
              "ticks": ""
             }
            },
            "type": "scattergl"
           }
          ],
          "scattermapbox": [
           {
            "marker": {
             "colorbar": {
              "outlinewidth": 0,
              "ticks": ""
             }
            },
            "type": "scattermapbox"
           }
          ],
          "scatterpolar": [
           {
            "marker": {
             "colorbar": {
              "outlinewidth": 0,
              "ticks": ""
             }
            },
            "type": "scatterpolar"
           }
          ],
          "scatterpolargl": [
           {
            "marker": {
             "colorbar": {
              "outlinewidth": 0,
              "ticks": ""
             }
            },
            "type": "scatterpolargl"
           }
          ],
          "scatterternary": [
           {
            "marker": {
             "colorbar": {
              "outlinewidth": 0,
              "ticks": ""
             }
            },
            "type": "scatterternary"
           }
          ],
          "surface": [
           {
            "colorbar": {
             "outlinewidth": 0,
             "ticks": ""
            },
            "colorscale": [
             [
              0,
              "#0d0887"
             ],
             [
              0.1111111111111111,
              "#46039f"
             ],
             [
              0.2222222222222222,
              "#7201a8"
             ],
             [
              0.3333333333333333,
              "#9c179e"
             ],
             [
              0.4444444444444444,
              "#bd3786"
             ],
             [
              0.5555555555555556,
              "#d8576b"
             ],
             [
              0.6666666666666666,
              "#ed7953"
             ],
             [
              0.7777777777777778,
              "#fb9f3a"
             ],
             [
              0.8888888888888888,
              "#fdca26"
             ],
             [
              1,
              "#f0f921"
             ]
            ],
            "type": "surface"
           }
          ],
          "table": [
           {
            "cells": {
             "fill": {
              "color": "#EBF0F8"
             },
             "line": {
              "color": "white"
             }
            },
            "header": {
             "fill": {
              "color": "#C8D4E3"
             },
             "line": {
              "color": "white"
             }
            },
            "type": "table"
           }
          ]
         },
         "layout": {
          "annotationdefaults": {
           "arrowcolor": "#2a3f5f",
           "arrowhead": 0,
           "arrowwidth": 1
          },
          "autotypenumbers": "strict",
          "coloraxis": {
           "colorbar": {
            "outlinewidth": 0,
            "ticks": ""
           }
          },
          "colorscale": {
           "diverging": [
            [
             0,
             "#8e0152"
            ],
            [
             0.1,
             "#c51b7d"
            ],
            [
             0.2,
             "#de77ae"
            ],
            [
             0.3,
             "#f1b6da"
            ],
            [
             0.4,
             "#fde0ef"
            ],
            [
             0.5,
             "#f7f7f7"
            ],
            [
             0.6,
             "#e6f5d0"
            ],
            [
             0.7,
             "#b8e186"
            ],
            [
             0.8,
             "#7fbc41"
            ],
            [
             0.9,
             "#4d9221"
            ],
            [
             1,
             "#276419"
            ]
           ],
           "sequential": [
            [
             0,
             "#0d0887"
            ],
            [
             0.1111111111111111,
             "#46039f"
            ],
            [
             0.2222222222222222,
             "#7201a8"
            ],
            [
             0.3333333333333333,
             "#9c179e"
            ],
            [
             0.4444444444444444,
             "#bd3786"
            ],
            [
             0.5555555555555556,
             "#d8576b"
            ],
            [
             0.6666666666666666,
             "#ed7953"
            ],
            [
             0.7777777777777778,
             "#fb9f3a"
            ],
            [
             0.8888888888888888,
             "#fdca26"
            ],
            [
             1,
             "#f0f921"
            ]
           ],
           "sequentialminus": [
            [
             0,
             "#0d0887"
            ],
            [
             0.1111111111111111,
             "#46039f"
            ],
            [
             0.2222222222222222,
             "#7201a8"
            ],
            [
             0.3333333333333333,
             "#9c179e"
            ],
            [
             0.4444444444444444,
             "#bd3786"
            ],
            [
             0.5555555555555556,
             "#d8576b"
            ],
            [
             0.6666666666666666,
             "#ed7953"
            ],
            [
             0.7777777777777778,
             "#fb9f3a"
            ],
            [
             0.8888888888888888,
             "#fdca26"
            ],
            [
             1,
             "#f0f921"
            ]
           ]
          },
          "colorway": [
           "#636efa",
           "#EF553B",
           "#00cc96",
           "#ab63fa",
           "#FFA15A",
           "#19d3f3",
           "#FF6692",
           "#B6E880",
           "#FF97FF",
           "#FECB52"
          ],
          "font": {
           "color": "#2a3f5f"
          },
          "geo": {
           "bgcolor": "white",
           "lakecolor": "white",
           "landcolor": "#E5ECF6",
           "showlakes": true,
           "showland": true,
           "subunitcolor": "white"
          },
          "hoverlabel": {
           "align": "left"
          },
          "hovermode": "closest",
          "mapbox": {
           "style": "light"
          },
          "paper_bgcolor": "white",
          "plot_bgcolor": "#E5ECF6",
          "polar": {
           "angularaxis": {
            "gridcolor": "white",
            "linecolor": "white",
            "ticks": ""
           },
           "bgcolor": "#E5ECF6",
           "radialaxis": {
            "gridcolor": "white",
            "linecolor": "white",
            "ticks": ""
           }
          },
          "scene": {
           "xaxis": {
            "backgroundcolor": "#E5ECF6",
            "gridcolor": "white",
            "gridwidth": 2,
            "linecolor": "white",
            "showbackground": true,
            "ticks": "",
            "zerolinecolor": "white"
           },
           "yaxis": {
            "backgroundcolor": "#E5ECF6",
            "gridcolor": "white",
            "gridwidth": 2,
            "linecolor": "white",
            "showbackground": true,
            "ticks": "",
            "zerolinecolor": "white"
           },
           "zaxis": {
            "backgroundcolor": "#E5ECF6",
            "gridcolor": "white",
            "gridwidth": 2,
            "linecolor": "white",
            "showbackground": true,
            "ticks": "",
            "zerolinecolor": "white"
           }
          },
          "shapedefaults": {
           "line": {
            "color": "#2a3f5f"
           }
          },
          "ternary": {
           "aaxis": {
            "gridcolor": "white",
            "linecolor": "white",
            "ticks": ""
           },
           "baxis": {
            "gridcolor": "white",
            "linecolor": "white",
            "ticks": ""
           },
           "bgcolor": "#E5ECF6",
           "caxis": {
            "gridcolor": "white",
            "linecolor": "white",
            "ticks": ""
           }
          },
          "title": {
           "x": 0.05
          },
          "xaxis": {
           "automargin": true,
           "gridcolor": "white",
           "linecolor": "white",
           "ticks": "",
           "title": {
            "standoff": 15
           },
           "zerolinecolor": "white",
           "zerolinewidth": 2
          },
          "yaxis": {
           "automargin": true,
           "gridcolor": "white",
           "linecolor": "white",
           "ticks": "",
           "title": {
            "standoff": 15
           },
           "zerolinecolor": "white",
           "zerolinewidth": 2
          }
         }
        },
        "title": {
         "font": {
          "size": 20
         },
         "text": "Optimal Properties Recommended by Genetic Algorithm",
         "x": 0.2
        }
       }
      }
     },
     "metadata": {},
     "output_type": "display_data"
    }
   ],
   "source": [
    "# Print the optimization results as a table\n",
    "visualizer.print_table_of_best_designs(rows=10)"
   ]
  },
  {
   "cell_type": "code",
   "execution_count": 8,
   "metadata": {
    "tags": []
   },
   "outputs": [
    {
     "data": {
      "application/vnd.plotly.v1+json": {
       "config": {
        "plotlyServerURL": "https://plot.ly"
       },
       "data": [
        {
         "mode": "lines",
         "name": "Avg. of top 10 performers",
         "type": "scatter",
         "x": [
          0,
          1,
          2,
          3,
          4,
          5,
          6,
          7,
          8,
          9,
          10,
          11,
          12,
          13,
          14,
          15,
          16,
          17,
          18,
          19,
          20,
          21,
          22,
          23,
          24,
          25,
          26,
          27,
          28,
          29,
          30,
          31,
          32,
          33,
          34,
          35,
          36,
          37,
          38,
          39,
          40,
          41,
          42,
          43,
          44,
          45,
          46,
          47,
          48,
          49,
          50,
          51,
          52,
          53,
          54,
          55,
          56,
          57,
          58,
          59,
          60,
          61,
          62,
          63,
          64,
          65,
          66,
          67,
          68,
          69,
          70,
          71,
          72,
          73,
          74,
          75,
          76,
          77,
          78,
          79,
          80,
          81,
          82,
          83,
          84,
          85,
          86,
          87,
          88,
          89,
          90,
          91,
          92,
          93,
          94,
          95,
          96,
          97,
          98,
          99
         ],
         "y": [
          0.13580848432309184,
          0.1272993816156451,
          0.12368034863450261,
          0.11659157986811927,
          0.11061210695480879,
          0.1038694092374266,
          0.10252571844143121,
          0.10250816009870707,
          0.10250710449378682,
          0.10250705742205735,
          0.1025070564217129,
          0.10250705623750114,
          0.10250705616574358,
          0.10250705613769873,
          0.10250705612255753,
          0.10250705611404434,
          0.10250705611234925,
          0.10250705611223439,
          0.10250705611221367,
          0.10210058303386642,
          0.10170532178954894,
          0.10090879009057985,
          0.09910349634653795,
          0.09849321090829405,
          0.09846931234596415,
          0.09845368562003275,
          0.09844480190933401,
          0.09844291636527791,
          0.09844239213382519,
          0.09844236139832185,
          0.09844234191889459,
          0.09827734924819397,
          0.09827734764134148,
          0.09827734751707645,
          0.09827734747126651,
          0.09827734745024534,
          0.09827734744750612,
          0.09827734744748348,
          0.09827734744748232,
          0.09750571464498228,
          0.09750571459641075,
          0.09750571449508272,
          0.09750571438178504,
          0.09615806431473004,
          0.09383803850093841,
          0.08956321987906919,
          0.08565610477171429,
          0.08479047799793812,
          0.0847637045422605,
          0.08475519651248833,
          0.08475186341435832,
          0.08475148863599556,
          0.08475126527691193,
          0.08475113788731731,
          0.08475111376234681,
          0.08475110953642559,
          0.08475110708617262,
          0.08475110460202381,
          0.08475110387060383,
          0.08475110360053095,
          0.08475110344660347,
          0.08475110332989773,
          0.08475110332193939,
          0.0847511033211846,
          0.08475110332107147,
          0.08475110332106911,
          0.08475110332106847,
          0.0847511033210681,
          0.08475110332106792,
          0.08475110332106792,
          0.0847511033210679,
          0.0847511033210679,
          0.08475110332106787,
          0.08475110332106786,
          0.08475110332106786,
          0.08475110332106786,
          0.08475110332106785,
          0.08475110332106783,
          0.08475110332106783,
          0.08475110332106783,
          0.08475110332106783,
          0.08475110332106783,
          0.08475110332106783,
          0.08475110332106783,
          0.08475110332106783,
          0.08475110332106783,
          0.08475110332106783,
          0.08475110332106783,
          0.08475110332106783,
          0.08475110332106783,
          0.08475110332106783,
          0.08475110332106783,
          0.08475110332106783,
          0.08475110332106783,
          0.08475110332106783,
          0.08475110332106783,
          0.08475110332106783,
          0.08475110332106783,
          0.08475110332106783,
          0.08475110332106783
         ]
        },
        {
         "mode": "lines",
         "name": "Best costs",
         "type": "scatter",
         "x": [
          0,
          1,
          2,
          3,
          4,
          5,
          6,
          7,
          8,
          9,
          10,
          11,
          12,
          13,
          14,
          15,
          16,
          17,
          18,
          19,
          20,
          21,
          22,
          23,
          24,
          25,
          26,
          27,
          28,
          29,
          30,
          31,
          32,
          33,
          34,
          35,
          36,
          37,
          38,
          39,
          40,
          41,
          42,
          43,
          44,
          45,
          46,
          47,
          48,
          49,
          50,
          51,
          52,
          53,
          54,
          55,
          56,
          57,
          58,
          59,
          60,
          61,
          62,
          63,
          64,
          65,
          66,
          67,
          68,
          69,
          70,
          71,
          72,
          73,
          74,
          75,
          76,
          77,
          78,
          79,
          80,
          81,
          82,
          83,
          84,
          85,
          86,
          87,
          88,
          89,
          90,
          91,
          92,
          93,
          94,
          95,
          96,
          97,
          98,
          99
         ],
         "y": [
          0.10250705611220624,
          0.10250705611220624,
          0.10250705611220624,
          0.10250705611220624,
          0.10250705611220624,
          0.10250705611220624,
          0.10250705611220624,
          0.10250705611220624,
          0.10250705611220624,
          0.10250705611220624,
          0.10250705611220624,
          0.10250705611220624,
          0.10250705611220624,
          0.10250705611220624,
          0.10250705611220624,
          0.10250705611220624,
          0.10250705611220624,
          0.10250705611220624,
          0.10250705611220624,
          0.09844232532877534,
          0.09844232532877534,
          0.09844232532877534,
          0.09844232532877534,
          0.09844232532877534,
          0.09844232532877534,
          0.09844232532877534,
          0.09844232532877534,
          0.09844232532877534,
          0.09844232532877534,
          0.09844232532877534,
          0.09844232532877534,
          0.09679254174419019,
          0.09679254174419019,
          0.09679254174419019,
          0.09679254174419019,
          0.09679254174419019,
          0.09679254174419019,
          0.09679254174419019,
          0.09679254174419019,
          0.09072599790023847,
          0.09072599790023847,
          0.09072599790023847,
          0.09072599790023847,
          0.0849658256900598,
          0.08475110332106794,
          0.08475110332106794,
          0.08475110332106794,
          0.08475110332106794,
          0.08475110332106794,
          0.08475110332106794,
          0.08475110332106794,
          0.08475110332106794,
          0.08475110332106794,
          0.08475110332106794,
          0.08475110332106794,
          0.08475110332106794,
          0.08475110332106794,
          0.08475110332106794,
          0.08475110332106794,
          0.08475110332106794,
          0.08475110332106794,
          0.08475110332106794,
          0.08475110332106794,
          0.08475110332106794,
          0.08475110332106794,
          0.08475110332106794,
          0.08475110332106789,
          0.08475110332106789,
          0.08475110332106789,
          0.08475110332106789,
          0.08475110332106789,
          0.08475110332106786,
          0.08475110332106786,
          0.08475110332106785,
          0.08475110332106785,
          0.08475110332106785,
          0.08475110332106783,
          0.08475110332106783,
          0.08475110332106783,
          0.08475110332106783,
          0.08475110332106783,
          0.08475110332106783,
          0.08475110332106783,
          0.08475110332106783,
          0.08475110332106783,
          0.08475110332106783,
          0.08475110332106783,
          0.08475110332106783,
          0.08475110332106783,
          0.08475110332106783,
          0.08475110332106783,
          0.08475110332106783,
          0.08475110332106783,
          0.08475110332106783,
          0.08475110332106783,
          0.08475110332106783,
          0.08475110332106783,
          0.08475110332106783,
          0.08475110332106783,
          0.08475110332106783
         ]
        }
       ],
       "layout": {
        "height": 400,
        "legend": {
         "bgcolor": "rgba(255, 255, 255, 0.5)",
         "font": {
          "size": 14
         },
         "x": 1,
         "xanchor": "right",
         "y": 1,
         "yanchor": "top"
        },
        "margin": {
         "b": 50,
         "l": 50,
         "r": 50,
         "t": 50
        },
        "template": {
         "data": {
          "bar": [
           {
            "error_x": {
             "color": "#2a3f5f"
            },
            "error_y": {
             "color": "#2a3f5f"
            },
            "marker": {
             "line": {
              "color": "#E5ECF6",
              "width": 0.5
             },
             "pattern": {
              "fillmode": "overlay",
              "size": 10,
              "solidity": 0.2
             }
            },
            "type": "bar"
           }
          ],
          "barpolar": [
           {
            "marker": {
             "line": {
              "color": "#E5ECF6",
              "width": 0.5
             },
             "pattern": {
              "fillmode": "overlay",
              "size": 10,
              "solidity": 0.2
             }
            },
            "type": "barpolar"
           }
          ],
          "carpet": [
           {
            "aaxis": {
             "endlinecolor": "#2a3f5f",
             "gridcolor": "white",
             "linecolor": "white",
             "minorgridcolor": "white",
             "startlinecolor": "#2a3f5f"
            },
            "baxis": {
             "endlinecolor": "#2a3f5f",
             "gridcolor": "white",
             "linecolor": "white",
             "minorgridcolor": "white",
             "startlinecolor": "#2a3f5f"
            },
            "type": "carpet"
           }
          ],
          "choropleth": [
           {
            "colorbar": {
             "outlinewidth": 0,
             "ticks": ""
            },
            "type": "choropleth"
           }
          ],
          "contour": [
           {
            "colorbar": {
             "outlinewidth": 0,
             "ticks": ""
            },
            "colorscale": [
             [
              0,
              "#0d0887"
             ],
             [
              0.1111111111111111,
              "#46039f"
             ],
             [
              0.2222222222222222,
              "#7201a8"
             ],
             [
              0.3333333333333333,
              "#9c179e"
             ],
             [
              0.4444444444444444,
              "#bd3786"
             ],
             [
              0.5555555555555556,
              "#d8576b"
             ],
             [
              0.6666666666666666,
              "#ed7953"
             ],
             [
              0.7777777777777778,
              "#fb9f3a"
             ],
             [
              0.8888888888888888,
              "#fdca26"
             ],
             [
              1,
              "#f0f921"
             ]
            ],
            "type": "contour"
           }
          ],
          "contourcarpet": [
           {
            "colorbar": {
             "outlinewidth": 0,
             "ticks": ""
            },
            "type": "contourcarpet"
           }
          ],
          "heatmap": [
           {
            "colorbar": {
             "outlinewidth": 0,
             "ticks": ""
            },
            "colorscale": [
             [
              0,
              "#0d0887"
             ],
             [
              0.1111111111111111,
              "#46039f"
             ],
             [
              0.2222222222222222,
              "#7201a8"
             ],
             [
              0.3333333333333333,
              "#9c179e"
             ],
             [
              0.4444444444444444,
              "#bd3786"
             ],
             [
              0.5555555555555556,
              "#d8576b"
             ],
             [
              0.6666666666666666,
              "#ed7953"
             ],
             [
              0.7777777777777778,
              "#fb9f3a"
             ],
             [
              0.8888888888888888,
              "#fdca26"
             ],
             [
              1,
              "#f0f921"
             ]
            ],
            "type": "heatmap"
           }
          ],
          "heatmapgl": [
           {
            "colorbar": {
             "outlinewidth": 0,
             "ticks": ""
            },
            "colorscale": [
             [
              0,
              "#0d0887"
             ],
             [
              0.1111111111111111,
              "#46039f"
             ],
             [
              0.2222222222222222,
              "#7201a8"
             ],
             [
              0.3333333333333333,
              "#9c179e"
             ],
             [
              0.4444444444444444,
              "#bd3786"
             ],
             [
              0.5555555555555556,
              "#d8576b"
             ],
             [
              0.6666666666666666,
              "#ed7953"
             ],
             [
              0.7777777777777778,
              "#fb9f3a"
             ],
             [
              0.8888888888888888,
              "#fdca26"
             ],
             [
              1,
              "#f0f921"
             ]
            ],
            "type": "heatmapgl"
           }
          ],
          "histogram": [
           {
            "marker": {
             "pattern": {
              "fillmode": "overlay",
              "size": 10,
              "solidity": 0.2
             }
            },
            "type": "histogram"
           }
          ],
          "histogram2d": [
           {
            "colorbar": {
             "outlinewidth": 0,
             "ticks": ""
            },
            "colorscale": [
             [
              0,
              "#0d0887"
             ],
             [
              0.1111111111111111,
              "#46039f"
             ],
             [
              0.2222222222222222,
              "#7201a8"
             ],
             [
              0.3333333333333333,
              "#9c179e"
             ],
             [
              0.4444444444444444,
              "#bd3786"
             ],
             [
              0.5555555555555556,
              "#d8576b"
             ],
             [
              0.6666666666666666,
              "#ed7953"
             ],
             [
              0.7777777777777778,
              "#fb9f3a"
             ],
             [
              0.8888888888888888,
              "#fdca26"
             ],
             [
              1,
              "#f0f921"
             ]
            ],
            "type": "histogram2d"
           }
          ],
          "histogram2dcontour": [
           {
            "colorbar": {
             "outlinewidth": 0,
             "ticks": ""
            },
            "colorscale": [
             [
              0,
              "#0d0887"
             ],
             [
              0.1111111111111111,
              "#46039f"
             ],
             [
              0.2222222222222222,
              "#7201a8"
             ],
             [
              0.3333333333333333,
              "#9c179e"
             ],
             [
              0.4444444444444444,
              "#bd3786"
             ],
             [
              0.5555555555555556,
              "#d8576b"
             ],
             [
              0.6666666666666666,
              "#ed7953"
             ],
             [
              0.7777777777777778,
              "#fb9f3a"
             ],
             [
              0.8888888888888888,
              "#fdca26"
             ],
             [
              1,
              "#f0f921"
             ]
            ],
            "type": "histogram2dcontour"
           }
          ],
          "mesh3d": [
           {
            "colorbar": {
             "outlinewidth": 0,
             "ticks": ""
            },
            "type": "mesh3d"
           }
          ],
          "parcoords": [
           {
            "line": {
             "colorbar": {
              "outlinewidth": 0,
              "ticks": ""
             }
            },
            "type": "parcoords"
           }
          ],
          "pie": [
           {
            "automargin": true,
            "type": "pie"
           }
          ],
          "scatter": [
           {
            "fillpattern": {
             "fillmode": "overlay",
             "size": 10,
             "solidity": 0.2
            },
            "type": "scatter"
           }
          ],
          "scatter3d": [
           {
            "line": {
             "colorbar": {
              "outlinewidth": 0,
              "ticks": ""
             }
            },
            "marker": {
             "colorbar": {
              "outlinewidth": 0,
              "ticks": ""
             }
            },
            "type": "scatter3d"
           }
          ],
          "scattercarpet": [
           {
            "marker": {
             "colorbar": {
              "outlinewidth": 0,
              "ticks": ""
             }
            },
            "type": "scattercarpet"
           }
          ],
          "scattergeo": [
           {
            "marker": {
             "colorbar": {
              "outlinewidth": 0,
              "ticks": ""
             }
            },
            "type": "scattergeo"
           }
          ],
          "scattergl": [
           {
            "marker": {
             "colorbar": {
              "outlinewidth": 0,
              "ticks": ""
             }
            },
            "type": "scattergl"
           }
          ],
          "scattermapbox": [
           {
            "marker": {
             "colorbar": {
              "outlinewidth": 0,
              "ticks": ""
             }
            },
            "type": "scattermapbox"
           }
          ],
          "scatterpolar": [
           {
            "marker": {
             "colorbar": {
              "outlinewidth": 0,
              "ticks": ""
             }
            },
            "type": "scatterpolar"
           }
          ],
          "scatterpolargl": [
           {
            "marker": {
             "colorbar": {
              "outlinewidth": 0,
              "ticks": ""
             }
            },
            "type": "scatterpolargl"
           }
          ],
          "scatterternary": [
           {
            "marker": {
             "colorbar": {
              "outlinewidth": 0,
              "ticks": ""
             }
            },
            "type": "scatterternary"
           }
          ],
          "surface": [
           {
            "colorbar": {
             "outlinewidth": 0,
             "ticks": ""
            },
            "colorscale": [
             [
              0,
              "#0d0887"
             ],
             [
              0.1111111111111111,
              "#46039f"
             ],
             [
              0.2222222222222222,
              "#7201a8"
             ],
             [
              0.3333333333333333,
              "#9c179e"
             ],
             [
              0.4444444444444444,
              "#bd3786"
             ],
             [
              0.5555555555555556,
              "#d8576b"
             ],
             [
              0.6666666666666666,
              "#ed7953"
             ],
             [
              0.7777777777777778,
              "#fb9f3a"
             ],
             [
              0.8888888888888888,
              "#fdca26"
             ],
             [
              1,
              "#f0f921"
             ]
            ],
            "type": "surface"
           }
          ],
          "table": [
           {
            "cells": {
             "fill": {
              "color": "#EBF0F8"
             },
             "line": {
              "color": "white"
             }
            },
            "header": {
             "fill": {
              "color": "#C8D4E3"
             },
             "line": {
              "color": "white"
             }
            },
            "type": "table"
           }
          ]
         },
         "layout": {
          "annotationdefaults": {
           "arrowcolor": "#2a3f5f",
           "arrowhead": 0,
           "arrowwidth": 1
          },
          "autotypenumbers": "strict",
          "coloraxis": {
           "colorbar": {
            "outlinewidth": 0,
            "ticks": ""
           }
          },
          "colorscale": {
           "diverging": [
            [
             0,
             "#8e0152"
            ],
            [
             0.1,
             "#c51b7d"
            ],
            [
             0.2,
             "#de77ae"
            ],
            [
             0.3,
             "#f1b6da"
            ],
            [
             0.4,
             "#fde0ef"
            ],
            [
             0.5,
             "#f7f7f7"
            ],
            [
             0.6,
             "#e6f5d0"
            ],
            [
             0.7,
             "#b8e186"
            ],
            [
             0.8,
             "#7fbc41"
            ],
            [
             0.9,
             "#4d9221"
            ],
            [
             1,
             "#276419"
            ]
           ],
           "sequential": [
            [
             0,
             "#0d0887"
            ],
            [
             0.1111111111111111,
             "#46039f"
            ],
            [
             0.2222222222222222,
             "#7201a8"
            ],
            [
             0.3333333333333333,
             "#9c179e"
            ],
            [
             0.4444444444444444,
             "#bd3786"
            ],
            [
             0.5555555555555556,
             "#d8576b"
            ],
            [
             0.6666666666666666,
             "#ed7953"
            ],
            [
             0.7777777777777778,
             "#fb9f3a"
            ],
            [
             0.8888888888888888,
             "#fdca26"
            ],
            [
             1,
             "#f0f921"
            ]
           ],
           "sequentialminus": [
            [
             0,
             "#0d0887"
            ],
            [
             0.1111111111111111,
             "#46039f"
            ],
            [
             0.2222222222222222,
             "#7201a8"
            ],
            [
             0.3333333333333333,
             "#9c179e"
            ],
            [
             0.4444444444444444,
             "#bd3786"
            ],
            [
             0.5555555555555556,
             "#d8576b"
            ],
            [
             0.6666666666666666,
             "#ed7953"
            ],
            [
             0.7777777777777778,
             "#fb9f3a"
            ],
            [
             0.8888888888888888,
             "#fdca26"
            ],
            [
             1,
             "#f0f921"
            ]
           ]
          },
          "colorway": [
           "#636efa",
           "#EF553B",
           "#00cc96",
           "#ab63fa",
           "#FFA15A",
           "#19d3f3",
           "#FF6692",
           "#B6E880",
           "#FF97FF",
           "#FECB52"
          ],
          "font": {
           "color": "#2a3f5f"
          },
          "geo": {
           "bgcolor": "white",
           "lakecolor": "white",
           "landcolor": "#E5ECF6",
           "showlakes": true,
           "showland": true,
           "subunitcolor": "white"
          },
          "hoverlabel": {
           "align": "left"
          },
          "hovermode": "closest",
          "mapbox": {
           "style": "light"
          },
          "paper_bgcolor": "white",
          "plot_bgcolor": "#E5ECF6",
          "polar": {
           "angularaxis": {
            "gridcolor": "white",
            "linecolor": "white",
            "ticks": ""
           },
           "bgcolor": "#E5ECF6",
           "radialaxis": {
            "gridcolor": "white",
            "linecolor": "white",
            "ticks": ""
           }
          },
          "scene": {
           "xaxis": {
            "backgroundcolor": "#E5ECF6",
            "gridcolor": "white",
            "gridwidth": 2,
            "linecolor": "white",
            "showbackground": true,
            "ticks": "",
            "zerolinecolor": "white"
           },
           "yaxis": {
            "backgroundcolor": "#E5ECF6",
            "gridcolor": "white",
            "gridwidth": 2,
            "linecolor": "white",
            "showbackground": true,
            "ticks": "",
            "zerolinecolor": "white"
           },
           "zaxis": {
            "backgroundcolor": "#E5ECF6",
            "gridcolor": "white",
            "gridwidth": 2,
            "linecolor": "white",
            "showbackground": true,
            "ticks": "",
            "zerolinecolor": "white"
           }
          },
          "shapedefaults": {
           "line": {
            "color": "#2a3f5f"
           }
          },
          "ternary": {
           "aaxis": {
            "gridcolor": "white",
            "linecolor": "white",
            "ticks": ""
           },
           "baxis": {
            "gridcolor": "white",
            "linecolor": "white",
            "ticks": ""
           },
           "bgcolor": "#E5ECF6",
           "caxis": {
            "gridcolor": "white",
            "linecolor": "white",
            "ticks": ""
           }
          },
          "title": {
           "x": 0.05
          },
          "xaxis": {
           "automargin": true,
           "gridcolor": "white",
           "linecolor": "white",
           "ticks": "",
           "title": {
            "standoff": 15
           },
           "zerolinecolor": "white",
           "zerolinewidth": 2
          },
          "yaxis": {
           "automargin": true,
           "gridcolor": "white",
           "linecolor": "white",
           "ticks": "",
           "title": {
            "standoff": 15
           },
           "zerolinecolor": "white",
           "zerolinewidth": 2
          }
         }
        },
        "title": {
         "font": {
          "size": 24
         },
         "text": "Convergence of Genetic Algorithm",
         "x": 0.25
        },
        "width": 600,
        "xaxis": {
         "title": {
          "font": {
           "size": 20
          },
          "text": "Generation"
         }
        },
        "yaxis": {
         "title": {
          "font": {
           "size": 20
          },
          "text": "Cost"
         }
        }
       }
      }
     },
     "metadata": {},
     "output_type": "display_data"
    }
   ],
   "source": [
    "# Plot the genetic algorithm convergence plot\n",
    "visualizer.plot_optimization_results()"
   ]
  },
  {
   "cell_type": "code",
   "execution_count": 9,
   "metadata": {
    "tags": []
   },
   "outputs": [
    {
     "name": "stdout",
     "output_type": "stream",
     "text": [
      "Cost of best design: 0.08475110332106783\n"
     ]
    },
    {
     "data": {
      "application/vnd.plotly.v1+json": {
       "config": {
        "plotlyServerURL": "https://plot.ly"
       },
       "data": [
        {
         "hole": 0.25,
         "insidetextorientation": "radial",
         "labels": [
          "eff. elec_cond_300k_low_doping",
          "eff. therm_cond_300k_low_doping",
          "eff. bulk_modulus",
          "eff. shear_modulus",
          "eff. universal_anisotropy",
          "cf load on elec_cond_300k_low_doping",
          "cf response from elec_cond_300k_low_doping",
          "cf load on therm_cond_300k_low_doping",
          "cf response from therm_cond_300k_low_doping",
          "cf hydrostatic stress",
          "cf deviatoric stress",
          "cf load on universal_anisotropy",
          "cf response from universal_anisotropy"
         ],
         "textinfo": "percent",
         "type": "pie",
         "values": [
          0.10435888396144788,
          0.027701011587246454,
          0.023647067479033314,
          0.11447585462055153,
          0.010072287895656661,
          0.028961995000152896,
          0,
          0.050760177051100135,
          0.1293517518483008,
          0.04517121231029221,
          0.3500538991911003,
          0.026377104475561085,
          0.008517514584197841,
          0.04351035868915422,
          0.08481705101184393,
          0.10884215370737692,
          0.2537073947682466,
          0.36541022604511,
          0,
          0.014175962843286087,
          0.13717476570376558,
          0.022910414187376504,
          0.03166794785353094,
          0,
          0,
          0.04890605380990522,
          0.04840455167383186,
          0.13708648724311767,
          0.34670812182746186
         ]
        }
       ],
       "layout": {
        "showlegend": true,
        "template": {
         "data": {
          "bar": [
           {
            "error_x": {
             "color": "#2a3f5f"
            },
            "error_y": {
             "color": "#2a3f5f"
            },
            "marker": {
             "line": {
              "color": "#E5ECF6",
              "width": 0.5
             },
             "pattern": {
              "fillmode": "overlay",
              "size": 10,
              "solidity": 0.2
             }
            },
            "type": "bar"
           }
          ],
          "barpolar": [
           {
            "marker": {
             "line": {
              "color": "#E5ECF6",
              "width": 0.5
             },
             "pattern": {
              "fillmode": "overlay",
              "size": 10,
              "solidity": 0.2
             }
            },
            "type": "barpolar"
           }
          ],
          "carpet": [
           {
            "aaxis": {
             "endlinecolor": "#2a3f5f",
             "gridcolor": "white",
             "linecolor": "white",
             "minorgridcolor": "white",
             "startlinecolor": "#2a3f5f"
            },
            "baxis": {
             "endlinecolor": "#2a3f5f",
             "gridcolor": "white",
             "linecolor": "white",
             "minorgridcolor": "white",
             "startlinecolor": "#2a3f5f"
            },
            "type": "carpet"
           }
          ],
          "choropleth": [
           {
            "colorbar": {
             "outlinewidth": 0,
             "ticks": ""
            },
            "type": "choropleth"
           }
          ],
          "contour": [
           {
            "colorbar": {
             "outlinewidth": 0,
             "ticks": ""
            },
            "colorscale": [
             [
              0,
              "#0d0887"
             ],
             [
              0.1111111111111111,
              "#46039f"
             ],
             [
              0.2222222222222222,
              "#7201a8"
             ],
             [
              0.3333333333333333,
              "#9c179e"
             ],
             [
              0.4444444444444444,
              "#bd3786"
             ],
             [
              0.5555555555555556,
              "#d8576b"
             ],
             [
              0.6666666666666666,
              "#ed7953"
             ],
             [
              0.7777777777777778,
              "#fb9f3a"
             ],
             [
              0.8888888888888888,
              "#fdca26"
             ],
             [
              1,
              "#f0f921"
             ]
            ],
            "type": "contour"
           }
          ],
          "contourcarpet": [
           {
            "colorbar": {
             "outlinewidth": 0,
             "ticks": ""
            },
            "type": "contourcarpet"
           }
          ],
          "heatmap": [
           {
            "colorbar": {
             "outlinewidth": 0,
             "ticks": ""
            },
            "colorscale": [
             [
              0,
              "#0d0887"
             ],
             [
              0.1111111111111111,
              "#46039f"
             ],
             [
              0.2222222222222222,
              "#7201a8"
             ],
             [
              0.3333333333333333,
              "#9c179e"
             ],
             [
              0.4444444444444444,
              "#bd3786"
             ],
             [
              0.5555555555555556,
              "#d8576b"
             ],
             [
              0.6666666666666666,
              "#ed7953"
             ],
             [
              0.7777777777777778,
              "#fb9f3a"
             ],
             [
              0.8888888888888888,
              "#fdca26"
             ],
             [
              1,
              "#f0f921"
             ]
            ],
            "type": "heatmap"
           }
          ],
          "heatmapgl": [
           {
            "colorbar": {
             "outlinewidth": 0,
             "ticks": ""
            },
            "colorscale": [
             [
              0,
              "#0d0887"
             ],
             [
              0.1111111111111111,
              "#46039f"
             ],
             [
              0.2222222222222222,
              "#7201a8"
             ],
             [
              0.3333333333333333,
              "#9c179e"
             ],
             [
              0.4444444444444444,
              "#bd3786"
             ],
             [
              0.5555555555555556,
              "#d8576b"
             ],
             [
              0.6666666666666666,
              "#ed7953"
             ],
             [
              0.7777777777777778,
              "#fb9f3a"
             ],
             [
              0.8888888888888888,
              "#fdca26"
             ],
             [
              1,
              "#f0f921"
             ]
            ],
            "type": "heatmapgl"
           }
          ],
          "histogram": [
           {
            "marker": {
             "pattern": {
              "fillmode": "overlay",
              "size": 10,
              "solidity": 0.2
             }
            },
            "type": "histogram"
           }
          ],
          "histogram2d": [
           {
            "colorbar": {
             "outlinewidth": 0,
             "ticks": ""
            },
            "colorscale": [
             [
              0,
              "#0d0887"
             ],
             [
              0.1111111111111111,
              "#46039f"
             ],
             [
              0.2222222222222222,
              "#7201a8"
             ],
             [
              0.3333333333333333,
              "#9c179e"
             ],
             [
              0.4444444444444444,
              "#bd3786"
             ],
             [
              0.5555555555555556,
              "#d8576b"
             ],
             [
              0.6666666666666666,
              "#ed7953"
             ],
             [
              0.7777777777777778,
              "#fb9f3a"
             ],
             [
              0.8888888888888888,
              "#fdca26"
             ],
             [
              1,
              "#f0f921"
             ]
            ],
            "type": "histogram2d"
           }
          ],
          "histogram2dcontour": [
           {
            "colorbar": {
             "outlinewidth": 0,
             "ticks": ""
            },
            "colorscale": [
             [
              0,
              "#0d0887"
             ],
             [
              0.1111111111111111,
              "#46039f"
             ],
             [
              0.2222222222222222,
              "#7201a8"
             ],
             [
              0.3333333333333333,
              "#9c179e"
             ],
             [
              0.4444444444444444,
              "#bd3786"
             ],
             [
              0.5555555555555556,
              "#d8576b"
             ],
             [
              0.6666666666666666,
              "#ed7953"
             ],
             [
              0.7777777777777778,
              "#fb9f3a"
             ],
             [
              0.8888888888888888,
              "#fdca26"
             ],
             [
              1,
              "#f0f921"
             ]
            ],
            "type": "histogram2dcontour"
           }
          ],
          "mesh3d": [
           {
            "colorbar": {
             "outlinewidth": 0,
             "ticks": ""
            },
            "type": "mesh3d"
           }
          ],
          "parcoords": [
           {
            "line": {
             "colorbar": {
              "outlinewidth": 0,
              "ticks": ""
             }
            },
            "type": "parcoords"
           }
          ],
          "pie": [
           {
            "automargin": true,
            "type": "pie"
           }
          ],
          "scatter": [
           {
            "fillpattern": {
             "fillmode": "overlay",
             "size": 10,
             "solidity": 0.2
            },
            "type": "scatter"
           }
          ],
          "scatter3d": [
           {
            "line": {
             "colorbar": {
              "outlinewidth": 0,
              "ticks": ""
             }
            },
            "marker": {
             "colorbar": {
              "outlinewidth": 0,
              "ticks": ""
             }
            },
            "type": "scatter3d"
           }
          ],
          "scattercarpet": [
           {
            "marker": {
             "colorbar": {
              "outlinewidth": 0,
              "ticks": ""
             }
            },
            "type": "scattercarpet"
           }
          ],
          "scattergeo": [
           {
            "marker": {
             "colorbar": {
              "outlinewidth": 0,
              "ticks": ""
             }
            },
            "type": "scattergeo"
           }
          ],
          "scattergl": [
           {
            "marker": {
             "colorbar": {
              "outlinewidth": 0,
              "ticks": ""
             }
            },
            "type": "scattergl"
           }
          ],
          "scattermapbox": [
           {
            "marker": {
             "colorbar": {
              "outlinewidth": 0,
              "ticks": ""
             }
            },
            "type": "scattermapbox"
           }
          ],
          "scatterpolar": [
           {
            "marker": {
             "colorbar": {
              "outlinewidth": 0,
              "ticks": ""
             }
            },
            "type": "scatterpolar"
           }
          ],
          "scatterpolargl": [
           {
            "marker": {
             "colorbar": {
              "outlinewidth": 0,
              "ticks": ""
             }
            },
            "type": "scatterpolargl"
           }
          ],
          "scatterternary": [
           {
            "marker": {
             "colorbar": {
              "outlinewidth": 0,
              "ticks": ""
             }
            },
            "type": "scatterternary"
           }
          ],
          "surface": [
           {
            "colorbar": {
             "outlinewidth": 0,
             "ticks": ""
            },
            "colorscale": [
             [
              0,
              "#0d0887"
             ],
             [
              0.1111111111111111,
              "#46039f"
             ],
             [
              0.2222222222222222,
              "#7201a8"
             ],
             [
              0.3333333333333333,
              "#9c179e"
             ],
             [
              0.4444444444444444,
              "#bd3786"
             ],
             [
              0.5555555555555556,
              "#d8576b"
             ],
             [
              0.6666666666666666,
              "#ed7953"
             ],
             [
              0.7777777777777778,
              "#fb9f3a"
             ],
             [
              0.8888888888888888,
              "#fdca26"
             ],
             [
              1,
              "#f0f921"
             ]
            ],
            "type": "surface"
           }
          ],
          "table": [
           {
            "cells": {
             "fill": {
              "color": "#EBF0F8"
             },
             "line": {
              "color": "white"
             }
            },
            "header": {
             "fill": {
              "color": "#C8D4E3"
             },
             "line": {
              "color": "white"
             }
            },
            "type": "table"
           }
          ]
         },
         "layout": {
          "annotationdefaults": {
           "arrowcolor": "#2a3f5f",
           "arrowhead": 0,
           "arrowwidth": 1
          },
          "autotypenumbers": "strict",
          "coloraxis": {
           "colorbar": {
            "outlinewidth": 0,
            "ticks": ""
           }
          },
          "colorscale": {
           "diverging": [
            [
             0,
             "#8e0152"
            ],
            [
             0.1,
             "#c51b7d"
            ],
            [
             0.2,
             "#de77ae"
            ],
            [
             0.3,
             "#f1b6da"
            ],
            [
             0.4,
             "#fde0ef"
            ],
            [
             0.5,
             "#f7f7f7"
            ],
            [
             0.6,
             "#e6f5d0"
            ],
            [
             0.7,
             "#b8e186"
            ],
            [
             0.8,
             "#7fbc41"
            ],
            [
             0.9,
             "#4d9221"
            ],
            [
             1,
             "#276419"
            ]
           ],
           "sequential": [
            [
             0,
             "#0d0887"
            ],
            [
             0.1111111111111111,
             "#46039f"
            ],
            [
             0.2222222222222222,
             "#7201a8"
            ],
            [
             0.3333333333333333,
             "#9c179e"
            ],
            [
             0.4444444444444444,
             "#bd3786"
            ],
            [
             0.5555555555555556,
             "#d8576b"
            ],
            [
             0.6666666666666666,
             "#ed7953"
            ],
            [
             0.7777777777777778,
             "#fb9f3a"
            ],
            [
             0.8888888888888888,
             "#fdca26"
            ],
            [
             1,
             "#f0f921"
            ]
           ],
           "sequentialminus": [
            [
             0,
             "#0d0887"
            ],
            [
             0.1111111111111111,
             "#46039f"
            ],
            [
             0.2222222222222222,
             "#7201a8"
            ],
            [
             0.3333333333333333,
             "#9c179e"
            ],
            [
             0.4444444444444444,
             "#bd3786"
            ],
            [
             0.5555555555555556,
             "#d8576b"
            ],
            [
             0.6666666666666666,
             "#ed7953"
            ],
            [
             0.7777777777777778,
             "#fb9f3a"
            ],
            [
             0.8888888888888888,
             "#fdca26"
            ],
            [
             1,
             "#f0f921"
            ]
           ]
          },
          "colorway": [
           "#636efa",
           "#EF553B",
           "#00cc96",
           "#ab63fa",
           "#FFA15A",
           "#19d3f3",
           "#FF6692",
           "#B6E880",
           "#FF97FF",
           "#FECB52"
          ],
          "font": {
           "color": "#2a3f5f"
          },
          "geo": {
           "bgcolor": "white",
           "lakecolor": "white",
           "landcolor": "#E5ECF6",
           "showlakes": true,
           "showland": true,
           "subunitcolor": "white"
          },
          "hoverlabel": {
           "align": "left"
          },
          "hovermode": "closest",
          "mapbox": {
           "style": "light"
          },
          "paper_bgcolor": "white",
          "plot_bgcolor": "#E5ECF6",
          "polar": {
           "angularaxis": {
            "gridcolor": "white",
            "linecolor": "white",
            "ticks": ""
           },
           "bgcolor": "#E5ECF6",
           "radialaxis": {
            "gridcolor": "white",
            "linecolor": "white",
            "ticks": ""
           }
          },
          "scene": {
           "xaxis": {
            "backgroundcolor": "#E5ECF6",
            "gridcolor": "white",
            "gridwidth": 2,
            "linecolor": "white",
            "showbackground": true,
            "ticks": "",
            "zerolinecolor": "white"
           },
           "yaxis": {
            "backgroundcolor": "#E5ECF6",
            "gridcolor": "white",
            "gridwidth": 2,
            "linecolor": "white",
            "showbackground": true,
            "ticks": "",
            "zerolinecolor": "white"
           },
           "zaxis": {
            "backgroundcolor": "#E5ECF6",
            "gridcolor": "white",
            "gridwidth": 2,
            "linecolor": "white",
            "showbackground": true,
            "ticks": "",
            "zerolinecolor": "white"
           }
          },
          "shapedefaults": {
           "line": {
            "color": "#2a3f5f"
           }
          },
          "ternary": {
           "aaxis": {
            "gridcolor": "white",
            "linecolor": "white",
            "ticks": ""
           },
           "baxis": {
            "gridcolor": "white",
            "linecolor": "white",
            "ticks": ""
           },
           "bgcolor": "#E5ECF6",
           "caxis": {
            "gridcolor": "white",
            "linecolor": "white",
            "ticks": ""
           }
          },
          "title": {
           "x": 0.05
          },
          "xaxis": {
           "automargin": true,
           "gridcolor": "white",
           "linecolor": "white",
           "ticks": "",
           "title": {
            "standoff": 15
           },
           "zerolinecolor": "white",
           "zerolinewidth": 2
          },
          "yaxis": {
           "automargin": true,
           "gridcolor": "white",
           "linecolor": "white",
           "ticks": "",
           "title": {
            "standoff": 15
           },
           "zerolinecolor": "white",
           "zerolinewidth": 2
          }
         }
        },
        "title": {
         "text": "Cost Function Contributions"
        }
       }
      }
     },
     "metadata": {},
     "output_type": "display_data"
    }
   ],
   "source": [
    "# Plot the contributions to the cost function for the best performer\n",
    "visualizer.plot_cost_func_contribs()"
   ]
  },
  {
   "cell_type": "code",
   "execution_count": 10,
   "metadata": {
    "tags": []
   },
   "outputs": [],
   "source": [
    "# Create an instance of the MatchFinder class using the genetic algorithm result\n",
    "match_finder = MatchFinder(ga_result)"
   ]
  },
  {
   "cell_type": "code",
   "execution_count": 11,
   "metadata": {
    "tags": []
   },
   "outputs": [
    {
     "name": "stdout",
     "output_type": "stream",
     "text": [
      "overall_bounds_dict: {'elec_cond_300k_low_doping': {'upper_bound': 120.0, 'lower_bound': 1e-07}, 'therm_cond_300k_low_doping': {'upper_bound': 2.0, 'lower_bound': 1e-07}, 'bulk_modulus': {'upper_bound': 700.0, 'lower_bound': 20.0}, 'shear_modulus': {'upper_bound': 600.0, 'lower_bound': 80.0}, 'universal_anisotropy': {'upper_bound': 6.0, 'lower_bound': 0.9}}\n"
     ]
    },
    {
     "name": "stderr",
     "output_type": "stream",
     "text": [
      "Retrieving SummaryDoc documents: 100%|██████████| 210/210 [00:00<00:00, 1193501.14it/s]\n"
     ]
    },
    {
     "name": "stdout",
     "output_type": "stream",
     "text": [
      "Material Matches: {'mat1': [{'mp-684591': {'elec_cond': 87.8933, 'therm_cond': 0.000354247, 'bulk_modulus': 141.633, 'shear_modulus': 83.335, 'universal_anisotropy': 1.2690000000000001}}, {'mp-752826': {'elec_cond': 41.0475, 'therm_cond': 0.000111994, 'bulk_modulus': 166.16, 'shear_modulus': 81.144, 'universal_anisotropy': 1.271}}, {'mp-3536': {'elec_cond': 77.0117, 'therm_cond': 0.000316911, 'bulk_modulus': 182.861, 'shear_modulus': 98.235, 'universal_anisotropy': 1.062}}, {'mp-4391': {'elec_cond': 110.485, 'therm_cond': 0.000659704, 'bulk_modulus': 199.288, 'shear_modulus': 108.878, 'universal_anisotropy': 1.601}}, {'mp-753459': {'elec_cond': 114.842, 'therm_cond': 0.000524039, 'bulk_modulus': 212.133, 'shear_modulus': 90.785, 'universal_anisotropy': 3.167}}, {'mp-2657': {'elec_cond': 117.021, 'therm_cond': 0.000614014, 'bulk_modulus': 208.538, 'shear_modulus': 107.377, 'universal_anisotropy': 1.629}}, {'mp-755759': {'elec_cond': 87.3874, 'therm_cond': 0.000486809, 'bulk_modulus': 213.895, 'shear_modulus': 82.002, 'universal_anisotropy': 1.335}}, {'mp-4820': {'elec_cond': 110.659, 'therm_cond': 0.00056951, 'bulk_modulus': 202.03, 'shear_modulus': 97.007, 'universal_anisotropy': 1.016}}], 'mat2': [{'mp-684591': {'elec_cond': 87.8933, 'therm_cond': 0.000354247, 'bulk_modulus': 141.633, 'shear_modulus': 83.335, 'universal_anisotropy': 1.2690000000000001}}, {'mp-752826': {'elec_cond': 41.0475, 'therm_cond': 0.000111994, 'bulk_modulus': 166.16, 'shear_modulus': 81.144, 'universal_anisotropy': 1.271}}, {'mp-3536': {'elec_cond': 77.0117, 'therm_cond': 0.000316911, 'bulk_modulus': 182.861, 'shear_modulus': 98.235, 'universal_anisotropy': 1.062}}, {'mp-4391': {'elec_cond': 110.485, 'therm_cond': 0.000659704, 'bulk_modulus': 199.288, 'shear_modulus': 108.878, 'universal_anisotropy': 1.601}}, {'mp-753459': {'elec_cond': 114.842, 'therm_cond': 0.000524039, 'bulk_modulus': 212.133, 'shear_modulus': 90.785, 'universal_anisotropy': 3.167}}, {'mp-2657': {'elec_cond': 117.021, 'therm_cond': 0.000614014, 'bulk_modulus': 208.538, 'shear_modulus': 107.377, 'universal_anisotropy': 1.629}}, {'mp-755759': {'elec_cond': 87.3874, 'therm_cond': 0.000486809, 'bulk_modulus': 213.895, 'shear_modulus': 82.002, 'universal_anisotropy': 1.335}}, {'mp-4820': {'elec_cond': 110.659, 'therm_cond': 0.00056951, 'bulk_modulus': 202.03, 'shear_modulus': 97.007, 'universal_anisotropy': 1.016}}], 'mat3': [{'mp-684591': {'elec_cond': 87.8933, 'therm_cond': 0.000354247, 'bulk_modulus': 141.633, 'shear_modulus': 83.335, 'universal_anisotropy': 1.2690000000000001}}, {'mp-752826': {'elec_cond': 41.0475, 'therm_cond': 0.000111994, 'bulk_modulus': 166.16, 'shear_modulus': 81.144, 'universal_anisotropy': 1.271}}, {'mp-3536': {'elec_cond': 77.0117, 'therm_cond': 0.000316911, 'bulk_modulus': 182.861, 'shear_modulus': 98.235, 'universal_anisotropy': 1.062}}, {'mp-4391': {'elec_cond': 110.485, 'therm_cond': 0.000659704, 'bulk_modulus': 199.288, 'shear_modulus': 108.878, 'universal_anisotropy': 1.601}}, {'mp-753459': {'elec_cond': 114.842, 'therm_cond': 0.000524039, 'bulk_modulus': 212.133, 'shear_modulus': 90.785, 'universal_anisotropy': 3.167}}, {'mp-2657': {'elec_cond': 117.021, 'therm_cond': 0.000614014, 'bulk_modulus': 208.538, 'shear_modulus': 107.377, 'universal_anisotropy': 1.629}}, {'mp-755759': {'elec_cond': 87.3874, 'therm_cond': 0.000486809, 'bulk_modulus': 213.895, 'shear_modulus': 82.002, 'universal_anisotropy': 1.335}}, {'mp-4820': {'elec_cond': 110.659, 'therm_cond': 0.00056951, 'bulk_modulus': 202.03, 'shear_modulus': 97.007, 'universal_anisotropy': 1.016}}]}\n"
     ]
    }
   ],
   "source": [
    "# Get material matches\n",
    "matches_dict = match_finder.get_material_matches(overall_bounds_dict)\n",
    "print(f'Material Matches: {matches_dict}')"
   ]
  },
  {
   "cell_type": "code",
   "execution_count": null,
   "metadata": {},
   "outputs": [],
   "source": []
  }
 ],
 "metadata": {
  "kernelspec": {
   "display_name": "carla_mp_api",
   "language": "python",
   "name": "python3"
  },
  "language_info": {
   "codemirror_mode": {
    "name": "ipython",
    "version": 3
   },
   "file_extension": ".py",
   "mimetype": "text/x-python",
   "name": "python",
   "nbconvert_exporter": "python",
   "pygments_lexer": "ipython3",
   "version": "3.11.11"
  }
 },
 "nbformat": 4,
 "nbformat_minor": 4
}
