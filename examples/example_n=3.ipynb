{
 "cells": [
  {
   "cell_type": "code",
   "execution_count": 1,
   "metadata": {
    "tags": []
   },
   "outputs": [],
   "source": [
    "%load_ext autoreload\n",
    "%autoreload 2"
   ]
  },
  {
   "cell_type": "markdown",
   "metadata": {},
   "source": [
    "## Testing the Composites Discovery App with n=3 phases"
   ]
  },
  {
   "cell_type": "code",
   "execution_count": 2,
   "metadata": {},
   "outputs": [
    {
     "name": "stderr",
     "output_type": "stream",
     "text": [
      "/Users/carlabecker/opt/anaconda3/envs/carla_mp_api/lib/python3.11/site-packages/tqdm/auto.py:21: TqdmWarning: IProgress not found. Please update jupyter and ipywidgets. See https://ipywidgets.readthedocs.io/en/stable/user_install.html\n",
      "  from .autonotebook import tqdm as notebook_tqdm\n"
     ]
    }
   ],
   "source": [
    "from hashin_shtrikman_mp.core.user_input import MaterialProperty, Material, MixtureProperty, Mixture, UserInput\n",
    "from hashin_shtrikman_mp.core import GeneticAlgorithm\n",
    "from hashin_shtrikman_mp.core.genetic_algorithm import OptimizationParams\n",
    "from hashin_shtrikman_mp.core.visualization import OptimizationResultVisualizer\n",
    "from hashin_shtrikman_mp.core.match_finder import MatchFinder"
   ]
  },
  {
   "cell_type": "code",
   "execution_count": 3,
   "metadata": {
    "tags": []
   },
   "outputs": [
    {
     "name": "stdout",
     "output_type": "stream",
     "text": [
      "User Input:  {'mat_1': {'elec_cond_300k_low_doping': {'upper_bound': 120.0, 'lower_bound': 1e-07}, 'therm_cond_300k_low_doping': {'upper_bound': 2.0, 'lower_bound': 1e-07}, 'bulk_modulus': {'upper_bound': 500.0, 'lower_bound': 50.0}, 'shear_modulus': {'upper_bound': 500.0, 'lower_bound': 80.0}, 'universal_anisotropy': {'upper_bound': 6.0, 'lower_bound': 1.0}}, 'mat_2': {'elec_cond_300k_low_doping': {'upper_bound': 78.0, 'lower_bound': 1e-07}, 'therm_cond_300k_low_doping': {'upper_bound': 2.0, 'lower_bound': 1e-07}, 'bulk_modulus': {'upper_bound': 400.0, 'lower_bound': 20.0}, 'shear_modulus': {'upper_bound': 500.0, 'lower_bound': 100.0}, 'universal_anisotropy': {'upper_bound': 4.3, 'lower_bound': 1.3}}, 'mat_3': {'elec_cond_300k_low_doping': {'upper_bound': 78.0, 'lower_bound': 1e-07}, 'therm_cond_300k_low_doping': {'upper_bound': 2.0, 'lower_bound': 1e-07}, 'bulk_modulus': {'upper_bound': 700.0, 'lower_bound': 20.0}, 'shear_modulus': {'upper_bound': 600.0, 'lower_bound': 100.0}, 'universal_anisotropy': {'upper_bound': 2.1, 'lower_bound': 0.9}}, 'mixture': {'elec_cond_300k_low_doping': {'desired_prop': 9.0}, 'therm_cond_300k_low_doping': {'desired_prop': 0.9}, 'bulk_modulus': {'desired_prop': 280.0}, 'shear_modulus': {'desired_prop': 230.0}, 'universal_anisotropy': {'desired_prop': 1.5}}}\n",
      "Overall Upper & Lower Bounds:\n",
      "Property: elec_cond_300k_low_doping, Upper Bound: 120.0, Lower Bound: 1e-07\n",
      "Property: therm_cond_300k_low_doping, Upper Bound: 2.0, Lower Bound: 1e-07\n",
      "Property: bulk_modulus, Upper Bound: 700.0, Lower Bound: 20.0\n",
      "Property: shear_modulus, Upper Bound: 600.0, Lower Bound: 80.0\n",
      "Property: universal_anisotropy, Upper Bound: 6.0, Lower Bound: 0.9\n",
      "{'elec_cond_300k_low_doping': {'upper_bound': 120.0, 'lower_bound': 1e-07}, 'therm_cond_300k_low_doping': {'upper_bound': 2.0, 'lower_bound': 1e-07}, 'bulk_modulus': {'upper_bound': 700.0, 'lower_bound': 20.0}, 'shear_modulus': {'upper_bound': 600.0, 'lower_bound': 80.0}, 'universal_anisotropy': {'upper_bound': 6.0, 'lower_bound': 0.9}}\n"
     ]
    }
   ],
   "source": [
    "# Define properties for each material\n",
    "properties_mat_1 = [\n",
    "    MaterialProperty(prop='elec_cond_300k_low_doping', upper_bound=120, lower_bound=1e-7), # upper_bound=20, lower_bound=1 \n",
    "    MaterialProperty(prop='therm_cond_300k_low_doping', upper_bound=2, lower_bound=1e-7), # upper_bound=0.0001, lower_bound=1e-5 \n",
    "    MaterialProperty(prop='bulk_modulus', upper_bound=500, lower_bound=50),\n",
    "    MaterialProperty(prop='shear_modulus', upper_bound=500, lower_bound=80),\n",
    "    MaterialProperty(prop='universal_anisotropy', upper_bound=6, lower_bound=1),\n",
    "]\n",
    "\n",
    "properties_mat_2 = [\n",
    "    MaterialProperty(prop='elec_cond_300k_low_doping', upper_bound=78, lower_bound=1e-7), # upper_bound=5, lower_bound=2\n",
    "    MaterialProperty(prop='therm_cond_300k_low_doping', upper_bound=2, lower_bound=1e-7), # upper_bound=0.009, lower_bound=1e-4\n",
    "    MaterialProperty(prop='bulk_modulus', upper_bound=400, lower_bound=20),\n",
    "    MaterialProperty(prop='shear_modulus', upper_bound=500, lower_bound=100),\n",
    "    MaterialProperty(prop='universal_anisotropy', upper_bound=4.3, lower_bound=1.3),\n",
    "]\n",
    "\n",
    "properties_mat_3 = [\n",
    "    MaterialProperty(prop='elec_cond_300k_low_doping', upper_bound=78, lower_bound=1e-7), # upper_bound=10, lower_bound=1\n",
    "    MaterialProperty(prop='therm_cond_300k_low_doping', upper_bound=2, lower_bound=1e-7), # upper_bound=0.005, lower_bound=1e-4\n",
    "    MaterialProperty(prop='bulk_modulus', upper_bound=700, lower_bound=20),\n",
    "    MaterialProperty(prop='shear_modulus', upper_bound=600, lower_bound=100),\n",
    "    MaterialProperty(prop='universal_anisotropy', upper_bound=2.1, lower_bound=0.9),\n",
    "]\n",
    "\n",
    "# Define properties for the mixture\n",
    "properties_mixture = [\n",
    "    MixtureProperty(prop='elec_cond_300k_low_doping', desired_prop=9),\n",
    "    MixtureProperty(prop='therm_cond_300k_low_doping', desired_prop=0.9),\n",
    "    MixtureProperty(prop='bulk_modulus', desired_prop=280),\n",
    "    MixtureProperty(prop='shear_modulus', desired_prop=230),\n",
    "    MixtureProperty(prop='universal_anisotropy', desired_prop=1.5),\n",
    "]\n",
    "\n",
    "# Create Material & Mixture instances\n",
    "mat_1 = Material(name='mat_1', properties=properties_mat_1)\n",
    "mat_2 = Material(name='mat_2', properties=properties_mat_2)\n",
    "mat_3 = Material(name='mat_3', properties=properties_mat_3)\n",
    "mixture = Mixture(name='mixture', properties=properties_mixture)\n",
    "aggregate = [mat_1, mat_2, mat_3, mixture]\n",
    "\n",
    "# Initialize UserInput instance with materials and mixtures\n",
    "user_input= UserInput(materials=[mat_1, mat_2, mat_3], mixtures=[mixture])\n",
    "print(\"User Input: \", user_input)\n",
    "\n",
    "# Initialize dictionaries to store the overall upper and lower bounds for each property\n",
    "overall_bounds = {}\n",
    "\n",
    "# Iterate over materials\n",
    "for entity in aggregate:\n",
    "    # Skip the mixture as it doesn't have upper and lower bounds\n",
    "    if isinstance(entity, Material):\n",
    "        for property in entity.properties:\n",
    "            prop_name = property.prop\n",
    "\n",
    "            # Initialize the overall bounds if they are not already present for the property\n",
    "            if prop_name not in overall_bounds:\n",
    "                overall_bounds[prop_name] = {'upper_bound': property.upper_bound, 'lower_bound': property.lower_bound}\n",
    "            else:\n",
    "                # Update overall upper and lower bounds by comparing with existing values\n",
    "                overall_bounds[prop_name]['upper_bound'] = max(overall_bounds[prop_name]['upper_bound'], property.upper_bound)\n",
    "                overall_bounds[prop_name]['lower_bound'] = min(overall_bounds[prop_name]['lower_bound'], property.lower_bound)\n",
    "\n",
    "# Print the overall bounds for each property\n",
    "print(\"Overall Upper & Lower Bounds:\")\n",
    "for prop, bounds in overall_bounds.items():\n",
    "    print(f\"Property: {prop}, Upper Bound: {bounds['upper_bound']}, Lower Bound: {bounds['lower_bound']}\")\n",
    "\n",
    "# Step 1: Create the consolidated_dict\n",
    "overall_bounds_dict = {}\n",
    "for prop, bounds in overall_bounds.items():\n",
    "    overall_bounds_dict[prop] = {\n",
    "        'upper_bound': bounds['upper_bound'],\n",
    "        'lower_bound': bounds['lower_bound']\n",
    "    }\n",
    "\n",
    "print(overall_bounds_dict)"
   ]
  },
  {
   "cell_type": "code",
   "execution_count": 4,
   "metadata": {
    "tags": []
   },
   "outputs": [
    {
     "name": "stderr",
     "output_type": "stream",
     "text": [
      "2025-01-23 12:04:25,842 - hashin_shtrikman_mp.log.custom_logger - INFO - Loading property categories from /Users/carlabecker/Library/Mobile Documents/com~apple~CloudDocs/Carla's Desktop/UC Berkeley/Research/Materials Project/hashin_shtrikman_mp/src/hashin_shtrikman_mp/io/inputs/data/mp_property_docs.yaml.\n",
      "2025-01-23 12:04:25,849 - hashin_shtrikman_mp.log.custom_logger - INFO - property_categories = ['carrier-transport', 'elastic']\n",
      "2025-01-23 12:04:25,850 - hashin_shtrikman_mp.log.custom_logger - INFO - mixture_props = {'elec_cond_300k_low_doping': {'desired_prop': 9.0}, 'therm_cond_300k_low_doping': {'desired_prop': 0.9}, 'bulk_modulus': {'desired_prop': 280.0}, 'shear_modulus': {'desired_prop': 230.0}, 'universal_anisotropy': {'desired_prop': 1.5}}\n"
     ]
    },
    {
     "name": "stdout",
     "output_type": "stream",
     "text": [
      "Property categories:  ['carrier-transport', 'elastic']\n",
      "Property docs:  {'carrier-transport': {'elec_cond_300k_low_doping': None, 'therm_cond_300k_low_doping': None}, 'dielectric': {'e_electronic': None, 'e_ionic': None, 'e_total': None, 'n': None}, 'elastic': {'bulk_modulus': 'vrh', 'shear_modulus': 'vrh', 'universal_anisotropy': None}, 'magnetic': {'total_magnetization': None, 'total_magnetization_normalized_vol': None}, 'piezoelectric': {'e_ij_max': None}}\n",
      "Lower Bounds: {'mat_1': {'carrier-transport': [1e-07, 1e-07], 'elastic': [50.0, 80.0, 1.0]}, 'mat_2': {'carrier-transport': [1e-07, 1e-07], 'elastic': [20.0, 100.0, 1.3]}, 'mat_3': {'carrier-transport': [1e-07, 1e-07], 'elastic': [20.0, 100.0, 0.9]}, 'volume-fractions': [0.01, 0.01, 0.01]}\n",
      "Upper Bounds: {'mat_1': {'carrier-transport': [120.0, 2.0], 'elastic': [500.0, 500.0, 6.0]}, 'mat_2': {'carrier-transport': [78.0, 2.0], 'elastic': [400.0, 500.0, 4.3]}, 'mat_3': {'carrier-transport': [78.0, 2.0], 'elastic': [700.0, 600.0, 2.1]}, 'volume-fractions': [0.99, 0.99, 0.99]}\n",
      "Desired Properties: {'carrier-transport': [9.0, 0.9], 'elastic': [280.0, 230.0, 1.5]}\n",
      "Number of Materials: 3\n",
      "Number of Properties: 6\n"
     ]
    }
   ],
   "source": [
    "# Initialize optimization parameters and genetic algorithm\n",
    "optimization_parameters = OptimizationParams.from_user_input(user_input)\n",
    "ga = GeneticAlgorithm()\n",
    "\n",
    "print(\"Property categories: \", optimization_parameters.property_categories)\n",
    "print(\"Property docs: \", optimization_parameters.property_docs)\n",
    "\n",
    "print(\"Lower Bounds:\", optimization_parameters.lower_bounds)\n",
    "print(\"Upper Bounds:\", optimization_parameters.upper_bounds)\n",
    "print(\"Desired Properties:\", optimization_parameters.desired_props)\n",
    "\n",
    "print(\"Number of Materials:\", optimization_parameters.num_materials)\n",
    "print(\"Number of Properties:\", optimization_parameters.num_properties)"
   ]
  },
  {
   "cell_type": "code",
   "execution_count": 5,
   "metadata": {
    "tags": []
   },
   "outputs": [
    {
     "name": "stderr",
     "output_type": "stream",
     "text": [
      "2025-01-23 12:04:25,903 - hashin_shtrikman_mp.log.custom_logger - INFO - Loading property categories from /Users/carlabecker/Library/Mobile Documents/com~apple~CloudDocs/Carla's Desktop/UC Berkeley/Research/Materials Project/hashin_shtrikman_mp/src/hashin_shtrikman_mp/io/inputs/data/mp_property_docs.yaml.\n",
      "2025-01-23 12:04:25,908 - hashin_shtrikman_mp.log.custom_logger - INFO - property_categories = ['carrier-transport', 'elastic']\n",
      "2025-01-23 12:04:25,910 - hashin_shtrikman_mp.log.custom_logger - INFO - mixture_props = {'elec_cond_300k_low_doping': {'desired_prop': 9.0}, 'therm_cond_300k_low_doping': {'desired_prop': 0.9}, 'bulk_modulus': {'desired_prop': 280.0}, 'shear_modulus': {'desired_prop': 230.0}, 'universal_anisotropy': {'desired_prop': 1.5}}\n"
     ]
    },
    {
     "name": "stdout",
     "output_type": "stream",
     "text": [
      "Generation 0 of 100\n",
      "Generation 1 of 100\n",
      "Generation 2 of 100\n",
      "Generation 3 of 100\n",
      "Generation 4 of 100\n",
      "Generation 5 of 100\n",
      "Generation 6 of 100\n",
      "Generation 7 of 100\n",
      "Generation 8 of 100\n",
      "Generation 9 of 100\n",
      "Generation 10 of 100\n",
      "Generation 11 of 100\n",
      "Generation 12 of 100\n",
      "Generation 13 of 100\n",
      "Generation 14 of 100\n",
      "Generation 15 of 100\n",
      "Generation 16 of 100\n",
      "Generation 17 of 100\n",
      "Generation 18 of 100\n",
      "Generation 19 of 100\n",
      "Generation 20 of 100\n",
      "Generation 21 of 100\n",
      "Generation 22 of 100\n",
      "Generation 23 of 100\n",
      "Generation 24 of 100\n",
      "Generation 25 of 100\n",
      "Generation 26 of 100\n",
      "Generation 27 of 100\n",
      "Generation 28 of 100\n",
      "Generation 29 of 100\n",
      "Generation 30 of 100\n",
      "Generation 31 of 100\n",
      "Generation 32 of 100\n",
      "Generation 33 of 100\n",
      "Generation 34 of 100\n",
      "Generation 35 of 100\n",
      "Generation 36 of 100\n",
      "Generation 37 of 100\n",
      "Generation 38 of 100\n",
      "Generation 39 of 100\n",
      "Generation 40 of 100\n",
      "Generation 41 of 100\n",
      "Generation 42 of 100\n",
      "Generation 43 of 100\n",
      "Generation 44 of 100\n",
      "Generation 45 of 100\n",
      "Generation 46 of 100\n",
      "Generation 47 of 100\n",
      "Generation 48 of 100\n",
      "Generation 49 of 100\n",
      "Generation 50 of 100\n",
      "Generation 51 of 100\n",
      "Generation 52 of 100\n",
      "Generation 53 of 100\n",
      "Generation 54 of 100\n",
      "Generation 55 of 100\n",
      "Generation 56 of 100\n",
      "Generation 57 of 100\n",
      "Generation 58 of 100\n",
      "Generation 59 of 100\n",
      "Generation 60 of 100\n",
      "Generation 61 of 100\n",
      "Generation 62 of 100\n",
      "Generation 63 of 100\n",
      "Generation 64 of 100\n",
      "Generation 65 of 100\n",
      "Generation 66 of 100\n",
      "Generation 67 of 100\n",
      "Generation 68 of 100\n",
      "Generation 69 of 100\n",
      "Generation 70 of 100\n",
      "Generation 71 of 100\n",
      "Generation 72 of 100\n",
      "Generation 73 of 100\n",
      "Generation 74 of 100\n",
      "Generation 75 of 100\n",
      "Generation 76 of 100\n",
      "Generation 77 of 100\n",
      "Generation 78 of 100\n",
      "Generation 79 of 100\n",
      "Generation 80 of 100\n",
      "Generation 81 of 100\n",
      "Generation 82 of 100\n",
      "Generation 83 of 100\n",
      "Generation 84 of 100\n",
      "Generation 85 of 100\n",
      "Generation 86 of 100\n",
      "Generation 87 of 100\n",
      "Generation 88 of 100\n",
      "Generation 89 of 100\n",
      "Generation 90 of 100\n",
      "Generation 91 of 100\n",
      "Generation 92 of 100\n",
      "Generation 93 of 100\n",
      "Generation 94 of 100\n",
      "Generation 95 of 100\n",
      "Generation 96 of 100\n",
      "Generation 97 of 100\n",
      "Generation 98 of 100\n",
      "Generation 99 of 100\n",
      "final_population: [[7.10865035e+00 1.46772339e+00 1.55601059e+02 ... 4.61371720e-01\n",
      "  2.21920306e-01 3.16707974e-01]\n",
      " [7.10865035e+00 1.46772339e+00 1.55601059e+02 ... 4.61371720e-01\n",
      "  2.21920306e-01 3.16707974e-01]\n",
      " [7.10865035e+00 1.46772339e+00 1.55601059e+02 ... 4.61371720e-01\n",
      "  2.21920306e-01 3.16707974e-01]\n",
      " ...\n",
      " [1.16138671e+02 2.61951510e-01 2.39968490e+02 ... 9.89935727e-01\n",
      "  1.00177121e-02 4.65612240e-05]\n",
      " [1.89018918e+01 1.10390173e+00 2.42696214e+02 ... 9.45938114e-01\n",
      "  5.08671987e-02 3.19468756e-03]\n",
      " [5.74129597e+01 3.29007740e-01 2.95900779e+02 ... 6.65644719e-01\n",
      "  3.10509384e-02 3.03304343e-01]]\n",
      "avg_parent_costs: [0.14049432 0.12504996 0.11668445 0.10722566 0.10464686 0.10331465\n",
      " 0.10272081 0.10136908 0.10019284 0.0996462  0.09953448 0.09953053\n",
      " 0.09952942 0.09952939 0.09952938 0.09952938 0.09952938 0.09952938\n",
      " 0.09952938 0.09952938 0.09952938 0.09952938 0.09952938 0.09952938\n",
      " 0.09952938 0.09952938 0.09952938 0.09952938 0.09952938 0.09952938\n",
      " 0.09952938 0.09952938 0.09952938 0.09720374 0.09706562 0.09702475\n",
      " 0.09631273 0.09267944 0.08760733 0.08045199 0.07906815 0.07901721\n",
      " 0.07898435 0.07897875 0.07897649 0.07897637 0.07897637 0.07897636\n",
      " 0.07897636 0.07897636 0.07897636 0.07897636 0.07897636 0.07897636\n",
      " 0.07897636 0.07897636 0.07897636 0.07744487 0.07655679 0.07422167\n",
      " 0.06924127 0.06106265 0.05705497 0.05593312 0.05569085 0.0556425\n",
      " 0.05563466 0.05562948 0.05562713 0.05562656 0.05562607 0.05562552\n",
      " 0.05562524 0.05562518 0.05562516 0.05562516 0.05562516 0.05562516\n",
      " 0.05562516 0.05562516 0.05562516 0.05562516 0.05562516 0.05562516\n",
      " 0.05562516 0.05562516 0.05562516 0.05562516 0.05562516 0.05562516\n",
      " 0.05562516 0.05562516 0.05562516 0.05562516 0.05562516 0.05562516\n",
      " 0.05562516 0.05562516 0.05562516 0.05562516]\n"
     ]
    }
   ],
   "source": [
    "# Run the optimization to obtain n=3 materials and their volume fractions that achieve the desired composite material properties\n",
    "ga_result = ga.run(user_input, gen_counter=True)"
   ]
  },
  {
   "cell_type": "code",
   "execution_count": 6,
   "metadata": {
    "tags": []
   },
   "outputs": [],
   "source": [
    "# Create an instance of the Visualizer class using the genetic algorithm result\n",
    "visualizer = OptimizationResultVisualizer(ga_result)"
   ]
  },
  {
   "cell_type": "code",
   "execution_count": 7,
   "metadata": {
    "tags": []
   },
   "outputs": [
    {
     "data": {
      "application/vnd.plotly.v1+json": {
       "config": {
        "plotlyServerURL": "https://plot.ly"
       },
       "data": [
        {
         "cells": {
          "align": "left",
          "fill": {
           "color": [
            [
             "white",
             "lightgrey",
             "white",
             "lightgrey",
             "white",
             "lightgrey",
             "white",
             "lightgrey",
             "white",
             "lightgrey"
            ]
           ]
          },
          "font": {
           "size": 12
          },
          "height": 30,
          "values": [
           [
            7.108650345321063,
            28.836241296593613,
            5.294445547714598,
            21.92484557547753,
            0.26008982875448483,
            0.10406933161770016,
            25.96404484098165,
            10.857557862494184,
            62.65538771824928,
            46.596156601850026
           ],
           [
            1.4677233867175743,
            0.6981856102816318,
            0.7430724900123711,
            1.2314757154002445,
            1.8968980013434484,
            1.749605392288319,
            1.5671276582720506,
            0.5960828368286195,
            1.1820733959713599,
            0.9122695698827732
           ],
           [
            155.6010587433461,
            176.956731060776,
            337.18817016540424,
            234.87269320341318,
            83.8710466044077,
            232.5130209837434,
            152.79011611354278,
            134.10048321699327,
            56.46352488084631,
            306.43104673724946
           ],
           [
            140.08001860912043,
            371.81678179830817,
            184.77520931326427,
            271.3386186656407,
            369.141234730924,
            462.5501366560709,
            312.72311578244853,
            219.44595699310779,
            118.59839238491827,
            367.98042733445897
           ],
           [
            1.1458888271645415,
            2.625828686161708,
            1.8010310941635648,
            1.855816163847901,
            3.1774502023339553,
            3.680538779941383,
            1.164953841769785,
            1.3413222246945922,
            2.939891080489589,
            2.4212297258371365
           ],
           [
            8.983826621951955,
            0.5275505614026111,
            24.848280456414265,
            64.16085737601931,
            115.76596049945653,
            36.4659883140595,
            56.74874253141885,
            19.38425811749827,
            29.582383625732707,
            13.191132782476435
           ],
           [
            0.8462718477652615,
            1.8994639683827441,
            1.5831806295246438,
            1.775382298501397,
            1.9453984144514904,
            1.3229481022830727,
            1.3956487613609028,
            0.7143210379235134,
            1.4761505939479838,
            0.7836008154122462
           ],
           [
            312.3331951975974,
            238.6135486112741,
            374.7900537659283,
            372.5455930031481,
            202.3858299732889,
            315.1324400253356,
            195.7438984698661,
            155.94754943131738,
            347.0514676181318,
            422.8084828996464
           ],
           [
            327.95671859853826,
            449.80002873091394,
            493.84532460652935,
            344.5873079957139,
            386.8911519186091,
            492.2775283270074,
            441.5063687406152,
            272.3222961358657,
            216.21203121024558,
            405.5145467538432
           ],
           [
            3.196481611986382,
            1.6293936392060835,
            3.6971063401399515,
            1.4197799678408702,
            1.0404565507559855,
            3.414413709425035,
            2.97241923482978,
            3.648050441741363,
            3.964874116148966,
            2.588841366827545
           ],
           [
            11.95993135591209,
            44.02724870541798,
            50.77239155948723,
            93.91601282371009,
            7.6214673940155,
            75.08155334476749,
            7.424642296110347,
            41.122725790232025,
            15.713299701482194,
            54.914279536810795
           ],
           [
            0.5560606448537874,
            0.6131040751830708,
            1.774042176881456,
            1.3660737574835475,
            1.9102018857363146,
            0.03043425905390507,
            0.7245989599401347,
            1.1157811665954398,
            1.830181577772346,
            0.7191051734291342
           ],
           [
            569.8498564828001,
            328.47017143310916,
            424.4657952394788,
            395.3551126387158,
            423.18437974266214,
            383.6539534232916,
            474.7435749519749,
            426.51725938889155,
            567.7905010061631,
            511.85337909513004
           ],
           [
            412.5731473701086,
            485.03852241071667,
            575.1596890086181,
            453.20515529400086,
            438.6517577704682,
            573.6150162626715,
            570.4272808600339,
            482.039158788738,
            263.26680449585547,
            567.9656918052788
           ],
           [
            1.3359019921679367,
            2.0383659067338824,
            5.619906365738898,
            5.094562138836452,
            1.5373384220809192,
            1.2090497822654522,
            5.180282600878977,
            3.1970658686611606,
            2.050865967550646,
            1.8036655161790005
           ],
           [
            0.4613717195533672,
            0.37733807299595074,
            0.616873197875787,
            0.6251220627146551,
            0.3653723644579211,
            0.3469874682847461,
            0.28934782823903205,
            0.10123928959211752,
            0.32739271057291985,
            0.4411704766220347
           ],
           [
            0.22192030619201986,
            0.4616448596202248,
            0.1474297887005394,
            0.1916423598460367,
            0.22636973567668237,
            0.42188910826782866,
            0.21796536173595904,
            0.5823223191777768,
            0.18349830906035045,
            0.4304109776064732
           ],
           [
            0.31670797425461295,
            0.16101706738382449,
            0.23569701342367355,
            0.18323557743930818,
            0.4082578998653965,
            0.2311234234474253,
            0.4926868100250089,
            0.31643839123010575,
            0.4891089803667297,
            0.12841854577149214
           ],
           [
            0.056,
            0.145,
            0.147,
            0.169,
            0.171,
            0.173,
            0.177,
            0.178,
            0.18,
            0.181
           ]
          ]
         },
         "columnwidth": 1000,
         "header": {
          "align": "left",
          "fill": {
           "color": "lavender"
          },
          "font": {
           "size": 12
          },
          "height": 30,
          "values": [
           "Phase 1 Electrical conductivity, [S/m]",
           "Phase 2 Electrical conductivity, [S/m]",
           "Phase 3 Electrical conductivity, [S/m]",
           "Phase 1 Thermal conductivity, [W/m/K]",
           "Phase 2 Thermal conductivity, [W/m/K]",
           "Phase 3 Thermal conductivity, [W/m/K]",
           "Phase 1 Bulk modulus, [GPa]",
           "Phase 2 Bulk modulus, [GPa]",
           "Phase 3 Bulk modulus, [GPa]",
           "Phase 1 Shear modulus, [GPa]",
           "Phase 2 Shear modulus, [GPa]",
           "Phase 3 Shear modulus, [GPa]",
           "Phase 1 Universal anisotropy, []",
           "Phase 2 Universal anisotropy, []",
           "Phase 3 Universal anisotropy, []",
           "Phase 1 Volume Fraction",
           "Phase 2 Volume Fraction",
           "Phase 3 Volume Fraction",
           "cost"
          ]
         },
         "type": "table"
        }
       ],
       "layout": {
        "autosize": true,
        "height": 400,
        "margin": {
         "b": 0,
         "l": 0,
         "r": 0,
         "t": 40
        },
        "template": {
         "data": {
          "bar": [
           {
            "error_x": {
             "color": "#2a3f5f"
            },
            "error_y": {
             "color": "#2a3f5f"
            },
            "marker": {
             "line": {
              "color": "#E5ECF6",
              "width": 0.5
             },
             "pattern": {
              "fillmode": "overlay",
              "size": 10,
              "solidity": 0.2
             }
            },
            "type": "bar"
           }
          ],
          "barpolar": [
           {
            "marker": {
             "line": {
              "color": "#E5ECF6",
              "width": 0.5
             },
             "pattern": {
              "fillmode": "overlay",
              "size": 10,
              "solidity": 0.2
             }
            },
            "type": "barpolar"
           }
          ],
          "carpet": [
           {
            "aaxis": {
             "endlinecolor": "#2a3f5f",
             "gridcolor": "white",
             "linecolor": "white",
             "minorgridcolor": "white",
             "startlinecolor": "#2a3f5f"
            },
            "baxis": {
             "endlinecolor": "#2a3f5f",
             "gridcolor": "white",
             "linecolor": "white",
             "minorgridcolor": "white",
             "startlinecolor": "#2a3f5f"
            },
            "type": "carpet"
           }
          ],
          "choropleth": [
           {
            "colorbar": {
             "outlinewidth": 0,
             "ticks": ""
            },
            "type": "choropleth"
           }
          ],
          "contour": [
           {
            "colorbar": {
             "outlinewidth": 0,
             "ticks": ""
            },
            "colorscale": [
             [
              0,
              "#0d0887"
             ],
             [
              0.1111111111111111,
              "#46039f"
             ],
             [
              0.2222222222222222,
              "#7201a8"
             ],
             [
              0.3333333333333333,
              "#9c179e"
             ],
             [
              0.4444444444444444,
              "#bd3786"
             ],
             [
              0.5555555555555556,
              "#d8576b"
             ],
             [
              0.6666666666666666,
              "#ed7953"
             ],
             [
              0.7777777777777778,
              "#fb9f3a"
             ],
             [
              0.8888888888888888,
              "#fdca26"
             ],
             [
              1,
              "#f0f921"
             ]
            ],
            "type": "contour"
           }
          ],
          "contourcarpet": [
           {
            "colorbar": {
             "outlinewidth": 0,
             "ticks": ""
            },
            "type": "contourcarpet"
           }
          ],
          "heatmap": [
           {
            "colorbar": {
             "outlinewidth": 0,
             "ticks": ""
            },
            "colorscale": [
             [
              0,
              "#0d0887"
             ],
             [
              0.1111111111111111,
              "#46039f"
             ],
             [
              0.2222222222222222,
              "#7201a8"
             ],
             [
              0.3333333333333333,
              "#9c179e"
             ],
             [
              0.4444444444444444,
              "#bd3786"
             ],
             [
              0.5555555555555556,
              "#d8576b"
             ],
             [
              0.6666666666666666,
              "#ed7953"
             ],
             [
              0.7777777777777778,
              "#fb9f3a"
             ],
             [
              0.8888888888888888,
              "#fdca26"
             ],
             [
              1,
              "#f0f921"
             ]
            ],
            "type": "heatmap"
           }
          ],
          "heatmapgl": [
           {
            "colorbar": {
             "outlinewidth": 0,
             "ticks": ""
            },
            "colorscale": [
             [
              0,
              "#0d0887"
             ],
             [
              0.1111111111111111,
              "#46039f"
             ],
             [
              0.2222222222222222,
              "#7201a8"
             ],
             [
              0.3333333333333333,
              "#9c179e"
             ],
             [
              0.4444444444444444,
              "#bd3786"
             ],
             [
              0.5555555555555556,
              "#d8576b"
             ],
             [
              0.6666666666666666,
              "#ed7953"
             ],
             [
              0.7777777777777778,
              "#fb9f3a"
             ],
             [
              0.8888888888888888,
              "#fdca26"
             ],
             [
              1,
              "#f0f921"
             ]
            ],
            "type": "heatmapgl"
           }
          ],
          "histogram": [
           {
            "marker": {
             "pattern": {
              "fillmode": "overlay",
              "size": 10,
              "solidity": 0.2
             }
            },
            "type": "histogram"
           }
          ],
          "histogram2d": [
           {
            "colorbar": {
             "outlinewidth": 0,
             "ticks": ""
            },
            "colorscale": [
             [
              0,
              "#0d0887"
             ],
             [
              0.1111111111111111,
              "#46039f"
             ],
             [
              0.2222222222222222,
              "#7201a8"
             ],
             [
              0.3333333333333333,
              "#9c179e"
             ],
             [
              0.4444444444444444,
              "#bd3786"
             ],
             [
              0.5555555555555556,
              "#d8576b"
             ],
             [
              0.6666666666666666,
              "#ed7953"
             ],
             [
              0.7777777777777778,
              "#fb9f3a"
             ],
             [
              0.8888888888888888,
              "#fdca26"
             ],
             [
              1,
              "#f0f921"
             ]
            ],
            "type": "histogram2d"
           }
          ],
          "histogram2dcontour": [
           {
            "colorbar": {
             "outlinewidth": 0,
             "ticks": ""
            },
            "colorscale": [
             [
              0,
              "#0d0887"
             ],
             [
              0.1111111111111111,
              "#46039f"
             ],
             [
              0.2222222222222222,
              "#7201a8"
             ],
             [
              0.3333333333333333,
              "#9c179e"
             ],
             [
              0.4444444444444444,
              "#bd3786"
             ],
             [
              0.5555555555555556,
              "#d8576b"
             ],
             [
              0.6666666666666666,
              "#ed7953"
             ],
             [
              0.7777777777777778,
              "#fb9f3a"
             ],
             [
              0.8888888888888888,
              "#fdca26"
             ],
             [
              1,
              "#f0f921"
             ]
            ],
            "type": "histogram2dcontour"
           }
          ],
          "mesh3d": [
           {
            "colorbar": {
             "outlinewidth": 0,
             "ticks": ""
            },
            "type": "mesh3d"
           }
          ],
          "parcoords": [
           {
            "line": {
             "colorbar": {
              "outlinewidth": 0,
              "ticks": ""
             }
            },
            "type": "parcoords"
           }
          ],
          "pie": [
           {
            "automargin": true,
            "type": "pie"
           }
          ],
          "scatter": [
           {
            "fillpattern": {
             "fillmode": "overlay",
             "size": 10,
             "solidity": 0.2
            },
            "type": "scatter"
           }
          ],
          "scatter3d": [
           {
            "line": {
             "colorbar": {
              "outlinewidth": 0,
              "ticks": ""
             }
            },
            "marker": {
             "colorbar": {
              "outlinewidth": 0,
              "ticks": ""
             }
            },
            "type": "scatter3d"
           }
          ],
          "scattercarpet": [
           {
            "marker": {
             "colorbar": {
              "outlinewidth": 0,
              "ticks": ""
             }
            },
            "type": "scattercarpet"
           }
          ],
          "scattergeo": [
           {
            "marker": {
             "colorbar": {
              "outlinewidth": 0,
              "ticks": ""
             }
            },
            "type": "scattergeo"
           }
          ],
          "scattergl": [
           {
            "marker": {
             "colorbar": {
              "outlinewidth": 0,
              "ticks": ""
             }
            },
            "type": "scattergl"
           }
          ],
          "scattermapbox": [
           {
            "marker": {
             "colorbar": {
              "outlinewidth": 0,
              "ticks": ""
             }
            },
            "type": "scattermapbox"
           }
          ],
          "scatterpolar": [
           {
            "marker": {
             "colorbar": {
              "outlinewidth": 0,
              "ticks": ""
             }
            },
            "type": "scatterpolar"
           }
          ],
          "scatterpolargl": [
           {
            "marker": {
             "colorbar": {
              "outlinewidth": 0,
              "ticks": ""
             }
            },
            "type": "scatterpolargl"
           }
          ],
          "scatterternary": [
           {
            "marker": {
             "colorbar": {
              "outlinewidth": 0,
              "ticks": ""
             }
            },
            "type": "scatterternary"
           }
          ],
          "surface": [
           {
            "colorbar": {
             "outlinewidth": 0,
             "ticks": ""
            },
            "colorscale": [
             [
              0,
              "#0d0887"
             ],
             [
              0.1111111111111111,
              "#46039f"
             ],
             [
              0.2222222222222222,
              "#7201a8"
             ],
             [
              0.3333333333333333,
              "#9c179e"
             ],
             [
              0.4444444444444444,
              "#bd3786"
             ],
             [
              0.5555555555555556,
              "#d8576b"
             ],
             [
              0.6666666666666666,
              "#ed7953"
             ],
             [
              0.7777777777777778,
              "#fb9f3a"
             ],
             [
              0.8888888888888888,
              "#fdca26"
             ],
             [
              1,
              "#f0f921"
             ]
            ],
            "type": "surface"
           }
          ],
          "table": [
           {
            "cells": {
             "fill": {
              "color": "#EBF0F8"
             },
             "line": {
              "color": "white"
             }
            },
            "header": {
             "fill": {
              "color": "#C8D4E3"
             },
             "line": {
              "color": "white"
             }
            },
            "type": "table"
           }
          ]
         },
         "layout": {
          "annotationdefaults": {
           "arrowcolor": "#2a3f5f",
           "arrowhead": 0,
           "arrowwidth": 1
          },
          "autotypenumbers": "strict",
          "coloraxis": {
           "colorbar": {
            "outlinewidth": 0,
            "ticks": ""
           }
          },
          "colorscale": {
           "diverging": [
            [
             0,
             "#8e0152"
            ],
            [
             0.1,
             "#c51b7d"
            ],
            [
             0.2,
             "#de77ae"
            ],
            [
             0.3,
             "#f1b6da"
            ],
            [
             0.4,
             "#fde0ef"
            ],
            [
             0.5,
             "#f7f7f7"
            ],
            [
             0.6,
             "#e6f5d0"
            ],
            [
             0.7,
             "#b8e186"
            ],
            [
             0.8,
             "#7fbc41"
            ],
            [
             0.9,
             "#4d9221"
            ],
            [
             1,
             "#276419"
            ]
           ],
           "sequential": [
            [
             0,
             "#0d0887"
            ],
            [
             0.1111111111111111,
             "#46039f"
            ],
            [
             0.2222222222222222,
             "#7201a8"
            ],
            [
             0.3333333333333333,
             "#9c179e"
            ],
            [
             0.4444444444444444,
             "#bd3786"
            ],
            [
             0.5555555555555556,
             "#d8576b"
            ],
            [
             0.6666666666666666,
             "#ed7953"
            ],
            [
             0.7777777777777778,
             "#fb9f3a"
            ],
            [
             0.8888888888888888,
             "#fdca26"
            ],
            [
             1,
             "#f0f921"
            ]
           ],
           "sequentialminus": [
            [
             0,
             "#0d0887"
            ],
            [
             0.1111111111111111,
             "#46039f"
            ],
            [
             0.2222222222222222,
             "#7201a8"
            ],
            [
             0.3333333333333333,
             "#9c179e"
            ],
            [
             0.4444444444444444,
             "#bd3786"
            ],
            [
             0.5555555555555556,
             "#d8576b"
            ],
            [
             0.6666666666666666,
             "#ed7953"
            ],
            [
             0.7777777777777778,
             "#fb9f3a"
            ],
            [
             0.8888888888888888,
             "#fdca26"
            ],
            [
             1,
             "#f0f921"
            ]
           ]
          },
          "colorway": [
           "#636efa",
           "#EF553B",
           "#00cc96",
           "#ab63fa",
           "#FFA15A",
           "#19d3f3",
           "#FF6692",
           "#B6E880",
           "#FF97FF",
           "#FECB52"
          ],
          "font": {
           "color": "#2a3f5f"
          },
          "geo": {
           "bgcolor": "white",
           "lakecolor": "white",
           "landcolor": "#E5ECF6",
           "showlakes": true,
           "showland": true,
           "subunitcolor": "white"
          },
          "hoverlabel": {
           "align": "left"
          },
          "hovermode": "closest",
          "mapbox": {
           "style": "light"
          },
          "paper_bgcolor": "white",
          "plot_bgcolor": "#E5ECF6",
          "polar": {
           "angularaxis": {
            "gridcolor": "white",
            "linecolor": "white",
            "ticks": ""
           },
           "bgcolor": "#E5ECF6",
           "radialaxis": {
            "gridcolor": "white",
            "linecolor": "white",
            "ticks": ""
           }
          },
          "scene": {
           "xaxis": {
            "backgroundcolor": "#E5ECF6",
            "gridcolor": "white",
            "gridwidth": 2,
            "linecolor": "white",
            "showbackground": true,
            "ticks": "",
            "zerolinecolor": "white"
           },
           "yaxis": {
            "backgroundcolor": "#E5ECF6",
            "gridcolor": "white",
            "gridwidth": 2,
            "linecolor": "white",
            "showbackground": true,
            "ticks": "",
            "zerolinecolor": "white"
           },
           "zaxis": {
            "backgroundcolor": "#E5ECF6",
            "gridcolor": "white",
            "gridwidth": 2,
            "linecolor": "white",
            "showbackground": true,
            "ticks": "",
            "zerolinecolor": "white"
           }
          },
          "shapedefaults": {
           "line": {
            "color": "#2a3f5f"
           }
          },
          "ternary": {
           "aaxis": {
            "gridcolor": "white",
            "linecolor": "white",
            "ticks": ""
           },
           "baxis": {
            "gridcolor": "white",
            "linecolor": "white",
            "ticks": ""
           },
           "bgcolor": "#E5ECF6",
           "caxis": {
            "gridcolor": "white",
            "linecolor": "white",
            "ticks": ""
           }
          },
          "title": {
           "x": 0.05
          },
          "xaxis": {
           "automargin": true,
           "gridcolor": "white",
           "linecolor": "white",
           "ticks": "",
           "title": {
            "standoff": 15
           },
           "zerolinecolor": "white",
           "zerolinewidth": 2
          },
          "yaxis": {
           "automargin": true,
           "gridcolor": "white",
           "linecolor": "white",
           "ticks": "",
           "title": {
            "standoff": 15
           },
           "zerolinecolor": "white",
           "zerolinewidth": 2
          }
         }
        },
        "title": {
         "font": {
          "size": 20
         },
         "text": "Optimal Properties Recommended by Genetic Algorithm",
         "x": 0.2
        }
       }
      }
     },
     "metadata": {},
     "output_type": "display_data"
    }
   ],
   "source": [
    "# Print the optimization results as a table\n",
    "visualizer.print_table_of_best_designs(rows=10)"
   ]
  },
  {
   "cell_type": "code",
   "execution_count": 8,
   "metadata": {
    "tags": []
   },
   "outputs": [
    {
     "data": {
      "application/vnd.plotly.v1+json": {
       "config": {
        "plotlyServerURL": "https://plot.ly"
       },
       "data": [
        {
         "mode": "lines",
         "name": "Avg. of top 10 performers",
         "type": "scatter",
         "x": [
          0,
          1,
          2,
          3,
          4,
          5,
          6,
          7,
          8,
          9,
          10,
          11,
          12,
          13,
          14,
          15,
          16,
          17,
          18,
          19,
          20,
          21,
          22,
          23,
          24,
          25,
          26,
          27,
          28,
          29,
          30,
          31,
          32,
          33,
          34,
          35,
          36,
          37,
          38,
          39,
          40,
          41,
          42,
          43,
          44,
          45,
          46,
          47,
          48,
          49,
          50,
          51,
          52,
          53,
          54,
          55,
          56,
          57,
          58,
          59,
          60,
          61,
          62,
          63,
          64,
          65,
          66,
          67,
          68,
          69,
          70,
          71,
          72,
          73,
          74,
          75,
          76,
          77,
          78,
          79,
          80,
          81,
          82,
          83,
          84,
          85,
          86,
          87,
          88,
          89,
          90,
          91,
          92,
          93,
          94,
          95,
          96,
          97,
          98,
          99
         ],
         "y": [
          0.14049431946940655,
          0.12504995757260348,
          0.11668445304268105,
          0.10722566358454397,
          0.1046468584551958,
          0.10331465312301702,
          0.10272080578556186,
          0.10136907822107706,
          0.10019283565902959,
          0.09964620445175895,
          0.09953447540179242,
          0.0995305314619905,
          0.09952941570384259,
          0.09952938880345838,
          0.09952938458570973,
          0.09952938444692241,
          0.09952938435610922,
          0.09952938433008159,
          0.09952938431193765,
          0.09952938430557634,
          0.09952938430217702,
          0.09952938430086676,
          0.09952938430082467,
          0.09952938430080527,
          0.09952938430079813,
          0.09952938430079554,
          0.09952938430079504,
          0.09952938430079503,
          0.09952938430079501,
          0.099529384300795,
          0.09952938430079498,
          0.09952938430079497,
          0.09952938430079497,
          0.09720374221373267,
          0.09706561778362133,
          0.0970247486931771,
          0.0963127340517099,
          0.09267943800176145,
          0.08760732595011811,
          0.0804519942141421,
          0.07906815227324956,
          0.07901720787072267,
          0.07898435485168677,
          0.07897875071366707,
          0.0789764856093185,
          0.07897637291185461,
          0.07897636524588096,
          0.07897636091534081,
          0.07897636002588475,
          0.07897635991124234,
          0.07897635986571673,
          0.0789763598613885,
          0.07897635986059401,
          0.0789763598601688,
          0.07897635985998083,
          0.078976359859899,
          0.07897635985989311,
          0.07744486568642509,
          0.07655679462802911,
          0.07422167424389489,
          0.06924127085438622,
          0.0610626518287282,
          0.057054973824665234,
          0.0559331177895596,
          0.05569085268896999,
          0.055642499836103296,
          0.05563465702400333,
          0.05562947851284685,
          0.055627125585444984,
          0.05562656106035051,
          0.05562606871474607,
          0.05562551882468213,
          0.05562523639377716,
          0.055625179983153625,
          0.05562516182820498,
          0.05562515748603967,
          0.05562515611956472,
          0.05562515603126685,
          0.05562515602066883,
          0.05562515601969522,
          0.05562515601881383,
          0.05562515601859177,
          0.05562515601855759,
          0.05562515601855238,
          0.05562515601855041,
          0.05562515601855035,
          0.05562515601855034,
          0.05562515601855034,
          0.05562515601855032,
          0.05562515601855032,
          0.05562515601855032,
          0.05562515601855032,
          0.05562515601855032,
          0.05562515601855032,
          0.05562515601855032,
          0.05562515601855032,
          0.05562515601855032,
          0.05562515601855032,
          0.05562515601855032,
          0.05562515601855032
         ]
        },
        {
         "mode": "lines",
         "name": "Best costs",
         "type": "scatter",
         "x": [
          0,
          1,
          2,
          3,
          4,
          5,
          6,
          7,
          8,
          9,
          10,
          11,
          12,
          13,
          14,
          15,
          16,
          17,
          18,
          19,
          20,
          21,
          22,
          23,
          24,
          25,
          26,
          27,
          28,
          29,
          30,
          31,
          32,
          33,
          34,
          35,
          36,
          37,
          38,
          39,
          40,
          41,
          42,
          43,
          44,
          45,
          46,
          47,
          48,
          49,
          50,
          51,
          52,
          53,
          54,
          55,
          56,
          57,
          58,
          59,
          60,
          61,
          62,
          63,
          64,
          65,
          66,
          67,
          68,
          69,
          70,
          71,
          72,
          73,
          74,
          75,
          76,
          77,
          78,
          79,
          80,
          81,
          82,
          83,
          84,
          85,
          86,
          87,
          88,
          89,
          90,
          91,
          92,
          93,
          94,
          95,
          96,
          97,
          98,
          99
         ],
         "y": [
          0.12038998579800757,
          0.10205840988441889,
          0.10205840988441889,
          0.09957104296102127,
          0.09957104296102127,
          0.09957104296102127,
          0.09957104296102127,
          0.09955380390710761,
          0.09953238927512155,
          0.09952943043092936,
          0.09952938430079504,
          0.09952938430079504,
          0.09952938430079504,
          0.09952938430079504,
          0.09952938430079504,
          0.09952938430079504,
          0.09952938430079504,
          0.09952938430079504,
          0.09952938430079504,
          0.09952938430079504,
          0.09952938430079504,
          0.09952938430079504,
          0.09952938430079504,
          0.09952938430079504,
          0.09952938430079504,
          0.09952938430079504,
          0.09952938430079497,
          0.09952938430079497,
          0.09952938430079497,
          0.09952938430079494,
          0.09952938430079494,
          0.09952938430079494,
          0.09952938430079494,
          0.07931899639010315,
          0.07931899639010315,
          0.07931899639010315,
          0.07931899639010315,
          0.07897635985989226,
          0.07897635985989226,
          0.07897635985989226,
          0.07897635985989226,
          0.07897635985989226,
          0.07897635985989226,
          0.07897635985989226,
          0.07897635985989226,
          0.07897635985989226,
          0.07897635985989226,
          0.07897635985989226,
          0.07897635985989226,
          0.07897635985989226,
          0.07897635985989226,
          0.07897635985989226,
          0.07897635985989226,
          0.07897635985989226,
          0.07897635985989226,
          0.07897635985989226,
          0.07897635985989226,
          0.06366141812521971,
          0.06366141812521971,
          0.05562515601855034,
          0.05562515601855034,
          0.05562515601855034,
          0.05562515601855034,
          0.05562515601855034,
          0.05562515601855034,
          0.05562515601855034,
          0.05562515601855034,
          0.05562515601855034,
          0.05562515601855034,
          0.05562515601855034,
          0.05562515601855034,
          0.05562515601855034,
          0.05562515601855034,
          0.05562515601855034,
          0.05562515601855034,
          0.05562515601855034,
          0.05562515601855034,
          0.05562515601855034,
          0.05562515601855034,
          0.05562515601855034,
          0.05562515601855034,
          0.05562515601855034,
          0.05562515601855034,
          0.05562515601855034,
          0.05562515601855033,
          0.05562515601855033,
          0.05562515601855033,
          0.05562515601855033,
          0.05562515601855033,
          0.05562515601855033,
          0.05562515601855033,
          0.05562515601855033,
          0.05562515601855033,
          0.05562515601855033,
          0.05562515601855033,
          0.05562515601855033,
          0.05562515601855033,
          0.05562515601855033,
          0.05562515601855033,
          0.05562515601855033
         ]
        }
       ],
       "layout": {
        "height": 400,
        "legend": {
         "bgcolor": "rgba(255, 255, 255, 0.5)",
         "font": {
          "size": 14
         },
         "x": 1,
         "xanchor": "right",
         "y": 1,
         "yanchor": "top"
        },
        "margin": {
         "b": 50,
         "l": 50,
         "r": 50,
         "t": 50
        },
        "template": {
         "data": {
          "bar": [
           {
            "error_x": {
             "color": "#2a3f5f"
            },
            "error_y": {
             "color": "#2a3f5f"
            },
            "marker": {
             "line": {
              "color": "#E5ECF6",
              "width": 0.5
             },
             "pattern": {
              "fillmode": "overlay",
              "size": 10,
              "solidity": 0.2
             }
            },
            "type": "bar"
           }
          ],
          "barpolar": [
           {
            "marker": {
             "line": {
              "color": "#E5ECF6",
              "width": 0.5
             },
             "pattern": {
              "fillmode": "overlay",
              "size": 10,
              "solidity": 0.2
             }
            },
            "type": "barpolar"
           }
          ],
          "carpet": [
           {
            "aaxis": {
             "endlinecolor": "#2a3f5f",
             "gridcolor": "white",
             "linecolor": "white",
             "minorgridcolor": "white",
             "startlinecolor": "#2a3f5f"
            },
            "baxis": {
             "endlinecolor": "#2a3f5f",
             "gridcolor": "white",
             "linecolor": "white",
             "minorgridcolor": "white",
             "startlinecolor": "#2a3f5f"
            },
            "type": "carpet"
           }
          ],
          "choropleth": [
           {
            "colorbar": {
             "outlinewidth": 0,
             "ticks": ""
            },
            "type": "choropleth"
           }
          ],
          "contour": [
           {
            "colorbar": {
             "outlinewidth": 0,
             "ticks": ""
            },
            "colorscale": [
             [
              0,
              "#0d0887"
             ],
             [
              0.1111111111111111,
              "#46039f"
             ],
             [
              0.2222222222222222,
              "#7201a8"
             ],
             [
              0.3333333333333333,
              "#9c179e"
             ],
             [
              0.4444444444444444,
              "#bd3786"
             ],
             [
              0.5555555555555556,
              "#d8576b"
             ],
             [
              0.6666666666666666,
              "#ed7953"
             ],
             [
              0.7777777777777778,
              "#fb9f3a"
             ],
             [
              0.8888888888888888,
              "#fdca26"
             ],
             [
              1,
              "#f0f921"
             ]
            ],
            "type": "contour"
           }
          ],
          "contourcarpet": [
           {
            "colorbar": {
             "outlinewidth": 0,
             "ticks": ""
            },
            "type": "contourcarpet"
           }
          ],
          "heatmap": [
           {
            "colorbar": {
             "outlinewidth": 0,
             "ticks": ""
            },
            "colorscale": [
             [
              0,
              "#0d0887"
             ],
             [
              0.1111111111111111,
              "#46039f"
             ],
             [
              0.2222222222222222,
              "#7201a8"
             ],
             [
              0.3333333333333333,
              "#9c179e"
             ],
             [
              0.4444444444444444,
              "#bd3786"
             ],
             [
              0.5555555555555556,
              "#d8576b"
             ],
             [
              0.6666666666666666,
              "#ed7953"
             ],
             [
              0.7777777777777778,
              "#fb9f3a"
             ],
             [
              0.8888888888888888,
              "#fdca26"
             ],
             [
              1,
              "#f0f921"
             ]
            ],
            "type": "heatmap"
           }
          ],
          "heatmapgl": [
           {
            "colorbar": {
             "outlinewidth": 0,
             "ticks": ""
            },
            "colorscale": [
             [
              0,
              "#0d0887"
             ],
             [
              0.1111111111111111,
              "#46039f"
             ],
             [
              0.2222222222222222,
              "#7201a8"
             ],
             [
              0.3333333333333333,
              "#9c179e"
             ],
             [
              0.4444444444444444,
              "#bd3786"
             ],
             [
              0.5555555555555556,
              "#d8576b"
             ],
             [
              0.6666666666666666,
              "#ed7953"
             ],
             [
              0.7777777777777778,
              "#fb9f3a"
             ],
             [
              0.8888888888888888,
              "#fdca26"
             ],
             [
              1,
              "#f0f921"
             ]
            ],
            "type": "heatmapgl"
           }
          ],
          "histogram": [
           {
            "marker": {
             "pattern": {
              "fillmode": "overlay",
              "size": 10,
              "solidity": 0.2
             }
            },
            "type": "histogram"
           }
          ],
          "histogram2d": [
           {
            "colorbar": {
             "outlinewidth": 0,
             "ticks": ""
            },
            "colorscale": [
             [
              0,
              "#0d0887"
             ],
             [
              0.1111111111111111,
              "#46039f"
             ],
             [
              0.2222222222222222,
              "#7201a8"
             ],
             [
              0.3333333333333333,
              "#9c179e"
             ],
             [
              0.4444444444444444,
              "#bd3786"
             ],
             [
              0.5555555555555556,
              "#d8576b"
             ],
             [
              0.6666666666666666,
              "#ed7953"
             ],
             [
              0.7777777777777778,
              "#fb9f3a"
             ],
             [
              0.8888888888888888,
              "#fdca26"
             ],
             [
              1,
              "#f0f921"
             ]
            ],
            "type": "histogram2d"
           }
          ],
          "histogram2dcontour": [
           {
            "colorbar": {
             "outlinewidth": 0,
             "ticks": ""
            },
            "colorscale": [
             [
              0,
              "#0d0887"
             ],
             [
              0.1111111111111111,
              "#46039f"
             ],
             [
              0.2222222222222222,
              "#7201a8"
             ],
             [
              0.3333333333333333,
              "#9c179e"
             ],
             [
              0.4444444444444444,
              "#bd3786"
             ],
             [
              0.5555555555555556,
              "#d8576b"
             ],
             [
              0.6666666666666666,
              "#ed7953"
             ],
             [
              0.7777777777777778,
              "#fb9f3a"
             ],
             [
              0.8888888888888888,
              "#fdca26"
             ],
             [
              1,
              "#f0f921"
             ]
            ],
            "type": "histogram2dcontour"
           }
          ],
          "mesh3d": [
           {
            "colorbar": {
             "outlinewidth": 0,
             "ticks": ""
            },
            "type": "mesh3d"
           }
          ],
          "parcoords": [
           {
            "line": {
             "colorbar": {
              "outlinewidth": 0,
              "ticks": ""
             }
            },
            "type": "parcoords"
           }
          ],
          "pie": [
           {
            "automargin": true,
            "type": "pie"
           }
          ],
          "scatter": [
           {
            "fillpattern": {
             "fillmode": "overlay",
             "size": 10,
             "solidity": 0.2
            },
            "type": "scatter"
           }
          ],
          "scatter3d": [
           {
            "line": {
             "colorbar": {
              "outlinewidth": 0,
              "ticks": ""
             }
            },
            "marker": {
             "colorbar": {
              "outlinewidth": 0,
              "ticks": ""
             }
            },
            "type": "scatter3d"
           }
          ],
          "scattercarpet": [
           {
            "marker": {
             "colorbar": {
              "outlinewidth": 0,
              "ticks": ""
             }
            },
            "type": "scattercarpet"
           }
          ],
          "scattergeo": [
           {
            "marker": {
             "colorbar": {
              "outlinewidth": 0,
              "ticks": ""
             }
            },
            "type": "scattergeo"
           }
          ],
          "scattergl": [
           {
            "marker": {
             "colorbar": {
              "outlinewidth": 0,
              "ticks": ""
             }
            },
            "type": "scattergl"
           }
          ],
          "scattermapbox": [
           {
            "marker": {
             "colorbar": {
              "outlinewidth": 0,
              "ticks": ""
             }
            },
            "type": "scattermapbox"
           }
          ],
          "scatterpolar": [
           {
            "marker": {
             "colorbar": {
              "outlinewidth": 0,
              "ticks": ""
             }
            },
            "type": "scatterpolar"
           }
          ],
          "scatterpolargl": [
           {
            "marker": {
             "colorbar": {
              "outlinewidth": 0,
              "ticks": ""
             }
            },
            "type": "scatterpolargl"
           }
          ],
          "scatterternary": [
           {
            "marker": {
             "colorbar": {
              "outlinewidth": 0,
              "ticks": ""
             }
            },
            "type": "scatterternary"
           }
          ],
          "surface": [
           {
            "colorbar": {
             "outlinewidth": 0,
             "ticks": ""
            },
            "colorscale": [
             [
              0,
              "#0d0887"
             ],
             [
              0.1111111111111111,
              "#46039f"
             ],
             [
              0.2222222222222222,
              "#7201a8"
             ],
             [
              0.3333333333333333,
              "#9c179e"
             ],
             [
              0.4444444444444444,
              "#bd3786"
             ],
             [
              0.5555555555555556,
              "#d8576b"
             ],
             [
              0.6666666666666666,
              "#ed7953"
             ],
             [
              0.7777777777777778,
              "#fb9f3a"
             ],
             [
              0.8888888888888888,
              "#fdca26"
             ],
             [
              1,
              "#f0f921"
             ]
            ],
            "type": "surface"
           }
          ],
          "table": [
           {
            "cells": {
             "fill": {
              "color": "#EBF0F8"
             },
             "line": {
              "color": "white"
             }
            },
            "header": {
             "fill": {
              "color": "#C8D4E3"
             },
             "line": {
              "color": "white"
             }
            },
            "type": "table"
           }
          ]
         },
         "layout": {
          "annotationdefaults": {
           "arrowcolor": "#2a3f5f",
           "arrowhead": 0,
           "arrowwidth": 1
          },
          "autotypenumbers": "strict",
          "coloraxis": {
           "colorbar": {
            "outlinewidth": 0,
            "ticks": ""
           }
          },
          "colorscale": {
           "diverging": [
            [
             0,
             "#8e0152"
            ],
            [
             0.1,
             "#c51b7d"
            ],
            [
             0.2,
             "#de77ae"
            ],
            [
             0.3,
             "#f1b6da"
            ],
            [
             0.4,
             "#fde0ef"
            ],
            [
             0.5,
             "#f7f7f7"
            ],
            [
             0.6,
             "#e6f5d0"
            ],
            [
             0.7,
             "#b8e186"
            ],
            [
             0.8,
             "#7fbc41"
            ],
            [
             0.9,
             "#4d9221"
            ],
            [
             1,
             "#276419"
            ]
           ],
           "sequential": [
            [
             0,
             "#0d0887"
            ],
            [
             0.1111111111111111,
             "#46039f"
            ],
            [
             0.2222222222222222,
             "#7201a8"
            ],
            [
             0.3333333333333333,
             "#9c179e"
            ],
            [
             0.4444444444444444,
             "#bd3786"
            ],
            [
             0.5555555555555556,
             "#d8576b"
            ],
            [
             0.6666666666666666,
             "#ed7953"
            ],
            [
             0.7777777777777778,
             "#fb9f3a"
            ],
            [
             0.8888888888888888,
             "#fdca26"
            ],
            [
             1,
             "#f0f921"
            ]
           ],
           "sequentialminus": [
            [
             0,
             "#0d0887"
            ],
            [
             0.1111111111111111,
             "#46039f"
            ],
            [
             0.2222222222222222,
             "#7201a8"
            ],
            [
             0.3333333333333333,
             "#9c179e"
            ],
            [
             0.4444444444444444,
             "#bd3786"
            ],
            [
             0.5555555555555556,
             "#d8576b"
            ],
            [
             0.6666666666666666,
             "#ed7953"
            ],
            [
             0.7777777777777778,
             "#fb9f3a"
            ],
            [
             0.8888888888888888,
             "#fdca26"
            ],
            [
             1,
             "#f0f921"
            ]
           ]
          },
          "colorway": [
           "#636efa",
           "#EF553B",
           "#00cc96",
           "#ab63fa",
           "#FFA15A",
           "#19d3f3",
           "#FF6692",
           "#B6E880",
           "#FF97FF",
           "#FECB52"
          ],
          "font": {
           "color": "#2a3f5f"
          },
          "geo": {
           "bgcolor": "white",
           "lakecolor": "white",
           "landcolor": "#E5ECF6",
           "showlakes": true,
           "showland": true,
           "subunitcolor": "white"
          },
          "hoverlabel": {
           "align": "left"
          },
          "hovermode": "closest",
          "mapbox": {
           "style": "light"
          },
          "paper_bgcolor": "white",
          "plot_bgcolor": "#E5ECF6",
          "polar": {
           "angularaxis": {
            "gridcolor": "white",
            "linecolor": "white",
            "ticks": ""
           },
           "bgcolor": "#E5ECF6",
           "radialaxis": {
            "gridcolor": "white",
            "linecolor": "white",
            "ticks": ""
           }
          },
          "scene": {
           "xaxis": {
            "backgroundcolor": "#E5ECF6",
            "gridcolor": "white",
            "gridwidth": 2,
            "linecolor": "white",
            "showbackground": true,
            "ticks": "",
            "zerolinecolor": "white"
           },
           "yaxis": {
            "backgroundcolor": "#E5ECF6",
            "gridcolor": "white",
            "gridwidth": 2,
            "linecolor": "white",
            "showbackground": true,
            "ticks": "",
            "zerolinecolor": "white"
           },
           "zaxis": {
            "backgroundcolor": "#E5ECF6",
            "gridcolor": "white",
            "gridwidth": 2,
            "linecolor": "white",
            "showbackground": true,
            "ticks": "",
            "zerolinecolor": "white"
           }
          },
          "shapedefaults": {
           "line": {
            "color": "#2a3f5f"
           }
          },
          "ternary": {
           "aaxis": {
            "gridcolor": "white",
            "linecolor": "white",
            "ticks": ""
           },
           "baxis": {
            "gridcolor": "white",
            "linecolor": "white",
            "ticks": ""
           },
           "bgcolor": "#E5ECF6",
           "caxis": {
            "gridcolor": "white",
            "linecolor": "white",
            "ticks": ""
           }
          },
          "title": {
           "x": 0.05
          },
          "xaxis": {
           "automargin": true,
           "gridcolor": "white",
           "linecolor": "white",
           "ticks": "",
           "title": {
            "standoff": 15
           },
           "zerolinecolor": "white",
           "zerolinewidth": 2
          },
          "yaxis": {
           "automargin": true,
           "gridcolor": "white",
           "linecolor": "white",
           "ticks": "",
           "title": {
            "standoff": 15
           },
           "zerolinecolor": "white",
           "zerolinewidth": 2
          }
         }
        },
        "title": {
         "font": {
          "size": 24
         },
         "text": "Convergence of Genetic Algorithm",
         "x": 0.25
        },
        "width": 600,
        "xaxis": {
         "title": {
          "font": {
           "size": 20
          },
          "text": "Generation"
         }
        },
        "yaxis": {
         "title": {
          "font": {
           "size": 20
          },
          "text": "Cost"
         }
        }
       }
      }
     },
     "metadata": {},
     "output_type": "display_data"
    }
   ],
   "source": [
    "# Plot the genetic algorithm convergence plot\n",
    "visualizer.plot_optimization_results()"
   ]
  },
  {
   "cell_type": "code",
   "execution_count": 9,
   "metadata": {
    "tags": []
   },
   "outputs": [
    {
     "name": "stdout",
     "output_type": "stream",
     "text": [
      "Cost of best design: 0.05562515601855033\n"
     ]
    },
    {
     "data": {
      "application/vnd.plotly.v1+json": {
       "config": {
        "plotlyServerURL": "https://plot.ly"
       },
       "data": [
        {
         "hole": 0.25,
         "insidetextorientation": "radial",
         "labels": [
          "eff. elec_cond_300k_low_doping",
          "eff. therm_cond_300k_low_doping",
          "eff. bulk_modulus",
          "eff. shear_modulus",
          "eff. universal_anisotropy",
          "cf load on elec_cond_300k_low_doping",
          "cf response from elec_cond_300k_low_doping",
          "cf load on therm_cond_300k_low_doping",
          "cf response from therm_cond_300k_low_doping",
          "cf hydrostatic stress",
          "cf deviatoric stress",
          "cf load on universal_anisotropy",
          "cf response from universal_anisotropy"
         ],
         "textinfo": "percent",
         "type": "pie",
         "values": [
          0.005353197752785711,
          0.041151632684854486,
          0.006276452237379007,
          0.05202978062886751,
          0.018064514243246982,
          0,
          0,
          0.19912779337518105,
          0.2010462306516732,
          0.041780572802761505,
          0.061834334423931846,
          0,
          0,
          0.3130155618697019,
          0.2678201252961744,
          0.033813592615497635,
          0.05888124575628787,
          0.026854416585972974,
          0.029683483125115973,
          0.08115002010759856,
          0.05965550985134562,
          0.009266036551812322,
          0.02020613685012175,
          0,
          0,
          0.3242647356038413,
          0.27599729301259845,
          0.028418453054530834,
          0.07593804410753553
         ]
        }
       ],
       "layout": {
        "showlegend": true,
        "template": {
         "data": {
          "bar": [
           {
            "error_x": {
             "color": "#2a3f5f"
            },
            "error_y": {
             "color": "#2a3f5f"
            },
            "marker": {
             "line": {
              "color": "#E5ECF6",
              "width": 0.5
             },
             "pattern": {
              "fillmode": "overlay",
              "size": 10,
              "solidity": 0.2
             }
            },
            "type": "bar"
           }
          ],
          "barpolar": [
           {
            "marker": {
             "line": {
              "color": "#E5ECF6",
              "width": 0.5
             },
             "pattern": {
              "fillmode": "overlay",
              "size": 10,
              "solidity": 0.2
             }
            },
            "type": "barpolar"
           }
          ],
          "carpet": [
           {
            "aaxis": {
             "endlinecolor": "#2a3f5f",
             "gridcolor": "white",
             "linecolor": "white",
             "minorgridcolor": "white",
             "startlinecolor": "#2a3f5f"
            },
            "baxis": {
             "endlinecolor": "#2a3f5f",
             "gridcolor": "white",
             "linecolor": "white",
             "minorgridcolor": "white",
             "startlinecolor": "#2a3f5f"
            },
            "type": "carpet"
           }
          ],
          "choropleth": [
           {
            "colorbar": {
             "outlinewidth": 0,
             "ticks": ""
            },
            "type": "choropleth"
           }
          ],
          "contour": [
           {
            "colorbar": {
             "outlinewidth": 0,
             "ticks": ""
            },
            "colorscale": [
             [
              0,
              "#0d0887"
             ],
             [
              0.1111111111111111,
              "#46039f"
             ],
             [
              0.2222222222222222,
              "#7201a8"
             ],
             [
              0.3333333333333333,
              "#9c179e"
             ],
             [
              0.4444444444444444,
              "#bd3786"
             ],
             [
              0.5555555555555556,
              "#d8576b"
             ],
             [
              0.6666666666666666,
              "#ed7953"
             ],
             [
              0.7777777777777778,
              "#fb9f3a"
             ],
             [
              0.8888888888888888,
              "#fdca26"
             ],
             [
              1,
              "#f0f921"
             ]
            ],
            "type": "contour"
           }
          ],
          "contourcarpet": [
           {
            "colorbar": {
             "outlinewidth": 0,
             "ticks": ""
            },
            "type": "contourcarpet"
           }
          ],
          "heatmap": [
           {
            "colorbar": {
             "outlinewidth": 0,
             "ticks": ""
            },
            "colorscale": [
             [
              0,
              "#0d0887"
             ],
             [
              0.1111111111111111,
              "#46039f"
             ],
             [
              0.2222222222222222,
              "#7201a8"
             ],
             [
              0.3333333333333333,
              "#9c179e"
             ],
             [
              0.4444444444444444,
              "#bd3786"
             ],
             [
              0.5555555555555556,
              "#d8576b"
             ],
             [
              0.6666666666666666,
              "#ed7953"
             ],
             [
              0.7777777777777778,
              "#fb9f3a"
             ],
             [
              0.8888888888888888,
              "#fdca26"
             ],
             [
              1,
              "#f0f921"
             ]
            ],
            "type": "heatmap"
           }
          ],
          "heatmapgl": [
           {
            "colorbar": {
             "outlinewidth": 0,
             "ticks": ""
            },
            "colorscale": [
             [
              0,
              "#0d0887"
             ],
             [
              0.1111111111111111,
              "#46039f"
             ],
             [
              0.2222222222222222,
              "#7201a8"
             ],
             [
              0.3333333333333333,
              "#9c179e"
             ],
             [
              0.4444444444444444,
              "#bd3786"
             ],
             [
              0.5555555555555556,
              "#d8576b"
             ],
             [
              0.6666666666666666,
              "#ed7953"
             ],
             [
              0.7777777777777778,
              "#fb9f3a"
             ],
             [
              0.8888888888888888,
              "#fdca26"
             ],
             [
              1,
              "#f0f921"
             ]
            ],
            "type": "heatmapgl"
           }
          ],
          "histogram": [
           {
            "marker": {
             "pattern": {
              "fillmode": "overlay",
              "size": 10,
              "solidity": 0.2
             }
            },
            "type": "histogram"
           }
          ],
          "histogram2d": [
           {
            "colorbar": {
             "outlinewidth": 0,
             "ticks": ""
            },
            "colorscale": [
             [
              0,
              "#0d0887"
             ],
             [
              0.1111111111111111,
              "#46039f"
             ],
             [
              0.2222222222222222,
              "#7201a8"
             ],
             [
              0.3333333333333333,
              "#9c179e"
             ],
             [
              0.4444444444444444,
              "#bd3786"
             ],
             [
              0.5555555555555556,
              "#d8576b"
             ],
             [
              0.6666666666666666,
              "#ed7953"
             ],
             [
              0.7777777777777778,
              "#fb9f3a"
             ],
             [
              0.8888888888888888,
              "#fdca26"
             ],
             [
              1,
              "#f0f921"
             ]
            ],
            "type": "histogram2d"
           }
          ],
          "histogram2dcontour": [
           {
            "colorbar": {
             "outlinewidth": 0,
             "ticks": ""
            },
            "colorscale": [
             [
              0,
              "#0d0887"
             ],
             [
              0.1111111111111111,
              "#46039f"
             ],
             [
              0.2222222222222222,
              "#7201a8"
             ],
             [
              0.3333333333333333,
              "#9c179e"
             ],
             [
              0.4444444444444444,
              "#bd3786"
             ],
             [
              0.5555555555555556,
              "#d8576b"
             ],
             [
              0.6666666666666666,
              "#ed7953"
             ],
             [
              0.7777777777777778,
              "#fb9f3a"
             ],
             [
              0.8888888888888888,
              "#fdca26"
             ],
             [
              1,
              "#f0f921"
             ]
            ],
            "type": "histogram2dcontour"
           }
          ],
          "mesh3d": [
           {
            "colorbar": {
             "outlinewidth": 0,
             "ticks": ""
            },
            "type": "mesh3d"
           }
          ],
          "parcoords": [
           {
            "line": {
             "colorbar": {
              "outlinewidth": 0,
              "ticks": ""
             }
            },
            "type": "parcoords"
           }
          ],
          "pie": [
           {
            "automargin": true,
            "type": "pie"
           }
          ],
          "scatter": [
           {
            "fillpattern": {
             "fillmode": "overlay",
             "size": 10,
             "solidity": 0.2
            },
            "type": "scatter"
           }
          ],
          "scatter3d": [
           {
            "line": {
             "colorbar": {
              "outlinewidth": 0,
              "ticks": ""
             }
            },
            "marker": {
             "colorbar": {
              "outlinewidth": 0,
              "ticks": ""
             }
            },
            "type": "scatter3d"
           }
          ],
          "scattercarpet": [
           {
            "marker": {
             "colorbar": {
              "outlinewidth": 0,
              "ticks": ""
             }
            },
            "type": "scattercarpet"
           }
          ],
          "scattergeo": [
           {
            "marker": {
             "colorbar": {
              "outlinewidth": 0,
              "ticks": ""
             }
            },
            "type": "scattergeo"
           }
          ],
          "scattergl": [
           {
            "marker": {
             "colorbar": {
              "outlinewidth": 0,
              "ticks": ""
             }
            },
            "type": "scattergl"
           }
          ],
          "scattermapbox": [
           {
            "marker": {
             "colorbar": {
              "outlinewidth": 0,
              "ticks": ""
             }
            },
            "type": "scattermapbox"
           }
          ],
          "scatterpolar": [
           {
            "marker": {
             "colorbar": {
              "outlinewidth": 0,
              "ticks": ""
             }
            },
            "type": "scatterpolar"
           }
          ],
          "scatterpolargl": [
           {
            "marker": {
             "colorbar": {
              "outlinewidth": 0,
              "ticks": ""
             }
            },
            "type": "scatterpolargl"
           }
          ],
          "scatterternary": [
           {
            "marker": {
             "colorbar": {
              "outlinewidth": 0,
              "ticks": ""
             }
            },
            "type": "scatterternary"
           }
          ],
          "surface": [
           {
            "colorbar": {
             "outlinewidth": 0,
             "ticks": ""
            },
            "colorscale": [
             [
              0,
              "#0d0887"
             ],
             [
              0.1111111111111111,
              "#46039f"
             ],
             [
              0.2222222222222222,
              "#7201a8"
             ],
             [
              0.3333333333333333,
              "#9c179e"
             ],
             [
              0.4444444444444444,
              "#bd3786"
             ],
             [
              0.5555555555555556,
              "#d8576b"
             ],
             [
              0.6666666666666666,
              "#ed7953"
             ],
             [
              0.7777777777777778,
              "#fb9f3a"
             ],
             [
              0.8888888888888888,
              "#fdca26"
             ],
             [
              1,
              "#f0f921"
             ]
            ],
            "type": "surface"
           }
          ],
          "table": [
           {
            "cells": {
             "fill": {
              "color": "#EBF0F8"
             },
             "line": {
              "color": "white"
             }
            },
            "header": {
             "fill": {
              "color": "#C8D4E3"
             },
             "line": {
              "color": "white"
             }
            },
            "type": "table"
           }
          ]
         },
         "layout": {
          "annotationdefaults": {
           "arrowcolor": "#2a3f5f",
           "arrowhead": 0,
           "arrowwidth": 1
          },
          "autotypenumbers": "strict",
          "coloraxis": {
           "colorbar": {
            "outlinewidth": 0,
            "ticks": ""
           }
          },
          "colorscale": {
           "diverging": [
            [
             0,
             "#8e0152"
            ],
            [
             0.1,
             "#c51b7d"
            ],
            [
             0.2,
             "#de77ae"
            ],
            [
             0.3,
             "#f1b6da"
            ],
            [
             0.4,
             "#fde0ef"
            ],
            [
             0.5,
             "#f7f7f7"
            ],
            [
             0.6,
             "#e6f5d0"
            ],
            [
             0.7,
             "#b8e186"
            ],
            [
             0.8,
             "#7fbc41"
            ],
            [
             0.9,
             "#4d9221"
            ],
            [
             1,
             "#276419"
            ]
           ],
           "sequential": [
            [
             0,
             "#0d0887"
            ],
            [
             0.1111111111111111,
             "#46039f"
            ],
            [
             0.2222222222222222,
             "#7201a8"
            ],
            [
             0.3333333333333333,
             "#9c179e"
            ],
            [
             0.4444444444444444,
             "#bd3786"
            ],
            [
             0.5555555555555556,
             "#d8576b"
            ],
            [
             0.6666666666666666,
             "#ed7953"
            ],
            [
             0.7777777777777778,
             "#fb9f3a"
            ],
            [
             0.8888888888888888,
             "#fdca26"
            ],
            [
             1,
             "#f0f921"
            ]
           ],
           "sequentialminus": [
            [
             0,
             "#0d0887"
            ],
            [
             0.1111111111111111,
             "#46039f"
            ],
            [
             0.2222222222222222,
             "#7201a8"
            ],
            [
             0.3333333333333333,
             "#9c179e"
            ],
            [
             0.4444444444444444,
             "#bd3786"
            ],
            [
             0.5555555555555556,
             "#d8576b"
            ],
            [
             0.6666666666666666,
             "#ed7953"
            ],
            [
             0.7777777777777778,
             "#fb9f3a"
            ],
            [
             0.8888888888888888,
             "#fdca26"
            ],
            [
             1,
             "#f0f921"
            ]
           ]
          },
          "colorway": [
           "#636efa",
           "#EF553B",
           "#00cc96",
           "#ab63fa",
           "#FFA15A",
           "#19d3f3",
           "#FF6692",
           "#B6E880",
           "#FF97FF",
           "#FECB52"
          ],
          "font": {
           "color": "#2a3f5f"
          },
          "geo": {
           "bgcolor": "white",
           "lakecolor": "white",
           "landcolor": "#E5ECF6",
           "showlakes": true,
           "showland": true,
           "subunitcolor": "white"
          },
          "hoverlabel": {
           "align": "left"
          },
          "hovermode": "closest",
          "mapbox": {
           "style": "light"
          },
          "paper_bgcolor": "white",
          "plot_bgcolor": "#E5ECF6",
          "polar": {
           "angularaxis": {
            "gridcolor": "white",
            "linecolor": "white",
            "ticks": ""
           },
           "bgcolor": "#E5ECF6",
           "radialaxis": {
            "gridcolor": "white",
            "linecolor": "white",
            "ticks": ""
           }
          },
          "scene": {
           "xaxis": {
            "backgroundcolor": "#E5ECF6",
            "gridcolor": "white",
            "gridwidth": 2,
            "linecolor": "white",
            "showbackground": true,
            "ticks": "",
            "zerolinecolor": "white"
           },
           "yaxis": {
            "backgroundcolor": "#E5ECF6",
            "gridcolor": "white",
            "gridwidth": 2,
            "linecolor": "white",
            "showbackground": true,
            "ticks": "",
            "zerolinecolor": "white"
           },
           "zaxis": {
            "backgroundcolor": "#E5ECF6",
            "gridcolor": "white",
            "gridwidth": 2,
            "linecolor": "white",
            "showbackground": true,
            "ticks": "",
            "zerolinecolor": "white"
           }
          },
          "shapedefaults": {
           "line": {
            "color": "#2a3f5f"
           }
          },
          "ternary": {
           "aaxis": {
            "gridcolor": "white",
            "linecolor": "white",
            "ticks": ""
           },
           "baxis": {
            "gridcolor": "white",
            "linecolor": "white",
            "ticks": ""
           },
           "bgcolor": "#E5ECF6",
           "caxis": {
            "gridcolor": "white",
            "linecolor": "white",
            "ticks": ""
           }
          },
          "title": {
           "x": 0.05
          },
          "xaxis": {
           "automargin": true,
           "gridcolor": "white",
           "linecolor": "white",
           "ticks": "",
           "title": {
            "standoff": 15
           },
           "zerolinecolor": "white",
           "zerolinewidth": 2
          },
          "yaxis": {
           "automargin": true,
           "gridcolor": "white",
           "linecolor": "white",
           "ticks": "",
           "title": {
            "standoff": 15
           },
           "zerolinecolor": "white",
           "zerolinewidth": 2
          }
         }
        },
        "title": {
         "text": "Cost Function Contributions"
        }
       }
      }
     },
     "metadata": {},
     "output_type": "display_data"
    }
   ],
   "source": [
    "# Plot the contributions to the cost function for the best performer\n",
    "visualizer.plot_cost_func_contribs()"
   ]
  },
  {
   "cell_type": "code",
   "execution_count": 10,
   "metadata": {
    "tags": []
   },
   "outputs": [],
   "source": [
    "# Create an instance of the MatchFinder class using the genetic algorithm result\n",
    "match_finder = MatchFinder(ga_result)"
   ]
  },
  {
   "cell_type": "code",
   "execution_count": 11,
   "metadata": {
    "tags": []
   },
   "outputs": [
    {
     "name": "stdout",
     "output_type": "stream",
     "text": [
      "overall_bounds_dict: {'elec_cond_300k_low_doping': {'upper_bound': 120.0, 'lower_bound': 1e-07}, 'therm_cond_300k_low_doping': {'upper_bound': 2.0, 'lower_bound': 1e-07}, 'bulk_modulus': {'upper_bound': 700.0, 'lower_bound': 20.0}, 'shear_modulus': {'upper_bound': 600.0, 'lower_bound': 80.0}, 'universal_anisotropy': {'upper_bound': 6.0, 'lower_bound': 0.9}}\n"
     ]
    },
    {
     "name": "stderr",
     "output_type": "stream",
     "text": [
      "Retrieving SummaryDoc documents: 100%|██████████| 210/210 [00:00<00:00, 842874.49it/s]\n"
     ]
    },
    {
     "name": "stdout",
     "output_type": "stream",
     "text": [
      "Material Matches: {'mat1': [{'mp-684591': {'elec_cond': 87.8933, 'therm_cond': 0.000354247, 'bulk_modulus': 141.633, 'shear_modulus': 83.335, 'universal_anisotropy': 1.2690000000000001}}, {'mp-752826': {'elec_cond': 41.0475, 'therm_cond': 0.000111994, 'bulk_modulus': 166.16, 'shear_modulus': 81.144, 'universal_anisotropy': 1.271}}, {'mp-3536': {'elec_cond': 77.0117, 'therm_cond': 0.000316911, 'bulk_modulus': 182.861, 'shear_modulus': 98.235, 'universal_anisotropy': 1.062}}, {'mp-4391': {'elec_cond': 110.485, 'therm_cond': 0.000659704, 'bulk_modulus': 199.288, 'shear_modulus': 108.878, 'universal_anisotropy': 1.601}}, {'mp-753459': {'elec_cond': 114.842, 'therm_cond': 0.000524039, 'bulk_modulus': 212.133, 'shear_modulus': 90.785, 'universal_anisotropy': 3.167}}, {'mp-2657': {'elec_cond': 117.021, 'therm_cond': 0.000614014, 'bulk_modulus': 208.538, 'shear_modulus': 107.377, 'universal_anisotropy': 1.629}}, {'mp-755759': {'elec_cond': 87.3874, 'therm_cond': 0.000486809, 'bulk_modulus': 213.895, 'shear_modulus': 82.002, 'universal_anisotropy': 1.335}}, {'mp-4820': {'elec_cond': 110.659, 'therm_cond': 0.00056951, 'bulk_modulus': 202.03, 'shear_modulus': 97.007, 'universal_anisotropy': 1.016}}], 'mat2': [{'mp-684591': {'elec_cond': 87.8933, 'therm_cond': 0.000354247, 'bulk_modulus': 141.633, 'shear_modulus': 83.335, 'universal_anisotropy': 1.2690000000000001}}, {'mp-752826': {'elec_cond': 41.0475, 'therm_cond': 0.000111994, 'bulk_modulus': 166.16, 'shear_modulus': 81.144, 'universal_anisotropy': 1.271}}, {'mp-3536': {'elec_cond': 77.0117, 'therm_cond': 0.000316911, 'bulk_modulus': 182.861, 'shear_modulus': 98.235, 'universal_anisotropy': 1.062}}, {'mp-4391': {'elec_cond': 110.485, 'therm_cond': 0.000659704, 'bulk_modulus': 199.288, 'shear_modulus': 108.878, 'universal_anisotropy': 1.601}}, {'mp-753459': {'elec_cond': 114.842, 'therm_cond': 0.000524039, 'bulk_modulus': 212.133, 'shear_modulus': 90.785, 'universal_anisotropy': 3.167}}, {'mp-2657': {'elec_cond': 117.021, 'therm_cond': 0.000614014, 'bulk_modulus': 208.538, 'shear_modulus': 107.377, 'universal_anisotropy': 1.629}}, {'mp-755759': {'elec_cond': 87.3874, 'therm_cond': 0.000486809, 'bulk_modulus': 213.895, 'shear_modulus': 82.002, 'universal_anisotropy': 1.335}}, {'mp-4820': {'elec_cond': 110.659, 'therm_cond': 0.00056951, 'bulk_modulus': 202.03, 'shear_modulus': 97.007, 'universal_anisotropy': 1.016}}], 'mat3': [{'mp-684591': {'elec_cond': 87.8933, 'therm_cond': 0.000354247, 'bulk_modulus': 141.633, 'shear_modulus': 83.335, 'universal_anisotropy': 1.2690000000000001}}, {'mp-752826': {'elec_cond': 41.0475, 'therm_cond': 0.000111994, 'bulk_modulus': 166.16, 'shear_modulus': 81.144, 'universal_anisotropy': 1.271}}, {'mp-3536': {'elec_cond': 77.0117, 'therm_cond': 0.000316911, 'bulk_modulus': 182.861, 'shear_modulus': 98.235, 'universal_anisotropy': 1.062}}, {'mp-4391': {'elec_cond': 110.485, 'therm_cond': 0.000659704, 'bulk_modulus': 199.288, 'shear_modulus': 108.878, 'universal_anisotropy': 1.601}}, {'mp-753459': {'elec_cond': 114.842, 'therm_cond': 0.000524039, 'bulk_modulus': 212.133, 'shear_modulus': 90.785, 'universal_anisotropy': 3.167}}, {'mp-2657': {'elec_cond': 117.021, 'therm_cond': 0.000614014, 'bulk_modulus': 208.538, 'shear_modulus': 107.377, 'universal_anisotropy': 1.629}}, {'mp-755759': {'elec_cond': 87.3874, 'therm_cond': 0.000486809, 'bulk_modulus': 213.895, 'shear_modulus': 82.002, 'universal_anisotropy': 1.335}}, {'mp-4820': {'elec_cond': 110.659, 'therm_cond': 0.00056951, 'bulk_modulus': 202.03, 'shear_modulus': 97.007, 'universal_anisotropy': 1.016}}]}\n"
     ]
    }
   ],
   "source": [
    "# Get material matches\n",
    "matches_dict = match_finder.get_material_matches(overall_bounds_dict)\n",
    "print(f'Material Matches: {matches_dict}')"
   ]
  },
  {
   "cell_type": "code",
   "execution_count": null,
   "metadata": {},
   "outputs": [],
   "source": []
  }
 ],
 "metadata": {
  "kernelspec": {
   "display_name": "carla_mp_api",
   "language": "python",
   "name": "python3"
  },
  "language_info": {
   "codemirror_mode": {
    "name": "ipython",
    "version": 3
   },
   "file_extension": ".py",
   "mimetype": "text/x-python",
   "name": "python",
   "nbconvert_exporter": "python",
   "pygments_lexer": "ipython3",
   "version": "3.11.11"
  }
 },
 "nbformat": 4,
 "nbformat_minor": 4
}
