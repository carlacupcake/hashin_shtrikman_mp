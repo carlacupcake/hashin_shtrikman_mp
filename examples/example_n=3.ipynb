{
 "cells": [
  {
   "cell_type": "code",
   "execution_count": 1,
   "metadata": {
    "tags": []
   },
   "outputs": [],
   "source": [
    "%load_ext autoreload\n",
    "%autoreload 2"
   ]
  },
  {
   "cell_type": "markdown",
   "metadata": {},
   "source": [
    "## Testing the Composites Discovery App with n=3 phases"
   ]
  },
  {
   "cell_type": "code",
   "execution_count": 2,
   "metadata": {
    "tags": []
   },
   "outputs": [
    {
     "name": "stdout",
     "output_type": "stream",
     "text": [
      "User Input:  {'mat_1': {'elec_cond_300k_low_doping': {'upper_bound': 120.0, 'lower_bound': 1e-07}, 'therm_cond_300k_low_doping': {'upper_bound': 2.0, 'lower_bound': 1e-07}, 'bulk_modulus': {'upper_bound': 500.0, 'lower_bound': 50.0}, 'shear_modulus': {'upper_bound': 500.0, 'lower_bound': 80.0}, 'universal_anisotropy': {'upper_bound': 6.0, 'lower_bound': 1.0}}, 'mat_2': {'elec_cond_300k_low_doping': {'upper_bound': 78.0, 'lower_bound': 1e-07}, 'therm_cond_300k_low_doping': {'upper_bound': 2.0, 'lower_bound': 1e-07}, 'bulk_modulus': {'upper_bound': 400.0, 'lower_bound': 20.0}, 'shear_modulus': {'upper_bound': 500.0, 'lower_bound': 100.0}, 'universal_anisotropy': {'upper_bound': 4.3, 'lower_bound': 1.3}}, 'mat_3': {'elec_cond_300k_low_doping': {'upper_bound': 78.0, 'lower_bound': 1e-07}, 'therm_cond_300k_low_doping': {'upper_bound': 2.0, 'lower_bound': 1e-07}, 'bulk_modulus': {'upper_bound': 700.0, 'lower_bound': 20.0}, 'shear_modulus': {'upper_bound': 600.0, 'lower_bound': 100.0}, 'universal_anisotropy': {'upper_bound': 2.1, 'lower_bound': 0.9}}, 'mixture': {'elec_cond_300k_low_doping': {'desired_prop': 9.0}, 'therm_cond_300k_low_doping': {'desired_prop': 0.9}, 'bulk_modulus': {'desired_prop': 280.0}, 'shear_modulus': {'desired_prop': 230.0}, 'universal_anisotropy': {'desired_prop': 1.5}}}\n",
      "Overall Upper & Lower Bounds:\n",
      "Property: elec_cond_300k_low_doping, Upper Bound: 120.0, Lower Bound: 1e-07\n",
      "Property: therm_cond_300k_low_doping, Upper Bound: 2.0, Lower Bound: 1e-07\n",
      "Property: bulk_modulus, Upper Bound: 700.0, Lower Bound: 20.0\n",
      "Property: shear_modulus, Upper Bound: 600.0, Lower Bound: 80.0\n",
      "Property: universal_anisotropy, Upper Bound: 6.0, Lower Bound: 0.9\n",
      "{'elec_cond_300k_low_doping': {'upper_bound': 120.0, 'lower_bound': 1e-07}, 'therm_cond_300k_low_doping': {'upper_bound': 2.0, 'lower_bound': 1e-07}, 'bulk_modulus': {'upper_bound': 700.0, 'lower_bound': 20.0}, 'shear_modulus': {'upper_bound': 600.0, 'lower_bound': 80.0}, 'universal_anisotropy': {'upper_bound': 6.0, 'lower_bound': 0.9}}\n"
     ]
    }
   ],
   "source": [
    "from hashin_shtrikman_mp.core.user_input import MaterialProperty, Material, MixtureProperty, Mixture, UserInput\n",
    "\n",
    "# Define properties for each material\n",
    "properties_mat_1 = [\n",
    "    MaterialProperty(prop='elec_cond_300k_low_doping', upper_bound=120, lower_bound=1e-7), # upper_bound=20, lower_bound=1 \n",
    "    MaterialProperty(prop='therm_cond_300k_low_doping', upper_bound=2, lower_bound=1e-7), # upper_bound=0.0001, lower_bound=1e-5 \n",
    "    MaterialProperty(prop='bulk_modulus', upper_bound=500, lower_bound=50),\n",
    "    MaterialProperty(prop='shear_modulus', upper_bound=500, lower_bound=80),\n",
    "    MaterialProperty(prop='universal_anisotropy', upper_bound=6, lower_bound=1),\n",
    "]\n",
    "\n",
    "properties_mat_2 = [\n",
    "    MaterialProperty(prop='elec_cond_300k_low_doping', upper_bound=78, lower_bound=1e-7), # upper_bound=5, lower_bound=2\n",
    "    MaterialProperty(prop='therm_cond_300k_low_doping', upper_bound=2, lower_bound=1e-7), # upper_bound=0.009, lower_bound=1e-4\n",
    "    MaterialProperty(prop='bulk_modulus', upper_bound=400, lower_bound=20),\n",
    "    MaterialProperty(prop='shear_modulus', upper_bound=500, lower_bound=100),\n",
    "    MaterialProperty(prop='universal_anisotropy', upper_bound=4.3, lower_bound=1.3),\n",
    "]\n",
    "\n",
    "properties_mat_3 = [\n",
    "    MaterialProperty(prop='elec_cond_300k_low_doping', upper_bound=78, lower_bound=1e-7), # upper_bound=10, lower_bound=1\n",
    "    MaterialProperty(prop='therm_cond_300k_low_doping', upper_bound=2, lower_bound=1e-7), # upper_bound=0.005, lower_bound=1e-4\n",
    "    MaterialProperty(prop='bulk_modulus', upper_bound=700, lower_bound=20),\n",
    "    MaterialProperty(prop='shear_modulus', upper_bound=600, lower_bound=100),\n",
    "    MaterialProperty(prop='universal_anisotropy', upper_bound=2.1, lower_bound=0.9),\n",
    "]\n",
    "\n",
    "# Define properties for the mixture\n",
    "properties_mixture = [\n",
    "    MixtureProperty(prop='elec_cond_300k_low_doping', desired_prop=9),\n",
    "    MixtureProperty(prop='therm_cond_300k_low_doping', desired_prop=0.9),\n",
    "    MixtureProperty(prop='bulk_modulus', desired_prop=280),\n",
    "    MixtureProperty(prop='shear_modulus', desired_prop=230),\n",
    "    MixtureProperty(prop='universal_anisotropy', desired_prop=1.5),\n",
    "]\n",
    "\n",
    "# Create Material & Mixture instances\n",
    "mat_1 = Material(name='mat_1', properties=properties_mat_1)\n",
    "mat_2 = Material(name='mat_2', properties=properties_mat_2)\n",
    "mat_3 = Material(name='mat_3', properties=properties_mat_3)\n",
    "mixture = Mixture(name='mixture', properties=properties_mixture)\n",
    "aggregate = [mat_1, mat_2, mat_3, mixture]\n",
    "\n",
    "# Initialize UserInput instance with materials and mixtures\n",
    "user_input= UserInput(materials=[mat_1, mat_2, mat_3], mixtures=[mixture])\n",
    "print(\"User Input: \", user_input)\n",
    "\n",
    "# Initialize dictionaries to store the overall upper and lower bounds for each property\n",
    "overall_bounds = {}\n",
    "\n",
    "# Iterate over materials\n",
    "for entity in aggregate:\n",
    "    # Skip the mixture as it doesn't have upper and lower bounds\n",
    "    if isinstance(entity, Material):\n",
    "        for property in entity.properties:\n",
    "            prop_name = property.prop\n",
    "\n",
    "            # Initialize the overall bounds if they are not already present for the property\n",
    "            if prop_name not in overall_bounds:\n",
    "                overall_bounds[prop_name] = {'upper_bound': property.upper_bound, 'lower_bound': property.lower_bound}\n",
    "            else:\n",
    "                # Update overall upper and lower bounds by comparing with existing values\n",
    "                overall_bounds[prop_name]['upper_bound'] = max(overall_bounds[prop_name]['upper_bound'], property.upper_bound)\n",
    "                overall_bounds[prop_name]['lower_bound'] = min(overall_bounds[prop_name]['lower_bound'], property.lower_bound)\n",
    "\n",
    "# Print the overall bounds for each property\n",
    "print(\"Overall Upper & Lower Bounds:\")\n",
    "for prop, bounds in overall_bounds.items():\n",
    "    print(f\"Property: {prop}, Upper Bound: {bounds['upper_bound']}, Lower Bound: {bounds['lower_bound']}\")\n",
    "\n",
    "# Step 1: Create the consolidated_dict\n",
    "overall_bounds_dict = {}\n",
    "for prop, bounds in overall_bounds.items():\n",
    "    overall_bounds_dict[prop] = {\n",
    "        'upper_bound': bounds['upper_bound'],\n",
    "        'lower_bound': bounds['lower_bound']\n",
    "    }\n",
    "\n",
    "print(overall_bounds_dict)"
   ]
  },
  {
   "cell_type": "code",
   "execution_count": 3,
   "metadata": {
    "tags": []
   },
   "outputs": [
    {
     "name": "stderr",
     "output_type": "stream",
     "text": [
      "2024-12-04 16:50:02,322 - hashin_shtrikman_mp.log.custom_logger - INFO - Loading property categories from /Users/carlabecker/Library/Mobile Documents/com~apple~CloudDocs/Carla's Desktop/UC Berkeley/Research/Materials Project/hashin_shtrikman_mp/src/hashin_shtrikman_mp/core/../io/inputs/mp_property_docs.yaml.\n",
      "2024-12-04 16:50:02,328 - hashin_shtrikman_mp.log.custom_logger - INFO - property_categories = ['carrier-transport', 'elastic']\n",
      "2024-12-04 16:50:02,329 - hashin_shtrikman_mp.log.custom_logger - INFO - mixture_props = {'elec_cond_300k_low_doping': {'desired_prop': 9.0}, 'therm_cond_300k_low_doping': {'desired_prop': 0.9}, 'bulk_modulus': {'desired_prop': 280.0}, 'shear_modulus': {'desired_prop': 230.0}, 'universal_anisotropy': {'desired_prop': 1.5}}\n"
     ]
    },
    {
     "name": "stdout",
     "output_type": "stream",
     "text": [
      "self.nuild_dict: <bound method UserInput.build_dict of {'mat_1': {'elec_cond_300k_low_doping': {'upper_bound': 120.0, 'lower_bound': 1e-07}, 'therm_cond_300k_low_doping': {'upper_bound': 2.0, 'lower_bound': 1e-07}, 'bulk_modulus': {'upper_bound': 500.0, 'lower_bound': 50.0}, 'shear_modulus': {'upper_bound': 500.0, 'lower_bound': 80.0}, 'universal_anisotropy': {'upper_bound': 6.0, 'lower_bound': 1.0}}, 'mat_2': {'elec_cond_300k_low_doping': {'upper_bound': 78.0, 'lower_bound': 1e-07}, 'therm_cond_300k_low_doping': {'upper_bound': 2.0, 'lower_bound': 1e-07}, 'bulk_modulus': {'upper_bound': 400.0, 'lower_bound': 20.0}, 'shear_modulus': {'upper_bound': 500.0, 'lower_bound': 100.0}, 'universal_anisotropy': {'upper_bound': 4.3, 'lower_bound': 1.3}}, 'mat_3': {'elec_cond_300k_low_doping': {'upper_bound': 78.0, 'lower_bound': 1e-07}, 'therm_cond_300k_low_doping': {'upper_bound': 2.0, 'lower_bound': 1e-07}, 'bulk_modulus': {'upper_bound': 700.0, 'lower_bound': 20.0}, 'shear_modulus': {'upper_bound': 600.0, 'lower_bound': 100.0}, 'universal_anisotropy': {'upper_bound': 2.1, 'lower_bound': 0.9}}, 'mixture': {'elec_cond_300k_low_doping': {'desired_prop': 9.0}, 'therm_cond_300k_low_doping': {'desired_prop': 0.9}, 'bulk_modulus': {'desired_prop': 280.0}, 'shear_modulus': {'desired_prop': 230.0}, 'universal_anisotropy': {'desired_prop': 1.5}}}>\n",
      "material: mat_1, category: carrier-transport, property: 120.0\n",
      "material: mat_1, category: carrier-transport, property: 2.0\n",
      "material: mat_1, category: elastic, property: 500.0\n",
      "Property categories:  ['carrier-transport', 'elastic']\n",
      "Property docs:  {'carrier-transport': {'elec_cond_300k_low_doping': None, 'therm_cond_300k_low_doping': None}, 'dielectric': {'e_electronic': None, 'e_ionic': None, 'e_total': None, 'n': None}, 'elastic': {'bulk_modulus': 'vrh', 'shear_modulus': 'vrh', 'universal_anisotropy': None}, 'magnetic': {'total_magnetization': None, 'total_magnetization_normalized_vol': None}, 'piezoelectric': {'e_ij_max': None}}\n",
      "Lower Bounds: {'mat_1': {'carrier-transport': [1e-07, 1e-07], 'elastic': [50.0, 80.0, 1.0]}, 'mat_2': {'carrier-transport': [1e-07, 1e-07], 'elastic': [20.0, 100.0, 1.3]}, 'mat_3': {'carrier-transport': [1e-07, 1e-07], 'elastic': [20.0, 100.0, 0.9]}, 'volume-fractions': [0.01, 0.01, 0.01]}\n",
      "Upper Bounds: {'mat_1': {'carrier-transport': [120.0, 2.0], 'elastic': [500.0, 500.0, 6.0]}, 'mat_2': {'carrier-transport': [78.0, 2.0], 'elastic': [400.0, 500.0, 4.3]}, 'mat_3': {'carrier-transport': [78.0, 2.0], 'elastic': [700.0, 600.0, 2.1]}, 'volume-fractions': [0.99, 0.99, 0.99]}\n",
      "Number of Materials: 3\n",
      "Number of Properties: 6\n"
     ]
    }
   ],
   "source": [
    "from hashin_shtrikman_mp.core.optimizer import Optimizer\n",
    "optimizer = Optimizer(api_key=\"uJpFxJJGKCSp9s1shwg9HmDuNjCDfWbM\", user_input=user_input)\n",
    "\n",
    "print(\"Property categories: \", optimizer.property_categories)\n",
    "print(\"Property docs: \", optimizer.property_docs)\n",
    "\n",
    "print(\"Lower Bounds:\", optimizer.lower_bounds)\n",
    "print(\"Upper Bounds:\", optimizer.upper_bounds)\n",
    "\n",
    "print(\"Number of Materials:\", optimizer.num_materials)\n",
    "print(\"Number of Properties:\", optimizer.num_properties)"
   ]
  },
  {
   "cell_type": "code",
   "execution_count": 4,
   "metadata": {
    "tags": []
   },
   "outputs": [],
   "source": [
    "# # Testing without calls to generate final dict (faster)\n",
    "# import json\n",
    "# consolidated_dict = {}\n",
    "# with open(\"consolidated_dict_02_11_2024_23_45_58\") as f:\n",
    "#     consolidated_dict = json.load(f)\n",
    "# print(consolidated_dict)"
   ]
  },
  {
   "cell_type": "code",
   "execution_count": 5,
   "metadata": {
    "tags": []
   },
   "outputs": [
    {
     "name": "stdout",
     "output_type": "stream",
     "text": [
      "Generation 0 of 100\n",
      "Generation 1 of 100\n",
      "Generation 2 of 100\n",
      "Generation 3 of 100\n",
      "Generation 4 of 100\n",
      "Generation 5 of 100\n",
      "Generation 6 of 100\n",
      "Generation 7 of 100\n",
      "Generation 8 of 100\n",
      "Generation 9 of 100\n",
      "Generation 10 of 100\n",
      "Generation 11 of 100\n",
      "Generation 12 of 100\n",
      "Generation 13 of 100\n",
      "Generation 14 of 100\n",
      "Generation 15 of 100\n",
      "Generation 16 of 100\n",
      "Generation 17 of 100\n",
      "Generation 18 of 100\n",
      "Generation 19 of 100\n",
      "Generation 20 of 100\n",
      "Generation 21 of 100\n",
      "Generation 22 of 100\n",
      "Generation 23 of 100\n",
      "Generation 24 of 100\n",
      "Generation 25 of 100\n",
      "Generation 26 of 100\n",
      "Generation 27 of 100\n",
      "Generation 28 of 100\n",
      "Generation 29 of 100\n",
      "Generation 30 of 100\n",
      "Generation 31 of 100\n",
      "Generation 32 of 100\n",
      "Generation 33 of 100\n",
      "Generation 34 of 100\n",
      "Generation 35 of 100\n",
      "Generation 36 of 100\n",
      "Generation 37 of 100\n",
      "Generation 38 of 100\n",
      "Generation 39 of 100\n",
      "Generation 40 of 100\n",
      "Generation 41 of 100\n",
      "Generation 42 of 100\n",
      "Generation 43 of 100\n",
      "Generation 44 of 100\n",
      "Generation 45 of 100\n",
      "Generation 46 of 100\n",
      "Generation 47 of 100\n",
      "Generation 48 of 100\n",
      "Generation 49 of 100\n",
      "Generation 50 of 100\n",
      "Generation 51 of 100\n",
      "Generation 52 of 100\n",
      "Generation 53 of 100\n",
      "Generation 54 of 100\n",
      "Generation 55 of 100\n",
      "Generation 56 of 100\n",
      "Generation 57 of 100\n",
      "Generation 58 of 100\n",
      "Generation 59 of 100\n",
      "Generation 60 of 100\n",
      "Generation 61 of 100\n",
      "Generation 62 of 100\n",
      "Generation 63 of 100\n",
      "Generation 64 of 100\n",
      "Generation 65 of 100\n",
      "Generation 66 of 100\n",
      "Generation 67 of 100\n",
      "Generation 68 of 100\n",
      "Generation 69 of 100\n",
      "Generation 70 of 100\n",
      "Generation 71 of 100\n",
      "Generation 72 of 100\n",
      "Generation 73 of 100\n",
      "Generation 74 of 100\n",
      "Generation 75 of 100\n",
      "Generation 76 of 100\n",
      "Generation 77 of 100\n",
      "Generation 78 of 100\n",
      "Generation 79 of 100\n",
      "Generation 80 of 100\n",
      "Generation 81 of 100\n",
      "Generation 82 of 100\n",
      "Generation 83 of 100\n",
      "Generation 84 of 100\n",
      "Generation 85 of 100\n",
      "Generation 86 of 100\n",
      "Generation 87 of 100\n",
      "Generation 88 of 100\n",
      "Generation 89 of 100\n",
      "Generation 90 of 100\n",
      "Generation 91 of 100\n",
      "Generation 92 of 100\n",
      "Generation 93 of 100\n",
      "Generation 94 of 100\n",
      "Generation 95 of 100\n",
      "Generation 96 of 100\n",
      "Generation 97 of 100\n",
      "Generation 98 of 100\n",
      "Generation 99 of 100\n"
     ]
    }
   ],
   "source": [
    "# Run the optimization to obtain n=3 materials and their volume fractions that achieve the desired composite material properties\n",
    "optimizer.set_HS_optim_params(gen_counter=True)"
   ]
  },
  {
   "cell_type": "code",
   "execution_count": 6,
   "metadata": {},
   "outputs": [
    {
     "name": "stderr",
     "output_type": "stream",
     "text": [
      "2024-12-04 16:50:06,779 - hashin_shtrikman_mp.log.custom_logger - INFO - Loading property categories from /Users/carlabecker/Library/Mobile Documents/com~apple~CloudDocs/Carla's Desktop/UC Berkeley/Research/Materials Project/hashin_shtrikman_mp/src/hashin_shtrikman_mp/core/../io/inputs/mp_property_docs.yaml.\n",
      "2024-12-04 16:50:06,784 - hashin_shtrikman_mp.log.custom_logger - INFO - property_categories = ['carrier-transport', 'elastic']\n",
      "2024-12-04 16:50:06,785 - hashin_shtrikman_mp.log.custom_logger - INFO - mixture_props = {'elec_cond_300k_low_doping': {'desired_prop': 9.0}, 'therm_cond_300k_low_doping': {'desired_prop': 0.9}, 'bulk_modulus': {'desired_prop': 280.0}, 'shear_modulus': {'desired_prop': 230.0}, 'universal_anisotropy': {'desired_prop': 1.5}}\n"
     ]
    },
    {
     "name": "stdout",
     "output_type": "stream",
     "text": [
      "self.nuild_dict: <bound method UserInput.build_dict of {'mat_1': {'elec_cond_300k_low_doping': {'upper_bound': 120.0, 'lower_bound': 1e-07}, 'therm_cond_300k_low_doping': {'upper_bound': 2.0, 'lower_bound': 1e-07}, 'bulk_modulus': {'upper_bound': 500.0, 'lower_bound': 50.0}, 'shear_modulus': {'upper_bound': 500.0, 'lower_bound': 80.0}, 'universal_anisotropy': {'upper_bound': 6.0, 'lower_bound': 1.0}}, 'mat_2': {'elec_cond_300k_low_doping': {'upper_bound': 78.0, 'lower_bound': 1e-07}, 'therm_cond_300k_low_doping': {'upper_bound': 2.0, 'lower_bound': 1e-07}, 'bulk_modulus': {'upper_bound': 400.0, 'lower_bound': 20.0}, 'shear_modulus': {'upper_bound': 500.0, 'lower_bound': 100.0}, 'universal_anisotropy': {'upper_bound': 4.3, 'lower_bound': 1.3}}, 'mat_3': {'elec_cond_300k_low_doping': {'upper_bound': 78.0, 'lower_bound': 1e-07}, 'therm_cond_300k_low_doping': {'upper_bound': 2.0, 'lower_bound': 1e-07}, 'bulk_modulus': {'upper_bound': 700.0, 'lower_bound': 20.0}, 'shear_modulus': {'upper_bound': 600.0, 'lower_bound': 100.0}, 'universal_anisotropy': {'upper_bound': 2.1, 'lower_bound': 0.9}}, 'mixture': {'elec_cond_300k_low_doping': {'desired_prop': 9.0}, 'therm_cond_300k_low_doping': {'desired_prop': 0.9}, 'bulk_modulus': {'desired_prop': 280.0}, 'shear_modulus': {'desired_prop': 230.0}, 'universal_anisotropy': {'desired_prop': 1.5}}}>\n",
      "material: mat_1, category: carrier-transport, property: 120.0\n",
      "material: mat_1, category: carrier-transport, property: 2.0\n",
      "material: mat_1, category: elastic, property: 500.0\n"
     ]
    }
   ],
   "source": [
    "# Create an instance of the Visualizer class using the instance of the Optimizer class\n",
    "from hashin_shtrikman_mp.core.visualizer import Visualizer\n",
    "visualizer = Visualizer(optimizer)"
   ]
  },
  {
   "cell_type": "code",
   "execution_count": 7,
   "metadata": {
    "tags": []
   },
   "outputs": [
    {
     "data": {
      "application/vnd.plotly.v1+json": {
       "config": {
        "plotlyServerURL": "https://plot.ly"
       },
       "data": [
        {
         "cells": {
          "align": "left",
          "fill": {
           "color": [
            [
             "white",
             "lightgrey",
             "white",
             "lightgrey",
             "white",
             "lightgrey",
             "white",
             "lightgrey",
             "white",
             "lightgrey"
            ]
           ]
          },
          "font": {
           "size": 12
          },
          "height": 30,
          "values": [
           [
            3.5110228560975125,
            42.59226448834605,
            83.80595744170243,
            65.07028221412678,
            3.9900364251712697,
            22.944777414228213,
            14.822323776835404,
            3.5818073340246497,
            33.636310756904244,
            56.50499857977776
           ],
           [
            1.438010649645726,
            1.2052258009194177,
            0.43596442960712084,
            1.3549926376368093,
            0.7609077024347808,
            1.7355862067474244,
            1.032730532044208,
            1.4453670697731835,
            1.8813004514316332,
            1.7341514363435628
           ],
           [
            176.86157114175273,
            72.51679241129935,
            110.87970398277707,
            55.64705482198923,
            220.72681347408155,
            162.50977360289338,
            269.2309536298704,
            149.121873285388,
            87.15562018476625,
            143.6682218442463
           ],
           [
            146.0634330642169,
            422.7676695717439,
            105.23782923236504,
            283.55221966888445,
            189.42214297970912,
            469.58330413632154,
            147.05552202112415,
            321.0895674643082,
            298.1830181156379,
            229.63849042917585
           ],
           [
            1.71529774660151,
            2.2162527951469277,
            3.165206907996849,
            1.816587864341623,
            1.2838718805381037,
            1.8872509474909203,
            2.6528225259567746,
            1.0383924628980687,
            2.3371102656790645,
            1.2423138224901926
           ],
           [
            52.98475414266505,
            11.733039056548815,
            35.42352314573712,
            1.4581115795510848,
            20.245961002614166,
            64.1902362247687,
            64.9107572471374,
            19.581140222275547,
            14.601084043548461,
            21.075730084117968
           ],
           [
            0.27674289633661875,
            0.5415007527839567,
            1.6937628107056548,
            0.24077940796716876,
            1.7405663138586898,
            0.1233733706782766,
            1.3041582844802713,
            1.3758638926858138,
            0.15698748663238196,
            1.8170989523915602
           ],
           [
            404.2676044578187,
            351.271536209571,
            383.2861331975361,
            413.895486325982,
            342.7751893900029,
            261.34291781586256,
            282.8572837283112,
            171.23314087010795,
            183.7895795137519,
            262.3597407405298
           ],
           [
            352.4904496969514,
            496.5446176667135,
            224.64778332157556,
            353.3662733294875,
            397.54400234241734,
            486.4194401280767,
            356.3252151866793,
            353.19243534837693,
            493.16960252338225,
            331.69882140864206
           ],
           [
            2.2420030381469744,
            1.224768892303872,
            1.7826112194992318,
            4.162262200320031,
            1.9941986964803724,
            2.752224986796569,
            3.903643943922172,
            2.550111441445183,
            1.707629571291458,
            1.702947810040391
           ],
           [
            17.743078961269347,
            2.3214983695901026,
            76.25257784808585,
            9.539413819621053,
            1.2684951051324276,
            63.35217526006343,
            48.40804689816198,
            48.16987576978033,
            7.128173948696374,
            92.63832704784251
           ],
           [
            1.3830442219755206,
            1.2080292014676615,
            1.2848828139167507,
            0.8000249823956004,
            0.5182966042905605,
            1.2034219586155381,
            0.7174481287140192,
            0.3314472760032434,
            1.655653894850852,
            1.4653582502530038
           ],
           [
            405.24732694012096,
            422.80802838318596,
            606.9412790192671,
            674.8658199943055,
            370.7257108049331,
            498.6216599802041,
            525.1484234235979,
            302.4559091751774,
            458.24735310775714,
            428.89516649088444
           ],
           [
            431.37504608994493,
            497.4302360878311,
            533.0780736881425,
            356.5372056921328,
            519.344707378878,
            582.2381487541141,
            434.9685451822052,
            546.9796549897503,
            523.8275354780221,
            376.9096383074265
           ],
           [
            1.397509413168371,
            4.4249749907831974,
            1.5885182582775812,
            1.0039416941223054,
            2.7495910652577176,
            1.6373607292980366,
            1.0982551527494107,
            1.5048619687779126,
            1.8717308035847253,
            3.9909010097063233
           ],
           [
            0.5678269099977501,
            0.1908239737131499,
            0.44839185077622173,
            0.5360997774485897,
            0.16131998231375028,
            0.5576093519924418,
            0.26999647277572436,
            0.5630223524394904,
            0.17790437310651155,
            0.6069032264562737
           ],
           [
            0.22207792771466467,
            0.6781296809140376,
            0.32796481626373375,
            0.19596598845707644,
            0.3964073022560264,
            0.20213018518183654,
            0.46699952266753947,
            0.3865088254639194,
            0.5419835830062735,
            0.25040233354896185
           ],
           [
            0.21009516228758537,
            0.13104634537281257,
            0.22364333296004446,
            0.2679342340943338,
            0.4422727154302233,
            0.24026046282572167,
            0.2630040045567361,
            0.050468822096590205,
            0.280112043887215,
            0.1426944399947645
           ],
           [
            0.077,
            0.131,
            0.149,
            0.152,
            0.168,
            0.175,
            0.177,
            0.18,
            0.181,
            0.187
           ]
          ]
         },
         "columnwidth": 1000,
         "header": {
          "align": "left",
          "fill": {
           "color": "lavender"
          },
          "font": {
           "size": 12
          },
          "height": 30,
          "values": [
           "Phase 1 Electrical conductivity, [S/m]",
           "Phase 2 Electrical conductivity, [S/m]",
           "Phase 3 Electrical conductivity, [S/m]",
           "Phase 1 Thermal conductivity, [W/m/K]",
           "Phase 2 Thermal conductivity, [W/m/K]",
           "Phase 3 Thermal conductivity, [W/m/K]",
           "Phase 1 Bulk modulus, [GPa]",
           "Phase 2 Bulk modulus, [GPa]",
           "Phase 3 Bulk modulus, [GPa]",
           "Phase 1 Shear modulus, [GPa]",
           "Phase 2 Shear modulus, [GPa]",
           "Phase 3 Shear modulus, [GPa]",
           "Phase 1 Universal anisotropy, []",
           "Phase 2 Universal anisotropy, []",
           "Phase 3 Universal anisotropy, []",
           "Phase 1 Volume Fraction",
           "Phase 2 Volume Fraction",
           "Phase 3 Volume Fraction",
           "cost"
          ]
         },
         "type": "table"
        }
       ],
       "layout": {
        "autosize": true,
        "height": 400,
        "margin": {
         "b": 0,
         "l": 0,
         "r": 0,
         "t": 40
        },
        "template": {
         "data": {
          "bar": [
           {
            "error_x": {
             "color": "#2a3f5f"
            },
            "error_y": {
             "color": "#2a3f5f"
            },
            "marker": {
             "line": {
              "color": "#E5ECF6",
              "width": 0.5
             },
             "pattern": {
              "fillmode": "overlay",
              "size": 10,
              "solidity": 0.2
             }
            },
            "type": "bar"
           }
          ],
          "barpolar": [
           {
            "marker": {
             "line": {
              "color": "#E5ECF6",
              "width": 0.5
             },
             "pattern": {
              "fillmode": "overlay",
              "size": 10,
              "solidity": 0.2
             }
            },
            "type": "barpolar"
           }
          ],
          "carpet": [
           {
            "aaxis": {
             "endlinecolor": "#2a3f5f",
             "gridcolor": "white",
             "linecolor": "white",
             "minorgridcolor": "white",
             "startlinecolor": "#2a3f5f"
            },
            "baxis": {
             "endlinecolor": "#2a3f5f",
             "gridcolor": "white",
             "linecolor": "white",
             "minorgridcolor": "white",
             "startlinecolor": "#2a3f5f"
            },
            "type": "carpet"
           }
          ],
          "choropleth": [
           {
            "colorbar": {
             "outlinewidth": 0,
             "ticks": ""
            },
            "type": "choropleth"
           }
          ],
          "contour": [
           {
            "colorbar": {
             "outlinewidth": 0,
             "ticks": ""
            },
            "colorscale": [
             [
              0,
              "#0d0887"
             ],
             [
              0.1111111111111111,
              "#46039f"
             ],
             [
              0.2222222222222222,
              "#7201a8"
             ],
             [
              0.3333333333333333,
              "#9c179e"
             ],
             [
              0.4444444444444444,
              "#bd3786"
             ],
             [
              0.5555555555555556,
              "#d8576b"
             ],
             [
              0.6666666666666666,
              "#ed7953"
             ],
             [
              0.7777777777777778,
              "#fb9f3a"
             ],
             [
              0.8888888888888888,
              "#fdca26"
             ],
             [
              1,
              "#f0f921"
             ]
            ],
            "type": "contour"
           }
          ],
          "contourcarpet": [
           {
            "colorbar": {
             "outlinewidth": 0,
             "ticks": ""
            },
            "type": "contourcarpet"
           }
          ],
          "heatmap": [
           {
            "colorbar": {
             "outlinewidth": 0,
             "ticks": ""
            },
            "colorscale": [
             [
              0,
              "#0d0887"
             ],
             [
              0.1111111111111111,
              "#46039f"
             ],
             [
              0.2222222222222222,
              "#7201a8"
             ],
             [
              0.3333333333333333,
              "#9c179e"
             ],
             [
              0.4444444444444444,
              "#bd3786"
             ],
             [
              0.5555555555555556,
              "#d8576b"
             ],
             [
              0.6666666666666666,
              "#ed7953"
             ],
             [
              0.7777777777777778,
              "#fb9f3a"
             ],
             [
              0.8888888888888888,
              "#fdca26"
             ],
             [
              1,
              "#f0f921"
             ]
            ],
            "type": "heatmap"
           }
          ],
          "heatmapgl": [
           {
            "colorbar": {
             "outlinewidth": 0,
             "ticks": ""
            },
            "colorscale": [
             [
              0,
              "#0d0887"
             ],
             [
              0.1111111111111111,
              "#46039f"
             ],
             [
              0.2222222222222222,
              "#7201a8"
             ],
             [
              0.3333333333333333,
              "#9c179e"
             ],
             [
              0.4444444444444444,
              "#bd3786"
             ],
             [
              0.5555555555555556,
              "#d8576b"
             ],
             [
              0.6666666666666666,
              "#ed7953"
             ],
             [
              0.7777777777777778,
              "#fb9f3a"
             ],
             [
              0.8888888888888888,
              "#fdca26"
             ],
             [
              1,
              "#f0f921"
             ]
            ],
            "type": "heatmapgl"
           }
          ],
          "histogram": [
           {
            "marker": {
             "pattern": {
              "fillmode": "overlay",
              "size": 10,
              "solidity": 0.2
             }
            },
            "type": "histogram"
           }
          ],
          "histogram2d": [
           {
            "colorbar": {
             "outlinewidth": 0,
             "ticks": ""
            },
            "colorscale": [
             [
              0,
              "#0d0887"
             ],
             [
              0.1111111111111111,
              "#46039f"
             ],
             [
              0.2222222222222222,
              "#7201a8"
             ],
             [
              0.3333333333333333,
              "#9c179e"
             ],
             [
              0.4444444444444444,
              "#bd3786"
             ],
             [
              0.5555555555555556,
              "#d8576b"
             ],
             [
              0.6666666666666666,
              "#ed7953"
             ],
             [
              0.7777777777777778,
              "#fb9f3a"
             ],
             [
              0.8888888888888888,
              "#fdca26"
             ],
             [
              1,
              "#f0f921"
             ]
            ],
            "type": "histogram2d"
           }
          ],
          "histogram2dcontour": [
           {
            "colorbar": {
             "outlinewidth": 0,
             "ticks": ""
            },
            "colorscale": [
             [
              0,
              "#0d0887"
             ],
             [
              0.1111111111111111,
              "#46039f"
             ],
             [
              0.2222222222222222,
              "#7201a8"
             ],
             [
              0.3333333333333333,
              "#9c179e"
             ],
             [
              0.4444444444444444,
              "#bd3786"
             ],
             [
              0.5555555555555556,
              "#d8576b"
             ],
             [
              0.6666666666666666,
              "#ed7953"
             ],
             [
              0.7777777777777778,
              "#fb9f3a"
             ],
             [
              0.8888888888888888,
              "#fdca26"
             ],
             [
              1,
              "#f0f921"
             ]
            ],
            "type": "histogram2dcontour"
           }
          ],
          "mesh3d": [
           {
            "colorbar": {
             "outlinewidth": 0,
             "ticks": ""
            },
            "type": "mesh3d"
           }
          ],
          "parcoords": [
           {
            "line": {
             "colorbar": {
              "outlinewidth": 0,
              "ticks": ""
             }
            },
            "type": "parcoords"
           }
          ],
          "pie": [
           {
            "automargin": true,
            "type": "pie"
           }
          ],
          "scatter": [
           {
            "fillpattern": {
             "fillmode": "overlay",
             "size": 10,
             "solidity": 0.2
            },
            "type": "scatter"
           }
          ],
          "scatter3d": [
           {
            "line": {
             "colorbar": {
              "outlinewidth": 0,
              "ticks": ""
             }
            },
            "marker": {
             "colorbar": {
              "outlinewidth": 0,
              "ticks": ""
             }
            },
            "type": "scatter3d"
           }
          ],
          "scattercarpet": [
           {
            "marker": {
             "colorbar": {
              "outlinewidth": 0,
              "ticks": ""
             }
            },
            "type": "scattercarpet"
           }
          ],
          "scattergeo": [
           {
            "marker": {
             "colorbar": {
              "outlinewidth": 0,
              "ticks": ""
             }
            },
            "type": "scattergeo"
           }
          ],
          "scattergl": [
           {
            "marker": {
             "colorbar": {
              "outlinewidth": 0,
              "ticks": ""
             }
            },
            "type": "scattergl"
           }
          ],
          "scattermapbox": [
           {
            "marker": {
             "colorbar": {
              "outlinewidth": 0,
              "ticks": ""
             }
            },
            "type": "scattermapbox"
           }
          ],
          "scatterpolar": [
           {
            "marker": {
             "colorbar": {
              "outlinewidth": 0,
              "ticks": ""
             }
            },
            "type": "scatterpolar"
           }
          ],
          "scatterpolargl": [
           {
            "marker": {
             "colorbar": {
              "outlinewidth": 0,
              "ticks": ""
             }
            },
            "type": "scatterpolargl"
           }
          ],
          "scatterternary": [
           {
            "marker": {
             "colorbar": {
              "outlinewidth": 0,
              "ticks": ""
             }
            },
            "type": "scatterternary"
           }
          ],
          "surface": [
           {
            "colorbar": {
             "outlinewidth": 0,
             "ticks": ""
            },
            "colorscale": [
             [
              0,
              "#0d0887"
             ],
             [
              0.1111111111111111,
              "#46039f"
             ],
             [
              0.2222222222222222,
              "#7201a8"
             ],
             [
              0.3333333333333333,
              "#9c179e"
             ],
             [
              0.4444444444444444,
              "#bd3786"
             ],
             [
              0.5555555555555556,
              "#d8576b"
             ],
             [
              0.6666666666666666,
              "#ed7953"
             ],
             [
              0.7777777777777778,
              "#fb9f3a"
             ],
             [
              0.8888888888888888,
              "#fdca26"
             ],
             [
              1,
              "#f0f921"
             ]
            ],
            "type": "surface"
           }
          ],
          "table": [
           {
            "cells": {
             "fill": {
              "color": "#EBF0F8"
             },
             "line": {
              "color": "white"
             }
            },
            "header": {
             "fill": {
              "color": "#C8D4E3"
             },
             "line": {
              "color": "white"
             }
            },
            "type": "table"
           }
          ]
         },
         "layout": {
          "annotationdefaults": {
           "arrowcolor": "#2a3f5f",
           "arrowhead": 0,
           "arrowwidth": 1
          },
          "autotypenumbers": "strict",
          "coloraxis": {
           "colorbar": {
            "outlinewidth": 0,
            "ticks": ""
           }
          },
          "colorscale": {
           "diverging": [
            [
             0,
             "#8e0152"
            ],
            [
             0.1,
             "#c51b7d"
            ],
            [
             0.2,
             "#de77ae"
            ],
            [
             0.3,
             "#f1b6da"
            ],
            [
             0.4,
             "#fde0ef"
            ],
            [
             0.5,
             "#f7f7f7"
            ],
            [
             0.6,
             "#e6f5d0"
            ],
            [
             0.7,
             "#b8e186"
            ],
            [
             0.8,
             "#7fbc41"
            ],
            [
             0.9,
             "#4d9221"
            ],
            [
             1,
             "#276419"
            ]
           ],
           "sequential": [
            [
             0,
             "#0d0887"
            ],
            [
             0.1111111111111111,
             "#46039f"
            ],
            [
             0.2222222222222222,
             "#7201a8"
            ],
            [
             0.3333333333333333,
             "#9c179e"
            ],
            [
             0.4444444444444444,
             "#bd3786"
            ],
            [
             0.5555555555555556,
             "#d8576b"
            ],
            [
             0.6666666666666666,
             "#ed7953"
            ],
            [
             0.7777777777777778,
             "#fb9f3a"
            ],
            [
             0.8888888888888888,
             "#fdca26"
            ],
            [
             1,
             "#f0f921"
            ]
           ],
           "sequentialminus": [
            [
             0,
             "#0d0887"
            ],
            [
             0.1111111111111111,
             "#46039f"
            ],
            [
             0.2222222222222222,
             "#7201a8"
            ],
            [
             0.3333333333333333,
             "#9c179e"
            ],
            [
             0.4444444444444444,
             "#bd3786"
            ],
            [
             0.5555555555555556,
             "#d8576b"
            ],
            [
             0.6666666666666666,
             "#ed7953"
            ],
            [
             0.7777777777777778,
             "#fb9f3a"
            ],
            [
             0.8888888888888888,
             "#fdca26"
            ],
            [
             1,
             "#f0f921"
            ]
           ]
          },
          "colorway": [
           "#636efa",
           "#EF553B",
           "#00cc96",
           "#ab63fa",
           "#FFA15A",
           "#19d3f3",
           "#FF6692",
           "#B6E880",
           "#FF97FF",
           "#FECB52"
          ],
          "font": {
           "color": "#2a3f5f"
          },
          "geo": {
           "bgcolor": "white",
           "lakecolor": "white",
           "landcolor": "#E5ECF6",
           "showlakes": true,
           "showland": true,
           "subunitcolor": "white"
          },
          "hoverlabel": {
           "align": "left"
          },
          "hovermode": "closest",
          "mapbox": {
           "style": "light"
          },
          "paper_bgcolor": "white",
          "plot_bgcolor": "#E5ECF6",
          "polar": {
           "angularaxis": {
            "gridcolor": "white",
            "linecolor": "white",
            "ticks": ""
           },
           "bgcolor": "#E5ECF6",
           "radialaxis": {
            "gridcolor": "white",
            "linecolor": "white",
            "ticks": ""
           }
          },
          "scene": {
           "xaxis": {
            "backgroundcolor": "#E5ECF6",
            "gridcolor": "white",
            "gridwidth": 2,
            "linecolor": "white",
            "showbackground": true,
            "ticks": "",
            "zerolinecolor": "white"
           },
           "yaxis": {
            "backgroundcolor": "#E5ECF6",
            "gridcolor": "white",
            "gridwidth": 2,
            "linecolor": "white",
            "showbackground": true,
            "ticks": "",
            "zerolinecolor": "white"
           },
           "zaxis": {
            "backgroundcolor": "#E5ECF6",
            "gridcolor": "white",
            "gridwidth": 2,
            "linecolor": "white",
            "showbackground": true,
            "ticks": "",
            "zerolinecolor": "white"
           }
          },
          "shapedefaults": {
           "line": {
            "color": "#2a3f5f"
           }
          },
          "ternary": {
           "aaxis": {
            "gridcolor": "white",
            "linecolor": "white",
            "ticks": ""
           },
           "baxis": {
            "gridcolor": "white",
            "linecolor": "white",
            "ticks": ""
           },
           "bgcolor": "#E5ECF6",
           "caxis": {
            "gridcolor": "white",
            "linecolor": "white",
            "ticks": ""
           }
          },
          "title": {
           "x": 0.05
          },
          "xaxis": {
           "automargin": true,
           "gridcolor": "white",
           "linecolor": "white",
           "ticks": "",
           "title": {
            "standoff": 15
           },
           "zerolinecolor": "white",
           "zerolinewidth": 2
          },
          "yaxis": {
           "automargin": true,
           "gridcolor": "white",
           "linecolor": "white",
           "ticks": "",
           "title": {
            "standoff": 15
           },
           "zerolinecolor": "white",
           "zerolinewidth": 2
          }
         }
        },
        "title": {
         "font": {
          "size": 20
         },
         "text": "Optimal Properties Recommended by Genetic Algorithm",
         "x": 0.2
        }
       }
      }
     },
     "metadata": {},
     "output_type": "display_data"
    }
   ],
   "source": [
    "# Print the optimization results as a table\n",
    "visualizer.print_table_of_best_designs(rows=10)"
   ]
  },
  {
   "cell_type": "code",
   "execution_count": 8,
   "metadata": {
    "tags": []
   },
   "outputs": [
    {
     "data": {
      "application/vnd.plotly.v1+json": {
       "config": {
        "plotlyServerURL": "https://plot.ly"
       },
       "data": [
        {
         "mode": "lines",
         "name": "Avg. of top 10 performers",
         "type": "scatter",
         "x": [
          0,
          1,
          2,
          3,
          4,
          5,
          6,
          7,
          8,
          9,
          10,
          11,
          12,
          13,
          14,
          15,
          16,
          17,
          18,
          19,
          20,
          21,
          22,
          23,
          24,
          25,
          26,
          27,
          28,
          29,
          30,
          31,
          32,
          33,
          34,
          35,
          36,
          37,
          38,
          39,
          40,
          41,
          42,
          43,
          44,
          45,
          46,
          47,
          48,
          49,
          50,
          51,
          52,
          53,
          54,
          55,
          56,
          57,
          58,
          59,
          60,
          61,
          62,
          63,
          64,
          65,
          66,
          67,
          68,
          69,
          70,
          71,
          72,
          73,
          74,
          75,
          76,
          77,
          78,
          79,
          80,
          81,
          82,
          83,
          84,
          85,
          86,
          87,
          88,
          89,
          90,
          91,
          92,
          93,
          94,
          95,
          96,
          97,
          98,
          99
         ],
         "y": [
          0.11718165033014968,
          0.09910005894684315,
          0.08302624186771249,
          0.07713136549280851,
          0.07687429998355381,
          0.07686958933657242,
          0.07686832999358266,
          0.07686785622057293,
          0.07686779741067008,
          0.076867788490872,
          0.07686778446585033,
          0.07686778318470366,
          0.07686778268818495,
          0.07686778267481548,
          0.07686778266096857,
          0.07686778265375983,
          0.07686778264636376,
          0.07686778264167057,
          0.07686778263992695,
          0.07686778263973608,
          0.07686778263971847,
          0.076867782639713,
          0.07686778263971293,
          0.07686778263971292,
          0.07686778263971292,
          0.07686778263971292,
          0.07686778263971292,
          0.07686778263971292,
          0.0768677826397129,
          0.0768677826397129,
          0.07686778263971288,
          0.07686778263971288,
          0.07686778263971288,
          0.07686778263971288,
          0.07686778263971288,
          0.07686778263971288,
          0.07686778263971288,
          0.07686778263971288,
          0.07686778263971288,
          0.07686778263971288,
          0.07686778263971288,
          0.07686778263971288,
          0.07686778263971288,
          0.07686778263971286,
          0.07686778263971286,
          0.07686778263971286,
          0.07686778263971286,
          0.07686778263971286,
          0.07686778263971286,
          0.07686778263971286,
          0.07686778263971286,
          0.07686778263971286,
          0.07686778263971286,
          0.07686778263971286,
          0.07686778263971286,
          0.07686778263971286,
          0.07686778263971286,
          0.07686778263971286,
          0.07686778263971286,
          0.07686778263971286,
          0.07686778263971286,
          0.07686778263971286,
          0.07686778263971286,
          0.07686778263971286,
          0.07686778263971286,
          0.07686778263971286,
          0.07686778263971286,
          0.07686778263971286,
          0.07686778263971286,
          0.07686778263971286,
          0.07686778263971286,
          0.07686778263971286,
          0.07686778263971286,
          0.07686778263971286,
          0.07686778263971286,
          0.07686778263971286,
          0.07686778263971286,
          0.07686778263971286,
          0.07686778263971286,
          0.07686778263971286,
          0.07686778263971286,
          0.07686778263971286,
          0.07686778263971286,
          0.07686778263971286,
          0.07686778263971286,
          0.07686778263971286,
          0.07686778263971286,
          0.07686778263971286,
          0.07686778263971286,
          0.07686778263971286,
          0.07686778263971286,
          0.07686778263971286,
          0.07686778263971286,
          0.07686778263971286,
          0.07686778263971286,
          0.07686778263971286,
          0.07686778263971286,
          0.07686778263971286,
          0.07686778263971286,
          0.07686778263971286
         ]
        },
        {
         "mode": "lines",
         "name": "Best costs",
         "type": "scatter",
         "x": [
          0,
          1,
          2,
          3,
          4,
          5,
          6,
          7,
          8,
          9,
          10,
          11,
          12,
          13,
          14,
          15,
          16,
          17,
          18,
          19,
          20,
          21,
          22,
          23,
          24,
          25,
          26,
          27,
          28,
          29,
          30,
          31,
          32,
          33,
          34,
          35,
          36,
          37,
          38,
          39,
          40,
          41,
          42,
          43,
          44,
          45,
          46,
          47,
          48,
          49,
          50,
          51,
          52,
          53,
          54,
          55,
          56,
          57,
          58,
          59,
          60,
          61,
          62,
          63,
          64,
          65,
          66,
          67,
          68,
          69,
          70,
          71,
          72,
          73,
          74,
          75,
          76,
          77,
          78,
          79,
          80,
          81,
          82,
          83,
          84,
          85,
          86,
          87,
          88,
          89,
          90,
          91,
          92,
          93,
          94,
          95,
          96,
          97,
          98,
          99
         ],
         "y": [
          0.0768677826397129,
          0.0768677826397129,
          0.0768677826397129,
          0.0768677826397129,
          0.0768677826397129,
          0.0768677826397129,
          0.0768677826397129,
          0.0768677826397129,
          0.0768677826397129,
          0.0768677826397129,
          0.0768677826397129,
          0.0768677826397129,
          0.0768677826397129,
          0.0768677826397129,
          0.0768677826397129,
          0.0768677826397129,
          0.0768677826397129,
          0.0768677826397129,
          0.0768677826397129,
          0.0768677826397129,
          0.0768677826397129,
          0.0768677826397129,
          0.0768677826397129,
          0.0768677826397129,
          0.07686778263971289,
          0.07686778263971289,
          0.07686778263971289,
          0.07686778263971289,
          0.07686778263971289,
          0.07686778263971289,
          0.07686778263971289,
          0.07686778263971289,
          0.07686778263971289,
          0.07686778263971289,
          0.07686778263971289,
          0.07686778263971289,
          0.07686778263971289,
          0.07686778263971289,
          0.07686778263971289,
          0.07686778263971288,
          0.07686778263971288,
          0.07686778263971288,
          0.07686778263971288,
          0.07686778263971288,
          0.07686778263971288,
          0.07686778263971288,
          0.07686778263971288,
          0.07686778263971288,
          0.07686778263971288,
          0.07686778263971288,
          0.07686778263971288,
          0.07686778263971288,
          0.07686778263971288,
          0.07686778263971288,
          0.07686778263971288,
          0.07686778263971288,
          0.07686778263971288,
          0.07686778263971288,
          0.07686778263971288,
          0.07686778263971288,
          0.07686778263971288,
          0.07686778263971288,
          0.07686778263971288,
          0.07686778263971288,
          0.07686778263971288,
          0.07686778263971288,
          0.07686778263971288,
          0.07686778263971288,
          0.07686778263971288,
          0.07686778263971288,
          0.07686778263971288,
          0.07686778263971288,
          0.07686778263971288,
          0.07686778263971288,
          0.07686778263971288,
          0.07686778263971288,
          0.07686778263971288,
          0.07686778263971288,
          0.07686778263971288,
          0.07686778263971288,
          0.07686778263971288,
          0.07686778263971288,
          0.07686778263971288,
          0.07686778263971288,
          0.07686778263971288,
          0.07686778263971288,
          0.07686778263971288,
          0.07686778263971288,
          0.07686778263971288,
          0.07686778263971288,
          0.07686778263971288,
          0.07686778263971288,
          0.07686778263971288,
          0.07686778263971288,
          0.07686778263971288,
          0.07686778263971288,
          0.07686778263971288,
          0.07686778263971288,
          0.07686778263971288,
          0.07686778263971288
         ]
        }
       ],
       "layout": {
        "height": 400,
        "legend": {
         "bgcolor": "rgba(255, 255, 255, 0.5)",
         "font": {
          "size": 14
         },
         "x": 1,
         "xanchor": "right",
         "y": 1,
         "yanchor": "top"
        },
        "margin": {
         "b": 50,
         "l": 50,
         "r": 50,
         "t": 50
        },
        "template": {
         "data": {
          "bar": [
           {
            "error_x": {
             "color": "#2a3f5f"
            },
            "error_y": {
             "color": "#2a3f5f"
            },
            "marker": {
             "line": {
              "color": "#E5ECF6",
              "width": 0.5
             },
             "pattern": {
              "fillmode": "overlay",
              "size": 10,
              "solidity": 0.2
             }
            },
            "type": "bar"
           }
          ],
          "barpolar": [
           {
            "marker": {
             "line": {
              "color": "#E5ECF6",
              "width": 0.5
             },
             "pattern": {
              "fillmode": "overlay",
              "size": 10,
              "solidity": 0.2
             }
            },
            "type": "barpolar"
           }
          ],
          "carpet": [
           {
            "aaxis": {
             "endlinecolor": "#2a3f5f",
             "gridcolor": "white",
             "linecolor": "white",
             "minorgridcolor": "white",
             "startlinecolor": "#2a3f5f"
            },
            "baxis": {
             "endlinecolor": "#2a3f5f",
             "gridcolor": "white",
             "linecolor": "white",
             "minorgridcolor": "white",
             "startlinecolor": "#2a3f5f"
            },
            "type": "carpet"
           }
          ],
          "choropleth": [
           {
            "colorbar": {
             "outlinewidth": 0,
             "ticks": ""
            },
            "type": "choropleth"
           }
          ],
          "contour": [
           {
            "colorbar": {
             "outlinewidth": 0,
             "ticks": ""
            },
            "colorscale": [
             [
              0,
              "#0d0887"
             ],
             [
              0.1111111111111111,
              "#46039f"
             ],
             [
              0.2222222222222222,
              "#7201a8"
             ],
             [
              0.3333333333333333,
              "#9c179e"
             ],
             [
              0.4444444444444444,
              "#bd3786"
             ],
             [
              0.5555555555555556,
              "#d8576b"
             ],
             [
              0.6666666666666666,
              "#ed7953"
             ],
             [
              0.7777777777777778,
              "#fb9f3a"
             ],
             [
              0.8888888888888888,
              "#fdca26"
             ],
             [
              1,
              "#f0f921"
             ]
            ],
            "type": "contour"
           }
          ],
          "contourcarpet": [
           {
            "colorbar": {
             "outlinewidth": 0,
             "ticks": ""
            },
            "type": "contourcarpet"
           }
          ],
          "heatmap": [
           {
            "colorbar": {
             "outlinewidth": 0,
             "ticks": ""
            },
            "colorscale": [
             [
              0,
              "#0d0887"
             ],
             [
              0.1111111111111111,
              "#46039f"
             ],
             [
              0.2222222222222222,
              "#7201a8"
             ],
             [
              0.3333333333333333,
              "#9c179e"
             ],
             [
              0.4444444444444444,
              "#bd3786"
             ],
             [
              0.5555555555555556,
              "#d8576b"
             ],
             [
              0.6666666666666666,
              "#ed7953"
             ],
             [
              0.7777777777777778,
              "#fb9f3a"
             ],
             [
              0.8888888888888888,
              "#fdca26"
             ],
             [
              1,
              "#f0f921"
             ]
            ],
            "type": "heatmap"
           }
          ],
          "heatmapgl": [
           {
            "colorbar": {
             "outlinewidth": 0,
             "ticks": ""
            },
            "colorscale": [
             [
              0,
              "#0d0887"
             ],
             [
              0.1111111111111111,
              "#46039f"
             ],
             [
              0.2222222222222222,
              "#7201a8"
             ],
             [
              0.3333333333333333,
              "#9c179e"
             ],
             [
              0.4444444444444444,
              "#bd3786"
             ],
             [
              0.5555555555555556,
              "#d8576b"
             ],
             [
              0.6666666666666666,
              "#ed7953"
             ],
             [
              0.7777777777777778,
              "#fb9f3a"
             ],
             [
              0.8888888888888888,
              "#fdca26"
             ],
             [
              1,
              "#f0f921"
             ]
            ],
            "type": "heatmapgl"
           }
          ],
          "histogram": [
           {
            "marker": {
             "pattern": {
              "fillmode": "overlay",
              "size": 10,
              "solidity": 0.2
             }
            },
            "type": "histogram"
           }
          ],
          "histogram2d": [
           {
            "colorbar": {
             "outlinewidth": 0,
             "ticks": ""
            },
            "colorscale": [
             [
              0,
              "#0d0887"
             ],
             [
              0.1111111111111111,
              "#46039f"
             ],
             [
              0.2222222222222222,
              "#7201a8"
             ],
             [
              0.3333333333333333,
              "#9c179e"
             ],
             [
              0.4444444444444444,
              "#bd3786"
             ],
             [
              0.5555555555555556,
              "#d8576b"
             ],
             [
              0.6666666666666666,
              "#ed7953"
             ],
             [
              0.7777777777777778,
              "#fb9f3a"
             ],
             [
              0.8888888888888888,
              "#fdca26"
             ],
             [
              1,
              "#f0f921"
             ]
            ],
            "type": "histogram2d"
           }
          ],
          "histogram2dcontour": [
           {
            "colorbar": {
             "outlinewidth": 0,
             "ticks": ""
            },
            "colorscale": [
             [
              0,
              "#0d0887"
             ],
             [
              0.1111111111111111,
              "#46039f"
             ],
             [
              0.2222222222222222,
              "#7201a8"
             ],
             [
              0.3333333333333333,
              "#9c179e"
             ],
             [
              0.4444444444444444,
              "#bd3786"
             ],
             [
              0.5555555555555556,
              "#d8576b"
             ],
             [
              0.6666666666666666,
              "#ed7953"
             ],
             [
              0.7777777777777778,
              "#fb9f3a"
             ],
             [
              0.8888888888888888,
              "#fdca26"
             ],
             [
              1,
              "#f0f921"
             ]
            ],
            "type": "histogram2dcontour"
           }
          ],
          "mesh3d": [
           {
            "colorbar": {
             "outlinewidth": 0,
             "ticks": ""
            },
            "type": "mesh3d"
           }
          ],
          "parcoords": [
           {
            "line": {
             "colorbar": {
              "outlinewidth": 0,
              "ticks": ""
             }
            },
            "type": "parcoords"
           }
          ],
          "pie": [
           {
            "automargin": true,
            "type": "pie"
           }
          ],
          "scatter": [
           {
            "fillpattern": {
             "fillmode": "overlay",
             "size": 10,
             "solidity": 0.2
            },
            "type": "scatter"
           }
          ],
          "scatter3d": [
           {
            "line": {
             "colorbar": {
              "outlinewidth": 0,
              "ticks": ""
             }
            },
            "marker": {
             "colorbar": {
              "outlinewidth": 0,
              "ticks": ""
             }
            },
            "type": "scatter3d"
           }
          ],
          "scattercarpet": [
           {
            "marker": {
             "colorbar": {
              "outlinewidth": 0,
              "ticks": ""
             }
            },
            "type": "scattercarpet"
           }
          ],
          "scattergeo": [
           {
            "marker": {
             "colorbar": {
              "outlinewidth": 0,
              "ticks": ""
             }
            },
            "type": "scattergeo"
           }
          ],
          "scattergl": [
           {
            "marker": {
             "colorbar": {
              "outlinewidth": 0,
              "ticks": ""
             }
            },
            "type": "scattergl"
           }
          ],
          "scattermapbox": [
           {
            "marker": {
             "colorbar": {
              "outlinewidth": 0,
              "ticks": ""
             }
            },
            "type": "scattermapbox"
           }
          ],
          "scatterpolar": [
           {
            "marker": {
             "colorbar": {
              "outlinewidth": 0,
              "ticks": ""
             }
            },
            "type": "scatterpolar"
           }
          ],
          "scatterpolargl": [
           {
            "marker": {
             "colorbar": {
              "outlinewidth": 0,
              "ticks": ""
             }
            },
            "type": "scatterpolargl"
           }
          ],
          "scatterternary": [
           {
            "marker": {
             "colorbar": {
              "outlinewidth": 0,
              "ticks": ""
             }
            },
            "type": "scatterternary"
           }
          ],
          "surface": [
           {
            "colorbar": {
             "outlinewidth": 0,
             "ticks": ""
            },
            "colorscale": [
             [
              0,
              "#0d0887"
             ],
             [
              0.1111111111111111,
              "#46039f"
             ],
             [
              0.2222222222222222,
              "#7201a8"
             ],
             [
              0.3333333333333333,
              "#9c179e"
             ],
             [
              0.4444444444444444,
              "#bd3786"
             ],
             [
              0.5555555555555556,
              "#d8576b"
             ],
             [
              0.6666666666666666,
              "#ed7953"
             ],
             [
              0.7777777777777778,
              "#fb9f3a"
             ],
             [
              0.8888888888888888,
              "#fdca26"
             ],
             [
              1,
              "#f0f921"
             ]
            ],
            "type": "surface"
           }
          ],
          "table": [
           {
            "cells": {
             "fill": {
              "color": "#EBF0F8"
             },
             "line": {
              "color": "white"
             }
            },
            "header": {
             "fill": {
              "color": "#C8D4E3"
             },
             "line": {
              "color": "white"
             }
            },
            "type": "table"
           }
          ]
         },
         "layout": {
          "annotationdefaults": {
           "arrowcolor": "#2a3f5f",
           "arrowhead": 0,
           "arrowwidth": 1
          },
          "autotypenumbers": "strict",
          "coloraxis": {
           "colorbar": {
            "outlinewidth": 0,
            "ticks": ""
           }
          },
          "colorscale": {
           "diverging": [
            [
             0,
             "#8e0152"
            ],
            [
             0.1,
             "#c51b7d"
            ],
            [
             0.2,
             "#de77ae"
            ],
            [
             0.3,
             "#f1b6da"
            ],
            [
             0.4,
             "#fde0ef"
            ],
            [
             0.5,
             "#f7f7f7"
            ],
            [
             0.6,
             "#e6f5d0"
            ],
            [
             0.7,
             "#b8e186"
            ],
            [
             0.8,
             "#7fbc41"
            ],
            [
             0.9,
             "#4d9221"
            ],
            [
             1,
             "#276419"
            ]
           ],
           "sequential": [
            [
             0,
             "#0d0887"
            ],
            [
             0.1111111111111111,
             "#46039f"
            ],
            [
             0.2222222222222222,
             "#7201a8"
            ],
            [
             0.3333333333333333,
             "#9c179e"
            ],
            [
             0.4444444444444444,
             "#bd3786"
            ],
            [
             0.5555555555555556,
             "#d8576b"
            ],
            [
             0.6666666666666666,
             "#ed7953"
            ],
            [
             0.7777777777777778,
             "#fb9f3a"
            ],
            [
             0.8888888888888888,
             "#fdca26"
            ],
            [
             1,
             "#f0f921"
            ]
           ],
           "sequentialminus": [
            [
             0,
             "#0d0887"
            ],
            [
             0.1111111111111111,
             "#46039f"
            ],
            [
             0.2222222222222222,
             "#7201a8"
            ],
            [
             0.3333333333333333,
             "#9c179e"
            ],
            [
             0.4444444444444444,
             "#bd3786"
            ],
            [
             0.5555555555555556,
             "#d8576b"
            ],
            [
             0.6666666666666666,
             "#ed7953"
            ],
            [
             0.7777777777777778,
             "#fb9f3a"
            ],
            [
             0.8888888888888888,
             "#fdca26"
            ],
            [
             1,
             "#f0f921"
            ]
           ]
          },
          "colorway": [
           "#636efa",
           "#EF553B",
           "#00cc96",
           "#ab63fa",
           "#FFA15A",
           "#19d3f3",
           "#FF6692",
           "#B6E880",
           "#FF97FF",
           "#FECB52"
          ],
          "font": {
           "color": "#2a3f5f"
          },
          "geo": {
           "bgcolor": "white",
           "lakecolor": "white",
           "landcolor": "#E5ECF6",
           "showlakes": true,
           "showland": true,
           "subunitcolor": "white"
          },
          "hoverlabel": {
           "align": "left"
          },
          "hovermode": "closest",
          "mapbox": {
           "style": "light"
          },
          "paper_bgcolor": "white",
          "plot_bgcolor": "#E5ECF6",
          "polar": {
           "angularaxis": {
            "gridcolor": "white",
            "linecolor": "white",
            "ticks": ""
           },
           "bgcolor": "#E5ECF6",
           "radialaxis": {
            "gridcolor": "white",
            "linecolor": "white",
            "ticks": ""
           }
          },
          "scene": {
           "xaxis": {
            "backgroundcolor": "#E5ECF6",
            "gridcolor": "white",
            "gridwidth": 2,
            "linecolor": "white",
            "showbackground": true,
            "ticks": "",
            "zerolinecolor": "white"
           },
           "yaxis": {
            "backgroundcolor": "#E5ECF6",
            "gridcolor": "white",
            "gridwidth": 2,
            "linecolor": "white",
            "showbackground": true,
            "ticks": "",
            "zerolinecolor": "white"
           },
           "zaxis": {
            "backgroundcolor": "#E5ECF6",
            "gridcolor": "white",
            "gridwidth": 2,
            "linecolor": "white",
            "showbackground": true,
            "ticks": "",
            "zerolinecolor": "white"
           }
          },
          "shapedefaults": {
           "line": {
            "color": "#2a3f5f"
           }
          },
          "ternary": {
           "aaxis": {
            "gridcolor": "white",
            "linecolor": "white",
            "ticks": ""
           },
           "baxis": {
            "gridcolor": "white",
            "linecolor": "white",
            "ticks": ""
           },
           "bgcolor": "#E5ECF6",
           "caxis": {
            "gridcolor": "white",
            "linecolor": "white",
            "ticks": ""
           }
          },
          "title": {
           "x": 0.05
          },
          "xaxis": {
           "automargin": true,
           "gridcolor": "white",
           "linecolor": "white",
           "ticks": "",
           "title": {
            "standoff": 15
           },
           "zerolinecolor": "white",
           "zerolinewidth": 2
          },
          "yaxis": {
           "automargin": true,
           "gridcolor": "white",
           "linecolor": "white",
           "ticks": "",
           "title": {
            "standoff": 15
           },
           "zerolinecolor": "white",
           "zerolinewidth": 2
          }
         }
        },
        "title": {
         "font": {
          "size": 24
         },
         "text": "Convergence of Genetic Algorithm",
         "x": 0.25
        },
        "width": 600,
        "xaxis": {
         "title": {
          "font": {
           "size": 20
          },
          "text": "Generation"
         }
        },
        "yaxis": {
         "title": {
          "font": {
           "size": 20
          },
          "text": "Cost"
         }
        }
       }
      }
     },
     "metadata": {},
     "output_type": "display_data"
    }
   ],
   "source": [
    "# Plot the genetic algorithm convergence plot\n",
    "visualizer.plot_optimization_results()"
   ]
  },
  {
   "cell_type": "code",
   "execution_count": 9,
   "metadata": {
    "tags": []
   },
   "outputs": [
    {
     "name": "stdout",
     "output_type": "stream",
     "text": [
      "Cost of best design: 0.07686778263971288\n"
     ]
    },
    {
     "data": {
      "application/vnd.plotly.v1+json": {
       "config": {
        "plotlyServerURL": "https://plot.ly"
       },
       "data": [
        {
         "hole": 0.25,
         "insidetextorientation": "radial",
         "labels": [
          "eff. elec_cond_300k_low_doping",
          "eff. therm_cond_300k_low_doping",
          "eff. bulk_modulus",
          "eff. shear_modulus",
          "eff. universal_anisotropy",
          "cf load on elec_cond_300k_low_doping",
          "cf response from elec_cond_300k_low_doping",
          "cf load on therm_cond_300k_low_doping",
          "cf response from therm_cond_300k_low_doping",
          "cf hydrostatic stress",
          "cf deviatoric stress",
          "cf load on universal_anisotropy",
          "cf response from universal_anisotropy"
         ],
         "textinfo": "percent",
         "type": "pie",
         "values": [
          0.10670198742481611,
          0.06331268007667135,
          0.04816169025309109,
          0.02263988161895273,
          0.07160157172321802,
          0.008205200186727612,
          0,
          0.11594962254339966,
          0.18898635495539057,
          0.01942446574651712,
          0.15046574134103824,
          0,
          0,
          0.14547836546079992,
          0.20095281996779404,
          0.040487091822981894,
          0.06308962729895046,
          0.029360128475529677,
          0.029111170263479622,
          0.037179396637166094,
          0.04605268491283872,
          0.04000634214303185,
          0.03129982896066073,
          0,
          0,
          0.08119969591657825,
          0.07922029766937735,
          0.07749748437540846,
          0.10392252873760975
         ]
        }
       ],
       "layout": {
        "showlegend": true,
        "template": {
         "data": {
          "bar": [
           {
            "error_x": {
             "color": "#2a3f5f"
            },
            "error_y": {
             "color": "#2a3f5f"
            },
            "marker": {
             "line": {
              "color": "#E5ECF6",
              "width": 0.5
             },
             "pattern": {
              "fillmode": "overlay",
              "size": 10,
              "solidity": 0.2
             }
            },
            "type": "bar"
           }
          ],
          "barpolar": [
           {
            "marker": {
             "line": {
              "color": "#E5ECF6",
              "width": 0.5
             },
             "pattern": {
              "fillmode": "overlay",
              "size": 10,
              "solidity": 0.2
             }
            },
            "type": "barpolar"
           }
          ],
          "carpet": [
           {
            "aaxis": {
             "endlinecolor": "#2a3f5f",
             "gridcolor": "white",
             "linecolor": "white",
             "minorgridcolor": "white",
             "startlinecolor": "#2a3f5f"
            },
            "baxis": {
             "endlinecolor": "#2a3f5f",
             "gridcolor": "white",
             "linecolor": "white",
             "minorgridcolor": "white",
             "startlinecolor": "#2a3f5f"
            },
            "type": "carpet"
           }
          ],
          "choropleth": [
           {
            "colorbar": {
             "outlinewidth": 0,
             "ticks": ""
            },
            "type": "choropleth"
           }
          ],
          "contour": [
           {
            "colorbar": {
             "outlinewidth": 0,
             "ticks": ""
            },
            "colorscale": [
             [
              0,
              "#0d0887"
             ],
             [
              0.1111111111111111,
              "#46039f"
             ],
             [
              0.2222222222222222,
              "#7201a8"
             ],
             [
              0.3333333333333333,
              "#9c179e"
             ],
             [
              0.4444444444444444,
              "#bd3786"
             ],
             [
              0.5555555555555556,
              "#d8576b"
             ],
             [
              0.6666666666666666,
              "#ed7953"
             ],
             [
              0.7777777777777778,
              "#fb9f3a"
             ],
             [
              0.8888888888888888,
              "#fdca26"
             ],
             [
              1,
              "#f0f921"
             ]
            ],
            "type": "contour"
           }
          ],
          "contourcarpet": [
           {
            "colorbar": {
             "outlinewidth": 0,
             "ticks": ""
            },
            "type": "contourcarpet"
           }
          ],
          "heatmap": [
           {
            "colorbar": {
             "outlinewidth": 0,
             "ticks": ""
            },
            "colorscale": [
             [
              0,
              "#0d0887"
             ],
             [
              0.1111111111111111,
              "#46039f"
             ],
             [
              0.2222222222222222,
              "#7201a8"
             ],
             [
              0.3333333333333333,
              "#9c179e"
             ],
             [
              0.4444444444444444,
              "#bd3786"
             ],
             [
              0.5555555555555556,
              "#d8576b"
             ],
             [
              0.6666666666666666,
              "#ed7953"
             ],
             [
              0.7777777777777778,
              "#fb9f3a"
             ],
             [
              0.8888888888888888,
              "#fdca26"
             ],
             [
              1,
              "#f0f921"
             ]
            ],
            "type": "heatmap"
           }
          ],
          "heatmapgl": [
           {
            "colorbar": {
             "outlinewidth": 0,
             "ticks": ""
            },
            "colorscale": [
             [
              0,
              "#0d0887"
             ],
             [
              0.1111111111111111,
              "#46039f"
             ],
             [
              0.2222222222222222,
              "#7201a8"
             ],
             [
              0.3333333333333333,
              "#9c179e"
             ],
             [
              0.4444444444444444,
              "#bd3786"
             ],
             [
              0.5555555555555556,
              "#d8576b"
             ],
             [
              0.6666666666666666,
              "#ed7953"
             ],
             [
              0.7777777777777778,
              "#fb9f3a"
             ],
             [
              0.8888888888888888,
              "#fdca26"
             ],
             [
              1,
              "#f0f921"
             ]
            ],
            "type": "heatmapgl"
           }
          ],
          "histogram": [
           {
            "marker": {
             "pattern": {
              "fillmode": "overlay",
              "size": 10,
              "solidity": 0.2
             }
            },
            "type": "histogram"
           }
          ],
          "histogram2d": [
           {
            "colorbar": {
             "outlinewidth": 0,
             "ticks": ""
            },
            "colorscale": [
             [
              0,
              "#0d0887"
             ],
             [
              0.1111111111111111,
              "#46039f"
             ],
             [
              0.2222222222222222,
              "#7201a8"
             ],
             [
              0.3333333333333333,
              "#9c179e"
             ],
             [
              0.4444444444444444,
              "#bd3786"
             ],
             [
              0.5555555555555556,
              "#d8576b"
             ],
             [
              0.6666666666666666,
              "#ed7953"
             ],
             [
              0.7777777777777778,
              "#fb9f3a"
             ],
             [
              0.8888888888888888,
              "#fdca26"
             ],
             [
              1,
              "#f0f921"
             ]
            ],
            "type": "histogram2d"
           }
          ],
          "histogram2dcontour": [
           {
            "colorbar": {
             "outlinewidth": 0,
             "ticks": ""
            },
            "colorscale": [
             [
              0,
              "#0d0887"
             ],
             [
              0.1111111111111111,
              "#46039f"
             ],
             [
              0.2222222222222222,
              "#7201a8"
             ],
             [
              0.3333333333333333,
              "#9c179e"
             ],
             [
              0.4444444444444444,
              "#bd3786"
             ],
             [
              0.5555555555555556,
              "#d8576b"
             ],
             [
              0.6666666666666666,
              "#ed7953"
             ],
             [
              0.7777777777777778,
              "#fb9f3a"
             ],
             [
              0.8888888888888888,
              "#fdca26"
             ],
             [
              1,
              "#f0f921"
             ]
            ],
            "type": "histogram2dcontour"
           }
          ],
          "mesh3d": [
           {
            "colorbar": {
             "outlinewidth": 0,
             "ticks": ""
            },
            "type": "mesh3d"
           }
          ],
          "parcoords": [
           {
            "line": {
             "colorbar": {
              "outlinewidth": 0,
              "ticks": ""
             }
            },
            "type": "parcoords"
           }
          ],
          "pie": [
           {
            "automargin": true,
            "type": "pie"
           }
          ],
          "scatter": [
           {
            "fillpattern": {
             "fillmode": "overlay",
             "size": 10,
             "solidity": 0.2
            },
            "type": "scatter"
           }
          ],
          "scatter3d": [
           {
            "line": {
             "colorbar": {
              "outlinewidth": 0,
              "ticks": ""
             }
            },
            "marker": {
             "colorbar": {
              "outlinewidth": 0,
              "ticks": ""
             }
            },
            "type": "scatter3d"
           }
          ],
          "scattercarpet": [
           {
            "marker": {
             "colorbar": {
              "outlinewidth": 0,
              "ticks": ""
             }
            },
            "type": "scattercarpet"
           }
          ],
          "scattergeo": [
           {
            "marker": {
             "colorbar": {
              "outlinewidth": 0,
              "ticks": ""
             }
            },
            "type": "scattergeo"
           }
          ],
          "scattergl": [
           {
            "marker": {
             "colorbar": {
              "outlinewidth": 0,
              "ticks": ""
             }
            },
            "type": "scattergl"
           }
          ],
          "scattermapbox": [
           {
            "marker": {
             "colorbar": {
              "outlinewidth": 0,
              "ticks": ""
             }
            },
            "type": "scattermapbox"
           }
          ],
          "scatterpolar": [
           {
            "marker": {
             "colorbar": {
              "outlinewidth": 0,
              "ticks": ""
             }
            },
            "type": "scatterpolar"
           }
          ],
          "scatterpolargl": [
           {
            "marker": {
             "colorbar": {
              "outlinewidth": 0,
              "ticks": ""
             }
            },
            "type": "scatterpolargl"
           }
          ],
          "scatterternary": [
           {
            "marker": {
             "colorbar": {
              "outlinewidth": 0,
              "ticks": ""
             }
            },
            "type": "scatterternary"
           }
          ],
          "surface": [
           {
            "colorbar": {
             "outlinewidth": 0,
             "ticks": ""
            },
            "colorscale": [
             [
              0,
              "#0d0887"
             ],
             [
              0.1111111111111111,
              "#46039f"
             ],
             [
              0.2222222222222222,
              "#7201a8"
             ],
             [
              0.3333333333333333,
              "#9c179e"
             ],
             [
              0.4444444444444444,
              "#bd3786"
             ],
             [
              0.5555555555555556,
              "#d8576b"
             ],
             [
              0.6666666666666666,
              "#ed7953"
             ],
             [
              0.7777777777777778,
              "#fb9f3a"
             ],
             [
              0.8888888888888888,
              "#fdca26"
             ],
             [
              1,
              "#f0f921"
             ]
            ],
            "type": "surface"
           }
          ],
          "table": [
           {
            "cells": {
             "fill": {
              "color": "#EBF0F8"
             },
             "line": {
              "color": "white"
             }
            },
            "header": {
             "fill": {
              "color": "#C8D4E3"
             },
             "line": {
              "color": "white"
             }
            },
            "type": "table"
           }
          ]
         },
         "layout": {
          "annotationdefaults": {
           "arrowcolor": "#2a3f5f",
           "arrowhead": 0,
           "arrowwidth": 1
          },
          "autotypenumbers": "strict",
          "coloraxis": {
           "colorbar": {
            "outlinewidth": 0,
            "ticks": ""
           }
          },
          "colorscale": {
           "diverging": [
            [
             0,
             "#8e0152"
            ],
            [
             0.1,
             "#c51b7d"
            ],
            [
             0.2,
             "#de77ae"
            ],
            [
             0.3,
             "#f1b6da"
            ],
            [
             0.4,
             "#fde0ef"
            ],
            [
             0.5,
             "#f7f7f7"
            ],
            [
             0.6,
             "#e6f5d0"
            ],
            [
             0.7,
             "#b8e186"
            ],
            [
             0.8,
             "#7fbc41"
            ],
            [
             0.9,
             "#4d9221"
            ],
            [
             1,
             "#276419"
            ]
           ],
           "sequential": [
            [
             0,
             "#0d0887"
            ],
            [
             0.1111111111111111,
             "#46039f"
            ],
            [
             0.2222222222222222,
             "#7201a8"
            ],
            [
             0.3333333333333333,
             "#9c179e"
            ],
            [
             0.4444444444444444,
             "#bd3786"
            ],
            [
             0.5555555555555556,
             "#d8576b"
            ],
            [
             0.6666666666666666,
             "#ed7953"
            ],
            [
             0.7777777777777778,
             "#fb9f3a"
            ],
            [
             0.8888888888888888,
             "#fdca26"
            ],
            [
             1,
             "#f0f921"
            ]
           ],
           "sequentialminus": [
            [
             0,
             "#0d0887"
            ],
            [
             0.1111111111111111,
             "#46039f"
            ],
            [
             0.2222222222222222,
             "#7201a8"
            ],
            [
             0.3333333333333333,
             "#9c179e"
            ],
            [
             0.4444444444444444,
             "#bd3786"
            ],
            [
             0.5555555555555556,
             "#d8576b"
            ],
            [
             0.6666666666666666,
             "#ed7953"
            ],
            [
             0.7777777777777778,
             "#fb9f3a"
            ],
            [
             0.8888888888888888,
             "#fdca26"
            ],
            [
             1,
             "#f0f921"
            ]
           ]
          },
          "colorway": [
           "#636efa",
           "#EF553B",
           "#00cc96",
           "#ab63fa",
           "#FFA15A",
           "#19d3f3",
           "#FF6692",
           "#B6E880",
           "#FF97FF",
           "#FECB52"
          ],
          "font": {
           "color": "#2a3f5f"
          },
          "geo": {
           "bgcolor": "white",
           "lakecolor": "white",
           "landcolor": "#E5ECF6",
           "showlakes": true,
           "showland": true,
           "subunitcolor": "white"
          },
          "hoverlabel": {
           "align": "left"
          },
          "hovermode": "closest",
          "mapbox": {
           "style": "light"
          },
          "paper_bgcolor": "white",
          "plot_bgcolor": "#E5ECF6",
          "polar": {
           "angularaxis": {
            "gridcolor": "white",
            "linecolor": "white",
            "ticks": ""
           },
           "bgcolor": "#E5ECF6",
           "radialaxis": {
            "gridcolor": "white",
            "linecolor": "white",
            "ticks": ""
           }
          },
          "scene": {
           "xaxis": {
            "backgroundcolor": "#E5ECF6",
            "gridcolor": "white",
            "gridwidth": 2,
            "linecolor": "white",
            "showbackground": true,
            "ticks": "",
            "zerolinecolor": "white"
           },
           "yaxis": {
            "backgroundcolor": "#E5ECF6",
            "gridcolor": "white",
            "gridwidth": 2,
            "linecolor": "white",
            "showbackground": true,
            "ticks": "",
            "zerolinecolor": "white"
           },
           "zaxis": {
            "backgroundcolor": "#E5ECF6",
            "gridcolor": "white",
            "gridwidth": 2,
            "linecolor": "white",
            "showbackground": true,
            "ticks": "",
            "zerolinecolor": "white"
           }
          },
          "shapedefaults": {
           "line": {
            "color": "#2a3f5f"
           }
          },
          "ternary": {
           "aaxis": {
            "gridcolor": "white",
            "linecolor": "white",
            "ticks": ""
           },
           "baxis": {
            "gridcolor": "white",
            "linecolor": "white",
            "ticks": ""
           },
           "bgcolor": "#E5ECF6",
           "caxis": {
            "gridcolor": "white",
            "linecolor": "white",
            "ticks": ""
           }
          },
          "title": {
           "x": 0.05
          },
          "xaxis": {
           "automargin": true,
           "gridcolor": "white",
           "linecolor": "white",
           "ticks": "",
           "title": {
            "standoff": 15
           },
           "zerolinecolor": "white",
           "zerolinewidth": 2
          },
          "yaxis": {
           "automargin": true,
           "gridcolor": "white",
           "linecolor": "white",
           "ticks": "",
           "title": {
            "standoff": 15
           },
           "zerolinecolor": "white",
           "zerolinewidth": 2
          }
         }
        },
        "title": {
         "text": "Cost Function Contributions"
        }
       }
      }
     },
     "metadata": {},
     "output_type": "display_data"
    }
   ],
   "source": [
    "# Plot the contributions to the cost function for the best performer\n",
    "visualizer.plot_cost_func_contribs()"
   ]
  },
  {
   "cell_type": "code",
   "execution_count": 10,
   "metadata": {},
   "outputs": [
    {
     "name": "stderr",
     "output_type": "stream",
     "text": [
      "2024-12-04 16:50:07,302 - hashin_shtrikman_mp.log.custom_logger - INFO - Loading property categories from /Users/carlabecker/Library/Mobile Documents/com~apple~CloudDocs/Carla's Desktop/UC Berkeley/Research/Materials Project/hashin_shtrikman_mp/src/hashin_shtrikman_mp/core/../io/inputs/mp_property_docs.yaml.\n",
      "2024-12-04 16:50:07,308 - hashin_shtrikman_mp.log.custom_logger - INFO - property_categories = ['carrier-transport', 'elastic']\n",
      "2024-12-04 16:50:07,309 - hashin_shtrikman_mp.log.custom_logger - INFO - mixture_props = {'elec_cond_300k_low_doping': {'desired_prop': 9.0}, 'therm_cond_300k_low_doping': {'desired_prop': 0.9}, 'bulk_modulus': {'desired_prop': 280.0}, 'shear_modulus': {'desired_prop': 230.0}, 'universal_anisotropy': {'desired_prop': 1.5}}\n"
     ]
    },
    {
     "name": "stdout",
     "output_type": "stream",
     "text": [
      "self.nuild_dict: <bound method UserInput.build_dict of {'mat_1': {'elec_cond_300k_low_doping': {'upper_bound': 120.0, 'lower_bound': 1e-07}, 'therm_cond_300k_low_doping': {'upper_bound': 2.0, 'lower_bound': 1e-07}, 'bulk_modulus': {'upper_bound': 500.0, 'lower_bound': 50.0}, 'shear_modulus': {'upper_bound': 500.0, 'lower_bound': 80.0}, 'universal_anisotropy': {'upper_bound': 6.0, 'lower_bound': 1.0}}, 'mat_2': {'elec_cond_300k_low_doping': {'upper_bound': 78.0, 'lower_bound': 1e-07}, 'therm_cond_300k_low_doping': {'upper_bound': 2.0, 'lower_bound': 1e-07}, 'bulk_modulus': {'upper_bound': 400.0, 'lower_bound': 20.0}, 'shear_modulus': {'upper_bound': 500.0, 'lower_bound': 100.0}, 'universal_anisotropy': {'upper_bound': 4.3, 'lower_bound': 1.3}}, 'mat_3': {'elec_cond_300k_low_doping': {'upper_bound': 78.0, 'lower_bound': 1e-07}, 'therm_cond_300k_low_doping': {'upper_bound': 2.0, 'lower_bound': 1e-07}, 'bulk_modulus': {'upper_bound': 700.0, 'lower_bound': 20.0}, 'shear_modulus': {'upper_bound': 600.0, 'lower_bound': 100.0}, 'universal_anisotropy': {'upper_bound': 2.1, 'lower_bound': 0.9}}, 'mixture': {'elec_cond_300k_low_doping': {'desired_prop': 9.0}, 'therm_cond_300k_low_doping': {'desired_prop': 0.9}, 'bulk_modulus': {'desired_prop': 280.0}, 'shear_modulus': {'desired_prop': 230.0}, 'universal_anisotropy': {'desired_prop': 1.5}}}>\n",
      "material: mat_1, category: carrier-transport, property: 120.0\n",
      "material: mat_1, category: carrier-transport, property: 2.0\n",
      "material: mat_1, category: elastic, property: 500.0\n"
     ]
    }
   ],
   "source": [
    "# Create an instance of the MatchFinder class using the instance of the Optimizer class\n",
    "from hashin_shtrikman_mp.core.match_finder import MatchFinder\n",
    "match_finder = MatchFinder(optimizer)"
   ]
  },
  {
   "cell_type": "code",
   "execution_count": 11,
   "metadata": {
    "tags": []
   },
   "outputs": [
    {
     "name": "stdout",
     "output_type": "stream",
     "text": [
      "overall_bounds_dict: {'elec_cond_300k_low_doping': {'upper_bound': 120.0, 'lower_bound': 1e-07}, 'therm_cond_300k_low_doping': {'upper_bound': 2.0, 'lower_bound': 1e-07}, 'bulk_modulus': {'upper_bound': 700.0, 'lower_bound': 20.0}, 'shear_modulus': {'upper_bound': 600.0, 'lower_bound': 80.0}, 'universal_anisotropy': {'upper_bound': 6.0, 'lower_bound': 0.9}}\n"
     ]
    },
    {
     "data": {
      "application/vnd.jupyter.widget-view+json": {
       "model_id": "543f89e9f52344c787d28c01d52a0c8d",
       "version_major": 2,
       "version_minor": 0
      },
      "text/plain": [
       "Retrieving SummaryDoc documents:   0%|          | 0/256 [00:00<?, ?it/s]"
      ]
     },
     "metadata": {},
     "output_type": "display_data"
    },
    {
     "name": "stdout",
     "output_type": "stream",
     "text": [
      "Initialized result_dict: {'material_id': [], 'formula_pretty': [], 'elec_cond_300k_low_doping': [], 'therm_cond_300k_low_doping': [], 'bulk_modulus_vrh': [], 'shear_modulus_vrh': [], 'universal_anisotropy': []}\n",
      "Carrier transport is in the property categories\n"
     ]
    },
    {
     "name": "stderr",
     "output_type": "stream",
     "text": [
      "/Users/carlabecker/opt/anaconda3/envs/carla_mp_api/lib/python3.9/site-packages/mpcontribs/client/__init__.py:88: FutureWarning:\n",
      "\n",
      "use_inf_as_na option is deprecated and will be removed in a future version. Convert inf values to NaN before operating instead.\n",
      "\n"
     ]
    },
    {
     "name": "stdout",
     "output_type": "stream",
     "text": [
      "Query for carrier transport: {'elec_cond_300k_low_doping': (1e-07, 120.0), 'therm_cond_300k_low_doping': (1e-07, 2.0)}\n",
      "Material Matches: {'mat1': [{'mp-684591': {'elec_cond': 87.8933, 'therm_cond': 0.000354247, 'bulk_modulus': 141.633, 'shear_modulus': 83.335, 'universal_anisotropy': 1.269}}, {'mp-752826': {'elec_cond': 41.0475, 'therm_cond': 0.000111994, 'bulk_modulus': 166.16, 'shear_modulus': 81.144, 'universal_anisotropy': 1.271}}, {'mp-3098': {'elec_cond': 80.5092, 'therm_cond': 0.00032156, 'bulk_modulus': 178.355, 'shear_modulus': 80.28, 'universal_anisotropy': 2.207}}, {'mp-3748': {'elec_cond': 115.666, 'therm_cond': 0.000491413, 'bulk_modulus': 156.0, 'shear_modulus': 81.731, 'universal_anisotropy': 2.097}}, {'mp-3536': {'elec_cond': 77.0117, 'therm_cond': 0.000316911, 'bulk_modulus': 182.861, 'shear_modulus': 98.235, 'universal_anisotropy': 1.062}}, {'mp-4391': {'elec_cond': 110.485, 'therm_cond': 0.000659704, 'bulk_modulus': 199.288, 'shear_modulus': 108.878, 'universal_anisotropy': 1.601}}, {'mp-5924': {'elec_cond': 64.5658, 'therm_cond': 0.000300167, 'bulk_modulus': 189.894, 'shear_modulus': 103.854, 'universal_anisotropy': 1.091}}, {'mp-753459': {'elec_cond': 114.842, 'therm_cond': 0.000524039, 'bulk_modulus': 212.133, 'shear_modulus': 90.785, 'universal_anisotropy': 3.167}}, {'mp-2657': {'elec_cond': 117.021, 'therm_cond': 0.000614014, 'bulk_modulus': 208.538, 'shear_modulus': 107.377, 'universal_anisotropy': 1.629}}, {'mp-755759': {'elec_cond': 87.3874, 'therm_cond': 0.000486809, 'bulk_modulus': 213.895, 'shear_modulus': 82.002, 'universal_anisotropy': 1.335}}, {'mp-4820': {'elec_cond': 110.659, 'therm_cond': 0.00056951, 'bulk_modulus': 202.03, 'shear_modulus': 97.007, 'universal_anisotropy': 1.016}}], 'mat2': [{'mp-684591': {'elec_cond': 87.8933, 'therm_cond': 0.000354247, 'bulk_modulus': 141.633, 'shear_modulus': 83.335, 'universal_anisotropy': 1.269}}, {'mp-752826': {'elec_cond': 41.0475, 'therm_cond': 0.000111994, 'bulk_modulus': 166.16, 'shear_modulus': 81.144, 'universal_anisotropy': 1.271}}, {'mp-3098': {'elec_cond': 80.5092, 'therm_cond': 0.00032156, 'bulk_modulus': 178.355, 'shear_modulus': 80.28, 'universal_anisotropy': 2.207}}, {'mp-3748': {'elec_cond': 115.666, 'therm_cond': 0.000491413, 'bulk_modulus': 156.0, 'shear_modulus': 81.731, 'universal_anisotropy': 2.097}}, {'mp-3536': {'elec_cond': 77.0117, 'therm_cond': 0.000316911, 'bulk_modulus': 182.861, 'shear_modulus': 98.235, 'universal_anisotropy': 1.062}}, {'mp-4391': {'elec_cond': 110.485, 'therm_cond': 0.000659704, 'bulk_modulus': 199.288, 'shear_modulus': 108.878, 'universal_anisotropy': 1.601}}, {'mp-5924': {'elec_cond': 64.5658, 'therm_cond': 0.000300167, 'bulk_modulus': 189.894, 'shear_modulus': 103.854, 'universal_anisotropy': 1.091}}, {'mp-753459': {'elec_cond': 114.842, 'therm_cond': 0.000524039, 'bulk_modulus': 212.133, 'shear_modulus': 90.785, 'universal_anisotropy': 3.167}}, {'mp-2657': {'elec_cond': 117.021, 'therm_cond': 0.000614014, 'bulk_modulus': 208.538, 'shear_modulus': 107.377, 'universal_anisotropy': 1.629}}, {'mp-755759': {'elec_cond': 87.3874, 'therm_cond': 0.000486809, 'bulk_modulus': 213.895, 'shear_modulus': 82.002, 'universal_anisotropy': 1.335}}, {'mp-4820': {'elec_cond': 110.659, 'therm_cond': 0.00056951, 'bulk_modulus': 202.03, 'shear_modulus': 97.007, 'universal_anisotropy': 1.016}}], 'mat3': [{'mp-684591': {'elec_cond': 87.8933, 'therm_cond': 0.000354247, 'bulk_modulus': 141.633, 'shear_modulus': 83.335, 'universal_anisotropy': 1.269}}, {'mp-752826': {'elec_cond': 41.0475, 'therm_cond': 0.000111994, 'bulk_modulus': 166.16, 'shear_modulus': 81.144, 'universal_anisotropy': 1.271}}, {'mp-3098': {'elec_cond': 80.5092, 'therm_cond': 0.00032156, 'bulk_modulus': 178.355, 'shear_modulus': 80.28, 'universal_anisotropy': 2.207}}, {'mp-3748': {'elec_cond': 115.666, 'therm_cond': 0.000491413, 'bulk_modulus': 156.0, 'shear_modulus': 81.731, 'universal_anisotropy': 2.097}}, {'mp-3536': {'elec_cond': 77.0117, 'therm_cond': 0.000316911, 'bulk_modulus': 182.861, 'shear_modulus': 98.235, 'universal_anisotropy': 1.062}}, {'mp-4391': {'elec_cond': 110.485, 'therm_cond': 0.000659704, 'bulk_modulus': 199.288, 'shear_modulus': 108.878, 'universal_anisotropy': 1.601}}, {'mp-5924': {'elec_cond': 64.5658, 'therm_cond': 0.000300167, 'bulk_modulus': 189.894, 'shear_modulus': 103.854, 'universal_anisotropy': 1.091}}, {'mp-753459': {'elec_cond': 114.842, 'therm_cond': 0.000524039, 'bulk_modulus': 212.133, 'shear_modulus': 90.785, 'universal_anisotropy': 3.167}}, {'mp-2657': {'elec_cond': 117.021, 'therm_cond': 0.000614014, 'bulk_modulus': 208.538, 'shear_modulus': 107.377, 'universal_anisotropy': 1.629}}, {'mp-755759': {'elec_cond': 87.3874, 'therm_cond': 0.000486809, 'bulk_modulus': 213.895, 'shear_modulus': 82.002, 'universal_anisotropy': 1.335}}, {'mp-4820': {'elec_cond': 110.659, 'therm_cond': 0.00056951, 'bulk_modulus': 202.03, 'shear_modulus': 97.007, 'universal_anisotropy': 1.016}}]}\n"
     ]
    }
   ],
   "source": [
    "# Get material matches\n",
    "matches_dict = match_finder.get_material_matches(overall_bounds_dict)\n",
    "print(f'Material Matches: {matches_dict}')"
   ]
  },
  {
   "cell_type": "code",
   "execution_count": 12,
   "metadata": {},
   "outputs": [
    {
     "name": "stdout",
     "output_type": "stream",
     "text": [
      "overall_bounds_dict: {'elec_cond_300k_low_doping': {'upper_bound': 120.0, 'lower_bound': 1e-07}, 'therm_cond_300k_low_doping': {'upper_bound': 2.0, 'lower_bound': 1e-07}, 'bulk_modulus': {'upper_bound': 700.0, 'lower_bound': 20.0}, 'shear_modulus': {'upper_bound': 600.0, 'lower_bound': 80.0}, 'universal_anisotropy': {'upper_bound': 6.0, 'lower_bound': 0.9}}\n"
     ]
    },
    {
     "data": {
      "application/vnd.jupyter.widget-view+json": {
       "model_id": "6af7ad6e829f4f2089925e0275844247",
       "version_major": 2,
       "version_minor": 0
      },
      "text/plain": [
       "Retrieving SummaryDoc documents:   0%|          | 0/256 [00:00<?, ?it/s]"
      ]
     },
     "metadata": {},
     "output_type": "display_data"
    },
    {
     "name": "stdout",
     "output_type": "stream",
     "text": [
      "Initialized result_dict: {'material_id': [], 'formula_pretty': [], 'elec_cond_300k_low_doping': [], 'therm_cond_300k_low_doping': [], 'bulk_modulus_vrh': [], 'shear_modulus_vrh': [], 'universal_anisotropy': []}\n",
      "Carrier transport is in the property categories\n",
      "Query for carrier transport: {'elec_cond_300k_low_doping': (1e-07, 120.0), 'therm_cond_300k_low_doping': (1e-07, 2.0)}\n"
     ]
    }
   ],
   "source": [
    "test_consolidated_dict = optimizer.generate_consolidated_dict(overall_bounds_dict=overall_bounds_dict)"
   ]
  },
  {
   "cell_type": "code",
   "execution_count": 14,
   "metadata": {},
   "outputs": [
    {
     "name": "stdout",
     "output_type": "stream",
     "text": [
      "{'mat1': [{'mp-684591': {'elec_cond': 87.8933, 'therm_cond': 0.000354247, 'bulk_modulus': 141.633, 'shear_modulus': 83.335, 'universal_anisotropy': 1.269}}, {'mp-752826': {'elec_cond': 41.0475, 'therm_cond': 0.000111994, 'bulk_modulus': 166.16, 'shear_modulus': 81.144, 'universal_anisotropy': 1.271}}, {'mp-3098': {'elec_cond': 80.5092, 'therm_cond': 0.00032156, 'bulk_modulus': 178.355, 'shear_modulus': 80.28, 'universal_anisotropy': 2.207}}, {'mp-3748': {'elec_cond': 115.666, 'therm_cond': 0.000491413, 'bulk_modulus': 156.0, 'shear_modulus': 81.731, 'universal_anisotropy': 2.097}}, {'mp-3536': {'elec_cond': 77.0117, 'therm_cond': 0.000316911, 'bulk_modulus': 182.861, 'shear_modulus': 98.235, 'universal_anisotropy': 1.062}}, {'mp-4391': {'elec_cond': 110.485, 'therm_cond': 0.000659704, 'bulk_modulus': 199.288, 'shear_modulus': 108.878, 'universal_anisotropy': 1.601}}, {'mp-5924': {'elec_cond': 64.5658, 'therm_cond': 0.000300167, 'bulk_modulus': 189.894, 'shear_modulus': 103.854, 'universal_anisotropy': 1.091}}, {'mp-753459': {'elec_cond': 114.842, 'therm_cond': 0.000524039, 'bulk_modulus': 212.133, 'shear_modulus': 90.785, 'universal_anisotropy': 3.167}}, {'mp-2657': {'elec_cond': 117.021, 'therm_cond': 0.000614014, 'bulk_modulus': 208.538, 'shear_modulus': 107.377, 'universal_anisotropy': 1.629}}, {'mp-755759': {'elec_cond': 87.3874, 'therm_cond': 0.000486809, 'bulk_modulus': 213.895, 'shear_modulus': 82.002, 'universal_anisotropy': 1.335}}, {'mp-4820': {'elec_cond': 110.659, 'therm_cond': 0.00056951, 'bulk_modulus': 202.03, 'shear_modulus': 97.007, 'universal_anisotropy': 1.016}}], 'mat2': [{'mp-684591': {'elec_cond': 87.8933, 'therm_cond': 0.000354247, 'bulk_modulus': 141.633, 'shear_modulus': 83.335, 'universal_anisotropy': 1.269}}, {'mp-752826': {'elec_cond': 41.0475, 'therm_cond': 0.000111994, 'bulk_modulus': 166.16, 'shear_modulus': 81.144, 'universal_anisotropy': 1.271}}, {'mp-3098': {'elec_cond': 80.5092, 'therm_cond': 0.00032156, 'bulk_modulus': 178.355, 'shear_modulus': 80.28, 'universal_anisotropy': 2.207}}, {'mp-3748': {'elec_cond': 115.666, 'therm_cond': 0.000491413, 'bulk_modulus': 156.0, 'shear_modulus': 81.731, 'universal_anisotropy': 2.097}}, {'mp-3536': {'elec_cond': 77.0117, 'therm_cond': 0.000316911, 'bulk_modulus': 182.861, 'shear_modulus': 98.235, 'universal_anisotropy': 1.062}}, {'mp-4391': {'elec_cond': 110.485, 'therm_cond': 0.000659704, 'bulk_modulus': 199.288, 'shear_modulus': 108.878, 'universal_anisotropy': 1.601}}, {'mp-5924': {'elec_cond': 64.5658, 'therm_cond': 0.000300167, 'bulk_modulus': 189.894, 'shear_modulus': 103.854, 'universal_anisotropy': 1.091}}, {'mp-753459': {'elec_cond': 114.842, 'therm_cond': 0.000524039, 'bulk_modulus': 212.133, 'shear_modulus': 90.785, 'universal_anisotropy': 3.167}}, {'mp-2657': {'elec_cond': 117.021, 'therm_cond': 0.000614014, 'bulk_modulus': 208.538, 'shear_modulus': 107.377, 'universal_anisotropy': 1.629}}, {'mp-755759': {'elec_cond': 87.3874, 'therm_cond': 0.000486809, 'bulk_modulus': 213.895, 'shear_modulus': 82.002, 'universal_anisotropy': 1.335}}, {'mp-4820': {'elec_cond': 110.659, 'therm_cond': 0.00056951, 'bulk_modulus': 202.03, 'shear_modulus': 97.007, 'universal_anisotropy': 1.016}}], 'mat3': [{'mp-684591': {'elec_cond': 87.8933, 'therm_cond': 0.000354247, 'bulk_modulus': 141.633, 'shear_modulus': 83.335, 'universal_anisotropy': 1.269}}, {'mp-752826': {'elec_cond': 41.0475, 'therm_cond': 0.000111994, 'bulk_modulus': 166.16, 'shear_modulus': 81.144, 'universal_anisotropy': 1.271}}, {'mp-3098': {'elec_cond': 80.5092, 'therm_cond': 0.00032156, 'bulk_modulus': 178.355, 'shear_modulus': 80.28, 'universal_anisotropy': 2.207}}, {'mp-3748': {'elec_cond': 115.666, 'therm_cond': 0.000491413, 'bulk_modulus': 156.0, 'shear_modulus': 81.731, 'universal_anisotropy': 2.097}}, {'mp-3536': {'elec_cond': 77.0117, 'therm_cond': 0.000316911, 'bulk_modulus': 182.861, 'shear_modulus': 98.235, 'universal_anisotropy': 1.062}}, {'mp-4391': {'elec_cond': 110.485, 'therm_cond': 0.000659704, 'bulk_modulus': 199.288, 'shear_modulus': 108.878, 'universal_anisotropy': 1.601}}, {'mp-5924': {'elec_cond': 64.5658, 'therm_cond': 0.000300167, 'bulk_modulus': 189.894, 'shear_modulus': 103.854, 'universal_anisotropy': 1.091}}, {'mp-753459': {'elec_cond': 114.842, 'therm_cond': 0.000524039, 'bulk_modulus': 212.133, 'shear_modulus': 90.785, 'universal_anisotropy': 3.167}}, {'mp-2657': {'elec_cond': 117.021, 'therm_cond': 0.000614014, 'bulk_modulus': 208.538, 'shear_modulus': 107.377, 'universal_anisotropy': 1.629}}, {'mp-755759': {'elec_cond': 87.3874, 'therm_cond': 0.000486809, 'bulk_modulus': 213.895, 'shear_modulus': 82.002, 'universal_anisotropy': 1.335}}, {'mp-4820': {'elec_cond': 110.659, 'therm_cond': 0.00056951, 'bulk_modulus': 202.03, 'shear_modulus': 97.007, 'universal_anisotropy': 1.016}}]}\n"
     ]
    }
   ],
   "source": [
    "fake_matches_dict = match_finder.get_material_matches(consolidated_dict=test_consolidated_dict, threshold=1)\n",
    "print(fake_matches_dict)"
   ]
  },
  {
   "cell_type": "code",
   "execution_count": null,
   "metadata": {},
   "outputs": [],
   "source": []
  }
 ],
 "metadata": {
  "kernelspec": {
   "display_name": "carla_mp_api",
   "language": "python",
   "name": "python3"
  },
  "language_info": {
   "codemirror_mode": {
    "name": "ipython",
    "version": 3
   },
   "file_extension": ".py",
   "mimetype": "text/x-python",
   "name": "python",
   "nbconvert_exporter": "python",
   "pygments_lexer": "ipython3",
   "version": "3.9.18"
  }
 },
 "nbformat": 4,
 "nbformat_minor": 4
}
